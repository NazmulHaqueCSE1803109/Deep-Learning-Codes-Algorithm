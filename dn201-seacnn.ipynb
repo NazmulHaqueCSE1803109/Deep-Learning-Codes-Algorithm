{
 "cells": [
  {
   "cell_type": "markdown",
   "id": "8f2cf106",
   "metadata": {
    "papermill": {
     "duration": 0.015338,
     "end_time": "2023-05-21T11:36:12.372084",
     "exception": false,
     "start_time": "2023-05-21T11:36:12.356746",
     "status": "completed"
    },
    "tags": []
   },
   "source": [
    "# Libraries"
   ]
  },
  {
   "cell_type": "code",
   "execution_count": 1,
   "id": "f9462aa7",
   "metadata": {
    "execution": {
     "iopub.execute_input": "2023-05-21T11:36:12.403897Z",
     "iopub.status.busy": "2023-05-21T11:36:12.402998Z",
     "iopub.status.idle": "2023-05-21T11:36:20.080354Z",
     "shell.execute_reply": "2023-05-21T11:36:20.079349Z"
    },
    "id": "Aa36bMKLze3z",
    "papermill": {
     "duration": 7.696064,
     "end_time": "2023-05-21T11:36:20.083162",
     "exception": false,
     "start_time": "2023-05-21T11:36:12.387098",
     "status": "completed"
    },
    "tags": []
   },
   "outputs": [
    {
     "name": "stderr",
     "output_type": "stream",
     "text": [
      "/opt/conda/lib/python3.10/site-packages/scipy/__init__.py:146: UserWarning: A NumPy version >=1.16.5 and <1.23.0 is required for this version of SciPy (detected version 1.23.5\n",
      "  warnings.warn(f\"A NumPy version >={np_minversion} and <{np_maxversion}\"\n"
     ]
    }
   ],
   "source": [
    "import pandas as pd\n",
    "import numpy as np\n",
    "import os\n",
    "import tensorflow as tf\n",
    "import cv2\n",
    "from keras import backend as K\n",
    "from keras.layers import Layer, InputSpec\n",
    "import keras.layers as kl\n",
    "from glob import glob\n",
    "from sklearn.metrics import roc_curve, auc\n",
    "from keras.preprocessing import image\n",
    "from tensorflow.keras.models import Sequential\n",
    "from sklearn.metrics import roc_auc_score\n",
    "from tensorflow.keras import callbacks \n",
    "from tensorflow.keras.callbacks import ModelCheckpoint, EarlyStopping\n",
    "from  matplotlib import pyplot as plt\n",
    "from tensorflow.keras import Model\n",
    "from tensorflow.keras.layers import concatenate, Dense, Conv2D, MaxPooling2D, Flatten, Input, Activation, add, AveragePooling2D, BatchNormalization, Dropout, GlobalAveragePooling2D, GlobalMaxPooling2D\n",
    "%matplotlib inline\n",
    "import shutil\n",
    "from sklearn.metrics import  precision_score, recall_score, accuracy_score, classification_report, confusion_matrix\n",
    "from tensorflow.python.platform import build_info as tf_build_info\n",
    "from tensorflow.keras.preprocessing.image import ImageDataGenerator\n",
    "from sklearn.model_selection import train_test_split\n",
    "\n",
    "from PIL import ImageFile\n",
    "ImageFile.LOAD_TRUNCATED_IMAGES = True"
   ]
  },
  {
   "cell_type": "code",
   "execution_count": 2,
   "id": "13c575d1",
   "metadata": {
    "execution": {
     "iopub.execute_input": "2023-05-21T11:36:20.115372Z",
     "iopub.status.busy": "2023-05-21T11:36:20.114773Z",
     "iopub.status.idle": "2023-05-21T11:36:20.119211Z",
     "shell.execute_reply": "2023-05-21T11:36:20.118345Z"
    },
    "id": "PsoqCvNsgmHP",
    "papermill": {
     "duration": 0.022407,
     "end_time": "2023-05-21T11:36:20.121155",
     "exception": false,
     "start_time": "2023-05-21T11:36:20.098748",
     "status": "completed"
    },
    "tags": []
   },
   "outputs": [],
   "source": [
    "targetnames = ['akiec', 'bcc', 'bkl', 'df', 'mel', 'nv', 'vasc']\n",
    "batch_size = 16\n",
    "image_size = 224"
   ]
  },
  {
   "cell_type": "code",
   "execution_count": 3,
   "id": "65a4a852",
   "metadata": {
    "execution": {
     "iopub.execute_input": "2023-05-21T11:36:20.152343Z",
     "iopub.status.busy": "2023-05-21T11:36:20.152074Z",
     "iopub.status.idle": "2023-05-21T11:36:20.156100Z",
     "shell.execute_reply": "2023-05-21T11:36:20.155207Z"
    },
    "id": "wNisha_gM3_Z",
    "papermill": {
     "duration": 0.021917,
     "end_time": "2023-05-21T11:36:20.158196",
     "exception": false,
     "start_time": "2023-05-21T11:36:20.136279",
     "status": "completed"
    },
    "tags": []
   },
   "outputs": [],
   "source": [
    "train_path = '/kaggle/input/splitted-and-augmented-ham-15/Splitted_And_Augmented_HAM_15/HAM10K/train_dir'\n",
    "test_path = '/kaggle/input/splitted-and-augmented-ham-15/Splitted_And_Augmented_HAM_15/HAM10K/test_dir'\n",
    "val_path = '/kaggle/input/splitted-and-augmented-ham-15/Splitted_And_Augmented_HAM_15/HAM10K/val_dir'"
   ]
  },
  {
   "cell_type": "markdown",
   "id": "e94ff992",
   "metadata": {
    "papermill": {
     "duration": 0.015476,
     "end_time": "2023-05-21T11:36:20.188602",
     "exception": false,
     "start_time": "2023-05-21T11:36:20.173126",
     "status": "completed"
    },
    "tags": []
   },
   "source": [
    "# Dataset generation (Train, Test, Validation)"
   ]
  },
  {
   "cell_type": "code",
   "execution_count": 4,
   "id": "5c09207c",
   "metadata": {
    "execution": {
     "iopub.execute_input": "2023-05-21T11:36:20.221109Z",
     "iopub.status.busy": "2023-05-21T11:36:20.219687Z",
     "iopub.status.idle": "2023-05-21T11:36:20.224468Z",
     "shell.execute_reply": "2023-05-21T11:36:20.223667Z"
    },
    "id": "zhQWqdRN79B3",
    "papermill": {
     "duration": 0.022643,
     "end_time": "2023-05-21T11:36:20.226457",
     "exception": false,
     "start_time": "2023-05-21T11:36:20.203814",
     "status": "completed"
    },
    "tags": []
   },
   "outputs": [],
   "source": [
    "datagen = ImageDataGenerator(preprocessing_function=tf.keras.applications.densenet.preprocess_input)"
   ]
  },
  {
   "cell_type": "code",
   "execution_count": 5,
   "id": "92b40f3e",
   "metadata": {
    "execution": {
     "iopub.execute_input": "2023-05-21T11:36:20.258110Z",
     "iopub.status.busy": "2023-05-21T11:36:20.257333Z",
     "iopub.status.idle": "2023-05-21T11:36:40.520681Z",
     "shell.execute_reply": "2023-05-21T11:36:40.519436Z"
    },
    "id": "w9_8FvOO7Rtu",
    "outputId": "7ca88c24-fda8-45d6-cb32-f3a43ae6ba5b",
    "papermill": {
     "duration": 20.281313,
     "end_time": "2023-05-21T11:36:40.522973",
     "exception": false,
     "start_time": "2023-05-21T11:36:20.241660",
     "status": "completed"
    },
    "tags": []
   },
   "outputs": [
    {
     "name": "stdout",
     "output_type": "stream",
     "text": [
      "\n",
      "Train Batches: \n",
      "Found 54782 images belonging to 7 classes.\n",
      "\n",
      "Test Batches: \n",
      "Found 828 images belonging to 7 classes.\n",
      "\n",
      "Val Batches: \n",
      "Found 827 images belonging to 7 classes.\n"
     ]
    }
   ],
   "source": [
    "print(\"\\nTrain Batches: \")\n",
    "train_batches = datagen.flow_from_directory(directory=train_path,\n",
    "                                            target_size=(image_size,image_size),\n",
    "                                            batch_size=batch_size,\n",
    "                                            shuffle=True)\n",
    "\n",
    "print(\"\\nTest Batches: \")\n",
    "test_batches = datagen.flow_from_directory(test_path,\n",
    "                                          target_size=(image_size,image_size),\n",
    "                                          batch_size=batch_size,\n",
    "                                          shuffle=False)\n",
    "print(\"\\nVal Batches: \")\n",
    "val_batches = datagen.flow_from_directory(val_path,\n",
    "                                         target_size=(image_size,image_size),\n",
    "                                         batch_size=batch_size,\n",
    "                                         shuffle=False)"
   ]
  },
  {
   "cell_type": "markdown",
   "id": "a6ca5ca5",
   "metadata": {
    "papermill": {
     "duration": 0.018231,
     "end_time": "2023-05-21T11:36:40.559747",
     "exception": false,
     "start_time": "2023-05-21T11:36:40.541516",
     "status": "completed"
    },
    "tags": []
   },
   "source": [
    "# Main Model Creation"
   ]
  },
  {
   "cell_type": "markdown",
   "id": "0993e099",
   "metadata": {
    "papermill": {
     "duration": 0.017982,
     "end_time": "2023-05-21T11:36:40.595895",
     "exception": false,
     "start_time": "2023-05-21T11:36:40.577913",
     "status": "completed"
    },
    "tags": []
   },
   "source": [
    "### Squeeze and Excitation Attention"
   ]
  },
  {
   "cell_type": "code",
   "execution_count": 6,
   "id": "584ad00d",
   "metadata": {
    "execution": {
     "iopub.execute_input": "2023-05-21T11:36:40.634668Z",
     "iopub.status.busy": "2023-05-21T11:36:40.633509Z",
     "iopub.status.idle": "2023-05-21T11:36:40.640700Z",
     "shell.execute_reply": "2023-05-21T11:36:40.639708Z"
    },
    "papermill": {
     "duration": 0.028751,
     "end_time": "2023-05-21T11:36:40.642912",
     "exception": false,
     "start_time": "2023-05-21T11:36:40.614161",
     "status": "completed"
    },
    "tags": []
   },
   "outputs": [],
   "source": [
    "def squeeze_excite_block(input, filters, se_ratio):\n",
    "    # Squeeze step\n",
    "    se = tf.keras.layers.GlobalAveragePooling2D()(input)\n",
    "    se = tf.keras.layers.Dense(filters // se_ratio, activation='relu')(se)\n",
    "    se = tf.keras.layers.Dense(filters, activation='softmax')(se)\n",
    "    # Excitation step\n",
    "    x = tf.keras.layers.multiply([input, se])\n",
    "    return x"
   ]
  },
  {
   "cell_type": "markdown",
   "id": "64aa6afa",
   "metadata": {
    "papermill": {
     "duration": 0.017399,
     "end_time": "2023-05-21T11:36:40.677936",
     "exception": false,
     "start_time": "2023-05-21T11:36:40.660537",
     "status": "completed"
    },
    "tags": []
   },
   "source": [
    "### Define Model"
   ]
  },
  {
   "cell_type": "code",
   "execution_count": 7,
   "id": "50805a2e",
   "metadata": {
    "execution": {
     "iopub.execute_input": "2023-05-21T11:36:40.713993Z",
     "iopub.status.busy": "2023-05-21T11:36:40.713639Z",
     "iopub.status.idle": "2023-05-21T11:36:49.570566Z",
     "shell.execute_reply": "2023-05-21T11:36:49.569595Z"
    },
    "id": "zhQWqdRN79B3",
    "papermill": {
     "duration": 8.877992,
     "end_time": "2023-05-21T11:36:49.573171",
     "exception": false,
     "start_time": "2023-05-21T11:36:40.695179",
     "status": "completed"
    },
    "tags": []
   },
   "outputs": [
    {
     "name": "stdout",
     "output_type": "stream",
     "text": [
      "Downloading data from https://storage.googleapis.com/tensorflow/keras-applications/densenet/densenet201_weights_tf_dim_ordering_tf_kernels_notop.h5\n",
      "74836368/74836368 [==============================] - 0s 0us/step\n"
     ]
    }
   ],
   "source": [
    "from tensorflow.keras.applications.densenet import DenseNet201\n",
    "# Create a new instance of DenseNet201\n",
    "DN201 = DenseNet201(weights='imagenet', include_top=False, input_shape=(image_size, image_size, 3), pooling='avg')"
   ]
  },
  {
   "cell_type": "markdown",
   "id": "ccf27ef7",
   "metadata": {
    "papermill": {
     "duration": 0.016039,
     "end_time": "2023-05-21T11:36:49.605753",
     "exception": false,
     "start_time": "2023-05-21T11:36:49.589714",
     "status": "completed"
    },
    "tags": []
   },
   "source": [
    "## Fine tuning"
   ]
  },
  {
   "cell_type": "code",
   "execution_count": 8,
   "id": "4baad2f6",
   "metadata": {
    "execution": {
     "iopub.execute_input": "2023-05-21T11:36:49.639814Z",
     "iopub.status.busy": "2023-05-21T11:36:49.638983Z",
     "iopub.status.idle": "2023-05-21T11:36:49.645014Z",
     "shell.execute_reply": "2023-05-21T11:36:49.644122Z"
    },
    "id": "4d4Ta5LcSYaz",
    "papermill": {
     "duration": 0.025193,
     "end_time": "2023-05-21T11:36:49.647121",
     "exception": false,
     "start_time": "2023-05-21T11:36:49.621928",
     "status": "completed"
    },
    "tags": []
   },
   "outputs": [],
   "source": [
    "MainInput=Input(shape=(image_size, image_size, 3))"
   ]
  },
  {
   "cell_type": "code",
   "execution_count": 9,
   "id": "1abfa705",
   "metadata": {
    "execution": {
     "iopub.execute_input": "2023-05-21T11:36:49.680595Z",
     "iopub.status.busy": "2023-05-21T11:36:49.680320Z",
     "iopub.status.idle": "2023-05-21T11:36:51.111763Z",
     "shell.execute_reply": "2023-05-21T11:36:51.110759Z"
    },
    "papermill": {
     "duration": 1.450874,
     "end_time": "2023-05-21T11:36:51.114242",
     "exception": false,
     "start_time": "2023-05-21T11:36:49.663368",
     "status": "completed"
    },
    "tags": []
   },
   "outputs": [],
   "source": [
    "densenet = DN201(MainInput)"
   ]
  },
  {
   "cell_type": "code",
   "execution_count": 10,
   "id": "7848bb47",
   "metadata": {
    "execution": {
     "iopub.execute_input": "2023-05-21T11:36:51.148554Z",
     "iopub.status.busy": "2023-05-21T11:36:51.148248Z",
     "iopub.status.idle": "2023-05-21T11:36:51.163980Z",
     "shell.execute_reply": "2023-05-21T11:36:51.163135Z"
    },
    "papermill": {
     "duration": 0.034922,
     "end_time": "2023-05-21T11:36:51.165913",
     "exception": false,
     "start_time": "2023-05-21T11:36:51.130991",
     "status": "completed"
    },
    "tags": []
   },
   "outputs": [],
   "source": [
    "# Reshape the tensor to have 4 dimensions\n",
    "from tensorflow.keras.layers import Reshape\n",
    "reshape = Reshape((8, 8, 30))(densenet)"
   ]
  },
  {
   "cell_type": "code",
   "execution_count": 11,
   "id": "6e966de7",
   "metadata": {
    "execution": {
     "iopub.execute_input": "2023-05-21T11:36:51.200511Z",
     "iopub.status.busy": "2023-05-21T11:36:51.199079Z",
     "iopub.status.idle": "2023-05-21T11:36:51.290098Z",
     "shell.execute_reply": "2023-05-21T11:36:51.289211Z"
    },
    "id": "x8mS99J5SYbT",
    "papermill": {
     "duration": 0.110285,
     "end_time": "2023-05-21T11:36:51.292367",
     "exception": false,
     "start_time": "2023-05-21T11:36:51.182082",
     "status": "completed"
    },
    "tags": []
   },
   "outputs": [],
   "source": [
    "# Add convolutional layers with Channel Attention\n",
    "conv = Conv2D(filters=128, kernel_size=(7, 7), activation=\"relu\", padding=\"same\", kernel_initializer='he_normal')(reshape)\n",
    "conv = BatchNormalization()(conv)\n",
    "conv = Conv2D(filters=128, kernel_size=(5, 5), activation=\"relu\", padding=\"same\", kernel_initializer='he_normal')(conv)\n",
    "conv = BatchNormalization()(conv)\n",
    "conv = Conv2D(filters=128, kernel_size=(3, 3), activation=\"relu\", padding=\"same\", kernel_initializer='he_normal')(conv)\n",
    "conv = BatchNormalization()(conv)\n",
    "conv = Conv2D(filters=128, kernel_size=(1, 1), activation=\"relu\", padding=\"same\", kernel_initializer='he_normal')(conv)\n",
    "conv = BatchNormalization()(conv)"
   ]
  },
  {
   "cell_type": "code",
   "execution_count": 12,
   "id": "c8190ebb",
   "metadata": {
    "execution": {
     "iopub.execute_input": "2023-05-21T11:36:51.327795Z",
     "iopub.status.busy": "2023-05-21T11:36:51.326316Z",
     "iopub.status.idle": "2023-05-21T11:36:51.368764Z",
     "shell.execute_reply": "2023-05-21T11:36:51.367905Z"
    },
    "papermill": {
     "duration": 0.061582,
     "end_time": "2023-05-21T11:36:51.370698",
     "exception": false,
     "start_time": "2023-05-21T11:36:51.309116",
     "status": "completed"
    },
    "tags": []
   },
   "outputs": [],
   "source": [
    "image_size_2 = 8\n",
    "from tensorflow.keras.layers import Reshape\n",
    "conv = Reshape(target_shape=(image_size_2, image_size_2, 128,))(conv)\n",
    "x = squeeze_excite_block(conv, 128, 128)  # use same number of filters as the input tensor"
   ]
  },
  {
   "cell_type": "code",
   "execution_count": 13,
   "id": "bb802785",
   "metadata": {
    "execution": {
     "iopub.execute_input": "2023-05-21T11:36:51.406083Z",
     "iopub.status.busy": "2023-05-21T11:36:51.404605Z",
     "iopub.status.idle": "2023-05-21T11:36:51.487065Z",
     "shell.execute_reply": "2023-05-21T11:36:51.486190Z"
    },
    "papermill": {
     "duration": 0.102173,
     "end_time": "2023-05-21T11:36:51.489506",
     "exception": false,
     "start_time": "2023-05-21T11:36:51.387333",
     "status": "completed"
    },
    "tags": []
   },
   "outputs": [],
   "source": [
    "# Add convolutional layers with Channel Attention\n",
    "conv = Conv2D(filters=128, kernel_size=(7, 7), activation=\"relu\", padding=\"same\", kernel_initializer='he_normal')(x)\n",
    "conv = BatchNormalization()(conv)\n",
    "conv = Conv2D(filters=128, kernel_size=(5, 5), activation=\"relu\", padding=\"same\", kernel_initializer='he_normal')(conv)\n",
    "conv = BatchNormalization()(conv)\n",
    "conv = Conv2D(filters=128, kernel_size=(3, 3), activation=\"relu\", padding=\"same\", kernel_initializer='he_normal')(conv)\n",
    "conv = BatchNormalization()(conv)\n",
    "conv = Conv2D(filters=128, kernel_size=(1, 1), activation=\"relu\", padding=\"same\", kernel_initializer='he_normal')(conv)\n",
    "conv = BatchNormalization()(conv)"
   ]
  },
  {
   "cell_type": "code",
   "execution_count": 14,
   "id": "5a7c2b08",
   "metadata": {
    "execution": {
     "iopub.execute_input": "2023-05-21T11:36:51.523989Z",
     "iopub.status.busy": "2023-05-21T11:36:51.523678Z",
     "iopub.status.idle": "2023-05-21T11:36:51.531700Z",
     "shell.execute_reply": "2023-05-21T11:36:51.530873Z"
    },
    "id": "wfhLPhssAm2S",
    "papermill": {
     "duration": 0.027692,
     "end_time": "2023-05-21T11:36:51.533742",
     "exception": false,
     "start_time": "2023-05-21T11:36:51.506050",
     "status": "completed"
    },
    "tags": []
   },
   "outputs": [],
   "source": [
    "conv=(MaxPooling2D(strides=(2, 2),padding=\"same\")(conv))"
   ]
  },
  {
   "cell_type": "code",
   "execution_count": 15,
   "id": "e4b8824f",
   "metadata": {
    "execution": {
     "iopub.execute_input": "2023-05-21T11:36:51.567587Z",
     "iopub.status.busy": "2023-05-21T11:36:51.567280Z",
     "iopub.status.idle": "2023-05-21T11:36:51.658773Z",
     "shell.execute_reply": "2023-05-21T11:36:51.657865Z"
    },
    "id": "sW4tKg9wSYbk",
    "papermill": {
     "duration": 0.110934,
     "end_time": "2023-05-21T11:36:51.661047",
     "exception": false,
     "start_time": "2023-05-21T11:36:51.550113",
     "status": "completed"
    },
    "tags": []
   },
   "outputs": [],
   "source": [
    "conv = Conv2D(filters=256,kernel_size=(7,7), activation=\"relu\",padding=\"same\",kernel_initializer='he_normal')(conv)\n",
    "conv = BatchNormalization()(conv)\n",
    "conv = Conv2D(filters=256,kernel_size=(5,5), activation=\"relu\",padding=\"same\",kernel_initializer='he_normal')(conv)\n",
    "conv = BatchNormalization()(conv)\n",
    "conv = Conv2D(filters=256,kernel_size=(3,3), activation=\"relu\",padding=\"same\",kernel_initializer='he_normal')(conv)\n",
    "conv = BatchNormalization()(conv)\n",
    "conv = Conv2D(filters=256,kernel_size=(1,1), activation=\"relu\",padding=\"same\",kernel_initializer='he_normal')(conv)\n",
    "conv = BatchNormalization()(conv)"
   ]
  },
  {
   "cell_type": "code",
   "execution_count": 16,
   "id": "ebe793b0",
   "metadata": {
    "execution": {
     "iopub.execute_input": "2023-05-21T11:36:51.695417Z",
     "iopub.status.busy": "2023-05-21T11:36:51.695093Z",
     "iopub.status.idle": "2023-05-21T11:36:51.736275Z",
     "shell.execute_reply": "2023-05-21T11:36:51.735007Z"
    },
    "papermill": {
     "duration": 0.060905,
     "end_time": "2023-05-21T11:36:51.738509",
     "exception": false,
     "start_time": "2023-05-21T11:36:51.677604",
     "status": "completed"
    },
    "tags": []
   },
   "outputs": [],
   "source": [
    "image_size_3 = 4\n",
    "from tensorflow.keras.layers import Reshape\n",
    "conv = Reshape(target_shape=(image_size_3, image_size_3, 256,))(conv)\n",
    "x = squeeze_excite_block(conv, 256, 256)  # use same number of filters as the input tensor"
   ]
  },
  {
   "cell_type": "code",
   "execution_count": 17,
   "id": "6c02de55",
   "metadata": {
    "execution": {
     "iopub.execute_input": "2023-05-21T11:36:51.773292Z",
     "iopub.status.busy": "2023-05-21T11:36:51.772334Z",
     "iopub.status.idle": "2023-05-21T11:36:51.856498Z",
     "shell.execute_reply": "2023-05-21T11:36:51.855647Z"
    },
    "papermill": {
     "duration": 0.103573,
     "end_time": "2023-05-21T11:36:51.858664",
     "exception": false,
     "start_time": "2023-05-21T11:36:51.755091",
     "status": "completed"
    },
    "tags": []
   },
   "outputs": [],
   "source": [
    "conv = Conv2D(filters=256,kernel_size=(7,7), activation=\"relu\",padding=\"same\",kernel_initializer='he_normal')(x)\n",
    "conv = BatchNormalization()(conv)\n",
    "conv = Conv2D(filters=256,kernel_size=(5,5), activation=\"relu\",padding=\"same\",kernel_initializer='he_normal')(conv)\n",
    "conv = BatchNormalization()(conv)\n",
    "conv = Conv2D(filters=256,kernel_size=(3,3), activation=\"relu\",padding=\"same\",kernel_initializer='he_normal')(conv)\n",
    "conv = BatchNormalization()(conv)\n",
    "conv = Conv2D(filters=256,kernel_size=(1,1), activation=\"relu\",padding=\"same\",kernel_initializer='he_normal')(conv)\n",
    "conv = BatchNormalization()(conv)"
   ]
  },
  {
   "cell_type": "code",
   "execution_count": 18,
   "id": "f09bf8e5",
   "metadata": {
    "execution": {
     "iopub.execute_input": "2023-05-21T11:36:51.894323Z",
     "iopub.status.busy": "2023-05-21T11:36:51.892877Z",
     "iopub.status.idle": "2023-05-21T11:36:51.901992Z",
     "shell.execute_reply": "2023-05-21T11:36:51.901164Z"
    },
    "id": "eo8E7RxUSYcW",
    "papermill": {
     "duration": 0.028059,
     "end_time": "2023-05-21T11:36:51.903799",
     "exception": false,
     "start_time": "2023-05-21T11:36:51.875740",
     "status": "completed"
    },
    "tags": []
   },
   "outputs": [],
   "source": [
    "conv=(MaxPooling2D(pool_size=(2, 2),padding=\"same\")(conv))"
   ]
  },
  {
   "cell_type": "code",
   "execution_count": 19,
   "id": "90491de9",
   "metadata": {
    "execution": {
     "iopub.execute_input": "2023-05-21T11:36:51.939196Z",
     "iopub.status.busy": "2023-05-21T11:36:51.937794Z",
     "iopub.status.idle": "2023-05-21T11:36:51.943070Z",
     "shell.execute_reply": "2023-05-21T11:36:51.942144Z"
    },
    "papermill": {
     "duration": 0.024091,
     "end_time": "2023-05-21T11:36:51.944953",
     "exception": false,
     "start_time": "2023-05-21T11:36:51.920862",
     "status": "completed"
    },
    "tags": []
   },
   "outputs": [
    {
     "name": "stdout",
     "output_type": "stream",
     "text": [
      "7\n"
     ]
    }
   ],
   "source": [
    "num_classes = test_batches.num_classes\n",
    "print(num_classes)"
   ]
  },
  {
   "cell_type": "code",
   "execution_count": 20,
   "id": "f57e9a46",
   "metadata": {
    "execution": {
     "iopub.execute_input": "2023-05-21T11:36:51.978775Z",
     "iopub.status.busy": "2023-05-21T11:36:51.978018Z",
     "iopub.status.idle": "2023-05-21T11:36:52.024107Z",
     "shell.execute_reply": "2023-05-21T11:36:52.023266Z"
    },
    "id": "-EdFxKdgSYcf",
    "papermill": {
     "duration": 0.064981,
     "end_time": "2023-05-21T11:36:52.026082",
     "exception": false,
     "start_time": "2023-05-21T11:36:51.961101",
     "status": "completed"
    },
    "tags": []
   },
   "outputs": [],
   "source": [
    "conv=(Flatten()(conv))\n",
    "conv=(Dense(1024,activation=\"relu\")(conv))\n",
    "conv=(Dense(512,activation=\"relu\")(conv))\n",
    "conv=(Dense(num_classes, activation=\"softmax\")(conv))\n",
    "\n",
    "model_dn201_sea = Model(inputs=MainInput, outputs=conv)"
   ]
  },
  {
   "cell_type": "code",
   "execution_count": 21,
   "id": "bfcd5047",
   "metadata": {
    "execution": {
     "iopub.execute_input": "2023-05-21T11:36:52.060380Z",
     "iopub.status.busy": "2023-05-21T11:36:52.059592Z",
     "iopub.status.idle": "2023-05-21T11:36:52.247475Z",
     "shell.execute_reply": "2023-05-21T11:36:52.246512Z"
    },
    "id": "ba8ajOckSYcl",
    "outputId": "e69fa749-4741-4f49-ae3e-9f5479e809a8",
    "papermill": {
     "duration": 0.233162,
     "end_time": "2023-05-21T11:36:52.275581",
     "exception": false,
     "start_time": "2023-05-21T11:36:52.042419",
     "status": "completed"
    },
    "tags": []
   },
   "outputs": [
    {
     "name": "stdout",
     "output_type": "stream",
     "text": [
      "Model: \"model\"\n",
      "__________________________________________________________________________________________________\n",
      " Layer (type)                   Output Shape         Param #     Connected to                     \n",
      "==================================================================================================\n",
      " input_2 (InputLayer)           [(None, 224, 224, 3  0           []                               \n",
      "                                )]                                                                \n",
      "                                                                                                  \n",
      " densenet201 (Functional)       (None, 1920)         18321984    ['input_2[0][0]']                \n",
      "                                                                                                  \n",
      " reshape (Reshape)              (None, 8, 8, 30)     0           ['densenet201[0][0]']            \n",
      "                                                                                                  \n",
      " conv2d (Conv2D)                (None, 8, 8, 128)    188288      ['reshape[0][0]']                \n",
      "                                                                                                  \n",
      " batch_normalization (BatchNorm  (None, 8, 8, 128)   512         ['conv2d[0][0]']                 \n",
      " alization)                                                                                       \n",
      "                                                                                                  \n",
      " conv2d_1 (Conv2D)              (None, 8, 8, 128)    409728      ['batch_normalization[0][0]']    \n",
      "                                                                                                  \n",
      " batch_normalization_1 (BatchNo  (None, 8, 8, 128)   512         ['conv2d_1[0][0]']               \n",
      " rmalization)                                                                                     \n",
      "                                                                                                  \n",
      " conv2d_2 (Conv2D)              (None, 8, 8, 128)    147584      ['batch_normalization_1[0][0]']  \n",
      "                                                                                                  \n",
      " batch_normalization_2 (BatchNo  (None, 8, 8, 128)   512         ['conv2d_2[0][0]']               \n",
      " rmalization)                                                                                     \n",
      "                                                                                                  \n",
      " conv2d_3 (Conv2D)              (None, 8, 8, 128)    16512       ['batch_normalization_2[0][0]']  \n",
      "                                                                                                  \n",
      " batch_normalization_3 (BatchNo  (None, 8, 8, 128)   512         ['conv2d_3[0][0]']               \n",
      " rmalization)                                                                                     \n",
      "                                                                                                  \n",
      " reshape_1 (Reshape)            (None, 8, 8, 128)    0           ['batch_normalization_3[0][0]']  \n",
      "                                                                                                  \n",
      " global_average_pooling2d (Glob  (None, 128)         0           ['reshape_1[0][0]']              \n",
      " alAveragePooling2D)                                                                              \n",
      "                                                                                                  \n",
      " dense (Dense)                  (None, 1)            129         ['global_average_pooling2d[0][0]'\n",
      "                                                                 ]                                \n",
      "                                                                                                  \n",
      " dense_1 (Dense)                (None, 128)          256         ['dense[0][0]']                  \n",
      "                                                                                                  \n",
      " multiply (Multiply)            (None, 8, 8, 128)    0           ['reshape_1[0][0]',              \n",
      "                                                                  'dense_1[0][0]']                \n",
      "                                                                                                  \n",
      " conv2d_4 (Conv2D)              (None, 8, 8, 128)    802944      ['multiply[0][0]']               \n",
      "                                                                                                  \n",
      " batch_normalization_4 (BatchNo  (None, 8, 8, 128)   512         ['conv2d_4[0][0]']               \n",
      " rmalization)                                                                                     \n",
      "                                                                                                  \n",
      " conv2d_5 (Conv2D)              (None, 8, 8, 128)    409728      ['batch_normalization_4[0][0]']  \n",
      "                                                                                                  \n",
      " batch_normalization_5 (BatchNo  (None, 8, 8, 128)   512         ['conv2d_5[0][0]']               \n",
      " rmalization)                                                                                     \n",
      "                                                                                                  \n",
      " conv2d_6 (Conv2D)              (None, 8, 8, 128)    147584      ['batch_normalization_5[0][0]']  \n",
      "                                                                                                  \n",
      " batch_normalization_6 (BatchNo  (None, 8, 8, 128)   512         ['conv2d_6[0][0]']               \n",
      " rmalization)                                                                                     \n",
      "                                                                                                  \n",
      " conv2d_7 (Conv2D)              (None, 8, 8, 128)    16512       ['batch_normalization_6[0][0]']  \n",
      "                                                                                                  \n",
      " batch_normalization_7 (BatchNo  (None, 8, 8, 128)   512         ['conv2d_7[0][0]']               \n",
      " rmalization)                                                                                     \n",
      "                                                                                                  \n",
      " max_pooling2d (MaxPooling2D)   (None, 4, 4, 128)    0           ['batch_normalization_7[0][0]']  \n",
      "                                                                                                  \n",
      " conv2d_8 (Conv2D)              (None, 4, 4, 256)    1605888     ['max_pooling2d[0][0]']          \n",
      "                                                                                                  \n",
      " batch_normalization_8 (BatchNo  (None, 4, 4, 256)   1024        ['conv2d_8[0][0]']               \n",
      " rmalization)                                                                                     \n",
      "                                                                                                  \n",
      " conv2d_9 (Conv2D)              (None, 4, 4, 256)    1638656     ['batch_normalization_8[0][0]']  \n",
      "                                                                                                  \n",
      " batch_normalization_9 (BatchNo  (None, 4, 4, 256)   1024        ['conv2d_9[0][0]']               \n",
      " rmalization)                                                                                     \n",
      "                                                                                                  \n",
      " conv2d_10 (Conv2D)             (None, 4, 4, 256)    590080      ['batch_normalization_9[0][0]']  \n",
      "                                                                                                  \n",
      " batch_normalization_10 (BatchN  (None, 4, 4, 256)   1024        ['conv2d_10[0][0]']              \n",
      " ormalization)                                                                                    \n",
      "                                                                                                  \n",
      " conv2d_11 (Conv2D)             (None, 4, 4, 256)    65792       ['batch_normalization_10[0][0]'] \n",
      "                                                                                                  \n",
      " batch_normalization_11 (BatchN  (None, 4, 4, 256)   1024        ['conv2d_11[0][0]']              \n",
      " ormalization)                                                                                    \n",
      "                                                                                                  \n",
      " reshape_2 (Reshape)            (None, 4, 4, 256)    0           ['batch_normalization_11[0][0]'] \n",
      "                                                                                                  \n",
      " global_average_pooling2d_1 (Gl  (None, 256)         0           ['reshape_2[0][0]']              \n",
      " obalAveragePooling2D)                                                                            \n",
      "                                                                                                  \n",
      " dense_2 (Dense)                (None, 1)            257         ['global_average_pooling2d_1[0][0\n",
      "                                                                 ]']                              \n",
      "                                                                                                  \n",
      " dense_3 (Dense)                (None, 256)          512         ['dense_2[0][0]']                \n",
      "                                                                                                  \n",
      " multiply_1 (Multiply)          (None, 4, 4, 256)    0           ['reshape_2[0][0]',              \n",
      "                                                                  'dense_3[0][0]']                \n",
      "                                                                                                  \n",
      " conv2d_12 (Conv2D)             (None, 4, 4, 256)    3211520     ['multiply_1[0][0]']             \n",
      "                                                                                                  \n",
      " batch_normalization_12 (BatchN  (None, 4, 4, 256)   1024        ['conv2d_12[0][0]']              \n",
      " ormalization)                                                                                    \n",
      "                                                                                                  \n",
      " conv2d_13 (Conv2D)             (None, 4, 4, 256)    1638656     ['batch_normalization_12[0][0]'] \n",
      "                                                                                                  \n",
      " batch_normalization_13 (BatchN  (None, 4, 4, 256)   1024        ['conv2d_13[0][0]']              \n",
      " ormalization)                                                                                    \n",
      "                                                                                                  \n",
      " conv2d_14 (Conv2D)             (None, 4, 4, 256)    590080      ['batch_normalization_13[0][0]'] \n",
      "                                                                                                  \n",
      " batch_normalization_14 (BatchN  (None, 4, 4, 256)   1024        ['conv2d_14[0][0]']              \n",
      " ormalization)                                                                                    \n",
      "                                                                                                  \n",
      " conv2d_15 (Conv2D)             (None, 4, 4, 256)    65792       ['batch_normalization_14[0][0]'] \n",
      "                                                                                                  \n",
      " batch_normalization_15 (BatchN  (None, 4, 4, 256)   1024        ['conv2d_15[0][0]']              \n",
      " ormalization)                                                                                    \n",
      "                                                                                                  \n",
      " max_pooling2d_1 (MaxPooling2D)  (None, 2, 2, 256)   0           ['batch_normalization_15[0][0]'] \n",
      "                                                                                                  \n",
      " flatten (Flatten)              (None, 1024)         0           ['max_pooling2d_1[0][0]']        \n",
      "                                                                                                  \n",
      " dense_4 (Dense)                (None, 1024)         1049600     ['flatten[0][0]']                \n",
      "                                                                                                  \n",
      " dense_5 (Dense)                (None, 512)          524800      ['dense_4[0][0]']                \n",
      "                                                                                                  \n",
      " dense_6 (Dense)                (None, 7)            3591        ['dense_5[0][0]']                \n",
      "                                                                                                  \n",
      "==================================================================================================\n",
      "Total params: 31,458,761\n",
      "Trainable params: 31,223,561\n",
      "Non-trainable params: 235,200\n",
      "__________________________________________________________________________________________________\n"
     ]
    }
   ],
   "source": [
    "model_dn201_sea.summary()"
   ]
  },
  {
   "cell_type": "code",
   "execution_count": 22,
   "id": "fdc04ec1",
   "metadata": {
    "execution": {
     "iopub.execute_input": "2023-05-21T11:36:52.330654Z",
     "iopub.status.busy": "2023-05-21T11:36:52.330358Z",
     "iopub.status.idle": "2023-05-21T11:36:52.364750Z",
     "shell.execute_reply": "2023-05-21T11:36:52.363888Z"
    },
    "id": "WR0fUpy18vAZ",
    "papermill": {
     "duration": 0.064785,
     "end_time": "2023-05-21T11:36:52.366898",
     "exception": false,
     "start_time": "2023-05-21T11:36:52.302113",
     "status": "completed"
    },
    "tags": []
   },
   "outputs": [],
   "source": [
    "opt1=tf.keras.optimizers.Adam(learning_rate=0.001,epsilon=0.1)\n",
    "model_dn201_sea.compile(optimizer=opt1,\n",
    "             loss='categorical_crossentropy',\n",
    "             metrics=['accuracy'])"
   ]
  },
  {
   "cell_type": "code",
   "execution_count": 23,
   "id": "465c950e",
   "metadata": {
    "execution": {
     "iopub.execute_input": "2023-05-21T11:36:52.420755Z",
     "iopub.status.busy": "2023-05-21T11:36:52.419962Z",
     "iopub.status.idle": "2023-05-21T11:36:52.424887Z",
     "shell.execute_reply": "2023-05-21T11:36:52.423998Z"
    },
    "id": "LAf5ha295reS",
    "papermill": {
     "duration": 0.033723,
     "end_time": "2023-05-21T11:36:52.426902",
     "exception": false,
     "start_time": "2023-05-21T11:36:52.393179",
     "status": "completed"
    },
    "tags": []
   },
   "outputs": [],
   "source": [
    "class_weights = {   \n",
    "                    0: 1.0,  # akiec\n",
    "                    1: 1.0,  # bcc\n",
    "                    2: 1.0,  # bkl\n",
    "                    3: 1.0,  # df\n",
    "                    4: 1.0,  # mel\n",
    "                    5: 1.0,  # nv\n",
    "                    6: 1.0  # vasc\n",
    "                }"
   ]
  },
  {
   "cell_type": "code",
   "execution_count": 24,
   "id": "5c7f8be0",
   "metadata": {
    "execution": {
     "iopub.execute_input": "2023-05-21T11:36:52.480690Z",
     "iopub.status.busy": "2023-05-21T11:36:52.479911Z",
     "iopub.status.idle": "2023-05-21T11:36:52.485082Z",
     "shell.execute_reply": "2023-05-21T11:36:52.484277Z"
    },
    "papermill": {
     "duration": 0.03383,
     "end_time": "2023-05-21T11:36:52.486991",
     "exception": false,
     "start_time": "2023-05-21T11:36:52.453161",
     "status": "completed"
    },
    "tags": []
   },
   "outputs": [],
   "source": [
    "checkpoint = ModelCheckpoint(filepath ='DN201_SEA.hdf5', monitor='val_accuracy', save_best_only=True, save_weights_only=True)\n",
    "Earlystop = EarlyStopping(monitor='val_accuracy', mode='max', patience=25, min_delta=0.01)"
   ]
  },
  {
   "cell_type": "code",
   "execution_count": 25,
   "id": "240aaf25",
   "metadata": {
    "execution": {
     "iopub.execute_input": "2023-05-21T11:36:52.540001Z",
     "iopub.status.busy": "2023-05-21T11:36:52.539695Z",
     "iopub.status.idle": "2023-05-21T20:18:51.855798Z",
     "shell.execute_reply": "2023-05-21T20:18:51.854675Z"
    },
    "id": "NUzTmiZ-8hL3",
    "outputId": "e1825ff2-9f9c-436f-cf2c-9776af8eee62",
    "papermill": {
     "duration": 31319.370628,
     "end_time": "2023-05-21T20:18:51.883533",
     "exception": false,
     "start_time": "2023-05-21T11:36:52.512905",
     "status": "completed"
    },
    "tags": []
   },
   "outputs": [
    {
     "name": "stdout",
     "output_type": "stream",
     "text": [
      "Epoch 1/50\n",
      "3424/3424 - 859s - loss: 0.8857 - accuracy: 0.6696 - val_loss: 0.3964 - val_accuracy: 0.8597 - 859s/epoch - 251ms/step\n",
      "Epoch 2/50\n",
      "3424/3424 - 701s - loss: 0.3833 - accuracy: 0.8617 - val_loss: 0.3209 - val_accuracy: 0.9045 - 701s/epoch - 205ms/step\n",
      "Epoch 3/50\n",
      "3424/3424 - 704s - loss: 0.2374 - accuracy: 0.9145 - val_loss: 0.5372 - val_accuracy: 0.8537 - 704s/epoch - 206ms/step\n",
      "Epoch 4/50\n",
      "3424/3424 - 704s - loss: 0.1615 - accuracy: 0.9424 - val_loss: 0.3540 - val_accuracy: 0.9117 - 704s/epoch - 205ms/step\n",
      "Epoch 5/50\n",
      "3424/3424 - 703s - loss: 0.1187 - accuracy: 0.9582 - val_loss: 0.3526 - val_accuracy: 0.9069 - 703s/epoch - 205ms/step\n",
      "Epoch 6/50\n",
      "3424/3424 - 706s - loss: 0.0932 - accuracy: 0.9679 - val_loss: 0.3475 - val_accuracy: 0.9093 - 706s/epoch - 206ms/step\n",
      "Epoch 7/50\n",
      "3424/3424 - 706s - loss: 0.0702 - accuracy: 0.9753 - val_loss: 0.4018 - val_accuracy: 0.8936 - 706s/epoch - 206ms/step\n",
      "Epoch 8/50\n",
      "3424/3424 - 706s - loss: 0.0537 - accuracy: 0.9817 - val_loss: 0.3883 - val_accuracy: 0.9105 - 706s/epoch - 206ms/step\n",
      "Epoch 9/50\n",
      "3424/3424 - 706s - loss: 0.0438 - accuracy: 0.9853 - val_loss: 0.3850 - val_accuracy: 0.8984 - 706s/epoch - 206ms/step\n",
      "Epoch 10/50\n",
      "3424/3424 - 706s - loss: 0.0418 - accuracy: 0.9855 - val_loss: 0.4059 - val_accuracy: 0.9069 - 706s/epoch - 206ms/step\n",
      "Epoch 11/50\n",
      "3424/3424 - 705s - loss: 0.0330 - accuracy: 0.9886 - val_loss: 0.4064 - val_accuracy: 0.9093 - 705s/epoch - 206ms/step\n",
      "Epoch 12/50\n",
      "3424/3424 - 706s - loss: 0.0298 - accuracy: 0.9901 - val_loss: 0.4573 - val_accuracy: 0.9081 - 706s/epoch - 206ms/step\n",
      "Epoch 13/50\n",
      "3424/3424 - 706s - loss: 0.0251 - accuracy: 0.9915 - val_loss: 0.4431 - val_accuracy: 0.9117 - 706s/epoch - 206ms/step\n",
      "Epoch 14/50\n",
      "3424/3424 - 707s - loss: 0.0185 - accuracy: 0.9940 - val_loss: 0.4989 - val_accuracy: 0.9033 - 707s/epoch - 206ms/step\n",
      "Epoch 15/50\n",
      "3424/3424 - 705s - loss: 0.0216 - accuracy: 0.9929 - val_loss: 0.4212 - val_accuracy: 0.9117 - 705s/epoch - 206ms/step\n",
      "Epoch 16/50\n",
      "3424/3424 - 706s - loss: 0.0176 - accuracy: 0.9944 - val_loss: 0.4211 - val_accuracy: 0.9069 - 706s/epoch - 206ms/step\n",
      "Epoch 17/50\n",
      "3424/3424 - 707s - loss: 0.0146 - accuracy: 0.9953 - val_loss: 0.4552 - val_accuracy: 0.9093 - 707s/epoch - 207ms/step\n",
      "Epoch 18/50\n",
      "3424/3424 - 707s - loss: 0.0157 - accuracy: 0.9947 - val_loss: 0.3598 - val_accuracy: 0.9214 - 707s/epoch - 206ms/step\n",
      "Epoch 19/50\n",
      "3424/3424 - 706s - loss: 0.0149 - accuracy: 0.9950 - val_loss: 0.4979 - val_accuracy: 0.8972 - 706s/epoch - 206ms/step\n",
      "Epoch 20/50\n",
      "3424/3424 - 706s - loss: 0.0117 - accuracy: 0.9960 - val_loss: 0.4328 - val_accuracy: 0.9117 - 706s/epoch - 206ms/step\n",
      "Epoch 21/50\n",
      "3424/3424 - 704s - loss: 0.0133 - accuracy: 0.9957 - val_loss: 0.4619 - val_accuracy: 0.9105 - 704s/epoch - 206ms/step\n",
      "Epoch 22/50\n",
      "3424/3424 - 706s - loss: 0.0134 - accuracy: 0.9960 - val_loss: 0.4306 - val_accuracy: 0.9190 - 706s/epoch - 206ms/step\n",
      "Epoch 23/50\n",
      "3424/3424 - 707s - loss: 0.0121 - accuracy: 0.9958 - val_loss: 0.4622 - val_accuracy: 0.9117 - 707s/epoch - 207ms/step\n",
      "Epoch 24/50\n",
      "3424/3424 - 706s - loss: 0.0086 - accuracy: 0.9976 - val_loss: 0.4752 - val_accuracy: 0.9141 - 706s/epoch - 206ms/step\n",
      "Epoch 25/50\n",
      "3424/3424 - 706s - loss: 0.0109 - accuracy: 0.9965 - val_loss: 0.4545 - val_accuracy: 0.9069 - 706s/epoch - 206ms/step\n",
      "Epoch 26/50\n",
      "3424/3424 - 708s - loss: 0.0073 - accuracy: 0.9976 - val_loss: 0.5001 - val_accuracy: 0.9178 - 708s/epoch - 207ms/step\n",
      "Epoch 27/50\n",
      "3424/3424 - 709s - loss: 0.0092 - accuracy: 0.9970 - val_loss: 0.4424 - val_accuracy: 0.9166 - 709s/epoch - 207ms/step\n",
      "Epoch 28/50\n",
      "3424/3424 - 708s - loss: 0.0081 - accuracy: 0.9972 - val_loss: 0.4710 - val_accuracy: 0.9166 - 708s/epoch - 207ms/step\n",
      "Epoch 29/50\n",
      "3424/3424 - 707s - loss: 0.0075 - accuracy: 0.9973 - val_loss: 0.4639 - val_accuracy: 0.9105 - 707s/epoch - 206ms/step\n",
      "Epoch 30/50\n",
      "3424/3424 - 709s - loss: 0.0078 - accuracy: 0.9976 - val_loss: 0.5112 - val_accuracy: 0.9117 - 709s/epoch - 207ms/step\n",
      "Epoch 31/50\n",
      "3424/3424 - 708s - loss: 0.0065 - accuracy: 0.9981 - val_loss: 0.4665 - val_accuracy: 0.9093 - 708s/epoch - 207ms/step\n",
      "Epoch 32/50\n",
      "3424/3424 - 706s - loss: 0.0069 - accuracy: 0.9978 - val_loss: 0.4673 - val_accuracy: 0.9178 - 706s/epoch - 206ms/step\n",
      "Epoch 33/50\n",
      "3424/3424 - 710s - loss: 0.0048 - accuracy: 0.9985 - val_loss: 0.5174 - val_accuracy: 0.9117 - 710s/epoch - 207ms/step\n",
      "Epoch 34/50\n",
      "3424/3424 - 707s - loss: 0.0038 - accuracy: 0.9988 - val_loss: 0.5093 - val_accuracy: 0.9190 - 707s/epoch - 206ms/step\n",
      "Epoch 35/50\n",
      "3424/3424 - 707s - loss: 0.0060 - accuracy: 0.9982 - val_loss: 0.4841 - val_accuracy: 0.9202 - 707s/epoch - 206ms/step\n",
      "Epoch 36/50\n",
      "3424/3424 - 710s - loss: 0.0052 - accuracy: 0.9982 - val_loss: 0.5249 - val_accuracy: 0.9250 - 710s/epoch - 207ms/step\n",
      "Epoch 37/50\n",
      "3424/3424 - 707s - loss: 0.0051 - accuracy: 0.9984 - val_loss: 0.5073 - val_accuracy: 0.8996 - 707s/epoch - 206ms/step\n",
      "Epoch 38/50\n",
      "3424/3424 - 707s - loss: 0.0062 - accuracy: 0.9979 - val_loss: 0.5246 - val_accuracy: 0.9166 - 707s/epoch - 207ms/step\n",
      "Epoch 39/50\n",
      "3424/3424 - 707s - loss: 0.0048 - accuracy: 0.9985 - val_loss: 0.5601 - val_accuracy: 0.9129 - 707s/epoch - 206ms/step\n",
      "Epoch 40/50\n",
      "3424/3424 - 708s - loss: 0.0023 - accuracy: 0.9993 - val_loss: 0.5467 - val_accuracy: 0.9178 - 708s/epoch - 207ms/step\n",
      "Epoch 41/50\n",
      "3424/3424 - 701s - loss: 0.0038 - accuracy: 0.9987 - val_loss: 0.6020 - val_accuracy: 0.9069 - 701s/epoch - 205ms/step\n",
      "Epoch 42/50\n",
      "3424/3424 - 706s - loss: 0.0033 - accuracy: 0.9988 - val_loss: 0.6092 - val_accuracy: 0.9081 - 706s/epoch - 206ms/step\n",
      "Epoch 43/50\n",
      "3424/3424 - 708s - loss: 0.0075 - accuracy: 0.9977 - val_loss: 0.5711 - val_accuracy: 0.9141 - 708s/epoch - 207ms/step\n"
     ]
    }
   ],
   "source": [
    "history = model_dn201_sea.fit(train_batches,\n",
    "                         epochs=50,\n",
    "                         verbose=2,\n",
    "                         validation_data=val_batches,\n",
    "                         callbacks=[checkpoint,Earlystop],\n",
    "                         class_weight=class_weights)"
   ]
  },
  {
   "cell_type": "markdown",
   "id": "c38d6089",
   "metadata": {
    "papermill": {
     "duration": 0.032221,
     "end_time": "2023-05-21T20:18:51.948190",
     "exception": false,
     "start_time": "2023-05-21T20:18:51.915969",
     "status": "completed"
    },
    "tags": []
   },
   "source": [
    "### Plotting accuracy and loss"
   ]
  },
  {
   "cell_type": "code",
   "execution_count": 26,
   "id": "1bf2c505",
   "metadata": {
    "execution": {
     "iopub.execute_input": "2023-05-21T20:18:52.015711Z",
     "iopub.status.busy": "2023-05-21T20:18:52.014632Z",
     "iopub.status.idle": "2023-05-21T20:19:26.042322Z",
     "shell.execute_reply": "2023-05-21T20:19:26.041371Z"
    },
    "papermill": {
     "duration": 34.099978,
     "end_time": "2023-05-21T20:19:26.080810",
     "exception": false,
     "start_time": "2023-05-21T20:18:51.980832",
     "status": "completed"
    },
    "tags": []
   },
   "outputs": [
    {
     "name": "stdout",
     "output_type": "stream",
     "text": [
      "Number of epochs trained: 43\n"
     ]
    },
    {
     "data": {
      "image/png": "[encoded data removed]",
      "text/plain": [
       "<Figure size 1500x500 with 2 Axes>"
      ]
     },
     "metadata": {},
     "output_type": "display_data"
    }
   ],
   "source": [
    "# Determine number of epochs trained\n",
    "num_epochs_trained = len(history.history['val_loss'])\n",
    "print(f\"Number of epochs trained: {num_epochs_trained}\")\n",
    "\n",
    "## History plotting\n",
    "epochs = [i for i in range(num_epochs_trained)]\n",
    "fig , ax = plt.subplots(1,2)\n",
    "train_acc = history.history['accuracy']\n",
    "train_loss = history.history['loss']\n",
    "val_acc = history.history['val_accuracy']\n",
    "val_loss = history.history['val_loss']\n",
    "fig.set_size_inches(15,5)\n",
    "\n",
    "ax[0].plot(epochs , train_acc , 'go-' , label = 'Training Accuracy')\n",
    "ax[0].plot(epochs , val_acc , 'ro-' , label = 'Validation Accuracy')\n",
    "title_font = {'fontname':'Times New Roman', 'size':'14', 'color':'black', 'weight':'normal'}\n",
    "ax[0].set_title('Model Accuracy', fontdict=title_font)\n",
    "legend_font = {'family': 'Times New Roman', 'size': '12', 'weight': 'normal'}\n",
    "ax[0].legend(prop=legend_font)\n",
    "label_font = {'fontname':'Times New Roman', 'size':'12', 'color':'black', 'weight':'normal'}\n",
    "ax[0].set_xlabel(\"Epochs\",  fontdict=label_font)\n",
    "ax[0].set_ylabel(\"Accuracy\",  fontdict=label_font)\n",
    "\n",
    "ax[1].plot(epochs , train_loss , 'g-o' , label = 'Training Loss')\n",
    "ax[1].plot(epochs , val_loss , 'r-o' , label = 'Validation Loss')\n",
    "ax[1].set_title('Model Loss', fontdict=title_font)\n",
    "ax[1].legend(prop=legend_font)\n",
    "ax[1].set_xlabel(\"Epochs\", fontdict=label_font)\n",
    "ax[1].set_ylabel(\"Loss\", fontdict=label_font)\n",
    "plt.show()"
   ]
  },
  {
   "cell_type": "code",
   "execution_count": 27,
   "id": "e07f8d94",
   "metadata": {
    "execution": {
     "iopub.execute_input": "2023-05-21T20:19:26.152150Z",
     "iopub.status.busy": "2023-05-21T20:19:26.151803Z",
     "iopub.status.idle": "2023-05-21T20:19:27.127252Z",
     "shell.execute_reply": "2023-05-21T20:19:27.126281Z"
    },
    "id": "zm_AewFBXTj8",
    "papermill": {
     "duration": 1.014113,
     "end_time": "2023-05-21T20:19:27.129768",
     "exception": false,
     "start_time": "2023-05-21T20:19:26.115655",
     "status": "completed"
    },
    "tags": []
   },
   "outputs": [],
   "source": [
    "from tensorflow.keras import models\n",
    "model_dn201_sea.load_weights(\"DN201_SEA.hdf5\")"
   ]
  },
  {
   "cell_type": "code",
   "execution_count": 28,
   "id": "b69b1cb1",
   "metadata": {
    "execution": {
     "iopub.execute_input": "2023-05-21T20:19:27.199198Z",
     "iopub.status.busy": "2023-05-21T20:19:27.198842Z",
     "iopub.status.idle": "2023-05-21T20:19:44.775177Z",
     "shell.execute_reply": "2023-05-21T20:19:44.774178Z"
    },
    "papermill": {
     "duration": 17.61359,
     "end_time": "2023-05-21T20:19:44.777661",
     "exception": false,
     "start_time": "2023-05-21T20:19:27.164071",
     "status": "completed"
    },
    "tags": []
   },
   "outputs": [
    {
     "name": "stdout",
     "output_type": "stream",
     "text": [
      "52/52 [==============================] - 17s 257ms/step\n"
     ]
    }
   ],
   "source": [
    "predictions = model_dn201_sea.predict(test_batches)"
   ]
  },
  {
   "cell_type": "code",
   "execution_count": 29,
   "id": "5dc2e290",
   "metadata": {
    "execution": {
     "iopub.execute_input": "2023-05-21T20:19:44.858358Z",
     "iopub.status.busy": "2023-05-21T20:19:44.857994Z",
     "iopub.status.idle": "2023-05-21T20:19:44.863107Z",
     "shell.execute_reply": "2023-05-21T20:19:44.861936Z"
    },
    "id": "FDTMtBeTdBfU",
    "papermill": {
     "duration": 0.048768,
     "end_time": "2023-05-21T20:19:44.865275",
     "exception": false,
     "start_time": "2023-05-21T20:19:44.816507",
     "status": "completed"
    },
    "tags": []
   },
   "outputs": [],
   "source": [
    "#geting predictions on test dataset\n",
    "y_pred = np.argmax(predictions, axis=1)\n",
    "#getting the true labels per image \n",
    "y_true = test_batches.classes\n",
    "#getting the predicted labels per image \n",
    "y_prob = predictions"
   ]
  },
  {
   "cell_type": "code",
   "execution_count": 30,
   "id": "e84ae9dd",
   "metadata": {
    "execution": {
     "iopub.execute_input": "2023-05-21T20:19:44.943876Z",
     "iopub.status.busy": "2023-05-21T20:19:44.943321Z",
     "iopub.status.idle": "2023-05-21T20:19:44.960914Z",
     "shell.execute_reply": "2023-05-21T20:19:44.959645Z"
    },
    "papermill": {
     "duration": 0.059317,
     "end_time": "2023-05-21T20:19:44.963095",
     "exception": false,
     "start_time": "2023-05-21T20:19:44.903778",
     "status": "completed"
    },
    "tags": []
   },
   "outputs": [
    {
     "name": "stdout",
     "output_type": "stream",
     "text": [
      "\n",
      "Classification Report:\n",
      "              precision    recall  f1-score   support\n",
      "\n",
      "          AK       0.88      0.64      0.74        22\n",
      "         BCC       0.82      0.67      0.73        27\n",
      "         BKL       0.75      0.80      0.77        66\n",
      "          DF       1.00      0.67      0.80         6\n",
      "         MEL       0.80      0.46      0.58        35\n",
      "          NV       0.95      0.98      0.96       663\n",
      "        VASC       0.90      1.00      0.95         9\n",
      "\n",
      "    accuracy                           0.92       828\n",
      "   macro avg       0.87      0.74      0.79       828\n",
      "weighted avg       0.92      0.92      0.92       828\n",
      "\n"
     ]
    }
   ],
   "source": [
    "classnames = ['AK', 'BCC', 'BKL', 'DF', 'MEL', 'NV', 'VASC']\n",
    "\n",
    "from tensorflow.keras.utils import to_categorical\n",
    "y_test = to_categorical(y_true)\n",
    "\n",
    "report = classification_report(y_true, y_pred, target_names=classnames)\n",
    "\n",
    "print(\"\\nClassification Report:\")\n",
    "print(report)"
   ]
  },
  {
   "cell_type": "code",
   "execution_count": 31,
   "id": "fc255585",
   "metadata": {
    "execution": {
     "iopub.execute_input": "2023-05-21T20:19:45.041141Z",
     "iopub.status.busy": "2023-05-21T20:19:45.040792Z",
     "iopub.status.idle": "2023-05-21T20:19:45.596415Z",
     "shell.execute_reply": "2023-05-21T20:19:45.595515Z"
    },
    "papermill": {
     "duration": 0.596201,
     "end_time": "2023-05-21T20:19:45.598484",
     "exception": false,
     "start_time": "2023-05-21T20:19:45.002283",
     "status": "completed"
    },
    "tags": []
   },
   "outputs": [
    {
     "data": {
      "image/png": "[encoded data removed]",
      "text/plain": [
       "<Figure size 1000x400 with 2 Axes>"
      ]
     },
     "metadata": {},
     "output_type": "display_data"
    }
   ],
   "source": [
    "## Confusion Matrix\n",
    "title_font = {'fontname':'Times New Roman', 'size':'14', 'color':'black', 'weight':'normal'}\n",
    "label_font = {'fontname':'Times New Roman', 'size':'12', 'color':'black', 'weight':'normal'}\n",
    "\n",
    "from sklearn.metrics import confusion_matrix\n",
    "import seaborn as sns\n",
    "# Creating confusion matrix \n",
    "cm = confusion_matrix(y_true, y_pred)\n",
    "# Plotting the confusion matrix\n",
    "plt.figure(figsize=(10,4))\n",
    "sns.heatmap(cm, annot=True, fmt='g', cmap='Blues', xticklabels=targetnames, yticklabels=targetnames)\n",
    "plt.xlabel('Predicted Label', fontdict=label_font)\n",
    "plt.ylabel('True Label', fontdict=label_font)\n",
    "plt.title('Confusion Matrix', fontdict=title_font)\n",
    "plt.show()"
   ]
  },
  {
   "cell_type": "markdown",
   "id": "ab106a34",
   "metadata": {
    "papermill": {
     "duration": 0.037994,
     "end_time": "2023-05-21T20:19:45.674569",
     "exception": false,
     "start_time": "2023-05-21T20:19:45.636575",
     "status": "completed"
    },
    "tags": []
   },
   "source": [
    "## Results"
   ]
  },
  {
   "cell_type": "markdown",
   "id": "bc906f89",
   "metadata": {
    "papermill": {
     "duration": 0.038202,
     "end_time": "2023-05-21T20:19:45.750945",
     "exception": false,
     "start_time": "2023-05-21T20:19:45.712743",
     "status": "completed"
    },
    "tags": []
   },
   "source": [
    "### Individual Class Accuracy "
   ]
  },
  {
   "cell_type": "code",
   "execution_count": 32,
   "id": "020fef53",
   "metadata": {
    "execution": {
     "iopub.execute_input": "2023-05-21T20:19:45.830435Z",
     "iopub.status.busy": "2023-05-21T20:19:45.829497Z",
     "iopub.status.idle": "2023-05-21T20:19:45.838271Z",
     "shell.execute_reply": "2023-05-21T20:19:45.837032Z"
    },
    "papermill": {
     "duration": 0.050766,
     "end_time": "2023-05-21T20:19:45.840402",
     "exception": false,
     "start_time": "2023-05-21T20:19:45.789636",
     "status": "completed"
    },
    "tags": []
   },
   "outputs": [
    {
     "name": "stdout",
     "output_type": "stream",
     "text": [
      "Overall accuracy: 92.27%\n",
      "Accuracy for each class:\n",
      "Class 0: 63.64%\n",
      "Class 1: 66.67%\n",
      "Class 2: 80.30%\n",
      "Class 3: 66.67%\n",
      "Class 4: 45.71%\n",
      "Class 5: 98.04%\n",
      "Class 6: 100.00%\n"
     ]
    }
   ],
   "source": [
    "# y_true are the true labels of the test set\n",
    "# y_pred are the predicted labels of the test set\n",
    "accuracy = accuracy_score(y_true, y_pred)\n",
    "# Calculate accuracy for each class\n",
    "class_accuracy = cm.diagonal()/cm.sum(axis=1)\n",
    "print(\"Overall accuracy: {:.2f}%\".format(accuracy*100))\n",
    "print(\"Accuracy for each class:\")\n",
    "for i, acc in enumerate(class_accuracy):\n",
    "    print(\"Class {}: {:.2f}%\".format(i, acc*100))"
   ]
  },
  {
   "cell_type": "markdown",
   "id": "ecfaaf14",
   "metadata": {
    "papermill": {
     "duration": 0.03848,
     "end_time": "2023-05-21T20:19:45.918531",
     "exception": false,
     "start_time": "2023-05-21T20:19:45.880051",
     "status": "completed"
    },
    "tags": []
   },
   "source": [
    "### Individual Class Weighted Precision"
   ]
  },
  {
   "cell_type": "code",
   "execution_count": 33,
   "id": "17982cba",
   "metadata": {
    "execution": {
     "iopub.execute_input": "2023-05-21T20:19:45.997219Z",
     "iopub.status.busy": "2023-05-21T20:19:45.996299Z",
     "iopub.status.idle": "2023-05-21T20:19:46.012421Z",
     "shell.execute_reply": "2023-05-21T20:19:46.011126Z"
    },
    "papermill": {
     "duration": 0.058166,
     "end_time": "2023-05-21T20:19:46.014677",
     "exception": false,
     "start_time": "2023-05-21T20:19:45.956511",
     "status": "completed"
    },
    "tags": []
   },
   "outputs": [
    {
     "name": "stdout",
     "output_type": "stream",
     "text": [
      "Weighted precision for each class:\n",
      "Class 0: 87.50%\n",
      "Class 1: 81.82%\n",
      "Class 2: 74.65%\n",
      "Class 3: 100.00%\n",
      "Class 4: 80.00%\n",
      "Class 5: 94.89%\n",
      "Class 6: 90.00%\n",
      "Weighted precision: 92.01%\n"
     ]
    }
   ],
   "source": [
    "report = classification_report(y_true, y_pred, output_dict=True)\n",
    "# Extract weighted precision for each class\n",
    "class_precision = {}\n",
    "for class_label in report.keys():\n",
    "    if class_label == 'weighted avg':\n",
    "        class_precision['weighted'] = report[class_label]['precision']\n",
    "    elif class_label.isdigit():\n",
    "        class_precision[int(class_label)] = report[class_label]['precision']\n",
    "print(\"Weighted precision for each class:\")\n",
    "for i, precision in class_precision.items():\n",
    "    if i == 'weighted':\n",
    "        print(\"Weighted precision: {:.2f}%\".format(precision*100))\n",
    "    else:\n",
    "        print(\"Class {}: {:.2f}%\".format(i, precision*100))"
   ]
  },
  {
   "cell_type": "markdown",
   "id": "7af7c44b",
   "metadata": {
    "papermill": {
     "duration": 0.038895,
     "end_time": "2023-05-21T20:19:46.094853",
     "exception": false,
     "start_time": "2023-05-21T20:19:46.055958",
     "status": "completed"
    },
    "tags": []
   },
   "source": [
    "### Individual Class Weighted Recall"
   ]
  },
  {
   "cell_type": "code",
   "execution_count": 34,
   "id": "71fcb466",
   "metadata": {
    "execution": {
     "iopub.execute_input": "2023-05-21T20:19:46.173352Z",
     "iopub.status.busy": "2023-05-21T20:19:46.172995Z",
     "iopub.status.idle": "2023-05-21T20:19:46.189538Z",
     "shell.execute_reply": "2023-05-21T20:19:46.188589Z"
    },
    "papermill": {
     "duration": 0.058582,
     "end_time": "2023-05-21T20:19:46.191754",
     "exception": false,
     "start_time": "2023-05-21T20:19:46.133172",
     "status": "completed"
    },
    "tags": []
   },
   "outputs": [
    {
     "name": "stdout",
     "output_type": "stream",
     "text": [
      "Weighted recall for each class:\n",
      "Class 0: 63.64%\n",
      "Class 1: 66.67%\n",
      "Class 2: 80.30%\n",
      "Class 3: 66.67%\n",
      "Class 4: 45.71%\n",
      "Class 5: 98.04%\n",
      "Class 6: 100.00%\n",
      "Weighted Recall: 92.27%\n"
     ]
    }
   ],
   "source": [
    "report = classification_report(y_true, y_pred, output_dict=True)\n",
    "# Extract weighted recall for each class\n",
    "class_recall = {}\n",
    "for class_label in report.keys():\n",
    "    if class_label == 'weighted avg':\n",
    "        class_recall['weighted'] = report[class_label]['recall']\n",
    "    elif class_label.isdigit():\n",
    "        class_recall[int(class_label)] = report[class_label]['recall']\n",
    "print(\"Weighted recall for each class:\")\n",
    "for i, recall in class_recall.items():\n",
    "    if i == 'weighted':\n",
    "        print(\"Weighted Recall: {:.2f}%\".format(recall*100))\n",
    "    else:\n",
    "        print(\"Class {}: {:.2f}%\".format(i, recall*100))"
   ]
  },
  {
   "cell_type": "markdown",
   "id": "66f144ce",
   "metadata": {
    "papermill": {
     "duration": 0.037998,
     "end_time": "2023-05-21T20:19:46.269701",
     "exception": false,
     "start_time": "2023-05-21T20:19:46.231703",
     "status": "completed"
    },
    "tags": []
   },
   "source": [
    "### Individual Class Weighted F1-score"
   ]
  },
  {
   "cell_type": "code",
   "execution_count": 35,
   "id": "8933fabc",
   "metadata": {
    "execution": {
     "iopub.execute_input": "2023-05-21T20:19:46.348073Z",
     "iopub.status.busy": "2023-05-21T20:19:46.347717Z",
     "iopub.status.idle": "2023-05-21T20:19:46.363795Z",
     "shell.execute_reply": "2023-05-21T20:19:46.362420Z"
    },
    "papermill": {
     "duration": 0.057812,
     "end_time": "2023-05-21T20:19:46.365961",
     "exception": false,
     "start_time": "2023-05-21T20:19:46.308149",
     "status": "completed"
    },
    "tags": []
   },
   "outputs": [
    {
     "name": "stdout",
     "output_type": "stream",
     "text": [
      "Weighted F1-score for each class:\n",
      "Class 0: 73.68%\n",
      "Class 1: 73.47%\n",
      "Class 2: 77.37%\n",
      "Class 3: 80.00%\n",
      "Class 4: 58.18%\n",
      "Class 5: 96.44%\n",
      "Class 6: 94.74%\n",
      "Weighted F1-score: 91.81%\n"
     ]
    }
   ],
   "source": [
    "report = classification_report(y_true, y_pred, output_dict=True)\n",
    "# Extract weighted F1-score for each class\n",
    "class_f1 = {}\n",
    "for class_label in report.keys():\n",
    "    if class_label == 'weighted avg':\n",
    "        class_f1['weighted'] = report[class_label]['f1-score']\n",
    "    elif class_label.isdigit():\n",
    "        class_f1[int(class_label)] = report[class_label]['f1-score']\n",
    "print(\"Weighted F1-score for each class:\")\n",
    "for i, f1_score in class_f1.items():\n",
    "    if i == 'weighted':\n",
    "        print(\"Weighted F1-score: {:.2f}%\".format(f1_score*100))\n",
    "    else:\n",
    "        print(\"Class {}: {:.2f}%\".format(i, f1_score*100))"
   ]
  },
  {
   "cell_type": "markdown",
   "id": "280599e2",
   "metadata": {
    "papermill": {
     "duration": 0.038188,
     "end_time": "2023-05-21T20:19:46.445951",
     "exception": false,
     "start_time": "2023-05-21T20:19:46.407763",
     "status": "completed"
    },
    "tags": []
   },
   "source": [
    "### Individual Class Precision, Recall and F1-score"
   ]
  },
  {
   "cell_type": "code",
   "execution_count": 36,
   "id": "0e127e70",
   "metadata": {
    "execution": {
     "iopub.execute_input": "2023-05-21T20:19:46.525168Z",
     "iopub.status.busy": "2023-05-21T20:19:46.524198Z",
     "iopub.status.idle": "2023-05-21T20:19:46.534083Z",
     "shell.execute_reply": "2023-05-21T20:19:46.533080Z"
    },
    "papermill": {
     "duration": 0.051657,
     "end_time": "2023-05-21T20:19:46.536334",
     "exception": false,
     "start_time": "2023-05-21T20:19:46.484677",
     "status": "completed"
    },
    "tags": []
   },
   "outputs": [
    {
     "name": "stdout",
     "output_type": "stream",
     "text": [
      "Class-wise weighted precision, recall, and F1-score:\n",
      "Class 0: Precision=0.88, Recall=0.64, F1-score=0.74\n",
      "Class 1: Precision=0.82, Recall=0.67, F1-score=0.73\n",
      "Class 2: Precision=0.75, Recall=0.80, F1-score=0.77\n",
      "Class 3: Precision=1.00, Recall=0.67, F1-score=0.80\n",
      "Class 4: Precision=0.80, Recall=0.46, F1-score=0.58\n",
      "Class 5: Precision=0.95, Recall=0.98, F1-score=0.96\n",
      "Class 6: Precision=0.90, Recall=1.00, F1-score=0.95\n"
     ]
    }
   ],
   "source": [
    "from sklearn.metrics import precision_recall_fscore_support\n",
    "\n",
    "precision_class, recall_class, f1_class, support_class = precision_recall_fscore_support(y_true, y_pred, average=None)\n",
    "print('Class-wise weighted precision, recall, and F1-score:')\n",
    "for i in range(len(precision_class)):\n",
    "    print('Class {}: Precision={:.2f}, Recall={:.2f}, F1-score={:.2f}'.format(i, precision_class[i], recall_class[i], f1_class[i]))\n"
   ]
  },
  {
   "cell_type": "markdown",
   "id": "365cffd7",
   "metadata": {
    "papermill": {
     "duration": 0.038429,
     "end_time": "2023-05-21T20:19:46.614155",
     "exception": false,
     "start_time": "2023-05-21T20:19:46.575726",
     "status": "completed"
    },
    "tags": []
   },
   "source": [
    "### Individual Class Weighted Sensitivity"
   ]
  },
  {
   "cell_type": "code",
   "execution_count": 37,
   "id": "8900a4bd",
   "metadata": {
    "execution": {
     "iopub.execute_input": "2023-05-21T20:19:46.694283Z",
     "iopub.status.busy": "2023-05-21T20:19:46.693338Z",
     "iopub.status.idle": "2023-05-21T20:19:47.178595Z",
     "shell.execute_reply": "2023-05-21T20:19:47.177384Z"
    },
    "papermill": {
     "duration": 0.528095,
     "end_time": "2023-05-21T20:19:47.181307",
     "exception": false,
     "start_time": "2023-05-21T20:19:46.653212",
     "status": "completed"
    },
    "tags": []
   },
   "outputs": [
    {
     "name": "stdout",
     "output_type": "stream",
     "text": [
      "Weighted Sensitivity:  0.9227053140096618\n",
      "Class  0 :sensitivity = 0.6363636363636364\n",
      "Class  1 :sensitivity = 0.6666666666666666\n",
      "Class  2 :sensitivity = 0.803030303030303\n",
      "Class  3 :sensitivity = 0.6666666666666666\n",
      "Class  4 :sensitivity = 0.45714285714285713\n",
      "Class  5 :sensitivity = 0.9803921568627451\n",
      "Class  6 :sensitivity = 1.0\n"
     ]
    }
   ],
   "source": [
    "from imblearn.metrics import sensitivity_score\n",
    "\n",
    "sensitivity = sensitivity_score(y_true, y_pred, average='weighted')\n",
    "print(\"Weighted Sensitivity: \", sensitivity)\n",
    "\n",
    "# Calculate class-wise sensitivity\n",
    "sensitivity = sensitivity_score(y_true, y_pred, average=None)\n",
    "\n",
    "# Print sensitivity score for each class\n",
    "for i in range(len(sensitivity)):\n",
    "    print(\"Class \", i, \":sensitivity =\", sensitivity[i])"
   ]
  },
  {
   "cell_type": "markdown",
   "id": "213dcbcd",
   "metadata": {
    "papermill": {
     "duration": 0.038725,
     "end_time": "2023-05-21T20:19:47.260101",
     "exception": false,
     "start_time": "2023-05-21T20:19:47.221376",
     "status": "completed"
    },
    "tags": []
   },
   "source": [
    "### Individual Class Weighted Specificity"
   ]
  },
  {
   "cell_type": "code",
   "execution_count": 38,
   "id": "6f14b8b3",
   "metadata": {
    "execution": {
     "iopub.execute_input": "2023-05-21T20:19:47.340446Z",
     "iopub.status.busy": "2023-05-21T20:19:47.340076Z",
     "iopub.status.idle": "2023-05-21T20:19:47.350779Z",
     "shell.execute_reply": "2023-05-21T20:19:47.349461Z"
    },
    "papermill": {
     "duration": 0.052827,
     "end_time": "2023-05-21T20:19:47.352729",
     "exception": false,
     "start_time": "2023-05-21T20:19:47.299902",
     "status": "completed"
    },
    "tags": []
   },
   "outputs": [
    {
     "name": "stdout",
     "output_type": "stream",
     "text": [
      "Weighted Specificity:  0.8278111418314429\n",
      "Class  0 :specificity= 0.9975186104218362\n",
      "Class  1 :specificity= 0.9950062421972534\n",
      "Class  2 :specificity= 0.9763779527559056\n",
      "Class  3 :specificity= 1.0\n",
      "Class  4 :specificity= 0.9949558638083228\n",
      "Class  5 :specificity= 0.7878787878787878\n",
      "Class  6 :specificity= 0.9987789987789988\n"
     ]
    }
   ],
   "source": [
    "from imblearn.metrics import specificity_score\n",
    "\n",
    "specificity = specificity_score(y_true, y_pred, average='weighted')\n",
    "print(\"Weighted Specificity: \", specificity)\n",
    "\n",
    "# Calculate class-wise specificity\n",
    "specificity = specificity_score(y_true, y_pred, average=None)\n",
    "\n",
    "# Print sensitivity score for each class\n",
    "for i in range(len(specificity)):\n",
    "    print(\"Class \", i, \":specificity=\", specificity[i])"
   ]
  },
  {
   "cell_type": "markdown",
   "id": "d46b5e0f",
   "metadata": {
    "papermill": {
     "duration": 0.061002,
     "end_time": "2023-05-21T20:19:47.453572",
     "exception": false,
     "start_time": "2023-05-21T20:19:47.392570",
     "status": "completed"
    },
    "tags": []
   },
   "source": [
    "### Accuracy"
   ]
  },
  {
   "cell_type": "code",
   "execution_count": 39,
   "id": "55a1a5fa",
   "metadata": {
    "execution": {
     "iopub.execute_input": "2023-05-21T20:19:47.583423Z",
     "iopub.status.busy": "2023-05-21T20:19:47.582978Z",
     "iopub.status.idle": "2023-05-21T20:19:47.591213Z",
     "shell.execute_reply": "2023-05-21T20:19:47.590269Z"
    },
    "papermill": {
     "duration": 0.076919,
     "end_time": "2023-05-21T20:19:47.595720",
     "exception": false,
     "start_time": "2023-05-21T20:19:47.518801",
     "status": "completed"
    },
    "tags": []
   },
   "outputs": [
    {
     "name": "stdout",
     "output_type": "stream",
     "text": [
      "Accuracy: 0.9227053140096618\n"
     ]
    }
   ],
   "source": [
    "print(\"Accuracy: \" + str(accuracy_score(y_true, y_pred)))\n",
    "import numpy as np\n",
    "from sklearn.metrics import accuracy_score"
   ]
  },
  {
   "cell_type": "code",
   "execution_count": 40,
   "id": "718e4cd1",
   "metadata": {
    "execution": {
     "iopub.execute_input": "2023-05-21T20:19:47.688552Z",
     "iopub.status.busy": "2023-05-21T20:19:47.687603Z",
     "iopub.status.idle": "2023-05-21T20:19:47.708126Z",
     "shell.execute_reply": "2023-05-21T20:19:47.707005Z"
    },
    "papermill": {
     "duration": 0.062578,
     "end_time": "2023-05-21T20:19:47.710245",
     "exception": false,
     "start_time": "2023-05-21T20:19:47.647667",
     "status": "completed"
    },
    "tags": []
   },
   "outputs": [
    {
     "name": "stdout",
     "output_type": "stream",
     "text": [
      "Top-1 Accuracy: 0.9227053140096618\n",
      "Top-2 Accuracy: 0.9758454106280193\n",
      "Top-3 Accuracy: 0.9891304347826086\n"
     ]
    }
   ],
   "source": [
    "# Calculate top-1 accuracy\n",
    "top1_acc = accuracy_score(y_true, y_pred)\n",
    "print(\"Top-1 Accuracy:\", top1_acc)\n",
    "\n",
    "# Calculate top-2 accuracy\n",
    "y_pred_top2 = np.argsort(-predictions, axis=1)[:, :2] # Get the top 2 predicted classes\n",
    "top2_acc = np.mean(np.array([y_true[i] in y_pred_top2[i] for i in range(len(y_true))]))\n",
    "print(\"Top-2 Accuracy:\", top2_acc)\n",
    "\n",
    "# Calculate top-3 accuracy\n",
    "y_pred_top3 = np.argsort(-predictions, axis=1)[:, :3] # Get the top 3 predicted classes\n",
    "top3_acc = np.mean(np.array([y_true[i] in y_pred_top3[i] for i in range(len(y_true))]))\n",
    "print(\"Top-3 Accuracy:\", top3_acc)\n",
    "from sklearn.metrics import f1_score"
   ]
  },
  {
   "cell_type": "markdown",
   "id": "ca8fcf88",
   "metadata": {
    "papermill": {
     "duration": 0.038811,
     "end_time": "2023-05-21T20:19:47.789107",
     "exception": false,
     "start_time": "2023-05-21T20:19:47.750296",
     "status": "completed"
    },
    "tags": []
   },
   "source": [
    "### Weighted Evaluation Measures"
   ]
  },
  {
   "cell_type": "code",
   "execution_count": 41,
   "id": "79e979aa",
   "metadata": {
    "execution": {
     "iopub.execute_input": "2023-05-21T20:19:47.869899Z",
     "iopub.status.busy": "2023-05-21T20:19:47.869008Z",
     "iopub.status.idle": "2023-05-21T20:19:47.896391Z",
     "shell.execute_reply": "2023-05-21T20:19:47.895065Z"
    },
    "papermill": {
     "duration": 0.070059,
     "end_time": "2023-05-21T20:19:47.898470",
     "exception": false,
     "start_time": "2023-05-21T20:19:47.828411",
     "status": "completed"
    },
    "tags": []
   },
   "outputs": [
    {
     "name": "stdout",
     "output_type": "stream",
     "text": [
      "Weighted Precision: 0.9200876839564647\n",
      "Weighted Recall: 0.9227053140096618\n",
      "Weighted F1-Score: 0.9181094178600152\n",
      "Weighted Sensitivity: 0.9227053140096618\n",
      "Weighted Specificity: 0.8278111418314429\n",
      "weighted Roc score: 0.9745395290861468\n"
     ]
    }
   ],
   "source": [
    "print(\"Weighted Precision: \"+ str(precision_score(y_true, y_pred, average='weighted')))\n",
    "print(\"Weighted Recall: \"+ str(recall_score(y_true, y_pred, average='weighted')))\n",
    "print(\"Weighted F1-Score: \"+ str(f1_score(y_true, y_pred, average='weighted')))\n",
    "print(\"Weighted Sensitivity: \"+ str(sensitivity_score(y_true, y_pred, average='weighted')))\n",
    "print(\"Weighted Specificity: \"+ str(specificity_score(y_true, y_pred, average='weighted')))\n",
    "print(\"weighted Roc score: \" + str(roc_auc_score(y_true,y_prob,multi_class='ovr',average='weighted')))"
   ]
  },
  {
   "cell_type": "markdown",
   "id": "57e33b86",
   "metadata": {
    "papermill": {
     "duration": 0.039247,
     "end_time": "2023-05-21T20:19:47.977850",
     "exception": false,
     "start_time": "2023-05-21T20:19:47.938603",
     "status": "completed"
    },
    "tags": []
   },
   "source": [
    "### Macro Evaluation Measures"
   ]
  },
  {
   "cell_type": "code",
   "execution_count": 42,
   "id": "3fce5353",
   "metadata": {
    "execution": {
     "iopub.execute_input": "2023-05-21T20:19:48.059348Z",
     "iopub.status.busy": "2023-05-21T20:19:48.058428Z",
     "iopub.status.idle": "2023-05-21T20:19:48.084419Z",
     "shell.execute_reply": "2023-05-21T20:19:48.083408Z"
    },
    "papermill": {
     "duration": 0.06865,
     "end_time": "2023-05-21T20:19:48.086407",
     "exception": false,
     "start_time": "2023-05-21T20:19:48.017757",
     "status": "completed"
    },
    "tags": []
   },
   "outputs": [
    {
     "name": "stdout",
     "output_type": "stream",
     "text": [
      "Macro Precision: 0.869795114415758\n",
      "Macro Recall: 0.7443231838189821\n",
      "Macro F1-Score: 0.7912624149738396\n",
      "Macro Sensitivity: 0.7443231838189821\n",
      "Macro Specificity: 0.9643594936915864\n",
      "Macro Roc score: 0.9781654274062649\n"
     ]
    }
   ],
   "source": [
    "print(\"Macro Precision: \"+ str(precision_score(y_true, y_pred, average='macro')))\n",
    "print(\"Macro Recall: \"+ str(recall_score(y_true, y_pred, average='macro')))\n",
    "print(\"Macro F1-Score: \"+ str(f1_score(y_true, y_pred, average='macro')))\n",
    "print(\"Macro Sensitivity: \"+ str(sensitivity_score(y_true, y_pred, average='macro')))\n",
    "print(\"Macro Specificity: \"+ str(specificity_score(y_true, y_pred, average='macro')))\n",
    "print(\"Macro Roc score: \" + str(roc_auc_score(y_true,y_prob,multi_class='ovr',average='macro')))"
   ]
  },
  {
   "cell_type": "markdown",
   "id": "24e1698e",
   "metadata": {
    "papermill": {
     "duration": 0.038929,
     "end_time": "2023-05-21T20:19:48.164967",
     "exception": false,
     "start_time": "2023-05-21T20:19:48.126038",
     "status": "completed"
    },
    "tags": []
   },
   "source": [
    "### Micro Evaluation Measures"
   ]
  },
  {
   "cell_type": "code",
   "execution_count": 43,
   "id": "40ce7be3",
   "metadata": {
    "execution": {
     "iopub.execute_input": "2023-05-21T20:19:48.245290Z",
     "iopub.status.busy": "2023-05-21T20:19:48.244292Z",
     "iopub.status.idle": "2023-05-21T20:19:48.259572Z",
     "shell.execute_reply": "2023-05-21T20:19:48.258252Z"
    },
    "papermill": {
     "duration": 0.057645,
     "end_time": "2023-05-21T20:19:48.261836",
     "exception": false,
     "start_time": "2023-05-21T20:19:48.204191",
     "status": "completed"
    },
    "tags": []
   },
   "outputs": [
    {
     "name": "stdout",
     "output_type": "stream",
     "text": [
      "Micro Precision: 0.9227053140096618\n",
      "Micro Recall: 0.9227053140096618\n",
      "Micro F1-Score: 0.9227053140096618\n",
      "Micro Sensitivity: 0.9227053140096618\n",
      "Micro Specificity: 0.9871175523349437\n"
     ]
    }
   ],
   "source": [
    "print(\"Micro Precision: \"+ str(precision_score(y_true, y_pred, average='micro')))\n",
    "print(\"Micro Recall: \"+ str(recall_score(y_true, y_pred, average='micro')))\n",
    "print(\"Micro F1-Score: \"+ str(f1_score(y_true, y_pred, average='micro')))\n",
    "print(\"Micro Sensitivity: \"+ str(sensitivity_score(y_true, y_pred, average='micro')))\n",
    "print(\"Micro Specificity: \"+ str(specificity_score(y_true, y_pred, average='micro')))"
   ]
  },
  {
   "cell_type": "markdown",
   "id": "d90f70f3",
   "metadata": {
    "papermill": {
     "duration": 0.038611,
     "end_time": "2023-05-21T20:19:48.341251",
     "exception": false,
     "start_time": "2023-05-21T20:19:48.302640",
     "status": "completed"
    },
    "tags": []
   },
   "source": [
    "## ROC"
   ]
  },
  {
   "cell_type": "markdown",
   "id": "d99e0dee",
   "metadata": {
    "papermill": {
     "duration": 0.038811,
     "end_time": "2023-05-21T20:19:48.419277",
     "exception": false,
     "start_time": "2023-05-21T20:19:48.380466",
     "status": "completed"
    },
    "tags": []
   },
   "source": [
    "### Compute ROC curve and ROC area for each class"
   ]
  },
  {
   "cell_type": "code",
   "execution_count": 44,
   "id": "6349816e",
   "metadata": {
    "execution": {
     "iopub.execute_input": "2023-05-21T20:19:48.500503Z",
     "iopub.status.busy": "2023-05-21T20:19:48.499570Z",
     "iopub.status.idle": "2023-05-21T20:19:48.792551Z",
     "shell.execute_reply": "2023-05-21T20:19:48.791533Z"
    },
    "papermill": {
     "duration": 0.335723,
     "end_time": "2023-05-21T20:19:48.794726",
     "exception": false,
     "start_time": "2023-05-21T20:19:48.459003",
     "status": "completed"
    },
    "tags": []
   },
   "outputs": [
    {
     "data": {
      "image/png": "[encoded data removed]",
      "text/plain": [
       "<Figure size 640x480 with 1 Axes>"
      ]
     },
     "metadata": {},
     "output_type": "display_data"
    }
   ],
   "source": [
    "fpr = {}\n",
    "tpr = {}\n",
    "roc_auc = dict()\n",
    "for i in range(num_classes):\n",
    "    fpr[i], tpr[i], _ = roc_curve(y_test[:, i], y_prob[:, i], drop_intermediate=False)\n",
    "    roc_auc[i] = auc(fpr[i], tpr[i])\n",
    "\n",
    "\n",
    "# plot the ROC curve for each class\n",
    "for i in range(7):\n",
    "    plt.plot(fpr[i], tpr[i], label='Class {}: AUC={:.3f}'.format(i, roc_auc[i]))\n",
    "\n",
    "plt.xlabel('False Positive Rate')\n",
    "plt.ylabel('True Positive Rate')\n",
    "plt.legend()\n",
    "plt.show()"
   ]
  },
  {
   "cell_type": "markdown",
   "id": "d41b03dc",
   "metadata": {
    "papermill": {
     "duration": 0.039318,
     "end_time": "2023-05-21T20:19:48.874201",
     "exception": false,
     "start_time": "2023-05-21T20:19:48.834883",
     "status": "completed"
    },
    "tags": []
   },
   "source": [
    "## MCC and Kappa Score"
   ]
  },
  {
   "cell_type": "code",
   "execution_count": 45,
   "id": "d13fcef3",
   "metadata": {
    "execution": {
     "iopub.execute_input": "2023-05-21T20:19:48.957222Z",
     "iopub.status.busy": "2023-05-21T20:19:48.956873Z",
     "iopub.status.idle": "2023-05-21T20:19:48.966721Z",
     "shell.execute_reply": "2023-05-21T20:19:48.965484Z"
    },
    "papermill": {
     "duration": 0.054554,
     "end_time": "2023-05-21T20:19:48.968683",
     "exception": false,
     "start_time": "2023-05-21T20:19:48.914129",
     "status": "completed"
    },
    "tags": []
   },
   "outputs": [
    {
     "name": "stdout",
     "output_type": "stream",
     "text": [
      "MCC: 76.74%\n",
      "Kappa Score: 76.45%\n"
     ]
    }
   ],
   "source": [
    "from sklearn.metrics import matthews_corrcoef, cohen_kappa_score\n",
    "\n",
    "# y_true are the true labels of the test set\n",
    "# y_pred are the predicted labels of the test set\n",
    "mcc = matthews_corrcoef(y_true, y_pred)\n",
    "kappa = cohen_kappa_score(y_true, y_pred)\n",
    "print(\"MCC: {:.2f}%\".format(mcc*100))\n",
    "print(\"Kappa Score: {:.2f}%\".format(kappa*100))"
   ]
  },
  {
   "cell_type": "code",
   "execution_count": 46,
   "id": "8868883b",
   "metadata": {
    "execution": {
     "iopub.execute_input": "2023-05-21T20:19:49.051317Z",
     "iopub.status.busy": "2023-05-21T20:19:49.050213Z",
     "iopub.status.idle": "2023-05-21T20:19:49.121030Z",
     "shell.execute_reply": "2023-05-21T20:19:49.119870Z"
    },
    "papermill": {
     "duration": 0.114858,
     "end_time": "2023-05-21T20:19:49.123931",
     "exception": false,
     "start_time": "2023-05-21T20:19:49.009073",
     "status": "completed"
    },
    "tags": []
   },
   "outputs": [
    {
     "name": "stdout",
     "output_type": "stream",
     "text": [
      "MCC per class:\n",
      "Class 0: 74.05%\n",
      "Class 1: 73.07%\n",
      "Class 2: 75.39%\n",
      "Class 3: 81.55%\n",
      "Class 4: 59.25%\n",
      "Class 5: 81.19%\n",
      "Class 6: 94.81%\n",
      "Kappa Score per class:\n",
      "Class 0: 73.08%\n",
      "Class 1: 72.67%\n",
      "Class 2: 75.33%\n",
      "Class 3: 79.88%\n",
      "Class 4: 56.86%\n",
      "Class 5: 80.88%\n",
      "Class 6: 94.68%\n"
     ]
    }
   ],
   "source": [
    "### Individual Class Wise MCC and Kappa\n",
    "\n",
    "from sklearn.metrics import confusion_matrix, matthews_corrcoef, cohen_kappa_score\n",
    "# y_true are the true labels of the test set\n",
    "# y_pred are the predicted labels of the test set\n",
    "conf_mat = confusion_matrix(y_true, y_pred)\n",
    "mcc_per_class = {}\n",
    "kappa_per_class = {}\n",
    "\n",
    "for i in range(len(conf_mat)):\n",
    "    tp = conf_mat[i][i]\n",
    "    fp = sum(conf_mat[:, i]) - tp\n",
    "    fn = sum(conf_mat[i, :]) - tp\n",
    "    tn = sum(sum(conf_mat)) - tp - fp - fn\n",
    "\n",
    "    mcc_per_class[i] = matthews_corrcoef([1 if x==i else 0 for x in y_true], [1 if x==i else 0 for x in y_pred])\n",
    "    kappa_per_class[i] = cohen_kappa_score([1 if x==i else 0 for x in y_true], [1 if x==i else 0 for x in y_pred])\n",
    "\n",
    "print(\"MCC per class:\")\n",
    "for i, mcc in mcc_per_class.items():\n",
    "    print(\"Class {}: {:.2f}%\".format(i, mcc*100))\n",
    "\n",
    "print(\"Kappa Score per class:\")\n",
    "for i, kappa in kappa_per_class.items():\n",
    "    print(\"Class {}: {:.2f}%\".format(i, kappa*100))"
   ]
  },
  {
   "cell_type": "code",
   "execution_count": null,
   "id": "c5b86fa3",
   "metadata": {
    "papermill": {
     "duration": 0.039952,
     "end_time": "2023-05-21T20:19:49.205513",
     "exception": false,
     "start_time": "2023-05-21T20:19:49.165561",
     "status": "completed"
    },
    "tags": []
   },
   "outputs": [],
   "source": []
  }
 ],
 "metadata": {
  "kernelspec": {
   "display_name": "Python 3",
   "language": "python",
   "name": "python3"
  },
  "language_info": {
   "codemirror_mode": {
    "name": "ipython",
    "version": 3
   },
   "file_extension": ".py",
   "mimetype": "text/x-python",
   "name": "python",
   "nbconvert_exporter": "python",
   "pygments_lexer": "ipython3",
   "version": "3.10.10"
  },
  "papermill": {
   "default_parameters": {},
   "duration": 31430.758417,
   "end_time": "2023-05-21T20:19:52.952601",
   "environment_variables": {},
   "exception": null,
   "input_path": "__notebook__.ipynb",
   "output_path": "__notebook__.ipynb",
   "parameters": {},
   "start_time": "2023-05-21T11:36:02.194184",
   "version": "2.4.0"
  }
 },
 "nbformat": 4,
 "nbformat_minor": 5
}
