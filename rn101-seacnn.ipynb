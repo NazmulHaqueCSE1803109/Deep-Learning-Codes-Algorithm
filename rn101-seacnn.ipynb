{
 "cells": [
  {
   "cell_type": "markdown",
   "id": "9f5729cb",
   "metadata": {
    "papermill": {
     "duration": 0.016861,
     "end_time": "2023-05-23T06:07:58.619378",
     "exception": false,
     "start_time": "2023-05-23T06:07:58.602517",
     "status": "completed"
    },
    "tags": []
   },
   "source": [
    "# Libraries"
   ]
  },
  {
   "cell_type": "code",
   "execution_count": 1,
   "id": "f3a2b2f0",
   "metadata": {
    "execution": {
     "iopub.execute_input": "2023-05-23T06:07:58.654047Z",
     "iopub.status.busy": "2023-05-23T06:07:58.653226Z",
     "iopub.status.idle": "2023-05-23T06:08:06.695781Z",
     "shell.execute_reply": "2023-05-23T06:08:06.694611Z"
    },
    "id": "Aa36bMKLze3z",
    "papermill": {
     "duration": 8.063038,
     "end_time": "2023-05-23T06:08:06.698732",
     "exception": false,
     "start_time": "2023-05-23T06:07:58.635694",
     "status": "completed"
    },
    "tags": []
   },
   "outputs": [
    {
     "name": "stderr",
     "output_type": "stream",
     "text": [
      "/opt/conda/lib/python3.10/site-packages/scipy/__init__.py:146: UserWarning: A NumPy version >=1.16.5 and <1.23.0 is required for this version of SciPy (detected version 1.23.5\n",
      "  warnings.warn(f\"A NumPy version >={np_minversion} and <{np_maxversion}\"\n"
     ]
    }
   ],
   "source": [
    "import pandas as pd\n",
    "import numpy as np\n",
    "import os\n",
    "import tensorflow as tf\n",
    "import cv2\n",
    "from keras import backend as K\n",
    "from keras.layers import Layer, InputSpec\n",
    "import keras.layers as kl\n",
    "from glob import glob\n",
    "from sklearn.metrics import roc_curve, auc\n",
    "from keras.preprocessing import image\n",
    "from tensorflow.keras.models import Sequential\n",
    "from sklearn.metrics import roc_auc_score\n",
    "from tensorflow.keras import callbacks \n",
    "from tensorflow.keras.callbacks import ModelCheckpoint, EarlyStopping\n",
    "from  matplotlib import pyplot as plt\n",
    "from tensorflow.keras import Model\n",
    "from tensorflow.keras.layers import concatenate, Dense, Conv2D, MaxPooling2D, Flatten, Input, Activation, add, AveragePooling2D, BatchNormalization, Dropout, GlobalAveragePooling2D, GlobalMaxPooling2D\n",
    "%matplotlib inline\n",
    "import shutil\n",
    "from sklearn.metrics import  precision_score, recall_score, accuracy_score, classification_report, confusion_matrix\n",
    "from tensorflow.python.platform import build_info as tf_build_info\n",
    "from tensorflow.keras.preprocessing.image import ImageDataGenerator\n",
    "from sklearn.model_selection import train_test_split\n",
    "\n",
    "from PIL import ImageFile\n",
    "ImageFile.LOAD_TRUNCATED_IMAGES = True"
   ]
  },
  {
   "cell_type": "code",
   "execution_count": 2,
   "id": "2ea78b5a",
   "metadata": {
    "execution": {
     "iopub.execute_input": "2023-05-23T06:08:06.736130Z",
     "iopub.status.busy": "2023-05-23T06:08:06.734809Z",
     "iopub.status.idle": "2023-05-23T06:08:06.740288Z",
     "shell.execute_reply": "2023-05-23T06:08:06.739308Z"
    },
    "id": "PsoqCvNsgmHP",
    "papermill": {
     "duration": 0.025264,
     "end_time": "2023-05-23T06:08:06.742383",
     "exception": false,
     "start_time": "2023-05-23T06:08:06.717119",
     "status": "completed"
    },
    "tags": []
   },
   "outputs": [],
   "source": [
    "targetnames = ['akiec', 'bcc', 'bkl', 'df', 'mel', 'nv', 'vasc']\n",
    "batch_size = 16\n",
    "image_size = 224"
   ]
  },
  {
   "cell_type": "code",
   "execution_count": 3,
   "id": "8f411c04",
   "metadata": {
    "execution": {
     "iopub.execute_input": "2023-05-23T06:08:06.775735Z",
     "iopub.status.busy": "2023-05-23T06:08:06.775425Z",
     "iopub.status.idle": "2023-05-23T06:08:06.779629Z",
     "shell.execute_reply": "2023-05-23T06:08:06.778682Z"
    },
    "id": "wNisha_gM3_Z",
    "papermill": {
     "duration": 0.023388,
     "end_time": "2023-05-23T06:08:06.781878",
     "exception": false,
     "start_time": "2023-05-23T06:08:06.758490",
     "status": "completed"
    },
    "tags": []
   },
   "outputs": [],
   "source": [
    "train_path = '/kaggle/input/splitted-and-augmented-ham-15/Splitted_And_Augmented_HAM_15/HAM10K/train_dir'\n",
    "test_path = '/kaggle/input/splitted-and-augmented-ham-15/Splitted_And_Augmented_HAM_15/HAM10K/test_dir'\n",
    "val_path = '/kaggle/input/splitted-and-augmented-ham-15/Splitted_And_Augmented_HAM_15/HAM10K/val_dir'"
   ]
  },
  {
   "cell_type": "markdown",
   "id": "f806339e",
   "metadata": {
    "papermill": {
     "duration": 0.015828,
     "end_time": "2023-05-23T06:08:06.813392",
     "exception": false,
     "start_time": "2023-05-23T06:08:06.797564",
     "status": "completed"
    },
    "tags": []
   },
   "source": [
    "# Dataset generation (Train, Test, Validation)"
   ]
  },
  {
   "cell_type": "code",
   "execution_count": 4,
   "id": "87db3675",
   "metadata": {
    "execution": {
     "iopub.execute_input": "2023-05-23T06:08:06.846829Z",
     "iopub.status.busy": "2023-05-23T06:08:06.846553Z",
     "iopub.status.idle": "2023-05-23T06:08:06.850791Z",
     "shell.execute_reply": "2023-05-23T06:08:06.849877Z"
    },
    "id": "zhQWqdRN79B3",
    "papermill": {
     "duration": 0.023442,
     "end_time": "2023-05-23T06:08:06.852902",
     "exception": false,
     "start_time": "2023-05-23T06:08:06.829460",
     "status": "completed"
    },
    "tags": []
   },
   "outputs": [],
   "source": [
    "datagen = ImageDataGenerator(preprocessing_function=tf.keras.applications.resnet.preprocess_input)"
   ]
  },
  {
   "cell_type": "code",
   "execution_count": 5,
   "id": "425ceffb",
   "metadata": {
    "execution": {
     "iopub.execute_input": "2023-05-23T06:08:06.886583Z",
     "iopub.status.busy": "2023-05-23T06:08:06.886295Z",
     "iopub.status.idle": "2023-05-23T06:09:02.966590Z",
     "shell.execute_reply": "2023-05-23T06:09:02.965735Z"
    },
    "id": "w9_8FvOO7Rtu",
    "outputId": "7ca88c24-fda8-45d6-cb32-f3a43ae6ba5b",
    "papermill": {
     "duration": 56.099574,
     "end_time": "2023-05-23T06:09:02.968681",
     "exception": false,
     "start_time": "2023-05-23T06:08:06.869107",
     "status": "completed"
    },
    "tags": []
   },
   "outputs": [
    {
     "name": "stdout",
     "output_type": "stream",
     "text": [
      "\n",
      "Train Batches: \n",
      "Found 54782 images belonging to 7 classes.\n",
      "\n",
      "Test Batches: \n",
      "Found 828 images belonging to 7 classes.\n",
      "\n",
      "Val Batches: \n",
      "Found 827 images belonging to 7 classes.\n"
     ]
    }
   ],
   "source": [
    "print(\"\\nTrain Batches: \")\n",
    "train_batches = datagen.flow_from_directory(directory=train_path,\n",
    "                                            target_size=(image_size,image_size),\n",
    "                                            batch_size=batch_size,\n",
    "                                            shuffle=True)\n",
    "\n",
    "print(\"\\nTest Batches: \")\n",
    "test_batches = datagen.flow_from_directory(test_path,\n",
    "                                          target_size=(image_size,image_size),\n",
    "                                          batch_size=batch_size,\n",
    "                                          shuffle=False)\n",
    "print(\"\\nVal Batches: \")\n",
    "val_batches = datagen.flow_from_directory(val_path,\n",
    "                                         target_size=(image_size,image_size),\n",
    "                                         batch_size=batch_size,\n",
    "                                         shuffle=False)"
   ]
  },
  {
   "cell_type": "markdown",
   "id": "5dc75e79",
   "metadata": {
    "papermill": {
     "duration": 0.015447,
     "end_time": "2023-05-23T06:09:03.000591",
     "exception": false,
     "start_time": "2023-05-23T06:09:02.985144",
     "status": "completed"
    },
    "tags": []
   },
   "source": [
    "# Main Model Creation"
   ]
  },
  {
   "cell_type": "markdown",
   "id": "527fab02",
   "metadata": {
    "papermill": {
     "duration": 0.015256,
     "end_time": "2023-05-23T06:09:03.031632",
     "exception": false,
     "start_time": "2023-05-23T06:09:03.016376",
     "status": "completed"
    },
    "tags": []
   },
   "source": [
    "### Squeeze and Excitation Attention"
   ]
  },
  {
   "cell_type": "code",
   "execution_count": 6,
   "id": "13eddd2b",
   "metadata": {
    "execution": {
     "iopub.execute_input": "2023-05-23T06:09:03.064966Z",
     "iopub.status.busy": "2023-05-23T06:09:03.064058Z",
     "iopub.status.idle": "2023-05-23T06:09:03.070095Z",
     "shell.execute_reply": "2023-05-23T06:09:03.069146Z"
    },
    "papermill": {
     "duration": 0.024847,
     "end_time": "2023-05-23T06:09:03.072059",
     "exception": false,
     "start_time": "2023-05-23T06:09:03.047212",
     "status": "completed"
    },
    "tags": []
   },
   "outputs": [],
   "source": [
    "def squeeze_excite_block(input, filters, se_ratio):\n",
    "    # Squeeze step\n",
    "    se = tf.keras.layers.GlobalAveragePooling2D()(input)\n",
    "    se = tf.keras.layers.Dense(filters // se_ratio, activation='relu')(se)\n",
    "    se = tf.keras.layers.Dense(filters, activation='softmax')(se)\n",
    "    # Excitation step\n",
    "    x = tf.keras.layers.multiply([input, se])\n",
    "    return x"
   ]
  },
  {
   "cell_type": "markdown",
   "id": "cbcaaa83",
   "metadata": {
    "papermill": {
     "duration": 0.01523,
     "end_time": "2023-05-23T06:09:03.103453",
     "exception": false,
     "start_time": "2023-05-23T06:09:03.088223",
     "status": "completed"
    },
    "tags": []
   },
   "source": [
    "### Define Model"
   ]
  },
  {
   "cell_type": "code",
   "execution_count": 7,
   "id": "b62f5a16",
   "metadata": {
    "execution": {
     "iopub.execute_input": "2023-05-23T06:09:03.136915Z",
     "iopub.status.busy": "2023-05-23T06:09:03.136012Z",
     "iopub.status.idle": "2023-05-23T06:09:10.553948Z",
     "shell.execute_reply": "2023-05-23T06:09:10.552866Z"
    },
    "id": "zhQWqdRN79B3",
    "papermill": {
     "duration": 7.43738,
     "end_time": "2023-05-23T06:09:10.556618",
     "exception": false,
     "start_time": "2023-05-23T06:09:03.119238",
     "status": "completed"
    },
    "tags": []
   },
   "outputs": [
    {
     "name": "stdout",
     "output_type": "stream",
     "text": [
      "Downloading data from https://storage.googleapis.com/tensorflow/keras-applications/resnet/resnet101_weights_tf_dim_ordering_tf_kernels_notop.h5\n",
      "171446536/171446536 [==============================] - 1s 0us/step\n"
     ]
    }
   ],
   "source": [
    "from tensorflow.keras.applications.resnet import ResNet101\n",
    "\n",
    "RN101 = ResNet101(weights='imagenet', include_top=False, input_shape=(image_size, image_size, 3), pooling='avg')"
   ]
  },
  {
   "cell_type": "markdown",
   "id": "c3b105f7",
   "metadata": {
    "papermill": {
     "duration": 0.019423,
     "end_time": "2023-05-23T06:09:10.595915",
     "exception": false,
     "start_time": "2023-05-23T06:09:10.576492",
     "status": "completed"
    },
    "tags": []
   },
   "source": [
    "## Fine tuning"
   ]
  },
  {
   "cell_type": "code",
   "execution_count": 8,
   "id": "efa6fd78",
   "metadata": {
    "execution": {
     "iopub.execute_input": "2023-05-23T06:09:10.635455Z",
     "iopub.status.busy": "2023-05-23T06:09:10.635095Z",
     "iopub.status.idle": "2023-05-23T06:09:10.640986Z",
     "shell.execute_reply": "2023-05-23T06:09:10.640120Z"
    },
    "id": "4d4Ta5LcSYaz",
    "papermill": {
     "duration": 0.027815,
     "end_time": "2023-05-23T06:09:10.643103",
     "exception": false,
     "start_time": "2023-05-23T06:09:10.615288",
     "status": "completed"
    },
    "tags": []
   },
   "outputs": [],
   "source": [
    "MainInput=Input(shape=(image_size, image_size, 3))"
   ]
  },
  {
   "cell_type": "code",
   "execution_count": 9,
   "id": "216cbc49",
   "metadata": {
    "execution": {
     "iopub.execute_input": "2023-05-23T06:09:10.679076Z",
     "iopub.status.busy": "2023-05-23T06:09:10.678791Z",
     "iopub.status.idle": "2023-05-23T06:09:11.548287Z",
     "shell.execute_reply": "2023-05-23T06:09:11.547308Z"
    },
    "papermill": {
     "duration": 0.889985,
     "end_time": "2023-05-23T06:09:11.550811",
     "exception": false,
     "start_time": "2023-05-23T06:09:10.660826",
     "status": "completed"
    },
    "tags": []
   },
   "outputs": [],
   "source": [
    "resnet = RN101(MainInput)"
   ]
  },
  {
   "cell_type": "code",
   "execution_count": 10,
   "id": "ad10356d",
   "metadata": {
    "execution": {
     "iopub.execute_input": "2023-05-23T06:09:11.588315Z",
     "iopub.status.busy": "2023-05-23T06:09:11.588011Z",
     "iopub.status.idle": "2023-05-23T06:09:11.602625Z",
     "shell.execute_reply": "2023-05-23T06:09:11.601755Z"
    },
    "papermill": {
     "duration": 0.035799,
     "end_time": "2023-05-23T06:09:11.604891",
     "exception": false,
     "start_time": "2023-05-23T06:09:11.569092",
     "status": "completed"
    },
    "tags": []
   },
   "outputs": [],
   "source": [
    "# Reshape the tensor to have 4 dimensions\n",
    "from tensorflow.keras.layers import Reshape\n",
    "reshape = Reshape((16, 16, 8))(resnet)"
   ]
  },
  {
   "cell_type": "code",
   "execution_count": 11,
   "id": "0e0fc24d",
   "metadata": {
    "execution": {
     "iopub.execute_input": "2023-05-23T06:09:11.642394Z",
     "iopub.status.busy": "2023-05-23T06:09:11.642120Z",
     "iopub.status.idle": "2023-05-23T06:09:11.733965Z",
     "shell.execute_reply": "2023-05-23T06:09:11.732901Z"
    },
    "id": "x8mS99J5SYbT",
    "papermill": {
     "duration": 0.113951,
     "end_time": "2023-05-23T06:09:11.736765",
     "exception": false,
     "start_time": "2023-05-23T06:09:11.622814",
     "status": "completed"
    },
    "tags": []
   },
   "outputs": [],
   "source": [
    "# Add convolutional layers with Channel Attention\n",
    "conv = Conv2D(filters=128, kernel_size=(7, 7), activation=\"relu\", padding=\"same\", kernel_initializer='he_normal')(reshape)\n",
    "conv = BatchNormalization()(conv)\n",
    "conv = Conv2D(filters=128, kernel_size=(5, 5), activation=\"relu\", padding=\"same\", kernel_initializer='he_normal')(conv)\n",
    "conv = BatchNormalization()(conv)\n",
    "conv = Conv2D(filters=128, kernel_size=(3, 3), activation=\"relu\", padding=\"same\", kernel_initializer='he_normal')(conv)\n",
    "conv = BatchNormalization()(conv)\n",
    "conv = Conv2D(filters=128, kernel_size=(1, 1), activation=\"relu\", padding=\"same\", kernel_initializer='he_normal')(conv)\n",
    "conv = BatchNormalization()(conv)"
   ]
  },
  {
   "cell_type": "code",
   "execution_count": 12,
   "id": "151f0581",
   "metadata": {
    "execution": {
     "iopub.execute_input": "2023-05-23T06:09:11.773700Z",
     "iopub.status.busy": "2023-05-23T06:09:11.773367Z",
     "iopub.status.idle": "2023-05-23T06:09:11.817117Z",
     "shell.execute_reply": "2023-05-23T06:09:11.816263Z"
    },
    "papermill": {
     "duration": 0.064564,
     "end_time": "2023-05-23T06:09:11.819157",
     "exception": false,
     "start_time": "2023-05-23T06:09:11.754593",
     "status": "completed"
    },
    "tags": []
   },
   "outputs": [],
   "source": [
    "image_size_2 = 16\n",
    "from tensorflow.keras.layers import Reshape\n",
    "conv = Reshape(target_shape=(image_size_2, image_size_2, 128,))(conv)\n",
    "x = squeeze_excite_block(conv, 128, 128)  # use same number of filters as the input tensor"
   ]
  },
  {
   "cell_type": "code",
   "execution_count": 13,
   "id": "1d0cb018",
   "metadata": {
    "execution": {
     "iopub.execute_input": "2023-05-23T06:09:11.857741Z",
     "iopub.status.busy": "2023-05-23T06:09:11.856081Z",
     "iopub.status.idle": "2023-05-23T06:09:11.942190Z",
     "shell.execute_reply": "2023-05-23T06:09:11.941339Z"
    },
    "papermill": {
     "duration": 0.107067,
     "end_time": "2023-05-23T06:09:11.944382",
     "exception": false,
     "start_time": "2023-05-23T06:09:11.837315",
     "status": "completed"
    },
    "tags": []
   },
   "outputs": [],
   "source": [
    "# Add convolutional layers with Channel Attention\n",
    "conv = Conv2D(filters=128, kernel_size=(7, 7), activation=\"relu\", padding=\"same\", kernel_initializer='he_normal')(x)\n",
    "conv = BatchNormalization()(conv)\n",
    "conv = Conv2D(filters=128, kernel_size=(5, 5), activation=\"relu\", padding=\"same\", kernel_initializer='he_normal')(conv)\n",
    "conv = BatchNormalization()(conv)\n",
    "conv = Conv2D(filters=128, kernel_size=(3, 3), activation=\"relu\", padding=\"same\", kernel_initializer='he_normal')(conv)\n",
    "conv = BatchNormalization()(conv)\n",
    "conv = Conv2D(filters=128, kernel_size=(1, 1), activation=\"relu\", padding=\"same\", kernel_initializer='he_normal')(conv)\n",
    "conv = BatchNormalization()(conv)"
   ]
  },
  {
   "cell_type": "code",
   "execution_count": 14,
   "id": "511e73f6",
   "metadata": {
    "execution": {
     "iopub.execute_input": "2023-05-23T06:09:11.982883Z",
     "iopub.status.busy": "2023-05-23T06:09:11.982552Z",
     "iopub.status.idle": "2023-05-23T06:09:11.991896Z",
     "shell.execute_reply": "2023-05-23T06:09:11.991042Z"
    },
    "id": "wfhLPhssAm2S",
    "papermill": {
     "duration": 0.031668,
     "end_time": "2023-05-23T06:09:11.994276",
     "exception": false,
     "start_time": "2023-05-23T06:09:11.962608",
     "status": "completed"
    },
    "tags": []
   },
   "outputs": [],
   "source": [
    "conv=(MaxPooling2D(strides=(2, 2),padding=\"same\")(conv))"
   ]
  },
  {
   "cell_type": "code",
   "execution_count": 15,
   "id": "866bd98b",
   "metadata": {
    "execution": {
     "iopub.execute_input": "2023-05-23T06:09:12.032047Z",
     "iopub.status.busy": "2023-05-23T06:09:12.031703Z",
     "iopub.status.idle": "2023-05-23T06:09:12.125936Z",
     "shell.execute_reply": "2023-05-23T06:09:12.124905Z"
    },
    "id": "sW4tKg9wSYbk",
    "papermill": {
     "duration": 0.115687,
     "end_time": "2023-05-23T06:09:12.128596",
     "exception": false,
     "start_time": "2023-05-23T06:09:12.012909",
     "status": "completed"
    },
    "tags": []
   },
   "outputs": [],
   "source": [
    "conv = Conv2D(filters=256,kernel_size=(7,7), activation=\"relu\",padding=\"same\",kernel_initializer='he_normal')(conv)\n",
    "conv = BatchNormalization()(conv)\n",
    "conv = Conv2D(filters=256,kernel_size=(5,5), activation=\"relu\",padding=\"same\",kernel_initializer='he_normal')(conv)\n",
    "conv = BatchNormalization()(conv)\n",
    "conv = Conv2D(filters=256,kernel_size=(3,3), activation=\"relu\",padding=\"same\",kernel_initializer='he_normal')(conv)\n",
    "conv = BatchNormalization()(conv)\n",
    "conv = Conv2D(filters=256,kernel_size=(1,1), activation=\"relu\",padding=\"same\",kernel_initializer='he_normal')(conv)\n",
    "conv = BatchNormalization()(conv)"
   ]
  },
  {
   "cell_type": "code",
   "execution_count": 16,
   "id": "d464e1d9",
   "metadata": {
    "execution": {
     "iopub.execute_input": "2023-05-23T06:09:12.166977Z",
     "iopub.status.busy": "2023-05-23T06:09:12.165364Z",
     "iopub.status.idle": "2023-05-23T06:09:12.206734Z",
     "shell.execute_reply": "2023-05-23T06:09:12.205889Z"
    },
    "papermill": {
     "duration": 0.06207,
     "end_time": "2023-05-23T06:09:12.208968",
     "exception": false,
     "start_time": "2023-05-23T06:09:12.146898",
     "status": "completed"
    },
    "tags": []
   },
   "outputs": [],
   "source": [
    "image_size_3 = 8\n",
    "from tensorflow.keras.layers import Reshape\n",
    "conv = Reshape(target_shape=(image_size_3, image_size_3, 256,))(conv)\n",
    "x = squeeze_excite_block(conv, 256, 256)  # use same number of filters as the input tensor"
   ]
  },
  {
   "cell_type": "code",
   "execution_count": 17,
   "id": "6c89eab6",
   "metadata": {
    "execution": {
     "iopub.execute_input": "2023-05-23T06:09:12.246821Z",
     "iopub.status.busy": "2023-05-23T06:09:12.245185Z",
     "iopub.status.idle": "2023-05-23T06:09:12.331835Z",
     "shell.execute_reply": "2023-05-23T06:09:12.330933Z"
    },
    "papermill": {
     "duration": 0.107663,
     "end_time": "2023-05-23T06:09:12.334164",
     "exception": false,
     "start_time": "2023-05-23T06:09:12.226501",
     "status": "completed"
    },
    "tags": []
   },
   "outputs": [],
   "source": [
    "conv = Conv2D(filters=256,kernel_size=(7,7), activation=\"relu\",padding=\"same\",kernel_initializer='he_normal')(x)\n",
    "conv = BatchNormalization()(conv)\n",
    "conv = Conv2D(filters=256,kernel_size=(5,5), activation=\"relu\",padding=\"same\",kernel_initializer='he_normal')(conv)\n",
    "conv = BatchNormalization()(conv)\n",
    "conv = Conv2D(filters=256,kernel_size=(3,3), activation=\"relu\",padding=\"same\",kernel_initializer='he_normal')(conv)\n",
    "conv = BatchNormalization()(conv)\n",
    "conv = Conv2D(filters=256,kernel_size=(1,1), activation=\"relu\",padding=\"same\",kernel_initializer='he_normal')(conv)\n",
    "conv = BatchNormalization()(conv)"
   ]
  },
  {
   "cell_type": "code",
   "execution_count": 18,
   "id": "cc1f6f1d",
   "metadata": {
    "execution": {
     "iopub.execute_input": "2023-05-23T06:09:12.373226Z",
     "iopub.status.busy": "2023-05-23T06:09:12.372134Z",
     "iopub.status.idle": "2023-05-23T06:09:12.381530Z",
     "shell.execute_reply": "2023-05-23T06:09:12.380654Z"
    },
    "id": "eo8E7RxUSYcW",
    "papermill": {
     "duration": 0.031634,
     "end_time": "2023-05-23T06:09:12.383862",
     "exception": false,
     "start_time": "2023-05-23T06:09:12.352228",
     "status": "completed"
    },
    "tags": []
   },
   "outputs": [],
   "source": [
    "conv=(MaxPooling2D(pool_size=(2, 2),padding=\"same\")(conv))"
   ]
  },
  {
   "cell_type": "code",
   "execution_count": 19,
   "id": "7d972c67",
   "metadata": {
    "execution": {
     "iopub.execute_input": "2023-05-23T06:09:12.422816Z",
     "iopub.status.busy": "2023-05-23T06:09:12.422485Z",
     "iopub.status.idle": "2023-05-23T06:09:12.428080Z",
     "shell.execute_reply": "2023-05-23T06:09:12.426985Z"
    },
    "papermill": {
     "duration": 0.027612,
     "end_time": "2023-05-23T06:09:12.430178",
     "exception": false,
     "start_time": "2023-05-23T06:09:12.402566",
     "status": "completed"
    },
    "tags": []
   },
   "outputs": [
    {
     "name": "stdout",
     "output_type": "stream",
     "text": [
      "7\n"
     ]
    }
   ],
   "source": [
    "num_classes = test_batches.num_classes\n",
    "print(num_classes)"
   ]
  },
  {
   "cell_type": "code",
   "execution_count": 20,
   "id": "f033bb49",
   "metadata": {
    "execution": {
     "iopub.execute_input": "2023-05-23T06:09:12.468409Z",
     "iopub.status.busy": "2023-05-23T06:09:12.468135Z",
     "iopub.status.idle": "2023-05-23T06:09:12.519607Z",
     "shell.execute_reply": "2023-05-23T06:09:12.518751Z"
    },
    "id": "-EdFxKdgSYcf",
    "papermill": {
     "duration": 0.072621,
     "end_time": "2023-05-23T06:09:12.521637",
     "exception": false,
     "start_time": "2023-05-23T06:09:12.449016",
     "status": "completed"
    },
    "tags": []
   },
   "outputs": [],
   "source": [
    "conv=(Flatten()(conv))\n",
    "conv=(Dense(1024,activation=\"relu\")(conv))\n",
    "conv=(Dense(512,activation=\"relu\")(conv))\n",
    "conv=(Dense(num_classes, activation=\"softmax\")(conv))\n",
    "\n",
    "model_rn101_sea = Model(inputs=MainInput, outputs=conv)"
   ]
  },
  {
   "cell_type": "code",
   "execution_count": 21,
   "id": "4bb1aa90",
   "metadata": {
    "execution": {
     "iopub.execute_input": "2023-05-23T06:09:12.563704Z",
     "iopub.status.busy": "2023-05-23T06:09:12.563362Z",
     "iopub.status.idle": "2023-05-23T06:09:12.907318Z",
     "shell.execute_reply": "2023-05-23T06:09:12.906590Z"
    },
    "id": "ba8ajOckSYcl",
    "outputId": "e69fa749-4741-4f49-ae3e-9f5479e809a8",
    "papermill": {
     "duration": 0.374085,
     "end_time": "2023-05-23T06:09:12.917830",
     "exception": false,
     "start_time": "2023-05-23T06:09:12.543745",
     "status": "completed"
    },
    "tags": []
   },
   "outputs": [
    {
     "name": "stdout",
     "output_type": "stream",
     "text": [
      "Model: \"model\"\n",
      "__________________________________________________________________________________________________\n",
      " Layer (type)                   Output Shape         Param #     Connected to                     \n",
      "==================================================================================================\n",
      " input_2 (InputLayer)           [(None, 224, 224, 3  0           []                               \n",
      "                                )]                                                                \n",
      "                                                                                                  \n",
      " resnet101 (Functional)         (None, 2048)         42658176    ['input_2[0][0]']                \n",
      "                                                                                                  \n",
      " reshape (Reshape)              (None, 16, 16, 8)    0           ['resnet101[0][0]']              \n",
      "                                                                                                  \n",
      " conv2d (Conv2D)                (None, 16, 16, 128)  50304       ['reshape[0][0]']                \n",
      "                                                                                                  \n",
      " batch_normalization (BatchNorm  (None, 16, 16, 128)  512        ['conv2d[0][0]']                 \n",
      " alization)                                                                                       \n",
      "                                                                                                  \n",
      " conv2d_1 (Conv2D)              (None, 16, 16, 128)  409728      ['batch_normalization[0][0]']    \n",
      "                                                                                                  \n",
      " batch_normalization_1 (BatchNo  (None, 16, 16, 128)  512        ['conv2d_1[0][0]']               \n",
      " rmalization)                                                                                     \n",
      "                                                                                                  \n",
      " conv2d_2 (Conv2D)              (None, 16, 16, 128)  147584      ['batch_normalization_1[0][0]']  \n",
      "                                                                                                  \n",
      " batch_normalization_2 (BatchNo  (None, 16, 16, 128)  512        ['conv2d_2[0][0]']               \n",
      " rmalization)                                                                                     \n",
      "                                                                                                  \n",
      " conv2d_3 (Conv2D)              (None, 16, 16, 128)  16512       ['batch_normalization_2[0][0]']  \n",
      "                                                                                                  \n",
      " batch_normalization_3 (BatchNo  (None, 16, 16, 128)  512        ['conv2d_3[0][0]']               \n",
      " rmalization)                                                                                     \n",
      "                                                                                                  \n",
      " reshape_1 (Reshape)            (None, 16, 16, 128)  0           ['batch_normalization_3[0][0]']  \n",
      "                                                                                                  \n",
      " global_average_pooling2d (Glob  (None, 128)         0           ['reshape_1[0][0]']              \n",
      " alAveragePooling2D)                                                                              \n",
      "                                                                                                  \n",
      " dense (Dense)                  (None, 1)            129         ['global_average_pooling2d[0][0]'\n",
      "                                                                 ]                                \n",
      "                                                                                                  \n",
      " dense_1 (Dense)                (None, 128)          256         ['dense[0][0]']                  \n",
      "                                                                                                  \n",
      " multiply (Multiply)            (None, 16, 16, 128)  0           ['reshape_1[0][0]',              \n",
      "                                                                  'dense_1[0][0]']                \n",
      "                                                                                                  \n",
      " conv2d_4 (Conv2D)              (None, 16, 16, 128)  802944      ['multiply[0][0]']               \n",
      "                                                                                                  \n",
      " batch_normalization_4 (BatchNo  (None, 16, 16, 128)  512        ['conv2d_4[0][0]']               \n",
      " rmalization)                                                                                     \n",
      "                                                                                                  \n",
      " conv2d_5 (Conv2D)              (None, 16, 16, 128)  409728      ['batch_normalization_4[0][0]']  \n",
      "                                                                                                  \n",
      " batch_normalization_5 (BatchNo  (None, 16, 16, 128)  512        ['conv2d_5[0][0]']               \n",
      " rmalization)                                                                                     \n",
      "                                                                                                  \n",
      " conv2d_6 (Conv2D)              (None, 16, 16, 128)  147584      ['batch_normalization_5[0][0]']  \n",
      "                                                                                                  \n",
      " batch_normalization_6 (BatchNo  (None, 16, 16, 128)  512        ['conv2d_6[0][0]']               \n",
      " rmalization)                                                                                     \n",
      "                                                                                                  \n",
      " conv2d_7 (Conv2D)              (None, 16, 16, 128)  16512       ['batch_normalization_6[0][0]']  \n",
      "                                                                                                  \n",
      " batch_normalization_7 (BatchNo  (None, 16, 16, 128)  512        ['conv2d_7[0][0]']               \n",
      " rmalization)                                                                                     \n",
      "                                                                                                  \n",
      " max_pooling2d (MaxPooling2D)   (None, 8, 8, 128)    0           ['batch_normalization_7[0][0]']  \n",
      "                                                                                                  \n",
      " conv2d_8 (Conv2D)              (None, 8, 8, 256)    1605888     ['max_pooling2d[0][0]']          \n",
      "                                                                                                  \n",
      " batch_normalization_8 (BatchNo  (None, 8, 8, 256)   1024        ['conv2d_8[0][0]']               \n",
      " rmalization)                                                                                     \n",
      "                                                                                                  \n",
      " conv2d_9 (Conv2D)              (None, 8, 8, 256)    1638656     ['batch_normalization_8[0][0]']  \n",
      "                                                                                                  \n",
      " batch_normalization_9 (BatchNo  (None, 8, 8, 256)   1024        ['conv2d_9[0][0]']               \n",
      " rmalization)                                                                                     \n",
      "                                                                                                  \n",
      " conv2d_10 (Conv2D)             (None, 8, 8, 256)    590080      ['batch_normalization_9[0][0]']  \n",
      "                                                                                                  \n",
      " batch_normalization_10 (BatchN  (None, 8, 8, 256)   1024        ['conv2d_10[0][0]']              \n",
      " ormalization)                                                                                    \n",
      "                                                                                                  \n",
      " conv2d_11 (Conv2D)             (None, 8, 8, 256)    65792       ['batch_normalization_10[0][0]'] \n",
      "                                                                                                  \n",
      " batch_normalization_11 (BatchN  (None, 8, 8, 256)   1024        ['conv2d_11[0][0]']              \n",
      " ormalization)                                                                                    \n",
      "                                                                                                  \n",
      " reshape_2 (Reshape)            (None, 8, 8, 256)    0           ['batch_normalization_11[0][0]'] \n",
      "                                                                                                  \n",
      " global_average_pooling2d_1 (Gl  (None, 256)         0           ['reshape_2[0][0]']              \n",
      " obalAveragePooling2D)                                                                            \n",
      "                                                                                                  \n",
      " dense_2 (Dense)                (None, 1)            257         ['global_average_pooling2d_1[0][0\n",
      "                                                                 ]']                              \n",
      "                                                                                                  \n",
      " dense_3 (Dense)                (None, 256)          512         ['dense_2[0][0]']                \n",
      "                                                                                                  \n",
      " multiply_1 (Multiply)          (None, 8, 8, 256)    0           ['reshape_2[0][0]',              \n",
      "                                                                  'dense_3[0][0]']                \n",
      "                                                                                                  \n",
      " conv2d_12 (Conv2D)             (None, 8, 8, 256)    3211520     ['multiply_1[0][0]']             \n",
      "                                                                                                  \n",
      " batch_normalization_12 (BatchN  (None, 8, 8, 256)   1024        ['conv2d_12[0][0]']              \n",
      " ormalization)                                                                                    \n",
      "                                                                                                  \n",
      " conv2d_13 (Conv2D)             (None, 8, 8, 256)    1638656     ['batch_normalization_12[0][0]'] \n",
      "                                                                                                  \n",
      " batch_normalization_13 (BatchN  (None, 8, 8, 256)   1024        ['conv2d_13[0][0]']              \n",
      " ormalization)                                                                                    \n",
      "                                                                                                  \n",
      " conv2d_14 (Conv2D)             (None, 8, 8, 256)    590080      ['batch_normalization_13[0][0]'] \n",
      "                                                                                                  \n",
      " batch_normalization_14 (BatchN  (None, 8, 8, 256)   1024        ['conv2d_14[0][0]']              \n",
      " ormalization)                                                                                    \n",
      "                                                                                                  \n",
      " conv2d_15 (Conv2D)             (None, 8, 8, 256)    65792       ['batch_normalization_14[0][0]'] \n",
      "                                                                                                  \n",
      " batch_normalization_15 (BatchN  (None, 8, 8, 256)   1024        ['conv2d_15[0][0]']              \n",
      " ormalization)                                                                                    \n",
      "                                                                                                  \n",
      " max_pooling2d_1 (MaxPooling2D)  (None, 4, 4, 256)   0           ['batch_normalization_15[0][0]'] \n",
      "                                                                                                  \n",
      " flatten (Flatten)              (None, 4096)         0           ['max_pooling2d_1[0][0]']        \n",
      "                                                                                                  \n",
      " dense_4 (Dense)                (None, 1024)         4195328     ['flatten[0][0]']                \n",
      "                                                                                                  \n",
      " dense_5 (Dense)                (None, 512)          524800      ['dense_4[0][0]']                \n",
      "                                                                                                  \n",
      " dense_6 (Dense)                (None, 7)            3591        ['dense_5[0][0]']                \n",
      "                                                                                                  \n",
      "==================================================================================================\n",
      "Total params: 58,802,697\n",
      "Trainable params: 58,691,209\n",
      "Non-trainable params: 111,488\n",
      "__________________________________________________________________________________________________\n"
     ]
    }
   ],
   "source": [
    "model_rn101_sea.summary()"
   ]
  },
  {
   "cell_type": "code",
   "execution_count": 22,
   "id": "2637e3b1",
   "metadata": {
    "execution": {
     "iopub.execute_input": "2023-05-23T06:09:13.003357Z",
     "iopub.status.busy": "2023-05-23T06:09:13.002753Z",
     "iopub.status.idle": "2023-05-23T06:09:13.042340Z",
     "shell.execute_reply": "2023-05-23T06:09:13.041456Z"
    },
    "id": "WR0fUpy18vAZ",
    "papermill": {
     "duration": 0.085977,
     "end_time": "2023-05-23T06:09:13.045151",
     "exception": false,
     "start_time": "2023-05-23T06:09:12.959174",
     "status": "completed"
    },
    "tags": []
   },
   "outputs": [],
   "source": [
    "opt1=tf.keras.optimizers.Adam(learning_rate=0.001,epsilon=0.1)\n",
    "model_rn101_sea.compile(optimizer=opt1,\n",
    "             loss='categorical_crossentropy',\n",
    "             metrics=['accuracy'])"
   ]
  },
  {
   "cell_type": "code",
   "execution_count": 23,
   "id": "20dfbb6c",
   "metadata": {
    "execution": {
     "iopub.execute_input": "2023-05-23T06:09:13.131482Z",
     "iopub.status.busy": "2023-05-23T06:09:13.130987Z",
     "iopub.status.idle": "2023-05-23T06:09:13.136727Z",
     "shell.execute_reply": "2023-05-23T06:09:13.135877Z"
    },
    "id": "LAf5ha295reS",
    "papermill": {
     "duration": 0.051685,
     "end_time": "2023-05-23T06:09:13.141173",
     "exception": false,
     "start_time": "2023-05-23T06:09:13.089488",
     "status": "completed"
    },
    "tags": []
   },
   "outputs": [],
   "source": [
    "class_weights = {   \n",
    "                    0: 1.0,  # akiec\n",
    "                    1: 1.0,  # bcc\n",
    "                    2: 1.0,  # bkl\n",
    "                    3: 1.0,  # df\n",
    "                    4: 1.0,  # mel\n",
    "                    5: 1.0,  # nv\n",
    "                    6: 1.0  # vasc\n",
    "                }"
   ]
  },
  {
   "cell_type": "code",
   "execution_count": 24,
   "id": "b954da65",
   "metadata": {
    "execution": {
     "iopub.execute_input": "2023-05-23T06:09:13.226182Z",
     "iopub.status.busy": "2023-05-23T06:09:13.225632Z",
     "iopub.status.idle": "2023-05-23T06:09:13.231522Z",
     "shell.execute_reply": "2023-05-23T06:09:13.230722Z"
    },
    "papermill": {
     "duration": 0.052926,
     "end_time": "2023-05-23T06:09:13.235798",
     "exception": false,
     "start_time": "2023-05-23T06:09:13.182872",
     "status": "completed"
    },
    "tags": []
   },
   "outputs": [],
   "source": [
    "checkpoint = ModelCheckpoint(filepath ='RN101_SEA.hdf5', monitor='val_accuracy', save_best_only=True, save_weights_only=True)\n",
    "Earlystop = EarlyStopping(monitor='val_accuracy', mode='max', patience=25, min_delta=0.01)"
   ]
  },
  {
   "cell_type": "code",
   "execution_count": 25,
   "id": "d8202243",
   "metadata": {
    "execution": {
     "iopub.execute_input": "2023-05-23T06:09:13.314054Z",
     "iopub.status.busy": "2023-05-23T06:09:13.313563Z",
     "iopub.status.idle": "2023-05-23T15:00:13.831908Z",
     "shell.execute_reply": "2023-05-23T15:00:13.830946Z"
    },
    "id": "NUzTmiZ-8hL3",
    "outputId": "e1825ff2-9f9c-436f-cf2c-9776af8eee62",
    "papermill": {
     "duration": 31860.593503,
     "end_time": "2023-05-23T15:00:13.868150",
     "exception": false,
     "start_time": "2023-05-23T06:09:13.274647",
     "status": "completed"
    },
    "tags": []
   },
   "outputs": [
    {
     "name": "stdout",
     "output_type": "stream",
     "text": [
      "Epoch 1/50\n",
      "3424/3424 - 772s - loss: 1.2210 - accuracy: 0.5413 - val_loss: 5.7504 - val_accuracy: 0.8585 - 772s/epoch - 225ms/step\n",
      "Epoch 2/50\n",
      "3424/3424 - 671s - loss: 0.8336 - accuracy: 0.6902 - val_loss: 0.7853 - val_accuracy: 0.7497 - 671s/epoch - 196ms/step\n",
      "Epoch 3/50\n",
      "3424/3424 - 671s - loss: 1.0814 - accuracy: 0.5883 - val_loss: 0.6759 - val_accuracy: 0.8356 - 671s/epoch - 196ms/step\n",
      "Epoch 4/50\n",
      "3424/3424 - 672s - loss: 0.8349 - accuracy: 0.6829 - val_loss: 0.5393 - val_accuracy: 0.8089 - 672s/epoch - 196ms/step\n",
      "Epoch 5/50\n",
      "3424/3424 - 670s - loss: 0.7344 - accuracy: 0.7186 - val_loss: 2.7371 - val_accuracy: 0.8404 - 670s/epoch - 196ms/step\n",
      "Epoch 6/50\n",
      "3424/3424 - 670s - loss: 0.7269 - accuracy: 0.7235 - val_loss: 3.0169 - val_accuracy: 0.7509 - 670s/epoch - 196ms/step\n",
      "Epoch 7/50\n",
      "3424/3424 - 669s - loss: 0.6529 - accuracy: 0.7507 - val_loss: 1.2469 - val_accuracy: 0.8295 - 669s/epoch - 196ms/step\n",
      "Epoch 8/50\n",
      "3424/3424 - 668s - loss: 0.5611 - accuracy: 0.7897 - val_loss: 3.9649 - val_accuracy: 0.7594 - 668s/epoch - 195ms/step\n",
      "Epoch 9/50\n",
      "3424/3424 - 671s - loss: 0.4376 - accuracy: 0.8339 - val_loss: 0.5144 - val_accuracy: 0.8525 - 671s/epoch - 196ms/step\n",
      "Epoch 10/50\n",
      "3424/3424 - 671s - loss: 0.2944 - accuracy: 0.8890 - val_loss: 1.0702 - val_accuracy: 0.8440 - 671s/epoch - 196ms/step\n",
      "Epoch 11/50\n",
      "3424/3424 - 671s - loss: 0.2415 - accuracy: 0.9098 - val_loss: 0.9416 - val_accuracy: 0.8585 - 671s/epoch - 196ms/step\n",
      "Epoch 12/50\n",
      "3424/3424 - 670s - loss: 0.2873 - accuracy: 0.8934 - val_loss: 0.4866 - val_accuracy: 0.8476 - 670s/epoch - 196ms/step\n",
      "Epoch 13/50\n",
      "3424/3424 - 669s - loss: 0.2190 - accuracy: 0.9199 - val_loss: 3.8806 - val_accuracy: 0.6179 - 669s/epoch - 195ms/step\n",
      "Epoch 14/50\n",
      "3424/3424 - 669s - loss: 0.1963 - accuracy: 0.9283 - val_loss: 1.1353 - val_accuracy: 0.7848 - 669s/epoch - 195ms/step\n",
      "Epoch 15/50\n",
      "3424/3424 - 668s - loss: 0.1550 - accuracy: 0.9417 - val_loss: 0.9522 - val_accuracy: 0.8549 - 668s/epoch - 195ms/step\n",
      "Epoch 16/50\n",
      "3424/3424 - 671s - loss: 0.1270 - accuracy: 0.9539 - val_loss: 1.0314 - val_accuracy: 0.8380 - 671s/epoch - 196ms/step\n",
      "Epoch 17/50\n",
      "3424/3424 - 672s - loss: 0.1110 - accuracy: 0.9595 - val_loss: 1.5568 - val_accuracy: 0.8525 - 672s/epoch - 196ms/step\n",
      "Epoch 18/50\n",
      "3424/3424 - 671s - loss: 0.1023 - accuracy: 0.9628 - val_loss: 0.6031 - val_accuracy: 0.8609 - 671s/epoch - 196ms/step\n",
      "Epoch 19/50\n",
      "3424/3424 - 670s - loss: 0.0718 - accuracy: 0.9739 - val_loss: 0.6123 - val_accuracy: 0.8718 - 670s/epoch - 196ms/step\n",
      "Epoch 20/50\n",
      "3424/3424 - 668s - loss: 0.0581 - accuracy: 0.9799 - val_loss: 0.5815 - val_accuracy: 0.8694 - 668s/epoch - 195ms/step\n",
      "Epoch 21/50\n",
      "3424/3424 - 672s - loss: 0.0580 - accuracy: 0.9794 - val_loss: 0.6040 - val_accuracy: 0.8646 - 672s/epoch - 196ms/step\n",
      "Epoch 22/50\n",
      "3424/3424 - 671s - loss: 0.0416 - accuracy: 0.9853 - val_loss: 0.5514 - val_accuracy: 0.8839 - 671s/epoch - 196ms/step\n",
      "Epoch 23/50\n",
      "3424/3424 - 670s - loss: 0.0363 - accuracy: 0.9876 - val_loss: 0.6414 - val_accuracy: 0.8706 - 670s/epoch - 196ms/step\n",
      "Epoch 24/50\n",
      "3424/3424 - 669s - loss: 0.0299 - accuracy: 0.9900 - val_loss: 0.6803 - val_accuracy: 0.8767 - 669s/epoch - 195ms/step\n",
      "Epoch 25/50\n",
      "3424/3424 - 670s - loss: 0.0278 - accuracy: 0.9899 - val_loss: 0.6256 - val_accuracy: 0.8791 - 670s/epoch - 196ms/step\n",
      "Epoch 26/50\n",
      "3424/3424 - 670s - loss: 0.0305 - accuracy: 0.9893 - val_loss: 0.7215 - val_accuracy: 0.8646 - 670s/epoch - 196ms/step\n",
      "Epoch 27/50\n",
      "3424/3424 - 670s - loss: 0.0240 - accuracy: 0.9915 - val_loss: 0.8011 - val_accuracy: 0.8464 - 670s/epoch - 196ms/step\n",
      "Epoch 28/50\n",
      "3424/3424 - 670s - loss: 0.0205 - accuracy: 0.9930 - val_loss: 1.3767 - val_accuracy: 0.6119 - 670s/epoch - 196ms/step\n",
      "Epoch 29/50\n",
      "3424/3424 - 671s - loss: 0.0241 - accuracy: 0.9915 - val_loss: 0.6480 - val_accuracy: 0.8827 - 671s/epoch - 196ms/step\n",
      "Epoch 30/50\n",
      "3424/3424 - 671s - loss: 0.0194 - accuracy: 0.9933 - val_loss: 0.6327 - val_accuracy: 0.8755 - 671s/epoch - 196ms/step\n",
      "Epoch 31/50\n",
      "3424/3424 - 670s - loss: 0.0162 - accuracy: 0.9944 - val_loss: 0.6826 - val_accuracy: 0.8791 - 670s/epoch - 196ms/step\n",
      "Epoch 32/50\n",
      "3424/3424 - 672s - loss: 0.0156 - accuracy: 0.9945 - val_loss: 0.6562 - val_accuracy: 0.8827 - 672s/epoch - 196ms/step\n",
      "Epoch 33/50\n",
      "3424/3424 - 671s - loss: 0.0150 - accuracy: 0.9952 - val_loss: 0.6386 - val_accuracy: 0.8767 - 671s/epoch - 196ms/step\n",
      "Epoch 34/50\n",
      "3424/3424 - 672s - loss: 0.0146 - accuracy: 0.9951 - val_loss: 0.6877 - val_accuracy: 0.8755 - 672s/epoch - 196ms/step\n",
      "Epoch 35/50\n",
      "3424/3424 - 673s - loss: 0.0112 - accuracy: 0.9963 - val_loss: 0.7671 - val_accuracy: 0.8791 - 673s/epoch - 196ms/step\n",
      "Epoch 36/50\n",
      "3424/3424 - 671s - loss: 0.0135 - accuracy: 0.9952 - val_loss: 0.7103 - val_accuracy: 0.8803 - 671s/epoch - 196ms/step\n",
      "Epoch 37/50\n",
      "3424/3424 - 671s - loss: 0.0102 - accuracy: 0.9966 - val_loss: 0.7109 - val_accuracy: 0.8706 - 671s/epoch - 196ms/step\n",
      "Epoch 38/50\n",
      "3424/3424 - 671s - loss: 0.0153 - accuracy: 0.9946 - val_loss: 0.7588 - val_accuracy: 0.8585 - 671s/epoch - 196ms/step\n",
      "Epoch 39/50\n",
      "3424/3424 - 672s - loss: 0.0125 - accuracy: 0.9959 - val_loss: 0.6752 - val_accuracy: 0.8851 - 672s/epoch - 196ms/step\n",
      "Epoch 40/50\n",
      "3424/3424 - 672s - loss: 0.0090 - accuracy: 0.9971 - val_loss: 0.6590 - val_accuracy: 0.8924 - 672s/epoch - 196ms/step\n",
      "Epoch 41/50\n",
      "3424/3424 - 668s - loss: 0.0105 - accuracy: 0.9965 - val_loss: 0.6999 - val_accuracy: 0.8875 - 668s/epoch - 195ms/step\n",
      "Epoch 42/50\n",
      "3424/3424 - 668s - loss: 0.0097 - accuracy: 0.9970 - val_loss: 0.6201 - val_accuracy: 0.8827 - 668s/epoch - 195ms/step\n",
      "Epoch 43/50\n",
      "3424/3424 - 670s - loss: 0.0061 - accuracy: 0.9980 - val_loss: 0.7303 - val_accuracy: 0.8888 - 670s/epoch - 196ms/step\n",
      "Epoch 44/50\n",
      "3424/3424 - 669s - loss: 0.0076 - accuracy: 0.9978 - val_loss: 0.6939 - val_accuracy: 0.8863 - 669s/epoch - 195ms/step\n",
      "Epoch 45/50\n",
      "3424/3424 - 668s - loss: 0.0064 - accuracy: 0.9978 - val_loss: 0.7121 - val_accuracy: 0.8839 - 668s/epoch - 195ms/step\n",
      "Epoch 46/50\n",
      "3424/3424 - 670s - loss: 0.0064 - accuracy: 0.9978 - val_loss: 0.7583 - val_accuracy: 0.8924 - 670s/epoch - 196ms/step\n",
      "Epoch 47/50\n",
      "3424/3424 - 669s - loss: 0.0082 - accuracy: 0.9971 - val_loss: 0.8294 - val_accuracy: 0.8718 - 669s/epoch - 195ms/step\n"
     ]
    }
   ],
   "source": [
    "history = model_rn101_sea.fit(train_batches,\n",
    "                         epochs=50,\n",
    "                         verbose=2,\n",
    "                         validation_data=val_batches,\n",
    "                         callbacks=[checkpoint,Earlystop],\n",
    "                         class_weight=class_weights)"
   ]
  },
  {
   "cell_type": "markdown",
   "id": "6eddeec4",
   "metadata": {
    "papermill": {
     "duration": 0.034406,
     "end_time": "2023-05-23T15:00:13.937321",
     "exception": false,
     "start_time": "2023-05-23T15:00:13.902915",
     "status": "completed"
    },
    "tags": []
   },
   "source": [
    "### Plotting accuracy and loss"
   ]
  },
  {
   "cell_type": "code",
   "execution_count": 26,
   "id": "6d219b6f",
   "metadata": {
    "execution": {
     "iopub.execute_input": "2023-05-23T15:00:14.006830Z",
     "iopub.status.busy": "2023-05-23T15:00:14.005845Z",
     "iopub.status.idle": "2023-05-23T15:00:27.610614Z",
     "shell.execute_reply": "2023-05-23T15:00:27.609733Z"
    },
    "papermill": {
     "duration": 13.642325,
     "end_time": "2023-05-23T15:00:27.613288",
     "exception": false,
     "start_time": "2023-05-23T15:00:13.970963",
     "status": "completed"
    },
    "tags": []
   },
   "outputs": [
    {
     "name": "stdout",
     "output_type": "stream",
     "text": [
      "Number of epochs trained: 47\n"
     ]
    },
    {
     "data": {
      "image/png": "[encoded data removed]",
      "text/plain": [
       "<Figure size 1500x500 with 2 Axes>"
      ]
     },
     "metadata": {},
     "output_type": "display_data"
    }
   ],
   "source": [
    "# Determine number of epochs trained\n",
    "num_epochs_trained = len(history.history['val_loss'])\n",
    "print(f\"Number of epochs trained: {num_epochs_trained}\")\n",
    "\n",
    "## History plotting\n",
    "epochs = [i for i in range(num_epochs_trained)]\n",
    "fig , ax = plt.subplots(1,2)\n",
    "train_acc = history.history['accuracy']\n",
    "train_loss = history.history['loss']\n",
    "val_acc = history.history['val_accuracy']\n",
    "val_loss = history.history['val_loss']\n",
    "fig.set_size_inches(15,5)\n",
    "\n",
    "ax[0].plot(epochs , train_acc , 'go-' , label = 'Training Accuracy')\n",
    "ax[0].plot(epochs , val_acc , 'ro-' , label = 'Validation Accuracy')\n",
    "title_font = {'fontname':'Times New Roman', 'size':'14', 'color':'black', 'weight':'normal'}\n",
    "ax[0].set_title('Model Accuracy', fontdict=title_font)\n",
    "legend_font = {'family': 'Times New Roman', 'size': '12', 'weight': 'normal'}\n",
    "ax[0].legend(prop=legend_font)\n",
    "label_font = {'fontname':'Times New Roman', 'size':'12', 'color':'black', 'weight':'normal'}\n",
    "ax[0].set_xlabel(\"Epochs\",  fontdict=label_font)\n",
    "ax[0].set_ylabel(\"Accuracy\",  fontdict=label_font)\n",
    "\n",
    "ax[1].plot(epochs , train_loss , 'g-o' , label = 'Training Loss')\n",
    "ax[1].plot(epochs , val_loss , 'r-o' , label = 'Validation Loss')\n",
    "ax[1].set_title('Model Loss', fontdict=title_font)\n",
    "ax[1].legend(prop=legend_font)\n",
    "ax[1].set_xlabel(\"Epochs\", fontdict=label_font)\n",
    "ax[1].set_ylabel(\"Loss\", fontdict=label_font)\n",
    "plt.show()"
   ]
  },
  {
   "cell_type": "code",
   "execution_count": 27,
   "id": "84560295",
   "metadata": {
    "execution": {
     "iopub.execute_input": "2023-05-23T15:00:27.685839Z",
     "iopub.status.busy": "2023-05-23T15:00:27.685557Z",
     "iopub.status.idle": "2023-05-23T15:00:28.421108Z",
     "shell.execute_reply": "2023-05-23T15:00:28.420155Z"
    },
    "id": "zm_AewFBXTj8",
    "papermill": {
     "duration": 0.774671,
     "end_time": "2023-05-23T15:00:28.423669",
     "exception": false,
     "start_time": "2023-05-23T15:00:27.648998",
     "status": "completed"
    },
    "tags": []
   },
   "outputs": [],
   "source": [
    "from tensorflow.keras import models\n",
    "model_rn101_sea.load_weights(\"RN101_SEA.hdf5\")"
   ]
  },
  {
   "cell_type": "code",
   "execution_count": 28,
   "id": "7055b9d3",
   "metadata": {
    "execution": {
     "iopub.execute_input": "2023-05-23T15:00:28.495738Z",
     "iopub.status.busy": "2023-05-23T15:00:28.495417Z",
     "iopub.status.idle": "2023-05-23T15:00:44.854315Z",
     "shell.execute_reply": "2023-05-23T15:00:44.853387Z"
    },
    "papermill": {
     "duration": 16.397084,
     "end_time": "2023-05-23T15:00:44.856421",
     "exception": false,
     "start_time": "2023-05-23T15:00:28.459337",
     "status": "completed"
    },
    "tags": []
   },
   "outputs": [
    {
     "name": "stdout",
     "output_type": "stream",
     "text": [
      "52/52 [==============================] - 16s 267ms/step\n"
     ]
    }
   ],
   "source": [
    "predictions = model_rn101_sea.predict(test_batches)"
   ]
  },
  {
   "cell_type": "code",
   "execution_count": 29,
   "id": "0eb94cfb",
   "metadata": {
    "execution": {
     "iopub.execute_input": "2023-05-23T15:00:44.936193Z",
     "iopub.status.busy": "2023-05-23T15:00:44.935357Z",
     "iopub.status.idle": "2023-05-23T15:00:44.940488Z",
     "shell.execute_reply": "2023-05-23T15:00:44.939533Z"
    },
    "id": "FDTMtBeTdBfU",
    "papermill": {
     "duration": 0.046493,
     "end_time": "2023-05-23T15:00:44.942388",
     "exception": false,
     "start_time": "2023-05-23T15:00:44.895895",
     "status": "completed"
    },
    "tags": []
   },
   "outputs": [],
   "source": [
    "#geting predictions on test dataset\n",
    "y_pred = np.argmax(predictions, axis=1)\n",
    "#getting the true labels per image \n",
    "y_true = test_batches.classes\n",
    "#getting the predicted labels per image \n",
    "y_prob = predictions"
   ]
  },
  {
   "cell_type": "code",
   "execution_count": 30,
   "id": "babc6bc5",
   "metadata": {
    "execution": {
     "iopub.execute_input": "2023-05-23T15:00:45.024525Z",
     "iopub.status.busy": "2023-05-23T15:00:45.023599Z",
     "iopub.status.idle": "2023-05-23T15:00:45.042850Z",
     "shell.execute_reply": "2023-05-23T15:00:45.041443Z"
    },
    "papermill": {
     "duration": 0.063579,
     "end_time": "2023-05-23T15:00:45.045409",
     "exception": false,
     "start_time": "2023-05-23T15:00:44.981830",
     "status": "completed"
    },
    "tags": []
   },
   "outputs": [
    {
     "name": "stdout",
     "output_type": "stream",
     "text": [
      "\n",
      "Classification Report:\n",
      "              precision    recall  f1-score   support\n",
      "\n",
      "          AK       0.83      0.45      0.59        22\n",
      "         BCC       0.74      0.74      0.74        27\n",
      "         BKL       0.57      0.67      0.62        66\n",
      "          DF       0.83      0.83      0.83         6\n",
      "         MEL       0.59      0.46      0.52        35\n",
      "          NV       0.95      0.96      0.96       663\n",
      "        VASC       1.00      1.00      1.00         9\n",
      "\n",
      "    accuracy                           0.90       828\n",
      "   macro avg       0.79      0.73      0.75       828\n",
      "weighted avg       0.90      0.90      0.89       828\n",
      "\n"
     ]
    }
   ],
   "source": [
    "classnames = ['AK', 'BCC', 'BKL', 'DF', 'MEL', 'NV', 'VASC']\n",
    "\n",
    "from tensorflow.keras.utils import to_categorical\n",
    "y_test = to_categorical(y_true)\n",
    "\n",
    "report = classification_report(y_true, y_pred, target_names=classnames)\n",
    "\n",
    "print(\"\\nClassification Report:\")\n",
    "print(report)"
   ]
  },
  {
   "cell_type": "code",
   "execution_count": 31,
   "id": "cfc56d41",
   "metadata": {
    "execution": {
     "iopub.execute_input": "2023-05-23T15:00:45.134850Z",
     "iopub.status.busy": "2023-05-23T15:00:45.134520Z",
     "iopub.status.idle": "2023-05-23T15:00:45.707171Z",
     "shell.execute_reply": "2023-05-23T15:00:45.706163Z"
    },
    "papermill": {
     "duration": 0.618027,
     "end_time": "2023-05-23T15:00:45.709339",
     "exception": false,
     "start_time": "2023-05-23T15:00:45.091312",
     "status": "completed"
    },
    "tags": []
   },
   "outputs": [
    {
     "data": {
      "image/png": "[encoded data removed]",
      "text/plain": [
       "<Figure size 1000x400 with 2 Axes>"
      ]
     },
     "metadata": {},
     "output_type": "display_data"
    }
   ],
   "source": [
    "## Confusion Matrix\n",
    "title_font = {'fontname':'Times New Roman', 'size':'14', 'color':'black', 'weight':'normal'}\n",
    "label_font = {'fontname':'Times New Roman', 'size':'12', 'color':'black', 'weight':'normal'}\n",
    "\n",
    "from sklearn.metrics import confusion_matrix\n",
    "import seaborn as sns\n",
    "# Creating confusion matrix \n",
    "cm = confusion_matrix(y_true, y_pred)\n",
    "# Plotting the confusion matrix\n",
    "plt.figure(figsize=(10,4))\n",
    "sns.heatmap(cm, annot=True, fmt='g', cmap='Blues', xticklabels=targetnames, yticklabels=targetnames)\n",
    "plt.xlabel('Predicted Label', fontdict=label_font)\n",
    "plt.ylabel('True Label', fontdict=label_font)\n",
    "plt.title('Confusion Matrix', fontdict=title_font)\n",
    "plt.show()"
   ]
  },
  {
   "cell_type": "markdown",
   "id": "8fc67938",
   "metadata": {
    "papermill": {
     "duration": 0.039977,
     "end_time": "2023-05-23T15:00:45.790216",
     "exception": false,
     "start_time": "2023-05-23T15:00:45.750239",
     "status": "completed"
    },
    "tags": []
   },
   "source": [
    "## Results"
   ]
  },
  {
   "cell_type": "markdown",
   "id": "6c671970",
   "metadata": {
    "papermill": {
     "duration": 0.039684,
     "end_time": "2023-05-23T15:00:45.869699",
     "exception": false,
     "start_time": "2023-05-23T15:00:45.830015",
     "status": "completed"
    },
    "tags": []
   },
   "source": [
    "### Individual Class Accuracy "
   ]
  },
  {
   "cell_type": "code",
   "execution_count": 32,
   "id": "aaa25eb2",
   "metadata": {
    "execution": {
     "iopub.execute_input": "2023-05-23T15:00:45.951314Z",
     "iopub.status.busy": "2023-05-23T15:00:45.950284Z",
     "iopub.status.idle": "2023-05-23T15:00:45.958569Z",
     "shell.execute_reply": "2023-05-23T15:00:45.957500Z"
    },
    "papermill": {
     "duration": 0.050943,
     "end_time": "2023-05-23T15:00:45.960689",
     "exception": false,
     "start_time": "2023-05-23T15:00:45.909746",
     "status": "completed"
    },
    "tags": []
   },
   "outputs": [
    {
     "name": "stdout",
     "output_type": "stream",
     "text": [
      "Overall accuracy: 89.61%\n",
      "Accuracy for each class:\n",
      "Class 0: 45.45%\n",
      "Class 1: 74.07%\n",
      "Class 2: 66.67%\n",
      "Class 3: 83.33%\n",
      "Class 4: 45.71%\n",
      "Class 5: 96.23%\n",
      "Class 6: 100.00%\n"
     ]
    }
   ],
   "source": [
    "# y_true are the true labels of the test set\n",
    "# y_pred are the predicted labels of the test set\n",
    "accuracy = accuracy_score(y_true, y_pred)\n",
    "# Calculate accuracy for each class\n",
    "class_accuracy = cm.diagonal()/cm.sum(axis=1)\n",
    "print(\"Overall accuracy: {:.2f}%\".format(accuracy*100))\n",
    "print(\"Accuracy for each class:\")\n",
    "for i, acc in enumerate(class_accuracy):\n",
    "    print(\"Class {}: {:.2f}%\".format(i, acc*100))"
   ]
  },
  {
   "cell_type": "markdown",
   "id": "9519a526",
   "metadata": {
    "papermill": {
     "duration": 0.038629,
     "end_time": "2023-05-23T15:00:46.039337",
     "exception": false,
     "start_time": "2023-05-23T15:00:46.000708",
     "status": "completed"
    },
    "tags": []
   },
   "source": [
    "### Individual Class Weighted Precision"
   ]
  },
  {
   "cell_type": "code",
   "execution_count": 33,
   "id": "4def5d4d",
   "metadata": {
    "execution": {
     "iopub.execute_input": "2023-05-23T15:00:46.119119Z",
     "iopub.status.busy": "2023-05-23T15:00:46.118724Z",
     "iopub.status.idle": "2023-05-23T15:00:46.135095Z",
     "shell.execute_reply": "2023-05-23T15:00:46.133480Z"
    },
    "papermill": {
     "duration": 0.058132,
     "end_time": "2023-05-23T15:00:46.137037",
     "exception": false,
     "start_time": "2023-05-23T15:00:46.078905",
     "status": "completed"
    },
    "tags": []
   },
   "outputs": [
    {
     "name": "stdout",
     "output_type": "stream",
     "text": [
      "Weighted precision for each class:\n",
      "Class 0: 83.33%\n",
      "Class 1: 74.07%\n",
      "Class 2: 57.14%\n",
      "Class 3: 83.33%\n",
      "Class 4: 59.26%\n",
      "Class 5: 95.22%\n",
      "Class 6: 100.00%\n",
      "Weighted precision: 89.63%\n"
     ]
    }
   ],
   "source": [
    "report = classification_report(y_true, y_pred, output_dict=True)\n",
    "# Extract weighted precision for each class\n",
    "class_precision = {}\n",
    "for class_label in report.keys():\n",
    "    if class_label == 'weighted avg':\n",
    "        class_precision['weighted'] = report[class_label]['precision']\n",
    "    elif class_label.isdigit():\n",
    "        class_precision[int(class_label)] = report[class_label]['precision']\n",
    "print(\"Weighted precision for each class:\")\n",
    "for i, precision in class_precision.items():\n",
    "    if i == 'weighted':\n",
    "        print(\"Weighted precision: {:.2f}%\".format(precision*100))\n",
    "    else:\n",
    "        print(\"Class {}: {:.2f}%\".format(i, precision*100))"
   ]
  },
  {
   "cell_type": "markdown",
   "id": "38ffa020",
   "metadata": {
    "papermill": {
     "duration": 0.038873,
     "end_time": "2023-05-23T15:00:46.215458",
     "exception": false,
     "start_time": "2023-05-23T15:00:46.176585",
     "status": "completed"
    },
    "tags": []
   },
   "source": [
    "### Individual Class Weighted Recall"
   ]
  },
  {
   "cell_type": "code",
   "execution_count": 34,
   "id": "82c825a8",
   "metadata": {
    "execution": {
     "iopub.execute_input": "2023-05-23T15:00:46.297623Z",
     "iopub.status.busy": "2023-05-23T15:00:46.297270Z",
     "iopub.status.idle": "2023-05-23T15:00:46.313135Z",
     "shell.execute_reply": "2023-05-23T15:00:46.311864Z"
    },
    "papermill": {
     "duration": 0.059262,
     "end_time": "2023-05-23T15:00:46.315279",
     "exception": false,
     "start_time": "2023-05-23T15:00:46.256017",
     "status": "completed"
    },
    "tags": []
   },
   "outputs": [
    {
     "name": "stdout",
     "output_type": "stream",
     "text": [
      "Weighted recall for each class:\n",
      "Class 0: 45.45%\n",
      "Class 1: 74.07%\n",
      "Class 2: 66.67%\n",
      "Class 3: 83.33%\n",
      "Class 4: 45.71%\n",
      "Class 5: 96.23%\n",
      "Class 6: 100.00%\n",
      "Weighted Recall: 89.61%\n"
     ]
    }
   ],
   "source": [
    "report = classification_report(y_true, y_pred, output_dict=True)\n",
    "# Extract weighted recall for each class\n",
    "class_recall = {}\n",
    "for class_label in report.keys():\n",
    "    if class_label == 'weighted avg':\n",
    "        class_recall['weighted'] = report[class_label]['recall']\n",
    "    elif class_label.isdigit():\n",
    "        class_recall[int(class_label)] = report[class_label]['recall']\n",
    "print(\"Weighted recall for each class:\")\n",
    "for i, recall in class_recall.items():\n",
    "    if i == 'weighted':\n",
    "        print(\"Weighted Recall: {:.2f}%\".format(recall*100))\n",
    "    else:\n",
    "        print(\"Class {}: {:.2f}%\".format(i, recall*100))"
   ]
  },
  {
   "cell_type": "markdown",
   "id": "f2751f61",
   "metadata": {
    "papermill": {
     "duration": 0.039019,
     "end_time": "2023-05-23T15:00:46.394610",
     "exception": false,
     "start_time": "2023-05-23T15:00:46.355591",
     "status": "completed"
    },
    "tags": []
   },
   "source": [
    "### Individual Class Weighted F1-score"
   ]
  },
  {
   "cell_type": "code",
   "execution_count": 35,
   "id": "c8023ebb",
   "metadata": {
    "execution": {
     "iopub.execute_input": "2023-05-23T15:00:46.474027Z",
     "iopub.status.busy": "2023-05-23T15:00:46.473674Z",
     "iopub.status.idle": "2023-05-23T15:00:46.489031Z",
     "shell.execute_reply": "2023-05-23T15:00:46.488049Z"
    },
    "papermill": {
     "duration": 0.057404,
     "end_time": "2023-05-23T15:00:46.491167",
     "exception": false,
     "start_time": "2023-05-23T15:00:46.433763",
     "status": "completed"
    },
    "tags": []
   },
   "outputs": [
    {
     "name": "stdout",
     "output_type": "stream",
     "text": [
      "Weighted F1-score for each class:\n",
      "Class 0: 58.82%\n",
      "Class 1: 74.07%\n",
      "Class 2: 61.54%\n",
      "Class 3: 83.33%\n",
      "Class 4: 51.61%\n",
      "Class 5: 95.72%\n",
      "Class 6: 100.00%\n",
      "Weighted F1-score: 89.40%\n"
     ]
    }
   ],
   "source": [
    "report = classification_report(y_true, y_pred, output_dict=True)\n",
    "# Extract weighted F1-score for each class\n",
    "class_f1 = {}\n",
    "for class_label in report.keys():\n",
    "    if class_label == 'weighted avg':\n",
    "        class_f1['weighted'] = report[class_label]['f1-score']\n",
    "    elif class_label.isdigit():\n",
    "        class_f1[int(class_label)] = report[class_label]['f1-score']\n",
    "print(\"Weighted F1-score for each class:\")\n",
    "for i, f1_score in class_f1.items():\n",
    "    if i == 'weighted':\n",
    "        print(\"Weighted F1-score: {:.2f}%\".format(f1_score*100))\n",
    "    else:\n",
    "        print(\"Class {}: {:.2f}%\".format(i, f1_score*100))"
   ]
  },
  {
   "cell_type": "markdown",
   "id": "1bb5f8f9",
   "metadata": {
    "papermill": {
     "duration": 0.038639,
     "end_time": "2023-05-23T15:00:46.569862",
     "exception": false,
     "start_time": "2023-05-23T15:00:46.531223",
     "status": "completed"
    },
    "tags": []
   },
   "source": [
    "### Individual Class Precision, Recall and F1-score"
   ]
  },
  {
   "cell_type": "code",
   "execution_count": 36,
   "id": "02a5f7ba",
   "metadata": {
    "execution": {
     "iopub.execute_input": "2023-05-23T15:00:46.650003Z",
     "iopub.status.busy": "2023-05-23T15:00:46.649135Z",
     "iopub.status.idle": "2023-05-23T15:00:46.658449Z",
     "shell.execute_reply": "2023-05-23T15:00:46.657290Z"
    },
    "papermill": {
     "duration": 0.051688,
     "end_time": "2023-05-23T15:00:46.660516",
     "exception": false,
     "start_time": "2023-05-23T15:00:46.608828",
     "status": "completed"
    },
    "tags": []
   },
   "outputs": [
    {
     "name": "stdout",
     "output_type": "stream",
     "text": [
      "Class-wise weighted precision, recall, and F1-score:\n",
      "Class 0: Precision=0.83, Recall=0.45, F1-score=0.59\n",
      "Class 1: Precision=0.74, Recall=0.74, F1-score=0.74\n",
      "Class 2: Precision=0.57, Recall=0.67, F1-score=0.62\n",
      "Class 3: Precision=0.83, Recall=0.83, F1-score=0.83\n",
      "Class 4: Precision=0.59, Recall=0.46, F1-score=0.52\n",
      "Class 5: Precision=0.95, Recall=0.96, F1-score=0.96\n",
      "Class 6: Precision=1.00, Recall=1.00, F1-score=1.00\n"
     ]
    }
   ],
   "source": [
    "from sklearn.metrics import precision_recall_fscore_support\n",
    "\n",
    "precision_class, recall_class, f1_class, support_class = precision_recall_fscore_support(y_true, y_pred, average=None)\n",
    "print('Class-wise weighted precision, recall, and F1-score:')\n",
    "for i in range(len(precision_class)):\n",
    "    print('Class {}: Precision={:.2f}, Recall={:.2f}, F1-score={:.2f}'.format(i, precision_class[i], recall_class[i], f1_class[i]))\n"
   ]
  },
  {
   "cell_type": "markdown",
   "id": "4da15acb",
   "metadata": {
    "papermill": {
     "duration": 0.040698,
     "end_time": "2023-05-23T15:00:46.743197",
     "exception": false,
     "start_time": "2023-05-23T15:00:46.702499",
     "status": "completed"
    },
    "tags": []
   },
   "source": [
    "### Individual Class Weighted Sensitivity"
   ]
  },
  {
   "cell_type": "code",
   "execution_count": 37,
   "id": "5e48963a",
   "metadata": {
    "execution": {
     "iopub.execute_input": "2023-05-23T15:00:46.823840Z",
     "iopub.status.busy": "2023-05-23T15:00:46.823503Z",
     "iopub.status.idle": "2023-05-23T15:00:47.751888Z",
     "shell.execute_reply": "2023-05-23T15:00:47.750833Z"
    },
    "papermill": {
     "duration": 0.971602,
     "end_time": "2023-05-23T15:00:47.754134",
     "exception": false,
     "start_time": "2023-05-23T15:00:46.782532",
     "status": "completed"
    },
    "tags": []
   },
   "outputs": [
    {
     "name": "stdout",
     "output_type": "stream",
     "text": [
      "Weighted Sensitivity:  0.8961352657004831\n",
      "Class  0 :sensitivity = 0.45454545454545453\n",
      "Class  1 :sensitivity = 0.7407407407407407\n",
      "Class  2 :sensitivity = 0.6666666666666666\n",
      "Class  3 :sensitivity = 0.8333333333333334\n",
      "Class  4 :sensitivity = 0.45714285714285713\n",
      "Class  5 :sensitivity = 0.9622926093514329\n",
      "Class  6 :sensitivity = 1.0\n"
     ]
    }
   ],
   "source": [
    "from imblearn.metrics import sensitivity_score\n",
    "\n",
    "sensitivity = sensitivity_score(y_true, y_pred, average='weighted')\n",
    "print(\"Weighted Sensitivity: \", sensitivity)\n",
    "\n",
    "# Calculate class-wise sensitivity\n",
    "sensitivity = sensitivity_score(y_true, y_pred, average=None)\n",
    "\n",
    "# Print sensitivity score for each class\n",
    "for i in range(len(sensitivity)):\n",
    "    print(\"Class \", i, \":sensitivity =\", sensitivity[i])"
   ]
  },
  {
   "cell_type": "markdown",
   "id": "ab7c6c53",
   "metadata": {
    "papermill": {
     "duration": 0.039252,
     "end_time": "2023-05-23T15:00:47.834458",
     "exception": false,
     "start_time": "2023-05-23T15:00:47.795206",
     "status": "completed"
    },
    "tags": []
   },
   "source": [
    "### Individual Class Weighted Specificity"
   ]
  },
  {
   "cell_type": "code",
   "execution_count": 38,
   "id": "55723bdc",
   "metadata": {
    "execution": {
     "iopub.execute_input": "2023-05-23T15:00:47.916214Z",
     "iopub.status.busy": "2023-05-23T15:00:47.915861Z",
     "iopub.status.idle": "2023-05-23T15:00:47.926857Z",
     "shell.execute_reply": "2023-05-23T15:00:47.925679Z"
    },
    "papermill": {
     "duration": 0.054524,
     "end_time": "2023-05-23T15:00:47.928937",
     "exception": false,
     "start_time": "2023-05-23T15:00:47.874413",
     "status": "completed"
    },
    "tags": []
   },
   "outputs": [
    {
     "name": "stdout",
     "output_type": "stream",
     "text": [
      "Weighted Specificity:  0.8403098684737018\n",
      "Class  0 :specificity= 0.9975186104218362\n",
      "Class  1 :specificity= 0.9912609238451935\n",
      "Class  2 :specificity= 0.9566929133858267\n",
      "Class  3 :specificity= 0.9987834549878345\n",
      "Class  4 :specificity= 0.9861286254728878\n",
      "Class  5 :specificity= 0.806060606060606\n",
      "Class  6 :specificity= 1.0\n"
     ]
    }
   ],
   "source": [
    "from imblearn.metrics import specificity_score\n",
    "\n",
    "specificity = specificity_score(y_true, y_pred, average='weighted')\n",
    "print(\"Weighted Specificity: \", specificity)\n",
    "\n",
    "# Calculate class-wise specificity\n",
    "specificity = specificity_score(y_true, y_pred, average=None)\n",
    "\n",
    "# Print sensitivity score for each class\n",
    "for i in range(len(specificity)):\n",
    "    print(\"Class \", i, \":specificity=\", specificity[i])"
   ]
  },
  {
   "cell_type": "markdown",
   "id": "6e843c6c",
   "metadata": {
    "papermill": {
     "duration": 0.039313,
     "end_time": "2023-05-23T15:00:48.010529",
     "exception": false,
     "start_time": "2023-05-23T15:00:47.971216",
     "status": "completed"
    },
    "tags": []
   },
   "source": [
    "### Accuracy"
   ]
  },
  {
   "cell_type": "code",
   "execution_count": 39,
   "id": "45a888cd",
   "metadata": {
    "execution": {
     "iopub.execute_input": "2023-05-23T15:00:48.092341Z",
     "iopub.status.busy": "2023-05-23T15:00:48.091298Z",
     "iopub.status.idle": "2023-05-23T15:00:48.098163Z",
     "shell.execute_reply": "2023-05-23T15:00:48.097123Z"
    },
    "papermill": {
     "duration": 0.049879,
     "end_time": "2023-05-23T15:00:48.100304",
     "exception": false,
     "start_time": "2023-05-23T15:00:48.050425",
     "status": "completed"
    },
    "tags": []
   },
   "outputs": [
    {
     "name": "stdout",
     "output_type": "stream",
     "text": [
      "Accuracy: 0.8961352657004831\n"
     ]
    }
   ],
   "source": [
    "print(\"Accuracy: \" + str(accuracy_score(y_true, y_pred)))\n",
    "import numpy as np\n",
    "from sklearn.metrics import accuracy_score"
   ]
  },
  {
   "cell_type": "code",
   "execution_count": 40,
   "id": "212ca5cd",
   "metadata": {
    "execution": {
     "iopub.execute_input": "2023-05-23T15:00:48.182858Z",
     "iopub.status.busy": "2023-05-23T15:00:48.182539Z",
     "iopub.status.idle": "2023-05-23T15:00:48.203745Z",
     "shell.execute_reply": "2023-05-23T15:00:48.202827Z"
    },
    "papermill": {
     "duration": 0.063857,
     "end_time": "2023-05-23T15:00:48.205845",
     "exception": false,
     "start_time": "2023-05-23T15:00:48.141988",
     "status": "completed"
    },
    "tags": []
   },
   "outputs": [
    {
     "name": "stdout",
     "output_type": "stream",
     "text": [
      "Top-1 Accuracy: 0.8961352657004831\n",
      "Top-2 Accuracy: 0.9637681159420289\n",
      "Top-3 Accuracy: 0.9782608695652174\n"
     ]
    }
   ],
   "source": [
    "# Calculate top-1 accuracy\n",
    "top1_acc = accuracy_score(y_true, y_pred)\n",
    "print(\"Top-1 Accuracy:\", top1_acc)\n",
    "\n",
    "# Calculate top-2 accuracy\n",
    "y_pred_top2 = np.argsort(-predictions, axis=1)[:, :2] # Get the top 2 predicted classes\n",
    "top2_acc = np.mean(np.array([y_true[i] in y_pred_top2[i] for i in range(len(y_true))]))\n",
    "print(\"Top-2 Accuracy:\", top2_acc)\n",
    "\n",
    "# Calculate top-3 accuracy\n",
    "y_pred_top3 = np.argsort(-predictions, axis=1)[:, :3] # Get the top 3 predicted classes\n",
    "top3_acc = np.mean(np.array([y_true[i] in y_pred_top3[i] for i in range(len(y_true))]))\n",
    "print(\"Top-3 Accuracy:\", top3_acc)\n",
    "from sklearn.metrics import f1_score"
   ]
  },
  {
   "cell_type": "markdown",
   "id": "3d82e4f5",
   "metadata": {
    "papermill": {
     "duration": 0.03956,
     "end_time": "2023-05-23T15:00:48.286652",
     "exception": false,
     "start_time": "2023-05-23T15:00:48.247092",
     "status": "completed"
    },
    "tags": []
   },
   "source": [
    "### Weighted Evaluation Measures"
   ]
  },
  {
   "cell_type": "code",
   "execution_count": 41,
   "id": "a3750737",
   "metadata": {
    "execution": {
     "iopub.execute_input": "2023-05-23T15:00:48.367860Z",
     "iopub.status.busy": "2023-05-23T15:00:48.367184Z",
     "iopub.status.idle": "2023-05-23T15:00:48.397730Z",
     "shell.execute_reply": "2023-05-23T15:00:48.396396Z"
    },
    "papermill": {
     "duration": 0.073911,
     "end_time": "2023-05-23T15:00:48.400021",
     "exception": false,
     "start_time": "2023-05-23T15:00:48.326110",
     "status": "completed"
    },
    "tags": []
   },
   "outputs": [
    {
     "name": "stdout",
     "output_type": "stream",
     "text": [
      "Weighted Precision: 0.8962834397905419\n",
      "Weighted Recall: 0.8961352657004831\n",
      "Weighted F1-Score: 0.8940467869934892\n",
      "Weighted Sensitivity: 0.8961352657004831\n",
      "Weighted Specificity: 0.8403098684737018\n",
      "weighted Roc score: 0.9637334625178242\n"
     ]
    }
   ],
   "source": [
    "print(\"Weighted Precision: \"+ str(precision_score(y_true, y_pred, average='weighted')))\n",
    "print(\"Weighted Recall: \"+ str(recall_score(y_true, y_pred, average='weighted')))\n",
    "print(\"Weighted F1-Score: \"+ str(f1_score(y_true, y_pred, average='weighted')))\n",
    "print(\"Weighted Sensitivity: \"+ str(sensitivity_score(y_true, y_pred, average='weighted')))\n",
    "print(\"Weighted Specificity: \"+ str(specificity_score(y_true, y_pred, average='weighted')))\n",
    "print(\"weighted Roc score: \" + str(roc_auc_score(y_true,y_prob,multi_class='ovr',average='weighted')))"
   ]
  },
  {
   "cell_type": "markdown",
   "id": "c55e6606",
   "metadata": {
    "papermill": {
     "duration": 0.043066,
     "end_time": "2023-05-23T15:00:48.487045",
     "exception": false,
     "start_time": "2023-05-23T15:00:48.443979",
     "status": "completed"
    },
    "tags": []
   },
   "source": [
    "### Macro Evaluation Measures"
   ]
  },
  {
   "cell_type": "code",
   "execution_count": 42,
   "id": "3f8d574e",
   "metadata": {
    "execution": {
     "iopub.execute_input": "2023-05-23T15:00:48.579033Z",
     "iopub.status.busy": "2023-05-23T15:00:48.578638Z",
     "iopub.status.idle": "2023-05-23T15:00:48.606866Z",
     "shell.execute_reply": "2023-05-23T15:00:48.605831Z"
    },
    "papermill": {
     "duration": 0.07566,
     "end_time": "2023-05-23T15:00:48.608955",
     "exception": false,
     "start_time": "2023-05-23T15:00:48.533295",
     "status": "completed"
    },
    "tags": []
   },
   "outputs": [
    {
     "name": "stdout",
     "output_type": "stream",
     "text": [
      "Macro Precision: 0.7890953396283887\n",
      "Macro Recall: 0.7306745231114979\n",
      "Macro F1-Score: 0.7501517608088368\n",
      "Macro Sensitivity: 0.7306745231114979\n",
      "Macro Specificity: 0.9623493048820263\n",
      "Macro Roc score: 0.9675214045194221\n"
     ]
    }
   ],
   "source": [
    "print(\"Macro Precision: \"+ str(precision_score(y_true, y_pred, average='macro')))\n",
    "print(\"Macro Recall: \"+ str(recall_score(y_true, y_pred, average='macro')))\n",
    "print(\"Macro F1-Score: \"+ str(f1_score(y_true, y_pred, average='macro')))\n",
    "print(\"Macro Sensitivity: \"+ str(sensitivity_score(y_true, y_pred, average='macro')))\n",
    "print(\"Macro Specificity: \"+ str(specificity_score(y_true, y_pred, average='macro')))\n",
    "print(\"Macro Roc score: \" + str(roc_auc_score(y_true,y_prob,multi_class='ovr',average='macro')))"
   ]
  },
  {
   "cell_type": "markdown",
   "id": "23f2d167",
   "metadata": {
    "papermill": {
     "duration": 0.046838,
     "end_time": "2023-05-23T15:00:48.699034",
     "exception": false,
     "start_time": "2023-05-23T15:00:48.652196",
     "status": "completed"
    },
    "tags": []
   },
   "source": [
    "### Micro Evaluation Measures"
   ]
  },
  {
   "cell_type": "code",
   "execution_count": 43,
   "id": "cc098764",
   "metadata": {
    "execution": {
     "iopub.execute_input": "2023-05-23T15:00:48.793843Z",
     "iopub.status.busy": "2023-05-23T15:00:48.793442Z",
     "iopub.status.idle": "2023-05-23T15:00:48.813281Z",
     "shell.execute_reply": "2023-05-23T15:00:48.811940Z"
    },
    "papermill": {
     "duration": 0.068984,
     "end_time": "2023-05-23T15:00:48.815757",
     "exception": false,
     "start_time": "2023-05-23T15:00:48.746773",
     "status": "completed"
    },
    "tags": []
   },
   "outputs": [
    {
     "name": "stdout",
     "output_type": "stream",
     "text": [
      "Micro Precision: 0.8961352657004831\n",
      "Micro Recall: 0.8961352657004831\n",
      "Micro F1-Score: 0.8961352657004831\n",
      "Micro Sensitivity: 0.8961352657004831\n",
      "Micro Specificity: 0.9826892109500805\n"
     ]
    }
   ],
   "source": [
    "print(\"Micro Precision: \"+ str(precision_score(y_true, y_pred, average='micro')))\n",
    "print(\"Micro Recall: \"+ str(recall_score(y_true, y_pred, average='micro')))\n",
    "print(\"Micro F1-Score: \"+ str(f1_score(y_true, y_pred, average='micro')))\n",
    "print(\"Micro Sensitivity: \"+ str(sensitivity_score(y_true, y_pred, average='micro')))\n",
    "print(\"Micro Specificity: \"+ str(specificity_score(y_true, y_pred, average='micro')))"
   ]
  },
  {
   "cell_type": "markdown",
   "id": "68dd30d6",
   "metadata": {
    "papermill": {
     "duration": 0.045949,
     "end_time": "2023-05-23T15:00:48.909236",
     "exception": false,
     "start_time": "2023-05-23T15:00:48.863287",
     "status": "completed"
    },
    "tags": []
   },
   "source": [
    "## ROC"
   ]
  },
  {
   "cell_type": "markdown",
   "id": "8a91d0d1",
   "metadata": {
    "papermill": {
     "duration": 0.042942,
     "end_time": "2023-05-23T15:00:48.996066",
     "exception": false,
     "start_time": "2023-05-23T15:00:48.953124",
     "status": "completed"
    },
    "tags": []
   },
   "source": [
    "### Compute ROC curve and ROC area for each class"
   ]
  },
  {
   "cell_type": "code",
   "execution_count": 44,
   "id": "09eabe95",
   "metadata": {
    "execution": {
     "iopub.execute_input": "2023-05-23T15:00:49.084432Z",
     "iopub.status.busy": "2023-05-23T15:00:49.083455Z",
     "iopub.status.idle": "2023-05-23T15:00:49.390953Z",
     "shell.execute_reply": "2023-05-23T15:00:49.389863Z"
    },
    "papermill": {
     "duration": 0.355499,
     "end_time": "2023-05-23T15:00:49.393043",
     "exception": false,
     "start_time": "2023-05-23T15:00:49.037544",
     "status": "completed"
    },
    "tags": []
   },
   "outputs": [
    {
     "data": {
      "image/png": "[encoded data removed]",
      "text/plain": [
       "<Figure size 640x480 with 1 Axes>"
      ]
     },
     "metadata": {},
     "output_type": "display_data"
    }
   ],
   "source": [
    "fpr = {}\n",
    "tpr = {}\n",
    "roc_auc = dict()\n",
    "for i in range(num_classes):\n",
    "    fpr[i], tpr[i], _ = roc_curve(y_test[:, i], y_prob[:, i], drop_intermediate=False)\n",
    "    roc_auc[i] = auc(fpr[i], tpr[i])\n",
    "\n",
    "\n",
    "# plot the ROC curve for each class\n",
    "for i in range(7):\n",
    "    plt.plot(fpr[i], tpr[i], label='Class {}: AUC={:.3f}'.format(i, roc_auc[i]))\n",
    "\n",
    "plt.xlabel('False Positive Rate')\n",
    "plt.ylabel('True Positive Rate')\n",
    "plt.legend()\n",
    "plt.show()"
   ]
  },
  {
   "cell_type": "markdown",
   "id": "1c9b0b8c",
   "metadata": {
    "papermill": {
     "duration": 0.04234,
     "end_time": "2023-05-23T15:00:49.478486",
     "exception": false,
     "start_time": "2023-05-23T15:00:49.436146",
     "status": "completed"
    },
    "tags": []
   },
   "source": [
    "## MCC and Kappa Score"
   ]
  },
  {
   "cell_type": "code",
   "execution_count": 45,
   "id": "50730c10",
   "metadata": {
    "execution": {
     "iopub.execute_input": "2023-05-23T15:00:49.564986Z",
     "iopub.status.busy": "2023-05-23T15:00:49.564611Z",
     "iopub.status.idle": "2023-05-23T15:00:49.574438Z",
     "shell.execute_reply": "2023-05-23T15:00:49.573342Z"
    },
    "papermill": {
     "duration": 0.05489,
     "end_time": "2023-05-23T15:00:49.576502",
     "exception": false,
     "start_time": "2023-05-23T15:00:49.521612",
     "status": "completed"
    },
    "tags": []
   },
   "outputs": [
    {
     "name": "stdout",
     "output_type": "stream",
     "text": [
      "MCC: 69.67%\n",
      "Kappa Score: 69.60%\n"
     ]
    }
   ],
   "source": [
    "from sklearn.metrics import matthews_corrcoef, cohen_kappa_score\n",
    "\n",
    "# y_true are the true labels of the test set\n",
    "# y_pred are the predicted labels of the test set\n",
    "mcc = matthews_corrcoef(y_true, y_pred)\n",
    "kappa = cohen_kappa_score(y_true, y_pred)\n",
    "print(\"MCC: {:.2f}%\".format(mcc*100))\n",
    "print(\"Kappa Score: {:.2f}%\".format(kappa*100))"
   ]
  },
  {
   "cell_type": "code",
   "execution_count": 46,
   "id": "d565c4a1",
   "metadata": {
    "execution": {
     "iopub.execute_input": "2023-05-23T15:00:49.660278Z",
     "iopub.status.busy": "2023-05-23T15:00:49.659451Z",
     "iopub.status.idle": "2023-05-23T15:00:49.727142Z",
     "shell.execute_reply": "2023-05-23T15:00:49.725938Z"
    },
    "papermill": {
     "duration": 0.111042,
     "end_time": "2023-05-23T15:00:49.729120",
     "exception": false,
     "start_time": "2023-05-23T15:00:49.618078",
     "status": "completed"
    },
    "tags": []
   },
   "outputs": [
    {
     "name": "stdout",
     "output_type": "stream",
     "text": [
      "MCC per class:\n",
      "Class 0: 60.83%\n",
      "Class 1: 73.20%\n",
      "Class 2: 58.13%\n",
      "Class 3: 83.21%\n",
      "Class 4: 50.22%\n",
      "Class 5: 78.11%\n",
      "Class 6: 100.00%\n",
      "Kappa Score per class:\n",
      "Class 0: 58.04%\n",
      "Class 1: 73.20%\n",
      "Class 2: 57.93%\n",
      "Class 3: 83.21%\n",
      "Class 4: 49.76%\n",
      "Class 5: 78.08%\n",
      "Class 6: 100.00%\n"
     ]
    }
   ],
   "source": [
    "### Individual Class Wise MCC and Kappa\n",
    "\n",
    "from sklearn.metrics import confusion_matrix, matthews_corrcoef, cohen_kappa_score\n",
    "# y_true are the true labels of the test set\n",
    "# y_pred are the predicted labels of the test set\n",
    "conf_mat = confusion_matrix(y_true, y_pred)\n",
    "mcc_per_class = {}\n",
    "kappa_per_class = {}\n",
    "\n",
    "for i in range(len(conf_mat)):\n",
    "    tp = conf_mat[i][i]\n",
    "    fp = sum(conf_mat[:, i]) - tp\n",
    "    fn = sum(conf_mat[i, :]) - tp\n",
    "    tn = sum(sum(conf_mat)) - tp - fp - fn\n",
    "\n",
    "    mcc_per_class[i] = matthews_corrcoef([1 if x==i else 0 for x in y_true], [1 if x==i else 0 for x in y_pred])\n",
    "    kappa_per_class[i] = cohen_kappa_score([1 if x==i else 0 for x in y_true], [1 if x==i else 0 for x in y_pred])\n",
    "\n",
    "print(\"MCC per class:\")\n",
    "for i, mcc in mcc_per_class.items():\n",
    "    print(\"Class {}: {:.2f}%\".format(i, mcc*100))\n",
    "\n",
    "print(\"Kappa Score per class:\")\n",
    "for i, kappa in kappa_per_class.items():\n",
    "    print(\"Class {}: {:.2f}%\".format(i, kappa*100))"
   ]
  },
  {
   "cell_type": "code",
   "execution_count": null,
   "id": "49117b9b",
   "metadata": {
    "papermill": {
     "duration": 0.04068,
     "end_time": "2023-05-23T15:00:49.816888",
     "exception": false,
     "start_time": "2023-05-23T15:00:49.776208",
     "status": "completed"
    },
    "tags": []
   },
   "outputs": [],
   "source": []
  }
 ],
 "metadata": {
  "kernelspec": {
   "display_name": "Python 3",
   "language": "python",
   "name": "python3"
  },
  "language_info": {
   "codemirror_mode": {
    "name": "ipython",
    "version": 3
   },
   "file_extension": ".py",
   "mimetype": "text/x-python",
   "name": "python",
   "nbconvert_exporter": "python",
   "pygments_lexer": "ipython3",
   "version": "3.10.10"
  },
  "papermill": {
   "default_parameters": {},
   "duration": 31985.593338,
   "end_time": "2023-05-23T15:00:53.249129",
   "environment_variables": {},
   "exception": null,
   "input_path": "__notebook__.ipynb",
   "output_path": "__notebook__.ipynb",
   "parameters": {},
   "start_time": "2023-05-23T06:07:47.655791",
   "version": "2.4.0"
  }
 },
 "nbformat": 4,
 "nbformat_minor": 5
}
