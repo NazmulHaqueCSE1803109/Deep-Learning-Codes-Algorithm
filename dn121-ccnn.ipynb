{
 "cells": [
  {
   "cell_type": "markdown",
   "id": "7f84fa2f",
   "metadata": {
    "papermill": {
     "duration": 0.01407,
     "end_time": "2023-05-27T18:04:44.218062",
     "exception": false,
     "start_time": "2023-05-27T18:04:44.203992",
     "status": "completed"
    },
    "tags": []
   },
   "source": [
    "# Libraries"
   ]
  },
  {
   "cell_type": "code",
   "execution_count": 1,
   "id": "944c582a",
   "metadata": {
    "execution": {
     "iopub.execute_input": "2023-05-27T18:04:44.247092Z",
     "iopub.status.busy": "2023-05-27T18:04:44.246413Z",
     "iopub.status.idle": "2023-05-27T18:04:53.574392Z",
     "shell.execute_reply": "2023-05-27T18:04:53.573196Z"
    },
    "id": "Aa36bMKLze3z",
    "papermill": {
     "duration": 9.346866,
     "end_time": "2023-05-27T18:04:53.578628",
     "exception": false,
     "start_time": "2023-05-27T18:04:44.231762",
     "status": "completed"
    },
    "tags": []
   },
   "outputs": [
    {
     "name": "stderr",
     "output_type": "stream",
     "text": [
      "/opt/conda/lib/python3.10/site-packages/tensorflow_io/python/ops/__init__.py:98: UserWarning: unable to load libtensorflow_io_plugins.so: unable to open file: libtensorflow_io_plugins.so, from paths: ['/opt/conda/lib/python3.10/site-packages/tensorflow_io/python/ops/libtensorflow_io_plugins.so']\n",
      "caused by: ['/opt/conda/lib/python3.10/site-packages/tensorflow_io/python/ops/libtensorflow_io_plugins.so: undefined symbol: _ZN3tsl6StatusC1EN10tensorflow5error4CodeESt17basic_string_viewIcSt11char_traitsIcEENS_14SourceLocationE']\n",
      "  warnings.warn(f\"unable to load libtensorflow_io_plugins.so: {e}\")\n",
      "/opt/conda/lib/python3.10/site-packages/tensorflow_io/python/ops/__init__.py:104: UserWarning: file system plugins are not loaded: unable to open file: libtensorflow_io.so, from paths: ['/opt/conda/lib/python3.10/site-packages/tensorflow_io/python/ops/libtensorflow_io.so']\n",
      "caused by: ['/opt/conda/lib/python3.10/site-packages/tensorflow_io/python/ops/libtensorflow_io.so: undefined symbol: _ZTVN10tensorflow13GcsFileSystemE']\n",
      "  warnings.warn(f\"file system plugins are not loaded: {e}\")\n"
     ]
    }
   ],
   "source": [
    "import pandas as pd\n",
    "import numpy as np\n",
    "import os\n",
    "import tensorflow as tf\n",
    "import cv2\n",
    "from keras import backend as K\n",
    "from keras.layers import Layer, InputSpec\n",
    "import keras.layers as kl\n",
    "from glob import glob\n",
    "from sklearn.metrics import roc_curve, auc\n",
    "from keras.preprocessing import image\n",
    "from tensorflow.keras.models import Sequential\n",
    "from sklearn.metrics import roc_auc_score\n",
    "from tensorflow.keras import callbacks \n",
    "from tensorflow.keras.callbacks import ModelCheckpoint, EarlyStopping\n",
    "from  matplotlib import pyplot as plt\n",
    "from tensorflow.keras import Model\n",
    "from tensorflow.keras.layers import concatenate, Dense, Conv2D, MaxPooling2D, Flatten, Input, Activation, add, AveragePooling2D, BatchNormalization, Dropout\n",
    "%matplotlib inline\n",
    "import shutil\n",
    "from sklearn.metrics import  precision_score, recall_score, accuracy_score, classification_report, confusion_matrix\n",
    "from tensorflow.python.platform import build_info as tf_build_info\n",
    "from tensorflow.keras.preprocessing.image import ImageDataGenerator\n",
    "from sklearn.model_selection import train_test_split\n",
    "\n",
    "from PIL import ImageFile\n",
    "ImageFile.LOAD_TRUNCATED_IMAGES = True"
   ]
  },
  {
   "cell_type": "code",
   "execution_count": 2,
   "id": "18336095",
   "metadata": {
    "execution": {
     "iopub.execute_input": "2023-05-27T18:04:53.629154Z",
     "iopub.status.busy": "2023-05-27T18:04:53.628297Z",
     "iopub.status.idle": "2023-05-27T18:04:53.638294Z",
     "shell.execute_reply": "2023-05-27T18:04:53.637374Z"
    },
    "id": "PsoqCvNsgmHP",
    "papermill": {
     "duration": 0.03834,
     "end_time": "2023-05-27T18:04:53.641407",
     "exception": false,
     "start_time": "2023-05-27T18:04:53.603067",
     "status": "completed"
    },
    "tags": []
   },
   "outputs": [],
   "source": [
    "targetnames = ['akiec', 'bcc', 'bkl', 'df', 'mel', 'nv', 'vasc']\n",
    "batch_size = 16\n",
    "image_size = 224"
   ]
  },
  {
   "cell_type": "code",
   "execution_count": 3,
   "id": "f38b0dd5",
   "metadata": {
    "execution": {
     "iopub.execute_input": "2023-05-27T18:04:53.692187Z",
     "iopub.status.busy": "2023-05-27T18:04:53.691798Z",
     "iopub.status.idle": "2023-05-27T18:04:53.696313Z",
     "shell.execute_reply": "2023-05-27T18:04:53.695341Z"
    },
    "id": "wNisha_gM3_Z",
    "papermill": {
     "duration": 0.033561,
     "end_time": "2023-05-27T18:04:53.700542",
     "exception": false,
     "start_time": "2023-05-27T18:04:53.666981",
     "status": "completed"
    },
    "tags": []
   },
   "outputs": [],
   "source": [
    "train_path = '/kaggle/input/splitted-and-augmented-ham-15/Splitted_And_Augmented_HAM_15/HAM10K/train_dir'\n",
    "test_path = '/kaggle/input/splitted-and-augmented-ham-15/Splitted_And_Augmented_HAM_15/HAM10K/test_dir'\n",
    "val_path = '/kaggle/input/splitted-and-augmented-ham-15/Splitted_And_Augmented_HAM_15/HAM10K/val_dir'"
   ]
  },
  {
   "cell_type": "markdown",
   "id": "6bdf8426",
   "metadata": {
    "papermill": {
     "duration": 0.013068,
     "end_time": "2023-05-27T18:04:53.730339",
     "exception": false,
     "start_time": "2023-05-27T18:04:53.717271",
     "status": "completed"
    },
    "tags": []
   },
   "source": [
    "# Dataset generation (Train, Test, Validation)"
   ]
  },
  {
   "cell_type": "code",
   "execution_count": 4,
   "id": "e79d9c9e",
   "metadata": {
    "execution": {
     "iopub.execute_input": "2023-05-27T18:04:53.758530Z",
     "iopub.status.busy": "2023-05-27T18:04:53.757928Z",
     "iopub.status.idle": "2023-05-27T18:04:53.762264Z",
     "shell.execute_reply": "2023-05-27T18:04:53.761425Z"
    },
    "id": "zhQWqdRN79B3",
    "papermill": {
     "duration": 0.020346,
     "end_time": "2023-05-27T18:04:53.764183",
     "exception": false,
     "start_time": "2023-05-27T18:04:53.743837",
     "status": "completed"
    },
    "tags": []
   },
   "outputs": [],
   "source": [
    "datagen = ImageDataGenerator(preprocessing_function=tf.keras.applications.densenet.preprocess_input)"
   ]
  },
  {
   "cell_type": "code",
   "execution_count": 5,
   "id": "6caf880e",
   "metadata": {
    "execution": {
     "iopub.execute_input": "2023-05-27T18:04:53.791899Z",
     "iopub.status.busy": "2023-05-27T18:04:53.791400Z",
     "iopub.status.idle": "2023-05-27T18:05:16.842509Z",
     "shell.execute_reply": "2023-05-27T18:05:16.841633Z"
    },
    "id": "w9_8FvOO7Rtu",
    "outputId": "7ca88c24-fda8-45d6-cb32-f3a43ae6ba5b",
    "papermill": {
     "duration": 23.067143,
     "end_time": "2023-05-27T18:05:16.844530",
     "exception": false,
     "start_time": "2023-05-27T18:04:53.777387",
     "status": "completed"
    },
    "tags": []
   },
   "outputs": [
    {
     "name": "stdout",
     "output_type": "stream",
     "text": [
      "\n",
      "Train Batches: \n",
      "Found 54782 images belonging to 7 classes.\n",
      "\n",
      "Test Batches: \n",
      "Found 828 images belonging to 7 classes.\n",
      "\n",
      "Val Batches: \n",
      "Found 827 images belonging to 7 classes.\n"
     ]
    }
   ],
   "source": [
    "print(\"\\nTrain Batches: \")\n",
    "train_batches = datagen.flow_from_directory(directory=train_path,\n",
    "                                            target_size=(image_size,image_size),\n",
    "                                            batch_size=batch_size,\n",
    "                                            shuffle=True)\n",
    "\n",
    "print(\"\\nTest Batches: \")\n",
    "test_batches = datagen.flow_from_directory(test_path,\n",
    "                                          target_size=(image_size,image_size),\n",
    "                                          batch_size=batch_size,\n",
    "                                          shuffle=False)\n",
    "print(\"\\nVal Batches: \")\n",
    "val_batches = datagen.flow_from_directory(val_path,\n",
    "                                         target_size=(image_size,image_size),\n",
    "                                         batch_size=batch_size,\n",
    "                                         shuffle=False)"
   ]
  },
  {
   "cell_type": "markdown",
   "id": "02553aa3",
   "metadata": {
    "papermill": {
     "duration": 0.013594,
     "end_time": "2023-05-27T18:05:16.872256",
     "exception": false,
     "start_time": "2023-05-27T18:05:16.858662",
     "status": "completed"
    },
    "tags": []
   },
   "source": [
    "# Main Model Creation"
   ]
  },
  {
   "cell_type": "code",
   "execution_count": 6,
   "id": "a6c90448",
   "metadata": {
    "execution": {
     "iopub.execute_input": "2023-05-27T18:05:16.901483Z",
     "iopub.status.busy": "2023-05-27T18:05:16.900905Z",
     "iopub.status.idle": "2023-05-27T18:05:23.536103Z",
     "shell.execute_reply": "2023-05-27T18:05:23.535154Z"
    },
    "id": "zhQWqdRN79B3",
    "papermill": {
     "duration": 6.652331,
     "end_time": "2023-05-27T18:05:23.538541",
     "exception": false,
     "start_time": "2023-05-27T18:05:16.886210",
     "status": "completed"
    },
    "tags": []
   },
   "outputs": [
    {
     "name": "stdout",
     "output_type": "stream",
     "text": [
      "Downloading data from https://storage.googleapis.com/tensorflow/keras-applications/densenet/densenet121_weights_tf_dim_ordering_tf_kernels_notop.h5\n",
      "29084464/29084464 [==============================] - 0s 0us/step\n"
     ]
    }
   ],
   "source": [
    "from tensorflow.keras.applications.densenet import DenseNet121\n",
    "# Create a new instance of DenseNet121\n",
    "DN121 = DenseNet121(weights='imagenet', include_top=False, input_shape=(image_size, image_size, 3), pooling='avg')"
   ]
  },
  {
   "cell_type": "markdown",
   "id": "6785b704",
   "metadata": {
    "papermill": {
     "duration": 0.014364,
     "end_time": "2023-05-27T18:05:23.567939",
     "exception": false,
     "start_time": "2023-05-27T18:05:23.553575",
     "status": "completed"
    },
    "tags": []
   },
   "source": [
    "## Fine tuning"
   ]
  },
  {
   "cell_type": "code",
   "execution_count": 7,
   "id": "5a0625b0",
   "metadata": {
    "execution": {
     "iopub.execute_input": "2023-05-27T18:05:23.598333Z",
     "iopub.status.busy": "2023-05-27T18:05:23.597492Z",
     "iopub.status.idle": "2023-05-27T18:05:23.603707Z",
     "shell.execute_reply": "2023-05-27T18:05:23.602792Z"
    },
    "id": "4d4Ta5LcSYaz",
    "papermill": {
     "duration": 0.023422,
     "end_time": "2023-05-27T18:05:23.605716",
     "exception": false,
     "start_time": "2023-05-27T18:05:23.582294",
     "status": "completed"
    },
    "tags": []
   },
   "outputs": [],
   "source": [
    "MainInput=Input(shape=(image_size, image_size, 3))"
   ]
  },
  {
   "cell_type": "code",
   "execution_count": 8,
   "id": "cca72da1",
   "metadata": {
    "execution": {
     "iopub.execute_input": "2023-05-27T18:05:23.635404Z",
     "iopub.status.busy": "2023-05-27T18:05:23.635143Z",
     "iopub.status.idle": "2023-05-27T18:05:24.549193Z",
     "shell.execute_reply": "2023-05-27T18:05:24.548258Z"
    },
    "papermill": {
     "duration": 0.931746,
     "end_time": "2023-05-27T18:05:24.551673",
     "exception": false,
     "start_time": "2023-05-27T18:05:23.619927",
     "status": "completed"
    },
    "tags": []
   },
   "outputs": [],
   "source": [
    "dn121 = DN121(MainInput)"
   ]
  },
  {
   "cell_type": "code",
   "execution_count": 9,
   "id": "a6765d48",
   "metadata": {
    "execution": {
     "iopub.execute_input": "2023-05-27T18:05:24.581824Z",
     "iopub.status.busy": "2023-05-27T18:05:24.581503Z",
     "iopub.status.idle": "2023-05-27T18:05:24.595575Z",
     "shell.execute_reply": "2023-05-27T18:05:24.594768Z"
    },
    "papermill": {
     "duration": 0.031297,
     "end_time": "2023-05-27T18:05:24.597617",
     "exception": false,
     "start_time": "2023-05-27T18:05:24.566320",
     "status": "completed"
    },
    "tags": []
   },
   "outputs": [],
   "source": [
    "# Reshape the tensor to have 4 dimensions\n",
    "from tensorflow.keras.layers import Reshape\n",
    "reshape = Reshape((16, 16, 4))(dn121)"
   ]
  },
  {
   "cell_type": "code",
   "execution_count": 10,
   "id": "848b0bd0",
   "metadata": {
    "execution": {
     "iopub.execute_input": "2023-05-27T18:05:24.627347Z",
     "iopub.status.busy": "2023-05-27T18:05:24.627066Z",
     "iopub.status.idle": "2023-05-27T18:05:24.719306Z",
     "shell.execute_reply": "2023-05-27T18:05:24.718294Z"
    },
    "id": "x8mS99J5SYbT",
    "papermill": {
     "duration": 0.109406,
     "end_time": "2023-05-27T18:05:24.721312",
     "exception": false,
     "start_time": "2023-05-27T18:05:24.611906",
     "status": "completed"
    },
    "tags": []
   },
   "outputs": [],
   "source": [
    "conv=(Conv2D(filters=128,kernel_size=(7,7), activation=\"relu\",padding=\"same\",kernel_initializer='he_normal')(reshape))\n",
    "conv=(BatchNormalization()(conv))\n",
    "conv=(Conv2D(filters=128,kernel_size=(5,5), activation=\"relu\",padding=\"same\",kernel_initializer='he_normal')(conv))\n",
    "conv=(BatchNormalization()(conv))\n",
    "conv=(Conv2D(filters=128,kernel_size=(3,3), activation=\"relu\",padding=\"same\",kernel_initializer='he_normal')(conv))\n",
    "conv=(BatchNormalization()(conv))\n",
    "conv=(Conv2D(filters=128,kernel_size=(1,1), activation=\"relu\",padding=\"same\",kernel_initializer='he_normal')(conv))\n",
    "conv=(BatchNormalization()(conv))"
   ]
  },
  {
   "cell_type": "code",
   "execution_count": 11,
   "id": "c7a023ce",
   "metadata": {
    "execution": {
     "iopub.execute_input": "2023-05-27T18:05:24.751988Z",
     "iopub.status.busy": "2023-05-27T18:05:24.751172Z",
     "iopub.status.idle": "2023-05-27T18:05:24.759308Z",
     "shell.execute_reply": "2023-05-27T18:05:24.758334Z"
    },
    "id": "wfhLPhssAm2S",
    "papermill": {
     "duration": 0.025512,
     "end_time": "2023-05-27T18:05:24.761372",
     "exception": false,
     "start_time": "2023-05-27T18:05:24.735860",
     "status": "completed"
    },
    "tags": []
   },
   "outputs": [],
   "source": [
    "conv=(MaxPooling2D(strides=(2, 2),padding=\"same\")(conv))"
   ]
  },
  {
   "cell_type": "code",
   "execution_count": 12,
   "id": "b571891f",
   "metadata": {
    "execution": {
     "iopub.execute_input": "2023-05-27T18:05:24.790770Z",
     "iopub.status.busy": "2023-05-27T18:05:24.790490Z",
     "iopub.status.idle": "2023-05-27T18:05:24.879595Z",
     "shell.execute_reply": "2023-05-27T18:05:24.878849Z"
    },
    "id": "sW4tKg9wSYbk",
    "papermill": {
     "duration": 0.106064,
     "end_time": "2023-05-27T18:05:24.881585",
     "exception": false,
     "start_time": "2023-05-27T18:05:24.775521",
     "status": "completed"
    },
    "tags": []
   },
   "outputs": [],
   "source": [
    "conv=(Conv2D(filters=256,kernel_size=(7,7), activation=\"relu\",padding=\"same\",kernel_initializer='he_normal')(conv))\n",
    "conv=(BatchNormalization()(conv))\n",
    "conv=(Conv2D(filters=256,kernel_size=(5,5), activation=\"relu\",padding=\"same\",kernel_initializer='he_normal')(conv))\n",
    "conv=(BatchNormalization()(conv))\n",
    "conv=(Conv2D(filters=256,kernel_size=(3,3), activation=\"relu\",padding=\"same\",kernel_initializer='he_normal')(conv))\n",
    "conv=(BatchNormalization()(conv))\n",
    "conv=(Conv2D(filters=256,kernel_size=(1,1), activation=\"relu\",padding=\"same\",kernel_initializer='he_normal')(conv))\n",
    "conv=(BatchNormalization()(conv))"
   ]
  },
  {
   "cell_type": "code",
   "execution_count": 13,
   "id": "413cae7a",
   "metadata": {
    "execution": {
     "iopub.execute_input": "2023-05-27T18:05:24.912594Z",
     "iopub.status.busy": "2023-05-27T18:05:24.911169Z",
     "iopub.status.idle": "2023-05-27T18:05:24.919688Z",
     "shell.execute_reply": "2023-05-27T18:05:24.918883Z"
    },
    "id": "eo8E7RxUSYcW",
    "papermill": {
     "duration": 0.025514,
     "end_time": "2023-05-27T18:05:24.921470",
     "exception": false,
     "start_time": "2023-05-27T18:05:24.895956",
     "status": "completed"
    },
    "tags": []
   },
   "outputs": [],
   "source": [
    "conv=(MaxPooling2D(pool_size=(2, 2),padding=\"same\")(conv))"
   ]
  },
  {
   "cell_type": "code",
   "execution_count": 14,
   "id": "7c1922cd",
   "metadata": {
    "execution": {
     "iopub.execute_input": "2023-05-27T18:05:24.951630Z",
     "iopub.status.busy": "2023-05-27T18:05:24.950844Z",
     "iopub.status.idle": "2023-05-27T18:05:24.955950Z",
     "shell.execute_reply": "2023-05-27T18:05:24.954992Z"
    },
    "papermill": {
     "duration": 0.022388,
     "end_time": "2023-05-27T18:05:24.958252",
     "exception": false,
     "start_time": "2023-05-27T18:05:24.935864",
     "status": "completed"
    },
    "tags": []
   },
   "outputs": [
    {
     "name": "stdout",
     "output_type": "stream",
     "text": [
      "7\n"
     ]
    }
   ],
   "source": [
    "num_classes = test_batches.num_classes\n",
    "print(num_classes)"
   ]
  },
  {
   "cell_type": "code",
   "execution_count": 15,
   "id": "291940cc",
   "metadata": {
    "execution": {
     "iopub.execute_input": "2023-05-27T18:05:24.988205Z",
     "iopub.status.busy": "2023-05-27T18:05:24.987944Z",
     "iopub.status.idle": "2023-05-27T18:05:25.033594Z",
     "shell.execute_reply": "2023-05-27T18:05:25.032772Z"
    },
    "id": "-EdFxKdgSYcf",
    "papermill": {
     "duration": 0.063038,
     "end_time": "2023-05-27T18:05:25.035651",
     "exception": false,
     "start_time": "2023-05-27T18:05:24.972613",
     "status": "completed"
    },
    "tags": []
   },
   "outputs": [],
   "source": [
    "conv=(Flatten()(conv))\n",
    "conv=(Dense(1024,activation=\"relu\")(conv))\n",
    "conv=(Dense(512,activation=\"relu\")(conv))\n",
    "conv=(Dense(num_classes, activation=\"softmax\")(conv))\n",
    "\n",
    "model_dn121 = Model(inputs=MainInput, outputs=conv)"
   ]
  },
  {
   "cell_type": "code",
   "execution_count": 16,
   "id": "e1c3d5d3",
   "metadata": {
    "execution": {
     "iopub.execute_input": "2023-05-27T18:05:25.065279Z",
     "iopub.status.busy": "2023-05-27T18:05:25.065012Z",
     "iopub.status.idle": "2023-05-27T18:05:25.173349Z",
     "shell.execute_reply": "2023-05-27T18:05:25.172243Z"
    },
    "id": "ba8ajOckSYcl",
    "outputId": "e69fa749-4741-4f49-ae3e-9f5479e809a8",
    "papermill": {
     "duration": 0.132498,
     "end_time": "2023-05-27T18:05:25.182438",
     "exception": false,
     "start_time": "2023-05-27T18:05:25.049940",
     "status": "completed"
    },
    "tags": []
   },
   "outputs": [
    {
     "name": "stdout",
     "output_type": "stream",
     "text": [
      "Model: \"model\"\n",
      "_________________________________________________________________\n",
      " Layer (type)                Output Shape              Param #   \n",
      "=================================================================\n",
      " input_2 (InputLayer)        [(None, 224, 224, 3)]     0         \n",
      "                                                                 \n",
      " densenet121 (Functional)    (None, 1024)              7037504   \n",
      "                                                                 \n",
      " reshape (Reshape)           (None, 16, 16, 4)         0         \n",
      "                                                                 \n",
      " conv2d (Conv2D)             (None, 16, 16, 128)       25216     \n",
      "                                                                 \n",
      " batch_normalization (BatchN  (None, 16, 16, 128)      512       \n",
      " ormalization)                                                   \n",
      "                                                                 \n",
      " conv2d_1 (Conv2D)           (None, 16, 16, 128)       409728    \n",
      "                                                                 \n",
      " batch_normalization_1 (Batc  (None, 16, 16, 128)      512       \n",
      " hNormalization)                                                 \n",
      "                                                                 \n",
      " conv2d_2 (Conv2D)           (None, 16, 16, 128)       147584    \n",
      "                                                                 \n",
      " batch_normalization_2 (Batc  (None, 16, 16, 128)      512       \n",
      " hNormalization)                                                 \n",
      "                                                                 \n",
      " conv2d_3 (Conv2D)           (None, 16, 16, 128)       16512     \n",
      "                                                                 \n",
      " batch_normalization_3 (Batc  (None, 16, 16, 128)      512       \n",
      " hNormalization)                                                 \n",
      "                                                                 \n",
      " max_pooling2d (MaxPooling2D  (None, 8, 8, 128)        0         \n",
      " )                                                               \n",
      "                                                                 \n",
      " conv2d_4 (Conv2D)           (None, 8, 8, 256)         1605888   \n",
      "                                                                 \n",
      " batch_normalization_4 (Batc  (None, 8, 8, 256)        1024      \n",
      " hNormalization)                                                 \n",
      "                                                                 \n",
      " conv2d_5 (Conv2D)           (None, 8, 8, 256)         1638656   \n",
      "                                                                 \n",
      " batch_normalization_5 (Batc  (None, 8, 8, 256)        1024      \n",
      " hNormalization)                                                 \n",
      "                                                                 \n",
      " conv2d_6 (Conv2D)           (None, 8, 8, 256)         590080    \n",
      "                                                                 \n",
      " batch_normalization_6 (Batc  (None, 8, 8, 256)        1024      \n",
      " hNormalization)                                                 \n",
      "                                                                 \n",
      " conv2d_7 (Conv2D)           (None, 8, 8, 256)         65792     \n",
      "                                                                 \n",
      " batch_normalization_7 (Batc  (None, 8, 8, 256)        1024      \n",
      " hNormalization)                                                 \n",
      "                                                                 \n",
      " max_pooling2d_1 (MaxPooling  (None, 4, 4, 256)        0         \n",
      " 2D)                                                             \n",
      "                                                                 \n",
      " flatten (Flatten)           (None, 4096)              0         \n",
      "                                                                 \n",
      " dense (Dense)               (None, 1024)              4195328   \n",
      "                                                                 \n",
      " dense_1 (Dense)             (None, 512)               524800    \n",
      "                                                                 \n",
      " dense_2 (Dense)             (None, 7)                 3591      \n",
      "                                                                 \n",
      "=================================================================\n",
      "Total params: 16,266,823\n",
      "Trainable params: 16,180,103\n",
      "Non-trainable params: 86,720\n",
      "_________________________________________________________________\n"
     ]
    }
   ],
   "source": [
    "model_dn121.summary()"
   ]
  },
  {
   "cell_type": "code",
   "execution_count": 17,
   "id": "ee5e66f3",
   "metadata": {
    "execution": {
     "iopub.execute_input": "2023-05-27T18:05:25.222351Z",
     "iopub.status.busy": "2023-05-27T18:05:25.222083Z",
     "iopub.status.idle": "2023-05-27T18:05:25.249346Z",
     "shell.execute_reply": "2023-05-27T18:05:25.248507Z"
    },
    "id": "WR0fUpy18vAZ",
    "papermill": {
     "duration": 0.049417,
     "end_time": "2023-05-27T18:05:25.251314",
     "exception": false,
     "start_time": "2023-05-27T18:05:25.201897",
     "status": "completed"
    },
    "tags": []
   },
   "outputs": [],
   "source": [
    "opt1=tf.keras.optimizers.Adam(learning_rate=0.001,epsilon=0.1)\n",
    "model_dn121.compile(optimizer=opt1,\n",
    "             loss='categorical_crossentropy',\n",
    "             metrics=['accuracy'])"
   ]
  },
  {
   "cell_type": "code",
   "execution_count": 18,
   "id": "f6c466b2",
   "metadata": {
    "execution": {
     "iopub.execute_input": "2023-05-27T18:05:25.291128Z",
     "iopub.status.busy": "2023-05-27T18:05:25.290627Z",
     "iopub.status.idle": "2023-05-27T18:05:25.295391Z",
     "shell.execute_reply": "2023-05-27T18:05:25.294453Z"
    },
    "id": "LAf5ha295reS",
    "papermill": {
     "duration": 0.026657,
     "end_time": "2023-05-27T18:05:25.297359",
     "exception": false,
     "start_time": "2023-05-27T18:05:25.270702",
     "status": "completed"
    },
    "tags": []
   },
   "outputs": [],
   "source": [
    "class_weights = {   \n",
    "                    0: 1.0,  # akiec\n",
    "                    1: 1.0,  # bcc\n",
    "                    2: 1.0,  # bkl\n",
    "                    3: 1.0,  # df\n",
    "                    4: 1.0,  # mel\n",
    "                    5: 1.0,  # nv\n",
    "                    6: 1.0  # vasc\n",
    "                }"
   ]
  },
  {
   "cell_type": "code",
   "execution_count": 19,
   "id": "78818497",
   "metadata": {
    "execution": {
     "iopub.execute_input": "2023-05-27T18:05:25.338243Z",
     "iopub.status.busy": "2023-05-27T18:05:25.337481Z",
     "iopub.status.idle": "2023-05-27T18:05:25.342509Z",
     "shell.execute_reply": "2023-05-27T18:05:25.341742Z"
    },
    "papermill": {
     "duration": 0.027406,
     "end_time": "2023-05-27T18:05:25.344569",
     "exception": false,
     "start_time": "2023-05-27T18:05:25.317163",
     "status": "completed"
    },
    "tags": []
   },
   "outputs": [],
   "source": [
    "checkpoint = ModelCheckpoint(filepath ='DN121.hdf5', monitor='val_accuracy', save_best_only=True, save_weights_only=True)\n",
    "Earlystop = EarlyStopping(monitor='val_loss', mode='min', patience=25, min_delta=0.001)"
   ]
  },
  {
   "cell_type": "code",
   "execution_count": 20,
   "id": "96ce7f4f",
   "metadata": {
    "execution": {
     "iopub.execute_input": "2023-05-27T18:05:25.385138Z",
     "iopub.status.busy": "2023-05-27T18:05:25.384858Z",
     "iopub.status.idle": "2023-05-27T21:43:48.700302Z",
     "shell.execute_reply": "2023-05-27T21:43:48.699069Z"
    },
    "id": "NUzTmiZ-8hL3",
    "outputId": "e1825ff2-9f9c-436f-cf2c-9776af8eee62",
    "papermill": {
     "duration": 13103.358194,
     "end_time": "2023-05-27T21:43:48.722289",
     "exception": false,
     "start_time": "2023-05-27T18:05:25.364095",
     "status": "completed"
    },
    "tags": []
   },
   "outputs": [
    {
     "name": "stdout",
     "output_type": "stream",
     "text": [
      "Epoch 1/50\n",
      "3424/3424 - 565s - loss: 0.8024 - accuracy: 0.7026 - val_loss: 0.5522 - val_accuracy: 0.8005 - 565s/epoch - 165ms/step\n",
      "Epoch 2/50\n",
      "3424/3424 - 460s - loss: 0.3676 - accuracy: 0.8645 - val_loss: 0.2949 - val_accuracy: 0.9129 - 460s/epoch - 134ms/step\n",
      "Epoch 3/50\n",
      "3424/3424 - 457s - loss: 0.2337 - accuracy: 0.9136 - val_loss: 0.3642 - val_accuracy: 0.8924 - 457s/epoch - 134ms/step\n",
      "Epoch 4/50\n",
      "3424/3424 - 456s - loss: 0.1671 - accuracy: 0.9392 - val_loss: 0.3732 - val_accuracy: 0.9105 - 456s/epoch - 133ms/step\n",
      "Epoch 5/50\n",
      "3424/3424 - 458s - loss: 0.1248 - accuracy: 0.9539 - val_loss: 0.4142 - val_accuracy: 0.8839 - 458s/epoch - 134ms/step\n",
      "Epoch 6/50\n",
      "3424/3424 - 460s - loss: 0.1010 - accuracy: 0.9641 - val_loss: 0.4005 - val_accuracy: 0.9045 - 460s/epoch - 134ms/step\n",
      "Epoch 7/50\n",
      "3424/3424 - 457s - loss: 0.0831 - accuracy: 0.9712 - val_loss: 0.4672 - val_accuracy: 0.8888 - 457s/epoch - 133ms/step\n",
      "Epoch 8/50\n",
      "3424/3424 - 460s - loss: 0.0684 - accuracy: 0.9752 - val_loss: 0.3606 - val_accuracy: 0.9081 - 460s/epoch - 134ms/step\n",
      "Epoch 9/50\n",
      "3424/3424 - 468s - loss: 0.0554 - accuracy: 0.9800 - val_loss: 0.4415 - val_accuracy: 0.9093 - 468s/epoch - 137ms/step\n",
      "Epoch 10/50\n",
      "3424/3424 - 461s - loss: 0.0452 - accuracy: 0.9844 - val_loss: 0.4595 - val_accuracy: 0.8936 - 461s/epoch - 135ms/step\n",
      "Epoch 11/50\n",
      "3424/3424 - 469s - loss: 0.0403 - accuracy: 0.9863 - val_loss: 0.4785 - val_accuracy: 0.8839 - 469s/epoch - 137ms/step\n",
      "Epoch 12/50\n",
      "3424/3424 - 459s - loss: 0.0357 - accuracy: 0.9875 - val_loss: 0.4591 - val_accuracy: 0.9154 - 459s/epoch - 134ms/step\n",
      "Epoch 13/50\n",
      "3424/3424 - 449s - loss: 0.0310 - accuracy: 0.9890 - val_loss: 0.4152 - val_accuracy: 0.9141 - 449s/epoch - 131ms/step\n",
      "Epoch 14/50\n",
      "3424/3424 - 447s - loss: 0.0279 - accuracy: 0.9906 - val_loss: 0.5098 - val_accuracy: 0.8912 - 447s/epoch - 130ms/step\n",
      "Epoch 15/50\n",
      "3424/3424 - 450s - loss: 0.0267 - accuracy: 0.9909 - val_loss: 0.5482 - val_accuracy: 0.9045 - 450s/epoch - 132ms/step\n",
      "Epoch 16/50\n",
      "3424/3424 - 456s - loss: 0.0234 - accuracy: 0.9920 - val_loss: 0.6707 - val_accuracy: 0.8996 - 456s/epoch - 133ms/step\n",
      "Epoch 17/50\n",
      "3424/3424 - 456s - loss: 0.0201 - accuracy: 0.9929 - val_loss: 0.5092 - val_accuracy: 0.9093 - 456s/epoch - 133ms/step\n",
      "Epoch 18/50\n",
      "3424/3424 - 463s - loss: 0.0194 - accuracy: 0.9931 - val_loss: 0.4797 - val_accuracy: 0.9045 - 463s/epoch - 135ms/step\n",
      "Epoch 19/50\n",
      "3424/3424 - 458s - loss: 0.0206 - accuracy: 0.9929 - val_loss: 0.4697 - val_accuracy: 0.9105 - 458s/epoch - 134ms/step\n",
      "Epoch 20/50\n",
      "3424/3424 - 459s - loss: 0.0146 - accuracy: 0.9951 - val_loss: 0.5354 - val_accuracy: 0.9081 - 459s/epoch - 134ms/step\n",
      "Epoch 21/50\n",
      "3424/3424 - 455s - loss: 0.0152 - accuracy: 0.9951 - val_loss: 0.5202 - val_accuracy: 0.9105 - 455s/epoch - 133ms/step\n",
      "Epoch 22/50\n",
      "3424/3424 - 457s - loss: 0.0125 - accuracy: 0.9958 - val_loss: 0.6071 - val_accuracy: 0.8972 - 457s/epoch - 133ms/step\n",
      "Epoch 23/50\n",
      "3424/3424 - 453s - loss: 0.0131 - accuracy: 0.9955 - val_loss: 0.5702 - val_accuracy: 0.9033 - 453s/epoch - 132ms/step\n",
      "Epoch 24/50\n",
      "3424/3424 - 453s - loss: 0.0136 - accuracy: 0.9953 - val_loss: 0.5772 - val_accuracy: 0.9057 - 453s/epoch - 132ms/step\n",
      "Epoch 25/50\n",
      "3424/3424 - 459s - loss: 0.0125 - accuracy: 0.9959 - val_loss: 0.6067 - val_accuracy: 0.9045 - 459s/epoch - 134ms/step\n",
      "Epoch 26/50\n",
      "3424/3424 - 453s - loss: 0.0131 - accuracy: 0.9958 - val_loss: 0.4972 - val_accuracy: 0.9166 - 453s/epoch - 132ms/step\n",
      "Epoch 27/50\n",
      "3424/3424 - 455s - loss: 0.0117 - accuracy: 0.9963 - val_loss: 0.5959 - val_accuracy: 0.9033 - 455s/epoch - 133ms/step\n"
     ]
    }
   ],
   "source": [
    "history = model_dn121.fit(train_batches,\n",
    "                         epochs=50,\n",
    "                         verbose=2,\n",
    "                         validation_data=val_batches,\n",
    "                         callbacks=[checkpoint,Earlystop],\n",
    "                         class_weight=class_weights)"
   ]
  },
  {
   "cell_type": "markdown",
   "id": "453e87e3",
   "metadata": {
    "papermill": {
     "duration": 0.023254,
     "end_time": "2023-05-27T21:43:48.768625",
     "exception": false,
     "start_time": "2023-05-27T21:43:48.745371",
     "status": "completed"
    },
    "tags": []
   },
   "source": [
    "### Plotting accuracy and loss"
   ]
  },
  {
   "cell_type": "code",
   "execution_count": 21,
   "id": "00276ba1",
   "metadata": {
    "execution": {
     "iopub.execute_input": "2023-05-27T21:43:48.816517Z",
     "iopub.status.busy": "2023-05-27T21:43:48.816169Z",
     "iopub.status.idle": "2023-05-27T21:44:36.848681Z",
     "shell.execute_reply": "2023-05-27T21:44:36.847784Z"
    },
    "papermill": {
     "duration": 48.090188,
     "end_time": "2023-05-27T21:44:36.881827",
     "exception": false,
     "start_time": "2023-05-27T21:43:48.791639",
     "status": "completed"
    },
    "tags": []
   },
   "outputs": [
    {
     "name": "stdout",
     "output_type": "stream",
     "text": [
      "Number of epochs trained: 27\n"
     ]
    },
    {
     "data": {
      "image/png": "[encoded data removed]",
      "text/plain": [
       "<Figure size 1500x500 with 2 Axes>"
      ]
     },
     "metadata": {},
     "output_type": "display_data"
    }
   ],
   "source": [
    "# Determine number of epochs trained\n",
    "num_epochs_trained = len(history.history['val_loss'])\n",
    "print(f\"Number of epochs trained: {num_epochs_trained}\")\n",
    "\n",
    "## History plotting\n",
    "epochs = [i for i in range(num_epochs_trained)]\n",
    "fig , ax = plt.subplots(1,2)\n",
    "train_acc = history.history['accuracy']\n",
    "train_loss = history.history['loss']\n",
    "val_acc = history.history['val_accuracy']\n",
    "val_loss = history.history['val_loss']\n",
    "fig.set_size_inches(15,5)\n",
    "\n",
    "ax[0].plot(epochs , train_acc , 'go-' , label = 'Training Accuracy')\n",
    "ax[0].plot(epochs , val_acc , 'ro-' , label = 'Validation Accuracy')\n",
    "title_font = {'fontname':'Times New Roman', 'size':'14', 'color':'black', 'weight':'normal'}\n",
    "ax[0].set_title('Model Accuracy', fontdict=title_font)\n",
    "legend_font = {'family': 'Times New Roman', 'size': '12', 'weight': 'normal'}\n",
    "ax[0].legend(prop=legend_font)\n",
    "label_font = {'fontname':'Times New Roman', 'size':'12', 'color':'black', 'weight':'normal'}\n",
    "ax[0].set_xlabel(\"Epochs\",  fontdict=label_font)\n",
    "ax[0].set_ylabel(\"Accuracy\",  fontdict=label_font)\n",
    "\n",
    "ax[1].plot(epochs , train_loss , 'g-o' , label = 'Training Loss')\n",
    "ax[1].plot(epochs , val_loss , 'r-o' , label = 'Validation Loss')\n",
    "ax[1].set_title('Model Loss', fontdict=title_font)\n",
    "ax[1].legend(prop=legend_font)\n",
    "ax[1].set_xlabel(\"Epochs\", fontdict=label_font)\n",
    "ax[1].set_ylabel(\"Loss\", fontdict=label_font)\n",
    "plt.show()"
   ]
  },
  {
   "cell_type": "code",
   "execution_count": 22,
   "id": "d34feb32",
   "metadata": {
    "execution": {
     "iopub.execute_input": "2023-05-27T21:44:36.951581Z",
     "iopub.status.busy": "2023-05-27T21:44:36.951085Z",
     "iopub.status.idle": "2023-05-27T21:44:37.607427Z",
     "shell.execute_reply": "2023-05-27T21:44:37.606440Z"
    },
    "id": "zm_AewFBXTj8",
    "papermill": {
     "duration": 0.693694,
     "end_time": "2023-05-27T21:44:37.609828",
     "exception": false,
     "start_time": "2023-05-27T21:44:36.916134",
     "status": "completed"
    },
    "tags": []
   },
   "outputs": [],
   "source": [
    "from tensorflow.keras import models\n",
    "model_dn121.load_weights(\"DN121.hdf5\")"
   ]
  },
  {
   "cell_type": "code",
   "execution_count": 23,
   "id": "f2e65cde",
   "metadata": {
    "execution": {
     "iopub.execute_input": "2023-05-27T21:44:37.660166Z",
     "iopub.status.busy": "2023-05-27T21:44:37.659538Z",
     "iopub.status.idle": "2023-05-27T21:44:54.987647Z",
     "shell.execute_reply": "2023-05-27T21:44:54.986683Z"
    },
    "papermill": {
     "duration": 17.355745,
     "end_time": "2023-05-27T21:44:54.989998",
     "exception": false,
     "start_time": "2023-05-27T21:44:37.634253",
     "status": "completed"
    },
    "tags": []
   },
   "outputs": [
    {
     "name": "stdout",
     "output_type": "stream",
     "text": [
      "52/52 [==============================] - 17s 290ms/step\n"
     ]
    }
   ],
   "source": [
    "predictions = model_dn121.predict(test_batches)"
   ]
  },
  {
   "cell_type": "code",
   "execution_count": 24,
   "id": "ab2ec4fd",
   "metadata": {
    "execution": {
     "iopub.execute_input": "2023-05-27T21:44:55.113000Z",
     "iopub.status.busy": "2023-05-27T21:44:55.112067Z",
     "iopub.status.idle": "2023-05-27T21:44:55.117516Z",
     "shell.execute_reply": "2023-05-27T21:44:55.116624Z"
    },
    "id": "FDTMtBeTdBfU",
    "papermill": {
     "duration": 0.036964,
     "end_time": "2023-05-27T21:44:55.119495",
     "exception": false,
     "start_time": "2023-05-27T21:44:55.082531",
     "status": "completed"
    },
    "tags": []
   },
   "outputs": [],
   "source": [
    "#geting predictions on test dataset\n",
    "y_pred = np.argmax(predictions, axis=1)\n",
    "#getting the true labels per image \n",
    "y_true = test_batches.classes\n",
    "#getting the predicted labels per image \n",
    "y_prob = predictions"
   ]
  },
  {
   "cell_type": "code",
   "execution_count": 25,
   "id": "92793f40",
   "metadata": {
    "execution": {
     "iopub.execute_input": "2023-05-27T21:44:55.177590Z",
     "iopub.status.busy": "2023-05-27T21:44:55.176610Z",
     "iopub.status.idle": "2023-05-27T21:44:55.193025Z",
     "shell.execute_reply": "2023-05-27T21:44:55.192007Z"
    },
    "papermill": {
     "duration": 0.047565,
     "end_time": "2023-05-27T21:44:55.194978",
     "exception": false,
     "start_time": "2023-05-27T21:44:55.147413",
     "status": "completed"
    },
    "tags": []
   },
   "outputs": [
    {
     "name": "stdout",
     "output_type": "stream",
     "text": [
      "\n",
      "Classification Report:\n",
      "              precision    recall  f1-score   support\n",
      "\n",
      "          AK       0.71      0.55      0.62        22\n",
      "         BCC       0.71      0.74      0.73        27\n",
      "         BKL       0.77      0.70      0.73        66\n",
      "          DF       0.83      0.83      0.83         6\n",
      "         MEL       0.73      0.63      0.68        35\n",
      "          NV       0.96      0.98      0.97       663\n",
      "        VASC       1.00      1.00      1.00         9\n",
      "\n",
      "    accuracy                           0.92       828\n",
      "   macro avg       0.82      0.78      0.79       828\n",
      "weighted avg       0.92      0.92      0.92       828\n",
      "\n"
     ]
    }
   ],
   "source": [
    "classnames = ['AK', 'BCC', 'BKL', 'DF', 'MEL', 'NV', 'VASC']\n",
    "\n",
    "from tensorflow.keras.utils import to_categorical\n",
    "y_test = to_categorical(y_true)\n",
    "\n",
    "report = classification_report(y_true, y_pred, target_names=classnames)\n",
    "\n",
    "print(\"\\nClassification Report:\")\n",
    "print(report)"
   ]
  },
  {
   "cell_type": "code",
   "execution_count": 26,
   "id": "ff34f1aa",
   "metadata": {
    "execution": {
     "iopub.execute_input": "2023-05-27T21:44:55.253692Z",
     "iopub.status.busy": "2023-05-27T21:44:55.252943Z",
     "iopub.status.idle": "2023-05-27T21:44:55.879671Z",
     "shell.execute_reply": "2023-05-27T21:44:55.878776Z"
    },
    "papermill": {
     "duration": 0.658153,
     "end_time": "2023-05-27T21:44:55.881761",
     "exception": false,
     "start_time": "2023-05-27T21:44:55.223608",
     "status": "completed"
    },
    "tags": []
   },
   "outputs": [
    {
     "data": {
      "image/png": "[encoded data removed]",
      "text/plain": [
       "<Figure size 1000x400 with 2 Axes>"
      ]
     },
     "metadata": {},
     "output_type": "display_data"
    }
   ],
   "source": [
    "## Confusion Matrix\n",
    "title_font = {'fontname':'Times New Roman', 'size':'14', 'color':'black', 'weight':'normal'}\n",
    "label_font = {'fontname':'Times New Roman', 'size':'12', 'color':'black', 'weight':'normal'}\n",
    "\n",
    "from sklearn.metrics import confusion_matrix\n",
    "import seaborn as sns\n",
    "# Creating confusion matrix \n",
    "cm = confusion_matrix(y_true, y_pred)\n",
    "# Plotting the confusion matrix\n",
    "plt.figure(figsize=(10,4))\n",
    "sns.heatmap(cm, annot=True, fmt='g', cmap='Blues', xticklabels=targetnames, yticklabels=targetnames)\n",
    "plt.xlabel('Predicted Label', fontdict=label_font)\n",
    "plt.ylabel('True Label', fontdict=label_font)\n",
    "plt.title('Confusion Matrix', fontdict=title_font)\n",
    "plt.show()"
   ]
  },
  {
   "cell_type": "markdown",
   "id": "d193a701",
   "metadata": {
    "papermill": {
     "duration": 0.030682,
     "end_time": "2023-05-27T21:44:55.941151",
     "exception": false,
     "start_time": "2023-05-27T21:44:55.910469",
     "status": "completed"
    },
    "tags": []
   },
   "source": [
    "## Results"
   ]
  },
  {
   "cell_type": "markdown",
   "id": "3da8c971",
   "metadata": {
    "papermill": {
     "duration": 0.028465,
     "end_time": "2023-05-27T21:44:55.998315",
     "exception": false,
     "start_time": "2023-05-27T21:44:55.969850",
     "status": "completed"
    },
    "tags": []
   },
   "source": [
    "### Individual Class Accuracy "
   ]
  },
  {
   "cell_type": "code",
   "execution_count": 27,
   "id": "0e53c2d1",
   "metadata": {
    "execution": {
     "iopub.execute_input": "2023-05-27T21:44:56.058724Z",
     "iopub.status.busy": "2023-05-27T21:44:56.058346Z",
     "iopub.status.idle": "2023-05-27T21:44:56.067441Z",
     "shell.execute_reply": "2023-05-27T21:44:56.066043Z"
    },
    "papermill": {
     "duration": 0.042579,
     "end_time": "2023-05-27T21:44:56.069834",
     "exception": false,
     "start_time": "2023-05-27T21:44:56.027255",
     "status": "completed"
    },
    "tags": []
   },
   "outputs": [
    {
     "name": "stdout",
     "output_type": "stream",
     "text": [
      "Overall accuracy: 92.39%\n",
      "Accuracy for each class:\n",
      "Class 0: 54.55%\n",
      "Class 1: 74.07%\n",
      "Class 2: 69.70%\n",
      "Class 3: 83.33%\n",
      "Class 4: 62.86%\n",
      "Class 5: 98.19%\n",
      "Class 6: 100.00%\n"
     ]
    }
   ],
   "source": [
    "# y_true are the true labels of the test set\n",
    "# y_pred are the predicted labels of the test set\n",
    "accuracy = accuracy_score(y_true, y_pred)\n",
    "# Calculate accuracy for each class\n",
    "class_accuracy = cm.diagonal()/cm.sum(axis=1)\n",
    "print(\"Overall accuracy: {:.2f}%\".format(accuracy*100))\n",
    "print(\"Accuracy for each class:\")\n",
    "for i, acc in enumerate(class_accuracy):\n",
    "    print(\"Class {}: {:.2f}%\".format(i, acc*100))"
   ]
  },
  {
   "cell_type": "markdown",
   "id": "ea9c1ba4",
   "metadata": {
    "papermill": {
     "duration": 0.028362,
     "end_time": "2023-05-27T21:44:56.130927",
     "exception": false,
     "start_time": "2023-05-27T21:44:56.102565",
     "status": "completed"
    },
    "tags": []
   },
   "source": [
    "### Individual Class Weighted Precision"
   ]
  },
  {
   "cell_type": "code",
   "execution_count": 28,
   "id": "db4b5cc3",
   "metadata": {
    "execution": {
     "iopub.execute_input": "2023-05-27T21:44:56.189947Z",
     "iopub.status.busy": "2023-05-27T21:44:56.189023Z",
     "iopub.status.idle": "2023-05-27T21:44:56.203972Z",
     "shell.execute_reply": "2023-05-27T21:44:56.202716Z"
    },
    "papermill": {
     "duration": 0.046737,
     "end_time": "2023-05-27T21:44:56.205953",
     "exception": false,
     "start_time": "2023-05-27T21:44:56.159216",
     "status": "completed"
    },
    "tags": []
   },
   "outputs": [
    {
     "name": "stdout",
     "output_type": "stream",
     "text": [
      "Weighted precision for each class:\n",
      "Class 0: 70.59%\n",
      "Class 1: 71.43%\n",
      "Class 2: 76.67%\n",
      "Class 3: 83.33%\n",
      "Class 4: 73.33%\n",
      "Class 5: 96.02%\n",
      "Class 6: 100.00%\n",
      "Weighted precision: 91.99%\n"
     ]
    }
   ],
   "source": [
    "report = classification_report(y_true, y_pred, output_dict=True)\n",
    "# Extract weighted precision for each class\n",
    "class_precision = {}\n",
    "for class_label in report.keys():\n",
    "    if class_label == 'weighted avg':\n",
    "        class_precision['weighted'] = report[class_label]['precision']\n",
    "    elif class_label.isdigit():\n",
    "        class_precision[int(class_label)] = report[class_label]['precision']\n",
    "print(\"Weighted precision for each class:\")\n",
    "for i, precision in class_precision.items():\n",
    "    if i == 'weighted':\n",
    "        print(\"Weighted precision: {:.2f}%\".format(precision*100))\n",
    "    else:\n",
    "        print(\"Class {}: {:.2f}%\".format(i, precision*100))"
   ]
  },
  {
   "cell_type": "markdown",
   "id": "cfd257d6",
   "metadata": {
    "papermill": {
     "duration": 0.028154,
     "end_time": "2023-05-27T21:44:56.263211",
     "exception": false,
     "start_time": "2023-05-27T21:44:56.235057",
     "status": "completed"
    },
    "tags": []
   },
   "source": [
    "### Individual Class Weighted Recall"
   ]
  },
  {
   "cell_type": "code",
   "execution_count": 29,
   "id": "6308776f",
   "metadata": {
    "execution": {
     "iopub.execute_input": "2023-05-27T21:44:56.322128Z",
     "iopub.status.busy": "2023-05-27T21:44:56.321315Z",
     "iopub.status.idle": "2023-05-27T21:44:56.335493Z",
     "shell.execute_reply": "2023-05-27T21:44:56.334399Z"
    },
    "papermill": {
     "duration": 0.045975,
     "end_time": "2023-05-27T21:44:56.337460",
     "exception": false,
     "start_time": "2023-05-27T21:44:56.291485",
     "status": "completed"
    },
    "tags": []
   },
   "outputs": [
    {
     "name": "stdout",
     "output_type": "stream",
     "text": [
      "Weighted recall for each class:\n",
      "Class 0: 54.55%\n",
      "Class 1: 74.07%\n",
      "Class 2: 69.70%\n",
      "Class 3: 83.33%\n",
      "Class 4: 62.86%\n",
      "Class 5: 98.19%\n",
      "Class 6: 100.00%\n",
      "Weighted Recall: 92.39%\n"
     ]
    }
   ],
   "source": [
    "report = classification_report(y_true, y_pred, output_dict=True)\n",
    "# Extract weighted recall for each class\n",
    "class_recall = {}\n",
    "for class_label in report.keys():\n",
    "    if class_label == 'weighted avg':\n",
    "        class_recall['weighted'] = report[class_label]['recall']\n",
    "    elif class_label.isdigit():\n",
    "        class_recall[int(class_label)] = report[class_label]['recall']\n",
    "print(\"Weighted recall for each class:\")\n",
    "for i, recall in class_recall.items():\n",
    "    if i == 'weighted':\n",
    "        print(\"Weighted Recall: {:.2f}%\".format(recall*100))\n",
    "    else:\n",
    "        print(\"Class {}: {:.2f}%\".format(i, recall*100))"
   ]
  },
  {
   "cell_type": "markdown",
   "id": "af2ae9f6",
   "metadata": {
    "papermill": {
     "duration": 0.02881,
     "end_time": "2023-05-27T21:44:56.395360",
     "exception": false,
     "start_time": "2023-05-27T21:44:56.366550",
     "status": "completed"
    },
    "tags": []
   },
   "source": [
    "### Individual Class Weighted F1-score"
   ]
  },
  {
   "cell_type": "code",
   "execution_count": 30,
   "id": "ecde8f2d",
   "metadata": {
    "execution": {
     "iopub.execute_input": "2023-05-27T21:44:56.454325Z",
     "iopub.status.busy": "2023-05-27T21:44:56.454021Z",
     "iopub.status.idle": "2023-05-27T21:44:56.470087Z",
     "shell.execute_reply": "2023-05-27T21:44:56.468775Z"
    },
    "papermill": {
     "duration": 0.048149,
     "end_time": "2023-05-27T21:44:56.472040",
     "exception": false,
     "start_time": "2023-05-27T21:44:56.423891",
     "status": "completed"
    },
    "tags": []
   },
   "outputs": [
    {
     "name": "stdout",
     "output_type": "stream",
     "text": [
      "Weighted F1-score for each class:\n",
      "Class 0: 61.54%\n",
      "Class 1: 72.73%\n",
      "Class 2: 73.02%\n",
      "Class 3: 83.33%\n",
      "Class 4: 67.69%\n",
      "Class 5: 97.09%\n",
      "Class 6: 100.00%\n",
      "Weighted F1-score: 92.12%\n"
     ]
    }
   ],
   "source": [
    "report = classification_report(y_true, y_pred, output_dict=True)\n",
    "# Extract weighted F1-score for each class\n",
    "class_f1 = {}\n",
    "for class_label in report.keys():\n",
    "    if class_label == 'weighted avg':\n",
    "        class_f1['weighted'] = report[class_label]['f1-score']\n",
    "    elif class_label.isdigit():\n",
    "        class_f1[int(class_label)] = report[class_label]['f1-score']\n",
    "print(\"Weighted F1-score for each class:\")\n",
    "for i, f1_score in class_f1.items():\n",
    "    if i == 'weighted':\n",
    "        print(\"Weighted F1-score: {:.2f}%\".format(f1_score*100))\n",
    "    else:\n",
    "        print(\"Class {}: {:.2f}%\".format(i, f1_score*100))"
   ]
  },
  {
   "cell_type": "markdown",
   "id": "fc0b2c10",
   "metadata": {
    "papermill": {
     "duration": 0.028652,
     "end_time": "2023-05-27T21:44:56.529704",
     "exception": false,
     "start_time": "2023-05-27T21:44:56.501052",
     "status": "completed"
    },
    "tags": []
   },
   "source": [
    "### Individual Class Precision, Recall and F1-score"
   ]
  },
  {
   "cell_type": "code",
   "execution_count": 31,
   "id": "4fa69f5e",
   "metadata": {
    "execution": {
     "iopub.execute_input": "2023-05-27T21:44:56.589230Z",
     "iopub.status.busy": "2023-05-27T21:44:56.588913Z",
     "iopub.status.idle": "2023-05-27T21:44:56.598470Z",
     "shell.execute_reply": "2023-05-27T21:44:56.597196Z"
    },
    "papermill": {
     "duration": 0.042317,
     "end_time": "2023-05-27T21:44:56.600774",
     "exception": false,
     "start_time": "2023-05-27T21:44:56.558457",
     "status": "completed"
    },
    "tags": []
   },
   "outputs": [
    {
     "name": "stdout",
     "output_type": "stream",
     "text": [
      "Class-wise weighted precision, recall, and F1-score:\n",
      "Class 0: Precision=0.71, Recall=0.55, F1-score=0.62\n",
      "Class 1: Precision=0.71, Recall=0.74, F1-score=0.73\n",
      "Class 2: Precision=0.77, Recall=0.70, F1-score=0.73\n",
      "Class 3: Precision=0.83, Recall=0.83, F1-score=0.83\n",
      "Class 4: Precision=0.73, Recall=0.63, F1-score=0.68\n",
      "Class 5: Precision=0.96, Recall=0.98, F1-score=0.97\n",
      "Class 6: Precision=1.00, Recall=1.00, F1-score=1.00\n"
     ]
    }
   ],
   "source": [
    "from sklearn.metrics import precision_recall_fscore_support\n",
    "\n",
    "precision_class, recall_class, f1_class, support_class = precision_recall_fscore_support(y_true, y_pred, average=None)\n",
    "print('Class-wise weighted precision, recall, and F1-score:')\n",
    "for i in range(len(precision_class)):\n",
    "    print('Class {}: Precision={:.2f}, Recall={:.2f}, F1-score={:.2f}'.format(i, precision_class[i], recall_class[i], f1_class[i]))\n"
   ]
  },
  {
   "cell_type": "markdown",
   "id": "7ab85b50",
   "metadata": {
    "papermill": {
     "duration": 0.028709,
     "end_time": "2023-05-27T21:44:56.659704",
     "exception": false,
     "start_time": "2023-05-27T21:44:56.630995",
     "status": "completed"
    },
    "tags": []
   },
   "source": [
    "### Individual Class Weighted Sensitivity"
   ]
  },
  {
   "cell_type": "code",
   "execution_count": 32,
   "id": "37cfc653",
   "metadata": {
    "execution": {
     "iopub.execute_input": "2023-05-27T21:44:56.720368Z",
     "iopub.status.busy": "2023-05-27T21:44:56.719677Z",
     "iopub.status.idle": "2023-05-27T21:44:57.221968Z",
     "shell.execute_reply": "2023-05-27T21:44:57.220951Z"
    },
    "papermill": {
     "duration": 0.53538,
     "end_time": "2023-05-27T21:44:57.224064",
     "exception": false,
     "start_time": "2023-05-27T21:44:56.688684",
     "status": "completed"
    },
    "tags": []
   },
   "outputs": [
    {
     "name": "stdout",
     "output_type": "stream",
     "text": [
      "Weighted Sensitivity:  0.9239130434782609\n",
      "Class  0 :sensitivity = 0.5454545454545454\n",
      "Class  1 :sensitivity = 0.7407407407407407\n",
      "Class  2 :sensitivity = 0.696969696969697\n",
      "Class  3 :sensitivity = 0.8333333333333334\n",
      "Class  4 :sensitivity = 0.6285714285714286\n",
      "Class  5 :sensitivity = 0.9819004524886877\n",
      "Class  6 :sensitivity = 1.0\n"
     ]
    }
   ],
   "source": [
    "from imblearn.metrics import sensitivity_score\n",
    "\n",
    "sensitivity = sensitivity_score(y_true, y_pred, average='weighted')\n",
    "print(\"Weighted Sensitivity: \", sensitivity)\n",
    "\n",
    "# Calculate class-wise sensitivity\n",
    "sensitivity = sensitivity_score(y_true, y_pred, average=None)\n",
    "\n",
    "# Print sensitivity score for each class\n",
    "for i in range(len(sensitivity)):\n",
    "    print(\"Class \", i, \":sensitivity =\", sensitivity[i])"
   ]
  },
  {
   "cell_type": "markdown",
   "id": "1bb47b7d",
   "metadata": {
    "papermill": {
     "duration": 0.028555,
     "end_time": "2023-05-27T21:44:57.282856",
     "exception": false,
     "start_time": "2023-05-27T21:44:57.254301",
     "status": "completed"
    },
    "tags": []
   },
   "source": [
    "### Individual Class Weighted Specificity"
   ]
  },
  {
   "cell_type": "code",
   "execution_count": 33,
   "id": "bd553aa6",
   "metadata": {
    "execution": {
     "iopub.execute_input": "2023-05-27T21:44:57.341970Z",
     "iopub.status.busy": "2023-05-27T21:44:57.341534Z",
     "iopub.status.idle": "2023-05-27T21:44:57.352346Z",
     "shell.execute_reply": "2023-05-27T21:44:57.351100Z"
    },
    "papermill": {
     "duration": 0.04271,
     "end_time": "2023-05-27T21:44:57.354299",
     "exception": false,
     "start_time": "2023-05-27T21:44:57.311589",
     "status": "completed"
    },
    "tags": []
   },
   "outputs": [
    {
     "name": "stdout",
     "output_type": "stream",
     "text": [
      "Weighted Specificity:  0.8665820825268796\n",
      "Class  0 :specificity= 0.9937965260545906\n",
      "Class  1 :specificity= 0.9900124843945068\n",
      "Class  2 :specificity= 0.9816272965879265\n",
      "Class  3 :specificity= 0.9987834549878345\n",
      "Class  4 :specificity= 0.9899117276166457\n",
      "Class  5 :specificity= 0.8363636363636363\n",
      "Class  6 :specificity= 1.0\n"
     ]
    }
   ],
   "source": [
    "from imblearn.metrics import specificity_score\n",
    "\n",
    "specificity = specificity_score(y_true, y_pred, average='weighted')\n",
    "print(\"Weighted Specificity: \", specificity)\n",
    "\n",
    "# Calculate class-wise specificity\n",
    "specificity = specificity_score(y_true, y_pred, average=None)\n",
    "\n",
    "# Print sensitivity score for each class\n",
    "for i in range(len(specificity)):\n",
    "    print(\"Class \", i, \":specificity=\", specificity[i])"
   ]
  },
  {
   "cell_type": "markdown",
   "id": "7bf719d9",
   "metadata": {
    "papermill": {
     "duration": 0.028875,
     "end_time": "2023-05-27T21:44:57.412766",
     "exception": false,
     "start_time": "2023-05-27T21:44:57.383891",
     "status": "completed"
    },
    "tags": []
   },
   "source": [
    "### Accuracy"
   ]
  },
  {
   "cell_type": "code",
   "execution_count": 34,
   "id": "d53242a2",
   "metadata": {
    "execution": {
     "iopub.execute_input": "2023-05-27T21:44:57.472925Z",
     "iopub.status.busy": "2023-05-27T21:44:57.472572Z",
     "iopub.status.idle": "2023-05-27T21:44:57.479331Z",
     "shell.execute_reply": "2023-05-27T21:44:57.478197Z"
    },
    "papermill": {
     "duration": 0.039754,
     "end_time": "2023-05-27T21:44:57.481448",
     "exception": false,
     "start_time": "2023-05-27T21:44:57.441694",
     "status": "completed"
    },
    "tags": []
   },
   "outputs": [
    {
     "name": "stdout",
     "output_type": "stream",
     "text": [
      "Accuracy: 0.9239130434782609\n"
     ]
    }
   ],
   "source": [
    "print(\"Accuracy: \" + str(accuracy_score(y_true, y_pred)))\n",
    "import numpy as np\n",
    "from sklearn.metrics import accuracy_score"
   ]
  },
  {
   "cell_type": "code",
   "execution_count": 35,
   "id": "01b5398c",
   "metadata": {
    "execution": {
     "iopub.execute_input": "2023-05-27T21:44:57.541786Z",
     "iopub.status.busy": "2023-05-27T21:44:57.540989Z",
     "iopub.status.idle": "2023-05-27T21:44:57.560656Z",
     "shell.execute_reply": "2023-05-27T21:44:57.559712Z"
    },
    "papermill": {
     "duration": 0.052023,
     "end_time": "2023-05-27T21:44:57.562823",
     "exception": false,
     "start_time": "2023-05-27T21:44:57.510800",
     "status": "completed"
    },
    "tags": []
   },
   "outputs": [
    {
     "name": "stdout",
     "output_type": "stream",
     "text": [
      "Top-1 Accuracy: 0.9239130434782609\n",
      "Top-2 Accuracy: 0.9758454106280193\n",
      "Top-3 Accuracy: 0.9891304347826086\n"
     ]
    }
   ],
   "source": [
    "# Calculate top-1 accuracy\n",
    "top1_acc = accuracy_score(y_true, y_pred)\n",
    "print(\"Top-1 Accuracy:\", top1_acc)\n",
    "\n",
    "# Calculate top-2 accuracy\n",
    "y_pred_top2 = np.argsort(-predictions, axis=1)[:, :2] # Get the top 2 predicted classes\n",
    "top2_acc = np.mean(np.array([y_true[i] in y_pred_top2[i] for i in range(len(y_true))]))\n",
    "print(\"Top-2 Accuracy:\", top2_acc)\n",
    "\n",
    "# Calculate top-3 accuracy\n",
    "y_pred_top3 = np.argsort(-predictions, axis=1)[:, :3] # Get the top 3 predicted classes\n",
    "top3_acc = np.mean(np.array([y_true[i] in y_pred_top3[i] for i in range(len(y_true))]))\n",
    "print(\"Top-3 Accuracy:\", top3_acc)\n",
    "from sklearn.metrics import f1_score"
   ]
  },
  {
   "cell_type": "markdown",
   "id": "6572ae2c",
   "metadata": {
    "papermill": {
     "duration": 0.029772,
     "end_time": "2023-05-27T21:44:57.622834",
     "exception": false,
     "start_time": "2023-05-27T21:44:57.593062",
     "status": "completed"
    },
    "tags": []
   },
   "source": [
    "### Weighted Evaluation Measures"
   ]
  },
  {
   "cell_type": "code",
   "execution_count": 36,
   "id": "6ac9d186",
   "metadata": {
    "execution": {
     "iopub.execute_input": "2023-05-27T21:44:57.689083Z",
     "iopub.status.busy": "2023-05-27T21:44:57.688757Z",
     "iopub.status.idle": "2023-05-27T21:44:57.715449Z",
     "shell.execute_reply": "2023-05-27T21:44:57.714531Z"
    },
    "papermill": {
     "duration": 0.065174,
     "end_time": "2023-05-27T21:44:57.717236",
     "exception": false,
     "start_time": "2023-05-27T21:44:57.652062",
     "status": "completed"
    },
    "tags": []
   },
   "outputs": [
    {
     "name": "stdout",
     "output_type": "stream",
     "text": [
      "Weighted Precision: 0.9199023403983457\n",
      "Weighted Recall: 0.9239130434782609\n",
      "Weighted F1-Score: 0.9212267268876548\n",
      "Weighted Sensitivity: 0.9239130434782609\n",
      "Weighted Specificity: 0.8665820825268796\n",
      "weighted Roc score: 0.9764541893500809\n"
     ]
    }
   ],
   "source": [
    "print(\"Weighted Precision: \"+ str(precision_score(y_true, y_pred, average='weighted')))\n",
    "print(\"Weighted Recall: \"+ str(recall_score(y_true, y_pred, average='weighted')))\n",
    "print(\"Weighted F1-Score: \"+ str(f1_score(y_true, y_pred, average='weighted')))\n",
    "print(\"Weighted Sensitivity: \"+ str(sensitivity_score(y_true, y_pred, average='weighted')))\n",
    "print(\"Weighted Specificity: \"+ str(specificity_score(y_true, y_pred, average='weighted')))\n",
    "print(\"weighted Roc score: \" + str(roc_auc_score(y_true,y_prob,multi_class='ovr',average='weighted')))"
   ]
  },
  {
   "cell_type": "markdown",
   "id": "a5aca70e",
   "metadata": {
    "papermill": {
     "duration": 0.029582,
     "end_time": "2023-05-27T21:44:57.776393",
     "exception": false,
     "start_time": "2023-05-27T21:44:57.746811",
     "status": "completed"
    },
    "tags": []
   },
   "source": [
    "### Macro Evaluation Measures"
   ]
  },
  {
   "cell_type": "code",
   "execution_count": 37,
   "id": "5a05c9fd",
   "metadata": {
    "execution": {
     "iopub.execute_input": "2023-05-27T21:44:57.837691Z",
     "iopub.status.busy": "2023-05-27T21:44:57.836564Z",
     "iopub.status.idle": "2023-05-27T21:44:57.858114Z",
     "shell.execute_reply": "2023-05-27T21:44:57.857049Z"
    },
    "papermill": {
     "duration": 0.054259,
     "end_time": "2023-05-27T21:44:57.860045",
     "exception": false,
     "start_time": "2023-05-27T21:44:57.805786",
     "status": "completed"
    },
    "tags": []
   },
   "outputs": [
    {
     "name": "stdout",
     "output_type": "stream",
     "text": [
      "Macro Precision: 0.816239770244381\n",
      "Macro Recall: 0.7752814567940618\n",
      "Macro F1-Score: 0.793427101289038\n",
      "Macro Sensitivity: 0.7752814567940618\n",
      "Macro Specificity: 0.9700707322864485\n",
      "Macro Roc score: 0.9786731086544606\n"
     ]
    }
   ],
   "source": [
    "print(\"Macro Precision: \"+ str(precision_score(y_true, y_pred, average='macro')))\n",
    "print(\"Macro Recall: \"+ str(recall_score(y_true, y_pred, average='macro')))\n",
    "print(\"Macro F1-Score: \"+ str(f1_score(y_true, y_pred, average='macro')))\n",
    "print(\"Macro Sensitivity: \"+ str(sensitivity_score(y_true, y_pred, average='macro')))\n",
    "print(\"Macro Specificity: \"+ str(specificity_score(y_true, y_pred, average='macro')))\n",
    "print(\"Macro Roc score: \" + str(roc_auc_score(y_true,y_prob,multi_class='ovr',average='macro')))"
   ]
  },
  {
   "cell_type": "markdown",
   "id": "578b8c40",
   "metadata": {
    "papermill": {
     "duration": 0.029124,
     "end_time": "2023-05-27T21:44:57.918358",
     "exception": false,
     "start_time": "2023-05-27T21:44:57.889234",
     "status": "completed"
    },
    "tags": []
   },
   "source": [
    "### Micro Evaluation Measures"
   ]
  },
  {
   "cell_type": "code",
   "execution_count": 38,
   "id": "5cc31e69",
   "metadata": {
    "execution": {
     "iopub.execute_input": "2023-05-27T21:44:57.979009Z",
     "iopub.status.busy": "2023-05-27T21:44:57.978111Z",
     "iopub.status.idle": "2023-05-27T21:44:57.993789Z",
     "shell.execute_reply": "2023-05-27T21:44:57.992552Z"
    },
    "papermill": {
     "duration": 0.048311,
     "end_time": "2023-05-27T21:44:57.995837",
     "exception": false,
     "start_time": "2023-05-27T21:44:57.947526",
     "status": "completed"
    },
    "tags": []
   },
   "outputs": [
    {
     "name": "stdout",
     "output_type": "stream",
     "text": [
      "Micro Precision: 0.9239130434782609\n",
      "Micro Recall: 0.9239130434782609\n",
      "Micro F1-Score: 0.9239130434782609\n",
      "Micro Sensitivity: 0.9239130434782609\n",
      "Micro Specificity: 0.9873188405797102\n"
     ]
    }
   ],
   "source": [
    "print(\"Micro Precision: \"+ str(precision_score(y_true, y_pred, average='micro')))\n",
    "print(\"Micro Recall: \"+ str(recall_score(y_true, y_pred, average='micro')))\n",
    "print(\"Micro F1-Score: \"+ str(f1_score(y_true, y_pred, average='micro')))\n",
    "print(\"Micro Sensitivity: \"+ str(sensitivity_score(y_true, y_pred, average='micro')))\n",
    "print(\"Micro Specificity: \"+ str(specificity_score(y_true, y_pred, average='micro')))"
   ]
  },
  {
   "cell_type": "markdown",
   "id": "4d7f5a4a",
   "metadata": {
    "papermill": {
     "duration": 0.02912,
     "end_time": "2023-05-27T21:44:58.054895",
     "exception": false,
     "start_time": "2023-05-27T21:44:58.025775",
     "status": "completed"
    },
    "tags": []
   },
   "source": [
    "## ROC"
   ]
  },
  {
   "cell_type": "markdown",
   "id": "574bddf0",
   "metadata": {
    "papermill": {
     "duration": 0.029773,
     "end_time": "2023-05-27T21:44:58.114264",
     "exception": false,
     "start_time": "2023-05-27T21:44:58.084491",
     "status": "completed"
    },
    "tags": []
   },
   "source": [
    "### Compute ROC curve and ROC area for each class"
   ]
  },
  {
   "cell_type": "code",
   "execution_count": 39,
   "id": "490526b4",
   "metadata": {
    "execution": {
     "iopub.execute_input": "2023-05-27T21:44:58.175399Z",
     "iopub.status.busy": "2023-05-27T21:44:58.174473Z",
     "iopub.status.idle": "2023-05-27T21:44:58.496921Z",
     "shell.execute_reply": "2023-05-27T21:44:58.496033Z"
    },
    "papermill": {
     "duration": 0.355148,
     "end_time": "2023-05-27T21:44:58.498992",
     "exception": false,
     "start_time": "2023-05-27T21:44:58.143844",
     "status": "completed"
    },
    "tags": []
   },
   "outputs": [
    {
     "data": {
      "image/png": "[encoded data removed]",
      "text/plain": [
       "<Figure size 640x480 with 1 Axes>"
      ]
     },
     "metadata": {},
     "output_type": "display_data"
    }
   ],
   "source": [
    "fpr = {}\n",
    "tpr = {}\n",
    "roc_auc = dict()\n",
    "for i in range(num_classes):\n",
    "    fpr[i], tpr[i], _ = roc_curve(y_test[:, i], y_prob[:, i], drop_intermediate=False)\n",
    "    roc_auc[i] = auc(fpr[i], tpr[i])\n",
    "\n",
    "\n",
    "# plot the ROC curve for each class\n",
    "for i in range(7):\n",
    "    plt.plot(fpr[i], tpr[i], label='Class {}: AUC={:.3f}'.format(i, roc_auc[i]))\n",
    "\n",
    "plt.xlabel('False Positive Rate')\n",
    "plt.ylabel('True Positive Rate')\n",
    "plt.legend()\n",
    "plt.show()"
   ]
  },
  {
   "cell_type": "markdown",
   "id": "cf72cc5f",
   "metadata": {
    "papermill": {
     "duration": 0.030146,
     "end_time": "2023-05-27T21:44:58.559802",
     "exception": false,
     "start_time": "2023-05-27T21:44:58.529656",
     "status": "completed"
    },
    "tags": []
   },
   "source": [
    "## MCC and Kappa Score"
   ]
  },
  {
   "cell_type": "code",
   "execution_count": 40,
   "id": "7fee86b5",
   "metadata": {
    "execution": {
     "iopub.execute_input": "2023-05-27T21:44:58.621018Z",
     "iopub.status.busy": "2023-05-27T21:44:58.620682Z",
     "iopub.status.idle": "2023-05-27T21:44:58.630359Z",
     "shell.execute_reply": "2023-05-27T21:44:58.629043Z"
    },
    "papermill": {
     "duration": 0.042527,
     "end_time": "2023-05-27T21:44:58.632165",
     "exception": false,
     "start_time": "2023-05-27T21:44:58.589638",
     "status": "completed"
    },
    "tags": []
   },
   "outputs": [
    {
     "name": "stdout",
     "output_type": "stream",
     "text": [
      "MCC: 77.42%\n",
      "Kappa Score: 77.30%\n"
     ]
    }
   ],
   "source": [
    "from sklearn.metrics import matthews_corrcoef, cohen_kappa_score\n",
    "\n",
    "# y_true are the true labels of the test set\n",
    "# y_pred are the predicted labels of the test set\n",
    "mcc = matthews_corrcoef(y_true, y_pred)\n",
    "kappa = cohen_kappa_score(y_true, y_pred)\n",
    "print(\"MCC: {:.2f}%\".format(mcc*100))\n",
    "print(\"Kappa Score: {:.2f}%\".format(kappa*100))"
   ]
  },
  {
   "cell_type": "code",
   "execution_count": 41,
   "id": "7e1e5c98",
   "metadata": {
    "execution": {
     "iopub.execute_input": "2023-05-27T21:44:58.694571Z",
     "iopub.status.busy": "2023-05-27T21:44:58.693115Z",
     "iopub.status.idle": "2023-05-27T21:44:58.760806Z",
     "shell.execute_reply": "2023-05-27T21:44:58.759179Z"
    },
    "papermill": {
     "duration": 0.100621,
     "end_time": "2023-05-27T21:44:58.762741",
     "exception": false,
     "start_time": "2023-05-27T21:44:58.662120",
     "status": "completed"
    },
    "tags": []
   },
   "outputs": [
    {
     "name": "stdout",
     "output_type": "stream",
     "text": [
      "MCC per class:\n",
      "Class 0: 61.16%\n",
      "Class 1: 71.80%\n",
      "Class 2: 70.89%\n",
      "Class 3: 83.21%\n",
      "Class 4: 66.59%\n",
      "Class 5: 84.87%\n",
      "Class 6: 100.00%\n",
      "Kappa Score per class:\n",
      "Class 0: 60.63%\n",
      "Class 1: 71.79%\n",
      "Class 2: 70.80%\n",
      "Class 3: 83.21%\n",
      "Class 4: 66.38%\n",
      "Class 5: 84.72%\n",
      "Class 6: 100.00%\n"
     ]
    }
   ],
   "source": [
    "### Individual Class Wise MCC and Kappa\n",
    "\n",
    "from sklearn.metrics import confusion_matrix, matthews_corrcoef, cohen_kappa_score\n",
    "# y_true are the true labels of the test set\n",
    "# y_pred are the predicted labels of the test set\n",
    "conf_mat = confusion_matrix(y_true, y_pred)\n",
    "mcc_per_class = {}\n",
    "kappa_per_class = {}\n",
    "\n",
    "for i in range(len(conf_mat)):\n",
    "    tp = conf_mat[i][i]\n",
    "    fp = sum(conf_mat[:, i]) - tp\n",
    "    fn = sum(conf_mat[i, :]) - tp\n",
    "    tn = sum(sum(conf_mat)) - tp - fp - fn\n",
    "\n",
    "    mcc_per_class[i] = matthews_corrcoef([1 if x==i else 0 for x in y_true], [1 if x==i else 0 for x in y_pred])\n",
    "    kappa_per_class[i] = cohen_kappa_score([1 if x==i else 0 for x in y_true], [1 if x==i else 0 for x in y_pred])\n",
    "\n",
    "print(\"MCC per class:\")\n",
    "for i, mcc in mcc_per_class.items():\n",
    "    print(\"Class {}: {:.2f}%\".format(i, mcc*100))\n",
    "\n",
    "print(\"Kappa Score per class:\")\n",
    "for i, kappa in kappa_per_class.items():\n",
    "    print(\"Class {}: {:.2f}%\".format(i, kappa*100))"
   ]
  }
 ],
 "metadata": {
  "kernelspec": {
   "display_name": "Python 3",
   "language": "python",
   "name": "python3"
  },
  "language_info": {
   "codemirror_mode": {
    "name": "ipython",
    "version": 3
   },
   "file_extension": ".py",
   "mimetype": "text/x-python",
   "name": "python",
   "nbconvert_exporter": "python",
   "pygments_lexer": "ipython3",
   "version": "3.10.10"
  },
  "papermill": {
   "default_parameters": {},
   "duration": 13228.892138,
   "end_time": "2023-05-27T21:45:02.467902",
   "environment_variables": {},
   "exception": null,
   "input_path": "__notebook__.ipynb",
   "output_path": "__notebook__.ipynb",
   "parameters": {},
   "start_time": "2023-05-27T18:04:33.575764",
   "version": "2.4.0"
  }
 },
 "nbformat": 4,
 "nbformat_minor": 5
}
