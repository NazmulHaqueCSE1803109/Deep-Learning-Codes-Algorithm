{
 "cells": [
  {
   "cell_type": "markdown",
   "id": "1c1cf85c",
   "metadata": {
    "papermill": {
     "duration": 0.014793,
     "end_time": "2023-06-03T18:38:47.057432",
     "exception": false,
     "start_time": "2023-06-03T18:38:47.042639",
     "status": "completed"
    },
    "tags": []
   },
   "source": [
    "# Libraries"
   ]
  },
  {
   "cell_type": "code",
   "execution_count": 1,
   "id": "dcd78be4",
   "metadata": {
    "execution": {
     "iopub.execute_input": "2023-06-03T18:38:47.087492Z",
     "iopub.status.busy": "2023-06-03T18:38:47.087122Z",
     "iopub.status.idle": "2023-06-03T18:38:55.487799Z",
     "shell.execute_reply": "2023-06-03T18:38:55.486508Z"
    },
    "id": "Aa36bMKLze3z",
    "papermill": {
     "duration": 8.418676,
     "end_time": "2023-06-03T18:38:55.490578",
     "exception": false,
     "start_time": "2023-06-03T18:38:47.071902",
     "status": "completed"
    },
    "tags": []
   },
   "outputs": [
    {
     "name": "stderr",
     "output_type": "stream",
     "text": [
      "/opt/conda/lib/python3.10/site-packages/tensorflow_io/python/ops/__init__.py:98: UserWarning: unable to load libtensorflow_io_plugins.so: unable to open file: libtensorflow_io_plugins.so, from paths: ['/opt/conda/lib/python3.10/site-packages/tensorflow_io/python/ops/libtensorflow_io_plugins.so']\n",
      "caused by: ['/opt/conda/lib/python3.10/site-packages/tensorflow_io/python/ops/libtensorflow_io_plugins.so: undefined symbol: _ZN3tsl6StatusC1EN10tensorflow5error4CodeESt17basic_string_viewIcSt11char_traitsIcEENS_14SourceLocationE']\n",
      "  warnings.warn(f\"unable to load libtensorflow_io_plugins.so: {e}\")\n",
      "/opt/conda/lib/python3.10/site-packages/tensorflow_io/python/ops/__init__.py:104: UserWarning: file system plugins are not loaded: unable to open file: libtensorflow_io.so, from paths: ['/opt/conda/lib/python3.10/site-packages/tensorflow_io/python/ops/libtensorflow_io.so']\n",
      "caused by: ['/opt/conda/lib/python3.10/site-packages/tensorflow_io/python/ops/libtensorflow_io.so: undefined symbol: _ZTVN10tensorflow13GcsFileSystemE']\n",
      "  warnings.warn(f\"file system plugins are not loaded: {e}\")\n"
     ]
    }
   ],
   "source": [
    "import pandas as pd\n",
    "import numpy as np\n",
    "import os\n",
    "import tensorflow as tf\n",
    "import cv2\n",
    "from keras import backend as K\n",
    "from keras.layers import Layer, InputSpec\n",
    "import keras.layers as kl\n",
    "from glob import glob\n",
    "from sklearn.metrics import roc_curve, auc\n",
    "from keras.preprocessing import image\n",
    "from tensorflow.keras.models import Sequential\n",
    "from sklearn.metrics import roc_auc_score\n",
    "from tensorflow.keras import callbacks \n",
    "from tensorflow.keras.callbacks import ModelCheckpoint, EarlyStopping\n",
    "from  matplotlib import pyplot as plt\n",
    "from tensorflow.keras import Model\n",
    "from tensorflow.keras.layers import concatenate, Dense, Conv2D, MaxPooling2D, Flatten, Input, Activation, add, AveragePooling2D, BatchNormalization, Dropout, GlobalAveragePooling2D, GlobalMaxPooling2D\n",
    "%matplotlib inline\n",
    "import shutil\n",
    "from sklearn.metrics import  precision_score, recall_score, accuracy_score, classification_report, confusion_matrix\n",
    "from tensorflow.python.platform import build_info as tf_build_info\n",
    "from tensorflow.keras.preprocessing.image import ImageDataGenerator\n",
    "from sklearn.model_selection import train_test_split\n",
    "\n",
    "from PIL import ImageFile\n",
    "ImageFile.LOAD_TRUNCATED_IMAGES = True"
   ]
  },
  {
   "cell_type": "code",
   "execution_count": 2,
   "id": "67c03715",
   "metadata": {
    "execution": {
     "iopub.execute_input": "2023-06-03T18:38:55.520869Z",
     "iopub.status.busy": "2023-06-03T18:38:55.520262Z",
     "iopub.status.idle": "2023-06-03T18:38:55.524939Z",
     "shell.execute_reply": "2023-06-03T18:38:55.523988Z"
    },
    "id": "PsoqCvNsgmHP",
    "papermill": {
     "duration": 0.021781,
     "end_time": "2023-06-03T18:38:55.526820",
     "exception": false,
     "start_time": "2023-06-03T18:38:55.505039",
     "status": "completed"
    },
    "tags": []
   },
   "outputs": [],
   "source": [
    "targetnames = ['akiec', 'bcc', 'bkl', 'df', 'mel', 'nv', 'vasc']\n",
    "batch_size = 16\n",
    "image_size = 224"
   ]
  },
  {
   "cell_type": "code",
   "execution_count": 3,
   "id": "2dff1659",
   "metadata": {
    "execution": {
     "iopub.execute_input": "2023-06-03T18:38:55.555558Z",
     "iopub.status.busy": "2023-06-03T18:38:55.555295Z",
     "iopub.status.idle": "2023-06-03T18:38:55.559841Z",
     "shell.execute_reply": "2023-06-03T18:38:55.558988Z"
    },
    "id": "wNisha_gM3_Z",
    "papermill": {
     "duration": 0.021131,
     "end_time": "2023-06-03T18:38:55.561789",
     "exception": false,
     "start_time": "2023-06-03T18:38:55.540658",
     "status": "completed"
    },
    "tags": []
   },
   "outputs": [],
   "source": [
    "train_path = '/kaggle/input/splitted-and-augmented-ham-15/Splitted_And_Augmented_HAM_15/HAM10K/train_dir'\n",
    "test_path = '/kaggle/input/splitted-and-augmented-ham-15/Splitted_And_Augmented_HAM_15/HAM10K/test_dir'\n",
    "val_path = '/kaggle/input/splitted-and-augmented-ham-15/Splitted_And_Augmented_HAM_15/HAM10K/val_dir'"
   ]
  },
  {
   "cell_type": "markdown",
   "id": "ae37e765",
   "metadata": {
    "papermill": {
     "duration": 0.01371,
     "end_time": "2023-06-03T18:38:55.590067",
     "exception": false,
     "start_time": "2023-06-03T18:38:55.576357",
     "status": "completed"
    },
    "tags": []
   },
   "source": [
    "# Dataset generation (Train, Test, Validation)"
   ]
  },
  {
   "cell_type": "code",
   "execution_count": 4,
   "id": "3a8a9260",
   "metadata": {
    "execution": {
     "iopub.execute_input": "2023-06-03T18:38:55.619660Z",
     "iopub.status.busy": "2023-06-03T18:38:55.618864Z",
     "iopub.status.idle": "2023-06-03T18:38:55.623628Z",
     "shell.execute_reply": "2023-06-03T18:38:55.622813Z"
    },
    "id": "zhQWqdRN79B3",
    "papermill": {
     "duration": 0.021329,
     "end_time": "2023-06-03T18:38:55.625493",
     "exception": false,
     "start_time": "2023-06-03T18:38:55.604164",
     "status": "completed"
    },
    "tags": []
   },
   "outputs": [],
   "source": [
    "datagen = ImageDataGenerator(preprocessing_function=tf.keras.applications.resnet.preprocess_input)"
   ]
  },
  {
   "cell_type": "code",
   "execution_count": 5,
   "id": "8a466682",
   "metadata": {
    "execution": {
     "iopub.execute_input": "2023-06-03T18:38:55.657568Z",
     "iopub.status.busy": "2023-06-03T18:38:55.656864Z",
     "iopub.status.idle": "2023-06-03T18:39:13.388743Z",
     "shell.execute_reply": "2023-06-03T18:39:13.387859Z"
    },
    "id": "w9_8FvOO7Rtu",
    "outputId": "7ca88c24-fda8-45d6-cb32-f3a43ae6ba5b",
    "papermill": {
     "duration": 17.748817,
     "end_time": "2023-06-03T18:39:13.390895",
     "exception": false,
     "start_time": "2023-06-03T18:38:55.642078",
     "status": "completed"
    },
    "tags": []
   },
   "outputs": [
    {
     "name": "stdout",
     "output_type": "stream",
     "text": [
      "\n",
      "Train Batches: \n",
      "Found 54782 images belonging to 7 classes.\n",
      "\n",
      "Test Batches: \n",
      "Found 828 images belonging to 7 classes.\n",
      "\n",
      "Val Batches: \n",
      "Found 827 images belonging to 7 classes.\n"
     ]
    }
   ],
   "source": [
    "print(\"\\nTrain Batches: \")\n",
    "train_batches = datagen.flow_from_directory(directory=train_path,\n",
    "                                            target_size=(image_size,image_size),\n",
    "                                            batch_size=batch_size,\n",
    "                                            shuffle=True)\n",
    "\n",
    "print(\"\\nTest Batches: \")\n",
    "test_batches = datagen.flow_from_directory(test_path,\n",
    "                                          target_size=(image_size,image_size),\n",
    "                                          batch_size=batch_size,\n",
    "                                          shuffle=False)\n",
    "print(\"\\nVal Batches: \")\n",
    "val_batches = datagen.flow_from_directory(val_path,\n",
    "                                         target_size=(image_size,image_size),\n",
    "                                         batch_size=batch_size,\n",
    "                                         shuffle=False)"
   ]
  },
  {
   "cell_type": "markdown",
   "id": "cab06d20",
   "metadata": {
    "papermill": {
     "duration": 0.01423,
     "end_time": "2023-06-03T18:39:13.420066",
     "exception": false,
     "start_time": "2023-06-03T18:39:13.405836",
     "status": "completed"
    },
    "tags": []
   },
   "source": [
    "# Main Model Creation"
   ]
  },
  {
   "cell_type": "markdown",
   "id": "e5eab8a1",
   "metadata": {
    "papermill": {
     "duration": 0.01443,
     "end_time": "2023-06-03T18:39:13.448895",
     "exception": false,
     "start_time": "2023-06-03T18:39:13.434465",
     "status": "completed"
    },
    "tags": []
   },
   "source": [
    "### Soft Attention"
   ]
  },
  {
   "cell_type": "code",
   "execution_count": 6,
   "id": "c3f1301b",
   "metadata": {
    "execution": {
     "iopub.execute_input": "2023-06-03T18:39:13.479429Z",
     "iopub.status.busy": "2023-06-03T18:39:13.479118Z",
     "iopub.status.idle": "2023-06-03T18:39:13.500423Z",
     "shell.execute_reply": "2023-06-03T18:39:13.499500Z"
    },
    "papermill": {
     "duration": 0.038895,
     "end_time": "2023-06-03T18:39:13.502492",
     "exception": false,
     "start_time": "2023-06-03T18:39:13.463597",
     "status": "completed"
    },
    "tags": []
   },
   "outputs": [],
   "source": [
    "from keras import backend as K\n",
    "from keras.layers import Layer,InputSpec\n",
    "import keras.layers as kl\n",
    "import tensorflow as tf\n",
    "\n",
    "\n",
    "\n",
    "class SoftAttention(Layer):\n",
    "    def __init__(self,ch,m,concat_with_x=False,aggregate=False,**kwargs):\n",
    "        self.channels=int(ch)\n",
    "        self.multiheads = m\n",
    "        self.aggregate_channels = aggregate\n",
    "        self.concat_input_with_scaled = concat_with_x\n",
    "\n",
    "        \n",
    "        super(SoftAttention,self).__init__(**kwargs)\n",
    "\n",
    "    def build(self,input_shape):\n",
    "\n",
    "        self.i_shape = input_shape\n",
    "\n",
    "        kernel_shape_conv3d = (self.channels, 3, 3) + (1, self.multiheads) # DHWC\n",
    "    \n",
    "        self.out_attention_maps_shape = input_shape[0:1]+(self.multiheads,)+input_shape[1:-1]\n",
    "        \n",
    "        if self.aggregate_channels==False:\n",
    "\n",
    "            self.out_features_shape = input_shape[:-1]+(input_shape[-1]+(input_shape[-1]*self.multiheads),)\n",
    "        else:\n",
    "            if self.concat_input_with_scaled:\n",
    "                self.out_features_shape = input_shape[:-1]+(input_shape[-1]*2,)\n",
    "            else:\n",
    "                self.out_features_shape = input_shape\n",
    "        \n",
    "\n",
    "        self.kernel_conv3d = self.add_weight(shape=kernel_shape_conv3d,\n",
    "                                        initializer='he_uniform',\n",
    "                                        name='kernel_conv3d')\n",
    "        self.bias_conv3d = self.add_weight(shape=(self.multiheads,),\n",
    "                                      initializer='zeros',\n",
    "                                      name='bias_conv3d')\n",
    "\n",
    "        super(SoftAttention, self).build(input_shape)\n",
    "\n",
    "    def call(self, x):\n",
    "\n",
    "        exp_x = K.expand_dims(x,axis=-1)\n",
    "\n",
    "        c3d = K.conv3d(exp_x,\n",
    "                     kernel=self.kernel_conv3d,\n",
    "                     strides=(1,1,self.i_shape[-1]), padding='same', data_format='channels_last')\n",
    "        conv3d = K.bias_add(c3d,\n",
    "                        self.bias_conv3d)\n",
    "        conv3d = kl.Activation('relu')(conv3d)\n",
    "\n",
    "        conv3d = K.permute_dimensions(conv3d,pattern=(0,4,1,2,3))\n",
    "\n",
    "        \n",
    "        conv3d = K.squeeze(conv3d, axis=-1)\n",
    "        conv3d = K.reshape(conv3d,shape=(-1, self.multiheads ,self.i_shape[1]*self.i_shape[2]))\n",
    "\n",
    "        softmax_alpha = K.softmax(conv3d, axis=-1) \n",
    "        softmax_alpha = kl.Reshape(target_shape=(self.multiheads, self.i_shape[1],self.i_shape[2]))(softmax_alpha)\n",
    "\n",
    "        \n",
    "        if self.aggregate_channels==False:\n",
    "            exp_softmax_alpha = K.expand_dims(softmax_alpha, axis=-1)       \n",
    "            exp_softmax_alpha = K.permute_dimensions(exp_softmax_alpha,pattern=(0,2,3,1,4))\n",
    "   \n",
    "            x_exp = K.expand_dims(x,axis=-2)\n",
    "   \n",
    "            u = kl.Multiply()([exp_softmax_alpha, x_exp])   \n",
    "  \n",
    "            u = kl.Reshape(target_shape=(self.i_shape[1],self.i_shape[2],u.shape[-1]*u.shape[-2]))(u)\n",
    "\n",
    "        else:\n",
    "            exp_softmax_alpha = K.permute_dimensions(softmax_alpha,pattern=(0,2,3,1))\n",
    "\n",
    "            exp_softmax_alpha = K.sum(exp_softmax_alpha,axis=-1)\n",
    "\n",
    "            exp_softmax_alpha = K.expand_dims(exp_softmax_alpha, axis=-1)\n",
    "\n",
    "            u = kl.Multiply()([exp_softmax_alpha, x])   \n",
    "\n",
    "        if self.concat_input_with_scaled:\n",
    "            o = kl.Concatenate(axis=-1)([u,x])\n",
    "        else:\n",
    "            o = u\n",
    "        \n",
    "        return [o, softmax_alpha]\n",
    "\n",
    "    def compute_output_shape(self, input_shape): \n",
    "        return [self.out_features_shape, self.out_attention_maps_shape]\n",
    "\n",
    "    \n",
    "    def get_config(self):\n",
    "        return super(SoftAttention,self).get_config()\n",
    " "
   ]
  },
  {
   "cell_type": "markdown",
   "id": "6b99635b",
   "metadata": {
    "papermill": {
     "duration": 0.014846,
     "end_time": "2023-06-03T18:39:13.532280",
     "exception": false,
     "start_time": "2023-06-03T18:39:13.517434",
     "status": "completed"
    },
    "tags": []
   },
   "source": [
    "### Define Model"
   ]
  },
  {
   "cell_type": "code",
   "execution_count": 7,
   "id": "87fddd6e",
   "metadata": {
    "execution": {
     "iopub.execute_input": "2023-06-03T18:39:13.562849Z",
     "iopub.status.busy": "2023-06-03T18:39:13.562510Z",
     "iopub.status.idle": "2023-06-03T18:39:22.913603Z",
     "shell.execute_reply": "2023-06-03T18:39:22.912662Z"
    },
    "id": "zhQWqdRN79B3",
    "papermill": {
     "duration": 9.368976,
     "end_time": "2023-06-03T18:39:22.916074",
     "exception": false,
     "start_time": "2023-06-03T18:39:13.547098",
     "status": "completed"
    },
    "tags": []
   },
   "outputs": [
    {
     "name": "stdout",
     "output_type": "stream",
     "text": [
      "Downloading data from https://storage.googleapis.com/tensorflow/keras-applications/resnet/resnet152_weights_tf_dim_ordering_tf_kernels_notop.h5\n",
      "234698864/234698864 [==============================] - 1s 0us/step\n"
     ]
    }
   ],
   "source": [
    "from tensorflow.keras.applications.resnet import ResNet152\n",
    "\n",
    "RN152 = ResNet152(weights='imagenet', include_top=False, input_shape=(image_size, image_size, 3), pooling='avg')"
   ]
  },
  {
   "cell_type": "markdown",
   "id": "700c765f",
   "metadata": {
    "papermill": {
     "duration": 0.015935,
     "end_time": "2023-06-03T18:39:22.948497",
     "exception": false,
     "start_time": "2023-06-03T18:39:22.932562",
     "status": "completed"
    },
    "tags": []
   },
   "source": [
    "## Fine tuning"
   ]
  },
  {
   "cell_type": "code",
   "execution_count": 8,
   "id": "762787dd",
   "metadata": {
    "execution": {
     "iopub.execute_input": "2023-06-03T18:39:22.982028Z",
     "iopub.status.busy": "2023-06-03T18:39:22.981381Z",
     "iopub.status.idle": "2023-06-03T18:39:22.987966Z",
     "shell.execute_reply": "2023-06-03T18:39:22.987108Z"
    },
    "id": "4d4Ta5LcSYaz",
    "papermill": {
     "duration": 0.025259,
     "end_time": "2023-06-03T18:39:22.989870",
     "exception": false,
     "start_time": "2023-06-03T18:39:22.964611",
     "status": "completed"
    },
    "tags": []
   },
   "outputs": [],
   "source": [
    "MainInput=Input(shape=(image_size, image_size, 3))"
   ]
  },
  {
   "cell_type": "code",
   "execution_count": 9,
   "id": "12f09069",
   "metadata": {
    "execution": {
     "iopub.execute_input": "2023-06-03T18:39:23.023663Z",
     "iopub.status.busy": "2023-06-03T18:39:23.022989Z",
     "iopub.status.idle": "2023-06-03T18:39:24.382359Z",
     "shell.execute_reply": "2023-06-03T18:39:24.381316Z"
    },
    "papermill": {
     "duration": 1.378831,
     "end_time": "2023-06-03T18:39:24.385069",
     "exception": false,
     "start_time": "2023-06-03T18:39:23.006238",
     "status": "completed"
    },
    "tags": []
   },
   "outputs": [],
   "source": [
    "rn152 = RN152(MainInput)"
   ]
  },
  {
   "cell_type": "code",
   "execution_count": 10,
   "id": "267bfd96",
   "metadata": {
    "execution": {
     "iopub.execute_input": "2023-06-03T18:39:24.421731Z",
     "iopub.status.busy": "2023-06-03T18:39:24.421361Z",
     "iopub.status.idle": "2023-06-03T18:39:24.436988Z",
     "shell.execute_reply": "2023-06-03T18:39:24.436123Z"
    },
    "papermill": {
     "duration": 0.036101,
     "end_time": "2023-06-03T18:39:24.439161",
     "exception": false,
     "start_time": "2023-06-03T18:39:24.403060",
     "status": "completed"
    },
    "tags": []
   },
   "outputs": [],
   "source": [
    "# Reshape the tensor to have 4 dimensions\n",
    "from tensorflow.keras.layers import Reshape\n",
    "reshape = Reshape((16, 16, 8))(rn152)"
   ]
  },
  {
   "cell_type": "code",
   "execution_count": 11,
   "id": "66ec59b3",
   "metadata": {
    "execution": {
     "iopub.execute_input": "2023-06-03T18:39:24.473548Z",
     "iopub.status.busy": "2023-06-03T18:39:24.473279Z",
     "iopub.status.idle": "2023-06-03T18:39:24.568344Z",
     "shell.execute_reply": "2023-06-03T18:39:24.567430Z"
    },
    "id": "x8mS99J5SYbT",
    "papermill": {
     "duration": 0.11438,
     "end_time": "2023-06-03T18:39:24.570549",
     "exception": false,
     "start_time": "2023-06-03T18:39:24.456169",
     "status": "completed"
    },
    "tags": []
   },
   "outputs": [],
   "source": [
    "# Add convolutional layers with Channel Attention\n",
    "conv = Conv2D(filters=128, kernel_size=(7, 7), activation=\"relu\", padding=\"same\", kernel_initializer='he_normal')(reshape)\n",
    "conv = BatchNormalization()(conv)\n",
    "conv = Conv2D(filters=128, kernel_size=(5, 5), activation=\"relu\", padding=\"same\", kernel_initializer='he_normal')(conv)\n",
    "conv = BatchNormalization()(conv)\n",
    "conv = Conv2D(filters=128, kernel_size=(3, 3), activation=\"relu\", padding=\"same\", kernel_initializer='he_normal')(conv)\n",
    "conv = BatchNormalization()(conv)\n",
    "conv = Conv2D(filters=128, kernel_size=(1, 1), activation=\"relu\", padding=\"same\", kernel_initializer='he_normal')(conv)\n",
    "conv = BatchNormalization()(conv)"
   ]
  },
  {
   "cell_type": "code",
   "execution_count": 12,
   "id": "9cb40f0b",
   "metadata": {
    "execution": {
     "iopub.execute_input": "2023-06-03T18:39:24.605295Z",
     "iopub.status.busy": "2023-06-03T18:39:24.604986Z",
     "iopub.status.idle": "2023-06-03T18:39:24.945258Z",
     "shell.execute_reply": "2023-06-03T18:39:24.944309Z"
    },
    "papermill": {
     "duration": 0.360246,
     "end_time": "2023-06-03T18:39:24.947673",
     "exception": false,
     "start_time": "2023-06-03T18:39:24.587427",
     "status": "completed"
    },
    "tags": []
   },
   "outputs": [],
   "source": [
    "attention_layer,map2 = SoftAttention(aggregate=True,m=16,concat_with_x=False,ch=int(conv.shape[-1]),name='soft_attention')(conv)\n",
    "attention_layer=(MaxPooling2D(pool_size=(2, 2),padding=\"same\")(attention_layer))\n",
    "conv=(MaxPooling2D(pool_size=(2, 2),padding=\"same\")(conv))\n",
    "\n",
    "conv = concatenate([conv,attention_layer])\n",
    "conv  = Activation('relu')(conv)\n",
    "conv = Dropout(0.5)(conv)"
   ]
  },
  {
   "cell_type": "code",
   "execution_count": 13,
   "id": "90b5794a",
   "metadata": {
    "execution": {
     "iopub.execute_input": "2023-06-03T18:39:24.982459Z",
     "iopub.status.busy": "2023-06-03T18:39:24.982134Z",
     "iopub.status.idle": "2023-06-03T18:39:25.074703Z",
     "shell.execute_reply": "2023-06-03T18:39:25.073828Z"
    },
    "id": "sW4tKg9wSYbk",
    "papermill": {
     "duration": 0.11258,
     "end_time": "2023-06-03T18:39:25.076946",
     "exception": false,
     "start_time": "2023-06-03T18:39:24.964366",
     "status": "completed"
    },
    "tags": []
   },
   "outputs": [],
   "source": [
    "conv = Conv2D(filters=256,kernel_size=(7,7), activation=\"relu\",padding=\"same\",kernel_initializer='he_normal')(conv)\n",
    "conv = BatchNormalization()(conv)\n",
    "conv = Conv2D(filters=256,kernel_size=(5,5), activation=\"relu\",padding=\"same\",kernel_initializer='he_normal')(conv)\n",
    "conv = BatchNormalization()(conv)\n",
    "conv = Conv2D(filters=256,kernel_size=(3,3), activation=\"relu\",padding=\"same\",kernel_initializer='he_normal')(conv)\n",
    "conv = BatchNormalization()(conv)\n",
    "conv = Conv2D(filters=256,kernel_size=(1,1), activation=\"relu\",padding=\"same\",kernel_initializer='he_normal')(conv)\n",
    "conv = BatchNormalization()(conv)"
   ]
  },
  {
   "cell_type": "code",
   "execution_count": 14,
   "id": "66b144a5",
   "metadata": {
    "execution": {
     "iopub.execute_input": "2023-06-03T18:39:25.111160Z",
     "iopub.status.busy": "2023-06-03T18:39:25.110379Z",
     "iopub.status.idle": "2023-06-03T18:39:25.157458Z",
     "shell.execute_reply": "2023-06-03T18:39:25.156632Z"
    },
    "papermill": {
     "duration": 0.066473,
     "end_time": "2023-06-03T18:39:25.159566",
     "exception": false,
     "start_time": "2023-06-03T18:39:25.093093",
     "status": "completed"
    },
    "tags": []
   },
   "outputs": [],
   "source": [
    "attention_layer,map2 = SoftAttention(aggregate=True,m=16,concat_with_x=False,ch=int(conv.shape[-1]),name='soft_attention_2')(conv)\n",
    "attention_layer=(MaxPooling2D(pool_size=(2, 2),padding=\"same\")(attention_layer))\n",
    "conv=(MaxPooling2D(pool_size=(2, 2),padding=\"same\")(conv))\n",
    "\n",
    "conv = concatenate([conv,attention_layer])\n",
    "conv  = Activation('relu')(conv)\n",
    "conv = Dropout(0.5)(conv)"
   ]
  },
  {
   "cell_type": "code",
   "execution_count": 15,
   "id": "7df7caab",
   "metadata": {
    "execution": {
     "iopub.execute_input": "2023-06-03T18:39:25.193261Z",
     "iopub.status.busy": "2023-06-03T18:39:25.192965Z",
     "iopub.status.idle": "2023-06-03T18:39:25.197833Z",
     "shell.execute_reply": "2023-06-03T18:39:25.196850Z"
    },
    "papermill": {
     "duration": 0.025381,
     "end_time": "2023-06-03T18:39:25.201169",
     "exception": false,
     "start_time": "2023-06-03T18:39:25.175788",
     "status": "completed"
    },
    "tags": []
   },
   "outputs": [
    {
     "name": "stdout",
     "output_type": "stream",
     "text": [
      "7\n"
     ]
    }
   ],
   "source": [
    "num_classes = test_batches.num_classes\n",
    "print(num_classes)"
   ]
  },
  {
   "cell_type": "code",
   "execution_count": 16,
   "id": "b5724c90",
   "metadata": {
    "execution": {
     "iopub.execute_input": "2023-06-03T18:39:25.234501Z",
     "iopub.status.busy": "2023-06-03T18:39:25.234222Z",
     "iopub.status.idle": "2023-06-03T18:39:25.287669Z",
     "shell.execute_reply": "2023-06-03T18:39:25.286784Z"
    },
    "id": "-EdFxKdgSYcf",
    "papermill": {
     "duration": 0.072477,
     "end_time": "2023-06-03T18:39:25.289713",
     "exception": false,
     "start_time": "2023-06-03T18:39:25.217236",
     "status": "completed"
    },
    "tags": []
   },
   "outputs": [],
   "source": [
    "conv=(Flatten()(conv))\n",
    "conv=(Dense(1024,activation=\"relu\")(conv))\n",
    "conv = Dropout(0.5)(conv)\n",
    "conv=(Dense(512,activation=\"relu\")(conv))\n",
    "conv = Dropout(0.25)(conv)\n",
    "conv=(Dense(num_classes, activation=\"softmax\")(conv))\n",
    "\n",
    "model_rn152_sa = Model(inputs=MainInput, outputs=conv)"
   ]
  },
  {
   "cell_type": "code",
   "execution_count": 17,
   "id": "0e1e5bf4",
   "metadata": {
    "execution": {
     "iopub.execute_input": "2023-06-03T18:39:25.323305Z",
     "iopub.status.busy": "2023-06-03T18:39:25.323021Z",
     "iopub.status.idle": "2023-06-03T18:39:25.479354Z",
     "shell.execute_reply": "2023-06-03T18:39:25.478346Z"
    },
    "id": "ba8ajOckSYcl",
    "outputId": "e69fa749-4741-4f49-ae3e-9f5479e809a8",
    "papermill": {
     "duration": 0.179801,
     "end_time": "2023-06-03T18:39:25.485709",
     "exception": false,
     "start_time": "2023-06-03T18:39:25.305908",
     "status": "completed"
    },
    "tags": []
   },
   "outputs": [
    {
     "name": "stdout",
     "output_type": "stream",
     "text": [
      "Model: \"model\"\n",
      "__________________________________________________________________________________________________\n",
      " Layer (type)                   Output Shape         Param #     Connected to                     \n",
      "==================================================================================================\n",
      " input_2 (InputLayer)           [(None, 224, 224, 3  0           []                               \n",
      "                                )]                                                                \n",
      "                                                                                                  \n",
      " resnet152 (Functional)         (None, 2048)         58370944    ['input_2[0][0]']                \n",
      "                                                                                                  \n",
      " reshape (Reshape)              (None, 16, 16, 8)    0           ['resnet152[0][0]']              \n",
      "                                                                                                  \n",
      " conv2d (Conv2D)                (None, 16, 16, 128)  50304       ['reshape[0][0]']                \n",
      "                                                                                                  \n",
      " batch_normalization (BatchNorm  (None, 16, 16, 128)  512        ['conv2d[0][0]']                 \n",
      " alization)                                                                                       \n",
      "                                                                                                  \n",
      " conv2d_1 (Conv2D)              (None, 16, 16, 128)  409728      ['batch_normalization[0][0]']    \n",
      "                                                                                                  \n",
      " batch_normalization_1 (BatchNo  (None, 16, 16, 128)  512        ['conv2d_1[0][0]']               \n",
      " rmalization)                                                                                     \n",
      "                                                                                                  \n",
      " conv2d_2 (Conv2D)              (None, 16, 16, 128)  147584      ['batch_normalization_1[0][0]']  \n",
      "                                                                                                  \n",
      " batch_normalization_2 (BatchNo  (None, 16, 16, 128)  512        ['conv2d_2[0][0]']               \n",
      " rmalization)                                                                                     \n",
      "                                                                                                  \n",
      " conv2d_3 (Conv2D)              (None, 16, 16, 128)  16512       ['batch_normalization_2[0][0]']  \n",
      "                                                                                                  \n",
      " batch_normalization_3 (BatchNo  (None, 16, 16, 128)  512        ['conv2d_3[0][0]']               \n",
      " rmalization)                                                                                     \n",
      "                                                                                                  \n",
      " soft_attention (SoftAttention)  [(None, 16, 16, 128  18448      ['batch_normalization_3[0][0]']  \n",
      "                                ),                                                                \n",
      "                                 (None, 16, 16, 16)                                               \n",
      "                                ]                                                                 \n",
      "                                                                                                  \n",
      " max_pooling2d_1 (MaxPooling2D)  (None, 8, 8, 128)   0           ['batch_normalization_3[0][0]']  \n",
      "                                                                                                  \n",
      " max_pooling2d (MaxPooling2D)   (None, 8, 8, 128)    0           ['soft_attention[0][0]']         \n",
      "                                                                                                  \n",
      " concatenate (Concatenate)      (None, 8, 8, 256)    0           ['max_pooling2d_1[0][0]',        \n",
      "                                                                  'max_pooling2d[0][0]']          \n",
      "                                                                                                  \n",
      " activation (Activation)        (None, 8, 8, 256)    0           ['concatenate[0][0]']            \n",
      "                                                                                                  \n",
      " dropout (Dropout)              (None, 8, 8, 256)    0           ['activation[0][0]']             \n",
      "                                                                                                  \n",
      " conv2d_4 (Conv2D)              (None, 8, 8, 256)    3211520     ['dropout[0][0]']                \n",
      "                                                                                                  \n",
      " batch_normalization_4 (BatchNo  (None, 8, 8, 256)   1024        ['conv2d_4[0][0]']               \n",
      " rmalization)                                                                                     \n",
      "                                                                                                  \n",
      " conv2d_5 (Conv2D)              (None, 8, 8, 256)    1638656     ['batch_normalization_4[0][0]']  \n",
      "                                                                                                  \n",
      " batch_normalization_5 (BatchNo  (None, 8, 8, 256)   1024        ['conv2d_5[0][0]']               \n",
      " rmalization)                                                                                     \n",
      "                                                                                                  \n",
      " conv2d_6 (Conv2D)              (None, 8, 8, 256)    590080      ['batch_normalization_5[0][0]']  \n",
      "                                                                                                  \n",
      " batch_normalization_6 (BatchNo  (None, 8, 8, 256)   1024        ['conv2d_6[0][0]']               \n",
      " rmalization)                                                                                     \n",
      "                                                                                                  \n",
      " conv2d_7 (Conv2D)              (None, 8, 8, 256)    65792       ['batch_normalization_6[0][0]']  \n",
      "                                                                                                  \n",
      " batch_normalization_7 (BatchNo  (None, 8, 8, 256)   1024        ['conv2d_7[0][0]']               \n",
      " rmalization)                                                                                     \n",
      "                                                                                                  \n",
      " soft_attention_2 (SoftAttentio  [(None, 8, 8, 256),  36880      ['batch_normalization_7[0][0]']  \n",
      " n)                              (None, 16, 8, 8)]                                                \n",
      "                                                                                                  \n",
      " max_pooling2d_3 (MaxPooling2D)  (None, 4, 4, 256)   0           ['batch_normalization_7[0][0]']  \n",
      "                                                                                                  \n",
      " max_pooling2d_2 (MaxPooling2D)  (None, 4, 4, 256)   0           ['soft_attention_2[0][0]']       \n",
      "                                                                                                  \n",
      " concatenate_1 (Concatenate)    (None, 4, 4, 512)    0           ['max_pooling2d_3[0][0]',        \n",
      "                                                                  'max_pooling2d_2[0][0]']        \n",
      "                                                                                                  \n",
      " activation_1 (Activation)      (None, 4, 4, 512)    0           ['concatenate_1[0][0]']          \n",
      "                                                                                                  \n",
      " dropout_1 (Dropout)            (None, 4, 4, 512)    0           ['activation_1[0][0]']           \n",
      "                                                                                                  \n",
      " flatten (Flatten)              (None, 8192)         0           ['dropout_1[0][0]']              \n",
      "                                                                                                  \n",
      " dense (Dense)                  (None, 1024)         8389632     ['flatten[0][0]']                \n",
      "                                                                                                  \n",
      " dropout_2 (Dropout)            (None, 1024)         0           ['dense[0][0]']                  \n",
      "                                                                                                  \n",
      " dense_1 (Dense)                (None, 512)          524800      ['dropout_2[0][0]']              \n",
      "                                                                                                  \n",
      " dropout_3 (Dropout)            (None, 512)          0           ['dense_1[0][0]']                \n",
      "                                                                                                  \n",
      " dense_2 (Dense)                (None, 7)            3591        ['dropout_3[0][0]']              \n",
      "                                                                                                  \n",
      "==================================================================================================\n",
      "Total params: 73,480,615\n",
      "Trainable params: 73,326,119\n",
      "Non-trainable params: 154,496\n",
      "__________________________________________________________________________________________________\n"
     ]
    }
   ],
   "source": [
    "model_rn152_sa.summary()"
   ]
  },
  {
   "cell_type": "code",
   "execution_count": 18,
   "id": "f68adce2",
   "metadata": {
    "execution": {
     "iopub.execute_input": "2023-06-03T18:39:25.533259Z",
     "iopub.status.busy": "2023-06-03T18:39:25.532989Z",
     "iopub.status.idle": "2023-06-03T18:39:25.561425Z",
     "shell.execute_reply": "2023-06-03T18:39:25.560583Z"
    },
    "id": "WR0fUpy18vAZ",
    "papermill": {
     "duration": 0.054312,
     "end_time": "2023-06-03T18:39:25.563305",
     "exception": false,
     "start_time": "2023-06-03T18:39:25.508993",
     "status": "completed"
    },
    "tags": []
   },
   "outputs": [],
   "source": [
    "opt1=tf.keras.optimizers.Adam(learning_rate=0.001,epsilon=0.1)\n",
    "model_rn152_sa.compile(optimizer=opt1,\n",
    "             loss='categorical_crossentropy',\n",
    "             metrics=['accuracy'])"
   ]
  },
  {
   "cell_type": "code",
   "execution_count": 19,
   "id": "87c39089",
   "metadata": {
    "execution": {
     "iopub.execute_input": "2023-06-03T18:39:25.612134Z",
     "iopub.status.busy": "2023-06-03T18:39:25.611883Z",
     "iopub.status.idle": "2023-06-03T18:39:25.616443Z",
     "shell.execute_reply": "2023-06-03T18:39:25.615517Z"
    },
    "id": "LAf5ha295reS",
    "papermill": {
     "duration": 0.030991,
     "end_time": "2023-06-03T18:39:25.618340",
     "exception": false,
     "start_time": "2023-06-03T18:39:25.587349",
     "status": "completed"
    },
    "tags": []
   },
   "outputs": [],
   "source": [
    "class_weights = {   \n",
    "                    0: 1.0,  # akiec\n",
    "                    1: 1.0,  # bcc\n",
    "                    2: 1.0,  # bkl\n",
    "                    3: 1.0,  # df\n",
    "                    4: 1.0,  # mel\n",
    "                    5: 1.0,  # nv\n",
    "                    6: 1.0  # vasc\n",
    "                }"
   ]
  },
  {
   "cell_type": "code",
   "execution_count": 20,
   "id": "298feca9",
   "metadata": {
    "execution": {
     "iopub.execute_input": "2023-06-03T18:39:25.666416Z",
     "iopub.status.busy": "2023-06-03T18:39:25.665522Z",
     "iopub.status.idle": "2023-06-03T18:39:25.670636Z",
     "shell.execute_reply": "2023-06-03T18:39:25.669769Z"
    },
    "papermill": {
     "duration": 0.031516,
     "end_time": "2023-06-03T18:39:25.672588",
     "exception": false,
     "start_time": "2023-06-03T18:39:25.641072",
     "status": "completed"
    },
    "tags": []
   },
   "outputs": [],
   "source": [
    "checkpoint = ModelCheckpoint(filepath ='RN152_SA.hdf5', monitor='val_accuracy', save_best_only=True, save_weights_only=True)\n",
    "Earlystop = EarlyStopping(monitor='val_accuracy', mode='max', patience=25, min_delta=0.01)"
   ]
  },
  {
   "cell_type": "code",
   "execution_count": 21,
   "id": "1bba5fe1",
   "metadata": {
    "execution": {
     "iopub.execute_input": "2023-06-03T18:39:25.719894Z",
     "iopub.status.busy": "2023-06-03T18:39:25.719133Z",
     "iopub.status.idle": "2023-06-04T05:39:32.179810Z",
     "shell.execute_reply": "2023-06-04T05:39:32.178719Z"
    },
    "id": "NUzTmiZ-8hL3",
    "outputId": "e1825ff2-9f9c-436f-cf2c-9776af8eee62",
    "papermill": {
     "duration": 39606.512866,
     "end_time": "2023-06-04T05:39:32.208334",
     "exception": false,
     "start_time": "2023-06-03T18:39:25.695468",
     "status": "completed"
    },
    "tags": []
   },
   "outputs": [
    {
     "name": "stdout",
     "output_type": "stream",
     "text": [
      "Epoch 1/50\n"
     ]
    },
    {
     "name": "stderr",
     "output_type": "stream",
     "text": [
      "2023-06-03 18:40:14.027470: E tensorflow/core/grappler/optimizers/meta_optimizer.cc:954] layout failed: INVALID_ARGUMENT: Size of values 0 does not match size of permutation 4 @ fanin shape inmodel/dropout/dropout/SelectV2-2-TransposeNHWCToNCHW-LayoutOptimizer\n"
     ]
    },
    {
     "name": "stdout",
     "output_type": "stream",
     "text": [
      "3424/3424 - 1083s - loss: 1.4049 - accuracy: 0.4637 - val_loss: 0.4491 - val_accuracy: 0.8501 - 1083s/epoch - 316ms/step\n",
      "Epoch 2/50\n",
      "3424/3424 - 950s - loss: 0.6278 - accuracy: 0.7803 - val_loss: 0.5114 - val_accuracy: 0.8912 - 950s/epoch - 277ms/step\n",
      "Epoch 3/50\n",
      "3424/3424 - 949s - loss: 0.3641 - accuracy: 0.8767 - val_loss: 0.3719 - val_accuracy: 0.8912 - 949s/epoch - 277ms/step\n",
      "Epoch 4/50\n",
      "3424/3424 - 950s - loss: 0.2334 - accuracy: 0.9199 - val_loss: 0.4719 - val_accuracy: 0.8972 - 950s/epoch - 278ms/step\n",
      "Epoch 5/50\n",
      "3424/3424 - 948s - loss: 0.1612 - accuracy: 0.9452 - val_loss: 0.4097 - val_accuracy: 0.8924 - 948s/epoch - 277ms/step\n",
      "Epoch 6/50\n",
      "3424/3424 - 947s - loss: 0.1234 - accuracy: 0.9588 - val_loss: 0.5391 - val_accuracy: 0.8900 - 947s/epoch - 277ms/step\n",
      "Epoch 7/50\n",
      "3424/3424 - 948s - loss: 0.0939 - accuracy: 0.9699 - val_loss: 0.4991 - val_accuracy: 0.8827 - 948s/epoch - 277ms/step\n",
      "Epoch 8/50\n",
      "3424/3424 - 949s - loss: 0.0680 - accuracy: 0.9776 - val_loss: 0.4173 - val_accuracy: 0.9033 - 949s/epoch - 277ms/step\n",
      "Epoch 9/50\n",
      "3424/3424 - 948s - loss: 0.0539 - accuracy: 0.9818 - val_loss: 2.4669 - val_accuracy: 0.4595 - 948s/epoch - 277ms/step\n",
      "Epoch 10/50\n",
      "3424/3424 - 950s - loss: 0.0530 - accuracy: 0.9833 - val_loss: 0.4338 - val_accuracy: 0.9045 - 950s/epoch - 277ms/step\n",
      "Epoch 11/50\n",
      "3424/3424 - 947s - loss: 0.0631 - accuracy: 0.9799 - val_loss: 0.7458 - val_accuracy: 0.7836 - 947s/epoch - 277ms/step\n",
      "Epoch 12/50\n",
      "3424/3424 - 950s - loss: 0.0361 - accuracy: 0.9879 - val_loss: 0.4982 - val_accuracy: 0.9021 - 950s/epoch - 277ms/step\n",
      "Epoch 13/50\n",
      "3424/3424 - 948s - loss: 0.0296 - accuracy: 0.9904 - val_loss: 0.7094 - val_accuracy: 0.7993 - 948s/epoch - 277ms/step\n",
      "Epoch 14/50\n",
      "3424/3424 - 947s - loss: 0.0239 - accuracy: 0.9929 - val_loss: 0.4823 - val_accuracy: 0.9021 - 947s/epoch - 277ms/step\n",
      "Epoch 15/50\n",
      "3424/3424 - 948s - loss: 0.0196 - accuracy: 0.9943 - val_loss: 0.4334 - val_accuracy: 0.9057 - 948s/epoch - 277ms/step\n",
      "Epoch 16/50\n",
      "3424/3424 - 948s - loss: 0.0167 - accuracy: 0.9948 - val_loss: 0.4550 - val_accuracy: 0.9190 - 948s/epoch - 277ms/step\n",
      "Epoch 17/50\n",
      "3424/3424 - 947s - loss: 0.0176 - accuracy: 0.9947 - val_loss: 0.4833 - val_accuracy: 0.9057 - 947s/epoch - 277ms/step\n",
      "Epoch 18/50\n",
      "3424/3424 - 948s - loss: 0.0138 - accuracy: 0.9954 - val_loss: 0.5483 - val_accuracy: 0.9105 - 948s/epoch - 277ms/step\n",
      "Epoch 19/50\n",
      "3424/3424 - 947s - loss: 0.0148 - accuracy: 0.9954 - val_loss: 0.4661 - val_accuracy: 0.9057 - 947s/epoch - 276ms/step\n",
      "Epoch 20/50\n",
      "3424/3424 - 946s - loss: 0.0144 - accuracy: 0.9958 - val_loss: 0.5038 - val_accuracy: 0.9141 - 946s/epoch - 276ms/step\n",
      "Epoch 21/50\n",
      "3424/3424 - 946s - loss: 0.0124 - accuracy: 0.9961 - val_loss: 0.4523 - val_accuracy: 0.9105 - 946s/epoch - 276ms/step\n",
      "Epoch 22/50\n",
      "3424/3424 - 946s - loss: 0.0099 - accuracy: 0.9971 - val_loss: 0.4737 - val_accuracy: 0.9069 - 946s/epoch - 276ms/step\n",
      "Epoch 23/50\n",
      "3424/3424 - 947s - loss: 0.0154 - accuracy: 0.9954 - val_loss: 0.5105 - val_accuracy: 0.8936 - 947s/epoch - 277ms/step\n",
      "Epoch 24/50\n",
      "3424/3424 - 946s - loss: 0.0174 - accuracy: 0.9945 - val_loss: 0.5487 - val_accuracy: 0.8815 - 946s/epoch - 276ms/step\n",
      "Epoch 25/50\n",
      "3424/3424 - 947s - loss: 0.0109 - accuracy: 0.9967 - val_loss: 0.5589 - val_accuracy: 0.8972 - 947s/epoch - 277ms/step\n",
      "Epoch 26/50\n",
      "3424/3424 - 946s - loss: 0.0083 - accuracy: 0.9974 - val_loss: 0.5096 - val_accuracy: 0.9057 - 946s/epoch - 276ms/step\n",
      "Epoch 27/50\n",
      "3424/3424 - 947s - loss: 0.0083 - accuracy: 0.9975 - val_loss: 0.5024 - val_accuracy: 0.9129 - 947s/epoch - 277ms/step\n",
      "Epoch 28/50\n",
      "3424/3424 - 945s - loss: 0.0079 - accuracy: 0.9977 - val_loss: 0.5884 - val_accuracy: 0.9057 - 945s/epoch - 276ms/step\n",
      "Epoch 29/50\n",
      "3424/3424 - 946s - loss: 0.0096 - accuracy: 0.9974 - val_loss: 0.6007 - val_accuracy: 0.8912 - 946s/epoch - 276ms/step\n",
      "Epoch 30/50\n",
      "3424/3424 - 946s - loss: 0.0072 - accuracy: 0.9977 - val_loss: 0.5919 - val_accuracy: 0.9045 - 946s/epoch - 276ms/step\n",
      "Epoch 31/50\n",
      "3424/3424 - 948s - loss: 0.0127 - accuracy: 0.9965 - val_loss: 0.5129 - val_accuracy: 0.8996 - 948s/epoch - 277ms/step\n",
      "Epoch 32/50\n",
      "3424/3424 - 947s - loss: 0.0086 - accuracy: 0.9976 - val_loss: 0.6016 - val_accuracy: 0.8863 - 947s/epoch - 277ms/step\n",
      "Epoch 33/50\n",
      "3424/3424 - 947s - loss: 0.0093 - accuracy: 0.9972 - val_loss: 0.5950 - val_accuracy: 0.9057 - 947s/epoch - 277ms/step\n",
      "Epoch 34/50\n",
      "3424/3424 - 947s - loss: 0.0072 - accuracy: 0.9978 - val_loss: 0.5603 - val_accuracy: 0.9081 - 947s/epoch - 277ms/step\n",
      "Epoch 35/50\n",
      "3424/3424 - 946s - loss: 0.0075 - accuracy: 0.9978 - val_loss: 0.5501 - val_accuracy: 0.9057 - 946s/epoch - 276ms/step\n",
      "Epoch 36/50\n",
      "3424/3424 - 944s - loss: 0.0046 - accuracy: 0.9988 - val_loss: 0.6108 - val_accuracy: 0.8900 - 944s/epoch - 276ms/step\n",
      "Epoch 37/50\n",
      "3424/3424 - 944s - loss: 0.0059 - accuracy: 0.9983 - val_loss: 0.6300 - val_accuracy: 0.9081 - 944s/epoch - 276ms/step\n",
      "Epoch 38/50\n",
      "3424/3424 - 944s - loss: 0.0074 - accuracy: 0.9979 - val_loss: 0.5193 - val_accuracy: 0.9105 - 944s/epoch - 276ms/step\n",
      "Epoch 39/50\n",
      "3424/3424 - 944s - loss: 0.0056 - accuracy: 0.9984 - val_loss: 0.5318 - val_accuracy: 0.8984 - 944s/epoch - 276ms/step\n",
      "Epoch 40/50\n",
      "3424/3424 - 946s - loss: 0.0017 - accuracy: 0.9995 - val_loss: 0.6200 - val_accuracy: 0.9033 - 946s/epoch - 276ms/step\n",
      "Epoch 41/50\n",
      "3424/3424 - 946s - loss: 0.0039 - accuracy: 0.9990 - val_loss: 0.5104 - val_accuracy: 0.9081 - 946s/epoch - 276ms/step\n"
     ]
    }
   ],
   "source": [
    "history = model_rn152_sa.fit(train_batches,\n",
    "                         epochs=50,\n",
    "                         verbose=2,\n",
    "                         validation_data=val_batches,\n",
    "                         callbacks=[checkpoint,Earlystop],\n",
    "                         class_weight=class_weights)"
   ]
  },
  {
   "cell_type": "markdown",
   "id": "30bfd3e7",
   "metadata": {
    "papermill": {
     "duration": 0.028442,
     "end_time": "2023-06-04T05:39:32.265662",
     "exception": false,
     "start_time": "2023-06-04T05:39:32.237220",
     "status": "completed"
    },
    "tags": []
   },
   "source": [
    "### Plotting accuracy and loss"
   ]
  },
  {
   "cell_type": "code",
   "execution_count": 22,
   "id": "0de86ca3",
   "metadata": {
    "execution": {
     "iopub.execute_input": "2023-06-04T05:39:32.324150Z",
     "iopub.status.busy": "2023-06-04T05:39:32.323858Z",
     "iopub.status.idle": "2023-06-04T05:40:08.875392Z",
     "shell.execute_reply": "2023-06-04T05:40:08.874504Z"
    },
    "papermill": {
     "duration": 36.614263,
     "end_time": "2023-06-04T05:40:08.908519",
     "exception": false,
     "start_time": "2023-06-04T05:39:32.294256",
     "status": "completed"
    },
    "tags": []
   },
   "outputs": [
    {
     "name": "stdout",
     "output_type": "stream",
     "text": [
      "Number of epochs trained: 41\n"
     ]
    },
    {
     "data": {
      "image/png": "[encoded data removed]",
      "text/plain": [
       "<Figure size 1500x500 with 2 Axes>"
      ]
     },
     "metadata": {},
     "output_type": "display_data"
    }
   ],
   "source": [
    "# Determine number of epochs trained\n",
    "num_epochs_trained = len(history.history['val_loss'])\n",
    "print(f\"Number of epochs trained: {num_epochs_trained}\")\n",
    "\n",
    "## History plotting\n",
    "epochs = [i for i in range(num_epochs_trained)]\n",
    "fig , ax = plt.subplots(1,2)\n",
    "train_acc = history.history['accuracy']\n",
    "train_loss = history.history['loss']\n",
    "val_acc = history.history['val_accuracy']\n",
    "val_loss = history.history['val_loss']\n",
    "fig.set_size_inches(15,5)\n",
    "\n",
    "ax[0].plot(epochs , train_acc , 'go-' , label = 'Training Accuracy')\n",
    "ax[0].plot(epochs , val_acc , 'ro-' , label = 'Validation Accuracy')\n",
    "title_font = {'fontname':'Times New Roman', 'size':'14', 'color':'black', 'weight':'normal'}\n",
    "ax[0].set_title('Model Accuracy', fontdict=title_font)\n",
    "legend_font = {'family': 'Times New Roman', 'size': '12', 'weight': 'normal'}\n",
    "ax[0].legend(prop=legend_font)\n",
    "label_font = {'fontname':'Times New Roman', 'size':'12', 'color':'black', 'weight':'normal'}\n",
    "ax[0].set_xlabel(\"Epochs\",  fontdict=label_font)\n",
    "ax[0].set_ylabel(\"Accuracy\",  fontdict=label_font)\n",
    "\n",
    "ax[1].plot(epochs , train_loss , 'g-o' , label = 'Training Loss')\n",
    "ax[1].plot(epochs , val_loss , 'r-o' , label = 'Validation Loss')\n",
    "ax[1].set_title('Model Loss', fontdict=title_font)\n",
    "ax[1].legend(prop=legend_font)\n",
    "ax[1].set_xlabel(\"Epochs\", fontdict=label_font)\n",
    "ax[1].set_ylabel(\"Loss\", fontdict=label_font)\n",
    "plt.show()"
   ]
  },
  {
   "cell_type": "code",
   "execution_count": 23,
   "id": "4b10f128",
   "metadata": {
    "execution": {
     "iopub.execute_input": "2023-06-04T05:40:08.971471Z",
     "iopub.status.busy": "2023-06-04T05:40:08.971154Z",
     "iopub.status.idle": "2023-06-04T05:40:09.983390Z",
     "shell.execute_reply": "2023-06-04T05:40:09.982243Z"
    },
    "id": "zm_AewFBXTj8",
    "papermill": {
     "duration": 1.046882,
     "end_time": "2023-06-04T05:40:09.985797",
     "exception": false,
     "start_time": "2023-06-04T05:40:08.938915",
     "status": "completed"
    },
    "tags": []
   },
   "outputs": [],
   "source": [
    "from tensorflow.keras import models\n",
    "model_rn152_sa.load_weights(\"RN152_SA.hdf5\")"
   ]
  },
  {
   "cell_type": "code",
   "execution_count": 24,
   "id": "d83ff764",
   "metadata": {
    "execution": {
     "iopub.execute_input": "2023-06-04T05:40:10.050497Z",
     "iopub.status.busy": "2023-06-04T05:40:10.050156Z",
     "iopub.status.idle": "2023-06-04T05:40:27.872378Z",
     "shell.execute_reply": "2023-06-04T05:40:27.871437Z"
    },
    "papermill": {
     "duration": 17.85725,
     "end_time": "2023-06-04T05:40:27.874679",
     "exception": false,
     "start_time": "2023-06-04T05:40:10.017429",
     "status": "completed"
    },
    "tags": []
   },
   "outputs": [
    {
     "name": "stdout",
     "output_type": "stream",
     "text": [
      "52/52 [==============================] - 17s 280ms/step\n"
     ]
    }
   ],
   "source": [
    "predictions = model_rn152_sa.predict(test_batches)"
   ]
  },
  {
   "cell_type": "code",
   "execution_count": 25,
   "id": "f45aa02a",
   "metadata": {
    "execution": {
     "iopub.execute_input": "2023-06-04T05:40:27.944084Z",
     "iopub.status.busy": "2023-06-04T05:40:27.943703Z",
     "iopub.status.idle": "2023-06-04T05:40:27.950389Z",
     "shell.execute_reply": "2023-06-04T05:40:27.949510Z"
    },
    "id": "FDTMtBeTdBfU",
    "papermill": {
     "duration": 0.043573,
     "end_time": "2023-06-04T05:40:27.952450",
     "exception": false,
     "start_time": "2023-06-04T05:40:27.908877",
     "status": "completed"
    },
    "tags": []
   },
   "outputs": [],
   "source": [
    "#geting predictions on test dataset\n",
    "y_pred = np.argmax(predictions, axis=1)\n",
    "#getting the true labels per image \n",
    "y_true = test_batches.classes\n",
    "#getting the predicted labels per image \n",
    "y_prob = predictions"
   ]
  },
  {
   "cell_type": "code",
   "execution_count": 26,
   "id": "11c83ee8",
   "metadata": {
    "execution": {
     "iopub.execute_input": "2023-06-04T05:40:28.021441Z",
     "iopub.status.busy": "2023-06-04T05:40:28.021100Z",
     "iopub.status.idle": "2023-06-04T05:40:28.039813Z",
     "shell.execute_reply": "2023-06-04T05:40:28.038663Z"
    },
    "papermill": {
     "duration": 0.056014,
     "end_time": "2023-06-04T05:40:28.042328",
     "exception": false,
     "start_time": "2023-06-04T05:40:27.986314",
     "status": "completed"
    },
    "tags": []
   },
   "outputs": [
    {
     "name": "stdout",
     "output_type": "stream",
     "text": [
      "\n",
      "Classification Report:\n",
      "              precision    recall  f1-score   support\n",
      "\n",
      "          AK       0.80      0.55      0.65        22\n",
      "         BCC       0.86      0.70      0.78        27\n",
      "         BKL       0.81      0.65      0.72        66\n",
      "          DF       0.60      1.00      0.75         6\n",
      "         MEL       0.54      0.63      0.58        35\n",
      "          NV       0.96      0.98      0.97       663\n",
      "        VASC       1.00      1.00      1.00         9\n",
      "\n",
      "    accuracy                           0.92       828\n",
      "   macro avg       0.80      0.79      0.78       828\n",
      "weighted avg       0.92      0.92      0.92       828\n",
      "\n"
     ]
    }
   ],
   "source": [
    "classnames = ['AK', 'BCC', 'BKL', 'DF', 'MEL', 'NV', 'VASC']\n",
    "\n",
    "from tensorflow.keras.utils import to_categorical\n",
    "y_test = to_categorical(y_true)\n",
    "\n",
    "report = classification_report(y_true, y_pred, target_names=classnames)\n",
    "\n",
    "print(\"\\nClassification Report:\")\n",
    "print(report)"
   ]
  },
  {
   "cell_type": "code",
   "execution_count": 27,
   "id": "db281ff6",
   "metadata": {
    "execution": {
     "iopub.execute_input": "2023-06-04T05:40:28.112492Z",
     "iopub.status.busy": "2023-06-04T05:40:28.111547Z",
     "iopub.status.idle": "2023-06-04T05:40:28.722233Z",
     "shell.execute_reply": "2023-06-04T05:40:28.721327Z"
    },
    "papermill": {
     "duration": 0.647288,
     "end_time": "2023-06-04T05:40:28.724400",
     "exception": false,
     "start_time": "2023-06-04T05:40:28.077112",
     "status": "completed"
    },
    "tags": []
   },
   "outputs": [
    {
     "data": {
      "image/png": "[encoded data removed]",
      "text/plain": [
       "<Figure size 1000x400 with 2 Axes>"
      ]
     },
     "metadata": {},
     "output_type": "display_data"
    }
   ],
   "source": [
    "## Confusion Matrix\n",
    "title_font = {'fontname':'Times New Roman', 'size':'14', 'color':'black', 'weight':'normal'}\n",
    "label_font = {'fontname':'Times New Roman', 'size':'12', 'color':'black', 'weight':'normal'}\n",
    "\n",
    "from sklearn.metrics import confusion_matrix\n",
    "import seaborn as sns\n",
    "# Creating confusion matrix \n",
    "cm = confusion_matrix(y_true, y_pred)\n",
    "# Plotting the confusion matrix\n",
    "plt.figure(figsize=(10,4))\n",
    "sns.heatmap(cm, annot=True, fmt='g', cmap='Blues', xticklabels=targetnames, yticklabels=targetnames)\n",
    "plt.xlabel('Predicted Label', fontdict=label_font)\n",
    "plt.ylabel('True Label', fontdict=label_font)\n",
    "plt.title('Confusion Matrix', fontdict=title_font)\n",
    "plt.show()"
   ]
  },
  {
   "cell_type": "markdown",
   "id": "dc586271",
   "metadata": {
    "papermill": {
     "duration": 0.033973,
     "end_time": "2023-06-04T05:40:28.793134",
     "exception": false,
     "start_time": "2023-06-04T05:40:28.759161",
     "status": "completed"
    },
    "tags": []
   },
   "source": [
    "## Results"
   ]
  },
  {
   "cell_type": "markdown",
   "id": "42b33bf7",
   "metadata": {
    "papermill": {
     "duration": 0.034121,
     "end_time": "2023-06-04T05:40:28.861634",
     "exception": false,
     "start_time": "2023-06-04T05:40:28.827513",
     "status": "completed"
    },
    "tags": []
   },
   "source": [
    "### Individual Class Accuracy "
   ]
  },
  {
   "cell_type": "code",
   "execution_count": 28,
   "id": "13bafbfc",
   "metadata": {
    "execution": {
     "iopub.execute_input": "2023-06-04T05:40:28.933237Z",
     "iopub.status.busy": "2023-06-04T05:40:28.932317Z",
     "iopub.status.idle": "2023-06-04T05:40:28.940889Z",
     "shell.execute_reply": "2023-06-04T05:40:28.939868Z"
    },
    "papermill": {
     "duration": 0.046674,
     "end_time": "2023-06-04T05:40:28.943576",
     "exception": false,
     "start_time": "2023-06-04T05:40:28.896902",
     "status": "completed"
    },
    "tags": []
   },
   "outputs": [
    {
     "name": "stdout",
     "output_type": "stream",
     "text": [
      "Overall accuracy: 91.79%\n",
      "Accuracy for each class:\n",
      "Class 0: 54.55%\n",
      "Class 1: 70.37%\n",
      "Class 2: 65.15%\n",
      "Class 3: 100.00%\n",
      "Class 4: 62.86%\n",
      "Class 5: 97.89%\n",
      "Class 6: 100.00%\n"
     ]
    }
   ],
   "source": [
    "# y_true are the true labels of the test set\n",
    "# y_pred are the predicted labels of the test set\n",
    "accuracy = accuracy_score(y_true, y_pred)\n",
    "# Calculate accuracy for each class\n",
    "class_accuracy = cm.diagonal()/cm.sum(axis=1)\n",
    "print(\"Overall accuracy: {:.2f}%\".format(accuracy*100))\n",
    "print(\"Accuracy for each class:\")\n",
    "for i, acc in enumerate(class_accuracy):\n",
    "    print(\"Class {}: {:.2f}%\".format(i, acc*100))"
   ]
  },
  {
   "cell_type": "markdown",
   "id": "f55b300e",
   "metadata": {
    "papermill": {
     "duration": 0.03417,
     "end_time": "2023-06-04T05:40:29.013759",
     "exception": false,
     "start_time": "2023-06-04T05:40:28.979589",
     "status": "completed"
    },
    "tags": []
   },
   "source": [
    "### Individual Class Weighted Precision"
   ]
  },
  {
   "cell_type": "code",
   "execution_count": 29,
   "id": "8ee593a0",
   "metadata": {
    "execution": {
     "iopub.execute_input": "2023-06-04T05:40:29.084557Z",
     "iopub.status.busy": "2023-06-04T05:40:29.083584Z",
     "iopub.status.idle": "2023-06-04T05:40:29.100153Z",
     "shell.execute_reply": "2023-06-04T05:40:29.098838Z"
    },
    "papermill": {
     "duration": 0.054253,
     "end_time": "2023-06-04T05:40:29.102272",
     "exception": false,
     "start_time": "2023-06-04T05:40:29.048019",
     "status": "completed"
    },
    "tags": []
   },
   "outputs": [
    {
     "name": "stdout",
     "output_type": "stream",
     "text": [
      "Weighted precision for each class:\n",
      "Class 0: 80.00%\n",
      "Class 1: 86.36%\n",
      "Class 2: 81.13%\n",
      "Class 3: 60.00%\n",
      "Class 4: 53.66%\n",
      "Class 5: 95.72%\n",
      "Class 6: 100.00%\n",
      "Weighted precision: 91.85%\n"
     ]
    }
   ],
   "source": [
    "report = classification_report(y_true, y_pred, output_dict=True)\n",
    "# Extract weighted precision for each class\n",
    "class_precision = {}\n",
    "for class_label in report.keys():\n",
    "    if class_label == 'weighted avg':\n",
    "        class_precision['weighted'] = report[class_label]['precision']\n",
    "    elif class_label.isdigit():\n",
    "        class_precision[int(class_label)] = report[class_label]['precision']\n",
    "print(\"Weighted precision for each class:\")\n",
    "for i, precision in class_precision.items():\n",
    "    if i == 'weighted':\n",
    "        print(\"Weighted precision: {:.2f}%\".format(precision*100))\n",
    "    else:\n",
    "        print(\"Class {}: {:.2f}%\".format(i, precision*100))"
   ]
  },
  {
   "cell_type": "markdown",
   "id": "a92d9313",
   "metadata": {
    "papermill": {
     "duration": 0.034079,
     "end_time": "2023-06-04T05:40:29.172203",
     "exception": false,
     "start_time": "2023-06-04T05:40:29.138124",
     "status": "completed"
    },
    "tags": []
   },
   "source": [
    "### Individual Class Weighted Recall"
   ]
  },
  {
   "cell_type": "code",
   "execution_count": 30,
   "id": "0d229731",
   "metadata": {
    "execution": {
     "iopub.execute_input": "2023-06-04T05:40:29.242484Z",
     "iopub.status.busy": "2023-06-04T05:40:29.242125Z",
     "iopub.status.idle": "2023-06-04T05:40:29.257671Z",
     "shell.execute_reply": "2023-06-04T05:40:29.256521Z"
    },
    "papermill": {
     "duration": 0.053162,
     "end_time": "2023-06-04T05:40:29.259657",
     "exception": false,
     "start_time": "2023-06-04T05:40:29.206495",
     "status": "completed"
    },
    "tags": []
   },
   "outputs": [
    {
     "name": "stdout",
     "output_type": "stream",
     "text": [
      "Weighted recall for each class:\n",
      "Class 0: 54.55%\n",
      "Class 1: 70.37%\n",
      "Class 2: 65.15%\n",
      "Class 3: 100.00%\n",
      "Class 4: 62.86%\n",
      "Class 5: 97.89%\n",
      "Class 6: 100.00%\n",
      "Weighted Recall: 91.79%\n"
     ]
    }
   ],
   "source": [
    "report = classification_report(y_true, y_pred, output_dict=True)\n",
    "# Extract weighted recall for each class\n",
    "class_recall = {}\n",
    "for class_label in report.keys():\n",
    "    if class_label == 'weighted avg':\n",
    "        class_recall['weighted'] = report[class_label]['recall']\n",
    "    elif class_label.isdigit():\n",
    "        class_recall[int(class_label)] = report[class_label]['recall']\n",
    "print(\"Weighted recall for each class:\")\n",
    "for i, recall in class_recall.items():\n",
    "    if i == 'weighted':\n",
    "        print(\"Weighted Recall: {:.2f}%\".format(recall*100))\n",
    "    else:\n",
    "        print(\"Class {}: {:.2f}%\".format(i, recall*100))"
   ]
  },
  {
   "cell_type": "markdown",
   "id": "ece6fe90",
   "metadata": {
    "papermill": {
     "duration": 0.034277,
     "end_time": "2023-06-04T05:40:29.329801",
     "exception": false,
     "start_time": "2023-06-04T05:40:29.295524",
     "status": "completed"
    },
    "tags": []
   },
   "source": [
    "### Individual Class Weighted F1-score"
   ]
  },
  {
   "cell_type": "code",
   "execution_count": 31,
   "id": "af254965",
   "metadata": {
    "execution": {
     "iopub.execute_input": "2023-06-04T05:40:29.401795Z",
     "iopub.status.busy": "2023-06-04T05:40:29.400116Z",
     "iopub.status.idle": "2023-06-04T05:40:29.417256Z",
     "shell.execute_reply": "2023-06-04T05:40:29.415834Z"
    },
    "papermill": {
     "duration": 0.055068,
     "end_time": "2023-06-04T05:40:29.419372",
     "exception": false,
     "start_time": "2023-06-04T05:40:29.364304",
     "status": "completed"
    },
    "tags": []
   },
   "outputs": [
    {
     "name": "stdout",
     "output_type": "stream",
     "text": [
      "Weighted F1-score for each class:\n",
      "Class 0: 64.86%\n",
      "Class 1: 77.55%\n",
      "Class 2: 72.27%\n",
      "Class 3: 75.00%\n",
      "Class 4: 57.89%\n",
      "Class 5: 96.79%\n",
      "Class 6: 100.00%\n",
      "Weighted F1-score: 91.60%\n"
     ]
    }
   ],
   "source": [
    "report = classification_report(y_true, y_pred, output_dict=True)\n",
    "# Extract weighted F1-score for each class\n",
    "class_f1 = {}\n",
    "for class_label in report.keys():\n",
    "    if class_label == 'weighted avg':\n",
    "        class_f1['weighted'] = report[class_label]['f1-score']\n",
    "    elif class_label.isdigit():\n",
    "        class_f1[int(class_label)] = report[class_label]['f1-score']\n",
    "print(\"Weighted F1-score for each class:\")\n",
    "for i, f1_score in class_f1.items():\n",
    "    if i == 'weighted':\n",
    "        print(\"Weighted F1-score: {:.2f}%\".format(f1_score*100))\n",
    "    else:\n",
    "        print(\"Class {}: {:.2f}%\".format(i, f1_score*100))"
   ]
  },
  {
   "cell_type": "markdown",
   "id": "ccaa9a15",
   "metadata": {
    "papermill": {
     "duration": 0.034226,
     "end_time": "2023-06-04T05:40:29.489329",
     "exception": false,
     "start_time": "2023-06-04T05:40:29.455103",
     "status": "completed"
    },
    "tags": []
   },
   "source": [
    "### Individual Class Precision, Recall and F1-score"
   ]
  },
  {
   "cell_type": "code",
   "execution_count": 32,
   "id": "2ad5cc3c",
   "metadata": {
    "execution": {
     "iopub.execute_input": "2023-06-04T05:40:29.560360Z",
     "iopub.status.busy": "2023-06-04T05:40:29.559396Z",
     "iopub.status.idle": "2023-06-04T05:40:29.569574Z",
     "shell.execute_reply": "2023-06-04T05:40:29.568190Z"
    },
    "papermill": {
     "duration": 0.047981,
     "end_time": "2023-06-04T05:40:29.571614",
     "exception": false,
     "start_time": "2023-06-04T05:40:29.523633",
     "status": "completed"
    },
    "tags": []
   },
   "outputs": [
    {
     "name": "stdout",
     "output_type": "stream",
     "text": [
      "Class-wise weighted precision, recall, and F1-score:\n",
      "Class 0: Precision=0.80, Recall=0.55, F1-score=0.65\n",
      "Class 1: Precision=0.86, Recall=0.70, F1-score=0.78\n",
      "Class 2: Precision=0.81, Recall=0.65, F1-score=0.72\n",
      "Class 3: Precision=0.60, Recall=1.00, F1-score=0.75\n",
      "Class 4: Precision=0.54, Recall=0.63, F1-score=0.58\n",
      "Class 5: Precision=0.96, Recall=0.98, F1-score=0.97\n",
      "Class 6: Precision=1.00, Recall=1.00, F1-score=1.00\n"
     ]
    }
   ],
   "source": [
    "from sklearn.metrics import precision_recall_fscore_support\n",
    "\n",
    "precision_class, recall_class, f1_class, support_class = precision_recall_fscore_support(y_true, y_pred, average=None)\n",
    "print('Class-wise weighted precision, recall, and F1-score:')\n",
    "for i in range(len(precision_class)):\n",
    "    print('Class {}: Precision={:.2f}, Recall={:.2f}, F1-score={:.2f}'.format(i, precision_class[i], recall_class[i], f1_class[i]))\n"
   ]
  },
  {
   "cell_type": "markdown",
   "id": "3c6af9c6",
   "metadata": {
    "papermill": {
     "duration": 0.035711,
     "end_time": "2023-06-04T05:40:29.643299",
     "exception": false,
     "start_time": "2023-06-04T05:40:29.607588",
     "status": "completed"
    },
    "tags": []
   },
   "source": [
    "### Individual Class Weighted Sensitivity"
   ]
  },
  {
   "cell_type": "code",
   "execution_count": 33,
   "id": "51100da2",
   "metadata": {
    "execution": {
     "iopub.execute_input": "2023-06-04T05:40:29.715017Z",
     "iopub.status.busy": "2023-06-04T05:40:29.714062Z",
     "iopub.status.idle": "2023-06-04T05:40:30.190321Z",
     "shell.execute_reply": "2023-06-04T05:40:30.188757Z"
    },
    "papermill": {
     "duration": 0.514284,
     "end_time": "2023-06-04T05:40:30.192761",
     "exception": false,
     "start_time": "2023-06-04T05:40:29.678477",
     "status": "completed"
    },
    "tags": []
   },
   "outputs": [
    {
     "name": "stdout",
     "output_type": "stream",
     "text": [
      "Weighted Sensitivity:  0.9178743961352657\n",
      "Class  0 :sensitivity = 0.5454545454545454\n",
      "Class  1 :sensitivity = 0.7037037037037037\n",
      "Class  2 :sensitivity = 0.6515151515151515\n",
      "Class  3 :sensitivity = 1.0\n",
      "Class  4 :sensitivity = 0.6285714285714286\n",
      "Class  5 :sensitivity = 0.9788838612368024\n",
      "Class  6 :sensitivity = 1.0\n"
     ]
    }
   ],
   "source": [
    "from imblearn.metrics import sensitivity_score\n",
    "\n",
    "sensitivity = sensitivity_score(y_true, y_pred, average='weighted')\n",
    "print(\"Weighted Sensitivity: \", sensitivity)\n",
    "\n",
    "# Calculate class-wise sensitivity\n",
    "sensitivity = sensitivity_score(y_true, y_pred, average=None)\n",
    "\n",
    "# Print sensitivity score for each class\n",
    "for i in range(len(sensitivity)):\n",
    "    print(\"Class \", i, \":sensitivity =\", sensitivity[i])"
   ]
  },
  {
   "cell_type": "markdown",
   "id": "8c531079",
   "metadata": {
    "papermill": {
     "duration": 0.034579,
     "end_time": "2023-06-04T05:40:30.263712",
     "exception": false,
     "start_time": "2023-06-04T05:40:30.229133",
     "status": "completed"
    },
    "tags": []
   },
   "source": [
    "### Individual Class Weighted Specificity"
   ]
  },
  {
   "cell_type": "code",
   "execution_count": 34,
   "id": "f405b3b8",
   "metadata": {
    "execution": {
     "iopub.execute_input": "2023-06-04T05:40:30.333658Z",
     "iopub.status.busy": "2023-06-04T05:40:30.333335Z",
     "iopub.status.idle": "2023-06-04T05:40:30.343216Z",
     "shell.execute_reply": "2023-06-04T05:40:30.341915Z"
    },
    "papermill": {
     "duration": 0.04726,
     "end_time": "2023-06-04T05:40:30.345294",
     "exception": false,
     "start_time": "2023-06-04T05:40:30.298034",
     "status": "completed"
    },
    "tags": []
   },
   "outputs": [
    {
     "name": "stdout",
     "output_type": "stream",
     "text": [
      "Weighted Specificity:  0.8569514388486721\n",
      "Class  0 :specificity= 0.9962779156327544\n",
      "Class  1 :specificity= 0.9962546816479401\n",
      "Class  2 :specificity= 0.9868766404199475\n",
      "Class  3 :specificity= 0.9951338199513382\n",
      "Class  4 :specificity= 0.9760403530895334\n",
      "Class  5 :specificity= 0.8242424242424242\n",
      "Class  6 :specificity= 1.0\n"
     ]
    }
   ],
   "source": [
    "from imblearn.metrics import specificity_score\n",
    "\n",
    "specificity = specificity_score(y_true, y_pred, average='weighted')\n",
    "print(\"Weighted Specificity: \", specificity)\n",
    "\n",
    "# Calculate class-wise specificity\n",
    "specificity = specificity_score(y_true, y_pred, average=None)\n",
    "\n",
    "# Print sensitivity score for each class\n",
    "for i in range(len(specificity)):\n",
    "    print(\"Class \", i, \":specificity=\", specificity[i])"
   ]
  },
  {
   "cell_type": "markdown",
   "id": "8ecc5696",
   "metadata": {
    "papermill": {
     "duration": 0.043816,
     "end_time": "2023-06-04T05:40:30.424193",
     "exception": false,
     "start_time": "2023-06-04T05:40:30.380377",
     "status": "completed"
    },
    "tags": []
   },
   "source": [
    "### Accuracy"
   ]
  },
  {
   "cell_type": "code",
   "execution_count": 35,
   "id": "2f5c74f9",
   "metadata": {
    "execution": {
     "iopub.execute_input": "2023-06-04T05:40:30.494762Z",
     "iopub.status.busy": "2023-06-04T05:40:30.494457Z",
     "iopub.status.idle": "2023-06-04T05:40:30.500933Z",
     "shell.execute_reply": "2023-06-04T05:40:30.499751Z"
    },
    "papermill": {
     "duration": 0.044139,
     "end_time": "2023-06-04T05:40:30.502967",
     "exception": false,
     "start_time": "2023-06-04T05:40:30.458828",
     "status": "completed"
    },
    "tags": []
   },
   "outputs": [
    {
     "name": "stdout",
     "output_type": "stream",
     "text": [
      "Accuracy: 0.9178743961352657\n"
     ]
    }
   ],
   "source": [
    "print(\"Accuracy: \" + str(accuracy_score(y_true, y_pred)))\n",
    "import numpy as np\n",
    "from sklearn.metrics import accuracy_score"
   ]
  },
  {
   "cell_type": "code",
   "execution_count": 36,
   "id": "80978cf3",
   "metadata": {
    "execution": {
     "iopub.execute_input": "2023-06-04T05:40:30.576515Z",
     "iopub.status.busy": "2023-06-04T05:40:30.576246Z",
     "iopub.status.idle": "2023-06-04T05:40:30.595939Z",
     "shell.execute_reply": "2023-06-04T05:40:30.594944Z"
    },
    "papermill": {
     "duration": 0.057222,
     "end_time": "2023-06-04T05:40:30.598083",
     "exception": false,
     "start_time": "2023-06-04T05:40:30.540861",
     "status": "completed"
    },
    "tags": []
   },
   "outputs": [
    {
     "name": "stdout",
     "output_type": "stream",
     "text": [
      "Top-1 Accuracy: 0.9178743961352657\n",
      "Top-2 Accuracy: 0.967391304347826\n",
      "Top-3 Accuracy: 0.9879227053140096\n"
     ]
    }
   ],
   "source": [
    "# Calculate top-1 accuracy\n",
    "top1_acc = accuracy_score(y_true, y_pred)\n",
    "print(\"Top-1 Accuracy:\", top1_acc)\n",
    "\n",
    "# Calculate top-2 accuracy\n",
    "y_pred_top2 = np.argsort(-predictions, axis=1)[:, :2] # Get the top 2 predicted classes\n",
    "top2_acc = np.mean(np.array([y_true[i] in y_pred_top2[i] for i in range(len(y_true))]))\n",
    "print(\"Top-2 Accuracy:\", top2_acc)\n",
    "\n",
    "# Calculate top-3 accuracy\n",
    "y_pred_top3 = np.argsort(-predictions, axis=1)[:, :3] # Get the top 3 predicted classes\n",
    "top3_acc = np.mean(np.array([y_true[i] in y_pred_top3[i] for i in range(len(y_true))]))\n",
    "print(\"Top-3 Accuracy:\", top3_acc)\n",
    "from sklearn.metrics import f1_score"
   ]
  },
  {
   "cell_type": "markdown",
   "id": "376847f2",
   "metadata": {
    "papermill": {
     "duration": 0.034665,
     "end_time": "2023-06-04T05:40:30.668743",
     "exception": false,
     "start_time": "2023-06-04T05:40:30.634078",
     "status": "completed"
    },
    "tags": []
   },
   "source": [
    "### Weighted Evaluation Measures"
   ]
  },
  {
   "cell_type": "code",
   "execution_count": 37,
   "id": "f3a57d01",
   "metadata": {
    "execution": {
     "iopub.execute_input": "2023-06-04T05:40:30.739063Z",
     "iopub.status.busy": "2023-06-04T05:40:30.738797Z",
     "iopub.status.idle": "2023-06-04T05:40:30.766298Z",
     "shell.execute_reply": "2023-06-04T05:40:30.765170Z"
    },
    "papermill": {
     "duration": 0.065012,
     "end_time": "2023-06-04T05:40:30.768266",
     "exception": false,
     "start_time": "2023-06-04T05:40:30.703254",
     "status": "completed"
    },
    "tags": []
   },
   "outputs": [
    {
     "name": "stdout",
     "output_type": "stream",
     "text": [
      "Weighted Precision: 0.9184630825540274\n",
      "Weighted Recall: 0.9178743961352657\n",
      "Weighted F1-Score: 0.9159543174357853\n",
      "Weighted Sensitivity: 0.9178743961352657\n",
      "Weighted Specificity: 0.8569514388486721\n",
      "weighted Roc score: 0.9486947706714179\n"
     ]
    }
   ],
   "source": [
    "print(\"Weighted Precision: \"+ str(precision_score(y_true, y_pred, average='weighted')))\n",
    "print(\"Weighted Recall: \"+ str(recall_score(y_true, y_pred, average='weighted')))\n",
    "print(\"Weighted F1-Score: \"+ str(f1_score(y_true, y_pred, average='weighted')))\n",
    "print(\"Weighted Sensitivity: \"+ str(sensitivity_score(y_true, y_pred, average='weighted')))\n",
    "print(\"Weighted Specificity: \"+ str(specificity_score(y_true, y_pred, average='weighted')))\n",
    "print(\"weighted Roc score: \" + str(roc_auc_score(y_true,y_prob,multi_class='ovr',average='weighted')))"
   ]
  },
  {
   "cell_type": "markdown",
   "id": "7a955e9d",
   "metadata": {
    "papermill": {
     "duration": 0.039965,
     "end_time": "2023-06-04T05:40:30.842984",
     "exception": false,
     "start_time": "2023-06-04T05:40:30.803019",
     "status": "completed"
    },
    "tags": []
   },
   "source": [
    "### Macro Evaluation Measures"
   ]
  },
  {
   "cell_type": "code",
   "execution_count": 38,
   "id": "cec56226",
   "metadata": {
    "execution": {
     "iopub.execute_input": "2023-06-04T05:40:30.915554Z",
     "iopub.status.busy": "2023-06-04T05:40:30.914562Z",
     "iopub.status.idle": "2023-06-04T05:40:30.936961Z",
     "shell.execute_reply": "2023-06-04T05:40:30.935656Z"
    },
    "papermill": {
     "duration": 0.060884,
     "end_time": "2023-06-04T05:40:30.938964",
     "exception": false,
     "start_time": "2023-06-04T05:40:30.878080",
     "status": "completed"
    },
    "tags": []
   },
   "outputs": [
    {
     "name": "stdout",
     "output_type": "stream",
     "text": [
      "Macro Precision: 0.7955385175500103\n",
      "Macro Recall: 0.7868755272116615\n",
      "Macro F1-Score: 0.7776756677302766\n",
      "Macro Sensitivity: 0.7868755272116615\n",
      "Macro Specificity: 0.9678322621405625\n",
      "Macro Roc score: 0.9573346563186745\n"
     ]
    }
   ],
   "source": [
    "print(\"Macro Precision: \"+ str(precision_score(y_true, y_pred, average='macro')))\n",
    "print(\"Macro Recall: \"+ str(recall_score(y_true, y_pred, average='macro')))\n",
    "print(\"Macro F1-Score: \"+ str(f1_score(y_true, y_pred, average='macro')))\n",
    "print(\"Macro Sensitivity: \"+ str(sensitivity_score(y_true, y_pred, average='macro')))\n",
    "print(\"Macro Specificity: \"+ str(specificity_score(y_true, y_pred, average='macro')))\n",
    "print(\"Macro Roc score: \" + str(roc_auc_score(y_true,y_prob,multi_class='ovr',average='macro')))"
   ]
  },
  {
   "cell_type": "markdown",
   "id": "94345263",
   "metadata": {
    "papermill": {
     "duration": 0.034767,
     "end_time": "2023-06-04T05:40:31.009154",
     "exception": false,
     "start_time": "2023-06-04T05:40:30.974387",
     "status": "completed"
    },
    "tags": []
   },
   "source": [
    "### Micro Evaluation Measures"
   ]
  },
  {
   "cell_type": "code",
   "execution_count": 39,
   "id": "d7f1e0ee",
   "metadata": {
    "execution": {
     "iopub.execute_input": "2023-06-04T05:40:31.081043Z",
     "iopub.status.busy": "2023-06-04T05:40:31.080435Z",
     "iopub.status.idle": "2023-06-04T05:40:31.095130Z",
     "shell.execute_reply": "2023-06-04T05:40:31.093834Z"
    },
    "papermill": {
     "duration": 0.052931,
     "end_time": "2023-06-04T05:40:31.097185",
     "exception": false,
     "start_time": "2023-06-04T05:40:31.044254",
     "status": "completed"
    },
    "tags": []
   },
   "outputs": [
    {
     "name": "stdout",
     "output_type": "stream",
     "text": [
      "Micro Precision: 0.9178743961352657\n",
      "Micro Recall: 0.9178743961352657\n",
      "Micro F1-Score: 0.9178743961352658\n",
      "Micro Sensitivity: 0.9178743961352657\n",
      "Micro Specificity: 0.9863123993558777\n"
     ]
    }
   ],
   "source": [
    "print(\"Micro Precision: \"+ str(precision_score(y_true, y_pred, average='micro')))\n",
    "print(\"Micro Recall: \"+ str(recall_score(y_true, y_pred, average='micro')))\n",
    "print(\"Micro F1-Score: \"+ str(f1_score(y_true, y_pred, average='micro')))\n",
    "print(\"Micro Sensitivity: \"+ str(sensitivity_score(y_true, y_pred, average='micro')))\n",
    "print(\"Micro Specificity: \"+ str(specificity_score(y_true, y_pred, average='micro')))"
   ]
  },
  {
   "cell_type": "markdown",
   "id": "55ae637c",
   "metadata": {
    "papermill": {
     "duration": 0.035313,
     "end_time": "2023-06-04T05:40:31.167773",
     "exception": false,
     "start_time": "2023-06-04T05:40:31.132460",
     "status": "completed"
    },
    "tags": []
   },
   "source": [
    "## ROC"
   ]
  },
  {
   "cell_type": "markdown",
   "id": "4db3694c",
   "metadata": {
    "papermill": {
     "duration": 0.034789,
     "end_time": "2023-06-04T05:40:31.237331",
     "exception": false,
     "start_time": "2023-06-04T05:40:31.202542",
     "status": "completed"
    },
    "tags": []
   },
   "source": [
    "### Compute ROC curve and ROC area for each class"
   ]
  },
  {
   "cell_type": "code",
   "execution_count": 40,
   "id": "0d372c0b",
   "metadata": {
    "execution": {
     "iopub.execute_input": "2023-06-04T05:40:31.308932Z",
     "iopub.status.busy": "2023-06-04T05:40:31.308611Z",
     "iopub.status.idle": "2023-06-04T05:40:32.194076Z",
     "shell.execute_reply": "2023-06-04T05:40:32.193181Z"
    },
    "papermill": {
     "duration": 0.923765,
     "end_time": "2023-06-04T05:40:32.196143",
     "exception": false,
     "start_time": "2023-06-04T05:40:31.272378",
     "status": "completed"
    },
    "tags": []
   },
   "outputs": [
    {
     "data": {
      "image/png": "[encoded data removed]",
      "text/plain": [
       "<Figure size 640x480 with 1 Axes>"
      ]
     },
     "metadata": {},
     "output_type": "display_data"
    }
   ],
   "source": [
    "fpr = {}\n",
    "tpr = {}\n",
    "roc_auc = dict()\n",
    "for i in range(num_classes):\n",
    "    fpr[i], tpr[i], _ = roc_curve(y_test[:, i], y_prob[:, i], drop_intermediate=False)\n",
    "    roc_auc[i] = auc(fpr[i], tpr[i])\n",
    "\n",
    "\n",
    "# plot the ROC curve for each class\n",
    "for i in range(7):\n",
    "    plt.plot(fpr[i], tpr[i], label='Class {}: AUC={:.3f}'.format(i, roc_auc[i]))\n",
    "\n",
    "plt.xlabel('False Positive Rate')\n",
    "plt.ylabel('True Positive Rate')\n",
    "plt.legend()\n",
    "plt.show()"
   ]
  },
  {
   "cell_type": "markdown",
   "id": "e87456c4",
   "metadata": {
    "papermill": {
     "duration": 0.035204,
     "end_time": "2023-06-04T05:40:32.267521",
     "exception": false,
     "start_time": "2023-06-04T05:40:32.232317",
     "status": "completed"
    },
    "tags": []
   },
   "source": [
    "## MCC and Kappa Score"
   ]
  },
  {
   "cell_type": "code",
   "execution_count": 41,
   "id": "05bf6c62",
   "metadata": {
    "execution": {
     "iopub.execute_input": "2023-06-04T05:40:32.358808Z",
     "iopub.status.busy": "2023-06-04T05:40:32.358411Z",
     "iopub.status.idle": "2023-06-04T05:40:32.368264Z",
     "shell.execute_reply": "2023-06-04T05:40:32.367169Z"
    },
    "papermill": {
     "duration": 0.05357,
     "end_time": "2023-06-04T05:40:32.370222",
     "exception": false,
     "start_time": "2023-06-04T05:40:32.316652",
     "status": "completed"
    },
    "tags": []
   },
   "outputs": [
    {
     "name": "stdout",
     "output_type": "stream",
     "text": [
      "MCC: 75.67%\n",
      "Kappa Score: 75.53%\n"
     ]
    }
   ],
   "source": [
    "from sklearn.metrics import matthews_corrcoef, cohen_kappa_score\n",
    "\n",
    "# y_true are the true labels of the test set\n",
    "# y_pred are the predicted labels of the test set\n",
    "mcc = matthews_corrcoef(y_true, y_pred)\n",
    "kappa = cohen_kappa_score(y_true, y_pred)\n",
    "print(\"MCC: {:.2f}%\".format(mcc*100))\n",
    "print(\"Kappa Score: {:.2f}%\".format(kappa*100))"
   ]
  },
  {
   "cell_type": "code",
   "execution_count": 42,
   "id": "ca6b805e",
   "metadata": {
    "execution": {
     "iopub.execute_input": "2023-06-04T05:40:32.445149Z",
     "iopub.status.busy": "2023-06-04T05:40:32.444521Z",
     "iopub.status.idle": "2023-06-04T05:40:32.510957Z",
     "shell.execute_reply": "2023-06-04T05:40:32.509422Z"
    },
    "papermill": {
     "duration": 0.105608,
     "end_time": "2023-06-04T05:40:32.513073",
     "exception": false,
     "start_time": "2023-06-04T05:40:32.407465",
     "status": "completed"
    },
    "tags": []
   },
   "outputs": [
    {
     "name": "stdout",
     "output_type": "stream",
     "text": [
      "MCC per class:\n",
      "Class 0: 65.32%\n",
      "Class 1: 77.30%\n",
      "Class 2: 70.64%\n",
      "Class 3: 77.27%\n",
      "Class 4: 56.07%\n",
      "Class 5: 83.30%\n",
      "Class 6: 100.00%\n",
      "Kappa Score per class:\n",
      "Class 0: 64.09%\n",
      "Class 1: 76.87%\n",
      "Class 2: 70.15%\n",
      "Class 3: 74.77%\n",
      "Class 4: 55.88%\n",
      "Class 5: 83.15%\n",
      "Class 6: 100.00%\n"
     ]
    }
   ],
   "source": [
    "### Individual Class Wise MCC and Kappa\n",
    "\n",
    "from sklearn.metrics import confusion_matrix, matthews_corrcoef, cohen_kappa_score\n",
    "# y_true are the true labels of the test set\n",
    "# y_pred are the predicted labels of the test set\n",
    "conf_mat = confusion_matrix(y_true, y_pred)\n",
    "mcc_per_class = {}\n",
    "kappa_per_class = {}\n",
    "\n",
    "for i in range(len(conf_mat)):\n",
    "    tp = conf_mat[i][i]\n",
    "    fp = sum(conf_mat[:, i]) - tp\n",
    "    fn = sum(conf_mat[i, :]) - tp\n",
    "    tn = sum(sum(conf_mat)) - tp - fp - fn\n",
    "\n",
    "    mcc_per_class[i] = matthews_corrcoef([1 if x==i else 0 for x in y_true], [1 if x==i else 0 for x in y_pred])\n",
    "    kappa_per_class[i] = cohen_kappa_score([1 if x==i else 0 for x in y_true], [1 if x==i else 0 for x in y_pred])\n",
    "\n",
    "print(\"MCC per class:\")\n",
    "for i, mcc in mcc_per_class.items():\n",
    "    print(\"Class {}: {:.2f}%\".format(i, mcc*100))\n",
    "\n",
    "print(\"Kappa Score per class:\")\n",
    "for i, kappa in kappa_per_class.items():\n",
    "    print(\"Class {}: {:.2f}%\".format(i, kappa*100))"
   ]
  },
  {
   "cell_type": "code",
   "execution_count": null,
   "id": "2b1419ac",
   "metadata": {
    "papermill": {
     "duration": 0.03577,
     "end_time": "2023-06-04T05:40:32.585429",
     "exception": false,
     "start_time": "2023-06-04T05:40:32.549659",
     "status": "completed"
    },
    "tags": []
   },
   "outputs": [],
   "source": []
  }
 ],
 "metadata": {
  "kernelspec": {
   "display_name": "Python 3",
   "language": "python",
   "name": "python3"
  },
  "language_info": {
   "codemirror_mode": {
    "name": "ipython",
    "version": 3
   },
   "file_extension": ".py",
   "mimetype": "text/x-python",
   "name": "python",
   "nbconvert_exporter": "python",
   "pygments_lexer": "ipython3",
   "version": "3.10.10"
  },
  "papermill": {
   "default_parameters": {},
   "duration": 39719.089136,
   "end_time": "2023-06-04T05:40:35.671156",
   "environment_variables": {},
   "exception": null,
   "input_path": "__notebook__.ipynb",
   "output_path": "__notebook__.ipynb",
   "parameters": {},
   "start_time": "2023-06-03T18:38:36.582020",
   "version": "2.4.0"
  }
 },
 "nbformat": 4,
 "nbformat_minor": 5
}
