{
 "cells": [
  {
   "cell_type": "markdown",
   "id": "fc5acf44",
   "metadata": {
    "papermill": {
     "duration": 0.013032,
     "end_time": "2023-06-14T05:34:16.023315",
     "exception": false,
     "start_time": "2023-06-14T05:34:16.010283",
     "status": "completed"
    },
    "tags": []
   },
   "source": [
    "# Libraries"
   ]
  },
  {
   "cell_type": "code",
   "execution_count": 1,
   "id": "3be68bd8",
   "metadata": {
    "execution": {
     "iopub.execute_input": "2023-06-14T05:34:16.050054Z",
     "iopub.status.busy": "2023-06-14T05:34:16.049028Z",
     "iopub.status.idle": "2023-06-14T05:34:24.755861Z",
     "shell.execute_reply": "2023-06-14T05:34:24.754881Z"
    },
    "id": "Aa36bMKLze3z",
    "papermill": {
     "duration": 8.722874,
     "end_time": "2023-06-14T05:34:24.758563",
     "exception": false,
     "start_time": "2023-06-14T05:34:16.035689",
     "status": "completed"
    },
    "tags": []
   },
   "outputs": [
    {
     "name": "stderr",
     "output_type": "stream",
     "text": [
      "/opt/conda/lib/python3.10/site-packages/tensorflow_io/python/ops/__init__.py:98: UserWarning: unable to load libtensorflow_io_plugins.so: unable to open file: libtensorflow_io_plugins.so, from paths: ['/opt/conda/lib/python3.10/site-packages/tensorflow_io/python/ops/libtensorflow_io_plugins.so']\n",
      "caused by: ['/opt/conda/lib/python3.10/site-packages/tensorflow_io/python/ops/libtensorflow_io_plugins.so: undefined symbol: _ZN3tsl6StatusC1EN10tensorflow5error4CodeESt17basic_string_viewIcSt11char_traitsIcEENS_14SourceLocationE']\n",
      "  warnings.warn(f\"unable to load libtensorflow_io_plugins.so: {e}\")\n",
      "/opt/conda/lib/python3.10/site-packages/tensorflow_io/python/ops/__init__.py:104: UserWarning: file system plugins are not loaded: unable to open file: libtensorflow_io.so, from paths: ['/opt/conda/lib/python3.10/site-packages/tensorflow_io/python/ops/libtensorflow_io.so']\n",
      "caused by: ['/opt/conda/lib/python3.10/site-packages/tensorflow_io/python/ops/libtensorflow_io.so: undefined symbol: _ZTVN10tensorflow13GcsFileSystemE']\n",
      "  warnings.warn(f\"file system plugins are not loaded: {e}\")\n"
     ]
    }
   ],
   "source": [
    "import pandas as pd\n",
    "import numpy as np\n",
    "import os\n",
    "import tensorflow as tf\n",
    "import cv2\n",
    "from keras import backend as K\n",
    "from keras.layers import Layer, InputSpec\n",
    "import keras.layers as kl\n",
    "from glob import glob\n",
    "from sklearn.metrics import roc_curve, auc\n",
    "from keras.preprocessing import image\n",
    "from tensorflow.keras.models import Sequential\n",
    "from sklearn.metrics import roc_auc_score\n",
    "from tensorflow.keras import callbacks \n",
    "from tensorflow.keras.callbacks import ModelCheckpoint, EarlyStopping\n",
    "from  matplotlib import pyplot as plt\n",
    "from tensorflow.keras import Model\n",
    "from tensorflow.keras.layers import concatenate, Dense, Conv2D, MaxPooling2D, Flatten, Input, Activation, add, AveragePooling2D, BatchNormalization, Dropout\n",
    "%matplotlib inline\n",
    "import shutil\n",
    "from sklearn.metrics import  precision_score, recall_score, accuracy_score, classification_report, confusion_matrix\n",
    "from tensorflow.python.platform import build_info as tf_build_info\n",
    "from tensorflow.keras.preprocessing.image import ImageDataGenerator\n",
    "from sklearn.model_selection import train_test_split\n",
    "\n",
    "from PIL import ImageFile\n",
    "ImageFile.LOAD_TRUNCATED_IMAGES = True"
   ]
  },
  {
   "cell_type": "code",
   "execution_count": 2,
   "id": "9eabea91",
   "metadata": {
    "execution": {
     "iopub.execute_input": "2023-06-14T05:34:24.785688Z",
     "iopub.status.busy": "2023-06-14T05:34:24.785083Z",
     "iopub.status.idle": "2023-06-14T05:34:24.790198Z",
     "shell.execute_reply": "2023-06-14T05:34:24.789236Z"
    },
    "id": "PsoqCvNsgmHP",
    "papermill": {
     "duration": 0.020761,
     "end_time": "2023-06-14T05:34:24.792446",
     "exception": false,
     "start_time": "2023-06-14T05:34:24.771685",
     "status": "completed"
    },
    "tags": []
   },
   "outputs": [],
   "source": [
    "targetnames = ['akiec', 'bcc', 'bkl', 'df', 'mel', 'nv', 'vasc']\n",
    "batch_size = 16\n",
    "image_size = 224"
   ]
  },
  {
   "cell_type": "code",
   "execution_count": 3,
   "id": "d09a0f32",
   "metadata": {
    "execution": {
     "iopub.execute_input": "2023-06-14T05:34:24.818106Z",
     "iopub.status.busy": "2023-06-14T05:34:24.817808Z",
     "iopub.status.idle": "2023-06-14T05:34:24.822084Z",
     "shell.execute_reply": "2023-06-14T05:34:24.821073Z"
    },
    "id": "wNisha_gM3_Z",
    "papermill": {
     "duration": 0.019773,
     "end_time": "2023-06-14T05:34:24.824479",
     "exception": false,
     "start_time": "2023-06-14T05:34:24.804706",
     "status": "completed"
    },
    "tags": []
   },
   "outputs": [],
   "source": [
    "train_path = '/kaggle/input/splitted-and-augmented-ham-15/Splitted_And_Augmented_HAM_15/HAM10K/train_dir'\n",
    "test_path = '/kaggle/input/splitted-and-augmented-ham-15/Splitted_And_Augmented_HAM_15/HAM10K/test_dir'\n",
    "val_path = '/kaggle/input/splitted-and-augmented-ham-15/Splitted_And_Augmented_HAM_15/HAM10K/val_dir'"
   ]
  },
  {
   "cell_type": "markdown",
   "id": "253360f9",
   "metadata": {
    "papermill": {
     "duration": 0.012436,
     "end_time": "2023-06-14T05:34:24.849748",
     "exception": false,
     "start_time": "2023-06-14T05:34:24.837312",
     "status": "completed"
    },
    "tags": []
   },
   "source": [
    "# Dataset generation (Train, Test, Validation)"
   ]
  },
  {
   "cell_type": "code",
   "execution_count": 4,
   "id": "3c85c8ee",
   "metadata": {
    "execution": {
     "iopub.execute_input": "2023-06-14T05:34:24.875570Z",
     "iopub.status.busy": "2023-06-14T05:34:24.875316Z",
     "iopub.status.idle": "2023-06-14T05:34:24.881439Z",
     "shell.execute_reply": "2023-06-14T05:34:24.878632Z"
    },
    "id": "zhQWqdRN79B3",
    "papermill": {
     "duration": 0.022117,
     "end_time": "2023-06-14T05:34:24.884111",
     "exception": false,
     "start_time": "2023-06-14T05:34:24.861994",
     "status": "completed"
    },
    "tags": []
   },
   "outputs": [],
   "source": [
    "datagen = ImageDataGenerator(preprocessing_function=tf.keras.applications.densenet.preprocess_input)"
   ]
  },
  {
   "cell_type": "code",
   "execution_count": 5,
   "id": "e7ef9afe",
   "metadata": {
    "execution": {
     "iopub.execute_input": "2023-06-14T05:34:24.910125Z",
     "iopub.status.busy": "2023-06-14T05:34:24.909609Z",
     "iopub.status.idle": "2023-06-14T05:34:44.194575Z",
     "shell.execute_reply": "2023-06-14T05:34:44.193626Z"
    },
    "id": "w9_8FvOO7Rtu",
    "outputId": "7ca88c24-fda8-45d6-cb32-f3a43ae6ba5b",
    "papermill": {
     "duration": 19.300613,
     "end_time": "2023-06-14T05:34:44.196965",
     "exception": false,
     "start_time": "2023-06-14T05:34:24.896352",
     "status": "completed"
    },
    "tags": []
   },
   "outputs": [
    {
     "name": "stdout",
     "output_type": "stream",
     "text": [
      "\n",
      "Train Batches: \n",
      "Found 54782 images belonging to 7 classes.\n",
      "\n",
      "Test Batches: \n",
      "Found 828 images belonging to 7 classes.\n",
      "\n",
      "Val Batches: \n",
      "Found 827 images belonging to 7 classes.\n"
     ]
    }
   ],
   "source": [
    "print(\"\\nTrain Batches: \")\n",
    "train_batches = datagen.flow_from_directory(directory=train_path,\n",
    "                                            target_size=(image_size,image_size),\n",
    "                                            batch_size=batch_size,\n",
    "                                            shuffle=True)\n",
    "\n",
    "print(\"\\nTest Batches: \")\n",
    "test_batches = datagen.flow_from_directory(test_path,\n",
    "                                          target_size=(image_size,image_size),\n",
    "                                          batch_size=batch_size,\n",
    "                                          shuffle=False)\n",
    "print(\"\\nVal Batches: \")\n",
    "val_batches = datagen.flow_from_directory(val_path,\n",
    "                                         target_size=(image_size,image_size),\n",
    "                                         batch_size=batch_size,\n",
    "                                         shuffle=False)"
   ]
  },
  {
   "cell_type": "markdown",
   "id": "5abd7656",
   "metadata": {
    "papermill": {
     "duration": 0.013106,
     "end_time": "2023-06-14T05:34:44.223089",
     "exception": false,
     "start_time": "2023-06-14T05:34:44.209983",
     "status": "completed"
    },
    "tags": []
   },
   "source": [
    "# Main Model Creation"
   ]
  },
  {
   "cell_type": "code",
   "execution_count": 6,
   "id": "6e7d5197",
   "metadata": {
    "execution": {
     "iopub.execute_input": "2023-06-14T05:34:44.249988Z",
     "iopub.status.busy": "2023-06-14T05:34:44.249678Z",
     "iopub.status.idle": "2023-06-14T05:34:55.218948Z",
     "shell.execute_reply": "2023-06-14T05:34:55.217880Z"
    },
    "id": "zhQWqdRN79B3",
    "papermill": {
     "duration": 10.985954,
     "end_time": "2023-06-14T05:34:55.221847",
     "exception": false,
     "start_time": "2023-06-14T05:34:44.235893",
     "status": "completed"
    },
    "tags": []
   },
   "outputs": [
    {
     "name": "stdout",
     "output_type": "stream",
     "text": [
      "Downloading data from https://storage.googleapis.com/tensorflow/keras-applications/densenet/densenet201_weights_tf_dim_ordering_tf_kernels_notop.h5\n",
      "74836368/74836368 [==============================] - 2s 0us/step\n"
     ]
    }
   ],
   "source": [
    "from tensorflow.keras.applications.densenet import DenseNet201\n",
    "# Create a new instance of DenseNet201\n",
    "DN201 = DenseNet201(weights='imagenet', include_top=False, input_shape=(image_size, image_size, 3), pooling='avg')"
   ]
  },
  {
   "cell_type": "markdown",
   "id": "d12ae377",
   "metadata": {
    "papermill": {
     "duration": 0.015997,
     "end_time": "2023-06-14T05:34:55.254923",
     "exception": false,
     "start_time": "2023-06-14T05:34:55.238926",
     "status": "completed"
    },
    "tags": []
   },
   "source": [
    "## Fine tuning"
   ]
  },
  {
   "cell_type": "code",
   "execution_count": 7,
   "id": "d39b068c",
   "metadata": {
    "execution": {
     "iopub.execute_input": "2023-06-14T05:34:55.288564Z",
     "iopub.status.busy": "2023-06-14T05:34:55.288245Z",
     "iopub.status.idle": "2023-06-14T05:34:55.294111Z",
     "shell.execute_reply": "2023-06-14T05:34:55.293041Z"
    },
    "id": "4d4Ta5LcSYaz",
    "papermill": {
     "duration": 0.025564,
     "end_time": "2023-06-14T05:34:55.296678",
     "exception": false,
     "start_time": "2023-06-14T05:34:55.271114",
     "status": "completed"
    },
    "tags": []
   },
   "outputs": [],
   "source": [
    "MainInput=Input(shape=(image_size, image_size, 3))"
   ]
  },
  {
   "cell_type": "code",
   "execution_count": 8,
   "id": "330dd1b8",
   "metadata": {
    "execution": {
     "iopub.execute_input": "2023-06-14T05:34:55.330340Z",
     "iopub.status.busy": "2023-06-14T05:34:55.330071Z",
     "iopub.status.idle": "2023-06-14T05:34:56.886767Z",
     "shell.execute_reply": "2023-06-14T05:34:56.885775Z"
    },
    "papermill": {
     "duration": 1.576141,
     "end_time": "2023-06-14T05:34:56.889252",
     "exception": false,
     "start_time": "2023-06-14T05:34:55.313111",
     "status": "completed"
    },
    "tags": []
   },
   "outputs": [],
   "source": [
    "densenet = DN201(MainInput)"
   ]
  },
  {
   "cell_type": "code",
   "execution_count": 9,
   "id": "640e63b3",
   "metadata": {
    "execution": {
     "iopub.execute_input": "2023-06-14T05:34:56.924023Z",
     "iopub.status.busy": "2023-06-14T05:34:56.923715Z",
     "iopub.status.idle": "2023-06-14T05:34:56.938769Z",
     "shell.execute_reply": "2023-06-14T05:34:56.937893Z"
    },
    "papermill": {
     "duration": 0.035087,
     "end_time": "2023-06-14T05:34:56.940864",
     "exception": false,
     "start_time": "2023-06-14T05:34:56.905777",
     "status": "completed"
    },
    "tags": []
   },
   "outputs": [],
   "source": [
    "# Reshape the tensor to have 4 dimensions\n",
    "from tensorflow.keras.layers import Reshape\n",
    "reshape = Reshape((8, 8, 30))(densenet)"
   ]
  },
  {
   "cell_type": "code",
   "execution_count": 10,
   "id": "1a7cbf78",
   "metadata": {
    "execution": {
     "iopub.execute_input": "2023-06-14T05:34:56.974353Z",
     "iopub.status.busy": "2023-06-14T05:34:56.974074Z",
     "iopub.status.idle": "2023-06-14T05:34:57.069847Z",
     "shell.execute_reply": "2023-06-14T05:34:57.068869Z"
    },
    "id": "x8mS99J5SYbT",
    "papermill": {
     "duration": 0.114931,
     "end_time": "2023-06-14T05:34:57.071857",
     "exception": false,
     "start_time": "2023-06-14T05:34:56.956926",
     "status": "completed"
    },
    "tags": []
   },
   "outputs": [],
   "source": [
    "conv=(Conv2D(filters=128,kernel_size=(7,7), activation=\"relu\",padding=\"same\",kernel_initializer='he_normal')(reshape))\n",
    "conv=(BatchNormalization()(conv))\n",
    "conv=(Conv2D(filters=128,kernel_size=(5,5), activation=\"relu\",padding=\"same\",kernel_initializer='he_normal')(conv))\n",
    "conv=(BatchNormalization()(conv))\n",
    "conv=(Conv2D(filters=128,kernel_size=(3,3), activation=\"relu\",padding=\"same\",kernel_initializer='he_normal')(conv))\n",
    "conv=(BatchNormalization()(conv))\n",
    "conv=(Conv2D(filters=128,kernel_size=(1,1), activation=\"relu\",padding=\"same\",kernel_initializer='he_normal')(conv))\n",
    "conv=(BatchNormalization()(conv))"
   ]
  },
  {
   "cell_type": "code",
   "execution_count": 11,
   "id": "f8f654fb",
   "metadata": {
    "execution": {
     "iopub.execute_input": "2023-06-14T05:34:57.105885Z",
     "iopub.status.busy": "2023-06-14T05:34:57.104976Z",
     "iopub.status.idle": "2023-06-14T05:34:57.113037Z",
     "shell.execute_reply": "2023-06-14T05:34:57.112003Z"
    },
    "id": "wfhLPhssAm2S",
    "papermill": {
     "duration": 0.027029,
     "end_time": "2023-06-14T05:34:57.115016",
     "exception": false,
     "start_time": "2023-06-14T05:34:57.087987",
     "status": "completed"
    },
    "tags": []
   },
   "outputs": [],
   "source": [
    "conv=(MaxPooling2D(strides=(2, 2),padding=\"same\")(conv))"
   ]
  },
  {
   "cell_type": "code",
   "execution_count": 12,
   "id": "9f53e907",
   "metadata": {
    "execution": {
     "iopub.execute_input": "2023-06-14T05:34:57.148529Z",
     "iopub.status.busy": "2023-06-14T05:34:57.148264Z",
     "iopub.status.idle": "2023-06-14T05:34:57.241359Z",
     "shell.execute_reply": "2023-06-14T05:34:57.240488Z"
    },
    "id": "sW4tKg9wSYbk",
    "papermill": {
     "duration": 0.112221,
     "end_time": "2023-06-14T05:34:57.243455",
     "exception": false,
     "start_time": "2023-06-14T05:34:57.131234",
     "status": "completed"
    },
    "tags": []
   },
   "outputs": [],
   "source": [
    "conv=(Conv2D(filters=256,kernel_size=(7,7), activation=\"relu\",padding=\"same\",kernel_initializer='he_normal')(conv))\n",
    "conv=(BatchNormalization()(conv))\n",
    "conv=(Conv2D(filters=256,kernel_size=(5,5), activation=\"relu\",padding=\"same\",kernel_initializer='he_normal')(conv))\n",
    "conv=(BatchNormalization()(conv))\n",
    "conv=(Conv2D(filters=256,kernel_size=(3,3), activation=\"relu\",padding=\"same\",kernel_initializer='he_normal')(conv))\n",
    "conv=(BatchNormalization()(conv))\n",
    "conv=(Conv2D(filters=256,kernel_size=(1,1), activation=\"relu\",padding=\"same\",kernel_initializer='he_normal')(conv))\n",
    "conv=(BatchNormalization()(conv))"
   ]
  },
  {
   "cell_type": "code",
   "execution_count": 13,
   "id": "d0faafd5",
   "metadata": {
    "execution": {
     "iopub.execute_input": "2023-06-14T05:34:57.277049Z",
     "iopub.status.busy": "2023-06-14T05:34:57.276753Z",
     "iopub.status.idle": "2023-06-14T05:34:57.284707Z",
     "shell.execute_reply": "2023-06-14T05:34:57.283883Z"
    },
    "id": "eo8E7RxUSYcW",
    "papermill": {
     "duration": 0.02693,
     "end_time": "2023-06-14T05:34:57.286619",
     "exception": false,
     "start_time": "2023-06-14T05:34:57.259689",
     "status": "completed"
    },
    "tags": []
   },
   "outputs": [],
   "source": [
    "conv=(MaxPooling2D(pool_size=(2, 2),padding=\"same\")(conv))"
   ]
  },
  {
   "cell_type": "code",
   "execution_count": 14,
   "id": "d25db58d",
   "metadata": {
    "execution": {
     "iopub.execute_input": "2023-06-14T05:34:57.319704Z",
     "iopub.status.busy": "2023-06-14T05:34:57.319442Z",
     "iopub.status.idle": "2023-06-14T05:34:57.324092Z",
     "shell.execute_reply": "2023-06-14T05:34:57.323200Z"
    },
    "papermill": {
     "duration": 0.023779,
     "end_time": "2023-06-14T05:34:57.326325",
     "exception": false,
     "start_time": "2023-06-14T05:34:57.302546",
     "status": "completed"
    },
    "tags": []
   },
   "outputs": [
    {
     "name": "stdout",
     "output_type": "stream",
     "text": [
      "7\n"
     ]
    }
   ],
   "source": [
    "num_classes = test_batches.num_classes\n",
    "print(num_classes)"
   ]
  },
  {
   "cell_type": "code",
   "execution_count": 15,
   "id": "810df7b5",
   "metadata": {
    "execution": {
     "iopub.execute_input": "2023-06-14T05:34:57.360013Z",
     "iopub.status.busy": "2023-06-14T05:34:57.359390Z",
     "iopub.status.idle": "2023-06-14T05:34:57.407801Z",
     "shell.execute_reply": "2023-06-14T05:34:57.406895Z"
    },
    "id": "-EdFxKdgSYcf",
    "papermill": {
     "duration": 0.067613,
     "end_time": "2023-06-14T05:34:57.409925",
     "exception": false,
     "start_time": "2023-06-14T05:34:57.342312",
     "status": "completed"
    },
    "tags": []
   },
   "outputs": [],
   "source": [
    "conv=(Flatten()(conv))\n",
    "conv=(Dense(1024,activation=\"relu\")(conv))\n",
    "conv=(Dense(512,activation=\"relu\")(conv))\n",
    "conv=(Dense(num_classes, activation=\"softmax\")(conv))\n",
    "\n",
    "model_dn201 = Model(inputs=MainInput, outputs=conv)"
   ]
  },
  {
   "cell_type": "code",
   "execution_count": 16,
   "id": "8cdaab42",
   "metadata": {
    "execution": {
     "iopub.execute_input": "2023-06-14T05:34:57.444509Z",
     "iopub.status.busy": "2023-06-14T05:34:57.443611Z",
     "iopub.status.idle": "2023-06-14T05:34:57.568097Z",
     "shell.execute_reply": "2023-06-14T05:34:57.567115Z"
    },
    "id": "ba8ajOckSYcl",
    "outputId": "e69fa749-4741-4f49-ae3e-9f5479e809a8",
    "papermill": {
     "duration": 0.149937,
     "end_time": "2023-06-14T05:34:57.576668",
     "exception": false,
     "start_time": "2023-06-14T05:34:57.426731",
     "status": "completed"
    },
    "tags": []
   },
   "outputs": [
    {
     "name": "stdout",
     "output_type": "stream",
     "text": [
      "Model: \"model\"\n",
      "_________________________________________________________________\n",
      " Layer (type)                Output Shape              Param #   \n",
      "=================================================================\n",
      " input_2 (InputLayer)        [(None, 224, 224, 3)]     0         \n",
      "                                                                 \n",
      " densenet201 (Functional)    (None, 1920)              18321984  \n",
      "                                                                 \n",
      " reshape (Reshape)           (None, 8, 8, 30)          0         \n",
      "                                                                 \n",
      " conv2d (Conv2D)             (None, 8, 8, 128)         188288    \n",
      "                                                                 \n",
      " batch_normalization (BatchN  (None, 8, 8, 128)        512       \n",
      " ormalization)                                                   \n",
      "                                                                 \n",
      " conv2d_1 (Conv2D)           (None, 8, 8, 128)         409728    \n",
      "                                                                 \n",
      " batch_normalization_1 (Batc  (None, 8, 8, 128)        512       \n",
      " hNormalization)                                                 \n",
      "                                                                 \n",
      " conv2d_2 (Conv2D)           (None, 8, 8, 128)         147584    \n",
      "                                                                 \n",
      " batch_normalization_2 (Batc  (None, 8, 8, 128)        512       \n",
      " hNormalization)                                                 \n",
      "                                                                 \n",
      " conv2d_3 (Conv2D)           (None, 8, 8, 128)         16512     \n",
      "                                                                 \n",
      " batch_normalization_3 (Batc  (None, 8, 8, 128)        512       \n",
      " hNormalization)                                                 \n",
      "                                                                 \n",
      " max_pooling2d (MaxPooling2D  (None, 4, 4, 128)        0         \n",
      " )                                                               \n",
      "                                                                 \n",
      " conv2d_4 (Conv2D)           (None, 4, 4, 256)         1605888   \n",
      "                                                                 \n",
      " batch_normalization_4 (Batc  (None, 4, 4, 256)        1024      \n",
      " hNormalization)                                                 \n",
      "                                                                 \n",
      " conv2d_5 (Conv2D)           (None, 4, 4, 256)         1638656   \n",
      "                                                                 \n",
      " batch_normalization_5 (Batc  (None, 4, 4, 256)        1024      \n",
      " hNormalization)                                                 \n",
      "                                                                 \n",
      " conv2d_6 (Conv2D)           (None, 4, 4, 256)         590080    \n",
      "                                                                 \n",
      " batch_normalization_6 (Batc  (None, 4, 4, 256)        1024      \n",
      " hNormalization)                                                 \n",
      "                                                                 \n",
      " conv2d_7 (Conv2D)           (None, 4, 4, 256)         65792     \n",
      "                                                                 \n",
      " batch_normalization_7 (Batc  (None, 4, 4, 256)        1024      \n",
      " hNormalization)                                                 \n",
      "                                                                 \n",
      " max_pooling2d_1 (MaxPooling  (None, 2, 2, 256)        0         \n",
      " 2D)                                                             \n",
      "                                                                 \n",
      " flatten (Flatten)           (None, 1024)              0         \n",
      "                                                                 \n",
      " dense (Dense)               (None, 1024)              1049600   \n",
      "                                                                 \n",
      " dense_1 (Dense)             (None, 512)               524800    \n",
      "                                                                 \n",
      " dense_2 (Dense)             (None, 7)                 3591      \n",
      "                                                                 \n",
      "=================================================================\n",
      "Total params: 24,568,647\n",
      "Trainable params: 24,336,519\n",
      "Non-trainable params: 232,128\n",
      "_________________________________________________________________\n"
     ]
    }
   ],
   "source": [
    "model_dn201.summary()"
   ]
  },
  {
   "cell_type": "code",
   "execution_count": 17,
   "id": "3b26275a",
   "metadata": {
    "execution": {
     "iopub.execute_input": "2023-06-14T05:34:57.620963Z",
     "iopub.status.busy": "2023-06-14T05:34:57.620674Z",
     "iopub.status.idle": "2023-06-14T05:34:57.654707Z",
     "shell.execute_reply": "2023-06-14T05:34:57.653726Z"
    },
    "id": "WR0fUpy18vAZ",
    "papermill": {
     "duration": 0.05833,
     "end_time": "2023-06-14T05:34:57.657029",
     "exception": false,
     "start_time": "2023-06-14T05:34:57.598699",
     "status": "completed"
    },
    "tags": []
   },
   "outputs": [],
   "source": [
    "opt1=tf.keras.optimizers.Adam(learning_rate=0.001,epsilon=0.1)\n",
    "model_dn201.compile(optimizer=opt1,\n",
    "             loss='categorical_crossentropy',\n",
    "             metrics=['accuracy'])"
   ]
  },
  {
   "cell_type": "code",
   "execution_count": 18,
   "id": "bc5429f1",
   "metadata": {
    "execution": {
     "iopub.execute_input": "2023-06-14T05:34:57.702787Z",
     "iopub.status.busy": "2023-06-14T05:34:57.702444Z",
     "iopub.status.idle": "2023-06-14T05:34:57.707521Z",
     "shell.execute_reply": "2023-06-14T05:34:57.706549Z"
    },
    "id": "LAf5ha295reS",
    "papermill": {
     "duration": 0.030455,
     "end_time": "2023-06-14T05:34:57.709612",
     "exception": false,
     "start_time": "2023-06-14T05:34:57.679157",
     "status": "completed"
    },
    "tags": []
   },
   "outputs": [],
   "source": [
    "class_weights = {   \n",
    "                    0: 1.0,  # akiec\n",
    "                    1: 1.0,  # bcc\n",
    "                    2: 1.0,  # bkl\n",
    "                    3: 1.0,  # df\n",
    "                    4: 1.0,  # mel\n",
    "                    5: 1.0,  # nv\n",
    "                    6: 1.0  # vasc\n",
    "                }"
   ]
  },
  {
   "cell_type": "code",
   "execution_count": 19,
   "id": "28bf83d8",
   "metadata": {
    "execution": {
     "iopub.execute_input": "2023-06-14T05:34:57.755826Z",
     "iopub.status.busy": "2023-06-14T05:34:57.755518Z",
     "iopub.status.idle": "2023-06-14T05:34:57.760518Z",
     "shell.execute_reply": "2023-06-14T05:34:57.759580Z"
    },
    "papermill": {
     "duration": 0.03036,
     "end_time": "2023-06-14T05:34:57.762552",
     "exception": false,
     "start_time": "2023-06-14T05:34:57.732192",
     "status": "completed"
    },
    "tags": []
   },
   "outputs": [],
   "source": [
    "checkpoint = ModelCheckpoint(filepath ='DN201.hdf5', monitor='val_accuracy', save_best_only=True, save_weights_only=True)\n",
    "Earlystop = EarlyStopping(monitor='val_accuracy', mode='max', patience=25, min_delta=0.001)"
   ]
  },
  {
   "cell_type": "code",
   "execution_count": 20,
   "id": "f2d9a61f",
   "metadata": {
    "execution": {
     "iopub.execute_input": "2023-06-14T05:34:57.807423Z",
     "iopub.status.busy": "2023-06-14T05:34:57.806624Z",
     "iopub.status.idle": "2023-06-14T15:05:28.044188Z",
     "shell.execute_reply": "2023-06-14T15:05:28.043143Z"
    },
    "id": "NUzTmiZ-8hL3",
    "outputId": "e1825ff2-9f9c-436f-cf2c-9776af8eee62",
    "papermill": {
     "duration": 34230.262796,
     "end_time": "2023-06-14T15:05:28.047007",
     "exception": false,
     "start_time": "2023-06-14T05:34:57.784211",
     "status": "completed"
    },
    "tags": []
   },
   "outputs": [
    {
     "name": "stdout",
     "output_type": "stream",
     "text": [
      "Epoch 1/50\n",
      "3424/3424 - 844s - loss: 0.7183 - accuracy: 0.7328 - val_loss: 0.3205 - val_accuracy: 0.9033 - 844s/epoch - 246ms/step\n",
      "Epoch 2/50\n",
      "3424/3424 - 674s - loss: 0.2861 - accuracy: 0.8962 - val_loss: 0.2914 - val_accuracy: 0.9141 - 674s/epoch - 197ms/step\n",
      "Epoch 3/50\n",
      "3424/3424 - 679s - loss: 0.1744 - accuracy: 0.9370 - val_loss: 0.4005 - val_accuracy: 0.8875 - 679s/epoch - 198ms/step\n",
      "Epoch 4/50\n",
      "3424/3424 - 679s - loss: 0.1207 - accuracy: 0.9575 - val_loss: 0.3413 - val_accuracy: 0.9021 - 679s/epoch - 198ms/step\n",
      "Epoch 5/50\n",
      "3424/3424 - 677s - loss: 0.0895 - accuracy: 0.9684 - val_loss: 0.3946 - val_accuracy: 0.9129 - 677s/epoch - 198ms/step\n",
      "Epoch 6/50\n",
      "3424/3424 - 677s - loss: 0.0678 - accuracy: 0.9763 - val_loss: 0.3997 - val_accuracy: 0.9166 - 677s/epoch - 198ms/step\n",
      "Epoch 7/50\n",
      "3424/3424 - 678s - loss: 0.0527 - accuracy: 0.9816 - val_loss: 0.3762 - val_accuracy: 0.9166 - 678s/epoch - 198ms/step\n",
      "Epoch 8/50\n",
      "3424/3424 - 681s - loss: 0.0454 - accuracy: 0.9844 - val_loss: 0.4859 - val_accuracy: 0.8984 - 681s/epoch - 199ms/step\n",
      "Epoch 9/50\n",
      "3424/3424 - 685s - loss: 0.0379 - accuracy: 0.9872 - val_loss: 0.4692 - val_accuracy: 0.9105 - 685s/epoch - 200ms/step\n",
      "Epoch 10/50\n",
      "3424/3424 - 688s - loss: 0.0306 - accuracy: 0.9897 - val_loss: 0.4162 - val_accuracy: 0.9178 - 688s/epoch - 201ms/step\n",
      "Epoch 11/50\n",
      "3424/3424 - 683s - loss: 0.0259 - accuracy: 0.9912 - val_loss: 0.4746 - val_accuracy: 0.9093 - 683s/epoch - 199ms/step\n",
      "Epoch 12/50\n",
      "3424/3424 - 673s - loss: 0.0231 - accuracy: 0.9920 - val_loss: 0.4133 - val_accuracy: 0.9141 - 673s/epoch - 197ms/step\n",
      "Epoch 13/50\n",
      "3424/3424 - 677s - loss: 0.0197 - accuracy: 0.9936 - val_loss: 0.4430 - val_accuracy: 0.9154 - 677s/epoch - 198ms/step\n",
      "Epoch 14/50\n",
      "3424/3424 - 682s - loss: 0.0170 - accuracy: 0.9943 - val_loss: 0.4612 - val_accuracy: 0.9093 - 682s/epoch - 199ms/step\n",
      "Epoch 15/50\n",
      "3424/3424 - 679s - loss: 0.0183 - accuracy: 0.9936 - val_loss: 0.4186 - val_accuracy: 0.9178 - 679s/epoch - 198ms/step\n",
      "Epoch 16/50\n",
      "3424/3424 - 678s - loss: 0.0138 - accuracy: 0.9954 - val_loss: 0.4492 - val_accuracy: 0.9166 - 678s/epoch - 198ms/step\n",
      "Epoch 17/50\n",
      "3424/3424 - 677s - loss: 0.0152 - accuracy: 0.9950 - val_loss: 0.4614 - val_accuracy: 0.9105 - 677s/epoch - 198ms/step\n",
      "Epoch 18/50\n",
      "3424/3424 - 673s - loss: 0.0115 - accuracy: 0.9961 - val_loss: 0.5407 - val_accuracy: 0.9117 - 673s/epoch - 197ms/step\n",
      "Epoch 19/50\n",
      "3424/3424 - 675s - loss: 0.0099 - accuracy: 0.9965 - val_loss: 0.4273 - val_accuracy: 0.9178 - 675s/epoch - 197ms/step\n",
      "Epoch 20/50\n",
      "3424/3424 - 681s - loss: 0.0106 - accuracy: 0.9963 - val_loss: 0.5069 - val_accuracy: 0.9093 - 681s/epoch - 199ms/step\n",
      "Epoch 21/50\n",
      "3424/3424 - 677s - loss: 0.0120 - accuracy: 0.9960 - val_loss: 0.5071 - val_accuracy: 0.9190 - 677s/epoch - 198ms/step\n",
      "Epoch 22/50\n",
      "3424/3424 - 678s - loss: 0.0101 - accuracy: 0.9967 - val_loss: 0.5455 - val_accuracy: 0.9045 - 678s/epoch - 198ms/step\n",
      "Epoch 23/50\n",
      "3424/3424 - 678s - loss: 0.0095 - accuracy: 0.9968 - val_loss: 0.5023 - val_accuracy: 0.9117 - 678s/epoch - 198ms/step\n",
      "Epoch 24/50\n",
      "3424/3424 - 679s - loss: 0.0091 - accuracy: 0.9972 - val_loss: 0.5171 - val_accuracy: 0.9129 - 679s/epoch - 198ms/step\n",
      "Epoch 25/50\n",
      "3424/3424 - 679s - loss: 0.0077 - accuracy: 0.9973 - val_loss: 0.4719 - val_accuracy: 0.9178 - 679s/epoch - 198ms/step\n",
      "Epoch 26/50\n",
      "3424/3424 - 670s - loss: 0.0078 - accuracy: 0.9976 - val_loss: 0.5527 - val_accuracy: 0.9093 - 670s/epoch - 196ms/step\n",
      "Epoch 27/50\n",
      "3424/3424 - 672s - loss: 0.0079 - accuracy: 0.9977 - val_loss: 0.5108 - val_accuracy: 0.9105 - 672s/epoch - 196ms/step\n",
      "Epoch 28/50\n",
      "3424/3424 - 671s - loss: 0.0053 - accuracy: 0.9983 - val_loss: 0.5385 - val_accuracy: 0.9141 - 671s/epoch - 196ms/step\n",
      "Epoch 29/50\n",
      "3424/3424 - 670s - loss: 0.0055 - accuracy: 0.9981 - val_loss: 0.4986 - val_accuracy: 0.9129 - 670s/epoch - 196ms/step\n",
      "Epoch 30/50\n",
      "3424/3424 - 670s - loss: 0.0055 - accuracy: 0.9982 - val_loss: 0.5566 - val_accuracy: 0.9141 - 670s/epoch - 196ms/step\n",
      "Epoch 31/50\n",
      "3424/3424 - 672s - loss: 0.0063 - accuracy: 0.9978 - val_loss: 0.5498 - val_accuracy: 0.9129 - 672s/epoch - 196ms/step\n",
      "Epoch 32/50\n",
      "3424/3424 - 670s - loss: 0.0074 - accuracy: 0.9979 - val_loss: 0.5613 - val_accuracy: 0.8996 - 670s/epoch - 196ms/step\n",
      "Epoch 33/50\n",
      "3424/3424 - 669s - loss: 0.0060 - accuracy: 0.9981 - val_loss: 0.5121 - val_accuracy: 0.9045 - 669s/epoch - 195ms/step\n",
      "Epoch 34/50\n",
      "3424/3424 - 668s - loss: 0.0044 - accuracy: 0.9984 - val_loss: 0.5065 - val_accuracy: 0.9117 - 668s/epoch - 195ms/step\n",
      "Epoch 35/50\n",
      "3424/3424 - 669s - loss: 0.0073 - accuracy: 0.9975 - val_loss: 0.5383 - val_accuracy: 0.9105 - 669s/epoch - 195ms/step\n",
      "Epoch 36/50\n",
      "3424/3424 - 669s - loss: 0.0044 - accuracy: 0.9986 - val_loss: 0.5097 - val_accuracy: 0.9069 - 669s/epoch - 196ms/step\n",
      "Epoch 37/50\n",
      "3424/3424 - 671s - loss: 0.0048 - accuracy: 0.9984 - val_loss: 0.5419 - val_accuracy: 0.9141 - 671s/epoch - 196ms/step\n",
      "Epoch 38/50\n",
      "3424/3424 - 670s - loss: 0.0039 - accuracy: 0.9987 - val_loss: 0.4777 - val_accuracy: 0.9141 - 670s/epoch - 196ms/step\n",
      "Epoch 39/50\n",
      "3424/3424 - 674s - loss: 0.0055 - accuracy: 0.9981 - val_loss: 0.5110 - val_accuracy: 0.9057 - 674s/epoch - 197ms/step\n",
      "Epoch 40/50\n",
      "3424/3424 - 671s - loss: 0.0024 - accuracy: 0.9992 - val_loss: 0.5313 - val_accuracy: 0.9105 - 671s/epoch - 196ms/step\n",
      "Epoch 41/50\n",
      "3424/3424 - 674s - loss: 0.0043 - accuracy: 0.9986 - val_loss: 0.4830 - val_accuracy: 0.9081 - 674s/epoch - 197ms/step\n",
      "Epoch 42/50\n",
      "3424/3424 - 670s - loss: 0.0052 - accuracy: 0.9981 - val_loss: 0.4993 - val_accuracy: 0.9214 - 670s/epoch - 196ms/step\n",
      "Epoch 43/50\n",
      "3424/3424 - 668s - loss: 0.0034 - accuracy: 0.9988 - val_loss: 0.4988 - val_accuracy: 0.9154 - 668s/epoch - 195ms/step\n",
      "Epoch 44/50\n",
      "3424/3424 - 673s - loss: 0.0035 - accuracy: 0.9990 - val_loss: 0.4648 - val_accuracy: 0.9262 - 673s/epoch - 196ms/step\n",
      "Epoch 45/50\n",
      "3424/3424 - 675s - loss: 0.0026 - accuracy: 0.9991 - val_loss: 0.4273 - val_accuracy: 0.9299 - 675s/epoch - 197ms/step\n",
      "Epoch 46/50\n",
      "3424/3424 - 671s - loss: 0.0041 - accuracy: 0.9989 - val_loss: 0.4955 - val_accuracy: 0.9190 - 671s/epoch - 196ms/step\n",
      "Epoch 47/50\n",
      "3424/3424 - 676s - loss: 0.0047 - accuracy: 0.9984 - val_loss: 0.5515 - val_accuracy: 0.9105 - 676s/epoch - 197ms/step\n",
      "Epoch 48/50\n",
      "3424/3424 - 673s - loss: 0.0033 - accuracy: 0.9989 - val_loss: 0.5463 - val_accuracy: 0.9154 - 673s/epoch - 197ms/step\n",
      "Epoch 49/50\n",
      "3424/3424 - 674s - loss: 0.0030 - accuracy: 0.9991 - val_loss: 0.5522 - val_accuracy: 0.9141 - 674s/epoch - 197ms/step\n",
      "Epoch 50/50\n",
      "3424/3424 - 674s - loss: 0.0038 - accuracy: 0.9988 - val_loss: 0.5265 - val_accuracy: 0.9166 - 674s/epoch - 197ms/step\n"
     ]
    }
   ],
   "source": [
    "history = model_dn201.fit(train_batches,\n",
    "                         epochs=50,\n",
    "                         verbose=2,\n",
    "                         validation_data=val_batches,\n",
    "                         callbacks=[checkpoint,Earlystop],\n",
    "                         class_weight=class_weights)"
   ]
  },
  {
   "cell_type": "markdown",
   "id": "6eb560ad",
   "metadata": {
    "papermill": {
     "duration": 0.027847,
     "end_time": "2023-06-14T15:05:28.103454",
     "exception": false,
     "start_time": "2023-06-14T15:05:28.075607",
     "status": "completed"
    },
    "tags": []
   },
   "source": [
    "### Plotting accuracy and loss"
   ]
  },
  {
   "cell_type": "code",
   "execution_count": 21,
   "id": "198834ad",
   "metadata": {
    "execution": {
     "iopub.execute_input": "2023-06-14T15:05:28.161220Z",
     "iopub.status.busy": "2023-06-14T15:05:28.160903Z",
     "iopub.status.idle": "2023-06-14T15:05:28.709906Z",
     "shell.execute_reply": "2023-06-14T15:05:28.708910Z"
    },
    "papermill": {
     "duration": 0.580502,
     "end_time": "2023-06-14T15:05:28.712141",
     "exception": false,
     "start_time": "2023-06-14T15:05:28.131639",
     "status": "completed"
    },
    "tags": []
   },
   "outputs": [
    {
     "name": "stdout",
     "output_type": "stream",
     "text": [
      "Number of epochs trained: 50\n"
     ]
    },
    {
     "data": {
      "image/png": "[encoded data removed]",
      "text/plain": [
       "<Figure size 1500x500 with 2 Axes>"
      ]
     },
     "metadata": {},
     "output_type": "display_data"
    }
   ],
   "source": [
    "# Determine number of epochs trained\n",
    "num_epochs_trained = len(history.history['val_loss'])\n",
    "print(f\"Number of epochs trained: {num_epochs_trained}\")\n",
    "\n",
    "## History plotting\n",
    "epochs = [i for i in range(num_epochs_trained)]\n",
    "fig , ax = plt.subplots(1,2)\n",
    "train_acc = history.history['accuracy']\n",
    "train_loss = history.history['loss']\n",
    "val_acc = history.history['val_accuracy']\n",
    "val_loss = history.history['val_loss']\n",
    "fig.set_size_inches(15,5)\n",
    "\n",
    "ax[0].plot(epochs , train_acc , 'go-' , label = 'Training Accuracy')\n",
    "ax[0].plot(epochs , val_acc , 'ro-' , label = 'Validation Accuracy')\n",
    "title_font = {'fontname':'Times New Roman', 'size':'14', 'color':'black', 'weight':'normal'}\n",
    "ax[0].set_title('Model Accuracy', fontdict=title_font)\n",
    "legend_font = {'family': 'Times New Roman', 'size': '12', 'weight': 'normal'}\n",
    "ax[0].legend(prop=legend_font)\n",
    "label_font = {'fontname':'Times New Roman', 'size':'12', 'color':'black', 'weight':'normal'}\n",
    "ax[0].set_xlabel(\"Epochs\",  fontdict=label_font)\n",
    "ax[0].set_ylabel(\"Accuracy\",  fontdict=label_font)\n",
    "\n",
    "ax[1].plot(epochs , train_loss , 'g-o' , label = 'Training Loss')\n",
    "ax[1].plot(epochs , val_loss , 'r-o' , label = 'Validation Loss')\n",
    "ax[1].set_title('Model Loss', fontdict=title_font)\n",
    "ax[1].legend(prop=legend_font)\n",
    "ax[1].set_xlabel(\"Epochs\", fontdict=label_font)\n",
    "ax[1].set_ylabel(\"Loss\", fontdict=label_font)\n",
    "plt.show()"
   ]
  },
  {
   "cell_type": "code",
   "execution_count": 22,
   "id": "a0e87fea",
   "metadata": {
    "execution": {
     "iopub.execute_input": "2023-06-14T15:05:28.773961Z",
     "iopub.status.busy": "2023-06-14T15:05:28.773564Z",
     "iopub.status.idle": "2023-06-14T15:05:29.675235Z",
     "shell.execute_reply": "2023-06-14T15:05:29.674208Z"
    },
    "id": "zm_AewFBXTj8",
    "papermill": {
     "duration": 0.935002,
     "end_time": "2023-06-14T15:05:29.677889",
     "exception": false,
     "start_time": "2023-06-14T15:05:28.742887",
     "status": "completed"
    },
    "tags": []
   },
   "outputs": [],
   "source": [
    "from tensorflow.keras import models\n",
    "model_dn201.load_weights(\"DN201.hdf5\")"
   ]
  },
  {
   "cell_type": "code",
   "execution_count": 23,
   "id": "47c6294d",
   "metadata": {
    "execution": {
     "iopub.execute_input": "2023-06-14T15:05:29.740447Z",
     "iopub.status.busy": "2023-06-14T15:05:29.738689Z",
     "iopub.status.idle": "2023-06-14T15:05:48.392771Z",
     "shell.execute_reply": "2023-06-14T15:05:48.391740Z"
    },
    "papermill": {
     "duration": 18.68644,
     "end_time": "2023-06-14T15:05:48.395086",
     "exception": false,
     "start_time": "2023-06-14T15:05:29.708646",
     "status": "completed"
    },
    "tags": []
   },
   "outputs": [
    {
     "name": "stdout",
     "output_type": "stream",
     "text": [
      "52/52 [==============================] - 18s 292ms/step\n"
     ]
    }
   ],
   "source": [
    "predictions = model_dn201.predict(test_batches)"
   ]
  },
  {
   "cell_type": "code",
   "execution_count": 24,
   "id": "22f686ac",
   "metadata": {
    "execution": {
     "iopub.execute_input": "2023-06-14T15:05:48.469430Z",
     "iopub.status.busy": "2023-06-14T15:05:48.468341Z",
     "iopub.status.idle": "2023-06-14T15:05:48.474002Z",
     "shell.execute_reply": "2023-06-14T15:05:48.473016Z"
    },
    "id": "FDTMtBeTdBfU",
    "papermill": {
     "duration": 0.042646,
     "end_time": "2023-06-14T15:05:48.476035",
     "exception": false,
     "start_time": "2023-06-14T15:05:48.433389",
     "status": "completed"
    },
    "tags": []
   },
   "outputs": [],
   "source": [
    "#geting predictions on test dataset\n",
    "y_pred = np.argmax(predictions, axis=1)\n",
    "#getting the true labels per image \n",
    "y_true = test_batches.classes\n",
    "#getting the predicted labels per image \n",
    "y_prob = predictions"
   ]
  },
  {
   "cell_type": "code",
   "execution_count": 25,
   "id": "a8002825",
   "metadata": {
    "execution": {
     "iopub.execute_input": "2023-06-14T15:05:48.544110Z",
     "iopub.status.busy": "2023-06-14T15:05:48.543332Z",
     "iopub.status.idle": "2023-06-14T15:05:48.559081Z",
     "shell.execute_reply": "2023-06-14T15:05:48.557897Z"
    },
    "papermill": {
     "duration": 0.051799,
     "end_time": "2023-06-14T15:05:48.561081",
     "exception": false,
     "start_time": "2023-06-14T15:05:48.509282",
     "status": "completed"
    },
    "tags": []
   },
   "outputs": [
    {
     "name": "stdout",
     "output_type": "stream",
     "text": [
      "\n",
      "Classification Report:\n",
      "              precision    recall  f1-score   support\n",
      "\n",
      "          AK       0.63      0.55      0.59        22\n",
      "         BCC       0.79      0.70      0.75        27\n",
      "         BKL       0.77      0.62      0.69        66\n",
      "          DF       0.62      0.83      0.71         6\n",
      "         MEL       0.57      0.60      0.58        35\n",
      "          NV       0.96      0.98      0.97       663\n",
      "        VASC       0.82      1.00      0.90         9\n",
      "\n",
      "    accuracy                           0.91       828\n",
      "   macro avg       0.74      0.75      0.74       828\n",
      "weighted avg       0.91      0.91      0.91       828\n",
      "\n"
     ]
    }
   ],
   "source": [
    "classnames = ['AK', 'BCC', 'BKL', 'DF', 'MEL', 'NV', 'VASC']\n",
    "\n",
    "from tensorflow.keras.utils import to_categorical\n",
    "y_test = to_categorical(y_true)\n",
    "\n",
    "report = classification_report(y_true, y_pred, target_names=classnames)\n",
    "\n",
    "print(\"\\nClassification Report:\")\n",
    "print(report)"
   ]
  },
  {
   "cell_type": "code",
   "execution_count": 26,
   "id": "e77b103d",
   "metadata": {
    "execution": {
     "iopub.execute_input": "2023-06-14T15:05:48.630543Z",
     "iopub.status.busy": "2023-06-14T15:05:48.629697Z",
     "iopub.status.idle": "2023-06-14T15:05:49.230633Z",
     "shell.execute_reply": "2023-06-14T15:05:49.229748Z"
    },
    "papermill": {
     "duration": 0.637865,
     "end_time": "2023-06-14T15:05:49.233008",
     "exception": false,
     "start_time": "2023-06-14T15:05:48.595143",
     "status": "completed"
    },
    "tags": []
   },
   "outputs": [
    {
     "data": {
      "image/png": "[encoded data removed]",
      "text/plain": [
       "<Figure size 1000x400 with 2 Axes>"
      ]
     },
     "metadata": {},
     "output_type": "display_data"
    }
   ],
   "source": [
    "## Confusion Matrix\n",
    "title_font = {'fontname':'Times New Roman', 'size':'14', 'color':'black', 'weight':'normal'}\n",
    "label_font = {'fontname':'Times New Roman', 'size':'12', 'color':'black', 'weight':'normal'}\n",
    "\n",
    "from sklearn.metrics import confusion_matrix\n",
    "import seaborn as sns\n",
    "# Creating confusion matrix \n",
    "cm = confusion_matrix(y_true, y_pred)\n",
    "# Plotting the confusion matrix\n",
    "plt.figure(figsize=(10,4))\n",
    "sns.heatmap(cm, annot=True, fmt='g', cmap='Blues', xticklabels=targetnames, yticklabels=targetnames)\n",
    "plt.xlabel('Predicted Label', fontdict=label_font)\n",
    "plt.ylabel('True Label', fontdict=label_font)\n",
    "plt.title('Confusion Matrix', fontdict=title_font)\n",
    "plt.show()"
   ]
  },
  {
   "cell_type": "markdown",
   "id": "b4525277",
   "metadata": {
    "papermill": {
     "duration": 0.03347,
     "end_time": "2023-06-14T15:05:49.301407",
     "exception": false,
     "start_time": "2023-06-14T15:05:49.267937",
     "status": "completed"
    },
    "tags": []
   },
   "source": [
    "## Results"
   ]
  },
  {
   "cell_type": "markdown",
   "id": "d52faf00",
   "metadata": {
    "papermill": {
     "duration": 0.033932,
     "end_time": "2023-06-14T15:05:49.369017",
     "exception": false,
     "start_time": "2023-06-14T15:05:49.335085",
     "status": "completed"
    },
    "tags": []
   },
   "source": [
    "### Individual Class Accuracy "
   ]
  },
  {
   "cell_type": "code",
   "execution_count": 27,
   "id": "49633ff5",
   "metadata": {
    "execution": {
     "iopub.execute_input": "2023-06-14T15:05:49.439758Z",
     "iopub.status.busy": "2023-06-14T15:05:49.439388Z",
     "iopub.status.idle": "2023-06-14T15:05:49.447789Z",
     "shell.execute_reply": "2023-06-14T15:05:49.446762Z"
    },
    "papermill": {
     "duration": 0.047478,
     "end_time": "2023-06-14T15:05:49.450214",
     "exception": false,
     "start_time": "2023-06-14T15:05:49.402736",
     "status": "completed"
    },
    "tags": []
   },
   "outputs": [
    {
     "name": "stdout",
     "output_type": "stream",
     "text": [
      "Overall accuracy: 91.18%\n",
      "Accuracy for each class:\n",
      "Class 0: 54.55%\n",
      "Class 1: 70.37%\n",
      "Class 2: 62.12%\n",
      "Class 3: 83.33%\n",
      "Class 4: 60.00%\n",
      "Class 5: 97.74%\n",
      "Class 6: 100.00%\n"
     ]
    }
   ],
   "source": [
    "# y_true are the true labels of the test set\n",
    "# y_pred are the predicted labels of the test set\n",
    "accuracy = accuracy_score(y_true, y_pred)\n",
    "# Calculate accuracy for each class\n",
    "class_accuracy = cm.diagonal()/cm.sum(axis=1)\n",
    "print(\"Overall accuracy: {:.2f}%\".format(accuracy*100))\n",
    "print(\"Accuracy for each class:\")\n",
    "for i, acc in enumerate(class_accuracy):\n",
    "    print(\"Class {}: {:.2f}%\".format(i, acc*100))"
   ]
  },
  {
   "cell_type": "markdown",
   "id": "7a578d00",
   "metadata": {
    "papermill": {
     "duration": 0.033624,
     "end_time": "2023-06-14T15:05:49.517967",
     "exception": false,
     "start_time": "2023-06-14T15:05:49.484343",
     "status": "completed"
    },
    "tags": []
   },
   "source": [
    "### Individual Class Weighted Precision"
   ]
  },
  {
   "cell_type": "code",
   "execution_count": 28,
   "id": "b3b0c32a",
   "metadata": {
    "execution": {
     "iopub.execute_input": "2023-06-14T15:05:49.588347Z",
     "iopub.status.busy": "2023-06-14T15:05:49.587309Z",
     "iopub.status.idle": "2023-06-14T15:05:49.604177Z",
     "shell.execute_reply": "2023-06-14T15:05:49.603295Z"
    },
    "papermill": {
     "duration": 0.05396,
     "end_time": "2023-06-14T15:05:49.606141",
     "exception": false,
     "start_time": "2023-06-14T15:05:49.552181",
     "status": "completed"
    },
    "tags": []
   },
   "outputs": [
    {
     "name": "stdout",
     "output_type": "stream",
     "text": [
      "Weighted precision for each class:\n",
      "Class 0: 63.16%\n",
      "Class 1: 79.17%\n",
      "Class 2: 77.36%\n",
      "Class 3: 62.50%\n",
      "Class 4: 56.76%\n",
      "Class 5: 95.86%\n",
      "Class 6: 81.82%\n",
      "Weighted precision: 90.92%\n"
     ]
    }
   ],
   "source": [
    "report = classification_report(y_true, y_pred, output_dict=True)\n",
    "# Extract weighted precision for each class\n",
    "class_precision = {}\n",
    "for class_label in report.keys():\n",
    "    if class_label == 'weighted avg':\n",
    "        class_precision['weighted'] = report[class_label]['precision']\n",
    "    elif class_label.isdigit():\n",
    "        class_precision[int(class_label)] = report[class_label]['precision']\n",
    "print(\"Weighted precision for each class:\")\n",
    "for i, precision in class_precision.items():\n",
    "    if i == 'weighted':\n",
    "        print(\"Weighted precision: {:.2f}%\".format(precision*100))\n",
    "    else:\n",
    "        print(\"Class {}: {:.2f}%\".format(i, precision*100))"
   ]
  },
  {
   "cell_type": "markdown",
   "id": "eceaef44",
   "metadata": {
    "papermill": {
     "duration": 0.033757,
     "end_time": "2023-06-14T15:05:49.673903",
     "exception": false,
     "start_time": "2023-06-14T15:05:49.640146",
     "status": "completed"
    },
    "tags": []
   },
   "source": [
    "### Individual Class Weighted Recall"
   ]
  },
  {
   "cell_type": "code",
   "execution_count": 29,
   "id": "488b6b88",
   "metadata": {
    "execution": {
     "iopub.execute_input": "2023-06-14T15:05:49.746257Z",
     "iopub.status.busy": "2023-06-14T15:05:49.745262Z",
     "iopub.status.idle": "2023-06-14T15:05:49.761460Z",
     "shell.execute_reply": "2023-06-14T15:05:49.760335Z"
    },
    "papermill": {
     "duration": 0.053715,
     "end_time": "2023-06-14T15:05:49.763487",
     "exception": false,
     "start_time": "2023-06-14T15:05:49.709772",
     "status": "completed"
    },
    "tags": []
   },
   "outputs": [
    {
     "name": "stdout",
     "output_type": "stream",
     "text": [
      "Weighted recall for each class:\n",
      "Class 0: 54.55%\n",
      "Class 1: 70.37%\n",
      "Class 2: 62.12%\n",
      "Class 3: 83.33%\n",
      "Class 4: 60.00%\n",
      "Class 5: 97.74%\n",
      "Class 6: 100.00%\n",
      "Weighted Recall: 91.18%\n"
     ]
    }
   ],
   "source": [
    "report = classification_report(y_true, y_pred, output_dict=True)\n",
    "# Extract weighted recall for each class\n",
    "class_recall = {}\n",
    "for class_label in report.keys():\n",
    "    if class_label == 'weighted avg':\n",
    "        class_recall['weighted'] = report[class_label]['recall']\n",
    "    elif class_label.isdigit():\n",
    "        class_recall[int(class_label)] = report[class_label]['recall']\n",
    "print(\"Weighted recall for each class:\")\n",
    "for i, recall in class_recall.items():\n",
    "    if i == 'weighted':\n",
    "        print(\"Weighted Recall: {:.2f}%\".format(recall*100))\n",
    "    else:\n",
    "        print(\"Class {}: {:.2f}%\".format(i, recall*100))"
   ]
  },
  {
   "cell_type": "markdown",
   "id": "d09667c3",
   "metadata": {
    "papermill": {
     "duration": 0.034424,
     "end_time": "2023-06-14T15:05:49.832305",
     "exception": false,
     "start_time": "2023-06-14T15:05:49.797881",
     "status": "completed"
    },
    "tags": []
   },
   "source": [
    "### Individual Class Weighted F1-score"
   ]
  },
  {
   "cell_type": "code",
   "execution_count": 30,
   "id": "e6a3245b",
   "metadata": {
    "execution": {
     "iopub.execute_input": "2023-06-14T15:05:49.902619Z",
     "iopub.status.busy": "2023-06-14T15:05:49.901683Z",
     "iopub.status.idle": "2023-06-14T15:05:49.917929Z",
     "shell.execute_reply": "2023-06-14T15:05:49.916535Z"
    },
    "papermill": {
     "duration": 0.053875,
     "end_time": "2023-06-14T15:05:49.920303",
     "exception": false,
     "start_time": "2023-06-14T15:05:49.866428",
     "status": "completed"
    },
    "tags": []
   },
   "outputs": [
    {
     "name": "stdout",
     "output_type": "stream",
     "text": [
      "Weighted F1-score for each class:\n",
      "Class 0: 58.54%\n",
      "Class 1: 74.51%\n",
      "Class 2: 68.91%\n",
      "Class 3: 71.43%\n",
      "Class 4: 58.33%\n",
      "Class 5: 96.79%\n",
      "Class 6: 90.00%\n",
      "Weighted F1-score: 90.94%\n"
     ]
    }
   ],
   "source": [
    "report = classification_report(y_true, y_pred, output_dict=True)\n",
    "# Extract weighted F1-score for each class\n",
    "class_f1 = {}\n",
    "for class_label in report.keys():\n",
    "    if class_label == 'weighted avg':\n",
    "        class_f1['weighted'] = report[class_label]['f1-score']\n",
    "    elif class_label.isdigit():\n",
    "        class_f1[int(class_label)] = report[class_label]['f1-score']\n",
    "print(\"Weighted F1-score for each class:\")\n",
    "for i, f1_score in class_f1.items():\n",
    "    if i == 'weighted':\n",
    "        print(\"Weighted F1-score: {:.2f}%\".format(f1_score*100))\n",
    "    else:\n",
    "        print(\"Class {}: {:.2f}%\".format(i, f1_score*100))"
   ]
  },
  {
   "cell_type": "markdown",
   "id": "b60d0d31",
   "metadata": {
    "papermill": {
     "duration": 0.034077,
     "end_time": "2023-06-14T15:05:49.992139",
     "exception": false,
     "start_time": "2023-06-14T15:05:49.958062",
     "status": "completed"
    },
    "tags": []
   },
   "source": [
    "### Individual Class Precision, Recall and F1-score"
   ]
  },
  {
   "cell_type": "code",
   "execution_count": 31,
   "id": "a572dda6",
   "metadata": {
    "execution": {
     "iopub.execute_input": "2023-06-14T15:05:50.062998Z",
     "iopub.status.busy": "2023-06-14T15:05:50.062005Z",
     "iopub.status.idle": "2023-06-14T15:05:50.071595Z",
     "shell.execute_reply": "2023-06-14T15:05:50.070597Z"
    },
    "papermill": {
     "duration": 0.047207,
     "end_time": "2023-06-14T15:05:50.073650",
     "exception": false,
     "start_time": "2023-06-14T15:05:50.026443",
     "status": "completed"
    },
    "tags": []
   },
   "outputs": [
    {
     "name": "stdout",
     "output_type": "stream",
     "text": [
      "Class-wise weighted precision, recall, and F1-score:\n",
      "Class 0: Precision=0.63, Recall=0.55, F1-score=0.59\n",
      "Class 1: Precision=0.79, Recall=0.70, F1-score=0.75\n",
      "Class 2: Precision=0.77, Recall=0.62, F1-score=0.69\n",
      "Class 3: Precision=0.62, Recall=0.83, F1-score=0.71\n",
      "Class 4: Precision=0.57, Recall=0.60, F1-score=0.58\n",
      "Class 5: Precision=0.96, Recall=0.98, F1-score=0.97\n",
      "Class 6: Precision=0.82, Recall=1.00, F1-score=0.90\n"
     ]
    }
   ],
   "source": [
    "from sklearn.metrics import precision_recall_fscore_support\n",
    "\n",
    "precision_class, recall_class, f1_class, support_class = precision_recall_fscore_support(y_true, y_pred, average=None)\n",
    "print('Class-wise weighted precision, recall, and F1-score:')\n",
    "for i in range(len(precision_class)):\n",
    "    print('Class {}: Precision={:.2f}, Recall={:.2f}, F1-score={:.2f}'.format(i, precision_class[i], recall_class[i], f1_class[i]))\n"
   ]
  },
  {
   "cell_type": "markdown",
   "id": "25b247c9",
   "metadata": {
    "papermill": {
     "duration": 0.034674,
     "end_time": "2023-06-14T15:05:50.142905",
     "exception": false,
     "start_time": "2023-06-14T15:05:50.108231",
     "status": "completed"
    },
    "tags": []
   },
   "source": [
    "### Individual Class Weighted Sensitivity"
   ]
  },
  {
   "cell_type": "code",
   "execution_count": 32,
   "id": "498e9f65",
   "metadata": {
    "execution": {
     "iopub.execute_input": "2023-06-14T15:05:50.214073Z",
     "iopub.status.busy": "2023-06-14T15:05:50.213224Z",
     "iopub.status.idle": "2023-06-14T15:05:51.398917Z",
     "shell.execute_reply": "2023-06-14T15:05:51.397587Z"
    },
    "papermill": {
     "duration": 1.224013,
     "end_time": "2023-06-14T15:05:51.401192",
     "exception": false,
     "start_time": "2023-06-14T15:05:50.177179",
     "status": "completed"
    },
    "tags": []
   },
   "outputs": [
    {
     "name": "stdout",
     "output_type": "stream",
     "text": [
      "Weighted Sensitivity:  0.9118357487922706\n",
      "Class  0 :sensitivity = 0.5454545454545454\n",
      "Class  1 :sensitivity = 0.7037037037037037\n",
      "Class  2 :sensitivity = 0.6212121212121212\n",
      "Class  3 :sensitivity = 0.8333333333333334\n",
      "Class  4 :sensitivity = 0.6\n",
      "Class  5 :sensitivity = 0.9773755656108597\n",
      "Class  6 :sensitivity = 1.0\n"
     ]
    }
   ],
   "source": [
    "from imblearn.metrics import sensitivity_score\n",
    "\n",
    "sensitivity = sensitivity_score(y_true, y_pred, average='weighted')\n",
    "print(\"Weighted Sensitivity: \", sensitivity)\n",
    "\n",
    "# Calculate class-wise sensitivity\n",
    "sensitivity = sensitivity_score(y_true, y_pred, average=None)\n",
    "\n",
    "# Print sensitivity score for each class\n",
    "for i in range(len(sensitivity)):\n",
    "    print(\"Class \", i, \":sensitivity =\", sensitivity[i])"
   ]
  },
  {
   "cell_type": "markdown",
   "id": "fd75b5fd",
   "metadata": {
    "papermill": {
     "duration": 0.048529,
     "end_time": "2023-06-14T15:05:51.506805",
     "exception": false,
     "start_time": "2023-06-14T15:05:51.458276",
     "status": "completed"
    },
    "tags": []
   },
   "source": [
    "### Individual Class Weighted Specificity"
   ]
  },
  {
   "cell_type": "code",
   "execution_count": 33,
   "id": "120ada2b",
   "metadata": {
    "execution": {
     "iopub.execute_input": "2023-06-14T15:05:51.609111Z",
     "iopub.status.busy": "2023-06-14T15:05:51.605919Z",
     "iopub.status.idle": "2023-06-14T15:05:51.622400Z",
     "shell.execute_reply": "2023-06-14T15:05:51.621475Z"
    },
    "papermill": {
     "duration": 0.069484,
     "end_time": "2023-06-14T15:05:51.625018",
     "exception": false,
     "start_time": "2023-06-14T15:05:51.555534",
     "status": "completed"
    },
    "tags": []
   },
   "outputs": [
    {
     "name": "stdout",
     "output_type": "stream",
     "text": [
      "Weighted Specificity:  0.8615240069924829\n",
      "Class  0 :specificity= 0.9913151364764268\n",
      "Class  1 :specificity= 0.9937578027465668\n",
      "Class  2 :specificity= 0.984251968503937\n",
      "Class  3 :specificity= 0.9963503649635036\n",
      "Class  4 :specificity= 0.9798234552332913\n",
      "Class  5 :specificity= 0.8303030303030303\n",
      "Class  6 :specificity= 0.9975579975579976\n"
     ]
    }
   ],
   "source": [
    "from imblearn.metrics import specificity_score\n",
    "\n",
    "specificity = specificity_score(y_true, y_pred, average='weighted')\n",
    "print(\"Weighted Specificity: \", specificity)\n",
    "\n",
    "# Calculate class-wise specificity\n",
    "specificity = specificity_score(y_true, y_pred, average=None)\n",
    "\n",
    "# Print sensitivity score for each class\n",
    "for i in range(len(specificity)):\n",
    "    print(\"Class \", i, \":specificity=\", specificity[i])"
   ]
  },
  {
   "cell_type": "markdown",
   "id": "6bdda540",
   "metadata": {
    "papermill": {
     "duration": 0.049581,
     "end_time": "2023-06-14T15:05:51.724700",
     "exception": false,
     "start_time": "2023-06-14T15:05:51.675119",
     "status": "completed"
    },
    "tags": []
   },
   "source": [
    "### Accuracy"
   ]
  },
  {
   "cell_type": "code",
   "execution_count": 34,
   "id": "0f952335",
   "metadata": {
    "execution": {
     "iopub.execute_input": "2023-06-14T15:05:51.824735Z",
     "iopub.status.busy": "2023-06-14T15:05:51.824387Z",
     "iopub.status.idle": "2023-06-14T15:05:51.830438Z",
     "shell.execute_reply": "2023-06-14T15:05:51.829615Z"
    },
    "papermill": {
     "duration": 0.061508,
     "end_time": "2023-06-14T15:05:51.835521",
     "exception": false,
     "start_time": "2023-06-14T15:05:51.774013",
     "status": "completed"
    },
    "tags": []
   },
   "outputs": [
    {
     "name": "stdout",
     "output_type": "stream",
     "text": [
      "Accuracy: 0.9118357487922706\n"
     ]
    }
   ],
   "source": [
    "print(\"Accuracy: \" + str(accuracy_score(y_true, y_pred)))\n",
    "import numpy as np\n",
    "from sklearn.metrics import accuracy_score"
   ]
  },
  {
   "cell_type": "code",
   "execution_count": 35,
   "id": "84d66e1c",
   "metadata": {
    "execution": {
     "iopub.execute_input": "2023-06-14T15:05:51.940206Z",
     "iopub.status.busy": "2023-06-14T15:05:51.939723Z",
     "iopub.status.idle": "2023-06-14T15:05:51.975919Z",
     "shell.execute_reply": "2023-06-14T15:05:51.971871Z"
    },
    "papermill": {
     "duration": 0.100412,
     "end_time": "2023-06-14T15:05:51.986151",
     "exception": false,
     "start_time": "2023-06-14T15:05:51.885739",
     "status": "completed"
    },
    "tags": []
   },
   "outputs": [
    {
     "name": "stdout",
     "output_type": "stream",
     "text": [
      "Top-1 Accuracy: 0.9118357487922706\n",
      "Top-2 Accuracy: 0.9746376811594203\n",
      "Top-3 Accuracy: 0.9891304347826086\n"
     ]
    }
   ],
   "source": [
    "# Calculate top-1 accuracy\n",
    "top1_acc = accuracy_score(y_true, y_pred)\n",
    "print(\"Top-1 Accuracy:\", top1_acc)\n",
    "\n",
    "# Calculate top-2 accuracy\n",
    "y_pred_top2 = np.argsort(-predictions, axis=1)[:, :2] # Get the top 2 predicted classes\n",
    "top2_acc = np.mean(np.array([y_true[i] in y_pred_top2[i] for i in range(len(y_true))]))\n",
    "print(\"Top-2 Accuracy:\", top2_acc)\n",
    "\n",
    "# Calculate top-3 accuracy\n",
    "y_pred_top3 = np.argsort(-predictions, axis=1)[:, :3] # Get the top 3 predicted classes\n",
    "top3_acc = np.mean(np.array([y_true[i] in y_pred_top3[i] for i in range(len(y_true))]))\n",
    "print(\"Top-3 Accuracy:\", top3_acc)\n",
    "from sklearn.metrics import f1_score"
   ]
  },
  {
   "cell_type": "markdown",
   "id": "6092a00b",
   "metadata": {
    "papermill": {
     "duration": 0.040441,
     "end_time": "2023-06-14T15:05:52.079157",
     "exception": false,
     "start_time": "2023-06-14T15:05:52.038716",
     "status": "completed"
    },
    "tags": []
   },
   "source": [
    "### Weighted Evaluation Measures"
   ]
  },
  {
   "cell_type": "code",
   "execution_count": 36,
   "id": "6b4a18cb",
   "metadata": {
    "execution": {
     "iopub.execute_input": "2023-06-14T15:05:52.160150Z",
     "iopub.status.busy": "2023-06-14T15:05:52.159718Z",
     "iopub.status.idle": "2023-06-14T15:05:52.192870Z",
     "shell.execute_reply": "2023-06-14T15:05:52.191854Z"
    },
    "papermill": {
     "duration": 0.078099,
     "end_time": "2023-06-14T15:05:52.195240",
     "exception": false,
     "start_time": "2023-06-14T15:05:52.117141",
     "status": "completed"
    },
    "tags": []
   },
   "outputs": [
    {
     "name": "stdout",
     "output_type": "stream",
     "text": [
      "Weighted Precision: 0.9092310427326726\n",
      "Weighted Recall: 0.9118357487922706\n",
      "Weighted F1-Score: 0.9094031476478366\n",
      "Weighted Sensitivity: 0.9118357487922706\n",
      "Weighted Specificity: 0.8615240069924829\n",
      "weighted Roc score: 0.9746482446743044\n"
     ]
    }
   ],
   "source": [
    "print(\"Weighted Precision: \"+ str(precision_score(y_true, y_pred, average='weighted')))\n",
    "print(\"Weighted Recall: \"+ str(recall_score(y_true, y_pred, average='weighted')))\n",
    "print(\"Weighted F1-Score: \"+ str(f1_score(y_true, y_pred, average='weighted')))\n",
    "print(\"Weighted Sensitivity: \"+ str(sensitivity_score(y_true, y_pred, average='weighted')))\n",
    "print(\"Weighted Specificity: \"+ str(specificity_score(y_true, y_pred, average='weighted')))\n",
    "print(\"weighted Roc score: \" + str(roc_auc_score(y_true,y_prob,multi_class='ovr',average='weighted')))"
   ]
  },
  {
   "cell_type": "markdown",
   "id": "6eab9dfc",
   "metadata": {
    "papermill": {
     "duration": 0.040004,
     "end_time": "2023-06-14T15:05:52.275518",
     "exception": false,
     "start_time": "2023-06-14T15:05:52.235514",
     "status": "completed"
    },
    "tags": []
   },
   "source": [
    "### Macro Evaluation Measures"
   ]
  },
  {
   "cell_type": "code",
   "execution_count": 37,
   "id": "a057c693",
   "metadata": {
    "execution": {
     "iopub.execute_input": "2023-06-14T15:05:52.356084Z",
     "iopub.status.busy": "2023-06-14T15:05:52.355549Z",
     "iopub.status.idle": "2023-06-14T15:05:52.388007Z",
     "shell.execute_reply": "2023-06-14T15:05:52.386899Z"
    },
    "papermill": {
     "duration": 0.07513,
     "end_time": "2023-06-14T15:05:52.390233",
     "exception": false,
     "start_time": "2023-06-14T15:05:52.315103",
     "status": "completed"
    },
    "tags": []
   },
   "outputs": [
    {
     "name": "stdout",
     "output_type": "stream",
     "text": [
      "Macro Precision: 0.7380228267288079\n",
      "Macro Recall: 0.7544398956163663\n",
      "Macro F1-Score: 0.7407207218849946\n",
      "Macro Sensitivity: 0.7544398956163663\n",
      "Macro Specificity: 0.9676228222549648\n",
      "Macro Roc score: 0.974634000907565\n"
     ]
    }
   ],
   "source": [
    "print(\"Macro Precision: \"+ str(precision_score(y_true, y_pred, average='macro')))\n",
    "print(\"Macro Recall: \"+ str(recall_score(y_true, y_pred, average='macro')))\n",
    "print(\"Macro F1-Score: \"+ str(f1_score(y_true, y_pred, average='macro')))\n",
    "print(\"Macro Sensitivity: \"+ str(sensitivity_score(y_true, y_pred, average='macro')))\n",
    "print(\"Macro Specificity: \"+ str(specificity_score(y_true, y_pred, average='macro')))\n",
    "print(\"Macro Roc score: \" + str(roc_auc_score(y_true,y_prob,multi_class='ovr',average='macro')))"
   ]
  },
  {
   "cell_type": "markdown",
   "id": "2150ee2d",
   "metadata": {
    "papermill": {
     "duration": 0.037737,
     "end_time": "2023-06-14T15:05:52.470419",
     "exception": false,
     "start_time": "2023-06-14T15:05:52.432682",
     "status": "completed"
    },
    "tags": []
   },
   "source": [
    "### Micro Evaluation Measures"
   ]
  },
  {
   "cell_type": "code",
   "execution_count": 38,
   "id": "e02ace99",
   "metadata": {
    "execution": {
     "iopub.execute_input": "2023-06-14T15:05:52.544588Z",
     "iopub.status.busy": "2023-06-14T15:05:52.543558Z",
     "iopub.status.idle": "2023-06-14T15:05:52.559975Z",
     "shell.execute_reply": "2023-06-14T15:05:52.558712Z"
    },
    "papermill": {
     "duration": 0.055444,
     "end_time": "2023-06-14T15:05:52.562674",
     "exception": false,
     "start_time": "2023-06-14T15:05:52.507230",
     "status": "completed"
    },
    "tags": []
   },
   "outputs": [
    {
     "name": "stdout",
     "output_type": "stream",
     "text": [
      "Micro Precision: 0.9118357487922706\n",
      "Micro Recall: 0.9118357487922706\n",
      "Micro F1-Score: 0.9118357487922706\n",
      "Micro Sensitivity: 0.9118357487922706\n",
      "Micro Specificity: 0.9853059581320451\n"
     ]
    }
   ],
   "source": [
    "print(\"Micro Precision: \"+ str(precision_score(y_true, y_pred, average='micro')))\n",
    "print(\"Micro Recall: \"+ str(recall_score(y_true, y_pred, average='micro')))\n",
    "print(\"Micro F1-Score: \"+ str(f1_score(y_true, y_pred, average='micro')))\n",
    "print(\"Micro Sensitivity: \"+ str(sensitivity_score(y_true, y_pred, average='micro')))\n",
    "print(\"Micro Specificity: \"+ str(specificity_score(y_true, y_pred, average='micro')))"
   ]
  },
  {
   "cell_type": "markdown",
   "id": "f0f1e62c",
   "metadata": {
    "papermill": {
     "duration": 0.035053,
     "end_time": "2023-06-14T15:05:52.635479",
     "exception": false,
     "start_time": "2023-06-14T15:05:52.600426",
     "status": "completed"
    },
    "tags": []
   },
   "source": [
    "## ROC"
   ]
  },
  {
   "cell_type": "markdown",
   "id": "e794dfbe",
   "metadata": {
    "papermill": {
     "duration": 0.035609,
     "end_time": "2023-06-14T15:05:52.707211",
     "exception": false,
     "start_time": "2023-06-14T15:05:52.671602",
     "status": "completed"
    },
    "tags": []
   },
   "source": [
    "### Compute ROC curve and ROC area for each class"
   ]
  },
  {
   "cell_type": "code",
   "execution_count": 39,
   "id": "dea7e6f0",
   "metadata": {
    "execution": {
     "iopub.execute_input": "2023-06-14T15:05:52.787960Z",
     "iopub.status.busy": "2023-06-14T15:05:52.787582Z",
     "iopub.status.idle": "2023-06-14T15:05:53.164592Z",
     "shell.execute_reply": "2023-06-14T15:05:53.163660Z"
    },
    "papermill": {
     "duration": 0.423908,
     "end_time": "2023-06-14T15:05:53.166672",
     "exception": false,
     "start_time": "2023-06-14T15:05:52.742764",
     "status": "completed"
    },
    "tags": []
   },
   "outputs": [
    {
     "data": {
      "image/png": "[encoded data removed]",
      "text/plain": [
       "<Figure size 640x480 with 1 Axes>"
      ]
     },
     "metadata": {},
     "output_type": "display_data"
    }
   ],
   "source": [
    "fpr = {}\n",
    "tpr = {}\n",
    "roc_auc = dict()\n",
    "for i in range(num_classes):\n",
    "    fpr[i], tpr[i], _ = roc_curve(y_test[:, i], y_prob[:, i], drop_intermediate=False)\n",
    "    roc_auc[i] = auc(fpr[i], tpr[i])\n",
    "\n",
    "\n",
    "# plot the ROC curve for each class\n",
    "for i in range(num_classes):\n",
    "    plt.plot(fpr[i], tpr[i], label='Class {}: AUC={:.3f}'.format(i, roc_auc[i]))\n",
    "\n",
    "plt.xlabel('False Positive Rate')\n",
    "plt.ylabel('True Positive Rate')\n",
    "plt.legend()\n",
    "plt.show()"
   ]
  },
  {
   "cell_type": "markdown",
   "id": "dc5327af",
   "metadata": {
    "papermill": {
     "duration": 0.036356,
     "end_time": "2023-06-14T15:05:53.239712",
     "exception": false,
     "start_time": "2023-06-14T15:05:53.203356",
     "status": "completed"
    },
    "tags": []
   },
   "source": [
    "## MCC and Kappa Score"
   ]
  },
  {
   "cell_type": "code",
   "execution_count": 40,
   "id": "00af1a6b",
   "metadata": {
    "execution": {
     "iopub.execute_input": "2023-06-14T15:05:53.313632Z",
     "iopub.status.busy": "2023-06-14T15:05:53.313057Z",
     "iopub.status.idle": "2023-06-14T15:05:53.323849Z",
     "shell.execute_reply": "2023-06-14T15:05:53.322674Z"
    },
    "papermill": {
     "duration": 0.050641,
     "end_time": "2023-06-14T15:05:53.326340",
     "exception": false,
     "start_time": "2023-06-14T15:05:53.275699",
     "status": "completed"
    },
    "tags": []
   },
   "outputs": [
    {
     "name": "stdout",
     "output_type": "stream",
     "text": [
      "MCC: 73.98%\n",
      "Kappa Score: 73.88%\n"
     ]
    }
   ],
   "source": [
    "from sklearn.metrics import matthews_corrcoef, cohen_kappa_score\n",
    "\n",
    "# y_true are the true labels of the test set\n",
    "# y_pred are the predicted labels of the test set\n",
    "mcc = matthews_corrcoef(y_true, y_pred)\n",
    "kappa = cohen_kappa_score(y_true, y_pred)\n",
    "print(\"MCC: {:.2f}%\".format(mcc*100))\n",
    "print(\"Kappa Score: {:.2f}%\".format(kappa*100))"
   ]
  },
  {
   "cell_type": "code",
   "execution_count": 41,
   "id": "7944308b",
   "metadata": {
    "execution": {
     "iopub.execute_input": "2023-06-14T15:05:53.402830Z",
     "iopub.status.busy": "2023-06-14T15:05:53.402518Z",
     "iopub.status.idle": "2023-06-14T15:05:53.477796Z",
     "shell.execute_reply": "2023-06-14T15:05:53.476415Z"
    },
    "papermill": {
     "duration": 0.115473,
     "end_time": "2023-06-14T15:05:53.480014",
     "exception": false,
     "start_time": "2023-06-14T15:05:53.364541",
     "status": "completed"
    },
    "tags": []
   },
   "outputs": [
    {
     "name": "stdout",
     "output_type": "stream",
     "text": [
      "MCC per class:\n",
      "Class 0: 57.65%\n",
      "Class 1: 73.84%\n",
      "Class 2: 67.00%\n",
      "Class 3: 71.94%\n",
      "Class 4: 56.46%\n",
      "Class 5: 83.34%\n",
      "Class 6: 90.34%\n",
      "Kappa Score per class:\n",
      "Class 0: 57.49%\n",
      "Class 1: 73.70%\n",
      "Class 2: 66.53%\n",
      "Class 3: 71.19%\n",
      "Class 4: 56.44%\n",
      "Class 5: 83.23%\n",
      "Class 6: 89.88%\n"
     ]
    }
   ],
   "source": [
    "### Individual Class Wise MCC and Kappa\n",
    "\n",
    "from sklearn.metrics import confusion_matrix, matthews_corrcoef, cohen_kappa_score\n",
    "# y_true are the true labels of the test set\n",
    "# y_pred are the predicted labels of the test set\n",
    "conf_mat = confusion_matrix(y_true, y_pred)\n",
    "mcc_per_class = {}\n",
    "kappa_per_class = {}\n",
    "\n",
    "for i in range(len(conf_mat)):\n",
    "    tp = conf_mat[i][i]\n",
    "    fp = sum(conf_mat[:, i]) - tp\n",
    "    fn = sum(conf_mat[i, :]) - tp\n",
    "    tn = sum(sum(conf_mat)) - tp - fp - fn\n",
    "\n",
    "    mcc_per_class[i] = matthews_corrcoef([1 if x==i else 0 for x in y_true], [1 if x==i else 0 for x in y_pred])\n",
    "    kappa_per_class[i] = cohen_kappa_score([1 if x==i else 0 for x in y_true], [1 if x==i else 0 for x in y_pred])\n",
    "\n",
    "print(\"MCC per class:\")\n",
    "for i, mcc in mcc_per_class.items():\n",
    "    print(\"Class {}: {:.2f}%\".format(i, mcc*100))\n",
    "\n",
    "print(\"Kappa Score per class:\")\n",
    "for i, kappa in kappa_per_class.items():\n",
    "    print(\"Class {}: {:.2f}%\".format(i, kappa*100))"
   ]
  }
 ],
 "metadata": {
  "kernelspec": {
   "display_name": "Python 3",
   "language": "python",
   "name": "python3"
  },
  "language_info": {
   "codemirror_mode": {
    "name": "ipython",
    "version": 3
   },
   "file_extension": ".py",
   "mimetype": "text/x-python",
   "name": "python",
   "nbconvert_exporter": "python",
   "pygments_lexer": "ipython3",
   "version": "3.10.10"
  },
  "papermill": {
   "default_parameters": {},
   "duration": 34311.844027,
   "end_time": "2023-06-14T15:05:56.766700",
   "environment_variables": {},
   "exception": null,
   "input_path": "__notebook__.ipynb",
   "output_path": "__notebook__.ipynb",
   "parameters": {},
   "start_time": "2023-06-14T05:34:04.922673",
   "version": "2.4.0"
  }
 },
 "nbformat": 4,
 "nbformat_minor": 5
}
