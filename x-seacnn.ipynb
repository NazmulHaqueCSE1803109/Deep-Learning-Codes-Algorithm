{
 "cells": [
  {
   "cell_type": "markdown",
   "id": "c1da4ef9",
   "metadata": {
    "papermill": {
     "duration": 0.016021,
     "end_time": "2023-05-21T11:47:17.377566",
     "exception": false,
     "start_time": "2023-05-21T11:47:17.361545",
     "status": "completed"
    },
    "tags": []
   },
   "source": [
    "# Libraries"
   ]
  },
  {
   "cell_type": "code",
   "execution_count": 1,
   "id": "115239a4",
   "metadata": {
    "execution": {
     "iopub.execute_input": "2023-05-21T11:47:17.410594Z",
     "iopub.status.busy": "2023-05-21T11:47:17.409596Z",
     "iopub.status.idle": "2023-05-21T11:47:25.328314Z",
     "shell.execute_reply": "2023-05-21T11:47:25.327232Z"
    },
    "id": "Aa36bMKLze3z",
    "papermill": {
     "duration": 7.937793,
     "end_time": "2023-05-21T11:47:25.330727",
     "exception": false,
     "start_time": "2023-05-21T11:47:17.392934",
     "status": "completed"
    },
    "tags": []
   },
   "outputs": [],
   "source": [
    "import pandas as pd\n",
    "import numpy as np\n",
    "import os\n",
    "import tensorflow as tf\n",
    "import cv2\n",
    "from keras import backend as K\n",
    "from keras.layers import Layer, InputSpec\n",
    "import keras.layers as kl\n",
    "from glob import glob\n",
    "from sklearn.metrics import roc_curve, auc\n",
    "from keras.preprocessing import image\n",
    "from tensorflow.keras.models import Sequential\n",
    "from sklearn.metrics import roc_auc_score\n",
    "from tensorflow.keras import callbacks \n",
    "from tensorflow.keras.callbacks import ModelCheckpoint, EarlyStopping\n",
    "from  matplotlib import pyplot as plt\n",
    "from tensorflow.keras import Model\n",
    "from tensorflow.keras.layers import concatenate, Dense, Conv2D, MaxPooling2D, Flatten, Input, Activation, add, AveragePooling2D, BatchNormalization, Dropout, GlobalAveragePooling2D, GlobalMaxPooling2D\n",
    "%matplotlib inline\n",
    "import shutil\n",
    "from sklearn.metrics import  precision_score, recall_score, accuracy_score, classification_report, confusion_matrix\n",
    "from tensorflow.python.platform import build_info as tf_build_info\n",
    "from tensorflow.keras.preprocessing.image import ImageDataGenerator\n",
    "from sklearn.model_selection import train_test_split\n",
    "\n",
    "from PIL import ImageFile\n",
    "ImageFile.LOAD_TRUNCATED_IMAGES = True"
   ]
  },
  {
   "cell_type": "code",
   "execution_count": 2,
   "id": "bab0cd9f",
   "metadata": {
    "execution": {
     "iopub.execute_input": "2023-05-21T11:47:25.364438Z",
     "iopub.status.busy": "2023-05-21T11:47:25.363178Z",
     "iopub.status.idle": "2023-05-21T11:47:25.368293Z",
     "shell.execute_reply": "2023-05-21T11:47:25.367357Z"
    },
    "id": "PsoqCvNsgmHP",
    "papermill": {
     "duration": 0.023576,
     "end_time": "2023-05-21T11:47:25.370259",
     "exception": false,
     "start_time": "2023-05-21T11:47:25.346683",
     "status": "completed"
    },
    "tags": []
   },
   "outputs": [],
   "source": [
    "targetnames = ['akiec', 'bcc', 'bkl', 'df', 'mel', 'nv', 'vasc']\n",
    "batch_size = 16\n",
    "image_size = 299"
   ]
  },
  {
   "cell_type": "code",
   "execution_count": 3,
   "id": "5e90089f",
   "metadata": {
    "execution": {
     "iopub.execute_input": "2023-05-21T11:47:25.402754Z",
     "iopub.status.busy": "2023-05-21T11:47:25.401926Z",
     "iopub.status.idle": "2023-05-21T11:47:25.406590Z",
     "shell.execute_reply": "2023-05-21T11:47:25.405803Z"
    },
    "id": "wNisha_gM3_Z",
    "papermill": {
     "duration": 0.023242,
     "end_time": "2023-05-21T11:47:25.408687",
     "exception": false,
     "start_time": "2023-05-21T11:47:25.385445",
     "status": "completed"
    },
    "tags": []
   },
   "outputs": [],
   "source": [
    "train_path = 'C:/Users/STUDENT/IGAvg/dataset/Splitted_And_Augmented_HAM_15/HAM10K/train_dir'\n",
    "test_path = 'C:/Users/STUDENT/IGAvg/dataset/Splitted_And_Augmented_HAM_15/HAM10K/test_dir'\n",
    "val_path = 'C:/Users/STUDENT/IGAvg/dataset/Splitted_And_Augmented_HAM_15/HAM10K/val_dir'"
   ]
  },
  {
   "cell_type": "markdown",
   "id": "96b9f096",
   "metadata": {
    "papermill": {
     "duration": 0.015847,
     "end_time": "2023-05-21T11:47:25.439720",
     "exception": false,
     "start_time": "2023-05-21T11:47:25.423873",
     "status": "completed"
    },
    "tags": []
   },
   "source": [
    "# Dataset generation (Train, Test, Validation)"
   ]
  },
  {
   "cell_type": "code",
   "execution_count": 4,
   "id": "306b60de",
   "metadata": {
    "execution": {
     "iopub.execute_input": "2023-05-21T11:47:25.471972Z",
     "iopub.status.busy": "2023-05-21T11:47:25.471129Z",
     "iopub.status.idle": "2023-05-21T11:47:25.475849Z",
     "shell.execute_reply": "2023-05-21T11:47:25.475041Z"
    },
    "id": "zhQWqdRN79B3",
    "papermill": {
     "duration": 0.02314,
     "end_time": "2023-05-21T11:47:25.478031",
     "exception": false,
     "start_time": "2023-05-21T11:47:25.454891",
     "status": "completed"
    },
    "tags": []
   },
   "outputs": [],
   "source": [
    "datagen = ImageDataGenerator(preprocessing_function=tf.keras.applications.xception.preprocess_input)"
   ]
  },
  {
   "cell_type": "code",
   "execution_count": 5,
   "id": "b67e3b8e",
   "metadata": {
    "execution": {
     "iopub.execute_input": "2023-05-21T11:47:25.510431Z",
     "iopub.status.busy": "2023-05-21T11:47:25.509599Z",
     "iopub.status.idle": "2023-05-21T11:47:48.772379Z",
     "shell.execute_reply": "2023-05-21T11:47:48.771511Z"
    },
    "id": "w9_8FvOO7Rtu",
    "outputId": "7ca88c24-fda8-45d6-cb32-f3a43ae6ba5b",
    "papermill": {
     "duration": 23.281964,
     "end_time": "2023-05-21T11:47:48.775151",
     "exception": false,
     "start_time": "2023-05-21T11:47:25.493187",
     "status": "completed"
    },
    "tags": []
   },
   "outputs": [
    {
     "name": "stdout",
     "output_type": "stream",
     "text": [
      "\n",
      "Train Batches: \n",
      "Found 54782 images belonging to 7 classes.\n",
      "\n",
      "Test Batches: \n",
      "Found 828 images belonging to 7 classes.\n",
      "\n",
      "Val Batches: \n",
      "Found 827 images belonging to 7 classes.\n"
     ]
    }
   ],
   "source": [
    "print(\"\\nTrain Batches: \")\n",
    "train_batches = datagen.flow_from_directory(directory=train_path,\n",
    "                                            target_size=(image_size,image_size),\n",
    "                                            batch_size=batch_size,\n",
    "                                            shuffle=True)\n",
    "\n",
    "print(\"\\nTest Batches: \")\n",
    "test_batches = datagen.flow_from_directory(test_path,\n",
    "                                          target_size=(image_size,image_size),\n",
    "                                          batch_size=batch_size,\n",
    "                                          shuffle=False)\n",
    "print(\"\\nVal Batches: \")\n",
    "val_batches = datagen.flow_from_directory(val_path,\n",
    "                                         target_size=(image_size,image_size),\n",
    "                                         batch_size=batch_size,\n",
    "                                         shuffle=False)"
   ]
  },
  {
   "cell_type": "markdown",
   "id": "4819992d",
   "metadata": {
    "papermill": {
     "duration": 0.015586,
     "end_time": "2023-05-21T11:47:48.813358",
     "exception": false,
     "start_time": "2023-05-21T11:47:48.797772",
     "status": "completed"
    },
    "tags": []
   },
   "source": [
    "# Main Model Creation"
   ]
  },
  {
   "cell_type": "markdown",
   "id": "3f6d6f08",
   "metadata": {
    "papermill": {
     "duration": 0.015531,
     "end_time": "2023-05-21T11:47:48.844378",
     "exception": false,
     "start_time": "2023-05-21T11:47:48.828847",
     "status": "completed"
    },
    "tags": []
   },
   "source": [
    "### Squeeze and Excitation Attention"
   ]
  },
  {
   "cell_type": "code",
   "execution_count": 6,
   "id": "34c6a648",
   "metadata": {
    "execution": {
     "iopub.execute_input": "2023-05-21T11:47:48.877416Z",
     "iopub.status.busy": "2023-05-21T11:47:48.877072Z",
     "iopub.status.idle": "2023-05-21T11:47:48.883113Z",
     "shell.execute_reply": "2023-05-21T11:47:48.882143Z"
    },
    "papermill": {
     "duration": 0.024928,
     "end_time": "2023-05-21T11:47:48.885112",
     "exception": false,
     "start_time": "2023-05-21T11:47:48.860184",
     "status": "completed"
    },
    "tags": []
   },
   "outputs": [],
   "source": [
    "def squeeze_excite_block(input, filters, se_ratio):\n",
    "    # Squeeze step\n",
    "    se = tf.keras.layers.GlobalAveragePooling2D()(input)\n",
    "    se = tf.keras.layers.Dense(filters // se_ratio, activation='relu')(se)\n",
    "    se = tf.keras.layers.Dense(filters, activation='softmax')(se)\n",
    "    # Excitation step\n",
    "    x = tf.keras.layers.multiply([input, se])\n",
    "    return x"
   ]
  },
  {
   "cell_type": "markdown",
   "id": "d5f3bf97",
   "metadata": {
    "papermill": {
     "duration": 0.015483,
     "end_time": "2023-05-21T11:47:48.916402",
     "exception": false,
     "start_time": "2023-05-21T11:47:48.900919",
     "status": "completed"
    },
    "tags": []
   },
   "source": [
    "### Define Model"
   ]
  },
  {
   "cell_type": "code",
   "execution_count": 7,
   "id": "5aa6b695",
   "metadata": {
    "execution": {
     "iopub.execute_input": "2023-05-21T11:47:48.949996Z",
     "iopub.status.busy": "2023-05-21T11:47:48.948894Z",
     "iopub.status.idle": "2023-05-21T11:47:53.437020Z",
     "shell.execute_reply": "2023-05-21T11:47:53.436076Z"
    },
    "id": "zhQWqdRN79B3",
    "papermill": {
     "duration": 4.507265,
     "end_time": "2023-05-21T11:47:53.439493",
     "exception": false,
     "start_time": "2023-05-21T11:47:48.932228",
     "status": "completed"
    },
    "tags": []
   },
   "outputs": [],
   "source": [
    "from tensorflow.keras.applications.xception import Xception\n",
    "\n",
    "X = Xception(weights='imagenet', include_top=False, input_shape=(image_size, image_size, 3), pooling='avg')"
   ]
  },
  {
   "cell_type": "markdown",
   "id": "f6282c39",
   "metadata": {
    "papermill": {
     "duration": 0.0164,
     "end_time": "2023-05-21T11:47:53.472717",
     "exception": false,
     "start_time": "2023-05-21T11:47:53.456317",
     "status": "completed"
    },
    "tags": []
   },
   "source": [
    "## Fine tuning"
   ]
  },
  {
   "cell_type": "code",
   "execution_count": 8,
   "id": "0d85972d",
   "metadata": {
    "execution": {
     "iopub.execute_input": "2023-05-21T11:47:53.507643Z",
     "iopub.status.busy": "2023-05-21T11:47:53.506652Z",
     "iopub.status.idle": "2023-05-21T11:47:53.513173Z",
     "shell.execute_reply": "2023-05-21T11:47:53.512233Z"
    },
    "id": "4d4Ta5LcSYaz",
    "papermill": {
     "duration": 0.026111,
     "end_time": "2023-05-21T11:47:53.515123",
     "exception": false,
     "start_time": "2023-05-21T11:47:53.489012",
     "status": "completed"
    },
    "tags": []
   },
   "outputs": [],
   "source": [
    "MainInput=Input(shape=(image_size, image_size, 3))"
   ]
  },
  {
   "cell_type": "code",
   "execution_count": 9,
   "id": "ca584a52",
   "metadata": {
    "execution": {
     "iopub.execute_input": "2023-05-21T11:47:53.549065Z",
     "iopub.status.busy": "2023-05-21T11:47:53.548793Z",
     "iopub.status.idle": "2023-05-21T11:47:53.909033Z",
     "shell.execute_reply": "2023-05-21T11:47:53.908115Z"
    },
    "papermill": {
     "duration": 0.379892,
     "end_time": "2023-05-21T11:47:53.911621",
     "exception": false,
     "start_time": "2023-05-21T11:47:53.531729",
     "status": "completed"
    },
    "tags": []
   },
   "outputs": [],
   "source": [
    "xception = X(MainInput)"
   ]
  },
  {
   "cell_type": "code",
   "execution_count": 10,
   "id": "33c393bd",
   "metadata": {
    "execution": {
     "iopub.execute_input": "2023-05-21T11:47:53.949039Z",
     "iopub.status.busy": "2023-05-21T11:47:53.948647Z",
     "iopub.status.idle": "2023-05-21T11:47:53.965357Z",
     "shell.execute_reply": "2023-05-21T11:47:53.964527Z"
    },
    "papermill": {
     "duration": 0.037262,
     "end_time": "2023-05-21T11:47:53.967718",
     "exception": false,
     "start_time": "2023-05-21T11:47:53.930456",
     "status": "completed"
    },
    "tags": []
   },
   "outputs": [],
   "source": [
    "# Reshape the tensor to have 4 dimensions\n",
    "from tensorflow.keras.layers import Reshape\n",
    "reshape = Reshape((16, 16, 8))(xception)"
   ]
  },
  {
   "cell_type": "code",
   "execution_count": 11,
   "id": "0fb3f1ab",
   "metadata": {
    "execution": {
     "iopub.execute_input": "2023-05-21T11:47:54.002715Z",
     "iopub.status.busy": "2023-05-21T11:47:54.002408Z",
     "iopub.status.idle": "2023-05-21T11:47:54.094389Z",
     "shell.execute_reply": "2023-05-21T11:47:54.093533Z"
    },
    "id": "x8mS99J5SYbT",
    "papermill": {
     "duration": 0.111814,
     "end_time": "2023-05-21T11:47:54.096661",
     "exception": false,
     "start_time": "2023-05-21T11:47:53.984847",
     "status": "completed"
    },
    "tags": []
   },
   "outputs": [],
   "source": [
    "# Add convolutional layers with Channel Attention\n",
    "conv = Conv2D(filters=128, kernel_size=(7, 7), activation=\"relu\", padding=\"same\", kernel_initializer='he_normal')(reshape)\n",
    "conv = BatchNormalization()(conv)\n",
    "conv = Conv2D(filters=128, kernel_size=(5, 5), activation=\"relu\", padding=\"same\", kernel_initializer='he_normal')(conv)\n",
    "conv = BatchNormalization()(conv)\n",
    "conv = Conv2D(filters=128, kernel_size=(3, 3), activation=\"relu\", padding=\"same\", kernel_initializer='he_normal')(conv)\n",
    "conv = BatchNormalization()(conv)\n",
    "conv = Conv2D(filters=128, kernel_size=(1, 1), activation=\"relu\", padding=\"same\", kernel_initializer='he_normal')(conv)\n",
    "conv = BatchNormalization()(conv)"
   ]
  },
  {
   "cell_type": "code",
   "execution_count": 12,
   "id": "9c48d4dc",
   "metadata": {
    "execution": {
     "iopub.execute_input": "2023-05-21T11:47:54.131792Z",
     "iopub.status.busy": "2023-05-21T11:47:54.131012Z",
     "iopub.status.idle": "2023-05-21T11:47:54.172190Z",
     "shell.execute_reply": "2023-05-21T11:47:54.171292Z"
    },
    "papermill": {
     "duration": 0.060986,
     "end_time": "2023-05-21T11:47:54.174442",
     "exception": false,
     "start_time": "2023-05-21T11:47:54.113456",
     "status": "completed"
    },
    "tags": []
   },
   "outputs": [],
   "source": [
    "image_size_2 = 16\n",
    "from tensorflow.keras.layers import Reshape\n",
    "conv = Reshape(target_shape=(image_size_2, image_size_2, 128,))(conv)\n",
    "x = squeeze_excite_block(conv, 128, 128)  # use same number of filters as the input tensor"
   ]
  },
  {
   "cell_type": "code",
   "execution_count": 13,
   "id": "03a53e23",
   "metadata": {
    "execution": {
     "iopub.execute_input": "2023-05-21T11:47:54.209903Z",
     "iopub.status.busy": "2023-05-21T11:47:54.208877Z",
     "iopub.status.idle": "2023-05-21T11:47:54.294772Z",
     "shell.execute_reply": "2023-05-21T11:47:54.293890Z"
    },
    "papermill": {
     "duration": 0.105482,
     "end_time": "2023-05-21T11:47:54.296946",
     "exception": false,
     "start_time": "2023-05-21T11:47:54.191464",
     "status": "completed"
    },
    "tags": []
   },
   "outputs": [],
   "source": [
    "# Add convolutional layers with Channel Attention\n",
    "conv = Conv2D(filters=128, kernel_size=(7, 7), activation=\"relu\", padding=\"same\", kernel_initializer='he_normal')(x)\n",
    "conv = BatchNormalization()(conv)\n",
    "conv = Conv2D(filters=128, kernel_size=(5, 5), activation=\"relu\", padding=\"same\", kernel_initializer='he_normal')(conv)\n",
    "conv = BatchNormalization()(conv)\n",
    "conv = Conv2D(filters=128, kernel_size=(3, 3), activation=\"relu\", padding=\"same\", kernel_initializer='he_normal')(conv)\n",
    "conv = BatchNormalization()(conv)\n",
    "conv = Conv2D(filters=128, kernel_size=(1, 1), activation=\"relu\", padding=\"same\", kernel_initializer='he_normal')(conv)\n",
    "conv = BatchNormalization()(conv)"
   ]
  },
  {
   "cell_type": "code",
   "execution_count": 14,
   "id": "509b6bbc",
   "metadata": {
    "execution": {
     "iopub.execute_input": "2023-05-21T11:47:54.331568Z",
     "iopub.status.busy": "2023-05-21T11:47:54.331277Z",
     "iopub.status.idle": "2023-05-21T11:47:54.339199Z",
     "shell.execute_reply": "2023-05-21T11:47:54.338372Z"
    },
    "id": "wfhLPhssAm2S",
    "papermill": {
     "duration": 0.027584,
     "end_time": "2023-05-21T11:47:54.341327",
     "exception": false,
     "start_time": "2023-05-21T11:47:54.313743",
     "status": "completed"
    },
    "tags": []
   },
   "outputs": [],
   "source": [
    "conv=(MaxPooling2D(strides=(2, 2),padding=\"same\")(conv))"
   ]
  },
  {
   "cell_type": "code",
   "execution_count": 15,
   "id": "74e4deab",
   "metadata": {
    "execution": {
     "iopub.execute_input": "2023-05-21T11:47:54.375786Z",
     "iopub.status.busy": "2023-05-21T11:47:54.374994Z",
     "iopub.status.idle": "2023-05-21T11:47:54.463755Z",
     "shell.execute_reply": "2023-05-21T11:47:54.462817Z"
    },
    "id": "sW4tKg9wSYbk",
    "papermill": {
     "duration": 0.108459,
     "end_time": "2023-05-21T11:47:54.466046",
     "exception": false,
     "start_time": "2023-05-21T11:47:54.357587",
     "status": "completed"
    },
    "tags": []
   },
   "outputs": [],
   "source": [
    "conv = Conv2D(filters=256,kernel_size=(7,7), activation=\"relu\",padding=\"same\",kernel_initializer='he_normal')(conv)\n",
    "conv = BatchNormalization()(conv)\n",
    "conv = Conv2D(filters=256,kernel_size=(5,5), activation=\"relu\",padding=\"same\",kernel_initializer='he_normal')(conv)\n",
    "conv = BatchNormalization()(conv)\n",
    "conv = Conv2D(filters=256,kernel_size=(3,3), activation=\"relu\",padding=\"same\",kernel_initializer='he_normal')(conv)\n",
    "conv = BatchNormalization()(conv)\n",
    "conv = Conv2D(filters=256,kernel_size=(1,1), activation=\"relu\",padding=\"same\",kernel_initializer='he_normal')(conv)\n",
    "conv = BatchNormalization()(conv)"
   ]
  },
  {
   "cell_type": "code",
   "execution_count": 16,
   "id": "4dce77bd",
   "metadata": {
    "execution": {
     "iopub.execute_input": "2023-05-21T11:47:54.501147Z",
     "iopub.status.busy": "2023-05-21T11:47:54.500639Z",
     "iopub.status.idle": "2023-05-21T11:47:54.542513Z",
     "shell.execute_reply": "2023-05-21T11:47:54.541640Z"
    },
    "papermill": {
     "duration": 0.061969,
     "end_time": "2023-05-21T11:47:54.544839",
     "exception": false,
     "start_time": "2023-05-21T11:47:54.482870",
     "status": "completed"
    },
    "tags": []
   },
   "outputs": [],
   "source": [
    "image_size_3 = 8\n",
    "from tensorflow.keras.layers import Reshape\n",
    "conv = Reshape(target_shape=(image_size_3, image_size_3, 256,))(conv)\n",
    "x = squeeze_excite_block(conv, 256, 256)  # use same number of filters as the input tensor"
   ]
  },
  {
   "cell_type": "code",
   "execution_count": 17,
   "id": "011b7d1b",
   "metadata": {
    "execution": {
     "iopub.execute_input": "2023-05-21T11:47:54.579262Z",
     "iopub.status.busy": "2023-05-21T11:47:54.578957Z",
     "iopub.status.idle": "2023-05-21T11:47:54.661612Z",
     "shell.execute_reply": "2023-05-21T11:47:54.660781Z"
    },
    "papermill": {
     "duration": 0.101868,
     "end_time": "2023-05-21T11:47:54.663502",
     "exception": false,
     "start_time": "2023-05-21T11:47:54.561634",
     "status": "completed"
    },
    "tags": []
   },
   "outputs": [],
   "source": [
    "conv = Conv2D(filters=256,kernel_size=(7,7), activation=\"relu\",padding=\"same\",kernel_initializer='he_normal')(x)\n",
    "conv = BatchNormalization()(conv)\n",
    "conv = Conv2D(filters=256,kernel_size=(5,5), activation=\"relu\",padding=\"same\",kernel_initializer='he_normal')(conv)\n",
    "conv = BatchNormalization()(conv)\n",
    "conv = Conv2D(filters=256,kernel_size=(3,3), activation=\"relu\",padding=\"same\",kernel_initializer='he_normal')(conv)\n",
    "conv = BatchNormalization()(conv)\n",
    "conv = Conv2D(filters=256,kernel_size=(1,1), activation=\"relu\",padding=\"same\",kernel_initializer='he_normal')(conv)\n",
    "conv = BatchNormalization()(conv)"
   ]
  },
  {
   "cell_type": "code",
   "execution_count": 18,
   "id": "02507032",
   "metadata": {
    "execution": {
     "iopub.execute_input": "2023-05-21T11:47:54.698207Z",
     "iopub.status.busy": "2023-05-21T11:47:54.697421Z",
     "iopub.status.idle": "2023-05-21T11:47:54.705843Z",
     "shell.execute_reply": "2023-05-21T11:47:54.705003Z"
    },
    "id": "eo8E7RxUSYcW",
    "papermill": {
     "duration": 0.027814,
     "end_time": "2023-05-21T11:47:54.707947",
     "exception": false,
     "start_time": "2023-05-21T11:47:54.680133",
     "status": "completed"
    },
    "tags": []
   },
   "outputs": [],
   "source": [
    "conv=(MaxPooling2D(pool_size=(2, 2),padding=\"same\")(conv))"
   ]
  },
  {
   "cell_type": "code",
   "execution_count": 19,
   "id": "e68dc80a",
   "metadata": {
    "execution": {
     "iopub.execute_input": "2023-05-21T11:47:54.742328Z",
     "iopub.status.busy": "2023-05-21T11:47:54.742015Z",
     "iopub.status.idle": "2023-05-21T11:47:54.746910Z",
     "shell.execute_reply": "2023-05-21T11:47:54.745898Z"
    },
    "papermill": {
     "duration": 0.02597,
     "end_time": "2023-05-21T11:47:54.750459",
     "exception": false,
     "start_time": "2023-05-21T11:47:54.724489",
     "status": "completed"
    },
    "tags": []
   },
   "outputs": [
    {
     "name": "stdout",
     "output_type": "stream",
     "text": [
      "7\n"
     ]
    }
   ],
   "source": [
    "num_classes = test_batches.num_classes\n",
    "print(num_classes)"
   ]
  },
  {
   "cell_type": "code",
   "execution_count": 20,
   "id": "28ea3265",
   "metadata": {
    "execution": {
     "iopub.execute_input": "2023-05-21T11:47:54.784964Z",
     "iopub.status.busy": "2023-05-21T11:47:54.784223Z",
     "iopub.status.idle": "2023-05-21T11:47:54.834555Z",
     "shell.execute_reply": "2023-05-21T11:47:54.833665Z"
    },
    "id": "-EdFxKdgSYcf",
    "papermill": {
     "duration": 0.070074,
     "end_time": "2023-05-21T11:47:54.836880",
     "exception": false,
     "start_time": "2023-05-21T11:47:54.766806",
     "status": "completed"
    },
    "tags": []
   },
   "outputs": [],
   "source": [
    "conv=(Flatten()(conv))\n",
    "conv=(Dense(1024,activation=\"relu\")(conv))\n",
    "conv=(Dense(512,activation=\"relu\")(conv))\n",
    "conv=(Dense(num_classes, activation=\"softmax\")(conv))\n",
    "\n",
    "model_x_sea = Model(inputs=MainInput, outputs=conv)"
   ]
  },
  {
   "cell_type": "code",
   "execution_count": 21,
   "id": "f0cb0183",
   "metadata": {
    "execution": {
     "iopub.execute_input": "2023-05-21T11:47:54.872705Z",
     "iopub.status.busy": "2023-05-21T11:47:54.871887Z",
     "iopub.status.idle": "2023-05-21T11:47:55.051710Z",
     "shell.execute_reply": "2023-05-21T11:47:55.050178Z"
    },
    "id": "ba8ajOckSYcl",
    "outputId": "e69fa749-4741-4f49-ae3e-9f5479e809a8",
    "papermill": {
     "duration": 0.228256,
     "end_time": "2023-05-21T11:47:55.082182",
     "exception": false,
     "start_time": "2023-05-21T11:47:54.853926",
     "status": "completed"
    },
    "tags": []
   },
   "outputs": [
    {
     "name": "stdout",
     "output_type": "stream",
     "text": [
      "Model: \"model\"\n",
      "__________________________________________________________________________________________________\n",
      " Layer (type)                   Output Shape         Param #     Connected to                     \n",
      "==================================================================================================\n",
      " input_2 (InputLayer)           [(None, 299, 299, 3  0           []                               \n",
      "                                )]                                                                \n",
      "                                                                                                  \n",
      " xception (Functional)          (None, 2048)         20861480    ['input_2[0][0]']                \n",
      "                                                                                                  \n",
      " reshape (Reshape)              (None, 16, 16, 8)    0           ['xception[0][0]']               \n",
      "                                                                                                  \n",
      " conv2d_4 (Conv2D)              (None, 16, 16, 128)  50304       ['reshape[0][0]']                \n",
      "                                                                                                  \n",
      " batch_normalization_4 (BatchNo  (None, 16, 16, 128)  512        ['conv2d_4[0][0]']               \n",
      " rmalization)                                                                                     \n",
      "                                                                                                  \n",
      " conv2d_5 (Conv2D)              (None, 16, 16, 128)  409728      ['batch_normalization_4[0][0]']  \n",
      "                                                                                                  \n",
      " batch_normalization_5 (BatchNo  (None, 16, 16, 128)  512        ['conv2d_5[0][0]']               \n",
      " rmalization)                                                                                     \n",
      "                                                                                                  \n",
      " conv2d_6 (Conv2D)              (None, 16, 16, 128)  147584      ['batch_normalization_5[0][0]']  \n",
      "                                                                                                  \n",
      " batch_normalization_6 (BatchNo  (None, 16, 16, 128)  512        ['conv2d_6[0][0]']               \n",
      " rmalization)                                                                                     \n",
      "                                                                                                  \n",
      " conv2d_7 (Conv2D)              (None, 16, 16, 128)  16512       ['batch_normalization_6[0][0]']  \n",
      "                                                                                                  \n",
      " batch_normalization_7 (BatchNo  (None, 16, 16, 128)  512        ['conv2d_7[0][0]']               \n",
      " rmalization)                                                                                     \n",
      "                                                                                                  \n",
      " reshape_1 (Reshape)            (None, 16, 16, 128)  0           ['batch_normalization_7[0][0]']  \n",
      "                                                                                                  \n",
      " global_average_pooling2d_1 (Gl  (None, 128)         0           ['reshape_1[0][0]']              \n",
      " obalAveragePooling2D)                                                                            \n",
      "                                                                                                  \n",
      " dense (Dense)                  (None, 1)            129         ['global_average_pooling2d_1[0][0\n",
      "                                                                 ]']                              \n",
      "                                                                                                  \n",
      " dense_1 (Dense)                (None, 128)          256         ['dense[0][0]']                  \n",
      "                                                                                                  \n",
      " multiply (Multiply)            (None, 16, 16, 128)  0           ['reshape_1[0][0]',              \n",
      "                                                                  'dense_1[0][0]']                \n",
      "                                                                                                  \n",
      " conv2d_8 (Conv2D)              (None, 16, 16, 128)  802944      ['multiply[0][0]']               \n",
      "                                                                                                  \n",
      " batch_normalization_8 (BatchNo  (None, 16, 16, 128)  512        ['conv2d_8[0][0]']               \n",
      " rmalization)                                                                                     \n",
      "                                                                                                  \n",
      " conv2d_9 (Conv2D)              (None, 16, 16, 128)  409728      ['batch_normalization_8[0][0]']  \n",
      "                                                                                                  \n",
      " batch_normalization_9 (BatchNo  (None, 16, 16, 128)  512        ['conv2d_9[0][0]']               \n",
      " rmalization)                                                                                     \n",
      "                                                                                                  \n",
      " conv2d_10 (Conv2D)             (None, 16, 16, 128)  147584      ['batch_normalization_9[0][0]']  \n",
      "                                                                                                  \n",
      " batch_normalization_10 (BatchN  (None, 16, 16, 128)  512        ['conv2d_10[0][0]']              \n",
      " ormalization)                                                                                    \n",
      "                                                                                                  \n",
      " conv2d_11 (Conv2D)             (None, 16, 16, 128)  16512       ['batch_normalization_10[0][0]'] \n",
      "                                                                                                  \n",
      " batch_normalization_11 (BatchN  (None, 16, 16, 128)  512        ['conv2d_11[0][0]']              \n",
      " ormalization)                                                                                    \n",
      "                                                                                                  \n",
      " max_pooling2d (MaxPooling2D)   (None, 8, 8, 128)    0           ['batch_normalization_11[0][0]'] \n",
      "                                                                                                  \n",
      " conv2d_12 (Conv2D)             (None, 8, 8, 256)    1605888     ['max_pooling2d[0][0]']          \n",
      "                                                                                                  \n",
      " batch_normalization_12 (BatchN  (None, 8, 8, 256)   1024        ['conv2d_12[0][0]']              \n",
      " ormalization)                                                                                    \n",
      "                                                                                                  \n",
      " conv2d_13 (Conv2D)             (None, 8, 8, 256)    1638656     ['batch_normalization_12[0][0]'] \n",
      "                                                                                                  \n",
      " batch_normalization_13 (BatchN  (None, 8, 8, 256)   1024        ['conv2d_13[0][0]']              \n",
      " ormalization)                                                                                    \n",
      "                                                                                                  \n",
      " conv2d_14 (Conv2D)             (None, 8, 8, 256)    590080      ['batch_normalization_13[0][0]'] \n",
      "                                                                                                  \n",
      " batch_normalization_14 (BatchN  (None, 8, 8, 256)   1024        ['conv2d_14[0][0]']              \n",
      " ormalization)                                                                                    \n",
      "                                                                                                  \n",
      " conv2d_15 (Conv2D)             (None, 8, 8, 256)    65792       ['batch_normalization_14[0][0]'] \n",
      "                                                                                                  \n",
      " batch_normalization_15 (BatchN  (None, 8, 8, 256)   1024        ['conv2d_15[0][0]']              \n"
     ]
    },
    {
     "name": "stdout",
     "output_type": "stream",
     "text": [
      " ormalization)                                                                                    \n",
      "                                                                                                  \n",
      " reshape_2 (Reshape)            (None, 8, 8, 256)    0           ['batch_normalization_15[0][0]'] \n",
      "                                                                                                  \n",
      " global_average_pooling2d_2 (Gl  (None, 256)         0           ['reshape_2[0][0]']              \n",
      " obalAveragePooling2D)                                                                            \n",
      "                                                                                                  \n",
      " dense_2 (Dense)                (None, 1)            257         ['global_average_pooling2d_2[0][0\n",
      "                                                                 ]']                              \n",
      "                                                                                                  \n",
      " dense_3 (Dense)                (None, 256)          512         ['dense_2[0][0]']                \n",
      "                                                                                                  \n",
      " multiply_1 (Multiply)          (None, 8, 8, 256)    0           ['reshape_2[0][0]',              \n",
      "                                                                  'dense_3[0][0]']                \n",
      "                                                                                                  \n",
      " conv2d_16 (Conv2D)             (None, 8, 8, 256)    3211520     ['multiply_1[0][0]']             \n",
      "                                                                                                  \n",
      " batch_normalization_16 (BatchN  (None, 8, 8, 256)   1024        ['conv2d_16[0][0]']              \n",
      " ormalization)                                                                                    \n",
      "                                                                                                  \n",
      " conv2d_17 (Conv2D)             (None, 8, 8, 256)    1638656     ['batch_normalization_16[0][0]'] \n",
      "                                                                                                  \n",
      " batch_normalization_17 (BatchN  (None, 8, 8, 256)   1024        ['conv2d_17[0][0]']              \n",
      " ormalization)                                                                                    \n",
      "                                                                                                  \n",
      " conv2d_18 (Conv2D)             (None, 8, 8, 256)    590080      ['batch_normalization_17[0][0]'] \n",
      "                                                                                                  \n",
      " batch_normalization_18 (BatchN  (None, 8, 8, 256)   1024        ['conv2d_18[0][0]']              \n",
      " ormalization)                                                                                    \n",
      "                                                                                                  \n",
      " conv2d_19 (Conv2D)             (None, 8, 8, 256)    65792       ['batch_normalization_18[0][0]'] \n",
      "                                                                                                  \n",
      " batch_normalization_19 (BatchN  (None, 8, 8, 256)   1024        ['conv2d_19[0][0]']              \n",
      " ormalization)                                                                                    \n",
      "                                                                                                  \n",
      " max_pooling2d_1 (MaxPooling2D)  (None, 4, 4, 256)   0           ['batch_normalization_19[0][0]'] \n",
      "                                                                                                  \n",
      " flatten (Flatten)              (None, 4096)         0           ['max_pooling2d_1[0][0]']        \n",
      "                                                                                                  \n",
      " dense_4 (Dense)                (None, 1024)         4195328     ['flatten[0][0]']                \n",
      "                                                                                                  \n",
      " dense_5 (Dense)                (None, 512)          524800      ['dense_4[0][0]']                \n",
      "                                                                                                  \n",
      " dense_6 (Dense)                (None, 7)            3591        ['dense_5[0][0]']                \n",
      "                                                                                                  \n",
      "==================================================================================================\n",
      "Total params: 37,006,001\n",
      "Trainable params: 36,945,329\n",
      "Non-trainable params: 60,672\n",
      "__________________________________________________________________________________________________\n"
     ]
    }
   ],
   "source": [
    "model_x_sea.summary()"
   ]
  },
  {
   "cell_type": "code",
   "execution_count": 22,
   "id": "eca4b43b",
   "metadata": {
    "execution": {
     "iopub.execute_input": "2023-05-21T11:47:55.138204Z",
     "iopub.status.busy": "2023-05-21T11:47:55.137924Z",
     "iopub.status.idle": "2023-05-21T11:47:55.160415Z",
     "shell.execute_reply": "2023-05-21T11:47:55.159396Z"
    },
    "id": "WR0fUpy18vAZ",
    "papermill": {
     "duration": 0.052763,
     "end_time": "2023-05-21T11:47:55.162278",
     "exception": false,
     "start_time": "2023-05-21T11:47:55.109515",
     "status": "completed"
    },
    "tags": []
   },
   "outputs": [],
   "source": [
    "opt1=tf.keras.optimizers.Adam(learning_rate=0.001,epsilon=0.1)\n",
    "model_x_sea.compile(optimizer=opt1,\n",
    "             loss='categorical_crossentropy',\n",
    "             metrics=['accuracy'])"
   ]
  },
  {
   "cell_type": "code",
   "execution_count": 23,
   "id": "15a67e6b",
   "metadata": {
    "execution": {
     "iopub.execute_input": "2023-05-21T11:47:55.217531Z",
     "iopub.status.busy": "2023-05-21T11:47:55.217190Z",
     "iopub.status.idle": "2023-05-21T11:47:55.222270Z",
     "shell.execute_reply": "2023-05-21T11:47:55.221311Z"
    },
    "id": "LAf5ha295reS",
    "papermill": {
     "duration": 0.034921,
     "end_time": "2023-05-21T11:47:55.224228",
     "exception": false,
     "start_time": "2023-05-21T11:47:55.189307",
     "status": "completed"
    },
    "tags": []
   },
   "outputs": [],
   "source": [
    "class_weights = {   \n",
    "                    0: 1.0,  # akiec\n",
    "                    1: 1.0,  # bcc\n",
    "                    2: 1.0,  # bkl\n",
    "                    3: 1.0,  # df\n",
    "                    4: 1.0,  # mel\n",
    "                    5: 1.0,  # nv\n",
    "                    6: 1.0  # vasc\n",
    "                }"
   ]
  },
  {
   "cell_type": "code",
   "execution_count": 24,
   "id": "0958b195",
   "metadata": {
    "execution": {
     "iopub.execute_input": "2023-05-21T11:47:55.278882Z",
     "iopub.status.busy": "2023-05-21T11:47:55.278077Z",
     "iopub.status.idle": "2023-05-21T11:47:55.283496Z",
     "shell.execute_reply": "2023-05-21T11:47:55.282666Z"
    },
    "papermill": {
     "duration": 0.034626,
     "end_time": "2023-05-21T11:47:55.285402",
     "exception": false,
     "start_time": "2023-05-21T11:47:55.250776",
     "status": "completed"
    },
    "tags": []
   },
   "outputs": [],
   "source": [
    "checkpoint = ModelCheckpoint(filepath ='X_SEA.hdf5', monitor='val_accuracy', save_best_only=True, save_weights_only=True)\n",
    "Earlystop = EarlyStopping(monitor='val_accuracy', mode='max', patience=25, min_delta=0.01)"
   ]
  },
  {
   "cell_type": "code",
   "execution_count": 25,
   "id": "c2ecaf3f",
   "metadata": {
    "execution": {
     "iopub.execute_input": "2023-05-21T11:47:55.340008Z",
     "iopub.status.busy": "2023-05-21T11:47:55.339104Z",
     "iopub.status.idle": "2023-05-21T20:02:05.071301Z",
     "shell.execute_reply": "2023-05-21T20:02:05.070243Z"
    },
    "id": "NUzTmiZ-8hL3",
    "outputId": "e1825ff2-9f9c-436f-cf2c-9776af8eee62",
    "papermill": {
     "duration": 29649.79174,
     "end_time": "2023-05-21T20:02:05.103587",
     "exception": false,
     "start_time": "2023-05-21T11:47:55.311847",
     "status": "completed"
    },
    "tags": []
   },
   "outputs": [
    {
     "name": "stdout",
     "output_type": "stream",
     "text": [
      "Epoch 1/50\n",
      "3424/3424 - 607s - loss: 1.0983 - accuracy: 0.5799 - val_loss: 0.3822 - val_accuracy: 0.8730 - 607s/epoch - 177ms/step\n",
      "Epoch 2/50\n",
      "3424/3424 - 601s - loss: 0.4373 - accuracy: 0.8410 - val_loss: 0.3522 - val_accuracy: 0.8851 - 601s/epoch - 176ms/step\n",
      "Epoch 3/50\n",
      "3424/3424 - 601s - loss: 0.2348 - accuracy: 0.9156 - val_loss: 0.3417 - val_accuracy: 0.9021 - 601s/epoch - 176ms/step\n",
      "Epoch 4/50\n",
      "3424/3424 - 601s - loss: 0.1477 - accuracy: 0.9474 - val_loss: 0.3625 - val_accuracy: 0.9057 - 601s/epoch - 175ms/step\n",
      "Epoch 5/50\n",
      "3424/3424 - 601s - loss: 0.0941 - accuracy: 0.9676 - val_loss: 0.3651 - val_accuracy: 0.9008 - 601s/epoch - 175ms/step\n",
      "Epoch 6/50\n",
      "3424/3424 - 600s - loss: 0.0671 - accuracy: 0.9765 - val_loss: 0.3951 - val_accuracy: 0.9045 - 600s/epoch - 175ms/step\n",
      "Epoch 7/50\n",
      "3424/3424 - 605s - loss: 0.0475 - accuracy: 0.9833 - val_loss: 0.4064 - val_accuracy: 0.9105 - 605s/epoch - 177ms/step\n",
      "Epoch 8/50\n",
      "3424/3424 - 601s - loss: 0.0348 - accuracy: 0.9884 - val_loss: 0.4857 - val_accuracy: 0.8984 - 601s/epoch - 176ms/step\n",
      "Epoch 9/50\n",
      "3424/3424 - 601s - loss: 0.0292 - accuracy: 0.9895 - val_loss: 0.4519 - val_accuracy: 0.9105 - 601s/epoch - 175ms/step\n",
      "Epoch 10/50\n",
      "3424/3424 - 601s - loss: 0.0236 - accuracy: 0.9922 - val_loss: 0.5056 - val_accuracy: 0.9057 - 601s/epoch - 175ms/step\n",
      "Epoch 11/50\n",
      "3424/3424 - 600s - loss: 0.0179 - accuracy: 0.9940 - val_loss: 0.4857 - val_accuracy: 0.8996 - 600s/epoch - 175ms/step\n",
      "Epoch 12/50\n",
      "3424/3424 - 604s - loss: 0.0186 - accuracy: 0.9942 - val_loss: 0.5238 - val_accuracy: 0.9008 - 604s/epoch - 176ms/step\n",
      "Epoch 13/50\n",
      "3424/3424 - 602s - loss: 0.0152 - accuracy: 0.9949 - val_loss: 0.5107 - val_accuracy: 0.9141 - 602s/epoch - 176ms/step\n",
      "Epoch 14/50\n",
      "3424/3424 - 601s - loss: 0.0123 - accuracy: 0.9962 - val_loss: 0.4666 - val_accuracy: 0.9081 - 601s/epoch - 175ms/step\n",
      "Epoch 15/50\n",
      "3424/3424 - 601s - loss: 0.0115 - accuracy: 0.9961 - val_loss: 0.4742 - val_accuracy: 0.9069 - 601s/epoch - 175ms/step\n",
      "Epoch 16/50\n",
      "3424/3424 - 601s - loss: 0.0101 - accuracy: 0.9969 - val_loss: 0.5624 - val_accuracy: 0.8996 - 601s/epoch - 175ms/step\n",
      "Epoch 17/50\n",
      "3424/3424 - 601s - loss: 0.0091 - accuracy: 0.9973 - val_loss: 0.5094 - val_accuracy: 0.9057 - 601s/epoch - 175ms/step\n",
      "Epoch 18/50\n",
      "3424/3424 - 601s - loss: 0.0070 - accuracy: 0.9978 - val_loss: 0.5657 - val_accuracy: 0.9129 - 601s/epoch - 175ms/step\n",
      "Epoch 19/50\n",
      "3424/3424 - 601s - loss: 0.0071 - accuracy: 0.9977 - val_loss: 0.4878 - val_accuracy: 0.9141 - 601s/epoch - 175ms/step\n",
      "Epoch 20/50\n",
      "3424/3424 - 601s - loss: 0.0092 - accuracy: 0.9970 - val_loss: 0.5208 - val_accuracy: 0.9081 - 601s/epoch - 175ms/step\n",
      "Epoch 21/50\n",
      "3424/3424 - 601s - loss: 0.0062 - accuracy: 0.9981 - val_loss: 0.5989 - val_accuracy: 0.8984 - 601s/epoch - 176ms/step\n",
      "Epoch 22/50\n",
      "3424/3424 - 601s - loss: 0.0047 - accuracy: 0.9985 - val_loss: 0.5949 - val_accuracy: 0.9069 - 601s/epoch - 175ms/step\n",
      "Epoch 23/50\n",
      "3424/3424 - 601s - loss: 0.0059 - accuracy: 0.9981 - val_loss: 0.5601 - val_accuracy: 0.9033 - 601s/epoch - 176ms/step\n",
      "Epoch 24/50\n",
      "3424/3424 - 600s - loss: 0.0061 - accuracy: 0.9982 - val_loss: 0.5683 - val_accuracy: 0.9093 - 600s/epoch - 175ms/step\n",
      "Epoch 25/50\n",
      "3424/3424 - 601s - loss: 0.0041 - accuracy: 0.9986 - val_loss: 0.6056 - val_accuracy: 0.9129 - 601s/epoch - 175ms/step\n",
      "Epoch 26/50\n",
      "3424/3424 - 600s - loss: 0.0054 - accuracy: 0.9981 - val_loss: 0.5408 - val_accuracy: 0.9141 - 600s/epoch - 175ms/step\n",
      "Epoch 27/50\n",
      "3424/3424 - 601s - loss: 0.0038 - accuracy: 0.9988 - val_loss: 0.5311 - val_accuracy: 0.9093 - 601s/epoch - 175ms/step\n",
      "Epoch 28/50\n",
      "3424/3424 - 601s - loss: 0.0043 - accuracy: 0.9986 - val_loss: 0.5723 - val_accuracy: 0.9141 - 601s/epoch - 175ms/step\n",
      "Epoch 29/50\n",
      "3424/3424 - 601s - loss: 0.0048 - accuracy: 0.9985 - val_loss: 0.5115 - val_accuracy: 0.9178 - 601s/epoch - 175ms/step\n",
      "Epoch 30/50\n",
      "3424/3424 - 600s - loss: 0.0031 - accuracy: 0.9989 - val_loss: 0.5456 - val_accuracy: 0.9057 - 600s/epoch - 175ms/step\n",
      "Epoch 31/50\n",
      "3424/3424 - 601s - loss: 0.0038 - accuracy: 0.9987 - val_loss: 0.5878 - val_accuracy: 0.9033 - 601s/epoch - 176ms/step\n",
      "Epoch 32/50\n",
      "3424/3424 - 600s - loss: 0.0047 - accuracy: 0.9984 - val_loss: 0.5210 - val_accuracy: 0.9166 - 600s/epoch - 175ms/step\n",
      "Epoch 33/50\n",
      "3424/3424 - 601s - loss: 0.0026 - accuracy: 0.9993 - val_loss: 0.5468 - val_accuracy: 0.9117 - 601s/epoch - 175ms/step\n",
      "Epoch 34/50\n",
      "3424/3424 - 600s - loss: 0.0027 - accuracy: 0.9991 - val_loss: 0.5703 - val_accuracy: 0.9129 - 600s/epoch - 175ms/step\n",
      "Epoch 35/50\n",
      "3424/3424 - 600s - loss: 0.0035 - accuracy: 0.9989 - val_loss: 0.5834 - val_accuracy: 0.9166 - 600s/epoch - 175ms/step\n",
      "Epoch 36/50\n",
      "3424/3424 - 601s - loss: 0.0021 - accuracy: 0.9994 - val_loss: 0.6188 - val_accuracy: 0.9045 - 601s/epoch - 175ms/step\n",
      "Epoch 37/50\n",
      "3424/3424 - 601s - loss: 0.0028 - accuracy: 0.9990 - val_loss: 0.6655 - val_accuracy: 0.9166 - 601s/epoch - 175ms/step\n",
      "Epoch 38/50\n",
      "3424/3424 - 601s - loss: 0.0031 - accuracy: 0.9991 - val_loss: 0.5494 - val_accuracy: 0.9154 - 601s/epoch - 175ms/step\n"
     ]
    }
   ],
   "source": [
    "history = model_x_sea.fit(train_batches,\n",
    "                         epochs=50,\n",
    "                         verbose=2,\n",
    "                         validation_data=val_batches,\n",
    "                         callbacks=[checkpoint,Earlystop],\n",
    "                         class_weight=class_weights)"
   ]
  },
  {
   "cell_type": "markdown",
   "id": "3fc7998c",
   "metadata": {
    "papermill": {
     "duration": 0.031068,
     "end_time": "2023-05-21T20:02:05.167702",
     "exception": false,
     "start_time": "2023-05-21T20:02:05.136634",
     "status": "completed"
    },
    "tags": []
   },
   "source": [
    "### Plotting accuracy and loss"
   ]
  },
  {
   "cell_type": "code",
   "execution_count": 26,
   "id": "d970cad7",
   "metadata": {
    "execution": {
     "iopub.execute_input": "2023-05-21T20:02:05.231118Z",
     "iopub.status.busy": "2023-05-21T20:02:05.230812Z",
     "iopub.status.idle": "2023-05-21T20:02:08.938566Z",
     "shell.execute_reply": "2023-05-21T20:02:08.937666Z"
    },
    "papermill": {
     "duration": 3.742417,
     "end_time": "2023-05-21T20:02:08.941082",
     "exception": false,
     "start_time": "2023-05-21T20:02:05.198665",
     "status": "completed"
    },
    "tags": []
   },
   "outputs": [
    {
     "name": "stdout",
     "output_type": "stream",
     "text": [
      "Number of epochs trained: 38\n"
     ]
    },
    {
     "data": {
      "image/png": "[encoded data removed]",
      "text/plain": [
       "<Figure size 1500x500 with 2 Axes>"
      ]
     },
     "metadata": {},
     "output_type": "display_data"
    }
   ],
   "source": [
    "# Determine number of epochs trained\n",
    "num_epochs_trained = len(history.history['val_loss'])\n",
    "print(f\"Number of epochs trained: {num_epochs_trained}\")\n",
    "\n",
    "## History plotting\n",
    "epochs = [i for i in range(num_epochs_trained)]\n",
    "fig , ax = plt.subplots(1,2)\n",
    "train_acc = history.history['accuracy']\n",
    "train_loss = history.history['loss']\n",
    "val_acc = history.history['val_accuracy']\n",
    "val_loss = history.history['val_loss']\n",
    "fig.set_size_inches(15,5)\n",
    "\n",
    "ax[0].plot(epochs , train_acc , 'go-' , label = 'Training Accuracy')\n",
    "ax[0].plot(epochs , val_acc , 'ro-' , label = 'Validation Accuracy')\n",
    "title_font = {'fontname':'Times New Roman', 'size':'14', 'color':'black', 'weight':'normal'}\n",
    "ax[0].set_title('Model Accuracy', fontdict=title_font)\n",
    "legend_font = {'family': 'Times New Roman', 'size': '12', 'weight': 'normal'}\n",
    "ax[0].legend(prop=legend_font)\n",
    "label_font = {'fontname':'Times New Roman', 'size':'12', 'color':'black', 'weight':'normal'}\n",
    "ax[0].set_xlabel(\"Epochs\",  fontdict=label_font)\n",
    "ax[0].set_ylabel(\"Accuracy\",  fontdict=label_font)\n",
    "\n",
    "ax[1].plot(epochs , train_loss , 'g-o' , label = 'Training Loss')\n",
    "ax[1].plot(epochs , val_loss , 'r-o' , label = 'Validation Loss')\n",
    "ax[1].set_title('Model Loss', fontdict=title_font)\n",
    "ax[1].legend(prop=legend_font)\n",
    "ax[1].set_xlabel(\"Epochs\", fontdict=label_font)\n",
    "ax[1].set_ylabel(\"Loss\", fontdict=label_font)\n",
    "plt.show()"
   ]
  },
  {
   "cell_type": "code",
   "execution_count": 27,
   "id": "6a9ad7ea",
   "metadata": {
    "execution": {
     "iopub.execute_input": "2023-05-21T20:02:09.007347Z",
     "iopub.status.busy": "2023-05-21T20:02:09.007043Z",
     "iopub.status.idle": "2023-05-21T20:02:09.411190Z",
     "shell.execute_reply": "2023-05-21T20:02:09.410204Z"
    },
    "id": "zm_AewFBXTj8",
    "papermill": {
     "duration": 0.439816,
     "end_time": "2023-05-21T20:02:09.413795",
     "exception": false,
     "start_time": "2023-05-21T20:02:08.973979",
     "status": "completed"
    },
    "tags": []
   },
   "outputs": [],
   "source": [
    "from tensorflow.keras import models\n",
    "model_x_sea.load_weights(\"X_SEA.hdf5\")"
   ]
  },
  {
   "cell_type": "code",
   "execution_count": 28,
   "id": "5cb274dd",
   "metadata": {
    "execution": {
     "iopub.execute_input": "2023-05-21T20:02:09.479725Z",
     "iopub.status.busy": "2023-05-21T20:02:09.479431Z",
     "iopub.status.idle": "2023-05-21T20:02:25.140882Z",
     "shell.execute_reply": "2023-05-21T20:02:25.139960Z"
    },
    "papermill": {
     "duration": 15.696884,
     "end_time": "2023-05-21T20:02:25.142994",
     "exception": false,
     "start_time": "2023-05-21T20:02:09.446110",
     "status": "completed"
    },
    "tags": []
   },
   "outputs": [
    {
     "name": "stdout",
     "output_type": "stream",
     "text": [
      "52/52 [==============================] - 9s 154ms/step\n"
     ]
    }
   ],
   "source": [
    "predictions = model_x_sea.predict(test_batches)"
   ]
  },
  {
   "cell_type": "code",
   "execution_count": 29,
   "id": "61bafa58",
   "metadata": {
    "execution": {
     "iopub.execute_input": "2023-05-21T20:02:25.217745Z",
     "iopub.status.busy": "2023-05-21T20:02:25.216294Z",
     "iopub.status.idle": "2023-05-21T20:02:25.222358Z",
     "shell.execute_reply": "2023-05-21T20:02:25.221518Z"
    },
    "id": "FDTMtBeTdBfU",
    "papermill": {
     "duration": 0.045023,
     "end_time": "2023-05-21T20:02:25.224363",
     "exception": false,
     "start_time": "2023-05-21T20:02:25.179340",
     "status": "completed"
    },
    "tags": []
   },
   "outputs": [],
   "source": [
    "#geting predictions on test dataset\n",
    "y_pred = np.argmax(predictions, axis=1)\n",
    "#getting the true labels per image \n",
    "y_true = test_batches.classes\n",
    "#getting the predicted labels per image \n",
    "y_prob = predictions"
   ]
  },
  {
   "cell_type": "code",
   "execution_count": 30,
   "id": "47c3d713",
   "metadata": {
    "execution": {
     "iopub.execute_input": "2023-05-21T20:02:25.297133Z",
     "iopub.status.busy": "2023-05-21T20:02:25.296859Z",
     "iopub.status.idle": "2023-05-21T20:02:25.313774Z",
     "shell.execute_reply": "2023-05-21T20:02:25.312893Z"
    },
    "papermill": {
     "duration": 0.05608,
     "end_time": "2023-05-21T20:02:25.316058",
     "exception": false,
     "start_time": "2023-05-21T20:02:25.259978",
     "status": "completed"
    },
    "tags": []
   },
   "outputs": [
    {
     "name": "stdout",
     "output_type": "stream",
     "text": [
      "\n",
      "Classification Report:\n",
      "              precision    recall  f1-score   support\n",
      "\n",
      "          AK       0.79      0.50      0.61        22\n",
      "         BCC       0.78      0.78      0.78        27\n",
      "         BKL       0.79      0.73      0.76        66\n",
      "          DF       0.71      0.83      0.77         6\n",
      "         MEL       0.76      0.54      0.63        35\n",
      "          NV       0.95      0.98      0.97       663\n",
      "        VASC       1.00      1.00      1.00         9\n",
      "\n",
      "    accuracy                           0.93       828\n",
      "   macro avg       0.83      0.77      0.79       828\n",
      "weighted avg       0.92      0.93      0.92       828\n",
      "\n"
     ]
    }
   ],
   "source": [
    "classnames = ['AK', 'BCC', 'BKL', 'DF', 'MEL', 'NV', 'VASC']\n",
    "\n",
    "from tensorflow.keras.utils import to_categorical\n",
    "y_test = to_categorical(y_true)\n",
    "\n",
    "report = classification_report(y_true, y_pred, target_names=classnames)\n",
    "\n",
    "print(\"\\nClassification Report:\")\n",
    "print(report)"
   ]
  },
  {
   "cell_type": "code",
   "execution_count": 31,
   "id": "b75498ce",
   "metadata": {
    "execution": {
     "iopub.execute_input": "2023-05-21T20:02:25.391907Z",
     "iopub.status.busy": "2023-05-21T20:02:25.390531Z",
     "iopub.status.idle": "2023-05-21T20:02:25.944919Z",
     "shell.execute_reply": "2023-05-21T20:02:25.943781Z"
    },
    "papermill": {
     "duration": 0.593232,
     "end_time": "2023-05-21T20:02:25.947144",
     "exception": false,
     "start_time": "2023-05-21T20:02:25.353912",
     "status": "completed"
    },
    "tags": []
   },
   "outputs": [
    {
     "data": {
      "image/png": "[encoded data removed]",
      "text/plain": [
       "<Figure size 1000x400 with 2 Axes>"
      ]
     },
     "metadata": {},
     "output_type": "display_data"
    }
   ],
   "source": [
    "## Confusion Matrix\n",
    "title_font = {'fontname':'Times New Roman', 'size':'14', 'color':'black', 'weight':'normal'}\n",
    "label_font = {'fontname':'Times New Roman', 'size':'12', 'color':'black', 'weight':'normal'}\n",
    "\n",
    "from sklearn.metrics import confusion_matrix\n",
    "import seaborn as sns\n",
    "# Creating confusion matrix \n",
    "cm = confusion_matrix(y_true, y_pred)\n",
    "# Plotting the confusion matrix\n",
    "plt.figure(figsize=(10,4))\n",
    "sns.heatmap(cm, annot=True, fmt='g', cmap='Blues', xticklabels=targetnames, yticklabels=targetnames)\n",
    "plt.xlabel('Predicted Label', fontdict=label_font)\n",
    "plt.ylabel('True Label', fontdict=label_font)\n",
    "plt.title('Confusion Matrix', fontdict=title_font)\n",
    "plt.show()"
   ]
  },
  {
   "cell_type": "markdown",
   "id": "a1e0be7d",
   "metadata": {
    "papermill": {
     "duration": 0.03653,
     "end_time": "2023-05-21T20:02:26.021390",
     "exception": false,
     "start_time": "2023-05-21T20:02:25.984860",
     "status": "completed"
    },
    "tags": []
   },
   "source": [
    "## Results"
   ]
  },
  {
   "cell_type": "markdown",
   "id": "53643443",
   "metadata": {
    "papermill": {
     "duration": 0.038974,
     "end_time": "2023-05-21T20:02:26.096694",
     "exception": false,
     "start_time": "2023-05-21T20:02:26.057720",
     "status": "completed"
    },
    "tags": []
   },
   "source": [
    "### Individual Class Accuracy "
   ]
  },
  {
   "cell_type": "code",
   "execution_count": 32,
   "id": "932f0e3f",
   "metadata": {
    "execution": {
     "iopub.execute_input": "2023-05-21T20:02:26.223136Z",
     "iopub.status.busy": "2023-05-21T20:02:26.221954Z",
     "iopub.status.idle": "2023-05-21T20:02:26.234594Z",
     "shell.execute_reply": "2023-05-21T20:02:26.233370Z"
    },
    "papermill": {
     "duration": 0.079275,
     "end_time": "2023-05-21T20:02:26.237299",
     "exception": false,
     "start_time": "2023-05-21T20:02:26.158024",
     "status": "completed"
    },
    "tags": []
   },
   "outputs": [
    {
     "name": "stdout",
     "output_type": "stream",
     "text": [
      "Overall accuracy: 92.51%\n",
      "Accuracy for each class:\n",
      "Class 0: 50.00%\n",
      "Class 1: 77.78%\n",
      "Class 2: 72.73%\n",
      "Class 3: 83.33%\n",
      "Class 4: 54.29%\n",
      "Class 5: 98.49%\n",
      "Class 6: 100.00%\n"
     ]
    }
   ],
   "source": [
    "# y_true are the true labels of the test set\n",
    "# y_pred are the predicted labels of the test set\n",
    "accuracy = accuracy_score(y_true, y_pred)\n",
    "# Calculate accuracy for each class\n",
    "class_accuracy = cm.diagonal()/cm.sum(axis=1)\n",
    "print(\"Overall accuracy: {:.2f}%\".format(accuracy*100))\n",
    "print(\"Accuracy for each class:\")\n",
    "for i, acc in enumerate(class_accuracy):\n",
    "    print(\"Class {}: {:.2f}%\".format(i, acc*100))"
   ]
  },
  {
   "cell_type": "markdown",
   "id": "a53c0015",
   "metadata": {
    "papermill": {
     "duration": 0.036709,
     "end_time": "2023-05-21T20:02:26.333225",
     "exception": false,
     "start_time": "2023-05-21T20:02:26.296516",
     "status": "completed"
    },
    "tags": []
   },
   "source": [
    "### Individual Class Weighted Precision"
   ]
  },
  {
   "cell_type": "code",
   "execution_count": 33,
   "id": "7d142b71",
   "metadata": {
    "execution": {
     "iopub.execute_input": "2023-05-21T20:02:26.407731Z",
     "iopub.status.busy": "2023-05-21T20:02:26.407408Z",
     "iopub.status.idle": "2023-05-21T20:02:26.422667Z",
     "shell.execute_reply": "2023-05-21T20:02:26.421623Z"
    },
    "papermill": {
     "duration": 0.055058,
     "end_time": "2023-05-21T20:02:26.424864",
     "exception": false,
     "start_time": "2023-05-21T20:02:26.369806",
     "status": "completed"
    },
    "tags": []
   },
   "outputs": [
    {
     "name": "stdout",
     "output_type": "stream",
     "text": [
      "Weighted precision for each class:\n",
      "Class 0: 78.57%\n",
      "Class 1: 77.78%\n",
      "Class 2: 78.69%\n",
      "Class 3: 71.43%\n",
      "Class 4: 76.00%\n",
      "Class 5: 95.33%\n",
      "Class 6: 100.00%\n",
      "Weighted precision: 92.05%\n"
     ]
    }
   ],
   "source": [
    "report = classification_report(y_true, y_pred, output_dict=True)\n",
    "# Extract weighted precision for each class\n",
    "class_precision = {}\n",
    "for class_label in report.keys():\n",
    "    if class_label == 'weighted avg':\n",
    "        class_precision['weighted'] = report[class_label]['precision']\n",
    "    elif class_label.isdigit():\n",
    "        class_precision[int(class_label)] = report[class_label]['precision']\n",
    "print(\"Weighted precision for each class:\")\n",
    "for i, precision in class_precision.items():\n",
    "    if i == 'weighted':\n",
    "        print(\"Weighted precision: {:.2f}%\".format(precision*100))\n",
    "    else:\n",
    "        print(\"Class {}: {:.2f}%\".format(i, precision*100))"
   ]
  },
  {
   "cell_type": "markdown",
   "id": "cb252c77",
   "metadata": {
    "papermill": {
     "duration": 0.03663,
     "end_time": "2023-05-21T20:02:26.497970",
     "exception": false,
     "start_time": "2023-05-21T20:02:26.461340",
     "status": "completed"
    },
    "tags": []
   },
   "source": [
    "### Individual Class Weighted Recall"
   ]
  },
  {
   "cell_type": "code",
   "execution_count": 34,
   "id": "0e486616",
   "metadata": {
    "execution": {
     "iopub.execute_input": "2023-05-21T20:02:26.571719Z",
     "iopub.status.busy": "2023-05-21T20:02:26.571446Z",
     "iopub.status.idle": "2023-05-21T20:02:26.586819Z",
     "shell.execute_reply": "2023-05-21T20:02:26.585640Z"
    },
    "papermill": {
     "duration": 0.054797,
     "end_time": "2023-05-21T20:02:26.588990",
     "exception": false,
     "start_time": "2023-05-21T20:02:26.534193",
     "status": "completed"
    },
    "tags": []
   },
   "outputs": [
    {
     "name": "stdout",
     "output_type": "stream",
     "text": [
      "Weighted recall for each class:\n",
      "Class 0: 50.00%\n",
      "Class 1: 77.78%\n",
      "Class 2: 72.73%\n",
      "Class 3: 83.33%\n",
      "Class 4: 54.29%\n",
      "Class 5: 98.49%\n",
      "Class 6: 100.00%\n",
      "Weighted Recall: 92.51%\n"
     ]
    }
   ],
   "source": [
    "report = classification_report(y_true, y_pred, output_dict=True)\n",
    "# Extract weighted recall for each class\n",
    "class_recall = {}\n",
    "for class_label in report.keys():\n",
    "    if class_label == 'weighted avg':\n",
    "        class_recall['weighted'] = report[class_label]['recall']\n",
    "    elif class_label.isdigit():\n",
    "        class_recall[int(class_label)] = report[class_label]['recall']\n",
    "print(\"Weighted recall for each class:\")\n",
    "for i, recall in class_recall.items():\n",
    "    if i == 'weighted':\n",
    "        print(\"Weighted Recall: {:.2f}%\".format(recall*100))\n",
    "    else:\n",
    "        print(\"Class {}: {:.2f}%\".format(i, recall*100))"
   ]
  },
  {
   "cell_type": "markdown",
   "id": "aae0c994",
   "metadata": {
    "papermill": {
     "duration": 0.036155,
     "end_time": "2023-05-21T20:02:26.663051",
     "exception": false,
     "start_time": "2023-05-21T20:02:26.626896",
     "status": "completed"
    },
    "tags": []
   },
   "source": [
    "### Individual Class Weighted F1-score"
   ]
  },
  {
   "cell_type": "code",
   "execution_count": 35,
   "id": "86414060",
   "metadata": {
    "execution": {
     "iopub.execute_input": "2023-05-21T20:02:26.737076Z",
     "iopub.status.busy": "2023-05-21T20:02:26.736792Z",
     "iopub.status.idle": "2023-05-21T20:02:26.751899Z",
     "shell.execute_reply": "2023-05-21T20:02:26.750756Z"
    },
    "papermill": {
     "duration": 0.054399,
     "end_time": "2023-05-21T20:02:26.753837",
     "exception": false,
     "start_time": "2023-05-21T20:02:26.699438",
     "status": "completed"
    },
    "tags": []
   },
   "outputs": [
    {
     "name": "stdout",
     "output_type": "stream",
     "text": [
      "Weighted F1-score for each class:\n",
      "Class 0: 61.11%\n",
      "Class 1: 77.78%\n",
      "Class 2: 75.59%\n",
      "Class 3: 76.92%\n",
      "Class 4: 63.33%\n",
      "Class 5: 96.88%\n",
      "Class 6: 100.00%\n",
      "Weighted F1-score: 92.08%\n"
     ]
    }
   ],
   "source": [
    "report = classification_report(y_true, y_pred, output_dict=True)\n",
    "# Extract weighted F1-score for each class\n",
    "class_f1 = {}\n",
    "for class_label in report.keys():\n",
    "    if class_label == 'weighted avg':\n",
    "        class_f1['weighted'] = report[class_label]['f1-score']\n",
    "    elif class_label.isdigit():\n",
    "        class_f1[int(class_label)] = report[class_label]['f1-score']\n",
    "print(\"Weighted F1-score for each class:\")\n",
    "for i, f1_score in class_f1.items():\n",
    "    if i == 'weighted':\n",
    "        print(\"Weighted F1-score: {:.2f}%\".format(f1_score*100))\n",
    "    else:\n",
    "        print(\"Class {}: {:.2f}%\".format(i, f1_score*100))"
   ]
  },
  {
   "cell_type": "markdown",
   "id": "e7404fa2",
   "metadata": {
    "papermill": {
     "duration": 0.037425,
     "end_time": "2023-05-21T20:02:26.828236",
     "exception": false,
     "start_time": "2023-05-21T20:02:26.790811",
     "status": "completed"
    },
    "tags": []
   },
   "source": [
    "### Individual Class Precision, Recall and F1-score"
   ]
  },
  {
   "cell_type": "code",
   "execution_count": 36,
   "id": "60c539c2",
   "metadata": {
    "execution": {
     "iopub.execute_input": "2023-05-21T20:02:26.903486Z",
     "iopub.status.busy": "2023-05-21T20:02:26.903185Z",
     "iopub.status.idle": "2023-05-21T20:02:26.912409Z",
     "shell.execute_reply": "2023-05-21T20:02:26.911278Z"
    },
    "papermill": {
     "duration": 0.049192,
     "end_time": "2023-05-21T20:02:26.914466",
     "exception": false,
     "start_time": "2023-05-21T20:02:26.865274",
     "status": "completed"
    },
    "tags": []
   },
   "outputs": [
    {
     "name": "stdout",
     "output_type": "stream",
     "text": [
      "Class-wise weighted precision, recall, and F1-score:\n",
      "Class 0: Precision=0.79, Recall=0.50, F1-score=0.61\n",
      "Class 1: Precision=0.78, Recall=0.78, F1-score=0.78\n",
      "Class 2: Precision=0.79, Recall=0.73, F1-score=0.76\n",
      "Class 3: Precision=0.71, Recall=0.83, F1-score=0.77\n",
      "Class 4: Precision=0.76, Recall=0.54, F1-score=0.63\n",
      "Class 5: Precision=0.95, Recall=0.98, F1-score=0.97\n",
      "Class 6: Precision=1.00, Recall=1.00, F1-score=1.00\n"
     ]
    }
   ],
   "source": [
    "from sklearn.metrics import precision_recall_fscore_support\n",
    "\n",
    "precision_class, recall_class, f1_class, support_class = precision_recall_fscore_support(y_true, y_pred, average=None)\n",
    "print('Class-wise weighted precision, recall, and F1-score:')\n",
    "for i in range(len(precision_class)):\n",
    "    print('Class {}: Precision={:.2f}, Recall={:.2f}, F1-score={:.2f}'.format(i, precision_class[i], recall_class[i], f1_class[i]))\n"
   ]
  },
  {
   "cell_type": "markdown",
   "id": "3c5409d8",
   "metadata": {
    "papermill": {
     "duration": 0.036757,
     "end_time": "2023-05-21T20:02:26.995888",
     "exception": false,
     "start_time": "2023-05-21T20:02:26.959131",
     "status": "completed"
    },
    "tags": []
   },
   "source": [
    "### Individual Class Weighted Sensitivity"
   ]
  },
  {
   "cell_type": "code",
   "execution_count": 37,
   "id": "38829e3a",
   "metadata": {
    "execution": {
     "iopub.execute_input": "2023-05-21T20:02:27.070590Z",
     "iopub.status.busy": "2023-05-21T20:02:27.070310Z",
     "iopub.status.idle": "2023-05-21T20:02:27.531519Z",
     "shell.execute_reply": "2023-05-21T20:02:27.530590Z"
    },
    "papermill": {
     "duration": 0.501014,
     "end_time": "2023-05-21T20:02:27.533537",
     "exception": false,
     "start_time": "2023-05-21T20:02:27.032523",
     "status": "completed"
    },
    "tags": []
   },
   "outputs": [
    {
     "name": "stdout",
     "output_type": "stream",
     "text": [
      "Weighted Sensitivity:  0.9251207729468599\n",
      "Class  0 :sensitivity = 0.5\n",
      "Class  1 :sensitivity = 0.7777777777777778\n",
      "Class  2 :sensitivity = 0.7272727272727273\n",
      "Class  3 :sensitivity = 0.8333333333333334\n",
      "Class  4 :sensitivity = 0.5428571428571428\n",
      "Class  5 :sensitivity = 0.9849170437405732\n",
      "Class  6 :sensitivity = 1.0\n"
     ]
    }
   ],
   "source": [
    "from imblearn.metrics import sensitivity_score\n",
    "\n",
    "sensitivity = sensitivity_score(y_true, y_pred, average='weighted')\n",
    "print(\"Weighted Sensitivity: \", sensitivity)\n",
    "\n",
    "# Calculate class-wise sensitivity\n",
    "sensitivity = sensitivity_score(y_true, y_pred, average=None)\n",
    "\n",
    "# Print sensitivity score for each class\n",
    "for i in range(len(sensitivity)):\n",
    "    print(\"Class \", i, \":sensitivity =\", sensitivity[i])"
   ]
  },
  {
   "cell_type": "markdown",
   "id": "eca3df85",
   "metadata": {
    "papermill": {
     "duration": 0.03674,
     "end_time": "2023-05-21T20:02:27.608327",
     "exception": false,
     "start_time": "2023-05-21T20:02:27.571587",
     "status": "completed"
    },
    "tags": []
   },
   "source": [
    "### Individual Class Weighted Specificity"
   ]
  },
  {
   "cell_type": "code",
   "execution_count": 38,
   "id": "87705997",
   "metadata": {
    "execution": {
     "iopub.execute_input": "2023-05-21T20:02:27.683852Z",
     "iopub.status.busy": "2023-05-21T20:02:27.682886Z",
     "iopub.status.idle": "2023-05-21T20:02:27.693898Z",
     "shell.execute_reply": "2023-05-21T20:02:27.692786Z"
    },
    "papermill": {
     "duration": 0.051254,
     "end_time": "2023-05-21T20:02:27.696208",
     "exception": false,
     "start_time": "2023-05-21T20:02:27.644954",
     "status": "completed"
    },
    "tags": []
   },
   "outputs": [
    {
     "name": "stdout",
     "output_type": "stream",
     "text": [
      "Weighted Specificity:  0.8426674502764657\n",
      "Class  0 :specificity= 0.9962779156327544\n",
      "Class  1 :specificity= 0.9925093632958801\n",
      "Class  2 :specificity= 0.9829396325459318\n",
      "Class  3 :specificity= 0.9975669099756691\n",
      "Class  4 :specificity= 0.9924337957124842\n",
      "Class  5 :specificity= 0.806060606060606\n",
      "Class  6 :specificity= 1.0\n"
     ]
    }
   ],
   "source": [
    "from imblearn.metrics import specificity_score\n",
    "\n",
    "specificity = specificity_score(y_true, y_pred, average='weighted')\n",
    "print(\"Weighted Specificity: \", specificity)\n",
    "\n",
    "# Calculate class-wise specificity\n",
    "specificity = specificity_score(y_true, y_pred, average=None)\n",
    "\n",
    "# Print sensitivity score for each class\n",
    "for i in range(len(specificity)):\n",
    "    print(\"Class \", i, \":specificity=\", specificity[i])"
   ]
  },
  {
   "cell_type": "markdown",
   "id": "1cea2446",
   "metadata": {
    "papermill": {
     "duration": 0.036833,
     "end_time": "2023-05-21T20:02:27.770508",
     "exception": false,
     "start_time": "2023-05-21T20:02:27.733675",
     "status": "completed"
    },
    "tags": []
   },
   "source": [
    "### Accuracy"
   ]
  },
  {
   "cell_type": "code",
   "execution_count": 39,
   "id": "c5b7de11",
   "metadata": {
    "execution": {
     "iopub.execute_input": "2023-05-21T20:02:27.845600Z",
     "iopub.status.busy": "2023-05-21T20:02:27.845236Z",
     "iopub.status.idle": "2023-05-21T20:02:27.852003Z",
     "shell.execute_reply": "2023-05-21T20:02:27.850793Z"
    },
    "papermill": {
     "duration": 0.046888,
     "end_time": "2023-05-21T20:02:27.854101",
     "exception": false,
     "start_time": "2023-05-21T20:02:27.807213",
     "status": "completed"
    },
    "tags": []
   },
   "outputs": [
    {
     "name": "stdout",
     "output_type": "stream",
     "text": [
      "Accuracy: 0.9251207729468599\n"
     ]
    }
   ],
   "source": [
    "print(\"Accuracy: \" + str(accuracy_score(y_true, y_pred)))\n",
    "import numpy as np\n",
    "from sklearn.metrics import accuracy_score"
   ]
  },
  {
   "cell_type": "code",
   "execution_count": 40,
   "id": "08486dda",
   "metadata": {
    "execution": {
     "iopub.execute_input": "2023-05-21T20:02:27.931274Z",
     "iopub.status.busy": "2023-05-21T20:02:27.930549Z",
     "iopub.status.idle": "2023-05-21T20:02:27.950340Z",
     "shell.execute_reply": "2023-05-21T20:02:27.949219Z"
    },
    "papermill": {
     "duration": 0.060708,
     "end_time": "2023-05-21T20:02:27.952427",
     "exception": false,
     "start_time": "2023-05-21T20:02:27.891719",
     "status": "completed"
    },
    "tags": []
   },
   "outputs": [
    {
     "name": "stdout",
     "output_type": "stream",
     "text": [
      "Top-1 Accuracy: 0.9251207729468599\n",
      "Top-2 Accuracy: 0.966183574879227\n",
      "Top-3 Accuracy: 0.9770531400966184\n"
     ]
    }
   ],
   "source": [
    "# Calculate top-1 accuracy\n",
    "top1_acc = accuracy_score(y_true, y_pred)\n",
    "print(\"Top-1 Accuracy:\", top1_acc)\n",
    "\n",
    "# Calculate top-2 accuracy\n",
    "y_pred_top2 = np.argsort(-predictions, axis=1)[:, :2] # Get the top 2 predicted classes\n",
    "top2_acc = np.mean(np.array([y_true[i] in y_pred_top2[i] for i in range(len(y_true))]))\n",
    "print(\"Top-2 Accuracy:\", top2_acc)\n",
    "\n",
    "# Calculate top-3 accuracy\n",
    "y_pred_top3 = np.argsort(-predictions, axis=1)[:, :3] # Get the top 3 predicted classes\n",
    "top3_acc = np.mean(np.array([y_true[i] in y_pred_top3[i] for i in range(len(y_true))]))\n",
    "print(\"Top-3 Accuracy:\", top3_acc)\n",
    "from sklearn.metrics import f1_score"
   ]
  },
  {
   "cell_type": "markdown",
   "id": "4d1c1d73",
   "metadata": {
    "papermill": {
     "duration": 0.036885,
     "end_time": "2023-05-21T20:02:28.026273",
     "exception": false,
     "start_time": "2023-05-21T20:02:27.989388",
     "status": "completed"
    },
    "tags": []
   },
   "source": [
    "### Weighted Evaluation Measures"
   ]
  },
  {
   "cell_type": "code",
   "execution_count": 41,
   "id": "f73d6fae",
   "metadata": {
    "execution": {
     "iopub.execute_input": "2023-05-21T20:02:28.101333Z",
     "iopub.status.busy": "2023-05-21T20:02:28.101057Z",
     "iopub.status.idle": "2023-05-21T20:02:28.128149Z",
     "shell.execute_reply": "2023-05-21T20:02:28.127288Z"
    },
    "papermill": {
     "duration": 0.066871,
     "end_time": "2023-05-21T20:02:28.130058",
     "exception": false,
     "start_time": "2023-05-21T20:02:28.063187",
     "status": "completed"
    },
    "tags": []
   },
   "outputs": [
    {
     "name": "stdout",
     "output_type": "stream",
     "text": [
      "Weighted Precision: 0.9204511981005001\n",
      "Weighted Recall: 0.9251207729468599\n",
      "Weighted F1-Score: 0.9208441901888282\n",
      "Weighted Sensitivity: 0.9251207729468599\n",
      "Weighted Specificity: 0.8426674502764657\n",
      "weighted Roc score: 0.9742656568211373\n"
     ]
    }
   ],
   "source": [
    "print(\"Weighted Precision: \"+ str(precision_score(y_true, y_pred, average='weighted')))\n",
    "print(\"Weighted Recall: \"+ str(recall_score(y_true, y_pred, average='weighted')))\n",
    "print(\"Weighted F1-Score: \"+ str(f1_score(y_true, y_pred, average='weighted')))\n",
    "print(\"Weighted Sensitivity: \"+ str(sensitivity_score(y_true, y_pred, average='weighted')))\n",
    "print(\"Weighted Specificity: \"+ str(specificity_score(y_true, y_pred, average='weighted')))\n",
    "print(\"weighted Roc score: \" + str(roc_auc_score(y_true,y_prob,multi_class='ovr',average='weighted')))"
   ]
  },
  {
   "cell_type": "markdown",
   "id": "95fde705",
   "metadata": {
    "papermill": {
     "duration": 0.036581,
     "end_time": "2023-05-21T20:02:28.204121",
     "exception": false,
     "start_time": "2023-05-21T20:02:28.167540",
     "status": "completed"
    },
    "tags": []
   },
   "source": [
    "### Macro Evaluation Measures"
   ]
  },
  {
   "cell_type": "code",
   "execution_count": 42,
   "id": "49f368b6",
   "metadata": {
    "execution": {
     "iopub.execute_input": "2023-05-21T20:02:28.279867Z",
     "iopub.status.busy": "2023-05-21T20:02:28.279030Z",
     "iopub.status.idle": "2023-05-21T20:02:28.301333Z",
     "shell.execute_reply": "2023-05-21T20:02:28.300268Z"
    },
    "papermill": {
     "duration": 0.062668,
     "end_time": "2023-05-21T20:02:28.303596",
     "exception": false,
     "start_time": "2023-05-21T20:02:28.240928",
     "status": "completed"
    },
    "tags": []
   },
   "outputs": [
    {
     "name": "stdout",
     "output_type": "stream",
     "text": [
      "Macro Precision: 0.8254210993160377\n",
      "Macro Recall: 0.7665940035687936\n",
      "Macro F1-Score: 0.7880287476049059\n",
      "Macro Sensitivity: 0.7665940035687936\n",
      "Macro Specificity: 0.9668268890319036\n",
      "Macro Roc score: 0.9720768338856974\n"
     ]
    }
   ],
   "source": [
    "print(\"Macro Precision: \"+ str(precision_score(y_true, y_pred, average='macro')))\n",
    "print(\"Macro Recall: \"+ str(recall_score(y_true, y_pred, average='macro')))\n",
    "print(\"Macro F1-Score: \"+ str(f1_score(y_true, y_pred, average='macro')))\n",
    "print(\"Macro Sensitivity: \"+ str(sensitivity_score(y_true, y_pred, average='macro')))\n",
    "print(\"Macro Specificity: \"+ str(specificity_score(y_true, y_pred, average='macro')))\n",
    "print(\"Macro Roc score: \" + str(roc_auc_score(y_true,y_prob,multi_class='ovr',average='macro')))"
   ]
  },
  {
   "cell_type": "markdown",
   "id": "77fc2e38",
   "metadata": {
    "papermill": {
     "duration": 0.036898,
     "end_time": "2023-05-21T20:02:28.377563",
     "exception": false,
     "start_time": "2023-05-21T20:02:28.340665",
     "status": "completed"
    },
    "tags": []
   },
   "source": [
    "### Micro Evaluation Measures"
   ]
  },
  {
   "cell_type": "code",
   "execution_count": 43,
   "id": "5d0a1a1d",
   "metadata": {
    "execution": {
     "iopub.execute_input": "2023-05-21T20:02:28.452728Z",
     "iopub.status.busy": "2023-05-21T20:02:28.452462Z",
     "iopub.status.idle": "2023-05-21T20:02:28.467875Z",
     "shell.execute_reply": "2023-05-21T20:02:28.466820Z"
    },
    "papermill": {
     "duration": 0.055508,
     "end_time": "2023-05-21T20:02:28.470021",
     "exception": false,
     "start_time": "2023-05-21T20:02:28.414513",
     "status": "completed"
    },
    "tags": []
   },
   "outputs": [
    {
     "name": "stdout",
     "output_type": "stream",
     "text": [
      "Micro Precision: 0.9251207729468599\n",
      "Micro Recall: 0.9251207729468599\n",
      "Micro F1-Score: 0.9251207729468599\n",
      "Micro Sensitivity: 0.9251207729468599\n",
      "Micro Specificity: 0.9875201288244766\n"
     ]
    }
   ],
   "source": [
    "print(\"Micro Precision: \"+ str(precision_score(y_true, y_pred, average='micro')))\n",
    "print(\"Micro Recall: \"+ str(recall_score(y_true, y_pred, average='micro')))\n",
    "print(\"Micro F1-Score: \"+ str(f1_score(y_true, y_pred, average='micro')))\n",
    "print(\"Micro Sensitivity: \"+ str(sensitivity_score(y_true, y_pred, average='micro')))\n",
    "print(\"Micro Specificity: \"+ str(specificity_score(y_true, y_pred, average='micro')))"
   ]
  },
  {
   "cell_type": "markdown",
   "id": "59b95a45",
   "metadata": {
    "papermill": {
     "duration": 0.037287,
     "end_time": "2023-05-21T20:02:28.546470",
     "exception": false,
     "start_time": "2023-05-21T20:02:28.509183",
     "status": "completed"
    },
    "tags": []
   },
   "source": [
    "## ROC"
   ]
  },
  {
   "cell_type": "markdown",
   "id": "857de3f2",
   "metadata": {
    "papermill": {
     "duration": 0.037033,
     "end_time": "2023-05-21T20:02:28.620684",
     "exception": false,
     "start_time": "2023-05-21T20:02:28.583651",
     "status": "completed"
    },
    "tags": []
   },
   "source": [
    "### Compute ROC curve and ROC area for each class"
   ]
  },
  {
   "cell_type": "code",
   "execution_count": 44,
   "id": "144263d9",
   "metadata": {
    "execution": {
     "iopub.execute_input": "2023-05-21T20:02:28.696913Z",
     "iopub.status.busy": "2023-05-21T20:02:28.695984Z",
     "iopub.status.idle": "2023-05-21T20:02:28.983581Z",
     "shell.execute_reply": "2023-05-21T20:02:28.982657Z"
    },
    "papermill": {
     "duration": 0.328197,
     "end_time": "2023-05-21T20:02:28.986014",
     "exception": false,
     "start_time": "2023-05-21T20:02:28.657817",
     "status": "completed"
    },
    "tags": []
   },
   "outputs": [
    {
     "data": {
      "image/png": "[encoded data removed]",
      "text/plain": [
       "<Figure size 640x480 with 1 Axes>"
      ]
     },
     "metadata": {},
     "output_type": "display_data"
    }
   ],
   "source": [
    "fpr = {}\n",
    "tpr = {}\n",
    "roc_auc = dict()\n",
    "for i in range(num_classes):\n",
    "    fpr[i], tpr[i], _ = roc_curve(y_test[:, i], y_prob[:, i], drop_intermediate=False)\n",
    "    roc_auc[i] = auc(fpr[i], tpr[i])\n",
    "\n",
    "\n",
    "# plot the ROC curve for each class\n",
    "for i in range(7):\n",
    "    plt.plot(fpr[i], tpr[i], label='Class {}: AUC={:.3f}'.format(i, roc_auc[i]))\n",
    "\n",
    "plt.xlabel('False Positive Rate')\n",
    "plt.ylabel('True Positive Rate')\n",
    "plt.legend()\n",
    "plt.show()"
   ]
  },
  {
   "cell_type": "markdown",
   "id": "0f2580d7",
   "metadata": {
    "papermill": {
     "duration": 0.03951,
     "end_time": "2023-05-21T20:02:29.066179",
     "exception": false,
     "start_time": "2023-05-21T20:02:29.026669",
     "status": "completed"
    },
    "tags": []
   },
   "source": [
    "## MCC and Kappa Score"
   ]
  },
  {
   "cell_type": "code",
   "execution_count": 45,
   "id": "00562039",
   "metadata": {
    "execution": {
     "iopub.execute_input": "2023-05-21T20:02:29.142957Z",
     "iopub.status.busy": "2023-05-21T20:02:29.142620Z",
     "iopub.status.idle": "2023-05-21T20:02:29.152578Z",
     "shell.execute_reply": "2023-05-21T20:02:29.151714Z"
    },
    "papermill": {
     "duration": 0.05081,
     "end_time": "2023-05-21T20:02:29.154588",
     "exception": false,
     "start_time": "2023-05-21T20:02:29.103778",
     "status": "completed"
    },
    "tags": []
   },
   "outputs": [
    {
     "name": "stdout",
     "output_type": "stream",
     "text": [
      "MCC: 77.49%\n",
      "Kappa Score: 77.22%\n"
     ]
    }
   ],
   "source": [
    "from sklearn.metrics import matthews_corrcoef, cohen_kappa_score\n",
    "\n",
    "# y_true are the true labels of the test set\n",
    "# y_pred are the predicted labels of the test set\n",
    "mcc = matthews_corrcoef(y_true, y_pred)\n",
    "kappa = cohen_kappa_score(y_true, y_pred)\n",
    "print(\"MCC: {:.2f}%\".format(mcc*100))\n",
    "print(\"Kappa Score: {:.2f}%\".format(kappa*100))"
   ]
  },
  {
   "cell_type": "code",
   "execution_count": 46,
   "id": "53cc2077",
   "metadata": {
    "execution": {
     "iopub.execute_input": "2023-05-21T20:02:29.231727Z",
     "iopub.status.busy": "2023-05-21T20:02:29.231462Z",
     "iopub.status.idle": "2023-05-21T20:02:29.297806Z",
     "shell.execute_reply": "2023-05-21T20:02:29.296848Z"
    },
    "papermill": {
     "duration": 0.107038,
     "end_time": "2023-05-21T20:02:29.299701",
     "exception": false,
     "start_time": "2023-05-21T20:02:29.192663",
     "status": "completed"
    },
    "tags": []
   },
   "outputs": [
    {
     "name": "stdout",
     "output_type": "stream",
     "text": [
      "MCC per class:\n",
      "Class 0: 61.91%\n",
      "Class 1: 77.03%\n",
      "Class 2: 73.63%\n",
      "Class 3: 76.97%\n",
      "Class 4: 62.94%\n",
      "Class 5: 83.59%\n",
      "Class 6: 100.00%\n",
      "Kappa Score per class:\n",
      "Class 0: 60.29%\n",
      "Class 1: 77.03%\n",
      "Class 2: 73.57%\n",
      "Class 3: 76.74%\n",
      "Class 4: 61.99%\n",
      "Class 5: 83.27%\n",
      "Class 6: 100.00%\n"
     ]
    }
   ],
   "source": [
    "### Individual Class Wise MCC and Kappa\n",
    "\n",
    "from sklearn.metrics import confusion_matrix, matthews_corrcoef, cohen_kappa_score\n",
    "# y_true are the true labels of the test set\n",
    "# y_pred are the predicted labels of the test set\n",
    "conf_mat = confusion_matrix(y_true, y_pred)\n",
    "mcc_per_class = {}\n",
    "kappa_per_class = {}\n",
    "\n",
    "for i in range(len(conf_mat)):\n",
    "    tp = conf_mat[i][i]\n",
    "    fp = sum(conf_mat[:, i]) - tp\n",
    "    fn = sum(conf_mat[i, :]) - tp\n",
    "    tn = sum(sum(conf_mat)) - tp - fp - fn\n",
    "\n",
    "    mcc_per_class[i] = matthews_corrcoef([1 if x==i else 0 for x in y_true], [1 if x==i else 0 for x in y_pred])\n",
    "    kappa_per_class[i] = cohen_kappa_score([1 if x==i else 0 for x in y_true], [1 if x==i else 0 for x in y_pred])\n",
    "\n",
    "print(\"MCC per class:\")\n",
    "for i, mcc in mcc_per_class.items():\n",
    "    print(\"Class {}: {:.2f}%\".format(i, mcc*100))\n",
    "\n",
    "print(\"Kappa Score per class:\")\n",
    "for i, kappa in kappa_per_class.items():\n",
    "    print(\"Class {}: {:.2f}%\".format(i, kappa*100))"
   ]
  },
  {
   "cell_type": "code",
   "execution_count": null,
   "id": "2c63ce08",
   "metadata": {
    "papermill": {
     "duration": 0.037663,
     "end_time": "2023-05-21T20:02:29.375760",
     "exception": false,
     "start_time": "2023-05-21T20:02:29.338097",
     "status": "completed"
    },
    "tags": []
   },
   "outputs": [],
   "source": []
  }
 ],
 "metadata": {
  "kernelspec": {
   "display_name": "Python 3 (ipykernel)",
   "language": "python",
   "name": "python3"
  },
  "language_info": {
   "codemirror_mode": {
    "name": "ipython",
    "version": 3
   },
   "file_extension": ".py",
   "mimetype": "text/x-python",
   "name": "python",
   "nbconvert_exporter": "python",
   "pygments_lexer": "ipython3",
   "version": "3.9.16"
  },
  "papermill": {
   "default_parameters": {},
   "duration": 29726.316582,
   "end_time": "2023-05-21T20:02:32.505303",
   "environment_variables": {},
   "exception": null,
   "input_path": "__notebook__.ipynb",
   "output_path": "__notebook__.ipynb",
   "parameters": {},
   "start_time": "2023-05-21T11:47:06.188721",
   "version": "2.4.0"
  }
 },
 "nbformat": 4,
 "nbformat_minor": 5
}
