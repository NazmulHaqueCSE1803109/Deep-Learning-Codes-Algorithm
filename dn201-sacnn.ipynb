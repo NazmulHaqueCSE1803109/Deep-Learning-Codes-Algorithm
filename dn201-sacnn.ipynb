{
 "cells": [
  {
   "cell_type": "markdown",
   "id": "ec821931",
   "metadata": {
    "papermill": {
     "duration": 0.014748,
     "end_time": "2023-05-22T15:57:04.104942",
     "exception": false,
     "start_time": "2023-05-22T15:57:04.090194",
     "status": "completed"
    },
    "tags": []
   },
   "source": [
    "# Libraries"
   ]
  },
  {
   "cell_type": "code",
   "execution_count": 1,
   "id": "288f1113",
   "metadata": {
    "execution": {
     "iopub.execute_input": "2023-05-22T15:57:04.135413Z",
     "iopub.status.busy": "2023-05-22T15:57:04.134988Z",
     "iopub.status.idle": "2023-05-22T15:57:11.859902Z",
     "shell.execute_reply": "2023-05-22T15:57:11.858816Z"
    },
    "id": "Aa36bMKLze3z",
    "papermill": {
     "duration": 7.743446,
     "end_time": "2023-05-22T15:57:11.862594",
     "exception": false,
     "start_time": "2023-05-22T15:57:04.119148",
     "status": "completed"
    },
    "tags": []
   },
   "outputs": [
    {
     "name": "stderr",
     "output_type": "stream",
     "text": [
      "/opt/conda/lib/python3.10/site-packages/scipy/__init__.py:146: UserWarning: A NumPy version >=1.16.5 and <1.23.0 is required for this version of SciPy (detected version 1.23.5\n",
      "  warnings.warn(f\"A NumPy version >={np_minversion} and <{np_maxversion}\"\n"
     ]
    }
   ],
   "source": [
    "import pandas as pd\n",
    "import numpy as np\n",
    "import os\n",
    "import tensorflow as tf\n",
    "import cv2\n",
    "from keras import backend as K\n",
    "from keras.layers import Layer, InputSpec\n",
    "import keras.layers as kl\n",
    "from glob import glob\n",
    "from sklearn.metrics import roc_curve, auc\n",
    "from keras.preprocessing import image\n",
    "from tensorflow.keras.models import Sequential\n",
    "from sklearn.metrics import roc_auc_score\n",
    "from tensorflow.keras import callbacks \n",
    "from tensorflow.keras.callbacks import ModelCheckpoint, EarlyStopping\n",
    "from  matplotlib import pyplot as plt\n",
    "from tensorflow.keras import Model\n",
    "from tensorflow.keras.layers import concatenate, Dense, Conv2D, MaxPooling2D, Flatten, Input, Activation, add, AveragePooling2D, BatchNormalization, Dropout, GlobalAveragePooling2D, GlobalMaxPooling2D\n",
    "%matplotlib inline\n",
    "import shutil\n",
    "from sklearn.metrics import  precision_score, recall_score, accuracy_score, classification_report, confusion_matrix\n",
    "from tensorflow.python.platform import build_info as tf_build_info\n",
    "from tensorflow.keras.preprocessing.image import ImageDataGenerator\n",
    "from sklearn.model_selection import train_test_split\n",
    "\n",
    "from PIL import ImageFile\n",
    "ImageFile.LOAD_TRUNCATED_IMAGES = True"
   ]
  },
  {
   "cell_type": "code",
   "execution_count": 2,
   "id": "8b87eb4a",
   "metadata": {
    "execution": {
     "iopub.execute_input": "2023-05-22T15:57:11.896999Z",
     "iopub.status.busy": "2023-05-22T15:57:11.896345Z",
     "iopub.status.idle": "2023-05-22T15:57:11.901322Z",
     "shell.execute_reply": "2023-05-22T15:57:11.900323Z"
    },
    "id": "PsoqCvNsgmHP",
    "papermill": {
     "duration": 0.022534,
     "end_time": "2023-05-22T15:57:11.903425",
     "exception": false,
     "start_time": "2023-05-22T15:57:11.880891",
     "status": "completed"
    },
    "tags": []
   },
   "outputs": [],
   "source": [
    "targetnames = ['akiec', 'bcc', 'bkl', 'df', 'mel', 'nv', 'vasc']\n",
    "batch_size = 16\n",
    "image_size = 224"
   ]
  },
  {
   "cell_type": "code",
   "execution_count": 3,
   "id": "73369088",
   "metadata": {
    "execution": {
     "iopub.execute_input": "2023-05-22T15:57:11.934763Z",
     "iopub.status.busy": "2023-05-22T15:57:11.933974Z",
     "iopub.status.idle": "2023-05-22T15:57:11.938871Z",
     "shell.execute_reply": "2023-05-22T15:57:11.937989Z"
    },
    "id": "wNisha_gM3_Z",
    "papermill": {
     "duration": 0.02277,
     "end_time": "2023-05-22T15:57:11.940900",
     "exception": false,
     "start_time": "2023-05-22T15:57:11.918130",
     "status": "completed"
    },
    "tags": []
   },
   "outputs": [],
   "source": [
    "train_path = '/kaggle/input/splitted-and-augmented-ham-15/Splitted_And_Augmented_HAM_15/HAM10K/train_dir'\n",
    "test_path = '/kaggle/input/splitted-and-augmented-ham-15/Splitted_And_Augmented_HAM_15/HAM10K/test_dir'\n",
    "val_path = '/kaggle/input/splitted-and-augmented-ham-15/Splitted_And_Augmented_HAM_15/HAM10K/val_dir'"
   ]
  },
  {
   "cell_type": "markdown",
   "id": "8264ebe7",
   "metadata": {
    "papermill": {
     "duration": 0.014353,
     "end_time": "2023-05-22T15:57:11.969544",
     "exception": false,
     "start_time": "2023-05-22T15:57:11.955191",
     "status": "completed"
    },
    "tags": []
   },
   "source": [
    "# Dataset generation (Train, Test, Validation)"
   ]
  },
  {
   "cell_type": "code",
   "execution_count": 4,
   "id": "e6c5a337",
   "metadata": {
    "execution": {
     "iopub.execute_input": "2023-05-22T15:57:12.000147Z",
     "iopub.status.busy": "2023-05-22T15:57:11.999249Z",
     "iopub.status.idle": "2023-05-22T15:57:12.004088Z",
     "shell.execute_reply": "2023-05-22T15:57:12.003106Z"
    },
    "id": "zhQWqdRN79B3",
    "papermill": {
     "duration": 0.022061,
     "end_time": "2023-05-22T15:57:12.006076",
     "exception": false,
     "start_time": "2023-05-22T15:57:11.984015",
     "status": "completed"
    },
    "tags": []
   },
   "outputs": [],
   "source": [
    "datagen = ImageDataGenerator(preprocessing_function=tf.keras.applications.densenet.preprocess_input)"
   ]
  },
  {
   "cell_type": "code",
   "execution_count": 5,
   "id": "f816ee03",
   "metadata": {
    "execution": {
     "iopub.execute_input": "2023-05-22T15:57:12.036147Z",
     "iopub.status.busy": "2023-05-22T15:57:12.035222Z",
     "iopub.status.idle": "2023-05-22T15:57:35.414981Z",
     "shell.execute_reply": "2023-05-22T15:57:35.414083Z"
    },
    "id": "w9_8FvOO7Rtu",
    "outputId": "7ca88c24-fda8-45d6-cb32-f3a43ae6ba5b",
    "papermill": {
     "duration": 23.396957,
     "end_time": "2023-05-22T15:57:35.417095",
     "exception": false,
     "start_time": "2023-05-22T15:57:12.020138",
     "status": "completed"
    },
    "tags": []
   },
   "outputs": [
    {
     "name": "stdout",
     "output_type": "stream",
     "text": [
      "\n",
      "Train Batches: \n",
      "Found 54782 images belonging to 7 classes.\n",
      "\n",
      "Test Batches: \n",
      "Found 828 images belonging to 7 classes.\n",
      "\n",
      "Val Batches: \n",
      "Found 827 images belonging to 7 classes.\n"
     ]
    }
   ],
   "source": [
    "print(\"\\nTrain Batches: \")\n",
    "train_batches = datagen.flow_from_directory(directory=train_path,\n",
    "                                            target_size=(image_size,image_size),\n",
    "                                            batch_size=batch_size,\n",
    "                                            shuffle=True)\n",
    "\n",
    "print(\"\\nTest Batches: \")\n",
    "test_batches = datagen.flow_from_directory(test_path,\n",
    "                                          target_size=(image_size,image_size),\n",
    "                                          batch_size=batch_size,\n",
    "                                          shuffle=False)\n",
    "print(\"\\nVal Batches: \")\n",
    "val_batches = datagen.flow_from_directory(val_path,\n",
    "                                         target_size=(image_size,image_size),\n",
    "                                         batch_size=batch_size,\n",
    "                                         shuffle=False)"
   ]
  },
  {
   "cell_type": "markdown",
   "id": "6f64a27c",
   "metadata": {
    "papermill": {
     "duration": 0.026606,
     "end_time": "2023-05-22T15:57:35.460012",
     "exception": false,
     "start_time": "2023-05-22T15:57:35.433406",
     "status": "completed"
    },
    "tags": []
   },
   "source": [
    "# Main Model Creation"
   ]
  },
  {
   "cell_type": "markdown",
   "id": "e6d8f47f",
   "metadata": {
    "papermill": {
     "duration": 0.023267,
     "end_time": "2023-05-22T15:57:35.512764",
     "exception": false,
     "start_time": "2023-05-22T15:57:35.489497",
     "status": "completed"
    },
    "tags": []
   },
   "source": [
    "### Soft Attention"
   ]
  },
  {
   "cell_type": "code",
   "execution_count": 6,
   "id": "dd791eca",
   "metadata": {
    "execution": {
     "iopub.execute_input": "2023-05-22T15:57:35.563283Z",
     "iopub.status.busy": "2023-05-22T15:57:35.562175Z",
     "iopub.status.idle": "2023-05-22T15:57:35.592155Z",
     "shell.execute_reply": "2023-05-22T15:57:35.591275Z"
    },
    "papermill": {
     "duration": 0.059018,
     "end_time": "2023-05-22T15:57:35.594388",
     "exception": false,
     "start_time": "2023-05-22T15:57:35.535370",
     "status": "completed"
    },
    "tags": []
   },
   "outputs": [],
   "source": [
    "from keras import backend as K\n",
    "from keras.layers import Layer,InputSpec\n",
    "import keras.layers as kl\n",
    "import tensorflow as tf\n",
    "\n",
    "\n",
    "\n",
    "class SoftAttention(Layer):\n",
    "    def __init__(self,ch,m,concat_with_x=False,aggregate=False,**kwargs):\n",
    "        self.channels=int(ch)\n",
    "        self.multiheads = m\n",
    "        self.aggregate_channels = aggregate\n",
    "        self.concat_input_with_scaled = concat_with_x\n",
    "\n",
    "        \n",
    "        super(SoftAttention,self).__init__(**kwargs)\n",
    "\n",
    "    def build(self,input_shape):\n",
    "\n",
    "        self.i_shape = input_shape\n",
    "\n",
    "        kernel_shape_conv3d = (self.channels, 3, 3) + (1, self.multiheads) # DHWC\n",
    "    \n",
    "        self.out_attention_maps_shape = input_shape[0:1]+(self.multiheads,)+input_shape[1:-1]\n",
    "        \n",
    "        if self.aggregate_channels==False:\n",
    "\n",
    "            self.out_features_shape = input_shape[:-1]+(input_shape[-1]+(input_shape[-1]*self.multiheads),)\n",
    "        else:\n",
    "            if self.concat_input_with_scaled:\n",
    "                self.out_features_shape = input_shape[:-1]+(input_shape[-1]*2,)\n",
    "            else:\n",
    "                self.out_features_shape = input_shape\n",
    "        \n",
    "\n",
    "        self.kernel_conv3d = self.add_weight(shape=kernel_shape_conv3d,\n",
    "                                        initializer='he_uniform',\n",
    "                                        name='kernel_conv3d')\n",
    "        self.bias_conv3d = self.add_weight(shape=(self.multiheads,),\n",
    "                                      initializer='zeros',\n",
    "                                      name='bias_conv3d')\n",
    "\n",
    "        super(SoftAttention, self).build(input_shape)\n",
    "\n",
    "    def call(self, x):\n",
    "\n",
    "        exp_x = K.expand_dims(x,axis=-1)\n",
    "\n",
    "        c3d = K.conv3d(exp_x,\n",
    "                     kernel=self.kernel_conv3d,\n",
    "                     strides=(1,1,self.i_shape[-1]), padding='same', data_format='channels_last')\n",
    "        conv3d = K.bias_add(c3d,\n",
    "                        self.bias_conv3d)\n",
    "        conv3d = kl.Activation('relu')(conv3d)\n",
    "\n",
    "        conv3d = K.permute_dimensions(conv3d,pattern=(0,4,1,2,3))\n",
    "\n",
    "        \n",
    "        conv3d = K.squeeze(conv3d, axis=-1)\n",
    "        conv3d = K.reshape(conv3d,shape=(-1, self.multiheads ,self.i_shape[1]*self.i_shape[2]))\n",
    "\n",
    "        softmax_alpha = K.softmax(conv3d, axis=-1) \n",
    "        softmax_alpha = kl.Reshape(target_shape=(self.multiheads, self.i_shape[1],self.i_shape[2]))(softmax_alpha)\n",
    "\n",
    "        \n",
    "        if self.aggregate_channels==False:\n",
    "            exp_softmax_alpha = K.expand_dims(softmax_alpha, axis=-1)       \n",
    "            exp_softmax_alpha = K.permute_dimensions(exp_softmax_alpha,pattern=(0,2,3,1,4))\n",
    "   \n",
    "            x_exp = K.expand_dims(x,axis=-2)\n",
    "   \n",
    "            u = kl.Multiply()([exp_softmax_alpha, x_exp])   \n",
    "  \n",
    "            u = kl.Reshape(target_shape=(self.i_shape[1],self.i_shape[2],u.shape[-1]*u.shape[-2]))(u)\n",
    "\n",
    "        else:\n",
    "            exp_softmax_alpha = K.permute_dimensions(softmax_alpha,pattern=(0,2,3,1))\n",
    "\n",
    "            exp_softmax_alpha = K.sum(exp_softmax_alpha,axis=-1)\n",
    "\n",
    "            exp_softmax_alpha = K.expand_dims(exp_softmax_alpha, axis=-1)\n",
    "\n",
    "            u = kl.Multiply()([exp_softmax_alpha, x])   \n",
    "\n",
    "        if self.concat_input_with_scaled:\n",
    "            o = kl.Concatenate(axis=-1)([u,x])\n",
    "        else:\n",
    "            o = u\n",
    "        \n",
    "        return [o, softmax_alpha]\n",
    "\n",
    "    def compute_output_shape(self, input_shape): \n",
    "        return [self.out_features_shape, self.out_attention_maps_shape]\n",
    "\n",
    "    \n",
    "    def get_config(self):\n",
    "        return super(SoftAttention,self).get_config()\n",
    " "
   ]
  },
  {
   "cell_type": "markdown",
   "id": "775f5b9d",
   "metadata": {
    "papermill": {
     "duration": 0.024438,
     "end_time": "2023-05-22T15:57:35.640553",
     "exception": false,
     "start_time": "2023-05-22T15:57:35.616115",
     "status": "completed"
    },
    "tags": []
   },
   "source": [
    "### Define Model"
   ]
  },
  {
   "cell_type": "code",
   "execution_count": 7,
   "id": "ee1452f9",
   "metadata": {
    "execution": {
     "iopub.execute_input": "2023-05-22T15:57:35.672157Z",
     "iopub.status.busy": "2023-05-22T15:57:35.671810Z",
     "iopub.status.idle": "2023-05-22T15:57:44.456089Z",
     "shell.execute_reply": "2023-05-22T15:57:44.455129Z"
    },
    "id": "zhQWqdRN79B3",
    "papermill": {
     "duration": 8.80325,
     "end_time": "2023-05-22T15:57:44.458858",
     "exception": false,
     "start_time": "2023-05-22T15:57:35.655608",
     "status": "completed"
    },
    "tags": []
   },
   "outputs": [
    {
     "name": "stdout",
     "output_type": "stream",
     "text": [
      "Downloading data from https://storage.googleapis.com/tensorflow/keras-applications/densenet/densenet201_weights_tf_dim_ordering_tf_kernels_notop.h5\n",
      "74836368/74836368 [==============================] - 0s 0us/step\n"
     ]
    }
   ],
   "source": [
    "from tensorflow.keras.applications.densenet import DenseNet201\n",
    "# Create a new instance of DenseNet201\n",
    "DN201 = DenseNet201(weights='imagenet', include_top=False, input_shape=(image_size, image_size, 3), pooling='avg')"
   ]
  },
  {
   "cell_type": "markdown",
   "id": "7117e533",
   "metadata": {
    "papermill": {
     "duration": 0.015388,
     "end_time": "2023-05-22T15:57:44.490013",
     "exception": false,
     "start_time": "2023-05-22T15:57:44.474625",
     "status": "completed"
    },
    "tags": []
   },
   "source": [
    "## Fine tuning"
   ]
  },
  {
   "cell_type": "code",
   "execution_count": 8,
   "id": "efb355be",
   "metadata": {
    "execution": {
     "iopub.execute_input": "2023-05-22T15:57:44.522778Z",
     "iopub.status.busy": "2023-05-22T15:57:44.522418Z",
     "iopub.status.idle": "2023-05-22T15:57:44.528293Z",
     "shell.execute_reply": "2023-05-22T15:57:44.527343Z"
    },
    "id": "4d4Ta5LcSYaz",
    "papermill": {
     "duration": 0.024639,
     "end_time": "2023-05-22T15:57:44.530397",
     "exception": false,
     "start_time": "2023-05-22T15:57:44.505758",
     "status": "completed"
    },
    "tags": []
   },
   "outputs": [],
   "source": [
    "MainInput=Input(shape=(image_size, image_size, 3))"
   ]
  },
  {
   "cell_type": "code",
   "execution_count": 9,
   "id": "550e2a9b",
   "metadata": {
    "execution": {
     "iopub.execute_input": "2023-05-22T15:57:44.562542Z",
     "iopub.status.busy": "2023-05-22T15:57:44.562220Z",
     "iopub.status.idle": "2023-05-22T15:57:46.003135Z",
     "shell.execute_reply": "2023-05-22T15:57:46.002197Z"
    },
    "papermill": {
     "duration": 1.459689,
     "end_time": "2023-05-22T15:57:46.005468",
     "exception": false,
     "start_time": "2023-05-22T15:57:44.545779",
     "status": "completed"
    },
    "tags": []
   },
   "outputs": [],
   "source": [
    "densenet = DN201(MainInput)"
   ]
  },
  {
   "cell_type": "code",
   "execution_count": 10,
   "id": "bdc6ae2c",
   "metadata": {
    "execution": {
     "iopub.execute_input": "2023-05-22T15:57:46.038244Z",
     "iopub.status.busy": "2023-05-22T15:57:46.037913Z",
     "iopub.status.idle": "2023-05-22T15:57:46.054028Z",
     "shell.execute_reply": "2023-05-22T15:57:46.053105Z"
    },
    "papermill": {
     "duration": 0.035005,
     "end_time": "2023-05-22T15:57:46.056243",
     "exception": false,
     "start_time": "2023-05-22T15:57:46.021238",
     "status": "completed"
    },
    "tags": []
   },
   "outputs": [],
   "source": [
    "# Reshape the tensor to have 4 dimensions\n",
    "from tensorflow.keras.layers import Reshape\n",
    "reshape = Reshape((8, 8, 30))(densenet)"
   ]
  },
  {
   "cell_type": "code",
   "execution_count": 11,
   "id": "05d8a8cf",
   "metadata": {
    "execution": {
     "iopub.execute_input": "2023-05-22T15:57:46.088677Z",
     "iopub.status.busy": "2023-05-22T15:57:46.088349Z",
     "iopub.status.idle": "2023-05-22T15:57:46.180480Z",
     "shell.execute_reply": "2023-05-22T15:57:46.179486Z"
    },
    "id": "x8mS99J5SYbT",
    "papermill": {
     "duration": 0.111097,
     "end_time": "2023-05-22T15:57:46.182996",
     "exception": false,
     "start_time": "2023-05-22T15:57:46.071899",
     "status": "completed"
    },
    "tags": []
   },
   "outputs": [],
   "source": [
    "# Add convolutional layers with Channel Attention\n",
    "conv = Conv2D(filters=128, kernel_size=(7, 7), activation=\"relu\", padding=\"same\", kernel_initializer='he_normal')(reshape)\n",
    "conv = BatchNormalization()(conv)\n",
    "conv = Conv2D(filters=128, kernel_size=(5, 5), activation=\"relu\", padding=\"same\", kernel_initializer='he_normal')(conv)\n",
    "conv = BatchNormalization()(conv)\n",
    "conv = Conv2D(filters=128, kernel_size=(3, 3), activation=\"relu\", padding=\"same\", kernel_initializer='he_normal')(conv)\n",
    "conv = BatchNormalization()(conv)\n",
    "conv = Conv2D(filters=128, kernel_size=(1, 1), activation=\"relu\", padding=\"same\", kernel_initializer='he_normal')(conv)\n",
    "conv = BatchNormalization()(conv)"
   ]
  },
  {
   "cell_type": "code",
   "execution_count": 12,
   "id": "322f16d2",
   "metadata": {
    "execution": {
     "iopub.execute_input": "2023-05-22T15:57:46.216159Z",
     "iopub.status.busy": "2023-05-22T15:57:46.215842Z",
     "iopub.status.idle": "2023-05-22T15:57:46.623236Z",
     "shell.execute_reply": "2023-05-22T15:57:46.620344Z"
    },
    "papermill": {
     "duration": 0.427235,
     "end_time": "2023-05-22T15:57:46.626420",
     "exception": false,
     "start_time": "2023-05-22T15:57:46.199185",
     "status": "completed"
    },
    "tags": []
   },
   "outputs": [],
   "source": [
    "attention_layer,map2 = SoftAttention(aggregate=True,m=16,concat_with_x=False,ch=int(conv.shape[-1]),name='soft_attention')(conv)\n",
    "attention_layer=(MaxPooling2D(pool_size=(2, 2),padding=\"same\")(attention_layer))\n",
    "conv=(MaxPooling2D(pool_size=(2, 2),padding=\"same\")(conv))\n",
    "\n",
    "conv = concatenate([conv,attention_layer])\n",
    "conv  = Activation('relu')(conv)\n",
    "conv = Dropout(0.5)(conv)"
   ]
  },
  {
   "cell_type": "code",
   "execution_count": 13,
   "id": "a308f5d3",
   "metadata": {
    "execution": {
     "iopub.execute_input": "2023-05-22T15:57:46.659485Z",
     "iopub.status.busy": "2023-05-22T15:57:46.659144Z",
     "iopub.status.idle": "2023-05-22T15:57:46.751223Z",
     "shell.execute_reply": "2023-05-22T15:57:46.750228Z"
    },
    "id": "sW4tKg9wSYbk",
    "papermill": {
     "duration": 0.112077,
     "end_time": "2023-05-22T15:57:46.754293",
     "exception": false,
     "start_time": "2023-05-22T15:57:46.642216",
     "status": "completed"
    },
    "tags": []
   },
   "outputs": [],
   "source": [
    "conv = Conv2D(filters=256,kernel_size=(7,7), activation=\"relu\",padding=\"same\",kernel_initializer='he_normal')(conv)\n",
    "conv = BatchNormalization()(conv)\n",
    "conv = Conv2D(filters=256,kernel_size=(5,5), activation=\"relu\",padding=\"same\",kernel_initializer='he_normal')(conv)\n",
    "conv = BatchNormalization()(conv)\n",
    "conv = Conv2D(filters=256,kernel_size=(3,3), activation=\"relu\",padding=\"same\",kernel_initializer='he_normal')(conv)\n",
    "conv = BatchNormalization()(conv)\n",
    "conv = Conv2D(filters=256,kernel_size=(1,1), activation=\"relu\",padding=\"same\",kernel_initializer='he_normal')(conv)\n",
    "conv = BatchNormalization()(conv)"
   ]
  },
  {
   "cell_type": "code",
   "execution_count": 14,
   "id": "611dad71",
   "metadata": {
    "execution": {
     "iopub.execute_input": "2023-05-22T15:57:46.789017Z",
     "iopub.status.busy": "2023-05-22T15:57:46.788151Z",
     "iopub.status.idle": "2023-05-22T15:57:46.836585Z",
     "shell.execute_reply": "2023-05-22T15:57:46.835660Z"
    },
    "papermill": {
     "duration": 0.067997,
     "end_time": "2023-05-22T15:57:46.838980",
     "exception": false,
     "start_time": "2023-05-22T15:57:46.770983",
     "status": "completed"
    },
    "tags": []
   },
   "outputs": [],
   "source": [
    "attention_layer,map2 = SoftAttention(aggregate=True,m=16,concat_with_x=False,ch=int(conv.shape[-1]),name='soft_attention_2')(conv)\n",
    "attention_layer=(MaxPooling2D(pool_size=(2, 2),padding=\"same\")(attention_layer))\n",
    "conv=(MaxPooling2D(pool_size=(2, 2),padding=\"same\")(conv))\n",
    "\n",
    "conv = concatenate([conv,attention_layer])\n",
    "conv  = Activation('relu')(conv)\n",
    "conv = Dropout(0.5)(conv)"
   ]
  },
  {
   "cell_type": "code",
   "execution_count": 15,
   "id": "f264a337",
   "metadata": {
    "execution": {
     "iopub.execute_input": "2023-05-22T15:57:46.871691Z",
     "iopub.status.busy": "2023-05-22T15:57:46.871345Z",
     "iopub.status.idle": "2023-05-22T15:57:46.876752Z",
     "shell.execute_reply": "2023-05-22T15:57:46.875830Z"
    },
    "papermill": {
     "duration": 0.02467,
     "end_time": "2023-05-22T15:57:46.879326",
     "exception": false,
     "start_time": "2023-05-22T15:57:46.854656",
     "status": "completed"
    },
    "tags": []
   },
   "outputs": [
    {
     "name": "stdout",
     "output_type": "stream",
     "text": [
      "7\n"
     ]
    }
   ],
   "source": [
    "num_classes = test_batches.num_classes\n",
    "print(num_classes)"
   ]
  },
  {
   "cell_type": "code",
   "execution_count": 16,
   "id": "4221ba1b",
   "metadata": {
    "execution": {
     "iopub.execute_input": "2023-05-22T15:57:46.913150Z",
     "iopub.status.busy": "2023-05-22T15:57:46.912852Z",
     "iopub.status.idle": "2023-05-22T15:57:46.967370Z",
     "shell.execute_reply": "2023-05-22T15:57:46.966479Z"
    },
    "id": "-EdFxKdgSYcf",
    "papermill": {
     "duration": 0.073748,
     "end_time": "2023-05-22T15:57:46.969749",
     "exception": false,
     "start_time": "2023-05-22T15:57:46.896001",
     "status": "completed"
    },
    "tags": []
   },
   "outputs": [],
   "source": [
    "conv=(Flatten()(conv))\n",
    "conv=(Dense(1024,activation=\"relu\")(conv))\n",
    "conv = Dropout(0.5)(conv)\n",
    "conv=(Dense(512,activation=\"relu\")(conv))\n",
    "conv = Dropout(0.25)(conv)\n",
    "conv=(Dense(num_classes, activation=\"softmax\")(conv))\n",
    "\n",
    "model_dn201_sa = Model(inputs=MainInput, outputs=conv)"
   ]
  },
  {
   "cell_type": "code",
   "execution_count": 17,
   "id": "a010261c",
   "metadata": {
    "execution": {
     "iopub.execute_input": "2023-05-22T15:57:47.002819Z",
     "iopub.status.busy": "2023-05-22T15:57:47.002466Z",
     "iopub.status.idle": "2023-05-22T15:57:47.171107Z",
     "shell.execute_reply": "2023-05-22T15:57:47.169944Z"
    },
    "id": "ba8ajOckSYcl",
    "outputId": "e69fa749-4741-4f49-ae3e-9f5479e809a8",
    "papermill": {
     "duration": 0.187537,
     "end_time": "2023-05-22T15:57:47.173129",
     "exception": false,
     "start_time": "2023-05-22T15:57:46.985592",
     "status": "completed"
    },
    "tags": []
   },
   "outputs": [
    {
     "name": "stdout",
     "output_type": "stream",
     "text": [
      "Model: \"model\"\n",
      "__________________________________________________________________________________________________\n",
      " Layer (type)                   Output Shape         Param #     Connected to                     \n",
      "==================================================================================================\n",
      " input_2 (InputLayer)           [(None, 224, 224, 3  0           []                               \n",
      "                                )]                                                                \n",
      "                                                                                                  \n",
      " densenet201 (Functional)       (None, 1920)         18321984    ['input_2[0][0]']                \n",
      "                                                                                                  \n",
      " reshape (Reshape)              (None, 8, 8, 30)     0           ['densenet201[0][0]']            \n",
      "                                                                                                  \n",
      " conv2d (Conv2D)                (None, 8, 8, 128)    188288      ['reshape[0][0]']                \n",
      "                                                                                                  \n",
      " batch_normalization (BatchNorm  (None, 8, 8, 128)   512         ['conv2d[0][0]']                 \n",
      " alization)                                                                                       \n",
      "                                                                                                  \n",
      " conv2d_1 (Conv2D)              (None, 8, 8, 128)    409728      ['batch_normalization[0][0]']    \n",
      "                                                                                                  \n",
      " batch_normalization_1 (BatchNo  (None, 8, 8, 128)   512         ['conv2d_1[0][0]']               \n",
      " rmalization)                                                                                     \n",
      "                                                                                                  \n",
      " conv2d_2 (Conv2D)              (None, 8, 8, 128)    147584      ['batch_normalization_1[0][0]']  \n",
      "                                                                                                  \n",
      " batch_normalization_2 (BatchNo  (None, 8, 8, 128)   512         ['conv2d_2[0][0]']               \n",
      " rmalization)                                                                                     \n",
      "                                                                                                  \n",
      " conv2d_3 (Conv2D)              (None, 8, 8, 128)    16512       ['batch_normalization_2[0][0]']  \n",
      "                                                                                                  \n",
      " batch_normalization_3 (BatchNo  (None, 8, 8, 128)   512         ['conv2d_3[0][0]']               \n",
      " rmalization)                                                                                     \n",
      "                                                                                                  \n",
      " soft_attention (SoftAttention)  [(None, 8, 8, 128),  18448      ['batch_normalization_3[0][0]']  \n",
      "                                 (None, 16, 8, 8)]                                                \n",
      "                                                                                                  \n",
      " max_pooling2d_1 (MaxPooling2D)  (None, 4, 4, 128)   0           ['batch_normalization_3[0][0]']  \n",
      "                                                                                                  \n",
      " max_pooling2d (MaxPooling2D)   (None, 4, 4, 128)    0           ['soft_attention[0][0]']         \n",
      "                                                                                                  \n",
      " concatenate (Concatenate)      (None, 4, 4, 256)    0           ['max_pooling2d_1[0][0]',        \n",
      "                                                                  'max_pooling2d[0][0]']          \n",
      "                                                                                                  \n",
      " activation (Activation)        (None, 4, 4, 256)    0           ['concatenate[0][0]']            \n",
      "                                                                                                  \n",
      " dropout (Dropout)              (None, 4, 4, 256)    0           ['activation[0][0]']             \n",
      "                                                                                                  \n",
      " conv2d_4 (Conv2D)              (None, 4, 4, 256)    3211520     ['dropout[0][0]']                \n",
      "                                                                                                  \n",
      " batch_normalization_4 (BatchNo  (None, 4, 4, 256)   1024        ['conv2d_4[0][0]']               \n",
      " rmalization)                                                                                     \n",
      "                                                                                                  \n",
      " conv2d_5 (Conv2D)              (None, 4, 4, 256)    1638656     ['batch_normalization_4[0][0]']  \n",
      "                                                                                                  \n",
      " batch_normalization_5 (BatchNo  (None, 4, 4, 256)   1024        ['conv2d_5[0][0]']               \n",
      " rmalization)                                                                                     \n",
      "                                                                                                  \n",
      " conv2d_6 (Conv2D)              (None, 4, 4, 256)    590080      ['batch_normalization_5[0][0]']  \n",
      "                                                                                                  \n",
      " batch_normalization_6 (BatchNo  (None, 4, 4, 256)   1024        ['conv2d_6[0][0]']               \n",
      " rmalization)                                                                                     \n",
      "                                                                                                  \n",
      " conv2d_7 (Conv2D)              (None, 4, 4, 256)    65792       ['batch_normalization_6[0][0]']  \n",
      "                                                                                                  \n",
      " batch_normalization_7 (BatchNo  (None, 4, 4, 256)   1024        ['conv2d_7[0][0]']               \n",
      " rmalization)                                                                                     \n",
      "                                                                                                  \n",
      " soft_attention_2 (SoftAttentio  [(None, 4, 4, 256),  36880      ['batch_normalization_7[0][0]']  \n",
      " n)                              (None, 16, 4, 4)]                                                \n",
      "                                                                                                  \n",
      " max_pooling2d_3 (MaxPooling2D)  (None, 2, 2, 256)   0           ['batch_normalization_7[0][0]']  \n",
      "                                                                                                  \n",
      " max_pooling2d_2 (MaxPooling2D)  (None, 2, 2, 256)   0           ['soft_attention_2[0][0]']       \n",
      "                                                                                                  \n",
      " concatenate_1 (Concatenate)    (None, 2, 2, 512)    0           ['max_pooling2d_3[0][0]',        \n",
      "                                                                  'max_pooling2d_2[0][0]']        \n",
      "                                                                                                  \n",
      " activation_1 (Activation)      (None, 2, 2, 512)    0           ['concatenate_1[0][0]']          \n",
      "                                                                                                  \n",
      " dropout_1 (Dropout)            (None, 2, 2, 512)    0           ['activation_1[0][0]']           \n",
      "                                                                                                  \n",
      " flatten (Flatten)              (None, 2048)         0           ['dropout_1[0][0]']              \n",
      "                                                                                                  \n",
      " dense (Dense)                  (None, 1024)         2098176     ['flatten[0][0]']                \n",
      "                                                                                                  \n",
      " dropout_2 (Dropout)            (None, 1024)         0           ['dense[0][0]']                  \n",
      "                                                                                                  \n",
      " dense_1 (Dense)                (None, 512)          524800      ['dropout_2[0][0]']              \n",
      "                                                                                                  \n",
      " dropout_3 (Dropout)            (None, 512)          0           ['dense_1[0][0]']                \n",
      "                                                                                                  \n",
      " dense_2 (Dense)                (None, 7)            3591        ['dropout_3[0][0]']              \n",
      "                                                                                                  \n",
      "==================================================================================================\n",
      "Total params: 27,278,183\n",
      "Trainable params: 27,046,055\n",
      "Non-trainable params: 232,128\n",
      "__________________________________________________________________________________________________\n"
     ]
    }
   ],
   "source": [
    "model_dn201_sa.summary()"
   ]
  },
  {
   "cell_type": "code",
   "execution_count": 18,
   "id": "089c367c",
   "metadata": {
    "execution": {
     "iopub.execute_input": "2023-05-22T15:57:47.220948Z",
     "iopub.status.busy": "2023-05-22T15:57:47.220104Z",
     "iopub.status.idle": "2023-05-22T15:57:47.255339Z",
     "shell.execute_reply": "2023-05-22T15:57:47.254316Z"
    },
    "id": "WR0fUpy18vAZ",
    "papermill": {
     "duration": 0.061927,
     "end_time": "2023-05-22T15:57:47.257713",
     "exception": false,
     "start_time": "2023-05-22T15:57:47.195786",
     "status": "completed"
    },
    "tags": []
   },
   "outputs": [],
   "source": [
    "opt1=tf.keras.optimizers.Adam(learning_rate=0.001,epsilon=0.1)\n",
    "model_dn201_sa.compile(optimizer=opt1,\n",
    "             loss='categorical_crossentropy',\n",
    "             metrics=['accuracy'])"
   ]
  },
  {
   "cell_type": "code",
   "execution_count": 19,
   "id": "3c1a69dd",
   "metadata": {
    "execution": {
     "iopub.execute_input": "2023-05-22T15:57:47.308812Z",
     "iopub.status.busy": "2023-05-22T15:57:47.307969Z",
     "iopub.status.idle": "2023-05-22T15:57:47.313329Z",
     "shell.execute_reply": "2023-05-22T15:57:47.312314Z"
    },
    "id": "LAf5ha295reS",
    "papermill": {
     "duration": 0.032958,
     "end_time": "2023-05-22T15:57:47.315325",
     "exception": false,
     "start_time": "2023-05-22T15:57:47.282367",
     "status": "completed"
    },
    "tags": []
   },
   "outputs": [],
   "source": [
    "class_weights = {   \n",
    "                    0: 1.0,  # akiec\n",
    "                    1: 1.0,  # bcc\n",
    "                    2: 1.0,  # bkl\n",
    "                    3: 1.0,  # df\n",
    "                    4: 1.0,  # mel\n",
    "                    5: 1.0,  # nv\n",
    "                    6: 1.0  # vasc\n",
    "                }"
   ]
  },
  {
   "cell_type": "code",
   "execution_count": 20,
   "id": "c48de645",
   "metadata": {
    "execution": {
     "iopub.execute_input": "2023-05-22T15:57:47.363549Z",
     "iopub.status.busy": "2023-05-22T15:57:47.362617Z",
     "iopub.status.idle": "2023-05-22T15:57:47.368062Z",
     "shell.execute_reply": "2023-05-22T15:57:47.367148Z"
    },
    "papermill": {
     "duration": 0.031661,
     "end_time": "2023-05-22T15:57:47.370074",
     "exception": false,
     "start_time": "2023-05-22T15:57:47.338413",
     "status": "completed"
    },
    "tags": []
   },
   "outputs": [],
   "source": [
    "checkpoint = ModelCheckpoint(filepath ='DN201_SA.hdf5', monitor='val_accuracy', save_best_only=True, save_weights_only=True)\n",
    "Earlystop = EarlyStopping(monitor='val_accuracy', mode='max', patience=25, min_delta=0.01)"
   ]
  },
  {
   "cell_type": "code",
   "execution_count": 21,
   "id": "1b8f1abf",
   "metadata": {
    "execution": {
     "iopub.execute_input": "2023-05-22T15:57:47.416603Z",
     "iopub.status.busy": "2023-05-22T15:57:47.416280Z",
     "iopub.status.idle": "2023-05-23T00:43:26.518525Z",
     "shell.execute_reply": "2023-05-23T00:43:26.517435Z"
    },
    "id": "NUzTmiZ-8hL3",
    "outputId": "e1825ff2-9f9c-436f-cf2c-9776af8eee62",
    "papermill": {
     "duration": 31539.147181,
     "end_time": "2023-05-23T00:43:26.540249",
     "exception": false,
     "start_time": "2023-05-22T15:57:47.393068",
     "status": "completed"
    },
    "tags": []
   },
   "outputs": [
    {
     "name": "stdout",
     "output_type": "stream",
     "text": [
      "Epoch 1/50\n"
     ]
    },
    {
     "name": "stderr",
     "output_type": "stream",
     "text": [
      "2023-05-22 15:58:37.687358: E tensorflow/core/grappler/optimizers/meta_optimizer.cc:954] layout failed: INVALID_ARGUMENT: Size of values 0 does not match size of permutation 4 @ fanin shape inmodel/dropout/dropout/SelectV2-2-TransposeNHWCToNCHW-LayoutOptimizer\n"
     ]
    },
    {
     "name": "stdout",
     "output_type": "stream",
     "text": [
      "3424/3424 - 950s - loss: 1.3419 - accuracy: 0.5072 - val_loss: 1.1550 - val_accuracy: 0.2346 - 950s/epoch - 277ms/step\n",
      "Epoch 2/50\n",
      "3424/3424 - 805s - loss: 0.5984 - accuracy: 0.7829 - val_loss: 0.5035 - val_accuracy: 0.8682 - 805s/epoch - 235ms/step\n",
      "Epoch 3/50\n",
      "3424/3424 - 804s - loss: 0.3765 - accuracy: 0.8719 - val_loss: 0.3311 - val_accuracy: 0.9081 - 804s/epoch - 235ms/step\n",
      "Epoch 4/50\n",
      "3424/3424 - 801s - loss: 0.2601 - accuracy: 0.9125 - val_loss: 0.3853 - val_accuracy: 0.9069 - 801s/epoch - 234ms/step\n",
      "Epoch 5/50\n",
      "3424/3424 - 796s - loss: 0.1884 - accuracy: 0.9371 - val_loss: 0.3900 - val_accuracy: 0.8924 - 796s/epoch - 232ms/step\n",
      "Epoch 6/50\n",
      "3424/3424 - 793s - loss: 0.1450 - accuracy: 0.9511 - val_loss: 0.4080 - val_accuracy: 0.8924 - 793s/epoch - 232ms/step\n",
      "Epoch 7/50\n",
      "3424/3424 - 799s - loss: 0.1222 - accuracy: 0.9597 - val_loss: 0.3365 - val_accuracy: 0.9166 - 799s/epoch - 233ms/step\n",
      "Epoch 8/50\n",
      "3424/3424 - 801s - loss: 0.0956 - accuracy: 0.9689 - val_loss: 0.3795 - val_accuracy: 0.9117 - 801s/epoch - 234ms/step\n",
      "Epoch 9/50\n",
      "3424/3424 - 800s - loss: 0.0770 - accuracy: 0.9750 - val_loss: 0.3646 - val_accuracy: 0.9154 - 800s/epoch - 234ms/step\n",
      "Epoch 10/50\n",
      "3424/3424 - 799s - loss: 0.0621 - accuracy: 0.9796 - val_loss: 0.4795 - val_accuracy: 0.8924 - 799s/epoch - 233ms/step\n",
      "Epoch 11/50\n",
      "3424/3424 - 799s - loss: 0.0497 - accuracy: 0.9842 - val_loss: 0.4180 - val_accuracy: 0.9069 - 799s/epoch - 233ms/step\n",
      "Epoch 12/50\n",
      "3424/3424 - 799s - loss: 0.0463 - accuracy: 0.9848 - val_loss: 0.4010 - val_accuracy: 0.8984 - 799s/epoch - 233ms/step\n",
      "Epoch 13/50\n",
      "3424/3424 - 799s - loss: 0.0404 - accuracy: 0.9874 - val_loss: 0.4235 - val_accuracy: 0.9081 - 799s/epoch - 233ms/step\n",
      "Epoch 14/50\n",
      "3424/3424 - 800s - loss: 0.0349 - accuracy: 0.9889 - val_loss: 0.3928 - val_accuracy: 0.9190 - 800s/epoch - 234ms/step\n",
      "Epoch 15/50\n",
      "3424/3424 - 799s - loss: 0.0330 - accuracy: 0.9894 - val_loss: 0.3611 - val_accuracy: 0.9129 - 799s/epoch - 233ms/step\n",
      "Epoch 16/50\n",
      "3424/3424 - 800s - loss: 0.0295 - accuracy: 0.9909 - val_loss: 0.3914 - val_accuracy: 0.9081 - 800s/epoch - 234ms/step\n",
      "Epoch 17/50\n",
      "3424/3424 - 799s - loss: 0.0272 - accuracy: 0.9918 - val_loss: 0.4189 - val_accuracy: 0.9154 - 799s/epoch - 233ms/step\n",
      "Epoch 18/50\n",
      "3424/3424 - 800s - loss: 0.0278 - accuracy: 0.9917 - val_loss: 0.4150 - val_accuracy: 0.9117 - 800s/epoch - 234ms/step\n",
      "Epoch 19/50\n",
      "3424/3424 - 802s - loss: 0.0227 - accuracy: 0.9935 - val_loss: 0.4421 - val_accuracy: 0.9141 - 802s/epoch - 234ms/step\n",
      "Epoch 20/50\n",
      "3424/3424 - 798s - loss: 0.0192 - accuracy: 0.9942 - val_loss: 0.4360 - val_accuracy: 0.9178 - 798s/epoch - 233ms/step\n",
      "Epoch 21/50\n",
      "3424/3424 - 796s - loss: 0.0223 - accuracy: 0.9932 - val_loss: 0.4355 - val_accuracy: 0.9117 - 796s/epoch - 232ms/step\n",
      "Epoch 22/50\n",
      "3424/3424 - 793s - loss: 0.0176 - accuracy: 0.9946 - val_loss: 0.4373 - val_accuracy: 0.9250 - 793s/epoch - 232ms/step\n",
      "Epoch 23/50\n",
      "3424/3424 - 793s - loss: 0.0149 - accuracy: 0.9957 - val_loss: 0.5370 - val_accuracy: 0.9226 - 793s/epoch - 232ms/step\n",
      "Epoch 24/50\n",
      "3424/3424 - 800s - loss: 0.0159 - accuracy: 0.9955 - val_loss: 0.4766 - val_accuracy: 0.9166 - 800s/epoch - 234ms/step\n",
      "Epoch 25/50\n",
      "3424/3424 - 796s - loss: 0.0110 - accuracy: 0.9970 - val_loss: 0.4965 - val_accuracy: 0.9154 - 796s/epoch - 232ms/step\n",
      "Epoch 26/50\n",
      "3424/3424 - 795s - loss: 0.0132 - accuracy: 0.9956 - val_loss: 0.5059 - val_accuracy: 0.9045 - 795s/epoch - 232ms/step\n",
      "Epoch 27/50\n",
      "3424/3424 - 791s - loss: 0.0136 - accuracy: 0.9961 - val_loss: 0.5315 - val_accuracy: 0.9141 - 791s/epoch - 231ms/step\n",
      "Epoch 28/50\n",
      "3424/3424 - 791s - loss: 0.0110 - accuracy: 0.9965 - val_loss: 0.5150 - val_accuracy: 0.9190 - 791s/epoch - 231ms/step\n",
      "Epoch 29/50\n",
      "3424/3424 - 791s - loss: 0.0089 - accuracy: 0.9976 - val_loss: 0.4920 - val_accuracy: 0.9214 - 791s/epoch - 231ms/step\n",
      "Epoch 30/50\n",
      "3424/3424 - 796s - loss: 0.0141 - accuracy: 0.9961 - val_loss: 0.5376 - val_accuracy: 0.9117 - 796s/epoch - 233ms/step\n",
      "Epoch 31/50\n",
      "3424/3424 - 794s - loss: 0.0082 - accuracy: 0.9976 - val_loss: 0.5304 - val_accuracy: 0.9141 - 794s/epoch - 232ms/step\n",
      "Epoch 32/50\n",
      "3424/3424 - 792s - loss: 0.0115 - accuracy: 0.9966 - val_loss: 0.5091 - val_accuracy: 0.9093 - 792s/epoch - 231ms/step\n",
      "Epoch 33/50\n",
      "3424/3424 - 793s - loss: 0.0109 - accuracy: 0.9966 - val_loss: 0.4875 - val_accuracy: 0.9033 - 793s/epoch - 232ms/step\n",
      "Epoch 34/50\n",
      "3424/3424 - 796s - loss: 0.0066 - accuracy: 0.9980 - val_loss: 0.5697 - val_accuracy: 0.9033 - 796s/epoch - 233ms/step\n",
      "Epoch 35/50\n",
      "3424/3424 - 797s - loss: 0.0063 - accuracy: 0.9979 - val_loss: 0.5296 - val_accuracy: 0.9141 - 797s/epoch - 233ms/step\n",
      "Epoch 36/50\n",
      "3424/3424 - 798s - loss: 0.0115 - accuracy: 0.9964 - val_loss: 0.5386 - val_accuracy: 0.9141 - 798s/epoch - 233ms/step\n",
      "Epoch 37/50\n",
      "3424/3424 - 798s - loss: 0.0106 - accuracy: 0.9968 - val_loss: 0.5376 - val_accuracy: 0.9105 - 798s/epoch - 233ms/step\n",
      "Epoch 38/50\n",
      "3424/3424 - 802s - loss: 0.0085 - accuracy: 0.9972 - val_loss: 0.5452 - val_accuracy: 0.9141 - 802s/epoch - 234ms/step\n",
      "Epoch 39/50\n",
      "3424/3424 - 799s - loss: 0.0057 - accuracy: 0.9982 - val_loss: 0.5397 - val_accuracy: 0.9154 - 799s/epoch - 233ms/step\n"
     ]
    }
   ],
   "source": [
    "history = model_dn201_sa.fit(train_batches,\n",
    "                         epochs=50,\n",
    "                         verbose=2,\n",
    "                         validation_data=val_batches,\n",
    "                         callbacks=[checkpoint,Earlystop],\n",
    "                         class_weight=class_weights)"
   ]
  },
  {
   "cell_type": "markdown",
   "id": "d906dea4",
   "metadata": {
    "papermill": {
     "duration": 0.027463,
     "end_time": "2023-05-23T00:43:26.595520",
     "exception": false,
     "start_time": "2023-05-23T00:43:26.568057",
     "status": "completed"
    },
    "tags": []
   },
   "source": [
    "### Plotting accuracy and loss"
   ]
  },
  {
   "cell_type": "code",
   "execution_count": 22,
   "id": "e08ae9fc",
   "metadata": {
    "execution": {
     "iopub.execute_input": "2023-05-23T00:43:26.653209Z",
     "iopub.status.busy": "2023-05-23T00:43:26.652301Z",
     "iopub.status.idle": "2023-05-23T00:43:29.753246Z",
     "shell.execute_reply": "2023-05-23T00:43:29.752416Z"
    },
    "papermill": {
     "duration": 3.132104,
     "end_time": "2023-05-23T00:43:29.755459",
     "exception": false,
     "start_time": "2023-05-23T00:43:26.623355",
     "status": "completed"
    },
    "tags": []
   },
   "outputs": [
    {
     "name": "stdout",
     "output_type": "stream",
     "text": [
      "Number of epochs trained: 39\n"
     ]
    },
    {
     "data": {
      "image/png": "[encoded data removed]",
      "text/plain": [
       "<Figure size 1500x500 with 2 Axes>"
      ]
     },
     "metadata": {},
     "output_type": "display_data"
    }
   ],
   "source": [
    "# Determine number of epochs trained\n",
    "num_epochs_trained = len(history.history['val_loss'])\n",
    "print(f\"Number of epochs trained: {num_epochs_trained}\")\n",
    "\n",
    "## History plotting\n",
    "epochs = [i for i in range(num_epochs_trained)]\n",
    "fig , ax = plt.subplots(1,2)\n",
    "train_acc = history.history['accuracy']\n",
    "train_loss = history.history['loss']\n",
    "val_acc = history.history['val_accuracy']\n",
    "val_loss = history.history['val_loss']\n",
    "fig.set_size_inches(15,5)\n",
    "\n",
    "ax[0].plot(epochs , train_acc , 'go-' , label = 'Training Accuracy')\n",
    "ax[0].plot(epochs , val_acc , 'ro-' , label = 'Validation Accuracy')\n",
    "title_font = {'fontname':'Times New Roman', 'size':'14', 'color':'black', 'weight':'normal'}\n",
    "ax[0].set_title('Model Accuracy', fontdict=title_font)\n",
    "legend_font = {'family': 'Times New Roman', 'size': '12', 'weight': 'normal'}\n",
    "ax[0].legend(prop=legend_font)\n",
    "label_font = {'fontname':'Times New Roman', 'size':'12', 'color':'black', 'weight':'normal'}\n",
    "ax[0].set_xlabel(\"Epochs\",  fontdict=label_font)\n",
    "ax[0].set_ylabel(\"Accuracy\",  fontdict=label_font)\n",
    "\n",
    "ax[1].plot(epochs , train_loss , 'g-o' , label = 'Training Loss')\n",
    "ax[1].plot(epochs , val_loss , 'r-o' , label = 'Validation Loss')\n",
    "ax[1].set_title('Model Loss', fontdict=title_font)\n",
    "ax[1].legend(prop=legend_font)\n",
    "ax[1].set_xlabel(\"Epochs\", fontdict=label_font)\n",
    "ax[1].set_ylabel(\"Loss\", fontdict=label_font)\n",
    "plt.show()"
   ]
  },
  {
   "cell_type": "code",
   "execution_count": 23,
   "id": "29835b51",
   "metadata": {
    "execution": {
     "iopub.execute_input": "2023-05-23T00:43:29.814232Z",
     "iopub.status.busy": "2023-05-23T00:43:29.813972Z",
     "iopub.status.idle": "2023-05-23T00:43:30.710261Z",
     "shell.execute_reply": "2023-05-23T00:43:30.709304Z"
    },
    "id": "zm_AewFBXTj8",
    "papermill": {
     "duration": 0.928214,
     "end_time": "2023-05-23T00:43:30.712629",
     "exception": false,
     "start_time": "2023-05-23T00:43:29.784415",
     "status": "completed"
    },
    "tags": []
   },
   "outputs": [],
   "source": [
    "from tensorflow.keras import models\n",
    "model_dn201_sa.load_weights(\"DN201_SA.hdf5\")"
   ]
  },
  {
   "cell_type": "code",
   "execution_count": 24,
   "id": "1fb5f057",
   "metadata": {
    "execution": {
     "iopub.execute_input": "2023-05-23T00:43:30.773123Z",
     "iopub.status.busy": "2023-05-23T00:43:30.772829Z",
     "iopub.status.idle": "2023-05-23T00:43:47.096362Z",
     "shell.execute_reply": "2023-05-23T00:43:47.095399Z"
    },
    "papermill": {
     "duration": 16.356413,
     "end_time": "2023-05-23T00:43:47.098537",
     "exception": false,
     "start_time": "2023-05-23T00:43:30.742124",
     "status": "completed"
    },
    "tags": []
   },
   "outputs": [
    {
     "name": "stdout",
     "output_type": "stream",
     "text": [
      "52/52 [==============================] - 16s 249ms/step\n"
     ]
    }
   ],
   "source": [
    "predictions = model_dn201_sa.predict(test_batches)"
   ]
  },
  {
   "cell_type": "code",
   "execution_count": 25,
   "id": "974db2a2",
   "metadata": {
    "execution": {
     "iopub.execute_input": "2023-05-23T00:43:47.166484Z",
     "iopub.status.busy": "2023-05-23T00:43:47.165689Z",
     "iopub.status.idle": "2023-05-23T00:43:47.170857Z",
     "shell.execute_reply": "2023-05-23T00:43:47.169958Z"
    },
    "id": "FDTMtBeTdBfU",
    "papermill": {
     "duration": 0.040615,
     "end_time": "2023-05-23T00:43:47.172888",
     "exception": false,
     "start_time": "2023-05-23T00:43:47.132273",
     "status": "completed"
    },
    "tags": []
   },
   "outputs": [],
   "source": [
    "#geting predictions on test dataset\n",
    "y_pred = np.argmax(predictions, axis=1)\n",
    "#getting the true labels per image \n",
    "y_true = test_batches.classes\n",
    "#getting the predicted labels per image \n",
    "y_prob = predictions"
   ]
  },
  {
   "cell_type": "code",
   "execution_count": 26,
   "id": "9fa57f9e",
   "metadata": {
    "execution": {
     "iopub.execute_input": "2023-05-23T00:43:47.239562Z",
     "iopub.status.busy": "2023-05-23T00:43:47.238639Z",
     "iopub.status.idle": "2023-05-23T00:43:47.255696Z",
     "shell.execute_reply": "2023-05-23T00:43:47.254698Z"
    },
    "papermill": {
     "duration": 0.052128,
     "end_time": "2023-05-23T00:43:47.257640",
     "exception": false,
     "start_time": "2023-05-23T00:43:47.205512",
     "status": "completed"
    },
    "tags": []
   },
   "outputs": [
    {
     "name": "stdout",
     "output_type": "stream",
     "text": [
      "\n",
      "Classification Report:\n",
      "              precision    recall  f1-score   support\n",
      "\n",
      "          AK       0.76      0.73      0.74        22\n",
      "         BCC       0.84      0.78      0.81        27\n",
      "         BKL       0.70      0.73      0.71        66\n",
      "          DF       1.00      0.50      0.67         6\n",
      "         MEL       0.75      0.51      0.61        35\n",
      "          NV       0.96      0.98      0.97       663\n",
      "        VASC       0.90      1.00      0.95         9\n",
      "\n",
      "    accuracy                           0.92       828\n",
      "   macro avg       0.84      0.75      0.78       828\n",
      "weighted avg       0.92      0.92      0.92       828\n",
      "\n"
     ]
    }
   ],
   "source": [
    "classnames = ['AK', 'BCC', 'BKL', 'DF', 'MEL', 'NV', 'VASC']\n",
    "\n",
    "from tensorflow.keras.utils import to_categorical\n",
    "y_test = to_categorical(y_true)\n",
    "\n",
    "report = classification_report(y_true, y_pred, target_names=classnames)\n",
    "\n",
    "print(\"\\nClassification Report:\")\n",
    "print(report)"
   ]
  },
  {
   "cell_type": "code",
   "execution_count": 27,
   "id": "7cd2c03c",
   "metadata": {
    "execution": {
     "iopub.execute_input": "2023-05-23T00:43:47.323933Z",
     "iopub.status.busy": "2023-05-23T00:43:47.323202Z",
     "iopub.status.idle": "2023-05-23T00:43:47.890370Z",
     "shell.execute_reply": "2023-05-23T00:43:47.889365Z"
    },
    "papermill": {
     "duration": 0.602662,
     "end_time": "2023-05-23T00:43:47.892864",
     "exception": false,
     "start_time": "2023-05-23T00:43:47.290202",
     "status": "completed"
    },
    "tags": []
   },
   "outputs": [
    {
     "data": {
      "image/png": "[encoded data removed]",
      "text/plain": [
       "<Figure size 1000x400 with 2 Axes>"
      ]
     },
     "metadata": {},
     "output_type": "display_data"
    }
   ],
   "source": [
    "## Confusion Matrix\n",
    "title_font = {'fontname':'Times New Roman', 'size':'14', 'color':'black', 'weight':'normal'}\n",
    "label_font = {'fontname':'Times New Roman', 'size':'12', 'color':'black', 'weight':'normal'}\n",
    "\n",
    "from sklearn.metrics import confusion_matrix\n",
    "import seaborn as sns\n",
    "# Creating confusion matrix \n",
    "cm = confusion_matrix(y_true, y_pred)\n",
    "# Plotting the confusion matrix\n",
    "plt.figure(figsize=(10,4))\n",
    "sns.heatmap(cm, annot=True, fmt='g', cmap='Blues', xticklabels=targetnames, yticklabels=targetnames)\n",
    "plt.xlabel('Predicted Label', fontdict=label_font)\n",
    "plt.ylabel('True Label', fontdict=label_font)\n",
    "plt.title('Confusion Matrix', fontdict=title_font)\n",
    "plt.show()"
   ]
  },
  {
   "cell_type": "markdown",
   "id": "c5a84485",
   "metadata": {
    "papermill": {
     "duration": 0.032963,
     "end_time": "2023-05-23T00:43:47.959801",
     "exception": false,
     "start_time": "2023-05-23T00:43:47.926838",
     "status": "completed"
    },
    "tags": []
   },
   "source": [
    "## Results"
   ]
  },
  {
   "cell_type": "markdown",
   "id": "f53a4a28",
   "metadata": {
    "papermill": {
     "duration": 0.032549,
     "end_time": "2023-05-23T00:43:48.025052",
     "exception": false,
     "start_time": "2023-05-23T00:43:47.992503",
     "status": "completed"
    },
    "tags": []
   },
   "source": [
    "### Individual Class Accuracy "
   ]
  },
  {
   "cell_type": "code",
   "execution_count": 28,
   "id": "1e341007",
   "metadata": {
    "execution": {
     "iopub.execute_input": "2023-05-23T00:43:48.093299Z",
     "iopub.status.busy": "2023-05-23T00:43:48.092999Z",
     "iopub.status.idle": "2023-05-23T00:43:48.100765Z",
     "shell.execute_reply": "2023-05-23T00:43:48.099801Z"
    },
    "papermill": {
     "duration": 0.043666,
     "end_time": "2023-05-23T00:43:48.102641",
     "exception": false,
     "start_time": "2023-05-23T00:43:48.058975",
     "status": "completed"
    },
    "tags": []
   },
   "outputs": [
    {
     "name": "stdout",
     "output_type": "stream",
     "text": [
      "Overall accuracy: 92.03%\n",
      "Accuracy for each class:\n",
      "Class 0: 72.73%\n",
      "Class 1: 77.78%\n",
      "Class 2: 72.73%\n",
      "Class 3: 50.00%\n",
      "Class 4: 51.43%\n",
      "Class 5: 97.59%\n",
      "Class 6: 100.00%\n"
     ]
    }
   ],
   "source": [
    "# y_true are the true labels of the test set\n",
    "# y_pred are the predicted labels of the test set\n",
    "accuracy = accuracy_score(y_true, y_pred)\n",
    "# Calculate accuracy for each class\n",
    "class_accuracy = cm.diagonal()/cm.sum(axis=1)\n",
    "print(\"Overall accuracy: {:.2f}%\".format(accuracy*100))\n",
    "print(\"Accuracy for each class:\")\n",
    "for i, acc in enumerate(class_accuracy):\n",
    "    print(\"Class {}: {:.2f}%\".format(i, acc*100))"
   ]
  },
  {
   "cell_type": "markdown",
   "id": "327f2acd",
   "metadata": {
    "papermill": {
     "duration": 0.032813,
     "end_time": "2023-05-23T00:43:48.169121",
     "exception": false,
     "start_time": "2023-05-23T00:43:48.136308",
     "status": "completed"
    },
    "tags": []
   },
   "source": [
    "### Individual Class Weighted Precision"
   ]
  },
  {
   "cell_type": "code",
   "execution_count": 29,
   "id": "de840dc9",
   "metadata": {
    "execution": {
     "iopub.execute_input": "2023-05-23T00:43:48.237380Z",
     "iopub.status.busy": "2023-05-23T00:43:48.236791Z",
     "iopub.status.idle": "2023-05-23T00:43:48.252860Z",
     "shell.execute_reply": "2023-05-23T00:43:48.251910Z"
    },
    "papermill": {
     "duration": 0.051866,
     "end_time": "2023-05-23T00:43:48.254828",
     "exception": false,
     "start_time": "2023-05-23T00:43:48.202962",
     "status": "completed"
    },
    "tags": []
   },
   "outputs": [
    {
     "name": "stdout",
     "output_type": "stream",
     "text": [
      "Weighted precision for each class:\n",
      "Class 0: 76.19%\n",
      "Class 1: 84.00%\n",
      "Class 2: 69.57%\n",
      "Class 3: 100.00%\n",
      "Class 4: 75.00%\n",
      "Class 5: 95.71%\n",
      "Class 6: 90.00%\n",
      "Weighted precision: 91.82%\n"
     ]
    }
   ],
   "source": [
    "report = classification_report(y_true, y_pred, output_dict=True)\n",
    "# Extract weighted precision for each class\n",
    "class_precision = {}\n",
    "for class_label in report.keys():\n",
    "    if class_label == 'weighted avg':\n",
    "        class_precision['weighted'] = report[class_label]['precision']\n",
    "    elif class_label.isdigit():\n",
    "        class_precision[int(class_label)] = report[class_label]['precision']\n",
    "print(\"Weighted precision for each class:\")\n",
    "for i, precision in class_precision.items():\n",
    "    if i == 'weighted':\n",
    "        print(\"Weighted precision: {:.2f}%\".format(precision*100))\n",
    "    else:\n",
    "        print(\"Class {}: {:.2f}%\".format(i, precision*100))"
   ]
  },
  {
   "cell_type": "markdown",
   "id": "29a0c3d7",
   "metadata": {
    "papermill": {
     "duration": 0.032705,
     "end_time": "2023-05-23T00:43:48.321538",
     "exception": false,
     "start_time": "2023-05-23T00:43:48.288833",
     "status": "completed"
    },
    "tags": []
   },
   "source": [
    "### Individual Class Weighted Recall"
   ]
  },
  {
   "cell_type": "code",
   "execution_count": 30,
   "id": "5000a181",
   "metadata": {
    "execution": {
     "iopub.execute_input": "2023-05-23T00:43:48.389528Z",
     "iopub.status.busy": "2023-05-23T00:43:48.388732Z",
     "iopub.status.idle": "2023-05-23T00:43:48.403261Z",
     "shell.execute_reply": "2023-05-23T00:43:48.402113Z"
    },
    "papermill": {
     "duration": 0.050607,
     "end_time": "2023-05-23T00:43:48.405181",
     "exception": false,
     "start_time": "2023-05-23T00:43:48.354574",
     "status": "completed"
    },
    "tags": []
   },
   "outputs": [
    {
     "name": "stdout",
     "output_type": "stream",
     "text": [
      "Weighted recall for each class:\n",
      "Class 0: 72.73%\n",
      "Class 1: 77.78%\n",
      "Class 2: 72.73%\n",
      "Class 3: 50.00%\n",
      "Class 4: 51.43%\n",
      "Class 5: 97.59%\n",
      "Class 6: 100.00%\n",
      "Weighted Recall: 92.03%\n"
     ]
    }
   ],
   "source": [
    "report = classification_report(y_true, y_pred, output_dict=True)\n",
    "# Extract weighted recall for each class\n",
    "class_recall = {}\n",
    "for class_label in report.keys():\n",
    "    if class_label == 'weighted avg':\n",
    "        class_recall['weighted'] = report[class_label]['recall']\n",
    "    elif class_label.isdigit():\n",
    "        class_recall[int(class_label)] = report[class_label]['recall']\n",
    "print(\"Weighted recall for each class:\")\n",
    "for i, recall in class_recall.items():\n",
    "    if i == 'weighted':\n",
    "        print(\"Weighted Recall: {:.2f}%\".format(recall*100))\n",
    "    else:\n",
    "        print(\"Class {}: {:.2f}%\".format(i, recall*100))"
   ]
  },
  {
   "cell_type": "markdown",
   "id": "85188822",
   "metadata": {
    "papermill": {
     "duration": 0.033037,
     "end_time": "2023-05-23T00:43:48.472724",
     "exception": false,
     "start_time": "2023-05-23T00:43:48.439687",
     "status": "completed"
    },
    "tags": []
   },
   "source": [
    "### Individual Class Weighted F1-score"
   ]
  },
  {
   "cell_type": "code",
   "execution_count": 31,
   "id": "6c83a368",
   "metadata": {
    "execution": {
     "iopub.execute_input": "2023-05-23T00:43:48.540694Z",
     "iopub.status.busy": "2023-05-23T00:43:48.539743Z",
     "iopub.status.idle": "2023-05-23T00:43:48.554501Z",
     "shell.execute_reply": "2023-05-23T00:43:48.553576Z"
    },
    "papermill": {
     "duration": 0.050894,
     "end_time": "2023-05-23T00:43:48.556524",
     "exception": false,
     "start_time": "2023-05-23T00:43:48.505630",
     "status": "completed"
    },
    "tags": []
   },
   "outputs": [
    {
     "name": "stdout",
     "output_type": "stream",
     "text": [
      "Weighted F1-score for each class:\n",
      "Class 0: 74.42%\n",
      "Class 1: 80.77%\n",
      "Class 2: 71.11%\n",
      "Class 3: 66.67%\n",
      "Class 4: 61.02%\n",
      "Class 5: 96.64%\n",
      "Class 6: 94.74%\n",
      "Weighted F1-score: 91.75%\n"
     ]
    }
   ],
   "source": [
    "report = classification_report(y_true, y_pred, output_dict=True)\n",
    "# Extract weighted F1-score for each class\n",
    "class_f1 = {}\n",
    "for class_label in report.keys():\n",
    "    if class_label == 'weighted avg':\n",
    "        class_f1['weighted'] = report[class_label]['f1-score']\n",
    "    elif class_label.isdigit():\n",
    "        class_f1[int(class_label)] = report[class_label]['f1-score']\n",
    "print(\"Weighted F1-score for each class:\")\n",
    "for i, f1_score in class_f1.items():\n",
    "    if i == 'weighted':\n",
    "        print(\"Weighted F1-score: {:.2f}%\".format(f1_score*100))\n",
    "    else:\n",
    "        print(\"Class {}: {:.2f}%\".format(i, f1_score*100))"
   ]
  },
  {
   "cell_type": "markdown",
   "id": "7e014182",
   "metadata": {
    "papermill": {
     "duration": 0.032845,
     "end_time": "2023-05-23T00:43:48.622867",
     "exception": false,
     "start_time": "2023-05-23T00:43:48.590022",
     "status": "completed"
    },
    "tags": []
   },
   "source": [
    "### Individual Class Precision, Recall and F1-score"
   ]
  },
  {
   "cell_type": "code",
   "execution_count": 32,
   "id": "4ad8692e",
   "metadata": {
    "execution": {
     "iopub.execute_input": "2023-05-23T00:43:48.690599Z",
     "iopub.status.busy": "2023-05-23T00:43:48.689858Z",
     "iopub.status.idle": "2023-05-23T00:43:48.697938Z",
     "shell.execute_reply": "2023-05-23T00:43:48.697002Z"
    },
    "papermill": {
     "duration": 0.043934,
     "end_time": "2023-05-23T00:43:48.699848",
     "exception": false,
     "start_time": "2023-05-23T00:43:48.655914",
     "status": "completed"
    },
    "tags": []
   },
   "outputs": [
    {
     "name": "stdout",
     "output_type": "stream",
     "text": [
      "Class-wise weighted precision, recall, and F1-score:\n",
      "Class 0: Precision=0.76, Recall=0.73, F1-score=0.74\n",
      "Class 1: Precision=0.84, Recall=0.78, F1-score=0.81\n",
      "Class 2: Precision=0.70, Recall=0.73, F1-score=0.71\n",
      "Class 3: Precision=1.00, Recall=0.50, F1-score=0.67\n",
      "Class 4: Precision=0.75, Recall=0.51, F1-score=0.61\n",
      "Class 5: Precision=0.96, Recall=0.98, F1-score=0.97\n",
      "Class 6: Precision=0.90, Recall=1.00, F1-score=0.95\n"
     ]
    }
   ],
   "source": [
    "from sklearn.metrics import precision_recall_fscore_support\n",
    "\n",
    "precision_class, recall_class, f1_class, support_class = precision_recall_fscore_support(y_true, y_pred, average=None)\n",
    "print('Class-wise weighted precision, recall, and F1-score:')\n",
    "for i in range(len(precision_class)):\n",
    "    print('Class {}: Precision={:.2f}, Recall={:.2f}, F1-score={:.2f}'.format(i, precision_class[i], recall_class[i], f1_class[i]))\n"
   ]
  },
  {
   "cell_type": "markdown",
   "id": "414ebb36",
   "metadata": {
    "papermill": {
     "duration": 0.032984,
     "end_time": "2023-05-23T00:43:48.766175",
     "exception": false,
     "start_time": "2023-05-23T00:43:48.733191",
     "status": "completed"
    },
    "tags": []
   },
   "source": [
    "### Individual Class Weighted Sensitivity"
   ]
  },
  {
   "cell_type": "code",
   "execution_count": 33,
   "id": "bf59ce1f",
   "metadata": {
    "execution": {
     "iopub.execute_input": "2023-05-23T00:43:48.834148Z",
     "iopub.status.busy": "2023-05-23T00:43:48.833403Z",
     "iopub.status.idle": "2023-05-23T00:43:49.288378Z",
     "shell.execute_reply": "2023-05-23T00:43:49.287147Z"
    },
    "papermill": {
     "duration": 0.491348,
     "end_time": "2023-05-23T00:43:49.290772",
     "exception": false,
     "start_time": "2023-05-23T00:43:48.799424",
     "status": "completed"
    },
    "tags": []
   },
   "outputs": [
    {
     "name": "stdout",
     "output_type": "stream",
     "text": [
      "Weighted Sensitivity:  0.9202898550724637\n",
      "Class  0 :sensitivity = 0.7272727272727273\n",
      "Class  1 :sensitivity = 0.7777777777777778\n",
      "Class  2 :sensitivity = 0.7272727272727273\n",
      "Class  3 :sensitivity = 0.5\n",
      "Class  4 :sensitivity = 0.5142857142857142\n",
      "Class  5 :sensitivity = 0.975867269984917\n",
      "Class  6 :sensitivity = 1.0\n"
     ]
    }
   ],
   "source": [
    "from imblearn.metrics import sensitivity_score\n",
    "\n",
    "sensitivity = sensitivity_score(y_true, y_pred, average='weighted')\n",
    "print(\"Weighted Sensitivity: \", sensitivity)\n",
    "\n",
    "# Calculate class-wise sensitivity\n",
    "sensitivity = sensitivity_score(y_true, y_pred, average=None)\n",
    "\n",
    "# Print sensitivity score for each class\n",
    "for i in range(len(sensitivity)):\n",
    "    print(\"Class \", i, \":sensitivity =\", sensitivity[i])"
   ]
  },
  {
   "cell_type": "markdown",
   "id": "d0912664",
   "metadata": {
    "papermill": {
     "duration": 0.033401,
     "end_time": "2023-05-23T00:43:49.359908",
     "exception": false,
     "start_time": "2023-05-23T00:43:49.326507",
     "status": "completed"
    },
    "tags": []
   },
   "source": [
    "### Individual Class Weighted Specificity"
   ]
  },
  {
   "cell_type": "code",
   "execution_count": 34,
   "id": "4c24a616",
   "metadata": {
    "execution": {
     "iopub.execute_input": "2023-05-23T00:43:49.428370Z",
     "iopub.status.busy": "2023-05-23T00:43:49.427433Z",
     "iopub.status.idle": "2023-05-23T00:43:49.438032Z",
     "shell.execute_reply": "2023-05-23T00:43:49.436721Z"
    },
    "papermill": {
     "duration": 0.046956,
     "end_time": "2023-05-23T00:43:49.440104",
     "exception": false,
     "start_time": "2023-05-23T00:43:49.393148",
     "status": "completed"
    },
    "tags": []
   },
   "outputs": [
    {
     "name": "stdout",
     "output_type": "stream",
     "text": [
      "Weighted Specificity:  0.8564090767951773\n",
      "Class  0 :specificity= 0.9937965260545906\n",
      "Class  1 :specificity= 0.9950062421972534\n",
      "Class  2 :specificity= 0.9724409448818898\n",
      "Class  3 :specificity= 1.0\n",
      "Class  4 :specificity= 0.9924337957124842\n",
      "Class  5 :specificity= 0.8242424242424242\n",
      "Class  6 :specificity= 0.9987789987789988\n"
     ]
    }
   ],
   "source": [
    "from imblearn.metrics import specificity_score\n",
    "\n",
    "specificity = specificity_score(y_true, y_pred, average='weighted')\n",
    "print(\"Weighted Specificity: \", specificity)\n",
    "\n",
    "# Calculate class-wise specificity\n",
    "specificity = specificity_score(y_true, y_pred, average=None)\n",
    "\n",
    "# Print sensitivity score for each class\n",
    "for i in range(len(specificity)):\n",
    "    print(\"Class \", i, \":specificity=\", specificity[i])"
   ]
  },
  {
   "cell_type": "markdown",
   "id": "d8df0993",
   "metadata": {
    "papermill": {
     "duration": 0.033444,
     "end_time": "2023-05-23T00:43:49.508837",
     "exception": false,
     "start_time": "2023-05-23T00:43:49.475393",
     "status": "completed"
    },
    "tags": []
   },
   "source": [
    "### Accuracy"
   ]
  },
  {
   "cell_type": "code",
   "execution_count": 35,
   "id": "896224e4",
   "metadata": {
    "execution": {
     "iopub.execute_input": "2023-05-23T00:43:49.577393Z",
     "iopub.status.busy": "2023-05-23T00:43:49.576662Z",
     "iopub.status.idle": "2023-05-23T00:43:49.582795Z",
     "shell.execute_reply": "2023-05-23T00:43:49.581724Z"
    },
    "papermill": {
     "duration": 0.042394,
     "end_time": "2023-05-23T00:43:49.584656",
     "exception": false,
     "start_time": "2023-05-23T00:43:49.542262",
     "status": "completed"
    },
    "tags": []
   },
   "outputs": [
    {
     "name": "stdout",
     "output_type": "stream",
     "text": [
      "Accuracy: 0.9202898550724637\n"
     ]
    }
   ],
   "source": [
    "print(\"Accuracy: \" + str(accuracy_score(y_true, y_pred)))\n",
    "import numpy as np\n",
    "from sklearn.metrics import accuracy_score"
   ]
  },
  {
   "cell_type": "code",
   "execution_count": 36,
   "id": "11906b32",
   "metadata": {
    "execution": {
     "iopub.execute_input": "2023-05-23T00:43:49.653724Z",
     "iopub.status.busy": "2023-05-23T00:43:49.653169Z",
     "iopub.status.idle": "2023-05-23T00:43:49.671550Z",
     "shell.execute_reply": "2023-05-23T00:43:49.670483Z"
    },
    "papermill": {
     "duration": 0.054547,
     "end_time": "2023-05-23T00:43:49.673411",
     "exception": false,
     "start_time": "2023-05-23T00:43:49.618864",
     "status": "completed"
    },
    "tags": []
   },
   "outputs": [
    {
     "name": "stdout",
     "output_type": "stream",
     "text": [
      "Top-1 Accuracy: 0.9202898550724637\n",
      "Top-2 Accuracy: 0.9794685990338164\n",
      "Top-3 Accuracy: 0.9903381642512077\n"
     ]
    }
   ],
   "source": [
    "# Calculate top-1 accuracy\n",
    "top1_acc = accuracy_score(y_true, y_pred)\n",
    "print(\"Top-1 Accuracy:\", top1_acc)\n",
    "\n",
    "# Calculate top-2 accuracy\n",
    "y_pred_top2 = np.argsort(-predictions, axis=1)[:, :2] # Get the top 2 predicted classes\n",
    "top2_acc = np.mean(np.array([y_true[i] in y_pred_top2[i] for i in range(len(y_true))]))\n",
    "print(\"Top-2 Accuracy:\", top2_acc)\n",
    "\n",
    "# Calculate top-3 accuracy\n",
    "y_pred_top3 = np.argsort(-predictions, axis=1)[:, :3] # Get the top 3 predicted classes\n",
    "top3_acc = np.mean(np.array([y_true[i] in y_pred_top3[i] for i in range(len(y_true))]))\n",
    "print(\"Top-3 Accuracy:\", top3_acc)\n",
    "from sklearn.metrics import f1_score"
   ]
  },
  {
   "cell_type": "markdown",
   "id": "49684fe3",
   "metadata": {
    "papermill": {
     "duration": 0.033176,
     "end_time": "2023-05-23T00:43:49.740626",
     "exception": false,
     "start_time": "2023-05-23T00:43:49.707450",
     "status": "completed"
    },
    "tags": []
   },
   "source": [
    "### Weighted Evaluation Measures"
   ]
  },
  {
   "cell_type": "code",
   "execution_count": 37,
   "id": "f24a7574",
   "metadata": {
    "execution": {
     "iopub.execute_input": "2023-05-23T00:43:49.810686Z",
     "iopub.status.busy": "2023-05-23T00:43:49.809276Z",
     "iopub.status.idle": "2023-05-23T00:43:49.835776Z",
     "shell.execute_reply": "2023-05-23T00:43:49.834494Z"
    },
    "papermill": {
     "duration": 0.063052,
     "end_time": "2023-05-23T00:43:49.837864",
     "exception": false,
     "start_time": "2023-05-23T00:43:49.774812",
     "status": "completed"
    },
    "tags": []
   },
   "outputs": [
    {
     "name": "stdout",
     "output_type": "stream",
     "text": [
      "Weighted Precision: 0.9181915948645627\n",
      "Weighted Recall: 0.9202898550724637\n",
      "Weighted F1-Score: 0.9175287599747423\n",
      "Weighted Sensitivity: 0.9202898550724637\n",
      "Weighted Specificity: 0.8564090767951773\n",
      "weighted Roc score: 0.9732790208294435\n"
     ]
    }
   ],
   "source": [
    "print(\"Weighted Precision: \"+ str(precision_score(y_true, y_pred, average='weighted')))\n",
    "print(\"Weighted Recall: \"+ str(recall_score(y_true, y_pred, average='weighted')))\n",
    "print(\"Weighted F1-Score: \"+ str(f1_score(y_true, y_pred, average='weighted')))\n",
    "print(\"Weighted Sensitivity: \"+ str(sensitivity_score(y_true, y_pred, average='weighted')))\n",
    "print(\"Weighted Specificity: \"+ str(specificity_score(y_true, y_pred, average='weighted')))\n",
    "print(\"weighted Roc score: \" + str(roc_auc_score(y_true,y_prob,multi_class='ovr',average='weighted')))"
   ]
  },
  {
   "cell_type": "markdown",
   "id": "bbc9289b",
   "metadata": {
    "papermill": {
     "duration": 0.034032,
     "end_time": "2023-05-23T00:43:49.905813",
     "exception": false,
     "start_time": "2023-05-23T00:43:49.871781",
     "status": "completed"
    },
    "tags": []
   },
   "source": [
    "### Macro Evaluation Measures"
   ]
  },
  {
   "cell_type": "code",
   "execution_count": 38,
   "id": "4b055b76",
   "metadata": {
    "execution": {
     "iopub.execute_input": "2023-05-23T00:43:49.975756Z",
     "iopub.status.busy": "2023-05-23T00:43:49.974863Z",
     "iopub.status.idle": "2023-05-23T00:43:49.997163Z",
     "shell.execute_reply": "2023-05-23T00:43:49.995747Z"
    },
    "papermill": {
     "duration": 0.059644,
     "end_time": "2023-05-23T00:43:49.999247",
     "exception": false,
     "start_time": "2023-05-23T00:43:49.939603",
     "status": "completed"
    },
    "tags": []
   },
   "outputs": [
    {
     "name": "stdout",
     "output_type": "stream",
     "text": [
      "Macro Precision: 0.8435225039333974\n",
      "Macro Recall: 0.7460680309419806\n",
      "Macro F1-Score: 0.7790838392900384\n",
      "Macro Sensitivity: 0.7460680309419806\n",
      "Macro Specificity: 0.968099847409663\n",
      "Macro Roc score: 0.9752314078951085\n"
     ]
    }
   ],
   "source": [
    "print(\"Macro Precision: \"+ str(precision_score(y_true, y_pred, average='macro')))\n",
    "print(\"Macro Recall: \"+ str(recall_score(y_true, y_pred, average='macro')))\n",
    "print(\"Macro F1-Score: \"+ str(f1_score(y_true, y_pred, average='macro')))\n",
    "print(\"Macro Sensitivity: \"+ str(sensitivity_score(y_true, y_pred, average='macro')))\n",
    "print(\"Macro Specificity: \"+ str(specificity_score(y_true, y_pred, average='macro')))\n",
    "print(\"Macro Roc score: \" + str(roc_auc_score(y_true,y_prob,multi_class='ovr',average='macro')))"
   ]
  },
  {
   "cell_type": "markdown",
   "id": "13e1757b",
   "metadata": {
    "papermill": {
     "duration": 0.033767,
     "end_time": "2023-05-23T00:43:50.067564",
     "exception": false,
     "start_time": "2023-05-23T00:43:50.033797",
     "status": "completed"
    },
    "tags": []
   },
   "source": [
    "### Micro Evaluation Measures"
   ]
  },
  {
   "cell_type": "code",
   "execution_count": 39,
   "id": "1b873459",
   "metadata": {
    "execution": {
     "iopub.execute_input": "2023-05-23T00:43:50.136888Z",
     "iopub.status.busy": "2023-05-23T00:43:50.136613Z",
     "iopub.status.idle": "2023-05-23T00:43:50.151607Z",
     "shell.execute_reply": "2023-05-23T00:43:50.150797Z"
    },
    "papermill": {
     "duration": 0.052202,
     "end_time": "2023-05-23T00:43:50.153600",
     "exception": false,
     "start_time": "2023-05-23T00:43:50.101398",
     "status": "completed"
    },
    "tags": []
   },
   "outputs": [
    {
     "name": "stdout",
     "output_type": "stream",
     "text": [
      "Micro Precision: 0.9202898550724637\n",
      "Micro Recall: 0.9202898550724637\n",
      "Micro F1-Score: 0.9202898550724637\n",
      "Micro Sensitivity: 0.9202898550724637\n",
      "Micro Specificity: 0.9867149758454107\n"
     ]
    }
   ],
   "source": [
    "print(\"Micro Precision: \"+ str(precision_score(y_true, y_pred, average='micro')))\n",
    "print(\"Micro Recall: \"+ str(recall_score(y_true, y_pred, average='micro')))\n",
    "print(\"Micro F1-Score: \"+ str(f1_score(y_true, y_pred, average='micro')))\n",
    "print(\"Micro Sensitivity: \"+ str(sensitivity_score(y_true, y_pred, average='micro')))\n",
    "print(\"Micro Specificity: \"+ str(specificity_score(y_true, y_pred, average='micro')))"
   ]
  },
  {
   "cell_type": "markdown",
   "id": "bd2f2557",
   "metadata": {
    "papermill": {
     "duration": 0.033623,
     "end_time": "2023-05-23T00:43:50.220915",
     "exception": false,
     "start_time": "2023-05-23T00:43:50.187292",
     "status": "completed"
    },
    "tags": []
   },
   "source": [
    "## ROC"
   ]
  },
  {
   "cell_type": "markdown",
   "id": "0a657933",
   "metadata": {
    "papermill": {
     "duration": 0.033511,
     "end_time": "2023-05-23T00:43:50.288099",
     "exception": false,
     "start_time": "2023-05-23T00:43:50.254588",
     "status": "completed"
    },
    "tags": []
   },
   "source": [
    "### Compute ROC curve and ROC area for each class"
   ]
  },
  {
   "cell_type": "code",
   "execution_count": 40,
   "id": "fdc6a7a1",
   "metadata": {
    "execution": {
     "iopub.execute_input": "2023-05-23T00:43:50.356835Z",
     "iopub.status.busy": "2023-05-23T00:43:50.356560Z",
     "iopub.status.idle": "2023-05-23T00:43:50.666233Z",
     "shell.execute_reply": "2023-05-23T00:43:50.665315Z"
    },
    "papermill": {
     "duration": 0.346763,
     "end_time": "2023-05-23T00:43:50.668520",
     "exception": false,
     "start_time": "2023-05-23T00:43:50.321757",
     "status": "completed"
    },
    "tags": []
   },
   "outputs": [
    {
     "data": {
      "image/png": "[encoded data removed]",
      "text/plain": [
       "<Figure size 640x480 with 1 Axes>"
      ]
     },
     "metadata": {},
     "output_type": "display_data"
    }
   ],
   "source": [
    "fpr = {}\n",
    "tpr = {}\n",
    "roc_auc = dict()\n",
    "for i in range(num_classes):\n",
    "    fpr[i], tpr[i], _ = roc_curve(y_test[:, i], y_prob[:, i], drop_intermediate=False)\n",
    "    roc_auc[i] = auc(fpr[i], tpr[i])\n",
    "\n",
    "\n",
    "# plot the ROC curve for each class\n",
    "for i in range(7):\n",
    "    plt.plot(fpr[i], tpr[i], label='Class {}: AUC={:.3f}'.format(i, roc_auc[i]))\n",
    "\n",
    "plt.xlabel('False Positive Rate')\n",
    "plt.ylabel('True Positive Rate')\n",
    "plt.legend()\n",
    "plt.show()"
   ]
  },
  {
   "cell_type": "markdown",
   "id": "c6725cd2",
   "metadata": {
    "papermill": {
     "duration": 0.034452,
     "end_time": "2023-05-23T00:43:50.738238",
     "exception": false,
     "start_time": "2023-05-23T00:43:50.703786",
     "status": "completed"
    },
    "tags": []
   },
   "source": [
    "## MCC and Kappa Score"
   ]
  },
  {
   "cell_type": "code",
   "execution_count": 41,
   "id": "1e9d7525",
   "metadata": {
    "execution": {
     "iopub.execute_input": "2023-05-23T00:43:50.809156Z",
     "iopub.status.busy": "2023-05-23T00:43:50.808299Z",
     "iopub.status.idle": "2023-05-23T00:43:50.818054Z",
     "shell.execute_reply": "2023-05-23T00:43:50.816873Z"
    },
    "papermill": {
     "duration": 0.047579,
     "end_time": "2023-05-23T00:43:50.820384",
     "exception": false,
     "start_time": "2023-05-23T00:43:50.772805",
     "status": "completed"
    },
    "tags": []
   },
   "outputs": [
    {
     "name": "stdout",
     "output_type": "stream",
     "text": [
      "MCC: 76.42%\n",
      "Kappa Score: 76.32%\n"
     ]
    }
   ],
   "source": [
    "from sklearn.metrics import matthews_corrcoef, cohen_kappa_score\n",
    "\n",
    "# y_true are the true labels of the test set\n",
    "# y_pred are the predicted labels of the test set\n",
    "mcc = matthews_corrcoef(y_true, y_pred)\n",
    "kappa = cohen_kappa_score(y_true, y_pred)\n",
    "print(\"MCC: {:.2f}%\".format(mcc*100))\n",
    "print(\"Kappa Score: {:.2f}%\".format(kappa*100))"
   ]
  },
  {
   "cell_type": "code",
   "execution_count": 42,
   "id": "3a2657b9",
   "metadata": {
    "execution": {
     "iopub.execute_input": "2023-05-23T00:43:50.891845Z",
     "iopub.status.busy": "2023-05-23T00:43:50.891572Z",
     "iopub.status.idle": "2023-05-23T00:43:50.961879Z",
     "shell.execute_reply": "2023-05-23T00:43:50.960922Z"
    },
    "papermill": {
     "duration": 0.10772,
     "end_time": "2023-05-23T00:43:50.963780",
     "exception": false,
     "start_time": "2023-05-23T00:43:50.856060",
     "status": "completed"
    },
    "tags": []
   },
   "outputs": [
    {
     "name": "stdout",
     "output_type": "stream",
     "text": [
      "MCC per class:\n",
      "Class 0: 73.76%\n",
      "Class 1: 80.21%\n",
      "Class 2: 68.57%\n",
      "Class 3: 70.58%\n",
      "Class 4: 60.77%\n",
      "Class 5: 82.56%\n",
      "Class 6: 94.81%\n",
      "Kappa Score per class:\n",
      "Class 0: 73.74%\n",
      "Class 1: 80.15%\n",
      "Class 2: 68.55%\n",
      "Class 3: 66.50%\n",
      "Class 4: 59.63%\n",
      "Class 5: 82.45%\n",
      "Class 6: 94.68%\n"
     ]
    }
   ],
   "source": [
    "### Individual Class Wise MCC and Kappa\n",
    "\n",
    "from sklearn.metrics import confusion_matrix, matthews_corrcoef, cohen_kappa_score\n",
    "# y_true are the true labels of the test set\n",
    "# y_pred are the predicted labels of the test set\n",
    "conf_mat = confusion_matrix(y_true, y_pred)\n",
    "mcc_per_class = {}\n",
    "kappa_per_class = {}\n",
    "\n",
    "for i in range(len(conf_mat)):\n",
    "    tp = conf_mat[i][i]\n",
    "    fp = sum(conf_mat[:, i]) - tp\n",
    "    fn = sum(conf_mat[i, :]) - tp\n",
    "    tn = sum(sum(conf_mat)) - tp - fp - fn\n",
    "\n",
    "    mcc_per_class[i] = matthews_corrcoef([1 if x==i else 0 for x in y_true], [1 if x==i else 0 for x in y_pred])\n",
    "    kappa_per_class[i] = cohen_kappa_score([1 if x==i else 0 for x in y_true], [1 if x==i else 0 for x in y_pred])\n",
    "\n",
    "print(\"MCC per class:\")\n",
    "for i, mcc in mcc_per_class.items():\n",
    "    print(\"Class {}: {:.2f}%\".format(i, mcc*100))\n",
    "\n",
    "print(\"Kappa Score per class:\")\n",
    "for i, kappa in kappa_per_class.items():\n",
    "    print(\"Class {}: {:.2f}%\".format(i, kappa*100))"
   ]
  },
  {
   "cell_type": "code",
   "execution_count": null,
   "id": "55d2e9b3",
   "metadata": {
    "papermill": {
     "duration": 0.035339,
     "end_time": "2023-05-23T00:43:51.035525",
     "exception": false,
     "start_time": "2023-05-23T00:43:51.000186",
     "status": "completed"
    },
    "tags": []
   },
   "outputs": [],
   "source": []
  }
 ],
 "metadata": {
  "kernelspec": {
   "display_name": "Python 3",
   "language": "python",
   "name": "python3"
  },
  "language_info": {
   "codemirror_mode": {
    "name": "ipython",
    "version": 3
   },
   "file_extension": ".py",
   "mimetype": "text/x-python",
   "name": "python",
   "nbconvert_exporter": "python",
   "pygments_lexer": "ipython3",
   "version": "3.10.10"
  },
  "papermill": {
   "default_parameters": {},
   "duration": 31620.691349,
   "end_time": "2023-05-23T00:43:54.137657",
   "environment_variables": {},
   "exception": null,
   "input_path": "__notebook__.ipynb",
   "output_path": "__notebook__.ipynb",
   "parameters": {},
   "start_time": "2023-05-22T15:56:53.446308",
   "version": "2.4.0"
  }
 },
 "nbformat": 4,
 "nbformat_minor": 5
}
