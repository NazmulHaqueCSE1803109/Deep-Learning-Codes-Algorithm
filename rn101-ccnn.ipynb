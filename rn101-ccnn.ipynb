{
 "cells": [
  {
   "cell_type": "markdown",
   "id": "8b767878",
   "metadata": {
    "papermill": {
     "duration": 0.014507,
     "end_time": "2023-05-21T12:14:57.825868",
     "exception": false,
     "start_time": "2023-05-21T12:14:57.811361",
     "status": "completed"
    },
    "tags": []
   },
   "source": [
    "# Libraries"
   ]
  },
  {
   "cell_type": "code",
   "execution_count": 1,
   "id": "9b1100ff",
   "metadata": {
    "execution": {
     "iopub.execute_input": "2023-05-21T12:14:57.855634Z",
     "iopub.status.busy": "2023-05-21T12:14:57.854607Z",
     "iopub.status.idle": "2023-05-21T12:15:05.735808Z",
     "shell.execute_reply": "2023-05-21T12:15:05.734807Z"
    },
    "id": "Aa36bMKLze3z",
    "papermill": {
     "duration": 7.898962,
     "end_time": "2023-05-21T12:15:05.738489",
     "exception": false,
     "start_time": "2023-05-21T12:14:57.839527",
     "status": "completed"
    },
    "tags": []
   },
   "outputs": [
    {
     "name": "stderr",
     "output_type": "stream",
     "text": [
      "/opt/conda/lib/python3.10/site-packages/scipy/__init__.py:146: UserWarning: A NumPy version >=1.16.5 and <1.23.0 is required for this version of SciPy (detected version 1.23.5\n",
      "  warnings.warn(f\"A NumPy version >={np_minversion} and <{np_maxversion}\"\n"
     ]
    }
   ],
   "source": [
    "import pandas as pd\n",
    "import numpy as np\n",
    "import os\n",
    "import tensorflow as tf\n",
    "import cv2\n",
    "from keras import backend as K\n",
    "from keras.layers import Layer, InputSpec\n",
    "import keras.layers as kl\n",
    "from glob import glob\n",
    "from sklearn.metrics import roc_curve, auc\n",
    "from keras.preprocessing import image\n",
    "from tensorflow.keras.models import Sequential\n",
    "from sklearn.metrics import roc_auc_score\n",
    "from tensorflow.keras import callbacks \n",
    "from tensorflow.keras.callbacks import ModelCheckpoint, EarlyStopping\n",
    "from  matplotlib import pyplot as plt\n",
    "from tensorflow.keras import Model\n",
    "from tensorflow.keras.layers import concatenate, Dense, Conv2D, MaxPooling2D, Flatten, Input, Activation, add, AveragePooling2D, BatchNormalization, Dropout\n",
    "%matplotlib inline\n",
    "import shutil\n",
    "from sklearn.metrics import  precision_score, recall_score, accuracy_score, classification_report, confusion_matrix\n",
    "from tensorflow.python.platform import build_info as tf_build_info\n",
    "from tensorflow.keras.preprocessing.image import ImageDataGenerator\n",
    "from sklearn.model_selection import train_test_split\n",
    "\n",
    "from PIL import ImageFile\n",
    "ImageFile.LOAD_TRUNCATED_IMAGES = True"
   ]
  },
  {
   "cell_type": "code",
   "execution_count": 2,
   "id": "1572cda3",
   "metadata": {
    "execution": {
     "iopub.execute_input": "2023-05-21T12:15:05.768741Z",
     "iopub.status.busy": "2023-05-21T12:15:05.767495Z",
     "iopub.status.idle": "2023-05-21T12:15:05.772372Z",
     "shell.execute_reply": "2023-05-21T12:15:05.771557Z"
    },
    "id": "PsoqCvNsgmHP",
    "papermill": {
     "duration": 0.021588,
     "end_time": "2023-05-21T12:15:05.774349",
     "exception": false,
     "start_time": "2023-05-21T12:15:05.752761",
     "status": "completed"
    },
    "tags": []
   },
   "outputs": [],
   "source": [
    "targetnames = ['akiec', 'bcc', 'bkl', 'df', 'mel', 'nv', 'vasc']\n",
    "batch_size = 16\n",
    "image_size = 224"
   ]
  },
  {
   "cell_type": "code",
   "execution_count": 3,
   "id": "4ab8abd1",
   "metadata": {
    "execution": {
     "iopub.execute_input": "2023-05-21T12:15:05.803114Z",
     "iopub.status.busy": "2023-05-21T12:15:05.802266Z",
     "iopub.status.idle": "2023-05-21T12:15:05.806821Z",
     "shell.execute_reply": "2023-05-21T12:15:05.806062Z"
    },
    "id": "wNisha_gM3_Z",
    "papermill": {
     "duration": 0.020896,
     "end_time": "2023-05-21T12:15:05.808755",
     "exception": false,
     "start_time": "2023-05-21T12:15:05.787859",
     "status": "completed"
    },
    "tags": []
   },
   "outputs": [],
   "source": [
    "train_path = '/kaggle/input/splitted-and-augmented-ham-15/Splitted_And_Augmented_HAM_15/HAM10K/train_dir'\n",
    "test_path = '/kaggle/input/splitted-and-augmented-ham-15/Splitted_And_Augmented_HAM_15/HAM10K/test_dir'\n",
    "val_path = '/kaggle/input/splitted-and-augmented-ham-15/Splitted_And_Augmented_HAM_15/HAM10K/val_dir'"
   ]
  },
  {
   "cell_type": "markdown",
   "id": "8ae305ea",
   "metadata": {
    "papermill": {
     "duration": 0.013518,
     "end_time": "2023-05-21T12:15:05.835932",
     "exception": false,
     "start_time": "2023-05-21T12:15:05.822414",
     "status": "completed"
    },
    "tags": []
   },
   "source": [
    "# Dataset generation (Train, Test, Validation)"
   ]
  },
  {
   "cell_type": "code",
   "execution_count": 4,
   "id": "8fd11e39",
   "metadata": {
    "execution": {
     "iopub.execute_input": "2023-05-21T12:15:05.865531Z",
     "iopub.status.busy": "2023-05-21T12:15:05.865074Z",
     "iopub.status.idle": "2023-05-21T12:15:05.869673Z",
     "shell.execute_reply": "2023-05-21T12:15:05.868702Z"
    },
    "id": "zhQWqdRN79B3",
    "papermill": {
     "duration": 0.021801,
     "end_time": "2023-05-21T12:15:05.871762",
     "exception": false,
     "start_time": "2023-05-21T12:15:05.849961",
     "status": "completed"
    },
    "tags": []
   },
   "outputs": [],
   "source": [
    "datagen = ImageDataGenerator(preprocessing_function=tf.keras.applications.resnet.preprocess_input)"
   ]
  },
  {
   "cell_type": "code",
   "execution_count": 5,
   "id": "d2c4f471",
   "metadata": {
    "execution": {
     "iopub.execute_input": "2023-05-21T12:15:05.902173Z",
     "iopub.status.busy": "2023-05-21T12:15:05.901336Z",
     "iopub.status.idle": "2023-05-21T12:16:00.421783Z",
     "shell.execute_reply": "2023-05-21T12:16:00.420874Z"
    },
    "id": "w9_8FvOO7Rtu",
    "outputId": "7ca88c24-fda8-45d6-cb32-f3a43ae6ba5b",
    "papermill": {
     "duration": 54.538307,
     "end_time": "2023-05-21T12:16:00.424274",
     "exception": false,
     "start_time": "2023-05-21T12:15:05.885967",
     "status": "completed"
    },
    "tags": []
   },
   "outputs": [
    {
     "name": "stdout",
     "output_type": "stream",
     "text": [
      "\n",
      "Train Batches: \n",
      "Found 54782 images belonging to 7 classes.\n",
      "\n",
      "Test Batches: \n",
      "Found 828 images belonging to 7 classes.\n",
      "\n",
      "Val Batches: \n",
      "Found 827 images belonging to 7 classes.\n"
     ]
    }
   ],
   "source": [
    "print(\"\\nTrain Batches: \")\n",
    "train_batches = datagen.flow_from_directory(directory=train_path,\n",
    "                                            target_size=(image_size,image_size),\n",
    "                                            batch_size=batch_size,\n",
    "                                            shuffle=True)\n",
    "\n",
    "print(\"\\nTest Batches: \")\n",
    "test_batches = datagen.flow_from_directory(test_path,\n",
    "                                          target_size=(image_size,image_size),\n",
    "                                          batch_size=batch_size,\n",
    "                                          shuffle=False)\n",
    "print(\"\\nVal Batches: \")\n",
    "val_batches = datagen.flow_from_directory(val_path,\n",
    "                                         target_size=(image_size,image_size),\n",
    "                                         batch_size=batch_size,\n",
    "                                         shuffle=False)"
   ]
  },
  {
   "cell_type": "markdown",
   "id": "f20865b0",
   "metadata": {
    "papermill": {
     "duration": 0.01507,
     "end_time": "2023-05-21T12:16:00.455953",
     "exception": false,
     "start_time": "2023-05-21T12:16:00.440883",
     "status": "completed"
    },
    "tags": []
   },
   "source": [
    "# Main Model Creation"
   ]
  },
  {
   "cell_type": "code",
   "execution_count": 6,
   "id": "177b742d",
   "metadata": {
    "execution": {
     "iopub.execute_input": "2023-05-21T12:16:00.489500Z",
     "iopub.status.busy": "2023-05-21T12:16:00.488461Z",
     "iopub.status.idle": "2023-05-21T12:16:07.743019Z",
     "shell.execute_reply": "2023-05-21T12:16:07.741942Z"
    },
    "id": "zhQWqdRN79B3",
    "papermill": {
     "duration": 7.273538,
     "end_time": "2023-05-21T12:16:07.745591",
     "exception": false,
     "start_time": "2023-05-21T12:16:00.472053",
     "status": "completed"
    },
    "tags": []
   },
   "outputs": [
    {
     "name": "stdout",
     "output_type": "stream",
     "text": [
      "Downloading data from https://storage.googleapis.com/tensorflow/keras-applications/resnet/resnet101_weights_tf_dim_ordering_tf_kernels_notop.h5\n",
      "171446536/171446536 [==============================] - 1s 0us/step\n"
     ]
    }
   ],
   "source": [
    "from tensorflow.keras.applications.resnet import ResNet101\n",
    "\n",
    "RN101 = ResNet101(weights='imagenet', include_top=False, input_shape=(image_size, image_size, 3), pooling='avg')"
   ]
  },
  {
   "cell_type": "markdown",
   "id": "ffb56cb0",
   "metadata": {
    "papermill": {
     "duration": 0.016844,
     "end_time": "2023-05-21T12:16:07.780137",
     "exception": false,
     "start_time": "2023-05-21T12:16:07.763293",
     "status": "completed"
    },
    "tags": []
   },
   "source": [
    "## Fine tuning"
   ]
  },
  {
   "cell_type": "code",
   "execution_count": 7,
   "id": "c5501401",
   "metadata": {
    "execution": {
     "iopub.execute_input": "2023-05-21T12:16:07.814754Z",
     "iopub.status.busy": "2023-05-21T12:16:07.814406Z",
     "iopub.status.idle": "2023-05-21T12:16:07.820627Z",
     "shell.execute_reply": "2023-05-21T12:16:07.819629Z"
    },
    "id": "4d4Ta5LcSYaz",
    "papermill": {
     "duration": 0.026423,
     "end_time": "2023-05-21T12:16:07.823212",
     "exception": false,
     "start_time": "2023-05-21T12:16:07.796789",
     "status": "completed"
    },
    "tags": []
   },
   "outputs": [],
   "source": [
    "MainInput=Input(shape=(image_size, image_size, 3))"
   ]
  },
  {
   "cell_type": "code",
   "execution_count": 8,
   "id": "50c1e018",
   "metadata": {
    "execution": {
     "iopub.execute_input": "2023-05-21T12:16:07.857422Z",
     "iopub.status.busy": "2023-05-21T12:16:07.857126Z",
     "iopub.status.idle": "2023-05-21T12:16:08.732975Z",
     "shell.execute_reply": "2023-05-21T12:16:08.732061Z"
    },
    "papermill": {
     "duration": 0.895489,
     "end_time": "2023-05-21T12:16:08.735284",
     "exception": false,
     "start_time": "2023-05-21T12:16:07.839795",
     "status": "completed"
    },
    "tags": []
   },
   "outputs": [],
   "source": [
    "resnet = RN101(MainInput)"
   ]
  },
  {
   "cell_type": "code",
   "execution_count": 9,
   "id": "04ae1d54",
   "metadata": {
    "execution": {
     "iopub.execute_input": "2023-05-21T12:16:08.769939Z",
     "iopub.status.busy": "2023-05-21T12:16:08.769625Z",
     "iopub.status.idle": "2023-05-21T12:16:08.784892Z",
     "shell.execute_reply": "2023-05-21T12:16:08.784069Z"
    },
    "papermill": {
     "duration": 0.034984,
     "end_time": "2023-05-21T12:16:08.787174",
     "exception": false,
     "start_time": "2023-05-21T12:16:08.752190",
     "status": "completed"
    },
    "tags": []
   },
   "outputs": [],
   "source": [
    "# Reshape the tensor to have 4 dimensions\n",
    "from tensorflow.keras.layers import Reshape\n",
    "reshape = Reshape((16, 16, 8))(resnet)"
   ]
  },
  {
   "cell_type": "code",
   "execution_count": 10,
   "id": "e8575719",
   "metadata": {
    "execution": {
     "iopub.execute_input": "2023-05-21T12:16:08.821453Z",
     "iopub.status.busy": "2023-05-21T12:16:08.821135Z",
     "iopub.status.idle": "2023-05-21T12:16:08.912114Z",
     "shell.execute_reply": "2023-05-21T12:16:08.911201Z"
    },
    "id": "x8mS99J5SYbT",
    "papermill": {
     "duration": 0.110415,
     "end_time": "2023-05-21T12:16:08.914342",
     "exception": false,
     "start_time": "2023-05-21T12:16:08.803927",
     "status": "completed"
    },
    "tags": []
   },
   "outputs": [],
   "source": [
    "conv=(Conv2D(filters=128,kernel_size=(7,7), activation=\"relu\",padding=\"same\",kernel_initializer='he_normal')(reshape))\n",
    "conv=(BatchNormalization()(conv))\n",
    "conv=(Conv2D(filters=128,kernel_size=(5,5), activation=\"relu\",padding=\"same\",kernel_initializer='he_normal')(conv))\n",
    "conv=(BatchNormalization()(conv))\n",
    "conv=(Conv2D(filters=128,kernel_size=(3,3), activation=\"relu\",padding=\"same\",kernel_initializer='he_normal')(conv))\n",
    "conv=(BatchNormalization()(conv))\n",
    "conv=(Conv2D(filters=128,kernel_size=(1,1), activation=\"relu\",padding=\"same\",kernel_initializer='he_normal')(conv))\n",
    "conv=(BatchNormalization()(conv))"
   ]
  },
  {
   "cell_type": "code",
   "execution_count": 11,
   "id": "0a2b7b06",
   "metadata": {
    "execution": {
     "iopub.execute_input": "2023-05-21T12:16:08.947343Z",
     "iopub.status.busy": "2023-05-21T12:16:08.946998Z",
     "iopub.status.idle": "2023-05-21T12:16:08.955118Z",
     "shell.execute_reply": "2023-05-21T12:16:08.954242Z"
    },
    "id": "wfhLPhssAm2S",
    "papermill": {
     "duration": 0.026998,
     "end_time": "2023-05-21T12:16:08.957237",
     "exception": false,
     "start_time": "2023-05-21T12:16:08.930239",
     "status": "completed"
    },
    "tags": []
   },
   "outputs": [],
   "source": [
    "conv=(MaxPooling2D(strides=(2, 2),padding=\"same\")(conv))"
   ]
  },
  {
   "cell_type": "code",
   "execution_count": 12,
   "id": "2e636025",
   "metadata": {
    "execution": {
     "iopub.execute_input": "2023-05-21T12:16:08.990592Z",
     "iopub.status.busy": "2023-05-21T12:16:08.990309Z",
     "iopub.status.idle": "2023-05-21T12:16:09.077926Z",
     "shell.execute_reply": "2023-05-21T12:16:09.076927Z"
    },
    "id": "sW4tKg9wSYbk",
    "papermill": {
     "duration": 0.106806,
     "end_time": "2023-05-21T12:16:09.080231",
     "exception": false,
     "start_time": "2023-05-21T12:16:08.973425",
     "status": "completed"
    },
    "tags": []
   },
   "outputs": [],
   "source": [
    "conv=(Conv2D(filters=256,kernel_size=(7,7), activation=\"relu\",padding=\"same\",kernel_initializer='he_normal')(conv))\n",
    "conv=(BatchNormalization()(conv))\n",
    "conv=(Conv2D(filters=256,kernel_size=(5,5), activation=\"relu\",padding=\"same\",kernel_initializer='he_normal')(conv))\n",
    "conv=(BatchNormalization()(conv))\n",
    "conv=(Conv2D(filters=256,kernel_size=(3,3), activation=\"relu\",padding=\"same\",kernel_initializer='he_normal')(conv))\n",
    "conv=(BatchNormalization()(conv))\n",
    "conv=(Conv2D(filters=256,kernel_size=(1,1), activation=\"relu\",padding=\"same\",kernel_initializer='he_normal')(conv))\n",
    "conv=(BatchNormalization()(conv))"
   ]
  },
  {
   "cell_type": "code",
   "execution_count": 13,
   "id": "bb1df760",
   "metadata": {
    "execution": {
     "iopub.execute_input": "2023-05-21T12:16:09.112824Z",
     "iopub.status.busy": "2023-05-21T12:16:09.112535Z",
     "iopub.status.idle": "2023-05-21T12:16:09.120064Z",
     "shell.execute_reply": "2023-05-21T12:16:09.119285Z"
    },
    "id": "eo8E7RxUSYcW",
    "papermill": {
     "duration": 0.025937,
     "end_time": "2023-05-21T12:16:09.121985",
     "exception": false,
     "start_time": "2023-05-21T12:16:09.096048",
     "status": "completed"
    },
    "tags": []
   },
   "outputs": [],
   "source": [
    "conv=(MaxPooling2D(pool_size=(2, 2),padding=\"same\")(conv))"
   ]
  },
  {
   "cell_type": "code",
   "execution_count": 14,
   "id": "324375dd",
   "metadata": {
    "execution": {
     "iopub.execute_input": "2023-05-21T12:16:09.154364Z",
     "iopub.status.busy": "2023-05-21T12:16:09.154082Z",
     "iopub.status.idle": "2023-05-21T12:16:09.158696Z",
     "shell.execute_reply": "2023-05-21T12:16:09.157855Z"
    },
    "papermill": {
     "duration": 0.023214,
     "end_time": "2023-05-21T12:16:09.160898",
     "exception": false,
     "start_time": "2023-05-21T12:16:09.137684",
     "status": "completed"
    },
    "tags": []
   },
   "outputs": [
    {
     "name": "stdout",
     "output_type": "stream",
     "text": [
      "7\n"
     ]
    }
   ],
   "source": [
    "num_classes = test_batches.num_classes\n",
    "print(num_classes)"
   ]
  },
  {
   "cell_type": "code",
   "execution_count": 15,
   "id": "bdb13990",
   "metadata": {
    "execution": {
     "iopub.execute_input": "2023-05-21T12:16:09.193834Z",
     "iopub.status.busy": "2023-05-21T12:16:09.193132Z",
     "iopub.status.idle": "2023-05-21T12:16:09.240134Z",
     "shell.execute_reply": "2023-05-21T12:16:09.239211Z"
    },
    "id": "-EdFxKdgSYcf",
    "papermill": {
     "duration": 0.066069,
     "end_time": "2023-05-21T12:16:09.242649",
     "exception": false,
     "start_time": "2023-05-21T12:16:09.176580",
     "status": "completed"
    },
    "tags": []
   },
   "outputs": [],
   "source": [
    "conv=(Flatten()(conv))\n",
    "conv=(Dense(1024,activation=\"relu\")(conv))\n",
    "conv=(Dense(512,activation=\"relu\")(conv))\n",
    "conv=(Dense(num_classes, activation=\"softmax\")(conv))\n",
    "\n",
    "model_rn101 = Model(inputs=MainInput, outputs=conv)"
   ]
  },
  {
   "cell_type": "code",
   "execution_count": 16,
   "id": "3476d43b",
   "metadata": {
    "execution": {
     "iopub.execute_input": "2023-05-21T12:16:09.276140Z",
     "iopub.status.busy": "2023-05-21T12:16:09.275372Z",
     "iopub.status.idle": "2023-05-21T12:16:09.385825Z",
     "shell.execute_reply": "2023-05-21T12:16:09.384808Z"
    },
    "id": "ba8ajOckSYcl",
    "outputId": "e69fa749-4741-4f49-ae3e-9f5479e809a8",
    "papermill": {
     "duration": 0.140148,
     "end_time": "2023-05-21T12:16:09.398853",
     "exception": false,
     "start_time": "2023-05-21T12:16:09.258705",
     "status": "completed"
    },
    "tags": []
   },
   "outputs": [
    {
     "name": "stdout",
     "output_type": "stream",
     "text": [
      "Model: \"model\"\n",
      "_________________________________________________________________\n",
      " Layer (type)                Output Shape              Param #   \n",
      "=================================================================\n",
      " input_2 (InputLayer)        [(None, 224, 224, 3)]     0         \n",
      "                                                                 \n",
      " resnet101 (Functional)      (None, 2048)              42658176  \n",
      "                                                                 \n",
      " reshape (Reshape)           (None, 16, 16, 8)         0         \n",
      "                                                                 \n",
      " conv2d (Conv2D)             (None, 16, 16, 128)       50304     \n",
      "                                                                 \n",
      " batch_normalization (BatchN  (None, 16, 16, 128)      512       \n",
      " ormalization)                                                   \n",
      "                                                                 \n",
      " conv2d_1 (Conv2D)           (None, 16, 16, 128)       409728    \n",
      "                                                                 \n",
      " batch_normalization_1 (Batc  (None, 16, 16, 128)      512       \n",
      " hNormalization)                                                 \n",
      "                                                                 \n",
      " conv2d_2 (Conv2D)           (None, 16, 16, 128)       147584    \n",
      "                                                                 \n",
      " batch_normalization_2 (Batc  (None, 16, 16, 128)      512       \n",
      " hNormalization)                                                 \n",
      "                                                                 \n",
      " conv2d_3 (Conv2D)           (None, 16, 16, 128)       16512     \n",
      "                                                                 \n",
      " batch_normalization_3 (Batc  (None, 16, 16, 128)      512       \n",
      " hNormalization)                                                 \n",
      "                                                                 \n",
      " max_pooling2d (MaxPooling2D  (None, 8, 8, 128)        0         \n",
      " )                                                               \n",
      "                                                                 \n",
      " conv2d_4 (Conv2D)           (None, 8, 8, 256)         1605888   \n",
      "                                                                 \n",
      " batch_normalization_4 (Batc  (None, 8, 8, 256)        1024      \n",
      " hNormalization)                                                 \n",
      "                                                                 \n",
      " conv2d_5 (Conv2D)           (None, 8, 8, 256)         1638656   \n",
      "                                                                 \n",
      " batch_normalization_5 (Batc  (None, 8, 8, 256)        1024      \n",
      " hNormalization)                                                 \n",
      "                                                                 \n",
      " conv2d_6 (Conv2D)           (None, 8, 8, 256)         590080    \n",
      "                                                                 \n",
      " batch_normalization_6 (Batc  (None, 8, 8, 256)        1024      \n",
      " hNormalization)                                                 \n",
      "                                                                 \n",
      " conv2d_7 (Conv2D)           (None, 8, 8, 256)         65792     \n",
      "                                                                 \n",
      " batch_normalization_7 (Batc  (None, 8, 8, 256)        1024      \n",
      " hNormalization)                                                 \n",
      "                                                                 \n",
      " max_pooling2d_1 (MaxPooling  (None, 4, 4, 256)        0         \n",
      " 2D)                                                             \n",
      "                                                                 \n",
      " flatten (Flatten)           (None, 4096)              0         \n",
      "                                                                 \n",
      " dense (Dense)               (None, 1024)              4195328   \n",
      "                                                                 \n",
      " dense_1 (Dense)             (None, 512)               524800    \n",
      "                                                                 \n",
      " dense_2 (Dense)             (None, 7)                 3591      \n",
      "                                                                 \n",
      "=================================================================\n",
      "Total params: 51,912,583\n",
      "Trainable params: 51,804,167\n",
      "Non-trainable params: 108,416\n",
      "_________________________________________________________________\n"
     ]
    }
   ],
   "source": [
    "model_rn101.summary()"
   ]
  },
  {
   "cell_type": "code",
   "execution_count": 17,
   "id": "2ba1c493",
   "metadata": {
    "execution": {
     "iopub.execute_input": "2023-05-21T12:16:09.445474Z",
     "iopub.status.busy": "2023-05-21T12:16:09.444638Z",
     "iopub.status.idle": "2023-05-21T12:16:09.471479Z",
     "shell.execute_reply": "2023-05-21T12:16:09.470555Z"
    },
    "id": "WR0fUpy18vAZ",
    "papermill": {
     "duration": 0.052271,
     "end_time": "2023-05-21T12:16:09.473686",
     "exception": false,
     "start_time": "2023-05-21T12:16:09.421415",
     "status": "completed"
    },
    "tags": []
   },
   "outputs": [],
   "source": [
    "opt1=tf.keras.optimizers.Adam(learning_rate=0.001,epsilon=0.1)\n",
    "model_rn101.compile(optimizer=opt1,\n",
    "             loss='categorical_crossentropy',\n",
    "             metrics=['accuracy'])"
   ]
  },
  {
   "cell_type": "code",
   "execution_count": 18,
   "id": "43b8cb68",
   "metadata": {
    "execution": {
     "iopub.execute_input": "2023-05-21T12:16:09.520397Z",
     "iopub.status.busy": "2023-05-21T12:16:09.520005Z",
     "iopub.status.idle": "2023-05-21T12:16:09.525464Z",
     "shell.execute_reply": "2023-05-21T12:16:09.524398Z"
    },
    "id": "LAf5ha295reS",
    "papermill": {
     "duration": 0.031752,
     "end_time": "2023-05-21T12:16:09.527709",
     "exception": false,
     "start_time": "2023-05-21T12:16:09.495957",
     "status": "completed"
    },
    "tags": []
   },
   "outputs": [],
   "source": [
    "class_weights = {   \n",
    "                    0: 1.0,  # akiec\n",
    "                    1: 1.0,  # bcc\n",
    "                    2: 1.0,  # bkl\n",
    "                    3: 1.0,  # df\n",
    "                    4: 1.0,  # mel\n",
    "                    5: 1.0,  # nv\n",
    "                    6: 1.0  # vasc\n",
    "                }"
   ]
  },
  {
   "cell_type": "code",
   "execution_count": 19,
   "id": "bae9f087",
   "metadata": {
    "execution": {
     "iopub.execute_input": "2023-05-21T12:16:09.575550Z",
     "iopub.status.busy": "2023-05-21T12:16:09.574561Z",
     "iopub.status.idle": "2023-05-21T12:16:09.580142Z",
     "shell.execute_reply": "2023-05-21T12:16:09.579297Z"
    },
    "papermill": {
     "duration": 0.030742,
     "end_time": "2023-05-21T12:16:09.582128",
     "exception": false,
     "start_time": "2023-05-21T12:16:09.551386",
     "status": "completed"
    },
    "tags": []
   },
   "outputs": [],
   "source": [
    "checkpoint = ModelCheckpoint(filepath ='RN101.hdf5', monitor='val_accuracy', save_best_only=True, save_weights_only=True)\n",
    "Earlystop = EarlyStopping(monitor='val_accuracy', mode='max', patience=25, min_delta=0.001)"
   ]
  },
  {
   "cell_type": "code",
   "execution_count": 20,
   "id": "919ba8b3",
   "metadata": {
    "execution": {
     "iopub.execute_input": "2023-05-21T12:16:09.627130Z",
     "iopub.status.busy": "2023-05-21T12:16:09.626296Z",
     "iopub.status.idle": "2023-05-21T18:27:09.349600Z",
     "shell.execute_reply": "2023-05-21T18:27:09.348402Z"
    },
    "id": "NUzTmiZ-8hL3",
    "outputId": "e1825ff2-9f9c-436f-cf2c-9776af8eee62",
    "papermill": {
     "duration": 22259.774221,
     "end_time": "2023-05-21T18:27:09.377632",
     "exception": false,
     "start_time": "2023-05-21T12:16:09.603411",
     "status": "completed"
    },
    "tags": []
   },
   "outputs": [
    {
     "name": "stdout",
     "output_type": "stream",
     "text": [
      "Epoch 1/50\n",
      "3424/3424 - 719s - loss: 0.9110 - accuracy: 0.6609 - val_loss: 0.3742 - val_accuracy: 0.8573 - 719s/epoch - 210ms/step\n",
      "Epoch 2/50\n",
      "3424/3424 - 631s - loss: 0.3751 - accuracy: 0.8618 - val_loss: 0.4000 - val_accuracy: 0.8779 - 631s/epoch - 184ms/step\n",
      "Epoch 3/50\n",
      "3424/3424 - 633s - loss: 0.2139 - accuracy: 0.9224 - val_loss: 0.4931 - val_accuracy: 0.8924 - 633s/epoch - 185ms/step\n",
      "Epoch 4/50\n",
      "3424/3424 - 633s - loss: 0.1385 - accuracy: 0.9495 - val_loss: 0.3727 - val_accuracy: 0.9021 - 633s/epoch - 185ms/step\n",
      "Epoch 5/50\n",
      "3424/3424 - 627s - loss: 0.0952 - accuracy: 0.9665 - val_loss: 0.3821 - val_accuracy: 0.8972 - 627s/epoch - 183ms/step\n",
      "Epoch 6/50\n",
      "3424/3424 - 628s - loss: 0.0675 - accuracy: 0.9757 - val_loss: 0.3654 - val_accuracy: 0.9141 - 628s/epoch - 183ms/step\n",
      "Epoch 7/50\n",
      "3424/3424 - 629s - loss: 0.0470 - accuracy: 0.9834 - val_loss: 0.4103 - val_accuracy: 0.9008 - 629s/epoch - 184ms/step\n",
      "Epoch 8/50\n",
      "3424/3424 - 633s - loss: 0.0421 - accuracy: 0.9848 - val_loss: 0.6330 - val_accuracy: 0.8694 - 633s/epoch - 185ms/step\n",
      "Epoch 9/50\n",
      "3424/3424 - 633s - loss: 0.0320 - accuracy: 0.9890 - val_loss: 0.4036 - val_accuracy: 0.9287 - 633s/epoch - 185ms/step\n",
      "Epoch 10/50\n",
      "3424/3424 - 633s - loss: 0.0284 - accuracy: 0.9900 - val_loss: 0.5688 - val_accuracy: 0.8984 - 633s/epoch - 185ms/step\n",
      "Epoch 11/50\n",
      "3424/3424 - 633s - loss: 0.0271 - accuracy: 0.9908 - val_loss: 0.5472 - val_accuracy: 0.8960 - 633s/epoch - 185ms/step\n",
      "Epoch 12/50\n",
      "3424/3424 - 634s - loss: 0.0189 - accuracy: 0.9934 - val_loss: 0.4158 - val_accuracy: 0.9166 - 634s/epoch - 185ms/step\n",
      "Epoch 13/50\n",
      "3424/3424 - 634s - loss: 0.0163 - accuracy: 0.9947 - val_loss: 0.4621 - val_accuracy: 0.9069 - 634s/epoch - 185ms/step\n",
      "Epoch 14/50\n",
      "3424/3424 - 633s - loss: 0.0193 - accuracy: 0.9931 - val_loss: 0.4184 - val_accuracy: 0.9129 - 633s/epoch - 185ms/step\n",
      "Epoch 15/50\n",
      "3424/3424 - 633s - loss: 0.0142 - accuracy: 0.9955 - val_loss: 0.4798 - val_accuracy: 0.9129 - 633s/epoch - 185ms/step\n",
      "Epoch 16/50\n",
      "3424/3424 - 632s - loss: 0.0107 - accuracy: 0.9966 - val_loss: 0.4501 - val_accuracy: 0.9226 - 632s/epoch - 185ms/step\n",
      "Epoch 17/50\n",
      "3424/3424 - 633s - loss: 0.0126 - accuracy: 0.9961 - val_loss: 0.5091 - val_accuracy: 0.9081 - 633s/epoch - 185ms/step\n",
      "Epoch 18/50\n",
      "3424/3424 - 632s - loss: 0.0123 - accuracy: 0.9959 - val_loss: 0.5237 - val_accuracy: 0.9008 - 632s/epoch - 185ms/step\n",
      "Epoch 19/50\n",
      "3424/3424 - 633s - loss: 0.0119 - accuracy: 0.9962 - val_loss: 0.5959 - val_accuracy: 0.9045 - 633s/epoch - 185ms/step\n",
      "Epoch 20/50\n",
      "3424/3424 - 628s - loss: 0.0100 - accuracy: 0.9964 - val_loss: 0.5034 - val_accuracy: 0.9105 - 628s/epoch - 183ms/step\n",
      "Epoch 21/50\n",
      "3424/3424 - 627s - loss: 0.0079 - accuracy: 0.9972 - val_loss: 0.5117 - val_accuracy: 0.9141 - 627s/epoch - 183ms/step\n",
      "Epoch 22/50\n",
      "3424/3424 - 630s - loss: 0.0106 - accuracy: 0.9965 - val_loss: 0.4708 - val_accuracy: 0.9105 - 630s/epoch - 184ms/step\n",
      "Epoch 23/50\n",
      "3424/3424 - 626s - loss: 0.0090 - accuracy: 0.9970 - val_loss: 0.4960 - val_accuracy: 0.9069 - 626s/epoch - 183ms/step\n",
      "Epoch 24/50\n",
      "3424/3424 - 626s - loss: 0.0070 - accuracy: 0.9978 - val_loss: 0.5485 - val_accuracy: 0.9154 - 626s/epoch - 183ms/step\n",
      "Epoch 25/50\n",
      "3424/3424 - 625s - loss: 0.0080 - accuracy: 0.9973 - val_loss: 0.5058 - val_accuracy: 0.9105 - 625s/epoch - 182ms/step\n",
      "Epoch 26/50\n",
      "3424/3424 - 624s - loss: 0.0067 - accuracy: 0.9978 - val_loss: 0.5447 - val_accuracy: 0.9033 - 624s/epoch - 182ms/step\n",
      "Epoch 27/50\n",
      "3424/3424 - 630s - loss: 0.0064 - accuracy: 0.9979 - val_loss: 0.5800 - val_accuracy: 0.8960 - 630s/epoch - 184ms/step\n",
      "Epoch 28/50\n",
      "3424/3424 - 628s - loss: 0.0060 - accuracy: 0.9979 - val_loss: 0.6015 - val_accuracy: 0.8972 - 628s/epoch - 183ms/step\n",
      "Epoch 29/50\n",
      "3424/3424 - 624s - loss: 0.0051 - accuracy: 0.9984 - val_loss: 0.5723 - val_accuracy: 0.9105 - 624s/epoch - 182ms/step\n",
      "Epoch 30/50\n",
      "3424/3424 - 623s - loss: 0.0055 - accuracy: 0.9978 - val_loss: 0.5729 - val_accuracy: 0.9008 - 623s/epoch - 182ms/step\n",
      "Epoch 31/50\n",
      "3424/3424 - 623s - loss: 0.0071 - accuracy: 0.9977 - val_loss: 0.7184 - val_accuracy: 0.8960 - 623s/epoch - 182ms/step\n",
      "Epoch 32/50\n",
      "3424/3424 - 623s - loss: 0.0059 - accuracy: 0.9981 - val_loss: 0.6572 - val_accuracy: 0.9045 - 623s/epoch - 182ms/step\n",
      "Epoch 33/50\n",
      "3424/3424 - 623s - loss: 0.0047 - accuracy: 0.9984 - val_loss: 0.5369 - val_accuracy: 0.8936 - 623s/epoch - 182ms/step\n",
      "Epoch 34/50\n",
      "3424/3424 - 623s - loss: 0.0028 - accuracy: 0.9992 - val_loss: 0.5960 - val_accuracy: 0.9093 - 623s/epoch - 182ms/step\n"
     ]
    }
   ],
   "source": [
    "history = model_rn101.fit(train_batches,\n",
    "                         epochs=50,\n",
    "                         verbose=2,\n",
    "                         validation_data=val_batches,\n",
    "                         callbacks=[checkpoint,Earlystop],\n",
    "                         class_weight=class_weights)"
   ]
  },
  {
   "cell_type": "markdown",
   "id": "fbad6f67",
   "metadata": {
    "papermill": {
     "duration": 0.029853,
     "end_time": "2023-05-21T18:27:09.434467",
     "exception": false,
     "start_time": "2023-05-21T18:27:09.404614",
     "status": "completed"
    },
    "tags": []
   },
   "source": [
    "### Plotting accuracy and loss"
   ]
  },
  {
   "cell_type": "code",
   "execution_count": 21,
   "id": "5589bab2",
   "metadata": {
    "execution": {
     "iopub.execute_input": "2023-05-21T18:27:09.496674Z",
     "iopub.status.busy": "2023-05-21T18:27:09.496344Z",
     "iopub.status.idle": "2023-05-21T18:28:09.083376Z",
     "shell.execute_reply": "2023-05-21T18:28:09.082610Z"
    },
    "papermill": {
     "duration": 59.647496,
     "end_time": "2023-05-21T18:28:09.112824",
     "exception": false,
     "start_time": "2023-05-21T18:27:09.465328",
     "status": "completed"
    },
    "tags": []
   },
   "outputs": [
    {
     "name": "stdout",
     "output_type": "stream",
     "text": [
      "Number of epochs trained: 34\n"
     ]
    },
    {
     "data": {
      "image/png": "[encoded data removed]",
      "text/plain": [
       "<Figure size 1500x500 with 2 Axes>"
      ]
     },
     "metadata": {},
     "output_type": "display_data"
    }
   ],
   "source": [
    "# Determine number of epochs trained\n",
    "num_epochs_trained = len(history.history['val_loss'])\n",
    "print(f\"Number of epochs trained: {num_epochs_trained}\")\n",
    "\n",
    "## History plotting\n",
    "epochs = [i for i in range(num_epochs_trained)]\n",
    "fig , ax = plt.subplots(1,2)\n",
    "train_acc = history.history['accuracy']\n",
    "train_loss = history.history['loss']\n",
    "val_acc = history.history['val_accuracy']\n",
    "val_loss = history.history['val_loss']\n",
    "fig.set_size_inches(15,5)\n",
    "\n",
    "ax[0].plot(epochs , train_acc , 'go-' , label = 'Training Accuracy')\n",
    "ax[0].plot(epochs , val_acc , 'ro-' , label = 'Validation Accuracy')\n",
    "title_font = {'fontname':'Times New Roman', 'size':'14', 'color':'black', 'weight':'normal'}\n",
    "ax[0].set_title('Model Accuracy', fontdict=title_font)\n",
    "legend_font = {'family': 'Times New Roman', 'size': '12', 'weight': 'normal'}\n",
    "ax[0].legend(prop=legend_font)\n",
    "label_font = {'fontname':'Times New Roman', 'size':'12', 'color':'black', 'weight':'normal'}\n",
    "ax[0].set_xlabel(\"Epochs\",  fontdict=label_font)\n",
    "ax[0].set_ylabel(\"Accuracy\",  fontdict=label_font)\n",
    "\n",
    "ax[1].plot(epochs , train_loss , 'g-o' , label = 'Training Loss')\n",
    "ax[1].plot(epochs , val_loss , 'r-o' , label = 'Validation Loss')\n",
    "ax[1].set_title('Model Loss', fontdict=title_font)\n",
    "ax[1].legend(prop=legend_font)\n",
    "ax[1].set_xlabel(\"Epochs\", fontdict=label_font)\n",
    "ax[1].set_ylabel(\"Loss\", fontdict=label_font)\n",
    "plt.show()"
   ]
  },
  {
   "cell_type": "code",
   "execution_count": 22,
   "id": "47b61948",
   "metadata": {
    "execution": {
     "iopub.execute_input": "2023-05-21T18:28:09.167232Z",
     "iopub.status.busy": "2023-05-21T18:28:09.166931Z",
     "iopub.status.idle": "2023-05-21T18:28:09.839041Z",
     "shell.execute_reply": "2023-05-21T18:28:09.837834Z"
    },
    "id": "zm_AewFBXTj8",
    "papermill": {
     "duration": 0.70211,
     "end_time": "2023-05-21T18:28:09.841348",
     "exception": false,
     "start_time": "2023-05-21T18:28:09.139238",
     "status": "completed"
    },
    "tags": []
   },
   "outputs": [],
   "source": [
    "from tensorflow.keras import models\n",
    "model_rn101.load_weights(\"RN101.hdf5\")"
   ]
  },
  {
   "cell_type": "code",
   "execution_count": 23,
   "id": "cc17f037",
   "metadata": {
    "execution": {
     "iopub.execute_input": "2023-05-21T18:28:09.899333Z",
     "iopub.status.busy": "2023-05-21T18:28:09.898969Z",
     "iopub.status.idle": "2023-05-21T18:28:26.229418Z",
     "shell.execute_reply": "2023-05-21T18:28:26.228530Z"
    },
    "papermill": {
     "duration": 16.361747,
     "end_time": "2023-05-21T18:28:26.231530",
     "exception": false,
     "start_time": "2023-05-21T18:28:09.869783",
     "status": "completed"
    },
    "tags": []
   },
   "outputs": [
    {
     "name": "stdout",
     "output_type": "stream",
     "text": [
      "52/52 [==============================] - 16s 269ms/step\n"
     ]
    }
   ],
   "source": [
    "predictions = model_rn101.predict(test_batches)"
   ]
  },
  {
   "cell_type": "code",
   "execution_count": 24,
   "id": "ec8ebd29",
   "metadata": {
    "execution": {
     "iopub.execute_input": "2023-05-21T18:28:26.296271Z",
     "iopub.status.busy": "2023-05-21T18:28:26.295491Z",
     "iopub.status.idle": "2023-05-21T18:28:26.300588Z",
     "shell.execute_reply": "2023-05-21T18:28:26.299732Z"
    },
    "id": "FDTMtBeTdBfU",
    "papermill": {
     "duration": 0.038265,
     "end_time": "2023-05-21T18:28:26.302651",
     "exception": false,
     "start_time": "2023-05-21T18:28:26.264386",
     "status": "completed"
    },
    "tags": []
   },
   "outputs": [],
   "source": [
    "#geting predictions on test dataset\n",
    "y_pred = np.argmax(predictions, axis=1)\n",
    "#getting the true labels per image \n",
    "y_true = test_batches.classes\n",
    "#getting the predicted labels per image \n",
    "y_prob = predictions"
   ]
  },
  {
   "cell_type": "code",
   "execution_count": 25,
   "id": "8e235059",
   "metadata": {
    "execution": {
     "iopub.execute_input": "2023-05-21T18:28:26.365485Z",
     "iopub.status.busy": "2023-05-21T18:28:26.365193Z",
     "iopub.status.idle": "2023-05-21T18:28:26.380637Z",
     "shell.execute_reply": "2023-05-21T18:28:26.379597Z"
    },
    "papermill": {
     "duration": 0.048265,
     "end_time": "2023-05-21T18:28:26.382544",
     "exception": false,
     "start_time": "2023-05-21T18:28:26.334279",
     "status": "completed"
    },
    "tags": []
   },
   "outputs": [
    {
     "name": "stdout",
     "output_type": "stream",
     "text": [
      "\n",
      "Classification Report:\n",
      "              precision    recall  f1-score   support\n",
      "\n",
      "          AK       0.80      0.55      0.65        22\n",
      "         BCC       0.81      0.78      0.79        27\n",
      "         BKL       0.70      0.70      0.70        66\n",
      "          DF       0.57      0.67      0.62         6\n",
      "         MEL       0.77      0.49      0.60        35\n",
      "          NV       0.95      0.97      0.96       663\n",
      "        VASC       0.90      1.00      0.95         9\n",
      "\n",
      "    accuracy                           0.91       828\n",
      "   macro avg       0.79      0.74      0.75       828\n",
      "weighted avg       0.91      0.91      0.91       828\n",
      "\n"
     ]
    }
   ],
   "source": [
    "classnames = ['AK', 'BCC', 'BKL', 'DF', 'MEL', 'NV', 'VASC']\n",
    "\n",
    "from tensorflow.keras.utils import to_categorical\n",
    "y_test = to_categorical(y_true)\n",
    "\n",
    "report = classification_report(y_true, y_pred, target_names=classnames)\n",
    "\n",
    "print(\"\\nClassification Report:\")\n",
    "print(report)"
   ]
  },
  {
   "cell_type": "code",
   "execution_count": 26,
   "id": "b3414423",
   "metadata": {
    "execution": {
     "iopub.execute_input": "2023-05-21T18:28:26.444454Z",
     "iopub.status.busy": "2023-05-21T18:28:26.443696Z",
     "iopub.status.idle": "2023-05-21T18:28:26.976732Z",
     "shell.execute_reply": "2023-05-21T18:28:26.975866Z"
    },
    "papermill": {
     "duration": 0.566243,
     "end_time": "2023-05-21T18:28:26.978975",
     "exception": false,
     "start_time": "2023-05-21T18:28:26.412732",
     "status": "completed"
    },
    "tags": []
   },
   "outputs": [
    {
     "data": {
      "image/png": "[encoded data removed]",
      "text/plain": [
       "<Figure size 1000x400 with 2 Axes>"
      ]
     },
     "metadata": {},
     "output_type": "display_data"
    }
   ],
   "source": [
    "## Confusion Matrix\n",
    "title_font = {'fontname':'Times New Roman', 'size':'14', 'color':'black', 'weight':'normal'}\n",
    "label_font = {'fontname':'Times New Roman', 'size':'12', 'color':'black', 'weight':'normal'}\n",
    "\n",
    "from sklearn.metrics import confusion_matrix\n",
    "import seaborn as sns\n",
    "# Creating confusion matrix \n",
    "cm = confusion_matrix(y_true, y_pred)\n",
    "# Plotting the confusion matrix\n",
    "plt.figure(figsize=(10,4))\n",
    "sns.heatmap(cm, annot=True, fmt='g', cmap='Blues', xticklabels=targetnames, yticklabels=targetnames)\n",
    "plt.xlabel('Predicted Label', fontdict=label_font)\n",
    "plt.ylabel('True Label', fontdict=label_font)\n",
    "plt.title('Confusion Matrix', fontdict=title_font)\n",
    "plt.show()"
   ]
  },
  {
   "cell_type": "markdown",
   "id": "2cda6b0f",
   "metadata": {
    "papermill": {
     "duration": 0.030345,
     "end_time": "2023-05-21T18:28:27.040547",
     "exception": false,
     "start_time": "2023-05-21T18:28:27.010202",
     "status": "completed"
    },
    "tags": []
   },
   "source": [
    "## Results"
   ]
  },
  {
   "cell_type": "markdown",
   "id": "c0a71421",
   "metadata": {
    "papermill": {
     "duration": 0.030511,
     "end_time": "2023-05-21T18:28:27.101964",
     "exception": false,
     "start_time": "2023-05-21T18:28:27.071453",
     "status": "completed"
    },
    "tags": []
   },
   "source": [
    "### Individual Class Accuracy "
   ]
  },
  {
   "cell_type": "code",
   "execution_count": 27,
   "id": "67f3c2a7",
   "metadata": {
    "execution": {
     "iopub.execute_input": "2023-05-21T18:28:27.165954Z",
     "iopub.status.busy": "2023-05-21T18:28:27.164343Z",
     "iopub.status.idle": "2023-05-21T18:28:27.172469Z",
     "shell.execute_reply": "2023-05-21T18:28:27.171417Z"
    },
    "papermill": {
     "duration": 0.041887,
     "end_time": "2023-05-21T18:28:27.174430",
     "exception": false,
     "start_time": "2023-05-21T18:28:27.132543",
     "status": "completed"
    },
    "tags": []
   },
   "outputs": [
    {
     "name": "stdout",
     "output_type": "stream",
     "text": [
      "Overall accuracy: 91.18%\n",
      "Accuracy for each class:\n",
      "Class 0: 54.55%\n",
      "Class 1: 77.78%\n",
      "Class 2: 69.70%\n",
      "Class 3: 66.67%\n",
      "Class 4: 48.57%\n",
      "Class 5: 97.44%\n",
      "Class 6: 100.00%\n"
     ]
    }
   ],
   "source": [
    "# y_true are the true labels of the test set\n",
    "# y_pred are the predicted labels of the test set\n",
    "accuracy = accuracy_score(y_true, y_pred)\n",
    "# Calculate accuracy for each class\n",
    "class_accuracy = cm.diagonal()/cm.sum(axis=1)\n",
    "print(\"Overall accuracy: {:.2f}%\".format(accuracy*100))\n",
    "print(\"Accuracy for each class:\")\n",
    "for i, acc in enumerate(class_accuracy):\n",
    "    print(\"Class {}: {:.2f}%\".format(i, acc*100))"
   ]
  },
  {
   "cell_type": "markdown",
   "id": "3a497ab3",
   "metadata": {
    "papermill": {
     "duration": 0.03059,
     "end_time": "2023-05-21T18:28:27.235585",
     "exception": false,
     "start_time": "2023-05-21T18:28:27.204995",
     "status": "completed"
    },
    "tags": []
   },
   "source": [
    "### Individual Class Weighted Precision"
   ]
  },
  {
   "cell_type": "code",
   "execution_count": 28,
   "id": "240f40ec",
   "metadata": {
    "execution": {
     "iopub.execute_input": "2023-05-21T18:28:27.298379Z",
     "iopub.status.busy": "2023-05-21T18:28:27.297647Z",
     "iopub.status.idle": "2023-05-21T18:28:27.312331Z",
     "shell.execute_reply": "2023-05-21T18:28:27.310884Z"
    },
    "papermill": {
     "duration": 0.04804,
     "end_time": "2023-05-21T18:28:27.314220",
     "exception": false,
     "start_time": "2023-05-21T18:28:27.266180",
     "status": "completed"
    },
    "tags": []
   },
   "outputs": [
    {
     "name": "stdout",
     "output_type": "stream",
     "text": [
      "Weighted precision for each class:\n",
      "Class 0: 80.00%\n",
      "Class 1: 80.77%\n",
      "Class 2: 69.70%\n",
      "Class 3: 57.14%\n",
      "Class 4: 77.27%\n",
      "Class 5: 94.72%\n",
      "Class 6: 90.00%\n",
      "Weighted precision: 90.82%\n"
     ]
    }
   ],
   "source": [
    "report = classification_report(y_true, y_pred, output_dict=True)\n",
    "# Extract weighted precision for each class\n",
    "class_precision = {}\n",
    "for class_label in report.keys():\n",
    "    if class_label == 'weighted avg':\n",
    "        class_precision['weighted'] = report[class_label]['precision']\n",
    "    elif class_label.isdigit():\n",
    "        class_precision[int(class_label)] = report[class_label]['precision']\n",
    "print(\"Weighted precision for each class:\")\n",
    "for i, precision in class_precision.items():\n",
    "    if i == 'weighted':\n",
    "        print(\"Weighted precision: {:.2f}%\".format(precision*100))\n",
    "    else:\n",
    "        print(\"Class {}: {:.2f}%\".format(i, precision*100))"
   ]
  },
  {
   "cell_type": "markdown",
   "id": "18459d45",
   "metadata": {
    "papermill": {
     "duration": 0.030631,
     "end_time": "2023-05-21T18:28:27.375713",
     "exception": false,
     "start_time": "2023-05-21T18:28:27.345082",
     "status": "completed"
    },
    "tags": []
   },
   "source": [
    "### Individual Class Weighted Recall"
   ]
  },
  {
   "cell_type": "code",
   "execution_count": 29,
   "id": "e736dabf",
   "metadata": {
    "execution": {
     "iopub.execute_input": "2023-05-21T18:28:27.438739Z",
     "iopub.status.busy": "2023-05-21T18:28:27.438002Z",
     "iopub.status.idle": "2023-05-21T18:28:27.451642Z",
     "shell.execute_reply": "2023-05-21T18:28:27.450593Z"
    },
    "papermill": {
     "duration": 0.047171,
     "end_time": "2023-05-21T18:28:27.453658",
     "exception": false,
     "start_time": "2023-05-21T18:28:27.406487",
     "status": "completed"
    },
    "tags": []
   },
   "outputs": [
    {
     "name": "stdout",
     "output_type": "stream",
     "text": [
      "Weighted recall for each class:\n",
      "Class 0: 54.55%\n",
      "Class 1: 77.78%\n",
      "Class 2: 69.70%\n",
      "Class 3: 66.67%\n",
      "Class 4: 48.57%\n",
      "Class 5: 97.44%\n",
      "Class 6: 100.00%\n",
      "Weighted Recall: 91.18%\n"
     ]
    }
   ],
   "source": [
    "report = classification_report(y_true, y_pred, output_dict=True)\n",
    "# Extract weighted recall for each class\n",
    "class_recall = {}\n",
    "for class_label in report.keys():\n",
    "    if class_label == 'weighted avg':\n",
    "        class_recall['weighted'] = report[class_label]['recall']\n",
    "    elif class_label.isdigit():\n",
    "        class_recall[int(class_label)] = report[class_label]['recall']\n",
    "print(\"Weighted recall for each class:\")\n",
    "for i, recall in class_recall.items():\n",
    "    if i == 'weighted':\n",
    "        print(\"Weighted Recall: {:.2f}%\".format(recall*100))\n",
    "    else:\n",
    "        print(\"Class {}: {:.2f}%\".format(i, recall*100))"
   ]
  },
  {
   "cell_type": "markdown",
   "id": "f6d38778",
   "metadata": {
    "papermill": {
     "duration": 0.030733,
     "end_time": "2023-05-21T18:28:27.515481",
     "exception": false,
     "start_time": "2023-05-21T18:28:27.484748",
     "status": "completed"
    },
    "tags": []
   },
   "source": [
    "### Individual Class Weighted F1-score"
   ]
  },
  {
   "cell_type": "code",
   "execution_count": 30,
   "id": "87deeff8",
   "metadata": {
    "execution": {
     "iopub.execute_input": "2023-05-21T18:28:27.578485Z",
     "iopub.status.busy": "2023-05-21T18:28:27.578211Z",
     "iopub.status.idle": "2023-05-21T18:28:27.593236Z",
     "shell.execute_reply": "2023-05-21T18:28:27.592430Z"
    },
    "papermill": {
     "duration": 0.048911,
     "end_time": "2023-05-21T18:28:27.595302",
     "exception": false,
     "start_time": "2023-05-21T18:28:27.546391",
     "status": "completed"
    },
    "tags": []
   },
   "outputs": [
    {
     "name": "stdout",
     "output_type": "stream",
     "text": [
      "Weighted F1-score for each class:\n",
      "Class 0: 64.86%\n",
      "Class 1: 79.25%\n",
      "Class 2: 69.70%\n",
      "Class 3: 61.54%\n",
      "Class 4: 59.65%\n",
      "Class 5: 96.06%\n",
      "Class 6: 94.74%\n",
      "Weighted F1-score: 90.78%\n"
     ]
    }
   ],
   "source": [
    "report = classification_report(y_true, y_pred, output_dict=True)\n",
    "# Extract weighted F1-score for each class\n",
    "class_f1 = {}\n",
    "for class_label in report.keys():\n",
    "    if class_label == 'weighted avg':\n",
    "        class_f1['weighted'] = report[class_label]['f1-score']\n",
    "    elif class_label.isdigit():\n",
    "        class_f1[int(class_label)] = report[class_label]['f1-score']\n",
    "print(\"Weighted F1-score for each class:\")\n",
    "for i, f1_score in class_f1.items():\n",
    "    if i == 'weighted':\n",
    "        print(\"Weighted F1-score: {:.2f}%\".format(f1_score*100))\n",
    "    else:\n",
    "        print(\"Class {}: {:.2f}%\".format(i, f1_score*100))"
   ]
  },
  {
   "cell_type": "markdown",
   "id": "68ff8802",
   "metadata": {
    "papermill": {
     "duration": 0.030847,
     "end_time": "2023-05-21T18:28:27.657196",
     "exception": false,
     "start_time": "2023-05-21T18:28:27.626349",
     "status": "completed"
    },
    "tags": []
   },
   "source": [
    "### Individual Class Precision, Recall and F1-score"
   ]
  },
  {
   "cell_type": "code",
   "execution_count": 31,
   "id": "d1fba423",
   "metadata": {
    "execution": {
     "iopub.execute_input": "2023-05-21T18:28:27.720340Z",
     "iopub.status.busy": "2023-05-21T18:28:27.720071Z",
     "iopub.status.idle": "2023-05-21T18:28:27.728795Z",
     "shell.execute_reply": "2023-05-21T18:28:27.727821Z"
    },
    "papermill": {
     "duration": 0.042395,
     "end_time": "2023-05-21T18:28:27.730754",
     "exception": false,
     "start_time": "2023-05-21T18:28:27.688359",
     "status": "completed"
    },
    "tags": []
   },
   "outputs": [
    {
     "name": "stdout",
     "output_type": "stream",
     "text": [
      "Class-wise weighted precision, recall, and F1-score:\n",
      "Class 0: Precision=0.80, Recall=0.55, F1-score=0.65\n",
      "Class 1: Precision=0.81, Recall=0.78, F1-score=0.79\n",
      "Class 2: Precision=0.70, Recall=0.70, F1-score=0.70\n",
      "Class 3: Precision=0.57, Recall=0.67, F1-score=0.62\n",
      "Class 4: Precision=0.77, Recall=0.49, F1-score=0.60\n",
      "Class 5: Precision=0.95, Recall=0.97, F1-score=0.96\n",
      "Class 6: Precision=0.90, Recall=1.00, F1-score=0.95\n"
     ]
    }
   ],
   "source": [
    "from sklearn.metrics import precision_recall_fscore_support\n",
    "\n",
    "precision_class, recall_class, f1_class, support_class = precision_recall_fscore_support(y_true, y_pred, average=None)\n",
    "print('Class-wise weighted precision, recall, and F1-score:')\n",
    "for i in range(len(precision_class)):\n",
    "    print('Class {}: Precision={:.2f}, Recall={:.2f}, F1-score={:.2f}'.format(i, precision_class[i], recall_class[i], f1_class[i]))\n"
   ]
  },
  {
   "cell_type": "markdown",
   "id": "085c516a",
   "metadata": {
    "papermill": {
     "duration": 0.030953,
     "end_time": "2023-05-21T18:28:27.792862",
     "exception": false,
     "start_time": "2023-05-21T18:28:27.761909",
     "status": "completed"
    },
    "tags": []
   },
   "source": [
    "### Individual Class Weighted Sensitivity"
   ]
  },
  {
   "cell_type": "code",
   "execution_count": 32,
   "id": "73197184",
   "metadata": {
    "execution": {
     "iopub.execute_input": "2023-05-21T18:28:27.856344Z",
     "iopub.status.busy": "2023-05-21T18:28:27.855657Z",
     "iopub.status.idle": "2023-05-21T18:28:28.310644Z",
     "shell.execute_reply": "2023-05-21T18:28:28.309494Z"
    },
    "papermill": {
     "duration": 0.489669,
     "end_time": "2023-05-21T18:28:28.313474",
     "exception": false,
     "start_time": "2023-05-21T18:28:27.823805",
     "status": "completed"
    },
    "tags": []
   },
   "outputs": [
    {
     "name": "stdout",
     "output_type": "stream",
     "text": [
      "Weighted Sensitivity:  0.9118357487922706\n",
      "Class  0 :sensitivity = 0.5454545454545454\n",
      "Class  1 :sensitivity = 0.7777777777777778\n",
      "Class  2 :sensitivity = 0.696969696969697\n",
      "Class  3 :sensitivity = 0.6666666666666666\n",
      "Class  4 :sensitivity = 0.4857142857142857\n",
      "Class  5 :sensitivity = 0.9743589743589743\n",
      "Class  6 :sensitivity = 1.0\n"
     ]
    }
   ],
   "source": [
    "from imblearn.metrics import sensitivity_score\n",
    "\n",
    "sensitivity = sensitivity_score(y_true, y_pred, average='weighted')\n",
    "print(\"Weighted Sensitivity: \", sensitivity)\n",
    "\n",
    "# Calculate class-wise sensitivity\n",
    "sensitivity = sensitivity_score(y_true, y_pred, average=None)\n",
    "\n",
    "# Print sensitivity score for each class\n",
    "for i in range(len(sensitivity)):\n",
    "    print(\"Class \", i, \":sensitivity =\", sensitivity[i])"
   ]
  },
  {
   "cell_type": "markdown",
   "id": "3e051032",
   "metadata": {
    "papermill": {
     "duration": 0.031084,
     "end_time": "2023-05-21T18:28:28.376185",
     "exception": false,
     "start_time": "2023-05-21T18:28:28.345101",
     "status": "completed"
    },
    "tags": []
   },
   "source": [
    "### Individual Class Weighted Specificity"
   ]
  },
  {
   "cell_type": "code",
   "execution_count": 33,
   "id": "b457a169",
   "metadata": {
    "execution": {
     "iopub.execute_input": "2023-05-21T18:28:28.439917Z",
     "iopub.status.busy": "2023-05-21T18:28:28.439165Z",
     "iopub.status.idle": "2023-05-21T18:28:28.448468Z",
     "shell.execute_reply": "2023-05-21T18:28:28.447428Z"
    },
    "papermill": {
     "duration": 0.04326,
     "end_time": "2023-05-21T18:28:28.450455",
     "exception": false,
     "start_time": "2023-05-21T18:28:28.407195",
     "status": "completed"
    },
    "tags": []
   },
   "outputs": [
    {
     "name": "stdout",
     "output_type": "stream",
     "text": [
      "Weighted Specificity:  0.8225956257480335\n",
      "Class  0 :specificity= 0.9962779156327544\n",
      "Class  1 :specificity= 0.9937578027465668\n",
      "Class  2 :specificity= 0.973753280839895\n",
      "Class  3 :specificity= 0.9963503649635036\n",
      "Class  4 :specificity= 0.9936948297604036\n",
      "Class  5 :specificity= 0.7818181818181819\n",
      "Class  6 :specificity= 0.9987789987789988\n"
     ]
    }
   ],
   "source": [
    "from imblearn.metrics import specificity_score\n",
    "\n",
    "specificity = specificity_score(y_true, y_pred, average='weighted')\n",
    "print(\"Weighted Specificity: \", specificity)\n",
    "\n",
    "# Calculate class-wise specificity\n",
    "specificity = specificity_score(y_true, y_pred, average=None)\n",
    "\n",
    "# Print sensitivity score for each class\n",
    "for i in range(len(specificity)):\n",
    "    print(\"Class \", i, \":specificity=\", specificity[i])"
   ]
  },
  {
   "cell_type": "markdown",
   "id": "0e0a7d8b",
   "metadata": {
    "papermill": {
     "duration": 0.031391,
     "end_time": "2023-05-21T18:28:28.513313",
     "exception": false,
     "start_time": "2023-05-21T18:28:28.481922",
     "status": "completed"
    },
    "tags": []
   },
   "source": [
    "### Accuracy"
   ]
  },
  {
   "cell_type": "code",
   "execution_count": 34,
   "id": "e865c5cb",
   "metadata": {
    "execution": {
     "iopub.execute_input": "2023-05-21T18:28:28.577667Z",
     "iopub.status.busy": "2023-05-21T18:28:28.576824Z",
     "iopub.status.idle": "2023-05-21T18:28:28.583041Z",
     "shell.execute_reply": "2023-05-21T18:28:28.582180Z"
    },
    "papermill": {
     "duration": 0.04046,
     "end_time": "2023-05-21T18:28:28.585018",
     "exception": false,
     "start_time": "2023-05-21T18:28:28.544558",
     "status": "completed"
    },
    "tags": []
   },
   "outputs": [
    {
     "name": "stdout",
     "output_type": "stream",
     "text": [
      "Accuracy: 0.9118357487922706\n"
     ]
    }
   ],
   "source": [
    "print(\"Accuracy: \" + str(accuracy_score(y_true, y_pred)))\n",
    "import numpy as np\n",
    "from sklearn.metrics import accuracy_score"
   ]
  },
  {
   "cell_type": "code",
   "execution_count": 35,
   "id": "bd317c10",
   "metadata": {
    "execution": {
     "iopub.execute_input": "2023-05-21T18:28:28.650131Z",
     "iopub.status.busy": "2023-05-21T18:28:28.649391Z",
     "iopub.status.idle": "2023-05-21T18:28:28.668167Z",
     "shell.execute_reply": "2023-05-21T18:28:28.667021Z"
    },
    "papermill": {
     "duration": 0.05374,
     "end_time": "2023-05-21T18:28:28.670062",
     "exception": false,
     "start_time": "2023-05-21T18:28:28.616322",
     "status": "completed"
    },
    "tags": []
   },
   "outputs": [
    {
     "name": "stdout",
     "output_type": "stream",
     "text": [
      "Top-1 Accuracy: 0.9118357487922706\n",
      "Top-2 Accuracy: 0.9722222222222222\n",
      "Top-3 Accuracy: 0.9867149758454107\n"
     ]
    }
   ],
   "source": [
    "# Calculate top-1 accuracy\n",
    "top1_acc = accuracy_score(y_true, y_pred)\n",
    "print(\"Top-1 Accuracy:\", top1_acc)\n",
    "\n",
    "# Calculate top-2 accuracy\n",
    "y_pred_top2 = np.argsort(-predictions, axis=1)[:, :2] # Get the top 2 predicted classes\n",
    "top2_acc = np.mean(np.array([y_true[i] in y_pred_top2[i] for i in range(len(y_true))]))\n",
    "print(\"Top-2 Accuracy:\", top2_acc)\n",
    "\n",
    "# Calculate top-3 accuracy\n",
    "y_pred_top3 = np.argsort(-predictions, axis=1)[:, :3] # Get the top 3 predicted classes\n",
    "top3_acc = np.mean(np.array([y_true[i] in y_pred_top3[i] for i in range(len(y_true))]))\n",
    "print(\"Top-3 Accuracy:\", top3_acc)\n",
    "from sklearn.metrics import f1_score"
   ]
  },
  {
   "cell_type": "markdown",
   "id": "5f04ba3c",
   "metadata": {
    "papermill": {
     "duration": 0.031083,
     "end_time": "2023-05-21T18:28:28.733194",
     "exception": false,
     "start_time": "2023-05-21T18:28:28.702111",
     "status": "completed"
    },
    "tags": []
   },
   "source": [
    "### Weighted Evaluation Measures"
   ]
  },
  {
   "cell_type": "code",
   "execution_count": 36,
   "id": "27cf43ba",
   "metadata": {
    "execution": {
     "iopub.execute_input": "2023-05-21T18:28:28.798113Z",
     "iopub.status.busy": "2023-05-21T18:28:28.797367Z",
     "iopub.status.idle": "2023-05-21T18:28:28.822452Z",
     "shell.execute_reply": "2023-05-21T18:28:28.821381Z"
    },
    "papermill": {
     "duration": 0.05968,
     "end_time": "2023-05-21T18:28:28.824422",
     "exception": false,
     "start_time": "2023-05-21T18:28:28.764742",
     "status": "completed"
    },
    "tags": []
   },
   "outputs": [
    {
     "name": "stdout",
     "output_type": "stream",
     "text": [
      "Weighted Precision: 0.908194022745215\n",
      "Weighted Recall: 0.9118357487922706\n",
      "Weighted F1-Score: 0.9077737470917647\n",
      "Weighted Sensitivity: 0.9118357487922706\n",
      "Weighted Specificity: 0.8225956257480335\n",
      "weighted Roc score: 0.9734156499549212\n"
     ]
    }
   ],
   "source": [
    "print(\"Weighted Precision: \"+ str(precision_score(y_true, y_pred, average='weighted')))\n",
    "print(\"Weighted Recall: \"+ str(recall_score(y_true, y_pred, average='weighted')))\n",
    "print(\"Weighted F1-Score: \"+ str(f1_score(y_true, y_pred, average='weighted')))\n",
    "print(\"Weighted Sensitivity: \"+ str(sensitivity_score(y_true, y_pred, average='weighted')))\n",
    "print(\"Weighted Specificity: \"+ str(specificity_score(y_true, y_pred, average='weighted')))\n",
    "print(\"weighted Roc score: \" + str(roc_auc_score(y_true,y_prob,multi_class='ovr',average='weighted')))"
   ]
  },
  {
   "cell_type": "markdown",
   "id": "cae2a22c",
   "metadata": {
    "papermill": {
     "duration": 0.031203,
     "end_time": "2023-05-21T18:28:28.886818",
     "exception": false,
     "start_time": "2023-05-21T18:28:28.855615",
     "status": "completed"
    },
    "tags": []
   },
   "source": [
    "### Macro Evaluation Measures"
   ]
  },
  {
   "cell_type": "code",
   "execution_count": 37,
   "id": "328c9ffa",
   "metadata": {
    "execution": {
     "iopub.execute_input": "2023-05-21T18:28:28.953102Z",
     "iopub.status.busy": "2023-05-21T18:28:28.952819Z",
     "iopub.status.idle": "2023-05-21T18:28:28.974470Z",
     "shell.execute_reply": "2023-05-21T18:28:28.973494Z"
    },
    "papermill": {
     "duration": 0.058109,
     "end_time": "2023-05-21T18:28:28.976350",
     "exception": false,
     "start_time": "2023-05-21T18:28:28.918241",
     "status": "completed"
    },
    "tags": []
   },
   "outputs": [
    {
     "name": "stdout",
     "output_type": "stream",
     "text": [
      "Macro Precision: 0.7851474178663118\n",
      "Macro Recall: 0.7352774209917066\n",
      "Macro F1-Score: 0.7511300336933545\n",
      "Macro Sensitivity: 0.7352774209917066\n",
      "Macro Specificity: 0.9620616249343292\n",
      "Macro Roc score: 0.9777952915722045\n"
     ]
    }
   ],
   "source": [
    "print(\"Macro Precision: \"+ str(precision_score(y_true, y_pred, average='macro')))\n",
    "print(\"Macro Recall: \"+ str(recall_score(y_true, y_pred, average='macro')))\n",
    "print(\"Macro F1-Score: \"+ str(f1_score(y_true, y_pred, average='macro')))\n",
    "print(\"Macro Sensitivity: \"+ str(sensitivity_score(y_true, y_pred, average='macro')))\n",
    "print(\"Macro Specificity: \"+ str(specificity_score(y_true, y_pred, average='macro')))\n",
    "print(\"Macro Roc score: \" + str(roc_auc_score(y_true,y_prob,multi_class='ovr',average='macro')))"
   ]
  },
  {
   "cell_type": "markdown",
   "id": "11a25111",
   "metadata": {
    "papermill": {
     "duration": 0.031323,
     "end_time": "2023-05-21T18:28:29.039319",
     "exception": false,
     "start_time": "2023-05-21T18:28:29.007996",
     "status": "completed"
    },
    "tags": []
   },
   "source": [
    "### Micro Evaluation Measures"
   ]
  },
  {
   "cell_type": "code",
   "execution_count": 38,
   "id": "e9305f44",
   "metadata": {
    "execution": {
     "iopub.execute_input": "2023-05-21T18:28:29.103397Z",
     "iopub.status.busy": "2023-05-21T18:28:29.102881Z",
     "iopub.status.idle": "2023-05-21T18:28:29.116575Z",
     "shell.execute_reply": "2023-05-21T18:28:29.115461Z"
    },
    "papermill": {
     "duration": 0.047834,
     "end_time": "2023-05-21T18:28:29.118505",
     "exception": false,
     "start_time": "2023-05-21T18:28:29.070671",
     "status": "completed"
    },
    "tags": []
   },
   "outputs": [
    {
     "name": "stdout",
     "output_type": "stream",
     "text": [
      "Micro Precision: 0.9118357487922706\n",
      "Micro Recall: 0.9118357487922706\n",
      "Micro F1-Score: 0.9118357487922706\n",
      "Micro Sensitivity: 0.9118357487922706\n",
      "Micro Specificity: 0.9853059581320451\n"
     ]
    }
   ],
   "source": [
    "print(\"Micro Precision: \"+ str(precision_score(y_true, y_pred, average='micro')))\n",
    "print(\"Micro Recall: \"+ str(recall_score(y_true, y_pred, average='micro')))\n",
    "print(\"Micro F1-Score: \"+ str(f1_score(y_true, y_pred, average='micro')))\n",
    "print(\"Micro Sensitivity: \"+ str(sensitivity_score(y_true, y_pred, average='micro')))\n",
    "print(\"Micro Specificity: \"+ str(specificity_score(y_true, y_pred, average='micro')))"
   ]
  },
  {
   "cell_type": "markdown",
   "id": "f4bdffe0",
   "metadata": {
    "papermill": {
     "duration": 0.031383,
     "end_time": "2023-05-21T18:28:29.183632",
     "exception": false,
     "start_time": "2023-05-21T18:28:29.152249",
     "status": "completed"
    },
    "tags": []
   },
   "source": [
    "## ROC"
   ]
  },
  {
   "cell_type": "markdown",
   "id": "4f2d947b",
   "metadata": {
    "papermill": {
     "duration": 0.031255,
     "end_time": "2023-05-21T18:28:29.246419",
     "exception": false,
     "start_time": "2023-05-21T18:28:29.215164",
     "status": "completed"
    },
    "tags": []
   },
   "source": [
    "### Compute ROC curve and ROC area for each class"
   ]
  },
  {
   "cell_type": "code",
   "execution_count": 39,
   "id": "a2726162",
   "metadata": {
    "execution": {
     "iopub.execute_input": "2023-05-21T18:28:29.310905Z",
     "iopub.status.busy": "2023-05-21T18:28:29.310318Z",
     "iopub.status.idle": "2023-05-21T18:28:29.590059Z",
     "shell.execute_reply": "2023-05-21T18:28:29.589225Z"
    },
    "papermill": {
     "duration": 0.314185,
     "end_time": "2023-05-21T18:28:29.591954",
     "exception": false,
     "start_time": "2023-05-21T18:28:29.277769",
     "status": "completed"
    },
    "tags": []
   },
   "outputs": [
    {
     "data": {
      "image/png": "[encoded data removed]",
      "text/plain": [
       "<Figure size 640x480 with 1 Axes>"
      ]
     },
     "metadata": {},
     "output_type": "display_data"
    }
   ],
   "source": [
    "fpr = {}\n",
    "tpr = {}\n",
    "roc_auc = dict()\n",
    "for i in range(num_classes):\n",
    "    fpr[i], tpr[i], _ = roc_curve(y_test[:, i], y_prob[:, i], drop_intermediate=False)\n",
    "    roc_auc[i] = auc(fpr[i], tpr[i])\n",
    "\n",
    "\n",
    "# plot the ROC curve for each class\n",
    "for i in range(num_classes):\n",
    "    plt.plot(fpr[i], tpr[i], label='Class {}: AUC={:.3f}'.format(i, roc_auc[i]))\n",
    "\n",
    "plt.xlabel('False Positive Rate')\n",
    "plt.ylabel('True Positive Rate')\n",
    "plt.legend()\n",
    "plt.show()"
   ]
  },
  {
   "cell_type": "markdown",
   "id": "f03b28a4",
   "metadata": {
    "papermill": {
     "duration": 0.032469,
     "end_time": "2023-05-21T18:28:29.656589",
     "exception": false,
     "start_time": "2023-05-21T18:28:29.624120",
     "status": "completed"
    },
    "tags": []
   },
   "source": [
    "## MCC and Kappa Score"
   ]
  },
  {
   "cell_type": "code",
   "execution_count": 40,
   "id": "1e4135e6",
   "metadata": {
    "execution": {
     "iopub.execute_input": "2023-05-21T18:28:29.722679Z",
     "iopub.status.busy": "2023-05-21T18:28:29.722403Z",
     "iopub.status.idle": "2023-05-21T18:28:29.731518Z",
     "shell.execute_reply": "2023-05-21T18:28:29.730499Z"
    },
    "papermill": {
     "duration": 0.044852,
     "end_time": "2023-05-21T18:28:29.733465",
     "exception": false,
     "start_time": "2023-05-21T18:28:29.688613",
     "status": "completed"
    },
    "tags": []
   },
   "outputs": [
    {
     "name": "stdout",
     "output_type": "stream",
     "text": [
      "MCC: 73.59%\n",
      "Kappa Score: 73.39%\n"
     ]
    }
   ],
   "source": [
    "from sklearn.metrics import matthews_corrcoef, cohen_kappa_score\n",
    "\n",
    "# y_true are the true labels of the test set\n",
    "# y_pred are the predicted labels of the test set\n",
    "mcc = matthews_corrcoef(y_true, y_pred)\n",
    "kappa = cohen_kappa_score(y_true, y_pred)\n",
    "print(\"MCC: {:.2f}%\".format(mcc*100))\n",
    "print(\"Kappa Score: {:.2f}%\".format(kappa*100))"
   ]
  },
  {
   "cell_type": "code",
   "execution_count": 41,
   "id": "d6f9570e",
   "metadata": {
    "execution": {
     "iopub.execute_input": "2023-05-21T18:28:29.799103Z",
     "iopub.status.busy": "2023-05-21T18:28:29.798810Z",
     "iopub.status.idle": "2023-05-21T18:28:29.865211Z",
     "shell.execute_reply": "2023-05-21T18:28:29.864051Z"
    },
    "papermill": {
     "duration": 0.101558,
     "end_time": "2023-05-21T18:28:29.867328",
     "exception": false,
     "start_time": "2023-05-21T18:28:29.765770",
     "status": "completed"
    },
    "tags": []
   },
   "outputs": [
    {
     "name": "stdout",
     "output_type": "stream",
     "text": [
      "MCC per class:\n",
      "Class 0: 65.32%\n",
      "Class 1: 78.57%\n",
      "Class 2: 67.07%\n",
      "Class 3: 61.42%\n",
      "Class 4: 59.98%\n",
      "Class 5: 79.26%\n",
      "Class 6: 94.81%\n",
      "Kappa Score per class:\n",
      "Class 0: 64.09%\n",
      "Class 1: 78.56%\n",
      "Class 2: 67.07%\n",
      "Class 3: 61.24%\n",
      "Class 4: 58.29%\n",
      "Class 5: 79.04%\n",
      "Class 6: 94.68%\n"
     ]
    }
   ],
   "source": [
    "### Individual Class Wise MCC and Kappa\n",
    "\n",
    "from sklearn.metrics import confusion_matrix, matthews_corrcoef, cohen_kappa_score\n",
    "# y_true are the true labels of the test set\n",
    "# y_pred are the predicted labels of the test set\n",
    "conf_mat = confusion_matrix(y_true, y_pred)\n",
    "mcc_per_class = {}\n",
    "kappa_per_class = {}\n",
    "\n",
    "for i in range(len(conf_mat)):\n",
    "    tp = conf_mat[i][i]\n",
    "    fp = sum(conf_mat[:, i]) - tp\n",
    "    fn = sum(conf_mat[i, :]) - tp\n",
    "    tn = sum(sum(conf_mat)) - tp - fp - fn\n",
    "\n",
    "    mcc_per_class[i] = matthews_corrcoef([1 if x==i else 0 for x in y_true], [1 if x==i else 0 for x in y_pred])\n",
    "    kappa_per_class[i] = cohen_kappa_score([1 if x==i else 0 for x in y_true], [1 if x==i else 0 for x in y_pred])\n",
    "\n",
    "print(\"MCC per class:\")\n",
    "for i, mcc in mcc_per_class.items():\n",
    "    print(\"Class {}: {:.2f}%\".format(i, mcc*100))\n",
    "\n",
    "print(\"Kappa Score per class:\")\n",
    "for i, kappa in kappa_per_class.items():\n",
    "    print(\"Class {}: {:.2f}%\".format(i, kappa*100))"
   ]
  }
 ],
 "metadata": {
  "kernelspec": {
   "display_name": "Python 3",
   "language": "python",
   "name": "python3"
  },
  "language_info": {
   "codemirror_mode": {
    "name": "ipython",
    "version": 3
   },
   "file_extension": ".py",
   "mimetype": "text/x-python",
   "name": "python",
   "nbconvert_exporter": "python",
   "pygments_lexer": "ipython3",
   "version": "3.10.10"
  },
  "papermill": {
   "default_parameters": {},
   "duration": 22425.826202,
   "end_time": "2023-05-21T18:28:32.763406",
   "environment_variables": {},
   "exception": null,
   "input_path": "__notebook__.ipynb",
   "output_path": "__notebook__.ipynb",
   "parameters": {},
   "start_time": "2023-05-21T12:14:46.937204",
   "version": "2.4.0"
  }
 },
 "nbformat": 4,
 "nbformat_minor": 5
}
