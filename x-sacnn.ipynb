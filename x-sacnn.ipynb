{
 "cells": [
  {
   "cell_type": "markdown",
   "id": "6581067f",
   "metadata": {
    "papermill": {
     "duration": 0.02054,
     "end_time": "2023-05-22T16:37:16.715222",
     "exception": false,
     "start_time": "2023-05-22T16:37:16.694682",
     "status": "completed"
    },
    "tags": []
   },
   "source": [
    "# Libraries"
   ]
  },
  {
   "cell_type": "code",
   "execution_count": 1,
   "id": "335f2faa",
   "metadata": {
    "execution": {
     "iopub.execute_input": "2023-05-22T16:37:16.752757Z",
     "iopub.status.busy": "2023-05-22T16:37:16.752326Z",
     "iopub.status.idle": "2023-05-22T16:37:23.521233Z",
     "shell.execute_reply": "2023-05-22T16:37:23.520363Z"
    },
    "id": "Aa36bMKLze3z",
    "papermill": {
     "duration": 6.786822,
     "end_time": "2023-05-22T16:37:23.523565",
     "exception": false,
     "start_time": "2023-05-22T16:37:16.736743",
     "status": "completed"
    },
    "tags": []
   },
   "outputs": [],
   "source": [
    "import pandas as pd\n",
    "import numpy as np\n",
    "import os\n",
    "import tensorflow as tf\n",
    "import cv2\n",
    "from keras import backend as K\n",
    "from keras.layers import Layer, InputSpec\n",
    "import keras.layers as kl\n",
    "from glob import glob\n",
    "from sklearn.metrics import roc_curve, auc\n",
    "from keras.preprocessing import image\n",
    "from tensorflow.keras.models import Sequential\n",
    "from sklearn.metrics import roc_auc_score\n",
    "from tensorflow.keras import callbacks \n",
    "from tensorflow.keras.callbacks import ModelCheckpoint, EarlyStopping\n",
    "from  matplotlib import pyplot as plt\n",
    "from tensorflow.keras import Model\n",
    "from tensorflow.keras.layers import concatenate, Dense, Conv2D, MaxPooling2D, Flatten, Input, Activation, add, AveragePooling2D, BatchNormalization, Dropout, GlobalAveragePooling2D, GlobalMaxPooling2D\n",
    "%matplotlib inline\n",
    "import shutil\n",
    "from sklearn.metrics import  precision_score, recall_score, accuracy_score, classification_report, confusion_matrix\n",
    "from tensorflow.python.platform import build_info as tf_build_info\n",
    "from tensorflow.keras.preprocessing.image import ImageDataGenerator\n",
    "from sklearn.model_selection import train_test_split\n",
    "\n",
    "from PIL import ImageFile\n",
    "ImageFile.LOAD_TRUNCATED_IMAGES = True"
   ]
  },
  {
   "cell_type": "code",
   "execution_count": 2,
   "id": "f84569d8",
   "metadata": {
    "execution": {
     "iopub.execute_input": "2023-05-22T16:37:23.554525Z",
     "iopub.status.busy": "2023-05-22T16:37:23.553939Z",
     "iopub.status.idle": "2023-05-22T16:37:23.558662Z",
     "shell.execute_reply": "2023-05-22T16:37:23.557733Z"
    },
    "id": "PsoqCvNsgmHP",
    "papermill": {
     "duration": 0.021932,
     "end_time": "2023-05-22T16:37:23.560541",
     "exception": false,
     "start_time": "2023-05-22T16:37:23.538609",
     "status": "completed"
    },
    "tags": []
   },
   "outputs": [],
   "source": [
    "targetnames = ['akiec', 'bcc', 'bkl', 'df', 'mel', 'nv', 'vasc']\n",
    "batch_size = 16\n",
    "image_size = 299"
   ]
  },
  {
   "cell_type": "code",
   "execution_count": 3,
   "id": "9bddffd0",
   "metadata": {
    "execution": {
     "iopub.execute_input": "2023-05-22T16:37:23.590410Z",
     "iopub.status.busy": "2023-05-22T16:37:23.590121Z",
     "iopub.status.idle": "2023-05-22T16:37:23.594162Z",
     "shell.execute_reply": "2023-05-22T16:37:23.593111Z"
    },
    "id": "wNisha_gM3_Z",
    "papermill": {
     "duration": 0.021266,
     "end_time": "2023-05-22T16:37:23.596147",
     "exception": false,
     "start_time": "2023-05-22T16:37:23.574881",
     "status": "completed"
    },
    "tags": []
   },
   "outputs": [],
   "source": [
    "train_path = 'C:/Users/STUDENT/IGAvg/dataset/Splitted_And_Augmented_HAM_15/HAM10K/train_dir'\n",
    "test_path = 'C:/Users/STUDENT/IGAvg/dataset/Splitted_And_Augmented_HAM_15/HAM10K/test_dir'\n",
    "val_path = 'C:/Users/STUDENT/IGAvg/dataset/Splitted_And_Augmented_HAM_15/HAM10K/val_dir'"
   ]
  },
  {
   "cell_type": "markdown",
   "id": "60b04ecb",
   "metadata": {
    "papermill": {
     "duration": 0.013884,
     "end_time": "2023-05-22T16:37:23.624389",
     "exception": false,
     "start_time": "2023-05-22T16:37:23.610505",
     "status": "completed"
    },
    "tags": []
   },
   "source": [
    "# Dataset generation (Train, Test, Validation)"
   ]
  },
  {
   "cell_type": "code",
   "execution_count": 4,
   "id": "240d1219",
   "metadata": {
    "execution": {
     "iopub.execute_input": "2023-05-22T16:37:23.654555Z",
     "iopub.status.busy": "2023-05-22T16:37:23.653722Z",
     "iopub.status.idle": "2023-05-22T16:37:23.658160Z",
     "shell.execute_reply": "2023-05-22T16:37:23.657240Z"
    },
    "id": "zhQWqdRN79B3",
    "papermill": {
     "duration": 0.021265,
     "end_time": "2023-05-22T16:37:23.660086",
     "exception": false,
     "start_time": "2023-05-22T16:37:23.638821",
     "status": "completed"
    },
    "tags": []
   },
   "outputs": [],
   "source": [
    "datagen = ImageDataGenerator(preprocessing_function=tf.keras.applications.xception.preprocess_input)"
   ]
  },
  {
   "cell_type": "code",
   "execution_count": 5,
   "id": "e0b37558",
   "metadata": {
    "execution": {
     "iopub.execute_input": "2023-05-22T16:37:23.689472Z",
     "iopub.status.busy": "2023-05-22T16:37:23.689097Z",
     "iopub.status.idle": "2023-05-22T16:38:29.260696Z",
     "shell.execute_reply": "2023-05-22T16:38:29.259787Z"
    },
    "id": "w9_8FvOO7Rtu",
    "outputId": "7ca88c24-fda8-45d6-cb32-f3a43ae6ba5b",
    "papermill": {
     "duration": 65.588695,
     "end_time": "2023-05-22T16:38:29.262844",
     "exception": false,
     "start_time": "2023-05-22T16:37:23.674149",
     "status": "completed"
    },
    "tags": []
   },
   "outputs": [
    {
     "name": "stdout",
     "output_type": "stream",
     "text": [
      "\n",
      "Train Batches: \n",
      "Found 54782 images belonging to 7 classes.\n",
      "\n",
      "Test Batches: \n",
      "Found 828 images belonging to 7 classes.\n",
      "\n",
      "Val Batches: \n",
      "Found 827 images belonging to 7 classes.\n"
     ]
    }
   ],
   "source": [
    "print(\"\\nTrain Batches: \")\n",
    "train_batches = datagen.flow_from_directory(directory=train_path,\n",
    "                                            target_size=(image_size,image_size),\n",
    "                                            batch_size=batch_size,\n",
    "                                            shuffle=True)\n",
    "\n",
    "print(\"\\nTest Batches: \")\n",
    "test_batches = datagen.flow_from_directory(test_path,\n",
    "                                          target_size=(image_size,image_size),\n",
    "                                          batch_size=batch_size,\n",
    "                                          shuffle=False)\n",
    "print(\"\\nVal Batches: \")\n",
    "val_batches = datagen.flow_from_directory(val_path,\n",
    "                                         target_size=(image_size,image_size),\n",
    "                                         batch_size=batch_size,\n",
    "                                         shuffle=False)"
   ]
  },
  {
   "cell_type": "markdown",
   "id": "ba6049bb",
   "metadata": {
    "papermill": {
     "duration": 0.014518,
     "end_time": "2023-05-22T16:38:29.292339",
     "exception": false,
     "start_time": "2023-05-22T16:38:29.277821",
     "status": "completed"
    },
    "tags": []
   },
   "source": [
    "# Main Model Creation"
   ]
  },
  {
   "cell_type": "markdown",
   "id": "896333c5",
   "metadata": {
    "papermill": {
     "duration": 0.014256,
     "end_time": "2023-05-22T16:38:29.321256",
     "exception": false,
     "start_time": "2023-05-22T16:38:29.307000",
     "status": "completed"
    },
    "tags": []
   },
   "source": [
    "### Soft Attention"
   ]
  },
  {
   "cell_type": "code",
   "execution_count": 6,
   "id": "124bb138",
   "metadata": {
    "execution": {
     "iopub.execute_input": "2023-05-22T16:38:29.352143Z",
     "iopub.status.busy": "2023-05-22T16:38:29.351225Z",
     "iopub.status.idle": "2023-05-22T16:38:29.371575Z",
     "shell.execute_reply": "2023-05-22T16:38:29.370710Z"
    },
    "papermill": {
     "duration": 0.037684,
     "end_time": "2023-05-22T16:38:29.373527",
     "exception": false,
     "start_time": "2023-05-22T16:38:29.335843",
     "status": "completed"
    },
    "tags": []
   },
   "outputs": [],
   "source": [
    "from keras import backend as K\n",
    "from keras.layers import Layer,InputSpec\n",
    "import keras.layers as kl\n",
    "import tensorflow as tf\n",
    "\n",
    "\n",
    "\n",
    "class SoftAttention(Layer):\n",
    "    def __init__(self,ch,m,concat_with_x=False,aggregate=False,**kwargs):\n",
    "        self.channels=int(ch)\n",
    "        self.multiheads = m\n",
    "        self.aggregate_channels = aggregate\n",
    "        self.concat_input_with_scaled = concat_with_x\n",
    "\n",
    "        \n",
    "        super(SoftAttention,self).__init__(**kwargs)\n",
    "\n",
    "    def build(self,input_shape):\n",
    "\n",
    "        self.i_shape = input_shape\n",
    "\n",
    "        kernel_shape_conv3d = (self.channels, 3, 3) + (1, self.multiheads) # DHWC\n",
    "    \n",
    "        self.out_attention_maps_shape = input_shape[0:1]+(self.multiheads,)+input_shape[1:-1]\n",
    "        \n",
    "        if self.aggregate_channels==False:\n",
    "\n",
    "            self.out_features_shape = input_shape[:-1]+(input_shape[-1]+(input_shape[-1]*self.multiheads),)\n",
    "        else:\n",
    "            if self.concat_input_with_scaled:\n",
    "                self.out_features_shape = input_shape[:-1]+(input_shape[-1]*2,)\n",
    "            else:\n",
    "                self.out_features_shape = input_shape\n",
    "        \n",
    "\n",
    "        self.kernel_conv3d = self.add_weight(shape=kernel_shape_conv3d,\n",
    "                                        initializer='he_uniform',\n",
    "                                        name='kernel_conv3d')\n",
    "        self.bias_conv3d = self.add_weight(shape=(self.multiheads,),\n",
    "                                      initializer='zeros',\n",
    "                                      name='bias_conv3d')\n",
    "\n",
    "        super(SoftAttention, self).build(input_shape)\n",
    "\n",
    "    def call(self, x):\n",
    "\n",
    "        exp_x = K.expand_dims(x,axis=-1)\n",
    "\n",
    "        c3d = K.conv3d(exp_x,\n",
    "                     kernel=self.kernel_conv3d,\n",
    "                     strides=(1,1,self.i_shape[-1]), padding='same', data_format='channels_last')\n",
    "        conv3d = K.bias_add(c3d,\n",
    "                        self.bias_conv3d)\n",
    "        conv3d = kl.Activation('relu')(conv3d)\n",
    "\n",
    "        conv3d = K.permute_dimensions(conv3d,pattern=(0,4,1,2,3))\n",
    "\n",
    "        \n",
    "        conv3d = K.squeeze(conv3d, axis=-1)\n",
    "        conv3d = K.reshape(conv3d,shape=(-1, self.multiheads ,self.i_shape[1]*self.i_shape[2]))\n",
    "\n",
    "        softmax_alpha = K.softmax(conv3d, axis=-1) \n",
    "        softmax_alpha = kl.Reshape(target_shape=(self.multiheads, self.i_shape[1],self.i_shape[2]))(softmax_alpha)\n",
    "\n",
    "        \n",
    "        if self.aggregate_channels==False:\n",
    "            exp_softmax_alpha = K.expand_dims(softmax_alpha, axis=-1)       \n",
    "            exp_softmax_alpha = K.permute_dimensions(exp_softmax_alpha,pattern=(0,2,3,1,4))\n",
    "   \n",
    "            x_exp = K.expand_dims(x,axis=-2)\n",
    "   \n",
    "            u = kl.Multiply()([exp_softmax_alpha, x_exp])   \n",
    "  \n",
    "            u = kl.Reshape(target_shape=(self.i_shape[1],self.i_shape[2],u.shape[-1]*u.shape[-2]))(u)\n",
    "\n",
    "        else:\n",
    "            exp_softmax_alpha = K.permute_dimensions(softmax_alpha,pattern=(0,2,3,1))\n",
    "\n",
    "            exp_softmax_alpha = K.sum(exp_softmax_alpha,axis=-1)\n",
    "\n",
    "            exp_softmax_alpha = K.expand_dims(exp_softmax_alpha, axis=-1)\n",
    "\n",
    "            u = kl.Multiply()([exp_softmax_alpha, x])   \n",
    "\n",
    "        if self.concat_input_with_scaled:\n",
    "            o = kl.Concatenate(axis=-1)([u,x])\n",
    "        else:\n",
    "            o = u\n",
    "        \n",
    "        return [o, softmax_alpha]\n",
    "\n",
    "    def compute_output_shape(self, input_shape): \n",
    "        return [self.out_features_shape, self.out_attention_maps_shape]\n",
    "\n",
    "    \n",
    "    def get_config(self):\n",
    "        return super(SoftAttention,self).get_config()\n",
    " "
   ]
  },
  {
   "cell_type": "markdown",
   "id": "6849cd1e",
   "metadata": {
    "papermill": {
     "duration": 0.014493,
     "end_time": "2023-05-22T16:38:29.402630",
     "exception": false,
     "start_time": "2023-05-22T16:38:29.388137",
     "status": "completed"
    },
    "tags": []
   },
   "source": [
    "### Define Model"
   ]
  },
  {
   "cell_type": "code",
   "execution_count": 7,
   "id": "6cf05add",
   "metadata": {
    "execution": {
     "iopub.execute_input": "2023-05-22T16:38:29.433792Z",
     "iopub.status.busy": "2023-05-22T16:38:29.432999Z",
     "iopub.status.idle": "2023-05-22T16:38:38.611499Z",
     "shell.execute_reply": "2023-05-22T16:38:38.610547Z"
    },
    "id": "zhQWqdRN79B3",
    "papermill": {
     "duration": 9.196517,
     "end_time": "2023-05-22T16:38:38.613916",
     "exception": false,
     "start_time": "2023-05-22T16:38:29.417399",
     "status": "completed"
    },
    "tags": []
   },
   "outputs": [],
   "source": [
    "from tensorflow.keras.applications.xception import Xception\n",
    "\n",
    "X = Xception(weights='imagenet', include_top=False, input_shape=(image_size, image_size, 3), pooling='avg')"
   ]
  },
  {
   "cell_type": "markdown",
   "id": "8231190e",
   "metadata": {
    "papermill": {
     "duration": 0.019331,
     "end_time": "2023-05-22T16:38:38.654682",
     "exception": false,
     "start_time": "2023-05-22T16:38:38.635351",
     "status": "completed"
    },
    "tags": []
   },
   "source": [
    "## Fine tuning"
   ]
  },
  {
   "cell_type": "code",
   "execution_count": 8,
   "id": "18f5fa4a",
   "metadata": {
    "execution": {
     "iopub.execute_input": "2023-05-22T16:38:38.694578Z",
     "iopub.status.busy": "2023-05-22T16:38:38.694229Z",
     "iopub.status.idle": "2023-05-22T16:38:38.699825Z",
     "shell.execute_reply": "2023-05-22T16:38:38.698952Z"
    },
    "id": "4d4Ta5LcSYaz",
    "papermill": {
     "duration": 0.028071,
     "end_time": "2023-05-22T16:38:38.701986",
     "exception": false,
     "start_time": "2023-05-22T16:38:38.673915",
     "status": "completed"
    },
    "tags": []
   },
   "outputs": [],
   "source": [
    "MainInput=Input(shape=(image_size, image_size, 3))"
   ]
  },
  {
   "cell_type": "code",
   "execution_count": 9,
   "id": "3a6be259",
   "metadata": {
    "execution": {
     "iopub.execute_input": "2023-05-22T16:38:38.741771Z",
     "iopub.status.busy": "2023-05-22T16:38:38.741503Z",
     "iopub.status.idle": "2023-05-22T16:38:39.099592Z",
     "shell.execute_reply": "2023-05-22T16:38:39.098667Z"
    },
    "papermill": {
     "duration": 0.380747,
     "end_time": "2023-05-22T16:38:39.101957",
     "exception": false,
     "start_time": "2023-05-22T16:38:38.721210",
     "status": "completed"
    },
    "tags": []
   },
   "outputs": [],
   "source": [
    "xception = X(MainInput)"
   ]
  },
  {
   "cell_type": "code",
   "execution_count": 10,
   "id": "99a4a78a",
   "metadata": {
    "execution": {
     "iopub.execute_input": "2023-05-22T16:38:39.142368Z",
     "iopub.status.busy": "2023-05-22T16:38:39.142068Z",
     "iopub.status.idle": "2023-05-22T16:38:39.155821Z",
     "shell.execute_reply": "2023-05-22T16:38:39.154997Z"
    },
    "papermill": {
     "duration": 0.03605,
     "end_time": "2023-05-22T16:38:39.157861",
     "exception": false,
     "start_time": "2023-05-22T16:38:39.121811",
     "status": "completed"
    },
    "tags": []
   },
   "outputs": [],
   "source": [
    "# Reshape the tensor to have 4 dimensions\n",
    "from tensorflow.keras.layers import Reshape\n",
    "reshape = Reshape((16, 16, 8))(xception)"
   ]
  },
  {
   "cell_type": "code",
   "execution_count": 11,
   "id": "53d02f48",
   "metadata": {
    "execution": {
     "iopub.execute_input": "2023-05-22T16:38:39.198127Z",
     "iopub.status.busy": "2023-05-22T16:38:39.197518Z",
     "iopub.status.idle": "2023-05-22T16:38:39.284606Z",
     "shell.execute_reply": "2023-05-22T16:38:39.283760Z"
    },
    "id": "x8mS99J5SYbT",
    "papermill": {
     "duration": 0.10934,
     "end_time": "2023-05-22T16:38:39.286668",
     "exception": false,
     "start_time": "2023-05-22T16:38:39.177328",
     "status": "completed"
    },
    "tags": []
   },
   "outputs": [],
   "source": [
    "# Add convolutional layers with Channel Attention\n",
    "conv = Conv2D(filters=128, kernel_size=(7, 7), activation=\"relu\", padding=\"same\", kernel_initializer='he_normal')(reshape)\n",
    "conv = BatchNormalization()(conv)\n",
    "conv = Conv2D(filters=128, kernel_size=(5, 5), activation=\"relu\", padding=\"same\", kernel_initializer='he_normal')(conv)\n",
    "conv = BatchNormalization()(conv)\n",
    "conv = Conv2D(filters=128, kernel_size=(3, 3), activation=\"relu\", padding=\"same\", kernel_initializer='he_normal')(conv)\n",
    "conv = BatchNormalization()(conv)\n",
    "conv = Conv2D(filters=128, kernel_size=(1, 1), activation=\"relu\", padding=\"same\", kernel_initializer='he_normal')(conv)\n",
    "conv = BatchNormalization()(conv)"
   ]
  },
  {
   "cell_type": "code",
   "execution_count": 12,
   "id": "94936241",
   "metadata": {
    "execution": {
     "iopub.execute_input": "2023-05-22T16:38:39.327006Z",
     "iopub.status.busy": "2023-05-22T16:38:39.326193Z",
     "iopub.status.idle": "2023-05-22T16:38:39.868082Z",
     "shell.execute_reply": "2023-05-22T16:38:39.867190Z"
    },
    "papermill": {
     "duration": 0.564496,
     "end_time": "2023-05-22T16:38:39.870574",
     "exception": false,
     "start_time": "2023-05-22T16:38:39.306078",
     "status": "completed"
    },
    "tags": []
   },
   "outputs": [],
   "source": [
    "attention_layer,map2 = SoftAttention(aggregate=True,m=16,concat_with_x=False,ch=int(conv.shape[-1]),name='soft_attention')(conv)\n",
    "attention_layer=(MaxPooling2D(pool_size=(2, 2),padding=\"same\")(attention_layer))\n",
    "conv=(MaxPooling2D(pool_size=(2, 2),padding=\"same\")(conv))\n",
    "\n",
    "conv = concatenate([conv,attention_layer])\n",
    "conv  = Activation('relu')(conv)\n",
    "conv = Dropout(0.5)(conv)"
   ]
  },
  {
   "cell_type": "code",
   "execution_count": 13,
   "id": "b935296e",
   "metadata": {
    "execution": {
     "iopub.execute_input": "2023-05-22T16:38:39.912575Z",
     "iopub.status.busy": "2023-05-22T16:38:39.910904Z",
     "iopub.status.idle": "2023-05-22T16:38:39.997572Z",
     "shell.execute_reply": "2023-05-22T16:38:39.996745Z"
    },
    "id": "sW4tKg9wSYbk",
    "papermill": {
     "duration": 0.109456,
     "end_time": "2023-05-22T16:38:39.999746",
     "exception": false,
     "start_time": "2023-05-22T16:38:39.890290",
     "status": "completed"
    },
    "tags": []
   },
   "outputs": [],
   "source": [
    "conv = Conv2D(filters=256,kernel_size=(7,7), activation=\"relu\",padding=\"same\",kernel_initializer='he_normal')(conv)\n",
    "conv = BatchNormalization()(conv)\n",
    "conv = Conv2D(filters=256,kernel_size=(5,5), activation=\"relu\",padding=\"same\",kernel_initializer='he_normal')(conv)\n",
    "conv = BatchNormalization()(conv)\n",
    "conv = Conv2D(filters=256,kernel_size=(3,3), activation=\"relu\",padding=\"same\",kernel_initializer='he_normal')(conv)\n",
    "conv = BatchNormalization()(conv)\n",
    "conv = Conv2D(filters=256,kernel_size=(1,1), activation=\"relu\",padding=\"same\",kernel_initializer='he_normal')(conv)\n",
    "conv = BatchNormalization()(conv)"
   ]
  },
  {
   "cell_type": "code",
   "execution_count": 14,
   "id": "92fdc9f7",
   "metadata": {
    "execution": {
     "iopub.execute_input": "2023-05-22T16:38:40.039468Z",
     "iopub.status.busy": "2023-05-22T16:38:40.039187Z",
     "iopub.status.idle": "2023-05-22T16:38:40.083224Z",
     "shell.execute_reply": "2023-05-22T16:38:40.082433Z"
    },
    "papermill": {
     "duration": 0.066411,
     "end_time": "2023-05-22T16:38:40.085443",
     "exception": false,
     "start_time": "2023-05-22T16:38:40.019032",
     "status": "completed"
    },
    "tags": []
   },
   "outputs": [],
   "source": [
    "attention_layer,map2 = SoftAttention(aggregate=True,m=16,concat_with_x=False,ch=int(conv.shape[-1]),name='soft_attention_2')(conv)\n",
    "attention_layer=(MaxPooling2D(pool_size=(2, 2),padding=\"same\")(attention_layer))\n",
    "conv=(MaxPooling2D(pool_size=(2, 2),padding=\"same\")(conv))\n",
    "\n",
    "conv = concatenate([conv,attention_layer])\n",
    "conv  = Activation('relu')(conv)\n",
    "conv = Dropout(0.5)(conv)"
   ]
  },
  {
   "cell_type": "code",
   "execution_count": 15,
   "id": "4e9a69f8",
   "metadata": {
    "execution": {
     "iopub.execute_input": "2023-05-22T16:38:40.125678Z",
     "iopub.status.busy": "2023-05-22T16:38:40.125096Z",
     "iopub.status.idle": "2023-05-22T16:38:40.129706Z",
     "shell.execute_reply": "2023-05-22T16:38:40.128833Z"
    },
    "papermill": {
     "duration": 0.027253,
     "end_time": "2023-05-22T16:38:40.132102",
     "exception": false,
     "start_time": "2023-05-22T16:38:40.104849",
     "status": "completed"
    },
    "tags": []
   },
   "outputs": [
    {
     "name": "stdout",
     "output_type": "stream",
     "text": [
      "7\n"
     ]
    }
   ],
   "source": [
    "num_classes = test_batches.num_classes\n",
    "print(num_classes)"
   ]
  },
  {
   "cell_type": "code",
   "execution_count": 16,
   "id": "80bd6870",
   "metadata": {
    "execution": {
     "iopub.execute_input": "2023-05-22T16:38:40.172184Z",
     "iopub.status.busy": "2023-05-22T16:38:40.171400Z",
     "iopub.status.idle": "2023-05-22T16:38:40.222003Z",
     "shell.execute_reply": "2023-05-22T16:38:40.221200Z"
    },
    "id": "-EdFxKdgSYcf",
    "papermill": {
     "duration": 0.072789,
     "end_time": "2023-05-22T16:38:40.224068",
     "exception": false,
     "start_time": "2023-05-22T16:38:40.151279",
     "status": "completed"
    },
    "tags": []
   },
   "outputs": [],
   "source": [
    "conv=(Flatten()(conv))\n",
    "conv=(Dense(1024,activation=\"relu\")(conv))\n",
    "conv = Dropout(0.5)(conv)\n",
    "conv=(Dense(512,activation=\"relu\")(conv))\n",
    "conv = Dropout(0.25)(conv)\n",
    "conv=(Dense(num_classes, activation=\"softmax\")(conv))\n",
    "\n",
    "model_x_sa = Model(inputs=MainInput, outputs=conv)"
   ]
  },
  {
   "cell_type": "code",
   "execution_count": 17,
   "id": "7202045e",
   "metadata": {
    "execution": {
     "iopub.execute_input": "2023-05-22T16:38:40.265039Z",
     "iopub.status.busy": "2023-05-22T16:38:40.263674Z",
     "iopub.status.idle": "2023-05-22T16:38:40.364294Z",
     "shell.execute_reply": "2023-05-22T16:38:40.363622Z"
    },
    "id": "ba8ajOckSYcl",
    "outputId": "e69fa749-4741-4f49-ae3e-9f5479e809a8",
    "papermill": {
     "duration": 0.162773,
     "end_time": "2023-05-22T16:38:40.406201",
     "exception": false,
     "start_time": "2023-05-22T16:38:40.243428",
     "status": "completed"
    },
    "tags": []
   },
   "outputs": [
    {
     "name": "stdout",
     "output_type": "stream",
     "text": [
      "Model: \"model\"\n",
      "__________________________________________________________________________________________________\n",
      " Layer (type)                   Output Shape         Param #     Connected to                     \n",
      "==================================================================================================\n",
      " input_2 (InputLayer)           [(None, 299, 299, 3  0           []                               \n",
      "                                )]                                                                \n",
      "                                                                                                  \n",
      " xception (Functional)          (None, 2048)         20861480    ['input_2[0][0]']                \n",
      "                                                                                                  \n",
      " reshape (Reshape)              (None, 16, 16, 8)    0           ['xception[0][0]']               \n",
      "                                                                                                  \n",
      " conv2d_4 (Conv2D)              (None, 16, 16, 128)  50304       ['reshape[0][0]']                \n",
      "                                                                                                  \n",
      " batch_normalization_4 (BatchNo  (None, 16, 16, 128)  512        ['conv2d_4[0][0]']               \n",
      " rmalization)                                                                                     \n",
      "                                                                                                  \n",
      " conv2d_5 (Conv2D)              (None, 16, 16, 128)  409728      ['batch_normalization_4[0][0]']  \n",
      "                                                                                                  \n",
      " batch_normalization_5 (BatchNo  (None, 16, 16, 128)  512        ['conv2d_5[0][0]']               \n",
      " rmalization)                                                                                     \n",
      "                                                                                                  \n",
      " conv2d_6 (Conv2D)              (None, 16, 16, 128)  147584      ['batch_normalization_5[0][0]']  \n",
      "                                                                                                  \n",
      " batch_normalization_6 (BatchNo  (None, 16, 16, 128)  512        ['conv2d_6[0][0]']               \n",
      " rmalization)                                                                                     \n",
      "                                                                                                  \n",
      " conv2d_7 (Conv2D)              (None, 16, 16, 128)  16512       ['batch_normalization_6[0][0]']  \n",
      "                                                                                                  \n",
      " batch_normalization_7 (BatchNo  (None, 16, 16, 128)  512        ['conv2d_7[0][0]']               \n",
      " rmalization)                                                                                     \n",
      "                                                                                                  \n",
      " soft_attention (SoftAttention)  [(None, 16, 16, 128  18448      ['batch_normalization_7[0][0]']  \n",
      "                                ),                                                                \n",
      "                                 (None, 16, 16, 16)                                               \n",
      "                                ]                                                                 \n",
      "                                                                                                  \n",
      " max_pooling2d_1 (MaxPooling2D)  (None, 8, 8, 128)   0           ['batch_normalization_7[0][0]']  \n",
      "                                                                                                  \n",
      " max_pooling2d (MaxPooling2D)   (None, 8, 8, 128)    0           ['soft_attention[0][0]']         \n",
      "                                                                                                  \n",
      " concatenate (Concatenate)      (None, 8, 8, 256)    0           ['max_pooling2d_1[0][0]',        \n",
      "                                                                  'max_pooling2d[0][0]']          \n",
      "                                                                                                  \n",
      " activation (Activation)        (None, 8, 8, 256)    0           ['concatenate[0][0]']            \n",
      "                                                                                                  \n",
      " dropout (Dropout)              (None, 8, 8, 256)    0           ['activation[0][0]']             \n",
      "                                                                                                  \n",
      " conv2d_8 (Conv2D)              (None, 8, 8, 256)    3211520     ['dropout[0][0]']                \n",
      "                                                                                                  \n",
      " batch_normalization_8 (BatchNo  (None, 8, 8, 256)   1024        ['conv2d_8[0][0]']               \n",
      " rmalization)                                                                                     \n",
      "                                                                                                  \n",
      " conv2d_9 (Conv2D)              (None, 8, 8, 256)    1638656     ['batch_normalization_8[0][0]']  \n",
      "                                                                                                  \n",
      " batch_normalization_9 (BatchNo  (None, 8, 8, 256)   1024        ['conv2d_9[0][0]']               \n",
      " rmalization)                                                                                     \n",
      "                                                                                                  \n",
      " conv2d_10 (Conv2D)             (None, 8, 8, 256)    590080      ['batch_normalization_9[0][0]']  \n",
      "                                                                                                  \n",
      " batch_normalization_10 (BatchN  (None, 8, 8, 256)   1024        ['conv2d_10[0][0]']              \n",
      " ormalization)                                                                                    \n",
      "                                                                                                  \n",
      " conv2d_11 (Conv2D)             (None, 8, 8, 256)    65792       ['batch_normalization_10[0][0]'] \n",
      "                                                                                                  \n",
      " batch_normalization_11 (BatchN  (None, 8, 8, 256)   1024        ['conv2d_11[0][0]']              \n",
      " ormalization)                                                                                    \n",
      "                                                                                                  \n",
      " soft_attention_2 (SoftAttentio  [(None, 8, 8, 256),  36880      ['batch_normalization_11[0][0]'] \n",
      " n)                              (None, 16, 8, 8)]                                                \n",
      "                                                                                                  \n",
      " max_pooling2d_3 (MaxPooling2D)  (None, 4, 4, 256)   0           ['batch_normalization_11[0][0]'] \n",
      "                                                                                                  \n",
      " max_pooling2d_2 (MaxPooling2D)  (None, 4, 4, 256)   0           ['soft_attention_2[0][0]']       \n",
      "                                                                                                  \n",
      " concatenate_1 (Concatenate)    (None, 4, 4, 512)    0           ['max_pooling2d_3[0][0]',        \n",
      "                                                                  'max_pooling2d_2[0][0]']        \n",
      "                                                                                                  \n",
      " activation_1 (Activation)      (None, 4, 4, 512)    0           ['concatenate_1[0][0]']          \n",
      "                                                                                                  \n",
      " dropout_1 (Dropout)            (None, 4, 4, 512)    0           ['activation_1[0][0]']           \n",
      "                                                                                                  \n",
      " flatten (Flatten)              (None, 8192)         0           ['dropout_1[0][0]']              \n",
      "                                                                                                  \n",
      " dense (Dense)                  (None, 1024)         8389632     ['flatten[0][0]']                \n"
     ]
    },
    {
     "name": "stdout",
     "output_type": "stream",
     "text": [
      "                                                                                                  \n",
      " dropout_2 (Dropout)            (None, 1024)         0           ['dense[0][0]']                  \n",
      "                                                                                                  \n",
      " dense_1 (Dense)                (None, 512)          524800      ['dropout_2[0][0]']              \n",
      "                                                                                                  \n",
      " dropout_3 (Dropout)            (None, 512)          0           ['dense_1[0][0]']                \n",
      "                                                                                                  \n",
      " dense_2 (Dense)                (None, 7)            3591        ['dropout_3[0][0]']              \n",
      "                                                                                                  \n",
      "==================================================================================================\n",
      "Total params: 35,971,151\n",
      "Trainable params: 35,913,551\n",
      "Non-trainable params: 57,600\n",
      "__________________________________________________________________________________________________\n"
     ]
    }
   ],
   "source": [
    "model_x_sa.summary()"
   ]
  },
  {
   "cell_type": "code",
   "execution_count": 18,
   "id": "7b48053a",
   "metadata": {
    "execution": {
     "iopub.execute_input": "2023-05-22T16:38:40.460688Z",
     "iopub.status.busy": "2023-05-22T16:38:40.460298Z",
     "iopub.status.idle": "2023-05-22T16:38:40.481057Z",
     "shell.execute_reply": "2023-05-22T16:38:40.480147Z"
    },
    "id": "WR0fUpy18vAZ",
    "papermill": {
     "duration": 0.050463,
     "end_time": "2023-05-22T16:38:40.483275",
     "exception": false,
     "start_time": "2023-05-22T16:38:40.432812",
     "status": "completed"
    },
    "tags": []
   },
   "outputs": [],
   "source": [
    "opt1=tf.keras.optimizers.Adam(learning_rate=0.001,epsilon=0.1)\n",
    "model_x_sa.compile(optimizer=opt1,\n",
    "             loss='categorical_crossentropy',\n",
    "             metrics=['accuracy'])"
   ]
  },
  {
   "cell_type": "code",
   "execution_count": 19,
   "id": "0943a7d0",
   "metadata": {
    "execution": {
     "iopub.execute_input": "2023-05-22T16:38:40.539558Z",
     "iopub.status.busy": "2023-05-22T16:38:40.539266Z",
     "iopub.status.idle": "2023-05-22T16:38:40.543934Z",
     "shell.execute_reply": "2023-05-22T16:38:40.543014Z"
    },
    "id": "LAf5ha295reS",
    "papermill": {
     "duration": 0.035048,
     "end_time": "2023-05-22T16:38:40.545856",
     "exception": false,
     "start_time": "2023-05-22T16:38:40.510808",
     "status": "completed"
    },
    "tags": []
   },
   "outputs": [],
   "source": [
    "class_weights = {   \n",
    "                    0: 1.0,  # akiec\n",
    "                    1: 1.0,  # bcc\n",
    "                    2: 1.0,  # bkl\n",
    "                    3: 1.0,  # df\n",
    "                    4: 1.0,  # mel\n",
    "                    5: 1.0,  # nv\n",
    "                    6: 1.0  # vasc\n",
    "                }"
   ]
  },
  {
   "cell_type": "code",
   "execution_count": 20,
   "id": "4e9bc046",
   "metadata": {
    "execution": {
     "iopub.execute_input": "2023-05-22T16:38:40.600282Z",
     "iopub.status.busy": "2023-05-22T16:38:40.600022Z",
     "iopub.status.idle": "2023-05-22T16:38:40.604296Z",
     "shell.execute_reply": "2023-05-22T16:38:40.603346Z"
    },
    "papermill": {
     "duration": 0.034048,
     "end_time": "2023-05-22T16:38:40.606545",
     "exception": false,
     "start_time": "2023-05-22T16:38:40.572497",
     "status": "completed"
    },
    "tags": []
   },
   "outputs": [],
   "source": [
    "checkpoint = ModelCheckpoint(filepath ='X_SA.hdf5', monitor='val_accuracy', save_best_only=True, save_weights_only=True)\n",
    "Earlystop = EarlyStopping(monitor='val_accuracy', mode='max', patience=25, min_delta=0.01)"
   ]
  },
  {
   "cell_type": "code",
   "execution_count": 21,
   "id": "5a057a7b",
   "metadata": {
    "execution": {
     "iopub.execute_input": "2023-05-22T16:38:40.660533Z",
     "iopub.status.busy": "2023-05-22T16:38:40.660250Z"
    },
    "id": "NUzTmiZ-8hL3",
    "outputId": "e1825ff2-9f9c-436f-cf2c-9776af8eee62",
    "papermill": {
     "duration": null,
     "end_time": null,
     "exception": false,
     "start_time": "2023-05-22T16:38:40.632966",
     "status": "running"
    },
    "tags": []
   },
   "outputs": [
    {
     "name": "stdout",
     "output_type": "stream",
     "text": [
      "Epoch 1/50\n",
      "3424/3424 - 866s - loss: 1.3680 - accuracy: 0.4879 - val_loss: 0.4452 - val_accuracy: 0.8464 - 866s/epoch - 253ms/step\n",
      "Epoch 2/50\n",
      "3424/3424 - 857s - loss: 0.6636 - accuracy: 0.7470 - val_loss: 0.4040 - val_accuracy: 0.8694 - 857s/epoch - 250ms/step\n",
      "Epoch 3/50\n",
      "3424/3424 - 857s - loss: 0.4157 - accuracy: 0.8472 - val_loss: 0.3699 - val_accuracy: 0.8888 - 857s/epoch - 250ms/step\n",
      "Epoch 4/50\n",
      "3424/3424 - 857s - loss: 0.2685 - accuracy: 0.9056 - val_loss: 0.3488 - val_accuracy: 0.9093 - 857s/epoch - 250ms/step\n",
      "Epoch 5/50\n",
      "3424/3424 - 857s - loss: 0.1794 - accuracy: 0.9383 - val_loss: 0.3882 - val_accuracy: 0.9105 - 857s/epoch - 250ms/step\n",
      "Epoch 6/50\n",
      "3424/3424 - 857s - loss: 0.1258 - accuracy: 0.9583 - val_loss: 0.3946 - val_accuracy: 0.9069 - 857s/epoch - 250ms/step\n",
      "Epoch 7/50\n",
      "3424/3424 - 857s - loss: 0.0902 - accuracy: 0.9697 - val_loss: 0.4894 - val_accuracy: 0.9008 - 857s/epoch - 250ms/step\n",
      "Epoch 8/50\n",
      "3424/3424 - 857s - loss: 0.0698 - accuracy: 0.9779 - val_loss: 0.4617 - val_accuracy: 0.9045 - 857s/epoch - 250ms/step\n",
      "Epoch 9/50\n",
      "3424/3424 - 856s - loss: 0.0513 - accuracy: 0.9833 - val_loss: 0.4596 - val_accuracy: 0.9129 - 856s/epoch - 250ms/step\n",
      "Epoch 10/50\n",
      "3424/3424 - 856s - loss: 0.0390 - accuracy: 0.9880 - val_loss: 0.4626 - val_accuracy: 0.9069 - 856s/epoch - 250ms/step\n",
      "Epoch 11/50\n",
      "3424/3424 - 857s - loss: 0.0331 - accuracy: 0.9897 - val_loss: 0.5120 - val_accuracy: 0.9117 - 857s/epoch - 250ms/step\n",
      "Epoch 12/50\n",
      "3424/3424 - 857s - loss: 0.0308 - accuracy: 0.9907 - val_loss: 0.5236 - val_accuracy: 0.9154 - 857s/epoch - 250ms/step\n",
      "Epoch 13/50\n",
      "3424/3424 - 857s - loss: 0.0248 - accuracy: 0.9920 - val_loss: 0.5179 - val_accuracy: 0.9033 - 857s/epoch - 250ms/step\n",
      "Epoch 14/50\n",
      "3424/3424 - 857s - loss: 0.0213 - accuracy: 0.9930 - val_loss: 0.5289 - val_accuracy: 0.8936 - 857s/epoch - 250ms/step\n",
      "Epoch 15/50\n",
      "3424/3424 - 857s - loss: 0.0181 - accuracy: 0.9945 - val_loss: 0.6327 - val_accuracy: 0.9045 - 857s/epoch - 250ms/step\n",
      "Epoch 16/50\n",
      "3424/3424 - 856s - loss: 0.0194 - accuracy: 0.9940 - val_loss: 0.5701 - val_accuracy: 0.9069 - 856s/epoch - 250ms/step\n",
      "Epoch 17/50\n",
      "3424/3424 - 856s - loss: 0.0156 - accuracy: 0.9948 - val_loss: 0.6505 - val_accuracy: 0.9033 - 856s/epoch - 250ms/step\n",
      "Epoch 18/50\n",
      "3424/3424 - 855s - loss: 0.0146 - accuracy: 0.9954 - val_loss: 0.5304 - val_accuracy: 0.9069 - 855s/epoch - 250ms/step\n",
      "Epoch 19/50\n",
      "3424/3424 - 856s - loss: 0.0149 - accuracy: 0.9955 - val_loss: 0.7063 - val_accuracy: 0.9045 - 856s/epoch - 250ms/step\n",
      "Epoch 20/50\n",
      "3424/3424 - 855s - loss: 0.0095 - accuracy: 0.9971 - val_loss: 0.6402 - val_accuracy: 0.8996 - 855s/epoch - 250ms/step\n",
      "Epoch 21/50\n",
      "3424/3424 - 855s - loss: 0.0121 - accuracy: 0.9964 - val_loss: 0.5759 - val_accuracy: 0.9033 - 855s/epoch - 250ms/step\n",
      "Epoch 22/50\n",
      "3424/3424 - 855s - loss: 0.0116 - accuracy: 0.9965 - val_loss: 0.5821 - val_accuracy: 0.9021 - 855s/epoch - 250ms/step\n",
      "Epoch 23/50\n",
      "3424/3424 - 856s - loss: 0.0083 - accuracy: 0.9976 - val_loss: 0.6376 - val_accuracy: 0.9021 - 856s/epoch - 250ms/step\n",
      "Epoch 24/50\n",
      "3424/3424 - 856s - loss: 0.0067 - accuracy: 0.9979 - val_loss: 0.6436 - val_accuracy: 0.8972 - 856s/epoch - 250ms/step\n",
      "Epoch 25/50\n",
      "3424/3424 - 856s - loss: 0.0091 - accuracy: 0.9970 - val_loss: 0.6479 - val_accuracy: 0.9069 - 856s/epoch - 250ms/step\n",
      "Epoch 26/50\n",
      "3424/3424 - 856s - loss: 0.0071 - accuracy: 0.9977 - val_loss: 0.6246 - val_accuracy: 0.9093 - 856s/epoch - 250ms/step\n",
      "Epoch 27/50\n",
      "3424/3424 - 855s - loss: 0.0080 - accuracy: 0.9976 - val_loss: 0.6135 - val_accuracy: 0.9093 - 855s/epoch - 250ms/step\n",
      "Epoch 28/50\n",
      "3424/3424 - 856s - loss: 0.0059 - accuracy: 0.9983 - val_loss: 0.5779 - val_accuracy: 0.9081 - 856s/epoch - 250ms/step\n",
      "Epoch 29/50\n",
      "3424/3424 - 856s - loss: 0.0048 - accuracy: 0.9985 - val_loss: 0.7065 - val_accuracy: 0.9057 - 856s/epoch - 250ms/step\n"
     ]
    }
   ],
   "source": [
    "history = model_x_sa.fit(train_batches,\n",
    "                         epochs=50,\n",
    "                         verbose=2,\n",
    "                         validation_data=val_batches,\n",
    "                         callbacks=[checkpoint,Earlystop],\n",
    "                         class_weight=class_weights)"
   ]
  },
  {
   "cell_type": "markdown",
   "id": "1c219e65",
   "metadata": {
    "papermill": {
     "duration": null,
     "end_time": null,
     "exception": null,
     "start_time": null,
     "status": "pending"
    },
    "tags": []
   },
   "source": [
    "### Plotting accuracy and loss"
   ]
  },
  {
   "cell_type": "code",
   "execution_count": 22,
   "id": "c0b17353",
   "metadata": {
    "execution": {
     "iopub.execute_input": "2023-05-19T07:40:37.676811Z",
     "iopub.status.busy": "2023-05-19T07:40:37.675881Z",
     "iopub.status.idle": "2023-05-19T07:41:27.999965Z",
     "shell.execute_reply": "2023-05-19T07:41:27.998917Z"
    },
    "papermill": {
     "duration": null,
     "end_time": null,
     "exception": null,
     "start_time": null,
     "status": "pending"
    },
    "tags": []
   },
   "outputs": [
    {
     "name": "stdout",
     "output_type": "stream",
     "text": [
      "Number of epochs trained: 29\n"
     ]
    },
    {
     "data": {
      "image/png": "[encoded data removed]",
      "text/plain": [
       "<Figure size 1500x500 with 2 Axes>"
      ]
     },
     "metadata": {},
     "output_type": "display_data"
    }
   ],
   "source": [
    "# Determine number of epochs trained\n",
    "num_epochs_trained = len(history.history['val_loss'])\n",
    "print(f\"Number of epochs trained: {num_epochs_trained}\")\n",
    "\n",
    "## History plotting\n",
    "epochs = [i for i in range(num_epochs_trained)]\n",
    "fig , ax = plt.subplots(1,2)\n",
    "train_acc = history.history['accuracy']\n",
    "train_loss = history.history['loss']\n",
    "val_acc = history.history['val_accuracy']\n",
    "val_loss = history.history['val_loss']\n",
    "fig.set_size_inches(15,5)\n",
    "\n",
    "ax[0].plot(epochs , train_acc , 'go-' , label = 'Training Accuracy')\n",
    "ax[0].plot(epochs , val_acc , 'ro-' , label = 'Validation Accuracy')\n",
    "title_font = {'fontname':'Times New Roman', 'size':'14', 'color':'black', 'weight':'normal'}\n",
    "ax[0].set_title('Model Accuracy', fontdict=title_font)\n",
    "legend_font = {'family': 'Times New Roman', 'size': '12', 'weight': 'normal'}\n",
    "ax[0].legend(prop=legend_font)\n",
    "label_font = {'fontname':'Times New Roman', 'size':'12', 'color':'black', 'weight':'normal'}\n",
    "ax[0].set_xlabel(\"Epochs\",  fontdict=label_font)\n",
    "ax[0].set_ylabel(\"Accuracy\",  fontdict=label_font)\n",
    "\n",
    "ax[1].plot(epochs , train_loss , 'g-o' , label = 'Training Loss')\n",
    "ax[1].plot(epochs , val_loss , 'r-o' , label = 'Validation Loss')\n",
    "ax[1].set_title('Model Loss', fontdict=title_font)\n",
    "ax[1].legend(prop=legend_font)\n",
    "ax[1].set_xlabel(\"Epochs\", fontdict=label_font)\n",
    "ax[1].set_ylabel(\"Loss\", fontdict=label_font)\n",
    "plt.show()"
   ]
  },
  {
   "cell_type": "code",
   "execution_count": 23,
   "id": "f48b2064",
   "metadata": {
    "execution": {
     "iopub.execute_input": "2023-05-19T07:41:28.095997Z",
     "iopub.status.busy": "2023-05-19T07:41:28.095653Z",
     "iopub.status.idle": "2023-05-19T07:41:28.374990Z",
     "shell.execute_reply": "2023-05-19T07:41:28.373918Z"
    },
    "id": "zm_AewFBXTj8",
    "papermill": {
     "duration": null,
     "end_time": null,
     "exception": null,
     "start_time": null,
     "status": "pending"
    },
    "tags": []
   },
   "outputs": [],
   "source": [
    "from tensorflow.keras import models\n",
    "model_x_sa.load_weights(\"X_SA.hdf5\")"
   ]
  },
  {
   "cell_type": "code",
   "execution_count": 24,
   "id": "b8005dc1",
   "metadata": {
    "execution": {
     "iopub.execute_input": "2023-05-19T07:41:28.441886Z",
     "iopub.status.busy": "2023-05-19T07:41:28.441534Z",
     "iopub.status.idle": "2023-05-19T07:41:54.408148Z",
     "shell.execute_reply": "2023-05-19T07:41:54.407081Z"
    },
    "papermill": {
     "duration": null,
     "end_time": null,
     "exception": null,
     "start_time": null,
     "status": "pending"
    },
    "tags": []
   },
   "outputs": [
    {
     "name": "stdout",
     "output_type": "stream",
     "text": [
      "52/52 [==============================] - 8s 154ms/step\n"
     ]
    }
   ],
   "source": [
    "predictions = model_x_sa.predict(test_batches)"
   ]
  },
  {
   "cell_type": "code",
   "execution_count": 25,
   "id": "fc393524",
   "metadata": {
    "execution": {
     "iopub.execute_input": "2023-05-19T07:41:54.481799Z",
     "iopub.status.busy": "2023-05-19T07:41:54.481478Z",
     "iopub.status.idle": "2023-05-19T07:41:54.486916Z",
     "shell.execute_reply": "2023-05-19T07:41:54.485789Z"
    },
    "id": "FDTMtBeTdBfU",
    "papermill": {
     "duration": null,
     "end_time": null,
     "exception": null,
     "start_time": null,
     "status": "pending"
    },
    "tags": []
   },
   "outputs": [],
   "source": [
    "#geting predictions on test dataset\n",
    "y_pred = np.argmax(predictions, axis=1)\n",
    "#getting the true labels per image \n",
    "y_true = test_batches.classes\n",
    "#getting the predicted labels per image \n",
    "y_prob = predictions"
   ]
  },
  {
   "cell_type": "code",
   "execution_count": 26,
   "id": "63a10905",
   "metadata": {
    "execution": {
     "iopub.execute_input": "2023-05-19T07:41:54.559047Z",
     "iopub.status.busy": "2023-05-19T07:41:54.558253Z",
     "iopub.status.idle": "2023-05-19T07:41:54.571319Z",
     "shell.execute_reply": "2023-05-19T07:41:54.569877Z"
    },
    "papermill": {
     "duration": null,
     "end_time": null,
     "exception": null,
     "start_time": null,
     "status": "pending"
    },
    "tags": []
   },
   "outputs": [
    {
     "name": "stdout",
     "output_type": "stream",
     "text": [
      "\n",
      "Classification Report:\n",
      "              precision    recall  f1-score   support\n",
      "\n",
      "          AK       0.86      0.55      0.67        22\n",
      "         BCC       0.80      0.74      0.77        27\n",
      "         BKL       0.68      0.74      0.71        66\n",
      "          DF       0.50      0.83      0.62         6\n",
      "         MEL       0.71      0.57      0.63        35\n",
      "          NV       0.96      0.97      0.97       663\n",
      "        VASC       0.90      1.00      0.95         9\n",
      "\n",
      "    accuracy                           0.92       828\n",
      "   macro avg       0.77      0.77      0.76       828\n",
      "weighted avg       0.92      0.92      0.92       828\n",
      "\n"
     ]
    }
   ],
   "source": [
    "classnames = ['AK', 'BCC', 'BKL', 'DF', 'MEL', 'NV', 'VASC']\n",
    "\n",
    "from tensorflow.keras.utils import to_categorical\n",
    "y_test = to_categorical(y_true)\n",
    "\n",
    "report = classification_report(y_true, y_pred, target_names=classnames)\n",
    "\n",
    "print(\"\\nClassification Report:\")\n",
    "print(report)"
   ]
  },
  {
   "cell_type": "code",
   "execution_count": 27,
   "id": "75b097f3",
   "metadata": {
    "execution": {
     "iopub.execute_input": "2023-05-19T07:41:54.643752Z",
     "iopub.status.busy": "2023-05-19T07:41:54.643461Z",
     "iopub.status.idle": "2023-05-19T07:41:55.368100Z",
     "shell.execute_reply": "2023-05-19T07:41:55.366898Z"
    },
    "papermill": {
     "duration": null,
     "end_time": null,
     "exception": null,
     "start_time": null,
     "status": "pending"
    },
    "tags": []
   },
   "outputs": [
    {
     "data": {
      "image/png": "[encoded data removed]",
      "text/plain": [
       "<Figure size 1000x400 with 2 Axes>"
      ]
     },
     "metadata": {},
     "output_type": "display_data"
    }
   ],
   "source": [
    "## Confusion Matrix\n",
    "title_font = {'fontname':'Times New Roman', 'size':'14', 'color':'black', 'weight':'normal'}\n",
    "label_font = {'fontname':'Times New Roman', 'size':'12', 'color':'black', 'weight':'normal'}\n",
    "\n",
    "from sklearn.metrics import confusion_matrix\n",
    "import seaborn as sns\n",
    "# Creating confusion matrix \n",
    "cm = confusion_matrix(y_true, y_pred)\n",
    "# Plotting the confusion matrix\n",
    "plt.figure(figsize=(10,4))\n",
    "sns.heatmap(cm, annot=True, fmt='g', cmap='Blues', xticklabels=targetnames, yticklabels=targetnames)\n",
    "plt.xlabel('Predicted Label', fontdict=label_font)\n",
    "plt.ylabel('True Label', fontdict=label_font)\n",
    "plt.title('Confusion Matrix', fontdict=title_font)\n",
    "plt.show()"
   ]
  },
  {
   "cell_type": "markdown",
   "id": "d772d98f",
   "metadata": {
    "papermill": {
     "duration": null,
     "end_time": null,
     "exception": null,
     "start_time": null,
     "status": "pending"
    },
    "tags": []
   },
   "source": [
    "## Results"
   ]
  },
  {
   "cell_type": "markdown",
   "id": "6843b6c6",
   "metadata": {
    "papermill": {
     "duration": null,
     "end_time": null,
     "exception": null,
     "start_time": null,
     "status": "pending"
    },
    "tags": []
   },
   "source": [
    "### Individual Class Accuracy "
   ]
  },
  {
   "cell_type": "code",
   "execution_count": 28,
   "id": "7a25ffc4",
   "metadata": {
    "execution": {
     "iopub.execute_input": "2023-05-19T07:41:55.584149Z",
     "iopub.status.busy": "2023-05-19T07:41:55.583776Z",
     "iopub.status.idle": "2023-05-19T07:41:55.593144Z",
     "shell.execute_reply": "2023-05-19T07:41:55.591736Z"
    },
    "papermill": {
     "duration": null,
     "end_time": null,
     "exception": null,
     "start_time": null,
     "status": "pending"
    },
    "tags": []
   },
   "outputs": [
    {
     "name": "stdout",
     "output_type": "stream",
     "text": [
      "Overall accuracy: 91.79%\n",
      "Accuracy for each class:\n",
      "Class 0: 54.55%\n",
      "Class 1: 74.07%\n",
      "Class 2: 74.24%\n",
      "Class 3: 83.33%\n",
      "Class 4: 57.14%\n",
      "Class 5: 97.29%\n",
      "Class 6: 100.00%\n"
     ]
    }
   ],
   "source": [
    "# y_true are the true labels of the test set\n",
    "# y_pred are the predicted labels of the test set\n",
    "accuracy = accuracy_score(y_true, y_pred)\n",
    "# Calculate accuracy for each class\n",
    "class_accuracy = cm.diagonal()/cm.sum(axis=1)\n",
    "print(\"Overall accuracy: {:.2f}%\".format(accuracy*100))\n",
    "print(\"Accuracy for each class:\")\n",
    "for i, acc in enumerate(class_accuracy):\n",
    "    print(\"Class {}: {:.2f}%\".format(i, acc*100))"
   ]
  },
  {
   "cell_type": "markdown",
   "id": "787d00ad",
   "metadata": {
    "papermill": {
     "duration": null,
     "end_time": null,
     "exception": null,
     "start_time": null,
     "status": "pending"
    },
    "tags": []
   },
   "source": [
    "### Individual Class Weighted Precision"
   ]
  },
  {
   "cell_type": "code",
   "execution_count": 29,
   "id": "0a3c0c42",
   "metadata": {
    "execution": {
     "iopub.execute_input": "2023-05-19T07:41:55.736164Z",
     "iopub.status.busy": "2023-05-19T07:41:55.735171Z",
     "iopub.status.idle": "2023-05-19T07:41:55.749901Z",
     "shell.execute_reply": "2023-05-19T07:41:55.748516Z"
    },
    "papermill": {
     "duration": null,
     "end_time": null,
     "exception": null,
     "start_time": null,
     "status": "pending"
    },
    "tags": []
   },
   "outputs": [
    {
     "name": "stdout",
     "output_type": "stream",
     "text": [
      "Weighted precision for each class:\n",
      "Class 0: 85.71%\n",
      "Class 1: 80.00%\n",
      "Class 2: 68.06%\n",
      "Class 3: 50.00%\n",
      "Class 4: 71.43%\n",
      "Class 5: 96.41%\n",
      "Class 6: 90.00%\n",
      "Weighted precision: 91.87%\n"
     ]
    }
   ],
   "source": [
    "report = classification_report(y_true, y_pred, output_dict=True)\n",
    "# Extract weighted precision for each class\n",
    "class_precision = {}\n",
    "for class_label in report.keys():\n",
    "    if class_label == 'weighted avg':\n",
    "        class_precision['weighted'] = report[class_label]['precision']\n",
    "    elif class_label.isdigit():\n",
    "        class_precision[int(class_label)] = report[class_label]['precision']\n",
    "print(\"Weighted precision for each class:\")\n",
    "for i, precision in class_precision.items():\n",
    "    if i == 'weighted':\n",
    "        print(\"Weighted precision: {:.2f}%\".format(precision*100))\n",
    "    else:\n",
    "        print(\"Class {}: {:.2f}%\".format(i, precision*100))"
   ]
  },
  {
   "cell_type": "markdown",
   "id": "dd3ab3be",
   "metadata": {
    "papermill": {
     "duration": null,
     "end_time": null,
     "exception": null,
     "start_time": null,
     "status": "pending"
    },
    "tags": []
   },
   "source": [
    "### Individual Class Weighted Recall"
   ]
  },
  {
   "cell_type": "code",
   "execution_count": 30,
   "id": "96ceaff9",
   "metadata": {
    "execution": {
     "iopub.execute_input": "2023-05-19T07:41:55.893021Z",
     "iopub.status.busy": "2023-05-19T07:41:55.892153Z",
     "iopub.status.idle": "2023-05-19T07:41:55.906262Z",
     "shell.execute_reply": "2023-05-19T07:41:55.904584Z"
    },
    "papermill": {
     "duration": null,
     "end_time": null,
     "exception": null,
     "start_time": null,
     "status": "pending"
    },
    "tags": []
   },
   "outputs": [
    {
     "name": "stdout",
     "output_type": "stream",
     "text": [
      "Weighted recall for each class:\n",
      "Class 0: 54.55%\n",
      "Class 1: 74.07%\n",
      "Class 2: 74.24%\n",
      "Class 3: 83.33%\n",
      "Class 4: 57.14%\n",
      "Class 5: 97.29%\n",
      "Class 6: 100.00%\n",
      "Weighted Recall: 91.79%\n"
     ]
    }
   ],
   "source": [
    "report = classification_report(y_true, y_pred, output_dict=True)\n",
    "# Extract weighted recall for each class\n",
    "class_recall = {}\n",
    "for class_label in report.keys():\n",
    "    if class_label == 'weighted avg':\n",
    "        class_recall['weighted'] = report[class_label]['recall']\n",
    "    elif class_label.isdigit():\n",
    "        class_recall[int(class_label)] = report[class_label]['recall']\n",
    "print(\"Weighted recall for each class:\")\n",
    "for i, recall in class_recall.items():\n",
    "    if i == 'weighted':\n",
    "        print(\"Weighted Recall: {:.2f}%\".format(recall*100))\n",
    "    else:\n",
    "        print(\"Class {}: {:.2f}%\".format(i, recall*100))"
   ]
  },
  {
   "cell_type": "markdown",
   "id": "87731818",
   "metadata": {
    "papermill": {
     "duration": null,
     "end_time": null,
     "exception": null,
     "start_time": null,
     "status": "pending"
    },
    "tags": []
   },
   "source": [
    "### Individual Class Weighted F1-score"
   ]
  },
  {
   "cell_type": "code",
   "execution_count": 31,
   "id": "497012ca",
   "metadata": {
    "execution": {
     "iopub.execute_input": "2023-05-19T07:41:56.051902Z",
     "iopub.status.busy": "2023-05-19T07:41:56.051561Z",
     "iopub.status.idle": "2023-05-19T07:41:56.067240Z",
     "shell.execute_reply": "2023-05-19T07:41:56.065584Z"
    },
    "papermill": {
     "duration": null,
     "end_time": null,
     "exception": null,
     "start_time": null,
     "status": "pending"
    },
    "tags": []
   },
   "outputs": [
    {
     "name": "stdout",
     "output_type": "stream",
     "text": [
      "Weighted F1-score for each class:\n",
      "Class 0: 66.67%\n",
      "Class 1: 76.92%\n",
      "Class 2: 71.01%\n",
      "Class 3: 62.50%\n",
      "Class 4: 63.49%\n",
      "Class 5: 96.85%\n",
      "Class 6: 94.74%\n",
      "Weighted F1-score: 91.65%\n"
     ]
    }
   ],
   "source": [
    "report = classification_report(y_true, y_pred, output_dict=True)\n",
    "# Extract weighted F1-score for each class\n",
    "class_f1 = {}\n",
    "for class_label in report.keys():\n",
    "    if class_label == 'weighted avg':\n",
    "        class_f1['weighted'] = report[class_label]['f1-score']\n",
    "    elif class_label.isdigit():\n",
    "        class_f1[int(class_label)] = report[class_label]['f1-score']\n",
    "print(\"Weighted F1-score for each class:\")\n",
    "for i, f1_score in class_f1.items():\n",
    "    if i == 'weighted':\n",
    "        print(\"Weighted F1-score: {:.2f}%\".format(f1_score*100))\n",
    "    else:\n",
    "        print(\"Class {}: {:.2f}%\".format(i, f1_score*100))"
   ]
  },
  {
   "cell_type": "markdown",
   "id": "1876a7d1",
   "metadata": {
    "papermill": {
     "duration": null,
     "end_time": null,
     "exception": null,
     "start_time": null,
     "status": "pending"
    },
    "tags": []
   },
   "source": [
    "### Individual Class Precision, Recall and F1-score"
   ]
  },
  {
   "cell_type": "code",
   "execution_count": 32,
   "id": "290e8f3f",
   "metadata": {
    "execution": {
     "iopub.execute_input": "2023-05-19T07:41:56.214684Z",
     "iopub.status.busy": "2023-05-19T07:41:56.214349Z",
     "iopub.status.idle": "2023-05-19T07:41:56.225258Z",
     "shell.execute_reply": "2023-05-19T07:41:56.224106Z"
    },
    "papermill": {
     "duration": null,
     "end_time": null,
     "exception": null,
     "start_time": null,
     "status": "pending"
    },
    "tags": []
   },
   "outputs": [
    {
     "name": "stdout",
     "output_type": "stream",
     "text": [
      "Class-wise weighted precision, recall, and F1-score:\n",
      "Class 0: Precision=0.86, Recall=0.55, F1-score=0.67\n",
      "Class 1: Precision=0.80, Recall=0.74, F1-score=0.77\n",
      "Class 2: Precision=0.68, Recall=0.74, F1-score=0.71\n",
      "Class 3: Precision=0.50, Recall=0.83, F1-score=0.62\n",
      "Class 4: Precision=0.71, Recall=0.57, F1-score=0.63\n",
      "Class 5: Precision=0.96, Recall=0.97, F1-score=0.97\n",
      "Class 6: Precision=0.90, Recall=1.00, F1-score=0.95\n"
     ]
    }
   ],
   "source": [
    "from sklearn.metrics import precision_recall_fscore_support\n",
    "\n",
    "precision_class, recall_class, f1_class, support_class = precision_recall_fscore_support(y_true, y_pred, average=None)\n",
    "print('Class-wise weighted precision, recall, and F1-score:')\n",
    "for i in range(len(precision_class)):\n",
    "    print('Class {}: Precision={:.2f}, Recall={:.2f}, F1-score={:.2f}'.format(i, precision_class[i], recall_class[i], f1_class[i]))\n"
   ]
  },
  {
   "cell_type": "markdown",
   "id": "2d968dfc",
   "metadata": {
    "papermill": {
     "duration": null,
     "end_time": null,
     "exception": null,
     "start_time": null,
     "status": "pending"
    },
    "tags": []
   },
   "source": [
    "### Individual Class Weighted Sensitivity"
   ]
  },
  {
   "cell_type": "code",
   "execution_count": 33,
   "id": "13a8b340",
   "metadata": {
    "execution": {
     "iopub.execute_input": "2023-05-19T07:41:56.370252Z",
     "iopub.status.busy": "2023-05-19T07:41:56.369949Z",
     "iopub.status.idle": "2023-05-19T07:41:56.930088Z",
     "shell.execute_reply": "2023-05-19T07:41:56.928558Z"
    },
    "papermill": {
     "duration": null,
     "end_time": null,
     "exception": null,
     "start_time": null,
     "status": "pending"
    },
    "tags": []
   },
   "outputs": [
    {
     "name": "stdout",
     "output_type": "stream",
     "text": [
      "Weighted Sensitivity:  0.9178743961352657\n",
      "Class  0 :sensitivity = 0.5454545454545454\n",
      "Class  1 :sensitivity = 0.7407407407407407\n",
      "Class  2 :sensitivity = 0.7424242424242424\n",
      "Class  3 :sensitivity = 0.8333333333333334\n",
      "Class  4 :sensitivity = 0.5714285714285714\n",
      "Class  5 :sensitivity = 0.9728506787330317\n",
      "Class  6 :sensitivity = 1.0\n"
     ]
    }
   ],
   "source": [
    "from imblearn.metrics import sensitivity_score\n",
    "\n",
    "sensitivity = sensitivity_score(y_true, y_pred, average='weighted')\n",
    "print(\"Weighted Sensitivity: \", sensitivity)\n",
    "\n",
    "# Calculate class-wise sensitivity\n",
    "sensitivity = sensitivity_score(y_true, y_pred, average=None)\n",
    "\n",
    "# Print sensitivity score for each class\n",
    "for i in range(len(sensitivity)):\n",
    "    print(\"Class \", i, \":sensitivity =\", sensitivity[i])"
   ]
  },
  {
   "cell_type": "markdown",
   "id": "43f61947",
   "metadata": {
    "papermill": {
     "duration": null,
     "end_time": null,
     "exception": null,
     "start_time": null,
     "status": "pending"
    },
    "tags": []
   },
   "source": [
    "### Individual Class Weighted Specificity"
   ]
  },
  {
   "cell_type": "code",
   "execution_count": 34,
   "id": "7f763626",
   "metadata": {
    "execution": {
     "iopub.execute_input": "2023-05-19T07:41:57.077380Z",
     "iopub.status.busy": "2023-05-19T07:41:57.077055Z",
     "iopub.status.idle": "2023-05-19T07:41:57.087888Z",
     "shell.execute_reply": "2023-05-19T07:41:57.086588Z"
    },
    "papermill": {
     "duration": null,
     "end_time": null,
     "exception": null,
     "start_time": null,
     "status": "pending"
    },
    "tags": []
   },
   "outputs": [
    {
     "name": "stdout",
     "output_type": "stream",
     "text": [
      "Weighted Specificity:  0.8803717458792883\n",
      "Class  0 :specificity= 0.9975186104218362\n",
      "Class  1 :specificity= 0.9937578027465668\n",
      "Class  2 :specificity= 0.9698162729658792\n",
      "Class  3 :specificity= 0.9939172749391727\n",
      "Class  4 :specificity= 0.9899117276166457\n",
      "Class  5 :specificity= 0.8545454545454545\n",
      "Class  6 :specificity= 0.9987789987789988\n"
     ]
    }
   ],
   "source": [
    "from imblearn.metrics import specificity_score\n",
    "\n",
    "specificity = specificity_score(y_true, y_pred, average='weighted')\n",
    "print(\"Weighted Specificity: \", specificity)\n",
    "\n",
    "# Calculate class-wise specificity\n",
    "specificity = specificity_score(y_true, y_pred, average=None)\n",
    "\n",
    "# Print sensitivity score for each class\n",
    "for i in range(len(specificity)):\n",
    "    print(\"Class \", i, \":specificity=\", specificity[i])"
   ]
  },
  {
   "cell_type": "markdown",
   "id": "96584e16",
   "metadata": {
    "papermill": {
     "duration": null,
     "end_time": null,
     "exception": null,
     "start_time": null,
     "status": "pending"
    },
    "tags": []
   },
   "source": [
    "### Accuracy"
   ]
  },
  {
   "cell_type": "code",
   "execution_count": 35,
   "id": "39b84af0",
   "metadata": {
    "execution": {
     "iopub.execute_input": "2023-05-19T07:41:57.234623Z",
     "iopub.status.busy": "2023-05-19T07:41:57.234274Z",
     "iopub.status.idle": "2023-05-19T07:41:57.241242Z",
     "shell.execute_reply": "2023-05-19T07:41:57.240059Z"
    },
    "papermill": {
     "duration": null,
     "end_time": null,
     "exception": null,
     "start_time": null,
     "status": "pending"
    },
    "tags": []
   },
   "outputs": [
    {
     "name": "stdout",
     "output_type": "stream",
     "text": [
      "Accuracy: 0.9178743961352657\n"
     ]
    }
   ],
   "source": [
    "print(\"Accuracy: \" + str(accuracy_score(y_true, y_pred)))\n",
    "import numpy as np\n",
    "from sklearn.metrics import accuracy_score"
   ]
  },
  {
   "cell_type": "code",
   "execution_count": 36,
   "id": "cc031182",
   "metadata": {
    "execution": {
     "iopub.execute_input": "2023-05-19T07:41:57.316469Z",
     "iopub.status.busy": "2023-05-19T07:41:57.315568Z",
     "iopub.status.idle": "2023-05-19T07:41:57.334645Z",
     "shell.execute_reply": "2023-05-19T07:41:57.333318Z"
    },
    "papermill": {
     "duration": null,
     "end_time": null,
     "exception": null,
     "start_time": null,
     "status": "pending"
    },
    "tags": []
   },
   "outputs": [
    {
     "name": "stdout",
     "output_type": "stream",
     "text": [
      "Top-1 Accuracy: 0.9178743961352657\n",
      "Top-2 Accuracy: 0.967391304347826\n",
      "Top-3 Accuracy: 0.9879227053140096\n"
     ]
    }
   ],
   "source": [
    "# Calculate top-1 accuracy\n",
    "top1_acc = accuracy_score(y_true, y_pred)\n",
    "print(\"Top-1 Accuracy:\", top1_acc)\n",
    "\n",
    "# Calculate top-2 accuracy\n",
    "y_pred_top2 = np.argsort(-predictions, axis=1)[:, :2] # Get the top 2 predicted classes\n",
    "top2_acc = np.mean(np.array([y_true[i] in y_pred_top2[i] for i in range(len(y_true))]))\n",
    "print(\"Top-2 Accuracy:\", top2_acc)\n",
    "\n",
    "# Calculate top-3 accuracy\n",
    "y_pred_top3 = np.argsort(-predictions, axis=1)[:, :3] # Get the top 3 predicted classes\n",
    "top3_acc = np.mean(np.array([y_true[i] in y_pred_top3[i] for i in range(len(y_true))]))\n",
    "print(\"Top-3 Accuracy:\", top3_acc)\n",
    "from sklearn.metrics import f1_score"
   ]
  },
  {
   "cell_type": "markdown",
   "id": "920af885",
   "metadata": {
    "papermill": {
     "duration": null,
     "end_time": null,
     "exception": null,
     "start_time": null,
     "status": "pending"
    },
    "tags": []
   },
   "source": [
    "### Weighted Evaluation Measures"
   ]
  },
  {
   "cell_type": "code",
   "execution_count": 37,
   "id": "799e467a",
   "metadata": {
    "execution": {
     "iopub.execute_input": "2023-05-19T07:41:57.483428Z",
     "iopub.status.busy": "2023-05-19T07:41:57.483111Z",
     "iopub.status.idle": "2023-05-19T07:41:57.504053Z",
     "shell.execute_reply": "2023-05-19T07:41:57.502744Z"
    },
    "papermill": {
     "duration": null,
     "end_time": null,
     "exception": null,
     "start_time": null,
     "status": "pending"
    },
    "tags": []
   },
   "outputs": [
    {
     "name": "stdout",
     "output_type": "stream",
     "text": [
      "Weighted Precision: 0.918706589565919\n",
      "Weighted Recall: 0.9178743961352657\n",
      "Weighted F1-Score: 0.9165441971734049\n",
      "Weighted Sensitivity: 0.9178743961352657\n",
      "Weighted Specificity: 0.8803717458792883\n",
      "weighted Roc score: 0.974742932148496\n"
     ]
    }
   ],
   "source": [
    "print(\"Weighted Precision: \"+ str(precision_score(y_true, y_pred, average='weighted')))\n",
    "print(\"Weighted Recall: \"+ str(recall_score(y_true, y_pred, average='weighted')))\n",
    "print(\"Weighted F1-Score: \"+ str(f1_score(y_true, y_pred, average='weighted')))\n",
    "print(\"Weighted Sensitivity: \"+ str(sensitivity_score(y_true, y_pred, average='weighted')))\n",
    "print(\"Weighted Specificity: \"+ str(specificity_score(y_true, y_pred, average='weighted')))\n",
    "print(\"weighted Roc score: \" + str(roc_auc_score(y_true,y_prob,multi_class='ovr',average='weighted')))"
   ]
  },
  {
   "cell_type": "markdown",
   "id": "f814b3da",
   "metadata": {
    "papermill": {
     "duration": null,
     "end_time": null,
     "exception": null,
     "start_time": null,
     "status": "pending"
    },
    "tags": []
   },
   "source": [
    "### Macro Evaluation Measures"
   ]
  },
  {
   "cell_type": "code",
   "execution_count": 38,
   "id": "2845be2e",
   "metadata": {
    "execution": {
     "iopub.execute_input": "2023-05-19T07:41:57.651316Z",
     "iopub.status.busy": "2023-05-19T07:41:57.650464Z",
     "iopub.status.idle": "2023-05-19T07:41:57.670584Z",
     "shell.execute_reply": "2023-05-19T07:41:57.669293Z"
    },
    "papermill": {
     "duration": null,
     "end_time": null,
     "exception": null,
     "start_time": null,
     "status": "pending"
    },
    "tags": []
   },
   "outputs": [
    {
     "name": "stdout",
     "output_type": "stream",
     "text": [
      "Macro Precision: 0.7737299553603206\n",
      "Macro Recall: 0.7723188731592093\n",
      "Macro F1-Score: 0.7602571268393433\n",
      "Macro Sensitivity: 0.7723188731592093\n",
      "Macro Specificity: 0.9711780202877934\n",
      "Macro Roc score: 0.9716529229808237\n"
     ]
    }
   ],
   "source": [
    "print(\"Macro Precision: \"+ str(precision_score(y_true, y_pred, average='macro')))\n",
    "print(\"Macro Recall: \"+ str(recall_score(y_true, y_pred, average='macro')))\n",
    "print(\"Macro F1-Score: \"+ str(f1_score(y_true, y_pred, average='macro')))\n",
    "print(\"Macro Sensitivity: \"+ str(sensitivity_score(y_true, y_pred, average='macro')))\n",
    "print(\"Macro Specificity: \"+ str(specificity_score(y_true, y_pred, average='macro')))\n",
    "print(\"Macro Roc score: \" + str(roc_auc_score(y_true,y_prob,multi_class='ovr',average='macro')))"
   ]
  },
  {
   "cell_type": "markdown",
   "id": "2779187a",
   "metadata": {
    "papermill": {
     "duration": null,
     "end_time": null,
     "exception": null,
     "start_time": null,
     "status": "pending"
    },
    "tags": []
   },
   "source": [
    "### Micro Evaluation Measures"
   ]
  },
  {
   "cell_type": "code",
   "execution_count": 39,
   "id": "71116851",
   "metadata": {
    "execution": {
     "iopub.execute_input": "2023-05-19T07:41:57.817054Z",
     "iopub.status.busy": "2023-05-19T07:41:57.815298Z",
     "iopub.status.idle": "2023-05-19T07:41:57.830347Z",
     "shell.execute_reply": "2023-05-19T07:41:57.829052Z"
    },
    "papermill": {
     "duration": null,
     "end_time": null,
     "exception": null,
     "start_time": null,
     "status": "pending"
    },
    "tags": []
   },
   "outputs": [
    {
     "name": "stdout",
     "output_type": "stream",
     "text": [
      "Micro Precision: 0.9178743961352657\n",
      "Micro Recall: 0.9178743961352657\n",
      "Micro F1-Score: 0.9178743961352658\n",
      "Micro Sensitivity: 0.9178743961352657\n",
      "Micro Specificity: 0.9863123993558777\n"
     ]
    }
   ],
   "source": [
    "print(\"Micro Precision: \"+ str(precision_score(y_true, y_pred, average='micro')))\n",
    "print(\"Micro Recall: \"+ str(recall_score(y_true, y_pred, average='micro')))\n",
    "print(\"Micro F1-Score: \"+ str(f1_score(y_true, y_pred, average='micro')))\n",
    "print(\"Micro Sensitivity: \"+ str(sensitivity_score(y_true, y_pred, average='micro')))\n",
    "print(\"Micro Specificity: \"+ str(specificity_score(y_true, y_pred, average='micro')))"
   ]
  },
  {
   "cell_type": "markdown",
   "id": "077cb2a7",
   "metadata": {
    "papermill": {
     "duration": null,
     "end_time": null,
     "exception": null,
     "start_time": null,
     "status": "pending"
    },
    "tags": []
   },
   "source": [
    "## ROC"
   ]
  },
  {
   "cell_type": "markdown",
   "id": "4b66da61",
   "metadata": {
    "papermill": {
     "duration": null,
     "end_time": null,
     "exception": null,
     "start_time": null,
     "status": "pending"
    },
    "tags": []
   },
   "source": [
    "### Compute ROC curve and ROC area for each class"
   ]
  },
  {
   "cell_type": "code",
   "execution_count": 40,
   "id": "8986dade",
   "metadata": {
    "execution": {
     "iopub.execute_input": "2023-05-19T07:41:58.047618Z",
     "iopub.status.busy": "2023-05-19T07:41:58.047312Z",
     "iopub.status.idle": "2023-05-19T07:41:58.331822Z",
     "shell.execute_reply": "2023-05-19T07:41:58.330809Z"
    },
    "papermill": {
     "duration": null,
     "end_time": null,
     "exception": null,
     "start_time": null,
     "status": "pending"
    },
    "tags": []
   },
   "outputs": [
    {
     "data": {
      "image/png": "[encoded data removed]",
      "text/plain": [
       "<Figure size 640x480 with 1 Axes>"
      ]
     },
     "metadata": {},
     "output_type": "display_data"
    }
   ],
   "source": [
    "fpr = {}\n",
    "tpr = {}\n",
    "roc_auc = dict()\n",
    "for i in range(num_classes):\n",
    "    fpr[i], tpr[i], _ = roc_curve(y_test[:, i], y_prob[:, i], drop_intermediate=False)\n",
    "    roc_auc[i] = auc(fpr[i], tpr[i])\n",
    "\n",
    "\n",
    "# plot the ROC curve for each class\n",
    "for i in range(7):\n",
    "    plt.plot(fpr[i], tpr[i], label='Class {}: AUC={:.3f}'.format(i, roc_auc[i]))\n",
    "\n",
    "plt.xlabel('False Positive Rate')\n",
    "plt.ylabel('True Positive Rate')\n",
    "plt.legend()\n",
    "plt.show()"
   ]
  },
  {
   "cell_type": "markdown",
   "id": "e8044b64",
   "metadata": {
    "papermill": {
     "duration": null,
     "end_time": null,
     "exception": null,
     "start_time": null,
     "status": "pending"
    },
    "tags": []
   },
   "source": [
    "## MCC and Kappa Score"
   ]
  },
  {
   "cell_type": "code",
   "execution_count": 41,
   "id": "5c8a2f14",
   "metadata": {
    "execution": {
     "iopub.execute_input": "2023-05-19T07:41:58.482373Z",
     "iopub.status.busy": "2023-05-19T07:41:58.482044Z",
     "iopub.status.idle": "2023-05-19T07:41:58.492193Z",
     "shell.execute_reply": "2023-05-19T07:41:58.490924Z"
    },
    "papermill": {
     "duration": null,
     "end_time": null,
     "exception": null,
     "start_time": null,
     "status": "pending"
    },
    "tags": []
   },
   "outputs": [
    {
     "name": "stdout",
     "output_type": "stream",
     "text": [
      "MCC: 76.10%\n",
      "Kappa Score: 76.06%\n"
     ]
    }
   ],
   "source": [
    "from sklearn.metrics import matthews_corrcoef, cohen_kappa_score\n",
    "\n",
    "# y_true are the true labels of the test set\n",
    "# y_pred are the predicted labels of the test set\n",
    "mcc = matthews_corrcoef(y_true, y_pred)\n",
    "kappa = cohen_kappa_score(y_true, y_pred)\n",
    "print(\"MCC: {:.2f}%\".format(mcc*100))\n",
    "print(\"Kappa Score: {:.2f}%\".format(kappa*100))"
   ]
  },
  {
   "cell_type": "code",
   "execution_count": 42,
   "id": "fef03515",
   "metadata": {
    "execution": {
     "iopub.execute_input": "2023-05-19T07:41:58.573032Z",
     "iopub.status.busy": "2023-05-19T07:41:58.571285Z",
     "iopub.status.idle": "2023-05-19T07:41:58.639168Z",
     "shell.execute_reply": "2023-05-19T07:41:58.637926Z"
    },
    "papermill": {
     "duration": null,
     "end_time": null,
     "exception": null,
     "start_time": null,
     "status": "pending"
    },
    "tags": []
   },
   "outputs": [
    {
     "name": "stdout",
     "output_type": "stream",
     "text": [
      "MCC per class:\n",
      "Class 0: 67.73%\n",
      "Class 1: 76.24%\n",
      "Class 2: 68.46%\n",
      "Class 3: 64.24%\n",
      "Class 4: 62.48%\n",
      "Class 5: 83.91%\n",
      "Class 6: 94.81%\n",
      "Kappa Score per class:\n",
      "Class 0: 65.96%\n",
      "Class 1: 76.18%\n",
      "Class 2: 68.38%\n",
      "Class 3: 62.16%\n",
      "Class 4: 62.07%\n",
      "Class 5: 83.89%\n",
      "Class 6: 94.68%\n"
     ]
    }
   ],
   "source": [
    "### Individual Class Wise MCC and Kappa\n",
    "\n",
    "from sklearn.metrics import confusion_matrix, matthews_corrcoef, cohen_kappa_score\n",
    "# y_true are the true labels of the test set\n",
    "# y_pred are the predicted labels of the test set\n",
    "conf_mat = confusion_matrix(y_true, y_pred)\n",
    "mcc_per_class = {}\n",
    "kappa_per_class = {}\n",
    "\n",
    "for i in range(len(conf_mat)):\n",
    "    tp = conf_mat[i][i]\n",
    "    fp = sum(conf_mat[:, i]) - tp\n",
    "    fn = sum(conf_mat[i, :]) - tp\n",
    "    tn = sum(sum(conf_mat)) - tp - fp - fn\n",
    "\n",
    "    mcc_per_class[i] = matthews_corrcoef([1 if x==i else 0 for x in y_true], [1 if x==i else 0 for x in y_pred])\n",
    "    kappa_per_class[i] = cohen_kappa_score([1 if x==i else 0 for x in y_true], [1 if x==i else 0 for x in y_pred])\n",
    "\n",
    "print(\"MCC per class:\")\n",
    "for i, mcc in mcc_per_class.items():\n",
    "    print(\"Class {}: {:.2f}%\".format(i, mcc*100))\n",
    "\n",
    "print(\"Kappa Score per class:\")\n",
    "for i, kappa in kappa_per_class.items():\n",
    "    print(\"Class {}: {:.2f}%\".format(i, kappa*100))"
   ]
  },
  {
   "cell_type": "code",
   "execution_count": null,
   "id": "12ad4640",
   "metadata": {
    "papermill": {
     "duration": null,
     "end_time": null,
     "exception": null,
     "start_time": null,
     "status": "pending"
    },
    "tags": []
   },
   "outputs": [],
   "source": []
  }
 ],
 "metadata": {
  "kernelspec": {
   "display_name": "Python 3 (ipykernel)",
   "language": "python",
   "name": "python3"
  },
  "language_info": {
   "codemirror_mode": {
    "name": "ipython",
    "version": 3
   },
   "file_extension": ".py",
   "mimetype": "text/x-python",
   "name": "python",
   "nbconvert_exporter": "python",
   "pygments_lexer": "ipython3",
   "version": "3.9.16"
  },
  "papermill": {
   "default_parameters": {},
   "duration": null,
   "end_time": null,
   "environment_variables": {},
   "exception": null,
   "input_path": "__notebook__.ipynb",
   "output_path": "__notebook__.ipynb",
   "parameters": {},
   "start_time": "2023-05-22T16:37:06.868676",
   "version": "2.4.0"
  }
 },
 "nbformat": 4,
 "nbformat_minor": 5
}
