{
 "cells": [
  {
   "cell_type": "markdown",
   "id": "391e1d4b",
   "metadata": {
    "papermill": {
     "duration": 0.014258,
     "end_time": "2023-05-20T13:40:22.539253",
     "exception": false,
     "start_time": "2023-05-20T13:40:22.524995",
     "status": "completed"
    },
    "tags": []
   },
   "source": [
    "# Libraries"
   ]
  },
  {
   "cell_type": "code",
   "execution_count": 1,
   "id": "b7cc3e56",
   "metadata": {
    "execution": {
     "iopub.execute_input": "2023-05-20T13:40:22.569094Z",
     "iopub.status.busy": "2023-05-20T13:40:22.568647Z",
     "iopub.status.idle": "2023-05-20T13:40:29.780228Z",
     "shell.execute_reply": "2023-05-20T13:40:29.779280Z"
    },
    "id": "Aa36bMKLze3z",
    "papermill": {
     "duration": 7.229409,
     "end_time": "2023-05-20T13:40:29.782750",
     "exception": false,
     "start_time": "2023-05-20T13:40:22.553341",
     "status": "completed"
    },
    "tags": []
   },
   "outputs": [],
   "source": [
    "import pandas as pd\n",
    "import numpy as np\n",
    "import os\n",
    "import tensorflow as tf\n",
    "import cv2\n",
    "from keras import backend as K\n",
    "from keras.layers import Layer, InputSpec\n",
    "import keras.layers as kl\n",
    "from glob import glob\n",
    "from sklearn.metrics import roc_curve, auc\n",
    "from keras.preprocessing import image\n",
    "from tensorflow.keras.models import Sequential\n",
    "from sklearn.metrics import roc_auc_score\n",
    "from tensorflow.keras import callbacks \n",
    "from tensorflow.keras.callbacks import ModelCheckpoint, EarlyStopping\n",
    "from  matplotlib import pyplot as plt\n",
    "from tensorflow.keras import Model\n",
    "from tensorflow.keras.layers import concatenate, Dense, Conv2D, MaxPooling2D, Flatten, Input, Activation, add, AveragePooling2D, BatchNormalization, Dropout\n",
    "%matplotlib inline\n",
    "import shutil\n",
    "from sklearn.metrics import  precision_score, recall_score, accuracy_score, classification_report, confusion_matrix\n",
    "from tensorflow.python.platform import build_info as tf_build_info\n",
    "from tensorflow.keras.preprocessing.image import ImageDataGenerator\n",
    "from sklearn.model_selection import train_test_split\n",
    "\n",
    "from PIL import ImageFile\n",
    "ImageFile.LOAD_TRUNCATED_IMAGES = True\n",
    "\n",
    "from tensorflow.keras.layers import Reshape, Conv2D, BatchNormalization, MaxPooling2D, Flatten, Dense, Input, GlobalAveragePooling2D, GlobalMaxPooling2D\n",
    "from tensorflow.keras.applications.mobilenet import MobileNet\n",
    "from tensorflow.keras.models import Model\n",
    "from tensorflow.keras.callbacks import EarlyStopping, ModelCheckpoint\n",
    "from tensorflow.keras.preprocessing.image import ImageDataGenerator"
   ]
  },
  {
   "cell_type": "code",
   "execution_count": 2,
   "id": "8d777833",
   "metadata": {
    "execution": {
     "iopub.execute_input": "2023-05-20T13:40:29.812822Z",
     "iopub.status.busy": "2023-05-20T13:40:29.811554Z",
     "iopub.status.idle": "2023-05-20T13:40:29.816793Z",
     "shell.execute_reply": "2023-05-20T13:40:29.816017Z"
    },
    "id": "PsoqCvNsgmHP",
    "papermill": {
     "duration": 0.021734,
     "end_time": "2023-05-20T13:40:29.818707",
     "exception": false,
     "start_time": "2023-05-20T13:40:29.796973",
     "status": "completed"
    },
    "tags": []
   },
   "outputs": [],
   "source": [
    "targetnames = ['akiec', 'bcc', 'bkl', 'df', 'mel', 'nv', 'vasc']\n",
    "batch_size = 16\n",
    "image_size = 299"
   ]
  },
  {
   "cell_type": "code",
   "execution_count": 3,
   "id": "b0b9aa05",
   "metadata": {
    "execution": {
     "iopub.execute_input": "2023-05-20T13:40:29.847316Z",
     "iopub.status.busy": "2023-05-20T13:40:29.847045Z",
     "iopub.status.idle": "2023-05-20T13:40:29.851186Z",
     "shell.execute_reply": "2023-05-20T13:40:29.850314Z"
    },
    "id": "wNisha_gM3_Z",
    "papermill": {
     "duration": 0.020654,
     "end_time": "2023-05-20T13:40:29.853125",
     "exception": false,
     "start_time": "2023-05-20T13:40:29.832471",
     "status": "completed"
    },
    "tags": []
   },
   "outputs": [],
   "source": [
    "train_path = 'C:/Users/STUDENT/IGAvg/dataset/Splitted_And_Augmented_HAM_15/HAM10K/train_dir'\n",
    "test_path = 'C:/Users/STUDENT/IGAvg/dataset/Splitted_And_Augmented_HAM_15/HAM10K/test_dir'\n",
    "val_path = 'C:/Users/STUDENT/IGAvg/dataset/Splitted_And_Augmented_HAM_15/HAM10K/val_dir'"
   ]
  },
  {
   "cell_type": "markdown",
   "id": "5f35c028",
   "metadata": {
    "papermill": {
     "duration": 0.013695,
     "end_time": "2023-05-20T13:40:29.880737",
     "exception": false,
     "start_time": "2023-05-20T13:40:29.867042",
     "status": "completed"
    },
    "tags": []
   },
   "source": [
    "# Dataset generation (Train, Test, Validation)"
   ]
  },
  {
   "cell_type": "code",
   "execution_count": 4,
   "id": "e78f0864",
   "metadata": {
    "execution": {
     "iopub.execute_input": "2023-05-20T13:40:29.910047Z",
     "iopub.status.busy": "2023-05-20T13:40:29.909286Z",
     "iopub.status.idle": "2023-05-20T13:40:29.913725Z",
     "shell.execute_reply": "2023-05-20T13:40:29.912968Z"
    },
    "id": "zhQWqdRN79B3",
    "papermill": {
     "duration": 0.020981,
     "end_time": "2023-05-20T13:40:29.915642",
     "exception": false,
     "start_time": "2023-05-20T13:40:29.894661",
     "status": "completed"
    },
    "tags": []
   },
   "outputs": [],
   "source": [
    "datagen = ImageDataGenerator(preprocessing_function=tf.keras.applications.xception.preprocess_input)"
   ]
  },
  {
   "cell_type": "code",
   "execution_count": 5,
   "id": "0a2291fa",
   "metadata": {
    "execution": {
     "iopub.execute_input": "2023-05-20T13:40:29.944154Z",
     "iopub.status.busy": "2023-05-20T13:40:29.943407Z",
     "iopub.status.idle": "2023-05-20T13:41:29.644630Z",
     "shell.execute_reply": "2023-05-20T13:41:29.643726Z"
    },
    "id": "w9_8FvOO7Rtu",
    "outputId": "7ca88c24-fda8-45d6-cb32-f3a43ae6ba5b",
    "papermill": {
     "duration": 59.717738,
     "end_time": "2023-05-20T13:41:29.646861",
     "exception": false,
     "start_time": "2023-05-20T13:40:29.929123",
     "status": "completed"
    },
    "tags": []
   },
   "outputs": [
    {
     "name": "stdout",
     "output_type": "stream",
     "text": [
      "\n",
      "Train Batches: \n",
      "Found 54782 images belonging to 7 classes.\n",
      "\n",
      "Test Batches: \n",
      "Found 828 images belonging to 7 classes.\n",
      "\n",
      "Val Batches: \n",
      "Found 827 images belonging to 7 classes.\n"
     ]
    }
   ],
   "source": [
    "print(\"\\nTrain Batches: \")\n",
    "train_batches = datagen.flow_from_directory(directory=train_path,\n",
    "                                            target_size=(image_size,image_size),\n",
    "                                            batch_size=batch_size,\n",
    "                                            shuffle=True)\n",
    "\n",
    "print(\"\\nTest Batches: \")\n",
    "test_batches = datagen.flow_from_directory(test_path,\n",
    "                                          target_size=(image_size,image_size),\n",
    "                                          batch_size=batch_size,\n",
    "                                          shuffle=False)\n",
    "print(\"\\nVal Batches: \")\n",
    "val_batches = datagen.flow_from_directory(val_path,\n",
    "                                         target_size=(image_size,image_size),\n",
    "                                         batch_size=batch_size,\n",
    "                                         shuffle=False)"
   ]
  },
  {
   "cell_type": "markdown",
   "id": "c3a6343d",
   "metadata": {
    "papermill": {
     "duration": 0.014337,
     "end_time": "2023-05-20T13:41:29.676017",
     "exception": false,
     "start_time": "2023-05-20T13:41:29.661680",
     "status": "completed"
    },
    "tags": []
   },
   "source": [
    "# Main Model Creation"
   ]
  },
  {
   "cell_type": "code",
   "execution_count": 6,
   "id": "6366c204",
   "metadata": {
    "execution": {
     "iopub.execute_input": "2023-05-20T13:41:29.706050Z",
     "iopub.status.busy": "2023-05-20T13:41:29.705305Z",
     "iopub.status.idle": "2023-05-20T13:41:29.716944Z",
     "shell.execute_reply": "2023-05-20T13:41:29.716116Z"
    },
    "papermill": {
     "duration": 0.028478,
     "end_time": "2023-05-20T13:41:29.718839",
     "exception": false,
     "start_time": "2023-05-20T13:41:29.690361",
     "status": "completed"
    },
    "tags": []
   },
   "outputs": [],
   "source": [
    "# Channel Attention\n",
    "from tensorflow.keras.layers import Layer\n",
    "from tensorflow.keras import backend as K\n",
    "\n",
    "class ChannelAttention(Layer):\n",
    "    def __init__(self, reduction=16):\n",
    "        super(ChannelAttention, self).__init__()\n",
    "        self.reduction = reduction\n",
    "\n",
    "    def build(self, input_shape):\n",
    "        self.channels = input_shape[-1]\n",
    "        self.avg_pool = GlobalAveragePooling2D()\n",
    "        self.max_pool = GlobalMaxPooling2D()\n",
    "\n",
    "        self.shared_layer_one = Dense(units=self.channels // self.reduction, activation='relu', kernel_initializer='he_normal', use_bias=True, bias_initializer='zeros')\n",
    "        self.shared_layer_two = Dense(units=self.channels, activation='sigmoid', kernel_initializer='he_normal', use_bias=True, bias_initializer='zeros')\n",
    "\n",
    "    def call(self, x):\n",
    "        avg_pool = self.avg_pool(x)\n",
    "        max_pool = self.max_pool(x)\n",
    "\n",
    "        avg_pool = Reshape((1, 1, self.channels))(avg_pool)\n",
    "        max_pool = Reshape((1, 1, self.channels))(max_pool)\n",
    "        shared_layer_one = self.shared_layer_one(avg_pool) + self.shared_layer_one(max_pool)\n",
    "        shared_layer_two = self.shared_layer_two(shared_layer_one)\n",
    "        return x * shared_layer_two\n",
    "\n",
    "    def get_config(self):\n",
    "        config = super().get_config().copy()\n",
    "        config.update({\n",
    "            'reduction': self.reduction,\n",
    "        })\n",
    "        return config"
   ]
  },
  {
   "cell_type": "code",
   "execution_count": 7,
   "id": "b289561b",
   "metadata": {
    "execution": {
     "iopub.execute_input": "2023-05-20T13:41:29.748253Z",
     "iopub.status.busy": "2023-05-20T13:41:29.747655Z",
     "iopub.status.idle": "2023-05-20T13:41:38.551161Z",
     "shell.execute_reply": "2023-05-20T13:41:38.550210Z"
    },
    "id": "zhQWqdRN79B3",
    "papermill": {
     "duration": 8.820719,
     "end_time": "2023-05-20T13:41:38.553574",
     "exception": false,
     "start_time": "2023-05-20T13:41:29.732855",
     "status": "completed"
    },
    "tags": []
   },
   "outputs": [],
   "source": [
    "from tensorflow.keras.applications.xception import Xception\n",
    "\n",
    "X = Xception(weights='imagenet', include_top=False, input_shape=(image_size, image_size, 3), pooling='avg')"
   ]
  },
  {
   "cell_type": "markdown",
   "id": "b0e95666",
   "metadata": {
    "papermill": {
     "duration": 0.019684,
     "end_time": "2023-05-20T13:41:38.593602",
     "exception": false,
     "start_time": "2023-05-20T13:41:38.573918",
     "status": "completed"
    },
    "tags": []
   },
   "source": [
    "## Fine tuning"
   ]
  },
  {
   "cell_type": "code",
   "execution_count": 8,
   "id": "5371e02d",
   "metadata": {
    "execution": {
     "iopub.execute_input": "2023-05-20T13:41:38.634078Z",
     "iopub.status.busy": "2023-05-20T13:41:38.633738Z",
     "iopub.status.idle": "2023-05-20T13:41:38.639469Z",
     "shell.execute_reply": "2023-05-20T13:41:38.638609Z"
    },
    "id": "4d4Ta5LcSYaz",
    "papermill": {
     "duration": 0.028254,
     "end_time": "2023-05-20T13:41:38.641403",
     "exception": false,
     "start_time": "2023-05-20T13:41:38.613149",
     "status": "completed"
    },
    "tags": []
   },
   "outputs": [],
   "source": [
    "MainInput=Input(shape=(image_size, image_size, 3))"
   ]
  },
  {
   "cell_type": "code",
   "execution_count": 9,
   "id": "0924d684",
   "metadata": {
    "execution": {
     "iopub.execute_input": "2023-05-20T13:41:38.681916Z",
     "iopub.status.busy": "2023-05-20T13:41:38.681201Z",
     "iopub.status.idle": "2023-05-20T13:41:39.045618Z",
     "shell.execute_reply": "2023-05-20T13:41:39.044584Z"
    },
    "papermill": {
     "duration": 0.387248,
     "end_time": "2023-05-20T13:41:39.047995",
     "exception": false,
     "start_time": "2023-05-20T13:41:38.660747",
     "status": "completed"
    },
    "tags": []
   },
   "outputs": [],
   "source": [
    "xception = X(MainInput)"
   ]
  },
  {
   "cell_type": "code",
   "execution_count": 10,
   "id": "046fa14f",
   "metadata": {
    "execution": {
     "iopub.execute_input": "2023-05-20T13:41:39.091023Z",
     "iopub.status.busy": "2023-05-20T13:41:39.089319Z",
     "iopub.status.idle": "2023-05-20T13:41:39.104199Z",
     "shell.execute_reply": "2023-05-20T13:41:39.103370Z"
    },
    "papermill": {
     "duration": 0.037922,
     "end_time": "2023-05-20T13:41:39.106510",
     "exception": false,
     "start_time": "2023-05-20T13:41:39.068588",
     "status": "completed"
    },
    "tags": []
   },
   "outputs": [],
   "source": [
    "# Reshape the tensor to have 4 dimensions\n",
    "from tensorflow.keras.layers import Reshape\n",
    "reshape = Reshape((16, 16, 8))(xception)"
   ]
  },
  {
   "cell_type": "code",
   "execution_count": 11,
   "id": "5e10b2e4",
   "metadata": {
    "execution": {
     "iopub.execute_input": "2023-05-20T13:41:39.148632Z",
     "iopub.status.busy": "2023-05-20T13:41:39.147726Z",
     "iopub.status.idle": "2023-05-20T13:41:39.743078Z",
     "shell.execute_reply": "2023-05-20T13:41:39.742117Z"
    },
    "id": "x8mS99J5SYbT",
    "papermill": {
     "duration": 0.619017,
     "end_time": "2023-05-20T13:41:39.745629",
     "exception": false,
     "start_time": "2023-05-20T13:41:39.126612",
     "status": "completed"
    },
    "tags": []
   },
   "outputs": [],
   "source": [
    "conv=(Conv2D(filters=128,kernel_size=(7,7), activation=\"relu\",padding=\"same\",kernel_initializer='he_normal')(reshape))\n",
    "conv=(BatchNormalization()(conv))\n",
    "conv = ChannelAttention()(conv)\n",
    "conv=(Conv2D(filters=128,kernel_size=(5,5), activation=\"relu\",padding=\"same\",kernel_initializer='he_normal')(conv))\n",
    "conv=(BatchNormalization()(conv))\n",
    "conv = ChannelAttention()(conv)\n",
    "conv=(Conv2D(filters=128,kernel_size=(3,3), activation=\"relu\",padding=\"same\",kernel_initializer='he_normal')(conv))\n",
    "conv=(BatchNormalization()(conv))\n",
    "conv = ChannelAttention()(conv)\n",
    "conv=(Conv2D(filters=128,kernel_size=(1,1), activation=\"relu\",padding=\"same\",kernel_initializer='he_normal')(conv))\n",
    "conv=(BatchNormalization()(conv))\n",
    "conv = ChannelAttention()(conv)"
   ]
  },
  {
   "cell_type": "code",
   "execution_count": 12,
   "id": "8722e235",
   "metadata": {
    "execution": {
     "iopub.execute_input": "2023-05-20T13:41:39.788107Z",
     "iopub.status.busy": "2023-05-20T13:41:39.787179Z",
     "iopub.status.idle": "2023-05-20T13:41:39.795154Z",
     "shell.execute_reply": "2023-05-20T13:41:39.794334Z"
    },
    "id": "wfhLPhssAm2S",
    "papermill": {
     "duration": 0.031301,
     "end_time": "2023-05-20T13:41:39.797219",
     "exception": false,
     "start_time": "2023-05-20T13:41:39.765918",
     "status": "completed"
    },
    "tags": []
   },
   "outputs": [],
   "source": [
    "conv=(MaxPooling2D(strides=(2, 2),padding=\"same\")(conv))"
   ]
  },
  {
   "cell_type": "code",
   "execution_count": 13,
   "id": "efa7a102",
   "metadata": {
    "execution": {
     "iopub.execute_input": "2023-05-20T13:41:39.837633Z",
     "iopub.status.busy": "2023-05-20T13:41:39.837366Z",
     "iopub.status.idle": "2023-05-20T13:41:40.418570Z",
     "shell.execute_reply": "2023-05-20T13:41:40.417664Z"
    },
    "id": "sW4tKg9wSYbk",
    "papermill": {
     "duration": 0.603943,
     "end_time": "2023-05-20T13:41:40.420799",
     "exception": false,
     "start_time": "2023-05-20T13:41:39.816856",
     "status": "completed"
    },
    "tags": []
   },
   "outputs": [],
   "source": [
    "conv=(Conv2D(filters=256,kernel_size=(7,7), activation=\"relu\",padding=\"same\",kernel_initializer='he_normal')(conv))\n",
    "conv=(BatchNormalization()(conv))\n",
    "conv = ChannelAttention()(conv)\n",
    "conv=(Conv2D(filters=256,kernel_size=(5,5), activation=\"relu\",padding=\"same\",kernel_initializer='he_normal')(conv))\n",
    "conv=(BatchNormalization()(conv))\n",
    "conv = ChannelAttention()(conv)\n",
    "conv=(Conv2D(filters=256,kernel_size=(3,3), activation=\"relu\",padding=\"same\",kernel_initializer='he_normal')(conv))\n",
    "conv=(BatchNormalization()(conv))\n",
    "conv = ChannelAttention()(conv)\n",
    "conv=(Conv2D(filters=256,kernel_size=(1,1), activation=\"relu\",padding=\"same\",kernel_initializer='he_normal')(conv))\n",
    "conv=(BatchNormalization()(conv))\n",
    "conv = ChannelAttention()(conv)"
   ]
  },
  {
   "cell_type": "code",
   "execution_count": 14,
   "id": "42d1b8c0",
   "metadata": {
    "execution": {
     "iopub.execute_input": "2023-05-20T13:41:40.461997Z",
     "iopub.status.busy": "2023-05-20T13:41:40.461232Z",
     "iopub.status.idle": "2023-05-20T13:41:40.469275Z",
     "shell.execute_reply": "2023-05-20T13:41:40.468481Z"
    },
    "id": "eo8E7RxUSYcW",
    "papermill": {
     "duration": 0.030657,
     "end_time": "2023-05-20T13:41:40.471447",
     "exception": false,
     "start_time": "2023-05-20T13:41:40.440790",
     "status": "completed"
    },
    "tags": []
   },
   "outputs": [],
   "source": [
    "conv=(MaxPooling2D(pool_size=(2, 2),padding=\"same\")(conv))"
   ]
  },
  {
   "cell_type": "code",
   "execution_count": 15,
   "id": "578fd30b",
   "metadata": {
    "execution": {
     "iopub.execute_input": "2023-05-20T13:41:40.511313Z",
     "iopub.status.busy": "2023-05-20T13:41:40.511048Z",
     "iopub.status.idle": "2023-05-20T13:41:40.515749Z",
     "shell.execute_reply": "2023-05-20T13:41:40.514792Z"
    },
    "papermill": {
     "duration": 0.028132,
     "end_time": "2023-05-20T13:41:40.519075",
     "exception": false,
     "start_time": "2023-05-20T13:41:40.490943",
     "status": "completed"
    },
    "tags": []
   },
   "outputs": [
    {
     "name": "stdout",
     "output_type": "stream",
     "text": [
      "7\n"
     ]
    }
   ],
   "source": [
    "num_classes = test_batches.num_classes\n",
    "print(num_classes)"
   ]
  },
  {
   "cell_type": "code",
   "execution_count": 16,
   "id": "afea64ed",
   "metadata": {
    "execution": {
     "iopub.execute_input": "2023-05-20T13:41:40.558891Z",
     "iopub.status.busy": "2023-05-20T13:41:40.558632Z",
     "iopub.status.idle": "2023-05-20T13:41:40.605119Z",
     "shell.execute_reply": "2023-05-20T13:41:40.604166Z"
    },
    "id": "-EdFxKdgSYcf",
    "papermill": {
     "duration": 0.068578,
     "end_time": "2023-05-20T13:41:40.607051",
     "exception": false,
     "start_time": "2023-05-20T13:41:40.538473",
     "status": "completed"
    },
    "tags": []
   },
   "outputs": [],
   "source": [
    "conv=(Flatten()(conv))\n",
    "conv=(Dense(1024,activation=\"relu\")(conv))\n",
    "conv=(Dense(512,activation=\"relu\")(conv))\n",
    "conv=(Dense(num_classes, activation=\"softmax\")(conv))\n",
    "\n",
    "model_x_ca = Model(inputs=MainInput, outputs=conv)"
   ]
  },
  {
   "cell_type": "code",
   "execution_count": 17,
   "id": "3b74e02e",
   "metadata": {
    "execution": {
     "iopub.execute_input": "2023-05-20T13:41:40.647019Z",
     "iopub.status.busy": "2023-05-20T13:41:40.646740Z",
     "iopub.status.idle": "2023-05-20T13:41:40.748126Z",
     "shell.execute_reply": "2023-05-20T13:41:40.747326Z"
    },
    "id": "ba8ajOckSYcl",
    "outputId": "e69fa749-4741-4f49-ae3e-9f5479e809a8",
    "papermill": {
     "duration": 0.163498,
     "end_time": "2023-05-20T13:41:40.790027",
     "exception": false,
     "start_time": "2023-05-20T13:41:40.626529",
     "status": "completed"
    },
    "tags": []
   },
   "outputs": [
    {
     "name": "stdout",
     "output_type": "stream",
     "text": [
      "Model: \"model\"\n",
      "_________________________________________________________________\n",
      " Layer (type)                Output Shape              Param #   \n",
      "=================================================================\n",
      " input_2 (InputLayer)        [(None, 299, 299, 3)]     0         \n",
      "                                                                 \n",
      " xception (Functional)       (None, 2048)              20861480  \n",
      "                                                                 \n",
      " reshape (Reshape)           (None, 16, 16, 8)         0         \n",
      "                                                                 \n",
      " conv2d_4 (Conv2D)           (None, 16, 16, 128)       50304     \n",
      "                                                                 \n",
      " batch_normalization_4 (Batc  (None, 16, 16, 128)      512       \n",
      " hNormalization)                                                 \n",
      "                                                                 \n",
      " channel_attention (ChannelA  (None, 16, 16, 128)      2184      \n",
      " ttention)                                                       \n",
      "                                                                 \n",
      " conv2d_5 (Conv2D)           (None, 16, 16, 128)       409728    \n",
      "                                                                 \n",
      " batch_normalization_5 (Batc  (None, 16, 16, 128)      512       \n",
      " hNormalization)                                                 \n",
      "                                                                 \n",
      " channel_attention_1 (Channe  (None, 16, 16, 128)      2184      \n",
      " lAttention)                                                     \n",
      "                                                                 \n",
      " conv2d_6 (Conv2D)           (None, 16, 16, 128)       147584    \n",
      "                                                                 \n",
      " batch_normalization_6 (Batc  (None, 16, 16, 128)      512       \n",
      " hNormalization)                                                 \n",
      "                                                                 \n",
      " channel_attention_2 (Channe  (None, 16, 16, 128)      2184      \n",
      " lAttention)                                                     \n",
      "                                                                 \n",
      " conv2d_7 (Conv2D)           (None, 16, 16, 128)       16512     \n",
      "                                                                 \n",
      " batch_normalization_7 (Batc  (None, 16, 16, 128)      512       \n",
      " hNormalization)                                                 \n",
      "                                                                 \n",
      " channel_attention_3 (Channe  (None, 16, 16, 128)      2184      \n",
      " lAttention)                                                     \n",
      "                                                                 \n",
      " max_pooling2d (MaxPooling2D  (None, 8, 8, 128)        0         \n",
      " )                                                               \n",
      "                                                                 \n",
      " conv2d_8 (Conv2D)           (None, 8, 8, 256)         1605888   \n",
      "                                                                 \n",
      " batch_normalization_8 (Batc  (None, 8, 8, 256)        1024      \n",
      " hNormalization)                                                 \n",
      "                                                                 \n",
      " channel_attention_4 (Channe  (None, 8, 8, 256)        8464      \n",
      " lAttention)                                                     \n",
      "                                                                 \n",
      " conv2d_9 (Conv2D)           (None, 8, 8, 256)         1638656   \n",
      "                                                                 \n",
      " batch_normalization_9 (Batc  (None, 8, 8, 256)        1024      \n",
      " hNormalization)                                                 \n",
      "                                                                 \n",
      " channel_attention_5 (Channe  (None, 8, 8, 256)        8464      \n",
      " lAttention)                                                     \n",
      "                                                                 \n",
      " conv2d_10 (Conv2D)          (None, 8, 8, 256)         590080    \n",
      "                                                                 \n",
      " batch_normalization_10 (Bat  (None, 8, 8, 256)        1024      \n",
      " chNormalization)                                                \n",
      "                                                                 \n",
      " channel_attention_6 (Channe  (None, 8, 8, 256)        8464      \n",
      " lAttention)                                                     \n",
      "                                                                 \n",
      " conv2d_11 (Conv2D)          (None, 8, 8, 256)         65792     \n",
      "                                                                 \n",
      " batch_normalization_11 (Bat  (None, 8, 8, 256)        1024      \n",
      " chNormalization)                                                \n",
      "                                                                 \n",
      " channel_attention_7 (Channe  (None, 8, 8, 256)        8464      \n",
      " lAttention)                                                     \n",
      "                                                                 \n",
      " max_pooling2d_1 (MaxPooling  (None, 4, 4, 256)        0         \n",
      " 2D)                                                             \n",
      "                                                                 \n",
      " flatten (Flatten)           (None, 4096)              0         \n",
      "                                                                 \n",
      " dense (Dense)               (None, 1024)              4195328   \n",
      "                                                                 \n",
      " dense_1 (Dense)             (None, 512)               524800    \n",
      "                                                                 \n",
      " dense_2 (Dense)             (None, 7)                 3591      \n",
      "                                                                 \n",
      "=================================================================\n",
      "Total params: 30,158,479\n",
      "Trainable params: 30,100,879\n",
      "Non-trainable params: 57,600\n",
      "_________________________________________________________________\n"
     ]
    }
   ],
   "source": [
    "model_x_ca.summary()"
   ]
  },
  {
   "cell_type": "code",
   "execution_count": 18,
   "id": "134260f6",
   "metadata": {
    "execution": {
     "iopub.execute_input": "2023-05-20T13:41:40.843750Z",
     "iopub.status.busy": "2023-05-20T13:41:40.843487Z",
     "iopub.status.idle": "2023-05-20T13:41:40.864423Z",
     "shell.execute_reply": "2023-05-20T13:41:40.863497Z"
    },
    "id": "WR0fUpy18vAZ",
    "papermill": {
     "duration": 0.050347,
     "end_time": "2023-05-20T13:41:40.866547",
     "exception": false,
     "start_time": "2023-05-20T13:41:40.816200",
     "status": "completed"
    },
    "tags": []
   },
   "outputs": [],
   "source": [
    "opt1=tf.keras.optimizers.Adam(learning_rate=0.001,epsilon=0.1)\n",
    "model_x_ca.compile(optimizer=opt1,\n",
    "             loss='categorical_crossentropy',\n",
    "             metrics=['accuracy'])"
   ]
  },
  {
   "cell_type": "code",
   "execution_count": 19,
   "id": "c8d83173",
   "metadata": {
    "execution": {
     "iopub.execute_input": "2023-05-20T13:41:40.921150Z",
     "iopub.status.busy": "2023-05-20T13:41:40.920881Z",
     "iopub.status.idle": "2023-05-20T13:41:40.926720Z",
     "shell.execute_reply": "2023-05-20T13:41:40.925944Z"
    },
    "id": "LAf5ha295reS",
    "papermill": {
     "duration": 0.035204,
     "end_time": "2023-05-20T13:41:40.928560",
     "exception": false,
     "start_time": "2023-05-20T13:41:40.893356",
     "status": "completed"
    },
    "tags": []
   },
   "outputs": [],
   "source": [
    "class_weights = {   \n",
    "                    0: 1.0,  # akiec\n",
    "                    1: 1.0,  # bcc\n",
    "                    2: 1.0,  # bkl\n",
    "                    3: 1.0,  # df\n",
    "                    4: 1.0,  # mel\n",
    "                    5: 1.0,  # nv\n",
    "                    6: 1.0  # vasc\n",
    "                }"
   ]
  },
  {
   "cell_type": "code",
   "execution_count": 20,
   "id": "5fa531fb",
   "metadata": {
    "execution": {
     "iopub.execute_input": "2023-05-20T13:41:40.982746Z",
     "iopub.status.busy": "2023-05-20T13:41:40.982013Z",
     "iopub.status.idle": "2023-05-20T13:41:40.987113Z",
     "shell.execute_reply": "2023-05-20T13:41:40.986259Z"
    },
    "papermill": {
     "duration": 0.034498,
     "end_time": "2023-05-20T13:41:40.989043",
     "exception": false,
     "start_time": "2023-05-20T13:41:40.954545",
     "status": "completed"
    },
    "tags": []
   },
   "outputs": [],
   "source": [
    "checkpoint = ModelCheckpoint(filepath ='X_CA.hdf5', monitor='val_accuracy', save_best_only=True, save_weights_only=True)\n",
    "Earlystop = EarlyStopping(monitor='val_accuracy', mode='max', patience=25, min_delta=0.001)"
   ]
  },
  {
   "cell_type": "code",
   "execution_count": 21,
   "id": "fc45a8ad",
   "metadata": {
    "execution": {
     "iopub.execute_input": "2023-05-20T13:41:41.043413Z",
     "iopub.status.busy": "2023-05-20T13:41:41.043145Z"
    },
    "id": "NUzTmiZ-8hL3",
    "outputId": "e1825ff2-9f9c-436f-cf2c-9776af8eee62",
    "papermill": {
     "duration": null,
     "end_time": null,
     "exception": false,
     "start_time": "2023-05-20T13:41:41.015369",
     "status": "running"
    },
    "tags": []
   },
   "outputs": [
    {
     "name": "stdout",
     "output_type": "stream",
     "text": [
      "Epoch 1/50\n",
      "3424/3424 - 618s - loss: 0.9337 - accuracy: 0.6449 - val_loss: 0.3859 - val_accuracy: 0.8839 - 618s/epoch - 181ms/step\n",
      "Epoch 2/50\n",
      "3424/3424 - 606s - loss: 0.3540 - accuracy: 0.8710 - val_loss: 0.3169 - val_accuracy: 0.8900 - 606s/epoch - 177ms/step\n",
      "Epoch 3/50\n",
      "3424/3424 - 610s - loss: 0.1986 - accuracy: 0.9272 - val_loss: 0.3460 - val_accuracy: 0.9093 - 610s/epoch - 178ms/step\n",
      "Epoch 4/50\n",
      "3424/3424 - 608s - loss: 0.1241 - accuracy: 0.9548 - val_loss: 0.3980 - val_accuracy: 0.9081 - 608s/epoch - 178ms/step\n",
      "Epoch 5/50\n",
      "3424/3424 - 606s - loss: 0.0813 - accuracy: 0.9711 - val_loss: 0.4752 - val_accuracy: 0.9117 - 606s/epoch - 177ms/step\n",
      "Epoch 6/50\n",
      "3424/3424 - 606s - loss: 0.0587 - accuracy: 0.9790 - val_loss: 0.4545 - val_accuracy: 0.9057 - 606s/epoch - 177ms/step\n",
      "Epoch 7/50\n",
      "3424/3424 - 606s - loss: 0.0420 - accuracy: 0.9856 - val_loss: 0.5027 - val_accuracy: 0.9069 - 606s/epoch - 177ms/step\n",
      "Epoch 8/50\n",
      "3424/3424 - 607s - loss: 0.0330 - accuracy: 0.9889 - val_loss: 0.4297 - val_accuracy: 0.9021 - 607s/epoch - 177ms/step\n",
      "Epoch 9/50\n",
      "3424/3424 - 606s - loss: 0.0251 - accuracy: 0.9913 - val_loss: 0.4861 - val_accuracy: 0.9154 - 606s/epoch - 177ms/step\n",
      "Epoch 10/50\n",
      "3424/3424 - 606s - loss: 0.0216 - accuracy: 0.9926 - val_loss: 0.4982 - val_accuracy: 0.9033 - 606s/epoch - 177ms/step\n",
      "Epoch 11/50\n",
      "3424/3424 - 606s - loss: 0.0191 - accuracy: 0.9932 - val_loss: 0.4583 - val_accuracy: 0.9117 - 606s/epoch - 177ms/step\n",
      "Epoch 12/50\n",
      "3424/3424 - 606s - loss: 0.0140 - accuracy: 0.9952 - val_loss: 0.4555 - val_accuracy: 0.9129 - 606s/epoch - 177ms/step\n",
      "Epoch 13/50\n",
      "3424/3424 - 606s - loss: 0.0136 - accuracy: 0.9951 - val_loss: 0.5566 - val_accuracy: 0.8984 - 606s/epoch - 177ms/step\n",
      "Epoch 14/50\n",
      "3424/3424 - 606s - loss: 0.0142 - accuracy: 0.9946 - val_loss: 0.5230 - val_accuracy: 0.9081 - 606s/epoch - 177ms/step\n",
      "Epoch 15/50\n",
      "3424/3424 - 606s - loss: 0.0119 - accuracy: 0.9961 - val_loss: 0.5033 - val_accuracy: 0.8984 - 606s/epoch - 177ms/step\n",
      "Epoch 16/50\n",
      "3424/3424 - 606s - loss: 0.0109 - accuracy: 0.9964 - val_loss: 0.4818 - val_accuracy: 0.9105 - 606s/epoch - 177ms/step\n",
      "Epoch 17/50\n",
      "3424/3424 - 606s - loss: 0.0072 - accuracy: 0.9977 - val_loss: 0.5053 - val_accuracy: 0.9154 - 606s/epoch - 177ms/step\n",
      "Epoch 18/50\n",
      "3424/3424 - 607s - loss: 0.0077 - accuracy: 0.9975 - val_loss: 0.5358 - val_accuracy: 0.9057 - 607s/epoch - 177ms/step\n",
      "Epoch 19/50\n",
      "3424/3424 - 607s - loss: 0.0081 - accuracy: 0.9974 - val_loss: 0.5515 - val_accuracy: 0.9021 - 607s/epoch - 177ms/step\n",
      "Epoch 20/50\n",
      "3424/3424 - 607s - loss: 0.0066 - accuracy: 0.9979 - val_loss: 0.5670 - val_accuracy: 0.9069 - 607s/epoch - 177ms/step\n",
      "Epoch 21/50\n",
      "3424/3424 - 606s - loss: 0.0052 - accuracy: 0.9983 - val_loss: 0.6406 - val_accuracy: 0.9069 - 606s/epoch - 177ms/step\n",
      "Epoch 22/50\n",
      "3424/3424 - 606s - loss: 0.0061 - accuracy: 0.9979 - val_loss: 0.5376 - val_accuracy: 0.9154 - 606s/epoch - 177ms/step\n",
      "Epoch 23/50\n",
      "3424/3424 - 606s - loss: 0.0052 - accuracy: 0.9984 - val_loss: 0.5821 - val_accuracy: 0.9033 - 606s/epoch - 177ms/step\n",
      "Epoch 24/50\n",
      "3424/3424 - 607s - loss: 0.0060 - accuracy: 0.9982 - val_loss: 0.5785 - val_accuracy: 0.9045 - 607s/epoch - 177ms/step\n",
      "Epoch 25/50\n",
      "3424/3424 - 606s - loss: 0.0053 - accuracy: 0.9982 - val_loss: 0.6385 - val_accuracy: 0.9093 - 606s/epoch - 177ms/step\n",
      "Epoch 26/50\n",
      "3424/3424 - 607s - loss: 0.0056 - accuracy: 0.9981 - val_loss: 0.5684 - val_accuracy: 0.9154 - 607s/epoch - 177ms/step\n",
      "Epoch 27/50\n",
      "3424/3424 - 607s - loss: 0.0046 - accuracy: 0.9986 - val_loss: 0.5532 - val_accuracy: 0.9105 - 607s/epoch - 177ms/step\n",
      "Epoch 28/50\n",
      "3424/3424 - 607s - loss: 0.0034 - accuracy: 0.9989 - val_loss: 0.6176 - val_accuracy: 0.9117 - 607s/epoch - 177ms/step\n",
      "Epoch 29/50\n",
      "3424/3424 - 607s - loss: 0.0045 - accuracy: 0.9985 - val_loss: 0.5619 - val_accuracy: 0.9057 - 607s/epoch - 177ms/step\n",
      "Epoch 30/50\n",
      "3424/3424 - 607s - loss: 0.0033 - accuracy: 0.9989 - val_loss: 0.5549 - val_accuracy: 0.9081 - 607s/epoch - 177ms/step\n",
      "Epoch 31/50\n",
      "3424/3424 - 606s - loss: 0.0034 - accuracy: 0.9988 - val_loss: 0.6577 - val_accuracy: 0.9069 - 606s/epoch - 177ms/step\n",
      "Epoch 32/50\n",
      "3424/3424 - 606s - loss: 0.0053 - accuracy: 0.9984 - val_loss: 0.5678 - val_accuracy: 0.9045 - 606s/epoch - 177ms/step\n",
      "Epoch 33/50\n",
      "3424/3424 - 606s - loss: 0.0019 - accuracy: 0.9993 - val_loss: 0.5736 - val_accuracy: 0.9129 - 606s/epoch - 177ms/step\n",
      "Epoch 34/50\n",
      "3424/3424 - 606s - loss: 0.0034 - accuracy: 0.9989 - val_loss: 0.5943 - val_accuracy: 0.8996 - 606s/epoch - 177ms/step\n"
     ]
    }
   ],
   "source": [
    "history = model_x_ca.fit(train_batches,\n",
    "                         epochs=50,\n",
    "                         verbose=2,\n",
    "                         validation_data=val_batches,\n",
    "                         callbacks=[checkpoint,Earlystop],\n",
    "                         class_weight=class_weights)"
   ]
  },
  {
   "cell_type": "markdown",
   "id": "58b8e9b2",
   "metadata": {
    "papermill": {
     "duration": null,
     "end_time": null,
     "exception": null,
     "start_time": null,
     "status": "pending"
    },
    "tags": []
   },
   "source": [
    "### Plotting accuracy and loss"
   ]
  },
  {
   "cell_type": "code",
   "execution_count": 22,
   "id": "2fe1a65b",
   "metadata": {
    "execution": {
     "iopub.execute_input": "2023-05-18T10:49:26.169298Z",
     "iopub.status.busy": "2023-05-18T10:49:26.168705Z",
     "iopub.status.idle": "2023-05-18T10:49:39.242500Z",
     "shell.execute_reply": "2023-05-18T10:49:39.241617Z"
    },
    "papermill": {
     "duration": null,
     "end_time": null,
     "exception": null,
     "start_time": null,
     "status": "pending"
    },
    "tags": []
   },
   "outputs": [
    {
     "name": "stdout",
     "output_type": "stream",
     "text": [
      "Number of epochs trained: 34\n"
     ]
    },
    {
     "data": {
      "image/png": "[encoded data removed]",
      "text/plain": [
       "<Figure size 1500x500 with 2 Axes>"
      ]
     },
     "metadata": {},
     "output_type": "display_data"
    }
   ],
   "source": [
    "# Determine number of epochs trained\n",
    "num_epochs_trained = len(history.history['val_loss'])\n",
    "print(f\"Number of epochs trained: {num_epochs_trained}\")\n",
    "\n",
    "## History plotting\n",
    "epochs = [i for i in range(num_epochs_trained)]\n",
    "fig , ax = plt.subplots(1,2)\n",
    "train_acc = history.history['accuracy']\n",
    "train_loss = history.history['loss']\n",
    "val_acc = history.history['val_accuracy']\n",
    "val_loss = history.history['val_loss']\n",
    "fig.set_size_inches(15,5)\n",
    "\n",
    "ax[0].plot(epochs , train_acc , 'go-' , label = 'Training Accuracy')\n",
    "ax[0].plot(epochs , val_acc , 'ro-' , label = 'Validation Accuracy')\n",
    "title_font = {'fontname':'Times New Roman', 'size':'14', 'color':'black', 'weight':'normal'}\n",
    "ax[0].set_title('Model Accuracy', fontdict=title_font)\n",
    "legend_font = {'family': 'Times New Roman', 'size': '12', 'weight': 'normal'}\n",
    "ax[0].legend(prop=legend_font)\n",
    "label_font = {'fontname':'Times New Roman', 'size':'12', 'color':'black', 'weight':'normal'}\n",
    "ax[0].set_xlabel(\"Epochs\",  fontdict=label_font)\n",
    "ax[0].set_ylabel(\"Accuracy\",  fontdict=label_font)\n",
    "\n",
    "ax[1].plot(epochs , train_loss , 'g-o' , label = 'Training Loss')\n",
    "ax[1].plot(epochs , val_loss , 'r-o' , label = 'Validation Loss')\n",
    "ax[1].set_title('Model Loss', fontdict=title_font)\n",
    "ax[1].legend(prop=legend_font)\n",
    "ax[1].set_xlabel(\"Epochs\", fontdict=label_font)\n",
    "ax[1].set_ylabel(\"Loss\", fontdict=label_font)\n",
    "plt.show()"
   ]
  },
  {
   "cell_type": "code",
   "execution_count": 24,
   "id": "e6054202",
   "metadata": {
    "execution": {
     "iopub.execute_input": "2023-05-18T10:49:39.299979Z",
     "iopub.status.busy": "2023-05-18T10:49:39.299694Z",
     "iopub.status.idle": "2023-05-18T10:49:39.519280Z",
     "shell.execute_reply": "2023-05-18T10:49:39.518335Z"
    },
    "id": "zm_AewFBXTj8",
    "papermill": {
     "duration": null,
     "end_time": null,
     "exception": null,
     "start_time": null,
     "status": "pending"
    },
    "tags": []
   },
   "outputs": [],
   "source": [
    "from tensorflow.keras import models\n",
    "model_x_ca.load_weights(\"X_ca.hdf5\")"
   ]
  },
  {
   "cell_type": "code",
   "execution_count": 25,
   "id": "e119258a",
   "metadata": {
    "execution": {
     "iopub.execute_input": "2023-05-18T10:49:39.577646Z",
     "iopub.status.busy": "2023-05-18T10:49:39.576178Z",
     "iopub.status.idle": "2023-05-18T10:49:54.815269Z",
     "shell.execute_reply": "2023-05-18T10:49:54.814357Z"
    },
    "papermill": {
     "duration": null,
     "end_time": null,
     "exception": null,
     "start_time": null,
     "status": "pending"
    },
    "tags": []
   },
   "outputs": [
    {
     "name": "stdout",
     "output_type": "stream",
     "text": [
      "52/52 [==============================] - 9s 157ms/step\n"
     ]
    }
   ],
   "source": [
    "predictions = model_x_ca.predict(test_batches)"
   ]
  },
  {
   "cell_type": "code",
   "execution_count": 26,
   "id": "87e2f493",
   "metadata": {
    "execution": {
     "iopub.execute_input": "2023-05-18T10:49:54.880925Z",
     "iopub.status.busy": "2023-05-18T10:49:54.880103Z",
     "iopub.status.idle": "2023-05-18T10:49:54.885222Z",
     "shell.execute_reply": "2023-05-18T10:49:54.884421Z"
    },
    "id": "FDTMtBeTdBfU",
    "papermill": {
     "duration": null,
     "end_time": null,
     "exception": null,
     "start_time": null,
     "status": "pending"
    },
    "tags": []
   },
   "outputs": [],
   "source": [
    "#geting predictions on test dataset\n",
    "y_pred = np.argmax(predictions, axis=1)\n",
    "#getting the true labels per image \n",
    "y_true = test_batches.classes\n",
    "#getting the predicted labels per image \n",
    "y_prob = predictions"
   ]
  },
  {
   "cell_type": "code",
   "execution_count": 27,
   "id": "7e1ca61b",
   "metadata": {
    "execution": {
     "iopub.execute_input": "2023-05-18T10:49:54.950984Z",
     "iopub.status.busy": "2023-05-18T10:49:54.949499Z",
     "iopub.status.idle": "2023-05-18T10:49:54.965267Z",
     "shell.execute_reply": "2023-05-18T10:49:54.964083Z"
    },
    "papermill": {
     "duration": null,
     "end_time": null,
     "exception": null,
     "start_time": null,
     "status": "pending"
    },
    "tags": []
   },
   "outputs": [
    {
     "name": "stdout",
     "output_type": "stream",
     "text": [
      "\n",
      "Classification Report:\n",
      "              precision    recall  f1-score   support\n",
      "\n",
      "          AK       0.63      0.55      0.59        22\n",
      "         BCC       0.70      0.70      0.70        27\n",
      "         BKL       0.68      0.65      0.67        66\n",
      "          DF       0.57      0.67      0.62         6\n",
      "         MEL       0.69      0.31      0.43        35\n",
      "          NV       0.95      0.98      0.96       663\n",
      "        VASC       0.82      1.00      0.90         9\n",
      "\n",
      "    accuracy                           0.90       828\n",
      "   macro avg       0.72      0.69      0.70       828\n",
      "weighted avg       0.90      0.90      0.90       828\n",
      "\n"
     ]
    }
   ],
   "source": [
    "classnames = ['AK', 'BCC', 'BKL', 'DF', 'MEL', 'NV', 'VASC']\n",
    "\n",
    "from tensorflow.keras.utils import to_categorical\n",
    "y_test = to_categorical(y_true)\n",
    "\n",
    "report = classification_report(y_true, y_pred, target_names=classnames)\n",
    "\n",
    "print(\"\\nClassification Report:\")\n",
    "print(report)"
   ]
  },
  {
   "cell_type": "code",
   "execution_count": 28,
   "id": "86194f19",
   "metadata": {
    "execution": {
     "iopub.execute_input": "2023-05-18T10:49:55.030062Z",
     "iopub.status.busy": "2023-05-18T10:49:55.029335Z",
     "iopub.status.idle": "2023-05-18T10:49:55.598768Z",
     "shell.execute_reply": "2023-05-18T10:49:55.597791Z"
    },
    "papermill": {
     "duration": null,
     "end_time": null,
     "exception": null,
     "start_time": null,
     "status": "pending"
    },
    "tags": []
   },
   "outputs": [
    {
     "data": {
      "image/png": "[encoded data removed]",
      "text/plain": [
       "<Figure size 1000x400 with 2 Axes>"
      ]
     },
     "metadata": {},
     "output_type": "display_data"
    }
   ],
   "source": [
    "## Confusion Matrix\n",
    "title_font = {'fontname':'Times New Roman', 'size':'14', 'color':'black', 'weight':'normal'}\n",
    "label_font = {'fontname':'Times New Roman', 'size':'12', 'color':'black', 'weight':'normal'}\n",
    "\n",
    "from sklearn.metrics import confusion_matrix\n",
    "import seaborn as sns\n",
    "# Creating confusion matrix \n",
    "cm = confusion_matrix(y_true, y_pred)\n",
    "# Plotting the confusion matrix\n",
    "plt.figure(figsize=(10,4))\n",
    "sns.heatmap(cm, annot=True, fmt='g', cmap='Blues', xticklabels=targetnames, yticklabels=targetnames)\n",
    "plt.xlabel('Predicted Label', fontdict=label_font)\n",
    "plt.ylabel('True Label', fontdict=label_font)\n",
    "plt.title('Confusion Matrix', fontdict=title_font)\n",
    "plt.show()"
   ]
  },
  {
   "cell_type": "markdown",
   "id": "d6519062",
   "metadata": {
    "papermill": {
     "duration": null,
     "end_time": null,
     "exception": null,
     "start_time": null,
     "status": "pending"
    },
    "tags": []
   },
   "source": [
    "## Results"
   ]
  },
  {
   "cell_type": "markdown",
   "id": "344a53c7",
   "metadata": {
    "papermill": {
     "duration": null,
     "end_time": null,
     "exception": null,
     "start_time": null,
     "status": "pending"
    },
    "tags": []
   },
   "source": [
    "### Individual Class Accuracy "
   ]
  },
  {
   "cell_type": "code",
   "execution_count": 29,
   "id": "0ed95a4f",
   "metadata": {
    "execution": {
     "iopub.execute_input": "2023-05-18T10:49:55.849796Z",
     "iopub.status.busy": "2023-05-18T10:49:55.849427Z",
     "iopub.status.idle": "2023-05-18T10:49:55.857557Z",
     "shell.execute_reply": "2023-05-18T10:49:55.856316Z"
    },
    "papermill": {
     "duration": null,
     "end_time": null,
     "exception": null,
     "start_time": null,
     "status": "pending"
    },
    "tags": []
   },
   "outputs": [
    {
     "name": "stdout",
     "output_type": "stream",
     "text": [
      "Overall accuracy: 90.34%\n",
      "Accuracy for each class:\n",
      "Class 0: 54.55%\n",
      "Class 1: 70.37%\n",
      "Class 2: 65.15%\n",
      "Class 3: 66.67%\n",
      "Class 4: 31.43%\n",
      "Class 5: 98.04%\n",
      "Class 6: 100.00%\n"
     ]
    }
   ],
   "source": [
    "# y_true are the true labels of the test set\n",
    "# y_pred are the predicted labels of the test set\n",
    "accuracy = accuracy_score(y_true, y_pred)\n",
    "# Calculate accuracy for each class\n",
    "class_accuracy = cm.diagonal()/cm.sum(axis=1)\n",
    "print(\"Overall accuracy: {:.2f}%\".format(accuracy*100))\n",
    "print(\"Accuracy for each class:\")\n",
    "for i, acc in enumerate(class_accuracy):\n",
    "    print(\"Class {}: {:.2f}%\".format(i, acc*100))"
   ]
  },
  {
   "cell_type": "markdown",
   "id": "0f63f373",
   "metadata": {
    "papermill": {
     "duration": null,
     "end_time": null,
     "exception": null,
     "start_time": null,
     "status": "pending"
    },
    "tags": []
   },
   "source": [
    "### Individual Class Weighted Precision"
   ]
  },
  {
   "cell_type": "code",
   "execution_count": 30,
   "id": "e7478dd1",
   "metadata": {
    "execution": {
     "iopub.execute_input": "2023-05-18T10:49:55.989660Z",
     "iopub.status.busy": "2023-05-18T10:49:55.988886Z",
     "iopub.status.idle": "2023-05-18T10:49:56.004153Z",
     "shell.execute_reply": "2023-05-18T10:49:56.002842Z"
    },
    "papermill": {
     "duration": null,
     "end_time": null,
     "exception": null,
     "start_time": null,
     "status": "pending"
    },
    "tags": []
   },
   "outputs": [
    {
     "name": "stdout",
     "output_type": "stream",
     "text": [
      "Weighted precision for each class:\n",
      "Class 0: 63.16%\n",
      "Class 1: 70.37%\n",
      "Class 2: 68.25%\n",
      "Class 3: 57.14%\n",
      "Class 4: 68.75%\n",
      "Class 5: 94.89%\n",
      "Class 6: 81.82%\n",
      "Weighted precision: 89.60%\n"
     ]
    }
   ],
   "source": [
    "report = classification_report(y_true, y_pred, output_dict=True)\n",
    "# Extract weighted precision for each class\n",
    "class_precision = {}\n",
    "for class_label in report.keys():\n",
    "    if class_label == 'weighted avg':\n",
    "        class_precision['weighted'] = report[class_label]['precision']\n",
    "    elif class_label.isdigit():\n",
    "        class_precision[int(class_label)] = report[class_label]['precision']\n",
    "print(\"Weighted precision for each class:\")\n",
    "for i, precision in class_precision.items():\n",
    "    if i == 'weighted':\n",
    "        print(\"Weighted precision: {:.2f}%\".format(precision*100))\n",
    "    else:\n",
    "        print(\"Class {}: {:.2f}%\".format(i, precision*100))"
   ]
  },
  {
   "cell_type": "markdown",
   "id": "57d09f4d",
   "metadata": {
    "papermill": {
     "duration": null,
     "end_time": null,
     "exception": null,
     "start_time": null,
     "status": "pending"
    },
    "tags": []
   },
   "source": [
    "### Individual Class Weighted Recall"
   ]
  },
  {
   "cell_type": "code",
   "execution_count": 31,
   "id": "94575631",
   "metadata": {
    "execution": {
     "iopub.execute_input": "2023-05-18T10:49:56.139025Z",
     "iopub.status.busy": "2023-05-18T10:49:56.138278Z",
     "iopub.status.idle": "2023-05-18T10:49:56.153494Z",
     "shell.execute_reply": "2023-05-18T10:49:56.152229Z"
    },
    "papermill": {
     "duration": null,
     "end_time": null,
     "exception": null,
     "start_time": null,
     "status": "pending"
    },
    "tags": []
   },
   "outputs": [
    {
     "name": "stdout",
     "output_type": "stream",
     "text": [
      "Weighted recall for each class:\n",
      "Class 0: 54.55%\n",
      "Class 1: 70.37%\n",
      "Class 2: 65.15%\n",
      "Class 3: 66.67%\n",
      "Class 4: 31.43%\n",
      "Class 5: 98.04%\n",
      "Class 6: 100.00%\n",
      "Weighted Recall: 90.34%\n"
     ]
    }
   ],
   "source": [
    "report = classification_report(y_true, y_pred, output_dict=True)\n",
    "# Extract weighted recall for each class\n",
    "class_recall = {}\n",
    "for class_label in report.keys():\n",
    "    if class_label == 'weighted avg':\n",
    "        class_recall['weighted'] = report[class_label]['recall']\n",
    "    elif class_label.isdigit():\n",
    "        class_recall[int(class_label)] = report[class_label]['recall']\n",
    "print(\"Weighted recall for each class:\")\n",
    "for i, recall in class_recall.items():\n",
    "    if i == 'weighted':\n",
    "        print(\"Weighted Recall: {:.2f}%\".format(recall*100))\n",
    "    else:\n",
    "        print(\"Class {}: {:.2f}%\".format(i, recall*100))"
   ]
  },
  {
   "cell_type": "markdown",
   "id": "4aa2a389",
   "metadata": {
    "papermill": {
     "duration": null,
     "end_time": null,
     "exception": null,
     "start_time": null,
     "status": "pending"
    },
    "tags": []
   },
   "source": [
    "### Individual Class Weighted F1-score"
   ]
  },
  {
   "cell_type": "code",
   "execution_count": 32,
   "id": "542f31af",
   "metadata": {
    "execution": {
     "iopub.execute_input": "2023-05-18T10:49:56.287784Z",
     "iopub.status.busy": "2023-05-18T10:49:56.287030Z",
     "iopub.status.idle": "2023-05-18T10:49:56.301389Z",
     "shell.execute_reply": "2023-05-18T10:49:56.300262Z"
    },
    "papermill": {
     "duration": null,
     "end_time": null,
     "exception": null,
     "start_time": null,
     "status": "pending"
    },
    "tags": []
   },
   "outputs": [
    {
     "name": "stdout",
     "output_type": "stream",
     "text": [
      "Weighted F1-score for each class:\n",
      "Class 0: 58.54%\n",
      "Class 1: 70.37%\n",
      "Class 2: 66.67%\n",
      "Class 3: 61.54%\n",
      "Class 4: 43.14%\n",
      "Class 5: 96.44%\n",
      "Class 6: 90.00%\n",
      "Weighted F1-score: 89.63%\n"
     ]
    }
   ],
   "source": [
    "report = classification_report(y_true, y_pred, output_dict=True)\n",
    "# Extract weighted F1-score for each class\n",
    "class_f1 = {}\n",
    "for class_label in report.keys():\n",
    "    if class_label == 'weighted avg':\n",
    "        class_f1['weighted'] = report[class_label]['f1-score']\n",
    "    elif class_label.isdigit():\n",
    "        class_f1[int(class_label)] = report[class_label]['f1-score']\n",
    "print(\"Weighted F1-score for each class:\")\n",
    "for i, f1_score in class_f1.items():\n",
    "    if i == 'weighted':\n",
    "        print(\"Weighted F1-score: {:.2f}%\".format(f1_score*100))\n",
    "    else:\n",
    "        print(\"Class {}: {:.2f}%\".format(i, f1_score*100))"
   ]
  },
  {
   "cell_type": "markdown",
   "id": "217bf1a6",
   "metadata": {
    "papermill": {
     "duration": null,
     "end_time": null,
     "exception": null,
     "start_time": null,
     "status": "pending"
    },
    "tags": []
   },
   "source": [
    "### Individual Class Precision, Recall and F1-score"
   ]
  },
  {
   "cell_type": "code",
   "execution_count": 33,
   "id": "5e5e6bfc",
   "metadata": {
    "execution": {
     "iopub.execute_input": "2023-05-18T10:49:56.435119Z",
     "iopub.status.busy": "2023-05-18T10:49:56.434318Z",
     "iopub.status.idle": "2023-05-18T10:49:56.443214Z",
     "shell.execute_reply": "2023-05-18T10:49:56.441878Z"
    },
    "papermill": {
     "duration": null,
     "end_time": null,
     "exception": null,
     "start_time": null,
     "status": "pending"
    },
    "tags": []
   },
   "outputs": [
    {
     "name": "stdout",
     "output_type": "stream",
     "text": [
      "Class-wise weighted precision, recall, and F1-score:\n",
      "Class 0: Precision=0.63, Recall=0.55, F1-score=0.59\n",
      "Class 1: Precision=0.70, Recall=0.70, F1-score=0.70\n",
      "Class 2: Precision=0.68, Recall=0.65, F1-score=0.67\n",
      "Class 3: Precision=0.57, Recall=0.67, F1-score=0.62\n",
      "Class 4: Precision=0.69, Recall=0.31, F1-score=0.43\n",
      "Class 5: Precision=0.95, Recall=0.98, F1-score=0.96\n",
      "Class 6: Precision=0.82, Recall=1.00, F1-score=0.90\n"
     ]
    }
   ],
   "source": [
    "from sklearn.metrics import precision_recall_fscore_support\n",
    "\n",
    "precision_class, recall_class, f1_class, support_class = precision_recall_fscore_support(y_true, y_pred, average=None)\n",
    "print('Class-wise weighted precision, recall, and F1-score:')\n",
    "for i in range(len(precision_class)):\n",
    "    print('Class {}: Precision={:.2f}, Recall={:.2f}, F1-score={:.2f}'.format(i, precision_class[i], recall_class[i], f1_class[i]))\n"
   ]
  },
  {
   "cell_type": "markdown",
   "id": "41fba0ec",
   "metadata": {
    "papermill": {
     "duration": null,
     "end_time": null,
     "exception": null,
     "start_time": null,
     "status": "pending"
    },
    "tags": []
   },
   "source": [
    "### Individual Class Weighted Sensitivity"
   ]
  },
  {
   "cell_type": "code",
   "execution_count": 34,
   "id": "91fc5ca0",
   "metadata": {
    "execution": {
     "iopub.execute_input": "2023-05-18T10:49:56.574879Z",
     "iopub.status.busy": "2023-05-18T10:49:56.574098Z",
     "iopub.status.idle": "2023-05-18T10:49:57.119612Z",
     "shell.execute_reply": "2023-05-18T10:49:57.118331Z"
    },
    "papermill": {
     "duration": null,
     "end_time": null,
     "exception": null,
     "start_time": null,
     "status": "pending"
    },
    "tags": []
   },
   "outputs": [
    {
     "name": "stdout",
     "output_type": "stream",
     "text": [
      "Weighted Sensitivity:  0.9033816425120773\n",
      "Class  0 :sensitivity = 0.5454545454545454\n",
      "Class  1 :sensitivity = 0.7037037037037037\n",
      "Class  2 :sensitivity = 0.6515151515151515\n",
      "Class  3 :sensitivity = 0.6666666666666666\n",
      "Class  4 :sensitivity = 0.3142857142857143\n",
      "Class  5 :sensitivity = 0.9803921568627451\n",
      "Class  6 :sensitivity = 1.0\n"
     ]
    }
   ],
   "source": [
    "from imblearn.metrics import sensitivity_score\n",
    "\n",
    "sensitivity = sensitivity_score(y_true, y_pred, average='weighted')\n",
    "print(\"Weighted Sensitivity: \", sensitivity)\n",
    "\n",
    "# Calculate class-wise sensitivity\n",
    "sensitivity = sensitivity_score(y_true, y_pred, average=None)\n",
    "\n",
    "# Print sensitivity score for each class\n",
    "for i in range(len(sensitivity)):\n",
    "    print(\"Class \", i, \":sensitivity =\", sensitivity[i])"
   ]
  },
  {
   "cell_type": "markdown",
   "id": "8f78934e",
   "metadata": {
    "papermill": {
     "duration": null,
     "end_time": null,
     "exception": null,
     "start_time": null,
     "status": "pending"
    },
    "tags": []
   },
   "source": [
    "### Individual Class Weighted Specificity"
   ]
  },
  {
   "cell_type": "code",
   "execution_count": 35,
   "id": "02c61729",
   "metadata": {
    "execution": {
     "iopub.execute_input": "2023-05-18T10:49:57.251444Z",
     "iopub.status.busy": "2023-05-18T10:49:57.250642Z",
     "iopub.status.idle": "2023-05-18T10:49:57.260194Z",
     "shell.execute_reply": "2023-05-18T10:49:57.259090Z"
    },
    "papermill": {
     "duration": null,
     "end_time": null,
     "exception": null,
     "start_time": null,
     "status": "pending"
    },
    "tags": []
   },
   "outputs": [
    {
     "name": "stdout",
     "output_type": "stream",
     "text": [
      "Weighted Specificity:  0.827181239359444\n",
      "Class  0 :specificity= 0.9913151364764268\n",
      "Class  1 :specificity= 0.9900124843945068\n",
      "Class  2 :specificity= 0.973753280839895\n",
      "Class  3 :specificity= 0.9963503649635036\n",
      "Class  4 :specificity= 0.9936948297604036\n",
      "Class  5 :specificity= 0.7878787878787878\n",
      "Class  6 :specificity= 0.9975579975579976\n"
     ]
    }
   ],
   "source": [
    "from imblearn.metrics import specificity_score\n",
    "\n",
    "specificity = specificity_score(y_true, y_pred, average='weighted')\n",
    "print(\"Weighted Specificity: \", specificity)\n",
    "\n",
    "# Calculate class-wise specificity\n",
    "specificity = specificity_score(y_true, y_pred, average=None)\n",
    "\n",
    "# Print sensitivity score for each class\n",
    "for i in range(len(specificity)):\n",
    "    print(\"Class \", i, \":specificity=\", specificity[i])"
   ]
  },
  {
   "cell_type": "markdown",
   "id": "ca6e0c41",
   "metadata": {
    "papermill": {
     "duration": null,
     "end_time": null,
     "exception": null,
     "start_time": null,
     "status": "pending"
    },
    "tags": []
   },
   "source": [
    "### Accuracy"
   ]
  },
  {
   "cell_type": "code",
   "execution_count": 36,
   "id": "f9d072c4",
   "metadata": {
    "execution": {
     "iopub.execute_input": "2023-05-18T10:49:57.391919Z",
     "iopub.status.busy": "2023-05-18T10:49:57.391623Z",
     "iopub.status.idle": "2023-05-18T10:49:57.397983Z",
     "shell.execute_reply": "2023-05-18T10:49:57.396778Z"
    },
    "papermill": {
     "duration": null,
     "end_time": null,
     "exception": null,
     "start_time": null,
     "status": "pending"
    },
    "tags": []
   },
   "outputs": [
    {
     "name": "stdout",
     "output_type": "stream",
     "text": [
      "Accuracy: 0.9033816425120773\n"
     ]
    }
   ],
   "source": [
    "print(\"Accuracy: \" + str(accuracy_score(y_true, y_pred)))\n",
    "import numpy as np\n",
    "from sklearn.metrics import accuracy_score"
   ]
  },
  {
   "cell_type": "code",
   "execution_count": 37,
   "id": "5ba83240",
   "metadata": {
    "execution": {
     "iopub.execute_input": "2023-05-18T10:49:57.466949Z",
     "iopub.status.busy": "2023-05-18T10:49:57.466196Z",
     "iopub.status.idle": "2023-05-18T10:49:57.485511Z",
     "shell.execute_reply": "2023-05-18T10:49:57.484474Z"
    },
    "papermill": {
     "duration": null,
     "end_time": null,
     "exception": null,
     "start_time": null,
     "status": "pending"
    },
    "tags": []
   },
   "outputs": [
    {
     "name": "stdout",
     "output_type": "stream",
     "text": [
      "Top-1 Accuracy: 0.9033816425120773\n",
      "Top-2 Accuracy: 0.964975845410628\n",
      "Top-3 Accuracy: 0.9830917874396136\n"
     ]
    }
   ],
   "source": [
    "# Calculate top-1 accuracy\n",
    "top1_acc = accuracy_score(y_true, y_pred)\n",
    "print(\"Top-1 Accuracy:\", top1_acc)\n",
    "\n",
    "# Calculate top-2 accuracy\n",
    "y_pred_top2 = np.argsort(-predictions, axis=1)[:, :2] # Get the top 2 predicted classes\n",
    "top2_acc = np.mean(np.array([y_true[i] in y_pred_top2[i] for i in range(len(y_true))]))\n",
    "print(\"Top-2 Accuracy:\", top2_acc)\n",
    "\n",
    "# Calculate top-3 accuracy\n",
    "y_pred_top3 = np.argsort(-predictions, axis=1)[:, :3] # Get the top 3 predicted classes\n",
    "top3_acc = np.mean(np.array([y_true[i] in y_pred_top3[i] for i in range(len(y_true))]))\n",
    "print(\"Top-3 Accuracy:\", top3_acc)\n",
    "from sklearn.metrics import f1_score"
   ]
  },
  {
   "cell_type": "markdown",
   "id": "8cdeefb4",
   "metadata": {
    "papermill": {
     "duration": null,
     "end_time": null,
     "exception": null,
     "start_time": null,
     "status": "pending"
    },
    "tags": []
   },
   "source": [
    "### Weighted Evaluation Measures"
   ]
  },
  {
   "cell_type": "code",
   "execution_count": 38,
   "id": "0b981cd8",
   "metadata": {
    "execution": {
     "iopub.execute_input": "2023-05-18T10:49:57.618189Z",
     "iopub.status.busy": "2023-05-18T10:49:57.617700Z",
     "iopub.status.idle": "2023-05-18T10:49:57.646649Z",
     "shell.execute_reply": "2023-05-18T10:49:57.645848Z"
    },
    "papermill": {
     "duration": null,
     "end_time": null,
     "exception": null,
     "start_time": null,
     "status": "pending"
    },
    "tags": []
   },
   "outputs": [
    {
     "name": "stdout",
     "output_type": "stream",
     "text": [
      "Weighted Precision: 0.8960400377695326\n",
      "Weighted Recall: 0.9033816425120773\n",
      "Weighted F1-Score: 0.8963286075883339\n",
      "Weighted Sensitivity: 0.9033816425120773\n",
      "Weighted Specificity: 0.827181239359444\n",
      "weighted Roc score: 0.976727313641394\n"
     ]
    }
   ],
   "source": [
    "print(\"Weighted Precision: \"+ str(precision_score(y_true, y_pred, average='weighted')))\n",
    "print(\"Weighted Recall: \"+ str(recall_score(y_true, y_pred, average='weighted')))\n",
    "print(\"Weighted F1-Score: \"+ str(f1_score(y_true, y_pred, average='weighted')))\n",
    "print(\"Weighted Sensitivity: \"+ str(sensitivity_score(y_true, y_pred, average='weighted')))\n",
    "print(\"Weighted Specificity: \"+ str(specificity_score(y_true, y_pred, average='weighted')))\n",
    "print(\"weighted Roc score: \" + str(roc_auc_score(y_true,y_prob,multi_class='ovr',average='weighted')))"
   ]
  },
  {
   "cell_type": "markdown",
   "id": "12a8df52",
   "metadata": {
    "papermill": {
     "duration": null,
     "end_time": null,
     "exception": null,
     "start_time": null,
     "status": "pending"
    },
    "tags": []
   },
   "source": [
    "### Macro Evaluation Measures"
   ]
  },
  {
   "cell_type": "code",
   "execution_count": 39,
   "id": "c0b05a85",
   "metadata": {
    "execution": {
     "iopub.execute_input": "2023-05-18T10:49:57.778633Z",
     "iopub.status.busy": "2023-05-18T10:49:57.778371Z",
     "iopub.status.idle": "2023-05-18T10:49:57.799400Z",
     "shell.execute_reply": "2023-05-18T10:49:57.798305Z"
    },
    "papermill": {
     "duration": null,
     "end_time": null,
     "exception": null,
     "start_time": null,
     "status": "pending"
    },
    "tags": []
   },
   "outputs": [
    {
     "name": "stdout",
     "output_type": "stream",
     "text": [
      "Macro Precision: 0.7205482618158925\n",
      "Macro Recall: 0.6945739912126466\n",
      "Macro F1-Score: 0.6952692971182557\n",
      "Macro Sensitivity: 0.6945739912126466\n",
      "Macro Specificity: 0.9615089831245031\n",
      "Macro Roc score: 0.9772970841933473\n"
     ]
    }
   ],
   "source": [
    "print(\"Macro Precision: \"+ str(precision_score(y_true, y_pred, average='macro')))\n",
    "print(\"Macro Recall: \"+ str(recall_score(y_true, y_pred, average='macro')))\n",
    "print(\"Macro F1-Score: \"+ str(f1_score(y_true, y_pred, average='macro')))\n",
    "print(\"Macro Sensitivity: \"+ str(sensitivity_score(y_true, y_pred, average='macro')))\n",
    "print(\"Macro Specificity: \"+ str(specificity_score(y_true, y_pred, average='macro')))\n",
    "print(\"Macro Roc score: \" + str(roc_auc_score(y_true,y_prob,multi_class='ovr',average='macro')))"
   ]
  },
  {
   "cell_type": "markdown",
   "id": "2503e090",
   "metadata": {
    "papermill": {
     "duration": null,
     "end_time": null,
     "exception": null,
     "start_time": null,
     "status": "pending"
    },
    "tags": []
   },
   "source": [
    "### Micro Evaluation Measures"
   ]
  },
  {
   "cell_type": "code",
   "execution_count": 40,
   "id": "9bbc904e",
   "metadata": {
    "execution": {
     "iopub.execute_input": "2023-05-18T10:49:57.931982Z",
     "iopub.status.busy": "2023-05-18T10:49:57.931179Z",
     "iopub.status.idle": "2023-05-18T10:49:57.944893Z",
     "shell.execute_reply": "2023-05-18T10:49:57.943702Z"
    },
    "papermill": {
     "duration": null,
     "end_time": null,
     "exception": null,
     "start_time": null,
     "status": "pending"
    },
    "tags": []
   },
   "outputs": [
    {
     "name": "stdout",
     "output_type": "stream",
     "text": [
      "Micro Precision: 0.9033816425120773\n",
      "Micro Recall: 0.9033816425120773\n",
      "Micro F1-Score: 0.9033816425120773\n",
      "Micro Sensitivity: 0.9033816425120773\n",
      "Micro Specificity: 0.9838969404186796\n"
     ]
    }
   ],
   "source": [
    "print(\"Micro Precision: \"+ str(precision_score(y_true, y_pred, average='micro')))\n",
    "print(\"Micro Recall: \"+ str(recall_score(y_true, y_pred, average='micro')))\n",
    "print(\"Micro F1-Score: \"+ str(f1_score(y_true, y_pred, average='micro')))\n",
    "print(\"Micro Sensitivity: \"+ str(sensitivity_score(y_true, y_pred, average='micro')))\n",
    "print(\"Micro Specificity: \"+ str(specificity_score(y_true, y_pred, average='micro')))"
   ]
  },
  {
   "cell_type": "markdown",
   "id": "e577510a",
   "metadata": {
    "papermill": {
     "duration": null,
     "end_time": null,
     "exception": null,
     "start_time": null,
     "status": "pending"
    },
    "tags": []
   },
   "source": [
    "## ROC"
   ]
  },
  {
   "cell_type": "markdown",
   "id": "bab4e71c",
   "metadata": {
    "papermill": {
     "duration": null,
     "end_time": null,
     "exception": null,
     "start_time": null,
     "status": "pending"
    },
    "tags": []
   },
   "source": [
    "### Compute ROC curve and ROC area for each class"
   ]
  },
  {
   "cell_type": "code",
   "execution_count": 41,
   "id": "6944ae73",
   "metadata": {
    "execution": {
     "iopub.execute_input": "2023-05-18T10:49:58.144279Z",
     "iopub.status.busy": "2023-05-18T10:49:58.143509Z",
     "iopub.status.idle": "2023-05-18T10:49:58.418105Z",
     "shell.execute_reply": "2023-05-18T10:49:58.417169Z"
    },
    "papermill": {
     "duration": null,
     "end_time": null,
     "exception": null,
     "start_time": null,
     "status": "pending"
    },
    "tags": []
   },
   "outputs": [
    {
     "data": {
      "image/png": "[encoded data removed]",
      "text/plain": [
       "<Figure size 640x480 with 1 Axes>"
      ]
     },
     "metadata": {},
     "output_type": "display_data"
    }
   ],
   "source": [
    "fpr = {}\n",
    "tpr = {}\n",
    "roc_auc = dict()\n",
    "for i in range(num_classes):\n",
    "    fpr[i], tpr[i], _ = roc_curve(y_test[:, i], y_prob[:, i], drop_intermediate=False)\n",
    "    roc_auc[i] = auc(fpr[i], tpr[i])\n",
    "\n",
    "\n",
    "# plot the ROC curve for each class\n",
    "for i in range(num_classes):\n",
    "    plt.plot(fpr[i], tpr[i], label='Class {}: AUC={:.3f}'.format(i, roc_auc[i]))\n",
    "\n",
    "plt.xlabel('False Positive Rate')\n",
    "plt.ylabel('True Positive Rate')\n",
    "plt.legend()\n",
    "plt.show()"
   ]
  },
  {
   "cell_type": "markdown",
   "id": "06e292dc",
   "metadata": {
    "papermill": {
     "duration": null,
     "end_time": null,
     "exception": null,
     "start_time": null,
     "status": "pending"
    },
    "tags": []
   },
   "source": [
    "## MCC and Kappa Score"
   ]
  },
  {
   "cell_type": "code",
   "execution_count": 42,
   "id": "ecc38240",
   "metadata": {
    "execution": {
     "iopub.execute_input": "2023-05-18T10:49:58.555243Z",
     "iopub.status.busy": "2023-05-18T10:49:58.554956Z",
     "iopub.status.idle": "2023-05-18T10:49:58.564592Z",
     "shell.execute_reply": "2023-05-18T10:49:58.563316Z"
    },
    "papermill": {
     "duration": null,
     "end_time": null,
     "exception": null,
     "start_time": null,
     "status": "pending"
    },
    "tags": []
   },
   "outputs": [
    {
     "name": "stdout",
     "output_type": "stream",
     "text": [
      "MCC: 70.89%\n",
      "Kappa Score: 70.62%\n"
     ]
    }
   ],
   "source": [
    "from sklearn.metrics import matthews_corrcoef, cohen_kappa_score\n",
    "\n",
    "# y_true are the true labels of the test set\n",
    "# y_pred are the predicted labels of the test set\n",
    "mcc = matthews_corrcoef(y_true, y_pred)\n",
    "kappa = cohen_kappa_score(y_true, y_pred)\n",
    "print(\"MCC: {:.2f}%\".format(mcc*100))\n",
    "print(\"Kappa Score: {:.2f}%\".format(kappa*100))"
   ]
  },
  {
   "cell_type": "code",
   "execution_count": 43,
   "id": "5be131b2",
   "metadata": {
    "execution": {
     "iopub.execute_input": "2023-05-18T10:49:58.635953Z",
     "iopub.status.busy": "2023-05-18T10:49:58.635207Z",
     "iopub.status.idle": "2023-05-18T10:49:58.700068Z",
     "shell.execute_reply": "2023-05-18T10:49:58.699048Z"
    },
    "papermill": {
     "duration": null,
     "end_time": null,
     "exception": null,
     "start_time": null,
     "status": "pending"
    },
    "tags": []
   },
   "outputs": [
    {
     "name": "stdout",
     "output_type": "stream",
     "text": [
      "MCC per class:\n",
      "Class 0: 57.65%\n",
      "Class 1: 69.37%\n",
      "Class 2: 63.87%\n",
      "Class 3: 61.42%\n",
      "Class 4: 45.01%\n",
      "Class 5: 81.19%\n",
      "Class 6: 90.34%\n",
      "Kappa Score per class:\n",
      "Class 0: 57.49%\n",
      "Class 1: 69.37%\n",
      "Class 2: 63.85%\n",
      "Class 3: 61.24%\n",
      "Class 4: 41.59%\n",
      "Class 5: 80.88%\n",
      "Class 6: 89.88%\n"
     ]
    }
   ],
   "source": [
    "### Individual Class Wise MCC and Kappa\n",
    "\n",
    "from sklearn.metrics import confusion_matrix, matthews_corrcoef, cohen_kappa_score\n",
    "# y_true are the true labels of the test set\n",
    "# y_pred are the predicted labels of the test set\n",
    "conf_mat = confusion_matrix(y_true, y_pred)\n",
    "mcc_per_class = {}\n",
    "kappa_per_class = {}\n",
    "\n",
    "for i in range(len(conf_mat)):\n",
    "    tp = conf_mat[i][i]\n",
    "    fp = sum(conf_mat[:, i]) - tp\n",
    "    fn = sum(conf_mat[i, :]) - tp\n",
    "    tn = sum(sum(conf_mat)) - tp - fp - fn\n",
    "\n",
    "    mcc_per_class[i] = matthews_corrcoef([1 if x==i else 0 for x in y_true], [1 if x==i else 0 for x in y_pred])\n",
    "    kappa_per_class[i] = cohen_kappa_score([1 if x==i else 0 for x in y_true], [1 if x==i else 0 for x in y_pred])\n",
    "\n",
    "print(\"MCC per class:\")\n",
    "for i, mcc in mcc_per_class.items():\n",
    "    print(\"Class {}: {:.2f}%\".format(i, mcc*100))\n",
    "\n",
    "print(\"Kappa Score per class:\")\n",
    "for i, kappa in kappa_per_class.items():\n",
    "    print(\"Class {}: {:.2f}%\".format(i, kappa*100))"
   ]
  },
  {
   "cell_type": "code",
   "execution_count": null,
   "id": "59b23660",
   "metadata": {},
   "outputs": [],
   "source": []
  }
 ],
 "metadata": {
  "kernelspec": {
   "display_name": "Python 3 (ipykernel)",
   "language": "python",
   "name": "python3"
  },
  "language_info": {
   "codemirror_mode": {
    "name": "ipython",
    "version": 3
   },
   "file_extension": ".py",
   "mimetype": "text/x-python",
   "name": "python",
   "nbconvert_exporter": "python",
   "pygments_lexer": "ipython3",
   "version": "3.9.16"
  },
  "papermill": {
   "default_parameters": {},
   "duration": null,
   "end_time": null,
   "environment_variables": {},
   "exception": null,
   "input_path": "__notebook__.ipynb",
   "output_path": "__notebook__.ipynb",
   "parameters": {},
   "start_time": "2023-05-20T13:40:12.289927",
   "version": "2.4.0"
  }
 },
 "nbformat": 4,
 "nbformat_minor": 5
}
