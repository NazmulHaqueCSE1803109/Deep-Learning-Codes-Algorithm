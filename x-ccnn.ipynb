{
 "cells": [
  {
   "cell_type": "markdown",
   "id": "d516dbf8",
   "metadata": {
    "papermill": {
     "duration": 0.012914,
     "end_time": "2023-05-18T19:14:08.474193",
     "exception": false,
     "start_time": "2023-05-18T19:14:08.461279",
     "status": "completed"
    },
    "tags": []
   },
   "source": [
    "# Libraries"
   ]
  },
  {
   "cell_type": "code",
   "execution_count": 1,
   "id": "24e1907e",
   "metadata": {
    "execution": {
     "iopub.execute_input": "2023-05-18T19:14:08.500612Z",
     "iopub.status.busy": "2023-05-18T19:14:08.500205Z",
     "iopub.status.idle": "2023-05-18T19:14:17.739076Z",
     "shell.execute_reply": "2023-05-18T19:14:17.738081Z"
    },
    "id": "Aa36bMKLze3z",
    "papermill": {
     "duration": 9.255221,
     "end_time": "2023-05-18T19:14:17.741934",
     "exception": false,
     "start_time": "2023-05-18T19:14:08.486713",
     "status": "completed"
    },
    "tags": []
   },
   "outputs": [],
   "source": [
    "import pandas as pd\n",
    "import numpy as np\n",
    "import os\n",
    "import tensorflow as tf\n",
    "import cv2\n",
    "from keras import backend as K\n",
    "from keras.layers import Layer, InputSpec\n",
    "import keras.layers as kl\n",
    "from glob import glob\n",
    "from sklearn.metrics import roc_curve, auc\n",
    "from keras.preprocessing import image\n",
    "from tensorflow.keras.models import Sequential\n",
    "from sklearn.metrics import roc_auc_score\n",
    "from tensorflow.keras import callbacks \n",
    "from tensorflow.keras.callbacks import ModelCheckpoint, EarlyStopping\n",
    "from  matplotlib import pyplot as plt\n",
    "from tensorflow.keras import Model\n",
    "from tensorflow.keras.layers import concatenate, Dense, Conv2D, MaxPooling2D, Flatten, Input, Activation, add, AveragePooling2D, BatchNormalization, Dropout\n",
    "%matplotlib inline\n",
    "import shutil\n",
    "from sklearn.metrics import  precision_score, recall_score, accuracy_score, classification_report, confusion_matrix\n",
    "from tensorflow.python.platform import build_info as tf_build_info\n",
    "from tensorflow.keras.preprocessing.image import ImageDataGenerator\n",
    "from sklearn.model_selection import train_test_split\n",
    "\n",
    "from PIL import ImageFile\n",
    "ImageFile.LOAD_TRUNCATED_IMAGES = True"
   ]
  },
  {
   "cell_type": "code",
   "execution_count": 2,
   "id": "4e2aa71e",
   "metadata": {
    "execution": {
     "iopub.execute_input": "2023-05-18T19:14:17.773560Z",
     "iopub.status.busy": "2023-05-18T19:14:17.772976Z",
     "iopub.status.idle": "2023-05-18T19:14:17.777578Z",
     "shell.execute_reply": "2023-05-18T19:14:17.776667Z"
    },
    "id": "PsoqCvNsgmHP",
    "papermill": {
     "duration": 0.020969,
     "end_time": "2023-05-18T19:14:17.779758",
     "exception": false,
     "start_time": "2023-05-18T19:14:17.758789",
     "status": "completed"
    },
    "tags": []
   },
   "outputs": [],
   "source": [
    "targetnames = ['akiec', 'bcc', 'bkl', 'df', 'mel', 'nv', 'vasc']\n",
    "batch_size = 16\n",
    "image_size = 299"
   ]
  },
  {
   "cell_type": "code",
   "execution_count": 3,
   "id": "0781cc5c",
   "metadata": {
    "execution": {
     "iopub.execute_input": "2023-05-18T19:14:17.805637Z",
     "iopub.status.busy": "2023-05-18T19:14:17.805351Z",
     "iopub.status.idle": "2023-05-18T19:14:17.809588Z",
     "shell.execute_reply": "2023-05-18T19:14:17.808590Z"
    },
    "id": "wNisha_gM3_Z",
    "papermill": {
     "duration": 0.019807,
     "end_time": "2023-05-18T19:14:17.812014",
     "exception": false,
     "start_time": "2023-05-18T19:14:17.792207",
     "status": "completed"
    },
    "tags": []
   },
   "outputs": [],
   "source": [
    "train_path = 'C:/Users/STUDENT/IGAvg/dataset/Splitted_And_Augmented_HAM_15/HAM10K/train_dir'\n",
    "test_path = 'C:/Users/STUDENT/IGAvg/dataset/Splitted_And_Augmented_HAM_15/HAM10K/test_dir'\n",
    "val_path = 'C:/Users/STUDENT/IGAvg/dataset/Splitted_And_Augmented_HAM_15/HAM10K/val_dir'"
   ]
  },
  {
   "cell_type": "markdown",
   "id": "f43aba30",
   "metadata": {
    "papermill": {
     "duration": 0.012084,
     "end_time": "2023-05-18T19:14:17.836598",
     "exception": false,
     "start_time": "2023-05-18T19:14:17.824514",
     "status": "completed"
    },
    "tags": []
   },
   "source": [
    "# Dataset generation (Train, Test, Validation)"
   ]
  },
  {
   "cell_type": "code",
   "execution_count": 4,
   "id": "7a70a4d6",
   "metadata": {
    "execution": {
     "iopub.execute_input": "2023-05-18T19:14:17.862859Z",
     "iopub.status.busy": "2023-05-18T19:14:17.862598Z",
     "iopub.status.idle": "2023-05-18T19:14:17.866567Z",
     "shell.execute_reply": "2023-05-18T19:14:17.865756Z"
    },
    "id": "zhQWqdRN79B3",
    "papermill": {
     "duration": 0.019085,
     "end_time": "2023-05-18T19:14:17.868583",
     "exception": false,
     "start_time": "2023-05-18T19:14:17.849498",
     "status": "completed"
    },
    "tags": []
   },
   "outputs": [],
   "source": [
    "datagen = ImageDataGenerator(preprocessing_function=tf.keras.applications.xception.preprocess_input)"
   ]
  },
  {
   "cell_type": "code",
   "execution_count": 5,
   "id": "6a4e384e",
   "metadata": {
    "execution": {
     "iopub.execute_input": "2023-05-18T19:14:17.894453Z",
     "iopub.status.busy": "2023-05-18T19:14:17.894177Z",
     "iopub.status.idle": "2023-05-18T19:14:40.858004Z",
     "shell.execute_reply": "2023-05-18T19:14:40.857138Z"
    },
    "id": "w9_8FvOO7Rtu",
    "outputId": "7ca88c24-fda8-45d6-cb32-f3a43ae6ba5b",
    "papermill": {
     "duration": 22.979312,
     "end_time": "2023-05-18T19:14:40.860186",
     "exception": false,
     "start_time": "2023-05-18T19:14:17.880874",
     "status": "completed"
    },
    "tags": []
   },
   "outputs": [
    {
     "name": "stdout",
     "output_type": "stream",
     "text": [
      "\n",
      "Train Batches: \n",
      "Found 54782 images belonging to 7 classes.\n",
      "\n",
      "Test Batches: \n",
      "Found 828 images belonging to 7 classes.\n",
      "\n",
      "Val Batches: \n",
      "Found 827 images belonging to 7 classes.\n"
     ]
    }
   ],
   "source": [
    "print(\"\\nTrain Batches: \")\n",
    "train_batches = datagen.flow_from_directory(directory=train_path,\n",
    "                                            target_size=(image_size,image_size),\n",
    "                                            batch_size=batch_size,\n",
    "                                            shuffle=True)\n",
    "\n",
    "print(\"\\nTest Batches: \")\n",
    "test_batches = datagen.flow_from_directory(test_path,\n",
    "                                          target_size=(image_size,image_size),\n",
    "                                          batch_size=batch_size,\n",
    "                                          shuffle=False)\n",
    "print(\"\\nVal Batches: \")\n",
    "val_batches = datagen.flow_from_directory(val_path,\n",
    "                                         target_size=(image_size,image_size),\n",
    "                                         batch_size=batch_size,\n",
    "                                         shuffle=False)"
   ]
  },
  {
   "cell_type": "markdown",
   "id": "edb48612",
   "metadata": {
    "papermill": {
     "duration": 0.012643,
     "end_time": "2023-05-18T19:14:40.885949",
     "exception": false,
     "start_time": "2023-05-18T19:14:40.873306",
     "status": "completed"
    },
    "tags": []
   },
   "source": [
    "# Main Model Creation"
   ]
  },
  {
   "cell_type": "code",
   "execution_count": 6,
   "id": "ed95f12f",
   "metadata": {
    "execution": {
     "iopub.execute_input": "2023-05-18T19:14:40.912427Z",
     "iopub.status.busy": "2023-05-18T19:14:40.912132Z",
     "iopub.status.idle": "2023-05-18T19:14:47.217233Z",
     "shell.execute_reply": "2023-05-18T19:14:47.216343Z"
    },
    "id": "zhQWqdRN79B3",
    "papermill": {
     "duration": 6.321242,
     "end_time": "2023-05-18T19:14:47.219834",
     "exception": false,
     "start_time": "2023-05-18T19:14:40.898592",
     "status": "completed"
    },
    "tags": []
   },
   "outputs": [],
   "source": [
    "from tensorflow.keras.applications.xception import Xception\n",
    "\n",
    "X = Xception(weights='imagenet', include_top=False, input_shape=(image_size, image_size, 3), pooling='avg')"
   ]
  },
  {
   "cell_type": "markdown",
   "id": "e2b786f7",
   "metadata": {
    "papermill": {
     "duration": 0.013497,
     "end_time": "2023-05-18T19:14:47.247454",
     "exception": false,
     "start_time": "2023-05-18T19:14:47.233957",
     "status": "completed"
    },
    "tags": []
   },
   "source": [
    "## Fine tuning"
   ]
  },
  {
   "cell_type": "code",
   "execution_count": 7,
   "id": "3f1e0639",
   "metadata": {
    "execution": {
     "iopub.execute_input": "2023-05-18T19:14:47.276165Z",
     "iopub.status.busy": "2023-05-18T19:14:47.275863Z",
     "iopub.status.idle": "2023-05-18T19:14:47.281332Z",
     "shell.execute_reply": "2023-05-18T19:14:47.280384Z"
    },
    "id": "4d4Ta5LcSYaz",
    "papermill": {
     "duration": 0.022177,
     "end_time": "2023-05-18T19:14:47.283358",
     "exception": false,
     "start_time": "2023-05-18T19:14:47.261181",
     "status": "completed"
    },
    "tags": []
   },
   "outputs": [],
   "source": [
    "MainInput=Input(shape=(image_size, image_size, 3))"
   ]
  },
  {
   "cell_type": "code",
   "execution_count": 8,
   "id": "16be2123",
   "metadata": {
    "execution": {
     "iopub.execute_input": "2023-05-18T19:14:47.311521Z",
     "iopub.status.busy": "2023-05-18T19:14:47.311250Z",
     "iopub.status.idle": "2023-05-18T19:14:47.667225Z",
     "shell.execute_reply": "2023-05-18T19:14:47.666258Z"
    },
    "papermill": {
     "duration": 0.372732,
     "end_time": "2023-05-18T19:14:47.669590",
     "exception": false,
     "start_time": "2023-05-18T19:14:47.296858",
     "status": "completed"
    },
    "tags": []
   },
   "outputs": [],
   "source": [
    "xception = X(MainInput)"
   ]
  },
  {
   "cell_type": "code",
   "execution_count": 9,
   "id": "0e74e0aa",
   "metadata": {
    "execution": {
     "iopub.execute_input": "2023-05-18T19:14:47.699023Z",
     "iopub.status.busy": "2023-05-18T19:14:47.698735Z",
     "iopub.status.idle": "2023-05-18T19:14:47.713672Z",
     "shell.execute_reply": "2023-05-18T19:14:47.712856Z"
    },
    "papermill": {
     "duration": 0.03201,
     "end_time": "2023-05-18T19:14:47.715756",
     "exception": false,
     "start_time": "2023-05-18T19:14:47.683746",
     "status": "completed"
    },
    "tags": []
   },
   "outputs": [],
   "source": [
    "# Reshape the tensor to have 4 dimensions\n",
    "from tensorflow.keras.layers import Reshape\n",
    "reshape = Reshape((16, 16, 8))(xception)"
   ]
  },
  {
   "cell_type": "code",
   "execution_count": 10,
   "id": "df756095",
   "metadata": {
    "execution": {
     "iopub.execute_input": "2023-05-18T19:14:47.744963Z",
     "iopub.status.busy": "2023-05-18T19:14:47.744684Z",
     "iopub.status.idle": "2023-05-18T19:14:47.838932Z",
     "shell.execute_reply": "2023-05-18T19:14:47.837963Z"
    },
    "id": "x8mS99J5SYbT",
    "papermill": {
     "duration": 0.111542,
     "end_time": "2023-05-18T19:14:47.841268",
     "exception": false,
     "start_time": "2023-05-18T19:14:47.729726",
     "status": "completed"
    },
    "tags": []
   },
   "outputs": [],
   "source": [
    "conv=(Conv2D(filters=128,kernel_size=(7,7), activation=\"relu\",padding=\"same\",kernel_initializer='he_normal')(reshape))\n",
    "conv=(BatchNormalization()(conv))\n",
    "conv=(Conv2D(filters=128,kernel_size=(5,5), activation=\"relu\",padding=\"same\",kernel_initializer='he_normal')(conv))\n",
    "conv=(BatchNormalization()(conv))\n",
    "conv=(Conv2D(filters=128,kernel_size=(3,3), activation=\"relu\",padding=\"same\",kernel_initializer='he_normal')(conv))\n",
    "conv=(BatchNormalization()(conv))\n",
    "conv=(Conv2D(filters=128,kernel_size=(1,1), activation=\"relu\",padding=\"same\",kernel_initializer='he_normal')(conv))\n",
    "conv=(BatchNormalization()(conv))"
   ]
  },
  {
   "cell_type": "code",
   "execution_count": 11,
   "id": "aa5a43f9",
   "metadata": {
    "execution": {
     "iopub.execute_input": "2023-05-18T19:14:47.871800Z",
     "iopub.status.busy": "2023-05-18T19:14:47.871524Z",
     "iopub.status.idle": "2023-05-18T19:14:47.880077Z",
     "shell.execute_reply": "2023-05-18T19:14:47.879235Z"
    },
    "id": "wfhLPhssAm2S",
    "papermill": {
     "duration": 0.026233,
     "end_time": "2023-05-18T19:14:47.882142",
     "exception": false,
     "start_time": "2023-05-18T19:14:47.855909",
     "status": "completed"
    },
    "tags": []
   },
   "outputs": [],
   "source": [
    "conv=(MaxPooling2D(strides=(2, 2),padding=\"same\")(conv))"
   ]
  },
  {
   "cell_type": "code",
   "execution_count": 12,
   "id": "eb802c4a",
   "metadata": {
    "execution": {
     "iopub.execute_input": "2023-05-18T19:14:47.911176Z",
     "iopub.status.busy": "2023-05-18T19:14:47.910308Z",
     "iopub.status.idle": "2023-05-18T19:14:47.999134Z",
     "shell.execute_reply": "2023-05-18T19:14:47.998285Z"
    },
    "id": "sW4tKg9wSYbk",
    "papermill": {
     "duration": 0.105508,
     "end_time": "2023-05-18T19:14:48.001232",
     "exception": false,
     "start_time": "2023-05-18T19:14:47.895724",
     "status": "completed"
    },
    "tags": []
   },
   "outputs": [],
   "source": [
    "conv=(Conv2D(filters=256,kernel_size=(7,7), activation=\"relu\",padding=\"same\",kernel_initializer='he_normal')(conv))\n",
    "conv=(BatchNormalization()(conv))\n",
    "conv=(Conv2D(filters=256,kernel_size=(5,5), activation=\"relu\",padding=\"same\",kernel_initializer='he_normal')(conv))\n",
    "conv=(BatchNormalization()(conv))\n",
    "conv=(Conv2D(filters=256,kernel_size=(3,3), activation=\"relu\",padding=\"same\",kernel_initializer='he_normal')(conv))\n",
    "conv=(BatchNormalization()(conv))\n",
    "conv=(Conv2D(filters=256,kernel_size=(1,1), activation=\"relu\",padding=\"same\",kernel_initializer='he_normal')(conv))\n",
    "conv=(BatchNormalization()(conv))"
   ]
  },
  {
   "cell_type": "code",
   "execution_count": 13,
   "id": "fae9e53b",
   "metadata": {
    "execution": {
     "iopub.execute_input": "2023-05-18T19:14:48.030656Z",
     "iopub.status.busy": "2023-05-18T19:14:48.030357Z",
     "iopub.status.idle": "2023-05-18T19:14:48.038891Z",
     "shell.execute_reply": "2023-05-18T19:14:48.038076Z"
    },
    "id": "eo8E7RxUSYcW",
    "papermill": {
     "duration": 0.02546,
     "end_time": "2023-05-18T19:14:48.040904",
     "exception": false,
     "start_time": "2023-05-18T19:14:48.015444",
     "status": "completed"
    },
    "tags": []
   },
   "outputs": [],
   "source": [
    "conv=(MaxPooling2D(pool_size=(2, 2),padding=\"same\")(conv))"
   ]
  },
  {
   "cell_type": "code",
   "execution_count": 14,
   "id": "9c02a664",
   "metadata": {
    "execution": {
     "iopub.execute_input": "2023-05-18T19:14:48.069683Z",
     "iopub.status.busy": "2023-05-18T19:14:48.069411Z",
     "iopub.status.idle": "2023-05-18T19:14:48.074017Z",
     "shell.execute_reply": "2023-05-18T19:14:48.073175Z"
    },
    "papermill": {
     "duration": 0.021496,
     "end_time": "2023-05-18T19:14:48.076111",
     "exception": false,
     "start_time": "2023-05-18T19:14:48.054615",
     "status": "completed"
    },
    "tags": []
   },
   "outputs": [
    {
     "name": "stdout",
     "output_type": "stream",
     "text": [
      "7\n"
     ]
    }
   ],
   "source": [
    "num_classes = test_batches.num_classes\n",
    "print(num_classes)"
   ]
  },
  {
   "cell_type": "code",
   "execution_count": 15,
   "id": "15852c07",
   "metadata": {
    "execution": {
     "iopub.execute_input": "2023-05-18T19:14:48.104553Z",
     "iopub.status.busy": "2023-05-18T19:14:48.104137Z",
     "iopub.status.idle": "2023-05-18T19:14:48.153517Z",
     "shell.execute_reply": "2023-05-18T19:14:48.152684Z"
    },
    "id": "-EdFxKdgSYcf",
    "papermill": {
     "duration": 0.065987,
     "end_time": "2023-05-18T19:14:48.155677",
     "exception": false,
     "start_time": "2023-05-18T19:14:48.089690",
     "status": "completed"
    },
    "tags": []
   },
   "outputs": [],
   "source": [
    "conv=(Flatten()(conv))\n",
    "conv=(Dense(1024,activation=\"relu\")(conv))\n",
    "conv=(Dense(512,activation=\"relu\")(conv))\n",
    "conv=(Dense(num_classes, activation=\"softmax\")(conv))\n",
    "\n",
    "model_x = Model(inputs=MainInput, outputs=conv)"
   ]
  },
  {
   "cell_type": "code",
   "execution_count": 16,
   "id": "1c7cb153",
   "metadata": {
    "execution": {
     "iopub.execute_input": "2023-05-18T19:14:48.185298Z",
     "iopub.status.busy": "2023-05-18T19:14:48.185016Z",
     "iopub.status.idle": "2023-05-18T19:14:48.271364Z",
     "shell.execute_reply": "2023-05-18T19:14:48.270640Z"
    },
    "id": "ba8ajOckSYcl",
    "outputId": "e69fa749-4741-4f49-ae3e-9f5479e809a8",
    "papermill": {
     "duration": 0.125936,
     "end_time": "2023-05-18T19:14:48.296072",
     "exception": false,
     "start_time": "2023-05-18T19:14:48.170136",
     "status": "completed"
    },
    "tags": []
   },
   "outputs": [
    {
     "name": "stdout",
     "output_type": "stream",
     "text": [
      "Model: \"model\"\n",
      "_________________________________________________________________\n",
      " Layer (type)                Output Shape              Param #   \n",
      "=================================================================\n",
      " input_2 (InputLayer)        [(None, 299, 299, 3)]     0         \n",
      "                                                                 \n",
      " xception (Functional)       (None, 2048)              20861480  \n",
      "                                                                 \n",
      " reshape (Reshape)           (None, 16, 16, 8)         0         \n",
      "                                                                 \n",
      " conv2d_4 (Conv2D)           (None, 16, 16, 128)       50304     \n",
      "                                                                 \n",
      " batch_normalization_4 (Batc  (None, 16, 16, 128)      512       \n",
      " hNormalization)                                                 \n",
      "                                                                 \n",
      " conv2d_5 (Conv2D)           (None, 16, 16, 128)       409728    \n",
      "                                                                 \n",
      " batch_normalization_5 (Batc  (None, 16, 16, 128)      512       \n",
      " hNormalization)                                                 \n",
      "                                                                 \n",
      " conv2d_6 (Conv2D)           (None, 16, 16, 128)       147584    \n",
      "                                                                 \n",
      " batch_normalization_6 (Batc  (None, 16, 16, 128)      512       \n",
      " hNormalization)                                                 \n",
      "                                                                 \n",
      " conv2d_7 (Conv2D)           (None, 16, 16, 128)       16512     \n",
      "                                                                 \n",
      " batch_normalization_7 (Batc  (None, 16, 16, 128)      512       \n",
      " hNormalization)                                                 \n",
      "                                                                 \n",
      " max_pooling2d (MaxPooling2D  (None, 8, 8, 128)        0         \n",
      " )                                                               \n",
      "                                                                 \n",
      " conv2d_8 (Conv2D)           (None, 8, 8, 256)         1605888   \n",
      "                                                                 \n",
      " batch_normalization_8 (Batc  (None, 8, 8, 256)        1024      \n",
      " hNormalization)                                                 \n",
      "                                                                 \n",
      " conv2d_9 (Conv2D)           (None, 8, 8, 256)         1638656   \n",
      "                                                                 \n",
      " batch_normalization_9 (Batc  (None, 8, 8, 256)        1024      \n",
      " hNormalization)                                                 \n",
      "                                                                 \n",
      " conv2d_10 (Conv2D)          (None, 8, 8, 256)         590080    \n",
      "                                                                 \n",
      " batch_normalization_10 (Bat  (None, 8, 8, 256)        1024      \n",
      " chNormalization)                                                \n",
      "                                                                 \n",
      " conv2d_11 (Conv2D)          (None, 8, 8, 256)         65792     \n",
      "                                                                 \n",
      " batch_normalization_11 (Bat  (None, 8, 8, 256)        1024      \n",
      " chNormalization)                                                \n",
      "                                                                 \n",
      " max_pooling2d_1 (MaxPooling  (None, 4, 4, 256)        0         \n",
      " 2D)                                                             \n",
      "                                                                 \n",
      " flatten (Flatten)           (None, 4096)              0         \n",
      "                                                                 \n",
      " dense (Dense)               (None, 1024)              4195328   \n",
      "                                                                 \n",
      " dense_1 (Dense)             (None, 512)               524800    \n",
      "                                                                 \n",
      " dense_2 (Dense)             (None, 7)                 3591      \n",
      "                                                                 \n",
      "=================================================================\n",
      "Total params: 30,115,887\n",
      "Trainable params: 30,058,287\n",
      "Non-trainable params: 57,600\n",
      "_________________________________________________________________\n"
     ]
    }
   ],
   "source": [
    "model_x.summary()"
   ]
  },
  {
   "cell_type": "code",
   "execution_count": 17,
   "id": "0d562495",
   "metadata": {
    "execution": {
     "iopub.execute_input": "2023-05-18T19:14:48.336285Z",
     "iopub.status.busy": "2023-05-18T19:14:48.335999Z",
     "iopub.status.idle": "2023-05-18T19:14:48.357337Z",
     "shell.execute_reply": "2023-05-18T19:14:48.356432Z"
    },
    "id": "WR0fUpy18vAZ",
    "papermill": {
     "duration": 0.043665,
     "end_time": "2023-05-18T19:14:48.359475",
     "exception": false,
     "start_time": "2023-05-18T19:14:48.315810",
     "status": "completed"
    },
    "tags": []
   },
   "outputs": [],
   "source": [
    "opt1=tf.keras.optimizers.Adam(learning_rate=0.001,epsilon=0.1)\n",
    "model_x.compile(optimizer=opt1,\n",
    "             loss='categorical_crossentropy',\n",
    "             metrics=['accuracy'])"
   ]
  },
  {
   "cell_type": "code",
   "execution_count": 18,
   "id": "deaac2ce",
   "metadata": {
    "execution": {
     "iopub.execute_input": "2023-05-18T19:14:48.398339Z",
     "iopub.status.busy": "2023-05-18T19:14:48.398062Z",
     "iopub.status.idle": "2023-05-18T19:14:48.403345Z",
     "shell.execute_reply": "2023-05-18T19:14:48.402472Z"
    },
    "id": "LAf5ha295reS",
    "papermill": {
     "duration": 0.02692,
     "end_time": "2023-05-18T19:14:48.405363",
     "exception": false,
     "start_time": "2023-05-18T19:14:48.378443",
     "status": "completed"
    },
    "tags": []
   },
   "outputs": [],
   "source": [
    "class_weights = {   \n",
    "                    0: 1.0,  # akiec\n",
    "                    1: 1.0,  # bcc\n",
    "                    2: 1.0,  # bkl\n",
    "                    3: 1.0,  # df\n",
    "                    4: 1.0,  # mel\n",
    "                    5: 1.0,  # nv\n",
    "                    6: 1.0  # vasc\n",
    "                }"
   ]
  },
  {
   "cell_type": "code",
   "execution_count": 19,
   "id": "f277f567",
   "metadata": {
    "execution": {
     "iopub.execute_input": "2023-05-18T19:14:48.445530Z",
     "iopub.status.busy": "2023-05-18T19:14:48.445248Z",
     "iopub.status.idle": "2023-05-18T19:14:48.450101Z",
     "shell.execute_reply": "2023-05-18T19:14:48.449184Z"
    },
    "papermill": {
     "duration": 0.027413,
     "end_time": "2023-05-18T19:14:48.451990",
     "exception": false,
     "start_time": "2023-05-18T19:14:48.424577",
     "status": "completed"
    },
    "tags": []
   },
   "outputs": [],
   "source": [
    "checkpoint = ModelCheckpoint(filepath ='X.hdf5', monitor='val_accuracy', save_best_only=True, save_weights_only=True)\n",
    "Earlystop = EarlyStopping(monitor='val_accuracy', mode='max', patience=25, min_delta=0.001)"
   ]
  },
  {
   "cell_type": "code",
   "execution_count": 20,
   "id": "c5187a27",
   "metadata": {
    "execution": {
     "iopub.execute_input": "2023-05-18T19:14:48.492327Z",
     "iopub.status.busy": "2023-05-18T19:14:48.492062Z"
    },
    "id": "NUzTmiZ-8hL3",
    "outputId": "e1825ff2-9f9c-436f-cf2c-9776af8eee62",
    "papermill": {
     "duration": null,
     "end_time": null,
     "exception": false,
     "start_time": "2023-05-18T19:14:48.471495",
     "status": "running"
    },
    "tags": []
   },
   "outputs": [
    {
     "name": "stdout",
     "output_type": "stream",
     "text": [
      "Epoch 1/50\n",
      "3424/3424 - 589s - loss: 0.9087 - accuracy: 0.6577 - val_loss: 0.3447 - val_accuracy: 0.8815 - 589s/epoch - 172ms/step\n",
      "Epoch 2/50\n",
      "3424/3424 - 578s - loss: 0.3458 - accuracy: 0.8737 - val_loss: 0.3379 - val_accuracy: 0.8936 - 578s/epoch - 169ms/step\n",
      "Epoch 3/50\n",
      "3424/3424 - 577s - loss: 0.1890 - accuracy: 0.9308 - val_loss: 0.3368 - val_accuracy: 0.9045 - 577s/epoch - 169ms/step\n",
      "Epoch 4/50\n",
      "3424/3424 - 577s - loss: 0.1144 - accuracy: 0.9602 - val_loss: 0.4285 - val_accuracy: 0.8851 - 577s/epoch - 169ms/step\n",
      "Epoch 5/50\n",
      "3424/3424 - 578s - loss: 0.0763 - accuracy: 0.9730 - val_loss: 0.3565 - val_accuracy: 0.9117 - 578s/epoch - 169ms/step\n",
      "Epoch 6/50\n",
      "3424/3424 - 578s - loss: 0.0531 - accuracy: 0.9812 - val_loss: 0.5152 - val_accuracy: 0.8948 - 578s/epoch - 169ms/step\n",
      "Epoch 7/50\n",
      "3424/3424 - 577s - loss: 0.0391 - accuracy: 0.9867 - val_loss: 0.4631 - val_accuracy: 0.9081 - 577s/epoch - 169ms/step\n",
      "Epoch 8/50\n",
      "3424/3424 - 578s - loss: 0.0309 - accuracy: 0.9896 - val_loss: 0.4497 - val_accuracy: 0.9081 - 578s/epoch - 169ms/step\n",
      "Epoch 9/50\n",
      "3424/3424 - 578s - loss: 0.0257 - accuracy: 0.9912 - val_loss: 0.4888 - val_accuracy: 0.8912 - 578s/epoch - 169ms/step\n",
      "Epoch 10/50\n",
      "3424/3424 - 578s - loss: 0.0225 - accuracy: 0.9920 - val_loss: 0.4648 - val_accuracy: 0.9154 - 578s/epoch - 169ms/step\n",
      "Epoch 11/50\n",
      "3424/3424 - 578s - loss: 0.0175 - accuracy: 0.9940 - val_loss: 0.5454 - val_accuracy: 0.9045 - 578s/epoch - 169ms/step\n",
      "Epoch 12/50\n",
      "3424/3424 - 577s - loss: 0.0153 - accuracy: 0.9954 - val_loss: 0.5146 - val_accuracy: 0.9057 - 577s/epoch - 169ms/step\n",
      "Epoch 13/50\n",
      "3424/3424 - 577s - loss: 0.0128 - accuracy: 0.9954 - val_loss: 0.4973 - val_accuracy: 0.9093 - 577s/epoch - 169ms/step\n",
      "Epoch 14/50\n",
      "3424/3424 - 578s - loss: 0.0111 - accuracy: 0.9962 - val_loss: 0.5510 - val_accuracy: 0.9093 - 578s/epoch - 169ms/step\n",
      "Epoch 15/50\n",
      "3424/3424 - 578s - loss: 0.0109 - accuracy: 0.9963 - val_loss: 0.5053 - val_accuracy: 0.9081 - 578s/epoch - 169ms/step\n",
      "Epoch 16/50\n",
      "3424/3424 - 577s - loss: 0.0092 - accuracy: 0.9970 - val_loss: 0.5925 - val_accuracy: 0.9021 - 577s/epoch - 169ms/step\n",
      "Epoch 17/50\n",
      "3424/3424 - 578s - loss: 0.0081 - accuracy: 0.9974 - val_loss: 0.5246 - val_accuracy: 0.9057 - 578s/epoch - 169ms/step\n",
      "Epoch 18/50\n",
      "3424/3424 - 578s - loss: 0.0085 - accuracy: 0.9970 - val_loss: 0.5439 - val_accuracy: 0.9057 - 578s/epoch - 169ms/step\n",
      "Epoch 19/50\n",
      "3424/3424 - 578s - loss: 0.0065 - accuracy: 0.9978 - val_loss: 0.5325 - val_accuracy: 0.9178 - 578s/epoch - 169ms/step\n",
      "Epoch 20/50\n",
      "3424/3424 - 578s - loss: 0.0064 - accuracy: 0.9980 - val_loss: 0.6182 - val_accuracy: 0.9045 - 578s/epoch - 169ms/step\n",
      "Epoch 21/50\n",
      "3424/3424 - 578s - loss: 0.0057 - accuracy: 0.9981 - val_loss: 0.5537 - val_accuracy: 0.9081 - 578s/epoch - 169ms/step\n",
      "Epoch 22/50\n",
      "3424/3424 - 578s - loss: 0.0075 - accuracy: 0.9974 - val_loss: 0.5631 - val_accuracy: 0.9057 - 578s/epoch - 169ms/step\n",
      "Epoch 23/50\n",
      "3424/3424 - 578s - loss: 0.0066 - accuracy: 0.9978 - val_loss: 0.6168 - val_accuracy: 0.9021 - 578s/epoch - 169ms/step\n",
      "Epoch 24/50\n",
      "3424/3424 - 577s - loss: 0.0052 - accuracy: 0.9983 - val_loss: 0.6036 - val_accuracy: 0.9057 - 577s/epoch - 169ms/step\n",
      "Epoch 25/50\n",
      "3424/3424 - 578s - loss: 0.0035 - accuracy: 0.9988 - val_loss: 0.6509 - val_accuracy: 0.9093 - 578s/epoch - 169ms/step\n",
      "Epoch 26/50\n",
      "3424/3424 - 578s - loss: 0.0044 - accuracy: 0.9985 - val_loss: 0.6414 - val_accuracy: 0.9045 - 578s/epoch - 169ms/step\n",
      "Epoch 27/50\n",
      "3424/3424 - 578s - loss: 0.0035 - accuracy: 0.9988 - val_loss: 0.6390 - val_accuracy: 0.9057 - 578s/epoch - 169ms/step\n",
      "Epoch 28/50\n",
      "3424/3424 - 578s - loss: 0.0050 - accuracy: 0.9984 - val_loss: 0.5536 - val_accuracy: 0.9057 - 578s/epoch - 169ms/step\n",
      "Epoch 29/50\n",
      "3424/3424 - 578s - loss: 0.0051 - accuracy: 0.9985 - val_loss: 0.5892 - val_accuracy: 0.9069 - 578s/epoch - 169ms/step\n",
      "Epoch 30/50\n",
      "3424/3424 - 578s - loss: 0.0037 - accuracy: 0.9987 - val_loss: 0.5642 - val_accuracy: 0.9154 - 578s/epoch - 169ms/step\n",
      "Epoch 31/50\n",
      "3424/3424 - 577s - loss: 0.0043 - accuracy: 0.9986 - val_loss: 0.5318 - val_accuracy: 0.9154 - 577s/epoch - 169ms/step\n",
      "Epoch 32/50\n",
      "3424/3424 - 578s - loss: 0.0033 - accuracy: 0.9990 - val_loss: 0.5948 - val_accuracy: 0.9117 - 578s/epoch - 169ms/step\n",
      "Epoch 33/50\n",
      "3424/3424 - 577s - loss: 0.0012 - accuracy: 0.9997 - val_loss: 0.6905 - val_accuracy: 0.9141 - 577s/epoch - 169ms/step\n",
      "Epoch 34/50\n",
      "3424/3424 - 579s - loss: 0.0030 - accuracy: 0.9991 - val_loss: 0.6690 - val_accuracy: 0.9069 - 579s/epoch - 169ms/step\n",
      "Epoch 35/50\n",
      "3424/3424 - 578s - loss: 0.0032 - accuracy: 0.9989 - val_loss: 0.6121 - val_accuracy: 0.9117 - 578s/epoch - 169ms/step\n",
      "Epoch 36/50\n",
      "3424/3424 - 577s - loss: 0.0030 - accuracy: 0.9989 - val_loss: 0.5253 - val_accuracy: 0.9117 - 577s/epoch - 168ms/step\n",
      "Epoch 37/50\n",
      "3424/3424 - 577s - loss: 0.0023 - accuracy: 0.9992 - val_loss: 0.6429 - val_accuracy: 0.9105 - 577s/epoch - 169ms/step\n",
      "Epoch 38/50\n",
      "3424/3424 - 577s - loss: 0.0029 - accuracy: 0.9990 - val_loss: 0.6019 - val_accuracy: 0.9141 - 577s/epoch - 169ms/step\n",
      "Epoch 39/50\n",
      "3424/3424 - 578s - loss: 0.0022 - accuracy: 0.9993 - val_loss: 0.6980 - val_accuracy: 0.9033 - 578s/epoch - 169ms/step\n",
      "Epoch 40/50\n",
      "3424/3424 - 578s - loss: 0.0032 - accuracy: 0.9990 - val_loss: 0.6329 - val_accuracy: 0.9045 - 578s/epoch - 169ms/step\n",
      "Epoch 41/50\n",
      "3424/3424 - 577s - loss: 0.0039 - accuracy: 0.9987 - val_loss: 0.5863 - val_accuracy: 0.9057 - 577s/epoch - 169ms/step\n",
      "Epoch 42/50\n",
      "3424/3424 - 577s - loss: 0.0022 - accuracy: 0.9993 - val_loss: 0.6807 - val_accuracy: 0.9045 - 577s/epoch - 169ms/step\n",
      "Epoch 43/50\n",
      "3424/3424 - 578s - loss: 0.0028 - accuracy: 0.9991 - val_loss: 0.7137 - val_accuracy: 0.9021 - 578s/epoch - 169ms/step\n",
      "Epoch 44/50\n",
      "3424/3424 - 577s - loss: 0.0027 - accuracy: 0.9991 - val_loss: 0.5554 - val_accuracy: 0.9154 - 577s/epoch - 169ms/step\n"
     ]
    }
   ],
   "source": [
    "history = model_x.fit(train_batches,\n",
    "                         epochs=50,\n",
    "                         verbose=2,\n",
    "                         validation_data=val_batches,\n",
    "                         callbacks=[checkpoint,Earlystop],\n",
    "                         class_weight=class_weights)"
   ]
  },
  {
   "cell_type": "markdown",
   "id": "219c3b3c",
   "metadata": {
    "papermill": {
     "duration": null,
     "end_time": null,
     "exception": null,
     "start_time": null,
     "status": "pending"
    },
    "tags": []
   },
   "source": [
    "### Plotting accuracy and loss"
   ]
  },
  {
   "cell_type": "code",
   "execution_count": 21,
   "id": "969e7d54",
   "metadata": {
    "papermill": {
     "duration": null,
     "end_time": null,
     "exception": null,
     "start_time": null,
     "status": "pending"
    },
    "tags": []
   },
   "outputs": [
    {
     "name": "stdout",
     "output_type": "stream",
     "text": [
      "Number of epochs trained: 44\n"
     ]
    },
    {
     "data": {
      "image/png": "[encoded data removed]",
      "text/plain": [
       "<Figure size 1500x500 with 2 Axes>"
      ]
     },
     "metadata": {},
     "output_type": "display_data"
    }
   ],
   "source": [
    "# Determine number of epochs trained\n",
    "num_epochs_trained = len(history.history['val_loss'])\n",
    "print(f\"Number of epochs trained: {num_epochs_trained}\")\n",
    "\n",
    "## History plotting\n",
    "epochs = [i for i in range(num_epochs_trained)]\n",
    "fig , ax = plt.subplots(1,2)\n",
    "train_acc = history.history['accuracy']\n",
    "train_loss = history.history['loss']\n",
    "val_acc = history.history['val_accuracy']\n",
    "val_loss = history.history['val_loss']\n",
    "fig.set_size_inches(15,5)\n",
    "\n",
    "ax[0].plot(epochs , train_acc , 'go-' , label = 'Training Accuracy')\n",
    "ax[0].plot(epochs , val_acc , 'ro-' , label = 'Validation Accuracy')\n",
    "title_font = {'fontname':'Times New Roman', 'size':'14', 'color':'black', 'weight':'normal'}\n",
    "ax[0].set_title('Model Accuracy', fontdict=title_font)\n",
    "legend_font = {'family': 'Times New Roman', 'size': '12', 'weight': 'normal'}\n",
    "ax[0].legend(prop=legend_font)\n",
    "label_font = {'fontname':'Times New Roman', 'size':'12', 'color':'black', 'weight':'normal'}\n",
    "ax[0].set_xlabel(\"Epochs\",  fontdict=label_font)\n",
    "ax[0].set_ylabel(\"Accuracy\",  fontdict=label_font)\n",
    "\n",
    "ax[1].plot(epochs , train_loss , 'g-o' , label = 'Training Loss')\n",
    "ax[1].plot(epochs , val_loss , 'r-o' , label = 'Validation Loss')\n",
    "ax[1].set_title('Model Loss', fontdict=title_font)\n",
    "ax[1].legend(prop=legend_font)\n",
    "ax[1].set_xlabel(\"Epochs\", fontdict=label_font)\n",
    "ax[1].set_ylabel(\"Loss\", fontdict=label_font)\n",
    "plt.show()"
   ]
  },
  {
   "cell_type": "code",
   "execution_count": 22,
   "id": "37f1269a",
   "metadata": {
    "id": "zm_AewFBXTj8",
    "papermill": {
     "duration": null,
     "end_time": null,
     "exception": null,
     "start_time": null,
     "status": "pending"
    },
    "tags": []
   },
   "outputs": [],
   "source": [
    "from tensorflow.keras import models\n",
    "model_x.load_weights(\"X.hdf5\")"
   ]
  },
  {
   "cell_type": "code",
   "execution_count": 23,
   "id": "2c09ee7c",
   "metadata": {
    "papermill": {
     "duration": null,
     "end_time": null,
     "exception": null,
     "start_time": null,
     "status": "pending"
    },
    "tags": []
   },
   "outputs": [
    {
     "name": "stdout",
     "output_type": "stream",
     "text": [
      "52/52 [==============================] - 8s 152ms/step\n"
     ]
    }
   ],
   "source": [
    "predictions = model_x.predict(test_batches)"
   ]
  },
  {
   "cell_type": "code",
   "execution_count": 24,
   "id": "a97782f2",
   "metadata": {
    "id": "FDTMtBeTdBfU",
    "papermill": {
     "duration": null,
     "end_time": null,
     "exception": null,
     "start_time": null,
     "status": "pending"
    },
    "tags": []
   },
   "outputs": [],
   "source": [
    "#geting predictions on test dataset\n",
    "y_pred = np.argmax(predictions, axis=1)\n",
    "#getting the true labels per image \n",
    "y_true = test_batches.classes\n",
    "#getting the predicted labels per image \n",
    "y_prob = predictions"
   ]
  },
  {
   "cell_type": "code",
   "execution_count": 25,
   "id": "50891430",
   "metadata": {
    "papermill": {
     "duration": null,
     "end_time": null,
     "exception": null,
     "start_time": null,
     "status": "pending"
    },
    "tags": []
   },
   "outputs": [
    {
     "name": "stdout",
     "output_type": "stream",
     "text": [
      "\n",
      "Classification Report:\n",
      "              precision    recall  f1-score   support\n",
      "\n",
      "          AK       0.52      0.55      0.53        22\n",
      "         BCC       0.68      0.56      0.61        27\n",
      "         BKL       0.75      0.70      0.72        66\n",
      "          DF       0.83      0.83      0.83         6\n",
      "         MEL       0.59      0.49      0.53        35\n",
      "          NV       0.95      0.97      0.96       663\n",
      "        VASC       0.90      1.00      0.95         9\n",
      "\n",
      "    accuracy                           0.90       828\n",
      "   macro avg       0.75      0.73      0.73       828\n",
      "weighted avg       0.90      0.90      0.90       828\n",
      "\n"
     ]
    }
   ],
   "source": [
    "classnames = ['AK', 'BCC', 'BKL', 'DF', 'MEL', 'NV', 'VASC']\n",
    "\n",
    "from tensorflow.keras.utils import to_categorical\n",
    "y_test = to_categorical(y_true)\n",
    "\n",
    "report = classification_report(y_true, y_pred, target_names=classnames)\n",
    "\n",
    "print(\"\\nClassification Report:\")\n",
    "print(report)"
   ]
  },
  {
   "cell_type": "code",
   "execution_count": 26,
   "id": "bfc90285",
   "metadata": {
    "papermill": {
     "duration": null,
     "end_time": null,
     "exception": null,
     "start_time": null,
     "status": "pending"
    },
    "tags": []
   },
   "outputs": [
    {
     "data": {
      "image/png": "[encoded data removed]",
      "text/plain": [
       "<Figure size 1000x400 with 2 Axes>"
      ]
     },
     "metadata": {},
     "output_type": "display_data"
    }
   ],
   "source": [
    "## Confusion Matrix\n",
    "title_font = {'fontname':'Times New Roman', 'size':'14', 'color':'black', 'weight':'normal'}\n",
    "label_font = {'fontname':'Times New Roman', 'size':'12', 'color':'black', 'weight':'normal'}\n",
    "\n",
    "from sklearn.metrics import confusion_matrix\n",
    "import seaborn as sns\n",
    "# Creating confusion matrix \n",
    "cm = confusion_matrix(y_true, y_pred)\n",
    "# Plotting the confusion matrix\n",
    "plt.figure(figsize=(10,4))\n",
    "sns.heatmap(cm, annot=True, fmt='g', cmap='Blues', xticklabels=targetnames, yticklabels=targetnames)\n",
    "plt.xlabel('Predicted Label', fontdict=label_font)\n",
    "plt.ylabel('True Label', fontdict=label_font)\n",
    "plt.title('Confusion Matrix', fontdict=title_font)\n",
    "plt.show()"
   ]
  },
  {
   "cell_type": "markdown",
   "id": "bb7abd62",
   "metadata": {
    "papermill": {
     "duration": null,
     "end_time": null,
     "exception": null,
     "start_time": null,
     "status": "pending"
    },
    "tags": []
   },
   "source": [
    "## Results"
   ]
  },
  {
   "cell_type": "markdown",
   "id": "078d2f89",
   "metadata": {
    "papermill": {
     "duration": null,
     "end_time": null,
     "exception": null,
     "start_time": null,
     "status": "pending"
    },
    "tags": []
   },
   "source": [
    "### Individual Class Accuracy "
   ]
  },
  {
   "cell_type": "code",
   "execution_count": 27,
   "id": "dfb9dc23",
   "metadata": {
    "papermill": {
     "duration": null,
     "end_time": null,
     "exception": null,
     "start_time": null,
     "status": "pending"
    },
    "tags": []
   },
   "outputs": [
    {
     "name": "stdout",
     "output_type": "stream",
     "text": [
      "Overall accuracy: 90.46%\n",
      "Accuracy for each class:\n",
      "Class 0: 54.55%\n",
      "Class 1: 55.56%\n",
      "Class 2: 69.70%\n",
      "Class 3: 83.33%\n",
      "Class 4: 48.57%\n",
      "Class 5: 97.29%\n",
      "Class 6: 100.00%\n"
     ]
    }
   ],
   "source": [
    "# y_true are the true labels of the test set\n",
    "# y_pred are the predicted labels of the test set\n",
    "accuracy = accuracy_score(y_true, y_pred)\n",
    "# Calculate accuracy for each class\n",
    "class_accuracy = cm.diagonal()/cm.sum(axis=1)\n",
    "print(\"Overall accuracy: {:.2f}%\".format(accuracy*100))\n",
    "print(\"Accuracy for each class:\")\n",
    "for i, acc in enumerate(class_accuracy):\n",
    "    print(\"Class {}: {:.2f}%\".format(i, acc*100))"
   ]
  },
  {
   "cell_type": "markdown",
   "id": "be895413",
   "metadata": {
    "papermill": {
     "duration": null,
     "end_time": null,
     "exception": null,
     "start_time": null,
     "status": "pending"
    },
    "tags": []
   },
   "source": [
    "### Individual Class Weighted Precision"
   ]
  },
  {
   "cell_type": "code",
   "execution_count": 28,
   "id": "9b5afa11",
   "metadata": {
    "papermill": {
     "duration": null,
     "end_time": null,
     "exception": null,
     "start_time": null,
     "status": "pending"
    },
    "tags": []
   },
   "outputs": [
    {
     "name": "stdout",
     "output_type": "stream",
     "text": [
      "Weighted precision for each class:\n",
      "Class 0: 52.17%\n",
      "Class 1: 68.18%\n",
      "Class 2: 75.41%\n",
      "Class 3: 83.33%\n",
      "Class 4: 58.62%\n",
      "Class 5: 95.27%\n",
      "Class 6: 90.00%\n",
      "Weighted precision: 89.97%\n"
     ]
    }
   ],
   "source": [
    "report = classification_report(y_true, y_pred, output_dict=True)\n",
    "# Extract weighted precision for each class\n",
    "class_precision = {}\n",
    "for class_label in report.keys():\n",
    "    if class_label == 'weighted avg':\n",
    "        class_precision['weighted'] = report[class_label]['precision']\n",
    "    elif class_label.isdigit():\n",
    "        class_precision[int(class_label)] = report[class_label]['precision']\n",
    "print(\"Weighted precision for each class:\")\n",
    "for i, precision in class_precision.items():\n",
    "    if i == 'weighted':\n",
    "        print(\"Weighted precision: {:.2f}%\".format(precision*100))\n",
    "    else:\n",
    "        print(\"Class {}: {:.2f}%\".format(i, precision*100))"
   ]
  },
  {
   "cell_type": "markdown",
   "id": "e99e669f",
   "metadata": {
    "papermill": {
     "duration": null,
     "end_time": null,
     "exception": null,
     "start_time": null,
     "status": "pending"
    },
    "tags": []
   },
   "source": [
    "### Individual Class Weighted Recall"
   ]
  },
  {
   "cell_type": "code",
   "execution_count": 29,
   "id": "cc4f32f6",
   "metadata": {
    "papermill": {
     "duration": null,
     "end_time": null,
     "exception": null,
     "start_time": null,
     "status": "pending"
    },
    "tags": []
   },
   "outputs": [
    {
     "name": "stdout",
     "output_type": "stream",
     "text": [
      "Weighted recall for each class:\n",
      "Class 0: 54.55%\n",
      "Class 1: 55.56%\n",
      "Class 2: 69.70%\n",
      "Class 3: 83.33%\n",
      "Class 4: 48.57%\n",
      "Class 5: 97.29%\n",
      "Class 6: 100.00%\n",
      "Weighted Recall: 90.46%\n"
     ]
    }
   ],
   "source": [
    "report = classification_report(y_true, y_pred, output_dict=True)\n",
    "# Extract weighted recall for each class\n",
    "class_recall = {}\n",
    "for class_label in report.keys():\n",
    "    if class_label == 'weighted avg':\n",
    "        class_recall['weighted'] = report[class_label]['recall']\n",
    "    elif class_label.isdigit():\n",
    "        class_recall[int(class_label)] = report[class_label]['recall']\n",
    "print(\"Weighted recall for each class:\")\n",
    "for i, recall in class_recall.items():\n",
    "    if i == 'weighted':\n",
    "        print(\"Weighted Recall: {:.2f}%\".format(recall*100))\n",
    "    else:\n",
    "        print(\"Class {}: {:.2f}%\".format(i, recall*100))"
   ]
  },
  {
   "cell_type": "markdown",
   "id": "5da2c9b0",
   "metadata": {
    "papermill": {
     "duration": null,
     "end_time": null,
     "exception": null,
     "start_time": null,
     "status": "pending"
    },
    "tags": []
   },
   "source": [
    "### Individual Class Weighted F1-score"
   ]
  },
  {
   "cell_type": "code",
   "execution_count": 30,
   "id": "1328d832",
   "metadata": {
    "papermill": {
     "duration": null,
     "end_time": null,
     "exception": null,
     "start_time": null,
     "status": "pending"
    },
    "tags": []
   },
   "outputs": [
    {
     "name": "stdout",
     "output_type": "stream",
     "text": [
      "Weighted F1-score for each class:\n",
      "Class 0: 53.33%\n",
      "Class 1: 61.22%\n",
      "Class 2: 72.44%\n",
      "Class 3: 83.33%\n",
      "Class 4: 53.12%\n",
      "Class 5: 96.27%\n",
      "Class 6: 94.74%\n",
      "Weighted F1-score: 90.15%\n"
     ]
    }
   ],
   "source": [
    "report = classification_report(y_true, y_pred, output_dict=True)\n",
    "# Extract weighted F1-score for each class\n",
    "class_f1 = {}\n",
    "for class_label in report.keys():\n",
    "    if class_label == 'weighted avg':\n",
    "        class_f1['weighted'] = report[class_label]['f1-score']\n",
    "    elif class_label.isdigit():\n",
    "        class_f1[int(class_label)] = report[class_label]['f1-score']\n",
    "print(\"Weighted F1-score for each class:\")\n",
    "for i, f1_score in class_f1.items():\n",
    "    if i == 'weighted':\n",
    "        print(\"Weighted F1-score: {:.2f}%\".format(f1_score*100))\n",
    "    else:\n",
    "        print(\"Class {}: {:.2f}%\".format(i, f1_score*100))"
   ]
  },
  {
   "cell_type": "markdown",
   "id": "a0e073c6",
   "metadata": {
    "papermill": {
     "duration": null,
     "end_time": null,
     "exception": null,
     "start_time": null,
     "status": "pending"
    },
    "tags": []
   },
   "source": [
    "### Individual Class Precision, Recall and F1-score"
   ]
  },
  {
   "cell_type": "code",
   "execution_count": 31,
   "id": "729d5d67",
   "metadata": {
    "papermill": {
     "duration": null,
     "end_time": null,
     "exception": null,
     "start_time": null,
     "status": "pending"
    },
    "tags": []
   },
   "outputs": [
    {
     "name": "stdout",
     "output_type": "stream",
     "text": [
      "Class-wise weighted precision, recall, and F1-score:\n",
      "Class 0: Precision=0.52, Recall=0.55, F1-score=0.53\n",
      "Class 1: Precision=0.68, Recall=0.56, F1-score=0.61\n",
      "Class 2: Precision=0.75, Recall=0.70, F1-score=0.72\n",
      "Class 3: Precision=0.83, Recall=0.83, F1-score=0.83\n",
      "Class 4: Precision=0.59, Recall=0.49, F1-score=0.53\n",
      "Class 5: Precision=0.95, Recall=0.97, F1-score=0.96\n",
      "Class 6: Precision=0.90, Recall=1.00, F1-score=0.95\n"
     ]
    }
   ],
   "source": [
    "from sklearn.metrics import precision_recall_fscore_support\n",
    "\n",
    "precision_class, recall_class, f1_class, support_class = precision_recall_fscore_support(y_true, y_pred, average=None)\n",
    "print('Class-wise weighted precision, recall, and F1-score:')\n",
    "for i in range(len(precision_class)):\n",
    "    print('Class {}: Precision={:.2f}, Recall={:.2f}, F1-score={:.2f}'.format(i, precision_class[i], recall_class[i], f1_class[i]))\n"
   ]
  },
  {
   "cell_type": "markdown",
   "id": "a386c61e",
   "metadata": {
    "papermill": {
     "duration": null,
     "end_time": null,
     "exception": null,
     "start_time": null,
     "status": "pending"
    },
    "tags": []
   },
   "source": [
    "### Individual Class Weighted Sensitivity"
   ]
  },
  {
   "cell_type": "code",
   "execution_count": 32,
   "id": "704f9ba1",
   "metadata": {
    "papermill": {
     "duration": null,
     "end_time": null,
     "exception": null,
     "start_time": null,
     "status": "pending"
    },
    "tags": []
   },
   "outputs": [
    {
     "name": "stdout",
     "output_type": "stream",
     "text": [
      "Weighted Sensitivity:  0.9045893719806763\n",
      "Class  0 :sensitivity = 0.5454545454545454\n",
      "Class  1 :sensitivity = 0.5555555555555556\n",
      "Class  2 :sensitivity = 0.696969696969697\n",
      "Class  3 :sensitivity = 0.8333333333333334\n",
      "Class  4 :sensitivity = 0.4857142857142857\n",
      "Class  5 :sensitivity = 0.9728506787330317\n",
      "Class  6 :sensitivity = 1.0\n"
     ]
    }
   ],
   "source": [
    "from imblearn.metrics import sensitivity_score\n",
    "\n",
    "sensitivity = sensitivity_score(y_true, y_pred, average='weighted')\n",
    "print(\"Weighted Sensitivity: \", sensitivity)\n",
    "\n",
    "# Calculate class-wise sensitivity\n",
    "sensitivity = sensitivity_score(y_true, y_pred, average=None)\n",
    "\n",
    "# Print sensitivity score for each class\n",
    "for i in range(len(sensitivity)):\n",
    "    print(\"Class \", i, \":sensitivity =\", sensitivity[i])"
   ]
  },
  {
   "cell_type": "markdown",
   "id": "52d31bb4",
   "metadata": {
    "papermill": {
     "duration": null,
     "end_time": null,
     "exception": null,
     "start_time": null,
     "status": "pending"
    },
    "tags": []
   },
   "source": [
    "### Individual Class Weighted Specificity"
   ]
  },
  {
   "cell_type": "code",
   "execution_count": 33,
   "id": "de09fdbf",
   "metadata": {
    "papermill": {
     "duration": null,
     "end_time": null,
     "exception": null,
     "start_time": null,
     "status": "pending"
    },
    "tags": []
   },
   "outputs": [
    {
     "name": "stdout",
     "output_type": "stream",
     "text": [
      "Weighted Specificity:  0.8418295210669456\n",
      "Class  0 :specificity= 0.9863523573200993\n",
      "Class  1 :specificity= 0.9912609238451935\n",
      "Class  2 :specificity= 0.9803149606299213\n",
      "Class  3 :specificity= 0.9987834549878345\n",
      "Class  4 :specificity= 0.9848675914249685\n",
      "Class  5 :specificity= 0.806060606060606\n",
      "Class  6 :specificity= 0.9987789987789988\n"
     ]
    }
   ],
   "source": [
    "from imblearn.metrics import specificity_score\n",
    "\n",
    "specificity = specificity_score(y_true, y_pred, average='weighted')\n",
    "print(\"Weighted Specificity: \", specificity)\n",
    "\n",
    "# Calculate class-wise specificity\n",
    "specificity = specificity_score(y_true, y_pred, average=None)\n",
    "\n",
    "# Print sensitivity score for each class\n",
    "for i in range(len(specificity)):\n",
    "    print(\"Class \", i, \":specificity=\", specificity[i])"
   ]
  },
  {
   "cell_type": "markdown",
   "id": "5b1035a4",
   "metadata": {
    "papermill": {
     "duration": null,
     "end_time": null,
     "exception": null,
     "start_time": null,
     "status": "pending"
    },
    "tags": []
   },
   "source": [
    "### Accuracy"
   ]
  },
  {
   "cell_type": "code",
   "execution_count": 34,
   "id": "e35f6ef7",
   "metadata": {
    "papermill": {
     "duration": null,
     "end_time": null,
     "exception": null,
     "start_time": null,
     "status": "pending"
    },
    "tags": []
   },
   "outputs": [
    {
     "name": "stdout",
     "output_type": "stream",
     "text": [
      "Accuracy: 0.9045893719806763\n"
     ]
    }
   ],
   "source": [
    "print(\"Accuracy: \" + str(accuracy_score(y_true, y_pred)))\n",
    "import numpy as np\n",
    "from sklearn.metrics import accuracy_score"
   ]
  },
  {
   "cell_type": "code",
   "execution_count": 35,
   "id": "6341953e",
   "metadata": {
    "papermill": {
     "duration": null,
     "end_time": null,
     "exception": null,
     "start_time": null,
     "status": "pending"
    },
    "tags": []
   },
   "outputs": [
    {
     "name": "stdout",
     "output_type": "stream",
     "text": [
      "Top-1 Accuracy: 0.9045893719806763\n",
      "Top-2 Accuracy: 0.967391304347826\n",
      "Top-3 Accuracy: 0.9915458937198067\n"
     ]
    }
   ],
   "source": [
    "# Calculate top-1 accuracy\n",
    "top1_acc = accuracy_score(y_true, y_pred)\n",
    "print(\"Top-1 Accuracy:\", top1_acc)\n",
    "\n",
    "# Calculate top-2 accuracy\n",
    "y_pred_top2 = np.argsort(-predictions, axis=1)[:, :2] # Get the top 2 predicted classes\n",
    "top2_acc = np.mean(np.array([y_true[i] in y_pred_top2[i] for i in range(len(y_true))]))\n",
    "print(\"Top-2 Accuracy:\", top2_acc)\n",
    "\n",
    "# Calculate top-3 accuracy\n",
    "y_pred_top3 = np.argsort(-predictions, axis=1)[:, :3] # Get the top 3 predicted classes\n",
    "top3_acc = np.mean(np.array([y_true[i] in y_pred_top3[i] for i in range(len(y_true))]))\n",
    "print(\"Top-3 Accuracy:\", top3_acc)\n",
    "from sklearn.metrics import f1_score"
   ]
  },
  {
   "cell_type": "markdown",
   "id": "ec32b24b",
   "metadata": {
    "papermill": {
     "duration": null,
     "end_time": null,
     "exception": null,
     "start_time": null,
     "status": "pending"
    },
    "tags": []
   },
   "source": [
    "### Weighted Evaluation Measures"
   ]
  },
  {
   "cell_type": "code",
   "execution_count": 36,
   "id": "c1c274ad",
   "metadata": {
    "papermill": {
     "duration": null,
     "end_time": null,
     "exception": null,
     "start_time": null,
     "status": "pending"
    },
    "tags": []
   },
   "outputs": [
    {
     "name": "stdout",
     "output_type": "stream",
     "text": [
      "Weighted Precision: 0.8996821593538612\n",
      "Weighted Recall: 0.9045893719806763\n",
      "Weighted F1-Score: 0.9015171848062838\n",
      "Weighted Sensitivity: 0.9045893719806763\n",
      "Weighted Specificity: 0.8418295210669456\n",
      "weighted Roc score: 0.9731220728908877\n"
     ]
    }
   ],
   "source": [
    "print(\"Weighted Precision: \"+ str(precision_score(y_true, y_pred, average='weighted')))\n",
    "print(\"Weighted Recall: \"+ str(recall_score(y_true, y_pred, average='weighted')))\n",
    "print(\"Weighted F1-Score: \"+ str(f1_score(y_true, y_pred, average='weighted')))\n",
    "print(\"Weighted Sensitivity: \"+ str(sensitivity_score(y_true, y_pred, average='weighted')))\n",
    "print(\"Weighted Specificity: \"+ str(specificity_score(y_true, y_pred, average='weighted')))\n",
    "print(\"weighted Roc score: \" + str(roc_auc_score(y_true,y_prob,multi_class='ovr',average='weighted')))"
   ]
  },
  {
   "cell_type": "markdown",
   "id": "5b705ee3",
   "metadata": {
    "papermill": {
     "duration": null,
     "end_time": null,
     "exception": null,
     "start_time": null,
     "status": "pending"
    },
    "tags": []
   },
   "source": [
    "### Macro Evaluation Measures"
   ]
  },
  {
   "cell_type": "code",
   "execution_count": 37,
   "id": "1c9f79b4",
   "metadata": {
    "papermill": {
     "duration": null,
     "end_time": null,
     "exception": null,
     "start_time": null,
     "status": "pending"
    },
    "tags": []
   },
   "outputs": [
    {
     "name": "stdout",
     "output_type": "stream",
     "text": [
      "Macro Precision: 0.7471326495444979\n",
      "Macro Recall: 0.7271254422514927\n",
      "Macro F1-Score: 0.7349465716659369\n",
      "Macro Sensitivity: 0.7271254422514927\n",
      "Macro Specificity: 0.9637741275782316\n",
      "Macro Roc score: 0.9739784923486242\n"
     ]
    }
   ],
   "source": [
    "print(\"Macro Precision: \"+ str(precision_score(y_true, y_pred, average='macro')))\n",
    "print(\"Macro Recall: \"+ str(recall_score(y_true, y_pred, average='macro')))\n",
    "print(\"Macro F1-Score: \"+ str(f1_score(y_true, y_pred, average='macro')))\n",
    "print(\"Macro Sensitivity: \"+ str(sensitivity_score(y_true, y_pred, average='macro')))\n",
    "print(\"Macro Specificity: \"+ str(specificity_score(y_true, y_pred, average='macro')))\n",
    "print(\"Macro Roc score: \" + str(roc_auc_score(y_true,y_prob,multi_class='ovr',average='macro')))"
   ]
  },
  {
   "cell_type": "markdown",
   "id": "284f6ad5",
   "metadata": {
    "papermill": {
     "duration": null,
     "end_time": null,
     "exception": null,
     "start_time": null,
     "status": "pending"
    },
    "tags": []
   },
   "source": [
    "### Micro Evaluation Measures"
   ]
  },
  {
   "cell_type": "code",
   "execution_count": 38,
   "id": "fb60324c",
   "metadata": {
    "papermill": {
     "duration": null,
     "end_time": null,
     "exception": null,
     "start_time": null,
     "status": "pending"
    },
    "tags": []
   },
   "outputs": [
    {
     "name": "stdout",
     "output_type": "stream",
     "text": [
      "Micro Precision: 0.9045893719806763\n",
      "Micro Recall: 0.9045893719806763\n",
      "Micro F1-Score: 0.9045893719806763\n",
      "Micro Sensitivity: 0.9045893719806763\n",
      "Micro Specificity: 0.9840982286634461\n"
     ]
    }
   ],
   "source": [
    "print(\"Micro Precision: \"+ str(precision_score(y_true, y_pred, average='micro')))\n",
    "print(\"Micro Recall: \"+ str(recall_score(y_true, y_pred, average='micro')))\n",
    "print(\"Micro F1-Score: \"+ str(f1_score(y_true, y_pred, average='micro')))\n",
    "print(\"Micro Sensitivity: \"+ str(sensitivity_score(y_true, y_pred, average='micro')))\n",
    "print(\"Micro Specificity: \"+ str(specificity_score(y_true, y_pred, average='micro')))"
   ]
  },
  {
   "cell_type": "markdown",
   "id": "d21d36b5",
   "metadata": {
    "papermill": {
     "duration": null,
     "end_time": null,
     "exception": null,
     "start_time": null,
     "status": "pending"
    },
    "tags": []
   },
   "source": [
    "## ROC"
   ]
  },
  {
   "cell_type": "markdown",
   "id": "0a78fddc",
   "metadata": {
    "papermill": {
     "duration": null,
     "end_time": null,
     "exception": null,
     "start_time": null,
     "status": "pending"
    },
    "tags": []
   },
   "source": [
    "### Compute ROC curve and ROC area for each class"
   ]
  },
  {
   "cell_type": "code",
   "execution_count": 39,
   "id": "3a5b4bc2",
   "metadata": {
    "papermill": {
     "duration": null,
     "end_time": null,
     "exception": null,
     "start_time": null,
     "status": "pending"
    },
    "tags": []
   },
   "outputs": [
    {
     "data": {
      "image/png": "[encoded data removed]",
      "text/plain": [
       "<Figure size 640x480 with 1 Axes>"
      ]
     },
     "metadata": {},
     "output_type": "display_data"
    }
   ],
   "source": [
    "fpr = {}\n",
    "tpr = {}\n",
    "roc_auc = dict()\n",
    "for i in range(num_classes):\n",
    "    fpr[i], tpr[i], _ = roc_curve(y_test[:, i], y_prob[:, i], drop_intermediate=False)\n",
    "    roc_auc[i] = auc(fpr[i], tpr[i])\n",
    "\n",
    "\n",
    "# plot the ROC curve for each class\n",
    "for i in range(num_classes):\n",
    "    plt.plot(fpr[i], tpr[i], label='Class {}: AUC={:.3f}'.format(i, roc_auc[i]))\n",
    "\n",
    "plt.xlabel('False Positive Rate')\n",
    "plt.ylabel('True Positive Rate')\n",
    "plt.legend()\n",
    "plt.show()"
   ]
  },
  {
   "cell_type": "markdown",
   "id": "6104c3a8",
   "metadata": {
    "papermill": {
     "duration": null,
     "end_time": null,
     "exception": null,
     "start_time": null,
     "status": "pending"
    },
    "tags": []
   },
   "source": [
    "## MCC and Kappa Score"
   ]
  },
  {
   "cell_type": "code",
   "execution_count": 40,
   "id": "0a9bd883",
   "metadata": {
    "papermill": {
     "duration": null,
     "end_time": null,
     "exception": null,
     "start_time": null,
     "status": "pending"
    },
    "tags": []
   },
   "outputs": [
    {
     "name": "stdout",
     "output_type": "stream",
     "text": [
      "MCC: 71.71%\n",
      "Kappa Score: 71.62%\n"
     ]
    }
   ],
   "source": [
    "from sklearn.metrics import matthews_corrcoef, cohen_kappa_score\n",
    "\n",
    "# y_true are the true labels of the test set\n",
    "# y_pred are the predicted labels of the test set\n",
    "mcc = matthews_corrcoef(y_true, y_pred)\n",
    "kappa = cohen_kappa_score(y_true, y_pred)\n",
    "print(\"MCC: {:.2f}%\".format(mcc*100))\n",
    "print(\"Kappa Score: {:.2f}%\".format(kappa*100))"
   ]
  },
  {
   "cell_type": "code",
   "execution_count": 41,
   "id": "ed2ec336",
   "metadata": {
    "papermill": {
     "duration": null,
     "end_time": null,
     "exception": null,
     "start_time": null,
     "status": "pending"
    },
    "tags": []
   },
   "outputs": [
    {
     "name": "stdout",
     "output_type": "stream",
     "text": [
      "MCC per class:\n",
      "Class 0: 52.04%\n",
      "Class 1: 60.39%\n",
      "Class 2: 70.22%\n",
      "Class 3: 83.21%\n",
      "Class 4: 51.50%\n",
      "Class 5: 80.58%\n",
      "Class 6: 94.81%\n",
      "Kappa Score per class:\n",
      "Class 0: 52.03%\n",
      "Class 1: 60.05%\n",
      "Class 2: 70.16%\n",
      "Class 3: 83.21%\n",
      "Class 4: 51.26%\n",
      "Class 5: 80.45%\n",
      "Class 6: 94.68%\n"
     ]
    }
   ],
   "source": [
    "### Individual Class Wise MCC and Kappa\n",
    "\n",
    "from sklearn.metrics import confusion_matrix, matthews_corrcoef, cohen_kappa_score\n",
    "# y_true are the true labels of the test set\n",
    "# y_pred are the predicted labels of the test set\n",
    "conf_mat = confusion_matrix(y_true, y_pred)\n",
    "mcc_per_class = {}\n",
    "kappa_per_class = {}\n",
    "\n",
    "for i in range(len(conf_mat)):\n",
    "    tp = conf_mat[i][i]\n",
    "    fp = sum(conf_mat[:, i]) - tp\n",
    "    fn = sum(conf_mat[i, :]) - tp\n",
    "    tn = sum(sum(conf_mat)) - tp - fp - fn\n",
    "\n",
    "    mcc_per_class[i] = matthews_corrcoef([1 if x==i else 0 for x in y_true], [1 if x==i else 0 for x in y_pred])\n",
    "    kappa_per_class[i] = cohen_kappa_score([1 if x==i else 0 for x in y_true], [1 if x==i else 0 for x in y_pred])\n",
    "\n",
    "print(\"MCC per class:\")\n",
    "for i, mcc in mcc_per_class.items():\n",
    "    print(\"Class {}: {:.2f}%\".format(i, mcc*100))\n",
    "\n",
    "print(\"Kappa Score per class:\")\n",
    "for i, kappa in kappa_per_class.items():\n",
    "    print(\"Class {}: {:.2f}%\".format(i, kappa*100))"
   ]
  },
  {
   "cell_type": "code",
   "execution_count": null,
   "id": "d6bc2233",
   "metadata": {},
   "outputs": [],
   "source": []
  },
  {
   "cell_type": "code",
   "execution_count": null,
   "id": "7e3f00e9",
   "metadata": {},
   "outputs": [],
   "source": []
  }
 ],
 "metadata": {
  "kernelspec": {
   "display_name": "Python 3 (ipykernel)",
   "language": "python",
   "name": "python3"
  },
  "language_info": {
   "codemirror_mode": {
    "name": "ipython",
    "version": 3
   },
   "file_extension": ".py",
   "mimetype": "text/x-python",
   "name": "python",
   "nbconvert_exporter": "python",
   "pygments_lexer": "ipython3",
   "version": "3.9.16"
  },
  "papermill": {
   "default_parameters": {},
   "duration": null,
   "end_time": null,
   "environment_variables": {},
   "exception": null,
   "input_path": "__notebook__.ipynb",
   "output_path": "__notebook__.ipynb",
   "parameters": {},
   "start_time": "2023-05-18T19:13:57.218897",
   "version": "2.4.0"
  }
 },
 "nbformat": 4,
 "nbformat_minor": 5
}
