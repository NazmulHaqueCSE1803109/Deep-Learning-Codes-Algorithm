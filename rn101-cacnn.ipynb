{
 "cells": [
  {
   "cell_type": "markdown",
   "id": "60f2de88",
   "metadata": {
    "papermill": {
     "duration": 0.014123,
     "end_time": "2023-05-22T16:06:25.997551",
     "exception": false,
     "start_time": "2023-05-22T16:06:25.983428",
     "status": "completed"
    },
    "tags": []
   },
   "source": [
    "# Libraries"
   ]
  },
  {
   "cell_type": "code",
   "execution_count": 1,
   "id": "36584454",
   "metadata": {
    "execution": {
     "iopub.execute_input": "2023-05-22T16:06:26.026504Z",
     "iopub.status.busy": "2023-05-22T16:06:26.025979Z",
     "iopub.status.idle": "2023-05-22T16:06:33.135206Z",
     "shell.execute_reply": "2023-05-22T16:06:33.134296Z"
    },
    "id": "Aa36bMKLze3z",
    "papermill": {
     "duration": 7.126275,
     "end_time": "2023-05-22T16:06:33.137566",
     "exception": false,
     "start_time": "2023-05-22T16:06:26.011291",
     "status": "completed"
    },
    "tags": []
   },
   "outputs": [
    {
     "name": "stderr",
     "output_type": "stream",
     "text": [
      "/opt/conda/lib/python3.10/site-packages/scipy/__init__.py:146: UserWarning: A NumPy version >=1.16.5 and <1.23.0 is required for this version of SciPy (detected version 1.23.5\n",
      "  warnings.warn(f\"A NumPy version >={np_minversion} and <{np_maxversion}\"\n"
     ]
    }
   ],
   "source": [
    "import pandas as pd\n",
    "import numpy as np\n",
    "import os\n",
    "import tensorflow as tf\n",
    "import cv2\n",
    "from keras import backend as K\n",
    "from keras.layers import Layer, InputSpec\n",
    "import keras.layers as kl\n",
    "from glob import glob\n",
    "from sklearn.metrics import roc_curve, auc\n",
    "from keras.preprocessing import image\n",
    "from tensorflow.keras.models import Sequential\n",
    "from sklearn.metrics import roc_auc_score\n",
    "from tensorflow.keras import callbacks \n",
    "from tensorflow.keras.callbacks import ModelCheckpoint, EarlyStopping\n",
    "from  matplotlib import pyplot as plt\n",
    "from tensorflow.keras import Model\n",
    "from tensorflow.keras.layers import concatenate, Dense, Conv2D, MaxPooling2D, Flatten, Input, Activation, add, AveragePooling2D, BatchNormalization, Dropout\n",
    "%matplotlib inline\n",
    "import shutil\n",
    "from sklearn.metrics import  precision_score, recall_score, accuracy_score, classification_report, confusion_matrix\n",
    "from tensorflow.python.platform import build_info as tf_build_info\n",
    "from tensorflow.keras.preprocessing.image import ImageDataGenerator\n",
    "from sklearn.model_selection import train_test_split\n",
    "\n",
    "from PIL import ImageFile\n",
    "ImageFile.LOAD_TRUNCATED_IMAGES = True\n",
    "\n",
    "from tensorflow.keras.layers import Reshape, Conv2D, BatchNormalization, MaxPooling2D, Flatten, Dense, Input, GlobalAveragePooling2D, GlobalMaxPooling2D\n",
    "from tensorflow.keras.applications.mobilenet import MobileNet\n",
    "from tensorflow.keras.models import Model\n",
    "from tensorflow.keras.callbacks import EarlyStopping, ModelCheckpoint\n",
    "from tensorflow.keras.preprocessing.image import ImageDataGenerator"
   ]
  },
  {
   "cell_type": "code",
   "execution_count": 2,
   "id": "e9113ad6",
   "metadata": {
    "execution": {
     "iopub.execute_input": "2023-05-22T16:06:33.167530Z",
     "iopub.status.busy": "2023-05-22T16:06:33.166268Z",
     "iopub.status.idle": "2023-05-22T16:06:33.171444Z",
     "shell.execute_reply": "2023-05-22T16:06:33.170608Z"
    },
    "id": "PsoqCvNsgmHP",
    "papermill": {
     "duration": 0.021661,
     "end_time": "2023-05-22T16:06:33.173333",
     "exception": false,
     "start_time": "2023-05-22T16:06:33.151672",
     "status": "completed"
    },
    "tags": []
   },
   "outputs": [],
   "source": [
    "targetnames = ['akiec', 'bcc', 'bkl', 'df', 'mel', 'nv', 'vasc']\n",
    "batch_size = 16\n",
    "image_size = 224"
   ]
  },
  {
   "cell_type": "code",
   "execution_count": 3,
   "id": "110db647",
   "metadata": {
    "execution": {
     "iopub.execute_input": "2023-05-22T16:06:33.202129Z",
     "iopub.status.busy": "2023-05-22T16:06:33.201342Z",
     "iopub.status.idle": "2023-05-22T16:06:33.205917Z",
     "shell.execute_reply": "2023-05-22T16:06:33.205106Z"
    },
    "id": "wNisha_gM3_Z",
    "papermill": {
     "duration": 0.020916,
     "end_time": "2023-05-22T16:06:33.207834",
     "exception": false,
     "start_time": "2023-05-22T16:06:33.186918",
     "status": "completed"
    },
    "tags": []
   },
   "outputs": [],
   "source": [
    "train_path = '/kaggle/input/splitted-and-augmented-ham-15/Splitted_And_Augmented_HAM_15/HAM10K/train_dir'\n",
    "test_path = '/kaggle/input/splitted-and-augmented-ham-15/Splitted_And_Augmented_HAM_15/HAM10K/test_dir'\n",
    "val_path = '/kaggle/input/splitted-and-augmented-ham-15/Splitted_And_Augmented_HAM_15/HAM10K/val_dir'"
   ]
  },
  {
   "cell_type": "markdown",
   "id": "01425793",
   "metadata": {
    "papermill": {
     "duration": 0.013294,
     "end_time": "2023-05-22T16:06:33.234742",
     "exception": false,
     "start_time": "2023-05-22T16:06:33.221448",
     "status": "completed"
    },
    "tags": []
   },
   "source": [
    "# Dataset generation (Train, Test, Validation)"
   ]
  },
  {
   "cell_type": "code",
   "execution_count": 4,
   "id": "d543229e",
   "metadata": {
    "execution": {
     "iopub.execute_input": "2023-05-22T16:06:33.263728Z",
     "iopub.status.busy": "2023-05-22T16:06:33.263015Z",
     "iopub.status.idle": "2023-05-22T16:06:33.267326Z",
     "shell.execute_reply": "2023-05-22T16:06:33.266522Z"
    },
    "id": "zhQWqdRN79B3",
    "papermill": {
     "duration": 0.020695,
     "end_time": "2023-05-22T16:06:33.269231",
     "exception": false,
     "start_time": "2023-05-22T16:06:33.248536",
     "status": "completed"
    },
    "tags": []
   },
   "outputs": [],
   "source": [
    "datagen = ImageDataGenerator(preprocessing_function=tf.keras.applications.resnet.preprocess_input)"
   ]
  },
  {
   "cell_type": "code",
   "execution_count": 5,
   "id": "d14bcdf2",
   "metadata": {
    "execution": {
     "iopub.execute_input": "2023-05-22T16:06:33.297946Z",
     "iopub.status.busy": "2023-05-22T16:06:33.297136Z",
     "iopub.status.idle": "2023-05-22T16:06:54.004794Z",
     "shell.execute_reply": "2023-05-22T16:06:54.003931Z"
    },
    "id": "w9_8FvOO7Rtu",
    "outputId": "7ca88c24-fda8-45d6-cb32-f3a43ae6ba5b",
    "papermill": {
     "duration": 20.72421,
     "end_time": "2023-05-22T16:06:54.006997",
     "exception": false,
     "start_time": "2023-05-22T16:06:33.282787",
     "status": "completed"
    },
    "tags": []
   },
   "outputs": [
    {
     "name": "stdout",
     "output_type": "stream",
     "text": [
      "\n",
      "Train Batches: \n",
      "Found 54782 images belonging to 7 classes.\n",
      "\n",
      "Test Batches: \n",
      "Found 828 images belonging to 7 classes.\n",
      "\n",
      "Val Batches: \n",
      "Found 827 images belonging to 7 classes.\n"
     ]
    }
   ],
   "source": [
    "print(\"\\nTrain Batches: \")\n",
    "train_batches = datagen.flow_from_directory(directory=train_path,\n",
    "                                            target_size=(image_size,image_size),\n",
    "                                            batch_size=batch_size,\n",
    "                                            shuffle=True)\n",
    "\n",
    "print(\"\\nTest Batches: \")\n",
    "test_batches = datagen.flow_from_directory(test_path,\n",
    "                                          target_size=(image_size,image_size),\n",
    "                                          batch_size=batch_size,\n",
    "                                          shuffle=False)\n",
    "print(\"\\nVal Batches: \")\n",
    "val_batches = datagen.flow_from_directory(val_path,\n",
    "                                         target_size=(image_size,image_size),\n",
    "                                         batch_size=batch_size,\n",
    "                                         shuffle=False)"
   ]
  },
  {
   "cell_type": "markdown",
   "id": "965f5e5a",
   "metadata": {
    "papermill": {
     "duration": 0.014191,
     "end_time": "2023-05-22T16:06:54.035664",
     "exception": false,
     "start_time": "2023-05-22T16:06:54.021473",
     "status": "completed"
    },
    "tags": []
   },
   "source": [
    "# Main Model Creation"
   ]
  },
  {
   "cell_type": "code",
   "execution_count": 6,
   "id": "095f831a",
   "metadata": {
    "execution": {
     "iopub.execute_input": "2023-05-22T16:06:54.065238Z",
     "iopub.status.busy": "2023-05-22T16:06:54.064909Z",
     "iopub.status.idle": "2023-05-22T16:06:54.077553Z",
     "shell.execute_reply": "2023-05-22T16:06:54.076679Z"
    },
    "papermill": {
     "duration": 0.029768,
     "end_time": "2023-05-22T16:06:54.079564",
     "exception": false,
     "start_time": "2023-05-22T16:06:54.049796",
     "status": "completed"
    },
    "tags": []
   },
   "outputs": [],
   "source": [
    "# Channel Attention\n",
    "from tensorflow.keras.layers import Layer\n",
    "from tensorflow.keras import backend as K\n",
    "\n",
    "class ChannelAttention(Layer):\n",
    "    def __init__(self, reduction=16):\n",
    "        super(ChannelAttention, self).__init__()\n",
    "        self.reduction = reduction\n",
    "\n",
    "    def build(self, input_shape):\n",
    "        self.channels = input_shape[-1]\n",
    "        self.avg_pool = GlobalAveragePooling2D()\n",
    "        self.max_pool = GlobalMaxPooling2D()\n",
    "\n",
    "        self.shared_layer_one = Dense(units=self.channels // self.reduction, activation='relu', kernel_initializer='he_normal', use_bias=True, bias_initializer='zeros')\n",
    "        self.shared_layer_two = Dense(units=self.channels, activation='sigmoid', kernel_initializer='he_normal', use_bias=True, bias_initializer='zeros')\n",
    "\n",
    "    def call(self, x):\n",
    "        avg_pool = self.avg_pool(x)\n",
    "        max_pool = self.max_pool(x)\n",
    "\n",
    "        avg_pool = Reshape((1, 1, self.channels))(avg_pool)\n",
    "        max_pool = Reshape((1, 1, self.channels))(max_pool)\n",
    "        shared_layer_one = self.shared_layer_one(avg_pool) + self.shared_layer_one(max_pool)\n",
    "        shared_layer_two = self.shared_layer_two(shared_layer_one)\n",
    "        return x * shared_layer_two\n",
    "\n",
    "    def get_config(self):\n",
    "        config = super().get_config().copy()\n",
    "        config.update({\n",
    "            'reduction': self.reduction,\n",
    "        })\n",
    "        return config"
   ]
  },
  {
   "cell_type": "code",
   "execution_count": 7,
   "id": "c2613685",
   "metadata": {
    "execution": {
     "iopub.execute_input": "2023-05-22T16:06:54.110551Z",
     "iopub.status.busy": "2023-05-22T16:06:54.108873Z",
     "iopub.status.idle": "2023-05-22T16:07:06.013923Z",
     "shell.execute_reply": "2023-05-22T16:07:06.012957Z"
    },
    "id": "zhQWqdRN79B3",
    "papermill": {
     "duration": 11.922558,
     "end_time": "2023-05-22T16:07:06.016251",
     "exception": false,
     "start_time": "2023-05-22T16:06:54.093693",
     "status": "completed"
    },
    "tags": []
   },
   "outputs": [
    {
     "name": "stdout",
     "output_type": "stream",
     "text": [
      "Downloading data from https://storage.googleapis.com/tensorflow/keras-applications/resnet/resnet101_weights_tf_dim_ordering_tf_kernels_notop.h5\n",
      "171446536/171446536 [==============================] - 6s 0us/step\n"
     ]
    }
   ],
   "source": [
    "from tensorflow.keras.applications.resnet import ResNet101\n",
    "\n",
    "RN101 = ResNet101(weights='imagenet', include_top=False, input_shape=(image_size, image_size, 3), pooling='avg')"
   ]
  },
  {
   "cell_type": "markdown",
   "id": "d1c68563",
   "metadata": {
    "papermill": {
     "duration": 0.021463,
     "end_time": "2023-05-22T16:07:06.059473",
     "exception": false,
     "start_time": "2023-05-22T16:07:06.038010",
     "status": "completed"
    },
    "tags": []
   },
   "source": [
    "## Fine tuning"
   ]
  },
  {
   "cell_type": "code",
   "execution_count": 8,
   "id": "3201fd03",
   "metadata": {
    "execution": {
     "iopub.execute_input": "2023-05-22T16:07:06.103785Z",
     "iopub.status.busy": "2023-05-22T16:07:06.102907Z",
     "iopub.status.idle": "2023-05-22T16:07:06.109224Z",
     "shell.execute_reply": "2023-05-22T16:07:06.108417Z"
    },
    "id": "4d4Ta5LcSYaz",
    "papermill": {
     "duration": 0.03058,
     "end_time": "2023-05-22T16:07:06.111255",
     "exception": false,
     "start_time": "2023-05-22T16:07:06.080675",
     "status": "completed"
    },
    "tags": []
   },
   "outputs": [],
   "source": [
    "MainInput=Input(shape=(image_size, image_size, 3))"
   ]
  },
  {
   "cell_type": "code",
   "execution_count": 9,
   "id": "86337f60",
   "metadata": {
    "execution": {
     "iopub.execute_input": "2023-05-22T16:07:06.155052Z",
     "iopub.status.busy": "2023-05-22T16:07:06.154753Z",
     "iopub.status.idle": "2023-05-22T16:07:07.000407Z",
     "shell.execute_reply": "2023-05-22T16:07:06.999469Z"
    },
    "papermill": {
     "duration": 0.870495,
     "end_time": "2023-05-22T16:07:07.002929",
     "exception": false,
     "start_time": "2023-05-22T16:07:06.132434",
     "status": "completed"
    },
    "tags": []
   },
   "outputs": [],
   "source": [
    "resnet = RN101(MainInput)"
   ]
  },
  {
   "cell_type": "code",
   "execution_count": 10,
   "id": "a4c9da72",
   "metadata": {
    "execution": {
     "iopub.execute_input": "2023-05-22T16:07:07.048125Z",
     "iopub.status.busy": "2023-05-22T16:07:07.047226Z",
     "iopub.status.idle": "2023-05-22T16:07:07.062680Z",
     "shell.execute_reply": "2023-05-22T16:07:07.061820Z"
    },
    "papermill": {
     "duration": 0.039738,
     "end_time": "2023-05-22T16:07:07.064800",
     "exception": false,
     "start_time": "2023-05-22T16:07:07.025062",
     "status": "completed"
    },
    "tags": []
   },
   "outputs": [],
   "source": [
    "# Reshape the tensor to have 4 dimensions\n",
    "from tensorflow.keras.layers import Reshape\n",
    "reshape = Reshape((16, 16, 8))(resnet)"
   ]
  },
  {
   "cell_type": "code",
   "execution_count": 11,
   "id": "b43d5852",
   "metadata": {
    "execution": {
     "iopub.execute_input": "2023-05-22T16:07:07.109344Z",
     "iopub.status.busy": "2023-05-22T16:07:07.108545Z",
     "iopub.status.idle": "2023-05-22T16:07:07.556400Z",
     "shell.execute_reply": "2023-05-22T16:07:07.555496Z"
    },
    "id": "x8mS99J5SYbT",
    "papermill": {
     "duration": 0.472446,
     "end_time": "2023-05-22T16:07:07.558735",
     "exception": false,
     "start_time": "2023-05-22T16:07:07.086289",
     "status": "completed"
    },
    "tags": []
   },
   "outputs": [],
   "source": [
    "conv=(Conv2D(filters=128,kernel_size=(7,7), activation=\"relu\",padding=\"same\",kernel_initializer='he_normal')(reshape))\n",
    "conv=(BatchNormalization()(conv))\n",
    "conv = ChannelAttention()(conv)\n",
    "conv=(Conv2D(filters=128,kernel_size=(5,5), activation=\"relu\",padding=\"same\",kernel_initializer='he_normal')(conv))\n",
    "conv=(BatchNormalization()(conv))\n",
    "conv = ChannelAttention()(conv)\n",
    "conv=(Conv2D(filters=128,kernel_size=(3,3), activation=\"relu\",padding=\"same\",kernel_initializer='he_normal')(conv))\n",
    "conv=(BatchNormalization()(conv))\n",
    "conv = ChannelAttention()(conv)\n",
    "conv=(Conv2D(filters=128,kernel_size=(1,1), activation=\"relu\",padding=\"same\",kernel_initializer='he_normal')(conv))\n",
    "conv=(BatchNormalization()(conv))\n",
    "conv = ChannelAttention()(conv)"
   ]
  },
  {
   "cell_type": "code",
   "execution_count": 12,
   "id": "b2b3fcc5",
   "metadata": {
    "execution": {
     "iopub.execute_input": "2023-05-22T16:07:07.604206Z",
     "iopub.status.busy": "2023-05-22T16:07:07.602541Z",
     "iopub.status.idle": "2023-05-22T16:07:07.611123Z",
     "shell.execute_reply": "2023-05-22T16:07:07.610316Z"
    },
    "id": "wfhLPhssAm2S",
    "papermill": {
     "duration": 0.032954,
     "end_time": "2023-05-22T16:07:07.613124",
     "exception": false,
     "start_time": "2023-05-22T16:07:07.580170",
     "status": "completed"
    },
    "tags": []
   },
   "outputs": [],
   "source": [
    "conv=(MaxPooling2D(strides=(2, 2),padding=\"same\")(conv))"
   ]
  },
  {
   "cell_type": "code",
   "execution_count": 13,
   "id": "ed2f98bd",
   "metadata": {
    "execution": {
     "iopub.execute_input": "2023-05-22T16:07:07.656383Z",
     "iopub.status.busy": "2023-05-22T16:07:07.656089Z",
     "iopub.status.idle": "2023-05-22T16:07:08.013147Z",
     "shell.execute_reply": "2023-05-22T16:07:08.012201Z"
    },
    "id": "sW4tKg9wSYbk",
    "papermill": {
     "duration": 0.381368,
     "end_time": "2023-05-22T16:07:08.015596",
     "exception": false,
     "start_time": "2023-05-22T16:07:07.634228",
     "status": "completed"
    },
    "tags": []
   },
   "outputs": [],
   "source": [
    "conv=(Conv2D(filters=256,kernel_size=(7,7), activation=\"relu\",padding=\"same\",kernel_initializer='he_normal')(conv))\n",
    "conv=(BatchNormalization()(conv))\n",
    "conv = ChannelAttention()(conv)\n",
    "conv=(Conv2D(filters=256,kernel_size=(5,5), activation=\"relu\",padding=\"same\",kernel_initializer='he_normal')(conv))\n",
    "conv=(BatchNormalization()(conv))\n",
    "conv = ChannelAttention()(conv)\n",
    "conv=(Conv2D(filters=256,kernel_size=(3,3), activation=\"relu\",padding=\"same\",kernel_initializer='he_normal')(conv))\n",
    "conv=(BatchNormalization()(conv))\n",
    "conv = ChannelAttention()(conv)\n",
    "conv=(Conv2D(filters=256,kernel_size=(1,1), activation=\"relu\",padding=\"same\",kernel_initializer='he_normal')(conv))\n",
    "conv=(BatchNormalization()(conv))\n",
    "conv = ChannelAttention()(conv)"
   ]
  },
  {
   "cell_type": "code",
   "execution_count": 14,
   "id": "5e6b0a00",
   "metadata": {
    "execution": {
     "iopub.execute_input": "2023-05-22T16:07:08.060529Z",
     "iopub.status.busy": "2023-05-22T16:07:08.060206Z",
     "iopub.status.idle": "2023-05-22T16:07:08.068926Z",
     "shell.execute_reply": "2023-05-22T16:07:08.068102Z"
    },
    "id": "eo8E7RxUSYcW",
    "papermill": {
     "duration": 0.032906,
     "end_time": "2023-05-22T16:07:08.070983",
     "exception": false,
     "start_time": "2023-05-22T16:07:08.038077",
     "status": "completed"
    },
    "tags": []
   },
   "outputs": [],
   "source": [
    "conv=(MaxPooling2D(pool_size=(2, 2),padding=\"same\")(conv))"
   ]
  },
  {
   "cell_type": "code",
   "execution_count": 15,
   "id": "05cddaa5",
   "metadata": {
    "execution": {
     "iopub.execute_input": "2023-05-22T16:07:08.114493Z",
     "iopub.status.busy": "2023-05-22T16:07:08.113963Z",
     "iopub.status.idle": "2023-05-22T16:07:08.119664Z",
     "shell.execute_reply": "2023-05-22T16:07:08.117739Z"
    },
    "papermill": {
     "duration": 0.029614,
     "end_time": "2023-05-22T16:07:08.121680",
     "exception": false,
     "start_time": "2023-05-22T16:07:08.092066",
     "status": "completed"
    },
    "tags": []
   },
   "outputs": [
    {
     "name": "stdout",
     "output_type": "stream",
     "text": [
      "7\n"
     ]
    }
   ],
   "source": [
    "num_classes = test_batches.num_classes\n",
    "print(num_classes)"
   ]
  },
  {
   "cell_type": "code",
   "execution_count": 16,
   "id": "10edca53",
   "metadata": {
    "execution": {
     "iopub.execute_input": "2023-05-22T16:07:08.174192Z",
     "iopub.status.busy": "2023-05-22T16:07:08.173416Z",
     "iopub.status.idle": "2023-05-22T16:07:08.250712Z",
     "shell.execute_reply": "2023-05-22T16:07:08.249598Z"
    },
    "id": "-EdFxKdgSYcf",
    "papermill": {
     "duration": 0.111547,
     "end_time": "2023-05-22T16:07:08.254581",
     "exception": false,
     "start_time": "2023-05-22T16:07:08.143034",
     "status": "completed"
    },
    "tags": []
   },
   "outputs": [],
   "source": [
    "conv=(Flatten()(conv))\n",
    "conv=(Dense(1024,activation=\"relu\")(conv))\n",
    "conv=(Dense(512,activation=\"relu\")(conv))\n",
    "conv=(Dense(num_classes, activation=\"softmax\")(conv))\n",
    "\n",
    "model_rn101_ca = Model(inputs=MainInput, outputs=conv)"
   ]
  },
  {
   "cell_type": "code",
   "execution_count": 17,
   "id": "8d5783c1",
   "metadata": {
    "execution": {
     "iopub.execute_input": "2023-05-22T16:07:08.301158Z",
     "iopub.status.busy": "2023-05-22T16:07:08.300849Z",
     "iopub.status.idle": "2023-05-22T16:07:08.431853Z",
     "shell.execute_reply": "2023-05-22T16:07:08.431039Z"
    },
    "id": "ba8ajOckSYcl",
    "outputId": "e69fa749-4741-4f49-ae3e-9f5479e809a8",
    "papermill": {
     "duration": 0.168121,
     "end_time": "2023-05-22T16:07:08.446918",
     "exception": false,
     "start_time": "2023-05-22T16:07:08.278797",
     "status": "completed"
    },
    "tags": []
   },
   "outputs": [
    {
     "name": "stdout",
     "output_type": "stream",
     "text": [
      "Model: \"model\"\n",
      "_________________________________________________________________\n",
      " Layer (type)                Output Shape              Param #   \n",
      "=================================================================\n",
      " input_2 (InputLayer)        [(None, 224, 224, 3)]     0         \n",
      "                                                                 \n",
      " resnet101 (Functional)      (None, 2048)              42658176  \n",
      "                                                                 \n",
      " reshape (Reshape)           (None, 16, 16, 8)         0         \n",
      "                                                                 \n",
      " conv2d (Conv2D)             (None, 16, 16, 128)       50304     \n",
      "                                                                 \n",
      " batch_normalization (BatchN  (None, 16, 16, 128)      512       \n",
      " ormalization)                                                   \n",
      "                                                                 \n",
      " channel_attention (ChannelA  (None, 16, 16, 128)      2184      \n",
      " ttention)                                                       \n",
      "                                                                 \n",
      " conv2d_1 (Conv2D)           (None, 16, 16, 128)       409728    \n",
      "                                                                 \n",
      " batch_normalization_1 (Batc  (None, 16, 16, 128)      512       \n",
      " hNormalization)                                                 \n",
      "                                                                 \n",
      " channel_attention_1 (Channe  (None, 16, 16, 128)      2184      \n",
      " lAttention)                                                     \n",
      "                                                                 \n",
      " conv2d_2 (Conv2D)           (None, 16, 16, 128)       147584    \n",
      "                                                                 \n",
      " batch_normalization_2 (Batc  (None, 16, 16, 128)      512       \n",
      " hNormalization)                                                 \n",
      "                                                                 \n",
      " channel_attention_2 (Channe  (None, 16, 16, 128)      2184      \n",
      " lAttention)                                                     \n",
      "                                                                 \n",
      " conv2d_3 (Conv2D)           (None, 16, 16, 128)       16512     \n",
      "                                                                 \n",
      " batch_normalization_3 (Batc  (None, 16, 16, 128)      512       \n",
      " hNormalization)                                                 \n",
      "                                                                 \n",
      " channel_attention_3 (Channe  (None, 16, 16, 128)      2184      \n",
      " lAttention)                                                     \n",
      "                                                                 \n",
      " max_pooling2d (MaxPooling2D  (None, 8, 8, 128)        0         \n",
      " )                                                               \n",
      "                                                                 \n",
      " conv2d_4 (Conv2D)           (None, 8, 8, 256)         1605888   \n",
      "                                                                 \n",
      " batch_normalization_4 (Batc  (None, 8, 8, 256)        1024      \n",
      " hNormalization)                                                 \n",
      "                                                                 \n",
      " channel_attention_4 (Channe  (None, 8, 8, 256)        8464      \n",
      " lAttention)                                                     \n",
      "                                                                 \n",
      " conv2d_5 (Conv2D)           (None, 8, 8, 256)         1638656   \n",
      "                                                                 \n",
      " batch_normalization_5 (Batc  (None, 8, 8, 256)        1024      \n",
      " hNormalization)                                                 \n",
      "                                                                 \n",
      " channel_attention_5 (Channe  (None, 8, 8, 256)        8464      \n",
      " lAttention)                                                     \n",
      "                                                                 \n",
      " conv2d_6 (Conv2D)           (None, 8, 8, 256)         590080    \n",
      "                                                                 \n",
      " batch_normalization_6 (Batc  (None, 8, 8, 256)        1024      \n",
      " hNormalization)                                                 \n",
      "                                                                 \n",
      " channel_attention_6 (Channe  (None, 8, 8, 256)        8464      \n",
      " lAttention)                                                     \n",
      "                                                                 \n",
      " conv2d_7 (Conv2D)           (None, 8, 8, 256)         65792     \n",
      "                                                                 \n",
      " batch_normalization_7 (Batc  (None, 8, 8, 256)        1024      \n",
      " hNormalization)                                                 \n",
      "                                                                 \n",
      " channel_attention_7 (Channe  (None, 8, 8, 256)        8464      \n",
      " lAttention)                                                     \n",
      "                                                                 \n",
      " max_pooling2d_1 (MaxPooling  (None, 4, 4, 256)        0         \n",
      " 2D)                                                             \n",
      "                                                                 \n",
      " flatten (Flatten)           (None, 4096)              0         \n",
      "                                                                 \n",
      " dense (Dense)               (None, 1024)              4195328   \n",
      "                                                                 \n",
      " dense_1 (Dense)             (None, 512)               524800    \n",
      "                                                                 \n",
      " dense_2 (Dense)             (None, 7)                 3591      \n",
      "                                                                 \n",
      "=================================================================\n",
      "Total params: 51,955,175\n",
      "Trainable params: 51,846,759\n",
      "Non-trainable params: 108,416\n",
      "_________________________________________________________________\n"
     ]
    }
   ],
   "source": [
    "model_rn101_ca.summary()"
   ]
  },
  {
   "cell_type": "code",
   "execution_count": 18,
   "id": "dbdabdce",
   "metadata": {
    "execution": {
     "iopub.execute_input": "2023-05-22T16:07:08.503754Z",
     "iopub.status.busy": "2023-05-22T16:07:08.503461Z",
     "iopub.status.idle": "2023-05-22T16:07:08.532648Z",
     "shell.execute_reply": "2023-05-22T16:07:08.531753Z"
    },
    "id": "WR0fUpy18vAZ",
    "papermill": {
     "duration": 0.059875,
     "end_time": "2023-05-22T16:07:08.534606",
     "exception": false,
     "start_time": "2023-05-22T16:07:08.474731",
     "status": "completed"
    },
    "tags": []
   },
   "outputs": [],
   "source": [
    "opt1=tf.keras.optimizers.Adam(learning_rate=0.001,epsilon=0.1)\n",
    "model_rn101_ca.compile(optimizer=opt1,\n",
    "             loss='categorical_crossentropy',\n",
    "             metrics=['accuracy'])"
   ]
  },
  {
   "cell_type": "code",
   "execution_count": 19,
   "id": "aefdc5a3",
   "metadata": {
    "execution": {
     "iopub.execute_input": "2023-05-22T16:07:08.593684Z",
     "iopub.status.busy": "2023-05-22T16:07:08.593369Z",
     "iopub.status.idle": "2023-05-22T16:07:08.599547Z",
     "shell.execute_reply": "2023-05-22T16:07:08.598660Z"
    },
    "id": "LAf5ha295reS",
    "papermill": {
     "duration": 0.037844,
     "end_time": "2023-05-22T16:07:08.601614",
     "exception": false,
     "start_time": "2023-05-22T16:07:08.563770",
     "status": "completed"
    },
    "tags": []
   },
   "outputs": [],
   "source": [
    "class_weights = {   \n",
    "                    0: 1.0,  # akiec\n",
    "                    1: 1.0,  # bcc\n",
    "                    2: 1.0,  # bkl\n",
    "                    3: 1.0,  # df\n",
    "                    4: 1.0,  # mel\n",
    "                    5: 1.0,  # nv\n",
    "                    6: 1.0  # vasc\n",
    "                }"
   ]
  },
  {
   "cell_type": "code",
   "execution_count": 20,
   "id": "36c69e34",
   "metadata": {
    "execution": {
     "iopub.execute_input": "2023-05-22T16:07:08.658567Z",
     "iopub.status.busy": "2023-05-22T16:07:08.657917Z",
     "iopub.status.idle": "2023-05-22T16:07:08.663688Z",
     "shell.execute_reply": "2023-05-22T16:07:08.662888Z"
    },
    "papermill": {
     "duration": 0.036303,
     "end_time": "2023-05-22T16:07:08.665649",
     "exception": false,
     "start_time": "2023-05-22T16:07:08.629346",
     "status": "completed"
    },
    "tags": []
   },
   "outputs": [],
   "source": [
    "checkpoint = ModelCheckpoint(filepath ='RN101_CA.hdf5', monitor='val_accuracy', save_best_only=True, save_weights_only=True)\n",
    "Earlystop = EarlyStopping(monitor='val_accuracy', mode='max', patience=25, min_delta=0.001)"
   ]
  },
  {
   "cell_type": "code",
   "execution_count": 21,
   "id": "57434737",
   "metadata": {
    "execution": {
     "iopub.execute_input": "2023-05-22T16:07:08.724966Z",
     "iopub.status.busy": "2023-05-22T16:07:08.724695Z",
     "iopub.status.idle": "2023-05-22T23:36:02.000296Z",
     "shell.execute_reply": "2023-05-22T23:36:01.999364Z"
    },
    "id": "NUzTmiZ-8hL3",
    "outputId": "e1825ff2-9f9c-436f-cf2c-9776af8eee62",
    "papermill": {
     "duration": 26933.336366,
     "end_time": "2023-05-22T23:36:02.029899",
     "exception": false,
     "start_time": "2023-05-22T16:07:08.693533",
     "status": "completed"
    },
    "tags": []
   },
   "outputs": [
    {
     "name": "stdout",
     "output_type": "stream",
     "text": [
      "Epoch 1/50\n",
      "3424/3424 - 786s - loss: 0.9422 - accuracy: 0.6425 - val_loss: 0.4222 - val_accuracy: 0.8706 - 786s/epoch - 230ms/step\n",
      "Epoch 2/50\n",
      "3424/3424 - 676s - loss: 0.3619 - accuracy: 0.8678 - val_loss: 0.3787 - val_accuracy: 0.8936 - 676s/epoch - 198ms/step\n",
      "Epoch 3/50\n",
      "3424/3424 - 678s - loss: 0.2028 - accuracy: 0.9261 - val_loss: 0.3757 - val_accuracy: 0.8996 - 678s/epoch - 198ms/step\n",
      "Epoch 4/50\n",
      "3424/3424 - 675s - loss: 0.1311 - accuracy: 0.9536 - val_loss: 0.3911 - val_accuracy: 0.8996 - 675s/epoch - 197ms/step\n",
      "Epoch 5/50\n",
      "3424/3424 - 679s - loss: 0.0913 - accuracy: 0.9685 - val_loss: 0.3563 - val_accuracy: 0.9105 - 679s/epoch - 198ms/step\n",
      "Epoch 6/50\n",
      "3424/3424 - 676s - loss: 0.0681 - accuracy: 0.9758 - val_loss: 0.4020 - val_accuracy: 0.9008 - 676s/epoch - 197ms/step\n",
      "Epoch 7/50\n",
      "3424/3424 - 679s - loss: 0.0525 - accuracy: 0.9821 - val_loss: 0.5014 - val_accuracy: 0.8996 - 679s/epoch - 198ms/step\n",
      "Epoch 8/50\n",
      "3424/3424 - 680s - loss: 0.0410 - accuracy: 0.9862 - val_loss: 0.4600 - val_accuracy: 0.8924 - 680s/epoch - 199ms/step\n",
      "Epoch 9/50\n",
      "3424/3424 - 680s - loss: 0.0372 - accuracy: 0.9878 - val_loss: 0.4114 - val_accuracy: 0.9129 - 680s/epoch - 199ms/step\n",
      "Epoch 10/50\n",
      "3424/3424 - 683s - loss: 0.0266 - accuracy: 0.9909 - val_loss: 0.4566 - val_accuracy: 0.8996 - 683s/epoch - 199ms/step\n",
      "Epoch 11/50\n",
      "3424/3424 - 682s - loss: 0.0220 - accuracy: 0.9929 - val_loss: 0.5742 - val_accuracy: 0.9069 - 682s/epoch - 199ms/step\n",
      "Epoch 12/50\n",
      "3424/3424 - 681s - loss: 0.0198 - accuracy: 0.9931 - val_loss: 0.4318 - val_accuracy: 0.9093 - 681s/epoch - 199ms/step\n",
      "Epoch 13/50\n",
      "3424/3424 - 682s - loss: 0.0177 - accuracy: 0.9939 - val_loss: 0.4881 - val_accuracy: 0.9141 - 682s/epoch - 199ms/step\n",
      "Epoch 14/50\n",
      "3424/3424 - 685s - loss: 0.0156 - accuracy: 0.9947 - val_loss: 0.4104 - val_accuracy: 0.9202 - 685s/epoch - 200ms/step\n",
      "Epoch 15/50\n",
      "3424/3424 - 681s - loss: 0.0133 - accuracy: 0.9958 - val_loss: 0.4706 - val_accuracy: 0.9141 - 681s/epoch - 199ms/step\n",
      "Epoch 16/50\n",
      "3424/3424 - 683s - loss: 0.0103 - accuracy: 0.9966 - val_loss: 0.5131 - val_accuracy: 0.9166 - 683s/epoch - 200ms/step\n",
      "Epoch 17/50\n",
      "3424/3424 - 681s - loss: 0.0110 - accuracy: 0.9965 - val_loss: 0.5219 - val_accuracy: 0.9105 - 681s/epoch - 199ms/step\n",
      "Epoch 18/50\n",
      "3424/3424 - 677s - loss: 0.0127 - accuracy: 0.9961 - val_loss: 0.5299 - val_accuracy: 0.9081 - 677s/epoch - 198ms/step\n",
      "Epoch 19/50\n",
      "3424/3424 - 683s - loss: 0.0101 - accuracy: 0.9969 - val_loss: 0.5268 - val_accuracy: 0.9081 - 683s/epoch - 199ms/step\n",
      "Epoch 20/50\n",
      "3424/3424 - 678s - loss: 0.0096 - accuracy: 0.9968 - val_loss: 0.5713 - val_accuracy: 0.9093 - 678s/epoch - 198ms/step\n",
      "Epoch 21/50\n",
      "3424/3424 - 676s - loss: 0.0111 - accuracy: 0.9964 - val_loss: 0.5351 - val_accuracy: 0.9093 - 676s/epoch - 198ms/step\n",
      "Epoch 22/50\n",
      "3424/3424 - 676s - loss: 0.0083 - accuracy: 0.9973 - val_loss: 0.5920 - val_accuracy: 0.9033 - 676s/epoch - 197ms/step\n",
      "Epoch 23/50\n",
      "3424/3424 - 674s - loss: 0.0101 - accuracy: 0.9970 - val_loss: 0.4682 - val_accuracy: 0.9178 - 674s/epoch - 197ms/step\n",
      "Epoch 24/50\n",
      "3424/3424 - 675s - loss: 0.0082 - accuracy: 0.9973 - val_loss: 0.5143 - val_accuracy: 0.9166 - 675s/epoch - 197ms/step\n",
      "Epoch 25/50\n",
      "3424/3424 - 677s - loss: 0.0078 - accuracy: 0.9976 - val_loss: 0.4672 - val_accuracy: 0.9166 - 677s/epoch - 198ms/step\n",
      "Epoch 26/50\n",
      "3424/3424 - 680s - loss: 0.0065 - accuracy: 0.9979 - val_loss: 0.5172 - val_accuracy: 0.9154 - 680s/epoch - 199ms/step\n",
      "Epoch 27/50\n",
      "3424/3424 - 682s - loss: 0.0058 - accuracy: 0.9982 - val_loss: 0.4712 - val_accuracy: 0.9117 - 682s/epoch - 199ms/step\n",
      "Epoch 28/50\n",
      "3424/3424 - 679s - loss: 0.0063 - accuracy: 0.9980 - val_loss: 0.5975 - val_accuracy: 0.9081 - 679s/epoch - 198ms/step\n",
      "Epoch 29/50\n",
      "3424/3424 - 682s - loss: 0.0049 - accuracy: 0.9983 - val_loss: 0.6330 - val_accuracy: 0.9081 - 682s/epoch - 199ms/step\n",
      "Epoch 30/50\n",
      "3424/3424 - 676s - loss: 0.0062 - accuracy: 0.9980 - val_loss: 0.5360 - val_accuracy: 0.9057 - 676s/epoch - 197ms/step\n",
      "Epoch 31/50\n",
      "3424/3424 - 674s - loss: 0.0037 - accuracy: 0.9988 - val_loss: 0.5028 - val_accuracy: 0.9057 - 674s/epoch - 197ms/step\n",
      "Epoch 32/50\n",
      "3424/3424 - 673s - loss: 0.0037 - accuracy: 0.9988 - val_loss: 0.6126 - val_accuracy: 0.9069 - 673s/epoch - 197ms/step\n",
      "Epoch 33/50\n",
      "3424/3424 - 672s - loss: 0.0058 - accuracy: 0.9980 - val_loss: 0.6208 - val_accuracy: 0.9105 - 672s/epoch - 196ms/step\n",
      "Epoch 34/50\n",
      "3424/3424 - 675s - loss: 0.0042 - accuracy: 0.9986 - val_loss: 0.5868 - val_accuracy: 0.9105 - 675s/epoch - 197ms/step\n",
      "Epoch 35/50\n",
      "3424/3424 - 672s - loss: 0.0037 - accuracy: 0.9987 - val_loss: 0.7394 - val_accuracy: 0.9008 - 672s/epoch - 196ms/step\n",
      "Epoch 36/50\n",
      "3424/3424 - 672s - loss: 0.0042 - accuracy: 0.9987 - val_loss: 0.5392 - val_accuracy: 0.9166 - 672s/epoch - 196ms/step\n",
      "Epoch 37/50\n",
      "3424/3424 - 671s - loss: 0.0055 - accuracy: 0.9982 - val_loss: 0.5948 - val_accuracy: 0.9069 - 671s/epoch - 196ms/step\n",
      "Epoch 38/50\n",
      "3424/3424 - 671s - loss: 0.0041 - accuracy: 0.9986 - val_loss: 0.5834 - val_accuracy: 0.9190 - 671s/epoch - 196ms/step\n",
      "Epoch 39/50\n",
      "3424/3424 - 672s - loss: 0.0038 - accuracy: 0.9988 - val_loss: 0.6033 - val_accuracy: 0.9129 - 672s/epoch - 196ms/step\n"
     ]
    }
   ],
   "source": [
    "history = model_rn101_ca.fit(train_batches,\n",
    "                         epochs=50,\n",
    "                         verbose=2,\n",
    "                         validation_data=val_batches,\n",
    "                         callbacks=[checkpoint,Earlystop],\n",
    "                         class_weight=class_weights)"
   ]
  },
  {
   "cell_type": "markdown",
   "id": "87e046cf",
   "metadata": {
    "papermill": {
     "duration": 0.033368,
     "end_time": "2023-05-22T23:36:02.097217",
     "exception": false,
     "start_time": "2023-05-22T23:36:02.063849",
     "status": "completed"
    },
    "tags": []
   },
   "source": [
    "### Plotting accuracy and loss"
   ]
  },
  {
   "cell_type": "code",
   "execution_count": 22,
   "id": "6773c0f0",
   "metadata": {
    "execution": {
     "iopub.execute_input": "2023-05-22T23:36:02.167199Z",
     "iopub.status.busy": "2023-05-22T23:36:02.166201Z",
     "iopub.status.idle": "2023-05-22T23:36:12.703489Z",
     "shell.execute_reply": "2023-05-22T23:36:12.702654Z"
    },
    "papermill": {
     "duration": 10.575015,
     "end_time": "2023-05-22T23:36:12.705696",
     "exception": false,
     "start_time": "2023-05-22T23:36:02.130681",
     "status": "completed"
    },
    "tags": []
   },
   "outputs": [
    {
     "name": "stdout",
     "output_type": "stream",
     "text": [
      "Number of epochs trained: 39\n"
     ]
    },
    {
     "data": {
      "image/png": "[encoded data removed]",
      "text/plain": [
       "<Figure size 1500x500 with 2 Axes>"
      ]
     },
     "metadata": {},
     "output_type": "display_data"
    }
   ],
   "source": [
    "# Determine number of epochs trained\n",
    "num_epochs_trained = len(history.history['val_loss'])\n",
    "print(f\"Number of epochs trained: {num_epochs_trained}\")\n",
    "\n",
    "## History plotting\n",
    "epochs = [i for i in range(num_epochs_trained)]\n",
    "fig , ax = plt.subplots(1,2)\n",
    "train_acc = history.history['accuracy']\n",
    "train_loss = history.history['loss']\n",
    "val_acc = history.history['val_accuracy']\n",
    "val_loss = history.history['val_loss']\n",
    "fig.set_size_inches(15,5)\n",
    "\n",
    "ax[0].plot(epochs , train_acc , 'go-' , label = 'Training Accuracy')\n",
    "ax[0].plot(epochs , val_acc , 'ro-' , label = 'Validation Accuracy')\n",
    "title_font = {'fontname':'Times New Roman', 'size':'14', 'color':'black', 'weight':'normal'}\n",
    "ax[0].set_title('Model Accuracy', fontdict=title_font)\n",
    "legend_font = {'family': 'Times New Roman', 'size': '12', 'weight': 'normal'}\n",
    "ax[0].legend(prop=legend_font)\n",
    "label_font = {'fontname':'Times New Roman', 'size':'12', 'color':'black', 'weight':'normal'}\n",
    "ax[0].set_xlabel(\"Epochs\",  fontdict=label_font)\n",
    "ax[0].set_ylabel(\"Accuracy\",  fontdict=label_font)\n",
    "\n",
    "ax[1].plot(epochs , train_loss , 'g-o' , label = 'Training Loss')\n",
    "ax[1].plot(epochs , val_loss , 'r-o' , label = 'Validation Loss')\n",
    "ax[1].set_title('Model Loss', fontdict=title_font)\n",
    "ax[1].legend(prop=legend_font)\n",
    "ax[1].set_xlabel(\"Epochs\", fontdict=label_font)\n",
    "ax[1].set_ylabel(\"Loss\", fontdict=label_font)\n",
    "plt.show()"
   ]
  },
  {
   "cell_type": "code",
   "execution_count": 23,
   "id": "650748af",
   "metadata": {
    "execution": {
     "iopub.execute_input": "2023-05-22T23:36:12.775952Z",
     "iopub.status.busy": "2023-05-22T23:36:12.775685Z",
     "iopub.status.idle": "2023-05-22T23:36:13.482970Z",
     "shell.execute_reply": "2023-05-22T23:36:13.481969Z"
    },
    "id": "zm_AewFBXTj8",
    "papermill": {
     "duration": 0.744786,
     "end_time": "2023-05-22T23:36:13.485275",
     "exception": false,
     "start_time": "2023-05-22T23:36:12.740489",
     "status": "completed"
    },
    "tags": []
   },
   "outputs": [],
   "source": [
    "from tensorflow.keras import models\n",
    "model_rn101_ca.load_weights(\"RN101_CA.hdf5\")"
   ]
  },
  {
   "cell_type": "code",
   "execution_count": 24,
   "id": "1576d853",
   "metadata": {
    "execution": {
     "iopub.execute_input": "2023-05-22T23:36:13.557166Z",
     "iopub.status.busy": "2023-05-22T23:36:13.555693Z",
     "iopub.status.idle": "2023-05-22T23:36:30.625814Z",
     "shell.execute_reply": "2023-05-22T23:36:30.624866Z"
    },
    "papermill": {
     "duration": 17.107406,
     "end_time": "2023-05-22T23:36:30.627908",
     "exception": false,
     "start_time": "2023-05-22T23:36:13.520502",
     "status": "completed"
    },
    "tags": []
   },
   "outputs": [
    {
     "name": "stdout",
     "output_type": "stream",
     "text": [
      "52/52 [==============================] - 17s 268ms/step\n"
     ]
    }
   ],
   "source": [
    "predictions = model_rn101_ca.predict(test_batches)"
   ]
  },
  {
   "cell_type": "code",
   "execution_count": 25,
   "id": "8d944c68",
   "metadata": {
    "execution": {
     "iopub.execute_input": "2023-05-22T23:36:30.706162Z",
     "iopub.status.busy": "2023-05-22T23:36:30.705532Z",
     "iopub.status.idle": "2023-05-22T23:36:30.710528Z",
     "shell.execute_reply": "2023-05-22T23:36:30.709512Z"
    },
    "id": "FDTMtBeTdBfU",
    "papermill": {
     "duration": 0.045844,
     "end_time": "2023-05-22T23:36:30.712407",
     "exception": false,
     "start_time": "2023-05-22T23:36:30.666563",
     "status": "completed"
    },
    "tags": []
   },
   "outputs": [],
   "source": [
    "#geting predictions on test dataset\n",
    "y_pred = np.argmax(predictions, axis=1)\n",
    "#getting the true labels per image \n",
    "y_true = test_batches.classes\n",
    "#getting the predicted labels per image \n",
    "y_prob = predictions"
   ]
  },
  {
   "cell_type": "code",
   "execution_count": 26,
   "id": "fde33c49",
   "metadata": {
    "execution": {
     "iopub.execute_input": "2023-05-22T23:36:30.838221Z",
     "iopub.status.busy": "2023-05-22T23:36:30.837164Z",
     "iopub.status.idle": "2023-05-22T23:36:30.859093Z",
     "shell.execute_reply": "2023-05-22T23:36:30.858158Z"
    },
    "papermill": {
     "duration": 0.090019,
     "end_time": "2023-05-22T23:36:30.861565",
     "exception": false,
     "start_time": "2023-05-22T23:36:30.771546",
     "status": "completed"
    },
    "tags": []
   },
   "outputs": [
    {
     "name": "stdout",
     "output_type": "stream",
     "text": [
      "\n",
      "Classification Report:\n",
      "              precision    recall  f1-score   support\n",
      "\n",
      "          AK       0.64      0.64      0.64        22\n",
      "         BCC       0.70      0.70      0.70        27\n",
      "         BKL       0.70      0.83      0.76        66\n",
      "          DF       0.83      0.83      0.83         6\n",
      "         MEL       0.71      0.34      0.46        35\n",
      "          NV       0.97      0.97      0.97       663\n",
      "        VASC       0.90      1.00      0.95         9\n",
      "\n",
      "    accuracy                           0.92       828\n",
      "   macro avg       0.78      0.76      0.76       828\n",
      "weighted avg       0.92      0.92      0.91       828\n",
      "\n"
     ]
    }
   ],
   "source": [
    "classnames = ['AK', 'BCC', 'BKL', 'DF', 'MEL', 'NV', 'VASC']\n",
    "\n",
    "from tensorflow.keras.utils import to_categorical\n",
    "y_test = to_categorical(y_true)\n",
    "\n",
    "report = classification_report(y_true, y_pred, target_names=classnames)\n",
    "\n",
    "print(\"\\nClassification Report:\")\n",
    "print(report)"
   ]
  },
  {
   "cell_type": "code",
   "execution_count": 27,
   "id": "3524e7aa",
   "metadata": {
    "execution": {
     "iopub.execute_input": "2023-05-22T23:36:30.962411Z",
     "iopub.status.busy": "2023-05-22T23:36:30.962113Z",
     "iopub.status.idle": "2023-05-22T23:36:31.915038Z",
     "shell.execute_reply": "2023-05-22T23:36:31.914186Z"
    },
    "papermill": {
     "duration": 0.99707,
     "end_time": "2023-05-22T23:36:31.917057",
     "exception": false,
     "start_time": "2023-05-22T23:36:30.919987",
     "status": "completed"
    },
    "tags": []
   },
   "outputs": [
    {
     "data": {
      "image/png": "[encoded data removed]",
      "text/plain": [
       "<Figure size 1000x400 with 2 Axes>"
      ]
     },
     "metadata": {},
     "output_type": "display_data"
    }
   ],
   "source": [
    "## Confusion Matrix\n",
    "title_font = {'fontname':'Times New Roman', 'size':'14', 'color':'black', 'weight':'normal'}\n",
    "label_font = {'fontname':'Times New Roman', 'size':'12', 'color':'black', 'weight':'normal'}\n",
    "\n",
    "from sklearn.metrics import confusion_matrix\n",
    "import seaborn as sns\n",
    "# Creating confusion matrix \n",
    "cm = confusion_matrix(y_true, y_pred)\n",
    "# Plotting the confusion matrix\n",
    "plt.figure(figsize=(10,4))\n",
    "sns.heatmap(cm, annot=True, fmt='g', cmap='Blues', xticklabels=targetnames, yticklabels=targetnames)\n",
    "plt.xlabel('Predicted Label', fontdict=label_font)\n",
    "plt.ylabel('True Label', fontdict=label_font)\n",
    "plt.title('Confusion Matrix', fontdict=title_font)\n",
    "plt.show()"
   ]
  },
  {
   "cell_type": "markdown",
   "id": "98d79284",
   "metadata": {
    "papermill": {
     "duration": 0.038688,
     "end_time": "2023-05-22T23:36:31.995072",
     "exception": false,
     "start_time": "2023-05-22T23:36:31.956384",
     "status": "completed"
    },
    "tags": []
   },
   "source": [
    "## Results"
   ]
  },
  {
   "cell_type": "markdown",
   "id": "eba10848",
   "metadata": {
    "papermill": {
     "duration": 0.038386,
     "end_time": "2023-05-22T23:36:32.071845",
     "exception": false,
     "start_time": "2023-05-22T23:36:32.033459",
     "status": "completed"
    },
    "tags": []
   },
   "source": [
    "### Individual Class Accuracy "
   ]
  },
  {
   "cell_type": "code",
   "execution_count": 28,
   "id": "3b8cd43c",
   "metadata": {
    "execution": {
     "iopub.execute_input": "2023-05-22T23:36:32.150527Z",
     "iopub.status.busy": "2023-05-22T23:36:32.149750Z",
     "iopub.status.idle": "2023-05-22T23:36:32.157490Z",
     "shell.execute_reply": "2023-05-22T23:36:32.156228Z"
    },
    "papermill": {
     "duration": 0.049389,
     "end_time": "2023-05-22T23:36:32.159528",
     "exception": false,
     "start_time": "2023-05-22T23:36:32.110139",
     "status": "completed"
    },
    "tags": []
   },
   "outputs": [
    {
     "name": "stdout",
     "output_type": "stream",
     "text": [
      "Overall accuracy: 91.67%\n",
      "Accuracy for each class:\n",
      "Class 0: 63.64%\n",
      "Class 1: 70.37%\n",
      "Class 2: 83.33%\n",
      "Class 3: 83.33%\n",
      "Class 4: 34.29%\n",
      "Class 5: 97.29%\n",
      "Class 6: 100.00%\n"
     ]
    }
   ],
   "source": [
    "# y_true are the true labels of the test set\n",
    "# y_pred are the predicted labels of the test set\n",
    "accuracy = accuracy_score(y_true, y_pred)\n",
    "# Calculate accuracy for each class\n",
    "class_accuracy = cm.diagonal()/cm.sum(axis=1)\n",
    "print(\"Overall accuracy: {:.2f}%\".format(accuracy*100))\n",
    "print(\"Accuracy for each class:\")\n",
    "for i, acc in enumerate(class_accuracy):\n",
    "    print(\"Class {}: {:.2f}%\".format(i, acc*100))"
   ]
  },
  {
   "cell_type": "markdown",
   "id": "9172f74a",
   "metadata": {
    "papermill": {
     "duration": 0.038177,
     "end_time": "2023-05-22T23:36:32.236330",
     "exception": false,
     "start_time": "2023-05-22T23:36:32.198153",
     "status": "completed"
    },
    "tags": []
   },
   "source": [
    "### Individual Class Weighted Precision"
   ]
  },
  {
   "cell_type": "code",
   "execution_count": 29,
   "id": "1b61cc77",
   "metadata": {
    "execution": {
     "iopub.execute_input": "2023-05-22T23:36:32.314459Z",
     "iopub.status.busy": "2023-05-22T23:36:32.313919Z",
     "iopub.status.idle": "2023-05-22T23:36:32.330005Z",
     "shell.execute_reply": "2023-05-22T23:36:32.328905Z"
    },
    "papermill": {
     "duration": 0.057439,
     "end_time": "2023-05-22T23:36:32.331967",
     "exception": false,
     "start_time": "2023-05-22T23:36:32.274528",
     "status": "completed"
    },
    "tags": []
   },
   "outputs": [
    {
     "name": "stdout",
     "output_type": "stream",
     "text": [
      "Weighted precision for each class:\n",
      "Class 0: 63.64%\n",
      "Class 1: 70.37%\n",
      "Class 2: 69.62%\n",
      "Class 3: 83.33%\n",
      "Class 4: 70.59%\n",
      "Class 5: 96.70%\n",
      "Class 6: 90.00%\n",
      "Weighted precision: 91.53%\n"
     ]
    }
   ],
   "source": [
    "report = classification_report(y_true, y_pred, output_dict=True)\n",
    "# Extract weighted precision for each class\n",
    "class_precision = {}\n",
    "for class_label in report.keys():\n",
    "    if class_label == 'weighted avg':\n",
    "        class_precision['weighted'] = report[class_label]['precision']\n",
    "    elif class_label.isdigit():\n",
    "        class_precision[int(class_label)] = report[class_label]['precision']\n",
    "print(\"Weighted precision for each class:\")\n",
    "for i, precision in class_precision.items():\n",
    "    if i == 'weighted':\n",
    "        print(\"Weighted precision: {:.2f}%\".format(precision*100))\n",
    "    else:\n",
    "        print(\"Class {}: {:.2f}%\".format(i, precision*100))"
   ]
  },
  {
   "cell_type": "markdown",
   "id": "7c448da8",
   "metadata": {
    "papermill": {
     "duration": 0.038922,
     "end_time": "2023-05-22T23:36:32.409547",
     "exception": false,
     "start_time": "2023-05-22T23:36:32.370625",
     "status": "completed"
    },
    "tags": []
   },
   "source": [
    "### Individual Class Weighted Recall"
   ]
  },
  {
   "cell_type": "code",
   "execution_count": 30,
   "id": "17f7adc8",
   "metadata": {
    "execution": {
     "iopub.execute_input": "2023-05-22T23:36:32.488420Z",
     "iopub.status.busy": "2023-05-22T23:36:32.487673Z",
     "iopub.status.idle": "2023-05-22T23:36:32.501518Z",
     "shell.execute_reply": "2023-05-22T23:36:32.500450Z"
    },
    "papermill": {
     "duration": 0.055216,
     "end_time": "2023-05-22T23:36:32.503419",
     "exception": false,
     "start_time": "2023-05-22T23:36:32.448203",
     "status": "completed"
    },
    "tags": []
   },
   "outputs": [
    {
     "name": "stdout",
     "output_type": "stream",
     "text": [
      "Weighted recall for each class:\n",
      "Class 0: 63.64%\n",
      "Class 1: 70.37%\n",
      "Class 2: 83.33%\n",
      "Class 3: 83.33%\n",
      "Class 4: 34.29%\n",
      "Class 5: 97.29%\n",
      "Class 6: 100.00%\n",
      "Weighted Recall: 91.67%\n"
     ]
    }
   ],
   "source": [
    "report = classification_report(y_true, y_pred, output_dict=True)\n",
    "# Extract weighted recall for each class\n",
    "class_recall = {}\n",
    "for class_label in report.keys():\n",
    "    if class_label == 'weighted avg':\n",
    "        class_recall['weighted'] = report[class_label]['recall']\n",
    "    elif class_label.isdigit():\n",
    "        class_recall[int(class_label)] = report[class_label]['recall']\n",
    "print(\"Weighted recall for each class:\")\n",
    "for i, recall in class_recall.items():\n",
    "    if i == 'weighted':\n",
    "        print(\"Weighted Recall: {:.2f}%\".format(recall*100))\n",
    "    else:\n",
    "        print(\"Class {}: {:.2f}%\".format(i, recall*100))"
   ]
  },
  {
   "cell_type": "markdown",
   "id": "51adf25e",
   "metadata": {
    "papermill": {
     "duration": 0.038499,
     "end_time": "2023-05-22T23:36:32.581251",
     "exception": false,
     "start_time": "2023-05-22T23:36:32.542752",
     "status": "completed"
    },
    "tags": []
   },
   "source": [
    "### Individual Class Weighted F1-score"
   ]
  },
  {
   "cell_type": "code",
   "execution_count": 31,
   "id": "574fef63",
   "metadata": {
    "execution": {
     "iopub.execute_input": "2023-05-22T23:36:32.660109Z",
     "iopub.status.busy": "2023-05-22T23:36:32.659842Z",
     "iopub.status.idle": "2023-05-22T23:36:32.674858Z",
     "shell.execute_reply": "2023-05-22T23:36:32.673782Z"
    },
    "papermill": {
     "duration": 0.056705,
     "end_time": "2023-05-22T23:36:32.676851",
     "exception": false,
     "start_time": "2023-05-22T23:36:32.620146",
     "status": "completed"
    },
    "tags": []
   },
   "outputs": [
    {
     "name": "stdout",
     "output_type": "stream",
     "text": [
      "Weighted F1-score for each class:\n",
      "Class 0: 63.64%\n",
      "Class 1: 70.37%\n",
      "Class 2: 75.86%\n",
      "Class 3: 83.33%\n",
      "Class 4: 46.15%\n",
      "Class 5: 96.99%\n",
      "Class 6: 94.74%\n",
      "Weighted F1-score: 91.28%\n"
     ]
    }
   ],
   "source": [
    "report = classification_report(y_true, y_pred, output_dict=True)\n",
    "# Extract weighted F1-score for each class\n",
    "class_f1 = {}\n",
    "for class_label in report.keys():\n",
    "    if class_label == 'weighted avg':\n",
    "        class_f1['weighted'] = report[class_label]['f1-score']\n",
    "    elif class_label.isdigit():\n",
    "        class_f1[int(class_label)] = report[class_label]['f1-score']\n",
    "print(\"Weighted F1-score for each class:\")\n",
    "for i, f1_score in class_f1.items():\n",
    "    if i == 'weighted':\n",
    "        print(\"Weighted F1-score: {:.2f}%\".format(f1_score*100))\n",
    "    else:\n",
    "        print(\"Class {}: {:.2f}%\".format(i, f1_score*100))"
   ]
  },
  {
   "cell_type": "markdown",
   "id": "2d69a1d1",
   "metadata": {
    "papermill": {
     "duration": 0.038465,
     "end_time": "2023-05-22T23:36:32.754521",
     "exception": false,
     "start_time": "2023-05-22T23:36:32.716056",
     "status": "completed"
    },
    "tags": []
   },
   "source": [
    "### Individual Class Precision, Recall and F1-score"
   ]
  },
  {
   "cell_type": "code",
   "execution_count": 32,
   "id": "87937785",
   "metadata": {
    "execution": {
     "iopub.execute_input": "2023-05-22T23:36:32.834349Z",
     "iopub.status.busy": "2023-05-22T23:36:32.833586Z",
     "iopub.status.idle": "2023-05-22T23:36:32.842069Z",
     "shell.execute_reply": "2023-05-22T23:36:32.840999Z"
    },
    "papermill": {
     "duration": 0.05102,
     "end_time": "2023-05-22T23:36:32.844143",
     "exception": false,
     "start_time": "2023-05-22T23:36:32.793123",
     "status": "completed"
    },
    "tags": []
   },
   "outputs": [
    {
     "name": "stdout",
     "output_type": "stream",
     "text": [
      "Class-wise weighted precision, recall, and F1-score:\n",
      "Class 0: Precision=0.64, Recall=0.64, F1-score=0.64\n",
      "Class 1: Precision=0.70, Recall=0.70, F1-score=0.70\n",
      "Class 2: Precision=0.70, Recall=0.83, F1-score=0.76\n",
      "Class 3: Precision=0.83, Recall=0.83, F1-score=0.83\n",
      "Class 4: Precision=0.71, Recall=0.34, F1-score=0.46\n",
      "Class 5: Precision=0.97, Recall=0.97, F1-score=0.97\n",
      "Class 6: Precision=0.90, Recall=1.00, F1-score=0.95\n"
     ]
    }
   ],
   "source": [
    "from sklearn.metrics import precision_recall_fscore_support\n",
    "\n",
    "precision_class, recall_class, f1_class, support_class = precision_recall_fscore_support(y_true, y_pred, average=None)\n",
    "print('Class-wise weighted precision, recall, and F1-score:')\n",
    "for i in range(len(precision_class)):\n",
    "    print('Class {}: Precision={:.2f}, Recall={:.2f}, F1-score={:.2f}'.format(i, precision_class[i], recall_class[i], f1_class[i]))\n"
   ]
  },
  {
   "cell_type": "markdown",
   "id": "ea856678",
   "metadata": {
    "papermill": {
     "duration": 0.038652,
     "end_time": "2023-05-22T23:36:32.923624",
     "exception": false,
     "start_time": "2023-05-22T23:36:32.884972",
     "status": "completed"
    },
    "tags": []
   },
   "source": [
    "### Individual Class Weighted Sensitivity"
   ]
  },
  {
   "cell_type": "code",
   "execution_count": 33,
   "id": "87ac6755",
   "metadata": {
    "execution": {
     "iopub.execute_input": "2023-05-22T23:36:33.002778Z",
     "iopub.status.busy": "2023-05-22T23:36:33.002048Z",
     "iopub.status.idle": "2023-05-22T23:36:33.438769Z",
     "shell.execute_reply": "2023-05-22T23:36:33.437591Z"
    },
    "papermill": {
     "duration": 0.478122,
     "end_time": "2023-05-22T23:36:33.440798",
     "exception": false,
     "start_time": "2023-05-22T23:36:32.962676",
     "status": "completed"
    },
    "tags": []
   },
   "outputs": [
    {
     "name": "stdout",
     "output_type": "stream",
     "text": [
      "Weighted Sensitivity:  0.9166666666666666\n",
      "Class  0 :sensitivity = 0.6363636363636364\n",
      "Class  1 :sensitivity = 0.7037037037037037\n",
      "Class  2 :sensitivity = 0.8333333333333334\n",
      "Class  3 :sensitivity = 0.8333333333333334\n",
      "Class  4 :sensitivity = 0.34285714285714286\n",
      "Class  5 :sensitivity = 0.9728506787330317\n",
      "Class  6 :sensitivity = 1.0\n"
     ]
    }
   ],
   "source": [
    "from imblearn.metrics import sensitivity_score\n",
    "\n",
    "sensitivity = sensitivity_score(y_true, y_pred, average='weighted')\n",
    "print(\"Weighted Sensitivity: \", sensitivity)\n",
    "\n",
    "# Calculate class-wise sensitivity\n",
    "sensitivity = sensitivity_score(y_true, y_pred, average=None)\n",
    "\n",
    "# Print sensitivity score for each class\n",
    "for i in range(len(sensitivity)):\n",
    "    print(\"Class \", i, \":sensitivity =\", sensitivity[i])"
   ]
  },
  {
   "cell_type": "markdown",
   "id": "2c4309fa",
   "metadata": {
    "papermill": {
     "duration": 0.038611,
     "end_time": "2023-05-22T23:36:33.519666",
     "exception": false,
     "start_time": "2023-05-22T23:36:33.481055",
     "status": "completed"
    },
    "tags": []
   },
   "source": [
    "### Individual Class Weighted Specificity"
   ]
  },
  {
   "cell_type": "code",
   "execution_count": 34,
   "id": "b29dc573",
   "metadata": {
    "execution": {
     "iopub.execute_input": "2023-05-22T23:36:33.599448Z",
     "iopub.status.busy": "2023-05-22T23:36:33.598563Z",
     "iopub.status.idle": "2023-05-22T23:36:33.607885Z",
     "shell.execute_reply": "2023-05-22T23:36:33.606746Z"
    },
    "papermill": {
     "duration": 0.051333,
     "end_time": "2023-05-22T23:36:33.609842",
     "exception": false,
     "start_time": "2023-05-22T23:36:33.558509",
     "status": "completed"
    },
    "tags": []
   },
   "outputs": [
    {
     "name": "stdout",
     "output_type": "stream",
     "text": [
      "Weighted Specificity:  0.8898481466169628\n",
      "Class  0 :specificity= 0.9900744416873449\n",
      "Class  1 :specificity= 0.9900124843945068\n",
      "Class  2 :specificity= 0.968503937007874\n",
      "Class  3 :specificity= 0.9987834549878345\n",
      "Class  4 :specificity= 0.9936948297604036\n",
      "Class  5 :specificity= 0.8666666666666667\n",
      "Class  6 :specificity= 0.9987789987789988\n"
     ]
    }
   ],
   "source": [
    "from imblearn.metrics import specificity_score\n",
    "\n",
    "specificity = specificity_score(y_true, y_pred, average='weighted')\n",
    "print(\"Weighted Specificity: \", specificity)\n",
    "\n",
    "# Calculate class-wise specificity\n",
    "specificity = specificity_score(y_true, y_pred, average=None)\n",
    "\n",
    "# Print sensitivity score for each class\n",
    "for i in range(len(specificity)):\n",
    "    print(\"Class \", i, \":specificity=\", specificity[i])"
   ]
  },
  {
   "cell_type": "markdown",
   "id": "4d7a6c46",
   "metadata": {
    "papermill": {
     "duration": 0.04076,
     "end_time": "2023-05-22T23:36:33.689793",
     "exception": false,
     "start_time": "2023-05-22T23:36:33.649033",
     "status": "completed"
    },
    "tags": []
   },
   "source": [
    "### Accuracy"
   ]
  },
  {
   "cell_type": "code",
   "execution_count": 35,
   "id": "8f7ebb55",
   "metadata": {
    "execution": {
     "iopub.execute_input": "2023-05-22T23:36:33.776724Z",
     "iopub.status.busy": "2023-05-22T23:36:33.775954Z",
     "iopub.status.idle": "2023-05-22T23:36:33.782251Z",
     "shell.execute_reply": "2023-05-22T23:36:33.781331Z"
    },
    "papermill": {
     "duration": 0.048311,
     "end_time": "2023-05-22T23:36:33.784186",
     "exception": false,
     "start_time": "2023-05-22T23:36:33.735875",
     "status": "completed"
    },
    "tags": []
   },
   "outputs": [
    {
     "name": "stdout",
     "output_type": "stream",
     "text": [
      "Accuracy: 0.9166666666666666\n"
     ]
    }
   ],
   "source": [
    "print(\"Accuracy: \" + str(accuracy_score(y_true, y_pred)))\n",
    "import numpy as np\n",
    "from sklearn.metrics import accuracy_score"
   ]
  },
  {
   "cell_type": "code",
   "execution_count": 36,
   "id": "08ec34d2",
   "metadata": {
    "execution": {
     "iopub.execute_input": "2023-05-22T23:36:33.864067Z",
     "iopub.status.busy": "2023-05-22T23:36:33.863332Z",
     "iopub.status.idle": "2023-05-22T23:36:33.882327Z",
     "shell.execute_reply": "2023-05-22T23:36:33.881203Z"
    },
    "papermill": {
     "duration": 0.060605,
     "end_time": "2023-05-22T23:36:33.884239",
     "exception": false,
     "start_time": "2023-05-22T23:36:33.823634",
     "status": "completed"
    },
    "tags": []
   },
   "outputs": [
    {
     "name": "stdout",
     "output_type": "stream",
     "text": [
      "Top-1 Accuracy: 0.9166666666666666\n",
      "Top-2 Accuracy: 0.9794685990338164\n",
      "Top-3 Accuracy: 0.9891304347826086\n"
     ]
    }
   ],
   "source": [
    "# Calculate top-1 accuracy\n",
    "top1_acc = accuracy_score(y_true, y_pred)\n",
    "print(\"Top-1 Accuracy:\", top1_acc)\n",
    "\n",
    "# Calculate top-2 accuracy\n",
    "y_pred_top2 = np.argsort(-predictions, axis=1)[:, :2] # Get the top 2 predicted classes\n",
    "top2_acc = np.mean(np.array([y_true[i] in y_pred_top2[i] for i in range(len(y_true))]))\n",
    "print(\"Top-2 Accuracy:\", top2_acc)\n",
    "\n",
    "# Calculate top-3 accuracy\n",
    "y_pred_top3 = np.argsort(-predictions, axis=1)[:, :3] # Get the top 3 predicted classes\n",
    "top3_acc = np.mean(np.array([y_true[i] in y_pred_top3[i] for i in range(len(y_true))]))\n",
    "print(\"Top-3 Accuracy:\", top3_acc)\n",
    "from sklearn.metrics import f1_score"
   ]
  },
  {
   "cell_type": "markdown",
   "id": "b3c9ace4",
   "metadata": {
    "papermill": {
     "duration": 0.03888,
     "end_time": "2023-05-22T23:36:33.962876",
     "exception": false,
     "start_time": "2023-05-22T23:36:33.923996",
     "status": "completed"
    },
    "tags": []
   },
   "source": [
    "### Weighted Evaluation Measures"
   ]
  },
  {
   "cell_type": "code",
   "execution_count": 37,
   "id": "a84ab308",
   "metadata": {
    "execution": {
     "iopub.execute_input": "2023-05-22T23:36:34.042730Z",
     "iopub.status.busy": "2023-05-22T23:36:34.042147Z",
     "iopub.status.idle": "2023-05-22T23:36:34.067774Z",
     "shell.execute_reply": "2023-05-22T23:36:34.066725Z"
    },
    "papermill": {
     "duration": 0.067234,
     "end_time": "2023-05-22T23:36:34.069744",
     "exception": false,
     "start_time": "2023-05-22T23:36:34.002510",
     "status": "completed"
    },
    "tags": []
   },
   "outputs": [
    {
     "name": "stdout",
     "output_type": "stream",
     "text": [
      "Weighted Precision: 0.9153226853557154\n",
      "Weighted Recall: 0.9166666666666666\n",
      "Weighted F1-Score: 0.912813137483697\n",
      "Weighted Sensitivity: 0.9166666666666666\n",
      "Weighted Specificity: 0.8898481466169628\n",
      "weighted Roc score: 0.9784443949731012\n"
     ]
    }
   ],
   "source": [
    "print(\"Weighted Precision: \"+ str(precision_score(y_true, y_pred, average='weighted')))\n",
    "print(\"Weighted Recall: \"+ str(recall_score(y_true, y_pred, average='weighted')))\n",
    "print(\"Weighted F1-Score: \"+ str(f1_score(y_true, y_pred, average='weighted')))\n",
    "print(\"Weighted Sensitivity: \"+ str(sensitivity_score(y_true, y_pred, average='weighted')))\n",
    "print(\"Weighted Specificity: \"+ str(specificity_score(y_true, y_pred, average='weighted')))\n",
    "print(\"weighted Roc score: \" + str(roc_auc_score(y_true,y_prob,multi_class='ovr',average='weighted')))"
   ]
  },
  {
   "cell_type": "markdown",
   "id": "c11bea88",
   "metadata": {
    "papermill": {
     "duration": 0.038933,
     "end_time": "2023-05-22T23:36:34.148375",
     "exception": false,
     "start_time": "2023-05-22T23:36:34.109442",
     "status": "completed"
    },
    "tags": []
   },
   "source": [
    "### Macro Evaluation Measures"
   ]
  },
  {
   "cell_type": "code",
   "execution_count": 38,
   "id": "12de5288",
   "metadata": {
    "execution": {
     "iopub.execute_input": "2023-05-22T23:36:34.228590Z",
     "iopub.status.busy": "2023-05-22T23:36:34.227782Z",
     "iopub.status.idle": "2023-05-22T23:36:34.247570Z",
     "shell.execute_reply": "2023-05-22T23:36:34.246498Z"
    },
    "papermill": {
     "duration": 0.06188,
     "end_time": "2023-05-22T23:36:34.249590",
     "exception": false,
     "start_time": "2023-05-22T23:36:34.187710",
     "status": "completed"
    },
    "tags": []
   },
   "outputs": [
    {
     "name": "stdout",
     "output_type": "stream",
     "text": [
      "Macro Precision: 0.7775002928202205\n",
      "Macro Recall: 0.7603488326177402\n",
      "Macro F1-Score: 0.7586932939538593\n",
      "Macro Sensitivity: 0.7603488326177402\n",
      "Macro Specificity: 0.9723592590405185\n",
      "Macro Roc score: 0.9807543533039622\n"
     ]
    }
   ],
   "source": [
    "print(\"Macro Precision: \"+ str(precision_score(y_true, y_pred, average='macro')))\n",
    "print(\"Macro Recall: \"+ str(recall_score(y_true, y_pred, average='macro')))\n",
    "print(\"Macro F1-Score: \"+ str(f1_score(y_true, y_pred, average='macro')))\n",
    "print(\"Macro Sensitivity: \"+ str(sensitivity_score(y_true, y_pred, average='macro')))\n",
    "print(\"Macro Specificity: \"+ str(specificity_score(y_true, y_pred, average='macro')))\n",
    "print(\"Macro Roc score: \" + str(roc_auc_score(y_true,y_prob,multi_class='ovr',average='macro')))"
   ]
  },
  {
   "cell_type": "markdown",
   "id": "8ceff47f",
   "metadata": {
    "papermill": {
     "duration": 0.039004,
     "end_time": "2023-05-22T23:36:34.327823",
     "exception": false,
     "start_time": "2023-05-22T23:36:34.288819",
     "status": "completed"
    },
    "tags": []
   },
   "source": [
    "### Micro Evaluation Measures"
   ]
  },
  {
   "cell_type": "code",
   "execution_count": 39,
   "id": "b7e3dc50",
   "metadata": {
    "execution": {
     "iopub.execute_input": "2023-05-22T23:36:34.407955Z",
     "iopub.status.busy": "2023-05-22T23:36:34.407204Z",
     "iopub.status.idle": "2023-05-22T23:36:34.421509Z",
     "shell.execute_reply": "2023-05-22T23:36:34.420449Z"
    },
    "papermill": {
     "duration": 0.056496,
     "end_time": "2023-05-22T23:36:34.423381",
     "exception": false,
     "start_time": "2023-05-22T23:36:34.366885",
     "status": "completed"
    },
    "tags": []
   },
   "outputs": [
    {
     "name": "stdout",
     "output_type": "stream",
     "text": [
      "Micro Precision: 0.9166666666666666\n",
      "Micro Recall: 0.9166666666666666\n",
      "Micro F1-Score: 0.9166666666666666\n",
      "Micro Sensitivity: 0.9166666666666666\n",
      "Micro Specificity: 0.9861111111111112\n"
     ]
    }
   ],
   "source": [
    "print(\"Micro Precision: \"+ str(precision_score(y_true, y_pred, average='micro')))\n",
    "print(\"Micro Recall: \"+ str(recall_score(y_true, y_pred, average='micro')))\n",
    "print(\"Micro F1-Score: \"+ str(f1_score(y_true, y_pred, average='micro')))\n",
    "print(\"Micro Sensitivity: \"+ str(sensitivity_score(y_true, y_pred, average='micro')))\n",
    "print(\"Micro Specificity: \"+ str(specificity_score(y_true, y_pred, average='micro')))"
   ]
  },
  {
   "cell_type": "markdown",
   "id": "29a2ce54",
   "metadata": {
    "papermill": {
     "duration": 0.039205,
     "end_time": "2023-05-22T23:36:34.502447",
     "exception": false,
     "start_time": "2023-05-22T23:36:34.463242",
     "status": "completed"
    },
    "tags": []
   },
   "source": [
    "## ROC"
   ]
  },
  {
   "cell_type": "markdown",
   "id": "5cf0c3a7",
   "metadata": {
    "papermill": {
     "duration": 0.039136,
     "end_time": "2023-05-22T23:36:34.580730",
     "exception": false,
     "start_time": "2023-05-22T23:36:34.541594",
     "status": "completed"
    },
    "tags": []
   },
   "source": [
    "### Compute ROC curve and ROC area for each class"
   ]
  },
  {
   "cell_type": "code",
   "execution_count": 40,
   "id": "92fb4a09",
   "metadata": {
    "execution": {
     "iopub.execute_input": "2023-05-22T23:36:34.661116Z",
     "iopub.status.busy": "2023-05-22T23:36:34.660404Z",
     "iopub.status.idle": "2023-05-22T23:36:34.930960Z",
     "shell.execute_reply": "2023-05-22T23:36:34.930145Z"
    },
    "papermill": {
     "duration": 0.312825,
     "end_time": "2023-05-22T23:36:34.933001",
     "exception": false,
     "start_time": "2023-05-22T23:36:34.620176",
     "status": "completed"
    },
    "tags": []
   },
   "outputs": [
    {
     "data": {
      "image/png": "[encoded data removed]",
      "text/plain": [
       "<Figure size 640x480 with 1 Axes>"
      ]
     },
     "metadata": {},
     "output_type": "display_data"
    }
   ],
   "source": [
    "fpr = {}\n",
    "tpr = {}\n",
    "roc_auc = dict()\n",
    "for i in range(num_classes):\n",
    "    fpr[i], tpr[i], _ = roc_curve(y_test[:, i], y_prob[:, i], drop_intermediate=False)\n",
    "    roc_auc[i] = auc(fpr[i], tpr[i])\n",
    "\n",
    "\n",
    "# plot the ROC curve for each class\n",
    "for i in range(num_classes):\n",
    "    plt.plot(fpr[i], tpr[i], label='Class {}: AUC={:.3f}'.format(i, roc_auc[i]))\n",
    "\n",
    "plt.xlabel('False Positive Rate')\n",
    "plt.ylabel('True Positive Rate')\n",
    "plt.legend()\n",
    "plt.show()"
   ]
  },
  {
   "cell_type": "markdown",
   "id": "0457375a",
   "metadata": {
    "papermill": {
     "duration": 0.039732,
     "end_time": "2023-05-22T23:36:35.012715",
     "exception": false,
     "start_time": "2023-05-22T23:36:34.972983",
     "status": "completed"
    },
    "tags": []
   },
   "source": [
    "## MCC and Kappa Score"
   ]
  },
  {
   "cell_type": "code",
   "execution_count": 41,
   "id": "76d66752",
   "metadata": {
    "execution": {
     "iopub.execute_input": "2023-05-22T23:36:35.093589Z",
     "iopub.status.busy": "2023-05-22T23:36:35.093325Z",
     "iopub.status.idle": "2023-05-22T23:36:35.101707Z",
     "shell.execute_reply": "2023-05-22T23:36:35.100656Z"
    },
    "papermill": {
     "duration": 0.051208,
     "end_time": "2023-05-22T23:36:35.103599",
     "exception": false,
     "start_time": "2023-05-22T23:36:35.052391",
     "status": "completed"
    },
    "tags": []
   },
   "outputs": [
    {
     "name": "stdout",
     "output_type": "stream",
     "text": [
      "MCC: 75.90%\n",
      "Kappa Score: 75.81%\n"
     ]
    }
   ],
   "source": [
    "from sklearn.metrics import matthews_corrcoef, cohen_kappa_score\n",
    "\n",
    "# y_true are the true labels of the test set\n",
    "# y_pred are the predicted labels of the test set\n",
    "mcc = matthews_corrcoef(y_true, y_pred)\n",
    "kappa = cohen_kappa_score(y_true, y_pred)\n",
    "print(\"MCC: {:.2f}%\".format(mcc*100))\n",
    "print(\"Kappa Score: {:.2f}%\".format(kappa*100))"
   ]
  },
  {
   "cell_type": "code",
   "execution_count": 42,
   "id": "e50b03c3",
   "metadata": {
    "execution": {
     "iopub.execute_input": "2023-05-22T23:36:35.185929Z",
     "iopub.status.busy": "2023-05-22T23:36:35.184562Z",
     "iopub.status.idle": "2023-05-22T23:36:35.249792Z",
     "shell.execute_reply": "2023-05-22T23:36:35.248616Z"
    },
    "papermill": {
     "duration": 0.108255,
     "end_time": "2023-05-22T23:36:35.251818",
     "exception": false,
     "start_time": "2023-05-22T23:36:35.143563",
     "status": "completed"
    },
    "tags": []
   },
   "outputs": [
    {
     "name": "stdout",
     "output_type": "stream",
     "text": [
      "MCC per class:\n",
      "Class 0: 62.64%\n",
      "Class 1: 69.37%\n",
      "Class 2: 73.92%\n",
      "Class 3: 83.21%\n",
      "Class 4: 47.75%\n",
      "Class 5: 84.73%\n",
      "Class 6: 94.81%\n",
      "Kappa Score per class:\n",
      "Class 0: 62.64%\n",
      "Class 1: 69.37%\n",
      "Class 2: 73.57%\n",
      "Class 3: 83.21%\n",
      "Class 4: 44.62%\n",
      "Class 5: 84.72%\n",
      "Class 6: 94.68%\n"
     ]
    }
   ],
   "source": [
    "### Individual Class Wise MCC and Kappa\n",
    "\n",
    "from sklearn.metrics import confusion_matrix, matthews_corrcoef, cohen_kappa_score\n",
    "# y_true are the true labels of the test set\n",
    "# y_pred are the predicted labels of the test set\n",
    "conf_mat = confusion_matrix(y_true, y_pred)\n",
    "mcc_per_class = {}\n",
    "kappa_per_class = {}\n",
    "\n",
    "for i in range(len(conf_mat)):\n",
    "    tp = conf_mat[i][i]\n",
    "    fp = sum(conf_mat[:, i]) - tp\n",
    "    fn = sum(conf_mat[i, :]) - tp\n",
    "    tn = sum(sum(conf_mat)) - tp - fp - fn\n",
    "\n",
    "    mcc_per_class[i] = matthews_corrcoef([1 if x==i else 0 for x in y_true], [1 if x==i else 0 for x in y_pred])\n",
    "    kappa_per_class[i] = cohen_kappa_score([1 if x==i else 0 for x in y_true], [1 if x==i else 0 for x in y_pred])\n",
    "\n",
    "print(\"MCC per class:\")\n",
    "for i, mcc in mcc_per_class.items():\n",
    "    print(\"Class {}: {:.2f}%\".format(i, mcc*100))\n",
    "\n",
    "print(\"Kappa Score per class:\")\n",
    "for i, kappa in kappa_per_class.items():\n",
    "    print(\"Class {}: {:.2f}%\".format(i, kappa*100))"
   ]
  }
 ],
 "metadata": {
  "kernelspec": {
   "display_name": "Python 3",
   "language": "python",
   "name": "python3"
  },
  "language_info": {
   "codemirror_mode": {
    "name": "ipython",
    "version": 3
   },
   "file_extension": ".py",
   "mimetype": "text/x-python",
   "name": "python",
   "nbconvert_exporter": "python",
   "pygments_lexer": "ipython3",
   "version": "3.10.10"
  },
  "papermill": {
   "default_parameters": {},
   "duration": 27022.692059,
   "end_time": "2023-05-22T23:36:38.411142",
   "environment_variables": {},
   "exception": null,
   "input_path": "__notebook__.ipynb",
   "output_path": "__notebook__.ipynb",
   "parameters": {},
   "start_time": "2023-05-22T16:06:15.719083",
   "version": "2.4.0"
  }
 },
 "nbformat": 4,
 "nbformat_minor": 5
}
