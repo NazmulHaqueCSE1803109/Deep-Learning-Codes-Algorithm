{
 "cells": [
  {
   "cell_type": "markdown",
   "id": "608b1bf6",
   "metadata": {
    "papermill": {
     "duration": 0.01562,
     "end_time": "2023-05-28T10:00:26.711197",
     "exception": false,
     "start_time": "2023-05-28T10:00:26.695577",
     "status": "completed"
    },
    "tags": []
   },
   "source": [
    "# Libraries"
   ]
  },
  {
   "cell_type": "code",
   "execution_count": 1,
   "id": "f27083f5",
   "metadata": {
    "execution": {
     "iopub.execute_input": "2023-05-28T10:00:26.742216Z",
     "iopub.status.busy": "2023-05-28T10:00:26.741469Z",
     "iopub.status.idle": "2023-05-28T10:00:34.748129Z",
     "shell.execute_reply": "2023-05-28T10:00:34.747227Z"
    },
    "id": "Aa36bMKLze3z",
    "papermill": {
     "duration": 8.024868,
     "end_time": "2023-05-28T10:00:34.750776",
     "exception": false,
     "start_time": "2023-05-28T10:00:26.725908",
     "status": "completed"
    },
    "tags": []
   },
   "outputs": [
    {
     "name": "stderr",
     "output_type": "stream",
     "text": [
      "/opt/conda/lib/python3.10/site-packages/tensorflow_io/python/ops/__init__.py:98: UserWarning: unable to load libtensorflow_io_plugins.so: unable to open file: libtensorflow_io_plugins.so, from paths: ['/opt/conda/lib/python3.10/site-packages/tensorflow_io/python/ops/libtensorflow_io_plugins.so']\n",
      "caused by: ['/opt/conda/lib/python3.10/site-packages/tensorflow_io/python/ops/libtensorflow_io_plugins.so: undefined symbol: _ZN3tsl6StatusC1EN10tensorflow5error4CodeESt17basic_string_viewIcSt11char_traitsIcEENS_14SourceLocationE']\n",
      "  warnings.warn(f\"unable to load libtensorflow_io_plugins.so: {e}\")\n",
      "/opt/conda/lib/python3.10/site-packages/tensorflow_io/python/ops/__init__.py:104: UserWarning: file system plugins are not loaded: unable to open file: libtensorflow_io.so, from paths: ['/opt/conda/lib/python3.10/site-packages/tensorflow_io/python/ops/libtensorflow_io.so']\n",
      "caused by: ['/opt/conda/lib/python3.10/site-packages/tensorflow_io/python/ops/libtensorflow_io.so: undefined symbol: _ZTVN10tensorflow13GcsFileSystemE']\n",
      "  warnings.warn(f\"file system plugins are not loaded: {e}\")\n"
     ]
    }
   ],
   "source": [
    "import pandas as pd\n",
    "import numpy as np\n",
    "import os\n",
    "import tensorflow as tf\n",
    "import cv2\n",
    "from keras import backend as K\n",
    "from keras.layers import Layer, InputSpec\n",
    "import keras.layers as kl\n",
    "from glob import glob\n",
    "from sklearn.metrics import roc_curve, auc\n",
    "from keras.preprocessing import image\n",
    "from tensorflow.keras.models import Sequential\n",
    "from sklearn.metrics import roc_auc_score\n",
    "from tensorflow.keras import callbacks \n",
    "from tensorflow.keras.callbacks import ModelCheckpoint, EarlyStopping\n",
    "from  matplotlib import pyplot as plt\n",
    "from tensorflow.keras import Model\n",
    "from tensorflow.keras.layers import concatenate, Dense, Conv2D, MaxPooling2D, Flatten, Input, Activation, add, AveragePooling2D, BatchNormalization, Dropout, GlobalAveragePooling2D, GlobalMaxPooling2D\n",
    "%matplotlib inline\n",
    "import shutil\n",
    "from sklearn.metrics import  precision_score, recall_score, accuracy_score, classification_report, confusion_matrix\n",
    "from tensorflow.python.platform import build_info as tf_build_info\n",
    "from tensorflow.keras.preprocessing.image import ImageDataGenerator\n",
    "from sklearn.model_selection import train_test_split\n",
    "\n",
    "from PIL import ImageFile\n",
    "ImageFile.LOAD_TRUNCATED_IMAGES = True"
   ]
  },
  {
   "cell_type": "code",
   "execution_count": 2,
   "id": "22b70af7",
   "metadata": {
    "execution": {
     "iopub.execute_input": "2023-05-28T10:00:34.783298Z",
     "iopub.status.busy": "2023-05-28T10:00:34.782054Z",
     "iopub.status.idle": "2023-05-28T10:00:34.787264Z",
     "shell.execute_reply": "2023-05-28T10:00:34.786490Z"
    },
    "id": "PsoqCvNsgmHP",
    "papermill": {
     "duration": 0.022822,
     "end_time": "2023-05-28T10:00:34.789125",
     "exception": false,
     "start_time": "2023-05-28T10:00:34.766303",
     "status": "completed"
    },
    "tags": []
   },
   "outputs": [],
   "source": [
    "targetnames = ['akiec', 'bcc', 'bkl', 'df', 'mel', 'nv', 'vasc']\n",
    "batch_size = 16\n",
    "image_size = 224"
   ]
  },
  {
   "cell_type": "code",
   "execution_count": 3,
   "id": "db63fc1e",
   "metadata": {
    "execution": {
     "iopub.execute_input": "2023-05-28T10:00:34.821127Z",
     "iopub.status.busy": "2023-05-28T10:00:34.820352Z",
     "iopub.status.idle": "2023-05-28T10:00:34.824832Z",
     "shell.execute_reply": "2023-05-28T10:00:34.824049Z"
    },
    "id": "wNisha_gM3_Z",
    "papermill": {
     "duration": 0.022875,
     "end_time": "2023-05-28T10:00:34.826717",
     "exception": false,
     "start_time": "2023-05-28T10:00:34.803842",
     "status": "completed"
    },
    "tags": []
   },
   "outputs": [],
   "source": [
    "train_path = '/kaggle/input/splitted-and-augmented-ham-15/Splitted_And_Augmented_HAM_15/HAM10K/train_dir'\n",
    "test_path = '/kaggle/input/splitted-and-augmented-ham-15/Splitted_And_Augmented_HAM_15/HAM10K/test_dir'\n",
    "val_path = '/kaggle/input/splitted-and-augmented-ham-15/Splitted_And_Augmented_HAM_15/HAM10K/val_dir'"
   ]
  },
  {
   "cell_type": "markdown",
   "id": "c1f55fee",
   "metadata": {
    "papermill": {
     "duration": 0.014567,
     "end_time": "2023-05-28T10:00:34.856080",
     "exception": false,
     "start_time": "2023-05-28T10:00:34.841513",
     "status": "completed"
    },
    "tags": []
   },
   "source": [
    "# Dataset generation (Train, Test, Validation)"
   ]
  },
  {
   "cell_type": "code",
   "execution_count": 4,
   "id": "67ee32ee",
   "metadata": {
    "execution": {
     "iopub.execute_input": "2023-05-28T10:00:34.887320Z",
     "iopub.status.busy": "2023-05-28T10:00:34.886494Z",
     "iopub.status.idle": "2023-05-28T10:00:34.895081Z",
     "shell.execute_reply": "2023-05-28T10:00:34.894107Z"
    },
    "id": "zhQWqdRN79B3",
    "papermill": {
     "duration": 0.026898,
     "end_time": "2023-05-28T10:00:34.897777",
     "exception": false,
     "start_time": "2023-05-28T10:00:34.870879",
     "status": "completed"
    },
    "tags": []
   },
   "outputs": [],
   "source": [
    "datagen = ImageDataGenerator(preprocessing_function=tf.keras.applications.densenet.preprocess_input)"
   ]
  },
  {
   "cell_type": "code",
   "execution_count": 5,
   "id": "df18cd77",
   "metadata": {
    "execution": {
     "iopub.execute_input": "2023-05-28T10:00:34.931255Z",
     "iopub.status.busy": "2023-05-28T10:00:34.930998Z",
     "iopub.status.idle": "2023-05-28T10:01:05.308209Z",
     "shell.execute_reply": "2023-05-28T10:01:05.307322Z"
    },
    "id": "w9_8FvOO7Rtu",
    "outputId": "7ca88c24-fda8-45d6-cb32-f3a43ae6ba5b",
    "papermill": {
     "duration": 30.395301,
     "end_time": "2023-05-28T10:01:05.310340",
     "exception": false,
     "start_time": "2023-05-28T10:00:34.915039",
     "status": "completed"
    },
    "tags": []
   },
   "outputs": [
    {
     "name": "stdout",
     "output_type": "stream",
     "text": [
      "\n",
      "Train Batches: \n",
      "Found 54782 images belonging to 7 classes.\n",
      "\n",
      "Test Batches: \n",
      "Found 828 images belonging to 7 classes.\n",
      "\n",
      "Val Batches: \n",
      "Found 827 images belonging to 7 classes.\n"
     ]
    }
   ],
   "source": [
    "print(\"\\nTrain Batches: \")\n",
    "train_batches = datagen.flow_from_directory(directory=train_path,\n",
    "                                            target_size=(image_size,image_size),\n",
    "                                            batch_size=batch_size,\n",
    "                                            shuffle=True)\n",
    "\n",
    "print(\"\\nTest Batches: \")\n",
    "test_batches = datagen.flow_from_directory(test_path,\n",
    "                                          target_size=(image_size,image_size),\n",
    "                                          batch_size=batch_size,\n",
    "                                          shuffle=False)\n",
    "print(\"\\nVal Batches: \")\n",
    "val_batches = datagen.flow_from_directory(val_path,\n",
    "                                         target_size=(image_size,image_size),\n",
    "                                         batch_size=batch_size,\n",
    "                                         shuffle=False)"
   ]
  },
  {
   "cell_type": "markdown",
   "id": "f0e459d8",
   "metadata": {
    "papermill": {
     "duration": 0.015392,
     "end_time": "2023-05-28T10:01:05.341553",
     "exception": false,
     "start_time": "2023-05-28T10:01:05.326161",
     "status": "completed"
    },
    "tags": []
   },
   "source": [
    "# Main Model Creation"
   ]
  },
  {
   "cell_type": "markdown",
   "id": "cedb8e1d",
   "metadata": {
    "papermill": {
     "duration": 0.015138,
     "end_time": "2023-05-28T10:01:05.372159",
     "exception": false,
     "start_time": "2023-05-28T10:01:05.357021",
     "status": "completed"
    },
    "tags": []
   },
   "source": [
    "### Squeeze and Excitation Attention"
   ]
  },
  {
   "cell_type": "code",
   "execution_count": 6,
   "id": "1fd68acd",
   "metadata": {
    "execution": {
     "iopub.execute_input": "2023-05-28T10:01:05.405529Z",
     "iopub.status.busy": "2023-05-28T10:01:05.404382Z",
     "iopub.status.idle": "2023-05-28T10:01:05.411000Z",
     "shell.execute_reply": "2023-05-28T10:01:05.410110Z"
    },
    "papermill": {
     "duration": 0.026059,
     "end_time": "2023-05-28T10:01:05.413878",
     "exception": false,
     "start_time": "2023-05-28T10:01:05.387819",
     "status": "completed"
    },
    "tags": []
   },
   "outputs": [],
   "source": [
    "def squeeze_excite_block(input, filters, se_ratio):\n",
    "    # Squeeze step\n",
    "    se = tf.keras.layers.GlobalAveragePooling2D()(input)\n",
    "    se = tf.keras.layers.Dense(filters // se_ratio, activation='relu')(se)\n",
    "    se = tf.keras.layers.Dense(filters, activation='softmax')(se)\n",
    "    # Excitation step\n",
    "    x = tf.keras.layers.multiply([input, se])\n",
    "    return x"
   ]
  },
  {
   "cell_type": "markdown",
   "id": "13972371",
   "metadata": {
    "papermill": {
     "duration": 0.015202,
     "end_time": "2023-05-28T10:01:05.445132",
     "exception": false,
     "start_time": "2023-05-28T10:01:05.429930",
     "status": "completed"
    },
    "tags": []
   },
   "source": [
    "### Define Model"
   ]
  },
  {
   "cell_type": "code",
   "execution_count": 7,
   "id": "070ae577",
   "metadata": {
    "execution": {
     "iopub.execute_input": "2023-05-28T10:01:05.478479Z",
     "iopub.status.busy": "2023-05-28T10:01:05.477580Z",
     "iopub.status.idle": "2023-05-28T10:01:13.167505Z",
     "shell.execute_reply": "2023-05-28T10:01:13.166489Z"
    },
    "id": "zhQWqdRN79B3",
    "papermill": {
     "duration": 7.709558,
     "end_time": "2023-05-28T10:01:13.170133",
     "exception": false,
     "start_time": "2023-05-28T10:01:05.460575",
     "status": "completed"
    },
    "tags": []
   },
   "outputs": [
    {
     "name": "stdout",
     "output_type": "stream",
     "text": [
      "Downloading data from https://storage.googleapis.com/tensorflow/keras-applications/densenet/densenet121_weights_tf_dim_ordering_tf_kernels_notop.h5\n",
      "29084464/29084464 [==============================] - 1s 0us/step\n"
     ]
    }
   ],
   "source": [
    "from tensorflow.keras.applications.densenet import DenseNet121\n",
    "# Create a new instance of DenseNet121\n",
    "DN121 = DenseNet121(weights='imagenet', include_top=False, input_shape=(image_size, image_size, 3), pooling='avg')"
   ]
  },
  {
   "cell_type": "markdown",
   "id": "feef1050",
   "metadata": {
    "papermill": {
     "duration": 0.017202,
     "end_time": "2023-05-28T10:01:13.204875",
     "exception": false,
     "start_time": "2023-05-28T10:01:13.187673",
     "status": "completed"
    },
    "tags": []
   },
   "source": [
    "## Fine tuning"
   ]
  },
  {
   "cell_type": "code",
   "execution_count": 8,
   "id": "ebfec8a5",
   "metadata": {
    "execution": {
     "iopub.execute_input": "2023-05-28T10:01:13.241175Z",
     "iopub.status.busy": "2023-05-28T10:01:13.240290Z",
     "iopub.status.idle": "2023-05-28T10:01:13.246501Z",
     "shell.execute_reply": "2023-05-28T10:01:13.245467Z"
    },
    "id": "4d4Ta5LcSYaz",
    "papermill": {
     "duration": 0.026797,
     "end_time": "2023-05-28T10:01:13.248819",
     "exception": false,
     "start_time": "2023-05-28T10:01:13.222022",
     "status": "completed"
    },
    "tags": []
   },
   "outputs": [],
   "source": [
    "MainInput=Input(shape=(image_size, image_size, 3))"
   ]
  },
  {
   "cell_type": "code",
   "execution_count": 9,
   "id": "7b81d1dd",
   "metadata": {
    "execution": {
     "iopub.execute_input": "2023-05-28T10:01:13.283900Z",
     "iopub.status.busy": "2023-05-28T10:01:13.283625Z",
     "iopub.status.idle": "2023-05-28T10:01:14.186656Z",
     "shell.execute_reply": "2023-05-28T10:01:14.185720Z"
    },
    "papermill": {
     "duration": 0.923221,
     "end_time": "2023-05-28T10:01:14.188986",
     "exception": false,
     "start_time": "2023-05-28T10:01:13.265765",
     "status": "completed"
    },
    "tags": []
   },
   "outputs": [],
   "source": [
    "dn121 = DN121(MainInput)"
   ]
  },
  {
   "cell_type": "code",
   "execution_count": 10,
   "id": "970e2739",
   "metadata": {
    "execution": {
     "iopub.execute_input": "2023-05-28T10:01:14.225005Z",
     "iopub.status.busy": "2023-05-28T10:01:14.224707Z",
     "iopub.status.idle": "2023-05-28T10:01:14.239521Z",
     "shell.execute_reply": "2023-05-28T10:01:14.238694Z"
    },
    "papermill": {
     "duration": 0.034967,
     "end_time": "2023-05-28T10:01:14.241432",
     "exception": false,
     "start_time": "2023-05-28T10:01:14.206465",
     "status": "completed"
    },
    "tags": []
   },
   "outputs": [],
   "source": [
    "# Reshape the tensor to have 4 dimensions\n",
    "from tensorflow.keras.layers import Reshape\n",
    "reshape = Reshape((16, 16, 4))(dn121)"
   ]
  },
  {
   "cell_type": "code",
   "execution_count": 11,
   "id": "e02a6c75",
   "metadata": {
    "execution": {
     "iopub.execute_input": "2023-05-28T10:01:14.276745Z",
     "iopub.status.busy": "2023-05-28T10:01:14.276487Z",
     "iopub.status.idle": "2023-05-28T10:01:14.367111Z",
     "shell.execute_reply": "2023-05-28T10:01:14.366313Z"
    },
    "id": "x8mS99J5SYbT",
    "papermill": {
     "duration": 0.110591,
     "end_time": "2023-05-28T10:01:14.369076",
     "exception": false,
     "start_time": "2023-05-28T10:01:14.258485",
     "status": "completed"
    },
    "tags": []
   },
   "outputs": [],
   "source": [
    "# Add convolutional layers with Channel Attention\n",
    "conv = Conv2D(filters=128, kernel_size=(7, 7), activation=\"relu\", padding=\"same\", kernel_initializer='he_normal')(reshape)\n",
    "conv = BatchNormalization()(conv)\n",
    "conv = Conv2D(filters=128, kernel_size=(5, 5), activation=\"relu\", padding=\"same\", kernel_initializer='he_normal')(conv)\n",
    "conv = BatchNormalization()(conv)\n",
    "conv = Conv2D(filters=128, kernel_size=(3, 3), activation=\"relu\", padding=\"same\", kernel_initializer='he_normal')(conv)\n",
    "conv = BatchNormalization()(conv)\n",
    "conv = Conv2D(filters=128, kernel_size=(1, 1), activation=\"relu\", padding=\"same\", kernel_initializer='he_normal')(conv)\n",
    "conv = BatchNormalization()(conv)"
   ]
  },
  {
   "cell_type": "code",
   "execution_count": 12,
   "id": "f35afb89",
   "metadata": {
    "execution": {
     "iopub.execute_input": "2023-05-28T10:01:14.404777Z",
     "iopub.status.busy": "2023-05-28T10:01:14.404264Z",
     "iopub.status.idle": "2023-05-28T10:01:14.445563Z",
     "shell.execute_reply": "2023-05-28T10:01:14.444755Z"
    },
    "papermill": {
     "duration": 0.061351,
     "end_time": "2023-05-28T10:01:14.447479",
     "exception": false,
     "start_time": "2023-05-28T10:01:14.386128",
     "status": "completed"
    },
    "tags": []
   },
   "outputs": [],
   "source": [
    "image_size_2 = 16\n",
    "from tensorflow.keras.layers import Reshape\n",
    "conv = Reshape(target_shape=(image_size_2, image_size_2, 128,))(conv)\n",
    "x = squeeze_excite_block(conv, 128, 128)  # use same number of filters as the input tensor"
   ]
  },
  {
   "cell_type": "code",
   "execution_count": 13,
   "id": "a7972af3",
   "metadata": {
    "execution": {
     "iopub.execute_input": "2023-05-28T10:01:14.483995Z",
     "iopub.status.busy": "2023-05-28T10:01:14.482633Z",
     "iopub.status.idle": "2023-05-28T10:01:14.566185Z",
     "shell.execute_reply": "2023-05-28T10:01:14.565245Z"
    },
    "papermill": {
     "duration": 0.103515,
     "end_time": "2023-05-28T10:01:14.568099",
     "exception": false,
     "start_time": "2023-05-28T10:01:14.464584",
     "status": "completed"
    },
    "tags": []
   },
   "outputs": [],
   "source": [
    "# Add convolutional layers with Channel Attention\n",
    "conv = Conv2D(filters=128, kernel_size=(7, 7), activation=\"relu\", padding=\"same\", kernel_initializer='he_normal')(x)\n",
    "conv = BatchNormalization()(conv)\n",
    "conv = Conv2D(filters=128, kernel_size=(5, 5), activation=\"relu\", padding=\"same\", kernel_initializer='he_normal')(conv)\n",
    "conv = BatchNormalization()(conv)\n",
    "conv = Conv2D(filters=128, kernel_size=(3, 3), activation=\"relu\", padding=\"same\", kernel_initializer='he_normal')(conv)\n",
    "conv = BatchNormalization()(conv)\n",
    "conv = Conv2D(filters=128, kernel_size=(1, 1), activation=\"relu\", padding=\"same\", kernel_initializer='he_normal')(conv)\n",
    "conv = BatchNormalization()(conv)"
   ]
  },
  {
   "cell_type": "code",
   "execution_count": 14,
   "id": "c0eb5b60",
   "metadata": {
    "execution": {
     "iopub.execute_input": "2023-05-28T10:01:14.603659Z",
     "iopub.status.busy": "2023-05-28T10:01:14.603147Z",
     "iopub.status.idle": "2023-05-28T10:01:14.611088Z",
     "shell.execute_reply": "2023-05-28T10:01:14.610318Z"
    },
    "id": "wfhLPhssAm2S",
    "papermill": {
     "duration": 0.027807,
     "end_time": "2023-05-28T10:01:14.613126",
     "exception": false,
     "start_time": "2023-05-28T10:01:14.585319",
     "status": "completed"
    },
    "tags": []
   },
   "outputs": [],
   "source": [
    "conv=(MaxPooling2D(strides=(2, 2),padding=\"same\")(conv))"
   ]
  },
  {
   "cell_type": "code",
   "execution_count": 15,
   "id": "df1a528b",
   "metadata": {
    "execution": {
     "iopub.execute_input": "2023-05-28T10:01:14.648855Z",
     "iopub.status.busy": "2023-05-28T10:01:14.648608Z",
     "iopub.status.idle": "2023-05-28T10:01:14.737643Z",
     "shell.execute_reply": "2023-05-28T10:01:14.736848Z"
    },
    "id": "sW4tKg9wSYbk",
    "papermill": {
     "duration": 0.10925,
     "end_time": "2023-05-28T10:01:14.739625",
     "exception": false,
     "start_time": "2023-05-28T10:01:14.630375",
     "status": "completed"
    },
    "tags": []
   },
   "outputs": [],
   "source": [
    "conv = Conv2D(filters=256,kernel_size=(7,7), activation=\"relu\",padding=\"same\",kernel_initializer='he_normal')(conv)\n",
    "conv = BatchNormalization()(conv)\n",
    "conv = Conv2D(filters=256,kernel_size=(5,5), activation=\"relu\",padding=\"same\",kernel_initializer='he_normal')(conv)\n",
    "conv = BatchNormalization()(conv)\n",
    "conv = Conv2D(filters=256,kernel_size=(3,3), activation=\"relu\",padding=\"same\",kernel_initializer='he_normal')(conv)\n",
    "conv = BatchNormalization()(conv)\n",
    "conv = Conv2D(filters=256,kernel_size=(1,1), activation=\"relu\",padding=\"same\",kernel_initializer='he_normal')(conv)\n",
    "conv = BatchNormalization()(conv)"
   ]
  },
  {
   "cell_type": "code",
   "execution_count": 16,
   "id": "4cb5d39e",
   "metadata": {
    "execution": {
     "iopub.execute_input": "2023-05-28T10:01:14.775463Z",
     "iopub.status.busy": "2023-05-28T10:01:14.774658Z",
     "iopub.status.idle": "2023-05-28T10:01:14.813828Z",
     "shell.execute_reply": "2023-05-28T10:01:14.812878Z"
    },
    "papermill": {
     "duration": 0.059137,
     "end_time": "2023-05-28T10:01:14.815865",
     "exception": false,
     "start_time": "2023-05-28T10:01:14.756728",
     "status": "completed"
    },
    "tags": []
   },
   "outputs": [],
   "source": [
    "image_size_3 = 8\n",
    "from tensorflow.keras.layers import Reshape\n",
    "conv = Reshape(target_shape=(image_size_3, image_size_3, 256,))(conv)\n",
    "x = squeeze_excite_block(conv, 256, 256)  # use same number of filters as the input tensor"
   ]
  },
  {
   "cell_type": "code",
   "execution_count": 17,
   "id": "3556d16b",
   "metadata": {
    "execution": {
     "iopub.execute_input": "2023-05-28T10:01:14.851248Z",
     "iopub.status.busy": "2023-05-28T10:01:14.850993Z",
     "iopub.status.idle": "2023-05-28T10:01:14.964557Z",
     "shell.execute_reply": "2023-05-28T10:01:14.963633Z"
    },
    "papermill": {
     "duration": 0.133908,
     "end_time": "2023-05-28T10:01:14.966772",
     "exception": false,
     "start_time": "2023-05-28T10:01:14.832864",
     "status": "completed"
    },
    "tags": []
   },
   "outputs": [],
   "source": [
    "conv = Conv2D(filters=256,kernel_size=(7,7), activation=\"relu\",padding=\"same\",kernel_initializer='he_normal')(x)\n",
    "conv = BatchNormalization()(conv)\n",
    "conv = Conv2D(filters=256,kernel_size=(5,5), activation=\"relu\",padding=\"same\",kernel_initializer='he_normal')(conv)\n",
    "conv = BatchNormalization()(conv)\n",
    "conv = Conv2D(filters=256,kernel_size=(3,3), activation=\"relu\",padding=\"same\",kernel_initializer='he_normal')(conv)\n",
    "conv = BatchNormalization()(conv)\n",
    "conv = Conv2D(filters=256,kernel_size=(1,1), activation=\"relu\",padding=\"same\",kernel_initializer='he_normal')(conv)\n",
    "conv = BatchNormalization()(conv)"
   ]
  },
  {
   "cell_type": "code",
   "execution_count": 18,
   "id": "c3cf7a19",
   "metadata": {
    "execution": {
     "iopub.execute_input": "2023-05-28T10:01:15.003465Z",
     "iopub.status.busy": "2023-05-28T10:01:15.002676Z",
     "iopub.status.idle": "2023-05-28T10:01:15.010942Z",
     "shell.execute_reply": "2023-05-28T10:01:15.010140Z"
    },
    "id": "eo8E7RxUSYcW",
    "papermill": {
     "duration": 0.028634,
     "end_time": "2023-05-28T10:01:15.012885",
     "exception": false,
     "start_time": "2023-05-28T10:01:14.984251",
     "status": "completed"
    },
    "tags": []
   },
   "outputs": [],
   "source": [
    "conv=(MaxPooling2D(pool_size=(2, 2),padding=\"same\")(conv))"
   ]
  },
  {
   "cell_type": "code",
   "execution_count": 19,
   "id": "7d0a7030",
   "metadata": {
    "execution": {
     "iopub.execute_input": "2023-05-28T10:01:15.048268Z",
     "iopub.status.busy": "2023-05-28T10:01:15.048013Z",
     "iopub.status.idle": "2023-05-28T10:01:15.054068Z",
     "shell.execute_reply": "2023-05-28T10:01:15.053226Z"
    },
    "papermill": {
     "duration": 0.026286,
     "end_time": "2023-05-28T10:01:15.056136",
     "exception": false,
     "start_time": "2023-05-28T10:01:15.029850",
     "status": "completed"
    },
    "tags": []
   },
   "outputs": [
    {
     "name": "stdout",
     "output_type": "stream",
     "text": [
      "7\n"
     ]
    }
   ],
   "source": [
    "num_classes = test_batches.num_classes\n",
    "print(num_classes)"
   ]
  },
  {
   "cell_type": "code",
   "execution_count": 20,
   "id": "be216f4f",
   "metadata": {
    "execution": {
     "iopub.execute_input": "2023-05-28T10:01:15.091874Z",
     "iopub.status.busy": "2023-05-28T10:01:15.091614Z",
     "iopub.status.idle": "2023-05-28T10:01:15.138362Z",
     "shell.execute_reply": "2023-05-28T10:01:15.137557Z"
    },
    "id": "-EdFxKdgSYcf",
    "papermill": {
     "duration": 0.066961,
     "end_time": "2023-05-28T10:01:15.140319",
     "exception": false,
     "start_time": "2023-05-28T10:01:15.073358",
     "status": "completed"
    },
    "tags": []
   },
   "outputs": [],
   "source": [
    "conv=(Flatten()(conv))\n",
    "conv=(Dense(1024,activation=\"relu\")(conv))\n",
    "conv=(Dense(512,activation=\"relu\")(conv))\n",
    "conv=(Dense(num_classes, activation=\"softmax\")(conv))\n",
    "\n",
    "model_dn121_sea = Model(inputs=MainInput, outputs=conv)"
   ]
  },
  {
   "cell_type": "code",
   "execution_count": 21,
   "id": "66aa3b6a",
   "metadata": {
    "execution": {
     "iopub.execute_input": "2023-05-28T10:01:15.176124Z",
     "iopub.status.busy": "2023-05-28T10:01:15.175859Z",
     "iopub.status.idle": "2023-05-28T10:01:15.333527Z",
     "shell.execute_reply": "2023-05-28T10:01:15.332848Z"
    },
    "id": "ba8ajOckSYcl",
    "outputId": "e69fa749-4741-4f49-ae3e-9f5479e809a8",
    "papermill": {
     "duration": 0.22245,
     "end_time": "2023-05-28T10:01:15.380177",
     "exception": false,
     "start_time": "2023-05-28T10:01:15.157727",
     "status": "completed"
    },
    "tags": []
   },
   "outputs": [
    {
     "name": "stdout",
     "output_type": "stream",
     "text": [
      "Model: \"model\"\n",
      "__________________________________________________________________________________________________\n",
      " Layer (type)                   Output Shape         Param #     Connected to                     \n",
      "==================================================================================================\n",
      " input_2 (InputLayer)           [(None, 224, 224, 3  0           []                               \n",
      "                                )]                                                                \n",
      "                                                                                                  \n",
      " densenet121 (Functional)       (None, 1024)         7037504     ['input_2[0][0]']                \n",
      "                                                                                                  \n",
      " reshape (Reshape)              (None, 16, 16, 4)    0           ['densenet121[0][0]']            \n",
      "                                                                                                  \n",
      " conv2d (Conv2D)                (None, 16, 16, 128)  25216       ['reshape[0][0]']                \n",
      "                                                                                                  \n",
      " batch_normalization (BatchNorm  (None, 16, 16, 128)  512        ['conv2d[0][0]']                 \n",
      " alization)                                                                                       \n",
      "                                                                                                  \n",
      " conv2d_1 (Conv2D)              (None, 16, 16, 128)  409728      ['batch_normalization[0][0]']    \n",
      "                                                                                                  \n",
      " batch_normalization_1 (BatchNo  (None, 16, 16, 128)  512        ['conv2d_1[0][0]']               \n",
      " rmalization)                                                                                     \n",
      "                                                                                                  \n",
      " conv2d_2 (Conv2D)              (None, 16, 16, 128)  147584      ['batch_normalization_1[0][0]']  \n",
      "                                                                                                  \n",
      " batch_normalization_2 (BatchNo  (None, 16, 16, 128)  512        ['conv2d_2[0][0]']               \n",
      " rmalization)                                                                                     \n",
      "                                                                                                  \n",
      " conv2d_3 (Conv2D)              (None, 16, 16, 128)  16512       ['batch_normalization_2[0][0]']  \n",
      "                                                                                                  \n",
      " batch_normalization_3 (BatchNo  (None, 16, 16, 128)  512        ['conv2d_3[0][0]']               \n",
      " rmalization)                                                                                     \n",
      "                                                                                                  \n",
      " reshape_1 (Reshape)            (None, 16, 16, 128)  0           ['batch_normalization_3[0][0]']  \n",
      "                                                                                                  \n",
      " global_average_pooling2d (Glob  (None, 128)         0           ['reshape_1[0][0]']              \n",
      " alAveragePooling2D)                                                                              \n",
      "                                                                                                  \n",
      " dense (Dense)                  (None, 1)            129         ['global_average_pooling2d[0][0]'\n",
      "                                                                 ]                                \n",
      "                                                                                                  \n",
      " dense_1 (Dense)                (None, 128)          256         ['dense[0][0]']                  \n",
      "                                                                                                  \n",
      " multiply (Multiply)            (None, 16, 16, 128)  0           ['reshape_1[0][0]',              \n",
      "                                                                  'dense_1[0][0]']                \n",
      "                                                                                                  \n",
      " conv2d_4 (Conv2D)              (None, 16, 16, 128)  802944      ['multiply[0][0]']               \n",
      "                                                                                                  \n",
      " batch_normalization_4 (BatchNo  (None, 16, 16, 128)  512        ['conv2d_4[0][0]']               \n",
      " rmalization)                                                                                     \n",
      "                                                                                                  \n",
      " conv2d_5 (Conv2D)              (None, 16, 16, 128)  409728      ['batch_normalization_4[0][0]']  \n",
      "                                                                                                  \n",
      " batch_normalization_5 (BatchNo  (None, 16, 16, 128)  512        ['conv2d_5[0][0]']               \n",
      " rmalization)                                                                                     \n",
      "                                                                                                  \n",
      " conv2d_6 (Conv2D)              (None, 16, 16, 128)  147584      ['batch_normalization_5[0][0]']  \n",
      "                                                                                                  \n",
      " batch_normalization_6 (BatchNo  (None, 16, 16, 128)  512        ['conv2d_6[0][0]']               \n",
      " rmalization)                                                                                     \n",
      "                                                                                                  \n",
      " conv2d_7 (Conv2D)              (None, 16, 16, 128)  16512       ['batch_normalization_6[0][0]']  \n",
      "                                                                                                  \n",
      " batch_normalization_7 (BatchNo  (None, 16, 16, 128)  512        ['conv2d_7[0][0]']               \n",
      " rmalization)                                                                                     \n",
      "                                                                                                  \n",
      " max_pooling2d (MaxPooling2D)   (None, 8, 8, 128)    0           ['batch_normalization_7[0][0]']  \n",
      "                                                                                                  \n",
      " conv2d_8 (Conv2D)              (None, 8, 8, 256)    1605888     ['max_pooling2d[0][0]']          \n",
      "                                                                                                  \n",
      " batch_normalization_8 (BatchNo  (None, 8, 8, 256)   1024        ['conv2d_8[0][0]']               \n",
      " rmalization)                                                                                     \n",
      "                                                                                                  \n",
      " conv2d_9 (Conv2D)              (None, 8, 8, 256)    1638656     ['batch_normalization_8[0][0]']  \n",
      "                                                                                                  \n",
      " batch_normalization_9 (BatchNo  (None, 8, 8, 256)   1024        ['conv2d_9[0][0]']               \n",
      " rmalization)                                                                                     \n",
      "                                                                                                  \n",
      " conv2d_10 (Conv2D)             (None, 8, 8, 256)    590080      ['batch_normalization_9[0][0]']  \n",
      "                                                                                                  \n",
      " batch_normalization_10 (BatchN  (None, 8, 8, 256)   1024        ['conv2d_10[0][0]']              \n",
      " ormalization)                                                                                    \n",
      "                                                                                                  \n",
      " conv2d_11 (Conv2D)             (None, 8, 8, 256)    65792       ['batch_normalization_10[0][0]'] \n",
      "                                                                                                  \n",
      " batch_normalization_11 (BatchN  (None, 8, 8, 256)   1024        ['conv2d_11[0][0]']              \n",
      " ormalization)                                                                                    \n",
      "                                                                                                  \n",
      " reshape_2 (Reshape)            (None, 8, 8, 256)    0           ['batch_normalization_11[0][0]'] \n",
      "                                                                                                  \n",
      " global_average_pooling2d_1 (Gl  (None, 256)         0           ['reshape_2[0][0]']              \n",
      " obalAveragePooling2D)                                                                            \n",
      "                                                                                                  \n",
      " dense_2 (Dense)                (None, 1)            257         ['global_average_pooling2d_1[0][0\n",
      "                                                                 ]']                              \n",
      "                                                                                                  \n",
      " dense_3 (Dense)                (None, 256)          512         ['dense_2[0][0]']                \n",
      "                                                                                                  \n",
      " multiply_1 (Multiply)          (None, 8, 8, 256)    0           ['reshape_2[0][0]',              \n",
      "                                                                  'dense_3[0][0]']                \n",
      "                                                                                                  \n",
      " conv2d_12 (Conv2D)             (None, 8, 8, 256)    3211520     ['multiply_1[0][0]']             \n",
      "                                                                                                  \n",
      " batch_normalization_12 (BatchN  (None, 8, 8, 256)   1024        ['conv2d_12[0][0]']              \n",
      " ormalization)                                                                                    \n",
      "                                                                                                  \n",
      " conv2d_13 (Conv2D)             (None, 8, 8, 256)    1638656     ['batch_normalization_12[0][0]'] \n",
      "                                                                                                  \n",
      " batch_normalization_13 (BatchN  (None, 8, 8, 256)   1024        ['conv2d_13[0][0]']              \n",
      " ormalization)                                                                                    \n",
      "                                                                                                  \n",
      " conv2d_14 (Conv2D)             (None, 8, 8, 256)    590080      ['batch_normalization_13[0][0]'] \n",
      "                                                                                                  \n",
      " batch_normalization_14 (BatchN  (None, 8, 8, 256)   1024        ['conv2d_14[0][0]']              \n",
      " ormalization)                                                                                    \n",
      "                                                                                                  \n",
      " conv2d_15 (Conv2D)             (None, 8, 8, 256)    65792       ['batch_normalization_14[0][0]'] \n",
      "                                                                                                  \n",
      " batch_normalization_15 (BatchN  (None, 8, 8, 256)   1024        ['conv2d_15[0][0]']              \n",
      " ormalization)                                                                                    \n",
      "                                                                                                  \n",
      " max_pooling2d_1 (MaxPooling2D)  (None, 4, 4, 256)   0           ['batch_normalization_15[0][0]'] \n",
      "                                                                                                  \n",
      " flatten (Flatten)              (None, 4096)         0           ['max_pooling2d_1[0][0]']        \n",
      "                                                                                                  \n",
      " dense_4 (Dense)                (None, 1024)         4195328     ['flatten[0][0]']                \n",
      "                                                                                                  \n",
      " dense_5 (Dense)                (None, 512)          524800      ['dense_4[0][0]']                \n",
      "                                                                                                  \n",
      " dense_6 (Dense)                (None, 7)            3591        ['dense_5[0][0]']                \n",
      "                                                                                                  \n",
      "==================================================================================================\n",
      "Total params: 23,156,937\n",
      "Trainable params: 23,067,145\n",
      "Non-trainable params: 89,792\n",
      "__________________________________________________________________________________________________\n"
     ]
    }
   ],
   "source": [
    "model_dn121_sea.summary()"
   ]
  },
  {
   "cell_type": "code",
   "execution_count": 22,
   "id": "404a75d2",
   "metadata": {
    "execution": {
     "iopub.execute_input": "2023-05-28T10:01:15.436406Z",
     "iopub.status.busy": "2023-05-28T10:01:15.436121Z",
     "iopub.status.idle": "2023-05-28T10:01:15.465684Z",
     "shell.execute_reply": "2023-05-28T10:01:15.464778Z"
    },
    "id": "WR0fUpy18vAZ",
    "papermill": {
     "duration": 0.06043,
     "end_time": "2023-05-28T10:01:15.468029",
     "exception": false,
     "start_time": "2023-05-28T10:01:15.407599",
     "status": "completed"
    },
    "tags": []
   },
   "outputs": [],
   "source": [
    "opt1=tf.keras.optimizers.Adam(learning_rate=0.001,epsilon=0.1)\n",
    "model_dn121_sea.compile(optimizer=opt1,\n",
    "             loss='categorical_crossentropy',\n",
    "             metrics=['accuracy'])"
   ]
  },
  {
   "cell_type": "code",
   "execution_count": 23,
   "id": "d126d8a1",
   "metadata": {
    "execution": {
     "iopub.execute_input": "2023-05-28T10:01:15.523360Z",
     "iopub.status.busy": "2023-05-28T10:01:15.522642Z",
     "iopub.status.idle": "2023-05-28T10:01:15.527479Z",
     "shell.execute_reply": "2023-05-28T10:01:15.526611Z"
    },
    "id": "LAf5ha295reS",
    "papermill": {
     "duration": 0.034191,
     "end_time": "2023-05-28T10:01:15.529498",
     "exception": false,
     "start_time": "2023-05-28T10:01:15.495307",
     "status": "completed"
    },
    "tags": []
   },
   "outputs": [],
   "source": [
    "class_weights = {   \n",
    "                    0: 1.0,  # akiec\n",
    "                    1: 1.0,  # bcc\n",
    "                    2: 1.0,  # bkl\n",
    "                    3: 1.0,  # df\n",
    "                    4: 1.0,  # mel\n",
    "                    5: 1.0,  # nv\n",
    "                    6: 1.0  # vasc\n",
    "                }"
   ]
  },
  {
   "cell_type": "code",
   "execution_count": 24,
   "id": "284b1df1",
   "metadata": {
    "execution": {
     "iopub.execute_input": "2023-05-28T10:01:15.584052Z",
     "iopub.status.busy": "2023-05-28T10:01:15.583793Z",
     "iopub.status.idle": "2023-05-28T10:01:15.589043Z",
     "shell.execute_reply": "2023-05-28T10:01:15.588279Z"
    },
    "papermill": {
     "duration": 0.034619,
     "end_time": "2023-05-28T10:01:15.590914",
     "exception": false,
     "start_time": "2023-05-28T10:01:15.556295",
     "status": "completed"
    },
    "tags": []
   },
   "outputs": [],
   "source": [
    "checkpoint = ModelCheckpoint(filepath ='DN121_SEA.hdf5', monitor='val_accuracy', save_best_only=True, save_weights_only=True)\n",
    "Earlystop = EarlyStopping(monitor='val_accuracy', mode='max', patience=25, min_delta=0.01)"
   ]
  },
  {
   "cell_type": "code",
   "execution_count": 25,
   "id": "ab110a88",
   "metadata": {
    "execution": {
     "iopub.execute_input": "2023-05-28T10:01:15.645172Z",
     "iopub.status.busy": "2023-05-28T10:01:15.644477Z",
     "iopub.status.idle": "2023-05-28T16:56:23.866177Z",
     "shell.execute_reply": "2023-05-28T16:56:23.865118Z"
    },
    "id": "NUzTmiZ-8hL3",
    "outputId": "e1825ff2-9f9c-436f-cf2c-9776af8eee62",
    "papermill": {
     "duration": 24908.25188,
     "end_time": "2023-05-28T16:56:23.869078",
     "exception": false,
     "start_time": "2023-05-28T10:01:15.617198",
     "status": "completed"
    },
    "tags": []
   },
   "outputs": [
    {
     "name": "stdout",
     "output_type": "stream",
     "text": [
      "Epoch 1/50\n",
      "3424/3424 - 596s - loss: 0.9038 - accuracy: 0.6687 - val_loss: 0.4281 - val_accuracy: 0.8634 - 596s/epoch - 174ms/step\n",
      "Epoch 2/50\n",
      "3424/3424 - 479s - loss: 0.4220 - accuracy: 0.8472 - val_loss: 0.3711 - val_accuracy: 0.8960 - 479s/epoch - 140ms/step\n",
      "Epoch 3/50\n",
      "3424/3424 - 472s - loss: 0.2764 - accuracy: 0.9003 - val_loss: 0.4032 - val_accuracy: 0.8803 - 472s/epoch - 138ms/step\n",
      "Epoch 4/50\n",
      "3424/3424 - 478s - loss: 0.1973 - accuracy: 0.9292 - val_loss: 0.3277 - val_accuracy: 0.9033 - 478s/epoch - 140ms/step\n",
      "Epoch 5/50\n",
      "3424/3424 - 483s - loss: 0.1489 - accuracy: 0.9469 - val_loss: 0.3951 - val_accuracy: 0.8948 - 483s/epoch - 141ms/step\n",
      "Epoch 6/50\n",
      "3424/3424 - 477s - loss: 0.1160 - accuracy: 0.9582 - val_loss: 0.4458 - val_accuracy: 0.8984 - 477s/epoch - 139ms/step\n",
      "Epoch 7/50\n",
      "3424/3424 - 486s - loss: 0.0910 - accuracy: 0.9671 - val_loss: 0.4162 - val_accuracy: 0.8996 - 486s/epoch - 142ms/step\n",
      "Epoch 8/50\n",
      "3424/3424 - 484s - loss: 0.0726 - accuracy: 0.9745 - val_loss: 0.4568 - val_accuracy: 0.9045 - 484s/epoch - 141ms/step\n",
      "Epoch 9/50\n",
      "3424/3424 - 486s - loss: 0.0603 - accuracy: 0.9788 - val_loss: 0.4845 - val_accuracy: 0.8996 - 486s/epoch - 142ms/step\n",
      "Epoch 10/50\n",
      "3424/3424 - 486s - loss: 0.0517 - accuracy: 0.9821 - val_loss: 0.5635 - val_accuracy: 0.8803 - 486s/epoch - 142ms/step\n",
      "Epoch 11/50\n",
      "3424/3424 - 486s - loss: 0.0482 - accuracy: 0.9828 - val_loss: 0.5075 - val_accuracy: 0.8863 - 486s/epoch - 142ms/step\n",
      "Epoch 12/50\n",
      "3424/3424 - 480s - loss: 0.0401 - accuracy: 0.9859 - val_loss: 0.5742 - val_accuracy: 0.9008 - 480s/epoch - 140ms/step\n",
      "Epoch 13/50\n",
      "3424/3424 - 478s - loss: 0.0341 - accuracy: 0.9882 - val_loss: 0.4693 - val_accuracy: 0.9081 - 478s/epoch - 140ms/step\n",
      "Epoch 14/50\n",
      "3424/3424 - 483s - loss: 0.0326 - accuracy: 0.9891 - val_loss: 0.5125 - val_accuracy: 0.9117 - 483s/epoch - 141ms/step\n",
      "Epoch 15/50\n",
      "3424/3424 - 478s - loss: 0.0287 - accuracy: 0.9904 - val_loss: 0.4308 - val_accuracy: 0.9093 - 478s/epoch - 140ms/step\n",
      "Epoch 16/50\n",
      "3424/3424 - 482s - loss: 0.0261 - accuracy: 0.9909 - val_loss: 0.4309 - val_accuracy: 0.9154 - 482s/epoch - 141ms/step\n",
      "Epoch 17/50\n",
      "3424/3424 - 492s - loss: 0.0223 - accuracy: 0.9924 - val_loss: 0.5181 - val_accuracy: 0.9129 - 492s/epoch - 144ms/step\n",
      "Epoch 18/50\n",
      "3424/3424 - 485s - loss: 0.0206 - accuracy: 0.9926 - val_loss: 0.5231 - val_accuracy: 0.9057 - 485s/epoch - 142ms/step\n",
      "Epoch 19/50\n",
      "3424/3424 - 485s - loss: 0.0211 - accuracy: 0.9928 - val_loss: 0.4705 - val_accuracy: 0.9081 - 485s/epoch - 142ms/step\n",
      "Epoch 20/50\n",
      "3424/3424 - 483s - loss: 0.0162 - accuracy: 0.9947 - val_loss: 0.4909 - val_accuracy: 0.9105 - 483s/epoch - 141ms/step\n",
      "Epoch 21/50\n",
      "3424/3424 - 484s - loss: 0.0173 - accuracy: 0.9940 - val_loss: 0.5429 - val_accuracy: 0.9033 - 484s/epoch - 141ms/step\n",
      "Epoch 22/50\n",
      "3424/3424 - 481s - loss: 0.0143 - accuracy: 0.9953 - val_loss: 0.5061 - val_accuracy: 0.9117 - 481s/epoch - 140ms/step\n",
      "Epoch 23/50\n",
      "3424/3424 - 477s - loss: 0.0160 - accuracy: 0.9948 - val_loss: 0.5001 - val_accuracy: 0.9069 - 477s/epoch - 139ms/step\n",
      "Epoch 24/50\n",
      "3424/3424 - 483s - loss: 0.0142 - accuracy: 0.9957 - val_loss: 0.5051 - val_accuracy: 0.9117 - 483s/epoch - 141ms/step\n",
      "Epoch 25/50\n",
      "3424/3424 - 478s - loss: 0.0137 - accuracy: 0.9952 - val_loss: 0.5519 - val_accuracy: 0.9069 - 478s/epoch - 140ms/step\n",
      "Epoch 26/50\n",
      "3424/3424 - 477s - loss: 0.0121 - accuracy: 0.9958 - val_loss: 0.5449 - val_accuracy: 0.9021 - 477s/epoch - 139ms/step\n",
      "Epoch 27/50\n",
      "3424/3424 - 478s - loss: 0.0111 - accuracy: 0.9963 - val_loss: 0.5773 - val_accuracy: 0.9057 - 478s/epoch - 140ms/step\n",
      "Epoch 28/50\n",
      "3424/3424 - 479s - loss: 0.0088 - accuracy: 0.9973 - val_loss: 0.5202 - val_accuracy: 0.9093 - 479s/epoch - 140ms/step\n",
      "Epoch 29/50\n",
      "3424/3424 - 477s - loss: 0.0063 - accuracy: 0.9978 - val_loss: 0.7110 - val_accuracy: 0.8948 - 477s/epoch - 139ms/step\n",
      "Epoch 30/50\n",
      "3424/3424 - 474s - loss: 0.0110 - accuracy: 0.9961 - val_loss: 0.5881 - val_accuracy: 0.9008 - 474s/epoch - 138ms/step\n",
      "Epoch 31/50\n",
      "3424/3424 - 478s - loss: 0.0072 - accuracy: 0.9976 - val_loss: 0.6612 - val_accuracy: 0.8984 - 478s/epoch - 140ms/step\n",
      "Epoch 32/50\n",
      "3424/3424 - 477s - loss: 0.0089 - accuracy: 0.9973 - val_loss: 0.5128 - val_accuracy: 0.9178 - 477s/epoch - 139ms/step\n",
      "Epoch 33/50\n",
      "3424/3424 - 477s - loss: 0.0059 - accuracy: 0.9983 - val_loss: 0.6272 - val_accuracy: 0.9069 - 477s/epoch - 139ms/step\n",
      "Epoch 34/50\n",
      "3424/3424 - 483s - loss: 0.0093 - accuracy: 0.9972 - val_loss: 0.4851 - val_accuracy: 0.9093 - 483s/epoch - 141ms/step\n",
      "Epoch 35/50\n",
      "3424/3424 - 476s - loss: 0.0073 - accuracy: 0.9978 - val_loss: 0.5901 - val_accuracy: 0.9093 - 476s/epoch - 139ms/step\n",
      "Epoch 36/50\n",
      "3424/3424 - 479s - loss: 0.0069 - accuracy: 0.9979 - val_loss: 0.5610 - val_accuracy: 0.9081 - 479s/epoch - 140ms/step\n",
      "Epoch 37/50\n",
      "3424/3424 - 476s - loss: 0.0057 - accuracy: 0.9980 - val_loss: 0.5059 - val_accuracy: 0.9129 - 476s/epoch - 139ms/step\n",
      "Epoch 38/50\n",
      "3424/3424 - 479s - loss: 0.0083 - accuracy: 0.9975 - val_loss: 0.4938 - val_accuracy: 0.9214 - 479s/epoch - 140ms/step\n",
      "Epoch 39/50\n",
      "3424/3424 - 486s - loss: 0.0059 - accuracy: 0.9980 - val_loss: 0.5654 - val_accuracy: 0.9045 - 486s/epoch - 142ms/step\n",
      "Epoch 40/50\n",
      "3424/3424 - 485s - loss: 0.0065 - accuracy: 0.9978 - val_loss: 0.5626 - val_accuracy: 0.9190 - 485s/epoch - 142ms/step\n",
      "Epoch 41/50\n",
      "3424/3424 - 492s - loss: 0.0043 - accuracy: 0.9984 - val_loss: 0.5795 - val_accuracy: 0.9226 - 492s/epoch - 144ms/step\n",
      "Epoch 42/50\n",
      "3424/3424 - 488s - loss: 0.0054 - accuracy: 0.9982 - val_loss: 0.5633 - val_accuracy: 0.9081 - 488s/epoch - 142ms/step\n",
      "Epoch 43/50\n",
      "3424/3424 - 484s - loss: 0.0068 - accuracy: 0.9977 - val_loss: 0.6003 - val_accuracy: 0.9081 - 484s/epoch - 141ms/step\n",
      "Epoch 44/50\n",
      "3424/3424 - 484s - loss: 0.0072 - accuracy: 0.9978 - val_loss: 0.4630 - val_accuracy: 0.9166 - 484s/epoch - 141ms/step\n",
      "Epoch 45/50\n",
      "3424/3424 - 482s - loss: 0.0043 - accuracy: 0.9987 - val_loss: 0.6531 - val_accuracy: 0.9093 - 482s/epoch - 141ms/step\n",
      "Epoch 46/50\n",
      "3424/3424 - 476s - loss: 0.0055 - accuracy: 0.9987 - val_loss: 0.5581 - val_accuracy: 0.9105 - 476s/epoch - 139ms/step\n",
      "Epoch 47/50\n",
      "3424/3424 - 484s - loss: 0.0043 - accuracy: 0.9985 - val_loss: 0.5788 - val_accuracy: 0.9093 - 484s/epoch - 141ms/step\n",
      "Epoch 48/50\n",
      "3424/3424 - 485s - loss: 0.0055 - accuracy: 0.9982 - val_loss: 0.4933 - val_accuracy: 0.9105 - 485s/epoch - 142ms/step\n",
      "Epoch 49/50\n",
      "3424/3424 - 486s - loss: 0.0058 - accuracy: 0.9979 - val_loss: 0.5533 - val_accuracy: 0.9069 - 486s/epoch - 142ms/step\n",
      "Epoch 50/50\n",
      "3424/3424 - 489s - loss: 0.0042 - accuracy: 0.9986 - val_loss: 0.5765 - val_accuracy: 0.9081 - 489s/epoch - 143ms/step\n"
     ]
    }
   ],
   "source": [
    "history = model_dn121_sea.fit(train_batches,\n",
    "                         epochs=50,\n",
    "                         verbose=2,\n",
    "                         validation_data=val_batches,\n",
    "                         callbacks=[checkpoint,Earlystop],\n",
    "                         class_weight=class_weights)"
   ]
  },
  {
   "cell_type": "markdown",
   "id": "d335d2ab",
   "metadata": {
    "papermill": {
     "duration": 0.033993,
     "end_time": "2023-05-28T16:56:23.938473",
     "exception": false,
     "start_time": "2023-05-28T16:56:23.904480",
     "status": "completed"
    },
    "tags": []
   },
   "source": [
    "### Plotting accuracy and loss"
   ]
  },
  {
   "cell_type": "code",
   "execution_count": 26,
   "id": "ec80e789",
   "metadata": {
    "execution": {
     "iopub.execute_input": "2023-05-28T16:56:24.008553Z",
     "iopub.status.busy": "2023-05-28T16:56:24.007679Z",
     "iopub.status.idle": "2023-05-28T16:56:24.538093Z",
     "shell.execute_reply": "2023-05-28T16:56:24.537184Z"
    },
    "papermill": {
     "duration": 0.568623,
     "end_time": "2023-05-28T16:56:24.540803",
     "exception": false,
     "start_time": "2023-05-28T16:56:23.972180",
     "status": "completed"
    },
    "tags": []
   },
   "outputs": [
    {
     "name": "stdout",
     "output_type": "stream",
     "text": [
      "Number of epochs trained: 50\n"
     ]
    },
    {
     "data": {
      "image/png": "[encoded data removed]",
      "text/plain": [
       "<Figure size 1500x500 with 2 Axes>"
      ]
     },
     "metadata": {},
     "output_type": "display_data"
    }
   ],
   "source": [
    "# Determine number of epochs trained\n",
    "num_epochs_trained = len(history.history['val_loss'])\n",
    "print(f\"Number of epochs trained: {num_epochs_trained}\")\n",
    "\n",
    "## History plotting\n",
    "epochs = [i for i in range(num_epochs_trained)]\n",
    "fig , ax = plt.subplots(1,2)\n",
    "train_acc = history.history['accuracy']\n",
    "train_loss = history.history['loss']\n",
    "val_acc = history.history['val_accuracy']\n",
    "val_loss = history.history['val_loss']\n",
    "fig.set_size_inches(15,5)\n",
    "\n",
    "ax[0].plot(epochs , train_acc , 'go-' , label = 'Training Accuracy')\n",
    "ax[0].plot(epochs , val_acc , 'ro-' , label = 'Validation Accuracy')\n",
    "title_font = {'fontname':'Times New Roman', 'size':'14', 'color':'black', 'weight':'normal'}\n",
    "ax[0].set_title('Model Accuracy', fontdict=title_font)\n",
    "legend_font = {'family': 'Times New Roman', 'size': '12', 'weight': 'normal'}\n",
    "ax[0].legend(prop=legend_font)\n",
    "label_font = {'fontname':'Times New Roman', 'size':'12', 'color':'black', 'weight':'normal'}\n",
    "ax[0].set_xlabel(\"Epochs\",  fontdict=label_font)\n",
    "ax[0].set_ylabel(\"Accuracy\",  fontdict=label_font)\n",
    "\n",
    "ax[1].plot(epochs , train_loss , 'g-o' , label = 'Training Loss')\n",
    "ax[1].plot(epochs , val_loss , 'r-o' , label = 'Validation Loss')\n",
    "ax[1].set_title('Model Loss', fontdict=title_font)\n",
    "ax[1].legend(prop=legend_font)\n",
    "ax[1].set_xlabel(\"Epochs\", fontdict=label_font)\n",
    "ax[1].set_ylabel(\"Loss\", fontdict=label_font)\n",
    "plt.show()"
   ]
  },
  {
   "cell_type": "code",
   "execution_count": 27,
   "id": "133693b6",
   "metadata": {
    "execution": {
     "iopub.execute_input": "2023-05-28T16:56:24.612354Z",
     "iopub.status.busy": "2023-05-28T16:56:24.611986Z",
     "iopub.status.idle": "2023-05-28T16:56:25.256015Z",
     "shell.execute_reply": "2023-05-28T16:56:25.255044Z"
    },
    "id": "zm_AewFBXTj8",
    "papermill": {
     "duration": 0.682725,
     "end_time": "2023-05-28T16:56:25.258618",
     "exception": false,
     "start_time": "2023-05-28T16:56:24.575893",
     "status": "completed"
    },
    "tags": []
   },
   "outputs": [],
   "source": [
    "from tensorflow.keras import models\n",
    "model_dn121_sea.load_weights(\"DN121_SEA.hdf5\")"
   ]
  },
  {
   "cell_type": "code",
   "execution_count": 28,
   "id": "47397362",
   "metadata": {
    "execution": {
     "iopub.execute_input": "2023-05-28T16:56:25.331471Z",
     "iopub.status.busy": "2023-05-28T16:56:25.331090Z",
     "iopub.status.idle": "2023-05-28T16:56:41.446346Z",
     "shell.execute_reply": "2023-05-28T16:56:41.445412Z"
    },
    "papermill": {
     "duration": 16.154514,
     "end_time": "2023-05-28T16:56:41.448566",
     "exception": false,
     "start_time": "2023-05-28T16:56:25.294052",
     "status": "completed"
    },
    "tags": []
   },
   "outputs": [
    {
     "name": "stdout",
     "output_type": "stream",
     "text": [
      "52/52 [==============================] - 16s 263ms/step\n"
     ]
    }
   ],
   "source": [
    "predictions = model_dn121_sea.predict(test_batches)"
   ]
  },
  {
   "cell_type": "code",
   "execution_count": 29,
   "id": "838b5802",
   "metadata": {
    "execution": {
     "iopub.execute_input": "2023-05-28T16:56:41.529192Z",
     "iopub.status.busy": "2023-05-28T16:56:41.528184Z",
     "iopub.status.idle": "2023-05-28T16:56:41.533562Z",
     "shell.execute_reply": "2023-05-28T16:56:41.532611Z"
    },
    "id": "FDTMtBeTdBfU",
    "papermill": {
     "duration": 0.047881,
     "end_time": "2023-05-28T16:56:41.535836",
     "exception": false,
     "start_time": "2023-05-28T16:56:41.487955",
     "status": "completed"
    },
    "tags": []
   },
   "outputs": [],
   "source": [
    "#geting predictions on test dataset\n",
    "y_pred = np.argmax(predictions, axis=1)\n",
    "#getting the true labels per image \n",
    "y_true = test_batches.classes\n",
    "#getting the predicted labels per image \n",
    "y_prob = predictions"
   ]
  },
  {
   "cell_type": "code",
   "execution_count": 30,
   "id": "49f835da",
   "metadata": {
    "execution": {
     "iopub.execute_input": "2023-05-28T16:56:41.618547Z",
     "iopub.status.busy": "2023-05-28T16:56:41.616718Z",
     "iopub.status.idle": "2023-05-28T16:56:41.632975Z",
     "shell.execute_reply": "2023-05-28T16:56:41.631941Z"
    },
    "papermill": {
     "duration": 0.058857,
     "end_time": "2023-05-28T16:56:41.635062",
     "exception": false,
     "start_time": "2023-05-28T16:56:41.576205",
     "status": "completed"
    },
    "tags": []
   },
   "outputs": [
    {
     "name": "stdout",
     "output_type": "stream",
     "text": [
      "\n",
      "Classification Report:\n",
      "              precision    recall  f1-score   support\n",
      "\n",
      "          AK       0.79      0.50      0.61        22\n",
      "         BCC       0.72      0.78      0.75        27\n",
      "         BKL       0.77      0.73      0.75        66\n",
      "          DF       0.80      0.67      0.73         6\n",
      "         MEL       0.75      0.43      0.55        35\n",
      "          NV       0.95      0.99      0.97       663\n",
      "        VASC       1.00      1.00      1.00         9\n",
      "\n",
      "    accuracy                           0.92       828\n",
      "   macro avg       0.83      0.73      0.76       828\n",
      "weighted avg       0.91      0.92      0.91       828\n",
      "\n"
     ]
    }
   ],
   "source": [
    "classnames = ['AK', 'BCC', 'BKL', 'DF', 'MEL', 'NV', 'VASC']\n",
    "\n",
    "from tensorflow.keras.utils import to_categorical\n",
    "y_test = to_categorical(y_true)\n",
    "\n",
    "report = classification_report(y_true, y_pred, target_names=classnames)\n",
    "\n",
    "print(\"\\nClassification Report:\")\n",
    "print(report)"
   ]
  },
  {
   "cell_type": "code",
   "execution_count": 31,
   "id": "b567cbbf",
   "metadata": {
    "execution": {
     "iopub.execute_input": "2023-05-28T16:56:41.715055Z",
     "iopub.status.busy": "2023-05-28T16:56:41.714700Z",
     "iopub.status.idle": "2023-05-28T16:56:42.789101Z",
     "shell.execute_reply": "2023-05-28T16:56:42.788164Z"
    },
    "papermill": {
     "duration": 1.11621,
     "end_time": "2023-05-28T16:56:42.791171",
     "exception": false,
     "start_time": "2023-05-28T16:56:41.674961",
     "status": "completed"
    },
    "tags": []
   },
   "outputs": [
    {
     "data": {
      "image/png": "[encoded data removed]",
      "text/plain": [
       "<Figure size 1000x400 with 2 Axes>"
      ]
     },
     "metadata": {},
     "output_type": "display_data"
    }
   ],
   "source": [
    "## Confusion Matrix\n",
    "title_font = {'fontname':'Times New Roman', 'size':'14', 'color':'black', 'weight':'normal'}\n",
    "label_font = {'fontname':'Times New Roman', 'size':'12', 'color':'black', 'weight':'normal'}\n",
    "\n",
    "from sklearn.metrics import confusion_matrix\n",
    "import seaborn as sns\n",
    "# Creating confusion matrix \n",
    "cm = confusion_matrix(y_true, y_pred)\n",
    "# Plotting the confusion matrix\n",
    "plt.figure(figsize=(10,4))\n",
    "sns.heatmap(cm, annot=True, fmt='g', cmap='Blues', xticklabels=targetnames, yticklabels=targetnames)\n",
    "plt.xlabel('Predicted Label', fontdict=label_font)\n",
    "plt.ylabel('True Label', fontdict=label_font)\n",
    "plt.title('Confusion Matrix', fontdict=title_font)\n",
    "plt.show()"
   ]
  },
  {
   "cell_type": "markdown",
   "id": "941fd76e",
   "metadata": {
    "papermill": {
     "duration": 0.039166,
     "end_time": "2023-05-28T16:56:42.870411",
     "exception": false,
     "start_time": "2023-05-28T16:56:42.831245",
     "status": "completed"
    },
    "tags": []
   },
   "source": [
    "## Results"
   ]
  },
  {
   "cell_type": "markdown",
   "id": "b014e6f3",
   "metadata": {
    "papermill": {
     "duration": 0.039562,
     "end_time": "2023-05-28T16:56:42.949623",
     "exception": false,
     "start_time": "2023-05-28T16:56:42.910061",
     "status": "completed"
    },
    "tags": []
   },
   "source": [
    "### Individual Class Accuracy "
   ]
  },
  {
   "cell_type": "code",
   "execution_count": 32,
   "id": "7a4d228e",
   "metadata": {
    "execution": {
     "iopub.execute_input": "2023-05-28T16:56:43.030200Z",
     "iopub.status.busy": "2023-05-28T16:56:43.029855Z",
     "iopub.status.idle": "2023-05-28T16:56:43.038127Z",
     "shell.execute_reply": "2023-05-28T16:56:43.037127Z"
    },
    "papermill": {
     "duration": 0.051481,
     "end_time": "2023-05-28T16:56:43.040333",
     "exception": false,
     "start_time": "2023-05-28T16:56:42.988852",
     "status": "completed"
    },
    "tags": []
   },
   "outputs": [
    {
     "name": "stdout",
     "output_type": "stream",
     "text": [
      "Overall accuracy: 92.03%\n",
      "Accuracy for each class:\n",
      "Class 0: 50.00%\n",
      "Class 1: 77.78%\n",
      "Class 2: 72.73%\n",
      "Class 3: 66.67%\n",
      "Class 4: 42.86%\n",
      "Class 5: 98.64%\n",
      "Class 6: 100.00%\n"
     ]
    }
   ],
   "source": [
    "# y_true are the true labels of the test set\n",
    "# y_pred are the predicted labels of the test set\n",
    "accuracy = accuracy_score(y_true, y_pred)\n",
    "# Calculate accuracy for each class\n",
    "class_accuracy = cm.diagonal()/cm.sum(axis=1)\n",
    "print(\"Overall accuracy: {:.2f}%\".format(accuracy*100))\n",
    "print(\"Accuracy for each class:\")\n",
    "for i, acc in enumerate(class_accuracy):\n",
    "    print(\"Class {}: {:.2f}%\".format(i, acc*100))"
   ]
  },
  {
   "cell_type": "markdown",
   "id": "a7a58842",
   "metadata": {
    "papermill": {
     "duration": 0.038998,
     "end_time": "2023-05-28T16:56:43.128244",
     "exception": false,
     "start_time": "2023-05-28T16:56:43.089246",
     "status": "completed"
    },
    "tags": []
   },
   "source": [
    "### Individual Class Weighted Precision"
   ]
  },
  {
   "cell_type": "code",
   "execution_count": 33,
   "id": "a438bf62",
   "metadata": {
    "execution": {
     "iopub.execute_input": "2023-05-28T16:56:43.209196Z",
     "iopub.status.busy": "2023-05-28T16:56:43.208251Z",
     "iopub.status.idle": "2023-05-28T16:56:43.224812Z",
     "shell.execute_reply": "2023-05-28T16:56:43.223445Z"
    },
    "papermill": {
     "duration": 0.05922,
     "end_time": "2023-05-28T16:56:43.227194",
     "exception": false,
     "start_time": "2023-05-28T16:56:43.167974",
     "status": "completed"
    },
    "tags": []
   },
   "outputs": [
    {
     "name": "stdout",
     "output_type": "stream",
     "text": [
      "Weighted precision for each class:\n",
      "Class 0: 78.57%\n",
      "Class 1: 72.41%\n",
      "Class 2: 77.42%\n",
      "Class 3: 80.00%\n",
      "Class 4: 75.00%\n",
      "Class 5: 94.92%\n",
      "Class 6: 100.00%\n",
      "Weighted precision: 91.46%\n"
     ]
    }
   ],
   "source": [
    "report = classification_report(y_true, y_pred, output_dict=True)\n",
    "# Extract weighted precision for each class\n",
    "class_precision = {}\n",
    "for class_label in report.keys():\n",
    "    if class_label == 'weighted avg':\n",
    "        class_precision['weighted'] = report[class_label]['precision']\n",
    "    elif class_label.isdigit():\n",
    "        class_precision[int(class_label)] = report[class_label]['precision']\n",
    "print(\"Weighted precision for each class:\")\n",
    "for i, precision in class_precision.items():\n",
    "    if i == 'weighted':\n",
    "        print(\"Weighted precision: {:.2f}%\".format(precision*100))\n",
    "    else:\n",
    "        print(\"Class {}: {:.2f}%\".format(i, precision*100))"
   ]
  },
  {
   "cell_type": "markdown",
   "id": "0abe6c3c",
   "metadata": {
    "papermill": {
     "duration": 0.039364,
     "end_time": "2023-05-28T16:56:43.308197",
     "exception": false,
     "start_time": "2023-05-28T16:56:43.268833",
     "status": "completed"
    },
    "tags": []
   },
   "source": [
    "### Individual Class Weighted Recall"
   ]
  },
  {
   "cell_type": "code",
   "execution_count": 34,
   "id": "f79b5e81",
   "metadata": {
    "execution": {
     "iopub.execute_input": "2023-05-28T16:56:43.389584Z",
     "iopub.status.busy": "2023-05-28T16:56:43.389204Z",
     "iopub.status.idle": "2023-05-28T16:56:43.405501Z",
     "shell.execute_reply": "2023-05-28T16:56:43.404131Z"
    },
    "papermill": {
     "duration": 0.059595,
     "end_time": "2023-05-28T16:56:43.407703",
     "exception": false,
     "start_time": "2023-05-28T16:56:43.348108",
     "status": "completed"
    },
    "tags": []
   },
   "outputs": [
    {
     "name": "stdout",
     "output_type": "stream",
     "text": [
      "Weighted recall for each class:\n",
      "Class 0: 50.00%\n",
      "Class 1: 77.78%\n",
      "Class 2: 72.73%\n",
      "Class 3: 66.67%\n",
      "Class 4: 42.86%\n",
      "Class 5: 98.64%\n",
      "Class 6: 100.00%\n",
      "Weighted Recall: 92.03%\n"
     ]
    }
   ],
   "source": [
    "report = classification_report(y_true, y_pred, output_dict=True)\n",
    "# Extract weighted recall for each class\n",
    "class_recall = {}\n",
    "for class_label in report.keys():\n",
    "    if class_label == 'weighted avg':\n",
    "        class_recall['weighted'] = report[class_label]['recall']\n",
    "    elif class_label.isdigit():\n",
    "        class_recall[int(class_label)] = report[class_label]['recall']\n",
    "print(\"Weighted recall for each class:\")\n",
    "for i, recall in class_recall.items():\n",
    "    if i == 'weighted':\n",
    "        print(\"Weighted Recall: {:.2f}%\".format(recall*100))\n",
    "    else:\n",
    "        print(\"Class {}: {:.2f}%\".format(i, recall*100))"
   ]
  },
  {
   "cell_type": "markdown",
   "id": "6c534259",
   "metadata": {
    "papermill": {
     "duration": 0.039594,
     "end_time": "2023-05-28T16:56:43.489101",
     "exception": false,
     "start_time": "2023-05-28T16:56:43.449507",
     "status": "completed"
    },
    "tags": []
   },
   "source": [
    "### Individual Class Weighted F1-score"
   ]
  },
  {
   "cell_type": "code",
   "execution_count": 35,
   "id": "7f7a69b5",
   "metadata": {
    "execution": {
     "iopub.execute_input": "2023-05-28T16:56:43.570691Z",
     "iopub.status.busy": "2023-05-28T16:56:43.569767Z",
     "iopub.status.idle": "2023-05-28T16:56:43.585067Z",
     "shell.execute_reply": "2023-05-28T16:56:43.583868Z"
    },
    "papermill": {
     "duration": 0.058236,
     "end_time": "2023-05-28T16:56:43.587146",
     "exception": false,
     "start_time": "2023-05-28T16:56:43.528910",
     "status": "completed"
    },
    "tags": []
   },
   "outputs": [
    {
     "name": "stdout",
     "output_type": "stream",
     "text": [
      "Weighted F1-score for each class:\n",
      "Class 0: 61.11%\n",
      "Class 1: 75.00%\n",
      "Class 2: 75.00%\n",
      "Class 3: 72.73%\n",
      "Class 4: 54.55%\n",
      "Class 5: 96.75%\n",
      "Class 6: 100.00%\n",
      "Weighted F1-score: 91.43%\n"
     ]
    }
   ],
   "source": [
    "report = classification_report(y_true, y_pred, output_dict=True)\n",
    "# Extract weighted F1-score for each class\n",
    "class_f1 = {}\n",
    "for class_label in report.keys():\n",
    "    if class_label == 'weighted avg':\n",
    "        class_f1['weighted'] = report[class_label]['f1-score']\n",
    "    elif class_label.isdigit():\n",
    "        class_f1[int(class_label)] = report[class_label]['f1-score']\n",
    "print(\"Weighted F1-score for each class:\")\n",
    "for i, f1_score in class_f1.items():\n",
    "    if i == 'weighted':\n",
    "        print(\"Weighted F1-score: {:.2f}%\".format(f1_score*100))\n",
    "    else:\n",
    "        print(\"Class {}: {:.2f}%\".format(i, f1_score*100))"
   ]
  },
  {
   "cell_type": "markdown",
   "id": "555781a0",
   "metadata": {
    "papermill": {
     "duration": 0.039801,
     "end_time": "2023-05-28T16:56:43.668664",
     "exception": false,
     "start_time": "2023-05-28T16:56:43.628863",
     "status": "completed"
    },
    "tags": []
   },
   "source": [
    "### Individual Class Precision, Recall and F1-score"
   ]
  },
  {
   "cell_type": "code",
   "execution_count": 36,
   "id": "24999e85",
   "metadata": {
    "execution": {
     "iopub.execute_input": "2023-05-28T16:56:43.750851Z",
     "iopub.status.busy": "2023-05-28T16:56:43.750502Z",
     "iopub.status.idle": "2023-05-28T16:56:43.760317Z",
     "shell.execute_reply": "2023-05-28T16:56:43.759056Z"
    },
    "papermill": {
     "duration": 0.053377,
     "end_time": "2023-05-28T16:56:43.762364",
     "exception": false,
     "start_time": "2023-05-28T16:56:43.708987",
     "status": "completed"
    },
    "tags": []
   },
   "outputs": [
    {
     "name": "stdout",
     "output_type": "stream",
     "text": [
      "Class-wise weighted precision, recall, and F1-score:\n",
      "Class 0: Precision=0.79, Recall=0.50, F1-score=0.61\n",
      "Class 1: Precision=0.72, Recall=0.78, F1-score=0.75\n",
      "Class 2: Precision=0.77, Recall=0.73, F1-score=0.75\n",
      "Class 3: Precision=0.80, Recall=0.67, F1-score=0.73\n",
      "Class 4: Precision=0.75, Recall=0.43, F1-score=0.55\n",
      "Class 5: Precision=0.95, Recall=0.99, F1-score=0.97\n",
      "Class 6: Precision=1.00, Recall=1.00, F1-score=1.00\n"
     ]
    }
   ],
   "source": [
    "from sklearn.metrics import precision_recall_fscore_support\n",
    "\n",
    "precision_class, recall_class, f1_class, support_class = precision_recall_fscore_support(y_true, y_pred, average=None)\n",
    "print('Class-wise weighted precision, recall, and F1-score:')\n",
    "for i in range(len(precision_class)):\n",
    "    print('Class {}: Precision={:.2f}, Recall={:.2f}, F1-score={:.2f}'.format(i, precision_class[i], recall_class[i], f1_class[i]))\n"
   ]
  },
  {
   "cell_type": "markdown",
   "id": "f0c49a15",
   "metadata": {
    "papermill": {
     "duration": 0.040077,
     "end_time": "2023-05-28T16:56:43.843695",
     "exception": false,
     "start_time": "2023-05-28T16:56:43.803618",
     "status": "completed"
    },
    "tags": []
   },
   "source": [
    "### Individual Class Weighted Sensitivity"
   ]
  },
  {
   "cell_type": "code",
   "execution_count": 37,
   "id": "663594a0",
   "metadata": {
    "execution": {
     "iopub.execute_input": "2023-05-28T16:56:43.927365Z",
     "iopub.status.busy": "2023-05-28T16:56:43.926633Z",
     "iopub.status.idle": "2023-05-28T16:56:44.359669Z",
     "shell.execute_reply": "2023-05-28T16:56:44.358650Z"
    },
    "papermill": {
     "duration": 0.476934,
     "end_time": "2023-05-28T16:56:44.361815",
     "exception": false,
     "start_time": "2023-05-28T16:56:43.884881",
     "status": "completed"
    },
    "tags": []
   },
   "outputs": [
    {
     "name": "stdout",
     "output_type": "stream",
     "text": [
      "Weighted Sensitivity:  0.9202898550724637\n",
      "Class  0 :sensitivity = 0.5\n",
      "Class  1 :sensitivity = 0.7777777777777778\n",
      "Class  2 :sensitivity = 0.7272727272727273\n",
      "Class  3 :sensitivity = 0.6666666666666666\n",
      "Class  4 :sensitivity = 0.42857142857142855\n",
      "Class  5 :sensitivity = 0.9864253393665159\n",
      "Class  6 :sensitivity = 1.0\n"
     ]
    }
   ],
   "source": [
    "from imblearn.metrics import sensitivity_score\n",
    "\n",
    "sensitivity = sensitivity_score(y_true, y_pred, average='weighted')\n",
    "print(\"Weighted Sensitivity: \", sensitivity)\n",
    "\n",
    "# Calculate class-wise sensitivity\n",
    "sensitivity = sensitivity_score(y_true, y_pred, average=None)\n",
    "\n",
    "# Print sensitivity score for each class\n",
    "for i in range(len(sensitivity)):\n",
    "    print(\"Class \", i, \":sensitivity =\", sensitivity[i])"
   ]
  },
  {
   "cell_type": "markdown",
   "id": "a5aa51e8",
   "metadata": {
    "papermill": {
     "duration": 0.039488,
     "end_time": "2023-05-28T16:56:44.443372",
     "exception": false,
     "start_time": "2023-05-28T16:56:44.403884",
     "status": "completed"
    },
    "tags": []
   },
   "source": [
    "### Individual Class Weighted Specificity"
   ]
  },
  {
   "cell_type": "code",
   "execution_count": 38,
   "id": "8e1fd206",
   "metadata": {
    "execution": {
     "iopub.execute_input": "2023-05-28T16:56:44.524891Z",
     "iopub.status.busy": "2023-05-28T16:56:44.523954Z",
     "iopub.status.idle": "2023-05-28T16:56:44.534827Z",
     "shell.execute_reply": "2023-05-28T16:56:44.533832Z"
    },
    "papermill": {
     "duration": 0.053652,
     "end_time": "2023-05-28T16:56:44.536770",
     "exception": false,
     "start_time": "2023-05-28T16:56:44.483118",
     "status": "completed"
    },
    "tags": []
   },
   "outputs": [
    {
     "name": "stdout",
     "output_type": "stream",
     "text": [
      "Weighted Specificity:  0.8279849141697498\n",
      "Class  0 :specificity= 0.9962779156327544\n",
      "Class  1 :specificity= 0.9900124843945068\n",
      "Class  2 :specificity= 0.9816272965879265\n",
      "Class  3 :specificity= 0.9987834549878345\n",
      "Class  4 :specificity= 0.9936948297604036\n",
      "Class  5 :specificity= 0.7878787878787878\n",
      "Class  6 :specificity= 1.0\n"
     ]
    }
   ],
   "source": [
    "from imblearn.metrics import specificity_score\n",
    "\n",
    "specificity = specificity_score(y_true, y_pred, average='weighted')\n",
    "print(\"Weighted Specificity: \", specificity)\n",
    "\n",
    "# Calculate class-wise specificity\n",
    "specificity = specificity_score(y_true, y_pred, average=None)\n",
    "\n",
    "# Print sensitivity score for each class\n",
    "for i in range(len(specificity)):\n",
    "    print(\"Class \", i, \":specificity=\", specificity[i])"
   ]
  },
  {
   "cell_type": "markdown",
   "id": "f6a87fca",
   "metadata": {
    "papermill": {
     "duration": 0.039851,
     "end_time": "2023-05-28T16:56:44.617112",
     "exception": false,
     "start_time": "2023-05-28T16:56:44.577261",
     "status": "completed"
    },
    "tags": []
   },
   "source": [
    "### Accuracy"
   ]
  },
  {
   "cell_type": "code",
   "execution_count": 39,
   "id": "6b06a015",
   "metadata": {
    "execution": {
     "iopub.execute_input": "2023-05-28T16:56:44.699689Z",
     "iopub.status.busy": "2023-05-28T16:56:44.698647Z",
     "iopub.status.idle": "2023-05-28T16:56:44.705456Z",
     "shell.execute_reply": "2023-05-28T16:56:44.704458Z"
    },
    "papermill": {
     "duration": 0.0504,
     "end_time": "2023-05-28T16:56:44.707485",
     "exception": false,
     "start_time": "2023-05-28T16:56:44.657085",
     "status": "completed"
    },
    "tags": []
   },
   "outputs": [
    {
     "name": "stdout",
     "output_type": "stream",
     "text": [
      "Accuracy: 0.9202898550724637\n"
     ]
    }
   ],
   "source": [
    "print(\"Accuracy: \" + str(accuracy_score(y_true, y_pred)))\n",
    "import numpy as np\n",
    "from sklearn.metrics import accuracy_score"
   ]
  },
  {
   "cell_type": "code",
   "execution_count": 40,
   "id": "d1b311be",
   "metadata": {
    "execution": {
     "iopub.execute_input": "2023-05-28T16:56:44.789732Z",
     "iopub.status.busy": "2023-05-28T16:56:44.789389Z",
     "iopub.status.idle": "2023-05-28T16:56:44.809528Z",
     "shell.execute_reply": "2023-05-28T16:56:44.808328Z"
    },
    "papermill": {
     "duration": 0.063565,
     "end_time": "2023-05-28T16:56:44.811685",
     "exception": false,
     "start_time": "2023-05-28T16:56:44.748120",
     "status": "completed"
    },
    "tags": []
   },
   "outputs": [
    {
     "name": "stdout",
     "output_type": "stream",
     "text": [
      "Top-1 Accuracy: 0.9202898550724637\n",
      "Top-2 Accuracy: 0.967391304347826\n",
      "Top-3 Accuracy: 0.9867149758454107\n"
     ]
    }
   ],
   "source": [
    "# Calculate top-1 accuracy\n",
    "top1_acc = accuracy_score(y_true, y_pred)\n",
    "print(\"Top-1 Accuracy:\", top1_acc)\n",
    "\n",
    "# Calculate top-2 accuracy\n",
    "y_pred_top2 = np.argsort(-predictions, axis=1)[:, :2] # Get the top 2 predicted classes\n",
    "top2_acc = np.mean(np.array([y_true[i] in y_pred_top2[i] for i in range(len(y_true))]))\n",
    "print(\"Top-2 Accuracy:\", top2_acc)\n",
    "\n",
    "# Calculate top-3 accuracy\n",
    "y_pred_top3 = np.argsort(-predictions, axis=1)[:, :3] # Get the top 3 predicted classes\n",
    "top3_acc = np.mean(np.array([y_true[i] in y_pred_top3[i] for i in range(len(y_true))]))\n",
    "print(\"Top-3 Accuracy:\", top3_acc)\n",
    "from sklearn.metrics import f1_score"
   ]
  },
  {
   "cell_type": "markdown",
   "id": "a621b366",
   "metadata": {
    "papermill": {
     "duration": 0.045551,
     "end_time": "2023-05-28T16:56:44.898951",
     "exception": false,
     "start_time": "2023-05-28T16:56:44.853400",
     "status": "completed"
    },
    "tags": []
   },
   "source": [
    "### Weighted Evaluation Measures"
   ]
  },
  {
   "cell_type": "code",
   "execution_count": 41,
   "id": "eac71c38",
   "metadata": {
    "execution": {
     "iopub.execute_input": "2023-05-28T16:56:44.984063Z",
     "iopub.status.busy": "2023-05-28T16:56:44.983696Z",
     "iopub.status.idle": "2023-05-28T16:56:45.012674Z",
     "shell.execute_reply": "2023-05-28T16:56:45.011552Z"
    },
    "papermill": {
     "duration": 0.072711,
     "end_time": "2023-05-28T16:56:45.014716",
     "exception": false,
     "start_time": "2023-05-28T16:56:44.942005",
     "status": "completed"
    },
    "tags": []
   },
   "outputs": [
    {
     "name": "stdout",
     "output_type": "stream",
     "text": [
      "Weighted Precision: 0.9146195257659117\n",
      "Weighted Recall: 0.9202898550724637\n",
      "Weighted F1-Score: 0.914338244954187\n",
      "Weighted Sensitivity: 0.9202898550724637\n",
      "Weighted Specificity: 0.8279849141697498\n",
      "weighted Roc score: 0.9749811010790846\n"
     ]
    }
   ],
   "source": [
    "print(\"Weighted Precision: \"+ str(precision_score(y_true, y_pred, average='weighted')))\n",
    "print(\"Weighted Recall: \"+ str(recall_score(y_true, y_pred, average='weighted')))\n",
    "print(\"Weighted F1-Score: \"+ str(f1_score(y_true, y_pred, average='weighted')))\n",
    "print(\"Weighted Sensitivity: \"+ str(sensitivity_score(y_true, y_pred, average='weighted')))\n",
    "print(\"Weighted Specificity: \"+ str(specificity_score(y_true, y_pred, average='weighted')))\n",
    "print(\"weighted Roc score: \" + str(roc_auc_score(y_true,y_prob,multi_class='ovr',average='weighted')))"
   ]
  },
  {
   "cell_type": "markdown",
   "id": "b0b9b8b2",
   "metadata": {
    "papermill": {
     "duration": 0.040517,
     "end_time": "2023-05-28T16:56:45.096125",
     "exception": false,
     "start_time": "2023-05-28T16:56:45.055608",
     "status": "completed"
    },
    "tags": []
   },
   "source": [
    "### Macro Evaluation Measures"
   ]
  },
  {
   "cell_type": "code",
   "execution_count": 42,
   "id": "c5fb922b",
   "metadata": {
    "execution": {
     "iopub.execute_input": "2023-05-28T16:56:45.178321Z",
     "iopub.status.busy": "2023-05-28T16:56:45.177910Z",
     "iopub.status.idle": "2023-05-28T16:56:45.203673Z",
     "shell.execute_reply": "2023-05-28T16:56:45.202573Z"
    },
    "papermill": {
     "duration": 0.069524,
     "end_time": "2023-05-28T16:56:45.205615",
     "exception": false,
     "start_time": "2023-05-28T16:56:45.136091",
     "status": "completed"
    },
    "tags": []
   },
   "outputs": [
    {
     "name": "stdout",
     "output_type": "stream",
     "text": [
      "Macro Precision: 0.8261782152557767\n",
      "Macro Recall: 0.7266734199507309\n",
      "Macro F1-Score: 0.7644705721628798\n",
      "Macro Sensitivity: 0.7266734199507309\n",
      "Macro Specificity: 0.9640392527488878\n",
      "Macro Roc score: 0.9710071807832455\n"
     ]
    }
   ],
   "source": [
    "print(\"Macro Precision: \"+ str(precision_score(y_true, y_pred, average='macro')))\n",
    "print(\"Macro Recall: \"+ str(recall_score(y_true, y_pred, average='macro')))\n",
    "print(\"Macro F1-Score: \"+ str(f1_score(y_true, y_pred, average='macro')))\n",
    "print(\"Macro Sensitivity: \"+ str(sensitivity_score(y_true, y_pred, average='macro')))\n",
    "print(\"Macro Specificity: \"+ str(specificity_score(y_true, y_pred, average='macro')))\n",
    "print(\"Macro Roc score: \" + str(roc_auc_score(y_true,y_prob,multi_class='ovr',average='macro')))"
   ]
  },
  {
   "cell_type": "markdown",
   "id": "dc30addd",
   "metadata": {
    "papermill": {
     "duration": 0.040454,
     "end_time": "2023-05-28T16:56:45.287087",
     "exception": false,
     "start_time": "2023-05-28T16:56:45.246633",
     "status": "completed"
    },
    "tags": []
   },
   "source": [
    "### Micro Evaluation Measures"
   ]
  },
  {
   "cell_type": "code",
   "execution_count": 43,
   "id": "111905f2",
   "metadata": {
    "execution": {
     "iopub.execute_input": "2023-05-28T16:56:45.370135Z",
     "iopub.status.busy": "2023-05-28T16:56:45.369190Z",
     "iopub.status.idle": "2023-05-28T16:56:45.384814Z",
     "shell.execute_reply": "2023-05-28T16:56:45.383525Z"
    },
    "papermill": {
     "duration": 0.059293,
     "end_time": "2023-05-28T16:56:45.386766",
     "exception": false,
     "start_time": "2023-05-28T16:56:45.327473",
     "status": "completed"
    },
    "tags": []
   },
   "outputs": [
    {
     "name": "stdout",
     "output_type": "stream",
     "text": [
      "Micro Precision: 0.9202898550724637\n",
      "Micro Recall: 0.9202898550724637\n",
      "Micro F1-Score: 0.9202898550724637\n",
      "Micro Sensitivity: 0.9202898550724637\n",
      "Micro Specificity: 0.9867149758454107\n"
     ]
    }
   ],
   "source": [
    "print(\"Micro Precision: \"+ str(precision_score(y_true, y_pred, average='micro')))\n",
    "print(\"Micro Recall: \"+ str(recall_score(y_true, y_pred, average='micro')))\n",
    "print(\"Micro F1-Score: \"+ str(f1_score(y_true, y_pred, average='micro')))\n",
    "print(\"Micro Sensitivity: \"+ str(sensitivity_score(y_true, y_pred, average='micro')))\n",
    "print(\"Micro Specificity: \"+ str(specificity_score(y_true, y_pred, average='micro')))"
   ]
  },
  {
   "cell_type": "markdown",
   "id": "d117c8c8",
   "metadata": {
    "papermill": {
     "duration": 0.040276,
     "end_time": "2023-05-28T16:56:45.468888",
     "exception": false,
     "start_time": "2023-05-28T16:56:45.428612",
     "status": "completed"
    },
    "tags": []
   },
   "source": [
    "## ROC"
   ]
  },
  {
   "cell_type": "markdown",
   "id": "d34e3e87",
   "metadata": {
    "papermill": {
     "duration": 0.040402,
     "end_time": "2023-05-28T16:56:45.549822",
     "exception": false,
     "start_time": "2023-05-28T16:56:45.509420",
     "status": "completed"
    },
    "tags": []
   },
   "source": [
    "### Compute ROC curve and ROC area for each class"
   ]
  },
  {
   "cell_type": "code",
   "execution_count": 44,
   "id": "3f4fedb4",
   "metadata": {
    "execution": {
     "iopub.execute_input": "2023-05-28T16:56:45.632935Z",
     "iopub.status.busy": "2023-05-28T16:56:45.631990Z",
     "iopub.status.idle": "2023-05-28T16:56:45.952012Z",
     "shell.execute_reply": "2023-05-28T16:56:45.951107Z"
    },
    "papermill": {
     "duration": 0.363901,
     "end_time": "2023-05-28T16:56:45.954343",
     "exception": false,
     "start_time": "2023-05-28T16:56:45.590442",
     "status": "completed"
    },
    "tags": []
   },
   "outputs": [
    {
     "data": {
      "image/png": "[encoded data removed]",
      "text/plain": [
       "<Figure size 640x480 with 1 Axes>"
      ]
     },
     "metadata": {},
     "output_type": "display_data"
    }
   ],
   "source": [
    "fpr = {}\n",
    "tpr = {}\n",
    "roc_auc = dict()\n",
    "for i in range(num_classes):\n",
    "    fpr[i], tpr[i], _ = roc_curve(y_test[:, i], y_prob[:, i], drop_intermediate=False)\n",
    "    roc_auc[i] = auc(fpr[i], tpr[i])\n",
    "\n",
    "\n",
    "# plot the ROC curve for each class\n",
    "for i in range(7):\n",
    "    plt.plot(fpr[i], tpr[i], label='Class {}: AUC={:.3f}'.format(i, roc_auc[i]))\n",
    "\n",
    "plt.xlabel('False Positive Rate')\n",
    "plt.ylabel('True Positive Rate')\n",
    "plt.legend()\n",
    "plt.show()"
   ]
  },
  {
   "cell_type": "markdown",
   "id": "b8a50a75",
   "metadata": {
    "papermill": {
     "duration": 0.040592,
     "end_time": "2023-05-28T16:56:46.036454",
     "exception": false,
     "start_time": "2023-05-28T16:56:45.995862",
     "status": "completed"
    },
    "tags": []
   },
   "source": [
    "## MCC and Kappa Score"
   ]
  },
  {
   "cell_type": "code",
   "execution_count": 45,
   "id": "9fa2e9ba",
   "metadata": {
    "execution": {
     "iopub.execute_input": "2023-05-28T16:56:46.120204Z",
     "iopub.status.busy": "2023-05-28T16:56:46.119853Z",
     "iopub.status.idle": "2023-05-28T16:56:46.129528Z",
     "shell.execute_reply": "2023-05-28T16:56:46.128336Z"
    },
    "papermill": {
     "duration": 0.054104,
     "end_time": "2023-05-28T16:56:46.131470",
     "exception": false,
     "start_time": "2023-05-28T16:56:46.077366",
     "status": "completed"
    },
    "tags": []
   },
   "outputs": [
    {
     "name": "stdout",
     "output_type": "stream",
     "text": [
      "MCC: 75.85%\n",
      "Kappa Score: 75.47%\n"
     ]
    }
   ],
   "source": [
    "from sklearn.metrics import matthews_corrcoef, cohen_kappa_score\n",
    "\n",
    "# y_true are the true labels of the test set\n",
    "# y_pred are the predicted labels of the test set\n",
    "mcc = matthews_corrcoef(y_true, y_pred)\n",
    "kappa = cohen_kappa_score(y_true, y_pred)\n",
    "print(\"MCC: {:.2f}%\".format(mcc*100))\n",
    "print(\"Kappa Score: {:.2f}%\".format(kappa*100))"
   ]
  },
  {
   "cell_type": "code",
   "execution_count": 46,
   "id": "bcf02192",
   "metadata": {
    "execution": {
     "iopub.execute_input": "2023-05-28T16:56:46.216924Z",
     "iopub.status.busy": "2023-05-28T16:56:46.215917Z",
     "iopub.status.idle": "2023-05-28T16:56:46.281646Z",
     "shell.execute_reply": "2023-05-28T16:56:46.280488Z"
    },
    "papermill": {
     "duration": 0.110031,
     "end_time": "2023-05-28T16:56:46.283842",
     "exception": false,
     "start_time": "2023-05-28T16:56:46.173811",
     "status": "completed"
    },
    "tags": []
   },
   "outputs": [
    {
     "name": "stdout",
     "output_type": "stream",
     "text": [
      "MCC per class:\n",
      "Class 0: 61.91%\n",
      "Class 1: 74.18%\n",
      "Class 2: 72.95%\n",
      "Class 3: 72.85%\n",
      "Class 4: 55.34%\n",
      "Class 5: 82.75%\n",
      "Class 6: 100.00%\n",
      "Kappa Score per class:\n",
      "Class 0: 60.29%\n",
      "Class 1: 74.13%\n",
      "Class 2: 72.91%\n",
      "Class 3: 72.55%\n",
      "Class 4: 53.10%\n",
      "Class 5: 82.30%\n",
      "Class 6: 100.00%\n"
     ]
    }
   ],
   "source": [
    "### Individual Class Wise MCC and Kappa\n",
    "\n",
    "from sklearn.metrics import confusion_matrix, matthews_corrcoef, cohen_kappa_score\n",
    "# y_true are the true labels of the test set\n",
    "# y_pred are the predicted labels of the test set\n",
    "conf_mat = confusion_matrix(y_true, y_pred)\n",
    "mcc_per_class = {}\n",
    "kappa_per_class = {}\n",
    "\n",
    "for i in range(len(conf_mat)):\n",
    "    tp = conf_mat[i][i]\n",
    "    fp = sum(conf_mat[:, i]) - tp\n",
    "    fn = sum(conf_mat[i, :]) - tp\n",
    "    tn = sum(sum(conf_mat)) - tp - fp - fn\n",
    "\n",
    "    mcc_per_class[i] = matthews_corrcoef([1 if x==i else 0 for x in y_true], [1 if x==i else 0 for x in y_pred])\n",
    "    kappa_per_class[i] = cohen_kappa_score([1 if x==i else 0 for x in y_true], [1 if x==i else 0 for x in y_pred])\n",
    "\n",
    "print(\"MCC per class:\")\n",
    "for i, mcc in mcc_per_class.items():\n",
    "    print(\"Class {}: {:.2f}%\".format(i, mcc*100))\n",
    "\n",
    "print(\"Kappa Score per class:\")\n",
    "for i, kappa in kappa_per_class.items():\n",
    "    print(\"Class {}: {:.2f}%\".format(i, kappa*100))"
   ]
  },
  {
   "cell_type": "code",
   "execution_count": null,
   "id": "a6372cde",
   "metadata": {
    "papermill": {
     "duration": 0.041233,
     "end_time": "2023-05-28T16:56:46.369268",
     "exception": false,
     "start_time": "2023-05-28T16:56:46.328035",
     "status": "completed"
    },
    "tags": []
   },
   "outputs": [],
   "source": []
  }
 ],
 "metadata": {
  "kernelspec": {
   "display_name": "Python 3",
   "language": "python",
   "name": "python3"
  },
  "language_info": {
   "codemirror_mode": {
    "name": "ipython",
    "version": 3
   },
   "file_extension": ".py",
   "mimetype": "text/x-python",
   "name": "python",
   "nbconvert_exporter": "python",
   "pygments_lexer": "ipython3",
   "version": "3.10.10"
  },
  "papermill": {
   "default_parameters": {},
   "duration": 24993.360908,
   "end_time": "2023-05-28T16:56:50.113533",
   "environment_variables": {},
   "exception": null,
   "input_path": "__notebook__.ipynb",
   "output_path": "__notebook__.ipynb",
   "parameters": {},
   "start_time": "2023-05-28T10:00:16.752625",
   "version": "2.4.0"
  }
 },
 "nbformat": 4,
 "nbformat_minor": 5
}
