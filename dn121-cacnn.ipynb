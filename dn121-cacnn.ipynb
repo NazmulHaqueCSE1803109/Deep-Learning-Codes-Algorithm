{
 "cells": [
  {
   "cell_type": "markdown",
   "id": "61951b18",
   "metadata": {
    "papermill": {
     "duration": 0.014716,
     "end_time": "2023-05-28T02:15:13.181974",
     "exception": false,
     "start_time": "2023-05-28T02:15:13.167258",
     "status": "completed"
    },
    "tags": []
   },
   "source": [
    "# Libraries"
   ]
  },
  {
   "cell_type": "code",
   "execution_count": 1,
   "id": "a6a429ee",
   "metadata": {
    "execution": {
     "iopub.execute_input": "2023-05-28T02:15:13.212667Z",
     "iopub.status.busy": "2023-05-28T02:15:13.212212Z",
     "iopub.status.idle": "2023-05-28T02:15:22.165692Z",
     "shell.execute_reply": "2023-05-28T02:15:22.164721Z"
    },
    "id": "Aa36bMKLze3z",
    "papermill": {
     "duration": 8.971715,
     "end_time": "2023-05-28T02:15:22.168317",
     "exception": false,
     "start_time": "2023-05-28T02:15:13.196602",
     "status": "completed"
    },
    "tags": []
   },
   "outputs": [
    {
     "name": "stderr",
     "output_type": "stream",
     "text": [
      "/opt/conda/lib/python3.10/site-packages/tensorflow_io/python/ops/__init__.py:98: UserWarning: unable to load libtensorflow_io_plugins.so: unable to open file: libtensorflow_io_plugins.so, from paths: ['/opt/conda/lib/python3.10/site-packages/tensorflow_io/python/ops/libtensorflow_io_plugins.so']\n",
      "caused by: ['/opt/conda/lib/python3.10/site-packages/tensorflow_io/python/ops/libtensorflow_io_plugins.so: undefined symbol: _ZN3tsl6StatusC1EN10tensorflow5error4CodeESt17basic_string_viewIcSt11char_traitsIcEENS_14SourceLocationE']\n",
      "  warnings.warn(f\"unable to load libtensorflow_io_plugins.so: {e}\")\n",
      "/opt/conda/lib/python3.10/site-packages/tensorflow_io/python/ops/__init__.py:104: UserWarning: file system plugins are not loaded: unable to open file: libtensorflow_io.so, from paths: ['/opt/conda/lib/python3.10/site-packages/tensorflow_io/python/ops/libtensorflow_io.so']\n",
      "caused by: ['/opt/conda/lib/python3.10/site-packages/tensorflow_io/python/ops/libtensorflow_io.so: undefined symbol: _ZTVN10tensorflow13GcsFileSystemE']\n",
      "  warnings.warn(f\"file system plugins are not loaded: {e}\")\n"
     ]
    }
   ],
   "source": [
    "import pandas as pd\n",
    "import numpy as np\n",
    "import os\n",
    "import tensorflow as tf\n",
    "import cv2\n",
    "from keras import backend as K\n",
    "from keras.layers import Layer, InputSpec\n",
    "import keras.layers as kl\n",
    "from glob import glob\n",
    "from sklearn.metrics import roc_curve, auc\n",
    "from keras.preprocessing import image\n",
    "from tensorflow.keras.models import Sequential\n",
    "from sklearn.metrics import roc_auc_score\n",
    "from tensorflow.keras import callbacks \n",
    "from tensorflow.keras.callbacks import ModelCheckpoint, EarlyStopping\n",
    "from  matplotlib import pyplot as plt\n",
    "from tensorflow.keras import Model\n",
    "from tensorflow.keras.layers import concatenate, Dense, Conv2D, MaxPooling2D, Flatten, Input, Activation, add, AveragePooling2D, BatchNormalization, Dropout\n",
    "%matplotlib inline\n",
    "import shutil\n",
    "from sklearn.metrics import  precision_score, recall_score, accuracy_score, classification_report, confusion_matrix\n",
    "from tensorflow.python.platform import build_info as tf_build_info\n",
    "from tensorflow.keras.preprocessing.image import ImageDataGenerator\n",
    "from sklearn.model_selection import train_test_split\n",
    "\n",
    "from PIL import ImageFile\n",
    "ImageFile.LOAD_TRUNCATED_IMAGES = True\n",
    "\n",
    "from tensorflow.keras.layers import Reshape, Conv2D, BatchNormalization, MaxPooling2D, Flatten, Dense, Input, GlobalAveragePooling2D, GlobalMaxPooling2D\n",
    "from tensorflow.keras.applications.mobilenet import MobileNet\n",
    "from tensorflow.keras.models import Model\n",
    "from tensorflow.keras.callbacks import EarlyStopping, ModelCheckpoint\n",
    "from tensorflow.keras.preprocessing.image import ImageDataGenerator"
   ]
  },
  {
   "cell_type": "code",
   "execution_count": 2,
   "id": "b159c79a",
   "metadata": {
    "execution": {
     "iopub.execute_input": "2023-05-28T02:15:22.200476Z",
     "iopub.status.busy": "2023-05-28T02:15:22.199526Z",
     "iopub.status.idle": "2023-05-28T02:15:22.204823Z",
     "shell.execute_reply": "2023-05-28T02:15:22.203926Z"
    },
    "id": "PsoqCvNsgmHP",
    "papermill": {
     "duration": 0.022607,
     "end_time": "2023-05-28T02:15:22.206811",
     "exception": false,
     "start_time": "2023-05-28T02:15:22.184204",
     "status": "completed"
    },
    "tags": []
   },
   "outputs": [],
   "source": [
    "targetnames = ['akiec', 'bcc', 'bkl', 'df', 'mel', 'nv', 'vasc']\n",
    "batch_size = 16\n",
    "image_size = 224"
   ]
  },
  {
   "cell_type": "code",
   "execution_count": 3,
   "id": "d314f109",
   "metadata": {
    "execution": {
     "iopub.execute_input": "2023-05-28T02:15:22.236905Z",
     "iopub.status.busy": "2023-05-28T02:15:22.236075Z",
     "iopub.status.idle": "2023-05-28T02:15:22.240865Z",
     "shell.execute_reply": "2023-05-28T02:15:22.240032Z"
    },
    "id": "wNisha_gM3_Z",
    "papermill": {
     "duration": 0.021858,
     "end_time": "2023-05-28T02:15:22.242792",
     "exception": false,
     "start_time": "2023-05-28T02:15:22.220934",
     "status": "completed"
    },
    "tags": []
   },
   "outputs": [],
   "source": [
    "train_path = '/kaggle/input/splitted-and-augmented-ham-15/Splitted_And_Augmented_HAM_15/HAM10K/train_dir'\n",
    "test_path = '/kaggle/input/splitted-and-augmented-ham-15/Splitted_And_Augmented_HAM_15/HAM10K/test_dir'\n",
    "val_path = '/kaggle/input/splitted-and-augmented-ham-15/Splitted_And_Augmented_HAM_15/HAM10K/val_dir'"
   ]
  },
  {
   "cell_type": "markdown",
   "id": "b80ff477",
   "metadata": {
    "papermill": {
     "duration": 0.014053,
     "end_time": "2023-05-28T02:15:22.271598",
     "exception": false,
     "start_time": "2023-05-28T02:15:22.257545",
     "status": "completed"
    },
    "tags": []
   },
   "source": [
    "# Dataset generation (Train, Test, Validation)"
   ]
  },
  {
   "cell_type": "code",
   "execution_count": 4,
   "id": "960f9ed7",
   "metadata": {
    "execution": {
     "iopub.execute_input": "2023-05-28T02:15:22.301412Z",
     "iopub.status.busy": "2023-05-28T02:15:22.300623Z",
     "iopub.status.idle": "2023-05-28T02:15:22.305173Z",
     "shell.execute_reply": "2023-05-28T02:15:22.304238Z"
    },
    "id": "zhQWqdRN79B3",
    "papermill": {
     "duration": 0.021458,
     "end_time": "2023-05-28T02:15:22.307260",
     "exception": false,
     "start_time": "2023-05-28T02:15:22.285802",
     "status": "completed"
    },
    "tags": []
   },
   "outputs": [],
   "source": [
    "datagen = ImageDataGenerator(preprocessing_function=tf.keras.applications.densenet.preprocess_input)"
   ]
  },
  {
   "cell_type": "code",
   "execution_count": 5,
   "id": "dae8dcdc",
   "metadata": {
    "execution": {
     "iopub.execute_input": "2023-05-28T02:15:22.336264Z",
     "iopub.status.busy": "2023-05-28T02:15:22.335460Z",
     "iopub.status.idle": "2023-05-28T02:15:39.546753Z",
     "shell.execute_reply": "2023-05-28T02:15:39.545792Z"
    },
    "id": "w9_8FvOO7Rtu",
    "outputId": "7ca88c24-fda8-45d6-cb32-f3a43ae6ba5b",
    "papermill": {
     "duration": 17.228011,
     "end_time": "2023-05-28T02:15:39.549028",
     "exception": false,
     "start_time": "2023-05-28T02:15:22.321017",
     "status": "completed"
    },
    "tags": []
   },
   "outputs": [
    {
     "name": "stdout",
     "output_type": "stream",
     "text": [
      "\n",
      "Train Batches: \n",
      "Found 54782 images belonging to 7 classes.\n",
      "\n",
      "Test Batches: \n",
      "Found 828 images belonging to 7 classes.\n",
      "\n",
      "Val Batches: \n",
      "Found 827 images belonging to 7 classes.\n"
     ]
    }
   ],
   "source": [
    "print(\"\\nTrain Batches: \")\n",
    "train_batches = datagen.flow_from_directory(directory=train_path,\n",
    "                                            target_size=(image_size,image_size),\n",
    "                                            batch_size=batch_size,\n",
    "                                            shuffle=True)\n",
    "\n",
    "print(\"\\nTest Batches: \")\n",
    "test_batches = datagen.flow_from_directory(test_path,\n",
    "                                          target_size=(image_size,image_size),\n",
    "                                          batch_size=batch_size,\n",
    "                                          shuffle=False)\n",
    "print(\"\\nVal Batches: \")\n",
    "val_batches = datagen.flow_from_directory(val_path,\n",
    "                                         target_size=(image_size,image_size),\n",
    "                                         batch_size=batch_size,\n",
    "                                         shuffle=False)"
   ]
  },
  {
   "cell_type": "markdown",
   "id": "9074cb5b",
   "metadata": {
    "papermill": {
     "duration": 0.014175,
     "end_time": "2023-05-28T02:15:39.578630",
     "exception": false,
     "start_time": "2023-05-28T02:15:39.564455",
     "status": "completed"
    },
    "tags": []
   },
   "source": [
    "# Main Model Creation"
   ]
  },
  {
   "cell_type": "code",
   "execution_count": 6,
   "id": "a80fd8a0",
   "metadata": {
    "execution": {
     "iopub.execute_input": "2023-05-28T02:15:39.609289Z",
     "iopub.status.busy": "2023-05-28T02:15:39.608339Z",
     "iopub.status.idle": "2023-05-28T02:15:39.620848Z",
     "shell.execute_reply": "2023-05-28T02:15:39.620005Z"
    },
    "papermill": {
     "duration": 0.030142,
     "end_time": "2023-05-28T02:15:39.622836",
     "exception": false,
     "start_time": "2023-05-28T02:15:39.592694",
     "status": "completed"
    },
    "tags": []
   },
   "outputs": [],
   "source": [
    "# Channel Attention\n",
    "from tensorflow.keras.layers import Layer\n",
    "from tensorflow.keras import backend as K\n",
    "\n",
    "class ChannelAttention(Layer):\n",
    "    def __init__(self, reduction=16):\n",
    "        super(ChannelAttention, self).__init__()\n",
    "        self.reduction = reduction\n",
    "\n",
    "    def build(self, input_shape):\n",
    "        self.channels = input_shape[-1]\n",
    "        self.avg_pool = GlobalAveragePooling2D()\n",
    "        self.max_pool = GlobalMaxPooling2D()\n",
    "\n",
    "        self.shared_layer_one = Dense(units=self.channels // self.reduction, activation='relu', kernel_initializer='he_normal', use_bias=True, bias_initializer='zeros')\n",
    "        self.shared_layer_two = Dense(units=self.channels, activation='sigmoid', kernel_initializer='he_normal', use_bias=True, bias_initializer='zeros')\n",
    "\n",
    "    def call(self, x):\n",
    "        avg_pool = self.avg_pool(x)\n",
    "        max_pool = self.max_pool(x)\n",
    "\n",
    "        avg_pool = Reshape((1, 1, self.channels))(avg_pool)\n",
    "        max_pool = Reshape((1, 1, self.channels))(max_pool)\n",
    "        shared_layer_one = self.shared_layer_one(avg_pool) + self.shared_layer_one(max_pool)\n",
    "        shared_layer_two = self.shared_layer_two(shared_layer_one)\n",
    "        return x * shared_layer_two\n",
    "\n",
    "    def get_config(self):\n",
    "        config = super().get_config().copy()\n",
    "        config.update({\n",
    "            'reduction': self.reduction,\n",
    "        })\n",
    "        return config"
   ]
  },
  {
   "cell_type": "code",
   "execution_count": 7,
   "id": "bafc9754",
   "metadata": {
    "execution": {
     "iopub.execute_input": "2023-05-28T02:15:39.653167Z",
     "iopub.status.busy": "2023-05-28T02:15:39.652309Z",
     "iopub.status.idle": "2023-05-28T02:15:47.601675Z",
     "shell.execute_reply": "2023-05-28T02:15:47.600699Z"
    },
    "id": "zhQWqdRN79B3",
    "papermill": {
     "duration": 7.966819,
     "end_time": "2023-05-28T02:15:47.604072",
     "exception": false,
     "start_time": "2023-05-28T02:15:39.637253",
     "status": "completed"
    },
    "tags": []
   },
   "outputs": [
    {
     "name": "stdout",
     "output_type": "stream",
     "text": [
      "Downloading data from https://storage.googleapis.com/tensorflow/keras-applications/densenet/densenet121_weights_tf_dim_ordering_tf_kernels_notop.h5\n",
      "29084464/29084464 [==============================] - 1s 0us/step\n"
     ]
    }
   ],
   "source": [
    "from tensorflow.keras.applications.densenet import DenseNet121\n",
    "# Create a new instance of DenseNet121\n",
    "DN121 = DenseNet121(weights='imagenet', include_top=False, input_shape=(image_size, image_size, 3), pooling='avg')"
   ]
  },
  {
   "cell_type": "markdown",
   "id": "1b43e2f8",
   "metadata": {
    "papermill": {
     "duration": 0.017069,
     "end_time": "2023-05-28T02:15:47.638148",
     "exception": false,
     "start_time": "2023-05-28T02:15:47.621079",
     "status": "completed"
    },
    "tags": []
   },
   "source": [
    "## Fine tuning"
   ]
  },
  {
   "cell_type": "code",
   "execution_count": 8,
   "id": "d12aac98",
   "metadata": {
    "execution": {
     "iopub.execute_input": "2023-05-28T02:15:47.672558Z",
     "iopub.status.busy": "2023-05-28T02:15:47.672229Z",
     "iopub.status.idle": "2023-05-28T02:15:47.678388Z",
     "shell.execute_reply": "2023-05-28T02:15:47.677378Z"
    },
    "id": "4d4Ta5LcSYaz",
    "papermill": {
     "duration": 0.025846,
     "end_time": "2023-05-28T02:15:47.680709",
     "exception": false,
     "start_time": "2023-05-28T02:15:47.654863",
     "status": "completed"
    },
    "tags": []
   },
   "outputs": [],
   "source": [
    "MainInput=Input(shape=(image_size, image_size, 3))"
   ]
  },
  {
   "cell_type": "code",
   "execution_count": 9,
   "id": "79097793",
   "metadata": {
    "execution": {
     "iopub.execute_input": "2023-05-28T02:15:47.714041Z",
     "iopub.status.busy": "2023-05-28T02:15:47.713756Z",
     "iopub.status.idle": "2023-05-28T02:15:48.634297Z",
     "shell.execute_reply": "2023-05-28T02:15:48.633387Z"
    },
    "papermill": {
     "duration": 0.939946,
     "end_time": "2023-05-28T02:15:48.636729",
     "exception": false,
     "start_time": "2023-05-28T02:15:47.696783",
     "status": "completed"
    },
    "tags": []
   },
   "outputs": [],
   "source": [
    "dn121 = DN121(MainInput)"
   ]
  },
  {
   "cell_type": "code",
   "execution_count": 10,
   "id": "cdaaca73",
   "metadata": {
    "execution": {
     "iopub.execute_input": "2023-05-28T02:15:48.670731Z",
     "iopub.status.busy": "2023-05-28T02:15:48.670440Z",
     "iopub.status.idle": "2023-05-28T02:15:48.684486Z",
     "shell.execute_reply": "2023-05-28T02:15:48.683690Z"
    },
    "papermill": {
     "duration": 0.033344,
     "end_time": "2023-05-28T02:15:48.686598",
     "exception": false,
     "start_time": "2023-05-28T02:15:48.653254",
     "status": "completed"
    },
    "tags": []
   },
   "outputs": [],
   "source": [
    "# Reshape the tensor to have 4 dimensions\n",
    "from tensorflow.keras.layers import Reshape\n",
    "reshape = Reshape((16, 16, 4))(dn121)"
   ]
  },
  {
   "cell_type": "code",
   "execution_count": 11,
   "id": "c2f6932e",
   "metadata": {
    "execution": {
     "iopub.execute_input": "2023-05-28T02:15:48.720000Z",
     "iopub.status.busy": "2023-05-28T02:15:48.719706Z",
     "iopub.status.idle": "2023-05-28T02:15:49.206812Z",
     "shell.execute_reply": "2023-05-28T02:15:49.205901Z"
    },
    "id": "x8mS99J5SYbT",
    "papermill": {
     "duration": 0.50638,
     "end_time": "2023-05-28T02:15:49.209344",
     "exception": false,
     "start_time": "2023-05-28T02:15:48.702964",
     "status": "completed"
    },
    "tags": []
   },
   "outputs": [],
   "source": [
    "conv=(Conv2D(filters=128,kernel_size=(7,7), activation=\"relu\",padding=\"same\",kernel_initializer='he_normal')(reshape))\n",
    "conv=(BatchNormalization()(conv))\n",
    "conv = ChannelAttention()(conv)\n",
    "conv=(Conv2D(filters=128,kernel_size=(5,5), activation=\"relu\",padding=\"same\",kernel_initializer='he_normal')(conv))\n",
    "conv=(BatchNormalization()(conv))\n",
    "conv = ChannelAttention()(conv)\n",
    "conv=(Conv2D(filters=128,kernel_size=(3,3), activation=\"relu\",padding=\"same\",kernel_initializer='he_normal')(conv))\n",
    "conv=(BatchNormalization()(conv))\n",
    "conv = ChannelAttention()(conv)\n",
    "conv=(Conv2D(filters=128,kernel_size=(1,1), activation=\"relu\",padding=\"same\",kernel_initializer='he_normal')(conv))\n",
    "conv=(BatchNormalization()(conv))\n",
    "conv = ChannelAttention()(conv)"
   ]
  },
  {
   "cell_type": "code",
   "execution_count": 12,
   "id": "1a6b1eaa",
   "metadata": {
    "execution": {
     "iopub.execute_input": "2023-05-28T02:15:49.245178Z",
     "iopub.status.busy": "2023-05-28T02:15:49.244341Z",
     "iopub.status.idle": "2023-05-28T02:15:49.253143Z",
     "shell.execute_reply": "2023-05-28T02:15:49.252240Z"
    },
    "id": "wfhLPhssAm2S",
    "papermill": {
     "duration": 0.029002,
     "end_time": "2023-05-28T02:15:49.255536",
     "exception": false,
     "start_time": "2023-05-28T02:15:49.226534",
     "status": "completed"
    },
    "tags": []
   },
   "outputs": [],
   "source": [
    "conv=(MaxPooling2D(strides=(2, 2),padding=\"same\")(conv))"
   ]
  },
  {
   "cell_type": "code",
   "execution_count": 13,
   "id": "ce7aea75",
   "metadata": {
    "execution": {
     "iopub.execute_input": "2023-05-28T02:15:49.290833Z",
     "iopub.status.busy": "2023-05-28T02:15:49.290503Z",
     "iopub.status.idle": "2023-05-28T02:15:49.673932Z",
     "shell.execute_reply": "2023-05-28T02:15:49.672997Z"
    },
    "id": "sW4tKg9wSYbk",
    "papermill": {
     "duration": 0.403818,
     "end_time": "2023-05-28T02:15:49.676442",
     "exception": false,
     "start_time": "2023-05-28T02:15:49.272624",
     "status": "completed"
    },
    "tags": []
   },
   "outputs": [],
   "source": [
    "conv=(Conv2D(filters=256,kernel_size=(7,7), activation=\"relu\",padding=\"same\",kernel_initializer='he_normal')(conv))\n",
    "conv=(BatchNormalization()(conv))\n",
    "conv = ChannelAttention()(conv)\n",
    "conv=(Conv2D(filters=256,kernel_size=(5,5), activation=\"relu\",padding=\"same\",kernel_initializer='he_normal')(conv))\n",
    "conv=(BatchNormalization()(conv))\n",
    "conv = ChannelAttention()(conv)\n",
    "conv=(Conv2D(filters=256,kernel_size=(3,3), activation=\"relu\",padding=\"same\",kernel_initializer='he_normal')(conv))\n",
    "conv=(BatchNormalization()(conv))\n",
    "conv = ChannelAttention()(conv)\n",
    "conv=(Conv2D(filters=256,kernel_size=(1,1), activation=\"relu\",padding=\"same\",kernel_initializer='he_normal')(conv))\n",
    "conv=(BatchNormalization()(conv))\n",
    "conv = ChannelAttention()(conv)"
   ]
  },
  {
   "cell_type": "code",
   "execution_count": 14,
   "id": "15bb6046",
   "metadata": {
    "execution": {
     "iopub.execute_input": "2023-05-28T02:15:49.712713Z",
     "iopub.status.busy": "2023-05-28T02:15:49.710866Z",
     "iopub.status.idle": "2023-05-28T02:15:49.721071Z",
     "shell.execute_reply": "2023-05-28T02:15:49.720196Z"
    },
    "id": "eo8E7RxUSYcW",
    "papermill": {
     "duration": 0.030383,
     "end_time": "2023-05-28T02:15:49.723251",
     "exception": false,
     "start_time": "2023-05-28T02:15:49.692868",
     "status": "completed"
    },
    "tags": []
   },
   "outputs": [],
   "source": [
    "conv=(MaxPooling2D(pool_size=(2, 2),padding=\"same\")(conv))"
   ]
  },
  {
   "cell_type": "code",
   "execution_count": 15,
   "id": "439c01af",
   "metadata": {
    "execution": {
     "iopub.execute_input": "2023-05-28T02:15:49.757748Z",
     "iopub.status.busy": "2023-05-28T02:15:49.756901Z",
     "iopub.status.idle": "2023-05-28T02:15:49.762217Z",
     "shell.execute_reply": "2023-05-28T02:15:49.761247Z"
    },
    "papermill": {
     "duration": 0.024787,
     "end_time": "2023-05-28T02:15:49.764447",
     "exception": false,
     "start_time": "2023-05-28T02:15:49.739660",
     "status": "completed"
    },
    "tags": []
   },
   "outputs": [
    {
     "name": "stdout",
     "output_type": "stream",
     "text": [
      "7\n"
     ]
    }
   ],
   "source": [
    "num_classes = test_batches.num_classes\n",
    "print(num_classes)"
   ]
  },
  {
   "cell_type": "code",
   "execution_count": 16,
   "id": "966dadee",
   "metadata": {
    "execution": {
     "iopub.execute_input": "2023-05-28T02:15:49.798386Z",
     "iopub.status.busy": "2023-05-28T02:15:49.798117Z",
     "iopub.status.idle": "2023-05-28T02:15:49.851820Z",
     "shell.execute_reply": "2023-05-28T02:15:49.850888Z"
    },
    "id": "-EdFxKdgSYcf",
    "papermill": {
     "duration": 0.073376,
     "end_time": "2023-05-28T02:15:49.854216",
     "exception": false,
     "start_time": "2023-05-28T02:15:49.780840",
     "status": "completed"
    },
    "tags": []
   },
   "outputs": [],
   "source": [
    "conv=(Flatten()(conv))\n",
    "conv=(Dense(1024,activation=\"relu\")(conv))\n",
    "conv=(Dense(512,activation=\"relu\")(conv))\n",
    "conv=(Dense(num_classes, activation=\"softmax\")(conv))\n",
    "\n",
    "model_dn121_ca = Model(inputs=MainInput, outputs=conv)"
   ]
  },
  {
   "cell_type": "code",
   "execution_count": 17,
   "id": "c3c3b69b",
   "metadata": {
    "execution": {
     "iopub.execute_input": "2023-05-28T02:15:49.889634Z",
     "iopub.status.busy": "2023-05-28T02:15:49.888144Z",
     "iopub.status.idle": "2023-05-28T02:15:50.018678Z",
     "shell.execute_reply": "2023-05-28T02:15:50.017875Z"
    },
    "id": "ba8ajOckSYcl",
    "outputId": "e69fa749-4741-4f49-ae3e-9f5479e809a8",
    "papermill": {
     "duration": 0.173157,
     "end_time": "2023-05-28T02:15:50.043957",
     "exception": false,
     "start_time": "2023-05-28T02:15:49.870800",
     "status": "completed"
    },
    "tags": []
   },
   "outputs": [
    {
     "name": "stdout",
     "output_type": "stream",
     "text": [
      "Model: \"model\"\n",
      "_________________________________________________________________\n",
      " Layer (type)                Output Shape              Param #   \n",
      "=================================================================\n",
      " input_2 (InputLayer)        [(None, 224, 224, 3)]     0         \n",
      "                                                                 \n",
      " densenet121 (Functional)    (None, 1024)              7037504   \n",
      "                                                                 \n",
      " reshape (Reshape)           (None, 16, 16, 4)         0         \n",
      "                                                                 \n",
      " conv2d (Conv2D)             (None, 16, 16, 128)       25216     \n",
      "                                                                 \n",
      " batch_normalization (BatchN  (None, 16, 16, 128)      512       \n",
      " ormalization)                                                   \n",
      "                                                                 \n",
      " channel_attention (ChannelA  (None, 16, 16, 128)      2184      \n",
      " ttention)                                                       \n",
      "                                                                 \n",
      " conv2d_1 (Conv2D)           (None, 16, 16, 128)       409728    \n",
      "                                                                 \n",
      " batch_normalization_1 (Batc  (None, 16, 16, 128)      512       \n",
      " hNormalization)                                                 \n",
      "                                                                 \n",
      " channel_attention_1 (Channe  (None, 16, 16, 128)      2184      \n",
      " lAttention)                                                     \n",
      "                                                                 \n",
      " conv2d_2 (Conv2D)           (None, 16, 16, 128)       147584    \n",
      "                                                                 \n",
      " batch_normalization_2 (Batc  (None, 16, 16, 128)      512       \n",
      " hNormalization)                                                 \n",
      "                                                                 \n",
      " channel_attention_2 (Channe  (None, 16, 16, 128)      2184      \n",
      " lAttention)                                                     \n",
      "                                                                 \n",
      " conv2d_3 (Conv2D)           (None, 16, 16, 128)       16512     \n",
      "                                                                 \n",
      " batch_normalization_3 (Batc  (None, 16, 16, 128)      512       \n",
      " hNormalization)                                                 \n",
      "                                                                 \n",
      " channel_attention_3 (Channe  (None, 16, 16, 128)      2184      \n",
      " lAttention)                                                     \n",
      "                                                                 \n",
      " max_pooling2d (MaxPooling2D  (None, 8, 8, 128)        0         \n",
      " )                                                               \n",
      "                                                                 \n",
      " conv2d_4 (Conv2D)           (None, 8, 8, 256)         1605888   \n",
      "                                                                 \n",
      " batch_normalization_4 (Batc  (None, 8, 8, 256)        1024      \n",
      " hNormalization)                                                 \n",
      "                                                                 \n",
      " channel_attention_4 (Channe  (None, 8, 8, 256)        8464      \n",
      " lAttention)                                                     \n",
      "                                                                 \n",
      " conv2d_5 (Conv2D)           (None, 8, 8, 256)         1638656   \n",
      "                                                                 \n",
      " batch_normalization_5 (Batc  (None, 8, 8, 256)        1024      \n",
      " hNormalization)                                                 \n",
      "                                                                 \n",
      " channel_attention_5 (Channe  (None, 8, 8, 256)        8464      \n",
      " lAttention)                                                     \n",
      "                                                                 \n",
      " conv2d_6 (Conv2D)           (None, 8, 8, 256)         590080    \n",
      "                                                                 \n",
      " batch_normalization_6 (Batc  (None, 8, 8, 256)        1024      \n",
      " hNormalization)                                                 \n",
      "                                                                 \n",
      " channel_attention_6 (Channe  (None, 8, 8, 256)        8464      \n",
      " lAttention)                                                     \n",
      "                                                                 \n",
      " conv2d_7 (Conv2D)           (None, 8, 8, 256)         65792     \n",
      "                                                                 \n",
      " batch_normalization_7 (Batc  (None, 8, 8, 256)        1024      \n",
      " hNormalization)                                                 \n",
      "                                                                 \n",
      " channel_attention_7 (Channe  (None, 8, 8, 256)        8464      \n",
      " lAttention)                                                     \n",
      "                                                                 \n",
      " max_pooling2d_1 (MaxPooling  (None, 4, 4, 256)        0         \n",
      " 2D)                                                             \n",
      "                                                                 \n",
      " flatten (Flatten)           (None, 4096)              0         \n",
      "                                                                 \n",
      " dense (Dense)               (None, 1024)              4195328   \n",
      "                                                                 \n",
      " dense_1 (Dense)             (None, 512)               524800    \n",
      "                                                                 \n",
      " dense_2 (Dense)             (None, 7)                 3591      \n",
      "                                                                 \n",
      "=================================================================\n",
      "Total params: 16,309,415\n",
      "Trainable params: 16,222,695\n",
      "Non-trainable params: 86,720\n",
      "_________________________________________________________________\n"
     ]
    }
   ],
   "source": [
    "model_dn121_ca.summary()"
   ]
  },
  {
   "cell_type": "code",
   "execution_count": 18,
   "id": "bba83362",
   "metadata": {
    "execution": {
     "iopub.execute_input": "2023-05-28T02:15:50.091120Z",
     "iopub.status.busy": "2023-05-28T02:15:50.090814Z",
     "iopub.status.idle": "2023-05-28T02:15:50.119489Z",
     "shell.execute_reply": "2023-05-28T02:15:50.118596Z"
    },
    "id": "WR0fUpy18vAZ",
    "papermill": {
     "duration": 0.05448,
     "end_time": "2023-05-28T02:15:50.121548",
     "exception": false,
     "start_time": "2023-05-28T02:15:50.067068",
     "status": "completed"
    },
    "tags": []
   },
   "outputs": [],
   "source": [
    "opt1=tf.keras.optimizers.Adam(learning_rate=0.001,epsilon=0.1)\n",
    "model_dn121_ca.compile(optimizer=opt1,\n",
    "             loss='categorical_crossentropy',\n",
    "             metrics=['accuracy'])"
   ]
  },
  {
   "cell_type": "code",
   "execution_count": 19,
   "id": "2c95d988",
   "metadata": {
    "execution": {
     "iopub.execute_input": "2023-05-28T02:15:50.170776Z",
     "iopub.status.busy": "2023-05-28T02:15:50.170437Z",
     "iopub.status.idle": "2023-05-28T02:15:50.175229Z",
     "shell.execute_reply": "2023-05-28T02:15:50.174334Z"
    },
    "id": "LAf5ha295reS",
    "papermill": {
     "duration": 0.031319,
     "end_time": "2023-05-28T02:15:50.177238",
     "exception": false,
     "start_time": "2023-05-28T02:15:50.145919",
     "status": "completed"
    },
    "tags": []
   },
   "outputs": [],
   "source": [
    "class_weights = {   \n",
    "                    0: 1.0,  # akiec\n",
    "                    1: 1.0,  # bcc\n",
    "                    2: 1.0,  # bkl\n",
    "                    3: 1.0,  # df\n",
    "                    4: 1.0,  # mel\n",
    "                    5: 1.0,  # nv\n",
    "                    6: 1.0  # vasc\n",
    "                }"
   ]
  },
  {
   "cell_type": "code",
   "execution_count": 20,
   "id": "5abe08d4",
   "metadata": {
    "execution": {
     "iopub.execute_input": "2023-05-28T02:15:50.224163Z",
     "iopub.status.busy": "2023-05-28T02:15:50.223403Z",
     "iopub.status.idle": "2023-05-28T02:15:50.228577Z",
     "shell.execute_reply": "2023-05-28T02:15:50.227781Z"
    },
    "papermill": {
     "duration": 0.03077,
     "end_time": "2023-05-28T02:15:50.230599",
     "exception": false,
     "start_time": "2023-05-28T02:15:50.199829",
     "status": "completed"
    },
    "tags": []
   },
   "outputs": [],
   "source": [
    "checkpoint = ModelCheckpoint(filepath ='DN121_CA.hdf5', monitor='val_accuracy', save_best_only=True, save_weights_only=True)\n",
    "Earlystop = EarlyStopping(monitor='val_accuracy', mode='max', patience=20, min_delta=0.001)"
   ]
  },
  {
   "cell_type": "code",
   "execution_count": 21,
   "id": "7eba7223",
   "metadata": {
    "execution": {
     "iopub.execute_input": "2023-05-28T02:15:50.278367Z",
     "iopub.status.busy": "2023-05-28T02:15:50.277521Z",
     "iopub.status.idle": "2023-05-28T09:11:39.117177Z",
     "shell.execute_reply": "2023-05-28T09:11:39.116187Z"
    },
    "id": "NUzTmiZ-8hL3",
    "outputId": "e1825ff2-9f9c-436f-cf2c-9776af8eee62",
    "papermill": {
     "duration": 24948.895621,
     "end_time": "2023-05-28T09:11:39.149206",
     "exception": false,
     "start_time": "2023-05-28T02:15:50.253585",
     "status": "completed"
    },
    "tags": []
   },
   "outputs": [
    {
     "name": "stdout",
     "output_type": "stream",
     "text": [
      "Epoch 1/50\n",
      "3424/3424 - 640s - loss: 0.9602 - accuracy: 0.6368 - val_loss: 0.3292 - val_accuracy: 0.8912 - 640s/epoch - 187ms/step\n",
      "Epoch 2/50\n",
      "3424/3424 - 510s - loss: 0.4080 - accuracy: 0.8510 - val_loss: 0.3480 - val_accuracy: 0.8803 - 510s/epoch - 149ms/step\n",
      "Epoch 3/50\n",
      "3424/3424 - 505s - loss: 0.2597 - accuracy: 0.9043 - val_loss: 0.3703 - val_accuracy: 0.8803 - 505s/epoch - 148ms/step\n",
      "Epoch 4/50\n",
      "3424/3424 - 507s - loss: 0.1898 - accuracy: 0.9312 - val_loss: 0.3762 - val_accuracy: 0.9033 - 507s/epoch - 148ms/step\n",
      "Epoch 5/50\n",
      "3424/3424 - 507s - loss: 0.1414 - accuracy: 0.9495 - val_loss: 0.3908 - val_accuracy: 0.8984 - 507s/epoch - 148ms/step\n",
      "Epoch 6/50\n",
      "3424/3424 - 516s - loss: 0.1080 - accuracy: 0.9616 - val_loss: 0.4479 - val_accuracy: 0.8960 - 516s/epoch - 151ms/step\n",
      "Epoch 7/50\n",
      "3424/3424 - 520s - loss: 0.0861 - accuracy: 0.9695 - val_loss: 0.4514 - val_accuracy: 0.8996 - 520s/epoch - 152ms/step\n",
      "Epoch 8/50\n",
      "3424/3424 - 521s - loss: 0.0759 - accuracy: 0.9734 - val_loss: 0.4439 - val_accuracy: 0.9117 - 521s/epoch - 152ms/step\n",
      "Epoch 9/50\n",
      "3424/3424 - 517s - loss: 0.0597 - accuracy: 0.9788 - val_loss: 0.4547 - val_accuracy: 0.8960 - 517s/epoch - 151ms/step\n",
      "Epoch 10/50\n",
      "3424/3424 - 509s - loss: 0.0484 - accuracy: 0.9831 - val_loss: 0.4458 - val_accuracy: 0.9057 - 509s/epoch - 149ms/step\n",
      "Epoch 11/50\n",
      "3424/3424 - 527s - loss: 0.0431 - accuracy: 0.9847 - val_loss: 0.4802 - val_accuracy: 0.9057 - 527s/epoch - 154ms/step\n",
      "Epoch 12/50\n",
      "3424/3424 - 567s - loss: 0.0397 - accuracy: 0.9858 - val_loss: 0.4754 - val_accuracy: 0.9045 - 567s/epoch - 166ms/step\n",
      "Epoch 13/50\n",
      "3424/3424 - 521s - loss: 0.0339 - accuracy: 0.9880 - val_loss: 0.5011 - val_accuracy: 0.9033 - 521s/epoch - 152ms/step\n",
      "Epoch 14/50\n",
      "3424/3424 - 518s - loss: 0.0276 - accuracy: 0.9907 - val_loss: 0.5347 - val_accuracy: 0.9057 - 518s/epoch - 151ms/step\n",
      "Epoch 15/50\n",
      "3424/3424 - 524s - loss: 0.0294 - accuracy: 0.9897 - val_loss: 0.4515 - val_accuracy: 0.9154 - 524s/epoch - 153ms/step\n",
      "Epoch 16/50\n",
      "3424/3424 - 520s - loss: 0.0250 - accuracy: 0.9915 - val_loss: 0.5165 - val_accuracy: 0.9045 - 520s/epoch - 152ms/step\n",
      "Epoch 17/50\n",
      "3424/3424 - 525s - loss: 0.0213 - accuracy: 0.9925 - val_loss: 0.4112 - val_accuracy: 0.9141 - 525s/epoch - 153ms/step\n",
      "Epoch 18/50\n",
      "3424/3424 - 520s - loss: 0.0218 - accuracy: 0.9926 - val_loss: 0.5333 - val_accuracy: 0.9081 - 520s/epoch - 152ms/step\n",
      "Epoch 19/50\n",
      "3424/3424 - 524s - loss: 0.0190 - accuracy: 0.9934 - val_loss: 0.5217 - val_accuracy: 0.9081 - 524s/epoch - 153ms/step\n",
      "Epoch 20/50\n",
      "3424/3424 - 532s - loss: 0.0149 - accuracy: 0.9952 - val_loss: 0.5393 - val_accuracy: 0.9154 - 532s/epoch - 155ms/step\n",
      "Epoch 21/50\n",
      "3424/3424 - 523s - loss: 0.0157 - accuracy: 0.9942 - val_loss: 0.4654 - val_accuracy: 0.9154 - 523s/epoch - 153ms/step\n",
      "Epoch 22/50\n",
      "3424/3424 - 521s - loss: 0.0134 - accuracy: 0.9956 - val_loss: 0.5535 - val_accuracy: 0.9081 - 521s/epoch - 152ms/step\n",
      "Epoch 23/50\n",
      "3424/3424 - 524s - loss: 0.0156 - accuracy: 0.9950 - val_loss: 0.5766 - val_accuracy: 0.9081 - 524s/epoch - 153ms/step\n",
      "Epoch 24/50\n",
      "3424/3424 - 523s - loss: 0.0142 - accuracy: 0.9950 - val_loss: 0.5873 - val_accuracy: 0.9081 - 523s/epoch - 153ms/step\n",
      "Epoch 25/50\n",
      "3424/3424 - 516s - loss: 0.0104 - accuracy: 0.9963 - val_loss: 0.6360 - val_accuracy: 0.9105 - 516s/epoch - 151ms/step\n",
      "Epoch 26/50\n",
      "3424/3424 - 520s - loss: 0.0121 - accuracy: 0.9959 - val_loss: 0.5647 - val_accuracy: 0.9202 - 520s/epoch - 152ms/step\n",
      "Epoch 27/50\n",
      "3424/3424 - 521s - loss: 0.0112 - accuracy: 0.9963 - val_loss: 0.5424 - val_accuracy: 0.9033 - 521s/epoch - 152ms/step\n",
      "Epoch 28/50\n",
      "3424/3424 - 518s - loss: 0.0075 - accuracy: 0.9975 - val_loss: 0.4749 - val_accuracy: 0.9166 - 518s/epoch - 151ms/step\n",
      "Epoch 29/50\n",
      "3424/3424 - 511s - loss: 0.0113 - accuracy: 0.9962 - val_loss: 0.5725 - val_accuracy: 0.9069 - 511s/epoch - 149ms/step\n",
      "Epoch 30/50\n",
      "3424/3424 - 507s - loss: 0.0115 - accuracy: 0.9959 - val_loss: 0.5783 - val_accuracy: 0.9093 - 507s/epoch - 148ms/step\n",
      "Epoch 31/50\n",
      "3424/3424 - 507s - loss: 0.0088 - accuracy: 0.9971 - val_loss: 0.6135 - val_accuracy: 0.9105 - 507s/epoch - 148ms/step\n",
      "Epoch 32/50\n",
      "3424/3424 - 506s - loss: 0.0093 - accuracy: 0.9967 - val_loss: 0.5276 - val_accuracy: 0.9093 - 506s/epoch - 148ms/step\n",
      "Epoch 33/50\n",
      "3424/3424 - 517s - loss: 0.0062 - accuracy: 0.9980 - val_loss: 0.5997 - val_accuracy: 0.9081 - 517s/epoch - 151ms/step\n",
      "Epoch 34/50\n",
      "3424/3424 - 519s - loss: 0.0067 - accuracy: 0.9980 - val_loss: 0.5874 - val_accuracy: 0.9117 - 519s/epoch - 152ms/step\n",
      "Epoch 35/50\n",
      "3424/3424 - 523s - loss: 0.0077 - accuracy: 0.9975 - val_loss: 0.6086 - val_accuracy: 0.9033 - 523s/epoch - 153ms/step\n",
      "Epoch 36/50\n",
      "3424/3424 - 520s - loss: 0.0087 - accuracy: 0.9970 - val_loss: 0.5368 - val_accuracy: 0.9141 - 520s/epoch - 152ms/step\n",
      "Epoch 37/50\n",
      "3424/3424 - 522s - loss: 0.0067 - accuracy: 0.9980 - val_loss: 0.5540 - val_accuracy: 0.9093 - 522s/epoch - 153ms/step\n",
      "Epoch 38/50\n",
      "3424/3424 - 520s - loss: 0.0083 - accuracy: 0.9971 - val_loss: 0.5300 - val_accuracy: 0.9129 - 520s/epoch - 152ms/step\n",
      "Epoch 39/50\n",
      "3424/3424 - 513s - loss: 0.0078 - accuracy: 0.9974 - val_loss: 0.5512 - val_accuracy: 0.9081 - 513s/epoch - 150ms/step\n",
      "Epoch 40/50\n",
      "3424/3424 - 517s - loss: 0.0056 - accuracy: 0.9983 - val_loss: 0.6384 - val_accuracy: 0.9033 - 517s/epoch - 151ms/step\n",
      "Epoch 41/50\n",
      "3424/3424 - 519s - loss: 0.0081 - accuracy: 0.9970 - val_loss: 0.5714 - val_accuracy: 0.9105 - 519s/epoch - 152ms/step\n",
      "Epoch 42/50\n",
      "3424/3424 - 516s - loss: 0.0063 - accuracy: 0.9979 - val_loss: 0.6130 - val_accuracy: 0.9141 - 516s/epoch - 151ms/step\n",
      "Epoch 43/50\n",
      "3424/3424 - 517s - loss: 0.0059 - accuracy: 0.9982 - val_loss: 0.5918 - val_accuracy: 0.9154 - 517s/epoch - 151ms/step\n",
      "Epoch 44/50\n",
      "3424/3424 - 510s - loss: 0.0041 - accuracy: 0.9987 - val_loss: 0.5433 - val_accuracy: 0.9117 - 510s/epoch - 149ms/step\n",
      "Epoch 45/50\n",
      "3424/3424 - 507s - loss: 0.0051 - accuracy: 0.9984 - val_loss: 0.6539 - val_accuracy: 0.9008 - 507s/epoch - 148ms/step\n",
      "Epoch 46/50\n",
      "3424/3424 - 510s - loss: 0.0065 - accuracy: 0.9978 - val_loss: 0.5411 - val_accuracy: 0.9069 - 510s/epoch - 149ms/step\n"
     ]
    }
   ],
   "source": [
    "history = model_dn121_ca.fit(train_batches,\n",
    "                         epochs=50,\n",
    "                         verbose=2,\n",
    "                         validation_data=val_batches,\n",
    "                         callbacks=[checkpoint,Earlystop],\n",
    "                         class_weight=class_weights)"
   ]
  },
  {
   "cell_type": "markdown",
   "id": "04705ffe",
   "metadata": {
    "papermill": {
     "duration": 0.029393,
     "end_time": "2023-05-28T09:11:39.207902",
     "exception": false,
     "start_time": "2023-05-28T09:11:39.178509",
     "status": "completed"
    },
    "tags": []
   },
   "source": [
    "### Plotting accuracy and loss"
   ]
  },
  {
   "cell_type": "code",
   "execution_count": 22,
   "id": "24df4773",
   "metadata": {
    "execution": {
     "iopub.execute_input": "2023-05-28T09:11:39.268383Z",
     "iopub.status.busy": "2023-05-28T09:11:39.267463Z",
     "iopub.status.idle": "2023-05-28T09:12:31.607631Z",
     "shell.execute_reply": "2023-05-28T09:12:31.606711Z"
    },
    "papermill": {
     "duration": 52.403967,
     "end_time": "2023-05-28T09:12:31.641059",
     "exception": false,
     "start_time": "2023-05-28T09:11:39.237092",
     "status": "completed"
    },
    "tags": []
   },
   "outputs": [
    {
     "name": "stdout",
     "output_type": "stream",
     "text": [
      "Number of epochs trained: 46\n"
     ]
    },
    {
     "data": {
      "image/png": "[encoded data removed]",
      "text/plain": [
       "<Figure size 1500x500 with 2 Axes>"
      ]
     },
     "metadata": {},
     "output_type": "display_data"
    }
   ],
   "source": [
    "# Determine number of epochs trained\n",
    "num_epochs_trained = len(history.history['val_loss'])\n",
    "print(f\"Number of epochs trained: {num_epochs_trained}\")\n",
    "\n",
    "## History plotting\n",
    "epochs = [i for i in range(num_epochs_trained)]\n",
    "fig , ax = plt.subplots(1,2)\n",
    "train_acc = history.history['accuracy']\n",
    "train_loss = history.history['loss']\n",
    "val_acc = history.history['val_accuracy']\n",
    "val_loss = history.history['val_loss']\n",
    "fig.set_size_inches(15,5)\n",
    "\n",
    "ax[0].plot(epochs , train_acc , 'go-' , label = 'Training Accuracy')\n",
    "ax[0].plot(epochs , val_acc , 'ro-' , label = 'Validation Accuracy')\n",
    "title_font = {'fontname':'Times New Roman', 'size':'14', 'color':'black', 'weight':'normal'}\n",
    "ax[0].set_title('Model Accuracy', fontdict=title_font)\n",
    "legend_font = {'family': 'Times New Roman', 'size': '12', 'weight': 'normal'}\n",
    "ax[0].legend(prop=legend_font)\n",
    "label_font = {'fontname':'Times New Roman', 'size':'12', 'color':'black', 'weight':'normal'}\n",
    "ax[0].set_xlabel(\"Epochs\",  fontdict=label_font)\n",
    "ax[0].set_ylabel(\"Accuracy\",  fontdict=label_font)\n",
    "\n",
    "ax[1].plot(epochs , train_loss , 'g-o' , label = 'Training Loss')\n",
    "ax[1].plot(epochs , val_loss , 'r-o' , label = 'Validation Loss')\n",
    "ax[1].set_title('Model Loss', fontdict=title_font)\n",
    "ax[1].legend(prop=legend_font)\n",
    "ax[1].set_xlabel(\"Epochs\", fontdict=label_font)\n",
    "ax[1].set_ylabel(\"Loss\", fontdict=label_font)\n",
    "plt.show()"
   ]
  },
  {
   "cell_type": "code",
   "execution_count": 23,
   "id": "6604f1bc",
   "metadata": {
    "execution": {
     "iopub.execute_input": "2023-05-28T09:12:31.704019Z",
     "iopub.status.busy": "2023-05-28T09:12:31.703646Z",
     "iopub.status.idle": "2023-05-28T09:12:32.276706Z",
     "shell.execute_reply": "2023-05-28T09:12:32.275723Z"
    },
    "id": "zm_AewFBXTj8",
    "papermill": {
     "duration": 0.607823,
     "end_time": "2023-05-28T09:12:32.279403",
     "exception": false,
     "start_time": "2023-05-28T09:12:31.671580",
     "status": "completed"
    },
    "tags": []
   },
   "outputs": [],
   "source": [
    "from tensorflow.keras import models\n",
    "model_dn121_ca.load_weights(\"DN121_CA.hdf5\")"
   ]
  },
  {
   "cell_type": "code",
   "execution_count": 24,
   "id": "9c04efc3",
   "metadata": {
    "execution": {
     "iopub.execute_input": "2023-05-28T09:12:32.342157Z",
     "iopub.status.busy": "2023-05-28T09:12:32.341540Z",
     "iopub.status.idle": "2023-05-28T09:12:49.797156Z",
     "shell.execute_reply": "2023-05-28T09:12:49.796187Z"
    },
    "papermill": {
     "duration": 17.489214,
     "end_time": "2023-05-28T09:12:49.799551",
     "exception": false,
     "start_time": "2023-05-28T09:12:32.310337",
     "status": "completed"
    },
    "tags": []
   },
   "outputs": [
    {
     "name": "stdout",
     "output_type": "stream",
     "text": [
      "52/52 [==============================] - 17s 268ms/step\n"
     ]
    }
   ],
   "source": [
    "predictions = model_dn121_ca.predict(test_batches)"
   ]
  },
  {
   "cell_type": "code",
   "execution_count": 25,
   "id": "917a483a",
   "metadata": {
    "execution": {
     "iopub.execute_input": "2023-05-28T09:12:49.869449Z",
     "iopub.status.busy": "2023-05-28T09:12:49.869108Z",
     "iopub.status.idle": "2023-05-28T09:12:49.874450Z",
     "shell.execute_reply": "2023-05-28T09:12:49.873389Z"
    },
    "id": "FDTMtBeTdBfU",
    "papermill": {
     "duration": 0.042823,
     "end_time": "2023-05-28T09:12:49.876952",
     "exception": false,
     "start_time": "2023-05-28T09:12:49.834129",
     "status": "completed"
    },
    "tags": []
   },
   "outputs": [],
   "source": [
    "#geting predictions on test dataset\n",
    "y_pred = np.argmax(predictions, axis=1)\n",
    "#getting the true labels per image \n",
    "y_true = test_batches.classes\n",
    "#getting the predicted labels per image \n",
    "y_prob = predictions"
   ]
  },
  {
   "cell_type": "code",
   "execution_count": 26,
   "id": "9ea42552",
   "metadata": {
    "execution": {
     "iopub.execute_input": "2023-05-28T09:12:49.947628Z",
     "iopub.status.busy": "2023-05-28T09:12:49.945965Z",
     "iopub.status.idle": "2023-05-28T09:12:49.963013Z",
     "shell.execute_reply": "2023-05-28T09:12:49.961949Z"
    },
    "papermill": {
     "duration": 0.054043,
     "end_time": "2023-05-28T09:12:49.965006",
     "exception": false,
     "start_time": "2023-05-28T09:12:49.910963",
     "status": "completed"
    },
    "tags": []
   },
   "outputs": [
    {
     "name": "stdout",
     "output_type": "stream",
     "text": [
      "\n",
      "Classification Report:\n",
      "              precision    recall  f1-score   support\n",
      "\n",
      "          AK       0.73      0.50      0.59        22\n",
      "         BCC       0.82      0.85      0.84        27\n",
      "         BKL       0.75      0.68      0.71        66\n",
      "          DF       0.67      0.67      0.67         6\n",
      "         MEL       0.71      0.49      0.58        35\n",
      "          NV       0.95      0.98      0.96       663\n",
      "        VASC       1.00      1.00      1.00         9\n",
      "\n",
      "    accuracy                           0.92       828\n",
      "   macro avg       0.80      0.74      0.76       828\n",
      "weighted avg       0.91      0.92      0.91       828\n",
      "\n"
     ]
    }
   ],
   "source": [
    "classnames = ['AK', 'BCC', 'BKL', 'DF', 'MEL', 'NV', 'VASC']\n",
    "\n",
    "from tensorflow.keras.utils import to_categorical\n",
    "y_test = to_categorical(y_true)\n",
    "\n",
    "report = classification_report(y_true, y_pred, target_names=classnames)\n",
    "\n",
    "print(\"\\nClassification Report:\")\n",
    "print(report)"
   ]
  },
  {
   "cell_type": "code",
   "execution_count": 27,
   "id": "fd951805",
   "metadata": {
    "execution": {
     "iopub.execute_input": "2023-05-28T09:12:50.036535Z",
     "iopub.status.busy": "2023-05-28T09:12:50.035667Z",
     "iopub.status.idle": "2023-05-28T09:12:50.693717Z",
     "shell.execute_reply": "2023-05-28T09:12:50.692619Z"
    },
    "papermill": {
     "duration": 0.69841,
     "end_time": "2023-05-28T09:12:50.698565",
     "exception": false,
     "start_time": "2023-05-28T09:12:50.000155",
     "status": "completed"
    },
    "tags": []
   },
   "outputs": [
    {
     "data": {
      "image/png": "[encoded data removed]",
      "text/plain": [
       "<Figure size 1000x400 with 2 Axes>"
      ]
     },
     "metadata": {},
     "output_type": "display_data"
    }
   ],
   "source": [
    "## Confusion Matrix\n",
    "title_font = {'fontname':'Times New Roman', 'size':'14', 'color':'black', 'weight':'normal'}\n",
    "label_font = {'fontname':'Times New Roman', 'size':'12', 'color':'black', 'weight':'normal'}\n",
    "\n",
    "from sklearn.metrics import confusion_matrix\n",
    "import seaborn as sns\n",
    "# Creating confusion matrix \n",
    "cm = confusion_matrix(y_true, y_pred)\n",
    "# Plotting the confusion matrix\n",
    "plt.figure(figsize=(10,4))\n",
    "sns.heatmap(cm, annot=True, fmt='g', cmap='Blues', xticklabels=targetnames, yticklabels=targetnames)\n",
    "plt.xlabel('Predicted Label', fontdict=label_font)\n",
    "plt.ylabel('True Label', fontdict=label_font)\n",
    "plt.title('Confusion Matrix', fontdict=title_font)\n",
    "plt.show()"
   ]
  },
  {
   "cell_type": "markdown",
   "id": "6c11779b",
   "metadata": {
    "papermill": {
     "duration": 0.045504,
     "end_time": "2023-05-28T09:12:50.810317",
     "exception": false,
     "start_time": "2023-05-28T09:12:50.764813",
     "status": "completed"
    },
    "tags": []
   },
   "source": [
    "## Results"
   ]
  },
  {
   "cell_type": "markdown",
   "id": "3243fa83",
   "metadata": {
    "papermill": {
     "duration": 0.034213,
     "end_time": "2023-05-28T09:12:50.878993",
     "exception": false,
     "start_time": "2023-05-28T09:12:50.844780",
     "status": "completed"
    },
    "tags": []
   },
   "source": [
    "### Individual Class Accuracy "
   ]
  },
  {
   "cell_type": "code",
   "execution_count": 28,
   "id": "de289db0",
   "metadata": {
    "execution": {
     "iopub.execute_input": "2023-05-28T09:12:50.950227Z",
     "iopub.status.busy": "2023-05-28T09:12:50.949872Z",
     "iopub.status.idle": "2023-05-28T09:12:50.958025Z",
     "shell.execute_reply": "2023-05-28T09:12:50.956957Z"
    },
    "papermill": {
     "duration": 0.047542,
     "end_time": "2023-05-28T09:12:50.961844",
     "exception": false,
     "start_time": "2023-05-28T09:12:50.914302",
     "status": "completed"
    },
    "tags": []
   },
   "outputs": [
    {
     "name": "stdout",
     "output_type": "stream",
     "text": [
      "Overall accuracy: 91.67%\n",
      "Accuracy for each class:\n",
      "Class 0: 50.00%\n",
      "Class 1: 85.19%\n",
      "Class 2: 68.18%\n",
      "Class 3: 66.67%\n",
      "Class 4: 48.57%\n",
      "Class 5: 98.04%\n",
      "Class 6: 100.00%\n"
     ]
    }
   ],
   "source": [
    "# y_true are the true labels of the test set\n",
    "# y_pred are the predicted labels of the test set\n",
    "accuracy = accuracy_score(y_true, y_pred)\n",
    "# Calculate accuracy for each class\n",
    "class_accuracy = cm.diagonal()/cm.sum(axis=1)\n",
    "print(\"Overall accuracy: {:.2f}%\".format(accuracy*100))\n",
    "print(\"Accuracy for each class:\")\n",
    "for i, acc in enumerate(class_accuracy):\n",
    "    print(\"Class {}: {:.2f}%\".format(i, acc*100))"
   ]
  },
  {
   "cell_type": "markdown",
   "id": "befd2d75",
   "metadata": {
    "papermill": {
     "duration": 0.034504,
     "end_time": "2023-05-28T09:12:51.031813",
     "exception": false,
     "start_time": "2023-05-28T09:12:50.997309",
     "status": "completed"
    },
    "tags": []
   },
   "source": [
    "### Individual Class Weighted Precision"
   ]
  },
  {
   "cell_type": "code",
   "execution_count": 29,
   "id": "e586bc70",
   "metadata": {
    "execution": {
     "iopub.execute_input": "2023-05-28T09:12:51.102968Z",
     "iopub.status.busy": "2023-05-28T09:12:51.102596Z",
     "iopub.status.idle": "2023-05-28T09:12:51.120479Z",
     "shell.execute_reply": "2023-05-28T09:12:51.119494Z"
    },
    "papermill": {
     "duration": 0.056153,
     "end_time": "2023-05-28T09:12:51.122787",
     "exception": false,
     "start_time": "2023-05-28T09:12:51.066634",
     "status": "completed"
    },
    "tags": []
   },
   "outputs": [
    {
     "name": "stdout",
     "output_type": "stream",
     "text": [
      "Weighted precision for each class:\n",
      "Class 0: 73.33%\n",
      "Class 1: 82.14%\n",
      "Class 2: 75.00%\n",
      "Class 3: 66.67%\n",
      "Class 4: 70.83%\n",
      "Class 5: 94.75%\n",
      "Class 6: 100.00%\n",
      "Weighted precision: 91.04%\n"
     ]
    }
   ],
   "source": [
    "report = classification_report(y_true, y_pred, output_dict=True)\n",
    "# Extract weighted precision for each class\n",
    "class_precision = {}\n",
    "for class_label in report.keys():\n",
    "    if class_label == 'weighted avg':\n",
    "        class_precision['weighted'] = report[class_label]['precision']\n",
    "    elif class_label.isdigit():\n",
    "        class_precision[int(class_label)] = report[class_label]['precision']\n",
    "print(\"Weighted precision for each class:\")\n",
    "for i, precision in class_precision.items():\n",
    "    if i == 'weighted':\n",
    "        print(\"Weighted precision: {:.2f}%\".format(precision*100))\n",
    "    else:\n",
    "        print(\"Class {}: {:.2f}%\".format(i, precision*100))"
   ]
  },
  {
   "cell_type": "markdown",
   "id": "f3ba086c",
   "metadata": {
    "papermill": {
     "duration": 0.035064,
     "end_time": "2023-05-28T09:12:51.195214",
     "exception": false,
     "start_time": "2023-05-28T09:12:51.160150",
     "status": "completed"
    },
    "tags": []
   },
   "source": [
    "### Individual Class Weighted Recall"
   ]
  },
  {
   "cell_type": "code",
   "execution_count": 30,
   "id": "f29151cc",
   "metadata": {
    "execution": {
     "iopub.execute_input": "2023-05-28T09:12:51.268487Z",
     "iopub.status.busy": "2023-05-28T09:12:51.268146Z",
     "iopub.status.idle": "2023-05-28T09:12:51.284117Z",
     "shell.execute_reply": "2023-05-28T09:12:51.283088Z"
    },
    "papermill": {
     "duration": 0.05628,
     "end_time": "2023-05-28T09:12:51.286368",
     "exception": false,
     "start_time": "2023-05-28T09:12:51.230088",
     "status": "completed"
    },
    "tags": []
   },
   "outputs": [
    {
     "name": "stdout",
     "output_type": "stream",
     "text": [
      "Weighted recall for each class:\n",
      "Class 0: 50.00%\n",
      "Class 1: 85.19%\n",
      "Class 2: 68.18%\n",
      "Class 3: 66.67%\n",
      "Class 4: 48.57%\n",
      "Class 5: 98.04%\n",
      "Class 6: 100.00%\n",
      "Weighted Recall: 91.67%\n"
     ]
    }
   ],
   "source": [
    "report = classification_report(y_true, y_pred, output_dict=True)\n",
    "# Extract weighted recall for each class\n",
    "class_recall = {}\n",
    "for class_label in report.keys():\n",
    "    if class_label == 'weighted avg':\n",
    "        class_recall['weighted'] = report[class_label]['recall']\n",
    "    elif class_label.isdigit():\n",
    "        class_recall[int(class_label)] = report[class_label]['recall']\n",
    "print(\"Weighted recall for each class:\")\n",
    "for i, recall in class_recall.items():\n",
    "    if i == 'weighted':\n",
    "        print(\"Weighted Recall: {:.2f}%\".format(recall*100))\n",
    "    else:\n",
    "        print(\"Class {}: {:.2f}%\".format(i, recall*100))"
   ]
  },
  {
   "cell_type": "markdown",
   "id": "ccac4c6c",
   "metadata": {
    "papermill": {
     "duration": 0.034291,
     "end_time": "2023-05-28T09:12:51.356257",
     "exception": false,
     "start_time": "2023-05-28T09:12:51.321966",
     "status": "completed"
    },
    "tags": []
   },
   "source": [
    "### Individual Class Weighted F1-score"
   ]
  },
  {
   "cell_type": "code",
   "execution_count": 31,
   "id": "e216e456",
   "metadata": {
    "execution": {
     "iopub.execute_input": "2023-05-28T09:12:51.427420Z",
     "iopub.status.busy": "2023-05-28T09:12:51.427071Z",
     "iopub.status.idle": "2023-05-28T09:12:51.443137Z",
     "shell.execute_reply": "2023-05-28T09:12:51.441781Z"
    },
    "papermill": {
     "duration": 0.054369,
     "end_time": "2023-05-28T09:12:51.445278",
     "exception": false,
     "start_time": "2023-05-28T09:12:51.390909",
     "status": "completed"
    },
    "tags": []
   },
   "outputs": [
    {
     "name": "stdout",
     "output_type": "stream",
     "text": [
      "Weighted F1-score for each class:\n",
      "Class 0: 59.46%\n",
      "Class 1: 83.64%\n",
      "Class 2: 71.43%\n",
      "Class 3: 66.67%\n",
      "Class 4: 57.63%\n",
      "Class 5: 96.37%\n",
      "Class 6: 100.00%\n",
      "Weighted F1-score: 91.17%\n"
     ]
    }
   ],
   "source": [
    "report = classification_report(y_true, y_pred, output_dict=True)\n",
    "# Extract weighted F1-score for each class\n",
    "class_f1 = {}\n",
    "for class_label in report.keys():\n",
    "    if class_label == 'weighted avg':\n",
    "        class_f1['weighted'] = report[class_label]['f1-score']\n",
    "    elif class_label.isdigit():\n",
    "        class_f1[int(class_label)] = report[class_label]['f1-score']\n",
    "print(\"Weighted F1-score for each class:\")\n",
    "for i, f1_score in class_f1.items():\n",
    "    if i == 'weighted':\n",
    "        print(\"Weighted F1-score: {:.2f}%\".format(f1_score*100))\n",
    "    else:\n",
    "        print(\"Class {}: {:.2f}%\".format(i, f1_score*100))"
   ]
  },
  {
   "cell_type": "markdown",
   "id": "985c7ab4",
   "metadata": {
    "papermill": {
     "duration": 0.03495,
     "end_time": "2023-05-28T09:12:51.516296",
     "exception": false,
     "start_time": "2023-05-28T09:12:51.481346",
     "status": "completed"
    },
    "tags": []
   },
   "source": [
    "### Individual Class Precision, Recall and F1-score"
   ]
  },
  {
   "cell_type": "code",
   "execution_count": 32,
   "id": "bac8d89f",
   "metadata": {
    "execution": {
     "iopub.execute_input": "2023-05-28T09:12:51.589119Z",
     "iopub.status.busy": "2023-05-28T09:12:51.588168Z",
     "iopub.status.idle": "2023-05-28T09:12:51.598691Z",
     "shell.execute_reply": "2023-05-28T09:12:51.597793Z"
    },
    "papermill": {
     "duration": 0.049268,
     "end_time": "2023-05-28T09:12:51.600817",
     "exception": false,
     "start_time": "2023-05-28T09:12:51.551549",
     "status": "completed"
    },
    "tags": []
   },
   "outputs": [
    {
     "name": "stdout",
     "output_type": "stream",
     "text": [
      "Class-wise weighted precision, recall, and F1-score:\n",
      "Class 0: Precision=0.73, Recall=0.50, F1-score=0.59\n",
      "Class 1: Precision=0.82, Recall=0.85, F1-score=0.84\n",
      "Class 2: Precision=0.75, Recall=0.68, F1-score=0.71\n",
      "Class 3: Precision=0.67, Recall=0.67, F1-score=0.67\n",
      "Class 4: Precision=0.71, Recall=0.49, F1-score=0.58\n",
      "Class 5: Precision=0.95, Recall=0.98, F1-score=0.96\n",
      "Class 6: Precision=1.00, Recall=1.00, F1-score=1.00\n"
     ]
    }
   ],
   "source": [
    "from sklearn.metrics import precision_recall_fscore_support\n",
    "\n",
    "precision_class, recall_class, f1_class, support_class = precision_recall_fscore_support(y_true, y_pred, average=None)\n",
    "print('Class-wise weighted precision, recall, and F1-score:')\n",
    "for i in range(len(precision_class)):\n",
    "    print('Class {}: Precision={:.2f}, Recall={:.2f}, F1-score={:.2f}'.format(i, precision_class[i], recall_class[i], f1_class[i]))\n"
   ]
  },
  {
   "cell_type": "markdown",
   "id": "14a04b10",
   "metadata": {
    "papermill": {
     "duration": 0.03492,
     "end_time": "2023-05-28T09:12:51.670917",
     "exception": false,
     "start_time": "2023-05-28T09:12:51.635997",
     "status": "completed"
    },
    "tags": []
   },
   "source": [
    "### Individual Class Weighted Sensitivity"
   ]
  },
  {
   "cell_type": "code",
   "execution_count": 33,
   "id": "7cd63d30",
   "metadata": {
    "execution": {
     "iopub.execute_input": "2023-05-28T09:12:51.743531Z",
     "iopub.status.busy": "2023-05-28T09:12:51.743183Z",
     "iopub.status.idle": "2023-05-28T09:12:52.240076Z",
     "shell.execute_reply": "2023-05-28T09:12:52.239139Z"
    },
    "papermill": {
     "duration": 0.535893,
     "end_time": "2023-05-28T09:12:52.242438",
     "exception": false,
     "start_time": "2023-05-28T09:12:51.706545",
     "status": "completed"
    },
    "tags": []
   },
   "outputs": [
    {
     "name": "stdout",
     "output_type": "stream",
     "text": [
      "Weighted Sensitivity:  0.9166666666666666\n",
      "Class  0 :sensitivity = 0.5\n",
      "Class  1 :sensitivity = 0.8518518518518519\n",
      "Class  2 :sensitivity = 0.6818181818181818\n",
      "Class  3 :sensitivity = 0.6666666666666666\n",
      "Class  4 :sensitivity = 0.4857142857142857\n",
      "Class  5 :sensitivity = 0.9803921568627451\n",
      "Class  6 :sensitivity = 1.0\n"
     ]
    }
   ],
   "source": [
    "from imblearn.metrics import sensitivity_score\n",
    "\n",
    "sensitivity = sensitivity_score(y_true, y_pred, average='weighted')\n",
    "print(\"Weighted Sensitivity: \", sensitivity)\n",
    "\n",
    "# Calculate class-wise sensitivity\n",
    "sensitivity = sensitivity_score(y_true, y_pred, average=None)\n",
    "\n",
    "# Print sensitivity score for each class\n",
    "for i in range(len(sensitivity)):\n",
    "    print(\"Class \", i, \":sensitivity =\", sensitivity[i])"
   ]
  },
  {
   "cell_type": "markdown",
   "id": "b67445b7",
   "metadata": {
    "papermill": {
     "duration": 0.036411,
     "end_time": "2023-05-28T09:12:52.316797",
     "exception": false,
     "start_time": "2023-05-28T09:12:52.280386",
     "status": "completed"
    },
    "tags": []
   },
   "source": [
    "### Individual Class Weighted Specificity"
   ]
  },
  {
   "cell_type": "code",
   "execution_count": 34,
   "id": "61baead6",
   "metadata": {
    "execution": {
     "iopub.execute_input": "2023-05-28T09:12:52.390169Z",
     "iopub.status.busy": "2023-05-28T09:12:52.389806Z",
     "iopub.status.idle": "2023-05-28T09:12:52.402827Z",
     "shell.execute_reply": "2023-05-28T09:12:52.401895Z"
    },
    "papermill": {
     "duration": 0.052246,
     "end_time": "2023-05-28T09:12:52.405153",
     "exception": false,
     "start_time": "2023-05-28T09:12:52.352907",
     "status": "completed"
    },
    "tags": []
   },
   "outputs": [
    {
     "name": "stdout",
     "output_type": "stream",
     "text": [
      "Weighted Specificity:  0.8230011710119097\n",
      "Class  0 :specificity= 0.9950372208436724\n",
      "Class  1 :specificity= 0.9937578027465668\n",
      "Class  2 :specificity= 0.9803149606299213\n",
      "Class  3 :specificity= 0.9975669099756691\n",
      "Class  4 :specificity= 0.9911727616645649\n",
      "Class  5 :specificity= 0.7818181818181819\n",
      "Class  6 :specificity= 1.0\n"
     ]
    }
   ],
   "source": [
    "from imblearn.metrics import specificity_score\n",
    "\n",
    "specificity = specificity_score(y_true, y_pred, average='weighted')\n",
    "print(\"Weighted Specificity: \", specificity)\n",
    "\n",
    "# Calculate class-wise specificity\n",
    "specificity = specificity_score(y_true, y_pred, average=None)\n",
    "\n",
    "# Print sensitivity score for each class\n",
    "for i in range(len(specificity)):\n",
    "    print(\"Class \", i, \":specificity=\", specificity[i])"
   ]
  },
  {
   "cell_type": "markdown",
   "id": "d55d7f41",
   "metadata": {
    "papermill": {
     "duration": 0.036446,
     "end_time": "2023-05-28T09:12:52.480054",
     "exception": false,
     "start_time": "2023-05-28T09:12:52.443608",
     "status": "completed"
    },
    "tags": []
   },
   "source": [
    "### Accuracy"
   ]
  },
  {
   "cell_type": "code",
   "execution_count": 35,
   "id": "1e1b7374",
   "metadata": {
    "execution": {
     "iopub.execute_input": "2023-05-28T09:12:52.555508Z",
     "iopub.status.busy": "2023-05-28T09:12:52.554491Z",
     "iopub.status.idle": "2023-05-28T09:12:52.561967Z",
     "shell.execute_reply": "2023-05-28T09:12:52.560669Z"
    },
    "papermill": {
     "duration": 0.046658,
     "end_time": "2023-05-28T09:12:52.564018",
     "exception": false,
     "start_time": "2023-05-28T09:12:52.517360",
     "status": "completed"
    },
    "tags": []
   },
   "outputs": [
    {
     "name": "stdout",
     "output_type": "stream",
     "text": [
      "Accuracy: 0.9166666666666666\n"
     ]
    }
   ],
   "source": [
    "print(\"Accuracy: \" + str(accuracy_score(y_true, y_pred)))\n",
    "import numpy as np\n",
    "from sklearn.metrics import accuracy_score"
   ]
  },
  {
   "cell_type": "code",
   "execution_count": 36,
   "id": "04151439",
   "metadata": {
    "execution": {
     "iopub.execute_input": "2023-05-28T09:12:52.637065Z",
     "iopub.status.busy": "2023-05-28T09:12:52.636181Z",
     "iopub.status.idle": "2023-05-28T09:12:52.655962Z",
     "shell.execute_reply": "2023-05-28T09:12:52.654814Z"
    },
    "papermill": {
     "duration": 0.058073,
     "end_time": "2023-05-28T09:12:52.657900",
     "exception": false,
     "start_time": "2023-05-28T09:12:52.599827",
     "status": "completed"
    },
    "tags": []
   },
   "outputs": [
    {
     "name": "stdout",
     "output_type": "stream",
     "text": [
      "Top-1 Accuracy: 0.9166666666666666\n",
      "Top-2 Accuracy: 0.9698067632850241\n",
      "Top-3 Accuracy: 0.9879227053140096\n"
     ]
    }
   ],
   "source": [
    "# Calculate top-1 accuracy\n",
    "top1_acc = accuracy_score(y_true, y_pred)\n",
    "print(\"Top-1 Accuracy:\", top1_acc)\n",
    "\n",
    "# Calculate top-2 accuracy\n",
    "y_pred_top2 = np.argsort(-predictions, axis=1)[:, :2] # Get the top 2 predicted classes\n",
    "top2_acc = np.mean(np.array([y_true[i] in y_pred_top2[i] for i in range(len(y_true))]))\n",
    "print(\"Top-2 Accuracy:\", top2_acc)\n",
    "\n",
    "# Calculate top-3 accuracy\n",
    "y_pred_top3 = np.argsort(-predictions, axis=1)[:, :3] # Get the top 3 predicted classes\n",
    "top3_acc = np.mean(np.array([y_true[i] in y_pred_top3[i] for i in range(len(y_true))]))\n",
    "print(\"Top-3 Accuracy:\", top3_acc)\n",
    "from sklearn.metrics import f1_score"
   ]
  },
  {
   "cell_type": "markdown",
   "id": "0bc27837",
   "metadata": {
    "papermill": {
     "duration": 0.03627,
     "end_time": "2023-05-28T09:12:52.729989",
     "exception": false,
     "start_time": "2023-05-28T09:12:52.693719",
     "status": "completed"
    },
    "tags": []
   },
   "source": [
    "### Weighted Evaluation Measures"
   ]
  },
  {
   "cell_type": "code",
   "execution_count": 37,
   "id": "338be56b",
   "metadata": {
    "execution": {
     "iopub.execute_input": "2023-05-28T09:12:52.814099Z",
     "iopub.status.busy": "2023-05-28T09:12:52.813684Z",
     "iopub.status.idle": "2023-05-28T09:12:52.840898Z",
     "shell.execute_reply": "2023-05-28T09:12:52.839773Z"
    },
    "papermill": {
     "duration": 0.070464,
     "end_time": "2023-05-28T09:12:52.843056",
     "exception": false,
     "start_time": "2023-05-28T09:12:52.772592",
     "status": "completed"
    },
    "tags": []
   },
   "outputs": [
    {
     "name": "stdout",
     "output_type": "stream",
     "text": [
      "Weighted Precision: 0.9103992373346854\n",
      "Weighted Recall: 0.9166666666666666\n",
      "Weighted F1-Score: 0.9117064791768834\n",
      "Weighted Sensitivity: 0.9166666666666666\n",
      "Weighted Specificity: 0.8230011710119097\n",
      "weighted Roc score: 0.9746818839570701\n"
     ]
    }
   ],
   "source": [
    "print(\"Weighted Precision: \"+ str(precision_score(y_true, y_pred, average='weighted')))\n",
    "print(\"Weighted Recall: \"+ str(recall_score(y_true, y_pred, average='weighted')))\n",
    "print(\"Weighted F1-Score: \"+ str(f1_score(y_true, y_pred, average='weighted')))\n",
    "print(\"Weighted Sensitivity: \"+ str(sensitivity_score(y_true, y_pred, average='weighted')))\n",
    "print(\"Weighted Specificity: \"+ str(specificity_score(y_true, y_pred, average='weighted')))\n",
    "print(\"weighted Roc score: \" + str(roc_auc_score(y_true,y_prob,multi_class='ovr',average='weighted')))"
   ]
  },
  {
   "cell_type": "markdown",
   "id": "e1e1a05a",
   "metadata": {
    "papermill": {
     "duration": 0.039417,
     "end_time": "2023-05-28T09:12:52.918346",
     "exception": false,
     "start_time": "2023-05-28T09:12:52.878929",
     "status": "completed"
    },
    "tags": []
   },
   "source": [
    "### Macro Evaluation Measures"
   ]
  },
  {
   "cell_type": "code",
   "execution_count": 38,
   "id": "1779047e",
   "metadata": {
    "execution": {
     "iopub.execute_input": "2023-05-28T09:12:53.000968Z",
     "iopub.status.busy": "2023-05-28T09:12:52.999907Z",
     "iopub.status.idle": "2023-05-28T09:12:53.031006Z",
     "shell.execute_reply": "2023-05-28T09:12:53.029583Z"
    },
    "papermill": {
     "duration": 0.077459,
     "end_time": "2023-05-28T09:12:53.033391",
     "exception": false,
     "start_time": "2023-05-28T09:12:52.955932",
     "status": "completed"
    },
    "tags": []
   },
   "outputs": [
    {
     "name": "stdout",
     "output_type": "stream",
     "text": [
      "Macro Precision: 0.8038976815215882\n",
      "Macro Recall: 0.738063306130533\n",
      "Macro F1-Score: 0.7645512279970231\n",
      "Macro Sensitivity: 0.738063306130533\n",
      "Macro Specificity: 0.9628096910969396\n",
      "Macro Roc score: 0.9774087744549881\n"
     ]
    }
   ],
   "source": [
    "print(\"Macro Precision: \"+ str(precision_score(y_true, y_pred, average='macro')))\n",
    "print(\"Macro Recall: \"+ str(recall_score(y_true, y_pred, average='macro')))\n",
    "print(\"Macro F1-Score: \"+ str(f1_score(y_true, y_pred, average='macro')))\n",
    "print(\"Macro Sensitivity: \"+ str(sensitivity_score(y_true, y_pred, average='macro')))\n",
    "print(\"Macro Specificity: \"+ str(specificity_score(y_true, y_pred, average='macro')))\n",
    "print(\"Macro Roc score: \" + str(roc_auc_score(y_true,y_prob,multi_class='ovr',average='macro')))"
   ]
  },
  {
   "cell_type": "markdown",
   "id": "6ec03b8e",
   "metadata": {
    "papermill": {
     "duration": 0.036876,
     "end_time": "2023-05-28T09:12:53.110478",
     "exception": false,
     "start_time": "2023-05-28T09:12:53.073602",
     "status": "completed"
    },
    "tags": []
   },
   "source": [
    "### Micro Evaluation Measures"
   ]
  },
  {
   "cell_type": "code",
   "execution_count": 39,
   "id": "9d135384",
   "metadata": {
    "execution": {
     "iopub.execute_input": "2023-05-28T09:12:53.184180Z",
     "iopub.status.busy": "2023-05-28T09:12:53.183227Z",
     "iopub.status.idle": "2023-05-28T09:12:53.198320Z",
     "shell.execute_reply": "2023-05-28T09:12:53.197124Z"
    },
    "papermill": {
     "duration": 0.053996,
     "end_time": "2023-05-28T09:12:53.200542",
     "exception": false,
     "start_time": "2023-05-28T09:12:53.146546",
     "status": "completed"
    },
    "tags": []
   },
   "outputs": [
    {
     "name": "stdout",
     "output_type": "stream",
     "text": [
      "Micro Precision: 0.9166666666666666\n",
      "Micro Recall: 0.9166666666666666\n",
      "Micro F1-Score: 0.9166666666666666\n",
      "Micro Sensitivity: 0.9166666666666666\n",
      "Micro Specificity: 0.9861111111111112\n"
     ]
    }
   ],
   "source": [
    "print(\"Micro Precision: \"+ str(precision_score(y_true, y_pred, average='micro')))\n",
    "print(\"Micro Recall: \"+ str(recall_score(y_true, y_pred, average='micro')))\n",
    "print(\"Micro F1-Score: \"+ str(f1_score(y_true, y_pred, average='micro')))\n",
    "print(\"Micro Sensitivity: \"+ str(sensitivity_score(y_true, y_pred, average='micro')))\n",
    "print(\"Micro Specificity: \"+ str(specificity_score(y_true, y_pred, average='micro')))"
   ]
  },
  {
   "cell_type": "markdown",
   "id": "4f68e898",
   "metadata": {
    "papermill": {
     "duration": 0.035237,
     "end_time": "2023-05-28T09:12:53.272921",
     "exception": false,
     "start_time": "2023-05-28T09:12:53.237684",
     "status": "completed"
    },
    "tags": []
   },
   "source": [
    "## ROC"
   ]
  },
  {
   "cell_type": "markdown",
   "id": "c9043f2b",
   "metadata": {
    "papermill": {
     "duration": 0.036106,
     "end_time": "2023-05-28T09:12:53.344500",
     "exception": false,
     "start_time": "2023-05-28T09:12:53.308394",
     "status": "completed"
    },
    "tags": []
   },
   "source": [
    "### Compute ROC curve and ROC area for each class"
   ]
  },
  {
   "cell_type": "code",
   "execution_count": 40,
   "id": "21fb1b35",
   "metadata": {
    "execution": {
     "iopub.execute_input": "2023-05-28T09:12:53.417820Z",
     "iopub.status.busy": "2023-05-28T09:12:53.417437Z",
     "iopub.status.idle": "2023-05-28T09:12:53.738024Z",
     "shell.execute_reply": "2023-05-28T09:12:53.737113Z"
    },
    "papermill": {
     "duration": 0.360141,
     "end_time": "2023-05-28T09:12:53.740293",
     "exception": false,
     "start_time": "2023-05-28T09:12:53.380152",
     "status": "completed"
    },
    "tags": []
   },
   "outputs": [
    {
     "data": {
      "image/png": "[encoded data removed]",
      "text/plain": [
       "<Figure size 640x480 with 1 Axes>"
      ]
     },
     "metadata": {},
     "output_type": "display_data"
    }
   ],
   "source": [
    "fpr = {}\n",
    "tpr = {}\n",
    "roc_auc = dict()\n",
    "for i in range(num_classes):\n",
    "    fpr[i], tpr[i], _ = roc_curve(y_test[:, i], y_prob[:, i], drop_intermediate=False)\n",
    "    roc_auc[i] = auc(fpr[i], tpr[i])\n",
    "\n",
    "\n",
    "# plot the ROC curve for each class\n",
    "for i in range(num_classes):\n",
    "    plt.plot(fpr[i], tpr[i], label='Class {}: AUC={:.3f}'.format(i, roc_auc[i]))\n",
    "\n",
    "plt.xlabel('False Positive Rate')\n",
    "plt.ylabel('True Positive Rate')\n",
    "plt.legend()\n",
    "plt.show()"
   ]
  },
  {
   "cell_type": "markdown",
   "id": "7ae4ded1",
   "metadata": {
    "papermill": {
     "duration": 0.036181,
     "end_time": "2023-05-28T09:12:53.813555",
     "exception": false,
     "start_time": "2023-05-28T09:12:53.777374",
     "status": "completed"
    },
    "tags": []
   },
   "source": [
    "## MCC and Kappa Score"
   ]
  },
  {
   "cell_type": "code",
   "execution_count": 41,
   "id": "952fbf3c",
   "metadata": {
    "execution": {
     "iopub.execute_input": "2023-05-28T09:12:53.888250Z",
     "iopub.status.busy": "2023-05-28T09:12:53.887878Z",
     "iopub.status.idle": "2023-05-28T09:12:53.898802Z",
     "shell.execute_reply": "2023-05-28T09:12:53.897897Z"
    },
    "papermill": {
     "duration": 0.050568,
     "end_time": "2023-05-28T09:12:53.900789",
     "exception": false,
     "start_time": "2023-05-28T09:12:53.850221",
     "status": "completed"
    },
    "tags": []
   },
   "outputs": [
    {
     "name": "stdout",
     "output_type": "stream",
     "text": [
      "MCC: 74.86%\n",
      "Kappa Score: 74.58%\n"
     ]
    }
   ],
   "source": [
    "from sklearn.metrics import matthews_corrcoef, cohen_kappa_score\n",
    "\n",
    "# y_true are the true labels of the test set\n",
    "# y_pred are the predicted labels of the test set\n",
    "mcc = matthews_corrcoef(y_true, y_pred)\n",
    "kappa = cohen_kappa_score(y_true, y_pred)\n",
    "print(\"MCC: {:.2f}%\".format(mcc*100))\n",
    "print(\"Kappa Score: {:.2f}%\".format(kappa*100))"
   ]
  },
  {
   "cell_type": "code",
   "execution_count": 42,
   "id": "1cd76795",
   "metadata": {
    "execution": {
     "iopub.execute_input": "2023-05-28T09:12:53.976765Z",
     "iopub.status.busy": "2023-05-28T09:12:53.975790Z",
     "iopub.status.idle": "2023-05-28T09:12:54.044123Z",
     "shell.execute_reply": "2023-05-28T09:12:54.042928Z"
    },
    "papermill": {
     "duration": 0.109038,
     "end_time": "2023-05-28T09:12:54.046966",
     "exception": false,
     "start_time": "2023-05-28T09:12:53.937928",
     "status": "completed"
    },
    "tags": []
   },
   "outputs": [
    {
     "name": "stdout",
     "output_type": "stream",
     "text": [
      "MCC per class:\n",
      "Class 0: 59.69%\n",
      "Class 1: 83.09%\n",
      "Class 2: 69.17%\n",
      "Class 3: 66.42%\n",
      "Class 4: 57.19%\n",
      "Class 5: 80.77%\n",
      "Class 6: 100.00%\n",
      "Kappa Score per class:\n",
      "Class 0: 58.57%\n",
      "Class 1: 83.07%\n",
      "Class 2: 69.08%\n",
      "Class 3: 66.42%\n",
      "Class 4: 56.12%\n",
      "Class 5: 80.43%\n",
      "Class 6: 100.00%\n"
     ]
    }
   ],
   "source": [
    "### Individual Class Wise MCC and Kappa\n",
    "\n",
    "from sklearn.metrics import confusion_matrix, matthews_corrcoef, cohen_kappa_score\n",
    "# y_true are the true labels of the test set\n",
    "# y_pred are the predicted labels of the test set\n",
    "conf_mat = confusion_matrix(y_true, y_pred)\n",
    "mcc_per_class = {}\n",
    "kappa_per_class = {}\n",
    "\n",
    "for i in range(len(conf_mat)):\n",
    "    tp = conf_mat[i][i]\n",
    "    fp = sum(conf_mat[:, i]) - tp\n",
    "    fn = sum(conf_mat[i, :]) - tp\n",
    "    tn = sum(sum(conf_mat)) - tp - fp - fn\n",
    "\n",
    "    mcc_per_class[i] = matthews_corrcoef([1 if x==i else 0 for x in y_true], [1 if x==i else 0 for x in y_pred])\n",
    "    kappa_per_class[i] = cohen_kappa_score([1 if x==i else 0 for x in y_true], [1 if x==i else 0 for x in y_pred])\n",
    "\n",
    "print(\"MCC per class:\")\n",
    "for i, mcc in mcc_per_class.items():\n",
    "    print(\"Class {}: {:.2f}%\".format(i, mcc*100))\n",
    "\n",
    "print(\"Kappa Score per class:\")\n",
    "for i, kappa in kappa_per_class.items():\n",
    "    print(\"Class {}: {:.2f}%\".format(i, kappa*100))"
   ]
  }
 ],
 "metadata": {
  "kernelspec": {
   "display_name": "Python 3",
   "language": "python",
   "name": "python3"
  },
  "language_info": {
   "codemirror_mode": {
    "name": "ipython",
    "version": 3
   },
   "file_extension": ".py",
   "mimetype": "text/x-python",
   "name": "python",
   "nbconvert_exporter": "python",
   "pygments_lexer": "ipython3",
   "version": "3.10.10"
  },
  "papermill": {
   "default_parameters": {},
   "duration": 25074.934866,
   "end_time": "2023-05-28T09:12:57.345868",
   "environment_variables": {},
   "exception": null,
   "input_path": "__notebook__.ipynb",
   "output_path": "__notebook__.ipynb",
   "parameters": {},
   "start_time": "2023-05-28T02:15:02.411002",
   "version": "2.4.0"
  }
 },
 "nbformat": 4,
 "nbformat_minor": 5
}
