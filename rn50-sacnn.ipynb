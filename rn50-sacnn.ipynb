{
 "cells": [
  {
   "cell_type": "markdown",
   "id": "ca9c6f57",
   "metadata": {
    "papermill": {
     "duration": 0.01468,
     "end_time": "2023-05-20T13:30:01.726224",
     "exception": false,
     "start_time": "2023-05-20T13:30:01.711544",
     "status": "completed"
    },
    "tags": []
   },
   "source": [
    "# Libraries"
   ]
  },
  {
   "cell_type": "code",
   "execution_count": 1,
   "id": "9f4f03db",
   "metadata": {
    "execution": {
     "iopub.execute_input": "2023-05-20T13:30:01.757578Z",
     "iopub.status.busy": "2023-05-20T13:30:01.757136Z",
     "iopub.status.idle": "2023-05-20T13:30:10.896447Z",
     "shell.execute_reply": "2023-05-20T13:30:10.895416Z"
    },
    "id": "Aa36bMKLze3z",
    "papermill": {
     "duration": 9.158229,
     "end_time": "2023-05-20T13:30:10.899242",
     "exception": false,
     "start_time": "2023-05-20T13:30:01.741013",
     "status": "completed"
    },
    "tags": []
   },
   "outputs": [
    {
     "name": "stderr",
     "output_type": "stream",
     "text": [
      "/opt/conda/lib/python3.10/site-packages/scipy/__init__.py:146: UserWarning: A NumPy version >=1.16.5 and <1.23.0 is required for this version of SciPy (detected version 1.23.5\n",
      "  warnings.warn(f\"A NumPy version >={np_minversion} and <{np_maxversion}\"\n"
     ]
    }
   ],
   "source": [
    "import pandas as pd\n",
    "import numpy as np\n",
    "import os\n",
    "import tensorflow as tf\n",
    "import cv2\n",
    "from keras import backend as K\n",
    "from keras.layers import Layer, InputSpec\n",
    "import keras.layers as kl\n",
    "from glob import glob\n",
    "from sklearn.metrics import roc_curve, auc\n",
    "from keras.preprocessing import image\n",
    "from tensorflow.keras.models import Sequential\n",
    "from sklearn.metrics import roc_auc_score\n",
    "from tensorflow.keras import callbacks \n",
    "from tensorflow.keras.callbacks import ModelCheckpoint, EarlyStopping\n",
    "from  matplotlib import pyplot as plt\n",
    "from tensorflow.keras import Model\n",
    "from tensorflow.keras.layers import concatenate, Dense, Conv2D, MaxPooling2D, Flatten, Input, Activation, add, AveragePooling2D, BatchNormalization, Dropout, GlobalAveragePooling2D, GlobalMaxPooling2D\n",
    "%matplotlib inline\n",
    "import shutil\n",
    "from sklearn.metrics import  precision_score, recall_score, accuracy_score, classification_report, confusion_matrix\n",
    "from tensorflow.python.platform import build_info as tf_build_info\n",
    "from tensorflow.keras.preprocessing.image import ImageDataGenerator\n",
    "from sklearn.model_selection import train_test_split\n",
    "\n",
    "from PIL import ImageFile\n",
    "ImageFile.LOAD_TRUNCATED_IMAGES = True"
   ]
  },
  {
   "cell_type": "code",
   "execution_count": 2,
   "id": "6d6bb287",
   "metadata": {
    "execution": {
     "iopub.execute_input": "2023-05-20T13:30:10.931806Z",
     "iopub.status.busy": "2023-05-20T13:30:10.931238Z",
     "iopub.status.idle": "2023-05-20T13:30:10.936067Z",
     "shell.execute_reply": "2023-05-20T13:30:10.935154Z"
    },
    "id": "PsoqCvNsgmHP",
    "papermill": {
     "duration": 0.022459,
     "end_time": "2023-05-20T13:30:10.937976",
     "exception": false,
     "start_time": "2023-05-20T13:30:10.915517",
     "status": "completed"
    },
    "tags": []
   },
   "outputs": [],
   "source": [
    "targetnames = ['akiec', 'bcc', 'bkl', 'df', 'mel', 'nv', 'vasc']\n",
    "batch_size = 16\n",
    "image_size = 224"
   ]
  },
  {
   "cell_type": "code",
   "execution_count": 3,
   "id": "142db255",
   "metadata": {
    "execution": {
     "iopub.execute_input": "2023-05-20T13:30:10.970407Z",
     "iopub.status.busy": "2023-05-20T13:30:10.968851Z",
     "iopub.status.idle": "2023-05-20T13:30:10.973877Z",
     "shell.execute_reply": "2023-05-20T13:30:10.973087Z"
    },
    "id": "wNisha_gM3_Z",
    "papermill": {
     "duration": 0.022712,
     "end_time": "2023-05-20T13:30:10.975824",
     "exception": false,
     "start_time": "2023-05-20T13:30:10.953112",
     "status": "completed"
    },
    "tags": []
   },
   "outputs": [],
   "source": [
    "train_path = '/kaggle/input/splitted-and-augmented-ham-15/Splitted_And_Augmented_HAM_15/HAM10K/train_dir'\n",
    "test_path = '/kaggle/input/splitted-and-augmented-ham-15/Splitted_And_Augmented_HAM_15/HAM10K/test_dir'\n",
    "val_path = '/kaggle/input/splitted-and-augmented-ham-15/Splitted_And_Augmented_HAM_15/HAM10K/val_dir'"
   ]
  },
  {
   "cell_type": "markdown",
   "id": "258f9c14",
   "metadata": {
    "papermill": {
     "duration": 0.014196,
     "end_time": "2023-05-20T13:30:11.004794",
     "exception": false,
     "start_time": "2023-05-20T13:30:10.990598",
     "status": "completed"
    },
    "tags": []
   },
   "source": [
    "# Dataset generation (Train, Test, Validation)"
   ]
  },
  {
   "cell_type": "code",
   "execution_count": 4,
   "id": "4847e9a4",
   "metadata": {
    "execution": {
     "iopub.execute_input": "2023-05-20T13:30:11.037895Z",
     "iopub.status.busy": "2023-05-20T13:30:11.036466Z",
     "iopub.status.idle": "2023-05-20T13:30:11.041498Z",
     "shell.execute_reply": "2023-05-20T13:30:11.040694Z"
    },
    "id": "zhQWqdRN79B3",
    "papermill": {
     "duration": 0.022921,
     "end_time": "2023-05-20T13:30:11.043547",
     "exception": false,
     "start_time": "2023-05-20T13:30:11.020626",
     "status": "completed"
    },
    "tags": []
   },
   "outputs": [],
   "source": [
    "datagen = ImageDataGenerator(preprocessing_function=tf.keras.applications.resnet50.preprocess_input)"
   ]
  },
  {
   "cell_type": "code",
   "execution_count": 5,
   "id": "634a2e66",
   "metadata": {
    "execution": {
     "iopub.execute_input": "2023-05-20T13:30:11.074425Z",
     "iopub.status.busy": "2023-05-20T13:30:11.073590Z",
     "iopub.status.idle": "2023-05-20T13:31:02.597528Z",
     "shell.execute_reply": "2023-05-20T13:31:02.596489Z"
    },
    "id": "w9_8FvOO7Rtu",
    "outputId": "7ca88c24-fda8-45d6-cb32-f3a43ae6ba5b",
    "papermill": {
     "duration": 51.541687,
     "end_time": "2023-05-20T13:31:02.599888",
     "exception": false,
     "start_time": "2023-05-20T13:30:11.058201",
     "status": "completed"
    },
    "tags": []
   },
   "outputs": [
    {
     "name": "stdout",
     "output_type": "stream",
     "text": [
      "\n",
      "Train Batches: \n",
      "Found 54782 images belonging to 7 classes.\n",
      "\n",
      "Test Batches: \n",
      "Found 828 images belonging to 7 classes.\n",
      "\n",
      "Val Batches: \n",
      "Found 827 images belonging to 7 classes.\n"
     ]
    }
   ],
   "source": [
    "print(\"\\nTrain Batches: \")\n",
    "train_batches = datagen.flow_from_directory(directory=train_path,\n",
    "                                            target_size=(image_size,image_size),\n",
    "                                            batch_size=batch_size,\n",
    "                                            shuffle=True)\n",
    "\n",
    "print(\"\\nTest Batches: \")\n",
    "test_batches = datagen.flow_from_directory(test_path,\n",
    "                                          target_size=(image_size,image_size),\n",
    "                                          batch_size=batch_size,\n",
    "                                          shuffle=False)\n",
    "print(\"\\nVal Batches: \")\n",
    "val_batches = datagen.flow_from_directory(val_path,\n",
    "                                         target_size=(image_size,image_size),\n",
    "                                         batch_size=batch_size,\n",
    "                                         shuffle=False)"
   ]
  },
  {
   "cell_type": "markdown",
   "id": "f69fa25e",
   "metadata": {
    "papermill": {
     "duration": 0.015001,
     "end_time": "2023-05-20T13:31:02.630565",
     "exception": false,
     "start_time": "2023-05-20T13:31:02.615564",
     "status": "completed"
    },
    "tags": []
   },
   "source": [
    "# Main Model Creation"
   ]
  },
  {
   "cell_type": "markdown",
   "id": "9ac03212",
   "metadata": {
    "papermill": {
     "duration": 0.014297,
     "end_time": "2023-05-20T13:31:02.660083",
     "exception": false,
     "start_time": "2023-05-20T13:31:02.645786",
     "status": "completed"
    },
    "tags": []
   },
   "source": [
    "### Soft Attention"
   ]
  },
  {
   "cell_type": "code",
   "execution_count": 6,
   "id": "acb983e7",
   "metadata": {
    "execution": {
     "iopub.execute_input": "2023-05-20T13:31:02.692697Z",
     "iopub.status.busy": "2023-05-20T13:31:02.692343Z",
     "iopub.status.idle": "2023-05-20T13:31:02.714276Z",
     "shell.execute_reply": "2023-05-20T13:31:02.713390Z"
    },
    "papermill": {
     "duration": 0.040623,
     "end_time": "2023-05-20T13:31:02.716293",
     "exception": false,
     "start_time": "2023-05-20T13:31:02.675670",
     "status": "completed"
    },
    "tags": []
   },
   "outputs": [],
   "source": [
    "from keras import backend as K\n",
    "from keras.layers import Layer,InputSpec\n",
    "import keras.layers as kl\n",
    "import tensorflow as tf\n",
    "\n",
    "\n",
    "\n",
    "class SoftAttention(Layer):\n",
    "    def __init__(self,ch,m,concat_with_x=False,aggregate=False,**kwargs):\n",
    "        self.channels=int(ch)\n",
    "        self.multiheads = m\n",
    "        self.aggregate_channels = aggregate\n",
    "        self.concat_input_with_scaled = concat_with_x\n",
    "\n",
    "        \n",
    "        super(SoftAttention,self).__init__(**kwargs)\n",
    "\n",
    "    def build(self,input_shape):\n",
    "\n",
    "        self.i_shape = input_shape\n",
    "\n",
    "        kernel_shape_conv3d = (self.channels, 3, 3) + (1, self.multiheads) # DHWC\n",
    "    \n",
    "        self.out_attention_maps_shape = input_shape[0:1]+(self.multiheads,)+input_shape[1:-1]\n",
    "        \n",
    "        if self.aggregate_channels==False:\n",
    "\n",
    "            self.out_features_shape = input_shape[:-1]+(input_shape[-1]+(input_shape[-1]*self.multiheads),)\n",
    "        else:\n",
    "            if self.concat_input_with_scaled:\n",
    "                self.out_features_shape = input_shape[:-1]+(input_shape[-1]*2,)\n",
    "            else:\n",
    "                self.out_features_shape = input_shape\n",
    "        \n",
    "\n",
    "        self.kernel_conv3d = self.add_weight(shape=kernel_shape_conv3d,\n",
    "                                        initializer='he_uniform',\n",
    "                                        name='kernel_conv3d')\n",
    "        self.bias_conv3d = self.add_weight(shape=(self.multiheads,),\n",
    "                                      initializer='zeros',\n",
    "                                      name='bias_conv3d')\n",
    "\n",
    "        super(SoftAttention, self).build(input_shape)\n",
    "\n",
    "    def call(self, x):\n",
    "\n",
    "        exp_x = K.expand_dims(x,axis=-1)\n",
    "\n",
    "        c3d = K.conv3d(exp_x,\n",
    "                     kernel=self.kernel_conv3d,\n",
    "                     strides=(1,1,self.i_shape[-1]), padding='same', data_format='channels_last')\n",
    "        conv3d = K.bias_add(c3d,\n",
    "                        self.bias_conv3d)\n",
    "        conv3d = kl.Activation('relu')(conv3d)\n",
    "\n",
    "        conv3d = K.permute_dimensions(conv3d,pattern=(0,4,1,2,3))\n",
    "\n",
    "        \n",
    "        conv3d = K.squeeze(conv3d, axis=-1)\n",
    "        conv3d = K.reshape(conv3d,shape=(-1, self.multiheads ,self.i_shape[1]*self.i_shape[2]))\n",
    "\n",
    "        softmax_alpha = K.softmax(conv3d, axis=-1) \n",
    "        softmax_alpha = kl.Reshape(target_shape=(self.multiheads, self.i_shape[1],self.i_shape[2]))(softmax_alpha)\n",
    "\n",
    "        \n",
    "        if self.aggregate_channels==False:\n",
    "            exp_softmax_alpha = K.expand_dims(softmax_alpha, axis=-1)       \n",
    "            exp_softmax_alpha = K.permute_dimensions(exp_softmax_alpha,pattern=(0,2,3,1,4))\n",
    "   \n",
    "            x_exp = K.expand_dims(x,axis=-2)\n",
    "   \n",
    "            u = kl.Multiply()([exp_softmax_alpha, x_exp])   \n",
    "  \n",
    "            u = kl.Reshape(target_shape=(self.i_shape[1],self.i_shape[2],u.shape[-1]*u.shape[-2]))(u)\n",
    "\n",
    "        else:\n",
    "            exp_softmax_alpha = K.permute_dimensions(softmax_alpha,pattern=(0,2,3,1))\n",
    "\n",
    "            exp_softmax_alpha = K.sum(exp_softmax_alpha,axis=-1)\n",
    "\n",
    "            exp_softmax_alpha = K.expand_dims(exp_softmax_alpha, axis=-1)\n",
    "\n",
    "            u = kl.Multiply()([exp_softmax_alpha, x])   \n",
    "\n",
    "        if self.concat_input_with_scaled:\n",
    "            o = kl.Concatenate(axis=-1)([u,x])\n",
    "        else:\n",
    "            o = u\n",
    "        \n",
    "        return [o, softmax_alpha]\n",
    "\n",
    "    def compute_output_shape(self, input_shape): \n",
    "        return [self.out_features_shape, self.out_attention_maps_shape]\n",
    "\n",
    "    \n",
    "    def get_config(self):\n",
    "        return super(SoftAttention,self).get_config()\n",
    " "
   ]
  },
  {
   "cell_type": "markdown",
   "id": "f256d200",
   "metadata": {
    "papermill": {
     "duration": 0.014797,
     "end_time": "2023-05-20T13:31:02.746227",
     "exception": false,
     "start_time": "2023-05-20T13:31:02.731430",
     "status": "completed"
    },
    "tags": []
   },
   "source": [
    "### Define Model"
   ]
  },
  {
   "cell_type": "code",
   "execution_count": 7,
   "id": "57c35a7c",
   "metadata": {
    "execution": {
     "iopub.execute_input": "2023-05-20T13:31:02.777852Z",
     "iopub.status.busy": "2023-05-20T13:31:02.776990Z",
     "iopub.status.idle": "2023-05-20T13:31:10.358263Z",
     "shell.execute_reply": "2023-05-20T13:31:10.357056Z"
    },
    "id": "zhQWqdRN79B3",
    "papermill": {
     "duration": 7.600069,
     "end_time": "2023-05-20T13:31:10.361001",
     "exception": false,
     "start_time": "2023-05-20T13:31:02.760932",
     "status": "completed"
    },
    "tags": []
   },
   "outputs": [
    {
     "name": "stdout",
     "output_type": "stream",
     "text": [
      "Downloading data from https://storage.googleapis.com/tensorflow/keras-applications/resnet/resnet50_weights_tf_dim_ordering_tf_kernels_notop.h5\n",
      "94765736/94765736 [==============================] - 2s 0us/step\n"
     ]
    }
   ],
   "source": [
    "from tensorflow.keras.applications.resnet50 import ResNet50\n",
    "\n",
    "# Create a new instance of ResNet50\n",
    "RN50 = ResNet50(weights='imagenet', include_top=False, input_shape=(image_size, image_size, 3), pooling='avg')"
   ]
  },
  {
   "cell_type": "markdown",
   "id": "f2531809",
   "metadata": {
    "papermill": {
     "duration": 0.017614,
     "end_time": "2023-05-20T13:31:10.396841",
     "exception": false,
     "start_time": "2023-05-20T13:31:10.379227",
     "status": "completed"
    },
    "tags": []
   },
   "source": [
    "## Fine tuning"
   ]
  },
  {
   "cell_type": "code",
   "execution_count": 8,
   "id": "83eaadbb",
   "metadata": {
    "execution": {
     "iopub.execute_input": "2023-05-20T13:31:10.433670Z",
     "iopub.status.busy": "2023-05-20T13:31:10.433335Z",
     "iopub.status.idle": "2023-05-20T13:31:10.439144Z",
     "shell.execute_reply": "2023-05-20T13:31:10.438148Z"
    },
    "id": "4d4Ta5LcSYaz",
    "papermill": {
     "duration": 0.027093,
     "end_time": "2023-05-20T13:31:10.441576",
     "exception": false,
     "start_time": "2023-05-20T13:31:10.414483",
     "status": "completed"
    },
    "tags": []
   },
   "outputs": [],
   "source": [
    "MainInput=Input(shape=(image_size, image_size, 3))"
   ]
  },
  {
   "cell_type": "code",
   "execution_count": 9,
   "id": "4afbcd8c",
   "metadata": {
    "execution": {
     "iopub.execute_input": "2023-05-20T13:31:10.478950Z",
     "iopub.status.busy": "2023-05-20T13:31:10.478680Z",
     "iopub.status.idle": "2023-05-20T13:31:10.959544Z",
     "shell.execute_reply": "2023-05-20T13:31:10.958584Z"
    },
    "papermill": {
     "duration": 0.502271,
     "end_time": "2023-05-20T13:31:10.962141",
     "exception": false,
     "start_time": "2023-05-20T13:31:10.459870",
     "status": "completed"
    },
    "tags": []
   },
   "outputs": [],
   "source": [
    "resnet = RN50(MainInput)"
   ]
  },
  {
   "cell_type": "code",
   "execution_count": 10,
   "id": "b9a16b79",
   "metadata": {
    "execution": {
     "iopub.execute_input": "2023-05-20T13:31:11.002169Z",
     "iopub.status.busy": "2023-05-20T13:31:11.001225Z",
     "iopub.status.idle": "2023-05-20T13:31:11.017241Z",
     "shell.execute_reply": "2023-05-20T13:31:11.016368Z"
    },
    "papermill": {
     "duration": 0.038189,
     "end_time": "2023-05-20T13:31:11.019339",
     "exception": false,
     "start_time": "2023-05-20T13:31:10.981150",
     "status": "completed"
    },
    "tags": []
   },
   "outputs": [],
   "source": [
    "# Reshape the tensor to have 4 dimensions\n",
    "from tensorflow.keras.layers import Reshape\n",
    "reshape = Reshape((16, 16, 8))(resnet)"
   ]
  },
  {
   "cell_type": "code",
   "execution_count": 11,
   "id": "06a7b465",
   "metadata": {
    "execution": {
     "iopub.execute_input": "2023-05-20T13:31:11.057227Z",
     "iopub.status.busy": "2023-05-20T13:31:11.056924Z",
     "iopub.status.idle": "2023-05-20T13:31:11.151445Z",
     "shell.execute_reply": "2023-05-20T13:31:11.150576Z"
    },
    "id": "x8mS99J5SYbT",
    "papermill": {
     "duration": 0.11595,
     "end_time": "2023-05-20T13:31:11.153708",
     "exception": false,
     "start_time": "2023-05-20T13:31:11.037758",
     "status": "completed"
    },
    "tags": []
   },
   "outputs": [],
   "source": [
    "# Add convolutional layers with Channel Attention\n",
    "conv = Conv2D(filters=128, kernel_size=(7, 7), activation=\"relu\", padding=\"same\", kernel_initializer='he_normal')(reshape)\n",
    "conv = BatchNormalization()(conv)\n",
    "conv = Conv2D(filters=128, kernel_size=(5, 5), activation=\"relu\", padding=\"same\", kernel_initializer='he_normal')(conv)\n",
    "conv = BatchNormalization()(conv)\n",
    "conv = Conv2D(filters=128, kernel_size=(3, 3), activation=\"relu\", padding=\"same\", kernel_initializer='he_normal')(conv)\n",
    "conv = BatchNormalization()(conv)\n",
    "conv = Conv2D(filters=128, kernel_size=(1, 1), activation=\"relu\", padding=\"same\", kernel_initializer='he_normal')(conv)\n",
    "conv = BatchNormalization()(conv)"
   ]
  },
  {
   "cell_type": "code",
   "execution_count": 12,
   "id": "efa6efd2",
   "metadata": {
    "execution": {
     "iopub.execute_input": "2023-05-20T13:31:11.191412Z",
     "iopub.status.busy": "2023-05-20T13:31:11.191097Z",
     "iopub.status.idle": "2023-05-20T13:31:11.755501Z",
     "shell.execute_reply": "2023-05-20T13:31:11.754582Z"
    },
    "papermill": {
     "duration": 0.585695,
     "end_time": "2023-05-20T13:31:11.757842",
     "exception": false,
     "start_time": "2023-05-20T13:31:11.172147",
     "status": "completed"
    },
    "tags": []
   },
   "outputs": [],
   "source": [
    "attention_layer,map2 = SoftAttention(aggregate=True,m=16,concat_with_x=False,ch=int(conv.shape[-1]),name='soft_attention')(conv)\n",
    "attention_layer=(MaxPooling2D(pool_size=(2, 2),padding=\"same\")(attention_layer))\n",
    "conv=(MaxPooling2D(pool_size=(2, 2),padding=\"same\")(conv))\n",
    "\n",
    "conv = concatenate([conv,attention_layer])\n",
    "conv  = Activation('relu')(conv)\n",
    "conv = Dropout(0.5)(conv)"
   ]
  },
  {
   "cell_type": "code",
   "execution_count": 13,
   "id": "acf2ec4c",
   "metadata": {
    "execution": {
     "iopub.execute_input": "2023-05-20T13:31:11.794956Z",
     "iopub.status.busy": "2023-05-20T13:31:11.794062Z",
     "iopub.status.idle": "2023-05-20T13:31:11.883275Z",
     "shell.execute_reply": "2023-05-20T13:31:11.882402Z"
    },
    "id": "sW4tKg9wSYbk",
    "papermill": {
     "duration": 0.109915,
     "end_time": "2023-05-20T13:31:11.885332",
     "exception": false,
     "start_time": "2023-05-20T13:31:11.775417",
     "status": "completed"
    },
    "tags": []
   },
   "outputs": [],
   "source": [
    "conv = Conv2D(filters=256,kernel_size=(7,7), activation=\"relu\",padding=\"same\",kernel_initializer='he_normal')(conv)\n",
    "conv = BatchNormalization()(conv)\n",
    "conv = Conv2D(filters=256,kernel_size=(5,5), activation=\"relu\",padding=\"same\",kernel_initializer='he_normal')(conv)\n",
    "conv = BatchNormalization()(conv)\n",
    "conv = Conv2D(filters=256,kernel_size=(3,3), activation=\"relu\",padding=\"same\",kernel_initializer='he_normal')(conv)\n",
    "conv = BatchNormalization()(conv)\n",
    "conv = Conv2D(filters=256,kernel_size=(1,1), activation=\"relu\",padding=\"same\",kernel_initializer='he_normal')(conv)\n",
    "conv = BatchNormalization()(conv)"
   ]
  },
  {
   "cell_type": "code",
   "execution_count": 14,
   "id": "2650048f",
   "metadata": {
    "execution": {
     "iopub.execute_input": "2023-05-20T13:31:11.921752Z",
     "iopub.status.busy": "2023-05-20T13:31:11.921195Z",
     "iopub.status.idle": "2023-05-20T13:31:11.968739Z",
     "shell.execute_reply": "2023-05-20T13:31:11.967867Z"
    },
    "papermill": {
     "duration": 0.06755,
     "end_time": "2023-05-20T13:31:11.970806",
     "exception": false,
     "start_time": "2023-05-20T13:31:11.903256",
     "status": "completed"
    },
    "tags": []
   },
   "outputs": [],
   "source": [
    "attention_layer,map2 = SoftAttention(aggregate=True,m=16,concat_with_x=False,ch=int(conv.shape[-1]),name='soft_attention_2')(conv)\n",
    "attention_layer=(MaxPooling2D(pool_size=(2, 2),padding=\"same\")(attention_layer))\n",
    "conv=(MaxPooling2D(pool_size=(2, 2),padding=\"same\")(conv))\n",
    "\n",
    "conv = concatenate([conv,attention_layer])\n",
    "conv  = Activation('relu')(conv)\n",
    "conv = Dropout(0.5)(conv)"
   ]
  },
  {
   "cell_type": "code",
   "execution_count": 15,
   "id": "6de18918",
   "metadata": {
    "execution": {
     "iopub.execute_input": "2023-05-20T13:31:12.007188Z",
     "iopub.status.busy": "2023-05-20T13:31:12.006444Z",
     "iopub.status.idle": "2023-05-20T13:31:12.011943Z",
     "shell.execute_reply": "2023-05-20T13:31:12.010681Z"
    },
    "papermill": {
     "duration": 0.025687,
     "end_time": "2023-05-20T13:31:12.013940",
     "exception": false,
     "start_time": "2023-05-20T13:31:11.988253",
     "status": "completed"
    },
    "tags": []
   },
   "outputs": [
    {
     "name": "stdout",
     "output_type": "stream",
     "text": [
      "7\n"
     ]
    }
   ],
   "source": [
    "num_classes = test_batches.num_classes\n",
    "print(num_classes)"
   ]
  },
  {
   "cell_type": "code",
   "execution_count": 16,
   "id": "9fea8ae6",
   "metadata": {
    "execution": {
     "iopub.execute_input": "2023-05-20T13:31:12.050733Z",
     "iopub.status.busy": "2023-05-20T13:31:12.050247Z",
     "iopub.status.idle": "2023-05-20T13:31:12.130516Z",
     "shell.execute_reply": "2023-05-20T13:31:12.129326Z"
    },
    "id": "-EdFxKdgSYcf",
    "papermill": {
     "duration": 0.101796,
     "end_time": "2023-05-20T13:31:12.133745",
     "exception": false,
     "start_time": "2023-05-20T13:31:12.031949",
     "status": "completed"
    },
    "tags": []
   },
   "outputs": [],
   "source": [
    "conv=(Flatten()(conv))\n",
    "conv=(Dense(1024,activation=\"relu\")(conv))\n",
    "conv = Dropout(0.5)(conv)\n",
    "conv=(Dense(512,activation=\"relu\")(conv))\n",
    "conv = Dropout(0.25)(conv)\n",
    "conv=(Dense(num_classes, activation=\"softmax\")(conv))\n",
    "\n",
    "model_rn50_sa = Model(inputs=MainInput, outputs=conv)"
   ]
  },
  {
   "cell_type": "code",
   "execution_count": 17,
   "id": "c4ba96a9",
   "metadata": {
    "execution": {
     "iopub.execute_input": "2023-05-20T13:31:12.189293Z",
     "iopub.status.busy": "2023-05-20T13:31:12.188414Z",
     "iopub.status.idle": "2023-05-20T13:31:12.306827Z",
     "shell.execute_reply": "2023-05-20T13:31:12.306090Z"
    },
    "id": "ba8ajOckSYcl",
    "outputId": "e69fa749-4741-4f49-ae3e-9f5479e809a8",
    "papermill": {
     "duration": 0.169621,
     "end_time": "2023-05-20T13:31:12.336944",
     "exception": false,
     "start_time": "2023-05-20T13:31:12.167323",
     "status": "completed"
    },
    "tags": []
   },
   "outputs": [
    {
     "name": "stdout",
     "output_type": "stream",
     "text": [
      "Model: \"model\"\n",
      "__________________________________________________________________________________________________\n",
      " Layer (type)                   Output Shape         Param #     Connected to                     \n",
      "==================================================================================================\n",
      " input_2 (InputLayer)           [(None, 224, 224, 3  0           []                               \n",
      "                                )]                                                                \n",
      "                                                                                                  \n",
      " resnet50 (Functional)          (None, 2048)         23587712    ['input_2[0][0]']                \n",
      "                                                                                                  \n",
      " reshape (Reshape)              (None, 16, 16, 8)    0           ['resnet50[0][0]']               \n",
      "                                                                                                  \n",
      " conv2d (Conv2D)                (None, 16, 16, 128)  50304       ['reshape[0][0]']                \n",
      "                                                                                                  \n",
      " batch_normalization (BatchNorm  (None, 16, 16, 128)  512        ['conv2d[0][0]']                 \n",
      " alization)                                                                                       \n",
      "                                                                                                  \n",
      " conv2d_1 (Conv2D)              (None, 16, 16, 128)  409728      ['batch_normalization[0][0]']    \n",
      "                                                                                                  \n",
      " batch_normalization_1 (BatchNo  (None, 16, 16, 128)  512        ['conv2d_1[0][0]']               \n",
      " rmalization)                                                                                     \n",
      "                                                                                                  \n",
      " conv2d_2 (Conv2D)              (None, 16, 16, 128)  147584      ['batch_normalization_1[0][0]']  \n",
      "                                                                                                  \n",
      " batch_normalization_2 (BatchNo  (None, 16, 16, 128)  512        ['conv2d_2[0][0]']               \n",
      " rmalization)                                                                                     \n",
      "                                                                                                  \n",
      " conv2d_3 (Conv2D)              (None, 16, 16, 128)  16512       ['batch_normalization_2[0][0]']  \n",
      "                                                                                                  \n",
      " batch_normalization_3 (BatchNo  (None, 16, 16, 128)  512        ['conv2d_3[0][0]']               \n",
      " rmalization)                                                                                     \n",
      "                                                                                                  \n",
      " soft_attention (SoftAttention)  [(None, 16, 16, 128  18448      ['batch_normalization_3[0][0]']  \n",
      "                                ),                                                                \n",
      "                                 (None, 16, 16, 16)                                               \n",
      "                                ]                                                                 \n",
      "                                                                                                  \n",
      " max_pooling2d_1 (MaxPooling2D)  (None, 8, 8, 128)   0           ['batch_normalization_3[0][0]']  \n",
      "                                                                                                  \n",
      " max_pooling2d (MaxPooling2D)   (None, 8, 8, 128)    0           ['soft_attention[0][0]']         \n",
      "                                                                                                  \n",
      " concatenate (Concatenate)      (None, 8, 8, 256)    0           ['max_pooling2d_1[0][0]',        \n",
      "                                                                  'max_pooling2d[0][0]']          \n",
      "                                                                                                  \n",
      " activation (Activation)        (None, 8, 8, 256)    0           ['concatenate[0][0]']            \n",
      "                                                                                                  \n",
      " dropout (Dropout)              (None, 8, 8, 256)    0           ['activation[0][0]']             \n",
      "                                                                                                  \n",
      " conv2d_4 (Conv2D)              (None, 8, 8, 256)    3211520     ['dropout[0][0]']                \n",
      "                                                                                                  \n",
      " batch_normalization_4 (BatchNo  (None, 8, 8, 256)   1024        ['conv2d_4[0][0]']               \n",
      " rmalization)                                                                                     \n",
      "                                                                                                  \n",
      " conv2d_5 (Conv2D)              (None, 8, 8, 256)    1638656     ['batch_normalization_4[0][0]']  \n",
      "                                                                                                  \n",
      " batch_normalization_5 (BatchNo  (None, 8, 8, 256)   1024        ['conv2d_5[0][0]']               \n",
      " rmalization)                                                                                     \n",
      "                                                                                                  \n",
      " conv2d_6 (Conv2D)              (None, 8, 8, 256)    590080      ['batch_normalization_5[0][0]']  \n",
      "                                                                                                  \n",
      " batch_normalization_6 (BatchNo  (None, 8, 8, 256)   1024        ['conv2d_6[0][0]']               \n",
      " rmalization)                                                                                     \n",
      "                                                                                                  \n",
      " conv2d_7 (Conv2D)              (None, 8, 8, 256)    65792       ['batch_normalization_6[0][0]']  \n",
      "                                                                                                  \n",
      " batch_normalization_7 (BatchNo  (None, 8, 8, 256)   1024        ['conv2d_7[0][0]']               \n",
      " rmalization)                                                                                     \n",
      "                                                                                                  \n",
      " soft_attention_2 (SoftAttentio  [(None, 8, 8, 256),  36880      ['batch_normalization_7[0][0]']  \n",
      " n)                              (None, 16, 8, 8)]                                                \n",
      "                                                                                                  \n",
      " max_pooling2d_3 (MaxPooling2D)  (None, 4, 4, 256)   0           ['batch_normalization_7[0][0]']  \n",
      "                                                                                                  \n",
      " max_pooling2d_2 (MaxPooling2D)  (None, 4, 4, 256)   0           ['soft_attention_2[0][0]']       \n",
      "                                                                                                  \n",
      " concatenate_1 (Concatenate)    (None, 4, 4, 512)    0           ['max_pooling2d_3[0][0]',        \n",
      "                                                                  'max_pooling2d_2[0][0]']        \n",
      "                                                                                                  \n",
      " activation_1 (Activation)      (None, 4, 4, 512)    0           ['concatenate_1[0][0]']          \n",
      "                                                                                                  \n",
      " dropout_1 (Dropout)            (None, 4, 4, 512)    0           ['activation_1[0][0]']           \n",
      "                                                                                                  \n",
      " flatten (Flatten)              (None, 8192)         0           ['dropout_1[0][0]']              \n",
      "                                                                                                  \n",
      " dense (Dense)                  (None, 1024)         8389632     ['flatten[0][0]']                \n",
      "                                                                                                  \n",
      " dropout_2 (Dropout)            (None, 1024)         0           ['dense[0][0]']                  \n",
      "                                                                                                  \n",
      " dense_1 (Dense)                (None, 512)          524800      ['dropout_2[0][0]']              \n",
      "                                                                                                  \n",
      " dropout_3 (Dropout)            (None, 512)          0           ['dense_1[0][0]']                \n",
      "                                                                                                  \n",
      " dense_2 (Dense)                (None, 7)            3591        ['dropout_3[0][0]']              \n",
      "                                                                                                  \n",
      "==================================================================================================\n",
      "Total params: 38,697,383\n",
      "Trainable params: 38,641,191\n",
      "Non-trainable params: 56,192\n",
      "__________________________________________________________________________________________________\n"
     ]
    }
   ],
   "source": [
    "model_rn50_sa.summary()"
   ]
  },
  {
   "cell_type": "code",
   "execution_count": 18,
   "id": "8f7cda5e",
   "metadata": {
    "execution": {
     "iopub.execute_input": "2023-05-20T13:31:12.387580Z",
     "iopub.status.busy": "2023-05-20T13:31:12.387252Z",
     "iopub.status.idle": "2023-05-20T13:31:12.409180Z",
     "shell.execute_reply": "2023-05-20T13:31:12.408322Z"
    },
    "id": "WR0fUpy18vAZ",
    "papermill": {
     "duration": 0.049134,
     "end_time": "2023-05-20T13:31:12.411027",
     "exception": false,
     "start_time": "2023-05-20T13:31:12.361893",
     "status": "completed"
    },
    "tags": []
   },
   "outputs": [],
   "source": [
    "opt1=tf.keras.optimizers.Adam(learning_rate=0.001,epsilon=0.1)\n",
    "model_rn50_sa.compile(optimizer=opt1,\n",
    "             loss='categorical_crossentropy',\n",
    "             metrics=['accuracy'])"
   ]
  },
  {
   "cell_type": "code",
   "execution_count": 19,
   "id": "462bf7c7",
   "metadata": {
    "execution": {
     "iopub.execute_input": "2023-05-20T13:31:12.463110Z",
     "iopub.status.busy": "2023-05-20T13:31:12.462806Z",
     "iopub.status.idle": "2023-05-20T13:31:12.467807Z",
     "shell.execute_reply": "2023-05-20T13:31:12.466846Z"
    },
    "id": "LAf5ha295reS",
    "papermill": {
     "duration": 0.032869,
     "end_time": "2023-05-20T13:31:12.469754",
     "exception": false,
     "start_time": "2023-05-20T13:31:12.436885",
     "status": "completed"
    },
    "tags": []
   },
   "outputs": [],
   "source": [
    "class_weights = {   \n",
    "                    0: 1.0,  # akiec\n",
    "                    1: 1.0,  # bcc\n",
    "                    2: 1.0,  # bkl\n",
    "                    3: 1.0,  # df\n",
    "                    4: 1.0,  # mel\n",
    "                    5: 1.0,  # nv\n",
    "                    6: 1.0  # vasc\n",
    "                }"
   ]
  },
  {
   "cell_type": "code",
   "execution_count": 20,
   "id": "413f8360",
   "metadata": {
    "execution": {
     "iopub.execute_input": "2023-05-20T13:31:12.520842Z",
     "iopub.status.busy": "2023-05-20T13:31:12.520576Z",
     "iopub.status.idle": "2023-05-20T13:31:12.525151Z",
     "shell.execute_reply": "2023-05-20T13:31:12.524230Z"
    },
    "papermill": {
     "duration": 0.031926,
     "end_time": "2023-05-20T13:31:12.527158",
     "exception": false,
     "start_time": "2023-05-20T13:31:12.495232",
     "status": "completed"
    },
    "tags": []
   },
   "outputs": [],
   "source": [
    "checkpoint = ModelCheckpoint(filepath ='RN50_SA.hdf5', monitor='val_accuracy', save_best_only=True, save_weights_only=True)\n",
    "Earlystop = EarlyStopping(monitor='val_accuracy', mode='max', patience=25, min_delta=0.01)"
   ]
  },
  {
   "cell_type": "code",
   "execution_count": 21,
   "id": "10afe3f6",
   "metadata": {
    "execution": {
     "iopub.execute_input": "2023-05-20T13:31:12.578240Z",
     "iopub.status.busy": "2023-05-20T13:31:12.577468Z",
     "iopub.status.idle": "2023-05-20T21:02:12.485642Z",
     "shell.execute_reply": "2023-05-20T21:02:12.484330Z"
    },
    "id": "NUzTmiZ-8hL3",
    "outputId": "e1825ff2-9f9c-436f-cf2c-9776af8eee62",
    "papermill": {
     "duration": 27059.966661,
     "end_time": "2023-05-20T21:02:12.518313",
     "exception": false,
     "start_time": "2023-05-20T13:31:12.551652",
     "status": "completed"
    },
    "tags": []
   },
   "outputs": [
    {
     "name": "stdout",
     "output_type": "stream",
     "text": [
      "Epoch 1/50\n"
     ]
    },
    {
     "name": "stderr",
     "output_type": "stream",
     "text": [
      "2023-05-20 13:31:28.845296: E tensorflow/core/grappler/optimizers/meta_optimizer.cc:954] layout failed: INVALID_ARGUMENT: Size of values 0 does not match size of permutation 4 @ fanin shape inmodel/dropout/dropout/SelectV2-2-TransposeNHWCToNCHW-LayoutOptimizer\n"
     ]
    },
    {
     "name": "stdout",
     "output_type": "stream",
     "text": [
      "3424/3424 - 839s - loss: 1.5092 - accuracy: 0.4268 - val_loss: 0.5029 - val_accuracy: 0.8295 - 839s/epoch - 245ms/step\n",
      "Epoch 2/50\n",
      "3424/3424 - 779s - loss: 0.7013 - accuracy: 0.7522 - val_loss: 0.4416 - val_accuracy: 0.8609 - 779s/epoch - 227ms/step\n",
      "Epoch 3/50\n",
      "3424/3424 - 779s - loss: 0.3917 - accuracy: 0.8623 - val_loss: 0.3790 - val_accuracy: 0.8936 - 779s/epoch - 228ms/step\n",
      "Epoch 4/50\n",
      "3424/3424 - 780s - loss: 0.2610 - accuracy: 0.9088 - val_loss: 0.4292 - val_accuracy: 0.8827 - 780s/epoch - 228ms/step\n",
      "Epoch 5/50\n",
      "3424/3424 - 779s - loss: 0.1872 - accuracy: 0.9347 - val_loss: 0.4756 - val_accuracy: 0.8851 - 779s/epoch - 228ms/step\n",
      "Epoch 6/50\n",
      "3424/3424 - 779s - loss: 0.1396 - accuracy: 0.9520 - val_loss: 0.4254 - val_accuracy: 0.8924 - 779s/epoch - 228ms/step\n",
      "Epoch 7/50\n",
      "3424/3424 - 782s - loss: 0.1095 - accuracy: 0.9625 - val_loss: 0.4579 - val_accuracy: 0.8815 - 782s/epoch - 228ms/step\n",
      "Epoch 8/50\n",
      "3424/3424 - 781s - loss: 0.0877 - accuracy: 0.9699 - val_loss: 0.4438 - val_accuracy: 0.8888 - 781s/epoch - 228ms/step\n",
      "Epoch 9/50\n",
      "3424/3424 - 784s - loss: 0.0691 - accuracy: 0.9771 - val_loss: 0.4239 - val_accuracy: 0.9081 - 784s/epoch - 229ms/step\n",
      "Epoch 10/50\n",
      "3424/3424 - 782s - loss: 0.0623 - accuracy: 0.9796 - val_loss: 0.3802 - val_accuracy: 0.8924 - 782s/epoch - 228ms/step\n",
      "Epoch 11/50\n",
      "3424/3424 - 782s - loss: 0.0435 - accuracy: 0.9858 - val_loss: 0.4891 - val_accuracy: 0.9008 - 782s/epoch - 228ms/step\n",
      "Epoch 12/50\n",
      "3424/3424 - 782s - loss: 0.0415 - accuracy: 0.9866 - val_loss: 0.3952 - val_accuracy: 0.9081 - 782s/epoch - 228ms/step\n",
      "Epoch 13/50\n",
      "3424/3424 - 783s - loss: 0.0373 - accuracy: 0.9876 - val_loss: 0.3816 - val_accuracy: 0.9105 - 783s/epoch - 229ms/step\n",
      "Epoch 14/50\n",
      "3424/3424 - 782s - loss: 0.0288 - accuracy: 0.9905 - val_loss: 0.4655 - val_accuracy: 0.8996 - 782s/epoch - 229ms/step\n",
      "Epoch 15/50\n",
      "3424/3424 - 782s - loss: 0.0280 - accuracy: 0.9911 - val_loss: 0.4771 - val_accuracy: 0.9021 - 782s/epoch - 228ms/step\n",
      "Epoch 16/50\n",
      "3424/3424 - 781s - loss: 0.0238 - accuracy: 0.9924 - val_loss: 0.4794 - val_accuracy: 0.9105 - 781s/epoch - 228ms/step\n",
      "Epoch 17/50\n",
      "3424/3424 - 782s - loss: 0.0264 - accuracy: 0.9916 - val_loss: 0.6104 - val_accuracy: 0.8924 - 782s/epoch - 228ms/step\n",
      "Epoch 18/50\n",
      "3424/3424 - 783s - loss: 0.0224 - accuracy: 0.9926 - val_loss: 0.4285 - val_accuracy: 0.9166 - 783s/epoch - 229ms/step\n",
      "Epoch 19/50\n",
      "3424/3424 - 783s - loss: 0.0211 - accuracy: 0.9933 - val_loss: 0.4513 - val_accuracy: 0.9178 - 783s/epoch - 229ms/step\n",
      "Epoch 20/50\n",
      "3424/3424 - 783s - loss: 0.0194 - accuracy: 0.9939 - val_loss: 0.5510 - val_accuracy: 0.9141 - 783s/epoch - 229ms/step\n",
      "Epoch 21/50\n",
      "3424/3424 - 781s - loss: 0.0149 - accuracy: 0.9953 - val_loss: 0.5537 - val_accuracy: 0.9008 - 781s/epoch - 228ms/step\n",
      "Epoch 22/50\n",
      "3424/3424 - 782s - loss: 0.0144 - accuracy: 0.9953 - val_loss: 0.5479 - val_accuracy: 0.9129 - 782s/epoch - 228ms/step\n",
      "Epoch 23/50\n",
      "3424/3424 - 782s - loss: 0.0134 - accuracy: 0.9959 - val_loss: 0.5467 - val_accuracy: 0.9081 - 782s/epoch - 228ms/step\n",
      "Epoch 24/50\n",
      "3424/3424 - 781s - loss: 0.0136 - accuracy: 0.9958 - val_loss: 0.5360 - val_accuracy: 0.9081 - 781s/epoch - 228ms/step\n",
      "Epoch 25/50\n",
      "3424/3424 - 781s - loss: 0.0116 - accuracy: 0.9963 - val_loss: 0.5810 - val_accuracy: 0.9021 - 781s/epoch - 228ms/step\n",
      "Epoch 26/50\n",
      "3424/3424 - 782s - loss: 0.0124 - accuracy: 0.9961 - val_loss: 0.4956 - val_accuracy: 0.9081 - 782s/epoch - 228ms/step\n",
      "Epoch 27/50\n",
      "3424/3424 - 782s - loss: 0.0122 - accuracy: 0.9964 - val_loss: 0.5021 - val_accuracy: 0.9033 - 782s/epoch - 228ms/step\n",
      "Epoch 28/50\n",
      "3424/3424 - 782s - loss: 0.0126 - accuracy: 0.9961 - val_loss: 0.5230 - val_accuracy: 0.9045 - 782s/epoch - 228ms/step\n",
      "Epoch 29/50\n",
      "3424/3424 - 783s - loss: 0.0091 - accuracy: 0.9973 - val_loss: 0.6095 - val_accuracy: 0.9081 - 783s/epoch - 229ms/step\n",
      "Epoch 30/50\n",
      "3424/3424 - 783s - loss: 0.0114 - accuracy: 0.9967 - val_loss: 0.5581 - val_accuracy: 0.9045 - 783s/epoch - 229ms/step\n",
      "Epoch 31/50\n",
      "3424/3424 - 783s - loss: 0.0103 - accuracy: 0.9970 - val_loss: 0.4735 - val_accuracy: 0.9105 - 783s/epoch - 229ms/step\n",
      "Epoch 32/50\n",
      "3424/3424 - 782s - loss: 0.0084 - accuracy: 0.9974 - val_loss: 0.4630 - val_accuracy: 0.9069 - 782s/epoch - 228ms/step\n",
      "Epoch 33/50\n",
      "3424/3424 - 782s - loss: 0.0104 - accuracy: 0.9972 - val_loss: 0.5735 - val_accuracy: 0.9033 - 782s/epoch - 228ms/step\n",
      "Epoch 34/50\n",
      "3424/3424 - 782s - loss: 0.0095 - accuracy: 0.9969 - val_loss: 0.5901 - val_accuracy: 0.8996 - 782s/epoch - 228ms/step\n"
     ]
    }
   ],
   "source": [
    "history = model_rn50_sa.fit(train_batches,\n",
    "                         epochs=50,\n",
    "                         verbose=2,\n",
    "                         validation_data=val_batches,\n",
    "                         callbacks=[checkpoint,Earlystop],\n",
    "                         class_weight=class_weights)"
   ]
  },
  {
   "cell_type": "markdown",
   "id": "1a868298",
   "metadata": {
    "papermill": {
     "duration": 0.031737,
     "end_time": "2023-05-20T21:02:12.581958",
     "exception": false,
     "start_time": "2023-05-20T21:02:12.550221",
     "status": "completed"
    },
    "tags": []
   },
   "source": [
    "### Plotting accuracy and loss"
   ]
  },
  {
   "cell_type": "code",
   "execution_count": 22,
   "id": "da126648",
   "metadata": {
    "execution": {
     "iopub.execute_input": "2023-05-20T21:02:12.736113Z",
     "iopub.status.busy": "2023-05-20T21:02:12.735756Z",
     "iopub.status.idle": "2023-05-20T21:02:13.271381Z",
     "shell.execute_reply": "2023-05-20T21:02:13.268891Z"
    },
    "papermill": {
     "duration": 0.577073,
     "end_time": "2023-05-20T21:02:13.279867",
     "exception": false,
     "start_time": "2023-05-20T21:02:12.702794",
     "status": "completed"
    },
    "tags": []
   },
   "outputs": [
    {
     "name": "stdout",
     "output_type": "stream",
     "text": [
      "Number of epochs trained: 34\n"
     ]
    },
    {
     "data": {
      "image/png": "[encoded data removed]",
      "text/plain": [
       "<Figure size 1500x500 with 2 Axes>"
      ]
     },
     "metadata": {},
     "output_type": "display_data"
    }
   ],
   "source": [
    "# Determine number of epochs trained\n",
    "num_epochs_trained = len(history.history['val_loss'])\n",
    "print(f\"Number of epochs trained: {num_epochs_trained}\")\n",
    "\n",
    "## History plotting\n",
    "epochs = [i for i in range(num_epochs_trained)]\n",
    "fig , ax = plt.subplots(1,2)\n",
    "train_acc = history.history['accuracy']\n",
    "train_loss = history.history['loss']\n",
    "val_acc = history.history['val_accuracy']\n",
    "val_loss = history.history['val_loss']\n",
    "fig.set_size_inches(15,5)\n",
    "\n",
    "ax[0].plot(epochs , train_acc , 'go-' , label = 'Training Accuracy')\n",
    "ax[0].plot(epochs , val_acc , 'ro-' , label = 'Validation Accuracy')\n",
    "title_font = {'fontname':'Times New Roman', 'size':'14', 'color':'black', 'weight':'normal'}\n",
    "ax[0].set_title('Model Accuracy', fontdict=title_font)\n",
    "legend_font = {'family': 'Times New Roman', 'size': '12', 'weight': 'normal'}\n",
    "ax[0].legend(prop=legend_font)\n",
    "label_font = {'fontname':'Times New Roman', 'size':'12', 'color':'black', 'weight':'normal'}\n",
    "ax[0].set_xlabel(\"Epochs\",  fontdict=label_font)\n",
    "ax[0].set_ylabel(\"Accuracy\",  fontdict=label_font)\n",
    "\n",
    "ax[1].plot(epochs , train_loss , 'g-o' , label = 'Training Loss')\n",
    "ax[1].plot(epochs , val_loss , 'r-o' , label = 'Validation Loss')\n",
    "ax[1].set_title('Model Loss', fontdict=title_font)\n",
    "ax[1].legend(prop=legend_font)\n",
    "ax[1].set_xlabel(\"Epochs\", fontdict=label_font)\n",
    "ax[1].set_ylabel(\"Loss\", fontdict=label_font)\n",
    "plt.show()"
   ]
  },
  {
   "cell_type": "code",
   "execution_count": 23,
   "id": "b4fefe8d",
   "metadata": {
    "execution": {
     "iopub.execute_input": "2023-05-20T21:02:13.391637Z",
     "iopub.status.busy": "2023-05-20T21:02:13.391194Z",
     "iopub.status.idle": "2023-05-20T21:02:13.986154Z",
     "shell.execute_reply": "2023-05-20T21:02:13.985213Z"
    },
    "id": "zm_AewFBXTj8",
    "papermill": {
     "duration": 0.65084,
     "end_time": "2023-05-20T21:02:13.989405",
     "exception": false,
     "start_time": "2023-05-20T21:02:13.338565",
     "status": "completed"
    },
    "tags": []
   },
   "outputs": [],
   "source": [
    "from tensorflow.keras import models\n",
    "model_rn50_sa.load_weights(\"RN50_SA.hdf5\")"
   ]
  },
  {
   "cell_type": "code",
   "execution_count": 24,
   "id": "a183f035",
   "metadata": {
    "execution": {
     "iopub.execute_input": "2023-05-20T21:02:14.081508Z",
     "iopub.status.busy": "2023-05-20T21:02:14.080939Z",
     "iopub.status.idle": "2023-05-20T21:02:31.813264Z",
     "shell.execute_reply": "2023-05-20T21:02:31.812218Z"
    },
    "papermill": {
     "duration": 17.783123,
     "end_time": "2023-05-20T21:02:31.815681",
     "exception": false,
     "start_time": "2023-05-20T21:02:14.032558",
     "status": "completed"
    },
    "tags": []
   },
   "outputs": [
    {
     "name": "stdout",
     "output_type": "stream",
     "text": [
      "52/52 [==============================] - 17s 308ms/step\n"
     ]
    }
   ],
   "source": [
    "predictions = model_rn50_sa.predict(test_batches)"
   ]
  },
  {
   "cell_type": "code",
   "execution_count": 25,
   "id": "032b4073",
   "metadata": {
    "execution": {
     "iopub.execute_input": "2023-05-20T21:02:31.889147Z",
     "iopub.status.busy": "2023-05-20T21:02:31.888187Z",
     "iopub.status.idle": "2023-05-20T21:02:31.893993Z",
     "shell.execute_reply": "2023-05-20T21:02:31.893043Z"
    },
    "id": "FDTMtBeTdBfU",
    "papermill": {
     "duration": 0.044311,
     "end_time": "2023-05-20T21:02:31.896198",
     "exception": false,
     "start_time": "2023-05-20T21:02:31.851887",
     "status": "completed"
    },
    "tags": []
   },
   "outputs": [],
   "source": [
    "#geting predictions on test dataset\n",
    "y_pred = np.argmax(predictions, axis=1)\n",
    "#getting the true labels per image \n",
    "y_true = test_batches.classes\n",
    "#getting the predicted labels per image \n",
    "y_prob = predictions"
   ]
  },
  {
   "cell_type": "code",
   "execution_count": 26,
   "id": "e81e6ae0",
   "metadata": {
    "execution": {
     "iopub.execute_input": "2023-05-20T21:02:31.973584Z",
     "iopub.status.busy": "2023-05-20T21:02:31.971780Z",
     "iopub.status.idle": "2023-05-20T21:02:31.990509Z",
     "shell.execute_reply": "2023-05-20T21:02:31.988979Z"
    },
    "papermill": {
     "duration": 0.058974,
     "end_time": "2023-05-20T21:02:31.992704",
     "exception": false,
     "start_time": "2023-05-20T21:02:31.933730",
     "status": "completed"
    },
    "tags": []
   },
   "outputs": [
    {
     "name": "stdout",
     "output_type": "stream",
     "text": [
      "\n",
      "Classification Report:\n",
      "              precision    recall  f1-score   support\n",
      "\n",
      "          AK       0.50      0.32      0.39        22\n",
      "         BCC       0.62      0.74      0.68        27\n",
      "         BKL       0.68      0.61      0.64        66\n",
      "          DF       1.00      0.83      0.91         6\n",
      "         MEL       0.59      0.49      0.53        35\n",
      "          NV       0.95      0.97      0.96       663\n",
      "        VASC       0.67      0.89      0.76         9\n",
      "\n",
      "    accuracy                           0.90       828\n",
      "   macro avg       0.72      0.69      0.70       828\n",
      "weighted avg       0.89      0.90      0.89       828\n",
      "\n"
     ]
    }
   ],
   "source": [
    "classnames = ['AK', 'BCC', 'BKL', 'DF', 'MEL', 'NV', 'VASC']\n",
    "\n",
    "from tensorflow.keras.utils import to_categorical\n",
    "y_test = to_categorical(y_true)\n",
    "\n",
    "report = classification_report(y_true, y_pred, target_names=classnames)\n",
    "\n",
    "print(\"\\nClassification Report:\")\n",
    "print(report)"
   ]
  },
  {
   "cell_type": "code",
   "execution_count": 27,
   "id": "e59a0734",
   "metadata": {
    "execution": {
     "iopub.execute_input": "2023-05-20T21:02:32.065622Z",
     "iopub.status.busy": "2023-05-20T21:02:32.063959Z",
     "iopub.status.idle": "2023-05-20T21:02:32.682695Z",
     "shell.execute_reply": "2023-05-20T21:02:32.681800Z"
    },
    "papermill": {
     "duration": 0.656915,
     "end_time": "2023-05-20T21:02:32.684881",
     "exception": false,
     "start_time": "2023-05-20T21:02:32.027966",
     "status": "completed"
    },
    "tags": []
   },
   "outputs": [
    {
     "data": {
      "image/png": "[encoded data removed]",
      "text/plain": [
       "<Figure size 1000x400 with 2 Axes>"
      ]
     },
     "metadata": {},
     "output_type": "display_data"
    }
   ],
   "source": [
    "## Confusion Matrix\n",
    "title_font = {'fontname':'Times New Roman', 'size':'14', 'color':'black', 'weight':'normal'}\n",
    "label_font = {'fontname':'Times New Roman', 'size':'12', 'color':'black', 'weight':'normal'}\n",
    "\n",
    "from sklearn.metrics import confusion_matrix\n",
    "import seaborn as sns\n",
    "# Creating confusion matrix \n",
    "cm = confusion_matrix(y_true, y_pred)\n",
    "# Plotting the confusion matrix\n",
    "plt.figure(figsize=(10,4))\n",
    "sns.heatmap(cm, annot=True, fmt='g', cmap='Blues', xticklabels=targetnames, yticklabels=targetnames)\n",
    "plt.xlabel('Predicted Label', fontdict=label_font)\n",
    "plt.ylabel('True Label', fontdict=label_font)\n",
    "plt.title('Confusion Matrix', fontdict=title_font)\n",
    "plt.show()"
   ]
  },
  {
   "cell_type": "markdown",
   "id": "7fc72459",
   "metadata": {
    "papermill": {
     "duration": 0.035207,
     "end_time": "2023-05-20T21:02:32.756069",
     "exception": false,
     "start_time": "2023-05-20T21:02:32.720862",
     "status": "completed"
    },
    "tags": []
   },
   "source": [
    "## Results"
   ]
  },
  {
   "cell_type": "markdown",
   "id": "1a37ed55",
   "metadata": {
    "papermill": {
     "duration": 0.034934,
     "end_time": "2023-05-20T21:02:32.826498",
     "exception": false,
     "start_time": "2023-05-20T21:02:32.791564",
     "status": "completed"
    },
    "tags": []
   },
   "source": [
    "### Individual Class Accuracy "
   ]
  },
  {
   "cell_type": "code",
   "execution_count": 28,
   "id": "4faff630",
   "metadata": {
    "execution": {
     "iopub.execute_input": "2023-05-20T21:02:32.898724Z",
     "iopub.status.busy": "2023-05-20T21:02:32.898117Z",
     "iopub.status.idle": "2023-05-20T21:02:32.906974Z",
     "shell.execute_reply": "2023-05-20T21:02:32.905571Z"
    },
    "papermill": {
     "duration": 0.047783,
     "end_time": "2023-05-20T21:02:32.909209",
     "exception": false,
     "start_time": "2023-05-20T21:02:32.861426",
     "status": "completed"
    },
    "tags": []
   },
   "outputs": [
    {
     "name": "stdout",
     "output_type": "stream",
     "text": [
      "Overall accuracy: 89.61%\n",
      "Accuracy for each class:\n",
      "Class 0: 31.82%\n",
      "Class 1: 74.07%\n",
      "Class 2: 60.61%\n",
      "Class 3: 83.33%\n",
      "Class 4: 48.57%\n",
      "Class 5: 97.29%\n",
      "Class 6: 88.89%\n"
     ]
    }
   ],
   "source": [
    "# y_true are the true labels of the test set\n",
    "# y_pred are the predicted labels of the test set\n",
    "accuracy = accuracy_score(y_true, y_pred)\n",
    "# Calculate accuracy for each class\n",
    "class_accuracy = cm.diagonal()/cm.sum(axis=1)\n",
    "print(\"Overall accuracy: {:.2f}%\".format(accuracy*100))\n",
    "print(\"Accuracy for each class:\")\n",
    "for i, acc in enumerate(class_accuracy):\n",
    "    print(\"Class {}: {:.2f}%\".format(i, acc*100))"
   ]
  },
  {
   "cell_type": "markdown",
   "id": "8b2daf94",
   "metadata": {
    "papermill": {
     "duration": 0.036101,
     "end_time": "2023-05-20T21:02:32.984868",
     "exception": false,
     "start_time": "2023-05-20T21:02:32.948767",
     "status": "completed"
    },
    "tags": []
   },
   "source": [
    "### Individual Class Weighted Precision"
   ]
  },
  {
   "cell_type": "code",
   "execution_count": 29,
   "id": "390e161c",
   "metadata": {
    "execution": {
     "iopub.execute_input": "2023-05-20T21:02:33.057016Z",
     "iopub.status.busy": "2023-05-20T21:02:33.056638Z",
     "iopub.status.idle": "2023-05-20T21:02:33.073855Z",
     "shell.execute_reply": "2023-05-20T21:02:33.072771Z"
    },
    "papermill": {
     "duration": 0.055886,
     "end_time": "2023-05-20T21:02:33.076136",
     "exception": false,
     "start_time": "2023-05-20T21:02:33.020250",
     "status": "completed"
    },
    "tags": []
   },
   "outputs": [
    {
     "name": "stdout",
     "output_type": "stream",
     "text": [
      "Weighted precision for each class:\n",
      "Class 0: 50.00%\n",
      "Class 1: 62.50%\n",
      "Class 2: 67.80%\n",
      "Class 3: 100.00%\n",
      "Class 4: 58.62%\n",
      "Class 5: 95.27%\n",
      "Class 6: 66.67%\n",
      "Weighted precision: 88.99%\n"
     ]
    }
   ],
   "source": [
    "report = classification_report(y_true, y_pred, output_dict=True)\n",
    "# Extract weighted precision for each class\n",
    "class_precision = {}\n",
    "for class_label in report.keys():\n",
    "    if class_label == 'weighted avg':\n",
    "        class_precision['weighted'] = report[class_label]['precision']\n",
    "    elif class_label.isdigit():\n",
    "        class_precision[int(class_label)] = report[class_label]['precision']\n",
    "print(\"Weighted precision for each class:\")\n",
    "for i, precision in class_precision.items():\n",
    "    if i == 'weighted':\n",
    "        print(\"Weighted precision: {:.2f}%\".format(precision*100))\n",
    "    else:\n",
    "        print(\"Class {}: {:.2f}%\".format(i, precision*100))"
   ]
  },
  {
   "cell_type": "markdown",
   "id": "8dc51086",
   "metadata": {
    "papermill": {
     "duration": 0.035021,
     "end_time": "2023-05-20T21:02:33.149135",
     "exception": false,
     "start_time": "2023-05-20T21:02:33.114114",
     "status": "completed"
    },
    "tags": []
   },
   "source": [
    "### Individual Class Weighted Recall"
   ]
  },
  {
   "cell_type": "code",
   "execution_count": 30,
   "id": "0995acb2",
   "metadata": {
    "execution": {
     "iopub.execute_input": "2023-05-20T21:02:33.221504Z",
     "iopub.status.busy": "2023-05-20T21:02:33.220512Z",
     "iopub.status.idle": "2023-05-20T21:02:33.236368Z",
     "shell.execute_reply": "2023-05-20T21:02:33.235212Z"
    },
    "papermill": {
     "duration": 0.054218,
     "end_time": "2023-05-20T21:02:33.238370",
     "exception": false,
     "start_time": "2023-05-20T21:02:33.184152",
     "status": "completed"
    },
    "tags": []
   },
   "outputs": [
    {
     "name": "stdout",
     "output_type": "stream",
     "text": [
      "Weighted recall for each class:\n",
      "Class 0: 31.82%\n",
      "Class 1: 74.07%\n",
      "Class 2: 60.61%\n",
      "Class 3: 83.33%\n",
      "Class 4: 48.57%\n",
      "Class 5: 97.29%\n",
      "Class 6: 88.89%\n",
      "Weighted Recall: 89.61%\n"
     ]
    }
   ],
   "source": [
    "report = classification_report(y_true, y_pred, output_dict=True)\n",
    "# Extract weighted recall for each class\n",
    "class_recall = {}\n",
    "for class_label in report.keys():\n",
    "    if class_label == 'weighted avg':\n",
    "        class_recall['weighted'] = report[class_label]['recall']\n",
    "    elif class_label.isdigit():\n",
    "        class_recall[int(class_label)] = report[class_label]['recall']\n",
    "print(\"Weighted recall for each class:\")\n",
    "for i, recall in class_recall.items():\n",
    "    if i == 'weighted':\n",
    "        print(\"Weighted Recall: {:.2f}%\".format(recall*100))\n",
    "    else:\n",
    "        print(\"Class {}: {:.2f}%\".format(i, recall*100))"
   ]
  },
  {
   "cell_type": "markdown",
   "id": "5310cd9b",
   "metadata": {
    "papermill": {
     "duration": 0.035508,
     "end_time": "2023-05-20T21:02:33.310306",
     "exception": false,
     "start_time": "2023-05-20T21:02:33.274798",
     "status": "completed"
    },
    "tags": []
   },
   "source": [
    "### Individual Class Weighted F1-score"
   ]
  },
  {
   "cell_type": "code",
   "execution_count": 31,
   "id": "a70d7ef3",
   "metadata": {
    "execution": {
     "iopub.execute_input": "2023-05-20T21:02:33.384851Z",
     "iopub.status.busy": "2023-05-20T21:02:33.384489Z",
     "iopub.status.idle": "2023-05-20T21:02:33.401326Z",
     "shell.execute_reply": "2023-05-20T21:02:33.400405Z"
    },
    "papermill": {
     "duration": 0.056129,
     "end_time": "2023-05-20T21:02:33.403652",
     "exception": false,
     "start_time": "2023-05-20T21:02:33.347523",
     "status": "completed"
    },
    "tags": []
   },
   "outputs": [
    {
     "name": "stdout",
     "output_type": "stream",
     "text": [
      "Weighted F1-score for each class:\n",
      "Class 0: 38.89%\n",
      "Class 1: 67.80%\n",
      "Class 2: 64.00%\n",
      "Class 3: 90.91%\n",
      "Class 4: 53.12%\n",
      "Class 5: 96.27%\n",
      "Class 6: 76.19%\n",
      "Weighted F1-score: 89.16%\n"
     ]
    }
   ],
   "source": [
    "report = classification_report(y_true, y_pred, output_dict=True)\n",
    "# Extract weighted F1-score for each class\n",
    "class_f1 = {}\n",
    "for class_label in report.keys():\n",
    "    if class_label == 'weighted avg':\n",
    "        class_f1['weighted'] = report[class_label]['f1-score']\n",
    "    elif class_label.isdigit():\n",
    "        class_f1[int(class_label)] = report[class_label]['f1-score']\n",
    "print(\"Weighted F1-score for each class:\")\n",
    "for i, f1_score in class_f1.items():\n",
    "    if i == 'weighted':\n",
    "        print(\"Weighted F1-score: {:.2f}%\".format(f1_score*100))\n",
    "    else:\n",
    "        print(\"Class {}: {:.2f}%\".format(i, f1_score*100))"
   ]
  },
  {
   "cell_type": "markdown",
   "id": "84267c85",
   "metadata": {
    "papermill": {
     "duration": 0.036471,
     "end_time": "2023-05-20T21:02:33.478912",
     "exception": false,
     "start_time": "2023-05-20T21:02:33.442441",
     "status": "completed"
    },
    "tags": []
   },
   "source": [
    "### Individual Class Precision, Recall and F1-score"
   ]
  },
  {
   "cell_type": "code",
   "execution_count": 32,
   "id": "5aa4256b",
   "metadata": {
    "execution": {
     "iopub.execute_input": "2023-05-20T21:02:33.552311Z",
     "iopub.status.busy": "2023-05-20T21:02:33.551956Z",
     "iopub.status.idle": "2023-05-20T21:02:33.561819Z",
     "shell.execute_reply": "2023-05-20T21:02:33.560520Z"
    },
    "papermill": {
     "duration": 0.048415,
     "end_time": "2023-05-20T21:02:33.563997",
     "exception": false,
     "start_time": "2023-05-20T21:02:33.515582",
     "status": "completed"
    },
    "tags": []
   },
   "outputs": [
    {
     "name": "stdout",
     "output_type": "stream",
     "text": [
      "Class-wise weighted precision, recall, and F1-score:\n",
      "Class 0: Precision=0.50, Recall=0.32, F1-score=0.39\n",
      "Class 1: Precision=0.62, Recall=0.74, F1-score=0.68\n",
      "Class 2: Precision=0.68, Recall=0.61, F1-score=0.64\n",
      "Class 3: Precision=1.00, Recall=0.83, F1-score=0.91\n",
      "Class 4: Precision=0.59, Recall=0.49, F1-score=0.53\n",
      "Class 5: Precision=0.95, Recall=0.97, F1-score=0.96\n",
      "Class 6: Precision=0.67, Recall=0.89, F1-score=0.76\n"
     ]
    }
   ],
   "source": [
    "from sklearn.metrics import precision_recall_fscore_support\n",
    "\n",
    "precision_class, recall_class, f1_class, support_class = precision_recall_fscore_support(y_true, y_pred, average=None)\n",
    "print('Class-wise weighted precision, recall, and F1-score:')\n",
    "for i in range(len(precision_class)):\n",
    "    print('Class {}: Precision={:.2f}, Recall={:.2f}, F1-score={:.2f}'.format(i, precision_class[i], recall_class[i], f1_class[i]))\n"
   ]
  },
  {
   "cell_type": "markdown",
   "id": "56be0110",
   "metadata": {
    "papermill": {
     "duration": 0.035505,
     "end_time": "2023-05-20T21:02:33.638404",
     "exception": false,
     "start_time": "2023-05-20T21:02:33.602899",
     "status": "completed"
    },
    "tags": []
   },
   "source": [
    "### Individual Class Weighted Sensitivity"
   ]
  },
  {
   "cell_type": "code",
   "execution_count": 33,
   "id": "537c6c54",
   "metadata": {
    "execution": {
     "iopub.execute_input": "2023-05-20T21:02:33.711279Z",
     "iopub.status.busy": "2023-05-20T21:02:33.710371Z",
     "iopub.status.idle": "2023-05-20T21:02:34.261274Z",
     "shell.execute_reply": "2023-05-20T21:02:34.259730Z"
    },
    "papermill": {
     "duration": 0.58967,
     "end_time": "2023-05-20T21:02:34.263669",
     "exception": false,
     "start_time": "2023-05-20T21:02:33.673999",
     "status": "completed"
    },
    "tags": []
   },
   "outputs": [
    {
     "name": "stdout",
     "output_type": "stream",
     "text": [
      "Weighted Sensitivity:  0.8961352657004831\n",
      "Class  0 :sensitivity = 0.3181818181818182\n",
      "Class  1 :sensitivity = 0.7407407407407407\n",
      "Class  2 :sensitivity = 0.6060606060606061\n",
      "Class  3 :sensitivity = 0.8333333333333334\n",
      "Class  4 :sensitivity = 0.4857142857142857\n",
      "Class  5 :sensitivity = 0.9728506787330317\n",
      "Class  6 :sensitivity = 0.8888888888888888\n"
     ]
    }
   ],
   "source": [
    "from imblearn.metrics import sensitivity_score\n",
    "\n",
    "sensitivity = sensitivity_score(y_true, y_pred, average='weighted')\n",
    "print(\"Weighted Sensitivity: \", sensitivity)\n",
    "\n",
    "# Calculate class-wise sensitivity\n",
    "sensitivity = sensitivity_score(y_true, y_pred, average=None)\n",
    "\n",
    "# Print sensitivity score for each class\n",
    "for i in range(len(sensitivity)):\n",
    "    print(\"Class \", i, \":sensitivity =\", sensitivity[i])"
   ]
  },
  {
   "cell_type": "markdown",
   "id": "6a4aa450",
   "metadata": {
    "papermill": {
     "duration": 0.035835,
     "end_time": "2023-05-20T21:02:34.338139",
     "exception": false,
     "start_time": "2023-05-20T21:02:34.302304",
     "status": "completed"
    },
    "tags": []
   },
   "source": [
    "### Individual Class Weighted Specificity"
   ]
  },
  {
   "cell_type": "code",
   "execution_count": 34,
   "id": "5a8feba8",
   "metadata": {
    "execution": {
     "iopub.execute_input": "2023-05-20T21:02:34.411943Z",
     "iopub.status.busy": "2023-05-20T21:02:34.410943Z",
     "iopub.status.idle": "2023-05-20T21:02:34.422546Z",
     "shell.execute_reply": "2023-05-20T21:02:34.421161Z"
    },
    "papermill": {
     "duration": 0.050768,
     "end_time": "2023-05-20T21:02:34.424849",
     "exception": false,
     "start_time": "2023-05-20T21:02:34.374081",
     "status": "completed"
    },
    "tags": []
   },
   "outputs": [
    {
     "name": "stdout",
     "output_type": "stream",
     "text": [
      "Weighted Specificity:  0.8413084067671738\n",
      "Class  0 :specificity= 0.9913151364764268\n",
      "Class  1 :specificity= 0.9850187265917603\n",
      "Class  2 :specificity= 0.9750656167979003\n",
      "Class  3 :specificity= 1.0\n",
      "Class  4 :specificity= 0.9848675914249685\n",
      "Class  5 :specificity= 0.806060606060606\n",
      "Class  6 :specificity= 0.9951159951159951\n"
     ]
    }
   ],
   "source": [
    "from imblearn.metrics import specificity_score\n",
    "\n",
    "specificity = specificity_score(y_true, y_pred, average='weighted')\n",
    "print(\"Weighted Specificity: \", specificity)\n",
    "\n",
    "# Calculate class-wise specificity\n",
    "specificity = specificity_score(y_true, y_pred, average=None)\n",
    "\n",
    "# Print sensitivity score for each class\n",
    "for i in range(len(specificity)):\n",
    "    print(\"Class \", i, \":specificity=\", specificity[i])"
   ]
  },
  {
   "cell_type": "markdown",
   "id": "6b6f63f7",
   "metadata": {
    "papermill": {
     "duration": 0.036102,
     "end_time": "2023-05-20T21:02:34.497968",
     "exception": false,
     "start_time": "2023-05-20T21:02:34.461866",
     "status": "completed"
    },
    "tags": []
   },
   "source": [
    "### Accuracy"
   ]
  },
  {
   "cell_type": "code",
   "execution_count": 35,
   "id": "94f191c2",
   "metadata": {
    "execution": {
     "iopub.execute_input": "2023-05-20T21:02:34.571748Z",
     "iopub.status.busy": "2023-05-20T21:02:34.571051Z",
     "iopub.status.idle": "2023-05-20T21:02:34.578826Z",
     "shell.execute_reply": "2023-05-20T21:02:34.577416Z"
    },
    "papermill": {
     "duration": 0.047425,
     "end_time": "2023-05-20T21:02:34.581027",
     "exception": false,
     "start_time": "2023-05-20T21:02:34.533602",
     "status": "completed"
    },
    "tags": []
   },
   "outputs": [
    {
     "name": "stdout",
     "output_type": "stream",
     "text": [
      "Accuracy: 0.8961352657004831\n"
     ]
    }
   ],
   "source": [
    "print(\"Accuracy: \" + str(accuracy_score(y_true, y_pred)))\n",
    "import numpy as np\n",
    "from sklearn.metrics import accuracy_score"
   ]
  },
  {
   "cell_type": "code",
   "execution_count": 36,
   "id": "362acf69",
   "metadata": {
    "execution": {
     "iopub.execute_input": "2023-05-20T21:02:34.660014Z",
     "iopub.status.busy": "2023-05-20T21:02:34.658767Z",
     "iopub.status.idle": "2023-05-20T21:02:34.682536Z",
     "shell.execute_reply": "2023-05-20T21:02:34.681122Z"
    },
    "papermill": {
     "duration": 0.063859,
     "end_time": "2023-05-20T21:02:34.684913",
     "exception": false,
     "start_time": "2023-05-20T21:02:34.621054",
     "status": "completed"
    },
    "tags": []
   },
   "outputs": [
    {
     "name": "stdout",
     "output_type": "stream",
     "text": [
      "Top-1 Accuracy: 0.8961352657004831\n",
      "Top-2 Accuracy: 0.9577294685990339\n",
      "Top-3 Accuracy: 0.9855072463768116\n"
     ]
    }
   ],
   "source": [
    "# Calculate top-1 accuracy\n",
    "top1_acc = accuracy_score(y_true, y_pred)\n",
    "print(\"Top-1 Accuracy:\", top1_acc)\n",
    "\n",
    "# Calculate top-2 accuracy\n",
    "y_pred_top2 = np.argsort(-predictions, axis=1)[:, :2] # Get the top 2 predicted classes\n",
    "top2_acc = np.mean(np.array([y_true[i] in y_pred_top2[i] for i in range(len(y_true))]))\n",
    "print(\"Top-2 Accuracy:\", top2_acc)\n",
    "\n",
    "# Calculate top-3 accuracy\n",
    "y_pred_top3 = np.argsort(-predictions, axis=1)[:, :3] # Get the top 3 predicted classes\n",
    "top3_acc = np.mean(np.array([y_true[i] in y_pred_top3[i] for i in range(len(y_true))]))\n",
    "print(\"Top-3 Accuracy:\", top3_acc)\n",
    "from sklearn.metrics import f1_score"
   ]
  },
  {
   "cell_type": "markdown",
   "id": "8a8e8d2a",
   "metadata": {
    "papermill": {
     "duration": 0.037786,
     "end_time": "2023-05-20T21:02:34.764493",
     "exception": false,
     "start_time": "2023-05-20T21:02:34.726707",
     "status": "completed"
    },
    "tags": []
   },
   "source": [
    "### Weighted Evaluation Measures"
   ]
  },
  {
   "cell_type": "code",
   "execution_count": 37,
   "id": "6bc94efa",
   "metadata": {
    "execution": {
     "iopub.execute_input": "2023-05-20T21:02:34.838788Z",
     "iopub.status.busy": "2023-05-20T21:02:34.838375Z",
     "iopub.status.idle": "2023-05-20T21:02:34.870657Z",
     "shell.execute_reply": "2023-05-20T21:02:34.869390Z"
    },
    "papermill": {
     "duration": 0.071265,
     "end_time": "2023-05-20T21:02:34.872754",
     "exception": false,
     "start_time": "2023-05-20T21:02:34.801489",
     "status": "completed"
    },
    "tags": []
   },
   "outputs": [
    {
     "name": "stdout",
     "output_type": "stream",
     "text": [
      "Weighted Precision: 0.8898547669987036\n",
      "Weighted Recall: 0.8961352657004831\n",
      "Weighted F1-Score: 0.8916271408730162\n",
      "Weighted Sensitivity: 0.8961352657004831\n",
      "Weighted Specificity: 0.8413084067671738\n",
      "weighted Roc score: 0.9614130609190985\n"
     ]
    }
   ],
   "source": [
    "print(\"Weighted Precision: \"+ str(precision_score(y_true, y_pred, average='weighted')))\n",
    "print(\"Weighted Recall: \"+ str(recall_score(y_true, y_pred, average='weighted')))\n",
    "print(\"Weighted F1-Score: \"+ str(f1_score(y_true, y_pred, average='weighted')))\n",
    "print(\"Weighted Sensitivity: \"+ str(sensitivity_score(y_true, y_pred, average='weighted')))\n",
    "print(\"Weighted Specificity: \"+ str(specificity_score(y_true, y_pred, average='weighted')))\n",
    "print(\"weighted Roc score: \" + str(roc_auc_score(y_true,y_prob,multi_class='ovr',average='weighted')))"
   ]
  },
  {
   "cell_type": "markdown",
   "id": "f350df26",
   "metadata": {
    "papermill": {
     "duration": 0.035314,
     "end_time": "2023-05-20T21:02:34.945897",
     "exception": false,
     "start_time": "2023-05-20T21:02:34.910583",
     "status": "completed"
    },
    "tags": []
   },
   "source": [
    "### Macro Evaluation Measures"
   ]
  },
  {
   "cell_type": "code",
   "execution_count": 38,
   "id": "df933b1d",
   "metadata": {
    "execution": {
     "iopub.execute_input": "2023-05-20T21:02:35.021299Z",
     "iopub.status.busy": "2023-05-20T21:02:35.020254Z",
     "iopub.status.idle": "2023-05-20T21:02:35.043444Z",
     "shell.execute_reply": "2023-05-20T21:02:35.042127Z"
    },
    "papermill": {
     "duration": 0.062313,
     "end_time": "2023-05-20T21:02:35.045490",
     "exception": false,
     "start_time": "2023-05-20T21:02:34.983177",
     "status": "completed"
    },
    "tags": []
   },
   "outputs": [
    {
     "name": "stdout",
     "output_type": "stream",
     "text": [
      "Macro Precision: 0.7155103298472902\n",
      "Macro Recall: 0.6922529073789578\n",
      "Macro F1-Score: 0.6959696041062363\n",
      "Macro Sensitivity: 0.6922529073789578\n",
      "Macro Specificity: 0.9624919532096652\n",
      "Macro Roc score: 0.9653221460669495\n"
     ]
    }
   ],
   "source": [
    "print(\"Macro Precision: \"+ str(precision_score(y_true, y_pred, average='macro')))\n",
    "print(\"Macro Recall: \"+ str(recall_score(y_true, y_pred, average='macro')))\n",
    "print(\"Macro F1-Score: \"+ str(f1_score(y_true, y_pred, average='macro')))\n",
    "print(\"Macro Sensitivity: \"+ str(sensitivity_score(y_true, y_pred, average='macro')))\n",
    "print(\"Macro Specificity: \"+ str(specificity_score(y_true, y_pred, average='macro')))\n",
    "print(\"Macro Roc score: \" + str(roc_auc_score(y_true,y_prob,multi_class='ovr',average='macro')))"
   ]
  },
  {
   "cell_type": "markdown",
   "id": "ee009ac0",
   "metadata": {
    "papermill": {
     "duration": 0.035493,
     "end_time": "2023-05-20T21:02:35.117448",
     "exception": false,
     "start_time": "2023-05-20T21:02:35.081955",
     "status": "completed"
    },
    "tags": []
   },
   "source": [
    "### Micro Evaluation Measures"
   ]
  },
  {
   "cell_type": "code",
   "execution_count": 39,
   "id": "2c118ab0",
   "metadata": {
    "execution": {
     "iopub.execute_input": "2023-05-20T21:02:35.190686Z",
     "iopub.status.busy": "2023-05-20T21:02:35.190286Z",
     "iopub.status.idle": "2023-05-20T21:02:35.207190Z",
     "shell.execute_reply": "2023-05-20T21:02:35.205894Z"
    },
    "papermill": {
     "duration": 0.055998,
     "end_time": "2023-05-20T21:02:35.209474",
     "exception": false,
     "start_time": "2023-05-20T21:02:35.153476",
     "status": "completed"
    },
    "tags": []
   },
   "outputs": [
    {
     "name": "stdout",
     "output_type": "stream",
     "text": [
      "Micro Precision: 0.8961352657004831\n",
      "Micro Recall: 0.8961352657004831\n",
      "Micro F1-Score: 0.8961352657004831\n",
      "Micro Sensitivity: 0.8961352657004831\n",
      "Micro Specificity: 0.9826892109500805\n"
     ]
    }
   ],
   "source": [
    "print(\"Micro Precision: \"+ str(precision_score(y_true, y_pred, average='micro')))\n",
    "print(\"Micro Recall: \"+ str(recall_score(y_true, y_pred, average='micro')))\n",
    "print(\"Micro F1-Score: \"+ str(f1_score(y_true, y_pred, average='micro')))\n",
    "print(\"Micro Sensitivity: \"+ str(sensitivity_score(y_true, y_pred, average='micro')))\n",
    "print(\"Micro Specificity: \"+ str(specificity_score(y_true, y_pred, average='micro')))"
   ]
  },
  {
   "cell_type": "markdown",
   "id": "a98479e1",
   "metadata": {
    "papermill": {
     "duration": 0.035494,
     "end_time": "2023-05-20T21:02:35.281250",
     "exception": false,
     "start_time": "2023-05-20T21:02:35.245756",
     "status": "completed"
    },
    "tags": []
   },
   "source": [
    "## ROC"
   ]
  },
  {
   "cell_type": "markdown",
   "id": "23437c3d",
   "metadata": {
    "papermill": {
     "duration": 0.035778,
     "end_time": "2023-05-20T21:02:35.353219",
     "exception": false,
     "start_time": "2023-05-20T21:02:35.317441",
     "status": "completed"
    },
    "tags": []
   },
   "source": [
    "### Compute ROC curve and ROC area for each class"
   ]
  },
  {
   "cell_type": "code",
   "execution_count": 40,
   "id": "b6e71fcd",
   "metadata": {
    "execution": {
     "iopub.execute_input": "2023-05-20T21:02:35.428313Z",
     "iopub.status.busy": "2023-05-20T21:02:35.427336Z",
     "iopub.status.idle": "2023-05-20T21:02:35.721281Z",
     "shell.execute_reply": "2023-05-20T21:02:35.720401Z"
    },
    "papermill": {
     "duration": 0.334133,
     "end_time": "2023-05-20T21:02:35.723402",
     "exception": false,
     "start_time": "2023-05-20T21:02:35.389269",
     "status": "completed"
    },
    "tags": []
   },
   "outputs": [
    {
     "data": {
      "image/png": "[encoded data removed]",
      "text/plain": [
       "<Figure size 640x480 with 1 Axes>"
      ]
     },
     "metadata": {},
     "output_type": "display_data"
    }
   ],
   "source": [
    "fpr = {}\n",
    "tpr = {}\n",
    "roc_auc = dict()\n",
    "for i in range(num_classes):\n",
    "    fpr[i], tpr[i], _ = roc_curve(y_test[:, i], y_prob[:, i], drop_intermediate=False)\n",
    "    roc_auc[i] = auc(fpr[i], tpr[i])\n",
    "\n",
    "\n",
    "# plot the ROC curve for each class\n",
    "for i in range(7):\n",
    "    plt.plot(fpr[i], tpr[i], label='Class {}: AUC={:.3f}'.format(i, roc_auc[i]))\n",
    "\n",
    "plt.xlabel('False Positive Rate')\n",
    "plt.ylabel('True Positive Rate')\n",
    "plt.legend()\n",
    "plt.show()"
   ]
  },
  {
   "cell_type": "markdown",
   "id": "877bbd95",
   "metadata": {
    "papermill": {
     "duration": 0.035983,
     "end_time": "2023-05-20T21:02:35.796407",
     "exception": false,
     "start_time": "2023-05-20T21:02:35.760424",
     "status": "completed"
    },
    "tags": []
   },
   "source": [
    "## MCC and Kappa Score"
   ]
  },
  {
   "cell_type": "code",
   "execution_count": 41,
   "id": "42155ab8",
   "metadata": {
    "execution": {
     "iopub.execute_input": "2023-05-20T21:02:35.871598Z",
     "iopub.status.busy": "2023-05-20T21:02:35.870686Z",
     "iopub.status.idle": "2023-05-20T21:02:35.880933Z",
     "shell.execute_reply": "2023-05-20T21:02:35.879316Z"
    },
    "papermill": {
     "duration": 0.05023,
     "end_time": "2023-05-20T21:02:35.883266",
     "exception": false,
     "start_time": "2023-05-20T21:02:35.833036",
     "status": "completed"
    },
    "tags": []
   },
   "outputs": [
    {
     "name": "stdout",
     "output_type": "stream",
     "text": [
      "MCC: 69.22%\n",
      "Kappa Score: 69.11%\n"
     ]
    }
   ],
   "source": [
    "from sklearn.metrics import matthews_corrcoef, cohen_kappa_score\n",
    "\n",
    "# y_true are the true labels of the test set\n",
    "# y_pred are the predicted labels of the test set\n",
    "mcc = matthews_corrcoef(y_true, y_pred)\n",
    "kappa = cohen_kappa_score(y_true, y_pred)\n",
    "print(\"MCC: {:.2f}%\".format(mcc*100))\n",
    "print(\"Kappa Score: {:.2f}%\".format(kappa*100))"
   ]
  },
  {
   "cell_type": "code",
   "execution_count": 42,
   "id": "dd4efd36",
   "metadata": {
    "execution": {
     "iopub.execute_input": "2023-05-20T21:02:35.961125Z",
     "iopub.status.busy": "2023-05-20T21:02:35.960088Z",
     "iopub.status.idle": "2023-05-20T21:02:36.030320Z",
     "shell.execute_reply": "2023-05-20T21:02:36.029116Z"
    },
    "papermill": {
     "duration": 0.110657,
     "end_time": "2023-05-20T21:02:36.033025",
     "exception": false,
     "start_time": "2023-05-20T21:02:35.922368",
     "status": "completed"
    },
    "tags": []
   },
   "outputs": [
    {
     "name": "stdout",
     "output_type": "stream",
     "text": [
      "MCC per class:\n",
      "Class 0: 38.61%\n",
      "Class 1: 66.87%\n",
      "Class 2: 61.18%\n",
      "Class 3: 91.23%\n",
      "Class 4: 51.50%\n",
      "Class 5: 80.58%\n",
      "Class 6: 76.70%\n",
      "Kappa Score per class:\n",
      "Class 0: 37.60%\n",
      "Class 1: 66.62%\n",
      "Class 2: 61.07%\n",
      "Class 3: 90.85%\n",
      "Class 4: 51.26%\n",
      "Class 5: 80.45%\n",
      "Class 6: 75.89%\n"
     ]
    }
   ],
   "source": [
    "### Individual Class Wise MCC and Kappa\n",
    "\n",
    "from sklearn.metrics import confusion_matrix, matthews_corrcoef, cohen_kappa_score\n",
    "# y_true are the true labels of the test set\n",
    "# y_pred are the predicted labels of the test set\n",
    "conf_mat = confusion_matrix(y_true, y_pred)\n",
    "mcc_per_class = {}\n",
    "kappa_per_class = {}\n",
    "\n",
    "for i in range(len(conf_mat)):\n",
    "    tp = conf_mat[i][i]\n",
    "    fp = sum(conf_mat[:, i]) - tp\n",
    "    fn = sum(conf_mat[i, :]) - tp\n",
    "    tn = sum(sum(conf_mat)) - tp - fp - fn\n",
    "\n",
    "    mcc_per_class[i] = matthews_corrcoef([1 if x==i else 0 for x in y_true], [1 if x==i else 0 for x in y_pred])\n",
    "    kappa_per_class[i] = cohen_kappa_score([1 if x==i else 0 for x in y_true], [1 if x==i else 0 for x in y_pred])\n",
    "\n",
    "print(\"MCC per class:\")\n",
    "for i, mcc in mcc_per_class.items():\n",
    "    print(\"Class {}: {:.2f}%\".format(i, mcc*100))\n",
    "\n",
    "print(\"Kappa Score per class:\")\n",
    "for i, kappa in kappa_per_class.items():\n",
    "    print(\"Class {}: {:.2f}%\".format(i, kappa*100))"
   ]
  },
  {
   "cell_type": "code",
   "execution_count": null,
   "id": "1266a29b",
   "metadata": {
    "papermill": {
     "duration": 0.039809,
     "end_time": "2023-05-20T21:02:36.116763",
     "exception": false,
     "start_time": "2023-05-20T21:02:36.076954",
     "status": "completed"
    },
    "tags": []
   },
   "outputs": [],
   "source": []
  }
 ],
 "metadata": {
  "kernelspec": {
   "display_name": "Python 3",
   "language": "python",
   "name": "python3"
  },
  "language_info": {
   "codemirror_mode": {
    "name": "ipython",
    "version": 3
   },
   "file_extension": ".py",
   "mimetype": "text/x-python",
   "name": "python",
   "nbconvert_exporter": "python",
   "pygments_lexer": "ipython3",
   "version": "3.10.10"
  },
  "papermill": {
   "default_parameters": {},
   "duration": 27169.295944,
   "end_time": "2023-05-20T21:02:39.570997",
   "environment_variables": {},
   "exception": null,
   "input_path": "__notebook__.ipynb",
   "output_path": "__notebook__.ipynb",
   "parameters": {},
   "start_time": "2023-05-20T13:29:50.275053",
   "version": "2.4.0"
  }
 },
 "nbformat": 4,
 "nbformat_minor": 5
}
