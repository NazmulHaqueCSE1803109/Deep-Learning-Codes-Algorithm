{
  "cells": [
    {
      "cell_type": "markdown",
      "metadata": {
        "id": "lOxQCN7cIvjd"
      },
      "source": [
        "# Importing Libraries"
      ]
    },
    {
      "cell_type": "code",
      "execution_count": null,
      "metadata": {
        "id": "jv2AXEoZBV_4"
      },
      "outputs": [],
      "source": [
        "import pandas as pd\n",
        "import numpy as np\n",
        "import os\n",
        "import cv2\n",
        "\n",
        "import tensorflow as tf\n",
        "from tensorflow.keras.preprocessing.image import ImageDataGenerator\n",
        "\n",
        "from tensorflow.keras.layers import Input, Conv2D, BatchNormalization, MaxPooling2D, Flatten, Dense\n",
        "from tensorflow.keras.layers import GlobalAveragePooling2D, GlobalMaxPooling2D, Dropout\n",
        "from tensorflow.keras.layers import concatenate, Activation\n",
        "\n",
        "from tensorflow.keras import Model\n",
        "\n",
        "from sklearn.metrics import classification_report, confusion_matrix\n",
        "from sklearn.metrics import accuracy_score, precision_score, recall_score\n",
        "from sklearn.metrics import roc_auc_score\n",
        "\n",
        "\n",
        "from imblearn.metrics import specificity_score\n",
        "\n",
        "\n",
        "from  matplotlib import pyplot as plt\n",
        "from PIL import ImageFile\n",
        "ImageFile.LOAD_TRUNCATED_IMAGES = True"
      ]
    },
    {
      "cell_type": "markdown",
      "metadata": {
        "id": "32NlSrCoI1Gz"
      },
      "source": [
        "# Input data"
      ]
    },
    {
      "cell_type": "code",
      "execution_count": null,
      "metadata": {
        "id": "8icg8hP4BV_-"
      },
      "outputs": [],
      "source": [
        "targetnames = ['akiec', 'bcc', 'bkl', 'df', 'mel', 'nv', 'vasc']\n",
        "batch_size = 16\n",
        "image_size = 224"
      ]
    },
    {
      "cell_type": "code",
      "execution_count": null,
      "metadata": {
        "id": "zQBcR1Q6BWAB"
      },
      "outputs": [],
      "source": [
        "train_path = '/content/Splitted_And_Augmented_HAM_15/HAM10K/train_dir'\n",
        "test_path = '/content/Splitted_And_Augmented_HAM_15/HAM10K/test_dir'\n",
        "val_path = '//content/Splitted_And_Augmented_HAM_15/HAM10K/val_dir'"
      ]
    },
    {
      "cell_type": "markdown",
      "metadata": {
        "id": "IoM172ZcJJfi"
      },
      "source": [
        "# Layer 1 (DN)"
      ]
    },
    {
      "cell_type": "markdown",
      "metadata": {
        "id": "LwLLUxEaBWAH"
      },
      "source": [
        "## DN121"
      ]
    },
    {
      "cell_type": "markdown",
      "metadata": {
        "id": "MzoyCzDICehA"
      },
      "source": [
        "### Data Generation"
      ]
    },
    {
      "cell_type": "code",
      "execution_count": null,
      "metadata": {
        "id": "670UGYq5BWAF"
      },
      "outputs": [],
      "source": [
        "datagen = ImageDataGenerator(preprocessing_function=tf.keras.applications.densenet.preprocess_input)"
      ]
    },
    {
      "cell_type": "code",
      "execution_count": null,
      "metadata": {
        "colab": {
          "base_uri": "https://localhost:8080/"
        },
        "id": "rrusFwFwBWAG",
        "outputId": "c7fe205a-9507-430d-e301-00a36a395217"
      },
      "outputs": [
        {
          "name": "stdout",
          "output_type": "stream",
          "text": [
            "\n",
            "Train Batches: \n",
            "Found 54782 images belonging to 7 classes.\n",
            "\n",
            "Test Batches: \n",
            "Found 828 images belonging to 7 classes.\n",
            "\n",
            "Val Batches: \n",
            "Found 827 images belonging to 7 classes.\n"
          ]
        }
      ],
      "source": [
        "print(\"\\nTrain Batches: \")\n",
        "train_batches = datagen.flow_from_directory(directory=train_path,\n",
        "                                            target_size=(image_size,image_size),\n",
        "                                            batch_size=batch_size,\n",
        "                                            shuffle=True)\n",
        "\n",
        "print(\"\\nTest Batches: \")\n",
        "test_batches = datagen.flow_from_directory(test_path,\n",
        "                                          target_size=(image_size,image_size),\n",
        "                                          batch_size=batch_size,\n",
        "                                          shuffle=False)\n",
        "print(\"\\nVal Batches: \")\n",
        "val_batches = datagen.flow_from_directory(val_path,\n",
        "                                         target_size=(image_size,image_size),\n",
        "                                         batch_size=batch_size,\n",
        "                                         shuffle=False)"
      ]
    },
    {
      "cell_type": "markdown",
      "metadata": {
        "id": "W1kJDf5aBWAK"
      },
      "source": [
        "### Import model"
      ]
    },
    {
      "cell_type": "code",
      "execution_count": null,
      "metadata": {
        "colab": {
          "base_uri": "https://localhost:8080/"
        },
        "id": "t-ybV7YnBWAL",
        "outputId": "6132d9a8-870c-4c16-d7d1-ca9e659bdeb6"
      },
      "outputs": [
        {
          "name": "stdout",
          "output_type": "stream",
          "text": [
            "Downloading data from https://storage.googleapis.com/tensorflow/keras-applications/densenet/densenet121_weights_tf_dim_ordering_tf_kernels_notop.h5\n",
            "29084464/29084464 [==============================] - 0s 0us/step\n"
          ]
        }
      ],
      "source": [
        "from tensorflow.keras.applications.densenet import DenseNet121\n",
        "# Create a new instance of DenseNet121\n",
        "DN121 = DenseNet121(weights='imagenet', include_top=False, input_shape=(image_size, image_size, 3), pooling='avg')"
      ]
    },
    {
      "cell_type": "code",
      "execution_count": null,
      "metadata": {
        "id": "0_JW_U_4BWAN"
      },
      "outputs": [],
      "source": [
        "## Fine tuning\n",
        "MainInput=Input(shape=(image_size, image_size, 3))\n",
        "dn121 = DN121(MainInput)\n",
        "\n",
        "# Reshape the tensor to have 4 dimensions\n",
        "from tensorflow.keras.layers import Reshape\n",
        "reshape = Reshape((16, 16, 4))(dn121)"
      ]
    },
    {
      "cell_type": "markdown",
      "metadata": {
        "id": "_pcOj2ukSJdK"
      },
      "source": [
        "### DN121_ccnn"
      ]
    },
    {
      "cell_type": "code",
      "execution_count": null,
      "metadata": {
        "colab": {
          "base_uri": "https://localhost:8080/"
        },
        "id": "2bEGLcJoBWAP",
        "outputId": "0a0c244a-4abe-4957-b007-135b3acb798b"
      },
      "outputs": [
        {
          "name": "stdout",
          "output_type": "stream",
          "text": [
            "7\n"
          ]
        }
      ],
      "source": [
        "conv=(Conv2D(filters=128,kernel_size=(7,7), activation=\"relu\",padding=\"same\",kernel_initializer='he_normal')(reshape))\n",
        "conv=(BatchNormalization()(conv))\n",
        "conv=(Conv2D(filters=128,kernel_size=(5,5), activation=\"relu\",padding=\"same\",kernel_initializer='he_normal')(conv))\n",
        "conv=(BatchNormalization()(conv))\n",
        "conv=(Conv2D(filters=128,kernel_size=(3,3), activation=\"relu\",padding=\"same\",kernel_initializer='he_normal')(conv))\n",
        "conv=(BatchNormalization()(conv))\n",
        "conv=(Conv2D(filters=128,kernel_size=(1,1), activation=\"relu\",padding=\"same\",kernel_initializer='he_normal')(conv))\n",
        "conv=(BatchNormalization()(conv))\n",
        "conv=(MaxPooling2D(strides=(2, 2),padding=\"same\")(conv))\n",
        "conv=(Conv2D(filters=256,kernel_size=(7,7), activation=\"relu\",padding=\"same\",kernel_initializer='he_normal')(conv))\n",
        "conv=(BatchNormalization()(conv))\n",
        "conv=(Conv2D(filters=256,kernel_size=(5,5), activation=\"relu\",padding=\"same\",kernel_initializer='he_normal')(conv))\n",
        "conv=(BatchNormalization()(conv))\n",
        "conv=(Conv2D(filters=256,kernel_size=(3,3), activation=\"relu\",padding=\"same\",kernel_initializer='he_normal')(conv))\n",
        "conv=(BatchNormalization()(conv))\n",
        "conv=(Conv2D(filters=256,kernel_size=(1,1), activation=\"relu\",padding=\"same\",kernel_initializer='he_normal')(conv))\n",
        "conv=(BatchNormalization()(conv))\n",
        "conv=(MaxPooling2D(pool_size=(2, 2),padding=\"same\")(conv))\n",
        "num_classes = test_batches.num_classes\n",
        "print(num_classes)\n",
        "conv=(Flatten()(conv))\n",
        "conv=(Dense(1024,activation=\"relu\")(conv))\n",
        "conv=(Dense(512,activation=\"relu\")(conv))\n",
        "conv=(Dense(num_classes, activation=\"softmax\")(conv))\n",
        "\n",
        "model_dn121 = Model(inputs=MainInput, outputs=conv)"
      ]
    },
    {
      "cell_type": "code",
      "execution_count": null,
      "metadata": {
        "id": "PRAkZOlqBWAT"
      },
      "outputs": [],
      "source": [
        "from tensorflow.keras import models\n",
        "model_dn121.load_weights(\"/content/IGPA(DN_MN_VGG_X)/DN/DN121/DN121.hdf5\")"
      ]
    },
    {
      "cell_type": "code",
      "execution_count": null,
      "metadata": {
        "colab": {
          "base_uri": "https://localhost:8080/"
        },
        "id": "mHhvMZ0wBWAU",
        "outputId": "20e2893d-3aae-438c-c0af-cfa89dec52b7"
      },
      "outputs": [
        {
          "name": "stdout",
          "output_type": "stream",
          "text": [
            "52/52 [==============================] - 51s 534ms/step\n"
          ]
        }
      ],
      "source": [
        "predictions_dn121 = model_dn121.predict(test_batches)"
      ]
    },
    {
      "cell_type": "code",
      "execution_count": null,
      "metadata": {
        "id": "g4qZBG_9BWAV"
      },
      "outputs": [],
      "source": [
        "#geting predictions on test dataset\n",
        "y_pred = np.argmax(predictions_dn121, axis=1)\n",
        "#getting the true labels per image\n",
        "y_true = test_batches.classes\n",
        "#getting the predicted labels per image\n",
        "y_prob = predictions_dn121"
      ]
    },
    {
      "cell_type": "code",
      "execution_count": null,
      "metadata": {
        "colab": {
          "base_uri": "https://localhost:8080/"
        },
        "id": "3EhyBHRIBWAV",
        "outputId": "ef7c2d4b-7b4c-4ef3-d0f7-1b5f5f7c89f7"
      },
      "outputs": [
        {
          "name": "stdout",
          "output_type": "stream",
          "text": [
            "\n",
            "Classification Report:\n",
            "              precision    recall  f1-score   support\n",
            "\n",
            "          AK       0.71      0.55      0.62        22\n",
            "         BCC       0.71      0.74      0.73        27\n",
            "         BKL       0.77      0.70      0.73        66\n",
            "          DF       0.83      0.83      0.83         6\n",
            "         MEL       0.73      0.63      0.68        35\n",
            "          NV       0.96      0.98      0.97       663\n",
            "        VASC       1.00      1.00      1.00         9\n",
            "\n",
            "    accuracy                           0.92       828\n",
            "   macro avg       0.82      0.78      0.79       828\n",
            "weighted avg       0.92      0.92      0.92       828\n",
            "\n"
          ]
        }
      ],
      "source": [
        "classnames = ['AK', 'BCC', 'BKL', 'DF', 'MEL', 'NV', 'VASC']\n",
        "\n",
        "from tensorflow.keras.utils import to_categorical\n",
        "y_test = to_categorical(y_true)\n",
        "\n",
        "report = classification_report(y_true, y_pred, target_names=classnames)\n",
        "\n",
        "print(\"\\nClassification Report:\")\n",
        "print(report)"
      ]
    },
    {
      "cell_type": "code",
      "execution_count": null,
      "metadata": {
        "colab": {
          "base_uri": "https://localhost:8080/"
        },
        "id": "3TN-1j26BWAW",
        "outputId": "ab80c8de-0080-46a5-e016-3ab02aba27f8"
      },
      "outputs": [
        {
          "name": "stderr",
          "output_type": "stream",
          "text": [
            "WARNING:matplotlib.font_manager:findfont: Font family 'Times New Roman' not found.\n",
            "WARNING:matplotlib.font_manager:findfont: Font family 'Times New Roman' not found.\n",
            "WARNING:matplotlib.font_manager:findfont: Font family 'Times New Roman' not found.\n",
            "WARNING:matplotlib.font_manager:findfont: Font family 'Times New Roman' not found.\n",
            "WARNING:matplotlib.font_manager:findfont: Font family 'Times New Roman' not found.\n",
            "WARNING:matplotlib.font_manager:findfont: Font family 'Times New Roman' not found.\n",
            "WARNING:matplotlib.font_manager:findfont: Font family 'Times New Roman' not found.\n",
            "WARNING:matplotlib.font_manager:findfont: Font family 'Times New Roman' not found.\n",
            "WARNING:matplotlib.font_manager:findfont: Font family 'Times New Roman' not found.\n",
            "WARNING:matplotlib.font_manager:findfont: Font family 'Times New Roman' not found.\n",
            "WARNING:matplotlib.font_manager:findfont: Font family 'Times New Roman' not found.\n",
            "WARNING:matplotlib.font_manager:findfont: Font family 'Times New Roman' not found.\n",
            "WARNING:matplotlib.font_manager:findfont: Font family 'Times New Roman' not found.\n"
          ]
        },
        {
          "data": {
            "image/png": "[encoded data removed]",
            "text/plain": [
              "<Figure size 1000x400 with 2 Axes>"
            ]
          },
          "metadata": {},
          "output_type": "display_data"
        }
      ],
      "source": [
        "## Confusion Matrix\n",
        "title_font = {'fontname':'Times New Roman', 'size':'14', 'color':'black', 'weight':'normal'}\n",
        "label_font = {'fontname':'Times New Roman', 'size':'12', 'color':'black', 'weight':'normal'}\n",
        "\n",
        "from sklearn.metrics import confusion_matrix\n",
        "import seaborn as sns\n",
        "# Creating confusion matrix\n",
        "cm = confusion_matrix(y_true, y_pred)\n",
        "# Plotting the confusion matrix\n",
        "plt.figure(figsize=(10,4))\n",
        "sns.heatmap(cm, annot=True, fmt='g', cmap='Blues', xticklabels=targetnames, yticklabels=targetnames)\n",
        "plt.xlabel('Predicted Label', fontdict=label_font)\n",
        "plt.ylabel('True Label', fontdict=label_font)\n",
        "plt.title('Confusion Matrix', fontdict=title_font)\n",
        "plt.show()"
      ]
    },
    {
      "cell_type": "code",
      "execution_count": null,
      "metadata": {
        "colab": {
          "base_uri": "https://localhost:8080/"
        },
        "id": "GY9rcXAzBWAX",
        "outputId": "1777c673-bb7b-4cac-8731-e1726bd95fab"
      },
      "outputs": [
        {
          "name": "stdout",
          "output_type": "stream",
          "text": [
            "Accuracy: 0.9239130434782609\n"
          ]
        }
      ],
      "source": [
        "### Accuracy\n",
        "print(\"Accuracy: \" + str(accuracy_score(y_true, y_pred)))\n"
      ]
    },
    {
      "cell_type": "code",
      "execution_count": null,
      "metadata": {
        "colab": {
          "base_uri": "https://localhost:8080/"
        },
        "id": "8BMIW9HbBWAY",
        "outputId": "92808e06-e687-400c-9317-0e0d9641bd1c"
      },
      "outputs": [
        {
          "name": "stdout",
          "output_type": "stream",
          "text": [
            "Top-1 Accuracy: 0.9239130434782609\n",
            "Top-2 Accuracy: 0.9758454106280193\n",
            "Top-3 Accuracy: 0.9891304347826086\n"
          ]
        }
      ],
      "source": [
        "import numpy as np\n",
        "from sklearn.metrics import accuracy_score\n",
        "\n",
        "# Calculate top-1 accuracy\n",
        "top1_acc = accuracy_score(y_true, y_pred)\n",
        "print(\"Top-1 Accuracy:\", top1_acc)\n",
        "\n",
        "# Calculate top-2 accuracy\n",
        "y_pred_top2 = np.argsort(-predictions_dn121, axis=1)[:, :2] # Get the top 2 predicted classes\n",
        "top2_acc = np.mean(np.array([y_true[i] in y_pred_top2[i] for i in range(len(y_true))]))\n",
        "print(\"Top-2 Accuracy:\", top2_acc)\n",
        "\n",
        "# Calculate top-3 accuracy\n",
        "y_pred_top3 = np.argsort(-predictions_dn121, axis=1)[:, :3] # Get the top 3 predicted classes\n",
        "top3_acc = np.mean(np.array([y_true[i] in y_pred_top3[i] for i in range(len(y_true))]))\n",
        "print(\"Top-3 Accuracy:\", top3_acc)\n",
        "from sklearn.metrics import f1_score\n"
      ]
    },
    {
      "cell_type": "code",
      "execution_count": null,
      "metadata": {
        "colab": {
          "base_uri": "https://localhost:8080/"
        },
        "id": "3ZuRhVAwBWAf",
        "outputId": "d3775cd8-7724-4adc-b9b6-2b7f211425b7"
      },
      "outputs": [
        {
          "name": "stdout",
          "output_type": "stream",
          "text": [
            "Weighted Precision: 0.9199023403983457\n",
            "Weighted Recall (sensitivity): 0.9239130434782609\n",
            "Weighted F1-Score: 0.9212267268876548\n",
            "Weighted Specificity: 0.8665820825268796\n",
            "Weighted Roc score: 0.9764541893500809\n"
          ]
        }
      ],
      "source": [
        "### Weighted Evaluation Measures\n",
        "print(\"Weighted Precision: \"+ str(precision_score(y_true, y_pred, average='weighted')))\n",
        "print(\"Weighted Recall (sensitivity): \"+ str(recall_score(y_true, y_pred, average='weighted')))\n",
        "print(\"Weighted F1-Score: \"+ str(f1_score(y_true, y_pred, average='weighted')))\n",
        "print(\"Weighted Specificity: \"+ str(specificity_score(y_true, y_pred, average='weighted')))\n",
        "print(\"Weighted Roc score: \" + str(roc_auc_score(y_true,y_prob,multi_class='ovr',average='weighted')))"
      ]
    },
    {
      "cell_type": "markdown",
      "metadata": {
        "id": "Vyc94HpJBWAh"
      },
      "source": [
        "### DN121_cacnn"
      ]
    },
    {
      "cell_type": "code",
      "execution_count": null,
      "metadata": {
        "id": "HAZqNh8BBWAi"
      },
      "outputs": [],
      "source": [
        "# Channel Attention\n",
        "from tensorflow.keras.layers import Layer\n",
        "from tensorflow.keras import backend as K\n",
        "\n",
        "class ChannelAttention(Layer):\n",
        "    def __init__(self, reduction=16):\n",
        "        super(ChannelAttention, self).__init__()\n",
        "        self.reduction = reduction\n",
        "\n",
        "    def build(self, input_shape):\n",
        "        self.channels = input_shape[-1]\n",
        "        self.avg_pool = GlobalAveragePooling2D()\n",
        "        self.max_pool = GlobalMaxPooling2D()\n",
        "\n",
        "        self.shared_layer_one = Dense(units=self.channels // self.reduction, activation='relu', kernel_initializer='he_normal', use_bias=True, bias_initializer='zeros')\n",
        "        self.shared_layer_two = Dense(units=self.channels, activation='sigmoid', kernel_initializer='he_normal', use_bias=True, bias_initializer='zeros')\n",
        "\n",
        "    def call(self, x):\n",
        "        avg_pool = self.avg_pool(x)\n",
        "        max_pool = self.max_pool(x)\n",
        "\n",
        "        avg_pool = Reshape((1, 1, self.channels))(avg_pool)\n",
        "        max_pool = Reshape((1, 1, self.channels))(max_pool)\n",
        "        shared_layer_one = self.shared_layer_one(avg_pool) + self.shared_layer_one(max_pool)\n",
        "        shared_layer_two = self.shared_layer_two(shared_layer_one)\n",
        "        return x * shared_layer_two\n",
        "\n",
        "    def get_config(self):\n",
        "        config = super().get_config().copy()\n",
        "        config.update({\n",
        "            'reduction': self.reduction,\n",
        "        })\n",
        "        return config"
      ]
    },
    {
      "cell_type": "code",
      "execution_count": null,
      "metadata": {
        "colab": {
          "base_uri": "https://localhost:8080/"
        },
        "id": "Soogbl8IBWAk",
        "outputId": "b2d102dc-67ef-4a61-d0e2-ab151c42a6e5"
      },
      "outputs": [
        {
          "name": "stdout",
          "output_type": "stream",
          "text": [
            "7\n"
          ]
        }
      ],
      "source": [
        "conv=(Conv2D(filters=128,kernel_size=(7,7), activation=\"relu\",padding=\"same\",kernel_initializer='he_normal')(reshape))\n",
        "conv=(BatchNormalization()(conv))\n",
        "conv = ChannelAttention()(conv)\n",
        "conv=(Conv2D(filters=128,kernel_size=(5,5), activation=\"relu\",padding=\"same\",kernel_initializer='he_normal')(conv))\n",
        "conv=(BatchNormalization()(conv))\n",
        "conv = ChannelAttention()(conv)\n",
        "conv=(Conv2D(filters=128,kernel_size=(3,3), activation=\"relu\",padding=\"same\",kernel_initializer='he_normal')(conv))\n",
        "conv=(BatchNormalization()(conv))\n",
        "conv = ChannelAttention()(conv)\n",
        "conv=(Conv2D(filters=128,kernel_size=(1,1), activation=\"relu\",padding=\"same\",kernel_initializer='he_normal')(conv))\n",
        "conv=(BatchNormalization()(conv))\n",
        "conv = ChannelAttention()(conv)\n",
        "conv=(MaxPooling2D(strides=(2, 2),padding=\"same\")(conv))\n",
        "conv=(Conv2D(filters=256,kernel_size=(7,7), activation=\"relu\",padding=\"same\",kernel_initializer='he_normal')(conv))\n",
        "conv=(BatchNormalization()(conv))\n",
        "conv = ChannelAttention()(conv)\n",
        "conv=(Conv2D(filters=256,kernel_size=(5,5), activation=\"relu\",padding=\"same\",kernel_initializer='he_normal')(conv))\n",
        "conv=(BatchNormalization()(conv))\n",
        "conv = ChannelAttention()(conv)\n",
        "conv=(Conv2D(filters=256,kernel_size=(3,3), activation=\"relu\",padding=\"same\",kernel_initializer='he_normal')(conv))\n",
        "conv=(BatchNormalization()(conv))\n",
        "conv = ChannelAttention()(conv)\n",
        "conv=(Conv2D(filters=256,kernel_size=(1,1), activation=\"relu\",padding=\"same\",kernel_initializer='he_normal')(conv))\n",
        "conv=(BatchNormalization()(conv))\n",
        "conv = ChannelAttention()(conv)\n",
        "conv=(MaxPooling2D(pool_size=(2, 2),padding=\"same\")(conv))\n",
        "num_classes = test_batches.num_classes\n",
        "print(num_classes)\n",
        "conv=(Flatten()(conv))\n",
        "conv=(Dense(1024,activation=\"relu\")(conv))\n",
        "conv=(Dense(512,activation=\"relu\")(conv))\n",
        "conv=(Dense(num_classes, activation=\"softmax\")(conv))\n",
        "\n",
        "model_dn121_ca = Model(inputs=MainInput, outputs=conv)"
      ]
    },
    {
      "cell_type": "code",
      "execution_count": null,
      "metadata": {
        "id": "nQfVq3umBWAm"
      },
      "outputs": [],
      "source": [
        "from tensorflow.keras import models\n",
        "model_dn121_ca.load_weights(\"/content/IGPA(DN_MN_VGG_X)/DN/DN121/DN121_CA.hdf5\")"
      ]
    },
    {
      "cell_type": "code",
      "execution_count": null,
      "metadata": {
        "colab": {
          "base_uri": "https://localhost:8080/"
        },
        "id": "PUgahUyyBWAn",
        "outputId": "d57e4a0a-85f7-41aa-d62d-d2d7dbd06eca"
      },
      "outputs": [
        {
          "name": "stdout",
          "output_type": "stream",
          "text": [
            "52/52 [==============================] - 23s 295ms/step\n"
          ]
        }
      ],
      "source": [
        "predictions_dn121_ca = model_dn121_ca.predict(test_batches)"
      ]
    },
    {
      "cell_type": "code",
      "execution_count": null,
      "metadata": {
        "id": "DqAeSPdoBWAp"
      },
      "outputs": [],
      "source": [
        "#geting predictions on test dataset\n",
        "y_pred = np.argmax(predictions_dn121_ca, axis=1)\n",
        "#getting the true labels per image\n",
        "y_true = test_batches.classes\n",
        "#getting the predicted labels per image\n",
        "y_prob = predictions_dn121_ca"
      ]
    },
    {
      "cell_type": "code",
      "execution_count": null,
      "metadata": {
        "colab": {
          "base_uri": "https://localhost:8080/"
        },
        "id": "IMg1dWdPBWAq",
        "outputId": "0f129ffd-ce1f-44d6-ede6-7d3f8811a923"
      },
      "outputs": [
        {
          "name": "stdout",
          "output_type": "stream",
          "text": [
            "\n",
            "Classification Report:\n",
            "              precision    recall  f1-score   support\n",
            "\n",
            "          AK       0.73      0.50      0.59        22\n",
            "         BCC       0.82      0.85      0.84        27\n",
            "         BKL       0.75      0.68      0.71        66\n",
            "          DF       0.67      0.67      0.67         6\n",
            "         MEL       0.71      0.49      0.58        35\n",
            "          NV       0.95      0.98      0.96       663\n",
            "        VASC       1.00      1.00      1.00         9\n",
            "\n",
            "    accuracy                           0.92       828\n",
            "   macro avg       0.80      0.74      0.76       828\n",
            "weighted avg       0.91      0.92      0.91       828\n",
            "\n"
          ]
        }
      ],
      "source": [
        "classnames = ['AK', 'BCC', 'BKL', 'DF', 'MEL', 'NV', 'VASC']\n",
        "\n",
        "from tensorflow.keras.utils import to_categorical\n",
        "y_test = to_categorical(y_true)\n",
        "\n",
        "report = classification_report(y_true, y_pred, target_names=classnames)\n",
        "\n",
        "print(\"\\nClassification Report:\")\n",
        "print(report)"
      ]
    },
    {
      "cell_type": "code",
      "execution_count": null,
      "metadata": {
        "colab": {
          "base_uri": "https://localhost:8080/"
        },
        "id": "xeyKrUdpBWBC",
        "outputId": "c1a4c9d8-68b3-4d9b-f294-b471034bba63"
      },
      "outputs": [
        {
          "name": "stderr",
          "output_type": "stream",
          "text": [
            "WARNING:matplotlib.font_manager:findfont: Font family 'Times New Roman' not found.\n",
            "WARNING:matplotlib.font_manager:findfont: Font family 'Times New Roman' not found.\n",
            "WARNING:matplotlib.font_manager:findfont: Font family 'Times New Roman' not found.\n",
            "WARNING:matplotlib.font_manager:findfont: Font family 'Times New Roman' not found.\n",
            "WARNING:matplotlib.font_manager:findfont: Font family 'Times New Roman' not found.\n",
            "WARNING:matplotlib.font_manager:findfont: Font family 'Times New Roman' not found.\n",
            "WARNING:matplotlib.font_manager:findfont: Font family 'Times New Roman' not found.\n",
            "WARNING:matplotlib.font_manager:findfont: Font family 'Times New Roman' not found.\n",
            "WARNING:matplotlib.font_manager:findfont: Font family 'Times New Roman' not found.\n",
            "WARNING:matplotlib.font_manager:findfont: Font family 'Times New Roman' not found.\n",
            "WARNING:matplotlib.font_manager:findfont: Font family 'Times New Roman' not found.\n",
            "WARNING:matplotlib.font_manager:findfont: Font family 'Times New Roman' not found.\n",
            "WARNING:matplotlib.font_manager:findfont: Font family 'Times New Roman' not found.\n"
          ]
        },
        {
          "data": {
            "image/png": "[encoded data removed]",
            "text/plain": [
              "<Figure size 1000x400 with 2 Axes>"
            ]
          },
          "metadata": {},
          "output_type": "display_data"
        }
      ],
      "source": [
        "## Confusion Matrix\n",
        "title_font = {'fontname':'Times New Roman', 'size':'14', 'color':'black', 'weight':'normal'}\n",
        "label_font = {'fontname':'Times New Roman', 'size':'12', 'color':'black', 'weight':'normal'}\n",
        "\n",
        "from sklearn.metrics import confusion_matrix\n",
        "import seaborn as sns\n",
        "# Creating confusion matrix\n",
        "cm = confusion_matrix(y_true, y_pred)\n",
        "# Plotting the confusion matrix\n",
        "plt.figure(figsize=(10,4))\n",
        "sns.heatmap(cm, annot=True, fmt='g', cmap='Blues', xticklabels=targetnames, yticklabels=targetnames)\n",
        "plt.xlabel('Predicted Label', fontdict=label_font)\n",
        "plt.ylabel('True Label', fontdict=label_font)\n",
        "plt.title('Confusion Matrix', fontdict=title_font)\n",
        "plt.show()"
      ]
    },
    {
      "cell_type": "code",
      "execution_count": null,
      "metadata": {
        "colab": {
          "base_uri": "https://localhost:8080/"
        },
        "id": "cn_1wQCKBWBF",
        "outputId": "e908ca77-1e86-408e-9cd2-372ef9c1b786"
      },
      "outputs": [
        {
          "name": "stdout",
          "output_type": "stream",
          "text": [
            "Accuracy: 0.9166666666666666\n"
          ]
        }
      ],
      "source": [
        "### Accuracy\n",
        "print(\"Accuracy: \" + str(accuracy_score(y_true, y_pred)))\n"
      ]
    },
    {
      "cell_type": "code",
      "execution_count": null,
      "metadata": {
        "colab": {
          "base_uri": "https://localhost:8080/"
        },
        "id": "IoY3IPo6BWBH",
        "outputId": "3f843229-6078-4365-c943-35ee766577c6"
      },
      "outputs": [
        {
          "name": "stdout",
          "output_type": "stream",
          "text": [
            "Top-1 Accuracy: 0.9166666666666666\n",
            "Top-2 Accuracy: 0.9698067632850241\n",
            "Top-3 Accuracy: 0.9879227053140096\n"
          ]
        }
      ],
      "source": [
        "import numpy as np\n",
        "from sklearn.metrics import accuracy_score\n",
        "\n",
        "# Calculate top-1 accuracy\n",
        "top1_acc = accuracy_score(y_true, y_pred)\n",
        "print(\"Top-1 Accuracy:\", top1_acc)\n",
        "\n",
        "# Calculate top-2 accuracy\n",
        "y_pred_top2 = np.argsort(-predictions_dn121_ca, axis=1)[:, :2] # Get the top 2 predicted classes\n",
        "top2_acc = np.mean(np.array([y_true[i] in y_pred_top2[i] for i in range(len(y_true))]))\n",
        "print(\"Top-2 Accuracy:\", top2_acc)\n",
        "\n",
        "# Calculate top-3 accuracy\n",
        "y_pred_top3 = np.argsort(-predictions_dn121_ca, axis=1)[:, :3] # Get the top 3 predicted classes\n",
        "top3_acc = np.mean(np.array([y_true[i] in y_pred_top3[i] for i in range(len(y_true))]))\n",
        "print(\"Top-3 Accuracy:\", top3_acc)\n",
        "from sklearn.metrics import f1_score\n"
      ]
    },
    {
      "cell_type": "code",
      "execution_count": null,
      "metadata": {
        "colab": {
          "base_uri": "https://localhost:8080/"
        },
        "id": "gjwHmro0BWBH",
        "outputId": "4590f0ed-8902-4889-cd9a-aea9504f95ef"
      },
      "outputs": [
        {
          "name": "stdout",
          "output_type": "stream",
          "text": [
            "Weighted Precision: 0.9103992373346854\n",
            "Weighted Recall (sensitivity): 0.9166666666666666\n",
            "Weighted F1-Score: 0.9117064791768834\n",
            "Weighted Specificity: 0.8230011710119097\n",
            "weighted Roc score: 0.9746812701467628\n"
          ]
        }
      ],
      "source": [
        "### Weighted Evaluation Measures\n",
        "print(\"Weighted Precision: \"+ str(precision_score(y_true, y_pred, average='weighted')))\n",
        "print(\"Weighted Recall (sensitivity): \"+ str(recall_score(y_true, y_pred, average='weighted')))\n",
        "print(\"Weighted F1-Score: \"+ str(f1_score(y_true, y_pred, average='weighted')))\n",
        "print(\"Weighted Specificity: \"+ str(specificity_score(y_true, y_pred, average='weighted')))\n",
        "print(\"weighted Roc score: \" + str(roc_auc_score(y_true,y_prob,multi_class='ovr',average='weighted')))"
      ]
    },
    {
      "cell_type": "markdown",
      "metadata": {
        "id": "snurZrjBBWBI"
      },
      "source": [
        "### DN121_seacnn"
      ]
    },
    {
      "cell_type": "code",
      "execution_count": null,
      "metadata": {
        "id": "7wDorlO2BWBI"
      },
      "outputs": [],
      "source": [
        "### Squeeze and Excitation Attention\n",
        "def squeeze_excite_block(input, filters, se_ratio):\n",
        "    # Squeeze step\n",
        "    se = tf.keras.layers.GlobalAveragePooling2D()(input)\n",
        "    se = tf.keras.layers.Dense(filters // se_ratio, activation='relu')(se)\n",
        "    se = tf.keras.layers.Dense(filters, activation='softmax')(se)\n",
        "    # Excitation step\n",
        "    x = tf.keras.layers.multiply([input, se])\n",
        "    return x"
      ]
    },
    {
      "cell_type": "code",
      "execution_count": null,
      "metadata": {
        "colab": {
          "base_uri": "https://localhost:8080/"
        },
        "id": "Ft13TGjnBWBJ",
        "outputId": "d24cb4a8-0155-430f-e731-d1f65e4453bf"
      },
      "outputs": [
        {
          "name": "stdout",
          "output_type": "stream",
          "text": [
            "7\n"
          ]
        }
      ],
      "source": [
        "# Add convolutional layers with Channel Attention\n",
        "conv = Conv2D(filters=128, kernel_size=(7, 7), activation=\"relu\", padding=\"same\", kernel_initializer='he_normal')(reshape)\n",
        "conv = BatchNormalization()(conv)\n",
        "conv = Conv2D(filters=128, kernel_size=(5, 5), activation=\"relu\", padding=\"same\", kernel_initializer='he_normal')(conv)\n",
        "conv = BatchNormalization()(conv)\n",
        "conv = Conv2D(filters=128, kernel_size=(3, 3), activation=\"relu\", padding=\"same\", kernel_initializer='he_normal')(conv)\n",
        "conv = BatchNormalization()(conv)\n",
        "conv = Conv2D(filters=128, kernel_size=(1, 1), activation=\"relu\", padding=\"same\", kernel_initializer='he_normal')(conv)\n",
        "conv = BatchNormalization()(conv)\n",
        "image_size_2 = 16\n",
        "from tensorflow.keras.layers import Reshape\n",
        "conv = Reshape(target_shape=(image_size_2, image_size_2, 128,))(conv)\n",
        "x = squeeze_excite_block(conv, 128, 128)  # use same number of filters as the input tensor\n",
        "# Add convolutional layers with Channel Attention\n",
        "conv = Conv2D(filters=128, kernel_size=(7, 7), activation=\"relu\", padding=\"same\", kernel_initializer='he_normal')(x)\n",
        "conv = BatchNormalization()(conv)\n",
        "conv = Conv2D(filters=128, kernel_size=(5, 5), activation=\"relu\", padding=\"same\", kernel_initializer='he_normal')(conv)\n",
        "conv = BatchNormalization()(conv)\n",
        "conv = Conv2D(filters=128, kernel_size=(3, 3), activation=\"relu\", padding=\"same\", kernel_initializer='he_normal')(conv)\n",
        "conv = BatchNormalization()(conv)\n",
        "conv = Conv2D(filters=128, kernel_size=(1, 1), activation=\"relu\", padding=\"same\", kernel_initializer='he_normal')(conv)\n",
        "conv = BatchNormalization()(conv)\n",
        "conv=(MaxPooling2D(strides=(2, 2),padding=\"same\")(conv))\n",
        "conv = Conv2D(filters=256,kernel_size=(7,7), activation=\"relu\",padding=\"same\",kernel_initializer='he_normal')(conv)\n",
        "conv = BatchNormalization()(conv)\n",
        "conv = Conv2D(filters=256,kernel_size=(5,5), activation=\"relu\",padding=\"same\",kernel_initializer='he_normal')(conv)\n",
        "conv = BatchNormalization()(conv)\n",
        "conv = Conv2D(filters=256,kernel_size=(3,3), activation=\"relu\",padding=\"same\",kernel_initializer='he_normal')(conv)\n",
        "conv = BatchNormalization()(conv)\n",
        "conv = Conv2D(filters=256,kernel_size=(1,1), activation=\"relu\",padding=\"same\",kernel_initializer='he_normal')(conv)\n",
        "conv = BatchNormalization()(conv)\n",
        "image_size_3 = 8\n",
        "from tensorflow.keras.layers import Reshape\n",
        "conv = Reshape(target_shape=(image_size_3, image_size_3, 256,))(conv)\n",
        "x = squeeze_excite_block(conv, 256, 256)  # use same number of filters as the input tensor\n",
        "conv = Conv2D(filters=256,kernel_size=(7,7), activation=\"relu\",padding=\"same\",kernel_initializer='he_normal')(x)\n",
        "conv = BatchNormalization()(conv)\n",
        "conv = Conv2D(filters=256,kernel_size=(5,5), activation=\"relu\",padding=\"same\",kernel_initializer='he_normal')(conv)\n",
        "conv = BatchNormalization()(conv)\n",
        "conv = Conv2D(filters=256,kernel_size=(3,3), activation=\"relu\",padding=\"same\",kernel_initializer='he_normal')(conv)\n",
        "conv = BatchNormalization()(conv)\n",
        "conv = Conv2D(filters=256,kernel_size=(1,1), activation=\"relu\",padding=\"same\",kernel_initializer='he_normal')(conv)\n",
        "conv = BatchNormalization()(conv)\n",
        "conv=(MaxPooling2D(pool_size=(2, 2),padding=\"same\")(conv))\n",
        "num_classes = test_batches.num_classes\n",
        "print(num_classes)\n",
        "conv=(Flatten()(conv))\n",
        "conv=(Dense(1024,activation=\"relu\")(conv))\n",
        "conv=(Dense(512,activation=\"relu\")(conv))\n",
        "conv=(Dense(num_classes, activation=\"softmax\")(conv))\n",
        "\n",
        "model_dn121_sea = Model(inputs=MainInput, outputs=conv)"
      ]
    },
    {
      "cell_type": "code",
      "execution_count": null,
      "metadata": {
        "id": "YalHiKaIBWBK"
      },
      "outputs": [],
      "source": [
        "from tensorflow.keras import models\n",
        "model_dn121_sea.load_weights(\"/content/IGPA(DN_MN_VGG_X)/DN/DN121/DN121_SEA.hdf5\")"
      ]
    },
    {
      "cell_type": "code",
      "execution_count": null,
      "metadata": {
        "colab": {
          "base_uri": "https://localhost:8080/"
        },
        "id": "xljsIBY4BWBK",
        "outputId": "1b8a1eff-35b6-4430-84ce-00d05e866c8d"
      },
      "outputs": [
        {
          "name": "stdout",
          "output_type": "stream",
          "text": [
            "52/52 [==============================] - 23s 319ms/step\n"
          ]
        }
      ],
      "source": [
        "predictions_dn121_sea = model_dn121_sea.predict(test_batches)"
      ]
    },
    {
      "cell_type": "code",
      "execution_count": null,
      "metadata": {
        "id": "lPY8goMbBWBK"
      },
      "outputs": [],
      "source": [
        "#geting predictions on test dataset\n",
        "y_pred = np.argmax(predictions_dn121_sea, axis=1)\n",
        "#getting the true labels per image\n",
        "y_true = test_batches.classes\n",
        "#getting the predicted labels per image\n",
        "y_prob = predictions_dn121_sea"
      ]
    },
    {
      "cell_type": "code",
      "execution_count": null,
      "metadata": {
        "colab": {
          "base_uri": "https://localhost:8080/"
        },
        "id": "9YX7bcYVBWBL",
        "outputId": "7202b83f-9aeb-492f-f749-7c7c11bd9c6d"
      },
      "outputs": [
        {
          "name": "stdout",
          "output_type": "stream",
          "text": [
            "\n",
            "Classification Report:\n",
            "              precision    recall  f1-score   support\n",
            "\n",
            "          AK       0.79      0.50      0.61        22\n",
            "         BCC       0.72      0.78      0.75        27\n",
            "         BKL       0.77      0.73      0.75        66\n",
            "          DF       0.80      0.67      0.73         6\n",
            "         MEL       0.75      0.43      0.55        35\n",
            "          NV       0.95      0.99      0.97       663\n",
            "        VASC       1.00      1.00      1.00         9\n",
            "\n",
            "    accuracy                           0.92       828\n",
            "   macro avg       0.83      0.73      0.76       828\n",
            "weighted avg       0.91      0.92      0.91       828\n",
            "\n"
          ]
        }
      ],
      "source": [
        "classnames = ['AK', 'BCC', 'BKL', 'DF', 'MEL', 'NV', 'VASC']\n",
        "\n",
        "from tensorflow.keras.utils import to_categorical\n",
        "y_test = to_categorical(y_true)\n",
        "\n",
        "report = classification_report(y_true, y_pred, target_names=classnames)\n",
        "\n",
        "print(\"\\nClassification Report:\")\n",
        "print(report)"
      ]
    },
    {
      "cell_type": "code",
      "execution_count": null,
      "metadata": {
        "colab": {
          "base_uri": "https://localhost:8080/"
        },
        "id": "Y9Xix-jqBWBu",
        "outputId": "4843a671-232c-4b07-87de-662d9ff666eb"
      },
      "outputs": [
        {
          "name": "stderr",
          "output_type": "stream",
          "text": [
            "WARNING:matplotlib.font_manager:findfont: Font family 'Times New Roman' not found.\n",
            "WARNING:matplotlib.font_manager:findfont: Font family 'Times New Roman' not found.\n",
            "WARNING:matplotlib.font_manager:findfont: Font family 'Times New Roman' not found.\n",
            "WARNING:matplotlib.font_manager:findfont: Font family 'Times New Roman' not found.\n",
            "WARNING:matplotlib.font_manager:findfont: Font family 'Times New Roman' not found.\n",
            "WARNING:matplotlib.font_manager:findfont: Font family 'Times New Roman' not found.\n",
            "WARNING:matplotlib.font_manager:findfont: Font family 'Times New Roman' not found.\n",
            "WARNING:matplotlib.font_manager:findfont: Font family 'Times New Roman' not found.\n",
            "WARNING:matplotlib.font_manager:findfont: Font family 'Times New Roman' not found.\n",
            "WARNING:matplotlib.font_manager:findfont: Font family 'Times New Roman' not found.\n",
            "WARNING:matplotlib.font_manager:findfont: Font family 'Times New Roman' not found.\n",
            "WARNING:matplotlib.font_manager:findfont: Font family 'Times New Roman' not found.\n",
            "WARNING:matplotlib.font_manager:findfont: Font family 'Times New Roman' not found.\n"
          ]
        },
        {
          "data": {
            "image/png": "[encoded data removed]",
            "text/plain": [
              "<Figure size 1000x400 with 2 Axes>"
            ]
          },
          "metadata": {},
          "output_type": "display_data"
        }
      ],
      "source": [
        "## Confusion Matrix\n",
        "title_font = {'fontname':'Times New Roman', 'size':'14', 'color':'black', 'weight':'normal'}\n",
        "label_font = {'fontname':'Times New Roman', 'size':'12', 'color':'black', 'weight':'normal'}\n",
        "\n",
        "from sklearn.metrics import confusion_matrix\n",
        "import seaborn as sns\n",
        "# Creating confusion matrix\n",
        "cm = confusion_matrix(y_true, y_pred)\n",
        "# Plotting the confusion matrix\n",
        "plt.figure(figsize=(10,4))\n",
        "sns.heatmap(cm, annot=True, fmt='g', cmap='Blues', xticklabels=targetnames, yticklabels=targetnames)\n",
        "plt.xlabel('Predicted Label', fontdict=label_font)\n",
        "plt.ylabel('True Label', fontdict=label_font)\n",
        "plt.title('Confusion Matrix', fontdict=title_font)\n",
        "plt.show()"
      ]
    },
    {
      "cell_type": "code",
      "execution_count": null,
      "metadata": {
        "colab": {
          "base_uri": "https://localhost:8080/"
        },
        "id": "WTAe18rvBWBu",
        "outputId": "b159b225-fbf7-4d5e-989f-119ffe9529e4"
      },
      "outputs": [
        {
          "name": "stdout",
          "output_type": "stream",
          "text": [
            "Accuracy: 0.9202898550724637\n"
          ]
        }
      ],
      "source": [
        "### Accuracy\n",
        "print(\"Accuracy: \" + str(accuracy_score(y_true, y_pred)))\n"
      ]
    },
    {
      "cell_type": "code",
      "execution_count": null,
      "metadata": {
        "colab": {
          "base_uri": "https://localhost:8080/"
        },
        "id": "E2vmNVZeBWBv",
        "outputId": "e822ca7a-3e7b-4a93-ac0d-a289a084f51c"
      },
      "outputs": [
        {
          "name": "stdout",
          "output_type": "stream",
          "text": [
            "Top-1 Accuracy: 0.9202898550724637\n",
            "Top-2 Accuracy: 0.967391304347826\n",
            "Top-3 Accuracy: 0.9867149758454107\n"
          ]
        }
      ],
      "source": [
        "import numpy as np\n",
        "from sklearn.metrics import accuracy_score\n",
        "\n",
        "# Calculate top-1 accuracy\n",
        "top1_acc = accuracy_score(y_true, y_pred)\n",
        "print(\"Top-1 Accuracy:\", top1_acc)\n",
        "\n",
        "# Calculate top-2 accuracy\n",
        "y_pred_top2 = np.argsort(-predictions_dn121_sea, axis=1)[:, :2] # Get the top 2 predicted classes\n",
        "top2_acc = np.mean(np.array([y_true[i] in y_pred_top2[i] for i in range(len(y_true))]))\n",
        "print(\"Top-2 Accuracy:\", top2_acc)\n",
        "\n",
        "# Calculate top-3 accuracy\n",
        "y_pred_top3 = np.argsort(-predictions_dn121_sea, axis=1)[:, :3] # Get the top 3 predicted classes\n",
        "top3_acc = np.mean(np.array([y_true[i] in y_pred_top3[i] for i in range(len(y_true))]))\n",
        "print(\"Top-3 Accuracy:\", top3_acc)\n",
        "from sklearn.metrics import f1_score\n"
      ]
    },
    {
      "cell_type": "code",
      "execution_count": null,
      "metadata": {
        "colab": {
          "base_uri": "https://localhost:8080/"
        },
        "id": "EcxdH-8QBWBv",
        "outputId": "6c3c5c8e-4952-4c4d-fd2d-f4607085fa9e"
      },
      "outputs": [
        {
          "name": "stdout",
          "output_type": "stream",
          "text": [
            "Weighted Precision: 0.9146195257659117\n",
            "Weighted Recall (sensitivity): 0.9202898550724637\n",
            "Weighted F1-Score: 0.914338244954187\n",
            "Weighted Specificity: 0.8279849141697498\n",
            "weighted Roc score: 0.9749972632121391\n"
          ]
        }
      ],
      "source": [
        "### Weighted Evaluation Measures\n",
        "print(\"Weighted Precision: \"+ str(precision_score(y_true, y_pred, average='weighted')))\n",
        "print(\"Weighted Recall (sensitivity): \"+ str(recall_score(y_true, y_pred, average='weighted')))\n",
        "print(\"Weighted F1-Score: \"+ str(f1_score(y_true, y_pred, average='weighted')))\n",
        "print(\"Weighted Specificity: \"+ str(specificity_score(y_true, y_pred, average='weighted')))\n",
        "print(\"weighted Roc score: \" + str(roc_auc_score(y_true,y_prob,multi_class='ovr',average='weighted')))"
      ]
    },
    {
      "cell_type": "markdown",
      "metadata": {
        "id": "xtIQ9n4bBWBw"
      },
      "source": [
        "### DN121_sacnn"
      ]
    },
    {
      "cell_type": "code",
      "execution_count": null,
      "metadata": {
        "id": "0W8ORCalBWBw"
      },
      "outputs": [],
      "source": [
        "### Soft Attention\n",
        "from keras import backend as K\n",
        "from keras.layers import Layer,InputSpec\n",
        "import keras.layers as kl\n",
        "import tensorflow as tf\n",
        "\n",
        "\n",
        "\n",
        "class SoftAttention(Layer):\n",
        "    def __init__(self,ch,m,concat_with_x=False,aggregate=False,**kwargs):\n",
        "        self.channels=int(ch)\n",
        "        self.multiheads = m\n",
        "        self.aggregate_channels = aggregate\n",
        "        self.concat_input_with_scaled = concat_with_x\n",
        "\n",
        "\n",
        "        super(SoftAttention,self).__init__(**kwargs)\n",
        "\n",
        "    def build(self,input_shape):\n",
        "\n",
        "        self.i_shape = input_shape\n",
        "\n",
        "        kernel_shape_conv3d = (self.channels, 3, 3) + (1, self.multiheads) # DHWC\n",
        "\n",
        "        self.out_attention_maps_shape = input_shape[0:1]+(self.multiheads,)+input_shape[1:-1]\n",
        "\n",
        "        if self.aggregate_channels==False:\n",
        "\n",
        "            self.out_features_shape = input_shape[:-1]+(input_shape[-1]+(input_shape[-1]*self.multiheads),)\n",
        "        else:\n",
        "            if self.concat_input_with_scaled:\n",
        "                self.out_features_shape = input_shape[:-1]+(input_shape[-1]*2,)\n",
        "            else:\n",
        "                self.out_features_shape = input_shape\n",
        "\n",
        "\n",
        "        self.kernel_conv3d = self.add_weight(shape=kernel_shape_conv3d,\n",
        "                                        initializer='he_uniform',\n",
        "                                        name='kernel_conv3d')\n",
        "        self.bias_conv3d = self.add_weight(shape=(self.multiheads,),\n",
        "                                      initializer='zeros',\n",
        "                                      name='bias_conv3d')\n",
        "\n",
        "        super(SoftAttention, self).build(input_shape)\n",
        "\n",
        "    def call(self, x):\n",
        "\n",
        "        exp_x = K.expand_dims(x,axis=-1)\n",
        "\n",
        "        c3d = K.conv3d(exp_x,\n",
        "                     kernel=self.kernel_conv3d,\n",
        "                     strides=(1,1,self.i_shape[-1]), padding='same', data_format='channels_last')\n",
        "        conv3d = K.bias_add(c3d,\n",
        "                        self.bias_conv3d)\n",
        "        conv3d = kl.Activation('relu')(conv3d)\n",
        "\n",
        "        conv3d = K.permute_dimensions(conv3d,pattern=(0,4,1,2,3))\n",
        "\n",
        "\n",
        "        conv3d = K.squeeze(conv3d, axis=-1)\n",
        "        conv3d = K.reshape(conv3d,shape=(-1, self.multiheads ,self.i_shape[1]*self.i_shape[2]))\n",
        "\n",
        "        softmax_alpha = K.softmax(conv3d, axis=-1)\n",
        "        softmax_alpha = kl.Reshape(target_shape=(self.multiheads, self.i_shape[1],self.i_shape[2]))(softmax_alpha)\n",
        "\n",
        "\n",
        "        if self.aggregate_channels==False:\n",
        "            exp_softmax_alpha = K.expand_dims(softmax_alpha, axis=-1)\n",
        "            exp_softmax_alpha = K.permute_dimensions(exp_softmax_alpha,pattern=(0,2,3,1,4))\n",
        "\n",
        "            x_exp = K.expand_dims(x,axis=-2)\n",
        "\n",
        "            u = kl.Multiply()([exp_softmax_alpha, x_exp])\n",
        "\n",
        "            u = kl.Reshape(target_shape=(self.i_shape[1],self.i_shape[2],u.shape[-1]*u.shape[-2]))(u)\n",
        "\n",
        "        else:\n",
        "            exp_softmax_alpha = K.permute_dimensions(softmax_alpha,pattern=(0,2,3,1))\n",
        "\n",
        "            exp_softmax_alpha = K.sum(exp_softmax_alpha,axis=-1)\n",
        "\n",
        "            exp_softmax_alpha = K.expand_dims(exp_softmax_alpha, axis=-1)\n",
        "\n",
        "            u = kl.Multiply()([exp_softmax_alpha, x])\n",
        "\n",
        "        if self.concat_input_with_scaled:\n",
        "            o = kl.Concatenate(axis=-1)([u,x])\n",
        "        else:\n",
        "            o = u\n",
        "\n",
        "        return [o, softmax_alpha]\n",
        "\n",
        "    def compute_output_shape(self, input_shape):\n",
        "        return [self.out_features_shape, self.out_attention_maps_shape]\n",
        "\n",
        "\n",
        "    def get_config(self):\n",
        "        return super(SoftAttention,self).get_config()\n"
      ]
    },
    {
      "cell_type": "code",
      "execution_count": null,
      "metadata": {
        "colab": {
          "base_uri": "https://localhost:8080/"
        },
        "id": "VkPTxFL4BWBx",
        "outputId": "0317c067-1bbb-4974-c75f-0bdce81c0fa7"
      },
      "outputs": [
        {
          "name": "stdout",
          "output_type": "stream",
          "text": [
            "7\n"
          ]
        }
      ],
      "source": [
        "# Add convolutional layers with Channel Attention\n",
        "conv = Conv2D(filters=128, kernel_size=(7, 7), activation=\"relu\", padding=\"same\", kernel_initializer='he_normal')(reshape)\n",
        "conv = BatchNormalization()(conv)\n",
        "conv = Conv2D(filters=128, kernel_size=(5, 5), activation=\"relu\", padding=\"same\", kernel_initializer='he_normal')(conv)\n",
        "conv = BatchNormalization()(conv)\n",
        "conv = Conv2D(filters=128, kernel_size=(3, 3), activation=\"relu\", padding=\"same\", kernel_initializer='he_normal')(conv)\n",
        "conv = BatchNormalization()(conv)\n",
        "conv = Conv2D(filters=128, kernel_size=(1, 1), activation=\"relu\", padding=\"same\", kernel_initializer='he_normal')(conv)\n",
        "conv = BatchNormalization()(conv)\n",
        "attention_layer,map2 = SoftAttention(aggregate=True,m=16,concat_with_x=False,ch=int(conv.shape[-1]),name='soft_attention')(conv)\n",
        "attention_layer=(MaxPooling2D(pool_size=(2, 2),padding=\"same\")(attention_layer))\n",
        "conv=(MaxPooling2D(pool_size=(2, 2),padding=\"same\")(conv))\n",
        "\n",
        "conv = concatenate([conv,attention_layer])\n",
        "conv  = Activation('relu')(conv)\n",
        "conv = Dropout(0.5)(conv)\n",
        "conv = Conv2D(filters=256,kernel_size=(7,7), activation=\"relu\",padding=\"same\",kernel_initializer='he_normal')(conv)\n",
        "conv = BatchNormalization()(conv)\n",
        "conv = Conv2D(filters=256,kernel_size=(5,5), activation=\"relu\",padding=\"same\",kernel_initializer='he_normal')(conv)\n",
        "conv = BatchNormalization()(conv)\n",
        "conv = Conv2D(filters=256,kernel_size=(3,3), activation=\"relu\",padding=\"same\",kernel_initializer='he_normal')(conv)\n",
        "conv = BatchNormalization()(conv)\n",
        "conv = Conv2D(filters=256,kernel_size=(1,1), activation=\"relu\",padding=\"same\",kernel_initializer='he_normal')(conv)\n",
        "conv = BatchNormalization()(conv)\n",
        "attention_layer,map2 = SoftAttention(aggregate=True,m=16,concat_with_x=False,ch=int(conv.shape[-1]),name='soft_attention_2')(conv)\n",
        "attention_layer=(MaxPooling2D(pool_size=(2, 2),padding=\"same\")(attention_layer))\n",
        "conv=(MaxPooling2D(pool_size=(2, 2),padding=\"same\")(conv))\n",
        "\n",
        "conv = concatenate([conv,attention_layer])\n",
        "conv  = Activation('relu')(conv)\n",
        "conv = Dropout(0.5)(conv)\n",
        "num_classes = test_batches.num_classes\n",
        "print(num_classes)\n",
        "conv=(Flatten()(conv))\n",
        "conv=(Dense(1024,activation=\"relu\")(conv))\n",
        "conv = Dropout(0.5)(conv)\n",
        "conv=(Dense(512,activation=\"relu\")(conv))\n",
        "conv = Dropout(0.25)(conv)\n",
        "conv=(Dense(num_classes, activation=\"softmax\")(conv))\n",
        "\n",
        "model_dn121_sa = Model(inputs=MainInput, outputs=conv)"
      ]
    },
    {
      "cell_type": "code",
      "execution_count": null,
      "metadata": {
        "id": "FRwDW5HyBWBx"
      },
      "outputs": [],
      "source": [
        "from tensorflow.keras import models\n",
        "model_dn121_sa.load_weights(\"/content/IGPA(DN_MN_VGG_X)/DN/DN121/DN121_SA.hdf5\")"
      ]
    },
    {
      "cell_type": "code",
      "execution_count": null,
      "metadata": {
        "colab": {
          "base_uri": "https://localhost:8080/"
        },
        "id": "kTeah_QNBWBy",
        "outputId": "f719236c-633d-4f74-a4f7-3df98713fdc4"
      },
      "outputs": [
        {
          "name": "stdout",
          "output_type": "stream",
          "text": [
            "52/52 [==============================] - 20s 295ms/step\n"
          ]
        }
      ],
      "source": [
        "predictions_dn121_sa = model_dn121_sa.predict(test_batches)"
      ]
    },
    {
      "cell_type": "code",
      "execution_count": null,
      "metadata": {
        "id": "EuRpYyBuBWBz"
      },
      "outputs": [],
      "source": [
        "#geting predictions on test dataset\n",
        "y_pred = np.argmax(predictions_dn121_sa, axis=1)\n",
        "#getting the true labels per image\n",
        "y_true = test_batches.classes\n",
        "#getting the predicted labels per image\n",
        "y_prob = predictions_dn121_sa"
      ]
    },
    {
      "cell_type": "code",
      "execution_count": null,
      "metadata": {
        "colab": {
          "base_uri": "https://localhost:8080/"
        },
        "id": "UKObaYXjBWBz",
        "outputId": "708884d3-06e3-4095-aa9c-e412425b6e53"
      },
      "outputs": [
        {
          "name": "stdout",
          "output_type": "stream",
          "text": [
            "\n",
            "Classification Report:\n",
            "              precision    recall  f1-score   support\n",
            "\n",
            "          AK       0.87      0.59      0.70        22\n",
            "         BCC       0.85      0.81      0.83        27\n",
            "         BKL       0.73      0.77      0.75        66\n",
            "          DF       1.00      0.67      0.80         6\n",
            "         MEL       0.61      0.49      0.54        35\n",
            "          NV       0.96      0.98      0.97       663\n",
            "        VASC       0.89      0.89      0.89         9\n",
            "\n",
            "    accuracy                           0.92       828\n",
            "   macro avg       0.84      0.74      0.78       828\n",
            "weighted avg       0.92      0.92      0.92       828\n",
            "\n"
          ]
        }
      ],
      "source": [
        "classnames = ['AK', 'BCC', 'BKL', 'DF', 'MEL', 'NV', 'VASC']\n",
        "\n",
        "from tensorflow.keras.utils import to_categorical\n",
        "y_test = to_categorical(y_true)\n",
        "\n",
        "report = classification_report(y_true, y_pred, target_names=classnames)\n",
        "\n",
        "print(\"\\nClassification Report:\")\n",
        "print(report)"
      ]
    },
    {
      "cell_type": "code",
      "execution_count": null,
      "metadata": {
        "colab": {
          "base_uri": "https://localhost:8080/"
        },
        "id": "rPcbs0pXBWBz",
        "outputId": "209b3b65-a874-40db-9364-112af4084af1"
      },
      "outputs": [
        {
          "name": "stderr",
          "output_type": "stream",
          "text": [
            "WARNING:matplotlib.font_manager:findfont: Font family 'Times New Roman' not found.\n",
            "WARNING:matplotlib.font_manager:findfont: Font family 'Times New Roman' not found.\n",
            "WARNING:matplotlib.font_manager:findfont: Font family 'Times New Roman' not found.\n",
            "WARNING:matplotlib.font_manager:findfont: Font family 'Times New Roman' not found.\n",
            "WARNING:matplotlib.font_manager:findfont: Font family 'Times New Roman' not found.\n",
            "WARNING:matplotlib.font_manager:findfont: Font family 'Times New Roman' not found.\n",
            "WARNING:matplotlib.font_manager:findfont: Font family 'Times New Roman' not found.\n",
            "WARNING:matplotlib.font_manager:findfont: Font family 'Times New Roman' not found.\n",
            "WARNING:matplotlib.font_manager:findfont: Font family 'Times New Roman' not found.\n",
            "WARNING:matplotlib.font_manager:findfont: Font family 'Times New Roman' not found.\n",
            "WARNING:matplotlib.font_manager:findfont: Font family 'Times New Roman' not found.\n",
            "WARNING:matplotlib.font_manager:findfont: Font family 'Times New Roman' not found.\n",
            "WARNING:matplotlib.font_manager:findfont: Font family 'Times New Roman' not found.\n"
          ]
        },
        {
          "data": {
            "image/png": "[encoded data removed]",
            "text/plain": [
              "<Figure size 1000x400 with 2 Axes>"
            ]
          },
          "metadata": {},
          "output_type": "display_data"
        }
      ],
      "source": [
        "## Confusion Matrix\n",
        "title_font = {'fontname':'Times New Roman', 'size':'14', 'color':'black', 'weight':'normal'}\n",
        "label_font = {'fontname':'Times New Roman', 'size':'12', 'color':'black', 'weight':'normal'}\n",
        "\n",
        "from sklearn.metrics import confusion_matrix\n",
        "import seaborn as sns\n",
        "# Creating confusion matrix\n",
        "cm = confusion_matrix(y_true, y_pred)\n",
        "# Plotting the confusion matrix\n",
        "plt.figure(figsize=(10,4))\n",
        "sns.heatmap(cm, annot=True, fmt='g', cmap='Blues', xticklabels=targetnames, yticklabels=targetnames)\n",
        "plt.xlabel('Predicted Label', fontdict=label_font)\n",
        "plt.ylabel('True Label', fontdict=label_font)\n",
        "plt.title('Confusion Matrix', fontdict=title_font)\n",
        "plt.show()"
      ]
    },
    {
      "cell_type": "code",
      "execution_count": null,
      "metadata": {
        "colab": {
          "base_uri": "https://localhost:8080/"
        },
        "id": "DqubHwBwBWB0",
        "outputId": "fdbeec0d-26dc-4822-b0de-67d22ebaac6c"
      },
      "outputs": [
        {
          "name": "stdout",
          "output_type": "stream",
          "text": [
            "Accuracy: 0.9202898550724637\n"
          ]
        }
      ],
      "source": [
        "### Accuracy\n",
        "print(\"Accuracy: \" + str(accuracy_score(y_true, y_pred)))\n"
      ]
    },
    {
      "cell_type": "code",
      "execution_count": null,
      "metadata": {
        "colab": {
          "base_uri": "https://localhost:8080/"
        },
        "id": "CwVfuFOtBWB0",
        "outputId": "be21a350-24cb-4f61-c2c2-ff4e5c3f7dc4"
      },
      "outputs": [
        {
          "name": "stdout",
          "output_type": "stream",
          "text": [
            "Top-1 Accuracy: 0.9202898550724637\n",
            "Top-2 Accuracy: 0.9734299516908212\n",
            "Top-3 Accuracy: 0.9891304347826086\n"
          ]
        }
      ],
      "source": [
        "import numpy as np\n",
        "from sklearn.metrics import accuracy_score\n",
        "\n",
        "# Calculate top-1 accuracy\n",
        "top1_acc = accuracy_score(y_true, y_pred)\n",
        "print(\"Top-1 Accuracy:\", top1_acc)\n",
        "\n",
        "# Calculate top-2 accuracy\n",
        "y_pred_top2 = np.argsort(-predictions_dn121_sa, axis=1)[:, :2] # Get the top 2 predicted classes\n",
        "top2_acc = np.mean(np.array([y_true[i] in y_pred_top2[i] for i in range(len(y_true))]))\n",
        "print(\"Top-2 Accuracy:\", top2_acc)\n",
        "\n",
        "# Calculate top-3 accuracy\n",
        "y_pred_top3 = np.argsort(-predictions_dn121_sa, axis=1)[:, :3] # Get the top 3 predicted classes\n",
        "top3_acc = np.mean(np.array([y_true[i] in y_pred_top3[i] for i in range(len(y_true))]))\n",
        "print(\"Top-3 Accuracy:\", top3_acc)\n",
        "from sklearn.metrics import f1_score\n"
      ]
    },
    {
      "cell_type": "code",
      "execution_count": null,
      "metadata": {
        "colab": {
          "base_uri": "https://localhost:8080/"
        },
        "id": "hhXokxUcBWB1",
        "outputId": "4164570d-1fe5-420e-8516-caf3f82c91f6"
      },
      "outputs": [
        {
          "name": "stdout",
          "output_type": "stream",
          "text": [
            "Weighted Precision: 0.9176403709012404\n",
            "Weighted Recall (sensitivity): 0.9202898550724637\n",
            "Weighted F1-Score: 0.9176109774032761\n",
            "Weighted Specificity: 0.8564506628388371\n",
            "weighted Roc score: 0.9745910790430959\n"
          ]
        }
      ],
      "source": [
        "### Weighted Evaluation Measures\n",
        "print(\"Weighted Precision: \"+ str(precision_score(y_true, y_pred, average='weighted')))\n",
        "print(\"Weighted Recall (sensitivity): \"+ str(recall_score(y_true, y_pred, average='weighted')))\n",
        "print(\"Weighted F1-Score: \"+ str(f1_score(y_true, y_pred, average='weighted')))\n",
        "print(\"Weighted Specificity: \"+ str(specificity_score(y_true, y_pred, average='weighted')))\n",
        "print(\"weighted Roc score: \" + str(roc_auc_score(y_true,y_prob,multi_class='ovr',average='weighted')))"
      ]
    },
    {
      "cell_type": "markdown",
      "metadata": {
        "id": "LfllRd8SBWB7"
      },
      "source": [
        "### MV"
      ]
    },
    {
      "cell_type": "code",
      "execution_count": null,
      "metadata": {
        "id": "QJiGKu1PBWB7"
      },
      "outputs": [],
      "source": [
        "# Take the majority vote of the predictions for each image\n",
        "MV_predictions_dn121 = predictions_ccnn + predictions_cacnn + predictions_sacnn + predictions_seacnn\n",
        "\n",
        "# Take the argmax of the outputs to get the predicted classes\n",
        "MV_predictions_dn121_f = np.argmax(MV_predictions_dn121, axis=1)"
      ]
    },
    {
      "cell_type": "code",
      "execution_count": null,
      "metadata": {
        "colab": {
          "base_uri": "https://localhost:8080/"
        },
        "id": "RJH_OLoJBWB8",
        "outputId": "32d5265b-d5db-44e7-e731-9924c216672f"
      },
      "outputs": [
        {
          "name": "stdout",
          "output_type": "stream",
          "text": [
            "Accuracy: 0.927536231884058\n"
          ]
        }
      ],
      "source": [
        "y_pred = MV_predictions_dn121_f\n",
        "y_true = test_batches.classes\n",
        "\n",
        "# Evaluate the accuracy of the majority vote predictions on the test data\n",
        "accuracy = np.mean(y_pred == y_true)\n",
        "print(\"Accuracy:\", accuracy)"
      ]
    },
    {
      "cell_type": "code",
      "execution_count": null,
      "metadata": {
        "colab": {
          "base_uri": "https://localhost:8080/"
        },
        "id": "w8YAelJflgLM",
        "outputId": "94a67680-e6af-44a1-cbdf-4ace9c310d7f"
      },
      "outputs": [
        {
          "name": "stdout",
          "output_type": "stream",
          "text": [
            "Weighted Precision: 0.9242075345836281\n",
            "Weighted Recall (sensitivity): 0.927536231884058\n",
            "Weighted F1-Score: 0.9227369874573825\n",
            "Weighted Specificity: 0.8424904971156658\n",
            "weighted Roc score: 0.9745910790430959\n"
          ]
        }
      ],
      "source": [
        "### Weighted Evaluation Measures\n",
        "print(\"Weighted Precision: \"+ str(precision_score(y_true, y_pred, average='weighted')))\n",
        "print(\"Weighted Recall (sensitivity): \"+ str(recall_score(y_true, y_pred, average='weighted')))\n",
        "print(\"Weighted F1-Score: \"+ str(f1_score(y_true, y_pred, average='weighted')))\n",
        "print(\"Weighted Specificity: \"+ str(specificity_score(y_true, y_pred, average='weighted')))\n",
        "print(\"weighted Roc score: \" + str(roc_auc_score(y_true,y_prob,multi_class='ovr',average='weighted')))"
      ]
    },
    {
      "cell_type": "code",
      "execution_count": null,
      "metadata": {
        "colab": {
          "base_uri": "https://localhost:8080/"
        },
        "id": "NRWtWvRXBWB8",
        "outputId": "c9eb3743-d508-4899-80d0-f1fd019ecafb"
      },
      "outputs": [
        {
          "name": "stderr",
          "output_type": "stream",
          "text": [
            "WARNING:matplotlib.font_manager:findfont: Font family 'Times New Roman' not found.\n",
            "WARNING:matplotlib.font_manager:findfont: Font family 'Times New Roman' not found.\n",
            "WARNING:matplotlib.font_manager:findfont: Font family 'Times New Roman' not found.\n",
            "WARNING:matplotlib.font_manager:findfont: Font family 'Times New Roman' not found.\n",
            "WARNING:matplotlib.font_manager:findfont: Font family 'Times New Roman' not found.\n",
            "WARNING:matplotlib.font_manager:findfont: Font family 'Times New Roman' not found.\n",
            "WARNING:matplotlib.font_manager:findfont: Font family 'Times New Roman' not found.\n",
            "WARNING:matplotlib.font_manager:findfont: Font family 'Times New Roman' not found.\n",
            "WARNING:matplotlib.font_manager:findfont: Font family 'Times New Roman' not found.\n",
            "WARNING:matplotlib.font_manager:findfont: Font family 'Times New Roman' not found.\n",
            "WARNING:matplotlib.font_manager:findfont: Font family 'Times New Roman' not found.\n",
            "WARNING:matplotlib.font_manager:findfont: Font family 'Times New Roman' not found.\n",
            "WARNING:matplotlib.font_manager:findfont: Font family 'Times New Roman' not found.\n"
          ]
        },
        {
          "data": {
            "image/png": "[encoded data removed]",
            "text/plain": [
              "<Figure size 1000x400 with 2 Axes>"
            ]
          },
          "metadata": {},
          "output_type": "display_data"
        }
      ],
      "source": [
        "## Confusion Matrix\n",
        "title_font = {'fontname':'Times New Roman', 'size':'14', 'color':'black', 'weight':'normal'}\n",
        "label_font = {'fontname':'Times New Roman', 'size':'12', 'color':'black', 'weight':'normal'}\n",
        "\n",
        "from sklearn.metrics import confusion_matrix\n",
        "import seaborn as sns\n",
        "# Creating confusion matrix\n",
        "cm = confusion_matrix(y_true, y_pred)\n",
        "# Plotting the confusion matrix\n",
        "plt.figure(figsize=(10,4))\n",
        "sns.heatmap(cm, annot=True, fmt='g', cmap='Blues', xticklabels=targetnames, yticklabels=targetnames)\n",
        "plt.xlabel('Predicted Label', fontdict=label_font)\n",
        "plt.ylabel('True Label', fontdict=label_font)\n",
        "plt.title('Confusion Matrix', fontdict=title_font)\n",
        "plt.show()"
      ]
    },
    {
      "cell_type": "code",
      "execution_count": null,
      "metadata": {
        "colab": {
          "base_uri": "https://localhost:8080/"
        },
        "id": "rGzuF8c1BWB-",
        "outputId": "c9d56b6e-c93f-4265-8429-3a76fa6f6bfe"
      },
      "outputs": [
        {
          "name": "stdout",
          "output_type": "stream",
          "text": [
            "Overall accuracy: 92.75%\n",
            "Accuracy for each class:\n",
            "Class 0: 50.00%\n",
            "Class 1: 74.07%\n",
            "Class 2: 74.24%\n",
            "Class 3: 83.33%\n",
            "Class 4: 51.43%\n",
            "Class 5: 98.94%\n",
            "Class 6: 100.00%\n"
          ]
        }
      ],
      "source": [
        "### Individual Class Accuracy\n",
        "# y_true are the true labels of the test set\n",
        "# y_pred are the predicted labels of the test set\n",
        "accuracy = accuracy_score(y_true, y_pred)\n",
        "# Calculate accuracy for each class\n",
        "class_accuracy = cm.diagonal()/cm.sum(axis=1)\n",
        "print(\"Overall accuracy: {:.2f}%\".format(accuracy*100))\n",
        "print(\"Accuracy for each class:\")\n",
        "for i, acc in enumerate(class_accuracy):\n",
        "    print(\"Class {}: {:.2f}%\".format(i, acc*100))"
      ]
    },
    {
      "cell_type": "code",
      "execution_count": null,
      "metadata": {
        "id": "VdMhwJcgBWB_"
      },
      "outputs": [],
      "source": []
    },
    {
      "cell_type": "markdown",
      "metadata": {
        "id": "e2nsJIKFTQLk"
      },
      "source": [
        "## DN169"
      ]
    },
    {
      "cell_type": "markdown",
      "metadata": {
        "id": "-dUGXCCiR5Ps"
      },
      "source": [
        "### Data Generation"
      ]
    },
    {
      "cell_type": "code",
      "execution_count": null,
      "metadata": {
        "id": "S0zwE58sTQLs"
      },
      "outputs": [],
      "source": [
        "datagen = ImageDataGenerator(preprocessing_function=tf.keras.applications.densenet.preprocess_input)"
      ]
    },
    {
      "cell_type": "code",
      "execution_count": null,
      "metadata": {
        "colab": {
          "base_uri": "https://localhost:8080/"
        },
        "id": "u6BbmRKZTQLs",
        "outputId": "b8814b58-6bbe-42ba-a58c-605a089f5361"
      },
      "outputs": [
        {
          "name": "stdout",
          "output_type": "stream",
          "text": [
            "\n",
            "Train Batches: \n",
            "Found 54782 images belonging to 7 classes.\n",
            "\n",
            "Test Batches: \n",
            "Found 828 images belonging to 7 classes.\n",
            "\n",
            "Val Batches: \n",
            "Found 827 images belonging to 7 classes.\n"
          ]
        }
      ],
      "source": [
        "print(\"\\nTrain Batches: \")\n",
        "train_batches = datagen.flow_from_directory(directory=train_path,\n",
        "                                            target_size=(image_size,image_size),\n",
        "                                            batch_size=batch_size,\n",
        "                                            shuffle=True)\n",
        "\n",
        "print(\"\\nTest Batches: \")\n",
        "test_batches = datagen.flow_from_directory(test_path,\n",
        "                                          target_size=(image_size,image_size),\n",
        "                                          batch_size=batch_size,\n",
        "                                          shuffle=False)\n",
        "print(\"\\nVal Batches: \")\n",
        "val_batches = datagen.flow_from_directory(val_path,\n",
        "                                         target_size=(image_size,image_size),\n",
        "                                         batch_size=batch_size,\n",
        "                                         shuffle=False)"
      ]
    },
    {
      "cell_type": "markdown",
      "metadata": {
        "id": "CWUzCUq9TQLs"
      },
      "source": [
        "### Import model"
      ]
    },
    {
      "cell_type": "code",
      "execution_count": null,
      "metadata": {
        "colab": {
          "base_uri": "https://localhost:8080/"
        },
        "id": "Qq5lIPwOTQLs",
        "outputId": "add0f856-414b-4319-e6f9-b05be65c700c"
      },
      "outputs": [
        {
          "name": "stdout",
          "output_type": "stream",
          "text": [
            "Downloading data from https://storage.googleapis.com/tensorflow/keras-applications/densenet/densenet169_weights_tf_dim_ordering_tf_kernels_notop.h5\n",
            "51877672/51877672 [==============================] - 1s 0us/step\n"
          ]
        }
      ],
      "source": [
        "from tensorflow.keras.applications.densenet import DenseNet169\n",
        "\n",
        "DN169 = DenseNet169(weights='imagenet', include_top=False, input_shape=(image_size, image_size, 3), pooling='avg')"
      ]
    },
    {
      "cell_type": "code",
      "execution_count": null,
      "metadata": {
        "id": "mOSu793zTQLt"
      },
      "outputs": [],
      "source": [
        "# Fine tuning\n",
        "MainInput=Input(shape=(image_size, image_size, 3))\n",
        "dn169 = DN169(MainInput)\n",
        "# Reshape the tensor to have 4 dimensions\n",
        "from tensorflow.keras.layers import Reshape\n",
        "reshape = Reshape((8, 8, 26))(dn169)"
      ]
    },
    {
      "cell_type": "markdown",
      "metadata": {
        "id": "jpVV9NIJTQLt"
      },
      "source": [
        "### DN169_ccnn"
      ]
    },
    {
      "cell_type": "code",
      "execution_count": null,
      "metadata": {
        "colab": {
          "base_uri": "https://localhost:8080/"
        },
        "id": "4mWVx2t1TQLt",
        "outputId": "39fb2271-9b04-4f49-9fce-68499727a8d5"
      },
      "outputs": [
        {
          "name": "stdout",
          "output_type": "stream",
          "text": [
            "7\n"
          ]
        }
      ],
      "source": [
        "conv=(Conv2D(filters=128,kernel_size=(7,7), activation=\"relu\",padding=\"same\",kernel_initializer='he_normal')(reshape))\n",
        "conv=(BatchNormalization()(conv))\n",
        "conv=(Conv2D(filters=128,kernel_size=(5,5), activation=\"relu\",padding=\"same\",kernel_initializer='he_normal')(conv))\n",
        "conv=(BatchNormalization()(conv))\n",
        "conv=(Conv2D(filters=128,kernel_size=(3,3), activation=\"relu\",padding=\"same\",kernel_initializer='he_normal')(conv))\n",
        "conv=(BatchNormalization()(conv))\n",
        "conv=(Conv2D(filters=128,kernel_size=(1,1), activation=\"relu\",padding=\"same\",kernel_initializer='he_normal')(conv))\n",
        "conv=(BatchNormalization()(conv))\n",
        "conv=(MaxPooling2D(strides=(2, 2),padding=\"same\")(conv))\n",
        "conv=(Conv2D(filters=256,kernel_size=(7,7), activation=\"relu\",padding=\"same\",kernel_initializer='he_normal')(conv))\n",
        "conv=(BatchNormalization()(conv))\n",
        "conv=(Conv2D(filters=256,kernel_size=(5,5), activation=\"relu\",padding=\"same\",kernel_initializer='he_normal')(conv))\n",
        "conv=(BatchNormalization()(conv))\n",
        "conv=(Conv2D(filters=256,kernel_size=(3,3), activation=\"relu\",padding=\"same\",kernel_initializer='he_normal')(conv))\n",
        "conv=(BatchNormalization()(conv))\n",
        "conv=(Conv2D(filters=256,kernel_size=(1,1), activation=\"relu\",padding=\"same\",kernel_initializer='he_normal')(conv))\n",
        "conv=(BatchNormalization()(conv))\n",
        "conv=(MaxPooling2D(pool_size=(2, 2),padding=\"same\")(conv))\n",
        "num_classes = test_batches.num_classes\n",
        "print(num_classes)\n",
        "conv=(Flatten()(conv))\n",
        "conv=(Dense(1024,activation=\"relu\")(conv))\n",
        "conv=(Dense(512,activation=\"relu\")(conv))\n",
        "conv=(Dense(num_classes, activation=\"softmax\")(conv))\n",
        "\n",
        "model_dn169 = Model(inputs=MainInput, outputs=conv)"
      ]
    },
    {
      "cell_type": "code",
      "execution_count": null,
      "metadata": {
        "id": "gxG1jT_6TQLt"
      },
      "outputs": [],
      "source": [
        "from tensorflow.keras import models\n",
        "model_dn169.load_weights(\"/content/IGPA(DN_MN_VGG_X)/DN/DN169/DN169.hdf5\")"
      ]
    },
    {
      "cell_type": "code",
      "execution_count": null,
      "metadata": {
        "colab": {
          "base_uri": "https://localhost:8080/"
        },
        "id": "1bQDfxU_TQLt",
        "outputId": "e4089cbd-43aa-4a76-d350-ecde71bc21a8"
      },
      "outputs": [
        {
          "name": "stdout",
          "output_type": "stream",
          "text": [
            "52/52 [==============================] - 25s 306ms/step\n"
          ]
        }
      ],
      "source": [
        "predictions_dn169 = model_dn169.predict(test_batches)"
      ]
    },
    {
      "cell_type": "code",
      "execution_count": null,
      "metadata": {
        "id": "Fay89tsITQLt"
      },
      "outputs": [],
      "source": [
        "#geting predictions on test dataset\n",
        "y_pred = np.argmax(predictions_dn169, axis=1)\n",
        "#getting the true labels per image\n",
        "y_true = test_batches.classes\n",
        "#getting the predicted labels per image\n",
        "y_prob = predictions_dn169"
      ]
    },
    {
      "cell_type": "code",
      "execution_count": null,
      "metadata": {
        "colab": {
          "base_uri": "https://localhost:8080/"
        },
        "id": "YMzmloDzTQLu",
        "outputId": "626a52b3-94fa-49ee-b5c4-11e67817193a"
      },
      "outputs": [
        {
          "name": "stdout",
          "output_type": "stream",
          "text": [
            "\n",
            "Classification Report:\n",
            "              precision    recall  f1-score   support\n",
            "\n",
            "          AK       0.70      0.64      0.67        22\n",
            "         BCC       0.71      0.81      0.76        27\n",
            "         BKL       0.88      0.64      0.74        66\n",
            "          DF       1.00      0.50      0.67         6\n",
            "         MEL       0.69      0.63      0.66        35\n",
            "          NV       0.96      0.99      0.97       663\n",
            "        VASC       1.00      1.00      1.00         9\n",
            "\n",
            "    accuracy                           0.93       828\n",
            "   macro avg       0.85      0.74      0.78       828\n",
            "weighted avg       0.93      0.93      0.92       828\n",
            "\n"
          ]
        }
      ],
      "source": [
        "classnames = ['AK', 'BCC', 'BKL', 'DF', 'MEL', 'NV', 'VASC']\n",
        "\n",
        "from tensorflow.keras.utils import to_categorical\n",
        "y_test = to_categorical(y_true)\n",
        "\n",
        "report = classification_report(y_true, y_pred, target_names=classnames)\n",
        "\n",
        "print(\"\\nClassification Report:\")\n",
        "print(report)"
      ]
    },
    {
      "cell_type": "code",
      "execution_count": null,
      "metadata": {
        "colab": {
          "base_uri": "https://localhost:8080/"
        },
        "id": "IS4eUTlwTQLu",
        "outputId": "8808a29d-21c7-47fc-f920-6f5b2888f1a1"
      },
      "outputs": [
        {
          "name": "stderr",
          "output_type": "stream",
          "text": [
            "WARNING:matplotlib.font_manager:findfont: Font family 'Times New Roman' not found.\n",
            "WARNING:matplotlib.font_manager:findfont: Font family 'Times New Roman' not found.\n",
            "WARNING:matplotlib.font_manager:findfont: Font family 'Times New Roman' not found.\n",
            "WARNING:matplotlib.font_manager:findfont: Font family 'Times New Roman' not found.\n",
            "WARNING:matplotlib.font_manager:findfont: Font family 'Times New Roman' not found.\n",
            "WARNING:matplotlib.font_manager:findfont: Font family 'Times New Roman' not found.\n",
            "WARNING:matplotlib.font_manager:findfont: Font family 'Times New Roman' not found.\n",
            "WARNING:matplotlib.font_manager:findfont: Font family 'Times New Roman' not found.\n",
            "WARNING:matplotlib.font_manager:findfont: Font family 'Times New Roman' not found.\n",
            "WARNING:matplotlib.font_manager:findfont: Font family 'Times New Roman' not found.\n",
            "WARNING:matplotlib.font_manager:findfont: Font family 'Times New Roman' not found.\n",
            "WARNING:matplotlib.font_manager:findfont: Font family 'Times New Roman' not found.\n",
            "WARNING:matplotlib.font_manager:findfont: Font family 'Times New Roman' not found.\n"
          ]
        },
        {
          "data": {
            "image/png": "[encoded data removed]",
            "text/plain": [
              "<Figure size 1000x400 with 2 Axes>"
            ]
          },
          "metadata": {},
          "output_type": "display_data"
        }
      ],
      "source": [
        "## Confusion Matrix\n",
        "title_font = {'fontname':'Times New Roman', 'size':'14', 'color':'black', 'weight':'normal'}\n",
        "label_font = {'fontname':'Times New Roman', 'size':'12', 'color':'black', 'weight':'normal'}\n",
        "\n",
        "from sklearn.metrics import confusion_matrix\n",
        "import seaborn as sns\n",
        "# Creating confusion matrix\n",
        "cm = confusion_matrix(y_true, y_pred)\n",
        "# Plotting the confusion matrix\n",
        "plt.figure(figsize=(10,4))\n",
        "sns.heatmap(cm, annot=True, fmt='g', cmap='Blues', xticklabels=targetnames, yticklabels=targetnames)\n",
        "plt.xlabel('Predicted Label', fontdict=label_font)\n",
        "plt.ylabel('True Label', fontdict=label_font)\n",
        "plt.title('Confusion Matrix', fontdict=title_font)\n",
        "plt.show()"
      ]
    },
    {
      "cell_type": "code",
      "execution_count": null,
      "metadata": {
        "colab": {
          "base_uri": "https://localhost:8080/"
        },
        "id": "u_WykbZwTQLu",
        "outputId": "bcd2fb22-cb4d-497f-afc4-9f8c23b11500"
      },
      "outputs": [
        {
          "name": "stdout",
          "output_type": "stream",
          "text": [
            "Accuracy: 0.927536231884058\n"
          ]
        }
      ],
      "source": [
        "### Accuracy\n",
        "print(\"Accuracy: \" + str(accuracy_score(y_true, y_pred)))\n"
      ]
    },
    {
      "cell_type": "code",
      "execution_count": null,
      "metadata": {
        "colab": {
          "base_uri": "https://localhost:8080/"
        },
        "id": "Xy_AOlqFTQLu",
        "outputId": "4beb5c1f-1836-4c74-d7f3-c68156594f11"
      },
      "outputs": [
        {
          "name": "stdout",
          "output_type": "stream",
          "text": [
            "Top-1 Accuracy: 0.927536231884058\n",
            "Top-2 Accuracy: 0.9734299516908212\n",
            "Top-3 Accuracy: 0.9891304347826086\n"
          ]
        }
      ],
      "source": [
        "import numpy as np\n",
        "from sklearn.metrics import accuracy_score\n",
        "\n",
        "# Calculate top-1 accuracy\n",
        "top1_acc = accuracy_score(y_true, y_pred)\n",
        "print(\"Top-1 Accuracy:\", top1_acc)\n",
        "\n",
        "# Calculate top-2 accuracy\n",
        "y_pred_top2 = np.argsort(-predictions_dn169, axis=1)[:, :2] # Get the top 2 predicted classes\n",
        "top2_acc = np.mean(np.array([y_true[i] in y_pred_top2[i] for i in range(len(y_true))]))\n",
        "print(\"Top-2 Accuracy:\", top2_acc)\n",
        "\n",
        "# Calculate top-3 accuracy\n",
        "y_pred_top3 = np.argsort(-predictions_dn169, axis=1)[:, :3] # Get the top 3 predicted classes\n",
        "top3_acc = np.mean(np.array([y_true[i] in y_pred_top3[i] for i in range(len(y_true))]))\n",
        "print(\"Top-3 Accuracy:\", top3_acc)\n",
        "from sklearn.metrics import f1_score\n"
      ]
    },
    {
      "cell_type": "code",
      "execution_count": null,
      "metadata": {
        "colab": {
          "base_uri": "https://localhost:8080/"
        },
        "id": "3mDUrLVCTQLu",
        "outputId": "2e12e9ee-4337-4a93-b403-9d2f3b3df766"
      },
      "outputs": [
        {
          "name": "stdout",
          "output_type": "stream",
          "text": [
            "Weighted Precision: 0.9254893444249934\n",
            "Weighted Recall (sensitivity): 0.927536231884058\n",
            "Weighted F1-Score: 0.9239853229560198\n",
            "Weighted Specificity: 0.8575417123404708\n",
            "Weighted Roc score: 0.983281385717913\n"
          ]
        }
      ],
      "source": [
        "### Weighted Evaluation Measures\n",
        "print(\"Weighted Precision: \"+ str(precision_score(y_true, y_pred, average='weighted')))\n",
        "print(\"Weighted Recall (sensitivity): \"+ str(recall_score(y_true, y_pred, average='weighted')))\n",
        "print(\"Weighted F1-Score: \"+ str(f1_score(y_true, y_pred, average='weighted')))\n",
        "print(\"Weighted Specificity: \"+ str(specificity_score(y_true, y_pred, average='weighted')))\n",
        "print(\"Weighted Roc score: \" + str(roc_auc_score(y_true,y_prob,multi_class='ovr',average='weighted')))"
      ]
    },
    {
      "cell_type": "markdown",
      "metadata": {
        "id": "twn8Ois8TQLv"
      },
      "source": [
        "### DN169_cacnn"
      ]
    },
    {
      "cell_type": "code",
      "execution_count": null,
      "metadata": {
        "id": "umT9hin6TQLv"
      },
      "outputs": [],
      "source": [
        "# Channel Attention\n",
        "from tensorflow.keras.layers import Layer\n",
        "from tensorflow.keras import backend as K\n",
        "\n",
        "class ChannelAttention(Layer):\n",
        "    def __init__(self, reduction=16):\n",
        "        super(ChannelAttention, self).__init__()\n",
        "        self.reduction = reduction\n",
        "\n",
        "    def build(self, input_shape):\n",
        "        self.channels = input_shape[-1]\n",
        "        self.avg_pool = GlobalAveragePooling2D()\n",
        "        self.max_pool = GlobalMaxPooling2D()\n",
        "\n",
        "        self.shared_layer_one = Dense(units=self.channels // self.reduction, activation='relu', kernel_initializer='he_normal', use_bias=True, bias_initializer='zeros')\n",
        "        self.shared_layer_two = Dense(units=self.channels, activation='sigmoid', kernel_initializer='he_normal', use_bias=True, bias_initializer='zeros')\n",
        "\n",
        "    def call(self, x):\n",
        "        avg_pool = self.avg_pool(x)\n",
        "        max_pool = self.max_pool(x)\n",
        "\n",
        "        avg_pool = Reshape((1, 1, self.channels))(avg_pool)\n",
        "        max_pool = Reshape((1, 1, self.channels))(max_pool)\n",
        "        shared_layer_one = self.shared_layer_one(avg_pool) + self.shared_layer_one(max_pool)\n",
        "        shared_layer_two = self.shared_layer_two(shared_layer_one)\n",
        "        return x * shared_layer_two\n",
        "\n",
        "    def get_config(self):\n",
        "        config = super().get_config().copy()\n",
        "        config.update({\n",
        "            'reduction': self.reduction,\n",
        "        })\n",
        "        return config"
      ]
    },
    {
      "cell_type": "code",
      "execution_count": null,
      "metadata": {
        "colab": {
          "base_uri": "https://localhost:8080/"
        },
        "id": "7PHtf15KTQLv",
        "outputId": "e6e98dc7-5b6a-4f20-a4be-371c22f5b77a"
      },
      "outputs": [
        {
          "name": "stdout",
          "output_type": "stream",
          "text": [
            "7\n"
          ]
        }
      ],
      "source": [
        "conv=(Conv2D(filters=128,kernel_size=(7,7), activation=\"relu\",padding=\"same\",kernel_initializer='he_normal')(reshape))\n",
        "conv=(BatchNormalization()(conv))\n",
        "conv = ChannelAttention()(conv)\n",
        "conv=(Conv2D(filters=128,kernel_size=(5,5), activation=\"relu\",padding=\"same\",kernel_initializer='he_normal')(conv))\n",
        "conv=(BatchNormalization()(conv))\n",
        "conv = ChannelAttention()(conv)\n",
        "conv=(Conv2D(filters=128,kernel_size=(3,3), activation=\"relu\",padding=\"same\",kernel_initializer='he_normal')(conv))\n",
        "conv=(BatchNormalization()(conv))\n",
        "conv = ChannelAttention()(conv)\n",
        "conv=(Conv2D(filters=128,kernel_size=(1,1), activation=\"relu\",padding=\"same\",kernel_initializer='he_normal')(conv))\n",
        "conv=(BatchNormalization()(conv))\n",
        "conv = ChannelAttention()(conv)\n",
        "conv=(MaxPooling2D(strides=(2, 2),padding=\"same\")(conv))\n",
        "conv=(Conv2D(filters=256,kernel_size=(7,7), activation=\"relu\",padding=\"same\",kernel_initializer='he_normal')(conv))\n",
        "conv=(BatchNormalization()(conv))\n",
        "conv = ChannelAttention()(conv)\n",
        "conv=(Conv2D(filters=256,kernel_size=(5,5), activation=\"relu\",padding=\"same\",kernel_initializer='he_normal')(conv))\n",
        "conv=(BatchNormalization()(conv))\n",
        "conv = ChannelAttention()(conv)\n",
        "conv=(Conv2D(filters=256,kernel_size=(3,3), activation=\"relu\",padding=\"same\",kernel_initializer='he_normal')(conv))\n",
        "conv=(BatchNormalization()(conv))\n",
        "conv = ChannelAttention()(conv)\n",
        "conv=(Conv2D(filters=256,kernel_size=(1,1), activation=\"relu\",padding=\"same\",kernel_initializer='he_normal')(conv))\n",
        "conv=(BatchNormalization()(conv))\n",
        "conv = ChannelAttention()(conv)\n",
        "conv=(MaxPooling2D(pool_size=(2, 2),padding=\"same\")(conv))\n",
        "num_classes = test_batches.num_classes\n",
        "print(num_classes)\n",
        "conv=(Flatten()(conv))\n",
        "conv=(Dense(1024,activation=\"relu\")(conv))\n",
        "conv=(Dense(512,activation=\"relu\")(conv))\n",
        "conv=(Dense(num_classes, activation=\"softmax\")(conv))\n",
        "\n",
        "model_dn169_ca = Model(inputs=MainInput, outputs=conv)"
      ]
    },
    {
      "cell_type": "code",
      "execution_count": null,
      "metadata": {
        "id": "J2KjZzjSTQLv"
      },
      "outputs": [],
      "source": [
        "from tensorflow.keras import models\n",
        "model_dn169_ca.load_weights(\"/content/IGPA(DN_MN_VGG_X)/DN/DN169/DN169_CA.hdf5\")"
      ]
    },
    {
      "cell_type": "code",
      "execution_count": null,
      "metadata": {
        "colab": {
          "base_uri": "https://localhost:8080/"
        },
        "id": "Ya4M75bVTQLw",
        "outputId": "bf8dea35-0471-45e3-9649-4cfd6e7b758e"
      },
      "outputs": [
        {
          "name": "stdout",
          "output_type": "stream",
          "text": [
            "52/52 [==============================] - 25s 298ms/step\n"
          ]
        }
      ],
      "source": [
        "predictions_dn169_ca = model_dn169_ca.predict(test_batches)"
      ]
    },
    {
      "cell_type": "code",
      "execution_count": null,
      "metadata": {
        "id": "6ilP-RiFTQLw"
      },
      "outputs": [],
      "source": [
        "#geting predictions on test dataset\n",
        "y_pred = np.argmax(predictions_dn169_ca, axis=1)\n",
        "#getting the true labels per image\n",
        "y_true = test_batches.classes\n",
        "#getting the predicted labels per image\n",
        "y_prob = predictions_dn169_ca"
      ]
    },
    {
      "cell_type": "code",
      "execution_count": null,
      "metadata": {
        "colab": {
          "base_uri": "https://localhost:8080/"
        },
        "id": "FbQpgI2kTQLx",
        "outputId": "1da8452a-6e88-420b-afe2-c2c1c7f6800d"
      },
      "outputs": [
        {
          "name": "stdout",
          "output_type": "stream",
          "text": [
            "\n",
            "Classification Report:\n",
            "              precision    recall  f1-score   support\n",
            "\n",
            "          AK       0.63      0.55      0.59        22\n",
            "         BCC       0.81      0.78      0.79        27\n",
            "         BKL       0.74      0.68      0.71        66\n",
            "          DF       0.83      0.83      0.83         6\n",
            "         MEL       0.74      0.57      0.65        35\n",
            "          NV       0.96      0.98      0.97       663\n",
            "        VASC       1.00      1.00      1.00         9\n",
            "\n",
            "    accuracy                           0.92       828\n",
            "   macro avg       0.82      0.77      0.79       828\n",
            "weighted avg       0.92      0.92      0.92       828\n",
            "\n"
          ]
        }
      ],
      "source": [
        "classnames = ['AK', 'BCC', 'BKL', 'DF', 'MEL', 'NV', 'VASC']\n",
        "\n",
        "from tensorflow.keras.utils import to_categorical\n",
        "y_test = to_categorical(y_true)\n",
        "\n",
        "report = classification_report(y_true, y_pred, target_names=classnames)\n",
        "\n",
        "print(\"\\nClassification Report:\")\n",
        "print(report)"
      ]
    },
    {
      "cell_type": "code",
      "execution_count": null,
      "metadata": {
        "colab": {
          "base_uri": "https://localhost:8080/"
        },
        "id": "R1ZmCjvXTQLx",
        "outputId": "fedb7423-f733-4eea-b9db-261a49f0ab09"
      },
      "outputs": [
        {
          "name": "stderr",
          "output_type": "stream",
          "text": [
            "WARNING:matplotlib.font_manager:findfont: Font family 'Times New Roman' not found.\n",
            "WARNING:matplotlib.font_manager:findfont: Font family 'Times New Roman' not found.\n",
            "WARNING:matplotlib.font_manager:findfont: Font family 'Times New Roman' not found.\n",
            "WARNING:matplotlib.font_manager:findfont: Font family 'Times New Roman' not found.\n",
            "WARNING:matplotlib.font_manager:findfont: Font family 'Times New Roman' not found.\n",
            "WARNING:matplotlib.font_manager:findfont: Font family 'Times New Roman' not found.\n",
            "WARNING:matplotlib.font_manager:findfont: Font family 'Times New Roman' not found.\n",
            "WARNING:matplotlib.font_manager:findfont: Font family 'Times New Roman' not found.\n",
            "WARNING:matplotlib.font_manager:findfont: Font family 'Times New Roman' not found.\n",
            "WARNING:matplotlib.font_manager:findfont: Font family 'Times New Roman' not found.\n",
            "WARNING:matplotlib.font_manager:findfont: Font family 'Times New Roman' not found.\n",
            "WARNING:matplotlib.font_manager:findfont: Font family 'Times New Roman' not found.\n",
            "WARNING:matplotlib.font_manager:findfont: Font family 'Times New Roman' not found.\n"
          ]
        },
        {
          "data": {
            "image/png": "[encoded data removed]",
            "text/plain": [
              "<Figure size 1000x400 with 2 Axes>"
            ]
          },
          "metadata": {},
          "output_type": "display_data"
        }
      ],
      "source": [
        "## Confusion Matrix\n",
        "title_font = {'fontname':'Times New Roman', 'size':'14', 'color':'black', 'weight':'normal'}\n",
        "label_font = {'fontname':'Times New Roman', 'size':'12', 'color':'black', 'weight':'normal'}\n",
        "\n",
        "from sklearn.metrics import confusion_matrix\n",
        "import seaborn as sns\n",
        "# Creating confusion matrix\n",
        "cm = confusion_matrix(y_true, y_pred)\n",
        "# Plotting the confusion matrix\n",
        "plt.figure(figsize=(10,4))\n",
        "sns.heatmap(cm, annot=True, fmt='g', cmap='Blues', xticklabels=targetnames, yticklabels=targetnames)\n",
        "plt.xlabel('Predicted Label', fontdict=label_font)\n",
        "plt.ylabel('True Label', fontdict=label_font)\n",
        "plt.title('Confusion Matrix', fontdict=title_font)\n",
        "plt.show()"
      ]
    },
    {
      "cell_type": "code",
      "execution_count": null,
      "metadata": {
        "colab": {
          "base_uri": "https://localhost:8080/"
        },
        "id": "O779X5qeTQLx",
        "outputId": "27b0cc88-5040-4816-8664-8e89eebcad7f"
      },
      "outputs": [
        {
          "name": "stdout",
          "output_type": "stream",
          "text": [
            "Accuracy: 0.9202898550724637\n"
          ]
        }
      ],
      "source": [
        "### Accuracy\n",
        "print(\"Accuracy: \" + str(accuracy_score(y_true, y_pred)))\n"
      ]
    },
    {
      "cell_type": "code",
      "execution_count": null,
      "metadata": {
        "colab": {
          "base_uri": "https://localhost:8080/"
        },
        "id": "2yzZaLTwTQLx",
        "outputId": "65c086de-73e5-4763-c3d2-9b5f07fb5843"
      },
      "outputs": [
        {
          "name": "stdout",
          "output_type": "stream",
          "text": [
            "Top-1 Accuracy: 0.9202898550724637\n",
            "Top-2 Accuracy: 0.9746376811594203\n",
            "Top-3 Accuracy: 0.9867149758454107\n"
          ]
        }
      ],
      "source": [
        "import numpy as np\n",
        "from sklearn.metrics import accuracy_score\n",
        "\n",
        "# Calculate top-1 accuracy\n",
        "top1_acc = accuracy_score(y_true, y_pred)\n",
        "print(\"Top-1 Accuracy:\", top1_acc)\n",
        "\n",
        "# Calculate top-2 accuracy\n",
        "y_pred_top2 = np.argsort(-predictions_dn169_ca, axis=1)[:, :2] # Get the top 2 predicted classes\n",
        "top2_acc = np.mean(np.array([y_true[i] in y_pred_top2[i] for i in range(len(y_true))]))\n",
        "print(\"Top-2 Accuracy:\", top2_acc)\n",
        "\n",
        "# Calculate top-3 accuracy\n",
        "y_pred_top3 = np.argsort(-predictions_dn169_ca, axis=1)[:, :3] # Get the top 3 predicted classes\n",
        "top3_acc = np.mean(np.array([y_true[i] in y_pred_top3[i] for i in range(len(y_true))]))\n",
        "print(\"Top-3 Accuracy:\", top3_acc)\n",
        "from sklearn.metrics import f1_score\n"
      ]
    },
    {
      "cell_type": "code",
      "execution_count": null,
      "metadata": {
        "colab": {
          "base_uri": "https://localhost:8080/"
        },
        "id": "srXhpmZrTQLx",
        "outputId": "6ee3e7ed-35cd-42d6-ef08-615967d760b6"
      },
      "outputs": [
        {
          "name": "stdout",
          "output_type": "stream",
          "text": [
            "Weighted Precision: 0.91553970974141\n",
            "Weighted Recall (sensitivity): 0.9202898550724637\n",
            "Weighted F1-Score: 0.9171482195639055\n",
            "Weighted Specificity: 0.8519237436566636\n",
            "weighted Roc score: 0.9762725838737281\n"
          ]
        }
      ],
      "source": [
        "### Weighted Evaluation Measures\n",
        "print(\"Weighted Precision: \"+ str(precision_score(y_true, y_pred, average='weighted')))\n",
        "print(\"Weighted Recall (sensitivity): \"+ str(recall_score(y_true, y_pred, average='weighted')))\n",
        "print(\"Weighted F1-Score: \"+ str(f1_score(y_true, y_pred, average='weighted')))\n",
        "print(\"Weighted Specificity: \"+ str(specificity_score(y_true, y_pred, average='weighted')))\n",
        "print(\"weighted Roc score: \" + str(roc_auc_score(y_true,y_prob,multi_class='ovr',average='weighted')))"
      ]
    },
    {
      "cell_type": "markdown",
      "metadata": {
        "id": "LgJbWgX5TQLx"
      },
      "source": [
        "### DN169_seacnn"
      ]
    },
    {
      "cell_type": "code",
      "execution_count": null,
      "metadata": {
        "id": "S-5PWVPMTQLy"
      },
      "outputs": [],
      "source": [
        "### Squeeze and Excitation Attention\n",
        "def squeeze_excite_block(input, filters, se_ratio):\n",
        "    # Squeeze step\n",
        "    se = tf.keras.layers.GlobalAveragePooling2D()(input)\n",
        "    se = tf.keras.layers.Dense(filters // se_ratio, activation='relu')(se)\n",
        "    se = tf.keras.layers.Dense(filters, activation='softmax')(se)\n",
        "    # Excitation step\n",
        "    x = tf.keras.layers.multiply([input, se])\n",
        "    return x"
      ]
    },
    {
      "cell_type": "code",
      "execution_count": null,
      "metadata": {
        "colab": {
          "base_uri": "https://localhost:8080/"
        },
        "id": "Sa9pTLLbTQLy",
        "outputId": "7475f552-14a0-4865-ab69-31cf9dc19316"
      },
      "outputs": [
        {
          "name": "stdout",
          "output_type": "stream",
          "text": [
            "7\n"
          ]
        }
      ],
      "source": [
        "# Add convolutional layers with Channel Attention\n",
        "conv = Conv2D(filters=128, kernel_size=(7, 7), activation=\"relu\", padding=\"same\", kernel_initializer='he_normal')(reshape)\n",
        "conv = BatchNormalization()(conv)\n",
        "conv = Conv2D(filters=128, kernel_size=(5, 5), activation=\"relu\", padding=\"same\", kernel_initializer='he_normal')(conv)\n",
        "conv = BatchNormalization()(conv)\n",
        "conv = Conv2D(filters=128, kernel_size=(3, 3), activation=\"relu\", padding=\"same\", kernel_initializer='he_normal')(conv)\n",
        "conv = BatchNormalization()(conv)\n",
        "conv = Conv2D(filters=128, kernel_size=(1, 1), activation=\"relu\", padding=\"same\", kernel_initializer='he_normal')(conv)\n",
        "conv = BatchNormalization()(conv)\n",
        "image_size_2 = 8\n",
        "from tensorflow.keras.layers import Reshape\n",
        "conv = Reshape(target_shape=(image_size_2, image_size_2, 128,))(conv)\n",
        "x = squeeze_excite_block(conv, 128, 128)  # use same number of filters as the input tensor\n",
        "# Add convolutional layers with Channel Attention\n",
        "conv = Conv2D(filters=128, kernel_size=(7, 7), activation=\"relu\", padding=\"same\", kernel_initializer='he_normal')(x)\n",
        "conv = BatchNormalization()(conv)\n",
        "conv = Conv2D(filters=128, kernel_size=(5, 5), activation=\"relu\", padding=\"same\", kernel_initializer='he_normal')(conv)\n",
        "conv = BatchNormalization()(conv)\n",
        "conv = Conv2D(filters=128, kernel_size=(3, 3), activation=\"relu\", padding=\"same\", kernel_initializer='he_normal')(conv)\n",
        "conv = BatchNormalization()(conv)\n",
        "conv = Conv2D(filters=128, kernel_size=(1, 1), activation=\"relu\", padding=\"same\", kernel_initializer='he_normal')(conv)\n",
        "conv = BatchNormalization()(conv)\n",
        "conv=(MaxPooling2D(strides=(2, 2),padding=\"same\")(conv))\n",
        "conv = Conv2D(filters=256,kernel_size=(7,7), activation=\"relu\",padding=\"same\",kernel_initializer='he_normal')(conv)\n",
        "conv = BatchNormalization()(conv)\n",
        "conv = Conv2D(filters=256,kernel_size=(5,5), activation=\"relu\",padding=\"same\",kernel_initializer='he_normal')(conv)\n",
        "conv = BatchNormalization()(conv)\n",
        "conv = Conv2D(filters=256,kernel_size=(3,3), activation=\"relu\",padding=\"same\",kernel_initializer='he_normal')(conv)\n",
        "conv = BatchNormalization()(conv)\n",
        "conv = Conv2D(filters=256,kernel_size=(1,1), activation=\"relu\",padding=\"same\",kernel_initializer='he_normal')(conv)\n",
        "conv = BatchNormalization()(conv)\n",
        "image_size_3 = 4\n",
        "from tensorflow.keras.layers import Reshape\n",
        "conv = Reshape(target_shape=(image_size_3, image_size_3, 256,))(conv)\n",
        "x = squeeze_excite_block(conv, 256, 256)  # use same number of filters as the input tensor\n",
        "conv = Conv2D(filters=256,kernel_size=(7,7), activation=\"relu\",padding=\"same\",kernel_initializer='he_normal')(x)\n",
        "conv = BatchNormalization()(conv)\n",
        "conv = Conv2D(filters=256,kernel_size=(5,5), activation=\"relu\",padding=\"same\",kernel_initializer='he_normal')(conv)\n",
        "conv = BatchNormalization()(conv)\n",
        "conv = Conv2D(filters=256,kernel_size=(3,3), activation=\"relu\",padding=\"same\",kernel_initializer='he_normal')(conv)\n",
        "conv = BatchNormalization()(conv)\n",
        "conv = Conv2D(filters=256,kernel_size=(1,1), activation=\"relu\",padding=\"same\",kernel_initializer='he_normal')(conv)\n",
        "conv = BatchNormalization()(conv)\n",
        "conv=(MaxPooling2D(pool_size=(2, 2),padding=\"same\")(conv))\n",
        "num_classes = test_batches.num_classes\n",
        "print(num_classes)\n",
        "conv=(Flatten()(conv))\n",
        "conv=(Dense(1024,activation=\"relu\")(conv))\n",
        "conv=(Dense(512,activation=\"relu\")(conv))\n",
        "conv=(Dense(num_classes, activation=\"softmax\")(conv))\n",
        "\n",
        "model_dn169_sea = Model(inputs=MainInput, outputs=conv)"
      ]
    },
    {
      "cell_type": "code",
      "execution_count": null,
      "metadata": {
        "id": "tiYB-m0mTQLy"
      },
      "outputs": [],
      "source": [
        "from tensorflow.keras import models\n",
        "model_dn169_sea.load_weights(\"/content/IGPA(DN_MN_VGG_X)/DN/DN169/DN169_SEA.hdf5\")"
      ]
    },
    {
      "cell_type": "code",
      "execution_count": null,
      "metadata": {
        "colab": {
          "base_uri": "https://localhost:8080/"
        },
        "id": "Vay8LXMBTQLy",
        "outputId": "169f726e-1bad-4059-b849-774437b46ea6"
      },
      "outputs": [
        {
          "name": "stdout",
          "output_type": "stream",
          "text": [
            "52/52 [==============================] - 23s 289ms/step\n"
          ]
        }
      ],
      "source": [
        "predictions_dn169_sea = model_dn169_sea.predict(test_batches)"
      ]
    },
    {
      "cell_type": "code",
      "execution_count": null,
      "metadata": {
        "id": "KPhdALl4TQLy"
      },
      "outputs": [],
      "source": [
        "#geting predictions on test dataset\n",
        "y_pred = np.argmax(predictions_dn169_sea, axis=1)\n",
        "#getting the true labels per image\n",
        "y_true = test_batches.classes\n",
        "#getting the predicted labels per image\n",
        "y_prob = predictions_dn169_sea"
      ]
    },
    {
      "cell_type": "code",
      "execution_count": null,
      "metadata": {
        "colab": {
          "base_uri": "https://localhost:8080/"
        },
        "id": "wdGuCd0vTQLy",
        "outputId": "dea13677-cad2-49f3-b1e7-d34ed29010d2"
      },
      "outputs": [
        {
          "name": "stdout",
          "output_type": "stream",
          "text": [
            "\n",
            "Classification Report:\n",
            "              precision    recall  f1-score   support\n",
            "\n",
            "          AK       0.67      0.55      0.60        22\n",
            "         BCC       0.76      0.70      0.73        27\n",
            "         BKL       0.63      0.79      0.70        66\n",
            "          DF       0.80      0.67      0.73         6\n",
            "         MEL       0.69      0.31      0.43        35\n",
            "          NV       0.96      0.97      0.96       663\n",
            "        VASC       0.90      1.00      0.95         9\n",
            "\n",
            "    accuracy                           0.91       828\n",
            "   macro avg       0.77      0.71      0.73       828\n",
            "weighted avg       0.90      0.91      0.90       828\n",
            "\n"
          ]
        }
      ],
      "source": [
        "classnames = ['AK', 'BCC', 'BKL', 'DF', 'MEL', 'NV', 'VASC']\n",
        "\n",
        "from tensorflow.keras.utils import to_categorical\n",
        "y_test = to_categorical(y_true)\n",
        "\n",
        "report = classification_report(y_true, y_pred, target_names=classnames)\n",
        "\n",
        "print(\"\\nClassification Report:\")\n",
        "print(report)"
      ]
    },
    {
      "cell_type": "code",
      "execution_count": null,
      "metadata": {
        "colab": {
          "base_uri": "https://localhost:8080/"
        },
        "id": "gp2Re-JKTQLz",
        "outputId": "e9f27ee0-e9b0-478f-b15a-5a27645df4e4"
      },
      "outputs": [
        {
          "name": "stderr",
          "output_type": "stream",
          "text": [
            "WARNING:matplotlib.font_manager:findfont: Font family 'Times New Roman' not found.\n",
            "WARNING:matplotlib.font_manager:findfont: Font family 'Times New Roman' not found.\n",
            "WARNING:matplotlib.font_manager:findfont: Font family 'Times New Roman' not found.\n",
            "WARNING:matplotlib.font_manager:findfont: Font family 'Times New Roman' not found.\n",
            "WARNING:matplotlib.font_manager:findfont: Font family 'Times New Roman' not found.\n",
            "WARNING:matplotlib.font_manager:findfont: Font family 'Times New Roman' not found.\n",
            "WARNING:matplotlib.font_manager:findfont: Font family 'Times New Roman' not found.\n",
            "WARNING:matplotlib.font_manager:findfont: Font family 'Times New Roman' not found.\n",
            "WARNING:matplotlib.font_manager:findfont: Font family 'Times New Roman' not found.\n",
            "WARNING:matplotlib.font_manager:findfont: Font family 'Times New Roman' not found.\n",
            "WARNING:matplotlib.font_manager:findfont: Font family 'Times New Roman' not found.\n",
            "WARNING:matplotlib.font_manager:findfont: Font family 'Times New Roman' not found.\n",
            "WARNING:matplotlib.font_manager:findfont: Font family 'Times New Roman' not found.\n"
          ]
        },
        {
          "data": {
            "image/png": "[encoded data removed]",
            "text/plain": [
              "<Figure size 1000x400 with 2 Axes>"
            ]
          },
          "metadata": {},
          "output_type": "display_data"
        }
      ],
      "source": [
        "## Confusion Matrix\n",
        "title_font = {'fontname':'Times New Roman', 'size':'14', 'color':'black', 'weight':'normal'}\n",
        "label_font = {'fontname':'Times New Roman', 'size':'12', 'color':'black', 'weight':'normal'}\n",
        "\n",
        "from sklearn.metrics import confusion_matrix\n",
        "import seaborn as sns\n",
        "# Creating confusion matrix\n",
        "cm = confusion_matrix(y_true, y_pred)\n",
        "# Plotting the confusion matrix\n",
        "plt.figure(figsize=(10,4))\n",
        "sns.heatmap(cm, annot=True, fmt='g', cmap='Blues', xticklabels=targetnames, yticklabels=targetnames)\n",
        "plt.xlabel('Predicted Label', fontdict=label_font)\n",
        "plt.ylabel('True Label', fontdict=label_font)\n",
        "plt.title('Confusion Matrix', fontdict=title_font)\n",
        "plt.show()"
      ]
    },
    {
      "cell_type": "code",
      "execution_count": null,
      "metadata": {
        "colab": {
          "base_uri": "https://localhost:8080/"
        },
        "id": "BGpaWEhETQLz",
        "outputId": "994ee35a-b013-41cf-8fd6-4988b8b18d30"
      },
      "outputs": [
        {
          "name": "stdout",
          "output_type": "stream",
          "text": [
            "Accuracy: 0.9057971014492754\n"
          ]
        }
      ],
      "source": [
        "### Accuracy\n",
        "print(\"Accuracy: \" + str(accuracy_score(y_true, y_pred)))\n"
      ]
    },
    {
      "cell_type": "code",
      "execution_count": null,
      "metadata": {
        "colab": {
          "base_uri": "https://localhost:8080/"
        },
        "id": "8vfI3q1GTQLz",
        "outputId": "086d7d27-04a7-4246-dcf9-b3e1928f5bf2"
      },
      "outputs": [
        {
          "name": "stdout",
          "output_type": "stream",
          "text": [
            "Top-1 Accuracy: 0.9057971014492754\n",
            "Top-2 Accuracy: 0.9625603864734299\n",
            "Top-3 Accuracy: 0.9903381642512077\n"
          ]
        }
      ],
      "source": [
        "import numpy as np\n",
        "from sklearn.metrics import accuracy_score\n",
        "\n",
        "# Calculate top-1 accuracy\n",
        "top1_acc = accuracy_score(y_true, y_pred)\n",
        "print(\"Top-1 Accuracy:\", top1_acc)\n",
        "\n",
        "# Calculate top-2 accuracy\n",
        "y_pred_top2 = np.argsort(-predictions_dn169_sea, axis=1)[:, :2] # Get the top 2 predicted classes\n",
        "top2_acc = np.mean(np.array([y_true[i] in y_pred_top2[i] for i in range(len(y_true))]))\n",
        "print(\"Top-2 Accuracy:\", top2_acc)\n",
        "\n",
        "# Calculate top-3 accuracy\n",
        "y_pred_top3 = np.argsort(-predictions_dn169_sea, axis=1)[:, :3] # Get the top 3 predicted classes\n",
        "top3_acc = np.mean(np.array([y_true[i] in y_pred_top3[i] for i in range(len(y_true))]))\n",
        "print(\"Top-3 Accuracy:\", top3_acc)\n",
        "from sklearn.metrics import f1_score\n"
      ]
    },
    {
      "cell_type": "code",
      "execution_count": null,
      "metadata": {
        "colab": {
          "base_uri": "https://localhost:8080/"
        },
        "id": "2oAURo7gTQLz",
        "outputId": "1dc6dd35-4e14-4d1a-d7b4-cc6c4dca23aa"
      },
      "outputs": [
        {
          "name": "stdout",
          "output_type": "stream",
          "text": [
            "Weighted Precision: 0.9038541280922645\n",
            "Weighted Recall (sensitivity): 0.9057971014492754\n",
            "Weighted F1-Score: 0.9009206612527412\n",
            "Weighted Specificity: 0.8553977221416171\n",
            "weighted Roc score: 0.9658662491180849\n"
          ]
        }
      ],
      "source": [
        "### Weighted Evaluation Measures\n",
        "print(\"Weighted Precision: \"+ str(precision_score(y_true, y_pred, average='weighted')))\n",
        "print(\"Weighted Recall (sensitivity): \"+ str(recall_score(y_true, y_pred, average='weighted')))\n",
        "print(\"Weighted F1-Score: \"+ str(f1_score(y_true, y_pred, average='weighted')))\n",
        "print(\"Weighted Specificity: \"+ str(specificity_score(y_true, y_pred, average='weighted')))\n",
        "print(\"weighted Roc score: \" + str(roc_auc_score(y_true,y_prob,multi_class='ovr',average='weighted')))"
      ]
    },
    {
      "cell_type": "markdown",
      "metadata": {
        "id": "1a8vpOFtTQLz"
      },
      "source": [
        "### DN169_sacnn"
      ]
    },
    {
      "cell_type": "code",
      "execution_count": null,
      "metadata": {
        "id": "uwTpbftvTQL0"
      },
      "outputs": [],
      "source": [
        "### Soft Attention\n",
        "from keras import backend as K\n",
        "from keras.layers import Layer,InputSpec\n",
        "import keras.layers as kl\n",
        "import tensorflow as tf\n",
        "\n",
        "\n",
        "\n",
        "class SoftAttention(Layer):\n",
        "    def __init__(self,ch,m,concat_with_x=False,aggregate=False,**kwargs):\n",
        "        self.channels=int(ch)\n",
        "        self.multiheads = m\n",
        "        self.aggregate_channels = aggregate\n",
        "        self.concat_input_with_scaled = concat_with_x\n",
        "\n",
        "\n",
        "        super(SoftAttention,self).__init__(**kwargs)\n",
        "\n",
        "    def build(self,input_shape):\n",
        "\n",
        "        self.i_shape = input_shape\n",
        "\n",
        "        kernel_shape_conv3d = (self.channels, 3, 3) + (1, self.multiheads) # DHWC\n",
        "\n",
        "        self.out_attention_maps_shape = input_shape[0:1]+(self.multiheads,)+input_shape[1:-1]\n",
        "\n",
        "        if self.aggregate_channels==False:\n",
        "\n",
        "            self.out_features_shape = input_shape[:-1]+(input_shape[-1]+(input_shape[-1]*self.multiheads),)\n",
        "        else:\n",
        "            if self.concat_input_with_scaled:\n",
        "                self.out_features_shape = input_shape[:-1]+(input_shape[-1]*2,)\n",
        "            else:\n",
        "                self.out_features_shape = input_shape\n",
        "\n",
        "\n",
        "        self.kernel_conv3d = self.add_weight(shape=kernel_shape_conv3d,\n",
        "                                        initializer='he_uniform',\n",
        "                                        name='kernel_conv3d')\n",
        "        self.bias_conv3d = self.add_weight(shape=(self.multiheads,),\n",
        "                                      initializer='zeros',\n",
        "                                      name='bias_conv3d')\n",
        "\n",
        "        super(SoftAttention, self).build(input_shape)\n",
        "\n",
        "    def call(self, x):\n",
        "\n",
        "        exp_x = K.expand_dims(x,axis=-1)\n",
        "\n",
        "        c3d = K.conv3d(exp_x,\n",
        "                     kernel=self.kernel_conv3d,\n",
        "                     strides=(1,1,self.i_shape[-1]), padding='same', data_format='channels_last')\n",
        "        conv3d = K.bias_add(c3d,\n",
        "                        self.bias_conv3d)\n",
        "        conv3d = kl.Activation('relu')(conv3d)\n",
        "\n",
        "        conv3d = K.permute_dimensions(conv3d,pattern=(0,4,1,2,3))\n",
        "\n",
        "\n",
        "        conv3d = K.squeeze(conv3d, axis=-1)\n",
        "        conv3d = K.reshape(conv3d,shape=(-1, self.multiheads ,self.i_shape[1]*self.i_shape[2]))\n",
        "\n",
        "        softmax_alpha = K.softmax(conv3d, axis=-1)\n",
        "        softmax_alpha = kl.Reshape(target_shape=(self.multiheads, self.i_shape[1],self.i_shape[2]))(softmax_alpha)\n",
        "\n",
        "\n",
        "        if self.aggregate_channels==False:\n",
        "            exp_softmax_alpha = K.expand_dims(softmax_alpha, axis=-1)\n",
        "            exp_softmax_alpha = K.permute_dimensions(exp_softmax_alpha,pattern=(0,2,3,1,4))\n",
        "\n",
        "            x_exp = K.expand_dims(x,axis=-2)\n",
        "\n",
        "            u = kl.Multiply()([exp_softmax_alpha, x_exp])\n",
        "\n",
        "            u = kl.Reshape(target_shape=(self.i_shape[1],self.i_shape[2],u.shape[-1]*u.shape[-2]))(u)\n",
        "\n",
        "        else:\n",
        "            exp_softmax_alpha = K.permute_dimensions(softmax_alpha,pattern=(0,2,3,1))\n",
        "\n",
        "            exp_softmax_alpha = K.sum(exp_softmax_alpha,axis=-1)\n",
        "\n",
        "            exp_softmax_alpha = K.expand_dims(exp_softmax_alpha, axis=-1)\n",
        "\n",
        "            u = kl.Multiply()([exp_softmax_alpha, x])\n",
        "\n",
        "        if self.concat_input_with_scaled:\n",
        "            o = kl.Concatenate(axis=-1)([u,x])\n",
        "        else:\n",
        "            o = u\n",
        "\n",
        "        return [o, softmax_alpha]\n",
        "\n",
        "    def compute_output_shape(self, input_shape):\n",
        "        return [self.out_features_shape, self.out_attention_maps_shape]\n",
        "\n",
        "\n",
        "    def get_config(self):\n",
        "        return super(SoftAttention,self).get_config()\n"
      ]
    },
    {
      "cell_type": "code",
      "execution_count": null,
      "metadata": {
        "colab": {
          "base_uri": "https://localhost:8080/"
        },
        "id": "dr2AtwrHTQL0",
        "outputId": "e8fe6b04-6ca2-4d3f-ad32-dcf5d66b6cfb"
      },
      "outputs": [
        {
          "name": "stdout",
          "output_type": "stream",
          "text": [
            "7\n"
          ]
        }
      ],
      "source": [
        "# Add convolutional layers with Channel Attention\n",
        "conv = Conv2D(filters=128, kernel_size=(7, 7), activation=\"relu\", padding=\"same\", kernel_initializer='he_normal')(reshape)\n",
        "conv = BatchNormalization()(conv)\n",
        "conv = Conv2D(filters=128, kernel_size=(5, 5), activation=\"relu\", padding=\"same\", kernel_initializer='he_normal')(conv)\n",
        "conv = BatchNormalization()(conv)\n",
        "conv = Conv2D(filters=128, kernel_size=(3, 3), activation=\"relu\", padding=\"same\", kernel_initializer='he_normal')(conv)\n",
        "conv = BatchNormalization()(conv)\n",
        "conv = Conv2D(filters=128, kernel_size=(1, 1), activation=\"relu\", padding=\"same\", kernel_initializer='he_normal')(conv)\n",
        "conv = BatchNormalization()(conv)\n",
        "attention_layer,map2 = SoftAttention(aggregate=True,m=16,concat_with_x=False,ch=int(conv.shape[-1]),name='soft_attention')(conv)\n",
        "attention_layer=(MaxPooling2D(pool_size=(2, 2),padding=\"same\")(attention_layer))\n",
        "conv=(MaxPooling2D(pool_size=(2, 2),padding=\"same\")(conv))\n",
        "\n",
        "conv = concatenate([conv,attention_layer])\n",
        "conv  = Activation('relu')(conv)\n",
        "conv = Dropout(0.5)(conv)\n",
        "conv = Conv2D(filters=256,kernel_size=(7,7), activation=\"relu\",padding=\"same\",kernel_initializer='he_normal')(conv)\n",
        "conv = BatchNormalization()(conv)\n",
        "conv = Conv2D(filters=256,kernel_size=(5,5), activation=\"relu\",padding=\"same\",kernel_initializer='he_normal')(conv)\n",
        "conv = BatchNormalization()(conv)\n",
        "conv = Conv2D(filters=256,kernel_size=(3,3), activation=\"relu\",padding=\"same\",kernel_initializer='he_normal')(conv)\n",
        "conv = BatchNormalization()(conv)\n",
        "conv = Conv2D(filters=256,kernel_size=(1,1), activation=\"relu\",padding=\"same\",kernel_initializer='he_normal')(conv)\n",
        "conv = BatchNormalization()(conv)\n",
        "attention_layer,map2 = SoftAttention(aggregate=True,m=16,concat_with_x=False,ch=int(conv.shape[-1]),name='soft_attention_2')(conv)\n",
        "attention_layer=(MaxPooling2D(pool_size=(2, 2),padding=\"same\")(attention_layer))\n",
        "conv=(MaxPooling2D(pool_size=(2, 2),padding=\"same\")(conv))\n",
        "\n",
        "conv = concatenate([conv,attention_layer])\n",
        "conv  = Activation('relu')(conv)\n",
        "conv = Dropout(0.5)(conv)\n",
        "num_classes = test_batches.num_classes\n",
        "print(num_classes)\n",
        "conv=(Flatten()(conv))\n",
        "conv=(Dense(1024,activation=\"relu\")(conv))\n",
        "conv = Dropout(0.5)(conv)\n",
        "conv=(Dense(512,activation=\"relu\")(conv))\n",
        "conv = Dropout(0.25)(conv)\n",
        "conv=(Dense(num_classes, activation=\"softmax\")(conv))\n",
        "\n",
        "model_dn169_sa = Model(inputs=MainInput, outputs=conv)"
      ]
    },
    {
      "cell_type": "code",
      "execution_count": null,
      "metadata": {
        "id": "0S8lnHioTQL0"
      },
      "outputs": [],
      "source": [
        "from tensorflow.keras import models\n",
        "model_dn169_sa.load_weights(\"/content/IGPA(DN_MN_VGG_X)/DN/DN169/DN169_SA.hdf5\")"
      ]
    },
    {
      "cell_type": "code",
      "execution_count": null,
      "metadata": {
        "colab": {
          "base_uri": "https://localhost:8080/"
        },
        "id": "i2QDg6ewTQL0",
        "outputId": "a939d88d-41cd-44d8-83da-c3ef550649d3"
      },
      "outputs": [
        {
          "name": "stdout",
          "output_type": "stream",
          "text": [
            "52/52 [==============================] - 22s 293ms/step\n"
          ]
        }
      ],
      "source": [
        "predictions_dn169_sa = model_dn169_sa.predict(test_batches)"
      ]
    },
    {
      "cell_type": "code",
      "execution_count": null,
      "metadata": {
        "id": "rz95fB6hTQL0"
      },
      "outputs": [],
      "source": [
        "#geting predictions on test dataset\n",
        "y_pred = np.argmax(predictions_dn169_sa, axis=1)\n",
        "#getting the true labels per image\n",
        "y_true = test_batches.classes\n",
        "#getting the predicted labels per image\n",
        "y_prob = predictions_dn169_sa"
      ]
    },
    {
      "cell_type": "code",
      "execution_count": null,
      "metadata": {
        "colab": {
          "base_uri": "https://localhost:8080/"
        },
        "id": "3IuDNXCLTQL1",
        "outputId": "81212d09-8f21-4fe0-93cc-69ad3dc02f33"
      },
      "outputs": [
        {
          "name": "stdout",
          "output_type": "stream",
          "text": [
            "\n",
            "Classification Report:\n",
            "              precision    recall  f1-score   support\n",
            "\n",
            "          AK       0.69      0.41      0.51        22\n",
            "         BCC       0.70      0.78      0.74        27\n",
            "         BKL       0.68      0.77      0.72        66\n",
            "          DF       1.00      0.33      0.50         6\n",
            "         MEL       0.78      0.51      0.62        35\n",
            "          NV       0.96      0.98      0.97       663\n",
            "        VASC       1.00      0.89      0.94         9\n",
            "\n",
            "    accuracy                           0.92       828\n",
            "   macro avg       0.83      0.67      0.72       828\n",
            "weighted avg       0.92      0.92      0.91       828\n",
            "\n"
          ]
        }
      ],
      "source": [
        "classnames = ['AK', 'BCC', 'BKL', 'DF', 'MEL', 'NV', 'VASC']\n",
        "\n",
        "from tensorflow.keras.utils import to_categorical\n",
        "y_test = to_categorical(y_true)\n",
        "\n",
        "report = classification_report(y_true, y_pred, target_names=classnames)\n",
        "\n",
        "print(\"\\nClassification Report:\")\n",
        "print(report)"
      ]
    },
    {
      "cell_type": "code",
      "execution_count": null,
      "metadata": {
        "colab": {
          "base_uri": "https://localhost:8080/"
        },
        "id": "Wx1HxUO8TQL1",
        "outputId": "a13528b3-98d3-4582-fced-c23732e01bd2"
      },
      "outputs": [
        {
          "name": "stderr",
          "output_type": "stream",
          "text": [
            "WARNING:matplotlib.font_manager:findfont: Font family 'Times New Roman' not found.\n",
            "WARNING:matplotlib.font_manager:findfont: Font family 'Times New Roman' not found.\n",
            "WARNING:matplotlib.font_manager:findfont: Font family 'Times New Roman' not found.\n",
            "WARNING:matplotlib.font_manager:findfont: Font family 'Times New Roman' not found.\n",
            "WARNING:matplotlib.font_manager:findfont: Font family 'Times New Roman' not found.\n",
            "WARNING:matplotlib.font_manager:findfont: Font family 'Times New Roman' not found.\n",
            "WARNING:matplotlib.font_manager:findfont: Font family 'Times New Roman' not found.\n",
            "WARNING:matplotlib.font_manager:findfont: Font family 'Times New Roman' not found.\n",
            "WARNING:matplotlib.font_manager:findfont: Font family 'Times New Roman' not found.\n",
            "WARNING:matplotlib.font_manager:findfont: Font family 'Times New Roman' not found.\n",
            "WARNING:matplotlib.font_manager:findfont: Font family 'Times New Roman' not found.\n",
            "WARNING:matplotlib.font_manager:findfont: Font family 'Times New Roman' not found.\n",
            "WARNING:matplotlib.font_manager:findfont: Font family 'Times New Roman' not found.\n"
          ]
        },
        {
          "data": {
            "image/png": "[encoded data removed]",
            "text/plain": [
              "<Figure size 1000x400 with 2 Axes>"
            ]
          },
          "metadata": {},
          "output_type": "display_data"
        }
      ],
      "source": [
        "## Confusion Matrix\n",
        "title_font = {'fontname':'Times New Roman', 'size':'14', 'color':'black', 'weight':'normal'}\n",
        "label_font = {'fontname':'Times New Roman', 'size':'12', 'color':'black', 'weight':'normal'}\n",
        "\n",
        "from sklearn.metrics import confusion_matrix\n",
        "import seaborn as sns\n",
        "# Creating confusion matrix\n",
        "cm = confusion_matrix(y_true, y_pred)\n",
        "# Plotting the confusion matrix\n",
        "plt.figure(figsize=(10,4))\n",
        "sns.heatmap(cm, annot=True, fmt='g', cmap='Blues', xticklabels=targetnames, yticklabels=targetnames)\n",
        "plt.xlabel('Predicted Label', fontdict=label_font)\n",
        "plt.ylabel('True Label', fontdict=label_font)\n",
        "plt.title('Confusion Matrix', fontdict=title_font)\n",
        "plt.show()"
      ]
    },
    {
      "cell_type": "code",
      "execution_count": null,
      "metadata": {
        "colab": {
          "base_uri": "https://localhost:8080/"
        },
        "id": "lUf72CXHTQL1",
        "outputId": "6d09535a-5c0b-42a2-b9e2-de447b0d3307"
      },
      "outputs": [
        {
          "name": "stdout",
          "output_type": "stream",
          "text": [
            "Accuracy: 0.9166666666666666\n"
          ]
        }
      ],
      "source": [
        "### Accuracy\n",
        "print(\"Accuracy: \" + str(accuracy_score(y_true, y_pred)))\n"
      ]
    },
    {
      "cell_type": "code",
      "execution_count": null,
      "metadata": {
        "colab": {
          "base_uri": "https://localhost:8080/"
        },
        "id": "QNw4yQ7hTQL1",
        "outputId": "6304dcca-1d3b-46c7-a9ff-dfab255f231a"
      },
      "outputs": [
        {
          "name": "stdout",
          "output_type": "stream",
          "text": [
            "Weighted Precision: 0.9154111343250434\n",
            "Weighted Recall (sensitivity): 0.9166666666666666\n",
            "Weighted F1-Score: 0.9122673729440387\n",
            "Weighted Specificity: 0.8656970022527399\n",
            "weighted Roc score: 0.9774259949794624\n"
          ]
        }
      ],
      "source": [
        "### Weighted Evaluation Measures\n",
        "print(\"Weighted Precision: \"+ str(precision_score(y_true, y_pred, average='weighted')))\n",
        "print(\"Weighted Recall (sensitivity): \"+ str(recall_score(y_true, y_pred, average='weighted')))\n",
        "print(\"Weighted F1-Score: \"+ str(f1_score(y_true, y_pred, average='weighted')))\n",
        "print(\"Weighted Specificity: \"+ str(specificity_score(y_true, y_pred, average='weighted')))\n",
        "print(\"weighted Roc score: \" + str(roc_auc_score(y_true,y_prob,multi_class='ovr',average='weighted')))"
      ]
    },
    {
      "cell_type": "markdown",
      "metadata": {
        "id": "MZ1fQ-NuX9qd"
      },
      "source": [
        "### SAvg"
      ]
    },
    {
      "cell_type": "code",
      "execution_count": null,
      "metadata": {
        "colab": {
          "base_uri": "https://localhost:8080/"
        },
        "id": "k1sPSsBhX9qe",
        "outputId": "821ea5f2-0898-47b2-c49f-4ce6f696a347"
      },
      "outputs": [
        {
          "name": "stdout",
          "output_type": "stream",
          "text": [
            "0.34273838916467475\n",
            "0.33138394720563585\n",
            "0.3258776636296894\n"
          ]
        }
      ],
      "source": [
        "# Calculate the average of the softmax outputs for each image\n",
        "softmax_averaged_predictions = (predictions_ccnn + predictions_cacnn + predictions_sacnn + predictions_seacnn) / 4\n",
        "\n",
        "# Take the argmax of the averaged softmax outputs to get the predicted classes\n",
        "SMavg_predictions = np.argmax(softmax_averaged_predictions, axis=1)"
      ]
    },
    {
      "cell_type": "code",
      "execution_count": null,
      "metadata": {
        "colab": {
          "base_uri": "https://localhost:8080/"
        },
        "id": "7xlJffmuX9qe",
        "outputId": "d19c90cf-db69-4c6d-927e-14ea22b913cb"
      },
      "outputs": [
        {
          "name": "stdout",
          "output_type": "stream",
          "text": [
            "Accuracy: 0.9299516908212561\n"
          ]
        }
      ],
      "source": [
        "y_pred = SMavg_predictions\n",
        "y_true = test_batches.classes\n",
        "\n",
        "# Evaluate the accuracy of the majority vote predictions on the test data\n",
        "accuracy = np.mean(y_pred == y_true)\n",
        "print(\"Accuracy:\", accuracy)"
      ]
    },
    {
      "cell_type": "code",
      "execution_count": null,
      "metadata": {
        "colab": {
          "base_uri": "https://localhost:8080/"
        },
        "id": "_aLSKBi7lxlX",
        "outputId": "562b7230-f367-4906-dbc7-aecee334e0ce"
      },
      "outputs": [
        {
          "name": "stdout",
          "output_type": "stream",
          "text": [
            "Weighted Precision: 0.926247755933824\n",
            "Weighted Recall (sensitivity): 0.9299516908212561\n",
            "Weighted F1-Score: 0.925636045155205\n",
            "Weighted Specificity: 0.8335206972162188\n",
            "weighted Roc score: 0.9774259949794624\n"
          ]
        }
      ],
      "source": [
        "### Weighted Evaluation Measures\n",
        "print(\"Weighted Precision: \"+ str(precision_score(y_true, y_pred, average='weighted')))\n",
        "print(\"Weighted Recall (sensitivity): \"+ str(recall_score(y_true, y_pred, average='weighted')))\n",
        "print(\"Weighted F1-Score: \"+ str(f1_score(y_true, y_pred, average='weighted')))\n",
        "print(\"Weighted Specificity: \"+ str(specificity_score(y_true, y_pred, average='weighted')))\n",
        "print(\"weighted Roc score: \" + str(roc_auc_score(y_true,y_prob,multi_class='ovr',average='weighted')))"
      ]
    },
    {
      "cell_type": "code",
      "execution_count": null,
      "metadata": {
        "colab": {
          "base_uri": "https://localhost:8080/"
        },
        "id": "t-FIu8dOX9qe",
        "outputId": "228ca053-cfc5-43bc-ecfe-710c547cb558"
      },
      "outputs": [
        {
          "name": "stderr",
          "output_type": "stream",
          "text": [
            "WARNING:matplotlib.font_manager:findfont: Font family 'Times New Roman' not found.\n",
            "WARNING:matplotlib.font_manager:findfont: Font family 'Times New Roman' not found.\n",
            "WARNING:matplotlib.font_manager:findfont: Font family 'Times New Roman' not found.\n",
            "WARNING:matplotlib.font_manager:findfont: Font family 'Times New Roman' not found.\n",
            "WARNING:matplotlib.font_manager:findfont: Font family 'Times New Roman' not found.\n",
            "WARNING:matplotlib.font_manager:findfont: Font family 'Times New Roman' not found.\n",
            "WARNING:matplotlib.font_manager:findfont: Font family 'Times New Roman' not found.\n",
            "WARNING:matplotlib.font_manager:findfont: Font family 'Times New Roman' not found.\n",
            "WARNING:matplotlib.font_manager:findfont: Font family 'Times New Roman' not found.\n",
            "WARNING:matplotlib.font_manager:findfont: Font family 'Times New Roman' not found.\n",
            "WARNING:matplotlib.font_manager:findfont: Font family 'Times New Roman' not found.\n",
            "WARNING:matplotlib.font_manager:findfont: Font family 'Times New Roman' not found.\n",
            "WARNING:matplotlib.font_manager:findfont: Font family 'Times New Roman' not found.\n"
          ]
        },
        {
          "data": {
            "image/png": "[encoded data removed]",
            "text/plain": [
              "<Figure size 1000x400 with 2 Axes>"
            ]
          },
          "metadata": {},
          "output_type": "display_data"
        }
      ],
      "source": [
        "## Confusion Matrix\n",
        "title_font = {'fontname':'Times New Roman', 'size':'14', 'color':'black', 'weight':'normal'}\n",
        "label_font = {'fontname':'Times New Roman', 'size':'12', 'color':'black', 'weight':'normal'}\n",
        "\n",
        "from sklearn.metrics import confusion_matrix\n",
        "import seaborn as sns\n",
        "# Creating confusion matrix\n",
        "cm = confusion_matrix(y_true, y_pred)\n",
        "# Plotting the confusion matrix\n",
        "plt.figure(figsize=(10,4))\n",
        "sns.heatmap(cm, annot=True, fmt='g', cmap='Blues', xticklabels=targetnames, yticklabels=targetnames)\n",
        "plt.xlabel('Predicted Label', fontdict=label_font)\n",
        "plt.ylabel('True Label', fontdict=label_font)\n",
        "plt.title('Confusion Matrix', fontdict=title_font)\n",
        "plt.show()"
      ]
    },
    {
      "cell_type": "code",
      "execution_count": null,
      "metadata": {
        "colab": {
          "base_uri": "https://localhost:8080/"
        },
        "id": "JnpF8-E7X9qf",
        "outputId": "f27d7586-793e-4720-bb2f-6aa7b87c2d80"
      },
      "outputs": [
        {
          "name": "stdout",
          "output_type": "stream",
          "text": [
            "Overall accuracy: 93.00%\n",
            "Accuracy for each class:\n",
            "Class 0: 59.09%\n",
            "Class 1: 85.19%\n",
            "Class 2: 68.18%\n",
            "Class 3: 50.00%\n",
            "Class 4: 60.00%\n",
            "Class 5: 98.94%\n",
            "Class 6: 100.00%\n"
          ]
        }
      ],
      "source": [
        "### Individual Class Accuracy\n",
        "# y_true are the true labels of the test set\n",
        "# y_pred are the predicted labels of the test set\n",
        "accuracy = accuracy_score(y_true, y_pred)\n",
        "# Calculate accuracy for each class\n",
        "class_accuracy = cm.diagonal()/cm.sum(axis=1)\n",
        "print(\"Overall accuracy: {:.2f}%\".format(accuracy*100))\n",
        "print(\"Accuracy for each class:\")\n",
        "for i, acc in enumerate(class_accuracy):\n",
        "    print(\"Class {}: {:.2f}%\".format(i, acc*100))"
      ]
    },
    {
      "cell_type": "code",
      "execution_count": null,
      "metadata": {
        "id": "hKkubBmsZz6p"
      },
      "outputs": [],
      "source": []
    },
    {
      "cell_type": "markdown",
      "metadata": {
        "id": "oucp_UIqbGq3"
      },
      "source": [
        "## DN201"
      ]
    },
    {
      "cell_type": "markdown",
      "metadata": {
        "id": "39iSV4bYR7aM"
      },
      "source": [
        "### Data Generation"
      ]
    },
    {
      "cell_type": "code",
      "execution_count": null,
      "metadata": {
        "id": "NoZCiiLqbGq-"
      },
      "outputs": [],
      "source": [
        "datagen = ImageDataGenerator(preprocessing_function=tf.keras.applications.densenet.preprocess_input)"
      ]
    },
    {
      "cell_type": "code",
      "execution_count": null,
      "metadata": {
        "colab": {
          "base_uri": "https://localhost:8080/"
        },
        "id": "rOqsFbvbbGq-",
        "outputId": "274b692d-cb6e-401d-fe82-be796f1561f1"
      },
      "outputs": [
        {
          "name": "stdout",
          "output_type": "stream",
          "text": [
            "\n",
            "Train Batches: \n",
            "Found 54782 images belonging to 7 classes.\n",
            "\n",
            "Test Batches: \n",
            "Found 828 images belonging to 7 classes.\n",
            "\n",
            "Val Batches: \n",
            "Found 827 images belonging to 7 classes.\n"
          ]
        }
      ],
      "source": [
        "print(\"\\nTrain Batches: \")\n",
        "train_batches = datagen.flow_from_directory(directory=train_path,\n",
        "                                            target_size=(image_size,image_size),\n",
        "                                            batch_size=batch_size,\n",
        "                                            shuffle=True)\n",
        "\n",
        "print(\"\\nTest Batches: \")\n",
        "test_batches = datagen.flow_from_directory(test_path,\n",
        "                                          target_size=(image_size,image_size),\n",
        "                                          batch_size=batch_size,\n",
        "                                          shuffle=False)\n",
        "print(\"\\nVal Batches: \")\n",
        "val_batches = datagen.flow_from_directory(val_path,\n",
        "                                         target_size=(image_size,image_size),\n",
        "                                         batch_size=batch_size,\n",
        "                                         shuffle=False)"
      ]
    },
    {
      "cell_type": "markdown",
      "metadata": {
        "id": "bRpS2CJibGq-"
      },
      "source": [
        "### Import model"
      ]
    },
    {
      "cell_type": "code",
      "execution_count": null,
      "metadata": {
        "colab": {
          "base_uri": "https://localhost:8080/"
        },
        "id": "YYLvkHDmbGq-",
        "outputId": "34ff33ae-dcfc-426b-d204-471bcb2f6150"
      },
      "outputs": [
        {
          "name": "stdout",
          "output_type": "stream",
          "text": [
            "Downloading data from https://storage.googleapis.com/tensorflow/keras-applications/densenet/densenet201_weights_tf_dim_ordering_tf_kernels_notop.h5\n",
            "74836368/74836368 [==============================] - 1s 0us/step\n"
          ]
        }
      ],
      "source": [
        "from tensorflow.keras.applications.densenet import DenseNet201\n",
        "# Create a new instance of DenseNet201\n",
        "DN201 = DenseNet201(weights='imagenet', include_top=False, input_shape=(image_size, image_size, 3), pooling='avg')"
      ]
    },
    {
      "cell_type": "code",
      "execution_count": null,
      "metadata": {
        "id": "sRwEFaOFbGq_"
      },
      "outputs": [],
      "source": [
        "## Fine tuning\n",
        "MainInput=Input(shape=(image_size, image_size, 3))\n",
        "densenet = DN201(MainInput)\n",
        "# Reshape the tensor to have 4 dimensions\n",
        "from tensorflow.keras.layers import Reshape\n",
        "reshape = Reshape((8, 8, 30))(densenet)"
      ]
    },
    {
      "cell_type": "markdown",
      "metadata": {
        "id": "6mmXQZTqbGq_"
      },
      "source": [
        "### DN201_ccnn"
      ]
    },
    {
      "cell_type": "code",
      "execution_count": null,
      "metadata": {
        "colab": {
          "base_uri": "https://localhost:8080/"
        },
        "id": "PZuhOFmubGq_",
        "outputId": "b5c03dda-a5b6-42cf-a4c1-a38b59616ea6"
      },
      "outputs": [
        {
          "name": "stdout",
          "output_type": "stream",
          "text": [
            "7\n"
          ]
        }
      ],
      "source": [
        "conv=(Conv2D(filters=128,kernel_size=(7,7), activation=\"relu\",padding=\"same\",kernel_initializer='he_normal')(reshape))\n",
        "conv=(BatchNormalization()(conv))\n",
        "conv=(Conv2D(filters=128,kernel_size=(5,5), activation=\"relu\",padding=\"same\",kernel_initializer='he_normal')(conv))\n",
        "conv=(BatchNormalization()(conv))\n",
        "conv=(Conv2D(filters=128,kernel_size=(3,3), activation=\"relu\",padding=\"same\",kernel_initializer='he_normal')(conv))\n",
        "conv=(BatchNormalization()(conv))\n",
        "conv=(Conv2D(filters=128,kernel_size=(1,1), activation=\"relu\",padding=\"same\",kernel_initializer='he_normal')(conv))\n",
        "conv=(BatchNormalization()(conv))\n",
        "conv=(MaxPooling2D(strides=(2, 2),padding=\"same\")(conv))\n",
        "conv=(Conv2D(filters=256,kernel_size=(7,7), activation=\"relu\",padding=\"same\",kernel_initializer='he_normal')(conv))\n",
        "conv=(BatchNormalization()(conv))\n",
        "conv=(Conv2D(filters=256,kernel_size=(5,5), activation=\"relu\",padding=\"same\",kernel_initializer='he_normal')(conv))\n",
        "conv=(BatchNormalization()(conv))\n",
        "conv=(Conv2D(filters=256,kernel_size=(3,3), activation=\"relu\",padding=\"same\",kernel_initializer='he_normal')(conv))\n",
        "conv=(BatchNormalization()(conv))\n",
        "conv=(Conv2D(filters=256,kernel_size=(1,1), activation=\"relu\",padding=\"same\",kernel_initializer='he_normal')(conv))\n",
        "conv=(BatchNormalization()(conv))\n",
        "conv=(MaxPooling2D(pool_size=(2, 2),padding=\"same\")(conv))\n",
        "num_classes = test_batches.num_classes\n",
        "print(num_classes)\n",
        "conv=(Flatten()(conv))\n",
        "conv=(Dense(1024,activation=\"relu\")(conv))\n",
        "conv=(Dense(512,activation=\"relu\")(conv))\n",
        "conv=(Dense(num_classes, activation=\"softmax\")(conv))\n",
        "\n",
        "model_dn201 = Model(inputs=MainInput, outputs=conv)"
      ]
    },
    {
      "cell_type": "code",
      "execution_count": null,
      "metadata": {
        "id": "GfP9J7VHbGq_"
      },
      "outputs": [],
      "source": [
        "from tensorflow.keras import models\n",
        "model_dn201.load_weights(\"/content/IGPA(DN_MN_VGG_X)/DN/DN201/DN201.hdf5\")"
      ]
    },
    {
      "cell_type": "code",
      "execution_count": null,
      "metadata": {
        "colab": {
          "base_uri": "https://localhost:8080/"
        },
        "id": "oNmb-k7ibGq_",
        "outputId": "0eb4ec71-c84c-4c27-af53-eb1f96bb5bdc"
      },
      "outputs": [
        {
          "name": "stdout",
          "output_type": "stream",
          "text": [
            "52/52 [==============================] - 25s 303ms/step\n"
          ]
        }
      ],
      "source": [
        "predictions_dn201 = model_dn201.predict(test_batches)"
      ]
    },
    {
      "cell_type": "code",
      "execution_count": null,
      "metadata": {
        "id": "WU5OCQ-AbGq_"
      },
      "outputs": [],
      "source": [
        "#geting predictions on test dataset\n",
        "y_pred = np.argmax(predictions_dn201, axis=1)\n",
        "#getting the true labels per image\n",
        "y_true = test_batches.classes\n",
        "#getting the predicted labels per image\n",
        "y_prob = predictions_dn201"
      ]
    },
    {
      "cell_type": "code",
      "execution_count": null,
      "metadata": {
        "colab": {
          "base_uri": "https://localhost:8080/"
        },
        "id": "x6Z0E5ihbGrA",
        "outputId": "f5ff11fb-0ac7-4926-c4f9-2b21269b50eb"
      },
      "outputs": [
        {
          "name": "stdout",
          "output_type": "stream",
          "text": [
            "\n",
            "Classification Report:\n",
            "              precision    recall  f1-score   support\n",
            "\n",
            "          AK       0.63      0.55      0.59        22\n",
            "         BCC       0.79      0.70      0.75        27\n",
            "         BKL       0.77      0.62      0.69        66\n",
            "          DF       0.62      0.83      0.71         6\n",
            "         MEL       0.57      0.60      0.58        35\n",
            "          NV       0.96      0.98      0.97       663\n",
            "        VASC       0.82      1.00      0.90         9\n",
            "\n",
            "    accuracy                           0.91       828\n",
            "   macro avg       0.74      0.75      0.74       828\n",
            "weighted avg       0.91      0.91      0.91       828\n",
            "\n"
          ]
        }
      ],
      "source": [
        "classnames = ['AK', 'BCC', 'BKL', 'DF', 'MEL', 'NV', 'VASC']\n",
        "\n",
        "from tensorflow.keras.utils import to_categorical\n",
        "y_test = to_categorical(y_true)\n",
        "\n",
        "report = classification_report(y_true, y_pred, target_names=classnames)\n",
        "\n",
        "print(\"\\nClassification Report:\")\n",
        "print(report)"
      ]
    },
    {
      "cell_type": "code",
      "execution_count": null,
      "metadata": {
        "colab": {
          "base_uri": "https://localhost:8080/"
        },
        "id": "LQ01ko6WbGrA",
        "outputId": "0d0bc740-3335-4cbf-92ec-2697282d17ea"
      },
      "outputs": [
        {
          "name": "stderr",
          "output_type": "stream",
          "text": [
            "WARNING:matplotlib.font_manager:findfont: Font family 'Times New Roman' not found.\n",
            "WARNING:matplotlib.font_manager:findfont: Font family 'Times New Roman' not found.\n",
            "WARNING:matplotlib.font_manager:findfont: Font family 'Times New Roman' not found.\n",
            "WARNING:matplotlib.font_manager:findfont: Font family 'Times New Roman' not found.\n",
            "WARNING:matplotlib.font_manager:findfont: Font family 'Times New Roman' not found.\n",
            "WARNING:matplotlib.font_manager:findfont: Font family 'Times New Roman' not found.\n",
            "WARNING:matplotlib.font_manager:findfont: Font family 'Times New Roman' not found.\n",
            "WARNING:matplotlib.font_manager:findfont: Font family 'Times New Roman' not found.\n",
            "WARNING:matplotlib.font_manager:findfont: Font family 'Times New Roman' not found.\n",
            "WARNING:matplotlib.font_manager:findfont: Font family 'Times New Roman' not found.\n",
            "WARNING:matplotlib.font_manager:findfont: Font family 'Times New Roman' not found.\n",
            "WARNING:matplotlib.font_manager:findfont: Font family 'Times New Roman' not found.\n",
            "WARNING:matplotlib.font_manager:findfont: Font family 'Times New Roman' not found.\n"
          ]
        },
        {
          "data": {
            "image/png": "[encoded data removed]",
            "text/plain": [
              "<Figure size 1000x400 with 2 Axes>"
            ]
          },
          "metadata": {},
          "output_type": "display_data"
        }
      ],
      "source": [
        "## Confusion Matrix\n",
        "title_font = {'fontname':'Times New Roman', 'size':'14', 'color':'black', 'weight':'normal'}\n",
        "label_font = {'fontname':'Times New Roman', 'size':'12', 'color':'black', 'weight':'normal'}\n",
        "\n",
        "from sklearn.metrics import confusion_matrix\n",
        "import seaborn as sns\n",
        "# Creating confusion matrix\n",
        "cm = confusion_matrix(y_true, y_pred)\n",
        "# Plotting the confusion matrix\n",
        "plt.figure(figsize=(10,4))\n",
        "sns.heatmap(cm, annot=True, fmt='g', cmap='Blues', xticklabels=targetnames, yticklabels=targetnames)\n",
        "plt.xlabel('Predicted Label', fontdict=label_font)\n",
        "plt.ylabel('True Label', fontdict=label_font)\n",
        "plt.title('Confusion Matrix', fontdict=title_font)\n",
        "plt.show()"
      ]
    },
    {
      "cell_type": "code",
      "execution_count": null,
      "metadata": {
        "colab": {
          "base_uri": "https://localhost:8080/"
        },
        "id": "zz9suGjGbGrA",
        "outputId": "9e5d6ff7-2b17-47c6-fe51-0a78b4632681"
      },
      "outputs": [
        {
          "name": "stdout",
          "output_type": "stream",
          "text": [
            "Accuracy: 0.9118357487922706\n"
          ]
        }
      ],
      "source": [
        "### Accuracy\n",
        "print(\"Accuracy: \" + str(accuracy_score(y_true, y_pred)))\n"
      ]
    },
    {
      "cell_type": "code",
      "execution_count": null,
      "metadata": {
        "colab": {
          "base_uri": "https://localhost:8080/"
        },
        "id": "IXIfZcnEbGrA",
        "outputId": "be518a9c-ff27-443f-93c3-908833f2ee81"
      },
      "outputs": [
        {
          "name": "stdout",
          "output_type": "stream",
          "text": [
            "Top-1 Accuracy: 0.9118357487922706\n",
            "Top-2 Accuracy: 0.9746376811594203\n",
            "Top-3 Accuracy: 0.9891304347826086\n"
          ]
        }
      ],
      "source": [
        "import numpy as np\n",
        "from sklearn.metrics import accuracy_score\n",
        "\n",
        "# Calculate top-1 accuracy\n",
        "top1_acc = accuracy_score(y_true, y_pred)\n",
        "print(\"Top-1 Accuracy:\", top1_acc)\n",
        "\n",
        "# Calculate top-2 accuracy\n",
        "y_pred_top2 = np.argsort(-predictions_dn201, axis=1)[:, :2] # Get the top 2 predicted classes\n",
        "top2_acc = np.mean(np.array([y_true[i] in y_pred_top2[i] for i in range(len(y_true))]))\n",
        "print(\"Top-2 Accuracy:\", top2_acc)\n",
        "\n",
        "# Calculate top-3 accuracy\n",
        "y_pred_top3 = np.argsort(-predictions_dn201, axis=1)[:, :3] # Get the top 3 predicted classes\n",
        "top3_acc = np.mean(np.array([y_true[i] in y_pred_top3[i] for i in range(len(y_true))]))\n",
        "print(\"Top-3 Accuracy:\", top3_acc)\n",
        "from sklearn.metrics import f1_score\n"
      ]
    },
    {
      "cell_type": "code",
      "execution_count": null,
      "metadata": {
        "colab": {
          "base_uri": "https://localhost:8080/"
        },
        "id": "nNb9NaOXbGrA",
        "outputId": "8f2e4304-7e2c-4c4a-ecf8-1f2dea71866a"
      },
      "outputs": [
        {
          "name": "stdout",
          "output_type": "stream",
          "text": [
            "Weighted Precision: 0.9092310427326726\n",
            "Weighted Recall (sensitivity): 0.9118357487922706\n",
            "Weighted F1-Score: 0.9094031476478366\n",
            "Weighted Specificity: 0.8615240069924829\n",
            "Weighted Roc score: 0.9746445229292074\n"
          ]
        }
      ],
      "source": [
        "### Weighted Evaluation Measures\n",
        "print(\"Weighted Precision: \"+ str(precision_score(y_true, y_pred, average='weighted')))\n",
        "print(\"Weighted Recall (sensitivity): \"+ str(recall_score(y_true, y_pred, average='weighted')))\n",
        "print(\"Weighted F1-Score: \"+ str(f1_score(y_true, y_pred, average='weighted')))\n",
        "print(\"Weighted Specificity: \"+ str(specificity_score(y_true, y_pred, average='weighted')))\n",
        "print(\"Weighted Roc score: \" + str(roc_auc_score(y_true,y_prob,multi_class='ovr',average='weighted')))"
      ]
    },
    {
      "cell_type": "markdown",
      "metadata": {
        "id": "51D_UKqYbGrA"
      },
      "source": [
        "### DN201_cacnn"
      ]
    },
    {
      "cell_type": "code",
      "execution_count": null,
      "metadata": {
        "id": "hYNwZZZZbGrA"
      },
      "outputs": [],
      "source": [
        "# Channel Attention\n",
        "from tensorflow.keras.layers import Layer\n",
        "from tensorflow.keras import backend as K\n",
        "\n",
        "class ChannelAttention(Layer):\n",
        "    def __init__(self, reduction=16):\n",
        "        super(ChannelAttention, self).__init__()\n",
        "        self.reduction = reduction\n",
        "\n",
        "    def build(self, input_shape):\n",
        "        self.channels = input_shape[-1]\n",
        "        self.avg_pool = GlobalAveragePooling2D()\n",
        "        self.max_pool = GlobalMaxPooling2D()\n",
        "\n",
        "        self.shared_layer_one = Dense(units=self.channels // self.reduction, activation='relu', kernel_initializer='he_normal', use_bias=True, bias_initializer='zeros')\n",
        "        self.shared_layer_two = Dense(units=self.channels, activation='sigmoid', kernel_initializer='he_normal', use_bias=True, bias_initializer='zeros')\n",
        "\n",
        "    def call(self, x):\n",
        "        avg_pool = self.avg_pool(x)\n",
        "        max_pool = self.max_pool(x)\n",
        "\n",
        "        avg_pool = Reshape((1, 1, self.channels))(avg_pool)\n",
        "        max_pool = Reshape((1, 1, self.channels))(max_pool)\n",
        "        shared_layer_one = self.shared_layer_one(avg_pool) + self.shared_layer_one(max_pool)\n",
        "        shared_layer_two = self.shared_layer_two(shared_layer_one)\n",
        "        return x * shared_layer_two\n",
        "\n",
        "    def get_config(self):\n",
        "        config = super().get_config().copy()\n",
        "        config.update({\n",
        "            'reduction': self.reduction,\n",
        "        })\n",
        "        return config"
      ]
    },
    {
      "cell_type": "code",
      "execution_count": null,
      "metadata": {
        "colab": {
          "base_uri": "https://localhost:8080/"
        },
        "id": "1LvJytIvbGrB",
        "outputId": "98a6d9a3-01ec-417e-fa6d-79c2a675f9e1"
      },
      "outputs": [
        {
          "name": "stdout",
          "output_type": "stream",
          "text": [
            "7\n"
          ]
        }
      ],
      "source": [
        "conv=(Conv2D(filters=128,kernel_size=(7,7), activation=\"relu\",padding=\"same\",kernel_initializer='he_normal')(reshape))\n",
        "conv=(BatchNormalization()(conv))\n",
        "conv = ChannelAttention()(conv)\n",
        "conv=(Conv2D(filters=128,kernel_size=(5,5), activation=\"relu\",padding=\"same\",kernel_initializer='he_normal')(conv))\n",
        "conv=(BatchNormalization()(conv))\n",
        "conv = ChannelAttention()(conv)\n",
        "conv=(Conv2D(filters=128,kernel_size=(3,3), activation=\"relu\",padding=\"same\",kernel_initializer='he_normal')(conv))\n",
        "conv=(BatchNormalization()(conv))\n",
        "conv = ChannelAttention()(conv)\n",
        "conv=(Conv2D(filters=128,kernel_size=(1,1), activation=\"relu\",padding=\"same\",kernel_initializer='he_normal')(conv))\n",
        "conv=(BatchNormalization()(conv))\n",
        "conv = ChannelAttention()(conv)\n",
        "conv=(MaxPooling2D(strides=(2, 2),padding=\"same\")(conv))\n",
        "conv=(Conv2D(filters=256,kernel_size=(7,7), activation=\"relu\",padding=\"same\",kernel_initializer='he_normal')(conv))\n",
        "conv=(BatchNormalization()(conv))\n",
        "conv = ChannelAttention()(conv)\n",
        "conv=(Conv2D(filters=256,kernel_size=(5,5), activation=\"relu\",padding=\"same\",kernel_initializer='he_normal')(conv))\n",
        "conv=(BatchNormalization()(conv))\n",
        "conv = ChannelAttention()(conv)\n",
        "conv=(Conv2D(filters=256,kernel_size=(3,3), activation=\"relu\",padding=\"same\",kernel_initializer='he_normal')(conv))\n",
        "conv=(BatchNormalization()(conv))\n",
        "conv = ChannelAttention()(conv)\n",
        "conv=(Conv2D(filters=256,kernel_size=(1,1), activation=\"relu\",padding=\"same\",kernel_initializer='he_normal')(conv))\n",
        "conv=(BatchNormalization()(conv))\n",
        "conv = ChannelAttention()(conv)\n",
        "conv=(MaxPooling2D(pool_size=(2, 2),padding=\"same\")(conv))\n",
        "num_classes = test_batches.num_classes\n",
        "print(num_classes)\n",
        "conv=(Flatten()(conv))\n",
        "conv=(Dense(1024,activation=\"relu\")(conv))\n",
        "conv=(Dense(512,activation=\"relu\")(conv))\n",
        "conv=(Dense(num_classes, activation=\"softmax\")(conv))\n",
        "\n",
        "model_dn201_ca = Model(inputs=MainInput, outputs=conv)"
      ]
    },
    {
      "cell_type": "code",
      "execution_count": null,
      "metadata": {
        "id": "Si-FcEi4bGrB"
      },
      "outputs": [],
      "source": [
        "from tensorflow.keras import models\n",
        "model_dn201_ca.load_weights(\"/content/IGPA(DN_MN_VGG_X)/DN/DN201/DN201_CA.hdf5\")"
      ]
    },
    {
      "cell_type": "code",
      "execution_count": null,
      "metadata": {
        "colab": {
          "base_uri": "https://localhost:8080/"
        },
        "id": "H-q74EoibGrB",
        "outputId": "f7a11095-6bab-4a55-dbd5-f6758480b588"
      },
      "outputs": [
        {
          "name": "stdout",
          "output_type": "stream",
          "text": [
            "52/52 [==============================] - 28s 328ms/step\n"
          ]
        }
      ],
      "source": [
        "predictions_dn201_ca = model_dn201_ca.predict(test_batches)"
      ]
    },
    {
      "cell_type": "code",
      "execution_count": null,
      "metadata": {
        "id": "6n5ALcIrbGrB"
      },
      "outputs": [],
      "source": [
        "#geting predictions on test dataset\n",
        "y_pred = np.argmax(predictions_dn201_ca, axis=1)\n",
        "#getting the true labels per image\n",
        "y_true = test_batches.classes\n",
        "#getting the predicted labels per image\n",
        "y_prob = predictions_dn201_ca"
      ]
    },
    {
      "cell_type": "code",
      "execution_count": null,
      "metadata": {
        "colab": {
          "base_uri": "https://localhost:8080/"
        },
        "id": "t93Nr0VzbGrB",
        "outputId": "b59945f1-4d5f-4cba-8ee7-ac321da5f148"
      },
      "outputs": [
        {
          "name": "stdout",
          "output_type": "stream",
          "text": [
            "\n",
            "Classification Report:\n",
            "              precision    recall  f1-score   support\n",
            "\n",
            "          AK       0.61      0.50      0.55        22\n",
            "         BCC       0.70      0.78      0.74        27\n",
            "         BKL       0.76      0.67      0.71        66\n",
            "          DF       1.00      0.83      0.91         6\n",
            "         MEL       0.79      0.43      0.56        35\n",
            "          NV       0.95      0.99      0.97       663\n",
            "        VASC       0.82      1.00      0.90         9\n",
            "\n",
            "    accuracy                           0.92       828\n",
            "   macro avg       0.80      0.74      0.76       828\n",
            "weighted avg       0.91      0.92      0.91       828\n",
            "\n"
          ]
        }
      ],
      "source": [
        "classnames = ['AK', 'BCC', 'BKL', 'DF', 'MEL', 'NV', 'VASC']\n",
        "\n",
        "from tensorflow.keras.utils import to_categorical\n",
        "y_test = to_categorical(y_true)\n",
        "\n",
        "report = classification_report(y_true, y_pred, target_names=classnames)\n",
        "\n",
        "print(\"\\nClassification Report:\")\n",
        "print(report)"
      ]
    },
    {
      "cell_type": "code",
      "execution_count": null,
      "metadata": {
        "colab": {
          "base_uri": "https://localhost:8080/"
        },
        "id": "pvyaO75PbGrC",
        "outputId": "9ac7b16f-b6e1-4ad0-e5c0-4bae7fea4270"
      },
      "outputs": [
        {
          "name": "stderr",
          "output_type": "stream",
          "text": [
            "WARNING:matplotlib.font_manager:findfont: Font family 'Times New Roman' not found.\n",
            "WARNING:matplotlib.font_manager:findfont: Font family 'Times New Roman' not found.\n",
            "WARNING:matplotlib.font_manager:findfont: Font family 'Times New Roman' not found.\n",
            "WARNING:matplotlib.font_manager:findfont: Font family 'Times New Roman' not found.\n",
            "WARNING:matplotlib.font_manager:findfont: Font family 'Times New Roman' not found.\n",
            "WARNING:matplotlib.font_manager:findfont: Font family 'Times New Roman' not found.\n",
            "WARNING:matplotlib.font_manager:findfont: Font family 'Times New Roman' not found.\n",
            "WARNING:matplotlib.font_manager:findfont: Font family 'Times New Roman' not found.\n",
            "WARNING:matplotlib.font_manager:findfont: Font family 'Times New Roman' not found.\n",
            "WARNING:matplotlib.font_manager:findfont: Font family 'Times New Roman' not found.\n",
            "WARNING:matplotlib.font_manager:findfont: Font family 'Times New Roman' not found.\n",
            "WARNING:matplotlib.font_manager:findfont: Font family 'Times New Roman' not found.\n",
            "WARNING:matplotlib.font_manager:findfont: Font family 'Times New Roman' not found.\n"
          ]
        },
        {
          "data": {
            "image/png": "[encoded data removed]",
            "text/plain": [
              "<Figure size 1000x400 with 2 Axes>"
            ]
          },
          "metadata": {},
          "output_type": "display_data"
        }
      ],
      "source": [
        "## Confusion Matrix\n",
        "title_font = {'fontname':'Times New Roman', 'size':'14', 'color':'black', 'weight':'normal'}\n",
        "label_font = {'fontname':'Times New Roman', 'size':'12', 'color':'black', 'weight':'normal'}\n",
        "\n",
        "from sklearn.metrics import confusion_matrix\n",
        "import seaborn as sns\n",
        "# Creating confusion matrix\n",
        "cm = confusion_matrix(y_true, y_pred)\n",
        "# Plotting the confusion matrix\n",
        "plt.figure(figsize=(10,4))\n",
        "sns.heatmap(cm, annot=True, fmt='g', cmap='Blues', xticklabels=targetnames, yticklabels=targetnames)\n",
        "plt.xlabel('Predicted Label', fontdict=label_font)\n",
        "plt.ylabel('True Label', fontdict=label_font)\n",
        "plt.title('Confusion Matrix', fontdict=title_font)\n",
        "plt.show()"
      ]
    },
    {
      "cell_type": "code",
      "execution_count": null,
      "metadata": {
        "colab": {
          "base_uri": "https://localhost:8080/"
        },
        "id": "iPVivqoZbGrC",
        "outputId": "9e298ac0-a91c-4307-b487-e92993594cc7"
      },
      "outputs": [
        {
          "name": "stdout",
          "output_type": "stream",
          "text": [
            "Accuracy: 0.9178743961352657\n"
          ]
        }
      ],
      "source": [
        "### Accuracy\n",
        "print(\"Accuracy: \" + str(accuracy_score(y_true, y_pred)))\n"
      ]
    },
    {
      "cell_type": "code",
      "execution_count": null,
      "metadata": {
        "colab": {
          "base_uri": "https://localhost:8080/"
        },
        "id": "0y1WvmDObGrC",
        "outputId": "e4e8bb22-a291-4166-a512-2b0fd82813bb"
      },
      "outputs": [
        {
          "name": "stdout",
          "output_type": "stream",
          "text": [
            "Top-1 Accuracy: 0.9178743961352657\n",
            "Top-2 Accuracy: 0.9722222222222222\n",
            "Top-3 Accuracy: 0.9903381642512077\n"
          ]
        }
      ],
      "source": [
        "import numpy as np\n",
        "from sklearn.metrics import accuracy_score\n",
        "\n",
        "# Calculate top-1 accuracy\n",
        "top1_acc = accuracy_score(y_true, y_pred)\n",
        "print(\"Top-1 Accuracy:\", top1_acc)\n",
        "\n",
        "# Calculate top-2 accuracy\n",
        "y_pred_top2 = np.argsort(-predictions_dn201_ca, axis=1)[:, :2] # Get the top 2 predicted classes\n",
        "top2_acc = np.mean(np.array([y_true[i] in y_pred_top2[i] for i in range(len(y_true))]))\n",
        "print(\"Top-2 Accuracy:\", top2_acc)\n",
        "\n",
        "# Calculate top-3 accuracy\n",
        "y_pred_top3 = np.argsort(-predictions_dn201_ca, axis=1)[:, :3] # Get the top 3 predicted classes\n",
        "top3_acc = np.mean(np.array([y_true[i] in y_pred_top3[i] for i in range(len(y_true))]))\n",
        "print(\"Top-3 Accuracy:\", top3_acc)\n",
        "from sklearn.metrics import f1_score\n"
      ]
    },
    {
      "cell_type": "code",
      "execution_count": null,
      "metadata": {
        "colab": {
          "base_uri": "https://localhost:8080/"
        },
        "id": "TI_XASW4bGrC",
        "outputId": "f68c6776-3a4e-4dec-c21a-25079997569d"
      },
      "outputs": [
        {
          "name": "stdout",
          "output_type": "stream",
          "text": [
            "Weighted Precision: 0.9124716536265962\n",
            "Weighted Recall (sensitivity): 0.9178743961352657\n",
            "Weighted F1-Score: 0.912062792239215\n",
            "Weighted Specificity: 0.8424065492998342\n",
            "weighted Roc score: 0.9774518770354976\n"
          ]
        }
      ],
      "source": [
        "### Weighted Evaluation Measures\n",
        "print(\"Weighted Precision: \"+ str(precision_score(y_true, y_pred, average='weighted')))\n",
        "print(\"Weighted Recall (sensitivity): \"+ str(recall_score(y_true, y_pred, average='weighted')))\n",
        "print(\"Weighted F1-Score: \"+ str(f1_score(y_true, y_pred, average='weighted')))\n",
        "print(\"Weighted Specificity: \"+ str(specificity_score(y_true, y_pred, average='weighted')))\n",
        "print(\"weighted Roc score: \" + str(roc_auc_score(y_true,y_prob,multi_class='ovr',average='weighted')))"
      ]
    },
    {
      "cell_type": "markdown",
      "metadata": {
        "id": "5_BGyDJmbGrC"
      },
      "source": [
        "### DN201_seacnn"
      ]
    },
    {
      "cell_type": "code",
      "execution_count": null,
      "metadata": {
        "id": "C6DpwkSobGrD"
      },
      "outputs": [],
      "source": [
        "### Squeeze and Excitation Attention\n",
        "def squeeze_excite_block(input, filters, se_ratio):\n",
        "    # Squeeze step\n",
        "    se = tf.keras.layers.GlobalAveragePooling2D()(input)\n",
        "    se = tf.keras.layers.Dense(filters // se_ratio, activation='relu')(se)\n",
        "    se = tf.keras.layers.Dense(filters, activation='softmax')(se)\n",
        "    # Excitation step\n",
        "    x = tf.keras.layers.multiply([input, se])\n",
        "    return x"
      ]
    },
    {
      "cell_type": "code",
      "execution_count": null,
      "metadata": {
        "colab": {
          "base_uri": "https://localhost:8080/"
        },
        "id": "HuDMOVIhbGrD",
        "outputId": "39fc6dcb-fd80-494a-a424-bbeb2f928df1"
      },
      "outputs": [
        {
          "name": "stdout",
          "output_type": "stream",
          "text": [
            "7\n"
          ]
        }
      ],
      "source": [
        "# Add convolutional layers with Channel Attention\n",
        "conv = Conv2D(filters=128, kernel_size=(7, 7), activation=\"relu\", padding=\"same\", kernel_initializer='he_normal')(reshape)\n",
        "conv = BatchNormalization()(conv)\n",
        "conv = Conv2D(filters=128, kernel_size=(5, 5), activation=\"relu\", padding=\"same\", kernel_initializer='he_normal')(conv)\n",
        "conv = BatchNormalization()(conv)\n",
        "conv = Conv2D(filters=128, kernel_size=(3, 3), activation=\"relu\", padding=\"same\", kernel_initializer='he_normal')(conv)\n",
        "conv = BatchNormalization()(conv)\n",
        "conv = Conv2D(filters=128, kernel_size=(1, 1), activation=\"relu\", padding=\"same\", kernel_initializer='he_normal')(conv)\n",
        "conv = BatchNormalization()(conv)\n",
        "image_size_2 = 8\n",
        "from tensorflow.keras.layers import Reshape\n",
        "conv = Reshape(target_shape=(image_size_2, image_size_2, 128,))(conv)\n",
        "x = squeeze_excite_block(conv, 128, 128)  # use same number of filters as the input tensor\n",
        "# Add convolutional layers with Channel Attention\n",
        "conv = Conv2D(filters=128, kernel_size=(7, 7), activation=\"relu\", padding=\"same\", kernel_initializer='he_normal')(x)\n",
        "conv = BatchNormalization()(conv)\n",
        "conv = Conv2D(filters=128, kernel_size=(5, 5), activation=\"relu\", padding=\"same\", kernel_initializer='he_normal')(conv)\n",
        "conv = BatchNormalization()(conv)\n",
        "conv = Conv2D(filters=128, kernel_size=(3, 3), activation=\"relu\", padding=\"same\", kernel_initializer='he_normal')(conv)\n",
        "conv = BatchNormalization()(conv)\n",
        "conv = Conv2D(filters=128, kernel_size=(1, 1), activation=\"relu\", padding=\"same\", kernel_initializer='he_normal')(conv)\n",
        "conv = BatchNormalization()(conv)\n",
        "conv=(MaxPooling2D(strides=(2, 2),padding=\"same\")(conv))\n",
        "conv = Conv2D(filters=256,kernel_size=(7,7), activation=\"relu\",padding=\"same\",kernel_initializer='he_normal')(conv)\n",
        "conv = BatchNormalization()(conv)\n",
        "conv = Conv2D(filters=256,kernel_size=(5,5), activation=\"relu\",padding=\"same\",kernel_initializer='he_normal')(conv)\n",
        "conv = BatchNormalization()(conv)\n",
        "conv = Conv2D(filters=256,kernel_size=(3,3), activation=\"relu\",padding=\"same\",kernel_initializer='he_normal')(conv)\n",
        "conv = BatchNormalization()(conv)\n",
        "conv = Conv2D(filters=256,kernel_size=(1,1), activation=\"relu\",padding=\"same\",kernel_initializer='he_normal')(conv)\n",
        "conv = BatchNormalization()(conv)\n",
        "image_size_3 = 4\n",
        "from tensorflow.keras.layers import Reshape\n",
        "conv = Reshape(target_shape=(image_size_3, image_size_3, 256,))(conv)\n",
        "x = squeeze_excite_block(conv, 256, 256)  # use same number of filters as the input tensor\n",
        "conv = Conv2D(filters=256,kernel_size=(7,7), activation=\"relu\",padding=\"same\",kernel_initializer='he_normal')(x)\n",
        "conv = BatchNormalization()(conv)\n",
        "conv = Conv2D(filters=256,kernel_size=(5,5), activation=\"relu\",padding=\"same\",kernel_initializer='he_normal')(conv)\n",
        "conv = BatchNormalization()(conv)\n",
        "conv = Conv2D(filters=256,kernel_size=(3,3), activation=\"relu\",padding=\"same\",kernel_initializer='he_normal')(conv)\n",
        "conv = BatchNormalization()(conv)\n",
        "conv = Conv2D(filters=256,kernel_size=(1,1), activation=\"relu\",padding=\"same\",kernel_initializer='he_normal')(conv)\n",
        "conv = BatchNormalization()(conv)\n",
        "conv=(MaxPooling2D(pool_size=(2, 2),padding=\"same\")(conv))\n",
        "num_classes = test_batches.num_classes\n",
        "print(num_classes)\n",
        "conv=(Flatten()(conv))\n",
        "conv=(Dense(1024,activation=\"relu\")(conv))\n",
        "conv=(Dense(512,activation=\"relu\")(conv))\n",
        "conv=(Dense(num_classes, activation=\"softmax\")(conv))\n",
        "\n",
        "model_dn201_sea = Model(inputs=MainInput, outputs=conv)"
      ]
    },
    {
      "cell_type": "code",
      "execution_count": null,
      "metadata": {
        "id": "DwPwZBN8bGrD"
      },
      "outputs": [],
      "source": [
        "from tensorflow.keras import models\n",
        "model_dn201_sea.load_weights(\"/content/IGPA(DN_MN_VGG_X)/DN/DN201/DN201_SEA.hdf5\")"
      ]
    },
    {
      "cell_type": "code",
      "execution_count": null,
      "metadata": {
        "colab": {
          "base_uri": "https://localhost:8080/"
        },
        "id": "78yWJKVJbGrD",
        "outputId": "99ea6788-7552-46d0-dfb6-331bf2562c2f"
      },
      "outputs": [
        {
          "name": "stdout",
          "output_type": "stream",
          "text": [
            "52/52 [==============================] - 24s 283ms/step\n"
          ]
        }
      ],
      "source": [
        "predictions_dn201_sea = model_dn201_sea.predict(test_batches)"
      ]
    },
    {
      "cell_type": "code",
      "execution_count": null,
      "metadata": {
        "id": "exJpiD4YbGrD"
      },
      "outputs": [],
      "source": [
        "#geting predictions on test dataset\n",
        "y_pred = np.argmax(predictions_dn201_sea, axis=1)\n",
        "#getting the true labels per image\n",
        "y_true = test_batches.classes\n",
        "#getting the predicted labels per image\n",
        "y_prob = predictions_dn201_sea"
      ]
    },
    {
      "cell_type": "code",
      "execution_count": null,
      "metadata": {
        "colab": {
          "base_uri": "https://localhost:8080/"
        },
        "id": "VGnSKX9SbGrE",
        "outputId": "cfe91db0-15d7-44b8-df64-b85f132677b9"
      },
      "outputs": [
        {
          "name": "stdout",
          "output_type": "stream",
          "text": [
            "\n",
            "Classification Report:\n",
            "              precision    recall  f1-score   support\n",
            "\n",
            "          AK       0.88      0.64      0.74        22\n",
            "         BCC       0.82      0.67      0.73        27\n",
            "         BKL       0.75      0.80      0.77        66\n",
            "          DF       1.00      0.67      0.80         6\n",
            "         MEL       0.80      0.46      0.58        35\n",
            "          NV       0.95      0.98      0.96       663\n",
            "        VASC       0.90      1.00      0.95         9\n",
            "\n",
            "    accuracy                           0.92       828\n",
            "   macro avg       0.87      0.74      0.79       828\n",
            "weighted avg       0.92      0.92      0.92       828\n",
            "\n"
          ]
        }
      ],
      "source": [
        "classnames = ['AK', 'BCC', 'BKL', 'DF', 'MEL', 'NV', 'VASC']\n",
        "\n",
        "from tensorflow.keras.utils import to_categorical\n",
        "y_test = to_categorical(y_true)\n",
        "\n",
        "report = classification_report(y_true, y_pred, target_names=classnames)\n",
        "\n",
        "print(\"\\nClassification Report:\")\n",
        "print(report)"
      ]
    },
    {
      "cell_type": "code",
      "execution_count": null,
      "metadata": {
        "colab": {
          "base_uri": "https://localhost:8080/"
        },
        "id": "XR971a1zbGrE",
        "outputId": "97f90fc5-0a0a-4864-f11b-f709b76792ec"
      },
      "outputs": [
        {
          "name": "stderr",
          "output_type": "stream",
          "text": [
            "WARNING:matplotlib.font_manager:findfont: Font family 'Times New Roman' not found.\n",
            "WARNING:matplotlib.font_manager:findfont: Font family 'Times New Roman' not found.\n",
            "WARNING:matplotlib.font_manager:findfont: Font family 'Times New Roman' not found.\n",
            "WARNING:matplotlib.font_manager:findfont: Font family 'Times New Roman' not found.\n",
            "WARNING:matplotlib.font_manager:findfont: Font family 'Times New Roman' not found.\n",
            "WARNING:matplotlib.font_manager:findfont: Font family 'Times New Roman' not found.\n",
            "WARNING:matplotlib.font_manager:findfont: Font family 'Times New Roman' not found.\n",
            "WARNING:matplotlib.font_manager:findfont: Font family 'Times New Roman' not found.\n",
            "WARNING:matplotlib.font_manager:findfont: Font family 'Times New Roman' not found.\n",
            "WARNING:matplotlib.font_manager:findfont: Font family 'Times New Roman' not found.\n",
            "WARNING:matplotlib.font_manager:findfont: Font family 'Times New Roman' not found.\n",
            "WARNING:matplotlib.font_manager:findfont: Font family 'Times New Roman' not found.\n",
            "WARNING:matplotlib.font_manager:findfont: Font family 'Times New Roman' not found.\n"
          ]
        },
        {
          "data": {
            "image/png": "[encoded data removed]",
            "text/plain": [
              "<Figure size 1000x400 with 2 Axes>"
            ]
          },
          "metadata": {},
          "output_type": "display_data"
        }
      ],
      "source": [
        "## Confusion Matrix\n",
        "title_font = {'fontname':'Times New Roman', 'size':'14', 'color':'black', 'weight':'normal'}\n",
        "label_font = {'fontname':'Times New Roman', 'size':'12', 'color':'black', 'weight':'normal'}\n",
        "\n",
        "from sklearn.metrics import confusion_matrix\n",
        "import seaborn as sns\n",
        "# Creating confusion matrix\n",
        "cm = confusion_matrix(y_true, y_pred)\n",
        "# Plotting the confusion matrix\n",
        "plt.figure(figsize=(10,4))\n",
        "sns.heatmap(cm, annot=True, fmt='g', cmap='Blues', xticklabels=targetnames, yticklabels=targetnames)\n",
        "plt.xlabel('Predicted Label', fontdict=label_font)\n",
        "plt.ylabel('True Label', fontdict=label_font)\n",
        "plt.title('Confusion Matrix', fontdict=title_font)\n",
        "plt.show()"
      ]
    },
    {
      "cell_type": "code",
      "execution_count": null,
      "metadata": {
        "colab": {
          "base_uri": "https://localhost:8080/"
        },
        "id": "0eEGqSStbGrE",
        "outputId": "69cd0fc8-893f-419b-e4c2-657b4037138c"
      },
      "outputs": [
        {
          "name": "stdout",
          "output_type": "stream",
          "text": [
            "Accuracy: 0.9227053140096618\n"
          ]
        }
      ],
      "source": [
        "### Accuracy\n",
        "print(\"Accuracy: \" + str(accuracy_score(y_true, y_pred)))\n"
      ]
    },
    {
      "cell_type": "code",
      "execution_count": null,
      "metadata": {
        "colab": {
          "base_uri": "https://localhost:8080/"
        },
        "id": "2UFnWKW2bGrE",
        "outputId": "a6126393-b502-4599-b3eb-0d66b1c125ae"
      },
      "outputs": [
        {
          "name": "stdout",
          "output_type": "stream",
          "text": [
            "Top-1 Accuracy: 0.9227053140096618\n",
            "Top-2 Accuracy: 0.9758454106280193\n",
            "Top-3 Accuracy: 0.9891304347826086\n"
          ]
        }
      ],
      "source": [
        "import numpy as np\n",
        "from sklearn.metrics import accuracy_score\n",
        "\n",
        "# Calculate top-1 accuracy\n",
        "top1_acc = accuracy_score(y_true, y_pred)\n",
        "print(\"Top-1 Accuracy:\", top1_acc)\n",
        "\n",
        "# Calculate top-2 accuracy\n",
        "y_pred_top2 = np.argsort(-predictions_dn201_sea, axis=1)[:, :2] # Get the top 2 predicted classes\n",
        "top2_acc = np.mean(np.array([y_true[i] in y_pred_top2[i] for i in range(len(y_true))]))\n",
        "print(\"Top-2 Accuracy:\", top2_acc)\n",
        "\n",
        "# Calculate top-3 accuracy\n",
        "y_pred_top3 = np.argsort(-predictions_dn201_sea, axis=1)[:, :3] # Get the top 3 predicted classes\n",
        "top3_acc = np.mean(np.array([y_true[i] in y_pred_top3[i] for i in range(len(y_true))]))\n",
        "print(\"Top-3 Accuracy:\", top3_acc)\n",
        "from sklearn.metrics import f1_score\n"
      ]
    },
    {
      "cell_type": "code",
      "execution_count": null,
      "metadata": {
        "colab": {
          "base_uri": "https://localhost:8080/"
        },
        "id": "wraMgCMKbGrE",
        "outputId": "b65c6156-c37b-4ab6-9aee-5d4b059a366e"
      },
      "outputs": [
        {
          "name": "stdout",
          "output_type": "stream",
          "text": [
            "Weighted Precision: 0.9200876839564647\n",
            "Weighted Recall (sensitivity): 0.9227053140096618\n",
            "Weighted F1-Score: 0.9181094178600152\n",
            "Weighted Specificity: 0.8278111418314429\n",
            "weighted Roc score: 0.9745395290861468\n"
          ]
        }
      ],
      "source": [
        "### Weighted Evaluation Measures\n",
        "print(\"Weighted Precision: \"+ str(precision_score(y_true, y_pred, average='weighted')))\n",
        "print(\"Weighted Recall (sensitivity): \"+ str(recall_score(y_true, y_pred, average='weighted')))\n",
        "print(\"Weighted F1-Score: \"+ str(f1_score(y_true, y_pred, average='weighted')))\n",
        "print(\"Weighted Specificity: \"+ str(specificity_score(y_true, y_pred, average='weighted')))\n",
        "print(\"weighted Roc score: \" + str(roc_auc_score(y_true,y_prob,multi_class='ovr',average='weighted')))"
      ]
    },
    {
      "cell_type": "markdown",
      "metadata": {
        "id": "jPfP9lhqbGrE"
      },
      "source": [
        "### DN201_sacnn"
      ]
    },
    {
      "cell_type": "code",
      "execution_count": null,
      "metadata": {
        "id": "nkuuGQeLbGrF"
      },
      "outputs": [],
      "source": [
        "### Soft Attention\n",
        "from keras import backend as K\n",
        "from keras.layers import Layer,InputSpec\n",
        "import keras.layers as kl\n",
        "import tensorflow as tf\n",
        "\n",
        "\n",
        "\n",
        "class SoftAttention(Layer):\n",
        "    def __init__(self,ch,m,concat_with_x=False,aggregate=False,**kwargs):\n",
        "        self.channels=int(ch)\n",
        "        self.multiheads = m\n",
        "        self.aggregate_channels = aggregate\n",
        "        self.concat_input_with_scaled = concat_with_x\n",
        "\n",
        "\n",
        "        super(SoftAttention,self).__init__(**kwargs)\n",
        "\n",
        "    def build(self,input_shape):\n",
        "\n",
        "        self.i_shape = input_shape\n",
        "\n",
        "        kernel_shape_conv3d = (self.channels, 3, 3) + (1, self.multiheads) # DHWC\n",
        "\n",
        "        self.out_attention_maps_shape = input_shape[0:1]+(self.multiheads,)+input_shape[1:-1]\n",
        "\n",
        "        if self.aggregate_channels==False:\n",
        "\n",
        "            self.out_features_shape = input_shape[:-1]+(input_shape[-1]+(input_shape[-1]*self.multiheads),)\n",
        "        else:\n",
        "            if self.concat_input_with_scaled:\n",
        "                self.out_features_shape = input_shape[:-1]+(input_shape[-1]*2,)\n",
        "            else:\n",
        "                self.out_features_shape = input_shape\n",
        "\n",
        "\n",
        "        self.kernel_conv3d = self.add_weight(shape=kernel_shape_conv3d,\n",
        "                                        initializer='he_uniform',\n",
        "                                        name='kernel_conv3d')\n",
        "        self.bias_conv3d = self.add_weight(shape=(self.multiheads,),\n",
        "                                      initializer='zeros',\n",
        "                                      name='bias_conv3d')\n",
        "\n",
        "        super(SoftAttention, self).build(input_shape)\n",
        "\n",
        "    def call(self, x):\n",
        "\n",
        "        exp_x = K.expand_dims(x,axis=-1)\n",
        "\n",
        "        c3d = K.conv3d(exp_x,\n",
        "                     kernel=self.kernel_conv3d,\n",
        "                     strides=(1,1,self.i_shape[-1]), padding='same', data_format='channels_last')\n",
        "        conv3d = K.bias_add(c3d,\n",
        "                        self.bias_conv3d)\n",
        "        conv3d = kl.Activation('relu')(conv3d)\n",
        "\n",
        "        conv3d = K.permute_dimensions(conv3d,pattern=(0,4,1,2,3))\n",
        "\n",
        "\n",
        "        conv3d = K.squeeze(conv3d, axis=-1)\n",
        "        conv3d = K.reshape(conv3d,shape=(-1, self.multiheads ,self.i_shape[1]*self.i_shape[2]))\n",
        "\n",
        "        softmax_alpha = K.softmax(conv3d, axis=-1)\n",
        "        softmax_alpha = kl.Reshape(target_shape=(self.multiheads, self.i_shape[1],self.i_shape[2]))(softmax_alpha)\n",
        "\n",
        "\n",
        "        if self.aggregate_channels==False:\n",
        "            exp_softmax_alpha = K.expand_dims(softmax_alpha, axis=-1)\n",
        "            exp_softmax_alpha = K.permute_dimensions(exp_softmax_alpha,pattern=(0,2,3,1,4))\n",
        "\n",
        "            x_exp = K.expand_dims(x,axis=-2)\n",
        "\n",
        "            u = kl.Multiply()([exp_softmax_alpha, x_exp])\n",
        "\n",
        "            u = kl.Reshape(target_shape=(self.i_shape[1],self.i_shape[2],u.shape[-1]*u.shape[-2]))(u)\n",
        "\n",
        "        else:\n",
        "            exp_softmax_alpha = K.permute_dimensions(softmax_alpha,pattern=(0,2,3,1))\n",
        "\n",
        "            exp_softmax_alpha = K.sum(exp_softmax_alpha,axis=-1)\n",
        "\n",
        "            exp_softmax_alpha = K.expand_dims(exp_softmax_alpha, axis=-1)\n",
        "\n",
        "            u = kl.Multiply()([exp_softmax_alpha, x])\n",
        "\n",
        "        if self.concat_input_with_scaled:\n",
        "            o = kl.Concatenate(axis=-1)([u,x])\n",
        "        else:\n",
        "            o = u\n",
        "\n",
        "        return [o, softmax_alpha]\n",
        "\n",
        "    def compute_output_shape(self, input_shape):\n",
        "        return [self.out_features_shape, self.out_attention_maps_shape]\n",
        "\n",
        "\n",
        "    def get_config(self):\n",
        "        return super(SoftAttention,self).get_config()\n"
      ]
    },
    {
      "cell_type": "code",
      "execution_count": null,
      "metadata": {
        "colab": {
          "base_uri": "https://localhost:8080/"
        },
        "id": "wfX_Er8KbGrF",
        "outputId": "ce3f6dfd-0104-40a2-b03a-d0eb482018d7"
      },
      "outputs": [
        {
          "name": "stdout",
          "output_type": "stream",
          "text": [
            "7\n"
          ]
        }
      ],
      "source": [
        "# Add convolutional layers with Channel Attention\n",
        "conv = Conv2D(filters=128, kernel_size=(7, 7), activation=\"relu\", padding=\"same\", kernel_initializer='he_normal')(reshape)\n",
        "conv = BatchNormalization()(conv)\n",
        "conv = Conv2D(filters=128, kernel_size=(5, 5), activation=\"relu\", padding=\"same\", kernel_initializer='he_normal')(conv)\n",
        "conv = BatchNormalization()(conv)\n",
        "conv = Conv2D(filters=128, kernel_size=(3, 3), activation=\"relu\", padding=\"same\", kernel_initializer='he_normal')(conv)\n",
        "conv = BatchNormalization()(conv)\n",
        "conv = Conv2D(filters=128, kernel_size=(1, 1), activation=\"relu\", padding=\"same\", kernel_initializer='he_normal')(conv)\n",
        "conv = BatchNormalization()(conv)\n",
        "attention_layer,map2 = SoftAttention(aggregate=True,m=16,concat_with_x=False,ch=int(conv.shape[-1]),name='soft_attention')(conv)\n",
        "attention_layer=(MaxPooling2D(pool_size=(2, 2),padding=\"same\")(attention_layer))\n",
        "conv=(MaxPooling2D(pool_size=(2, 2),padding=\"same\")(conv))\n",
        "\n",
        "conv = concatenate([conv,attention_layer])\n",
        "conv  = Activation('relu')(conv)\n",
        "conv = Dropout(0.5)(conv)\n",
        "conv = Conv2D(filters=256,kernel_size=(7,7), activation=\"relu\",padding=\"same\",kernel_initializer='he_normal')(conv)\n",
        "conv = BatchNormalization()(conv)\n",
        "conv = Conv2D(filters=256,kernel_size=(5,5), activation=\"relu\",padding=\"same\",kernel_initializer='he_normal')(conv)\n",
        "conv = BatchNormalization()(conv)\n",
        "conv = Conv2D(filters=256,kernel_size=(3,3), activation=\"relu\",padding=\"same\",kernel_initializer='he_normal')(conv)\n",
        "conv = BatchNormalization()(conv)\n",
        "conv = Conv2D(filters=256,kernel_size=(1,1), activation=\"relu\",padding=\"same\",kernel_initializer='he_normal')(conv)\n",
        "conv = BatchNormalization()(conv)\n",
        "attention_layer,map2 = SoftAttention(aggregate=True,m=16,concat_with_x=False,ch=int(conv.shape[-1]),name='soft_attention_2')(conv)\n",
        "attention_layer=(MaxPooling2D(pool_size=(2, 2),padding=\"same\")(attention_layer))\n",
        "conv=(MaxPooling2D(pool_size=(2, 2),padding=\"same\")(conv))\n",
        "\n",
        "conv = concatenate([conv,attention_layer])\n",
        "conv  = Activation('relu')(conv)\n",
        "conv = Dropout(0.5)(conv)\n",
        "num_classes = test_batches.num_classes\n",
        "print(num_classes)\n",
        "conv=(Flatten()(conv))\n",
        "conv=(Dense(1024,activation=\"relu\")(conv))\n",
        "conv = Dropout(0.5)(conv)\n",
        "conv=(Dense(512,activation=\"relu\")(conv))\n",
        "conv = Dropout(0.25)(conv)\n",
        "conv=(Dense(num_classes, activation=\"softmax\")(conv))\n",
        "\n",
        "model_dn201_sa = Model(inputs=MainInput, outputs=conv)"
      ]
    },
    {
      "cell_type": "code",
      "execution_count": null,
      "metadata": {
        "id": "hSuBwuw4bGrF"
      },
      "outputs": [],
      "source": [
        "from tensorflow.keras import models\n",
        "model_dn201_sa.load_weights(\"/content/IGPA(DN_MN_VGG_X)/DN/DN201/DN201_SA.hdf5\")"
      ]
    },
    {
      "cell_type": "code",
      "execution_count": null,
      "metadata": {
        "colab": {
          "base_uri": "https://localhost:8080/"
        },
        "id": "QIO-53y3bGrF",
        "outputId": "ef80dc77-8988-441a-9f96-04a48f9f0fb5"
      },
      "outputs": [
        {
          "name": "stdout",
          "output_type": "stream",
          "text": [
            "52/52 [==============================] - 23s 278ms/step\n"
          ]
        }
      ],
      "source": [
        "predictions_dn201_sa = model_dn201_sa.predict(test_batches)"
      ]
    },
    {
      "cell_type": "code",
      "execution_count": null,
      "metadata": {
        "id": "9qd8ELGRbGrF"
      },
      "outputs": [],
      "source": [
        "#geting predictions on test dataset\n",
        "y_pred = np.argmax(predictions_dn201_sa, axis=1)\n",
        "#getting the true labels per image\n",
        "y_true = test_batches.classes\n",
        "#getting the predicted labels per image\n",
        "y_prob = predictions_dn201_sa"
      ]
    },
    {
      "cell_type": "code",
      "execution_count": null,
      "metadata": {
        "colab": {
          "base_uri": "https://localhost:8080/"
        },
        "id": "imJwlRSxbGrG",
        "outputId": "c8db718d-850b-4441-e378-7d465a9cbfa6"
      },
      "outputs": [
        {
          "name": "stdout",
          "output_type": "stream",
          "text": [
            "\n",
            "Classification Report:\n",
            "              precision    recall  f1-score   support\n",
            "\n",
            "          AK       0.76      0.73      0.74        22\n",
            "         BCC       0.84      0.78      0.81        27\n",
            "         BKL       0.70      0.73      0.71        66\n",
            "          DF       1.00      0.50      0.67         6\n",
            "         MEL       0.75      0.51      0.61        35\n",
            "          NV       0.96      0.98      0.97       663\n",
            "        VASC       0.90      1.00      0.95         9\n",
            "\n",
            "    accuracy                           0.92       828\n",
            "   macro avg       0.84      0.75      0.78       828\n",
            "weighted avg       0.92      0.92      0.92       828\n",
            "\n"
          ]
        }
      ],
      "source": [
        "classnames = ['AK', 'BCC', 'BKL', 'DF', 'MEL', 'NV', 'VASC']\n",
        "\n",
        "from tensorflow.keras.utils import to_categorical\n",
        "y_test = to_categorical(y_true)\n",
        "\n",
        "report = classification_report(y_true, y_pred, target_names=classnames)\n",
        "\n",
        "print(\"\\nClassification Report:\")\n",
        "print(report)"
      ]
    },
    {
      "cell_type": "code",
      "execution_count": null,
      "metadata": {
        "colab": {
          "base_uri": "https://localhost:8080/"
        },
        "id": "IGvc2gT5bGrG",
        "outputId": "7186a355-0d18-401e-ed8d-21d7a431b78d"
      },
      "outputs": [
        {
          "name": "stderr",
          "output_type": "stream",
          "text": [
            "WARNING:matplotlib.font_manager:findfont: Font family 'Times New Roman' not found.\n",
            "WARNING:matplotlib.font_manager:findfont: Font family 'Times New Roman' not found.\n",
            "WARNING:matplotlib.font_manager:findfont: Font family 'Times New Roman' not found.\n",
            "WARNING:matplotlib.font_manager:findfont: Font family 'Times New Roman' not found.\n",
            "WARNING:matplotlib.font_manager:findfont: Font family 'Times New Roman' not found.\n",
            "WARNING:matplotlib.font_manager:findfont: Font family 'Times New Roman' not found.\n",
            "WARNING:matplotlib.font_manager:findfont: Font family 'Times New Roman' not found.\n",
            "WARNING:matplotlib.font_manager:findfont: Font family 'Times New Roman' not found.\n",
            "WARNING:matplotlib.font_manager:findfont: Font family 'Times New Roman' not found.\n",
            "WARNING:matplotlib.font_manager:findfont: Font family 'Times New Roman' not found.\n",
            "WARNING:matplotlib.font_manager:findfont: Font family 'Times New Roman' not found.\n",
            "WARNING:matplotlib.font_manager:findfont: Font family 'Times New Roman' not found.\n",
            "WARNING:matplotlib.font_manager:findfont: Font family 'Times New Roman' not found.\n"
          ]
        },
        {
          "data": {
            "image/png": "[encoded data removed]",
            "text/plain": [
              "<Figure size 1000x400 with 2 Axes>"
            ]
          },
          "metadata": {},
          "output_type": "display_data"
        }
      ],
      "source": [
        "## Confusion Matrix\n",
        "title_font = {'fontname':'Times New Roman', 'size':'14', 'color':'black', 'weight':'normal'}\n",
        "label_font = {'fontname':'Times New Roman', 'size':'12', 'color':'black', 'weight':'normal'}\n",
        "\n",
        "from sklearn.metrics import confusion_matrix\n",
        "import seaborn as sns\n",
        "# Creating confusion matrix\n",
        "cm = confusion_matrix(y_true, y_pred)\n",
        "# Plotting the confusion matrix\n",
        "plt.figure(figsize=(10,4))\n",
        "sns.heatmap(cm, annot=True, fmt='g', cmap='Blues', xticklabels=targetnames, yticklabels=targetnames)\n",
        "plt.xlabel('Predicted Label', fontdict=label_font)\n",
        "plt.ylabel('True Label', fontdict=label_font)\n",
        "plt.title('Confusion Matrix', fontdict=title_font)\n",
        "plt.show()"
      ]
    },
    {
      "cell_type": "code",
      "execution_count": null,
      "metadata": {
        "colab": {
          "base_uri": "https://localhost:8080/"
        },
        "id": "v86ngV-PbGrG",
        "outputId": "fcdb47ac-557b-404c-e111-8d2d1da2f1e2"
      },
      "outputs": [
        {
          "name": "stdout",
          "output_type": "stream",
          "text": [
            "Accuracy: 0.9202898550724637\n"
          ]
        }
      ],
      "source": [
        "### Accuracy\n",
        "print(\"Accuracy: \" + str(accuracy_score(y_true, y_pred)))\n"
      ]
    },
    {
      "cell_type": "code",
      "execution_count": null,
      "metadata": {
        "colab": {
          "base_uri": "https://localhost:8080/"
        },
        "id": "8I6042ePbGrG",
        "outputId": "f8d4d31d-593a-423a-c5dd-f15799541f79"
      },
      "outputs": [
        {
          "name": "stdout",
          "output_type": "stream",
          "text": [
            "Top-1 Accuracy: 0.9202898550724637\n",
            "Top-2 Accuracy: 0.9794685990338164\n",
            "Top-3 Accuracy: 0.9903381642512077\n"
          ]
        }
      ],
      "source": [
        "import numpy as np\n",
        "from sklearn.metrics import accuracy_score\n",
        "\n",
        "# Calculate top-1 accuracy\n",
        "top1_acc = accuracy_score(y_true, y_pred)\n",
        "print(\"Top-1 Accuracy:\", top1_acc)\n",
        "\n",
        "# Calculate top-2 accuracy\n",
        "y_pred_top2 = np.argsort(-predictions_dn201_sa, axis=1)[:, :2] # Get the top 2 predicted classes\n",
        "top2_acc = np.mean(np.array([y_true[i] in y_pred_top2[i] for i in range(len(y_true))]))\n",
        "print(\"Top-2 Accuracy:\", top2_acc)\n",
        "\n",
        "# Calculate top-3 accuracy\n",
        "y_pred_top3 = np.argsort(-predictions_dn201_sa, axis=1)[:, :3] # Get the top 3 predicted classes\n",
        "top3_acc = np.mean(np.array([y_true[i] in y_pred_top3[i] for i in range(len(y_true))]))\n",
        "print(\"Top-3 Accuracy:\", top3_acc)\n",
        "from sklearn.metrics import f1_score\n"
      ]
    },
    {
      "cell_type": "code",
      "execution_count": null,
      "metadata": {
        "colab": {
          "base_uri": "https://localhost:8080/"
        },
        "id": "fet9zILkbGrG",
        "outputId": "fb4a9cf4-da41-40a5-e6e7-bd65b5e740ab"
      },
      "outputs": [
        {
          "name": "stdout",
          "output_type": "stream",
          "text": [
            "Weighted Precision: 0.9181915948645627\n",
            "Weighted Recall (sensitivity): 0.9202898550724637\n",
            "Weighted F1-Score: 0.9175287599747423\n",
            "Weighted Specificity: 0.8564090767951773\n",
            "weighted Roc score: 0.9732790208294435\n"
          ]
        }
      ],
      "source": [
        "### Weighted Evaluation Measures\n",
        "print(\"Weighted Precision: \"+ str(precision_score(y_true, y_pred, average='weighted')))\n",
        "print(\"Weighted Recall (sensitivity): \"+ str(recall_score(y_true, y_pred, average='weighted')))\n",
        "print(\"Weighted F1-Score: \"+ str(f1_score(y_true, y_pred, average='weighted')))\n",
        "print(\"Weighted Specificity: \"+ str(specificity_score(y_true, y_pred, average='weighted')))\n",
        "print(\"weighted Roc score: \" + str(roc_auc_score(y_true,y_prob,multi_class='ovr',average='weighted')))"
      ]
    },
    {
      "cell_type": "markdown",
      "metadata": {
        "id": "u3VM-QG2bGrJ"
      },
      "source": [
        "### WAvg"
      ]
    },
    {
      "cell_type": "code",
      "execution_count": null,
      "metadata": {
        "colab": {
          "base_uri": "https://localhost:8080/"
        },
        "id": "g7YhxOIDbGrJ",
        "outputId": "ffbd55b1-74d8-419f-c34b-ac4c25f9310a"
      },
      "outputs": [
        {
          "name": "stdout",
          "output_type": "stream",
          "text": [
            "0.32961206533834203\n",
            "0.3370713365922961\n",
            "0.33331659806936187\n"
          ]
        }
      ],
      "source": [
        "# weighted average\n",
        "\n",
        "# Define the weights for each model's prediction\n",
        "weights = [0.35, .3, .15, .2]\n"
      ]
    },
    {
      "cell_type": "code",
      "execution_count": null,
      "metadata": {
        "id": "riX3PL2xbGrK"
      },
      "outputs": [],
      "source": [
        "# Calculate the weighted average of the softmax outputs for each image\n",
        "weighted_predictions = (weights[0] * predictions_cacnn) + (weights[1] * predictions_seacnn) + (weights[2] * predictions_sacnn) + (weights[3] * predictions_ccnn) / 4\n",
        "\n",
        "# Take the argmax of the weighted softmax outputs to get the predicted classes\n",
        "weighted_predictions = np.argmax(weighted_predictions, axis=1)"
      ]
    },
    {
      "cell_type": "code",
      "execution_count": null,
      "metadata": {
        "colab": {
          "base_uri": "https://localhost:8080/"
        },
        "id": "ryJ38IZabGrK",
        "outputId": "70c0bb16-2e24-4196-b77b-2bf440180a54"
      },
      "outputs": [
        {
          "name": "stdout",
          "output_type": "stream",
          "text": [
            "Accuracy: 0.9335748792270532\n"
          ]
        }
      ],
      "source": [
        "y_pred = weighted_predictions\n",
        "y_true = test_batches.classes\n",
        "\n",
        "# Evaluate the accuracy of the majority vote predictions on the test data\n",
        "accuracy = np.mean(y_pred == y_true)\n",
        "print(\"Accuracy:\", accuracy)"
      ]
    },
    {
      "cell_type": "code",
      "execution_count": null,
      "metadata": {
        "colab": {
          "base_uri": "https://localhost:8080/"
        },
        "id": "s_ueJOZol-zT",
        "outputId": "41db675d-b13b-467b-d761-f9071b81fe65"
      },
      "outputs": [
        {
          "name": "stdout",
          "output_type": "stream",
          "text": [
            "Weighted Precision: 0.9312401470869078\n",
            "Weighted Recall (sensitivity): 0.9335748792270532\n",
            "Weighted F1-Score: 0.9298351516467911\n",
            "Weighted Specificity: 0.8573264566178597\n",
            "weighted Roc score: 0.9732790208294435\n"
          ]
        }
      ],
      "source": [
        "### Weighted Evaluation Measures\n",
        "print(\"Weighted Precision: \"+ str(precision_score(y_true, y_pred, average='weighted')))\n",
        "print(\"Weighted Recall (sensitivity): \"+ str(recall_score(y_true, y_pred, average='weighted')))\n",
        "print(\"Weighted F1-Score: \"+ str(f1_score(y_true, y_pred, average='weighted')))\n",
        "print(\"Weighted Specificity: \"+ str(specificity_score(y_true, y_pred, average='weighted')))\n",
        "print(\"weighted Roc score: \" + str(roc_auc_score(y_true,y_prob,multi_class='ovr',average='weighted')))"
      ]
    },
    {
      "cell_type": "code",
      "execution_count": null,
      "metadata": {
        "colab": {
          "base_uri": "https://localhost:8080/"
        },
        "id": "IBsdOqCWbGrK",
        "outputId": "04b405f7-f893-412f-ce49-4fe4b9949340"
      },
      "outputs": [
        {
          "name": "stderr",
          "output_type": "stream",
          "text": [
            "WARNING:matplotlib.font_manager:findfont: Font family 'Times New Roman' not found.\n",
            "WARNING:matplotlib.font_manager:findfont: Font family 'Times New Roman' not found.\n",
            "WARNING:matplotlib.font_manager:findfont: Font family 'Times New Roman' not found.\n",
            "WARNING:matplotlib.font_manager:findfont: Font family 'Times New Roman' not found.\n",
            "WARNING:matplotlib.font_manager:findfont: Font family 'Times New Roman' not found.\n",
            "WARNING:matplotlib.font_manager:findfont: Font family 'Times New Roman' not found.\n",
            "WARNING:matplotlib.font_manager:findfont: Font family 'Times New Roman' not found.\n",
            "WARNING:matplotlib.font_manager:findfont: Font family 'Times New Roman' not found.\n",
            "WARNING:matplotlib.font_manager:findfont: Font family 'Times New Roman' not found.\n",
            "WARNING:matplotlib.font_manager:findfont: Font family 'Times New Roman' not found.\n",
            "WARNING:matplotlib.font_manager:findfont: Font family 'Times New Roman' not found.\n",
            "WARNING:matplotlib.font_manager:findfont: Font family 'Times New Roman' not found.\n",
            "WARNING:matplotlib.font_manager:findfont: Font family 'Times New Roman' not found.\n"
          ]
        },
        {
          "data": {
            "image/png": "[encoded data removed]",
            "text/plain": [
              "<Figure size 1000x400 with 2 Axes>"
            ]
          },
          "metadata": {},
          "output_type": "display_data"
        }
      ],
      "source": [
        "## Confusion Matrix\n",
        "title_font = {'fontname':'Times New Roman', 'size':'14', 'color':'black', 'weight':'normal'}\n",
        "label_font = {'fontname':'Times New Roman', 'size':'12', 'color':'black', 'weight':'normal'}\n",
        "\n",
        "from sklearn.metrics import confusion_matrix\n",
        "import seaborn as sns\n",
        "# Creating confusion matrix\n",
        "cm = confusion_matrix(y_true, y_pred)\n",
        "# Plotting the confusion matrix\n",
        "plt.figure(figsize=(10,4))\n",
        "sns.heatmap(cm, annot=True, fmt='g', cmap='Blues', xticklabels=targetnames, yticklabels=targetnames)\n",
        "plt.xlabel('Predicted Label', fontdict=label_font)\n",
        "plt.ylabel('True Label', fontdict=label_font)\n",
        "plt.title('Confusion Matrix', fontdict=title_font)\n",
        "plt.show()"
      ]
    },
    {
      "cell_type": "code",
      "execution_count": null,
      "metadata": {
        "colab": {
          "base_uri": "https://localhost:8080/"
        },
        "id": "bk5h7u5UbGrL",
        "outputId": "9c47c703-835a-448a-c80d-b00d5e81e08d"
      },
      "outputs": [
        {
          "name": "stdout",
          "output_type": "stream",
          "text": [
            "Overall accuracy: 93.36%\n",
            "Accuracy for each class:\n",
            "Class 0: 63.64%\n",
            "Class 1: 81.48%\n",
            "Class 2: 78.79%\n",
            "Class 3: 66.67%\n",
            "Class 4: 51.43%\n",
            "Class 5: 98.64%\n",
            "Class 6: 100.00%\n"
          ]
        }
      ],
      "source": [
        "### Individual Class Accuracy\n",
        "# y_true are the true labels of the test set\n",
        "# y_pred are the predicted labels of the test set\n",
        "accuracy = accuracy_score(y_true, y_pred)\n",
        "# Calculate accuracy for each class\n",
        "class_accuracy = cm.diagonal()/cm.sum(axis=1)\n",
        "print(\"Overall accuracy: {:.2f}%\".format(accuracy*100))\n",
        "print(\"Accuracy for each class:\")\n",
        "for i, acc in enumerate(class_accuracy):\n",
        "    print(\"Class {}: {:.2f}%\".format(i, acc*100))"
      ]
    },
    {
      "cell_type": "code",
      "execution_count": null,
      "metadata": {
        "id": "rdaVGXjAbGrL"
      },
      "outputs": [],
      "source": []
    },
    {
      "cell_type": "markdown",
      "source": [
        "# 2nd layer"
      ],
      "metadata": {
        "id": "abzodLdbw2dA"
      }
    },
    {
      "cell_type": "code",
      "source": [
        "# dn121 = most\n",
        "# dn201 = 2nd most\n",
        "# dn169 = 3rd"
      ],
      "metadata": {
        "id": "uQrYqZGSw53v"
      },
      "execution_count": null,
      "outputs": []
    },
    {
      "cell_type": "code",
      "source": [
        "# Define the weights for each model's prediction\n",
        "weights = [0.4, .35, .25]"
      ],
      "metadata": {
        "id": "DLYuVyBWxCJv"
      },
      "execution_count": null,
      "outputs": []
    },
    {
      "cell_type": "code",
      "source": [
        "# Calculate the weighted average of the softmax outputs for each image\n",
        "weighted_predictions_dn = (weights[0] * MV_predictions_dn121) + (weights[1] * weighted_predictions) + (weights[2] * softmax_averaged_predictions) / 3\n",
        "\n",
        "# Take the argmax of the weighted softmax outputs to get the predicted classes\n",
        "weighted_predictions = np.argmax(weighted_predictions_dn, axis=1)"
      ],
      "metadata": {
        "id": "QqmM2gvAw1uH"
      },
      "execution_count": null,
      "outputs": []
    }
  ],
  "metadata": {
    "accelerator": "GPU",
    "colab": {
      "collapsed_sections": [
        "lOxQCN7cIvjd",
        "32NlSrCoI1Gz",
        "MzoyCzDICehA",
        "snurZrjBBWBI",
        "-dUGXCCiR5Ps",
        "CWUzCUq9TQLs",
        "jpVV9NIJTQLt",
        "twn8Ois8TQLv",
        "LgJbWgX5TQLx",
        "1a8vpOFtTQLz",
        "39iSV4bYR7aM",
        "bRpS2CJibGq-",
        "6mmXQZTqbGq_",
        "51D_UKqYbGrA",
        "5_BGyDJmbGrC",
        "jPfP9lhqbGrE"
      ],
      "toc_visible": true,
      "provenance": []
    },
    "kernelspec": {
      "display_name": "Python 3",
      "language": "python",
      "name": "python3"
    },
    "language_info": {
      "codemirror_mode": {
        "name": "ipython",
        "version": 3
      },
      "file_extension": ".py",
      "mimetype": "text/x-python",
      "name": "python",
      "nbconvert_exporter": "python",
      "pygments_lexer": "ipython3",
      "version": "3.10.12"
    }
  },
  "nbformat": 4,
  "nbformat_minor": 0
}