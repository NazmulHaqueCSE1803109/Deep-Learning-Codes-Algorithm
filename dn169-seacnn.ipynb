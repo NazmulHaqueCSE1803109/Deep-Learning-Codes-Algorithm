{
 "cells": [
  {
   "cell_type": "markdown",
   "id": "61f488cc",
   "metadata": {
    "papermill": {
     "duration": 0.035367,
     "end_time": "2023-06-04T05:04:52.509873",
     "exception": false,
     "start_time": "2023-06-04T05:04:52.474506",
     "status": "completed"
    },
    "tags": []
   },
   "source": [
    "# Libraries"
   ]
  },
  {
   "cell_type": "code",
   "execution_count": 1,
   "id": "a3dec0bc",
   "metadata": {
    "execution": {
     "iopub.execute_input": "2023-06-04T05:04:52.561861Z",
     "iopub.status.busy": "2023-06-04T05:04:52.556755Z",
     "iopub.status.idle": "2023-06-04T05:05:01.736852Z",
     "shell.execute_reply": "2023-06-04T05:05:01.735620Z"
    },
    "id": "Aa36bMKLze3z",
    "papermill": {
     "duration": 9.20717,
     "end_time": "2023-06-04T05:05:01.740002",
     "exception": false,
     "start_time": "2023-06-04T05:04:52.532832",
     "status": "completed"
    },
    "tags": []
   },
   "outputs": [
    {
     "name": "stderr",
     "output_type": "stream",
     "text": [
      "/opt/conda/lib/python3.10/site-packages/tensorflow_io/python/ops/__init__.py:98: UserWarning: unable to load libtensorflow_io_plugins.so: unable to open file: libtensorflow_io_plugins.so, from paths: ['/opt/conda/lib/python3.10/site-packages/tensorflow_io/python/ops/libtensorflow_io_plugins.so']\n",
      "caused by: ['/opt/conda/lib/python3.10/site-packages/tensorflow_io/python/ops/libtensorflow_io_plugins.so: undefined symbol: _ZN3tsl6StatusC1EN10tensorflow5error4CodeESt17basic_string_viewIcSt11char_traitsIcEENS_14SourceLocationE']\n",
      "  warnings.warn(f\"unable to load libtensorflow_io_plugins.so: {e}\")\n",
      "/opt/conda/lib/python3.10/site-packages/tensorflow_io/python/ops/__init__.py:104: UserWarning: file system plugins are not loaded: unable to open file: libtensorflow_io.so, from paths: ['/opt/conda/lib/python3.10/site-packages/tensorflow_io/python/ops/libtensorflow_io.so']\n",
      "caused by: ['/opt/conda/lib/python3.10/site-packages/tensorflow_io/python/ops/libtensorflow_io.so: undefined symbol: _ZTVN10tensorflow13GcsFileSystemE']\n",
      "  warnings.warn(f\"file system plugins are not loaded: {e}\")\n"
     ]
    }
   ],
   "source": [
    "import pandas as pd\n",
    "import numpy as np\n",
    "import os\n",
    "import tensorflow as tf\n",
    "import cv2\n",
    "from keras import backend as K\n",
    "from keras.layers import Layer, InputSpec\n",
    "import keras.layers as kl\n",
    "from glob import glob\n",
    "from sklearn.metrics import roc_curve, auc\n",
    "from keras.preprocessing import image\n",
    "from tensorflow.keras.models import Sequential\n",
    "from sklearn.metrics import roc_auc_score\n",
    "from tensorflow.keras import callbacks \n",
    "from tensorflow.keras.callbacks import ModelCheckpoint, EarlyStopping\n",
    "from  matplotlib import pyplot as plt\n",
    "from tensorflow.keras import Model\n",
    "from tensorflow.keras.layers import concatenate, Dense, Conv2D, MaxPooling2D, Flatten, Input, Activation, add, AveragePooling2D, BatchNormalization, Dropout, GlobalAveragePooling2D, GlobalMaxPooling2D\n",
    "%matplotlib inline\n",
    "import shutil\n",
    "from sklearn.metrics import  precision_score, recall_score, accuracy_score, classification_report, confusion_matrix\n",
    "from tensorflow.python.platform import build_info as tf_build_info\n",
    "from tensorflow.keras.preprocessing.image import ImageDataGenerator\n",
    "from sklearn.model_selection import train_test_split\n",
    "\n",
    "from PIL import ImageFile\n",
    "ImageFile.LOAD_TRUNCATED_IMAGES = True"
   ]
  },
  {
   "cell_type": "code",
   "execution_count": 2,
   "id": "71948845",
   "metadata": {
    "execution": {
     "iopub.execute_input": "2023-06-04T05:05:01.791336Z",
     "iopub.status.busy": "2023-06-04T05:05:01.790256Z",
     "iopub.status.idle": "2023-06-04T05:05:01.798675Z",
     "shell.execute_reply": "2023-06-04T05:05:01.797807Z"
    },
    "id": "PsoqCvNsgmHP",
    "papermill": {
     "duration": 0.040835,
     "end_time": "2023-06-04T05:05:01.801554",
     "exception": false,
     "start_time": "2023-06-04T05:05:01.760719",
     "status": "completed"
    },
    "tags": []
   },
   "outputs": [],
   "source": [
    "targetnames = ['akiec', 'bcc', 'bkl', 'df', 'mel', 'nv', 'vasc']\n",
    "batch_size = 16\n",
    "image_size = 224"
   ]
  },
  {
   "cell_type": "code",
   "execution_count": 3,
   "id": "9e30d3ab",
   "metadata": {
    "execution": {
     "iopub.execute_input": "2023-06-04T05:05:01.849565Z",
     "iopub.status.busy": "2023-06-04T05:05:01.849153Z",
     "iopub.status.idle": "2023-06-04T05:05:01.854910Z",
     "shell.execute_reply": "2023-06-04T05:05:01.853735Z"
    },
    "id": "wNisha_gM3_Z",
    "papermill": {
     "duration": 0.037126,
     "end_time": "2023-06-04T05:05:01.860131",
     "exception": false,
     "start_time": "2023-06-04T05:05:01.823005",
     "status": "completed"
    },
    "tags": []
   },
   "outputs": [],
   "source": [
    "train_path = '/kaggle/input/splitted-and-augmented-ham-15/Splitted_And_Augmented_HAM_15/HAM10K/train_dir'\n",
    "test_path = '/kaggle/input/splitted-and-augmented-ham-15/Splitted_And_Augmented_HAM_15/HAM10K/test_dir'\n",
    "val_path = '/kaggle/input/splitted-and-augmented-ham-15/Splitted_And_Augmented_HAM_15/HAM10K/val_dir'"
   ]
  },
  {
   "cell_type": "markdown",
   "id": "5dc65b9d",
   "metadata": {
    "papermill": {
     "duration": 0.014856,
     "end_time": "2023-06-04T05:05:01.894485",
     "exception": false,
     "start_time": "2023-06-04T05:05:01.879629",
     "status": "completed"
    },
    "tags": []
   },
   "source": [
    "# Dataset generation (Train, Test, Validation)"
   ]
  },
  {
   "cell_type": "code",
   "execution_count": 4,
   "id": "03ac805a",
   "metadata": {
    "execution": {
     "iopub.execute_input": "2023-06-04T05:05:01.926847Z",
     "iopub.status.busy": "2023-06-04T05:05:01.926483Z",
     "iopub.status.idle": "2023-06-04T05:05:01.931003Z",
     "shell.execute_reply": "2023-06-04T05:05:01.930035Z"
    },
    "id": "zhQWqdRN79B3",
    "papermill": {
     "duration": 0.022977,
     "end_time": "2023-06-04T05:05:01.933162",
     "exception": false,
     "start_time": "2023-06-04T05:05:01.910185",
     "status": "completed"
    },
    "tags": []
   },
   "outputs": [],
   "source": [
    "datagen = ImageDataGenerator(preprocessing_function=tf.keras.applications.densenet.preprocess_input)"
   ]
  },
  {
   "cell_type": "code",
   "execution_count": 5,
   "id": "1c0937b5",
   "metadata": {
    "execution": {
     "iopub.execute_input": "2023-06-04T05:05:01.965670Z",
     "iopub.status.busy": "2023-06-04T05:05:01.964699Z",
     "iopub.status.idle": "2023-06-04T05:05:24.781266Z",
     "shell.execute_reply": "2023-06-04T05:05:24.780393Z"
    },
    "id": "w9_8FvOO7Rtu",
    "outputId": "7ca88c24-fda8-45d6-cb32-f3a43ae6ba5b",
    "papermill": {
     "duration": 22.835627,
     "end_time": "2023-06-04T05:05:24.784013",
     "exception": false,
     "start_time": "2023-06-04T05:05:01.948386",
     "status": "completed"
    },
    "tags": []
   },
   "outputs": [
    {
     "name": "stdout",
     "output_type": "stream",
     "text": [
      "\n",
      "Train Batches: \n",
      "Found 54782 images belonging to 7 classes.\n",
      "\n",
      "Test Batches: \n",
      "Found 828 images belonging to 7 classes.\n",
      "\n",
      "Val Batches: \n",
      "Found 827 images belonging to 7 classes.\n"
     ]
    }
   ],
   "source": [
    "print(\"\\nTrain Batches: \")\n",
    "train_batches = datagen.flow_from_directory(directory=train_path,\n",
    "                                            target_size=(image_size,image_size),\n",
    "                                            batch_size=batch_size,\n",
    "                                            shuffle=True)\n",
    "\n",
    "print(\"\\nTest Batches: \")\n",
    "test_batches = datagen.flow_from_directory(test_path,\n",
    "                                          target_size=(image_size,image_size),\n",
    "                                          batch_size=batch_size,\n",
    "                                          shuffle=False)\n",
    "print(\"\\nVal Batches: \")\n",
    "val_batches = datagen.flow_from_directory(val_path,\n",
    "                                         target_size=(image_size,image_size),\n",
    "                                         batch_size=batch_size,\n",
    "                                         shuffle=False)"
   ]
  },
  {
   "cell_type": "markdown",
   "id": "87482654",
   "metadata": {
    "papermill": {
     "duration": 0.021933,
     "end_time": "2023-06-04T05:05:24.828792",
     "exception": false,
     "start_time": "2023-06-04T05:05:24.806859",
     "status": "completed"
    },
    "tags": []
   },
   "source": [
    "# Main Model Creation"
   ]
  },
  {
   "cell_type": "markdown",
   "id": "1c433b49",
   "metadata": {
    "papermill": {
     "duration": 0.021393,
     "end_time": "2023-06-04T05:05:24.871540",
     "exception": false,
     "start_time": "2023-06-04T05:05:24.850147",
     "status": "completed"
    },
    "tags": []
   },
   "source": [
    "### Squeeze and Excitation Attention"
   ]
  },
  {
   "cell_type": "code",
   "execution_count": 6,
   "id": "8e1b3460",
   "metadata": {
    "execution": {
     "iopub.execute_input": "2023-06-04T05:05:24.908234Z",
     "iopub.status.busy": "2023-06-04T05:05:24.907894Z",
     "iopub.status.idle": "2023-06-04T05:05:24.913821Z",
     "shell.execute_reply": "2023-06-04T05:05:24.912843Z"
    },
    "papermill": {
     "duration": 0.02475,
     "end_time": "2023-06-04T05:05:24.915834",
     "exception": false,
     "start_time": "2023-06-04T05:05:24.891084",
     "status": "completed"
    },
    "tags": []
   },
   "outputs": [],
   "source": [
    "def squeeze_excite_block(input, filters, se_ratio):\n",
    "    # Squeeze step\n",
    "    se = tf.keras.layers.GlobalAveragePooling2D()(input)\n",
    "    se = tf.keras.layers.Dense(filters // se_ratio, activation='relu')(se)\n",
    "    se = tf.keras.layers.Dense(filters, activation='softmax')(se)\n",
    "    # Excitation step\n",
    "    x = tf.keras.layers.multiply([input, se])\n",
    "    return x"
   ]
  },
  {
   "cell_type": "markdown",
   "id": "9b5a0de7",
   "metadata": {
    "papermill": {
     "duration": 0.015328,
     "end_time": "2023-06-04T05:05:24.952083",
     "exception": false,
     "start_time": "2023-06-04T05:05:24.936755",
     "status": "completed"
    },
    "tags": []
   },
   "source": [
    "### Define Model"
   ]
  },
  {
   "cell_type": "code",
   "execution_count": 7,
   "id": "6b047964",
   "metadata": {
    "execution": {
     "iopub.execute_input": "2023-06-04T05:05:24.985462Z",
     "iopub.status.busy": "2023-06-04T05:05:24.984498Z",
     "iopub.status.idle": "2023-06-04T05:05:33.339045Z",
     "shell.execute_reply": "2023-06-04T05:05:33.338083Z"
    },
    "id": "zhQWqdRN79B3",
    "papermill": {
     "duration": 8.373607,
     "end_time": "2023-06-04T05:05:33.341513",
     "exception": false,
     "start_time": "2023-06-04T05:05:24.967906",
     "status": "completed"
    },
    "tags": []
   },
   "outputs": [
    {
     "name": "stdout",
     "output_type": "stream",
     "text": [
      "Downloading data from https://storage.googleapis.com/tensorflow/keras-applications/densenet/densenet169_weights_tf_dim_ordering_tf_kernels_notop.h5\n",
      "51877672/51877672 [==============================] - 1s 0us/step\n"
     ]
    }
   ],
   "source": [
    "from tensorflow.keras.applications.densenet import DenseNet169\n",
    "\n",
    "DN169 = DenseNet169(weights='imagenet', include_top=False, input_shape=(image_size, image_size, 3), pooling='avg')"
   ]
  },
  {
   "cell_type": "markdown",
   "id": "d4c45d4a",
   "metadata": {
    "papermill": {
     "duration": 0.016042,
     "end_time": "2023-06-04T05:05:33.374114",
     "exception": false,
     "start_time": "2023-06-04T05:05:33.358072",
     "status": "completed"
    },
    "tags": []
   },
   "source": [
    "## Fine tuning"
   ]
  },
  {
   "cell_type": "code",
   "execution_count": 8,
   "id": "9364ae53",
   "metadata": {
    "execution": {
     "iopub.execute_input": "2023-06-04T05:05:33.407953Z",
     "iopub.status.busy": "2023-06-04T05:05:33.407635Z",
     "iopub.status.idle": "2023-06-04T05:05:33.413586Z",
     "shell.execute_reply": "2023-06-04T05:05:33.412609Z"
    },
    "id": "4d4Ta5LcSYaz",
    "papermill": {
     "duration": 0.025179,
     "end_time": "2023-06-04T05:05:33.415507",
     "exception": false,
     "start_time": "2023-06-04T05:05:33.390328",
     "status": "completed"
    },
    "tags": []
   },
   "outputs": [],
   "source": [
    "MainInput=Input(shape=(image_size, image_size, 3))"
   ]
  },
  {
   "cell_type": "code",
   "execution_count": 9,
   "id": "a4eb44e7",
   "metadata": {
    "execution": {
     "iopub.execute_input": "2023-06-04T05:05:33.449120Z",
     "iopub.status.busy": "2023-06-04T05:05:33.448845Z",
     "iopub.status.idle": "2023-06-04T05:05:34.789862Z",
     "shell.execute_reply": "2023-06-04T05:05:34.788330Z"
    },
    "papermill": {
     "duration": 1.361235,
     "end_time": "2023-06-04T05:05:34.793018",
     "exception": false,
     "start_time": "2023-06-04T05:05:33.431783",
     "status": "completed"
    },
    "tags": []
   },
   "outputs": [],
   "source": [
    "dn169 = DN169(MainInput)"
   ]
  },
  {
   "cell_type": "code",
   "execution_count": 10,
   "id": "bc6aa678",
   "metadata": {
    "execution": {
     "iopub.execute_input": "2023-06-04T05:05:34.844081Z",
     "iopub.status.busy": "2023-06-04T05:05:34.843645Z",
     "iopub.status.idle": "2023-06-04T05:05:34.872199Z",
     "shell.execute_reply": "2023-06-04T05:05:34.870442Z"
    },
    "papermill": {
     "duration": 0.058508,
     "end_time": "2023-06-04T05:05:34.874730",
     "exception": false,
     "start_time": "2023-06-04T05:05:34.816222",
     "status": "completed"
    },
    "tags": []
   },
   "outputs": [],
   "source": [
    "# Reshape the tensor to have 4 dimensions\n",
    "from tensorflow.keras.layers import Reshape\n",
    "reshape = Reshape((8, 8, 26))(dn169)"
   ]
  },
  {
   "cell_type": "code",
   "execution_count": 11,
   "id": "490f034c",
   "metadata": {
    "execution": {
     "iopub.execute_input": "2023-06-04T05:05:34.910525Z",
     "iopub.status.busy": "2023-06-04T05:05:34.909589Z",
     "iopub.status.idle": "2023-06-04T05:05:35.009769Z",
     "shell.execute_reply": "2023-06-04T05:05:35.008834Z"
    },
    "id": "x8mS99J5SYbT",
    "papermill": {
     "duration": 0.120832,
     "end_time": "2023-06-04T05:05:35.012499",
     "exception": false,
     "start_time": "2023-06-04T05:05:34.891667",
     "status": "completed"
    },
    "tags": []
   },
   "outputs": [],
   "source": [
    "# Add convolutional layers with Channel Attention\n",
    "conv = Conv2D(filters=128, kernel_size=(7, 7), activation=\"relu\", padding=\"same\", kernel_initializer='he_normal')(reshape)\n",
    "conv = BatchNormalization()(conv)\n",
    "conv = Conv2D(filters=128, kernel_size=(5, 5), activation=\"relu\", padding=\"same\", kernel_initializer='he_normal')(conv)\n",
    "conv = BatchNormalization()(conv)\n",
    "conv = Conv2D(filters=128, kernel_size=(3, 3), activation=\"relu\", padding=\"same\", kernel_initializer='he_normal')(conv)\n",
    "conv = BatchNormalization()(conv)\n",
    "conv = Conv2D(filters=128, kernel_size=(1, 1), activation=\"relu\", padding=\"same\", kernel_initializer='he_normal')(conv)\n",
    "conv = BatchNormalization()(conv)"
   ]
  },
  {
   "cell_type": "code",
   "execution_count": 12,
   "id": "da68ed5c",
   "metadata": {
    "execution": {
     "iopub.execute_input": "2023-06-04T05:05:35.049714Z",
     "iopub.status.busy": "2023-06-04T05:05:35.047824Z",
     "iopub.status.idle": "2023-06-04T05:05:35.096809Z",
     "shell.execute_reply": "2023-06-04T05:05:35.095836Z"
    },
    "papermill": {
     "duration": 0.069593,
     "end_time": "2023-06-04T05:05:35.099226",
     "exception": false,
     "start_time": "2023-06-04T05:05:35.029633",
     "status": "completed"
    },
    "tags": []
   },
   "outputs": [],
   "source": [
    "image_size_2 = 8\n",
    "from tensorflow.keras.layers import Reshape\n",
    "conv = Reshape(target_shape=(image_size_2, image_size_2, 128,))(conv)\n",
    "x = squeeze_excite_block(conv, 128, 128)  # use same number of filters as the input tensor"
   ]
  },
  {
   "cell_type": "code",
   "execution_count": 13,
   "id": "d25b4e00",
   "metadata": {
    "execution": {
     "iopub.execute_input": "2023-06-04T05:05:35.135237Z",
     "iopub.status.busy": "2023-06-04T05:05:35.134270Z",
     "iopub.status.idle": "2023-06-04T05:05:35.227307Z",
     "shell.execute_reply": "2023-06-04T05:05:35.226333Z"
    },
    "papermill": {
     "duration": 0.114026,
     "end_time": "2023-06-04T05:05:35.230100",
     "exception": false,
     "start_time": "2023-06-04T05:05:35.116074",
     "status": "completed"
    },
    "tags": []
   },
   "outputs": [],
   "source": [
    "# Add convolutional layers with Channel Attention\n",
    "conv = Conv2D(filters=128, kernel_size=(7, 7), activation=\"relu\", padding=\"same\", kernel_initializer='he_normal')(x)\n",
    "conv = BatchNormalization()(conv)\n",
    "conv = Conv2D(filters=128, kernel_size=(5, 5), activation=\"relu\", padding=\"same\", kernel_initializer='he_normal')(conv)\n",
    "conv = BatchNormalization()(conv)\n",
    "conv = Conv2D(filters=128, kernel_size=(3, 3), activation=\"relu\", padding=\"same\", kernel_initializer='he_normal')(conv)\n",
    "conv = BatchNormalization()(conv)\n",
    "conv = Conv2D(filters=128, kernel_size=(1, 1), activation=\"relu\", padding=\"same\", kernel_initializer='he_normal')(conv)\n",
    "conv = BatchNormalization()(conv)"
   ]
  },
  {
   "cell_type": "code",
   "execution_count": 14,
   "id": "768be8c5",
   "metadata": {
    "execution": {
     "iopub.execute_input": "2023-06-04T05:05:35.265592Z",
     "iopub.status.busy": "2023-06-04T05:05:35.264826Z",
     "iopub.status.idle": "2023-06-04T05:05:35.274943Z",
     "shell.execute_reply": "2023-06-04T05:05:35.274003Z"
    },
    "id": "wfhLPhssAm2S",
    "papermill": {
     "duration": 0.02994,
     "end_time": "2023-06-04T05:05:35.277117",
     "exception": false,
     "start_time": "2023-06-04T05:05:35.247177",
     "status": "completed"
    },
    "tags": []
   },
   "outputs": [],
   "source": [
    "conv=(MaxPooling2D(strides=(2, 2),padding=\"same\")(conv))"
   ]
  },
  {
   "cell_type": "code",
   "execution_count": 15,
   "id": "76d5cbd9",
   "metadata": {
    "execution": {
     "iopub.execute_input": "2023-06-04T05:05:35.312484Z",
     "iopub.status.busy": "2023-06-04T05:05:35.312125Z",
     "iopub.status.idle": "2023-06-04T05:05:35.406618Z",
     "shell.execute_reply": "2023-06-04T05:05:35.405675Z"
    },
    "id": "sW4tKg9wSYbk",
    "papermill": {
     "duration": 0.115135,
     "end_time": "2023-06-04T05:05:35.408963",
     "exception": false,
     "start_time": "2023-06-04T05:05:35.293828",
     "status": "completed"
    },
    "tags": []
   },
   "outputs": [],
   "source": [
    "conv = Conv2D(filters=256,kernel_size=(7,7), activation=\"relu\",padding=\"same\",kernel_initializer='he_normal')(conv)\n",
    "conv = BatchNormalization()(conv)\n",
    "conv = Conv2D(filters=256,kernel_size=(5,5), activation=\"relu\",padding=\"same\",kernel_initializer='he_normal')(conv)\n",
    "conv = BatchNormalization()(conv)\n",
    "conv = Conv2D(filters=256,kernel_size=(3,3), activation=\"relu\",padding=\"same\",kernel_initializer='he_normal')(conv)\n",
    "conv = BatchNormalization()(conv)\n",
    "conv = Conv2D(filters=256,kernel_size=(1,1), activation=\"relu\",padding=\"same\",kernel_initializer='he_normal')(conv)\n",
    "conv = BatchNormalization()(conv)"
   ]
  },
  {
   "cell_type": "code",
   "execution_count": 16,
   "id": "e76cea61",
   "metadata": {
    "execution": {
     "iopub.execute_input": "2023-06-04T05:05:35.442964Z",
     "iopub.status.busy": "2023-06-04T05:05:35.442672Z",
     "iopub.status.idle": "2023-06-04T05:05:35.485487Z",
     "shell.execute_reply": "2023-06-04T05:05:35.484591Z"
    },
    "papermill": {
     "duration": 0.062468,
     "end_time": "2023-06-04T05:05:35.487788",
     "exception": false,
     "start_time": "2023-06-04T05:05:35.425320",
     "status": "completed"
    },
    "tags": []
   },
   "outputs": [],
   "source": [
    "image_size_3 = 4\n",
    "from tensorflow.keras.layers import Reshape\n",
    "conv = Reshape(target_shape=(image_size_3, image_size_3, 256,))(conv)\n",
    "x = squeeze_excite_block(conv, 256, 256)  # use same number of filters as the input tensor"
   ]
  },
  {
   "cell_type": "code",
   "execution_count": 17,
   "id": "34731b80",
   "metadata": {
    "execution": {
     "iopub.execute_input": "2023-06-04T05:05:35.522755Z",
     "iopub.status.busy": "2023-06-04T05:05:35.521327Z",
     "iopub.status.idle": "2023-06-04T05:05:35.607449Z",
     "shell.execute_reply": "2023-06-04T05:05:35.606524Z"
    },
    "papermill": {
     "duration": 0.105667,
     "end_time": "2023-06-04T05:05:35.609916",
     "exception": false,
     "start_time": "2023-06-04T05:05:35.504249",
     "status": "completed"
    },
    "tags": []
   },
   "outputs": [],
   "source": [
    "conv = Conv2D(filters=256,kernel_size=(7,7), activation=\"relu\",padding=\"same\",kernel_initializer='he_normal')(x)\n",
    "conv = BatchNormalization()(conv)\n",
    "conv = Conv2D(filters=256,kernel_size=(5,5), activation=\"relu\",padding=\"same\",kernel_initializer='he_normal')(conv)\n",
    "conv = BatchNormalization()(conv)\n",
    "conv = Conv2D(filters=256,kernel_size=(3,3), activation=\"relu\",padding=\"same\",kernel_initializer='he_normal')(conv)\n",
    "conv = BatchNormalization()(conv)\n",
    "conv = Conv2D(filters=256,kernel_size=(1,1), activation=\"relu\",padding=\"same\",kernel_initializer='he_normal')(conv)\n",
    "conv = BatchNormalization()(conv)"
   ]
  },
  {
   "cell_type": "code",
   "execution_count": 18,
   "id": "07c12722",
   "metadata": {
    "execution": {
     "iopub.execute_input": "2023-06-04T05:05:35.644263Z",
     "iopub.status.busy": "2023-06-04T05:05:35.643692Z",
     "iopub.status.idle": "2023-06-04T05:05:35.652627Z",
     "shell.execute_reply": "2023-06-04T05:05:35.651765Z"
    },
    "id": "eo8E7RxUSYcW",
    "papermill": {
     "duration": 0.028208,
     "end_time": "2023-06-04T05:05:35.654613",
     "exception": false,
     "start_time": "2023-06-04T05:05:35.626405",
     "status": "completed"
    },
    "tags": []
   },
   "outputs": [],
   "source": [
    "conv=(MaxPooling2D(pool_size=(2, 2),padding=\"same\")(conv))"
   ]
  },
  {
   "cell_type": "code",
   "execution_count": 19,
   "id": "48d9f8c4",
   "metadata": {
    "execution": {
     "iopub.execute_input": "2023-06-04T05:05:35.689713Z",
     "iopub.status.busy": "2023-06-04T05:05:35.689392Z",
     "iopub.status.idle": "2023-06-04T05:05:35.694103Z",
     "shell.execute_reply": "2023-06-04T05:05:35.693219Z"
    },
    "papermill": {
     "duration": 0.025073,
     "end_time": "2023-06-04T05:05:35.696375",
     "exception": false,
     "start_time": "2023-06-04T05:05:35.671302",
     "status": "completed"
    },
    "tags": []
   },
   "outputs": [
    {
     "name": "stdout",
     "output_type": "stream",
     "text": [
      "7\n"
     ]
    }
   ],
   "source": [
    "num_classes = test_batches.num_classes\n",
    "print(num_classes)"
   ]
  },
  {
   "cell_type": "code",
   "execution_count": 20,
   "id": "d3d54639",
   "metadata": {
    "execution": {
     "iopub.execute_input": "2023-06-04T05:05:35.731101Z",
     "iopub.status.busy": "2023-06-04T05:05:35.730481Z",
     "iopub.status.idle": "2023-06-04T05:05:35.780605Z",
     "shell.execute_reply": "2023-06-04T05:05:35.779766Z"
    },
    "id": "-EdFxKdgSYcf",
    "papermill": {
     "duration": 0.070066,
     "end_time": "2023-06-04T05:05:35.782817",
     "exception": false,
     "start_time": "2023-06-04T05:05:35.712751",
     "status": "completed"
    },
    "tags": []
   },
   "outputs": [],
   "source": [
    "conv=(Flatten()(conv))\n",
    "conv=(Dense(1024,activation=\"relu\")(conv))\n",
    "conv=(Dense(512,activation=\"relu\")(conv))\n",
    "conv=(Dense(num_classes, activation=\"softmax\")(conv))\n",
    "\n",
    "model_dn169_sea = Model(inputs=MainInput, outputs=conv)"
   ]
  },
  {
   "cell_type": "code",
   "execution_count": 21,
   "id": "9b41fb12",
   "metadata": {
    "execution": {
     "iopub.execute_input": "2023-06-04T05:05:35.816790Z",
     "iopub.status.busy": "2023-06-04T05:05:35.816494Z",
     "iopub.status.idle": "2023-06-04T05:05:35.996620Z",
     "shell.execute_reply": "2023-06-04T05:05:35.995755Z"
    },
    "id": "ba8ajOckSYcl",
    "outputId": "e69fa749-4741-4f49-ae3e-9f5479e809a8",
    "papermill": {
     "duration": 0.234813,
     "end_time": "2023-06-04T05:05:36.033987",
     "exception": false,
     "start_time": "2023-06-04T05:05:35.799174",
     "status": "completed"
    },
    "tags": []
   },
   "outputs": [
    {
     "name": "stdout",
     "output_type": "stream",
     "text": [
      "Model: \"model\"\n",
      "__________________________________________________________________________________________________\n",
      " Layer (type)                   Output Shape         Param #     Connected to                     \n",
      "==================================================================================================\n",
      " input_2 (InputLayer)           [(None, 224, 224, 3  0           []                               \n",
      "                                )]                                                                \n",
      "                                                                                                  \n",
      " densenet169 (Functional)       (None, 1664)         12642880    ['input_2[0][0]']                \n",
      "                                                                                                  \n",
      " reshape (Reshape)              (None, 8, 8, 26)     0           ['densenet169[0][0]']            \n",
      "                                                                                                  \n",
      " conv2d (Conv2D)                (None, 8, 8, 128)    163200      ['reshape[0][0]']                \n",
      "                                                                                                  \n",
      " batch_normalization (BatchNorm  (None, 8, 8, 128)   512         ['conv2d[0][0]']                 \n",
      " alization)                                                                                       \n",
      "                                                                                                  \n",
      " conv2d_1 (Conv2D)              (None, 8, 8, 128)    409728      ['batch_normalization[0][0]']    \n",
      "                                                                                                  \n",
      " batch_normalization_1 (BatchNo  (None, 8, 8, 128)   512         ['conv2d_1[0][0]']               \n",
      " rmalization)                                                                                     \n",
      "                                                                                                  \n",
      " conv2d_2 (Conv2D)              (None, 8, 8, 128)    147584      ['batch_normalization_1[0][0]']  \n",
      "                                                                                                  \n",
      " batch_normalization_2 (BatchNo  (None, 8, 8, 128)   512         ['conv2d_2[0][0]']               \n",
      " rmalization)                                                                                     \n",
      "                                                                                                  \n",
      " conv2d_3 (Conv2D)              (None, 8, 8, 128)    16512       ['batch_normalization_2[0][0]']  \n",
      "                                                                                                  \n",
      " batch_normalization_3 (BatchNo  (None, 8, 8, 128)   512         ['conv2d_3[0][0]']               \n",
      " rmalization)                                                                                     \n",
      "                                                                                                  \n",
      " reshape_1 (Reshape)            (None, 8, 8, 128)    0           ['batch_normalization_3[0][0]']  \n",
      "                                                                                                  \n",
      " global_average_pooling2d (Glob  (None, 128)         0           ['reshape_1[0][0]']              \n",
      " alAveragePooling2D)                                                                              \n",
      "                                                                                                  \n",
      " dense (Dense)                  (None, 1)            129         ['global_average_pooling2d[0][0]'\n",
      "                                                                 ]                                \n",
      "                                                                                                  \n",
      " dense_1 (Dense)                (None, 128)          256         ['dense[0][0]']                  \n",
      "                                                                                                  \n",
      " multiply (Multiply)            (None, 8, 8, 128)    0           ['reshape_1[0][0]',              \n",
      "                                                                  'dense_1[0][0]']                \n",
      "                                                                                                  \n",
      " conv2d_4 (Conv2D)              (None, 8, 8, 128)    802944      ['multiply[0][0]']               \n",
      "                                                                                                  \n",
      " batch_normalization_4 (BatchNo  (None, 8, 8, 128)   512         ['conv2d_4[0][0]']               \n",
      " rmalization)                                                                                     \n",
      "                                                                                                  \n",
      " conv2d_5 (Conv2D)              (None, 8, 8, 128)    409728      ['batch_normalization_4[0][0]']  \n",
      "                                                                                                  \n",
      " batch_normalization_5 (BatchNo  (None, 8, 8, 128)   512         ['conv2d_5[0][0]']               \n",
      " rmalization)                                                                                     \n",
      "                                                                                                  \n",
      " conv2d_6 (Conv2D)              (None, 8, 8, 128)    147584      ['batch_normalization_5[0][0]']  \n",
      "                                                                                                  \n",
      " batch_normalization_6 (BatchNo  (None, 8, 8, 128)   512         ['conv2d_6[0][0]']               \n",
      " rmalization)                                                                                     \n",
      "                                                                                                  \n",
      " conv2d_7 (Conv2D)              (None, 8, 8, 128)    16512       ['batch_normalization_6[0][0]']  \n",
      "                                                                                                  \n",
      " batch_normalization_7 (BatchNo  (None, 8, 8, 128)   512         ['conv2d_7[0][0]']               \n",
      " rmalization)                                                                                     \n",
      "                                                                                                  \n",
      " max_pooling2d (MaxPooling2D)   (None, 4, 4, 128)    0           ['batch_normalization_7[0][0]']  \n",
      "                                                                                                  \n",
      " conv2d_8 (Conv2D)              (None, 4, 4, 256)    1605888     ['max_pooling2d[0][0]']          \n",
      "                                                                                                  \n",
      " batch_normalization_8 (BatchNo  (None, 4, 4, 256)   1024        ['conv2d_8[0][0]']               \n",
      " rmalization)                                                                                     \n",
      "                                                                                                  \n",
      " conv2d_9 (Conv2D)              (None, 4, 4, 256)    1638656     ['batch_normalization_8[0][0]']  \n",
      "                                                                                                  \n",
      " batch_normalization_9 (BatchNo  (None, 4, 4, 256)   1024        ['conv2d_9[0][0]']               \n",
      " rmalization)                                                                                     \n",
      "                                                                                                  \n",
      " conv2d_10 (Conv2D)             (None, 4, 4, 256)    590080      ['batch_normalization_9[0][0]']  \n",
      "                                                                                                  \n",
      " batch_normalization_10 (BatchN  (None, 4, 4, 256)   1024        ['conv2d_10[0][0]']              \n",
      " ormalization)                                                                                    \n",
      "                                                                                                  \n",
      " conv2d_11 (Conv2D)             (None, 4, 4, 256)    65792       ['batch_normalization_10[0][0]'] \n",
      "                                                                                                  \n",
      " batch_normalization_11 (BatchN  (None, 4, 4, 256)   1024        ['conv2d_11[0][0]']              \n",
      " ormalization)                                                                                    \n",
      "                                                                                                  \n",
      " reshape_2 (Reshape)            (None, 4, 4, 256)    0           ['batch_normalization_11[0][0]'] \n",
      "                                                                                                  \n",
      " global_average_pooling2d_1 (Gl  (None, 256)         0           ['reshape_2[0][0]']              \n",
      " obalAveragePooling2D)                                                                            \n",
      "                                                                                                  \n",
      " dense_2 (Dense)                (None, 1)            257         ['global_average_pooling2d_1[0][0\n",
      "                                                                 ]']                              \n",
      "                                                                                                  \n",
      " dense_3 (Dense)                (None, 256)          512         ['dense_2[0][0]']                \n",
      "                                                                                                  \n",
      " multiply_1 (Multiply)          (None, 4, 4, 256)    0           ['reshape_2[0][0]',              \n",
      "                                                                  'dense_3[0][0]']                \n",
      "                                                                                                  \n",
      " conv2d_12 (Conv2D)             (None, 4, 4, 256)    3211520     ['multiply_1[0][0]']             \n",
      "                                                                                                  \n",
      " batch_normalization_12 (BatchN  (None, 4, 4, 256)   1024        ['conv2d_12[0][0]']              \n",
      " ormalization)                                                                                    \n",
      "                                                                                                  \n",
      " conv2d_13 (Conv2D)             (None, 4, 4, 256)    1638656     ['batch_normalization_12[0][0]'] \n",
      "                                                                                                  \n",
      " batch_normalization_13 (BatchN  (None, 4, 4, 256)   1024        ['conv2d_13[0][0]']              \n",
      " ormalization)                                                                                    \n",
      "                                                                                                  \n",
      " conv2d_14 (Conv2D)             (None, 4, 4, 256)    590080      ['batch_normalization_13[0][0]'] \n",
      "                                                                                                  \n",
      " batch_normalization_14 (BatchN  (None, 4, 4, 256)   1024        ['conv2d_14[0][0]']              \n",
      " ormalization)                                                                                    \n",
      "                                                                                                  \n",
      " conv2d_15 (Conv2D)             (None, 4, 4, 256)    65792       ['batch_normalization_14[0][0]'] \n",
      "                                                                                                  \n",
      " batch_normalization_15 (BatchN  (None, 4, 4, 256)   1024        ['conv2d_15[0][0]']              \n",
      " ormalization)                                                                                    \n",
      "                                                                                                  \n",
      " max_pooling2d_1 (MaxPooling2D)  (None, 2, 2, 256)   0           ['batch_normalization_15[0][0]'] \n",
      "                                                                                                  \n",
      " flatten (Flatten)              (None, 1024)         0           ['max_pooling2d_1[0][0]']        \n",
      "                                                                                                  \n",
      " dense_4 (Dense)                (None, 1024)         1049600     ['flatten[0][0]']                \n",
      "                                                                                                  \n",
      " dense_5 (Dense)                (None, 512)          524800      ['dense_4[0][0]']                \n",
      "                                                                                                  \n",
      " dense_6 (Dense)                (None, 7)            3591        ['dense_5[0][0]']                \n",
      "                                                                                                  \n",
      "==================================================================================================\n",
      "Total params: 25,754,569\n",
      "Trainable params: 25,590,025\n",
      "Non-trainable params: 164,544\n",
      "__________________________________________________________________________________________________\n"
     ]
    }
   ],
   "source": [
    "model_dn169_sea.summary()"
   ]
  },
  {
   "cell_type": "code",
   "execution_count": 22,
   "id": "d921272b",
   "metadata": {
    "execution": {
     "iopub.execute_input": "2023-06-04T05:05:36.089030Z",
     "iopub.status.busy": "2023-06-04T05:05:36.088719Z",
     "iopub.status.idle": "2023-06-04T05:05:36.122742Z",
     "shell.execute_reply": "2023-06-04T05:05:36.121844Z"
    },
    "id": "WR0fUpy18vAZ",
    "papermill": {
     "duration": 0.063873,
     "end_time": "2023-06-04T05:05:36.124801",
     "exception": false,
     "start_time": "2023-06-04T05:05:36.060928",
     "status": "completed"
    },
    "tags": []
   },
   "outputs": [],
   "source": [
    "opt1=tf.keras.optimizers.Adam(learning_rate=0.001,epsilon=0.1)\n",
    "model_dn169_sea.compile(optimizer=opt1,\n",
    "             loss='categorical_crossentropy',\n",
    "             metrics=['accuracy'])"
   ]
  },
  {
   "cell_type": "code",
   "execution_count": 23,
   "id": "4311cb24",
   "metadata": {
    "execution": {
     "iopub.execute_input": "2023-06-04T05:05:36.178896Z",
     "iopub.status.busy": "2023-06-04T05:05:36.178097Z",
     "iopub.status.idle": "2023-06-04T05:05:36.183320Z",
     "shell.execute_reply": "2023-06-04T05:05:36.182504Z"
    },
    "id": "LAf5ha295reS",
    "papermill": {
     "duration": 0.034047,
     "end_time": "2023-06-04T05:05:36.185340",
     "exception": false,
     "start_time": "2023-06-04T05:05:36.151293",
     "status": "completed"
    },
    "tags": []
   },
   "outputs": [],
   "source": [
    "class_weights = {   \n",
    "                    0: 1.0,  # akiec\n",
    "                    1: 1.0,  # bcc\n",
    "                    2: 1.0,  # bkl\n",
    "                    3: 1.0,  # df\n",
    "                    4: 1.0,  # mel\n",
    "                    5: 1.0,  # nv\n",
    "                    6: 1.0  # vasc\n",
    "                }"
   ]
  },
  {
   "cell_type": "code",
   "execution_count": 24,
   "id": "ead07894",
   "metadata": {
    "execution": {
     "iopub.execute_input": "2023-06-04T05:05:36.239497Z",
     "iopub.status.busy": "2023-06-04T05:05:36.238562Z",
     "iopub.status.idle": "2023-06-04T05:05:36.244097Z",
     "shell.execute_reply": "2023-06-04T05:05:36.243182Z"
    },
    "papermill": {
     "duration": 0.034849,
     "end_time": "2023-06-04T05:05:36.246321",
     "exception": false,
     "start_time": "2023-06-04T05:05:36.211472",
     "status": "completed"
    },
    "tags": []
   },
   "outputs": [],
   "source": [
    "checkpoint = ModelCheckpoint(filepath ='DN169_SEA.hdf5', monitor='val_accuracy', save_best_only=True, save_weights_only=True)\n",
    "Earlystop = EarlyStopping(monitor='val_accuracy', mode='max', patience=25, min_delta=0.01)"
   ]
  },
  {
   "cell_type": "code",
   "execution_count": 25,
   "id": "d1c71d3e",
   "metadata": {
    "execution": {
     "iopub.execute_input": "2023-06-04T05:05:36.300402Z",
     "iopub.status.busy": "2023-06-04T05:05:36.300061Z",
     "iopub.status.idle": "2023-06-04T10:32:49.288221Z",
     "shell.execute_reply": "2023-06-04T10:32:49.287001Z"
    },
    "id": "NUzTmiZ-8hL3",
    "outputId": "e1825ff2-9f9c-436f-cf2c-9776af8eee62",
    "papermill": {
     "duration": 19633.045374,
     "end_time": "2023-06-04T10:32:49.318160",
     "exception": false,
     "start_time": "2023-06-04T05:05:36.272786",
     "status": "completed"
    },
    "tags": []
   },
   "outputs": [
    {
     "name": "stdout",
     "output_type": "stream",
     "text": [
      "Epoch 1/50\n",
      "3424/3424 - 763s - loss: 0.8964 - accuracy: 0.6679 - val_loss: 0.3638 - val_accuracy: 0.8827 - 763s/epoch - 223ms/step\n",
      "Epoch 2/50\n",
      "3424/3424 - 589s - loss: 0.4120 - accuracy: 0.8512 - val_loss: 0.3168 - val_accuracy: 0.9057 - 589s/epoch - 172ms/step\n",
      "Epoch 3/50\n",
      "3424/3424 - 589s - loss: 0.2566 - accuracy: 0.9090 - val_loss: 0.3167 - val_accuracy: 0.9069 - 589s/epoch - 172ms/step\n",
      "Epoch 4/50\n",
      "3424/3424 - 591s - loss: 0.1760 - accuracy: 0.9381 - val_loss: 0.3461 - val_accuracy: 0.9141 - 591s/epoch - 173ms/step\n",
      "Epoch 5/50\n",
      "3424/3424 - 590s - loss: 0.1324 - accuracy: 0.9530 - val_loss: 0.3337 - val_accuracy: 0.9093 - 590s/epoch - 172ms/step\n",
      "Epoch 6/50\n",
      "3424/3424 - 589s - loss: 0.1048 - accuracy: 0.9637 - val_loss: 0.3338 - val_accuracy: 0.9045 - 589s/epoch - 172ms/step\n",
      "Epoch 7/50\n",
      "3424/3424 - 586s - loss: 0.0786 - accuracy: 0.9730 - val_loss: 0.3337 - val_accuracy: 0.9166 - 586s/epoch - 171ms/step\n",
      "Epoch 8/50\n",
      "3424/3424 - 588s - loss: 0.0679 - accuracy: 0.9765 - val_loss: 0.3711 - val_accuracy: 0.9057 - 588s/epoch - 172ms/step\n",
      "Epoch 9/50\n",
      "3424/3424 - 590s - loss: 0.0550 - accuracy: 0.9813 - val_loss: 0.3967 - val_accuracy: 0.9081 - 590s/epoch - 172ms/step\n",
      "Epoch 10/50\n",
      "3424/3424 - 592s - loss: 0.0455 - accuracy: 0.9849 - val_loss: 0.3984 - val_accuracy: 0.9117 - 592s/epoch - 173ms/step\n",
      "Epoch 11/50\n",
      "3424/3424 - 595s - loss: 0.0372 - accuracy: 0.9871 - val_loss: 0.4169 - val_accuracy: 0.9117 - 595s/epoch - 174ms/step\n",
      "Epoch 12/50\n",
      "3424/3424 - 597s - loss: 0.0320 - accuracy: 0.9892 - val_loss: 0.4421 - val_accuracy: 0.9069 - 597s/epoch - 174ms/step\n",
      "Epoch 13/50\n",
      "3424/3424 - 594s - loss: 0.0263 - accuracy: 0.9907 - val_loss: 0.4674 - val_accuracy: 0.9057 - 594s/epoch - 173ms/step\n",
      "Epoch 14/50\n",
      "3424/3424 - 597s - loss: 0.0257 - accuracy: 0.9912 - val_loss: 0.4275 - val_accuracy: 0.9117 - 597s/epoch - 174ms/step\n",
      "Epoch 15/50\n",
      "3424/3424 - 598s - loss: 0.0227 - accuracy: 0.9926 - val_loss: 0.4409 - val_accuracy: 0.9081 - 598s/epoch - 175ms/step\n",
      "Epoch 16/50\n",
      "3424/3424 - 588s - loss: 0.0235 - accuracy: 0.9926 - val_loss: 0.4546 - val_accuracy: 0.9117 - 588s/epoch - 172ms/step\n",
      "Epoch 17/50\n",
      "3424/3424 - 594s - loss: 0.0187 - accuracy: 0.9934 - val_loss: 0.4037 - val_accuracy: 0.9081 - 594s/epoch - 173ms/step\n",
      "Epoch 18/50\n",
      "3424/3424 - 588s - loss: 0.0178 - accuracy: 0.9940 - val_loss: 0.5168 - val_accuracy: 0.9069 - 588s/epoch - 172ms/step\n",
      "Epoch 19/50\n",
      "3424/3424 - 591s - loss: 0.0158 - accuracy: 0.9948 - val_loss: 0.3957 - val_accuracy: 0.9141 - 591s/epoch - 172ms/step\n",
      "Epoch 20/50\n",
      "3424/3424 - 590s - loss: 0.0128 - accuracy: 0.9960 - val_loss: 0.4689 - val_accuracy: 0.9117 - 590s/epoch - 172ms/step\n",
      "Epoch 21/50\n",
      "3424/3424 - 592s - loss: 0.0156 - accuracy: 0.9948 - val_loss: 0.4383 - val_accuracy: 0.9081 - 592s/epoch - 173ms/step\n",
      "Epoch 22/50\n",
      "3424/3424 - 592s - loss: 0.0119 - accuracy: 0.9960 - val_loss: 0.4875 - val_accuracy: 0.9105 - 592s/epoch - 173ms/step\n",
      "Epoch 23/50\n",
      "3424/3424 - 590s - loss: 0.0120 - accuracy: 0.9957 - val_loss: 0.5150 - val_accuracy: 0.8936 - 590s/epoch - 172ms/step\n",
      "Epoch 24/50\n",
      "3424/3424 - 592s - loss: 0.0108 - accuracy: 0.9965 - val_loss: 0.4856 - val_accuracy: 0.9226 - 592s/epoch - 173ms/step\n",
      "Epoch 25/50\n",
      "3424/3424 - 593s - loss: 0.0089 - accuracy: 0.9970 - val_loss: 0.4637 - val_accuracy: 0.9057 - 593s/epoch - 173ms/step\n",
      "Epoch 26/50\n",
      "3424/3424 - 590s - loss: 0.0084 - accuracy: 0.9971 - val_loss: 0.4884 - val_accuracy: 0.9166 - 590s/epoch - 172ms/step\n",
      "Epoch 27/50\n",
      "3424/3424 - 592s - loss: 0.0082 - accuracy: 0.9973 - val_loss: 0.5901 - val_accuracy: 0.9033 - 592s/epoch - 173ms/step\n",
      "Epoch 28/50\n",
      "3424/3424 - 591s - loss: 0.0099 - accuracy: 0.9969 - val_loss: 0.5016 - val_accuracy: 0.9202 - 591s/epoch - 173ms/step\n",
      "Epoch 29/50\n",
      "3424/3424 - 592s - loss: 0.0073 - accuracy: 0.9976 - val_loss: 0.5400 - val_accuracy: 0.9045 - 592s/epoch - 173ms/step\n",
      "Epoch 30/50\n",
      "3424/3424 - 596s - loss: 0.0089 - accuracy: 0.9972 - val_loss: 0.4106 - val_accuracy: 0.9190 - 596s/epoch - 174ms/step\n",
      "Epoch 31/50\n",
      "3424/3424 - 591s - loss: 0.0072 - accuracy: 0.9976 - val_loss: 0.5104 - val_accuracy: 0.9202 - 591s/epoch - 173ms/step\n",
      "Epoch 32/50\n",
      "3424/3424 - 591s - loss: 0.0099 - accuracy: 0.9968 - val_loss: 0.5205 - val_accuracy: 0.9105 - 591s/epoch - 172ms/step\n"
     ]
    }
   ],
   "source": [
    "history = model_dn169_sea.fit(train_batches,\n",
    "                         epochs=50,\n",
    "                         verbose=2,\n",
    "                         validation_data=val_batches,\n",
    "                         callbacks=[checkpoint,Earlystop],\n",
    "                         class_weight=class_weights)"
   ]
  },
  {
   "cell_type": "markdown",
   "id": "a574e8f1",
   "metadata": {
    "papermill": {
     "duration": 0.030176,
     "end_time": "2023-06-04T10:32:49.378881",
     "exception": false,
     "start_time": "2023-06-04T10:32:49.348705",
     "status": "completed"
    },
    "tags": []
   },
   "source": [
    "### Plotting accuracy and loss"
   ]
  },
  {
   "cell_type": "code",
   "execution_count": 26,
   "id": "99a8544c",
   "metadata": {
    "execution": {
     "iopub.execute_input": "2023-06-04T10:32:49.442285Z",
     "iopub.status.busy": "2023-06-04T10:32:49.441935Z",
     "iopub.status.idle": "2023-06-04T10:33:21.133502Z",
     "shell.execute_reply": "2023-06-04T10:33:21.132471Z"
    },
    "papermill": {
     "duration": 31.759218,
     "end_time": "2023-06-04T10:33:21.168939",
     "exception": false,
     "start_time": "2023-06-04T10:32:49.409721",
     "status": "completed"
    },
    "tags": []
   },
   "outputs": [
    {
     "name": "stdout",
     "output_type": "stream",
     "text": [
      "Number of epochs trained: 32\n"
     ]
    },
    {
     "data": {
      "image/png": "[encoded data removed]",
      "text/plain": [
       "<Figure size 1500x500 with 2 Axes>"
      ]
     },
     "metadata": {},
     "output_type": "display_data"
    }
   ],
   "source": [
    "# Determine number of epochs trained\n",
    "num_epochs_trained = len(history.history['val_loss'])\n",
    "print(f\"Number of epochs trained: {num_epochs_trained}\")\n",
    "\n",
    "## History plotting\n",
    "epochs = [i for i in range(num_epochs_trained)]\n",
    "fig , ax = plt.subplots(1,2)\n",
    "train_acc = history.history['accuracy']\n",
    "train_loss = history.history['loss']\n",
    "val_acc = history.history['val_accuracy']\n",
    "val_loss = history.history['val_loss']\n",
    "fig.set_size_inches(15,5)\n",
    "\n",
    "ax[0].plot(epochs , train_acc , 'go-' , label = 'Training Accuracy')\n",
    "ax[0].plot(epochs , val_acc , 'ro-' , label = 'Validation Accuracy')\n",
    "title_font = {'fontname':'Times New Roman', 'size':'14', 'color':'black', 'weight':'normal'}\n",
    "ax[0].set_title('Model Accuracy', fontdict=title_font)\n",
    "legend_font = {'family': 'Times New Roman', 'size': '12', 'weight': 'normal'}\n",
    "ax[0].legend(prop=legend_font)\n",
    "label_font = {'fontname':'Times New Roman', 'size':'12', 'color':'black', 'weight':'normal'}\n",
    "ax[0].set_xlabel(\"Epochs\",  fontdict=label_font)\n",
    "ax[0].set_ylabel(\"Accuracy\",  fontdict=label_font)\n",
    "\n",
    "ax[1].plot(epochs , train_loss , 'g-o' , label = 'Training Loss')\n",
    "ax[1].plot(epochs , val_loss , 'r-o' , label = 'Validation Loss')\n",
    "ax[1].set_title('Model Loss', fontdict=title_font)\n",
    "ax[1].legend(prop=legend_font)\n",
    "ax[1].set_xlabel(\"Epochs\", fontdict=label_font)\n",
    "ax[1].set_ylabel(\"Loss\", fontdict=label_font)\n",
    "plt.show()"
   ]
  },
  {
   "cell_type": "code",
   "execution_count": 27,
   "id": "2b559aea",
   "metadata": {
    "execution": {
     "iopub.execute_input": "2023-06-04T10:33:21.237762Z",
     "iopub.status.busy": "2023-06-04T10:33:21.237359Z",
     "iopub.status.idle": "2023-06-04T10:33:22.064503Z",
     "shell.execute_reply": "2023-06-04T10:33:22.063596Z"
    },
    "id": "zm_AewFBXTj8",
    "papermill": {
     "duration": 0.864914,
     "end_time": "2023-06-04T10:33:22.067253",
     "exception": false,
     "start_time": "2023-06-04T10:33:21.202339",
     "status": "completed"
    },
    "tags": []
   },
   "outputs": [],
   "source": [
    "from tensorflow.keras import models\n",
    "model_dn169_sea.load_weights(\"DN169_SEA.hdf5\")"
   ]
  },
  {
   "cell_type": "code",
   "execution_count": 28,
   "id": "a298f31c",
   "metadata": {
    "execution": {
     "iopub.execute_input": "2023-06-04T10:33:22.135060Z",
     "iopub.status.busy": "2023-06-04T10:33:22.134297Z",
     "iopub.status.idle": "2023-06-04T10:33:40.481160Z",
     "shell.execute_reply": "2023-06-04T10:33:40.480104Z"
    },
    "papermill": {
     "duration": 18.383557,
     "end_time": "2023-06-04T10:33:40.484159",
     "exception": false,
     "start_time": "2023-06-04T10:33:22.100602",
     "status": "completed"
    },
    "tags": []
   },
   "outputs": [
    {
     "name": "stdout",
     "output_type": "stream",
     "text": [
      "52/52 [==============================] - 18s 288ms/step\n"
     ]
    }
   ],
   "source": [
    "predictions = model_dn169_sea.predict(test_batches)"
   ]
  },
  {
   "cell_type": "code",
   "execution_count": 29,
   "id": "e4ac1488",
   "metadata": {
    "execution": {
     "iopub.execute_input": "2023-06-04T10:33:40.558511Z",
     "iopub.status.busy": "2023-06-04T10:33:40.558136Z",
     "iopub.status.idle": "2023-06-04T10:33:40.563762Z",
     "shell.execute_reply": "2023-06-04T10:33:40.562497Z"
    },
    "id": "FDTMtBeTdBfU",
    "papermill": {
     "duration": 0.046546,
     "end_time": "2023-06-04T10:33:40.566631",
     "exception": false,
     "start_time": "2023-06-04T10:33:40.520085",
     "status": "completed"
    },
    "tags": []
   },
   "outputs": [],
   "source": [
    "#geting predictions on test dataset\n",
    "y_pred = np.argmax(predictions, axis=1)\n",
    "#getting the true labels per image \n",
    "y_true = test_batches.classes\n",
    "#getting the predicted labels per image \n",
    "y_prob = predictions"
   ]
  },
  {
   "cell_type": "code",
   "execution_count": 30,
   "id": "60b13e70",
   "metadata": {
    "execution": {
     "iopub.execute_input": "2023-06-04T10:33:40.643602Z",
     "iopub.status.busy": "2023-06-04T10:33:40.642596Z",
     "iopub.status.idle": "2023-06-04T10:33:40.659870Z",
     "shell.execute_reply": "2023-06-04T10:33:40.658379Z"
    },
    "papermill": {
     "duration": 0.0569,
     "end_time": "2023-06-04T10:33:40.662113",
     "exception": false,
     "start_time": "2023-06-04T10:33:40.605213",
     "status": "completed"
    },
    "tags": []
   },
   "outputs": [
    {
     "name": "stdout",
     "output_type": "stream",
     "text": [
      "\n",
      "Classification Report:\n",
      "              precision    recall  f1-score   support\n",
      "\n",
      "          AK       0.67      0.55      0.60        22\n",
      "         BCC       0.76      0.70      0.73        27\n",
      "         BKL       0.63      0.79      0.70        66\n",
      "          DF       0.80      0.67      0.73         6\n",
      "         MEL       0.69      0.31      0.43        35\n",
      "          NV       0.96      0.97      0.96       663\n",
      "        VASC       0.90      1.00      0.95         9\n",
      "\n",
      "    accuracy                           0.91       828\n",
      "   macro avg       0.77      0.71      0.73       828\n",
      "weighted avg       0.90      0.91      0.90       828\n",
      "\n"
     ]
    }
   ],
   "source": [
    "classnames = ['AK', 'BCC', 'BKL', 'DF', 'MEL', 'NV', 'VASC']\n",
    "\n",
    "from tensorflow.keras.utils import to_categorical\n",
    "y_test = to_categorical(y_true)\n",
    "\n",
    "report = classification_report(y_true, y_pred, target_names=classnames)\n",
    "\n",
    "print(\"\\nClassification Report:\")\n",
    "print(report)"
   ]
  },
  {
   "cell_type": "code",
   "execution_count": 31,
   "id": "3e6c36cd",
   "metadata": {
    "execution": {
     "iopub.execute_input": "2023-06-04T10:33:40.738313Z",
     "iopub.status.busy": "2023-06-04T10:33:40.737937Z",
     "iopub.status.idle": "2023-06-04T10:33:41.371379Z",
     "shell.execute_reply": "2023-06-04T10:33:41.370455Z"
    },
    "papermill": {
     "duration": 0.673398,
     "end_time": "2023-06-04T10:33:41.373525",
     "exception": false,
     "start_time": "2023-06-04T10:33:40.700127",
     "status": "completed"
    },
    "tags": []
   },
   "outputs": [
    {
     "data": {
      "image/png": "[encoded data removed]",
      "text/plain": [
       "<Figure size 1000x400 with 2 Axes>"
      ]
     },
     "metadata": {},
     "output_type": "display_data"
    }
   ],
   "source": [
    "## Confusion Matrix\n",
    "title_font = {'fontname':'Times New Roman', 'size':'14', 'color':'black', 'weight':'normal'}\n",
    "label_font = {'fontname':'Times New Roman', 'size':'12', 'color':'black', 'weight':'normal'}\n",
    "\n",
    "from sklearn.metrics import confusion_matrix\n",
    "import seaborn as sns\n",
    "# Creating confusion matrix \n",
    "cm = confusion_matrix(y_true, y_pred)\n",
    "# Plotting the confusion matrix\n",
    "plt.figure(figsize=(10,4))\n",
    "sns.heatmap(cm, annot=True, fmt='g', cmap='Blues', xticklabels=targetnames, yticklabels=targetnames)\n",
    "plt.xlabel('Predicted Label', fontdict=label_font)\n",
    "plt.ylabel('True Label', fontdict=label_font)\n",
    "plt.title('Confusion Matrix', fontdict=title_font)\n",
    "plt.show()"
   ]
  },
  {
   "cell_type": "markdown",
   "id": "f0c9ecea",
   "metadata": {
    "papermill": {
     "duration": 0.035651,
     "end_time": "2023-06-04T10:33:41.445742",
     "exception": false,
     "start_time": "2023-06-04T10:33:41.410091",
     "status": "completed"
    },
    "tags": []
   },
   "source": [
    "## Results"
   ]
  },
  {
   "cell_type": "markdown",
   "id": "68e81a64",
   "metadata": {
    "papermill": {
     "duration": 0.035234,
     "end_time": "2023-06-04T10:33:41.517093",
     "exception": false,
     "start_time": "2023-06-04T10:33:41.481859",
     "status": "completed"
    },
    "tags": []
   },
   "source": [
    "### Individual Class Accuracy "
   ]
  },
  {
   "cell_type": "code",
   "execution_count": 32,
   "id": "f8d3eee3",
   "metadata": {
    "execution": {
     "iopub.execute_input": "2023-06-04T10:33:41.590859Z",
     "iopub.status.busy": "2023-06-04T10:33:41.590477Z",
     "iopub.status.idle": "2023-06-04T10:33:41.598639Z",
     "shell.execute_reply": "2023-06-04T10:33:41.597433Z"
    },
    "papermill": {
     "duration": 0.047403,
     "end_time": "2023-06-04T10:33:41.600602",
     "exception": false,
     "start_time": "2023-06-04T10:33:41.553199",
     "status": "completed"
    },
    "tags": []
   },
   "outputs": [
    {
     "name": "stdout",
     "output_type": "stream",
     "text": [
      "Overall accuracy: 90.58%\n",
      "Accuracy for each class:\n",
      "Class 0: 54.55%\n",
      "Class 1: 70.37%\n",
      "Class 2: 78.79%\n",
      "Class 3: 66.67%\n",
      "Class 4: 31.43%\n",
      "Class 5: 96.98%\n",
      "Class 6: 100.00%\n"
     ]
    }
   ],
   "source": [
    "# y_true are the true labels of the test set\n",
    "# y_pred are the predicted labels of the test set\n",
    "accuracy = accuracy_score(y_true, y_pred)\n",
    "# Calculate accuracy for each class\n",
    "class_accuracy = cm.diagonal()/cm.sum(axis=1)\n",
    "print(\"Overall accuracy: {:.2f}%\".format(accuracy*100))\n",
    "print(\"Accuracy for each class:\")\n",
    "for i, acc in enumerate(class_accuracy):\n",
    "    print(\"Class {}: {:.2f}%\".format(i, acc*100))"
   ]
  },
  {
   "cell_type": "markdown",
   "id": "c8b2ccb6",
   "metadata": {
    "papermill": {
     "duration": 0.035227,
     "end_time": "2023-06-04T10:33:41.671933",
     "exception": false,
     "start_time": "2023-06-04T10:33:41.636706",
     "status": "completed"
    },
    "tags": []
   },
   "source": [
    "### Individual Class Weighted Precision"
   ]
  },
  {
   "cell_type": "code",
   "execution_count": 33,
   "id": "7f65d4d1",
   "metadata": {
    "execution": {
     "iopub.execute_input": "2023-06-04T10:33:41.744602Z",
     "iopub.status.busy": "2023-06-04T10:33:41.743787Z",
     "iopub.status.idle": "2023-06-04T10:33:41.758622Z",
     "shell.execute_reply": "2023-06-04T10:33:41.757451Z"
    },
    "papermill": {
     "duration": 0.053327,
     "end_time": "2023-06-04T10:33:41.760826",
     "exception": false,
     "start_time": "2023-06-04T10:33:41.707499",
     "status": "completed"
    },
    "tags": []
   },
   "outputs": [
    {
     "name": "stdout",
     "output_type": "stream",
     "text": [
      "Weighted precision for each class:\n",
      "Class 0: 66.67%\n",
      "Class 1: 76.00%\n",
      "Class 2: 63.41%\n",
      "Class 3: 80.00%\n",
      "Class 4: 68.75%\n",
      "Class 5: 95.68%\n",
      "Class 6: 90.00%\n",
      "Weighted precision: 90.39%\n"
     ]
    }
   ],
   "source": [
    "report = classification_report(y_true, y_pred, output_dict=True)\n",
    "# Extract weighted precision for each class\n",
    "class_precision = {}\n",
    "for class_label in report.keys():\n",
    "    if class_label == 'weighted avg':\n",
    "        class_precision['weighted'] = report[class_label]['precision']\n",
    "    elif class_label.isdigit():\n",
    "        class_precision[int(class_label)] = report[class_label]['precision']\n",
    "print(\"Weighted precision for each class:\")\n",
    "for i, precision in class_precision.items():\n",
    "    if i == 'weighted':\n",
    "        print(\"Weighted precision: {:.2f}%\".format(precision*100))\n",
    "    else:\n",
    "        print(\"Class {}: {:.2f}%\".format(i, precision*100))"
   ]
  },
  {
   "cell_type": "markdown",
   "id": "c2932f0c",
   "metadata": {
    "papermill": {
     "duration": 0.035593,
     "end_time": "2023-06-04T10:33:41.836063",
     "exception": false,
     "start_time": "2023-06-04T10:33:41.800470",
     "status": "completed"
    },
    "tags": []
   },
   "source": [
    "### Individual Class Weighted Recall"
   ]
  },
  {
   "cell_type": "code",
   "execution_count": 34,
   "id": "68d7ef23",
   "metadata": {
    "execution": {
     "iopub.execute_input": "2023-06-04T10:33:41.908935Z",
     "iopub.status.busy": "2023-06-04T10:33:41.908591Z",
     "iopub.status.idle": "2023-06-04T10:33:41.925081Z",
     "shell.execute_reply": "2023-06-04T10:33:41.923611Z"
    },
    "papermill": {
     "duration": 0.055822,
     "end_time": "2023-06-04T10:33:41.927462",
     "exception": false,
     "start_time": "2023-06-04T10:33:41.871640",
     "status": "completed"
    },
    "tags": []
   },
   "outputs": [
    {
     "name": "stdout",
     "output_type": "stream",
     "text": [
      "Weighted recall for each class:\n",
      "Class 0: 54.55%\n",
      "Class 1: 70.37%\n",
      "Class 2: 78.79%\n",
      "Class 3: 66.67%\n",
      "Class 4: 31.43%\n",
      "Class 5: 96.98%\n",
      "Class 6: 100.00%\n",
      "Weighted Recall: 90.58%\n"
     ]
    }
   ],
   "source": [
    "report = classification_report(y_true, y_pred, output_dict=True)\n",
    "# Extract weighted recall for each class\n",
    "class_recall = {}\n",
    "for class_label in report.keys():\n",
    "    if class_label == 'weighted avg':\n",
    "        class_recall['weighted'] = report[class_label]['recall']\n",
    "    elif class_label.isdigit():\n",
    "        class_recall[int(class_label)] = report[class_label]['recall']\n",
    "print(\"Weighted recall for each class:\")\n",
    "for i, recall in class_recall.items():\n",
    "    if i == 'weighted':\n",
    "        print(\"Weighted Recall: {:.2f}%\".format(recall*100))\n",
    "    else:\n",
    "        print(\"Class {}: {:.2f}%\".format(i, recall*100))"
   ]
  },
  {
   "cell_type": "markdown",
   "id": "4dcb3b61",
   "metadata": {
    "papermill": {
     "duration": 0.03581,
     "end_time": "2023-06-04T10:33:41.999427",
     "exception": false,
     "start_time": "2023-06-04T10:33:41.963617",
     "status": "completed"
    },
    "tags": []
   },
   "source": [
    "### Individual Class Weighted F1-score"
   ]
  },
  {
   "cell_type": "code",
   "execution_count": 35,
   "id": "0fd12080",
   "metadata": {
    "execution": {
     "iopub.execute_input": "2023-06-04T10:33:42.073090Z",
     "iopub.status.busy": "2023-06-04T10:33:42.071992Z",
     "iopub.status.idle": "2023-06-04T10:33:42.087948Z",
     "shell.execute_reply": "2023-06-04T10:33:42.086617Z"
    },
    "papermill": {
     "duration": 0.055239,
     "end_time": "2023-06-04T10:33:42.090279",
     "exception": false,
     "start_time": "2023-06-04T10:33:42.035040",
     "status": "completed"
    },
    "tags": []
   },
   "outputs": [
    {
     "name": "stdout",
     "output_type": "stream",
     "text": [
      "Weighted F1-score for each class:\n",
      "Class 0: 60.00%\n",
      "Class 1: 73.08%\n",
      "Class 2: 70.27%\n",
      "Class 3: 72.73%\n",
      "Class 4: 43.14%\n",
      "Class 5: 96.33%\n",
      "Class 6: 94.74%\n",
      "Weighted F1-score: 90.09%\n"
     ]
    }
   ],
   "source": [
    "report = classification_report(y_true, y_pred, output_dict=True)\n",
    "# Extract weighted F1-score for each class\n",
    "class_f1 = {}\n",
    "for class_label in report.keys():\n",
    "    if class_label == 'weighted avg':\n",
    "        class_f1['weighted'] = report[class_label]['f1-score']\n",
    "    elif class_label.isdigit():\n",
    "        class_f1[int(class_label)] = report[class_label]['f1-score']\n",
    "print(\"Weighted F1-score for each class:\")\n",
    "for i, f1_score in class_f1.items():\n",
    "    if i == 'weighted':\n",
    "        print(\"Weighted F1-score: {:.2f}%\".format(f1_score*100))\n",
    "    else:\n",
    "        print(\"Class {}: {:.2f}%\".format(i, f1_score*100))"
   ]
  },
  {
   "cell_type": "markdown",
   "id": "f8ba3726",
   "metadata": {
    "papermill": {
     "duration": 0.03616,
     "end_time": "2023-06-04T10:33:42.164302",
     "exception": false,
     "start_time": "2023-06-04T10:33:42.128142",
     "status": "completed"
    },
    "tags": []
   },
   "source": [
    "### Individual Class Precision, Recall and F1-score"
   ]
  },
  {
   "cell_type": "code",
   "execution_count": 36,
   "id": "ee7c9f5f",
   "metadata": {
    "execution": {
     "iopub.execute_input": "2023-06-04T10:33:42.239185Z",
     "iopub.status.busy": "2023-06-04T10:33:42.238234Z",
     "iopub.status.idle": "2023-06-04T10:33:42.248264Z",
     "shell.execute_reply": "2023-06-04T10:33:42.246885Z"
    },
    "papermill": {
     "duration": 0.049758,
     "end_time": "2023-06-04T10:33:42.250400",
     "exception": false,
     "start_time": "2023-06-04T10:33:42.200642",
     "status": "completed"
    },
    "tags": []
   },
   "outputs": [
    {
     "name": "stdout",
     "output_type": "stream",
     "text": [
      "Class-wise weighted precision, recall, and F1-score:\n",
      "Class 0: Precision=0.67, Recall=0.55, F1-score=0.60\n",
      "Class 1: Precision=0.76, Recall=0.70, F1-score=0.73\n",
      "Class 2: Precision=0.63, Recall=0.79, F1-score=0.70\n",
      "Class 3: Precision=0.80, Recall=0.67, F1-score=0.73\n",
      "Class 4: Precision=0.69, Recall=0.31, F1-score=0.43\n",
      "Class 5: Precision=0.96, Recall=0.97, F1-score=0.96\n",
      "Class 6: Precision=0.90, Recall=1.00, F1-score=0.95\n"
     ]
    }
   ],
   "source": [
    "from sklearn.metrics import precision_recall_fscore_support\n",
    "\n",
    "precision_class, recall_class, f1_class, support_class = precision_recall_fscore_support(y_true, y_pred, average=None)\n",
    "print('Class-wise weighted precision, recall, and F1-score:')\n",
    "for i in range(len(precision_class)):\n",
    "    print('Class {}: Precision={:.2f}, Recall={:.2f}, F1-score={:.2f}'.format(i, precision_class[i], recall_class[i], f1_class[i]))\n"
   ]
  },
  {
   "cell_type": "markdown",
   "id": "f9039cb3",
   "metadata": {
    "papermill": {
     "duration": 0.036461,
     "end_time": "2023-06-04T10:33:42.326263",
     "exception": false,
     "start_time": "2023-06-04T10:33:42.289802",
     "status": "completed"
    },
    "tags": []
   },
   "source": [
    "### Individual Class Weighted Sensitivity"
   ]
  },
  {
   "cell_type": "code",
   "execution_count": 37,
   "id": "b27f1681",
   "metadata": {
    "execution": {
     "iopub.execute_input": "2023-06-04T10:33:42.403137Z",
     "iopub.status.busy": "2023-06-04T10:33:42.401815Z",
     "iopub.status.idle": "2023-06-04T10:33:42.889169Z",
     "shell.execute_reply": "2023-06-04T10:33:42.888078Z"
    },
    "papermill": {
     "duration": 0.528523,
     "end_time": "2023-06-04T10:33:42.891991",
     "exception": false,
     "start_time": "2023-06-04T10:33:42.363468",
     "status": "completed"
    },
    "tags": []
   },
   "outputs": [
    {
     "name": "stdout",
     "output_type": "stream",
     "text": [
      "Weighted Sensitivity:  0.9057971014492754\n",
      "Class  0 :sensitivity = 0.5454545454545454\n",
      "Class  1 :sensitivity = 0.7037037037037037\n",
      "Class  2 :sensitivity = 0.7878787878787878\n",
      "Class  3 :sensitivity = 0.6666666666666666\n",
      "Class  4 :sensitivity = 0.3142857142857143\n",
      "Class  5 :sensitivity = 0.9698340874811463\n",
      "Class  6 :sensitivity = 1.0\n"
     ]
    }
   ],
   "source": [
    "from imblearn.metrics import sensitivity_score\n",
    "\n",
    "sensitivity = sensitivity_score(y_true, y_pred, average='weighted')\n",
    "print(\"Weighted Sensitivity: \", sensitivity)\n",
    "\n",
    "# Calculate class-wise sensitivity\n",
    "sensitivity = sensitivity_score(y_true, y_pred, average=None)\n",
    "\n",
    "# Print sensitivity score for each class\n",
    "for i in range(len(sensitivity)):\n",
    "    print(\"Class \", i, \":sensitivity =\", sensitivity[i])"
   ]
  },
  {
   "cell_type": "markdown",
   "id": "6d7bef19",
   "metadata": {
    "papermill": {
     "duration": 0.036309,
     "end_time": "2023-06-04T10:33:42.966433",
     "exception": false,
     "start_time": "2023-06-04T10:33:42.930124",
     "status": "completed"
    },
    "tags": []
   },
   "source": [
    "### Individual Class Weighted Specificity"
   ]
  },
  {
   "cell_type": "code",
   "execution_count": 38,
   "id": "f4a0d484",
   "metadata": {
    "execution": {
     "iopub.execute_input": "2023-06-04T10:33:43.041702Z",
     "iopub.status.busy": "2023-06-04T10:33:43.041023Z",
     "iopub.status.idle": "2023-06-04T10:33:43.052364Z",
     "shell.execute_reply": "2023-06-04T10:33:43.051012Z"
    },
    "papermill": {
     "duration": 0.051193,
     "end_time": "2023-06-04T10:33:43.054432",
     "exception": false,
     "start_time": "2023-06-04T10:33:43.003239",
     "status": "completed"
    },
    "tags": []
   },
   "outputs": [
    {
     "name": "stdout",
     "output_type": "stream",
     "text": [
      "Weighted Specificity:  0.8553977221416171\n",
      "Class  0 :specificity= 0.9925558312655087\n",
      "Class  1 :specificity= 0.9925093632958801\n",
      "Class  2 :specificity= 0.9606299212598425\n",
      "Class  3 :specificity= 0.9987834549878345\n",
      "Class  4 :specificity= 0.9936948297604036\n",
      "Class  5 :specificity= 0.8242424242424242\n",
      "Class  6 :specificity= 0.9987789987789988\n"
     ]
    }
   ],
   "source": [
    "from imblearn.metrics import specificity_score\n",
    "\n",
    "specificity = specificity_score(y_true, y_pred, average='weighted')\n",
    "print(\"Weighted Specificity: \", specificity)\n",
    "\n",
    "# Calculate class-wise specificity\n",
    "specificity = specificity_score(y_true, y_pred, average=None)\n",
    "\n",
    "# Print sensitivity score for each class\n",
    "for i in range(len(specificity)):\n",
    "    print(\"Class \", i, \":specificity=\", specificity[i])"
   ]
  },
  {
   "cell_type": "markdown",
   "id": "2891872a",
   "metadata": {
    "papermill": {
     "duration": 0.122778,
     "end_time": "2023-06-04T10:33:43.217029",
     "exception": false,
     "start_time": "2023-06-04T10:33:43.094251",
     "status": "completed"
    },
    "tags": []
   },
   "source": [
    "### Accuracy"
   ]
  },
  {
   "cell_type": "code",
   "execution_count": 39,
   "id": "64dcb633",
   "metadata": {
    "execution": {
     "iopub.execute_input": "2023-06-04T10:33:43.293350Z",
     "iopub.status.busy": "2023-06-04T10:33:43.292361Z",
     "iopub.status.idle": "2023-06-04T10:33:43.299914Z",
     "shell.execute_reply": "2023-06-04T10:33:43.298715Z"
    },
    "papermill": {
     "duration": 0.048054,
     "end_time": "2023-06-04T10:33:43.301988",
     "exception": false,
     "start_time": "2023-06-04T10:33:43.253934",
     "status": "completed"
    },
    "tags": []
   },
   "outputs": [
    {
     "name": "stdout",
     "output_type": "stream",
     "text": [
      "Accuracy: 0.9057971014492754\n"
     ]
    }
   ],
   "source": [
    "print(\"Accuracy: \" + str(accuracy_score(y_true, y_pred)))\n",
    "import numpy as np\n",
    "from sklearn.metrics import accuracy_score"
   ]
  },
  {
   "cell_type": "code",
   "execution_count": 40,
   "id": "a24683e0",
   "metadata": {
    "execution": {
     "iopub.execute_input": "2023-06-04T10:33:43.381466Z",
     "iopub.status.busy": "2023-06-04T10:33:43.380433Z",
     "iopub.status.idle": "2023-06-04T10:33:43.401882Z",
     "shell.execute_reply": "2023-06-04T10:33:43.400514Z"
    },
    "papermill": {
     "duration": 0.063123,
     "end_time": "2023-06-04T10:33:43.404288",
     "exception": false,
     "start_time": "2023-06-04T10:33:43.341165",
     "status": "completed"
    },
    "tags": []
   },
   "outputs": [
    {
     "name": "stdout",
     "output_type": "stream",
     "text": [
      "Top-1 Accuracy: 0.9057971014492754\n",
      "Top-2 Accuracy: 0.9625603864734299\n",
      "Top-3 Accuracy: 0.9903381642512077\n"
     ]
    }
   ],
   "source": [
    "# Calculate top-1 accuracy\n",
    "top1_acc = accuracy_score(y_true, y_pred)\n",
    "print(\"Top-1 Accuracy:\", top1_acc)\n",
    "\n",
    "# Calculate top-2 accuracy\n",
    "y_pred_top2 = np.argsort(-predictions, axis=1)[:, :2] # Get the top 2 predicted classes\n",
    "top2_acc = np.mean(np.array([y_true[i] in y_pred_top2[i] for i in range(len(y_true))]))\n",
    "print(\"Top-2 Accuracy:\", top2_acc)\n",
    "\n",
    "# Calculate top-3 accuracy\n",
    "y_pred_top3 = np.argsort(-predictions, axis=1)[:, :3] # Get the top 3 predicted classes\n",
    "top3_acc = np.mean(np.array([y_true[i] in y_pred_top3[i] for i in range(len(y_true))]))\n",
    "print(\"Top-3 Accuracy:\", top3_acc)\n",
    "from sklearn.metrics import f1_score"
   ]
  },
  {
   "cell_type": "markdown",
   "id": "cdb859de",
   "metadata": {
    "papermill": {
     "duration": 0.037433,
     "end_time": "2023-06-04T10:33:43.480734",
     "exception": false,
     "start_time": "2023-06-04T10:33:43.443301",
     "status": "completed"
    },
    "tags": []
   },
   "source": [
    "### Weighted Evaluation Measures"
   ]
  },
  {
   "cell_type": "code",
   "execution_count": 41,
   "id": "c70e5607",
   "metadata": {
    "execution": {
     "iopub.execute_input": "2023-06-04T10:33:43.558436Z",
     "iopub.status.busy": "2023-06-04T10:33:43.558079Z",
     "iopub.status.idle": "2023-06-04T10:33:43.586772Z",
     "shell.execute_reply": "2023-06-04T10:33:43.585707Z"
    },
    "papermill": {
     "duration": 0.069923,
     "end_time": "2023-06-04T10:33:43.588968",
     "exception": false,
     "start_time": "2023-06-04T10:33:43.519045",
     "status": "completed"
    },
    "tags": []
   },
   "outputs": [
    {
     "name": "stdout",
     "output_type": "stream",
     "text": [
      "Weighted Precision: 0.9038541280922645\n",
      "Weighted Recall: 0.9057971014492754\n",
      "Weighted F1-Score: 0.9009206612527412\n",
      "Weighted Sensitivity: 0.9057971014492754\n",
      "Weighted Specificity: 0.8553977221416171\n",
      "weighted Roc score: 0.9658699089043534\n"
     ]
    }
   ],
   "source": [
    "print(\"Weighted Precision: \"+ str(precision_score(y_true, y_pred, average='weighted')))\n",
    "print(\"Weighted Recall: \"+ str(recall_score(y_true, y_pred, average='weighted')))\n",
    "print(\"Weighted F1-Score: \"+ str(f1_score(y_true, y_pred, average='weighted')))\n",
    "print(\"Weighted Sensitivity: \"+ str(sensitivity_score(y_true, y_pred, average='weighted')))\n",
    "print(\"Weighted Specificity: \"+ str(specificity_score(y_true, y_pred, average='weighted')))\n",
    "print(\"weighted Roc score: \" + str(roc_auc_score(y_true,y_prob,multi_class='ovr',average='weighted')))"
   ]
  },
  {
   "cell_type": "markdown",
   "id": "8c3ccd44",
   "metadata": {
    "papermill": {
     "duration": 0.036665,
     "end_time": "2023-06-04T10:33:43.662442",
     "exception": false,
     "start_time": "2023-06-04T10:33:43.625777",
     "status": "completed"
    },
    "tags": []
   },
   "source": [
    "### Macro Evaluation Measures"
   ]
  },
  {
   "cell_type": "code",
   "execution_count": 42,
   "id": "f07895b1",
   "metadata": {
    "execution": {
     "iopub.execute_input": "2023-06-04T10:33:43.744169Z",
     "iopub.status.busy": "2023-06-04T10:33:43.743817Z",
     "iopub.status.idle": "2023-06-04T10:33:43.766773Z",
     "shell.execute_reply": "2023-06-04T10:33:43.765528Z"
    },
    "papermill": {
     "duration": 0.06332,
     "end_time": "2023-06-04T10:33:43.768904",
     "exception": false,
     "start_time": "2023-06-04T10:33:43.705584",
     "status": "completed"
    },
    "tags": []
   },
   "outputs": [
    {
     "name": "stdout",
     "output_type": "stream",
     "text": [
      "Macro Precision: 0.7721654637464743\n",
      "Macro Recall: 0.7125462150672235\n",
      "Macro F1-Score: 0.728968787280959\n",
      "Macro Sensitivity: 0.7125462150672235\n",
      "Macro Specificity: 0.965884974798699\n",
      "Macro Roc score: 0.9663611774636908\n"
     ]
    }
   ],
   "source": [
    "print(\"Macro Precision: \"+ str(precision_score(y_true, y_pred, average='macro')))\n",
    "print(\"Macro Recall: \"+ str(recall_score(y_true, y_pred, average='macro')))\n",
    "print(\"Macro F1-Score: \"+ str(f1_score(y_true, y_pred, average='macro')))\n",
    "print(\"Macro Sensitivity: \"+ str(sensitivity_score(y_true, y_pred, average='macro')))\n",
    "print(\"Macro Specificity: \"+ str(specificity_score(y_true, y_pred, average='macro')))\n",
    "print(\"Macro Roc score: \" + str(roc_auc_score(y_true,y_prob,multi_class='ovr',average='macro')))"
   ]
  },
  {
   "cell_type": "markdown",
   "id": "5df81f2f",
   "metadata": {
    "papermill": {
     "duration": 0.036635,
     "end_time": "2023-06-04T10:33:43.842596",
     "exception": false,
     "start_time": "2023-06-04T10:33:43.805961",
     "status": "completed"
    },
    "tags": []
   },
   "source": [
    "### Micro Evaluation Measures"
   ]
  },
  {
   "cell_type": "code",
   "execution_count": 43,
   "id": "2b53244f",
   "metadata": {
    "execution": {
     "iopub.execute_input": "2023-06-04T10:33:43.917579Z",
     "iopub.status.busy": "2023-06-04T10:33:43.917201Z",
     "iopub.status.idle": "2023-06-04T10:33:43.933258Z",
     "shell.execute_reply": "2023-06-04T10:33:43.932331Z"
    },
    "papermill": {
     "duration": 0.056156,
     "end_time": "2023-06-04T10:33:43.935189",
     "exception": false,
     "start_time": "2023-06-04T10:33:43.879033",
     "status": "completed"
    },
    "tags": []
   },
   "outputs": [
    {
     "name": "stdout",
     "output_type": "stream",
     "text": [
      "Micro Precision: 0.9057971014492754\n",
      "Micro Recall: 0.9057971014492754\n",
      "Micro F1-Score: 0.9057971014492753\n",
      "Micro Sensitivity: 0.9057971014492754\n",
      "Micro Specificity: 0.9842995169082126\n"
     ]
    }
   ],
   "source": [
    "print(\"Micro Precision: \"+ str(precision_score(y_true, y_pred, average='micro')))\n",
    "print(\"Micro Recall: \"+ str(recall_score(y_true, y_pred, average='micro')))\n",
    "print(\"Micro F1-Score: \"+ str(f1_score(y_true, y_pred, average='micro')))\n",
    "print(\"Micro Sensitivity: \"+ str(sensitivity_score(y_true, y_pred, average='micro')))\n",
    "print(\"Micro Specificity: \"+ str(specificity_score(y_true, y_pred, average='micro')))"
   ]
  },
  {
   "cell_type": "markdown",
   "id": "7bb22fd0",
   "metadata": {
    "papermill": {
     "duration": 0.036739,
     "end_time": "2023-06-04T10:33:44.009047",
     "exception": false,
     "start_time": "2023-06-04T10:33:43.972308",
     "status": "completed"
    },
    "tags": []
   },
   "source": [
    "## ROC"
   ]
  },
  {
   "cell_type": "markdown",
   "id": "db1f6f0b",
   "metadata": {
    "papermill": {
     "duration": 0.036145,
     "end_time": "2023-06-04T10:33:44.081483",
     "exception": false,
     "start_time": "2023-06-04T10:33:44.045338",
     "status": "completed"
    },
    "tags": []
   },
   "source": [
    "### Compute ROC curve and ROC area for each class"
   ]
  },
  {
   "cell_type": "code",
   "execution_count": 44,
   "id": "be534d98",
   "metadata": {
    "execution": {
     "iopub.execute_input": "2023-06-04T10:33:44.157353Z",
     "iopub.status.busy": "2023-06-04T10:33:44.156397Z",
     "iopub.status.idle": "2023-06-04T10:33:44.476369Z",
     "shell.execute_reply": "2023-06-04T10:33:44.475481Z"
    },
    "papermill": {
     "duration": 0.360588,
     "end_time": "2023-06-04T10:33:44.478597",
     "exception": false,
     "start_time": "2023-06-04T10:33:44.118009",
     "status": "completed"
    },
    "tags": []
   },
   "outputs": [
    {
     "data": {
      "image/png": "[encoded data removed]",
      "text/plain": [
       "<Figure size 640x480 with 1 Axes>"
      ]
     },
     "metadata": {},
     "output_type": "display_data"
    }
   ],
   "source": [
    "fpr = {}\n",
    "tpr = {}\n",
    "roc_auc = dict()\n",
    "for i in range(num_classes):\n",
    "    fpr[i], tpr[i], _ = roc_curve(y_test[:, i], y_prob[:, i], drop_intermediate=False)\n",
    "    roc_auc[i] = auc(fpr[i], tpr[i])\n",
    "\n",
    "\n",
    "# plot the ROC curve for each class\n",
    "for i in range(7):\n",
    "    plt.plot(fpr[i], tpr[i], label='Class {}: AUC={:.3f}'.format(i, roc_auc[i]))\n",
    "\n",
    "plt.xlabel('False Positive Rate')\n",
    "plt.ylabel('True Positive Rate')\n",
    "plt.legend()\n",
    "plt.show()"
   ]
  },
  {
   "cell_type": "markdown",
   "id": "a9f2c723",
   "metadata": {
    "papermill": {
     "duration": 0.037162,
     "end_time": "2023-06-04T10:33:44.554456",
     "exception": false,
     "start_time": "2023-06-04T10:33:44.517294",
     "status": "completed"
    },
    "tags": []
   },
   "source": [
    "## MCC and Kappa Score"
   ]
  },
  {
   "cell_type": "code",
   "execution_count": 45,
   "id": "e351cfed",
   "metadata": {
    "execution": {
     "iopub.execute_input": "2023-06-04T10:33:44.631583Z",
     "iopub.status.busy": "2023-06-04T10:33:44.631157Z",
     "iopub.status.idle": "2023-06-04T10:33:44.641893Z",
     "shell.execute_reply": "2023-06-04T10:33:44.640537Z"
    },
    "papermill": {
     "duration": 0.052181,
     "end_time": "2023-06-04T10:33:44.644158",
     "exception": false,
     "start_time": "2023-06-04T10:33:44.591977",
     "status": "completed"
    },
    "tags": []
   },
   "outputs": [
    {
     "name": "stdout",
     "output_type": "stream",
     "text": [
      "MCC: 72.41%\n",
      "Kappa Score: 72.27%\n"
     ]
    }
   ],
   "source": [
    "from sklearn.metrics import matthews_corrcoef, cohen_kappa_score\n",
    "\n",
    "# y_true are the true labels of the test set\n",
    "# y_pred are the predicted labels of the test set\n",
    "mcc = matthews_corrcoef(y_true, y_pred)\n",
    "kappa = cohen_kappa_score(y_true, y_pred)\n",
    "print(\"MCC: {:.2f}%\".format(mcc*100))\n",
    "print(\"Kappa Score: {:.2f}%\".format(kappa*100))"
   ]
  },
  {
   "cell_type": "code",
   "execution_count": 46,
   "id": "4272086f",
   "metadata": {
    "execution": {
     "iopub.execute_input": "2023-06-04T10:33:44.759729Z",
     "iopub.status.busy": "2023-06-04T10:33:44.759349Z",
     "iopub.status.idle": "2023-06-04T10:33:44.883921Z",
     "shell.execute_reply": "2023-06-04T10:33:44.882308Z"
    },
    "papermill": {
     "duration": 0.19919,
     "end_time": "2023-06-04T10:33:44.886590",
     "exception": false,
     "start_time": "2023-06-04T10:33:44.687400",
     "status": "completed"
    },
    "tags": []
   },
   "outputs": [
    {
     "name": "stdout",
     "output_type": "stream",
     "text": [
      "MCC per class:\n",
      "Class 0: 59.33%\n",
      "Class 1: 72.26%\n",
      "Class 2: 67.87%\n",
      "Class 3: 72.85%\n",
      "Class 4: 45.01%\n",
      "Class 5: 81.12%\n",
      "Class 6: 94.81%\n",
      "Kappa Score per class:\n",
      "Class 0: 59.02%\n",
      "Class 1: 72.21%\n",
      "Class 2: 67.39%\n",
      "Class 3: 72.55%\n",
      "Class 4: 41.59%\n",
      "Class 5: 81.07%\n",
      "Class 6: 94.68%\n"
     ]
    }
   ],
   "source": [
    "### Individual Class Wise MCC and Kappa\n",
    "\n",
    "from sklearn.metrics import confusion_matrix, matthews_corrcoef, cohen_kappa_score\n",
    "# y_true are the true labels of the test set\n",
    "# y_pred are the predicted labels of the test set\n",
    "conf_mat = confusion_matrix(y_true, y_pred)\n",
    "mcc_per_class = {}\n",
    "kappa_per_class = {}\n",
    "\n",
    "for i in range(len(conf_mat)):\n",
    "    tp = conf_mat[i][i]\n",
    "    fp = sum(conf_mat[:, i]) - tp\n",
    "    fn = sum(conf_mat[i, :]) - tp\n",
    "    tn = sum(sum(conf_mat)) - tp - fp - fn\n",
    "\n",
    "    mcc_per_class[i] = matthews_corrcoef([1 if x==i else 0 for x in y_true], [1 if x==i else 0 for x in y_pred])\n",
    "    kappa_per_class[i] = cohen_kappa_score([1 if x==i else 0 for x in y_true], [1 if x==i else 0 for x in y_pred])\n",
    "\n",
    "print(\"MCC per class:\")\n",
    "for i, mcc in mcc_per_class.items():\n",
    "    print(\"Class {}: {:.2f}%\".format(i, mcc*100))\n",
    "\n",
    "print(\"Kappa Score per class:\")\n",
    "for i, kappa in kappa_per_class.items():\n",
    "    print(\"Class {}: {:.2f}%\".format(i, kappa*100))"
   ]
  },
  {
   "cell_type": "code",
   "execution_count": null,
   "id": "4b4917d6",
   "metadata": {
    "papermill": {
     "duration": 0.037581,
     "end_time": "2023-06-04T10:33:44.964390",
     "exception": false,
     "start_time": "2023-06-04T10:33:44.926809",
     "status": "completed"
    },
    "tags": []
   },
   "outputs": [],
   "source": []
  }
 ],
 "metadata": {
  "kernelspec": {
   "display_name": "Python 3",
   "language": "python",
   "name": "python3"
  },
  "language_info": {
   "codemirror_mode": {
    "name": "ipython",
    "version": 3
   },
   "file_extension": ".py",
   "mimetype": "text/x-python",
   "name": "python",
   "nbconvert_exporter": "python",
   "pygments_lexer": "ipython3",
   "version": "3.10.10"
  },
  "papermill": {
   "default_parameters": {},
   "duration": 19746.780836,
   "end_time": "2023-06-04T10:33:48.510701",
   "environment_variables": {},
   "exception": null,
   "input_path": "__notebook__.ipynb",
   "output_path": "__notebook__.ipynb",
   "parameters": {},
   "start_time": "2023-06-04T05:04:41.729865",
   "version": "2.4.0"
  }
 },
 "nbformat": 4,
 "nbformat_minor": 5
}
