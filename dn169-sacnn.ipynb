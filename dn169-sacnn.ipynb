{
 "cells": [
  {
   "cell_type": "markdown",
   "id": "480ed1f5",
   "metadata": {
    "papermill": {
     "duration": 0.014585,
     "end_time": "2023-06-04T16:15:19.810196",
     "exception": false,
     "start_time": "2023-06-04T16:15:19.795611",
     "status": "completed"
    },
    "tags": []
   },
   "source": [
    "# Libraries"
   ]
  },
  {
   "cell_type": "code",
   "execution_count": 1,
   "id": "a7a55fa2",
   "metadata": {
    "execution": {
     "iopub.execute_input": "2023-06-04T16:15:19.840417Z",
     "iopub.status.busy": "2023-06-04T16:15:19.839570Z",
     "iopub.status.idle": "2023-06-04T16:15:28.897226Z",
     "shell.execute_reply": "2023-06-04T16:15:28.896128Z"
    },
    "id": "Aa36bMKLze3z",
    "papermill": {
     "duration": 9.075743,
     "end_time": "2023-06-04T16:15:28.900027",
     "exception": false,
     "start_time": "2023-06-04T16:15:19.824284",
     "status": "completed"
    },
    "tags": []
   },
   "outputs": [
    {
     "name": "stderr",
     "output_type": "stream",
     "text": [
      "/opt/conda/lib/python3.10/site-packages/tensorflow_io/python/ops/__init__.py:98: UserWarning: unable to load libtensorflow_io_plugins.so: unable to open file: libtensorflow_io_plugins.so, from paths: ['/opt/conda/lib/python3.10/site-packages/tensorflow_io/python/ops/libtensorflow_io_plugins.so']\n",
      "caused by: ['/opt/conda/lib/python3.10/site-packages/tensorflow_io/python/ops/libtensorflow_io_plugins.so: undefined symbol: _ZN3tsl6StatusC1EN10tensorflow5error4CodeESt17basic_string_viewIcSt11char_traitsIcEENS_14SourceLocationE']\n",
      "  warnings.warn(f\"unable to load libtensorflow_io_plugins.so: {e}\")\n",
      "/opt/conda/lib/python3.10/site-packages/tensorflow_io/python/ops/__init__.py:104: UserWarning: file system plugins are not loaded: unable to open file: libtensorflow_io.so, from paths: ['/opt/conda/lib/python3.10/site-packages/tensorflow_io/python/ops/libtensorflow_io.so']\n",
      "caused by: ['/opt/conda/lib/python3.10/site-packages/tensorflow_io/python/ops/libtensorflow_io.so: undefined symbol: _ZTVN10tensorflow13GcsFileSystemE']\n",
      "  warnings.warn(f\"file system plugins are not loaded: {e}\")\n"
     ]
    }
   ],
   "source": [
    "import pandas as pd\n",
    "import numpy as np\n",
    "import os\n",
    "import tensorflow as tf\n",
    "import cv2\n",
    "from keras import backend as K\n",
    "from keras.layers import Layer, InputSpec\n",
    "import keras.layers as kl\n",
    "from glob import glob\n",
    "from sklearn.metrics import roc_curve, auc\n",
    "from keras.preprocessing import image\n",
    "from tensorflow.keras.models import Sequential\n",
    "from sklearn.metrics import roc_auc_score\n",
    "from tensorflow.keras import callbacks \n",
    "from tensorflow.keras.callbacks import ModelCheckpoint, EarlyStopping\n",
    "from  matplotlib import pyplot as plt\n",
    "from tensorflow.keras import Model\n",
    "from tensorflow.keras.layers import concatenate, Dense, Conv2D, MaxPooling2D, Flatten, Input, Activation, add, AveragePooling2D, BatchNormalization, Dropout, GlobalAveragePooling2D, GlobalMaxPooling2D\n",
    "%matplotlib inline\n",
    "import shutil\n",
    "from sklearn.metrics import  precision_score, recall_score, accuracy_score, classification_report, confusion_matrix\n",
    "from tensorflow.python.platform import build_info as tf_build_info\n",
    "from tensorflow.keras.preprocessing.image import ImageDataGenerator\n",
    "from sklearn.model_selection import train_test_split\n",
    "\n",
    "from PIL import ImageFile\n",
    "ImageFile.LOAD_TRUNCATED_IMAGES = True"
   ]
  },
  {
   "cell_type": "code",
   "execution_count": 2,
   "id": "8ba56c4b",
   "metadata": {
    "execution": {
     "iopub.execute_input": "2023-06-04T16:15:28.942771Z",
     "iopub.status.busy": "2023-06-04T16:15:28.942026Z",
     "iopub.status.idle": "2023-06-04T16:15:28.947072Z",
     "shell.execute_reply": "2023-06-04T16:15:28.946290Z"
    },
    "id": "PsoqCvNsgmHP",
    "papermill": {
     "duration": 0.029717,
     "end_time": "2023-06-04T16:15:28.950725",
     "exception": false,
     "start_time": "2023-06-04T16:15:28.921008",
     "status": "completed"
    },
    "tags": []
   },
   "outputs": [],
   "source": [
    "targetnames = ['akiec', 'bcc', 'bkl', 'df', 'mel', 'nv', 'vasc']\n",
    "batch_size = 16\n",
    "image_size = 224"
   ]
  },
  {
   "cell_type": "code",
   "execution_count": 3,
   "id": "b81c98e2",
   "metadata": {
    "execution": {
     "iopub.execute_input": "2023-06-04T16:15:28.991961Z",
     "iopub.status.busy": "2023-06-04T16:15:28.991662Z",
     "iopub.status.idle": "2023-06-04T16:15:28.995786Z",
     "shell.execute_reply": "2023-06-04T16:15:28.995054Z"
    },
    "id": "wNisha_gM3_Z",
    "papermill": {
     "duration": 0.028503,
     "end_time": "2023-06-04T16:15:28.999602",
     "exception": false,
     "start_time": "2023-06-04T16:15:28.971099",
     "status": "completed"
    },
    "tags": []
   },
   "outputs": [],
   "source": [
    "train_path = '/kaggle/input/splitted-and-augmented-ham-15/Splitted_And_Augmented_HAM_15/HAM10K/train_dir'\n",
    "test_path = '/kaggle/input/splitted-and-augmented-ham-15/Splitted_And_Augmented_HAM_15/HAM10K/test_dir'\n",
    "val_path = '/kaggle/input/splitted-and-augmented-ham-15/Splitted_And_Augmented_HAM_15/HAM10K/val_dir'"
   ]
  },
  {
   "cell_type": "markdown",
   "id": "d42979f7",
   "metadata": {
    "papermill": {
     "duration": 0.019427,
     "end_time": "2023-06-04T16:15:29.039946",
     "exception": false,
     "start_time": "2023-06-04T16:15:29.020519",
     "status": "completed"
    },
    "tags": []
   },
   "source": [
    "# Dataset generation (Train, Test, Validation)"
   ]
  },
  {
   "cell_type": "code",
   "execution_count": 4,
   "id": "578c5402",
   "metadata": {
    "execution": {
     "iopub.execute_input": "2023-06-04T16:15:29.079981Z",
     "iopub.status.busy": "2023-06-04T16:15:29.079680Z",
     "iopub.status.idle": "2023-06-04T16:15:29.083830Z",
     "shell.execute_reply": "2023-06-04T16:15:29.083095Z"
    },
    "id": "zhQWqdRN79B3",
    "papermill": {
     "duration": 0.028054,
     "end_time": "2023-06-04T16:15:29.087599",
     "exception": false,
     "start_time": "2023-06-04T16:15:29.059545",
     "status": "completed"
    },
    "tags": []
   },
   "outputs": [],
   "source": [
    "datagen = ImageDataGenerator(preprocessing_function=tf.keras.applications.densenet.preprocess_input)"
   ]
  },
  {
   "cell_type": "code",
   "execution_count": 5,
   "id": "dc579e16",
   "metadata": {
    "execution": {
     "iopub.execute_input": "2023-06-04T16:15:29.127557Z",
     "iopub.status.busy": "2023-06-04T16:15:29.127263Z",
     "iopub.status.idle": "2023-06-04T16:15:45.746257Z",
     "shell.execute_reply": "2023-06-04T16:15:45.745402Z"
    },
    "id": "w9_8FvOO7Rtu",
    "outputId": "7ca88c24-fda8-45d6-cb32-f3a43ae6ba5b",
    "papermill": {
     "duration": 16.641012,
     "end_time": "2023-06-04T16:15:45.748207",
     "exception": false,
     "start_time": "2023-06-04T16:15:29.107195",
     "status": "completed"
    },
    "tags": []
   },
   "outputs": [
    {
     "name": "stdout",
     "output_type": "stream",
     "text": [
      "\n",
      "Train Batches: \n",
      "Found 54782 images belonging to 7 classes.\n",
      "\n",
      "Test Batches: \n",
      "Found 828 images belonging to 7 classes.\n",
      "\n",
      "Val Batches: \n",
      "Found 827 images belonging to 7 classes.\n"
     ]
    }
   ],
   "source": [
    "print(\"\\nTrain Batches: \")\n",
    "train_batches = datagen.flow_from_directory(directory=train_path,\n",
    "                                            target_size=(image_size,image_size),\n",
    "                                            batch_size=batch_size,\n",
    "                                            shuffle=True)\n",
    "\n",
    "print(\"\\nTest Batches: \")\n",
    "test_batches = datagen.flow_from_directory(test_path,\n",
    "                                          target_size=(image_size,image_size),\n",
    "                                          batch_size=batch_size,\n",
    "                                          shuffle=False)\n",
    "print(\"\\nVal Batches: \")\n",
    "val_batches = datagen.flow_from_directory(val_path,\n",
    "                                         target_size=(image_size,image_size),\n",
    "                                         batch_size=batch_size,\n",
    "                                         shuffle=False)"
   ]
  },
  {
   "cell_type": "markdown",
   "id": "ab0217cd",
   "metadata": {
    "papermill": {
     "duration": 0.014367,
     "end_time": "2023-06-04T16:15:45.777596",
     "exception": false,
     "start_time": "2023-06-04T16:15:45.763229",
     "status": "completed"
    },
    "tags": []
   },
   "source": [
    "# Main Model Creation"
   ]
  },
  {
   "cell_type": "markdown",
   "id": "89a03235",
   "metadata": {
    "papermill": {
     "duration": 0.01432,
     "end_time": "2023-06-04T16:15:45.806010",
     "exception": false,
     "start_time": "2023-06-04T16:15:45.791690",
     "status": "completed"
    },
    "tags": []
   },
   "source": [
    "### Soft Attention"
   ]
  },
  {
   "cell_type": "code",
   "execution_count": 6,
   "id": "3c9c589a",
   "metadata": {
    "execution": {
     "iopub.execute_input": "2023-06-04T16:15:45.836728Z",
     "iopub.status.busy": "2023-06-04T16:15:45.835919Z",
     "iopub.status.idle": "2023-06-04T16:15:45.857429Z",
     "shell.execute_reply": "2023-06-04T16:15:45.856396Z"
    },
    "papermill": {
     "duration": 0.038985,
     "end_time": "2023-06-04T16:15:45.859339",
     "exception": false,
     "start_time": "2023-06-04T16:15:45.820354",
     "status": "completed"
    },
    "tags": []
   },
   "outputs": [],
   "source": [
    "from keras import backend as K\n",
    "from keras.layers import Layer,InputSpec\n",
    "import keras.layers as kl\n",
    "import tensorflow as tf\n",
    "\n",
    "\n",
    "\n",
    "class SoftAttention(Layer):\n",
    "    def __init__(self,ch,m,concat_with_x=False,aggregate=False,**kwargs):\n",
    "        self.channels=int(ch)\n",
    "        self.multiheads = m\n",
    "        self.aggregate_channels = aggregate\n",
    "        self.concat_input_with_scaled = concat_with_x\n",
    "\n",
    "        \n",
    "        super(SoftAttention,self).__init__(**kwargs)\n",
    "\n",
    "    def build(self,input_shape):\n",
    "\n",
    "        self.i_shape = input_shape\n",
    "\n",
    "        kernel_shape_conv3d = (self.channels, 3, 3) + (1, self.multiheads) # DHWC\n",
    "    \n",
    "        self.out_attention_maps_shape = input_shape[0:1]+(self.multiheads,)+input_shape[1:-1]\n",
    "        \n",
    "        if self.aggregate_channels==False:\n",
    "\n",
    "            self.out_features_shape = input_shape[:-1]+(input_shape[-1]+(input_shape[-1]*self.multiheads),)\n",
    "        else:\n",
    "            if self.concat_input_with_scaled:\n",
    "                self.out_features_shape = input_shape[:-1]+(input_shape[-1]*2,)\n",
    "            else:\n",
    "                self.out_features_shape = input_shape\n",
    "        \n",
    "\n",
    "        self.kernel_conv3d = self.add_weight(shape=kernel_shape_conv3d,\n",
    "                                        initializer='he_uniform',\n",
    "                                        name='kernel_conv3d')\n",
    "        self.bias_conv3d = self.add_weight(shape=(self.multiheads,),\n",
    "                                      initializer='zeros',\n",
    "                                      name='bias_conv3d')\n",
    "\n",
    "        super(SoftAttention, self).build(input_shape)\n",
    "\n",
    "    def call(self, x):\n",
    "\n",
    "        exp_x = K.expand_dims(x,axis=-1)\n",
    "\n",
    "        c3d = K.conv3d(exp_x,\n",
    "                     kernel=self.kernel_conv3d,\n",
    "                     strides=(1,1,self.i_shape[-1]), padding='same', data_format='channels_last')\n",
    "        conv3d = K.bias_add(c3d,\n",
    "                        self.bias_conv3d)\n",
    "        conv3d = kl.Activation('relu')(conv3d)\n",
    "\n",
    "        conv3d = K.permute_dimensions(conv3d,pattern=(0,4,1,2,3))\n",
    "\n",
    "        \n",
    "        conv3d = K.squeeze(conv3d, axis=-1)\n",
    "        conv3d = K.reshape(conv3d,shape=(-1, self.multiheads ,self.i_shape[1]*self.i_shape[2]))\n",
    "\n",
    "        softmax_alpha = K.softmax(conv3d, axis=-1) \n",
    "        softmax_alpha = kl.Reshape(target_shape=(self.multiheads, self.i_shape[1],self.i_shape[2]))(softmax_alpha)\n",
    "\n",
    "        \n",
    "        if self.aggregate_channels==False:\n",
    "            exp_softmax_alpha = K.expand_dims(softmax_alpha, axis=-1)       \n",
    "            exp_softmax_alpha = K.permute_dimensions(exp_softmax_alpha,pattern=(0,2,3,1,4))\n",
    "   \n",
    "            x_exp = K.expand_dims(x,axis=-2)\n",
    "   \n",
    "            u = kl.Multiply()([exp_softmax_alpha, x_exp])   \n",
    "  \n",
    "            u = kl.Reshape(target_shape=(self.i_shape[1],self.i_shape[2],u.shape[-1]*u.shape[-2]))(u)\n",
    "\n",
    "        else:\n",
    "            exp_softmax_alpha = K.permute_dimensions(softmax_alpha,pattern=(0,2,3,1))\n",
    "\n",
    "            exp_softmax_alpha = K.sum(exp_softmax_alpha,axis=-1)\n",
    "\n",
    "            exp_softmax_alpha = K.expand_dims(exp_softmax_alpha, axis=-1)\n",
    "\n",
    "            u = kl.Multiply()([exp_softmax_alpha, x])   \n",
    "\n",
    "        if self.concat_input_with_scaled:\n",
    "            o = kl.Concatenate(axis=-1)([u,x])\n",
    "        else:\n",
    "            o = u\n",
    "        \n",
    "        return [o, softmax_alpha]\n",
    "\n",
    "    def compute_output_shape(self, input_shape): \n",
    "        return [self.out_features_shape, self.out_attention_maps_shape]\n",
    "\n",
    "    \n",
    "    def get_config(self):\n",
    "        return super(SoftAttention,self).get_config()\n",
    " "
   ]
  },
  {
   "cell_type": "markdown",
   "id": "524cb5f2",
   "metadata": {
    "papermill": {
     "duration": 0.014307,
     "end_time": "2023-06-04T16:15:45.888071",
     "exception": false,
     "start_time": "2023-06-04T16:15:45.873764",
     "status": "completed"
    },
    "tags": []
   },
   "source": [
    "### Define Model"
   ]
  },
  {
   "cell_type": "code",
   "execution_count": 7,
   "id": "4d017a19",
   "metadata": {
    "execution": {
     "iopub.execute_input": "2023-06-04T16:15:45.918218Z",
     "iopub.status.busy": "2023-06-04T16:15:45.917685Z",
     "iopub.status.idle": "2023-06-04T16:15:53.784420Z",
     "shell.execute_reply": "2023-06-04T16:15:53.783430Z"
    },
    "id": "zhQWqdRN79B3",
    "papermill": {
     "duration": 7.884275,
     "end_time": "2023-06-04T16:15:53.786762",
     "exception": false,
     "start_time": "2023-06-04T16:15:45.902487",
     "status": "completed"
    },
    "tags": []
   },
   "outputs": [
    {
     "name": "stdout",
     "output_type": "stream",
     "text": [
      "Downloading data from https://storage.googleapis.com/tensorflow/keras-applications/densenet/densenet169_weights_tf_dim_ordering_tf_kernels_notop.h5\n",
      "51877672/51877672 [==============================] - 0s 0us/step\n"
     ]
    }
   ],
   "source": [
    "from tensorflow.keras.applications.densenet import DenseNet169\n",
    "\n",
    "DN169 = DenseNet169(weights='imagenet', include_top=False, input_shape=(image_size, image_size, 3), pooling='avg')"
   ]
  },
  {
   "cell_type": "markdown",
   "id": "92508faf",
   "metadata": {
    "papermill": {
     "duration": 0.015246,
     "end_time": "2023-06-04T16:15:53.817745",
     "exception": false,
     "start_time": "2023-06-04T16:15:53.802499",
     "status": "completed"
    },
    "tags": []
   },
   "source": [
    "## Fine tuning"
   ]
  },
  {
   "cell_type": "code",
   "execution_count": 8,
   "id": "77d49036",
   "metadata": {
    "execution": {
     "iopub.execute_input": "2023-06-04T16:15:53.849655Z",
     "iopub.status.busy": "2023-06-04T16:15:53.848748Z",
     "iopub.status.idle": "2023-06-04T16:15:53.855086Z",
     "shell.execute_reply": "2023-06-04T16:15:53.854188Z"
    },
    "id": "4d4Ta5LcSYaz",
    "papermill": {
     "duration": 0.024706,
     "end_time": "2023-06-04T16:15:53.857332",
     "exception": false,
     "start_time": "2023-06-04T16:15:53.832626",
     "status": "completed"
    },
    "tags": []
   },
   "outputs": [],
   "source": [
    "MainInput=Input(shape=(image_size, image_size, 3))"
   ]
  },
  {
   "cell_type": "code",
   "execution_count": 9,
   "id": "3adae474",
   "metadata": {
    "execution": {
     "iopub.execute_input": "2023-06-04T16:15:53.888286Z",
     "iopub.status.busy": "2023-06-04T16:15:53.887973Z",
     "iopub.status.idle": "2023-06-04T16:15:55.181559Z",
     "shell.execute_reply": "2023-06-04T16:15:55.180642Z"
    },
    "papermill": {
     "duration": 1.311977,
     "end_time": "2023-06-04T16:15:55.184051",
     "exception": false,
     "start_time": "2023-06-04T16:15:53.872074",
     "status": "completed"
    },
    "tags": []
   },
   "outputs": [],
   "source": [
    "dn169 = DN169(MainInput)"
   ]
  },
  {
   "cell_type": "code",
   "execution_count": 10,
   "id": "4901bff8",
   "metadata": {
    "execution": {
     "iopub.execute_input": "2023-06-04T16:15:55.216098Z",
     "iopub.status.busy": "2023-06-04T16:15:55.215778Z",
     "iopub.status.idle": "2023-06-04T16:15:55.229801Z",
     "shell.execute_reply": "2023-06-04T16:15:55.228950Z"
    },
    "papermill": {
     "duration": 0.032146,
     "end_time": "2023-06-04T16:15:55.231815",
     "exception": false,
     "start_time": "2023-06-04T16:15:55.199669",
     "status": "completed"
    },
    "tags": []
   },
   "outputs": [],
   "source": [
    "# Reshape the tensor to have 4 dimensions\n",
    "from tensorflow.keras.layers import Reshape\n",
    "reshape = Reshape((8, 8, 26))(dn169)"
   ]
  },
  {
   "cell_type": "code",
   "execution_count": 11,
   "id": "ca665312",
   "metadata": {
    "execution": {
     "iopub.execute_input": "2023-06-04T16:15:55.264107Z",
     "iopub.status.busy": "2023-06-04T16:15:55.263814Z",
     "iopub.status.idle": "2023-06-04T16:15:55.356595Z",
     "shell.execute_reply": "2023-06-04T16:15:55.355685Z"
    },
    "id": "x8mS99J5SYbT",
    "papermill": {
     "duration": 0.111932,
     "end_time": "2023-06-04T16:15:55.358775",
     "exception": false,
     "start_time": "2023-06-04T16:15:55.246843",
     "status": "completed"
    },
    "tags": []
   },
   "outputs": [],
   "source": [
    "# Add convolutional layers with Channel Attention\n",
    "conv = Conv2D(filters=128, kernel_size=(7, 7), activation=\"relu\", padding=\"same\", kernel_initializer='he_normal')(reshape)\n",
    "conv = BatchNormalization()(conv)\n",
    "conv = Conv2D(filters=128, kernel_size=(5, 5), activation=\"relu\", padding=\"same\", kernel_initializer='he_normal')(conv)\n",
    "conv = BatchNormalization()(conv)\n",
    "conv = Conv2D(filters=128, kernel_size=(3, 3), activation=\"relu\", padding=\"same\", kernel_initializer='he_normal')(conv)\n",
    "conv = BatchNormalization()(conv)\n",
    "conv = Conv2D(filters=128, kernel_size=(1, 1), activation=\"relu\", padding=\"same\", kernel_initializer='he_normal')(conv)\n",
    "conv = BatchNormalization()(conv)"
   ]
  },
  {
   "cell_type": "code",
   "execution_count": 12,
   "id": "2f2efbd7",
   "metadata": {
    "execution": {
     "iopub.execute_input": "2023-06-04T16:15:55.390136Z",
     "iopub.status.busy": "2023-06-04T16:15:55.389840Z",
     "iopub.status.idle": "2023-06-04T16:15:55.720254Z",
     "shell.execute_reply": "2023-06-04T16:15:55.719342Z"
    },
    "papermill": {
     "duration": 0.348721,
     "end_time": "2023-06-04T16:15:55.722744",
     "exception": false,
     "start_time": "2023-06-04T16:15:55.374023",
     "status": "completed"
    },
    "tags": []
   },
   "outputs": [],
   "source": [
    "attention_layer,map2 = SoftAttention(aggregate=True,m=16,concat_with_x=False,ch=int(conv.shape[-1]),name='soft_attention')(conv)\n",
    "attention_layer=(MaxPooling2D(pool_size=(2, 2),padding=\"same\")(attention_layer))\n",
    "conv=(MaxPooling2D(pool_size=(2, 2),padding=\"same\")(conv))\n",
    "\n",
    "conv = concatenate([conv,attention_layer])\n",
    "conv  = Activation('relu')(conv)\n",
    "conv = Dropout(0.5)(conv)"
   ]
  },
  {
   "cell_type": "code",
   "execution_count": 13,
   "id": "17b88a97",
   "metadata": {
    "execution": {
     "iopub.execute_input": "2023-06-04T16:15:55.754092Z",
     "iopub.status.busy": "2023-06-04T16:15:55.753775Z",
     "iopub.status.idle": "2023-06-04T16:15:55.843946Z",
     "shell.execute_reply": "2023-06-04T16:15:55.843094Z"
    },
    "id": "sW4tKg9wSYbk",
    "papermill": {
     "duration": 0.10827,
     "end_time": "2023-06-04T16:15:55.846196",
     "exception": false,
     "start_time": "2023-06-04T16:15:55.737926",
     "status": "completed"
    },
    "tags": []
   },
   "outputs": [],
   "source": [
    "conv = Conv2D(filters=256,kernel_size=(7,7), activation=\"relu\",padding=\"same\",kernel_initializer='he_normal')(conv)\n",
    "conv = BatchNormalization()(conv)\n",
    "conv = Conv2D(filters=256,kernel_size=(5,5), activation=\"relu\",padding=\"same\",kernel_initializer='he_normal')(conv)\n",
    "conv = BatchNormalization()(conv)\n",
    "conv = Conv2D(filters=256,kernel_size=(3,3), activation=\"relu\",padding=\"same\",kernel_initializer='he_normal')(conv)\n",
    "conv = BatchNormalization()(conv)\n",
    "conv = Conv2D(filters=256,kernel_size=(1,1), activation=\"relu\",padding=\"same\",kernel_initializer='he_normal')(conv)\n",
    "conv = BatchNormalization()(conv)"
   ]
  },
  {
   "cell_type": "code",
   "execution_count": 14,
   "id": "296eee14",
   "metadata": {
    "execution": {
     "iopub.execute_input": "2023-06-04T16:15:55.878127Z",
     "iopub.status.busy": "2023-06-04T16:15:55.877353Z",
     "iopub.status.idle": "2023-06-04T16:15:55.924629Z",
     "shell.execute_reply": "2023-06-04T16:15:55.923775Z"
    },
    "papermill": {
     "duration": 0.065351,
     "end_time": "2023-06-04T16:15:55.926591",
     "exception": false,
     "start_time": "2023-06-04T16:15:55.861240",
     "status": "completed"
    },
    "tags": []
   },
   "outputs": [],
   "source": [
    "attention_layer,map2 = SoftAttention(aggregate=True,m=16,concat_with_x=False,ch=int(conv.shape[-1]),name='soft_attention_2')(conv)\n",
    "attention_layer=(MaxPooling2D(pool_size=(2, 2),padding=\"same\")(attention_layer))\n",
    "conv=(MaxPooling2D(pool_size=(2, 2),padding=\"same\")(conv))\n",
    "\n",
    "conv = concatenate([conv,attention_layer])\n",
    "conv  = Activation('relu')(conv)\n",
    "conv = Dropout(0.5)(conv)"
   ]
  },
  {
   "cell_type": "code",
   "execution_count": 15,
   "id": "11a6e4e3",
   "metadata": {
    "execution": {
     "iopub.execute_input": "2023-06-04T16:15:55.957507Z",
     "iopub.status.busy": "2023-06-04T16:15:55.957237Z",
     "iopub.status.idle": "2023-06-04T16:15:55.963063Z",
     "shell.execute_reply": "2023-06-04T16:15:55.961844Z"
    },
    "papermill": {
     "duration": 0.023547,
     "end_time": "2023-06-04T16:15:55.964967",
     "exception": false,
     "start_time": "2023-06-04T16:15:55.941420",
     "status": "completed"
    },
    "tags": []
   },
   "outputs": [
    {
     "name": "stdout",
     "output_type": "stream",
     "text": [
      "7\n"
     ]
    }
   ],
   "source": [
    "num_classes = test_batches.num_classes\n",
    "print(num_classes)"
   ]
  },
  {
   "cell_type": "code",
   "execution_count": 16,
   "id": "6c58ea4c",
   "metadata": {
    "execution": {
     "iopub.execute_input": "2023-06-04T16:15:55.996438Z",
     "iopub.status.busy": "2023-06-04T16:15:55.996173Z",
     "iopub.status.idle": "2023-06-04T16:15:56.050843Z",
     "shell.execute_reply": "2023-06-04T16:15:56.049926Z"
    },
    "id": "-EdFxKdgSYcf",
    "papermill": {
     "duration": 0.07273,
     "end_time": "2023-06-04T16:15:56.053059",
     "exception": false,
     "start_time": "2023-06-04T16:15:55.980329",
     "status": "completed"
    },
    "tags": []
   },
   "outputs": [],
   "source": [
    "conv=(Flatten()(conv))\n",
    "conv=(Dense(1024,activation=\"relu\")(conv))\n",
    "conv = Dropout(0.5)(conv)\n",
    "conv=(Dense(512,activation=\"relu\")(conv))\n",
    "conv = Dropout(0.25)(conv)\n",
    "conv=(Dense(num_classes, activation=\"softmax\")(conv))\n",
    "\n",
    "model_dn169_sa = Model(inputs=MainInput, outputs=conv)"
   ]
  },
  {
   "cell_type": "code",
   "execution_count": 17,
   "id": "09d95858",
   "metadata": {
    "execution": {
     "iopub.execute_input": "2023-06-04T16:15:56.085314Z",
     "iopub.status.busy": "2023-06-04T16:15:56.084530Z",
     "iopub.status.idle": "2023-06-04T16:15:56.230400Z",
     "shell.execute_reply": "2023-06-04T16:15:56.229268Z"
    },
    "id": "ba8ajOckSYcl",
    "outputId": "e69fa749-4741-4f49-ae3e-9f5479e809a8",
    "papermill": {
     "duration": 0.175408,
     "end_time": "2023-06-04T16:15:56.243817",
     "exception": false,
     "start_time": "2023-06-04T16:15:56.068409",
     "status": "completed"
    },
    "tags": []
   },
   "outputs": [
    {
     "name": "stdout",
     "output_type": "stream",
     "text": [
      "Model: \"model\"\n",
      "__________________________________________________________________________________________________\n",
      " Layer (type)                   Output Shape         Param #     Connected to                     \n",
      "==================================================================================================\n",
      " input_2 (InputLayer)           [(None, 224, 224, 3  0           []                               \n",
      "                                )]                                                                \n",
      "                                                                                                  \n",
      " densenet169 (Functional)       (None, 1664)         12642880    ['input_2[0][0]']                \n",
      "                                                                                                  \n",
      " reshape (Reshape)              (None, 8, 8, 26)     0           ['densenet169[0][0]']            \n",
      "                                                                                                  \n",
      " conv2d (Conv2D)                (None, 8, 8, 128)    163200      ['reshape[0][0]']                \n",
      "                                                                                                  \n",
      " batch_normalization (BatchNorm  (None, 8, 8, 128)   512         ['conv2d[0][0]']                 \n",
      " alization)                                                                                       \n",
      "                                                                                                  \n",
      " conv2d_1 (Conv2D)              (None, 8, 8, 128)    409728      ['batch_normalization[0][0]']    \n",
      "                                                                                                  \n",
      " batch_normalization_1 (BatchNo  (None, 8, 8, 128)   512         ['conv2d_1[0][0]']               \n",
      " rmalization)                                                                                     \n",
      "                                                                                                  \n",
      " conv2d_2 (Conv2D)              (None, 8, 8, 128)    147584      ['batch_normalization_1[0][0]']  \n",
      "                                                                                                  \n",
      " batch_normalization_2 (BatchNo  (None, 8, 8, 128)   512         ['conv2d_2[0][0]']               \n",
      " rmalization)                                                                                     \n",
      "                                                                                                  \n",
      " conv2d_3 (Conv2D)              (None, 8, 8, 128)    16512       ['batch_normalization_2[0][0]']  \n",
      "                                                                                                  \n",
      " batch_normalization_3 (BatchNo  (None, 8, 8, 128)   512         ['conv2d_3[0][0]']               \n",
      " rmalization)                                                                                     \n",
      "                                                                                                  \n",
      " soft_attention (SoftAttention)  [(None, 8, 8, 128),  18448      ['batch_normalization_3[0][0]']  \n",
      "                                 (None, 16, 8, 8)]                                                \n",
      "                                                                                                  \n",
      " max_pooling2d_1 (MaxPooling2D)  (None, 4, 4, 128)   0           ['batch_normalization_3[0][0]']  \n",
      "                                                                                                  \n",
      " max_pooling2d (MaxPooling2D)   (None, 4, 4, 128)    0           ['soft_attention[0][0]']         \n",
      "                                                                                                  \n",
      " concatenate (Concatenate)      (None, 4, 4, 256)    0           ['max_pooling2d_1[0][0]',        \n",
      "                                                                  'max_pooling2d[0][0]']          \n",
      "                                                                                                  \n",
      " activation (Activation)        (None, 4, 4, 256)    0           ['concatenate[0][0]']            \n",
      "                                                                                                  \n",
      " dropout (Dropout)              (None, 4, 4, 256)    0           ['activation[0][0]']             \n",
      "                                                                                                  \n",
      " conv2d_4 (Conv2D)              (None, 4, 4, 256)    3211520     ['dropout[0][0]']                \n",
      "                                                                                                  \n",
      " batch_normalization_4 (BatchNo  (None, 4, 4, 256)   1024        ['conv2d_4[0][0]']               \n",
      " rmalization)                                                                                     \n",
      "                                                                                                  \n",
      " conv2d_5 (Conv2D)              (None, 4, 4, 256)    1638656     ['batch_normalization_4[0][0]']  \n",
      "                                                                                                  \n",
      " batch_normalization_5 (BatchNo  (None, 4, 4, 256)   1024        ['conv2d_5[0][0]']               \n",
      " rmalization)                                                                                     \n",
      "                                                                                                  \n",
      " conv2d_6 (Conv2D)              (None, 4, 4, 256)    590080      ['batch_normalization_5[0][0]']  \n",
      "                                                                                                  \n",
      " batch_normalization_6 (BatchNo  (None, 4, 4, 256)   1024        ['conv2d_6[0][0]']               \n",
      " rmalization)                                                                                     \n",
      "                                                                                                  \n",
      " conv2d_7 (Conv2D)              (None, 4, 4, 256)    65792       ['batch_normalization_6[0][0]']  \n",
      "                                                                                                  \n",
      " batch_normalization_7 (BatchNo  (None, 4, 4, 256)   1024        ['conv2d_7[0][0]']               \n",
      " rmalization)                                                                                     \n",
      "                                                                                                  \n",
      " soft_attention_2 (SoftAttentio  [(None, 4, 4, 256),  36880      ['batch_normalization_7[0][0]']  \n",
      " n)                              (None, 16, 4, 4)]                                                \n",
      "                                                                                                  \n",
      " max_pooling2d_3 (MaxPooling2D)  (None, 2, 2, 256)   0           ['batch_normalization_7[0][0]']  \n",
      "                                                                                                  \n",
      " max_pooling2d_2 (MaxPooling2D)  (None, 2, 2, 256)   0           ['soft_attention_2[0][0]']       \n",
      "                                                                                                  \n",
      " concatenate_1 (Concatenate)    (None, 2, 2, 512)    0           ['max_pooling2d_3[0][0]',        \n",
      "                                                                  'max_pooling2d_2[0][0]']        \n",
      "                                                                                                  \n",
      " activation_1 (Activation)      (None, 2, 2, 512)    0           ['concatenate_1[0][0]']          \n",
      "                                                                                                  \n",
      " dropout_1 (Dropout)            (None, 2, 2, 512)    0           ['activation_1[0][0]']           \n",
      "                                                                                                  \n",
      " flatten (Flatten)              (None, 2048)         0           ['dropout_1[0][0]']              \n",
      "                                                                                                  \n",
      " dense (Dense)                  (None, 1024)         2098176     ['flatten[0][0]']                \n",
      "                                                                                                  \n",
      " dropout_2 (Dropout)            (None, 1024)         0           ['dense[0][0]']                  \n",
      "                                                                                                  \n",
      " dense_1 (Dense)                (None, 512)          524800      ['dropout_2[0][0]']              \n",
      "                                                                                                  \n",
      " dropout_3 (Dropout)            (None, 512)          0           ['dense_1[0][0]']                \n",
      "                                                                                                  \n",
      " dense_2 (Dense)                (None, 7)            3591        ['dropout_3[0][0]']              \n",
      "                                                                                                  \n",
      "==================================================================================================\n",
      "Total params: 21,573,991\n",
      "Trainable params: 21,412,519\n",
      "Non-trainable params: 161,472\n",
      "__________________________________________________________________________________________________\n"
     ]
    }
   ],
   "source": [
    "model_dn169_sa.summary()"
   ]
  },
  {
   "cell_type": "code",
   "execution_count": 18,
   "id": "5a143f53",
   "metadata": {
    "execution": {
     "iopub.execute_input": "2023-06-04T16:15:56.295917Z",
     "iopub.status.busy": "2023-06-04T16:15:56.295622Z",
     "iopub.status.idle": "2023-06-04T16:15:56.328419Z",
     "shell.execute_reply": "2023-06-04T16:15:56.327539Z"
    },
    "id": "WR0fUpy18vAZ",
    "papermill": {
     "duration": 0.064675,
     "end_time": "2023-06-04T16:15:56.330477",
     "exception": false,
     "start_time": "2023-06-04T16:15:56.265802",
     "status": "completed"
    },
    "tags": []
   },
   "outputs": [],
   "source": [
    "opt1=tf.keras.optimizers.Adam(learning_rate=0.001,epsilon=0.1)\n",
    "model_dn169_sa.compile(optimizer=opt1,\n",
    "             loss='categorical_crossentropy',\n",
    "             metrics=['accuracy'])"
   ]
  },
  {
   "cell_type": "code",
   "execution_count": 19,
   "id": "a9337015",
   "metadata": {
    "execution": {
     "iopub.execute_input": "2023-06-04T16:15:56.378457Z",
     "iopub.status.busy": "2023-06-04T16:15:56.377634Z",
     "iopub.status.idle": "2023-06-04T16:15:56.382846Z",
     "shell.execute_reply": "2023-06-04T16:15:56.382024Z"
    },
    "id": "LAf5ha295reS",
    "papermill": {
     "duration": 0.031129,
     "end_time": "2023-06-04T16:15:56.384843",
     "exception": false,
     "start_time": "2023-06-04T16:15:56.353714",
     "status": "completed"
    },
    "tags": []
   },
   "outputs": [],
   "source": [
    "class_weights = {   \n",
    "                    0: 1.0,  # akiec\n",
    "                    1: 1.0,  # bcc\n",
    "                    2: 1.0,  # bkl\n",
    "                    3: 1.0,  # df\n",
    "                    4: 1.0,  # mel\n",
    "                    5: 1.0,  # nv\n",
    "                    6: 1.0  # vasc\n",
    "                }"
   ]
  },
  {
   "cell_type": "code",
   "execution_count": 20,
   "id": "a3714099",
   "metadata": {
    "execution": {
     "iopub.execute_input": "2023-06-04T16:15:56.432060Z",
     "iopub.status.busy": "2023-06-04T16:15:56.430335Z",
     "iopub.status.idle": "2023-06-04T16:15:56.435935Z",
     "shell.execute_reply": "2023-06-04T16:15:56.435100Z"
    },
    "papermill": {
     "duration": 0.031008,
     "end_time": "2023-06-04T16:15:56.437917",
     "exception": false,
     "start_time": "2023-06-04T16:15:56.406909",
     "status": "completed"
    },
    "tags": []
   },
   "outputs": [],
   "source": [
    "checkpoint = ModelCheckpoint(filepath ='DN169_SA.hdf5', monitor='val_accuracy', save_best_only=True, save_weights_only=True)\n",
    "Earlystop = EarlyStopping(monitor='val_accuracy', mode='max', patience=25, min_delta=0.01)"
   ]
  },
  {
   "cell_type": "code",
   "execution_count": 21,
   "id": "0898c56a",
   "metadata": {
    "execution": {
     "iopub.execute_input": "2023-06-04T16:15:56.483736Z",
     "iopub.status.busy": "2023-06-04T16:15:56.482889Z",
     "iopub.status.idle": "2023-06-04T21:55:34.632751Z",
     "shell.execute_reply": "2023-06-04T21:55:34.631745Z"
    },
    "id": "NUzTmiZ-8hL3",
    "outputId": "e1825ff2-9f9c-436f-cf2c-9776af8eee62",
    "papermill": {
     "duration": 20378.194648,
     "end_time": "2023-06-04T21:55:34.654389",
     "exception": false,
     "start_time": "2023-06-04T16:15:56.459741",
     "status": "completed"
    },
    "tags": []
   },
   "outputs": [
    {
     "name": "stdout",
     "output_type": "stream",
     "text": [
      "Epoch 1/50\n"
     ]
    },
    {
     "name": "stderr",
     "output_type": "stream",
     "text": [
      "2023-06-04 16:16:36.507854: E tensorflow/core/grappler/optimizers/meta_optimizer.cc:954] layout failed: INVALID_ARGUMENT: Size of values 0 does not match size of permutation 4 @ fanin shape inmodel/dropout/dropout/SelectV2-2-TransposeNHWCToNCHW-LayoutOptimizer\n"
     ]
    },
    {
     "name": "stdout",
     "output_type": "stream",
     "text": [
      "3424/3424 - 794s - loss: 1.3771 - accuracy: 0.4804 - val_loss: 0.6387 - val_accuracy: 0.7993 - 794s/epoch - 232ms/step\n",
      "Epoch 2/50\n",
      "3424/3424 - 657s - loss: 0.6266 - accuracy: 0.7761 - val_loss: 0.3384 - val_accuracy: 0.8875 - 657s/epoch - 192ms/step\n",
      "Epoch 3/50\n",
      "3424/3424 - 656s - loss: 0.4014 - accuracy: 0.8609 - val_loss: 0.3265 - val_accuracy: 0.9033 - 656s/epoch - 192ms/step\n",
      "Epoch 4/50\n",
      "3424/3424 - 654s - loss: 0.2946 - accuracy: 0.8986 - val_loss: 0.3456 - val_accuracy: 0.9069 - 654s/epoch - 191ms/step\n",
      "Epoch 5/50\n",
      "3424/3424 - 656s - loss: 0.2133 - accuracy: 0.9274 - val_loss: 0.3474 - val_accuracy: 0.9141 - 656s/epoch - 191ms/step\n",
      "Epoch 6/50\n",
      "3424/3424 - 653s - loss: 0.1590 - accuracy: 0.9460 - val_loss: 0.3565 - val_accuracy: 0.9117 - 653s/epoch - 191ms/step\n",
      "Epoch 7/50\n",
      "3424/3424 - 655s - loss: 0.1397 - accuracy: 0.9535 - val_loss: 0.3388 - val_accuracy: 0.8936 - 655s/epoch - 191ms/step\n",
      "Epoch 8/50\n",
      "3424/3424 - 650s - loss: 0.1048 - accuracy: 0.9650 - val_loss: 0.3814 - val_accuracy: 0.9057 - 650s/epoch - 190ms/step\n",
      "Epoch 9/50\n",
      "3424/3424 - 653s - loss: 0.0976 - accuracy: 0.9686 - val_loss: 0.3572 - val_accuracy: 0.9045 - 653s/epoch - 191ms/step\n",
      "Epoch 10/50\n",
      "3424/3424 - 651s - loss: 0.0740 - accuracy: 0.9758 - val_loss: 0.3961 - val_accuracy: 0.8984 - 651s/epoch - 190ms/step\n",
      "Epoch 11/50\n",
      "3424/3424 - 649s - loss: 0.0602 - accuracy: 0.9803 - val_loss: 0.4474 - val_accuracy: 0.9069 - 649s/epoch - 190ms/step\n",
      "Epoch 12/50\n",
      "3424/3424 - 648s - loss: 0.0587 - accuracy: 0.9809 - val_loss: 0.3539 - val_accuracy: 0.9057 - 648s/epoch - 189ms/step\n",
      "Epoch 13/50\n",
      "3424/3424 - 648s - loss: 0.0529 - accuracy: 0.9831 - val_loss: 0.4432 - val_accuracy: 0.9105 - 648s/epoch - 189ms/step\n",
      "Epoch 14/50\n",
      "3424/3424 - 650s - loss: 0.0486 - accuracy: 0.9849 - val_loss: 0.4099 - val_accuracy: 0.9093 - 650s/epoch - 190ms/step\n",
      "Epoch 15/50\n",
      "3424/3424 - 650s - loss: 0.0376 - accuracy: 0.9879 - val_loss: 0.4661 - val_accuracy: 0.9069 - 650s/epoch - 190ms/step\n",
      "Epoch 16/50\n",
      "3424/3424 - 647s - loss: 0.0407 - accuracy: 0.9876 - val_loss: 0.4185 - val_accuracy: 0.9045 - 647s/epoch - 189ms/step\n",
      "Epoch 17/50\n",
      "3424/3424 - 647s - loss: 0.0309 - accuracy: 0.9902 - val_loss: 0.3976 - val_accuracy: 0.9093 - 647s/epoch - 189ms/step\n",
      "Epoch 18/50\n",
      "3424/3424 - 653s - loss: 0.0318 - accuracy: 0.9904 - val_loss: 0.3879 - val_accuracy: 0.9117 - 653s/epoch - 191ms/step\n",
      "Epoch 19/50\n",
      "3424/3424 - 651s - loss: 0.0266 - accuracy: 0.9916 - val_loss: 0.5220 - val_accuracy: 0.9093 - 651s/epoch - 190ms/step\n",
      "Epoch 20/50\n",
      "3424/3424 - 653s - loss: 0.0239 - accuracy: 0.9926 - val_loss: 0.4399 - val_accuracy: 0.9057 - 653s/epoch - 191ms/step\n",
      "Epoch 21/50\n",
      "3424/3424 - 655s - loss: 0.0299 - accuracy: 0.9909 - val_loss: 0.3813 - val_accuracy: 0.9117 - 655s/epoch - 191ms/step\n",
      "Epoch 22/50\n",
      "3424/3424 - 650s - loss: 0.0256 - accuracy: 0.9922 - val_loss: 0.4537 - val_accuracy: 0.9081 - 650s/epoch - 190ms/step\n",
      "Epoch 23/50\n",
      "3424/3424 - 650s - loss: 0.0205 - accuracy: 0.9935 - val_loss: 0.4448 - val_accuracy: 0.9093 - 650s/epoch - 190ms/step\n",
      "Epoch 24/50\n",
      "3424/3424 - 649s - loss: 0.0189 - accuracy: 0.9943 - val_loss: 0.4466 - val_accuracy: 0.9141 - 649s/epoch - 189ms/step\n",
      "Epoch 25/50\n",
      "3424/3424 - 649s - loss: 0.0176 - accuracy: 0.9945 - val_loss: 0.5669 - val_accuracy: 0.9081 - 649s/epoch - 190ms/step\n",
      "Epoch 26/50\n",
      "3424/3424 - 651s - loss: 0.0166 - accuracy: 0.9951 - val_loss: 0.5109 - val_accuracy: 0.9093 - 651s/epoch - 190ms/step\n",
      "Epoch 27/50\n",
      "3424/3424 - 650s - loss: 0.0187 - accuracy: 0.9941 - val_loss: 0.4607 - val_accuracy: 0.9057 - 650s/epoch - 190ms/step\n",
      "Epoch 28/50\n",
      "3424/3424 - 648s - loss: 0.0180 - accuracy: 0.9947 - val_loss: 0.4998 - val_accuracy: 0.9105 - 648s/epoch - 189ms/step\n",
      "Epoch 29/50\n",
      "3424/3424 - 649s - loss: 0.0120 - accuracy: 0.9965 - val_loss: 0.4925 - val_accuracy: 0.9117 - 649s/epoch - 190ms/step\n",
      "Epoch 30/50\n",
      "3424/3424 - 650s - loss: 0.0155 - accuracy: 0.9952 - val_loss: 0.4970 - val_accuracy: 0.9057 - 650s/epoch - 190ms/step\n"
     ]
    }
   ],
   "source": [
    "history = model_dn169_sa.fit(train_batches,\n",
    "                         epochs=50,\n",
    "                         verbose=2,\n",
    "                         validation_data=val_batches,\n",
    "                         callbacks=[checkpoint,Earlystop],\n",
    "                         class_weight=class_weights)"
   ]
  },
  {
   "cell_type": "markdown",
   "id": "f3a42c07",
   "metadata": {
    "papermill": {
     "duration": 0.025733,
     "end_time": "2023-06-04T21:55:34.707126",
     "exception": false,
     "start_time": "2023-06-04T21:55:34.681393",
     "status": "completed"
    },
    "tags": []
   },
   "source": [
    "### Plotting accuracy and loss"
   ]
  },
  {
   "cell_type": "code",
   "execution_count": 22,
   "id": "5975f564",
   "metadata": {
    "execution": {
     "iopub.execute_input": "2023-06-04T21:55:34.760738Z",
     "iopub.status.busy": "2023-06-04T21:55:34.759926Z",
     "iopub.status.idle": "2023-06-04T21:56:06.780911Z",
     "shell.execute_reply": "2023-06-04T21:56:06.780009Z"
    },
    "papermill": {
     "duration": 32.076805,
     "end_time": "2023-06-04T21:56:06.809782",
     "exception": false,
     "start_time": "2023-06-04T21:55:34.732977",
     "status": "completed"
    },
    "tags": []
   },
   "outputs": [
    {
     "name": "stdout",
     "output_type": "stream",
     "text": [
      "Number of epochs trained: 30\n"
     ]
    },
    {
     "data": {
      "image/png": "[encoded data removed]",
      "text/plain": [
       "<Figure size 1500x500 with 2 Axes>"
      ]
     },
     "metadata": {},
     "output_type": "display_data"
    }
   ],
   "source": [
    "# Determine number of epochs trained\n",
    "num_epochs_trained = len(history.history['val_loss'])\n",
    "print(f\"Number of epochs trained: {num_epochs_trained}\")\n",
    "\n",
    "## History plotting\n",
    "epochs = [i for i in range(num_epochs_trained)]\n",
    "fig , ax = plt.subplots(1,2)\n",
    "train_acc = history.history['accuracy']\n",
    "train_loss = history.history['loss']\n",
    "val_acc = history.history['val_accuracy']\n",
    "val_loss = history.history['val_loss']\n",
    "fig.set_size_inches(15,5)\n",
    "\n",
    "ax[0].plot(epochs , train_acc , 'go-' , label = 'Training Accuracy')\n",
    "ax[0].plot(epochs , val_acc , 'ro-' , label = 'Validation Accuracy')\n",
    "title_font = {'fontname':'Times New Roman', 'size':'14', 'color':'black', 'weight':'normal'}\n",
    "ax[0].set_title('Model Accuracy', fontdict=title_font)\n",
    "legend_font = {'family': 'Times New Roman', 'size': '12', 'weight': 'normal'}\n",
    "ax[0].legend(prop=legend_font)\n",
    "label_font = {'fontname':'Times New Roman', 'size':'12', 'color':'black', 'weight':'normal'}\n",
    "ax[0].set_xlabel(\"Epochs\",  fontdict=label_font)\n",
    "ax[0].set_ylabel(\"Accuracy\",  fontdict=label_font)\n",
    "\n",
    "ax[1].plot(epochs , train_loss , 'g-o' , label = 'Training Loss')\n",
    "ax[1].plot(epochs , val_loss , 'r-o' , label = 'Validation Loss')\n",
    "ax[1].set_title('Model Loss', fontdict=title_font)\n",
    "ax[1].legend(prop=legend_font)\n",
    "ax[1].set_xlabel(\"Epochs\", fontdict=label_font)\n",
    "ax[1].set_ylabel(\"Loss\", fontdict=label_font)\n",
    "plt.show()"
   ]
  },
  {
   "cell_type": "code",
   "execution_count": 23,
   "id": "0635d301",
   "metadata": {
    "execution": {
     "iopub.execute_input": "2023-06-04T21:56:06.864655Z",
     "iopub.status.busy": "2023-06-04T21:56:06.864347Z",
     "iopub.status.idle": "2023-06-04T21:56:07.687025Z",
     "shell.execute_reply": "2023-06-04T21:56:07.686106Z"
    },
    "id": "zm_AewFBXTj8",
    "papermill": {
     "duration": 0.853044,
     "end_time": "2023-06-04T21:56:07.689484",
     "exception": false,
     "start_time": "2023-06-04T21:56:06.836440",
     "status": "completed"
    },
    "tags": []
   },
   "outputs": [],
   "source": [
    "from tensorflow.keras import models\n",
    "model_dn169_sa.load_weights(\"DN169_SA.hdf5\")"
   ]
  },
  {
   "cell_type": "code",
   "execution_count": 24,
   "id": "0d8c6d0f",
   "metadata": {
    "execution": {
     "iopub.execute_input": "2023-06-04T21:56:07.745570Z",
     "iopub.status.busy": "2023-06-04T21:56:07.745263Z",
     "iopub.status.idle": "2023-06-04T21:56:24.713433Z",
     "shell.execute_reply": "2023-06-04T21:56:24.712497Z"
    },
    "papermill": {
     "duration": 16.998393,
     "end_time": "2023-06-04T21:56:24.715607",
     "exception": false,
     "start_time": "2023-06-04T21:56:07.717214",
     "status": "completed"
    },
    "tags": []
   },
   "outputs": [
    {
     "name": "stdout",
     "output_type": "stream",
     "text": [
      "52/52 [==============================] - 16s 269ms/step\n"
     ]
    }
   ],
   "source": [
    "predictions = model_dn169_sa.predict(test_batches)"
   ]
  },
  {
   "cell_type": "code",
   "execution_count": 25,
   "id": "deae4e7d",
   "metadata": {
    "execution": {
     "iopub.execute_input": "2023-06-04T21:56:24.779508Z",
     "iopub.status.busy": "2023-06-04T21:56:24.778679Z",
     "iopub.status.idle": "2023-06-04T21:56:24.783858Z",
     "shell.execute_reply": "2023-06-04T21:56:24.783007Z"
    },
    "id": "FDTMtBeTdBfU",
    "papermill": {
     "duration": 0.038998,
     "end_time": "2023-06-04T21:56:24.785814",
     "exception": false,
     "start_time": "2023-06-04T21:56:24.746816",
     "status": "completed"
    },
    "tags": []
   },
   "outputs": [],
   "source": [
    "#geting predictions on test dataset\n",
    "y_pred = np.argmax(predictions, axis=1)\n",
    "#getting the true labels per image \n",
    "y_true = test_batches.classes\n",
    "#getting the predicted labels per image \n",
    "y_prob = predictions"
   ]
  },
  {
   "cell_type": "code",
   "execution_count": 26,
   "id": "0305e20c",
   "metadata": {
    "execution": {
     "iopub.execute_input": "2023-06-04T21:56:24.849968Z",
     "iopub.status.busy": "2023-06-04T21:56:24.848417Z",
     "iopub.status.idle": "2023-06-04T21:56:24.864928Z",
     "shell.execute_reply": "2023-06-04T21:56:24.863764Z"
    },
    "papermill": {
     "duration": 0.050515,
     "end_time": "2023-06-04T21:56:24.867079",
     "exception": false,
     "start_time": "2023-06-04T21:56:24.816564",
     "status": "completed"
    },
    "tags": []
   },
   "outputs": [
    {
     "name": "stdout",
     "output_type": "stream",
     "text": [
      "\n",
      "Classification Report:\n",
      "              precision    recall  f1-score   support\n",
      "\n",
      "          AK       0.69      0.41      0.51        22\n",
      "         BCC       0.70      0.78      0.74        27\n",
      "         BKL       0.68      0.77      0.72        66\n",
      "          DF       1.00      0.33      0.50         6\n",
      "         MEL       0.78      0.51      0.62        35\n",
      "          NV       0.96      0.98      0.97       663\n",
      "        VASC       1.00      0.89      0.94         9\n",
      "\n",
      "    accuracy                           0.92       828\n",
      "   macro avg       0.83      0.67      0.72       828\n",
      "weighted avg       0.92      0.92      0.91       828\n",
      "\n"
     ]
    }
   ],
   "source": [
    "classnames = ['AK', 'BCC', 'BKL', 'DF', 'MEL', 'NV', 'VASC']\n",
    "\n",
    "from tensorflow.keras.utils import to_categorical\n",
    "y_test = to_categorical(y_true)\n",
    "\n",
    "report = classification_report(y_true, y_pred, target_names=classnames)\n",
    "\n",
    "print(\"\\nClassification Report:\")\n",
    "print(report)"
   ]
  },
  {
   "cell_type": "code",
   "execution_count": 27,
   "id": "de1bd411",
   "metadata": {
    "execution": {
     "iopub.execute_input": "2023-06-04T21:56:24.930150Z",
     "iopub.status.busy": "2023-06-04T21:56:24.929406Z",
     "iopub.status.idle": "2023-06-04T21:56:25.521980Z",
     "shell.execute_reply": "2023-06-04T21:56:25.521000Z"
    },
    "papermill": {
     "duration": 0.626257,
     "end_time": "2023-06-04T21:56:25.524180",
     "exception": false,
     "start_time": "2023-06-04T21:56:24.897923",
     "status": "completed"
    },
    "tags": []
   },
   "outputs": [
    {
     "data": {
      "image/png": "[encoded data removed]",
      "text/plain": [
       "<Figure size 1000x400 with 2 Axes>"
      ]
     },
     "metadata": {},
     "output_type": "display_data"
    }
   ],
   "source": [
    "## Confusion Matrix\n",
    "title_font = {'fontname':'Times New Roman', 'size':'14', 'color':'black', 'weight':'normal'}\n",
    "label_font = {'fontname':'Times New Roman', 'size':'12', 'color':'black', 'weight':'normal'}\n",
    "\n",
    "from sklearn.metrics import confusion_matrix\n",
    "import seaborn as sns\n",
    "# Creating confusion matrix \n",
    "cm = confusion_matrix(y_true, y_pred)\n",
    "# Plotting the confusion matrix\n",
    "plt.figure(figsize=(10,4))\n",
    "sns.heatmap(cm, annot=True, fmt='g', cmap='Blues', xticklabels=targetnames, yticklabels=targetnames)\n",
    "plt.xlabel('Predicted Label', fontdict=label_font)\n",
    "plt.ylabel('True Label', fontdict=label_font)\n",
    "plt.title('Confusion Matrix', fontdict=title_font)\n",
    "plt.show()"
   ]
  },
  {
   "cell_type": "markdown",
   "id": "5368b662",
   "metadata": {
    "papermill": {
     "duration": 0.030986,
     "end_time": "2023-06-04T21:56:25.586699",
     "exception": false,
     "start_time": "2023-06-04T21:56:25.555713",
     "status": "completed"
    },
    "tags": []
   },
   "source": [
    "## Results"
   ]
  },
  {
   "cell_type": "markdown",
   "id": "738659cd",
   "metadata": {
    "papermill": {
     "duration": 0.030779,
     "end_time": "2023-06-04T21:56:25.648500",
     "exception": false,
     "start_time": "2023-06-04T21:56:25.617721",
     "status": "completed"
    },
    "tags": []
   },
   "source": [
    "### Individual Class Accuracy "
   ]
  },
  {
   "cell_type": "code",
   "execution_count": 28,
   "id": "31e36ce4",
   "metadata": {
    "execution": {
     "iopub.execute_input": "2023-06-04T21:56:25.711810Z",
     "iopub.status.busy": "2023-06-04T21:56:25.711520Z",
     "iopub.status.idle": "2023-06-04T21:56:25.719345Z",
     "shell.execute_reply": "2023-06-04T21:56:25.718200Z"
    },
    "papermill": {
     "duration": 0.041815,
     "end_time": "2023-06-04T21:56:25.721330",
     "exception": false,
     "start_time": "2023-06-04T21:56:25.679515",
     "status": "completed"
    },
    "tags": []
   },
   "outputs": [
    {
     "name": "stdout",
     "output_type": "stream",
     "text": [
      "Overall accuracy: 91.67%\n",
      "Accuracy for each class:\n",
      "Class 0: 40.91%\n",
      "Class 1: 77.78%\n",
      "Class 2: 77.27%\n",
      "Class 3: 33.33%\n",
      "Class 4: 51.43%\n",
      "Class 5: 98.04%\n",
      "Class 6: 88.89%\n"
     ]
    }
   ],
   "source": [
    "# y_true are the true labels of the test set\n",
    "# y_pred are the predicted labels of the test set\n",
    "accuracy = accuracy_score(y_true, y_pred)\n",
    "# Calculate accuracy for each class\n",
    "class_accuracy = cm.diagonal()/cm.sum(axis=1)\n",
    "print(\"Overall accuracy: {:.2f}%\".format(accuracy*100))\n",
    "print(\"Accuracy for each class:\")\n",
    "for i, acc in enumerate(class_accuracy):\n",
    "    print(\"Class {}: {:.2f}%\".format(i, acc*100))"
   ]
  },
  {
   "cell_type": "markdown",
   "id": "db23f34c",
   "metadata": {
    "papermill": {
     "duration": 0.030887,
     "end_time": "2023-06-04T21:56:25.783663",
     "exception": false,
     "start_time": "2023-06-04T21:56:25.752776",
     "status": "completed"
    },
    "tags": []
   },
   "source": [
    "### Individual Class Weighted Precision"
   ]
  },
  {
   "cell_type": "code",
   "execution_count": 29,
   "id": "e3225ac1",
   "metadata": {
    "execution": {
     "iopub.execute_input": "2023-06-04T21:56:25.849489Z",
     "iopub.status.busy": "2023-06-04T21:56:25.848599Z",
     "iopub.status.idle": "2023-06-04T21:56:25.863413Z",
     "shell.execute_reply": "2023-06-04T21:56:25.862209Z"
    },
    "papermill": {
     "duration": 0.049124,
     "end_time": "2023-06-04T21:56:25.865476",
     "exception": false,
     "start_time": "2023-06-04T21:56:25.816352",
     "status": "completed"
    },
    "tags": []
   },
   "outputs": [
    {
     "name": "stdout",
     "output_type": "stream",
     "text": [
      "Weighted precision for each class:\n",
      "Class 0: 69.23%\n",
      "Class 1: 70.00%\n",
      "Class 2: 68.00%\n",
      "Class 3: 100.00%\n",
      "Class 4: 78.26%\n",
      "Class 5: 96.01%\n",
      "Class 6: 100.00%\n",
      "Weighted precision: 91.54%\n"
     ]
    }
   ],
   "source": [
    "report = classification_report(y_true, y_pred, output_dict=True)\n",
    "# Extract weighted precision for each class\n",
    "class_precision = {}\n",
    "for class_label in report.keys():\n",
    "    if class_label == 'weighted avg':\n",
    "        class_precision['weighted'] = report[class_label]['precision']\n",
    "    elif class_label.isdigit():\n",
    "        class_precision[int(class_label)] = report[class_label]['precision']\n",
    "print(\"Weighted precision for each class:\")\n",
    "for i, precision in class_precision.items():\n",
    "    if i == 'weighted':\n",
    "        print(\"Weighted precision: {:.2f}%\".format(precision*100))\n",
    "    else:\n",
    "        print(\"Class {}: {:.2f}%\".format(i, precision*100))"
   ]
  },
  {
   "cell_type": "markdown",
   "id": "611c10f2",
   "metadata": {
    "papermill": {
     "duration": 0.031103,
     "end_time": "2023-06-04T21:56:25.927908",
     "exception": false,
     "start_time": "2023-06-04T21:56:25.896805",
     "status": "completed"
    },
    "tags": []
   },
   "source": [
    "### Individual Class Weighted Recall"
   ]
  },
  {
   "cell_type": "code",
   "execution_count": 30,
   "id": "390cabd3",
   "metadata": {
    "execution": {
     "iopub.execute_input": "2023-06-04T21:56:25.992059Z",
     "iopub.status.busy": "2023-06-04T21:56:25.991305Z",
     "iopub.status.idle": "2023-06-04T21:56:26.005182Z",
     "shell.execute_reply": "2023-06-04T21:56:26.004150Z"
    },
    "papermill": {
     "duration": 0.048217,
     "end_time": "2023-06-04T21:56:26.007155",
     "exception": false,
     "start_time": "2023-06-04T21:56:25.958938",
     "status": "completed"
    },
    "tags": []
   },
   "outputs": [
    {
     "name": "stdout",
     "output_type": "stream",
     "text": [
      "Weighted recall for each class:\n",
      "Class 0: 40.91%\n",
      "Class 1: 77.78%\n",
      "Class 2: 77.27%\n",
      "Class 3: 33.33%\n",
      "Class 4: 51.43%\n",
      "Class 5: 98.04%\n",
      "Class 6: 88.89%\n",
      "Weighted Recall: 91.67%\n"
     ]
    }
   ],
   "source": [
    "report = classification_report(y_true, y_pred, output_dict=True)\n",
    "# Extract weighted recall for each class\n",
    "class_recall = {}\n",
    "for class_label in report.keys():\n",
    "    if class_label == 'weighted avg':\n",
    "        class_recall['weighted'] = report[class_label]['recall']\n",
    "    elif class_label.isdigit():\n",
    "        class_recall[int(class_label)] = report[class_label]['recall']\n",
    "print(\"Weighted recall for each class:\")\n",
    "for i, recall in class_recall.items():\n",
    "    if i == 'weighted':\n",
    "        print(\"Weighted Recall: {:.2f}%\".format(recall*100))\n",
    "    else:\n",
    "        print(\"Class {}: {:.2f}%\".format(i, recall*100))"
   ]
  },
  {
   "cell_type": "markdown",
   "id": "f6af5d90",
   "metadata": {
    "papermill": {
     "duration": 0.03133,
     "end_time": "2023-06-04T21:56:26.069751",
     "exception": false,
     "start_time": "2023-06-04T21:56:26.038421",
     "status": "completed"
    },
    "tags": []
   },
   "source": [
    "### Individual Class Weighted F1-score"
   ]
  },
  {
   "cell_type": "code",
   "execution_count": 31,
   "id": "88202680",
   "metadata": {
    "execution": {
     "iopub.execute_input": "2023-06-04T21:56:26.133752Z",
     "iopub.status.busy": "2023-06-04T21:56:26.133483Z",
     "iopub.status.idle": "2023-06-04T21:56:26.148054Z",
     "shell.execute_reply": "2023-06-04T21:56:26.146901Z"
    },
    "papermill": {
     "duration": 0.048597,
     "end_time": "2023-06-04T21:56:26.149966",
     "exception": false,
     "start_time": "2023-06-04T21:56:26.101369",
     "status": "completed"
    },
    "tags": []
   },
   "outputs": [
    {
     "name": "stdout",
     "output_type": "stream",
     "text": [
      "Weighted F1-score for each class:\n",
      "Class 0: 51.43%\n",
      "Class 1: 73.68%\n",
      "Class 2: 72.34%\n",
      "Class 3: 50.00%\n",
      "Class 4: 62.07%\n",
      "Class 5: 97.01%\n",
      "Class 6: 94.12%\n",
      "Weighted F1-score: 91.23%\n"
     ]
    }
   ],
   "source": [
    "report = classification_report(y_true, y_pred, output_dict=True)\n",
    "# Extract weighted F1-score for each class\n",
    "class_f1 = {}\n",
    "for class_label in report.keys():\n",
    "    if class_label == 'weighted avg':\n",
    "        class_f1['weighted'] = report[class_label]['f1-score']\n",
    "    elif class_label.isdigit():\n",
    "        class_f1[int(class_label)] = report[class_label]['f1-score']\n",
    "print(\"Weighted F1-score for each class:\")\n",
    "for i, f1_score in class_f1.items():\n",
    "    if i == 'weighted':\n",
    "        print(\"Weighted F1-score: {:.2f}%\".format(f1_score*100))\n",
    "    else:\n",
    "        print(\"Class {}: {:.2f}%\".format(i, f1_score*100))"
   ]
  },
  {
   "cell_type": "markdown",
   "id": "b3e5db96",
   "metadata": {
    "papermill": {
     "duration": 0.031286,
     "end_time": "2023-06-04T21:56:26.212912",
     "exception": false,
     "start_time": "2023-06-04T21:56:26.181626",
     "status": "completed"
    },
    "tags": []
   },
   "source": [
    "### Individual Class Precision, Recall and F1-score"
   ]
  },
  {
   "cell_type": "code",
   "execution_count": 32,
   "id": "1b823e99",
   "metadata": {
    "execution": {
     "iopub.execute_input": "2023-06-04T21:56:26.282871Z",
     "iopub.status.busy": "2023-06-04T21:56:26.282481Z",
     "iopub.status.idle": "2023-06-04T21:56:26.294497Z",
     "shell.execute_reply": "2023-06-04T21:56:26.293417Z"
    },
    "papermill": {
     "duration": 0.052295,
     "end_time": "2023-06-04T21:56:26.296498",
     "exception": false,
     "start_time": "2023-06-04T21:56:26.244203",
     "status": "completed"
    },
    "tags": []
   },
   "outputs": [
    {
     "name": "stdout",
     "output_type": "stream",
     "text": [
      "Class-wise weighted precision, recall, and F1-score:\n",
      "Class 0: Precision=0.69, Recall=0.41, F1-score=0.51\n",
      "Class 1: Precision=0.70, Recall=0.78, F1-score=0.74\n",
      "Class 2: Precision=0.68, Recall=0.77, F1-score=0.72\n",
      "Class 3: Precision=1.00, Recall=0.33, F1-score=0.50\n",
      "Class 4: Precision=0.78, Recall=0.51, F1-score=0.62\n",
      "Class 5: Precision=0.96, Recall=0.98, F1-score=0.97\n",
      "Class 6: Precision=1.00, Recall=0.89, F1-score=0.94\n"
     ]
    }
   ],
   "source": [
    "from sklearn.metrics import precision_recall_fscore_support\n",
    "\n",
    "precision_class, recall_class, f1_class, support_class = precision_recall_fscore_support(y_true, y_pred, average=None)\n",
    "print('Class-wise weighted precision, recall, and F1-score:')\n",
    "for i in range(len(precision_class)):\n",
    "    print('Class {}: Precision={:.2f}, Recall={:.2f}, F1-score={:.2f}'.format(i, precision_class[i], recall_class[i], f1_class[i]))\n"
   ]
  },
  {
   "cell_type": "markdown",
   "id": "d41d9b7d",
   "metadata": {
    "papermill": {
     "duration": 0.031249,
     "end_time": "2023-06-04T21:56:26.360363",
     "exception": false,
     "start_time": "2023-06-04T21:56:26.329114",
     "status": "completed"
    },
    "tags": []
   },
   "source": [
    "### Individual Class Weighted Sensitivity"
   ]
  },
  {
   "cell_type": "code",
   "execution_count": 33,
   "id": "7a4931ea",
   "metadata": {
    "execution": {
     "iopub.execute_input": "2023-06-04T21:56:26.425388Z",
     "iopub.status.busy": "2023-06-04T21:56:26.424770Z",
     "iopub.status.idle": "2023-06-04T21:56:26.887752Z",
     "shell.execute_reply": "2023-06-04T21:56:26.886243Z"
    },
    "papermill": {
     "duration": 0.497601,
     "end_time": "2023-06-04T21:56:26.889978",
     "exception": false,
     "start_time": "2023-06-04T21:56:26.392377",
     "status": "completed"
    },
    "tags": []
   },
   "outputs": [
    {
     "name": "stdout",
     "output_type": "stream",
     "text": [
      "Weighted Sensitivity:  0.9166666666666666\n",
      "Class  0 :sensitivity = 0.4090909090909091\n",
      "Class  1 :sensitivity = 0.7777777777777778\n",
      "Class  2 :sensitivity = 0.7727272727272727\n",
      "Class  3 :sensitivity = 0.3333333333333333\n",
      "Class  4 :sensitivity = 0.5142857142857142\n",
      "Class  5 :sensitivity = 0.9803921568627451\n",
      "Class  6 :sensitivity = 0.8888888888888888\n"
     ]
    }
   ],
   "source": [
    "from imblearn.metrics import sensitivity_score\n",
    "\n",
    "sensitivity = sensitivity_score(y_true, y_pred, average='weighted')\n",
    "print(\"Weighted Sensitivity: \", sensitivity)\n",
    "\n",
    "# Calculate class-wise sensitivity\n",
    "sensitivity = sensitivity_score(y_true, y_pred, average=None)\n",
    "\n",
    "# Print sensitivity score for each class\n",
    "for i in range(len(sensitivity)):\n",
    "    print(\"Class \", i, \":sensitivity =\", sensitivity[i])"
   ]
  },
  {
   "cell_type": "markdown",
   "id": "24fb4b2a",
   "metadata": {
    "papermill": {
     "duration": 0.031714,
     "end_time": "2023-06-04T21:56:26.954296",
     "exception": false,
     "start_time": "2023-06-04T21:56:26.922582",
     "status": "completed"
    },
    "tags": []
   },
   "source": [
    "### Individual Class Weighted Specificity"
   ]
  },
  {
   "cell_type": "code",
   "execution_count": 34,
   "id": "38f8bd9d",
   "metadata": {
    "execution": {
     "iopub.execute_input": "2023-06-04T21:56:27.019223Z",
     "iopub.status.busy": "2023-06-04T21:56:27.018900Z",
     "iopub.status.idle": "2023-06-04T21:56:27.028941Z",
     "shell.execute_reply": "2023-06-04T21:56:27.027762Z"
    },
    "papermill": {
     "duration": 0.045087,
     "end_time": "2023-06-04T21:56:27.030948",
     "exception": false,
     "start_time": "2023-06-04T21:56:26.985861",
     "status": "completed"
    },
    "tags": []
   },
   "outputs": [
    {
     "name": "stdout",
     "output_type": "stream",
     "text": [
      "Weighted Specificity:  0.8656970022527399\n",
      "Class  0 :specificity= 0.9950372208436724\n",
      "Class  1 :specificity= 0.9887640449438202\n",
      "Class  2 :specificity= 0.968503937007874\n",
      "Class  3 :specificity= 1.0\n",
      "Class  4 :specificity= 0.9936948297604036\n",
      "Class  5 :specificity= 0.8363636363636363\n",
      "Class  6 :specificity= 1.0\n"
     ]
    }
   ],
   "source": [
    "from imblearn.metrics import specificity_score\n",
    "\n",
    "specificity = specificity_score(y_true, y_pred, average='weighted')\n",
    "print(\"Weighted Specificity: \", specificity)\n",
    "\n",
    "# Calculate class-wise specificity\n",
    "specificity = specificity_score(y_true, y_pred, average=None)\n",
    "\n",
    "# Print sensitivity score for each class\n",
    "for i in range(len(specificity)):\n",
    "    print(\"Class \", i, \":specificity=\", specificity[i])"
   ]
  },
  {
   "cell_type": "markdown",
   "id": "0d4ed7e3",
   "metadata": {
    "papermill": {
     "duration": 0.031589,
     "end_time": "2023-06-04T21:56:27.094466",
     "exception": false,
     "start_time": "2023-06-04T21:56:27.062877",
     "status": "completed"
    },
    "tags": []
   },
   "source": [
    "### Accuracy"
   ]
  },
  {
   "cell_type": "code",
   "execution_count": 35,
   "id": "6312b8c3",
   "metadata": {
    "execution": {
     "iopub.execute_input": "2023-06-04T21:56:27.159346Z",
     "iopub.status.busy": "2023-06-04T21:56:27.158559Z",
     "iopub.status.idle": "2023-06-04T21:56:27.164878Z",
     "shell.execute_reply": "2023-06-04T21:56:27.163757Z"
    },
    "papermill": {
     "duration": 0.041349,
     "end_time": "2023-06-04T21:56:27.167400",
     "exception": false,
     "start_time": "2023-06-04T21:56:27.126051",
     "status": "completed"
    },
    "tags": []
   },
   "outputs": [
    {
     "name": "stdout",
     "output_type": "stream",
     "text": [
      "Accuracy: 0.9166666666666666\n"
     ]
    }
   ],
   "source": [
    "print(\"Accuracy: \" + str(accuracy_score(y_true, y_pred)))\n",
    "import numpy as np\n",
    "from sklearn.metrics import accuracy_score"
   ]
  },
  {
   "cell_type": "code",
   "execution_count": 36,
   "id": "9b2226a4",
   "metadata": {
    "execution": {
     "iopub.execute_input": "2023-06-04T21:56:27.235008Z",
     "iopub.status.busy": "2023-06-04T21:56:27.234254Z",
     "iopub.status.idle": "2023-06-04T21:56:27.252635Z",
     "shell.execute_reply": "2023-06-04T21:56:27.251586Z"
    },
    "papermill": {
     "duration": 0.052948,
     "end_time": "2023-06-04T21:56:27.254632",
     "exception": false,
     "start_time": "2023-06-04T21:56:27.201684",
     "status": "completed"
    },
    "tags": []
   },
   "outputs": [
    {
     "name": "stdout",
     "output_type": "stream",
     "text": [
      "Top-1 Accuracy: 0.9166666666666666\n",
      "Top-2 Accuracy: 0.9637681159420289\n",
      "Top-3 Accuracy: 0.9842995169082126\n"
     ]
    }
   ],
   "source": [
    "# Calculate top-1 accuracy\n",
    "top1_acc = accuracy_score(y_true, y_pred)\n",
    "print(\"Top-1 Accuracy:\", top1_acc)\n",
    "\n",
    "# Calculate top-2 accuracy\n",
    "y_pred_top2 = np.argsort(-predictions, axis=1)[:, :2] # Get the top 2 predicted classes\n",
    "top2_acc = np.mean(np.array([y_true[i] in y_pred_top2[i] for i in range(len(y_true))]))\n",
    "print(\"Top-2 Accuracy:\", top2_acc)\n",
    "\n",
    "# Calculate top-3 accuracy\n",
    "y_pred_top3 = np.argsort(-predictions, axis=1)[:, :3] # Get the top 3 predicted classes\n",
    "top3_acc = np.mean(np.array([y_true[i] in y_pred_top3[i] for i in range(len(y_true))]))\n",
    "print(\"Top-3 Accuracy:\", top3_acc)\n",
    "from sklearn.metrics import f1_score"
   ]
  },
  {
   "cell_type": "markdown",
   "id": "6d28cc81",
   "metadata": {
    "papermill": {
     "duration": 0.031608,
     "end_time": "2023-06-04T21:56:27.317946",
     "exception": false,
     "start_time": "2023-06-04T21:56:27.286338",
     "status": "completed"
    },
    "tags": []
   },
   "source": [
    "### Weighted Evaluation Measures"
   ]
  },
  {
   "cell_type": "code",
   "execution_count": 37,
   "id": "3dd79fcb",
   "metadata": {
    "execution": {
     "iopub.execute_input": "2023-06-04T21:56:27.387635Z",
     "iopub.status.busy": "2023-06-04T21:56:27.387373Z",
     "iopub.status.idle": "2023-06-04T21:56:27.412442Z",
     "shell.execute_reply": "2023-06-04T21:56:27.411306Z"
    },
    "papermill": {
     "duration": 0.063107,
     "end_time": "2023-06-04T21:56:27.414381",
     "exception": false,
     "start_time": "2023-06-04T21:56:27.351274",
     "status": "completed"
    },
    "tags": []
   },
   "outputs": [
    {
     "name": "stdout",
     "output_type": "stream",
     "text": [
      "Weighted Precision: 0.9154111343250434\n",
      "Weighted Recall: 0.9166666666666666\n",
      "Weighted F1-Score: 0.9122673729440387\n",
      "Weighted Sensitivity: 0.9166666666666666\n",
      "Weighted Specificity: 0.8656970022527399\n",
      "weighted Roc score: 0.9774259949794624\n"
     ]
    }
   ],
   "source": [
    "print(\"Weighted Precision: \"+ str(precision_score(y_true, y_pred, average='weighted')))\n",
    "print(\"Weighted Recall: \"+ str(recall_score(y_true, y_pred, average='weighted')))\n",
    "print(\"Weighted F1-Score: \"+ str(f1_score(y_true, y_pred, average='weighted')))\n",
    "print(\"Weighted Sensitivity: \"+ str(sensitivity_score(y_true, y_pred, average='weighted')))\n",
    "print(\"Weighted Specificity: \"+ str(specificity_score(y_true, y_pred, average='weighted')))\n",
    "print(\"weighted Roc score: \" + str(roc_auc_score(y_true,y_prob,multi_class='ovr',average='weighted')))"
   ]
  },
  {
   "cell_type": "markdown",
   "id": "ee0cc4d6",
   "metadata": {
    "papermill": {
     "duration": 0.037977,
     "end_time": "2023-06-04T21:56:27.489887",
     "exception": false,
     "start_time": "2023-06-04T21:56:27.451910",
     "status": "completed"
    },
    "tags": []
   },
   "source": [
    "### Macro Evaluation Measures"
   ]
  },
  {
   "cell_type": "code",
   "execution_count": 38,
   "id": "6bcded7a",
   "metadata": {
    "execution": {
     "iopub.execute_input": "2023-06-04T21:56:27.557823Z",
     "iopub.status.busy": "2023-06-04T21:56:27.557066Z",
     "iopub.status.idle": "2023-06-04T21:56:27.578328Z",
     "shell.execute_reply": "2023-06-04T21:56:27.577224Z"
    },
    "papermill": {
     "duration": 0.055982,
     "end_time": "2023-06-04T21:56:27.580258",
     "exception": false,
     "start_time": "2023-06-04T21:56:27.524276",
     "status": "completed"
    },
    "tags": []
   },
   "outputs": [
    {
     "name": "stdout",
     "output_type": "stream",
     "text": [
      "Macro Precision: 0.8307192223356888\n",
      "Macro Recall: 0.6680708647095202\n",
      "Macro F1-Score: 0.7152210649085734\n",
      "Macro Sensitivity: 0.6680708647095202\n",
      "Macro Specificity: 0.9689090955599152\n",
      "Macro Roc score: 0.9739115889471369\n"
     ]
    }
   ],
   "source": [
    "print(\"Macro Precision: \"+ str(precision_score(y_true, y_pred, average='macro')))\n",
    "print(\"Macro Recall: \"+ str(recall_score(y_true, y_pred, average='macro')))\n",
    "print(\"Macro F1-Score: \"+ str(f1_score(y_true, y_pred, average='macro')))\n",
    "print(\"Macro Sensitivity: \"+ str(sensitivity_score(y_true, y_pred, average='macro')))\n",
    "print(\"Macro Specificity: \"+ str(specificity_score(y_true, y_pred, average='macro')))\n",
    "print(\"Macro Roc score: \" + str(roc_auc_score(y_true,y_prob,multi_class='ovr',average='macro')))"
   ]
  },
  {
   "cell_type": "markdown",
   "id": "2619e1ff",
   "metadata": {
    "papermill": {
     "duration": 0.031678,
     "end_time": "2023-06-04T21:56:27.644165",
     "exception": false,
     "start_time": "2023-06-04T21:56:27.612487",
     "status": "completed"
    },
    "tags": []
   },
   "source": [
    "### Micro Evaluation Measures"
   ]
  },
  {
   "cell_type": "code",
   "execution_count": 39,
   "id": "f7b1ebd5",
   "metadata": {
    "execution": {
     "iopub.execute_input": "2023-06-04T21:56:27.711128Z",
     "iopub.status.busy": "2023-06-04T21:56:27.710387Z",
     "iopub.status.idle": "2023-06-04T21:56:27.724181Z",
     "shell.execute_reply": "2023-06-04T21:56:27.723029Z"
    },
    "papermill": {
     "duration": 0.049951,
     "end_time": "2023-06-04T21:56:27.726083",
     "exception": false,
     "start_time": "2023-06-04T21:56:27.676132",
     "status": "completed"
    },
    "tags": []
   },
   "outputs": [
    {
     "name": "stdout",
     "output_type": "stream",
     "text": [
      "Micro Precision: 0.9166666666666666\n",
      "Micro Recall: 0.9166666666666666\n",
      "Micro F1-Score: 0.9166666666666666\n",
      "Micro Sensitivity: 0.9166666666666666\n",
      "Micro Specificity: 0.9861111111111112\n"
     ]
    }
   ],
   "source": [
    "print(\"Micro Precision: \"+ str(precision_score(y_true, y_pred, average='micro')))\n",
    "print(\"Micro Recall: \"+ str(recall_score(y_true, y_pred, average='micro')))\n",
    "print(\"Micro F1-Score: \"+ str(f1_score(y_true, y_pred, average='micro')))\n",
    "print(\"Micro Sensitivity: \"+ str(sensitivity_score(y_true, y_pred, average='micro')))\n",
    "print(\"Micro Specificity: \"+ str(specificity_score(y_true, y_pred, average='micro')))"
   ]
  },
  {
   "cell_type": "markdown",
   "id": "0e571dab",
   "metadata": {
    "papermill": {
     "duration": 0.031859,
     "end_time": "2023-06-04T21:56:27.789882",
     "exception": false,
     "start_time": "2023-06-04T21:56:27.758023",
     "status": "completed"
    },
    "tags": []
   },
   "source": [
    "## ROC"
   ]
  },
  {
   "cell_type": "markdown",
   "id": "f711d75c",
   "metadata": {
    "papermill": {
     "duration": 0.0317,
     "end_time": "2023-06-04T21:56:27.853623",
     "exception": false,
     "start_time": "2023-06-04T21:56:27.821923",
     "status": "completed"
    },
    "tags": []
   },
   "source": [
    "### Compute ROC curve and ROC area for each class"
   ]
  },
  {
   "cell_type": "code",
   "execution_count": 40,
   "id": "4d071e98",
   "metadata": {
    "execution": {
     "iopub.execute_input": "2023-06-04T21:56:27.919134Z",
     "iopub.status.busy": "2023-06-04T21:56:27.918535Z",
     "iopub.status.idle": "2023-06-04T21:56:28.309453Z",
     "shell.execute_reply": "2023-06-04T21:56:28.308559Z"
    },
    "papermill": {
     "duration": 0.426455,
     "end_time": "2023-06-04T21:56:28.312011",
     "exception": false,
     "start_time": "2023-06-04T21:56:27.885556",
     "status": "completed"
    },
    "tags": []
   },
   "outputs": [
    {
     "data": {
      "image/png": "[encoded data removed]",
      "text/plain": [
       "<Figure size 640x480 with 1 Axes>"
      ]
     },
     "metadata": {},
     "output_type": "display_data"
    }
   ],
   "source": [
    "fpr = {}\n",
    "tpr = {}\n",
    "roc_auc = dict()\n",
    "for i in range(num_classes):\n",
    "    fpr[i], tpr[i], _ = roc_curve(y_test[:, i], y_prob[:, i], drop_intermediate=False)\n",
    "    roc_auc[i] = auc(fpr[i], tpr[i])\n",
    "\n",
    "\n",
    "# plot the ROC curve for each class\n",
    "for i in range(7):\n",
    "    plt.plot(fpr[i], tpr[i], label='Class {}: AUC={:.3f}'.format(i, roc_auc[i]))\n",
    "\n",
    "plt.xlabel('False Positive Rate')\n",
    "plt.ylabel('True Positive Rate')\n",
    "plt.legend()\n",
    "plt.show()"
   ]
  },
  {
   "cell_type": "markdown",
   "id": "d958cc3c",
   "metadata": {
    "papermill": {
     "duration": 0.044804,
     "end_time": "2023-06-04T21:56:28.403463",
     "exception": false,
     "start_time": "2023-06-04T21:56:28.358659",
     "status": "completed"
    },
    "tags": []
   },
   "source": [
    "## MCC and Kappa Score"
   ]
  },
  {
   "cell_type": "code",
   "execution_count": 41,
   "id": "137353fa",
   "metadata": {
    "execution": {
     "iopub.execute_input": "2023-06-04T21:56:28.495319Z",
     "iopub.status.busy": "2023-06-04T21:56:28.494810Z",
     "iopub.status.idle": "2023-06-04T21:56:28.508140Z",
     "shell.execute_reply": "2023-06-04T21:56:28.507276Z"
    },
    "papermill": {
     "duration": 0.062041,
     "end_time": "2023-06-04T21:56:28.510606",
     "exception": false,
     "start_time": "2023-06-04T21:56:28.448565",
     "status": "completed"
    },
    "tags": []
   },
   "outputs": [
    {
     "name": "stdout",
     "output_type": "stream",
     "text": [
      "MCC: 75.29%\n",
      "Kappa Score: 75.14%\n"
     ]
    }
   ],
   "source": [
    "from sklearn.metrics import matthews_corrcoef, cohen_kappa_score\n",
    "\n",
    "# y_true are the true labels of the test set\n",
    "# y_pred are the predicted labels of the test set\n",
    "mcc = matthews_corrcoef(y_true, y_pred)\n",
    "kappa = cohen_kappa_score(y_true, y_pred)\n",
    "print(\"MCC: {:.2f}%\".format(mcc*100))\n",
    "print(\"Kappa Score: {:.2f}%\".format(kappa*100))"
   ]
  },
  {
   "cell_type": "code",
   "execution_count": 42,
   "id": "f93506a6",
   "metadata": {
    "execution": {
     "iopub.execute_input": "2023-06-04T21:56:28.603149Z",
     "iopub.status.busy": "2023-06-04T21:56:28.602718Z",
     "iopub.status.idle": "2023-06-04T21:56:28.698415Z",
     "shell.execute_reply": "2023-06-04T21:56:28.696809Z"
    },
    "papermill": {
     "duration": 0.145521,
     "end_time": "2023-06-04T21:56:28.702102",
     "exception": false,
     "start_time": "2023-06-04T21:56:28.556581",
     "status": "completed"
    },
    "tags": []
   },
   "outputs": [
    {
     "name": "stdout",
     "output_type": "stream",
     "text": [
      "MCC per class:\n",
      "Class 0: 52.28%\n",
      "Class 1: 72.86%\n",
      "Class 2: 69.95%\n",
      "Class 3: 57.60%\n",
      "Class 4: 62.20%\n",
      "Class 5: 84.49%\n",
      "Class 6: 94.22%\n",
      "Kappa Score per class:\n",
      "Class 0: 50.45%\n",
      "Class 1: 72.75%\n",
      "Class 2: 69.78%\n",
      "Class 3: 49.82%\n",
      "Class 4: 60.75%\n",
      "Class 5: 84.36%\n",
      "Class 6: 94.06%\n"
     ]
    }
   ],
   "source": [
    "### Individual Class Wise MCC and Kappa\n",
    "\n",
    "from sklearn.metrics import confusion_matrix, matthews_corrcoef, cohen_kappa_score\n",
    "# y_true are the true labels of the test set\n",
    "# y_pred are the predicted labels of the test set\n",
    "conf_mat = confusion_matrix(y_true, y_pred)\n",
    "mcc_per_class = {}\n",
    "kappa_per_class = {}\n",
    "\n",
    "for i in range(len(conf_mat)):\n",
    "    tp = conf_mat[i][i]\n",
    "    fp = sum(conf_mat[:, i]) - tp\n",
    "    fn = sum(conf_mat[i, :]) - tp\n",
    "    tn = sum(sum(conf_mat)) - tp - fp - fn\n",
    "\n",
    "    mcc_per_class[i] = matthews_corrcoef([1 if x==i else 0 for x in y_true], [1 if x==i else 0 for x in y_pred])\n",
    "    kappa_per_class[i] = cohen_kappa_score([1 if x==i else 0 for x in y_true], [1 if x==i else 0 for x in y_pred])\n",
    "\n",
    "print(\"MCC per class:\")\n",
    "for i, mcc in mcc_per_class.items():\n",
    "    print(\"Class {}: {:.2f}%\".format(i, mcc*100))\n",
    "\n",
    "print(\"Kappa Score per class:\")\n",
    "for i, kappa in kappa_per_class.items():\n",
    "    print(\"Class {}: {:.2f}%\".format(i, kappa*100))"
   ]
  },
  {
   "cell_type": "code",
   "execution_count": null,
   "id": "1756ae1b",
   "metadata": {
    "papermill": {
     "duration": 0.045743,
     "end_time": "2023-06-04T21:56:28.801216",
     "exception": false,
     "start_time": "2023-06-04T21:56:28.755473",
     "status": "completed"
    },
    "tags": []
   },
   "outputs": [],
   "source": []
  }
 ],
 "metadata": {
  "kernelspec": {
   "display_name": "Python 3",
   "language": "python",
   "name": "python3"
  },
  "language_info": {
   "codemirror_mode": {
    "name": "ipython",
    "version": 3
   },
   "file_extension": ".py",
   "mimetype": "text/x-python",
   "name": "python",
   "nbconvert_exporter": "python",
   "pygments_lexer": "ipython3",
   "version": "3.10.10"
  },
  "papermill": {
   "default_parameters": {},
   "duration": 20483.124691,
   "end_time": "2023-06-04T21:56:32.351017",
   "environment_variables": {},
   "exception": null,
   "input_path": "__notebook__.ipynb",
   "output_path": "__notebook__.ipynb",
   "parameters": {},
   "start_time": "2023-06-04T16:15:09.226326",
   "version": "2.4.0"
  }
 },
 "nbformat": 4,
 "nbformat_minor": 5
}
