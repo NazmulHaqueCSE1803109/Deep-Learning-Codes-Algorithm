{
 "cells": [
  {
   "cell_type": "markdown",
   "id": "3ff43dc4",
   "metadata": {
    "papermill": {
     "duration": 0.014624,
     "end_time": "2023-05-29T10:56:49.750855",
     "exception": false,
     "start_time": "2023-05-29T10:56:49.736231",
     "status": "completed"
    },
    "tags": []
   },
   "source": [
    "# Libraries"
   ]
  },
  {
   "cell_type": "code",
   "execution_count": 1,
   "id": "756230d2",
   "metadata": {
    "execution": {
     "iopub.execute_input": "2023-05-29T10:56:49.781760Z",
     "iopub.status.busy": "2023-05-29T10:56:49.780945Z",
     "iopub.status.idle": "2023-05-29T10:56:59.218303Z",
     "shell.execute_reply": "2023-05-29T10:56:59.217074Z"
    },
    "id": "Aa36bMKLze3z",
    "papermill": {
     "duration": 9.455991,
     "end_time": "2023-05-29T10:56:59.221145",
     "exception": false,
     "start_time": "2023-05-29T10:56:49.765154",
     "status": "completed"
    },
    "tags": []
   },
   "outputs": [
    {
     "name": "stderr",
     "output_type": "stream",
     "text": [
      "/opt/conda/lib/python3.10/site-packages/tensorflow_io/python/ops/__init__.py:98: UserWarning: unable to load libtensorflow_io_plugins.so: unable to open file: libtensorflow_io_plugins.so, from paths: ['/opt/conda/lib/python3.10/site-packages/tensorflow_io/python/ops/libtensorflow_io_plugins.so']\n",
      "caused by: ['/opt/conda/lib/python3.10/site-packages/tensorflow_io/python/ops/libtensorflow_io_plugins.so: undefined symbol: _ZN3tsl6StatusC1EN10tensorflow5error4CodeESt17basic_string_viewIcSt11char_traitsIcEENS_14SourceLocationE']\n",
      "  warnings.warn(f\"unable to load libtensorflow_io_plugins.so: {e}\")\n",
      "/opt/conda/lib/python3.10/site-packages/tensorflow_io/python/ops/__init__.py:104: UserWarning: file system plugins are not loaded: unable to open file: libtensorflow_io.so, from paths: ['/opt/conda/lib/python3.10/site-packages/tensorflow_io/python/ops/libtensorflow_io.so']\n",
      "caused by: ['/opt/conda/lib/python3.10/site-packages/tensorflow_io/python/ops/libtensorflow_io.so: undefined symbol: _ZTVN10tensorflow13GcsFileSystemE']\n",
      "  warnings.warn(f\"file system plugins are not loaded: {e}\")\n"
     ]
    }
   ],
   "source": [
    "import pandas as pd\n",
    "import numpy as np\n",
    "import os\n",
    "import tensorflow as tf\n",
    "import cv2\n",
    "from keras import backend as K\n",
    "from keras.layers import Layer, InputSpec\n",
    "import keras.layers as kl\n",
    "from glob import glob\n",
    "from sklearn.metrics import roc_curve, auc\n",
    "from keras.preprocessing import image\n",
    "from tensorflow.keras.models import Sequential\n",
    "from sklearn.metrics import roc_auc_score\n",
    "from tensorflow.keras import callbacks \n",
    "from tensorflow.keras.callbacks import ModelCheckpoint, EarlyStopping\n",
    "from  matplotlib import pyplot as plt\n",
    "from tensorflow.keras import Model\n",
    "from tensorflow.keras.layers import concatenate, Dense, Conv2D, MaxPooling2D, Flatten, Input, Activation, add, AveragePooling2D, BatchNormalization, Dropout, GlobalAveragePooling2D, GlobalMaxPooling2D\n",
    "%matplotlib inline\n",
    "import shutil\n",
    "from sklearn.metrics import  precision_score, recall_score, accuracy_score, classification_report, confusion_matrix\n",
    "from tensorflow.python.platform import build_info as tf_build_info\n",
    "from tensorflow.keras.preprocessing.image import ImageDataGenerator\n",
    "from sklearn.model_selection import train_test_split\n",
    "\n",
    "from PIL import ImageFile\n",
    "ImageFile.LOAD_TRUNCATED_IMAGES = True"
   ]
  },
  {
   "cell_type": "code",
   "execution_count": 2,
   "id": "d0ebedbc",
   "metadata": {
    "execution": {
     "iopub.execute_input": "2023-05-29T10:56:59.252090Z",
     "iopub.status.busy": "2023-05-29T10:56:59.251415Z",
     "iopub.status.idle": "2023-05-29T10:56:59.256408Z",
     "shell.execute_reply": "2023-05-29T10:56:59.255473Z"
    },
    "id": "PsoqCvNsgmHP",
    "papermill": {
     "duration": 0.022432,
     "end_time": "2023-05-29T10:56:59.258517",
     "exception": false,
     "start_time": "2023-05-29T10:56:59.236085",
     "status": "completed"
    },
    "tags": []
   },
   "outputs": [],
   "source": [
    "targetnames = ['akiec', 'bcc', 'bkl', 'df', 'mel', 'nv', 'vasc']\n",
    "batch_size = 16\n",
    "image_size = 224"
   ]
  },
  {
   "cell_type": "code",
   "execution_count": 3,
   "id": "e1b3aa08",
   "metadata": {
    "execution": {
     "iopub.execute_input": "2023-05-29T10:56:59.288466Z",
     "iopub.status.busy": "2023-05-29T10:56:59.288172Z",
     "iopub.status.idle": "2023-05-29T10:56:59.293661Z",
     "shell.execute_reply": "2023-05-29T10:56:59.292814Z"
    },
    "id": "wNisha_gM3_Z",
    "papermill": {
     "duration": 0.022821,
     "end_time": "2023-05-29T10:56:59.295707",
     "exception": false,
     "start_time": "2023-05-29T10:56:59.272886",
     "status": "completed"
    },
    "tags": []
   },
   "outputs": [],
   "source": [
    "train_path = '/kaggle/input/splitted-and-augmented-ham-15/Splitted_And_Augmented_HAM_15/HAM10K/train_dir'\n",
    "test_path = '/kaggle/input/splitted-and-augmented-ham-15/Splitted_And_Augmented_HAM_15/HAM10K/test_dir'\n",
    "val_path = '/kaggle/input/splitted-and-augmented-ham-15/Splitted_And_Augmented_HAM_15/HAM10K/val_dir'"
   ]
  },
  {
   "cell_type": "markdown",
   "id": "512a9a8c",
   "metadata": {
    "papermill": {
     "duration": 0.013941,
     "end_time": "2023-05-29T10:56:59.324563",
     "exception": false,
     "start_time": "2023-05-29T10:56:59.310622",
     "status": "completed"
    },
    "tags": []
   },
   "source": [
    "# Dataset generation (Train, Test, Validation)"
   ]
  },
  {
   "cell_type": "code",
   "execution_count": 4,
   "id": "55f9185c",
   "metadata": {
    "execution": {
     "iopub.execute_input": "2023-05-29T10:56:59.354583Z",
     "iopub.status.busy": "2023-05-29T10:56:59.354233Z",
     "iopub.status.idle": "2023-05-29T10:56:59.359915Z",
     "shell.execute_reply": "2023-05-29T10:56:59.359015Z"
    },
    "id": "zhQWqdRN79B3",
    "papermill": {
     "duration": 0.023351,
     "end_time": "2023-05-29T10:56:59.362053",
     "exception": false,
     "start_time": "2023-05-29T10:56:59.338702",
     "status": "completed"
    },
    "tags": []
   },
   "outputs": [],
   "source": [
    "datagen = ImageDataGenerator(preprocessing_function=tf.keras.applications.densenet.preprocess_input)"
   ]
  },
  {
   "cell_type": "code",
   "execution_count": 5,
   "id": "81292c7f",
   "metadata": {
    "execution": {
     "iopub.execute_input": "2023-05-29T10:56:59.391787Z",
     "iopub.status.busy": "2023-05-29T10:56:59.391477Z",
     "iopub.status.idle": "2023-05-29T10:57:21.795507Z",
     "shell.execute_reply": "2023-05-29T10:57:21.794610Z"
    },
    "id": "w9_8FvOO7Rtu",
    "outputId": "7ca88c24-fda8-45d6-cb32-f3a43ae6ba5b",
    "papermill": {
     "duration": 22.421392,
     "end_time": "2023-05-29T10:57:21.797683",
     "exception": false,
     "start_time": "2023-05-29T10:56:59.376291",
     "status": "completed"
    },
    "tags": []
   },
   "outputs": [
    {
     "name": "stdout",
     "output_type": "stream",
     "text": [
      "\n",
      "Train Batches: \n",
      "Found 54782 images belonging to 7 classes.\n",
      "\n",
      "Test Batches: \n",
      "Found 828 images belonging to 7 classes.\n",
      "\n",
      "Val Batches: \n",
      "Found 827 images belonging to 7 classes.\n"
     ]
    }
   ],
   "source": [
    "print(\"\\nTrain Batches: \")\n",
    "train_batches = datagen.flow_from_directory(directory=train_path,\n",
    "                                            target_size=(image_size,image_size),\n",
    "                                            batch_size=batch_size,\n",
    "                                            shuffle=True)\n",
    "\n",
    "print(\"\\nTest Batches: \")\n",
    "test_batches = datagen.flow_from_directory(test_path,\n",
    "                                          target_size=(image_size,image_size),\n",
    "                                          batch_size=batch_size,\n",
    "                                          shuffle=False)\n",
    "print(\"\\nVal Batches: \")\n",
    "val_batches = datagen.flow_from_directory(val_path,\n",
    "                                         target_size=(image_size,image_size),\n",
    "                                         batch_size=batch_size,\n",
    "                                         shuffle=False)"
   ]
  },
  {
   "cell_type": "markdown",
   "id": "6e624d47",
   "metadata": {
    "papermill": {
     "duration": 0.01475,
     "end_time": "2023-05-29T10:57:21.827993",
     "exception": false,
     "start_time": "2023-05-29T10:57:21.813243",
     "status": "completed"
    },
    "tags": []
   },
   "source": [
    "# Main Model Creation"
   ]
  },
  {
   "cell_type": "markdown",
   "id": "a63af804",
   "metadata": {
    "papermill": {
     "duration": 0.014287,
     "end_time": "2023-05-29T10:57:21.856759",
     "exception": false,
     "start_time": "2023-05-29T10:57:21.842472",
     "status": "completed"
    },
    "tags": []
   },
   "source": [
    "### Soft Attention"
   ]
  },
  {
   "cell_type": "code",
   "execution_count": 6,
   "id": "b2d7349c",
   "metadata": {
    "execution": {
     "iopub.execute_input": "2023-05-29T10:57:21.888370Z",
     "iopub.status.busy": "2023-05-29T10:57:21.887714Z",
     "iopub.status.idle": "2023-05-29T10:57:21.909798Z",
     "shell.execute_reply": "2023-05-29T10:57:21.908902Z"
    },
    "papermill": {
     "duration": 0.040637,
     "end_time": "2023-05-29T10:57:21.911913",
     "exception": false,
     "start_time": "2023-05-29T10:57:21.871276",
     "status": "completed"
    },
    "tags": []
   },
   "outputs": [],
   "source": [
    "from keras import backend as K\n",
    "from keras.layers import Layer,InputSpec\n",
    "import keras.layers as kl\n",
    "import tensorflow as tf\n",
    "\n",
    "\n",
    "\n",
    "class SoftAttention(Layer):\n",
    "    def __init__(self,ch,m,concat_with_x=False,aggregate=False,**kwargs):\n",
    "        self.channels=int(ch)\n",
    "        self.multiheads = m\n",
    "        self.aggregate_channels = aggregate\n",
    "        self.concat_input_with_scaled = concat_with_x\n",
    "\n",
    "        \n",
    "        super(SoftAttention,self).__init__(**kwargs)\n",
    "\n",
    "    def build(self,input_shape):\n",
    "\n",
    "        self.i_shape = input_shape\n",
    "\n",
    "        kernel_shape_conv3d = (self.channels, 3, 3) + (1, self.multiheads) # DHWC\n",
    "    \n",
    "        self.out_attention_maps_shape = input_shape[0:1]+(self.multiheads,)+input_shape[1:-1]\n",
    "        \n",
    "        if self.aggregate_channels==False:\n",
    "\n",
    "            self.out_features_shape = input_shape[:-1]+(input_shape[-1]+(input_shape[-1]*self.multiheads),)\n",
    "        else:\n",
    "            if self.concat_input_with_scaled:\n",
    "                self.out_features_shape = input_shape[:-1]+(input_shape[-1]*2,)\n",
    "            else:\n",
    "                self.out_features_shape = input_shape\n",
    "        \n",
    "\n",
    "        self.kernel_conv3d = self.add_weight(shape=kernel_shape_conv3d,\n",
    "                                        initializer='he_uniform',\n",
    "                                        name='kernel_conv3d')\n",
    "        self.bias_conv3d = self.add_weight(shape=(self.multiheads,),\n",
    "                                      initializer='zeros',\n",
    "                                      name='bias_conv3d')\n",
    "\n",
    "        super(SoftAttention, self).build(input_shape)\n",
    "\n",
    "    def call(self, x):\n",
    "\n",
    "        exp_x = K.expand_dims(x,axis=-1)\n",
    "\n",
    "        c3d = K.conv3d(exp_x,\n",
    "                     kernel=self.kernel_conv3d,\n",
    "                     strides=(1,1,self.i_shape[-1]), padding='same', data_format='channels_last')\n",
    "        conv3d = K.bias_add(c3d,\n",
    "                        self.bias_conv3d)\n",
    "        conv3d = kl.Activation('relu')(conv3d)\n",
    "\n",
    "        conv3d = K.permute_dimensions(conv3d,pattern=(0,4,1,2,3))\n",
    "\n",
    "        \n",
    "        conv3d = K.squeeze(conv3d, axis=-1)\n",
    "        conv3d = K.reshape(conv3d,shape=(-1, self.multiheads ,self.i_shape[1]*self.i_shape[2]))\n",
    "\n",
    "        softmax_alpha = K.softmax(conv3d, axis=-1) \n",
    "        softmax_alpha = kl.Reshape(target_shape=(self.multiheads, self.i_shape[1],self.i_shape[2]))(softmax_alpha)\n",
    "\n",
    "        \n",
    "        if self.aggregate_channels==False:\n",
    "            exp_softmax_alpha = K.expand_dims(softmax_alpha, axis=-1)       \n",
    "            exp_softmax_alpha = K.permute_dimensions(exp_softmax_alpha,pattern=(0,2,3,1,4))\n",
    "   \n",
    "            x_exp = K.expand_dims(x,axis=-2)\n",
    "   \n",
    "            u = kl.Multiply()([exp_softmax_alpha, x_exp])   \n",
    "  \n",
    "            u = kl.Reshape(target_shape=(self.i_shape[1],self.i_shape[2],u.shape[-1]*u.shape[-2]))(u)\n",
    "\n",
    "        else:\n",
    "            exp_softmax_alpha = K.permute_dimensions(softmax_alpha,pattern=(0,2,3,1))\n",
    "\n",
    "            exp_softmax_alpha = K.sum(exp_softmax_alpha,axis=-1)\n",
    "\n",
    "            exp_softmax_alpha = K.expand_dims(exp_softmax_alpha, axis=-1)\n",
    "\n",
    "            u = kl.Multiply()([exp_softmax_alpha, x])   \n",
    "\n",
    "        if self.concat_input_with_scaled:\n",
    "            o = kl.Concatenate(axis=-1)([u,x])\n",
    "        else:\n",
    "            o = u\n",
    "        \n",
    "        return [o, softmax_alpha]\n",
    "\n",
    "    def compute_output_shape(self, input_shape): \n",
    "        return [self.out_features_shape, self.out_attention_maps_shape]\n",
    "\n",
    "    \n",
    "    def get_config(self):\n",
    "        return super(SoftAttention,self).get_config()\n",
    " "
   ]
  },
  {
   "cell_type": "markdown",
   "id": "d3c9c771",
   "metadata": {
    "papermill": {
     "duration": 0.014793,
     "end_time": "2023-05-29T10:57:21.941536",
     "exception": false,
     "start_time": "2023-05-29T10:57:21.926743",
     "status": "completed"
    },
    "tags": []
   },
   "source": [
    "### Define Model"
   ]
  },
  {
   "cell_type": "code",
   "execution_count": 7,
   "id": "0f362467",
   "metadata": {
    "execution": {
     "iopub.execute_input": "2023-05-29T10:57:21.972740Z",
     "iopub.status.busy": "2023-05-29T10:57:21.971799Z",
     "iopub.status.idle": "2023-05-29T10:57:28.547461Z",
     "shell.execute_reply": "2023-05-29T10:57:28.546439Z"
    },
    "id": "zhQWqdRN79B3",
    "papermill": {
     "duration": 6.593855,
     "end_time": "2023-05-29T10:57:28.549946",
     "exception": false,
     "start_time": "2023-05-29T10:57:21.956091",
     "status": "completed"
    },
    "tags": []
   },
   "outputs": [
    {
     "name": "stdout",
     "output_type": "stream",
     "text": [
      "Downloading data from https://storage.googleapis.com/tensorflow/keras-applications/densenet/densenet121_weights_tf_dim_ordering_tf_kernels_notop.h5\n",
      "29084464/29084464 [==============================] - 0s 0us/step\n"
     ]
    }
   ],
   "source": [
    "from tensorflow.keras.applications.densenet import DenseNet121\n",
    "# Create a new instance of DenseNet121\n",
    "DN121 = DenseNet121(weights='imagenet', include_top=False, input_shape=(image_size, image_size, 3), pooling='avg')"
   ]
  },
  {
   "cell_type": "markdown",
   "id": "bd8abe3d",
   "metadata": {
    "papermill": {
     "duration": 0.015008,
     "end_time": "2023-05-29T10:57:28.580371",
     "exception": false,
     "start_time": "2023-05-29T10:57:28.565363",
     "status": "completed"
    },
    "tags": []
   },
   "source": [
    "## Fine tuning"
   ]
  },
  {
   "cell_type": "code",
   "execution_count": 8,
   "id": "3c32e55b",
   "metadata": {
    "execution": {
     "iopub.execute_input": "2023-05-29T10:57:28.612743Z",
     "iopub.status.busy": "2023-05-29T10:57:28.611902Z",
     "iopub.status.idle": "2023-05-29T10:57:28.618314Z",
     "shell.execute_reply": "2023-05-29T10:57:28.617246Z"
    },
    "id": "4d4Ta5LcSYaz",
    "papermill": {
     "duration": 0.025128,
     "end_time": "2023-05-29T10:57:28.620773",
     "exception": false,
     "start_time": "2023-05-29T10:57:28.595645",
     "status": "completed"
    },
    "tags": []
   },
   "outputs": [],
   "source": [
    "MainInput=Input(shape=(image_size, image_size, 3))"
   ]
  },
  {
   "cell_type": "code",
   "execution_count": 9,
   "id": "dbed299f",
   "metadata": {
    "execution": {
     "iopub.execute_input": "2023-05-29T10:57:28.652813Z",
     "iopub.status.busy": "2023-05-29T10:57:28.651923Z",
     "iopub.status.idle": "2023-05-29T10:57:29.580682Z",
     "shell.execute_reply": "2023-05-29T10:57:29.579726Z"
    },
    "papermill": {
     "duration": 0.947101,
     "end_time": "2023-05-29T10:57:29.583084",
     "exception": false,
     "start_time": "2023-05-29T10:57:28.635983",
     "status": "completed"
    },
    "tags": []
   },
   "outputs": [],
   "source": [
    "dn121 = DN121(MainInput)"
   ]
  },
  {
   "cell_type": "code",
   "execution_count": 10,
   "id": "f007f7cc",
   "metadata": {
    "execution": {
     "iopub.execute_input": "2023-05-29T10:57:29.614978Z",
     "iopub.status.busy": "2023-05-29T10:57:29.614659Z",
     "iopub.status.idle": "2023-05-29T10:57:29.630825Z",
     "shell.execute_reply": "2023-05-29T10:57:29.629947Z"
    },
    "papermill": {
     "duration": 0.034496,
     "end_time": "2023-05-29T10:57:29.632939",
     "exception": false,
     "start_time": "2023-05-29T10:57:29.598443",
     "status": "completed"
    },
    "tags": []
   },
   "outputs": [],
   "source": [
    "# Reshape the tensor to have 4 dimensions\n",
    "from tensorflow.keras.layers import Reshape\n",
    "reshape = Reshape((16, 16, 4))(dn121)"
   ]
  },
  {
   "cell_type": "code",
   "execution_count": 11,
   "id": "e77a6655",
   "metadata": {
    "execution": {
     "iopub.execute_input": "2023-05-29T10:57:29.665189Z",
     "iopub.status.busy": "2023-05-29T10:57:29.664871Z",
     "iopub.status.idle": "2023-05-29T10:57:29.760108Z",
     "shell.execute_reply": "2023-05-29T10:57:29.759172Z"
    },
    "id": "x8mS99J5SYbT",
    "papermill": {
     "duration": 0.11432,
     "end_time": "2023-05-29T10:57:29.762463",
     "exception": false,
     "start_time": "2023-05-29T10:57:29.648143",
     "status": "completed"
    },
    "tags": []
   },
   "outputs": [],
   "source": [
    "# Add convolutional layers with Channel Attention\n",
    "conv = Conv2D(filters=128, kernel_size=(7, 7), activation=\"relu\", padding=\"same\", kernel_initializer='he_normal')(reshape)\n",
    "conv = BatchNormalization()(conv)\n",
    "conv = Conv2D(filters=128, kernel_size=(5, 5), activation=\"relu\", padding=\"same\", kernel_initializer='he_normal')(conv)\n",
    "conv = BatchNormalization()(conv)\n",
    "conv = Conv2D(filters=128, kernel_size=(3, 3), activation=\"relu\", padding=\"same\", kernel_initializer='he_normal')(conv)\n",
    "conv = BatchNormalization()(conv)\n",
    "conv = Conv2D(filters=128, kernel_size=(1, 1), activation=\"relu\", padding=\"same\", kernel_initializer='he_normal')(conv)\n",
    "conv = BatchNormalization()(conv)"
   ]
  },
  {
   "cell_type": "code",
   "execution_count": 12,
   "id": "dc265654",
   "metadata": {
    "execution": {
     "iopub.execute_input": "2023-05-29T10:57:29.795785Z",
     "iopub.status.busy": "2023-05-29T10:57:29.794231Z",
     "iopub.status.idle": "2023-05-29T10:57:30.127819Z",
     "shell.execute_reply": "2023-05-29T10:57:30.126878Z"
    },
    "papermill": {
     "duration": 0.352287,
     "end_time": "2023-05-29T10:57:30.130246",
     "exception": false,
     "start_time": "2023-05-29T10:57:29.777959",
     "status": "completed"
    },
    "tags": []
   },
   "outputs": [],
   "source": [
    "attention_layer,map2 = SoftAttention(aggregate=True,m=16,concat_with_x=False,ch=int(conv.shape[-1]),name='soft_attention')(conv)\n",
    "attention_layer=(MaxPooling2D(pool_size=(2, 2),padding=\"same\")(attention_layer))\n",
    "conv=(MaxPooling2D(pool_size=(2, 2),padding=\"same\")(conv))\n",
    "\n",
    "conv = concatenate([conv,attention_layer])\n",
    "conv  = Activation('relu')(conv)\n",
    "conv = Dropout(0.5)(conv)"
   ]
  },
  {
   "cell_type": "code",
   "execution_count": 13,
   "id": "29b30829",
   "metadata": {
    "execution": {
     "iopub.execute_input": "2023-05-29T10:57:30.163289Z",
     "iopub.status.busy": "2023-05-29T10:57:30.161712Z",
     "iopub.status.idle": "2023-05-29T10:57:30.255996Z",
     "shell.execute_reply": "2023-05-29T10:57:30.255085Z"
    },
    "id": "sW4tKg9wSYbk",
    "papermill": {
     "duration": 0.11294,
     "end_time": "2023-05-29T10:57:30.258420",
     "exception": false,
     "start_time": "2023-05-29T10:57:30.145480",
     "status": "completed"
    },
    "tags": []
   },
   "outputs": [],
   "source": [
    "conv = Conv2D(filters=256,kernel_size=(7,7), activation=\"relu\",padding=\"same\",kernel_initializer='he_normal')(conv)\n",
    "conv = BatchNormalization()(conv)\n",
    "conv = Conv2D(filters=256,kernel_size=(5,5), activation=\"relu\",padding=\"same\",kernel_initializer='he_normal')(conv)\n",
    "conv = BatchNormalization()(conv)\n",
    "conv = Conv2D(filters=256,kernel_size=(3,3), activation=\"relu\",padding=\"same\",kernel_initializer='he_normal')(conv)\n",
    "conv = BatchNormalization()(conv)\n",
    "conv = Conv2D(filters=256,kernel_size=(1,1), activation=\"relu\",padding=\"same\",kernel_initializer='he_normal')(conv)\n",
    "conv = BatchNormalization()(conv)"
   ]
  },
  {
   "cell_type": "code",
   "execution_count": 14,
   "id": "9726b477",
   "metadata": {
    "execution": {
     "iopub.execute_input": "2023-05-29T10:57:30.290777Z",
     "iopub.status.busy": "2023-05-29T10:57:30.290449Z",
     "iopub.status.idle": "2023-05-29T10:57:30.341914Z",
     "shell.execute_reply": "2023-05-29T10:57:30.340951Z"
    },
    "papermill": {
     "duration": 0.070509,
     "end_time": "2023-05-29T10:57:30.344366",
     "exception": false,
     "start_time": "2023-05-29T10:57:30.273857",
     "status": "completed"
    },
    "tags": []
   },
   "outputs": [],
   "source": [
    "attention_layer,map2 = SoftAttention(aggregate=True,m=16,concat_with_x=False,ch=int(conv.shape[-1]),name='soft_attention_2')(conv)\n",
    "attention_layer=(MaxPooling2D(pool_size=(2, 2),padding=\"same\")(attention_layer))\n",
    "conv=(MaxPooling2D(pool_size=(2, 2),padding=\"same\")(conv))\n",
    "\n",
    "conv = concatenate([conv,attention_layer])\n",
    "conv  = Activation('relu')(conv)\n",
    "conv = Dropout(0.5)(conv)"
   ]
  },
  {
   "cell_type": "code",
   "execution_count": 15,
   "id": "afed404f",
   "metadata": {
    "execution": {
     "iopub.execute_input": "2023-05-29T10:57:30.377244Z",
     "iopub.status.busy": "2023-05-29T10:57:30.376127Z",
     "iopub.status.idle": "2023-05-29T10:57:30.382255Z",
     "shell.execute_reply": "2023-05-29T10:57:30.381051Z"
    },
    "papermill": {
     "duration": 0.02449,
     "end_time": "2023-05-29T10:57:30.384335",
     "exception": false,
     "start_time": "2023-05-29T10:57:30.359845",
     "status": "completed"
    },
    "tags": []
   },
   "outputs": [
    {
     "name": "stdout",
     "output_type": "stream",
     "text": [
      "7\n"
     ]
    }
   ],
   "source": [
    "num_classes = test_batches.num_classes\n",
    "print(num_classes)"
   ]
  },
  {
   "cell_type": "code",
   "execution_count": 16,
   "id": "e190dc4a",
   "metadata": {
    "execution": {
     "iopub.execute_input": "2023-05-29T10:57:30.418232Z",
     "iopub.status.busy": "2023-05-29T10:57:30.417908Z",
     "iopub.status.idle": "2023-05-29T10:57:30.474230Z",
     "shell.execute_reply": "2023-05-29T10:57:30.473263Z"
    },
    "id": "-EdFxKdgSYcf",
    "papermill": {
     "duration": 0.075399,
     "end_time": "2023-05-29T10:57:30.476750",
     "exception": false,
     "start_time": "2023-05-29T10:57:30.401351",
     "status": "completed"
    },
    "tags": []
   },
   "outputs": [],
   "source": [
    "conv=(Flatten()(conv))\n",
    "conv=(Dense(1024,activation=\"relu\")(conv))\n",
    "conv = Dropout(0.5)(conv)\n",
    "conv=(Dense(512,activation=\"relu\")(conv))\n",
    "conv = Dropout(0.25)(conv)\n",
    "conv=(Dense(num_classes, activation=\"softmax\")(conv))\n",
    "\n",
    "model_dn121_sa = Model(inputs=MainInput, outputs=conv)"
   ]
  },
  {
   "cell_type": "code",
   "execution_count": 17,
   "id": "727eeabf",
   "metadata": {
    "execution": {
     "iopub.execute_input": "2023-05-29T10:57:30.509320Z",
     "iopub.status.busy": "2023-05-29T10:57:30.508971Z",
     "iopub.status.idle": "2023-05-29T10:57:30.653801Z",
     "shell.execute_reply": "2023-05-29T10:57:30.653021Z"
    },
    "id": "ba8ajOckSYcl",
    "outputId": "e69fa749-4741-4f49-ae3e-9f5479e809a8",
    "papermill": {
     "duration": 0.173129,
     "end_time": "2023-05-29T10:57:30.665493",
     "exception": false,
     "start_time": "2023-05-29T10:57:30.492364",
     "status": "completed"
    },
    "tags": []
   },
   "outputs": [
    {
     "name": "stdout",
     "output_type": "stream",
     "text": [
      "Model: \"model\"\n",
      "__________________________________________________________________________________________________\n",
      " Layer (type)                   Output Shape         Param #     Connected to                     \n",
      "==================================================================================================\n",
      " input_2 (InputLayer)           [(None, 224, 224, 3  0           []                               \n",
      "                                )]                                                                \n",
      "                                                                                                  \n",
      " densenet121 (Functional)       (None, 1024)         7037504     ['input_2[0][0]']                \n",
      "                                                                                                  \n",
      " reshape (Reshape)              (None, 16, 16, 4)    0           ['densenet121[0][0]']            \n",
      "                                                                                                  \n",
      " conv2d (Conv2D)                (None, 16, 16, 128)  25216       ['reshape[0][0]']                \n",
      "                                                                                                  \n",
      " batch_normalization (BatchNorm  (None, 16, 16, 128)  512        ['conv2d[0][0]']                 \n",
      " alization)                                                                                       \n",
      "                                                                                                  \n",
      " conv2d_1 (Conv2D)              (None, 16, 16, 128)  409728      ['batch_normalization[0][0]']    \n",
      "                                                                                                  \n",
      " batch_normalization_1 (BatchNo  (None, 16, 16, 128)  512        ['conv2d_1[0][0]']               \n",
      " rmalization)                                                                                     \n",
      "                                                                                                  \n",
      " conv2d_2 (Conv2D)              (None, 16, 16, 128)  147584      ['batch_normalization_1[0][0]']  \n",
      "                                                                                                  \n",
      " batch_normalization_2 (BatchNo  (None, 16, 16, 128)  512        ['conv2d_2[0][0]']               \n",
      " rmalization)                                                                                     \n",
      "                                                                                                  \n",
      " conv2d_3 (Conv2D)              (None, 16, 16, 128)  16512       ['batch_normalization_2[0][0]']  \n",
      "                                                                                                  \n",
      " batch_normalization_3 (BatchNo  (None, 16, 16, 128)  512        ['conv2d_3[0][0]']               \n",
      " rmalization)                                                                                     \n",
      "                                                                                                  \n",
      " soft_attention (SoftAttention)  [(None, 16, 16, 128  18448      ['batch_normalization_3[0][0]']  \n",
      "                                ),                                                                \n",
      "                                 (None, 16, 16, 16)                                               \n",
      "                                ]                                                                 \n",
      "                                                                                                  \n",
      " max_pooling2d_1 (MaxPooling2D)  (None, 8, 8, 128)   0           ['batch_normalization_3[0][0]']  \n",
      "                                                                                                  \n",
      " max_pooling2d (MaxPooling2D)   (None, 8, 8, 128)    0           ['soft_attention[0][0]']         \n",
      "                                                                                                  \n",
      " concatenate (Concatenate)      (None, 8, 8, 256)    0           ['max_pooling2d_1[0][0]',        \n",
      "                                                                  'max_pooling2d[0][0]']          \n",
      "                                                                                                  \n",
      " activation (Activation)        (None, 8, 8, 256)    0           ['concatenate[0][0]']            \n",
      "                                                                                                  \n",
      " dropout (Dropout)              (None, 8, 8, 256)    0           ['activation[0][0]']             \n",
      "                                                                                                  \n",
      " conv2d_4 (Conv2D)              (None, 8, 8, 256)    3211520     ['dropout[0][0]']                \n",
      "                                                                                                  \n",
      " batch_normalization_4 (BatchNo  (None, 8, 8, 256)   1024        ['conv2d_4[0][0]']               \n",
      " rmalization)                                                                                     \n",
      "                                                                                                  \n",
      " conv2d_5 (Conv2D)              (None, 8, 8, 256)    1638656     ['batch_normalization_4[0][0]']  \n",
      "                                                                                                  \n",
      " batch_normalization_5 (BatchNo  (None, 8, 8, 256)   1024        ['conv2d_5[0][0]']               \n",
      " rmalization)                                                                                     \n",
      "                                                                                                  \n",
      " conv2d_6 (Conv2D)              (None, 8, 8, 256)    590080      ['batch_normalization_5[0][0]']  \n",
      "                                                                                                  \n",
      " batch_normalization_6 (BatchNo  (None, 8, 8, 256)   1024        ['conv2d_6[0][0]']               \n",
      " rmalization)                                                                                     \n",
      "                                                                                                  \n",
      " conv2d_7 (Conv2D)              (None, 8, 8, 256)    65792       ['batch_normalization_6[0][0]']  \n",
      "                                                                                                  \n",
      " batch_normalization_7 (BatchNo  (None, 8, 8, 256)   1024        ['conv2d_7[0][0]']               \n",
      " rmalization)                                                                                     \n",
      "                                                                                                  \n",
      " soft_attention_2 (SoftAttentio  [(None, 8, 8, 256),  36880      ['batch_normalization_7[0][0]']  \n",
      " n)                              (None, 16, 8, 8)]                                                \n",
      "                                                                                                  \n",
      " max_pooling2d_3 (MaxPooling2D)  (None, 4, 4, 256)   0           ['batch_normalization_7[0][0]']  \n",
      "                                                                                                  \n",
      " max_pooling2d_2 (MaxPooling2D)  (None, 4, 4, 256)   0           ['soft_attention_2[0][0]']       \n",
      "                                                                                                  \n",
      " concatenate_1 (Concatenate)    (None, 4, 4, 512)    0           ['max_pooling2d_3[0][0]',        \n",
      "                                                                  'max_pooling2d_2[0][0]']        \n",
      "                                                                                                  \n",
      " activation_1 (Activation)      (None, 4, 4, 512)    0           ['concatenate_1[0][0]']          \n",
      "                                                                                                  \n",
      " dropout_1 (Dropout)            (None, 4, 4, 512)    0           ['activation_1[0][0]']           \n",
      "                                                                                                  \n",
      " flatten (Flatten)              (None, 8192)         0           ['dropout_1[0][0]']              \n",
      "                                                                                                  \n",
      " dense (Dense)                  (None, 1024)         8389632     ['flatten[0][0]']                \n",
      "                                                                                                  \n",
      " dropout_2 (Dropout)            (None, 1024)         0           ['dense[0][0]']                  \n",
      "                                                                                                  \n",
      " dense_1 (Dense)                (None, 512)          524800      ['dropout_2[0][0]']              \n",
      "                                                                                                  \n",
      " dropout_3 (Dropout)            (None, 512)          0           ['dense_1[0][0]']                \n",
      "                                                                                                  \n",
      " dense_2 (Dense)                (None, 7)            3591        ['dropout_3[0][0]']              \n",
      "                                                                                                  \n",
      "==================================================================================================\n",
      "Total params: 22,122,087\n",
      "Trainable params: 22,035,367\n",
      "Non-trainable params: 86,720\n",
      "__________________________________________________________________________________________________\n"
     ]
    }
   ],
   "source": [
    "model_dn121_sa.summary()"
   ]
  },
  {
   "cell_type": "code",
   "execution_count": 18,
   "id": "7faedce7",
   "metadata": {
    "execution": {
     "iopub.execute_input": "2023-05-29T10:57:30.712061Z",
     "iopub.status.busy": "2023-05-29T10:57:30.711685Z",
     "iopub.status.idle": "2023-05-29T10:57:30.742248Z",
     "shell.execute_reply": "2023-05-29T10:57:30.741292Z"
    },
    "id": "WR0fUpy18vAZ",
    "papermill": {
     "duration": 0.056247,
     "end_time": "2023-05-29T10:57:30.744319",
     "exception": false,
     "start_time": "2023-05-29T10:57:30.688072",
     "status": "completed"
    },
    "tags": []
   },
   "outputs": [],
   "source": [
    "opt1=tf.keras.optimizers.Adam(learning_rate=0.001,epsilon=0.1)\n",
    "model_dn121_sa.compile(optimizer=opt1,\n",
    "             loss='categorical_crossentropy',\n",
    "             metrics=['accuracy'])"
   ]
  },
  {
   "cell_type": "code",
   "execution_count": 19,
   "id": "106e5b12",
   "metadata": {
    "execution": {
     "iopub.execute_input": "2023-05-29T10:57:30.792567Z",
     "iopub.status.busy": "2023-05-29T10:57:30.792260Z",
     "iopub.status.idle": "2023-05-29T10:57:30.797307Z",
     "shell.execute_reply": "2023-05-29T10:57:30.796292Z"
    },
    "id": "LAf5ha295reS",
    "papermill": {
     "duration": 0.031173,
     "end_time": "2023-05-29T10:57:30.799282",
     "exception": false,
     "start_time": "2023-05-29T10:57:30.768109",
     "status": "completed"
    },
    "tags": []
   },
   "outputs": [],
   "source": [
    "class_weights = {   \n",
    "                    0: 1.0,  # akiec\n",
    "                    1: 1.0,  # bcc\n",
    "                    2: 1.0,  # bkl\n",
    "                    3: 1.0,  # df\n",
    "                    4: 1.0,  # mel\n",
    "                    5: 1.0,  # nv\n",
    "                    6: 1.0  # vasc\n",
    "                }"
   ]
  },
  {
   "cell_type": "code",
   "execution_count": 20,
   "id": "f8897b73",
   "metadata": {
    "execution": {
     "iopub.execute_input": "2023-05-29T10:57:30.845043Z",
     "iopub.status.busy": "2023-05-29T10:57:30.844719Z",
     "iopub.status.idle": "2023-05-29T10:57:30.849943Z",
     "shell.execute_reply": "2023-05-29T10:57:30.848963Z"
    },
    "papermill": {
     "duration": 0.030207,
     "end_time": "2023-05-29T10:57:30.851937",
     "exception": false,
     "start_time": "2023-05-29T10:57:30.821730",
     "status": "completed"
    },
    "tags": []
   },
   "outputs": [],
   "source": [
    "checkpoint = ModelCheckpoint(filepath ='DN121_SA.hdf5', monitor='val_accuracy', save_best_only=True, save_weights_only=True)\n",
    "Earlystop = EarlyStopping(monitor='val_accuracy', mode='max', patience=25, min_delta=0.01)"
   ]
  },
  {
   "cell_type": "code",
   "execution_count": 21,
   "id": "8b9bf253",
   "metadata": {
    "execution": {
     "iopub.execute_input": "2023-05-29T10:57:30.897453Z",
     "iopub.status.busy": "2023-05-29T10:57:30.897142Z",
     "iopub.status.idle": "2023-05-29T18:45:17.857986Z",
     "shell.execute_reply": "2023-05-29T18:45:17.856999Z"
    },
    "id": "NUzTmiZ-8hL3",
    "outputId": "e1825ff2-9f9c-436f-cf2c-9776af8eee62",
    "papermill": {
     "duration": 28066.986654,
     "end_time": "2023-05-29T18:45:17.860514",
     "exception": false,
     "start_time": "2023-05-29T10:57:30.873860",
     "status": "completed"
    },
    "tags": []
   },
   "outputs": [
    {
     "name": "stdout",
     "output_type": "stream",
     "text": [
      "Epoch 1/50\n"
     ]
    },
    {
     "name": "stderr",
     "output_type": "stream",
     "text": [
      "2023-05-29 10:57:59.330254: E tensorflow/core/grappler/optimizers/meta_optimizer.cc:954] layout failed: INVALID_ARGUMENT: Size of values 0 does not match size of permutation 4 @ fanin shape inmodel/dropout/dropout/SelectV2-2-TransposeNHWCToNCHW-LayoutOptimizer\n"
     ]
    },
    {
     "name": "stdout",
     "output_type": "stream",
     "text": [
      "3424/3424 - 655s - loss: 1.2732 - accuracy: 0.5155 - val_loss: 0.4066 - val_accuracy: 0.8646 - 655s/epoch - 191ms/step\n",
      "Epoch 2/50\n",
      "3424/3424 - 556s - loss: 0.5566 - accuracy: 0.8048 - val_loss: 0.3645 - val_accuracy: 0.8996 - 556s/epoch - 162ms/step\n",
      "Epoch 3/50\n",
      "3424/3424 - 555s - loss: 0.3487 - accuracy: 0.8776 - val_loss: 0.3600 - val_accuracy: 0.8936 - 555s/epoch - 162ms/step\n",
      "Epoch 4/50\n",
      "3424/3424 - 563s - loss: 0.2506 - accuracy: 0.9140 - val_loss: 0.4257 - val_accuracy: 0.8827 - 563s/epoch - 164ms/step\n",
      "Epoch 5/50\n",
      "3424/3424 - 557s - loss: 0.1906 - accuracy: 0.9343 - val_loss: 0.3801 - val_accuracy: 0.8996 - 557s/epoch - 163ms/step\n",
      "Epoch 6/50\n",
      "3424/3424 - 551s - loss: 0.1455 - accuracy: 0.9501 - val_loss: 0.4837 - val_accuracy: 0.8948 - 551s/epoch - 161ms/step\n",
      "Epoch 7/50\n",
      "3424/3424 - 553s - loss: 0.1217 - accuracy: 0.9591 - val_loss: 0.4117 - val_accuracy: 0.8960 - 553s/epoch - 161ms/step\n",
      "Epoch 8/50\n",
      "3424/3424 - 551s - loss: 0.0979 - accuracy: 0.9666 - val_loss: 0.4604 - val_accuracy: 0.8996 - 551s/epoch - 161ms/step\n",
      "Epoch 9/50\n",
      "3424/3424 - 551s - loss: 0.0854 - accuracy: 0.9719 - val_loss: 0.4108 - val_accuracy: 0.9105 - 551s/epoch - 161ms/step\n",
      "Epoch 10/50\n",
      "3424/3424 - 549s - loss: 0.0683 - accuracy: 0.9770 - val_loss: 0.4421 - val_accuracy: 0.9129 - 549s/epoch - 160ms/step\n",
      "Epoch 11/50\n",
      "3424/3424 - 546s - loss: 0.0620 - accuracy: 0.9791 - val_loss: 0.4393 - val_accuracy: 0.9057 - 546s/epoch - 160ms/step\n",
      "Epoch 12/50\n",
      "3424/3424 - 548s - loss: 0.0573 - accuracy: 0.9813 - val_loss: 0.4784 - val_accuracy: 0.9045 - 548s/epoch - 160ms/step\n",
      "Epoch 13/50\n",
      "3424/3424 - 550s - loss: 0.0452 - accuracy: 0.9854 - val_loss: 0.5952 - val_accuracy: 0.8972 - 550s/epoch - 161ms/step\n",
      "Epoch 14/50\n",
      "3424/3424 - 549s - loss: 0.0430 - accuracy: 0.9857 - val_loss: 0.5305 - val_accuracy: 0.8888 - 549s/epoch - 160ms/step\n",
      "Epoch 15/50\n",
      "3424/3424 - 550s - loss: 0.0361 - accuracy: 0.9880 - val_loss: 0.4538 - val_accuracy: 0.9045 - 550s/epoch - 161ms/step\n",
      "Epoch 16/50\n",
      "3424/3424 - 553s - loss: 0.0307 - accuracy: 0.9898 - val_loss: 0.4728 - val_accuracy: 0.9105 - 553s/epoch - 161ms/step\n",
      "Epoch 17/50\n",
      "3424/3424 - 554s - loss: 0.0280 - accuracy: 0.9909 - val_loss: 0.5083 - val_accuracy: 0.9141 - 554s/epoch - 162ms/step\n",
      "Epoch 18/50\n",
      "3424/3424 - 552s - loss: 0.0282 - accuracy: 0.9905 - val_loss: 0.5174 - val_accuracy: 0.9154 - 552s/epoch - 161ms/step\n",
      "Epoch 19/50\n",
      "3424/3424 - 555s - loss: 0.0278 - accuracy: 0.9917 - val_loss: 0.4477 - val_accuracy: 0.9166 - 555s/epoch - 162ms/step\n",
      "Epoch 20/50\n",
      "3424/3424 - 553s - loss: 0.0243 - accuracy: 0.9922 - val_loss: 0.5665 - val_accuracy: 0.9021 - 553s/epoch - 161ms/step\n",
      "Epoch 21/50\n",
      "3424/3424 - 550s - loss: 0.0213 - accuracy: 0.9931 - val_loss: 0.4925 - val_accuracy: 0.9093 - 550s/epoch - 161ms/step\n",
      "Epoch 22/50\n",
      "3424/3424 - 551s - loss: 0.0244 - accuracy: 0.9921 - val_loss: 0.4164 - val_accuracy: 0.9021 - 551s/epoch - 161ms/step\n",
      "Epoch 23/50\n",
      "3424/3424 - 550s - loss: 0.0181 - accuracy: 0.9939 - val_loss: 0.5093 - val_accuracy: 0.9057 - 550s/epoch - 161ms/step\n",
      "Epoch 24/50\n",
      "3424/3424 - 555s - loss: 0.0175 - accuracy: 0.9945 - val_loss: 0.5402 - val_accuracy: 0.9069 - 555s/epoch - 162ms/step\n",
      "Epoch 25/50\n",
      "3424/3424 - 552s - loss: 0.0172 - accuracy: 0.9947 - val_loss: 0.5140 - val_accuracy: 0.8960 - 552s/epoch - 161ms/step\n",
      "Epoch 26/50\n",
      "3424/3424 - 555s - loss: 0.0149 - accuracy: 0.9953 - val_loss: 0.5239 - val_accuracy: 0.9093 - 555s/epoch - 162ms/step\n",
      "Epoch 27/50\n",
      "3424/3424 - 553s - loss: 0.0181 - accuracy: 0.9943 - val_loss: 0.4856 - val_accuracy: 0.9154 - 553s/epoch - 162ms/step\n",
      "Epoch 28/50\n",
      "3424/3424 - 555s - loss: 0.0139 - accuracy: 0.9955 - val_loss: 0.5287 - val_accuracy: 0.8984 - 555s/epoch - 162ms/step\n",
      "Epoch 29/50\n",
      "3424/3424 - 554s - loss: 0.0141 - accuracy: 0.9955 - val_loss: 0.4684 - val_accuracy: 0.9045 - 554s/epoch - 162ms/step\n",
      "Epoch 30/50\n",
      "3424/3424 - 558s - loss: 0.0109 - accuracy: 0.9964 - val_loss: 0.4425 - val_accuracy: 0.9274 - 558s/epoch - 163ms/step\n",
      "Epoch 31/50\n",
      "3424/3424 - 553s - loss: 0.0124 - accuracy: 0.9959 - val_loss: 0.4919 - val_accuracy: 0.9190 - 553s/epoch - 162ms/step\n",
      "Epoch 32/50\n",
      "3424/3424 - 549s - loss: 0.0125 - accuracy: 0.9961 - val_loss: 0.6101 - val_accuracy: 0.9033 - 549s/epoch - 160ms/step\n",
      "Epoch 33/50\n",
      "3424/3424 - 545s - loss: 0.0110 - accuracy: 0.9963 - val_loss: 0.5096 - val_accuracy: 0.9057 - 545s/epoch - 159ms/step\n",
      "Epoch 34/50\n",
      "3424/3424 - 548s - loss: 0.0115 - accuracy: 0.9963 - val_loss: 0.5296 - val_accuracy: 0.9069 - 548s/epoch - 160ms/step\n",
      "Epoch 35/50\n",
      "3424/3424 - 552s - loss: 0.0093 - accuracy: 0.9968 - val_loss: 0.5524 - val_accuracy: 0.9141 - 552s/epoch - 161ms/step\n",
      "Epoch 36/50\n",
      "3424/3424 - 553s - loss: 0.0117 - accuracy: 0.9963 - val_loss: 0.6044 - val_accuracy: 0.9081 - 553s/epoch - 161ms/step\n",
      "Epoch 37/50\n",
      "3424/3424 - 550s - loss: 0.0116 - accuracy: 0.9968 - val_loss: 0.5245 - val_accuracy: 0.9081 - 550s/epoch - 161ms/step\n",
      "Epoch 38/50\n",
      "3424/3424 - 552s - loss: 0.0083 - accuracy: 0.9973 - val_loss: 0.5662 - val_accuracy: 0.9117 - 552s/epoch - 161ms/step\n",
      "Epoch 39/50\n",
      "3424/3424 - 550s - loss: 0.0076 - accuracy: 0.9976 - val_loss: 0.5478 - val_accuracy: 0.9129 - 550s/epoch - 160ms/step\n",
      "Epoch 40/50\n",
      "3424/3424 - 554s - loss: 0.0096 - accuracy: 0.9971 - val_loss: 0.4276 - val_accuracy: 0.9105 - 554s/epoch - 162ms/step\n",
      "Epoch 41/50\n",
      "3424/3424 - 552s - loss: 0.0084 - accuracy: 0.9974 - val_loss: 0.5038 - val_accuracy: 0.9202 - 552s/epoch - 161ms/step\n",
      "Epoch 42/50\n",
      "3424/3424 - 552s - loss: 0.0074 - accuracy: 0.9979 - val_loss: 0.5761 - val_accuracy: 0.9129 - 552s/epoch - 161ms/step\n",
      "Epoch 43/50\n",
      "3424/3424 - 552s - loss: 0.0094 - accuracy: 0.9968 - val_loss: 0.5473 - val_accuracy: 0.9129 - 552s/epoch - 161ms/step\n",
      "Epoch 44/50\n",
      "3424/3424 - 552s - loss: 0.0086 - accuracy: 0.9973 - val_loss: 0.5541 - val_accuracy: 0.9081 - 552s/epoch - 161ms/step\n",
      "Epoch 45/50\n",
      "3424/3424 - 552s - loss: 0.0068 - accuracy: 0.9979 - val_loss: 0.5991 - val_accuracy: 0.9008 - 552s/epoch - 161ms/step\n",
      "Epoch 46/50\n",
      "3424/3424 - 552s - loss: 0.0092 - accuracy: 0.9973 - val_loss: 0.5631 - val_accuracy: 0.9081 - 552s/epoch - 161ms/step\n",
      "Epoch 47/50\n",
      "3424/3424 - 550s - loss: 0.0078 - accuracy: 0.9975 - val_loss: 0.5214 - val_accuracy: 0.9069 - 550s/epoch - 161ms/step\n",
      "Epoch 48/50\n",
      "3424/3424 - 552s - loss: 0.0067 - accuracy: 0.9979 - val_loss: 0.4969 - val_accuracy: 0.9129 - 552s/epoch - 161ms/step\n",
      "Epoch 49/50\n",
      "3424/3424 - 552s - loss: 0.0068 - accuracy: 0.9980 - val_loss: 0.5529 - val_accuracy: 0.9141 - 552s/epoch - 161ms/step\n",
      "Epoch 50/50\n",
      "3424/3424 - 553s - loss: 0.0056 - accuracy: 0.9981 - val_loss: 0.5369 - val_accuracy: 0.9081 - 553s/epoch - 162ms/step\n"
     ]
    }
   ],
   "source": [
    "history = model_dn121_sa.fit(train_batches,\n",
    "                         epochs=50,\n",
    "                         verbose=2,\n",
    "                         validation_data=val_batches,\n",
    "                         callbacks=[checkpoint,Earlystop],\n",
    "                         class_weight=class_weights)"
   ]
  },
  {
   "cell_type": "markdown",
   "id": "185e8899",
   "metadata": {
    "papermill": {
     "duration": 0.030007,
     "end_time": "2023-05-29T18:45:17.920570",
     "exception": false,
     "start_time": "2023-05-29T18:45:17.890563",
     "status": "completed"
    },
    "tags": []
   },
   "source": [
    "### Plotting accuracy and loss"
   ]
  },
  {
   "cell_type": "code",
   "execution_count": 22,
   "id": "3eb054ba",
   "metadata": {
    "execution": {
     "iopub.execute_input": "2023-05-29T18:45:17.980660Z",
     "iopub.status.busy": "2023-05-29T18:45:17.979739Z",
     "iopub.status.idle": "2023-05-29T18:45:18.593391Z",
     "shell.execute_reply": "2023-05-29T18:45:18.592457Z"
    },
    "papermill": {
     "duration": 0.646638,
     "end_time": "2023-05-29T18:45:18.596009",
     "exception": false,
     "start_time": "2023-05-29T18:45:17.949371",
     "status": "completed"
    },
    "tags": []
   },
   "outputs": [
    {
     "name": "stdout",
     "output_type": "stream",
     "text": [
      "Number of epochs trained: 50\n"
     ]
    },
    {
     "data": {
      "image/png": "[encoded data removed]",
      "text/plain": [
       "<Figure size 1500x500 with 2 Axes>"
      ]
     },
     "metadata": {},
     "output_type": "display_data"
    }
   ],
   "source": [
    "# Determine number of epochs trained\n",
    "num_epochs_trained = len(history.history['val_loss'])\n",
    "print(f\"Number of epochs trained: {num_epochs_trained}\")\n",
    "\n",
    "## History plotting\n",
    "epochs = [i for i in range(num_epochs_trained)]\n",
    "fig , ax = plt.subplots(1,2)\n",
    "train_acc = history.history['accuracy']\n",
    "train_loss = history.history['loss']\n",
    "val_acc = history.history['val_accuracy']\n",
    "val_loss = history.history['val_loss']\n",
    "fig.set_size_inches(15,5)\n",
    "\n",
    "ax[0].plot(epochs , train_acc , 'go-' , label = 'Training Accuracy')\n",
    "ax[0].plot(epochs , val_acc , 'ro-' , label = 'Validation Accuracy')\n",
    "title_font = {'fontname':'Times New Roman', 'size':'14', 'color':'black', 'weight':'normal'}\n",
    "ax[0].set_title('Model Accuracy', fontdict=title_font)\n",
    "legend_font = {'family': 'Times New Roman', 'size': '12', 'weight': 'normal'}\n",
    "ax[0].legend(prop=legend_font)\n",
    "label_font = {'fontname':'Times New Roman', 'size':'12', 'color':'black', 'weight':'normal'}\n",
    "ax[0].set_xlabel(\"Epochs\",  fontdict=label_font)\n",
    "ax[0].set_ylabel(\"Accuracy\",  fontdict=label_font)\n",
    "\n",
    "ax[1].plot(epochs , train_loss , 'g-o' , label = 'Training Loss')\n",
    "ax[1].plot(epochs , val_loss , 'r-o' , label = 'Validation Loss')\n",
    "ax[1].set_title('Model Loss', fontdict=title_font)\n",
    "ax[1].legend(prop=legend_font)\n",
    "ax[1].set_xlabel(\"Epochs\", fontdict=label_font)\n",
    "ax[1].set_ylabel(\"Loss\", fontdict=label_font)\n",
    "plt.show()"
   ]
  },
  {
   "cell_type": "code",
   "execution_count": 23,
   "id": "e920200a",
   "metadata": {
    "execution": {
     "iopub.execute_input": "2023-05-29T18:45:18.659697Z",
     "iopub.status.busy": "2023-05-29T18:45:18.659334Z",
     "iopub.status.idle": "2023-05-29T18:45:19.266009Z",
     "shell.execute_reply": "2023-05-29T18:45:19.265077Z"
    },
    "id": "zm_AewFBXTj8",
    "papermill": {
     "duration": 0.641127,
     "end_time": "2023-05-29T18:45:19.268417",
     "exception": false,
     "start_time": "2023-05-29T18:45:18.627290",
     "status": "completed"
    },
    "tags": []
   },
   "outputs": [],
   "source": [
    "from tensorflow.keras import models\n",
    "model_dn121_sa.load_weights(\"DN121_SA.hdf5\")"
   ]
  },
  {
   "cell_type": "code",
   "execution_count": 24,
   "id": "bae49f60",
   "metadata": {
    "execution": {
     "iopub.execute_input": "2023-05-29T18:45:19.330850Z",
     "iopub.status.busy": "2023-05-29T18:45:19.330523Z",
     "iopub.status.idle": "2023-05-29T18:45:38.656685Z",
     "shell.execute_reply": "2023-05-29T18:45:38.655710Z"
    },
    "papermill": {
     "duration": 19.35992,
     "end_time": "2023-05-29T18:45:38.659149",
     "exception": false,
     "start_time": "2023-05-29T18:45:19.299229",
     "status": "completed"
    },
    "tags": []
   },
   "outputs": [
    {
     "name": "stdout",
     "output_type": "stream",
     "text": [
      "52/52 [==============================] - 19s 325ms/step\n"
     ]
    }
   ],
   "source": [
    "predictions = model_dn121_sa.predict(test_batches)"
   ]
  },
  {
   "cell_type": "code",
   "execution_count": 25,
   "id": "49ac6ba5",
   "metadata": {
    "execution": {
     "iopub.execute_input": "2023-05-29T18:45:38.731376Z",
     "iopub.status.busy": "2023-05-29T18:45:38.729507Z",
     "iopub.status.idle": "2023-05-29T18:45:38.735974Z",
     "shell.execute_reply": "2023-05-29T18:45:38.735045Z"
    },
    "id": "FDTMtBeTdBfU",
    "papermill": {
     "duration": 0.044393,
     "end_time": "2023-05-29T18:45:38.738326",
     "exception": false,
     "start_time": "2023-05-29T18:45:38.693933",
     "status": "completed"
    },
    "tags": []
   },
   "outputs": [],
   "source": [
    "#geting predictions on test dataset\n",
    "y_pred = np.argmax(predictions, axis=1)\n",
    "#getting the true labels per image \n",
    "y_true = test_batches.classes\n",
    "#getting the predicted labels per image \n",
    "y_prob = predictions"
   ]
  },
  {
   "cell_type": "code",
   "execution_count": 26,
   "id": "e0b0892f",
   "metadata": {
    "execution": {
     "iopub.execute_input": "2023-05-29T18:45:38.809153Z",
     "iopub.status.busy": "2023-05-29T18:45:38.808787Z",
     "iopub.status.idle": "2023-05-29T18:45:38.826269Z",
     "shell.execute_reply": "2023-05-29T18:45:38.825049Z"
    },
    "papermill": {
     "duration": 0.054213,
     "end_time": "2023-05-29T18:45:38.828212",
     "exception": false,
     "start_time": "2023-05-29T18:45:38.773999",
     "status": "completed"
    },
    "tags": []
   },
   "outputs": [
    {
     "name": "stdout",
     "output_type": "stream",
     "text": [
      "\n",
      "Classification Report:\n",
      "              precision    recall  f1-score   support\n",
      "\n",
      "          AK       0.87      0.59      0.70        22\n",
      "         BCC       0.85      0.81      0.83        27\n",
      "         BKL       0.73      0.77      0.75        66\n",
      "          DF       1.00      0.67      0.80         6\n",
      "         MEL       0.61      0.49      0.54        35\n",
      "          NV       0.96      0.98      0.97       663\n",
      "        VASC       0.89      0.89      0.89         9\n",
      "\n",
      "    accuracy                           0.92       828\n",
      "   macro avg       0.84      0.74      0.78       828\n",
      "weighted avg       0.92      0.92      0.92       828\n",
      "\n"
     ]
    }
   ],
   "source": [
    "classnames = ['AK', 'BCC', 'BKL', 'DF', 'MEL', 'NV', 'VASC']\n",
    "\n",
    "from tensorflow.keras.utils import to_categorical\n",
    "y_test = to_categorical(y_true)\n",
    "\n",
    "report = classification_report(y_true, y_pred, target_names=classnames)\n",
    "\n",
    "print(\"\\nClassification Report:\")\n",
    "print(report)"
   ]
  },
  {
   "cell_type": "code",
   "execution_count": 27,
   "id": "6fbc2f24",
   "metadata": {
    "execution": {
     "iopub.execute_input": "2023-05-29T18:45:38.900163Z",
     "iopub.status.busy": "2023-05-29T18:45:38.899326Z",
     "iopub.status.idle": "2023-05-29T18:45:40.054042Z",
     "shell.execute_reply": "2023-05-29T18:45:40.053001Z"
    },
    "papermill": {
     "duration": 1.192554,
     "end_time": "2023-05-29T18:45:40.056426",
     "exception": false,
     "start_time": "2023-05-29T18:45:38.863872",
     "status": "completed"
    },
    "tags": []
   },
   "outputs": [
    {
     "data": {
      "image/png": "[encoded data removed]",
      "text/plain": [
       "<Figure size 1000x400 with 2 Axes>"
      ]
     },
     "metadata": {},
     "output_type": "display_data"
    }
   ],
   "source": [
    "## Confusion Matrix\n",
    "title_font = {'fontname':'Times New Roman', 'size':'14', 'color':'black', 'weight':'normal'}\n",
    "label_font = {'fontname':'Times New Roman', 'size':'12', 'color':'black', 'weight':'normal'}\n",
    "\n",
    "from sklearn.metrics import confusion_matrix\n",
    "import seaborn as sns\n",
    "# Creating confusion matrix \n",
    "cm = confusion_matrix(y_true, y_pred)\n",
    "# Plotting the confusion matrix\n",
    "plt.figure(figsize=(10,4))\n",
    "sns.heatmap(cm, annot=True, fmt='g', cmap='Blues', xticklabels=targetnames, yticklabels=targetnames)\n",
    "plt.xlabel('Predicted Label', fontdict=label_font)\n",
    "plt.ylabel('True Label', fontdict=label_font)\n",
    "plt.title('Confusion Matrix', fontdict=title_font)\n",
    "plt.show()"
   ]
  },
  {
   "cell_type": "markdown",
   "id": "f8dfcc94",
   "metadata": {
    "papermill": {
     "duration": 0.037626,
     "end_time": "2023-05-29T18:45:40.133270",
     "exception": false,
     "start_time": "2023-05-29T18:45:40.095644",
     "status": "completed"
    },
    "tags": []
   },
   "source": [
    "## Results"
   ]
  },
  {
   "cell_type": "markdown",
   "id": "3e8ce154",
   "metadata": {
    "papermill": {
     "duration": 0.036322,
     "end_time": "2023-05-29T18:45:40.206229",
     "exception": false,
     "start_time": "2023-05-29T18:45:40.169907",
     "status": "completed"
    },
    "tags": []
   },
   "source": [
    "### Individual Class Accuracy "
   ]
  },
  {
   "cell_type": "code",
   "execution_count": 28,
   "id": "97d76d72",
   "metadata": {
    "execution": {
     "iopub.execute_input": "2023-05-29T18:45:40.280857Z",
     "iopub.status.busy": "2023-05-29T18:45:40.279883Z",
     "iopub.status.idle": "2023-05-29T18:45:40.288604Z",
     "shell.execute_reply": "2023-05-29T18:45:40.287255Z"
    },
    "papermill": {
     "duration": 0.048292,
     "end_time": "2023-05-29T18:45:40.290823",
     "exception": false,
     "start_time": "2023-05-29T18:45:40.242531",
     "status": "completed"
    },
    "tags": []
   },
   "outputs": [
    {
     "name": "stdout",
     "output_type": "stream",
     "text": [
      "Overall accuracy: 92.03%\n",
      "Accuracy for each class:\n",
      "Class 0: 59.09%\n",
      "Class 1: 81.48%\n",
      "Class 2: 77.27%\n",
      "Class 3: 66.67%\n",
      "Class 4: 48.57%\n",
      "Class 5: 97.59%\n",
      "Class 6: 88.89%\n"
     ]
    }
   ],
   "source": [
    "# y_true are the true labels of the test set\n",
    "# y_pred are the predicted labels of the test set\n",
    "accuracy = accuracy_score(y_true, y_pred)\n",
    "# Calculate accuracy for each class\n",
    "class_accuracy = cm.diagonal()/cm.sum(axis=1)\n",
    "print(\"Overall accuracy: {:.2f}%\".format(accuracy*100))\n",
    "print(\"Accuracy for each class:\")\n",
    "for i, acc in enumerate(class_accuracy):\n",
    "    print(\"Class {}: {:.2f}%\".format(i, acc*100))"
   ]
  },
  {
   "cell_type": "markdown",
   "id": "3c5b3226",
   "metadata": {
    "papermill": {
     "duration": 0.035274,
     "end_time": "2023-05-29T18:45:40.364830",
     "exception": false,
     "start_time": "2023-05-29T18:45:40.329556",
     "status": "completed"
    },
    "tags": []
   },
   "source": [
    "### Individual Class Weighted Precision"
   ]
  },
  {
   "cell_type": "code",
   "execution_count": 29,
   "id": "8dc9b1fa",
   "metadata": {
    "execution": {
     "iopub.execute_input": "2023-05-29T18:45:40.435943Z",
     "iopub.status.busy": "2023-05-29T18:45:40.435287Z",
     "iopub.status.idle": "2023-05-29T18:45:40.451920Z",
     "shell.execute_reply": "2023-05-29T18:45:40.450630Z"
    },
    "papermill": {
     "duration": 0.05431,
     "end_time": "2023-05-29T18:45:40.453965",
     "exception": false,
     "start_time": "2023-05-29T18:45:40.399655",
     "status": "completed"
    },
    "tags": []
   },
   "outputs": [
    {
     "name": "stdout",
     "output_type": "stream",
     "text": [
      "Weighted precision for each class:\n",
      "Class 0: 86.67%\n",
      "Class 1: 84.62%\n",
      "Class 2: 72.86%\n",
      "Class 3: 100.00%\n",
      "Class 4: 60.71%\n",
      "Class 5: 95.71%\n",
      "Class 6: 88.89%\n",
      "Weighted precision: 91.76%\n"
     ]
    }
   ],
   "source": [
    "report = classification_report(y_true, y_pred, output_dict=True)\n",
    "# Extract weighted precision for each class\n",
    "class_precision = {}\n",
    "for class_label in report.keys():\n",
    "    if class_label == 'weighted avg':\n",
    "        class_precision['weighted'] = report[class_label]['precision']\n",
    "    elif class_label.isdigit():\n",
    "        class_precision[int(class_label)] = report[class_label]['precision']\n",
    "print(\"Weighted precision for each class:\")\n",
    "for i, precision in class_precision.items():\n",
    "    if i == 'weighted':\n",
    "        print(\"Weighted precision: {:.2f}%\".format(precision*100))\n",
    "    else:\n",
    "        print(\"Class {}: {:.2f}%\".format(i, precision*100))"
   ]
  },
  {
   "cell_type": "markdown",
   "id": "68000fdb",
   "metadata": {
    "papermill": {
     "duration": 0.034122,
     "end_time": "2023-05-29T18:45:40.523706",
     "exception": false,
     "start_time": "2023-05-29T18:45:40.489584",
     "status": "completed"
    },
    "tags": []
   },
   "source": [
    "### Individual Class Weighted Recall"
   ]
  },
  {
   "cell_type": "code",
   "execution_count": 30,
   "id": "ab71a4f0",
   "metadata": {
    "execution": {
     "iopub.execute_input": "2023-05-29T18:45:40.593979Z",
     "iopub.status.busy": "2023-05-29T18:45:40.593341Z",
     "iopub.status.idle": "2023-05-29T18:45:40.608726Z",
     "shell.execute_reply": "2023-05-29T18:45:40.607529Z"
    },
    "papermill": {
     "duration": 0.052778,
     "end_time": "2023-05-29T18:45:40.610700",
     "exception": false,
     "start_time": "2023-05-29T18:45:40.557922",
     "status": "completed"
    },
    "tags": []
   },
   "outputs": [
    {
     "name": "stdout",
     "output_type": "stream",
     "text": [
      "Weighted recall for each class:\n",
      "Class 0: 59.09%\n",
      "Class 1: 81.48%\n",
      "Class 2: 77.27%\n",
      "Class 3: 66.67%\n",
      "Class 4: 48.57%\n",
      "Class 5: 97.59%\n",
      "Class 6: 88.89%\n",
      "Weighted Recall: 92.03%\n"
     ]
    }
   ],
   "source": [
    "report = classification_report(y_true, y_pred, output_dict=True)\n",
    "# Extract weighted recall for each class\n",
    "class_recall = {}\n",
    "for class_label in report.keys():\n",
    "    if class_label == 'weighted avg':\n",
    "        class_recall['weighted'] = report[class_label]['recall']\n",
    "    elif class_label.isdigit():\n",
    "        class_recall[int(class_label)] = report[class_label]['recall']\n",
    "print(\"Weighted recall for each class:\")\n",
    "for i, recall in class_recall.items():\n",
    "    if i == 'weighted':\n",
    "        print(\"Weighted Recall: {:.2f}%\".format(recall*100))\n",
    "    else:\n",
    "        print(\"Class {}: {:.2f}%\".format(i, recall*100))"
   ]
  },
  {
   "cell_type": "markdown",
   "id": "111f0737",
   "metadata": {
    "papermill": {
     "duration": 0.034091,
     "end_time": "2023-05-29T18:45:40.679938",
     "exception": false,
     "start_time": "2023-05-29T18:45:40.645847",
     "status": "completed"
    },
    "tags": []
   },
   "source": [
    "### Individual Class Weighted F1-score"
   ]
  },
  {
   "cell_type": "code",
   "execution_count": 31,
   "id": "b2d79c91",
   "metadata": {
    "execution": {
     "iopub.execute_input": "2023-05-29T18:45:40.750824Z",
     "iopub.status.busy": "2023-05-29T18:45:40.749900Z",
     "iopub.status.idle": "2023-05-29T18:45:40.765787Z",
     "shell.execute_reply": "2023-05-29T18:45:40.764659Z"
    },
    "papermill": {
     "duration": 0.053824,
     "end_time": "2023-05-29T18:45:40.767961",
     "exception": false,
     "start_time": "2023-05-29T18:45:40.714137",
     "status": "completed"
    },
    "tags": []
   },
   "outputs": [
    {
     "name": "stdout",
     "output_type": "stream",
     "text": [
      "Weighted F1-score for each class:\n",
      "Class 0: 70.27%\n",
      "Class 1: 83.02%\n",
      "Class 2: 75.00%\n",
      "Class 3: 80.00%\n",
      "Class 4: 53.97%\n",
      "Class 5: 96.64%\n",
      "Class 6: 88.89%\n",
      "Weighted F1-score: 91.76%\n"
     ]
    }
   ],
   "source": [
    "report = classification_report(y_true, y_pred, output_dict=True)\n",
    "# Extract weighted F1-score for each class\n",
    "class_f1 = {}\n",
    "for class_label in report.keys():\n",
    "    if class_label == 'weighted avg':\n",
    "        class_f1['weighted'] = report[class_label]['f1-score']\n",
    "    elif class_label.isdigit():\n",
    "        class_f1[int(class_label)] = report[class_label]['f1-score']\n",
    "print(\"Weighted F1-score for each class:\")\n",
    "for i, f1_score in class_f1.items():\n",
    "    if i == 'weighted':\n",
    "        print(\"Weighted F1-score: {:.2f}%\".format(f1_score*100))\n",
    "    else:\n",
    "        print(\"Class {}: {:.2f}%\".format(i, f1_score*100))"
   ]
  },
  {
   "cell_type": "markdown",
   "id": "3c093809",
   "metadata": {
    "papermill": {
     "duration": 0.034319,
     "end_time": "2023-05-29T18:45:40.837657",
     "exception": false,
     "start_time": "2023-05-29T18:45:40.803338",
     "status": "completed"
    },
    "tags": []
   },
   "source": [
    "### Individual Class Precision, Recall and F1-score"
   ]
  },
  {
   "cell_type": "code",
   "execution_count": 32,
   "id": "00dc946d",
   "metadata": {
    "execution": {
     "iopub.execute_input": "2023-05-29T18:45:40.910766Z",
     "iopub.status.busy": "2023-05-29T18:45:40.909898Z",
     "iopub.status.idle": "2023-05-29T18:45:40.919770Z",
     "shell.execute_reply": "2023-05-29T18:45:40.918488Z"
    },
    "papermill": {
     "duration": 0.048735,
     "end_time": "2023-05-29T18:45:40.921945",
     "exception": false,
     "start_time": "2023-05-29T18:45:40.873210",
     "status": "completed"
    },
    "tags": []
   },
   "outputs": [
    {
     "name": "stdout",
     "output_type": "stream",
     "text": [
      "Class-wise weighted precision, recall, and F1-score:\n",
      "Class 0: Precision=0.87, Recall=0.59, F1-score=0.70\n",
      "Class 1: Precision=0.85, Recall=0.81, F1-score=0.83\n",
      "Class 2: Precision=0.73, Recall=0.77, F1-score=0.75\n",
      "Class 3: Precision=1.00, Recall=0.67, F1-score=0.80\n",
      "Class 4: Precision=0.61, Recall=0.49, F1-score=0.54\n",
      "Class 5: Precision=0.96, Recall=0.98, F1-score=0.97\n",
      "Class 6: Precision=0.89, Recall=0.89, F1-score=0.89\n"
     ]
    }
   ],
   "source": [
    "from sklearn.metrics import precision_recall_fscore_support\n",
    "\n",
    "precision_class, recall_class, f1_class, support_class = precision_recall_fscore_support(y_true, y_pred, average=None)\n",
    "print('Class-wise weighted precision, recall, and F1-score:')\n",
    "for i in range(len(precision_class)):\n",
    "    print('Class {}: Precision={:.2f}, Recall={:.2f}, F1-score={:.2f}'.format(i, precision_class[i], recall_class[i], f1_class[i]))\n"
   ]
  },
  {
   "cell_type": "markdown",
   "id": "6796c0ab",
   "metadata": {
    "papermill": {
     "duration": 0.034422,
     "end_time": "2023-05-29T18:45:40.991384",
     "exception": false,
     "start_time": "2023-05-29T18:45:40.956962",
     "status": "completed"
    },
    "tags": []
   },
   "source": [
    "### Individual Class Weighted Sensitivity"
   ]
  },
  {
   "cell_type": "code",
   "execution_count": 33,
   "id": "eabfe68f",
   "metadata": {
    "execution": {
     "iopub.execute_input": "2023-05-29T18:45:41.062485Z",
     "iopub.status.busy": "2023-05-29T18:45:41.061566Z",
     "iopub.status.idle": "2023-05-29T18:45:41.611500Z",
     "shell.execute_reply": "2023-05-29T18:45:41.610553Z"
    },
    "papermill": {
     "duration": 0.58798,
     "end_time": "2023-05-29T18:45:41.613940",
     "exception": false,
     "start_time": "2023-05-29T18:45:41.025960",
     "status": "completed"
    },
    "tags": []
   },
   "outputs": [
    {
     "name": "stdout",
     "output_type": "stream",
     "text": [
      "Weighted Sensitivity:  0.9202898550724637\n",
      "Class  0 :sensitivity = 0.5909090909090909\n",
      "Class  1 :sensitivity = 0.8148148148148148\n",
      "Class  2 :sensitivity = 0.7727272727272727\n",
      "Class  3 :sensitivity = 0.6666666666666666\n",
      "Class  4 :sensitivity = 0.4857142857142857\n",
      "Class  5 :sensitivity = 0.975867269984917\n",
      "Class  6 :sensitivity = 0.8888888888888888\n"
     ]
    }
   ],
   "source": [
    "from imblearn.metrics import sensitivity_score\n",
    "\n",
    "sensitivity = sensitivity_score(y_true, y_pred, average='weighted')\n",
    "print(\"Weighted Sensitivity: \", sensitivity)\n",
    "\n",
    "# Calculate class-wise sensitivity\n",
    "sensitivity = sensitivity_score(y_true, y_pred, average=None)\n",
    "\n",
    "# Print sensitivity score for each class\n",
    "for i in range(len(sensitivity)):\n",
    "    print(\"Class \", i, \":sensitivity =\", sensitivity[i])"
   ]
  },
  {
   "cell_type": "markdown",
   "id": "097e6fcd",
   "metadata": {
    "papermill": {
     "duration": 0.034571,
     "end_time": "2023-05-29T18:45:41.683980",
     "exception": false,
     "start_time": "2023-05-29T18:45:41.649409",
     "status": "completed"
    },
    "tags": []
   },
   "source": [
    "### Individual Class Weighted Specificity"
   ]
  },
  {
   "cell_type": "code",
   "execution_count": 34,
   "id": "441b0768",
   "metadata": {
    "execution": {
     "iopub.execute_input": "2023-05-29T18:45:41.755272Z",
     "iopub.status.busy": "2023-05-29T18:45:41.754339Z",
     "iopub.status.idle": "2023-05-29T18:45:41.764270Z",
     "shell.execute_reply": "2023-05-29T18:45:41.763165Z"
    },
    "papermill": {
     "duration": 0.047723,
     "end_time": "2023-05-29T18:45:41.766231",
     "exception": false,
     "start_time": "2023-05-29T18:45:41.718508",
     "status": "completed"
    },
    "tags": []
   },
   "outputs": [
    {
     "name": "stdout",
     "output_type": "stream",
     "text": [
      "Weighted Specificity:  0.8564506628388371\n",
      "Class  0 :specificity= 0.9975186104218362\n",
      "Class  1 :specificity= 0.9950062421972534\n",
      "Class  2 :specificity= 0.9750656167979003\n",
      "Class  3 :specificity= 1.0\n",
      "Class  4 :specificity= 0.9861286254728878\n",
      "Class  5 :specificity= 0.8242424242424242\n",
      "Class  6 :specificity= 0.9987789987789988\n"
     ]
    }
   ],
   "source": [
    "from imblearn.metrics import specificity_score\n",
    "\n",
    "specificity = specificity_score(y_true, y_pred, average='weighted')\n",
    "print(\"Weighted Specificity: \", specificity)\n",
    "\n",
    "# Calculate class-wise specificity\n",
    "specificity = specificity_score(y_true, y_pred, average=None)\n",
    "\n",
    "# Print sensitivity score for each class\n",
    "for i in range(len(specificity)):\n",
    "    print(\"Class \", i, \":specificity=\", specificity[i])"
   ]
  },
  {
   "cell_type": "markdown",
   "id": "2603a366",
   "metadata": {
    "papermill": {
     "duration": 0.034708,
     "end_time": "2023-05-29T18:45:41.835685",
     "exception": false,
     "start_time": "2023-05-29T18:45:41.800977",
     "status": "completed"
    },
    "tags": []
   },
   "source": [
    "### Accuracy"
   ]
  },
  {
   "cell_type": "code",
   "execution_count": 35,
   "id": "f9d1b316",
   "metadata": {
    "execution": {
     "iopub.execute_input": "2023-05-29T18:45:41.907412Z",
     "iopub.status.busy": "2023-05-29T18:45:41.906485Z",
     "iopub.status.idle": "2023-05-29T18:45:41.914321Z",
     "shell.execute_reply": "2023-05-29T18:45:41.913247Z"
    },
    "papermill": {
     "duration": 0.046035,
     "end_time": "2023-05-29T18:45:41.916316",
     "exception": false,
     "start_time": "2023-05-29T18:45:41.870281",
     "status": "completed"
    },
    "tags": []
   },
   "outputs": [
    {
     "name": "stdout",
     "output_type": "stream",
     "text": [
      "Accuracy: 0.9202898550724637\n"
     ]
    }
   ],
   "source": [
    "print(\"Accuracy: \" + str(accuracy_score(y_true, y_pred)))\n",
    "import numpy as np\n",
    "from sklearn.metrics import accuracy_score"
   ]
  },
  {
   "cell_type": "code",
   "execution_count": 36,
   "id": "c33d8185",
   "metadata": {
    "execution": {
     "iopub.execute_input": "2023-05-29T18:45:41.988702Z",
     "iopub.status.busy": "2023-05-29T18:45:41.987799Z",
     "iopub.status.idle": "2023-05-29T18:45:42.006545Z",
     "shell.execute_reply": "2023-05-29T18:45:42.005342Z"
    },
    "papermill": {
     "duration": 0.057003,
     "end_time": "2023-05-29T18:45:42.008496",
     "exception": false,
     "start_time": "2023-05-29T18:45:41.951493",
     "status": "completed"
    },
    "tags": []
   },
   "outputs": [
    {
     "name": "stdout",
     "output_type": "stream",
     "text": [
      "Top-1 Accuracy: 0.9202898550724637\n",
      "Top-2 Accuracy: 0.9734299516908212\n",
      "Top-3 Accuracy: 0.9891304347826086\n"
     ]
    }
   ],
   "source": [
    "# Calculate top-1 accuracy\n",
    "top1_acc = accuracy_score(y_true, y_pred)\n",
    "print(\"Top-1 Accuracy:\", top1_acc)\n",
    "\n",
    "# Calculate top-2 accuracy\n",
    "y_pred_top2 = np.argsort(-predictions, axis=1)[:, :2] # Get the top 2 predicted classes\n",
    "top2_acc = np.mean(np.array([y_true[i] in y_pred_top2[i] for i in range(len(y_true))]))\n",
    "print(\"Top-2 Accuracy:\", top2_acc)\n",
    "\n",
    "# Calculate top-3 accuracy\n",
    "y_pred_top3 = np.argsort(-predictions, axis=1)[:, :3] # Get the top 3 predicted classes\n",
    "top3_acc = np.mean(np.array([y_true[i] in y_pred_top3[i] for i in range(len(y_true))]))\n",
    "print(\"Top-3 Accuracy:\", top3_acc)\n",
    "from sklearn.metrics import f1_score"
   ]
  },
  {
   "cell_type": "markdown",
   "id": "398ba3a5",
   "metadata": {
    "papermill": {
     "duration": 0.034621,
     "end_time": "2023-05-29T18:45:42.078307",
     "exception": false,
     "start_time": "2023-05-29T18:45:42.043686",
     "status": "completed"
    },
    "tags": []
   },
   "source": [
    "### Weighted Evaluation Measures"
   ]
  },
  {
   "cell_type": "code",
   "execution_count": 37,
   "id": "baf6e873",
   "metadata": {
    "execution": {
     "iopub.execute_input": "2023-05-29T18:45:42.150121Z",
     "iopub.status.busy": "2023-05-29T18:45:42.149202Z",
     "iopub.status.idle": "2023-05-29T18:45:42.178271Z",
     "shell.execute_reply": "2023-05-29T18:45:42.177199Z"
    },
    "papermill": {
     "duration": 0.067375,
     "end_time": "2023-05-29T18:45:42.180375",
     "exception": false,
     "start_time": "2023-05-29T18:45:42.113000",
     "status": "completed"
    },
    "tags": []
   },
   "outputs": [
    {
     "name": "stdout",
     "output_type": "stream",
     "text": [
      "Weighted Precision: 0.9176403709012404\n",
      "Weighted Recall: 0.9202898550724637\n",
      "Weighted F1-Score: 0.9176109774032761\n",
      "Weighted Sensitivity: 0.9202898550724637\n",
      "Weighted Specificity: 0.8564506628388371\n",
      "weighted Roc score: 0.9745956480070375\n"
     ]
    }
   ],
   "source": [
    "print(\"Weighted Precision: \"+ str(precision_score(y_true, y_pred, average='weighted')))\n",
    "print(\"Weighted Recall: \"+ str(recall_score(y_true, y_pred, average='weighted')))\n",
    "print(\"Weighted F1-Score: \"+ str(f1_score(y_true, y_pred, average='weighted')))\n",
    "print(\"Weighted Sensitivity: \"+ str(sensitivity_score(y_true, y_pred, average='weighted')))\n",
    "print(\"Weighted Specificity: \"+ str(specificity_score(y_true, y_pred, average='weighted')))\n",
    "print(\"weighted Roc score: \" + str(roc_auc_score(y_true,y_prob,multi_class='ovr',average='weighted')))"
   ]
  },
  {
   "cell_type": "markdown",
   "id": "2b7f3a0e",
   "metadata": {
    "papermill": {
     "duration": 0.03488,
     "end_time": "2023-05-29T18:45:42.250638",
     "exception": false,
     "start_time": "2023-05-29T18:45:42.215758",
     "status": "completed"
    },
    "tags": []
   },
   "source": [
    "### Macro Evaluation Measures"
   ]
  },
  {
   "cell_type": "code",
   "execution_count": 38,
   "id": "3e420325",
   "metadata": {
    "execution": {
     "iopub.execute_input": "2023-05-29T18:45:42.322180Z",
     "iopub.status.busy": "2023-05-29T18:45:42.321801Z",
     "iopub.status.idle": "2023-05-29T18:45:42.344261Z",
     "shell.execute_reply": "2023-05-29T18:45:42.343093Z"
    },
    "papermill": {
     "duration": 0.060856,
     "end_time": "2023-05-29T18:45:42.346273",
     "exception": false,
     "start_time": "2023-05-29T18:45:42.285417",
     "status": "completed"
    },
    "tags": []
   },
   "outputs": [
    {
     "name": "stdout",
     "output_type": "stream",
     "text": [
      "Macro Precision: 0.8420748970199519\n",
      "Macro Recall: 0.7422268985294195\n",
      "Macro F1-Score: 0.7825508058557021\n",
      "Macro Sensitivity: 0.7422268985294195\n",
      "Macro Specificity: 0.9681057882730429\n",
      "Macro Roc score: 0.9695814999841988\n"
     ]
    }
   ],
   "source": [
    "print(\"Macro Precision: \"+ str(precision_score(y_true, y_pred, average='macro')))\n",
    "print(\"Macro Recall: \"+ str(recall_score(y_true, y_pred, average='macro')))\n",
    "print(\"Macro F1-Score: \"+ str(f1_score(y_true, y_pred, average='macro')))\n",
    "print(\"Macro Sensitivity: \"+ str(sensitivity_score(y_true, y_pred, average='macro')))\n",
    "print(\"Macro Specificity: \"+ str(specificity_score(y_true, y_pred, average='macro')))\n",
    "print(\"Macro Roc score: \" + str(roc_auc_score(y_true,y_prob,multi_class='ovr',average='macro')))"
   ]
  },
  {
   "cell_type": "markdown",
   "id": "8c19654e",
   "metadata": {
    "papermill": {
     "duration": 0.034916,
     "end_time": "2023-05-29T18:45:42.416464",
     "exception": false,
     "start_time": "2023-05-29T18:45:42.381548",
     "status": "completed"
    },
    "tags": []
   },
   "source": [
    "### Micro Evaluation Measures"
   ]
  },
  {
   "cell_type": "code",
   "execution_count": 39,
   "id": "38c4162d",
   "metadata": {
    "execution": {
     "iopub.execute_input": "2023-05-29T18:45:42.489775Z",
     "iopub.status.busy": "2023-05-29T18:45:42.488898Z",
     "iopub.status.idle": "2023-05-29T18:45:42.504390Z",
     "shell.execute_reply": "2023-05-29T18:45:42.503217Z"
    },
    "papermill": {
     "duration": 0.054984,
     "end_time": "2023-05-29T18:45:42.506432",
     "exception": false,
     "start_time": "2023-05-29T18:45:42.451448",
     "status": "completed"
    },
    "tags": []
   },
   "outputs": [
    {
     "name": "stdout",
     "output_type": "stream",
     "text": [
      "Micro Precision: 0.9202898550724637\n",
      "Micro Recall: 0.9202898550724637\n",
      "Micro F1-Score: 0.9202898550724637\n",
      "Micro Sensitivity: 0.9202898550724637\n",
      "Micro Specificity: 0.9867149758454107\n"
     ]
    }
   ],
   "source": [
    "print(\"Micro Precision: \"+ str(precision_score(y_true, y_pred, average='micro')))\n",
    "print(\"Micro Recall: \"+ str(recall_score(y_true, y_pred, average='micro')))\n",
    "print(\"Micro F1-Score: \"+ str(f1_score(y_true, y_pred, average='micro')))\n",
    "print(\"Micro Sensitivity: \"+ str(sensitivity_score(y_true, y_pred, average='micro')))\n",
    "print(\"Micro Specificity: \"+ str(specificity_score(y_true, y_pred, average='micro')))"
   ]
  },
  {
   "cell_type": "markdown",
   "id": "e5f82c73",
   "metadata": {
    "papermill": {
     "duration": 0.034825,
     "end_time": "2023-05-29T18:45:42.577909",
     "exception": false,
     "start_time": "2023-05-29T18:45:42.543084",
     "status": "completed"
    },
    "tags": []
   },
   "source": [
    "## ROC"
   ]
  },
  {
   "cell_type": "markdown",
   "id": "e8656dcb",
   "metadata": {
    "papermill": {
     "duration": 0.035084,
     "end_time": "2023-05-29T18:45:42.648278",
     "exception": false,
     "start_time": "2023-05-29T18:45:42.613194",
     "status": "completed"
    },
    "tags": []
   },
   "source": [
    "### Compute ROC curve and ROC area for each class"
   ]
  },
  {
   "cell_type": "code",
   "execution_count": 40,
   "id": "036c0557",
   "metadata": {
    "execution": {
     "iopub.execute_input": "2023-05-29T18:45:42.720465Z",
     "iopub.status.busy": "2023-05-29T18:45:42.719548Z",
     "iopub.status.idle": "2023-05-29T18:45:43.033776Z",
     "shell.execute_reply": "2023-05-29T18:45:43.032782Z"
    },
    "papermill": {
     "duration": 0.352532,
     "end_time": "2023-05-29T18:45:43.035893",
     "exception": false,
     "start_time": "2023-05-29T18:45:42.683361",
     "status": "completed"
    },
    "tags": []
   },
   "outputs": [
    {
     "data": {
      "image/png": "[encoded data removed]",
      "text/plain": [
       "<Figure size 640x480 with 1 Axes>"
      ]
     },
     "metadata": {},
     "output_type": "display_data"
    }
   ],
   "source": [
    "fpr = {}\n",
    "tpr = {}\n",
    "roc_auc = dict()\n",
    "for i in range(num_classes):\n",
    "    fpr[i], tpr[i], _ = roc_curve(y_test[:, i], y_prob[:, i], drop_intermediate=False)\n",
    "    roc_auc[i] = auc(fpr[i], tpr[i])\n",
    "\n",
    "\n",
    "# plot the ROC curve for each class\n",
    "for i in range(7):\n",
    "    plt.plot(fpr[i], tpr[i], label='Class {}: AUC={:.3f}'.format(i, roc_auc[i]))\n",
    "\n",
    "plt.xlabel('False Positive Rate')\n",
    "plt.ylabel('True Positive Rate')\n",
    "plt.legend()\n",
    "plt.show()"
   ]
  },
  {
   "cell_type": "markdown",
   "id": "ae38b084",
   "metadata": {
    "papermill": {
     "duration": 0.03551,
     "end_time": "2023-05-29T18:45:43.108450",
     "exception": false,
     "start_time": "2023-05-29T18:45:43.072940",
     "status": "completed"
    },
    "tags": []
   },
   "source": [
    "## MCC and Kappa Score"
   ]
  },
  {
   "cell_type": "code",
   "execution_count": 41,
   "id": "2c881731",
   "metadata": {
    "execution": {
     "iopub.execute_input": "2023-05-29T18:45:43.182358Z",
     "iopub.status.busy": "2023-05-29T18:45:43.181304Z",
     "iopub.status.idle": "2023-05-29T18:45:43.190514Z",
     "shell.execute_reply": "2023-05-29T18:45:43.189390Z"
    },
    "papermill": {
     "duration": 0.048077,
     "end_time": "2023-05-29T18:45:43.192504",
     "exception": false,
     "start_time": "2023-05-29T18:45:43.144427",
     "status": "completed"
    },
    "tags": []
   },
   "outputs": [
    {
     "name": "stdout",
     "output_type": "stream",
     "text": [
      "MCC: 76.41%\n",
      "Kappa Score: 76.31%\n"
     ]
    }
   ],
   "source": [
    "from sklearn.metrics import matthews_corrcoef, cohen_kappa_score\n",
    "\n",
    "# y_true are the true labels of the test set\n",
    "# y_pred are the predicted labels of the test set\n",
    "mcc = matthews_corrcoef(y_true, y_pred)\n",
    "kappa = cohen_kappa_score(y_true, y_pred)\n",
    "print(\"MCC: {:.2f}%\".format(mcc*100))\n",
    "print(\"Kappa Score: {:.2f}%\".format(kappa*100))"
   ]
  },
  {
   "cell_type": "code",
   "execution_count": 42,
   "id": "97d671e1",
   "metadata": {
    "execution": {
     "iopub.execute_input": "2023-05-29T18:45:43.266326Z",
     "iopub.status.busy": "2023-05-29T18:45:43.265399Z",
     "iopub.status.idle": "2023-05-29T18:45:43.331050Z",
     "shell.execute_reply": "2023-05-29T18:45:43.330016Z"
    },
    "papermill": {
     "duration": 0.104992,
     "end_time": "2023-05-29T18:45:43.333436",
     "exception": false,
     "start_time": "2023-05-29T18:45:43.228444",
     "status": "completed"
    },
    "tags": []
   },
   "outputs": [
    {
     "name": "stdout",
     "output_type": "stream",
     "text": [
      "MCC per class:\n",
      "Class 0: 70.95%\n",
      "Class 1: 82.47%\n",
      "Class 2: 72.80%\n",
      "Class 3: 81.55%\n",
      "Class 4: 52.52%\n",
      "Class 5: 82.56%\n",
      "Class 6: 88.77%\n",
      "Kappa Score per class:\n",
      "Class 0: 69.62%\n",
      "Class 1: 82.46%\n",
      "Class 2: 72.77%\n",
      "Class 3: 79.88%\n",
      "Class 4: 52.17%\n",
      "Class 5: 82.45%\n",
      "Class 6: 88.77%\n"
     ]
    }
   ],
   "source": [
    "### Individual Class Wise MCC and Kappa\n",
    "\n",
    "from sklearn.metrics import confusion_matrix, matthews_corrcoef, cohen_kappa_score\n",
    "# y_true are the true labels of the test set\n",
    "# y_pred are the predicted labels of the test set\n",
    "conf_mat = confusion_matrix(y_true, y_pred)\n",
    "mcc_per_class = {}\n",
    "kappa_per_class = {}\n",
    "\n",
    "for i in range(len(conf_mat)):\n",
    "    tp = conf_mat[i][i]\n",
    "    fp = sum(conf_mat[:, i]) - tp\n",
    "    fn = sum(conf_mat[i, :]) - tp\n",
    "    tn = sum(sum(conf_mat)) - tp - fp - fn\n",
    "\n",
    "    mcc_per_class[i] = matthews_corrcoef([1 if x==i else 0 for x in y_true], [1 if x==i else 0 for x in y_pred])\n",
    "    kappa_per_class[i] = cohen_kappa_score([1 if x==i else 0 for x in y_true], [1 if x==i else 0 for x in y_pred])\n",
    "\n",
    "print(\"MCC per class:\")\n",
    "for i, mcc in mcc_per_class.items():\n",
    "    print(\"Class {}: {:.2f}%\".format(i, mcc*100))\n",
    "\n",
    "print(\"Kappa Score per class:\")\n",
    "for i, kappa in kappa_per_class.items():\n",
    "    print(\"Class {}: {:.2f}%\".format(i, kappa*100))"
   ]
  },
  {
   "cell_type": "code",
   "execution_count": null,
   "id": "5404a86c",
   "metadata": {
    "papermill": {
     "duration": 0.035958,
     "end_time": "2023-05-29T18:45:43.405715",
     "exception": false,
     "start_time": "2023-05-29T18:45:43.369757",
     "status": "completed"
    },
    "tags": []
   },
   "outputs": [],
   "source": []
  }
 ],
 "metadata": {
  "kernelspec": {
   "display_name": "Python 3",
   "language": "python",
   "name": "python3"
  },
  "language_info": {
   "codemirror_mode": {
    "name": "ipython",
    "version": 3
   },
   "file_extension": ".py",
   "mimetype": "text/x-python",
   "name": "python",
   "nbconvert_exporter": "python",
   "pygments_lexer": "ipython3",
   "version": "3.10.10"
  },
  "papermill": {
   "default_parameters": {},
   "duration": 28148.357295,
   "end_time": "2023-05-29T18:45:46.910562",
   "environment_variables": {},
   "exception": null,
   "input_path": "__notebook__.ipynb",
   "output_path": "__notebook__.ipynb",
   "parameters": {},
   "start_time": "2023-05-29T10:56:38.553267",
   "version": "2.4.0"
  }
 },
 "nbformat": 4,
 "nbformat_minor": 5
}
