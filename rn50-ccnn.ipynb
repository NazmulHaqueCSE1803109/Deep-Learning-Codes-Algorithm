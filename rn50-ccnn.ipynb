{
 "cells": [
  {
   "cell_type": "markdown",
   "id": "3dfaa456",
   "metadata": {
    "papermill": {
     "duration": 0.013926,
     "end_time": "2023-05-18T06:12:08.170696",
     "exception": false,
     "start_time": "2023-05-18T06:12:08.156770",
     "status": "completed"
    },
    "tags": []
   },
   "source": [
    "# Libraries"
   ]
  },
  {
   "cell_type": "code",
   "execution_count": 1,
   "id": "d7026ca0",
   "metadata": {
    "execution": {
     "iopub.execute_input": "2023-05-18T06:12:08.197219Z",
     "iopub.status.busy": "2023-05-18T06:12:08.196556Z",
     "iopub.status.idle": "2023-05-18T06:12:23.677242Z",
     "shell.execute_reply": "2023-05-18T06:12:23.676269Z"
    },
    "id": "Aa36bMKLze3z",
    "papermill": {
     "duration": 15.496969,
     "end_time": "2023-05-18T06:12:23.680059",
     "exception": false,
     "start_time": "2023-05-18T06:12:08.183090",
     "status": "completed"
    },
    "tags": []
   },
   "outputs": [
    {
     "name": "stderr",
     "output_type": "stream",
     "text": [
      "/opt/conda/lib/python3.10/site-packages/scipy/__init__.py:146: UserWarning: A NumPy version >=1.16.5 and <1.23.0 is required for this version of SciPy (detected version 1.23.5\n",
      "  warnings.warn(f\"A NumPy version >={np_minversion} and <{np_maxversion}\"\n"
     ]
    }
   ],
   "source": [
    "import pandas as pd\n",
    "import numpy as np\n",
    "import os\n",
    "import tensorflow as tf\n",
    "import cv2\n",
    "from keras import backend as K\n",
    "from keras.layers import Layer, InputSpec\n",
    "import keras.layers as kl\n",
    "from glob import glob\n",
    "from sklearn.metrics import roc_curve, auc\n",
    "from keras.preprocessing import image\n",
    "from tensorflow.keras.models import Sequential\n",
    "from sklearn.metrics import roc_auc_score\n",
    "from tensorflow.keras import callbacks \n",
    "from tensorflow.keras.callbacks import ModelCheckpoint, EarlyStopping\n",
    "from  matplotlib import pyplot as plt\n",
    "from tensorflow.keras import Model\n",
    "from tensorflow.keras.layers import concatenate, Dense, Conv2D, MaxPooling2D, Flatten, Input, Activation, add, AveragePooling2D, BatchNormalization, Dropout\n",
    "%matplotlib inline\n",
    "import shutil\n",
    "from sklearn.metrics import  precision_score, recall_score, accuracy_score, classification_report, confusion_matrix\n",
    "from tensorflow.python.platform import build_info as tf_build_info\n",
    "from tensorflow.keras.preprocessing.image import ImageDataGenerator\n",
    "from sklearn.model_selection import train_test_split\n",
    "\n",
    "from PIL import ImageFile\n",
    "ImageFile.LOAD_TRUNCATED_IMAGES = True"
   ]
  },
  {
   "cell_type": "code",
   "execution_count": 2,
   "id": "0288b3e2",
   "metadata": {
    "execution": {
     "iopub.execute_input": "2023-05-18T06:12:23.708704Z",
     "iopub.status.busy": "2023-05-18T06:12:23.708126Z",
     "iopub.status.idle": "2023-05-18T06:12:23.712696Z",
     "shell.execute_reply": "2023-05-18T06:12:23.711808Z"
    },
    "id": "PsoqCvNsgmHP",
    "papermill": {
     "duration": 0.020395,
     "end_time": "2023-05-18T06:12:23.714681",
     "exception": false,
     "start_time": "2023-05-18T06:12:23.694286",
     "status": "completed"
    },
    "tags": []
   },
   "outputs": [],
   "source": [
    "targetnames = ['akiec', 'bcc', 'bkl', 'df', 'mel', 'nv', 'vasc']\n",
    "batch_size = 16\n",
    "image_size = 224"
   ]
  },
  {
   "cell_type": "code",
   "execution_count": 3,
   "id": "d040f5d6",
   "metadata": {
    "execution": {
     "iopub.execute_input": "2023-05-18T06:12:23.741863Z",
     "iopub.status.busy": "2023-05-18T06:12:23.741573Z",
     "iopub.status.idle": "2023-05-18T06:12:23.745738Z",
     "shell.execute_reply": "2023-05-18T06:12:23.744830Z"
    },
    "id": "wNisha_gM3_Z",
    "papermill": {
     "duration": 0.019727,
     "end_time": "2023-05-18T06:12:23.747660",
     "exception": false,
     "start_time": "2023-05-18T06:12:23.727933",
     "status": "completed"
    },
    "tags": []
   },
   "outputs": [],
   "source": [
    "train_path = '/kaggle/input/splitted-and-augmented-ham-15/Splitted_And_Augmented_HAM_15/HAM10K/train_dir'\n",
    "test_path = '/kaggle/input/splitted-and-augmented-ham-15/Splitted_And_Augmented_HAM_15/HAM10K/test_dir'\n",
    "val_path = '/kaggle/input/splitted-and-augmented-ham-15/Splitted_And_Augmented_HAM_15/HAM10K/val_dir'"
   ]
  },
  {
   "cell_type": "markdown",
   "id": "52521057",
   "metadata": {
    "papermill": {
     "duration": 0.012106,
     "end_time": "2023-05-18T06:12:23.772067",
     "exception": false,
     "start_time": "2023-05-18T06:12:23.759961",
     "status": "completed"
    },
    "tags": []
   },
   "source": [
    "# Dataset generation (Train, Test, Validation)"
   ]
  },
  {
   "cell_type": "code",
   "execution_count": 4,
   "id": "b63976f4",
   "metadata": {
    "execution": {
     "iopub.execute_input": "2023-05-18T06:12:23.798411Z",
     "iopub.status.busy": "2023-05-18T06:12:23.797602Z",
     "iopub.status.idle": "2023-05-18T06:12:23.802215Z",
     "shell.execute_reply": "2023-05-18T06:12:23.801437Z"
    },
    "id": "zhQWqdRN79B3",
    "papermill": {
     "duration": 0.019775,
     "end_time": "2023-05-18T06:12:23.804131",
     "exception": false,
     "start_time": "2023-05-18T06:12:23.784356",
     "status": "completed"
    },
    "tags": []
   },
   "outputs": [],
   "source": [
    "datagen = ImageDataGenerator(preprocessing_function=tf.keras.applications.resnet50.preprocess_input)"
   ]
  },
  {
   "cell_type": "code",
   "execution_count": 5,
   "id": "5c41c962",
   "metadata": {
    "execution": {
     "iopub.execute_input": "2023-05-18T06:12:23.830001Z",
     "iopub.status.busy": "2023-05-18T06:12:23.829508Z",
     "iopub.status.idle": "2023-05-18T06:12:49.100583Z",
     "shell.execute_reply": "2023-05-18T06:12:49.099728Z"
    },
    "id": "w9_8FvOO7Rtu",
    "outputId": "7ca88c24-fda8-45d6-cb32-f3a43ae6ba5b",
    "papermill": {
     "duration": 25.28613,
     "end_time": "2023-05-18T06:12:49.102600",
     "exception": false,
     "start_time": "2023-05-18T06:12:23.816470",
     "status": "completed"
    },
    "tags": []
   },
   "outputs": [
    {
     "name": "stdout",
     "output_type": "stream",
     "text": [
      "\n",
      "Train Batches: \n",
      "Found 54782 images belonging to 7 classes.\n",
      "\n",
      "Test Batches: \n",
      "Found 828 images belonging to 7 classes.\n",
      "\n",
      "Val Batches: \n",
      "Found 827 images belonging to 7 classes.\n"
     ]
    }
   ],
   "source": [
    "print(\"\\nTrain Batches: \")\n",
    "train_batches = datagen.flow_from_directory(directory=train_path,\n",
    "                                            target_size=(image_size,image_size),\n",
    "                                            batch_size=batch_size,\n",
    "                                            shuffle=True)\n",
    "\n",
    "print(\"\\nTest Batches: \")\n",
    "test_batches = datagen.flow_from_directory(test_path,\n",
    "                                          target_size=(image_size,image_size),\n",
    "                                          batch_size=batch_size,\n",
    "                                          shuffle=False)\n",
    "print(\"\\nVal Batches: \")\n",
    "val_batches = datagen.flow_from_directory(val_path,\n",
    "                                         target_size=(image_size,image_size),\n",
    "                                         batch_size=batch_size,\n",
    "                                         shuffle=False)"
   ]
  },
  {
   "cell_type": "markdown",
   "id": "02038ed5",
   "metadata": {
    "papermill": {
     "duration": 0.01272,
     "end_time": "2023-05-18T06:12:49.128528",
     "exception": false,
     "start_time": "2023-05-18T06:12:49.115808",
     "status": "completed"
    },
    "tags": []
   },
   "source": [
    "# Main Model Creation"
   ]
  },
  {
   "cell_type": "code",
   "execution_count": 6,
   "id": "9ce55a26",
   "metadata": {
    "execution": {
     "iopub.execute_input": "2023-05-18T06:12:49.155927Z",
     "iopub.status.busy": "2023-05-18T06:12:49.155316Z",
     "iopub.status.idle": "2023-05-18T06:12:56.441982Z",
     "shell.execute_reply": "2023-05-18T06:12:56.441016Z"
    },
    "id": "zhQWqdRN79B3",
    "papermill": {
     "duration": 7.302976,
     "end_time": "2023-05-18T06:12:56.444581",
     "exception": false,
     "start_time": "2023-05-18T06:12:49.141605",
     "status": "completed"
    },
    "tags": []
   },
   "outputs": [
    {
     "name": "stdout",
     "output_type": "stream",
     "text": [
      "Downloading data from https://storage.googleapis.com/tensorflow/keras-applications/resnet/resnet50_weights_tf_dim_ordering_tf_kernels_notop.h5\n",
      "94765736/94765736 [==============================] - 0s 0us/step\n"
     ]
    }
   ],
   "source": [
    "from tensorflow.keras.applications.resnet50 import ResNet50\n",
    "\n",
    "# Create a new instance of ResNet50\n",
    "RN50 = ResNet50(weights='imagenet', include_top=False, input_shape=(image_size, image_size, 3), pooling='avg')"
   ]
  },
  {
   "cell_type": "markdown",
   "id": "a24a79e5",
   "metadata": {
    "papermill": {
     "duration": 0.013523,
     "end_time": "2023-05-18T06:12:56.472233",
     "exception": false,
     "start_time": "2023-05-18T06:12:56.458710",
     "status": "completed"
    },
    "tags": []
   },
   "source": [
    "## Fine tuning"
   ]
  },
  {
   "cell_type": "code",
   "execution_count": 7,
   "id": "2168623f",
   "metadata": {
    "execution": {
     "iopub.execute_input": "2023-05-18T06:12:56.500611Z",
     "iopub.status.busy": "2023-05-18T06:12:56.500309Z",
     "iopub.status.idle": "2023-05-18T06:12:56.505824Z",
     "shell.execute_reply": "2023-05-18T06:12:56.504848Z"
    },
    "id": "4d4Ta5LcSYaz",
    "papermill": {
     "duration": 0.022398,
     "end_time": "2023-05-18T06:12:56.508206",
     "exception": false,
     "start_time": "2023-05-18T06:12:56.485808",
     "status": "completed"
    },
    "tags": []
   },
   "outputs": [],
   "source": [
    "MainInput=Input(shape=(image_size, image_size, 3))"
   ]
  },
  {
   "cell_type": "code",
   "execution_count": 8,
   "id": "45c1eef2",
   "metadata": {
    "execution": {
     "iopub.execute_input": "2023-05-18T06:12:56.536593Z",
     "iopub.status.busy": "2023-05-18T06:12:56.536333Z",
     "iopub.status.idle": "2023-05-18T06:12:56.971115Z",
     "shell.execute_reply": "2023-05-18T06:12:56.970170Z"
    },
    "papermill": {
     "duration": 0.451679,
     "end_time": "2023-05-18T06:12:56.973555",
     "exception": false,
     "start_time": "2023-05-18T06:12:56.521876",
     "status": "completed"
    },
    "tags": []
   },
   "outputs": [],
   "source": [
    "resnet = RN50(MainInput)"
   ]
  },
  {
   "cell_type": "code",
   "execution_count": 9,
   "id": "598c6096",
   "metadata": {
    "execution": {
     "iopub.execute_input": "2023-05-18T06:12:57.004376Z",
     "iopub.status.busy": "2023-05-18T06:12:57.004082Z",
     "iopub.status.idle": "2023-05-18T06:12:57.019989Z",
     "shell.execute_reply": "2023-05-18T06:12:57.019142Z"
    },
    "papermill": {
     "duration": 0.033472,
     "end_time": "2023-05-18T06:12:57.022007",
     "exception": false,
     "start_time": "2023-05-18T06:12:56.988535",
     "status": "completed"
    },
    "tags": []
   },
   "outputs": [],
   "source": [
    "# Reshape the tensor to have 4 dimensions\n",
    "from tensorflow.keras.layers import Reshape\n",
    "reshape = Reshape((16, 16, 8))(resnet)"
   ]
  },
  {
   "cell_type": "code",
   "execution_count": 10,
   "id": "017433aa",
   "metadata": {
    "execution": {
     "iopub.execute_input": "2023-05-18T06:12:57.052727Z",
     "iopub.status.busy": "2023-05-18T06:12:57.052434Z",
     "iopub.status.idle": "2023-05-18T06:12:57.142360Z",
     "shell.execute_reply": "2023-05-18T06:12:57.141555Z"
    },
    "id": "x8mS99J5SYbT",
    "papermill": {
     "duration": 0.107542,
     "end_time": "2023-05-18T06:12:57.144365",
     "exception": false,
     "start_time": "2023-05-18T06:12:57.036823",
     "status": "completed"
    },
    "tags": []
   },
   "outputs": [],
   "source": [
    "conv=(Conv2D(filters=128,kernel_size=(7,7), activation=\"relu\",padding=\"same\",kernel_initializer='he_normal')(reshape))\n",
    "conv=(BatchNormalization()(conv))\n",
    "conv=(Conv2D(filters=128,kernel_size=(5,5), activation=\"relu\",padding=\"same\",kernel_initializer='he_normal')(conv))\n",
    "conv=(BatchNormalization()(conv))\n",
    "conv=(Conv2D(filters=128,kernel_size=(3,3), activation=\"relu\",padding=\"same\",kernel_initializer='he_normal')(conv))\n",
    "conv=(BatchNormalization()(conv))\n",
    "conv=(Conv2D(filters=128,kernel_size=(1,1), activation=\"relu\",padding=\"same\",kernel_initializer='he_normal')(conv))\n",
    "conv=(BatchNormalization()(conv))"
   ]
  },
  {
   "cell_type": "code",
   "execution_count": 11,
   "id": "9da51679",
   "metadata": {
    "execution": {
     "iopub.execute_input": "2023-05-18T06:12:57.173097Z",
     "iopub.status.busy": "2023-05-18T06:12:57.172341Z",
     "iopub.status.idle": "2023-05-18T06:12:57.179976Z",
     "shell.execute_reply": "2023-05-18T06:12:57.179164Z"
    },
    "id": "wfhLPhssAm2S",
    "papermill": {
     "duration": 0.023995,
     "end_time": "2023-05-18T06:12:57.181923",
     "exception": false,
     "start_time": "2023-05-18T06:12:57.157928",
     "status": "completed"
    },
    "tags": []
   },
   "outputs": [],
   "source": [
    "conv=(MaxPooling2D(strides=(2, 2),padding=\"same\")(conv))"
   ]
  },
  {
   "cell_type": "code",
   "execution_count": 12,
   "id": "f47ea3bf",
   "metadata": {
    "execution": {
     "iopub.execute_input": "2023-05-18T06:12:57.211001Z",
     "iopub.status.busy": "2023-05-18T06:12:57.210226Z",
     "iopub.status.idle": "2023-05-18T06:12:57.295850Z",
     "shell.execute_reply": "2023-05-18T06:12:57.295005Z"
    },
    "id": "sW4tKg9wSYbk",
    "papermill": {
     "duration": 0.102498,
     "end_time": "2023-05-18T06:12:57.298047",
     "exception": false,
     "start_time": "2023-05-18T06:12:57.195549",
     "status": "completed"
    },
    "tags": []
   },
   "outputs": [],
   "source": [
    "conv=(Conv2D(filters=256,kernel_size=(7,7), activation=\"relu\",padding=\"same\",kernel_initializer='he_normal')(conv))\n",
    "conv=(BatchNormalization()(conv))\n",
    "conv=(Conv2D(filters=256,kernel_size=(5,5), activation=\"relu\",padding=\"same\",kernel_initializer='he_normal')(conv))\n",
    "conv=(BatchNormalization()(conv))\n",
    "conv=(Conv2D(filters=256,kernel_size=(3,3), activation=\"relu\",padding=\"same\",kernel_initializer='he_normal')(conv))\n",
    "conv=(BatchNormalization()(conv))\n",
    "conv=(Conv2D(filters=256,kernel_size=(1,1), activation=\"relu\",padding=\"same\",kernel_initializer='he_normal')(conv))\n",
    "conv=(BatchNormalization()(conv))"
   ]
  },
  {
   "cell_type": "code",
   "execution_count": 13,
   "id": "aaeef6e3",
   "metadata": {
    "execution": {
     "iopub.execute_input": "2023-05-18T06:12:57.326980Z",
     "iopub.status.busy": "2023-05-18T06:12:57.326266Z",
     "iopub.status.idle": "2023-05-18T06:12:57.333889Z",
     "shell.execute_reply": "2023-05-18T06:12:57.333099Z"
    },
    "id": "eo8E7RxUSYcW",
    "papermill": {
     "duration": 0.024421,
     "end_time": "2023-05-18T06:12:57.336021",
     "exception": false,
     "start_time": "2023-05-18T06:12:57.311600",
     "status": "completed"
    },
    "tags": []
   },
   "outputs": [],
   "source": [
    "conv=(MaxPooling2D(pool_size=(2, 2),padding=\"same\")(conv))"
   ]
  },
  {
   "cell_type": "code",
   "execution_count": 14,
   "id": "81a9fb89",
   "metadata": {
    "execution": {
     "iopub.execute_input": "2023-05-18T06:12:57.366772Z",
     "iopub.status.busy": "2023-05-18T06:12:57.365970Z",
     "iopub.status.idle": "2023-05-18T06:12:57.371424Z",
     "shell.execute_reply": "2023-05-18T06:12:57.370232Z"
    },
    "papermill": {
     "duration": 0.022575,
     "end_time": "2023-05-18T06:12:57.373592",
     "exception": false,
     "start_time": "2023-05-18T06:12:57.351017",
     "status": "completed"
    },
    "tags": []
   },
   "outputs": [
    {
     "name": "stdout",
     "output_type": "stream",
     "text": [
      "7\n"
     ]
    }
   ],
   "source": [
    "num_classes = test_batches.num_classes\n",
    "print(num_classes)"
   ]
  },
  {
   "cell_type": "code",
   "execution_count": 15,
   "id": "80acc3c3",
   "metadata": {
    "execution": {
     "iopub.execute_input": "2023-05-18T06:12:57.403703Z",
     "iopub.status.busy": "2023-05-18T06:12:57.402918Z",
     "iopub.status.idle": "2023-05-18T06:12:57.448121Z",
     "shell.execute_reply": "2023-05-18T06:12:57.447255Z"
    },
    "id": "-EdFxKdgSYcf",
    "papermill": {
     "duration": 0.063211,
     "end_time": "2023-05-18T06:12:57.450340",
     "exception": false,
     "start_time": "2023-05-18T06:12:57.387129",
     "status": "completed"
    },
    "tags": []
   },
   "outputs": [],
   "source": [
    "conv=(Flatten()(conv))\n",
    "conv=(Dense(1024,activation=\"relu\")(conv))\n",
    "conv=(Dense(512,activation=\"relu\")(conv))\n",
    "conv=(Dense(num_classes, activation=\"softmax\")(conv))\n",
    "\n",
    "model_rn50 = Model(inputs=MainInput, outputs=conv)"
   ]
  },
  {
   "cell_type": "code",
   "execution_count": 16,
   "id": "18658783",
   "metadata": {
    "execution": {
     "iopub.execute_input": "2023-05-18T06:12:57.480814Z",
     "iopub.status.busy": "2023-05-18T06:12:57.479954Z",
     "iopub.status.idle": "2023-05-18T06:12:57.570684Z",
     "shell.execute_reply": "2023-05-18T06:12:57.569884Z"
    },
    "id": "ba8ajOckSYcl",
    "outputId": "e69fa749-4741-4f49-ae3e-9f5479e809a8",
    "papermill": {
     "duration": 0.130072,
     "end_time": "2023-05-18T06:12:57.594621",
     "exception": false,
     "start_time": "2023-05-18T06:12:57.464549",
     "status": "completed"
    },
    "tags": []
   },
   "outputs": [
    {
     "name": "stdout",
     "output_type": "stream",
     "text": [
      "Model: \"model\"\n",
      "_________________________________________________________________\n",
      " Layer (type)                Output Shape              Param #   \n",
      "=================================================================\n",
      " input_2 (InputLayer)        [(None, 224, 224, 3)]     0         \n",
      "                                                                 \n",
      " resnet50 (Functional)       (None, 2048)              23587712  \n",
      "                                                                 \n",
      " reshape (Reshape)           (None, 16, 16, 8)         0         \n",
      "                                                                 \n",
      " conv2d (Conv2D)             (None, 16, 16, 128)       50304     \n",
      "                                                                 \n",
      " batch_normalization (BatchN  (None, 16, 16, 128)      512       \n",
      " ormalization)                                                   \n",
      "                                                                 \n",
      " conv2d_1 (Conv2D)           (None, 16, 16, 128)       409728    \n",
      "                                                                 \n",
      " batch_normalization_1 (Batc  (None, 16, 16, 128)      512       \n",
      " hNormalization)                                                 \n",
      "                                                                 \n",
      " conv2d_2 (Conv2D)           (None, 16, 16, 128)       147584    \n",
      "                                                                 \n",
      " batch_normalization_2 (Batc  (None, 16, 16, 128)      512       \n",
      " hNormalization)                                                 \n",
      "                                                                 \n",
      " conv2d_3 (Conv2D)           (None, 16, 16, 128)       16512     \n",
      "                                                                 \n",
      " batch_normalization_3 (Batc  (None, 16, 16, 128)      512       \n",
      " hNormalization)                                                 \n",
      "                                                                 \n",
      " max_pooling2d (MaxPooling2D  (None, 8, 8, 128)        0         \n",
      " )                                                               \n",
      "                                                                 \n",
      " conv2d_4 (Conv2D)           (None, 8, 8, 256)         1605888   \n",
      "                                                                 \n",
      " batch_normalization_4 (Batc  (None, 8, 8, 256)        1024      \n",
      " hNormalization)                                                 \n",
      "                                                                 \n",
      " conv2d_5 (Conv2D)           (None, 8, 8, 256)         1638656   \n",
      "                                                                 \n",
      " batch_normalization_5 (Batc  (None, 8, 8, 256)        1024      \n",
      " hNormalization)                                                 \n",
      "                                                                 \n",
      " conv2d_6 (Conv2D)           (None, 8, 8, 256)         590080    \n",
      "                                                                 \n",
      " batch_normalization_6 (Batc  (None, 8, 8, 256)        1024      \n",
      " hNormalization)                                                 \n",
      "                                                                 \n",
      " conv2d_7 (Conv2D)           (None, 8, 8, 256)         65792     \n",
      "                                                                 \n",
      " batch_normalization_7 (Batc  (None, 8, 8, 256)        1024      \n",
      " hNormalization)                                                 \n",
      "                                                                 \n",
      " max_pooling2d_1 (MaxPooling  (None, 4, 4, 256)        0         \n",
      " 2D)                                                             \n",
      "                                                                 \n",
      " flatten (Flatten)           (None, 4096)              0         \n",
      "                                                                 \n",
      " dense (Dense)               (None, 1024)              4195328   \n",
      "                                                                 \n",
      " dense_1 (Dense)             (None, 512)               524800    \n",
      "                                                                 \n",
      " dense_2 (Dense)             (None, 7)                 3591      \n",
      "                                                                 \n",
      "=================================================================\n",
      "Total params: 32,842,119\n",
      "Trainable params: 32,785,927\n",
      "Non-trainable params: 56,192\n",
      "_________________________________________________________________\n"
     ]
    }
   ],
   "source": [
    "model_rn50.summary()"
   ]
  },
  {
   "cell_type": "code",
   "execution_count": 17,
   "id": "1dae3e37",
   "metadata": {
    "execution": {
     "iopub.execute_input": "2023-05-18T06:12:57.636366Z",
     "iopub.status.busy": "2023-05-18T06:12:57.636078Z",
     "iopub.status.idle": "2023-05-18T06:12:57.658430Z",
     "shell.execute_reply": "2023-05-18T06:12:57.657541Z"
    },
    "id": "WR0fUpy18vAZ",
    "papermill": {
     "duration": 0.045738,
     "end_time": "2023-05-18T06:12:57.660440",
     "exception": false,
     "start_time": "2023-05-18T06:12:57.614702",
     "status": "completed"
    },
    "tags": []
   },
   "outputs": [],
   "source": [
    "opt1=tf.keras.optimizers.Adam(learning_rate=0.001,epsilon=0.1)\n",
    "model_rn50.compile(optimizer=opt1,\n",
    "             loss='categorical_crossentropy',\n",
    "             metrics=['accuracy'])"
   ]
  },
  {
   "cell_type": "code",
   "execution_count": 18,
   "id": "ce7ad5a3",
   "metadata": {
    "execution": {
     "iopub.execute_input": "2023-05-18T06:12:57.702710Z",
     "iopub.status.busy": "2023-05-18T06:12:57.702387Z",
     "iopub.status.idle": "2023-05-18T06:12:57.707545Z",
     "shell.execute_reply": "2023-05-18T06:12:57.706490Z"
    },
    "id": "LAf5ha295reS",
    "papermill": {
     "duration": 0.028987,
     "end_time": "2023-05-18T06:12:57.709709",
     "exception": false,
     "start_time": "2023-05-18T06:12:57.680722",
     "status": "completed"
    },
    "tags": []
   },
   "outputs": [],
   "source": [
    "class_weights = {   \n",
    "                    0: 1.0,  # akiec\n",
    "                    1: 1.0,  # bcc\n",
    "                    2: 1.0,  # bkl\n",
    "                    3: 1.0,  # df\n",
    "                    4: 1.0,  # mel\n",
    "                    5: 1.0,  # nv\n",
    "                    6: 1.0  # vasc\n",
    "                }"
   ]
  },
  {
   "cell_type": "code",
   "execution_count": 19,
   "id": "5bf91fc7",
   "metadata": {
    "execution": {
     "iopub.execute_input": "2023-05-18T06:12:57.750965Z",
     "iopub.status.busy": "2023-05-18T06:12:57.750713Z",
     "iopub.status.idle": "2023-05-18T06:12:57.755358Z",
     "shell.execute_reply": "2023-05-18T06:12:57.754460Z"
    },
    "papermill": {
     "duration": 0.027352,
     "end_time": "2023-05-18T06:12:57.757280",
     "exception": false,
     "start_time": "2023-05-18T06:12:57.729928",
     "status": "completed"
    },
    "tags": []
   },
   "outputs": [],
   "source": [
    "checkpoint = ModelCheckpoint(filepath ='RN50.hdf5', monitor='val_accuracy', save_best_only=True, save_weights_only=True)\n",
    "Earlystop = EarlyStopping(monitor='val_accuracy', mode='max', patience=25, min_delta=0.001)"
   ]
  },
  {
   "cell_type": "code",
   "execution_count": 20,
   "id": "72900195",
   "metadata": {
    "execution": {
     "iopub.execute_input": "2023-05-18T06:12:57.796681Z",
     "iopub.status.busy": "2023-05-18T06:12:57.795910Z",
     "iopub.status.idle": "2023-05-18T14:36:21.945499Z",
     "shell.execute_reply": "2023-05-18T14:36:21.944025Z"
    },
    "id": "NUzTmiZ-8hL3",
    "outputId": "e1825ff2-9f9c-436f-cf2c-9776af8eee62",
    "papermill": {
     "duration": 30204.198553,
     "end_time": "2023-05-18T14:36:21.974763",
     "exception": false,
     "start_time": "2023-05-18T06:12:57.776210",
     "status": "completed"
    },
    "tags": []
   },
   "outputs": [
    {
     "name": "stdout",
     "output_type": "stream",
     "text": [
      "Epoch 1/50\n",
      "3424/3424 - 720s - loss: 0.8846 - accuracy: 0.6702 - val_loss: 0.3413 - val_accuracy: 0.8803 - 720s/epoch - 210ms/step\n",
      "Epoch 2/50\n",
      "3424/3424 - 674s - loss: 0.3914 - accuracy: 0.8566 - val_loss: 0.3413 - val_accuracy: 0.8972 - 674s/epoch - 197ms/step\n",
      "Epoch 3/50\n",
      "3424/3424 - 656s - loss: 0.2326 - accuracy: 0.9161 - val_loss: 0.3421 - val_accuracy: 0.8984 - 656s/epoch - 191ms/step\n",
      "Epoch 4/50\n",
      "3424/3424 - 656s - loss: 0.1597 - accuracy: 0.9421 - val_loss: 0.3826 - val_accuracy: 0.9008 - 656s/epoch - 192ms/step\n",
      "Epoch 5/50\n",
      "3424/3424 - 656s - loss: 0.1135 - accuracy: 0.9596 - val_loss: 0.4919 - val_accuracy: 0.8948 - 656s/epoch - 192ms/step\n",
      "Epoch 6/50\n",
      "3424/3424 - 656s - loss: 0.0868 - accuracy: 0.9689 - val_loss: 0.3785 - val_accuracy: 0.9129 - 656s/epoch - 192ms/step\n",
      "Epoch 7/50\n",
      "3424/3424 - 656s - loss: 0.0684 - accuracy: 0.9760 - val_loss: 0.4531 - val_accuracy: 0.8912 - 656s/epoch - 191ms/step\n",
      "Epoch 8/50\n",
      "3424/3424 - 656s - loss: 0.0541 - accuracy: 0.9809 - val_loss: 0.5383 - val_accuracy: 0.8984 - 656s/epoch - 192ms/step\n",
      "Epoch 9/50\n",
      "3424/3424 - 656s - loss: 0.0381 - accuracy: 0.9870 - val_loss: 0.5499 - val_accuracy: 0.8984 - 656s/epoch - 192ms/step\n",
      "Epoch 10/50\n",
      "3424/3424 - 655s - loss: 0.0365 - accuracy: 0.9878 - val_loss: 0.4511 - val_accuracy: 0.9057 - 655s/epoch - 191ms/step\n",
      "Epoch 11/50\n",
      "3424/3424 - 656s - loss: 0.0306 - accuracy: 0.9890 - val_loss: 0.6708 - val_accuracy: 0.8948 - 656s/epoch - 192ms/step\n",
      "Epoch 12/50\n",
      "3424/3424 - 656s - loss: 0.0244 - accuracy: 0.9914 - val_loss: 0.5564 - val_accuracy: 0.9081 - 656s/epoch - 192ms/step\n",
      "Epoch 13/50\n",
      "3424/3424 - 656s - loss: 0.0242 - accuracy: 0.9916 - val_loss: 0.5240 - val_accuracy: 0.9021 - 656s/epoch - 192ms/step\n",
      "Epoch 14/50\n",
      "3424/3424 - 657s - loss: 0.0220 - accuracy: 0.9926 - val_loss: 0.5259 - val_accuracy: 0.9033 - 657s/epoch - 192ms/step\n",
      "Epoch 15/50\n",
      "3424/3424 - 661s - loss: 0.0201 - accuracy: 0.9931 - val_loss: 0.5197 - val_accuracy: 0.9033 - 661s/epoch - 193ms/step\n",
      "Epoch 16/50\n",
      "3424/3424 - 655s - loss: 0.0176 - accuracy: 0.9943 - val_loss: 0.5641 - val_accuracy: 0.9105 - 655s/epoch - 191ms/step\n",
      "Epoch 17/50\n",
      "3424/3424 - 654s - loss: 0.0143 - accuracy: 0.9952 - val_loss: 0.4767 - val_accuracy: 0.9069 - 654s/epoch - 191ms/step\n",
      "Epoch 18/50\n",
      "3424/3424 - 656s - loss: 0.0130 - accuracy: 0.9956 - val_loss: 0.5223 - val_accuracy: 0.9069 - 656s/epoch - 191ms/step\n",
      "Epoch 19/50\n",
      "3424/3424 - 655s - loss: 0.0148 - accuracy: 0.9952 - val_loss: 0.5818 - val_accuracy: 0.9045 - 655s/epoch - 191ms/step\n",
      "Epoch 20/50\n",
      "3424/3424 - 656s - loss: 0.0130 - accuracy: 0.9959 - val_loss: 0.5683 - val_accuracy: 0.9166 - 656s/epoch - 192ms/step\n",
      "Epoch 21/50\n",
      "3424/3424 - 657s - loss: 0.0109 - accuracy: 0.9963 - val_loss: 0.5823 - val_accuracy: 0.9093 - 657s/epoch - 192ms/step\n",
      "Epoch 22/50\n",
      "3424/3424 - 656s - loss: 0.0090 - accuracy: 0.9970 - val_loss: 0.6179 - val_accuracy: 0.9081 - 656s/epoch - 192ms/step\n",
      "Epoch 23/50\n",
      "3424/3424 - 655s - loss: 0.0103 - accuracy: 0.9964 - val_loss: 0.6062 - val_accuracy: 0.9081 - 655s/epoch - 191ms/step\n",
      "Epoch 24/50\n",
      "3424/3424 - 656s - loss: 0.0085 - accuracy: 0.9971 - val_loss: 0.7058 - val_accuracy: 0.8948 - 656s/epoch - 191ms/step\n",
      "Epoch 25/50\n",
      "3424/3424 - 658s - loss: 0.0090 - accuracy: 0.9971 - val_loss: 0.6404 - val_accuracy: 0.9093 - 658s/epoch - 192ms/step\n",
      "Epoch 26/50\n",
      "3424/3424 - 656s - loss: 0.0084 - accuracy: 0.9972 - val_loss: 0.6089 - val_accuracy: 0.9093 - 656s/epoch - 192ms/step\n",
      "Epoch 27/50\n",
      "3424/3424 - 657s - loss: 0.0077 - accuracy: 0.9974 - val_loss: 0.5996 - val_accuracy: 0.9057 - 657s/epoch - 192ms/step\n",
      "Epoch 28/50\n",
      "3424/3424 - 656s - loss: 0.0066 - accuracy: 0.9979 - val_loss: 0.6848 - val_accuracy: 0.9033 - 656s/epoch - 192ms/step\n",
      "Epoch 29/50\n",
      "3424/3424 - 656s - loss: 0.0077 - accuracy: 0.9977 - val_loss: 0.6063 - val_accuracy: 0.9069 - 656s/epoch - 192ms/step\n",
      "Epoch 30/50\n",
      "3424/3424 - 658s - loss: 0.0060 - accuracy: 0.9980 - val_loss: 0.6017 - val_accuracy: 0.9045 - 658s/epoch - 192ms/step\n",
      "Epoch 31/50\n",
      "3424/3424 - 656s - loss: 0.0068 - accuracy: 0.9976 - val_loss: 0.5999 - val_accuracy: 0.9057 - 656s/epoch - 192ms/step\n",
      "Epoch 32/50\n",
      "3424/3424 - 657s - loss: 0.0069 - accuracy: 0.9977 - val_loss: 0.5449 - val_accuracy: 0.9093 - 657s/epoch - 192ms/step\n",
      "Epoch 33/50\n",
      "3424/3424 - 658s - loss: 0.0051 - accuracy: 0.9982 - val_loss: 0.5248 - val_accuracy: 0.9154 - 658s/epoch - 192ms/step\n",
      "Epoch 34/50\n",
      "3424/3424 - 657s - loss: 0.0065 - accuracy: 0.9976 - val_loss: 0.6456 - val_accuracy: 0.9117 - 657s/epoch - 192ms/step\n",
      "Epoch 35/50\n",
      "3424/3424 - 656s - loss: 0.0067 - accuracy: 0.9979 - val_loss: 0.6746 - val_accuracy: 0.8996 - 656s/epoch - 192ms/step\n",
      "Epoch 36/50\n",
      "3424/3424 - 660s - loss: 0.0059 - accuracy: 0.9981 - val_loss: 0.6339 - val_accuracy: 0.9069 - 660s/epoch - 193ms/step\n",
      "Epoch 37/50\n",
      "3424/3424 - 657s - loss: 0.0042 - accuracy: 0.9987 - val_loss: 0.6257 - val_accuracy: 0.9105 - 657s/epoch - 192ms/step\n",
      "Epoch 38/50\n",
      "3424/3424 - 656s - loss: 0.0052 - accuracy: 0.9983 - val_loss: 0.6373 - val_accuracy: 0.8936 - 656s/epoch - 192ms/step\n",
      "Epoch 39/50\n",
      "3424/3424 - 662s - loss: 0.0055 - accuracy: 0.9984 - val_loss: 0.6062 - val_accuracy: 0.9057 - 662s/epoch - 193ms/step\n",
      "Epoch 40/50\n",
      "3424/3424 - 660s - loss: 0.0044 - accuracy: 0.9987 - val_loss: 0.7163 - val_accuracy: 0.9093 - 660s/epoch - 193ms/step\n",
      "Epoch 41/50\n",
      "3424/3424 - 662s - loss: 0.0042 - accuracy: 0.9986 - val_loss: 0.6650 - val_accuracy: 0.9105 - 662s/epoch - 193ms/step\n",
      "Epoch 42/50\n",
      "3424/3424 - 659s - loss: 0.0054 - accuracy: 0.9982 - val_loss: 0.6169 - val_accuracy: 0.8875 - 659s/epoch - 193ms/step\n",
      "Epoch 43/50\n",
      "3424/3424 - 660s - loss: 0.0042 - accuracy: 0.9987 - val_loss: 0.6065 - val_accuracy: 0.9093 - 660s/epoch - 193ms/step\n",
      "Epoch 44/50\n",
      "3424/3424 - 660s - loss: 0.0042 - accuracy: 0.9986 - val_loss: 0.5819 - val_accuracy: 0.9093 - 660s/epoch - 193ms/step\n",
      "Epoch 45/50\n",
      "3424/3424 - 660s - loss: 0.0028 - accuracy: 0.9991 - val_loss: 0.5545 - val_accuracy: 0.9069 - 660s/epoch - 193ms/step\n"
     ]
    }
   ],
   "source": [
    "history = model_rn50.fit(train_batches,\n",
    "                         epochs=50,\n",
    "                         verbose=2,\n",
    "                         validation_data=val_batches,\n",
    "                         callbacks=[checkpoint,Earlystop],\n",
    "                         class_weight=class_weights)"
   ]
  },
  {
   "cell_type": "markdown",
   "id": "64ea5aa2",
   "metadata": {
    "papermill": {
     "duration": 0.026632,
     "end_time": "2023-05-18T14:36:22.027843",
     "exception": false,
     "start_time": "2023-05-18T14:36:22.001211",
     "status": "completed"
    },
    "tags": []
   },
   "source": [
    "### Plotting accuracy and loss"
   ]
  },
  {
   "cell_type": "code",
   "execution_count": 21,
   "id": "62837ec6",
   "metadata": {
    "execution": {
     "iopub.execute_input": "2023-05-18T14:36:22.082496Z",
     "iopub.status.busy": "2023-05-18T14:36:22.082144Z",
     "iopub.status.idle": "2023-05-18T14:36:43.912228Z",
     "shell.execute_reply": "2023-05-18T14:36:43.911346Z"
    },
    "papermill": {
     "duration": 21.860377,
     "end_time": "2023-05-18T14:36:43.914907",
     "exception": false,
     "start_time": "2023-05-18T14:36:22.054530",
     "status": "completed"
    },
    "tags": []
   },
   "outputs": [
    {
     "name": "stdout",
     "output_type": "stream",
     "text": [
      "Number of epochs trained: 45\n"
     ]
    },
    {
     "data": {
      "image/png": "[encoded data removed]",
      "text/plain": [
       "<Figure size 1500x500 with 2 Axes>"
      ]
     },
     "metadata": {},
     "output_type": "display_data"
    }
   ],
   "source": [
    "# Determine number of epochs trained\n",
    "num_epochs_trained = len(history.history['val_loss'])\n",
    "print(f\"Number of epochs trained: {num_epochs_trained}\")\n",
    "\n",
    "## History plotting\n",
    "epochs = [i for i in range(num_epochs_trained)]\n",
    "fig , ax = plt.subplots(1,2)\n",
    "train_acc = history.history['accuracy']\n",
    "train_loss = history.history['loss']\n",
    "val_acc = history.history['val_accuracy']\n",
    "val_loss = history.history['val_loss']\n",
    "fig.set_size_inches(15,5)\n",
    "\n",
    "ax[0].plot(epochs , train_acc , 'go-' , label = 'Training Accuracy')\n",
    "ax[0].plot(epochs , val_acc , 'ro-' , label = 'Validation Accuracy')\n",
    "title_font = {'fontname':'Times New Roman', 'size':'14', 'color':'black', 'weight':'normal'}\n",
    "ax[0].set_title('Model Accuracy', fontdict=title_font)\n",
    "legend_font = {'family': 'Times New Roman', 'size': '12', 'weight': 'normal'}\n",
    "ax[0].legend(prop=legend_font)\n",
    "label_font = {'fontname':'Times New Roman', 'size':'12', 'color':'black', 'weight':'normal'}\n",
    "ax[0].set_xlabel(\"Epochs\",  fontdict=label_font)\n",
    "ax[0].set_ylabel(\"Accuracy\",  fontdict=label_font)\n",
    "\n",
    "ax[1].plot(epochs , train_loss , 'g-o' , label = 'Training Loss')\n",
    "ax[1].plot(epochs , val_loss , 'r-o' , label = 'Validation Loss')\n",
    "ax[1].set_title('Model Loss', fontdict=title_font)\n",
    "ax[1].legend(prop=legend_font)\n",
    "ax[1].set_xlabel(\"Epochs\", fontdict=label_font)\n",
    "ax[1].set_ylabel(\"Loss\", fontdict=label_font)\n",
    "plt.show()"
   ]
  },
  {
   "cell_type": "code",
   "execution_count": 22,
   "id": "c5e55497",
   "metadata": {
    "execution": {
     "iopub.execute_input": "2023-05-18T14:36:43.969034Z",
     "iopub.status.busy": "2023-05-18T14:36:43.968726Z",
     "iopub.status.idle": "2023-05-18T14:36:44.372171Z",
     "shell.execute_reply": "2023-05-18T14:36:44.371115Z"
    },
    "id": "zm_AewFBXTj8",
    "papermill": {
     "duration": 0.432911,
     "end_time": "2023-05-18T14:36:44.374556",
     "exception": false,
     "start_time": "2023-05-18T14:36:43.941645",
     "status": "completed"
    },
    "tags": []
   },
   "outputs": [],
   "source": [
    "from tensorflow.keras import models\n",
    "model_rn50.load_weights(\"RN50.hdf5\")"
   ]
  },
  {
   "cell_type": "code",
   "execution_count": 23,
   "id": "fe0f624e",
   "metadata": {
    "execution": {
     "iopub.execute_input": "2023-05-18T14:36:44.430313Z",
     "iopub.status.busy": "2023-05-18T14:36:44.428747Z",
     "iopub.status.idle": "2023-05-18T14:37:05.262869Z",
     "shell.execute_reply": "2023-05-18T14:37:05.261857Z"
    },
    "papermill": {
     "duration": 20.863811,
     "end_time": "2023-05-18T14:37:05.265355",
     "exception": false,
     "start_time": "2023-05-18T14:36:44.401544",
     "status": "completed"
    },
    "tags": []
   },
   "outputs": [
    {
     "name": "stdout",
     "output_type": "stream",
     "text": [
      "52/52 [==============================] - 20s 372ms/step\n"
     ]
    }
   ],
   "source": [
    "predictions = model_rn50.predict(test_batches)"
   ]
  },
  {
   "cell_type": "code",
   "execution_count": 24,
   "id": "dad2e26f",
   "metadata": {
    "execution": {
     "iopub.execute_input": "2023-05-18T14:37:05.334143Z",
     "iopub.status.busy": "2023-05-18T14:37:05.333200Z",
     "iopub.status.idle": "2023-05-18T14:37:05.338808Z",
     "shell.execute_reply": "2023-05-18T14:37:05.337822Z"
    },
    "id": "FDTMtBeTdBfU",
    "papermill": {
     "duration": 0.041846,
     "end_time": "2023-05-18T14:37:05.341115",
     "exception": false,
     "start_time": "2023-05-18T14:37:05.299269",
     "status": "completed"
    },
    "tags": []
   },
   "outputs": [],
   "source": [
    "#geting predictions on test dataset\n",
    "y_pred = np.argmax(predictions, axis=1)\n",
    "#getting the true labels per image \n",
    "y_true = test_batches.classes\n",
    "#getting the predicted labels per image \n",
    "y_prob = predictions"
   ]
  },
  {
   "cell_type": "code",
   "execution_count": 25,
   "id": "d9e3c2c1",
   "metadata": {
    "execution": {
     "iopub.execute_input": "2023-05-18T14:37:05.406515Z",
     "iopub.status.busy": "2023-05-18T14:37:05.405608Z",
     "iopub.status.idle": "2023-05-18T14:37:05.423372Z",
     "shell.execute_reply": "2023-05-18T14:37:05.421887Z"
    },
    "papermill": {
     "duration": 0.052733,
     "end_time": "2023-05-18T14:37:05.425833",
     "exception": false,
     "start_time": "2023-05-18T14:37:05.373100",
     "status": "completed"
    },
    "tags": []
   },
   "outputs": [
    {
     "name": "stdout",
     "output_type": "stream",
     "text": [
      "\n",
      "Classification Report:\n",
      "              precision    recall  f1-score   support\n",
      "\n",
      "          AK       0.83      0.45      0.59        22\n",
      "         BCC       0.71      0.81      0.76        27\n",
      "         BKL       0.76      0.73      0.74        66\n",
      "          DF       0.80      0.67      0.73         6\n",
      "         MEL       0.69      0.51      0.59        35\n",
      "          NV       0.95      0.98      0.97       663\n",
      "        VASC       1.00      0.89      0.94         9\n",
      "\n",
      "    accuracy                           0.92       828\n",
      "   macro avg       0.82      0.72      0.76       828\n",
      "weighted avg       0.92      0.92      0.91       828\n",
      "\n"
     ]
    }
   ],
   "source": [
    "classnames = ['AK', 'BCC', 'BKL', 'DF', 'MEL', 'NV', 'VASC']\n",
    "\n",
    "from tensorflow.keras.utils import to_categorical\n",
    "y_test = to_categorical(y_true)\n",
    "\n",
    "report = classification_report(y_true, y_pred, target_names=classnames)\n",
    "\n",
    "print(\"\\nClassification Report:\")\n",
    "print(report)"
   ]
  },
  {
   "cell_type": "code",
   "execution_count": 26,
   "id": "29b6416d",
   "metadata": {
    "execution": {
     "iopub.execute_input": "2023-05-18T14:37:05.492366Z",
     "iopub.status.busy": "2023-05-18T14:37:05.492024Z",
     "iopub.status.idle": "2023-05-18T14:37:06.204490Z",
     "shell.execute_reply": "2023-05-18T14:37:06.203608Z"
    },
    "papermill": {
     "duration": 0.74712,
     "end_time": "2023-05-18T14:37:06.206657",
     "exception": false,
     "start_time": "2023-05-18T14:37:05.459537",
     "status": "completed"
    },
    "tags": []
   },
   "outputs": [
    {
     "data": {
      "image/png": "[encoded data removed]",
      "text/plain": [
       "<Figure size 1000x400 with 2 Axes>"
      ]
     },
     "metadata": {},
     "output_type": "display_data"
    }
   ],
   "source": [
    "## Confusion Matrix\n",
    "title_font = {'fontname':'Times New Roman', 'size':'14', 'color':'black', 'weight':'normal'}\n",
    "label_font = {'fontname':'Times New Roman', 'size':'12', 'color':'black', 'weight':'normal'}\n",
    "\n",
    "from sklearn.metrics import confusion_matrix\n",
    "import seaborn as sns\n",
    "# Creating confusion matrix \n",
    "cm = confusion_matrix(y_true, y_pred)\n",
    "# Plotting the confusion matrix\n",
    "plt.figure(figsize=(10,4))\n",
    "sns.heatmap(cm, annot=True, fmt='g', cmap='Blues', xticklabels=targetnames, yticklabels=targetnames)\n",
    "plt.xlabel('Predicted Label', fontdict=label_font)\n",
    "plt.ylabel('True Label', fontdict=label_font)\n",
    "plt.title('Confusion Matrix', fontdict=title_font)\n",
    "plt.show()"
   ]
  },
  {
   "cell_type": "markdown",
   "id": "e2fbe940",
   "metadata": {
    "papermill": {
     "duration": 0.031256,
     "end_time": "2023-05-18T14:37:06.270766",
     "exception": false,
     "start_time": "2023-05-18T14:37:06.239510",
     "status": "completed"
    },
    "tags": []
   },
   "source": [
    "## Results"
   ]
  },
  {
   "cell_type": "markdown",
   "id": "df5ffe80",
   "metadata": {
    "papermill": {
     "duration": 0.031271,
     "end_time": "2023-05-18T14:37:06.333547",
     "exception": false,
     "start_time": "2023-05-18T14:37:06.302276",
     "status": "completed"
    },
    "tags": []
   },
   "source": [
    "### Individual Class Accuracy "
   ]
  },
  {
   "cell_type": "code",
   "execution_count": 27,
   "id": "0515fcf9",
   "metadata": {
    "execution": {
     "iopub.execute_input": "2023-05-18T14:37:06.400011Z",
     "iopub.status.busy": "2023-05-18T14:37:06.398040Z",
     "iopub.status.idle": "2023-05-18T14:37:06.407828Z",
     "shell.execute_reply": "2023-05-18T14:37:06.406507Z"
    },
    "papermill": {
     "duration": 0.045315,
     "end_time": "2023-05-18T14:37:06.410333",
     "exception": false,
     "start_time": "2023-05-18T14:37:06.365018",
     "status": "completed"
    },
    "tags": []
   },
   "outputs": [
    {
     "name": "stdout",
     "output_type": "stream",
     "text": [
      "Overall accuracy: 91.91%\n",
      "Accuracy for each class:\n",
      "Class 0: 45.45%\n",
      "Class 1: 81.48%\n",
      "Class 2: 72.73%\n",
      "Class 3: 66.67%\n",
      "Class 4: 51.43%\n",
      "Class 5: 98.19%\n",
      "Class 6: 88.89%\n"
     ]
    }
   ],
   "source": [
    "# y_true are the true labels of the test set\n",
    "# y_pred are the predicted labels of the test set\n",
    "accuracy = accuracy_score(y_true, y_pred)\n",
    "# Calculate accuracy for each class\n",
    "class_accuracy = cm.diagonal()/cm.sum(axis=1)\n",
    "print(\"Overall accuracy: {:.2f}%\".format(accuracy*100))\n",
    "print(\"Accuracy for each class:\")\n",
    "for i, acc in enumerate(class_accuracy):\n",
    "    print(\"Class {}: {:.2f}%\".format(i, acc*100))"
   ]
  },
  {
   "cell_type": "markdown",
   "id": "5209a3df",
   "metadata": {
    "papermill": {
     "duration": 0.031728,
     "end_time": "2023-05-18T14:37:06.474777",
     "exception": false,
     "start_time": "2023-05-18T14:37:06.443049",
     "status": "completed"
    },
    "tags": []
   },
   "source": [
    "### Individual Class Weighted Precision"
   ]
  },
  {
   "cell_type": "code",
   "execution_count": 28,
   "id": "13da4db4",
   "metadata": {
    "execution": {
     "iopub.execute_input": "2023-05-18T14:37:06.538611Z",
     "iopub.status.busy": "2023-05-18T14:37:06.538276Z",
     "iopub.status.idle": "2023-05-18T14:37:06.555389Z",
     "shell.execute_reply": "2023-05-18T14:37:06.554393Z"
    },
    "papermill": {
     "duration": 0.05165,
     "end_time": "2023-05-18T14:37:06.557478",
     "exception": false,
     "start_time": "2023-05-18T14:37:06.505828",
     "status": "completed"
    },
    "tags": []
   },
   "outputs": [
    {
     "name": "stdout",
     "output_type": "stream",
     "text": [
      "Weighted precision for each class:\n",
      "Class 0: 83.33%\n",
      "Class 1: 70.97%\n",
      "Class 2: 76.19%\n",
      "Class 3: 80.00%\n",
      "Class 4: 69.23%\n",
      "Class 5: 95.31%\n",
      "Class 6: 100.00%\n",
      "Weighted precision: 91.52%\n"
     ]
    }
   ],
   "source": [
    "report = classification_report(y_true, y_pred, output_dict=True)\n",
    "# Extract weighted precision for each class\n",
    "class_precision = {}\n",
    "for class_label in report.keys():\n",
    "    if class_label == 'weighted avg':\n",
    "        class_precision['weighted'] = report[class_label]['precision']\n",
    "    elif class_label.isdigit():\n",
    "        class_precision[int(class_label)] = report[class_label]['precision']\n",
    "print(\"Weighted precision for each class:\")\n",
    "for i, precision in class_precision.items():\n",
    "    if i == 'weighted':\n",
    "        print(\"Weighted precision: {:.2f}%\".format(precision*100))\n",
    "    else:\n",
    "        print(\"Class {}: {:.2f}%\".format(i, precision*100))"
   ]
  },
  {
   "cell_type": "markdown",
   "id": "6b3b5910",
   "metadata": {
    "papermill": {
     "duration": 0.031135,
     "end_time": "2023-05-18T14:37:06.620806",
     "exception": false,
     "start_time": "2023-05-18T14:37:06.589671",
     "status": "completed"
    },
    "tags": []
   },
   "source": [
    "### Individual Class Weighted Recall"
   ]
  },
  {
   "cell_type": "code",
   "execution_count": 29,
   "id": "915d5593",
   "metadata": {
    "execution": {
     "iopub.execute_input": "2023-05-18T14:37:06.684300Z",
     "iopub.status.busy": "2023-05-18T14:37:06.683489Z",
     "iopub.status.idle": "2023-05-18T14:37:06.697973Z",
     "shell.execute_reply": "2023-05-18T14:37:06.697000Z"
    },
    "papermill": {
     "duration": 0.048029,
     "end_time": "2023-05-18T14:37:06.699897",
     "exception": false,
     "start_time": "2023-05-18T14:37:06.651868",
     "status": "completed"
    },
    "tags": []
   },
   "outputs": [
    {
     "name": "stdout",
     "output_type": "stream",
     "text": [
      "Weighted recall for each class:\n",
      "Class 0: 45.45%\n",
      "Class 1: 81.48%\n",
      "Class 2: 72.73%\n",
      "Class 3: 66.67%\n",
      "Class 4: 51.43%\n",
      "Class 5: 98.19%\n",
      "Class 6: 88.89%\n",
      "Weighted Recall: 91.91%\n"
     ]
    }
   ],
   "source": [
    "report = classification_report(y_true, y_pred, output_dict=True)\n",
    "# Extract weighted recall for each class\n",
    "class_recall = {}\n",
    "for class_label in report.keys():\n",
    "    if class_label == 'weighted avg':\n",
    "        class_recall['weighted'] = report[class_label]['recall']\n",
    "    elif class_label.isdigit():\n",
    "        class_recall[int(class_label)] = report[class_label]['recall']\n",
    "print(\"Weighted recall for each class:\")\n",
    "for i, recall in class_recall.items():\n",
    "    if i == 'weighted':\n",
    "        print(\"Weighted Recall: {:.2f}%\".format(recall*100))\n",
    "    else:\n",
    "        print(\"Class {}: {:.2f}%\".format(i, recall*100))"
   ]
  },
  {
   "cell_type": "markdown",
   "id": "b1d926f9",
   "metadata": {
    "papermill": {
     "duration": 0.03097,
     "end_time": "2023-05-18T14:37:06.764688",
     "exception": false,
     "start_time": "2023-05-18T14:37:06.733718",
     "status": "completed"
    },
    "tags": []
   },
   "source": [
    "### Individual Class Weighted F1-score"
   ]
  },
  {
   "cell_type": "code",
   "execution_count": 30,
   "id": "1c365da0",
   "metadata": {
    "execution": {
     "iopub.execute_input": "2023-05-18T14:37:06.832010Z",
     "iopub.status.busy": "2023-05-18T14:37:06.831479Z",
     "iopub.status.idle": "2023-05-18T14:37:06.848158Z",
     "shell.execute_reply": "2023-05-18T14:37:06.847013Z"
    },
    "papermill": {
     "duration": 0.052961,
     "end_time": "2023-05-18T14:37:06.850267",
     "exception": false,
     "start_time": "2023-05-18T14:37:06.797306",
     "status": "completed"
    },
    "tags": []
   },
   "outputs": [
    {
     "name": "stdout",
     "output_type": "stream",
     "text": [
      "Weighted F1-score for each class:\n",
      "Class 0: 58.82%\n",
      "Class 1: 75.86%\n",
      "Class 2: 74.42%\n",
      "Class 3: 72.73%\n",
      "Class 4: 59.02%\n",
      "Class 5: 96.73%\n",
      "Class 6: 94.12%\n",
      "Weighted F1-score: 91.47%\n"
     ]
    }
   ],
   "source": [
    "report = classification_report(y_true, y_pred, output_dict=True)\n",
    "# Extract weighted F1-score for each class\n",
    "class_f1 = {}\n",
    "for class_label in report.keys():\n",
    "    if class_label == 'weighted avg':\n",
    "        class_f1['weighted'] = report[class_label]['f1-score']\n",
    "    elif class_label.isdigit():\n",
    "        class_f1[int(class_label)] = report[class_label]['f1-score']\n",
    "print(\"Weighted F1-score for each class:\")\n",
    "for i, f1_score in class_f1.items():\n",
    "    if i == 'weighted':\n",
    "        print(\"Weighted F1-score: {:.2f}%\".format(f1_score*100))\n",
    "    else:\n",
    "        print(\"Class {}: {:.2f}%\".format(i, f1_score*100))"
   ]
  },
  {
   "cell_type": "markdown",
   "id": "489c173f",
   "metadata": {
    "papermill": {
     "duration": 0.031968,
     "end_time": "2023-05-18T14:37:06.918055",
     "exception": false,
     "start_time": "2023-05-18T14:37:06.886087",
     "status": "completed"
    },
    "tags": []
   },
   "source": [
    "### Individual Class Precision, Recall and F1-score"
   ]
  },
  {
   "cell_type": "code",
   "execution_count": 31,
   "id": "ef5242ce",
   "metadata": {
    "execution": {
     "iopub.execute_input": "2023-05-18T14:37:06.984464Z",
     "iopub.status.busy": "2023-05-18T14:37:06.983503Z",
     "iopub.status.idle": "2023-05-18T14:37:06.992655Z",
     "shell.execute_reply": "2023-05-18T14:37:06.991455Z"
    },
    "papermill": {
     "duration": 0.045548,
     "end_time": "2023-05-18T14:37:06.994930",
     "exception": false,
     "start_time": "2023-05-18T14:37:06.949382",
     "status": "completed"
    },
    "tags": []
   },
   "outputs": [
    {
     "name": "stdout",
     "output_type": "stream",
     "text": [
      "Class-wise weighted precision, recall, and F1-score:\n",
      "Class 0: Precision=0.83, Recall=0.45, F1-score=0.59\n",
      "Class 1: Precision=0.71, Recall=0.81, F1-score=0.76\n",
      "Class 2: Precision=0.76, Recall=0.73, F1-score=0.74\n",
      "Class 3: Precision=0.80, Recall=0.67, F1-score=0.73\n",
      "Class 4: Precision=0.69, Recall=0.51, F1-score=0.59\n",
      "Class 5: Precision=0.95, Recall=0.98, F1-score=0.97\n",
      "Class 6: Precision=1.00, Recall=0.89, F1-score=0.94\n"
     ]
    }
   ],
   "source": [
    "from sklearn.metrics import precision_recall_fscore_support\n",
    "\n",
    "precision_class, recall_class, f1_class, support_class = precision_recall_fscore_support(y_true, y_pred, average=None)\n",
    "print('Class-wise weighted precision, recall, and F1-score:')\n",
    "for i in range(len(precision_class)):\n",
    "    print('Class {}: Precision={:.2f}, Recall={:.2f}, F1-score={:.2f}'.format(i, precision_class[i], recall_class[i], f1_class[i]))\n"
   ]
  },
  {
   "cell_type": "markdown",
   "id": "75133642",
   "metadata": {
    "papermill": {
     "duration": 0.031582,
     "end_time": "2023-05-18T14:37:07.060804",
     "exception": false,
     "start_time": "2023-05-18T14:37:07.029222",
     "status": "completed"
    },
    "tags": []
   },
   "source": [
    "### Individual Class Weighted Sensitivity"
   ]
  },
  {
   "cell_type": "code",
   "execution_count": 32,
   "id": "4eada01b",
   "metadata": {
    "execution": {
     "iopub.execute_input": "2023-05-18T14:37:07.125732Z",
     "iopub.status.busy": "2023-05-18T14:37:07.124789Z",
     "iopub.status.idle": "2023-05-18T14:37:08.064904Z",
     "shell.execute_reply": "2023-05-18T14:37:08.063989Z"
    },
    "papermill": {
     "duration": 0.975523,
     "end_time": "2023-05-18T14:37:08.067793",
     "exception": false,
     "start_time": "2023-05-18T14:37:07.092270",
     "status": "completed"
    },
    "tags": []
   },
   "outputs": [
    {
     "name": "stdout",
     "output_type": "stream",
     "text": [
      "Weighted Sensitivity:  0.9190821256038647\n",
      "Class  0 :sensitivity = 0.45454545454545453\n",
      "Class  1 :sensitivity = 0.8148148148148148\n",
      "Class  2 :sensitivity = 0.7272727272727273\n",
      "Class  3 :sensitivity = 0.6666666666666666\n",
      "Class  4 :sensitivity = 0.5142857142857142\n",
      "Class  5 :sensitivity = 0.9819004524886877\n",
      "Class  6 :sensitivity = 0.8888888888888888\n"
     ]
    }
   ],
   "source": [
    "from imblearn.metrics import sensitivity_score\n",
    "\n",
    "sensitivity = sensitivity_score(y_true, y_pred, average='weighted')\n",
    "print(\"Weighted Sensitivity: \", sensitivity)\n",
    "\n",
    "# Calculate class-wise sensitivity\n",
    "sensitivity = sensitivity_score(y_true, y_pred, average=None)\n",
    "\n",
    "# Print sensitivity score for each class\n",
    "for i in range(len(sensitivity)):\n",
    "    print(\"Class \", i, \":sensitivity =\", sensitivity[i])"
   ]
  },
  {
   "cell_type": "markdown",
   "id": "1454b79d",
   "metadata": {
    "papermill": {
     "duration": 0.050722,
     "end_time": "2023-05-18T14:37:08.167536",
     "exception": false,
     "start_time": "2023-05-18T14:37:08.116814",
     "status": "completed"
    },
    "tags": []
   },
   "source": [
    "### Individual Class Weighted Specificity"
   ]
  },
  {
   "cell_type": "code",
   "execution_count": 33,
   "id": "4525bf5a",
   "metadata": {
    "execution": {
     "iopub.execute_input": "2023-05-18T14:37:08.265215Z",
     "iopub.status.busy": "2023-05-18T14:37:08.264693Z",
     "iopub.status.idle": "2023-05-18T14:37:08.280319Z",
     "shell.execute_reply": "2023-05-18T14:37:08.279465Z"
    },
    "papermill": {
     "duration": 0.067534,
     "end_time": "2023-05-18T14:37:08.283324",
     "exception": false,
     "start_time": "2023-05-18T14:37:08.215790",
     "status": "completed"
    },
    "tags": []
   },
   "outputs": [
    {
     "name": "stdout",
     "output_type": "stream",
     "text": [
      "Weighted Specificity:  0.8422712790567992\n",
      "Class  0 :specificity= 0.9975186104218362\n",
      "Class  1 :specificity= 0.9887640449438202\n",
      "Class  2 :specificity= 0.9803149606299213\n",
      "Class  3 :specificity= 0.9987834549878345\n",
      "Class  4 :specificity= 0.9899117276166457\n",
      "Class  5 :specificity= 0.806060606060606\n",
      "Class  6 :specificity= 1.0\n"
     ]
    }
   ],
   "source": [
    "from imblearn.metrics import specificity_score\n",
    "\n",
    "specificity = specificity_score(y_true, y_pred, average='weighted')\n",
    "print(\"Weighted Specificity: \", specificity)\n",
    "\n",
    "# Calculate class-wise specificity\n",
    "specificity = specificity_score(y_true, y_pred, average=None)\n",
    "\n",
    "# Print sensitivity score for each class\n",
    "for i in range(len(specificity)):\n",
    "    print(\"Class \", i, \":specificity=\", specificity[i])"
   ]
  },
  {
   "cell_type": "markdown",
   "id": "8d158d6c",
   "metadata": {
    "papermill": {
     "duration": 0.04635,
     "end_time": "2023-05-18T14:37:08.378606",
     "exception": false,
     "start_time": "2023-05-18T14:37:08.332256",
     "status": "completed"
    },
    "tags": []
   },
   "source": [
    "### Accuracy"
   ]
  },
  {
   "cell_type": "code",
   "execution_count": 34,
   "id": "4d13c1f8",
   "metadata": {
    "execution": {
     "iopub.execute_input": "2023-05-18T14:37:08.469829Z",
     "iopub.status.busy": "2023-05-18T14:37:08.469259Z",
     "iopub.status.idle": "2023-05-18T14:37:08.479802Z",
     "shell.execute_reply": "2023-05-18T14:37:08.478918Z"
    },
    "papermill": {
     "duration": 0.059402,
     "end_time": "2023-05-18T14:37:08.482590",
     "exception": false,
     "start_time": "2023-05-18T14:37:08.423188",
     "status": "completed"
    },
    "tags": []
   },
   "outputs": [
    {
     "name": "stdout",
     "output_type": "stream",
     "text": [
      "Accuracy: 0.9190821256038647\n"
     ]
    }
   ],
   "source": [
    "print(\"Accuracy: \" + str(accuracy_score(y_true, y_pred)))\n",
    "import numpy as np\n",
    "from sklearn.metrics import accuracy_score"
   ]
  },
  {
   "cell_type": "code",
   "execution_count": 35,
   "id": "a0a0dea3",
   "metadata": {
    "execution": {
     "iopub.execute_input": "2023-05-18T14:37:08.582858Z",
     "iopub.status.busy": "2023-05-18T14:37:08.582399Z",
     "iopub.status.idle": "2023-05-18T14:37:08.612051Z",
     "shell.execute_reply": "2023-05-18T14:37:08.611163Z"
    },
    "papermill": {
     "duration": 0.082706,
     "end_time": "2023-05-18T14:37:08.615000",
     "exception": false,
     "start_time": "2023-05-18T14:37:08.532294",
     "status": "completed"
    },
    "tags": []
   },
   "outputs": [
    {
     "name": "stdout",
     "output_type": "stream",
     "text": [
      "Top-1 Accuracy: 0.9190821256038647\n",
      "Top-2 Accuracy: 0.966183574879227\n",
      "Top-3 Accuracy: 0.9879227053140096\n"
     ]
    }
   ],
   "source": [
    "# Calculate top-1 accuracy\n",
    "top1_acc = accuracy_score(y_true, y_pred)\n",
    "print(\"Top-1 Accuracy:\", top1_acc)\n",
    "\n",
    "# Calculate top-2 accuracy\n",
    "y_pred_top2 = np.argsort(-predictions, axis=1)[:, :2] # Get the top 2 predicted classes\n",
    "top2_acc = np.mean(np.array([y_true[i] in y_pred_top2[i] for i in range(len(y_true))]))\n",
    "print(\"Top-2 Accuracy:\", top2_acc)\n",
    "\n",
    "# Calculate top-3 accuracy\n",
    "y_pred_top3 = np.argsort(-predictions, axis=1)[:, :3] # Get the top 3 predicted classes\n",
    "top3_acc = np.mean(np.array([y_true[i] in y_pred_top3[i] for i in range(len(y_true))]))\n",
    "print(\"Top-3 Accuracy:\", top3_acc)\n",
    "from sklearn.metrics import f1_score"
   ]
  },
  {
   "cell_type": "markdown",
   "id": "7175b151",
   "metadata": {
    "papermill": {
     "duration": 0.046518,
     "end_time": "2023-05-18T14:37:08.709461",
     "exception": false,
     "start_time": "2023-05-18T14:37:08.662943",
     "status": "completed"
    },
    "tags": []
   },
   "source": [
    "### Weighted Evaluation Measures"
   ]
  },
  {
   "cell_type": "code",
   "execution_count": 36,
   "id": "16dee5b1",
   "metadata": {
    "execution": {
     "iopub.execute_input": "2023-05-18T14:37:08.776827Z",
     "iopub.status.busy": "2023-05-18T14:37:08.776469Z",
     "iopub.status.idle": "2023-05-18T14:37:08.811255Z",
     "shell.execute_reply": "2023-05-18T14:37:08.810423Z"
    },
    "papermill": {
     "duration": 0.069949,
     "end_time": "2023-05-18T14:37:08.813286",
     "exception": false,
     "start_time": "2023-05-18T14:37:08.743337",
     "status": "completed"
    },
    "tags": []
   },
   "outputs": [
    {
     "name": "stdout",
     "output_type": "stream",
     "text": [
      "Weighted Precision: 0.9151547700871182\n",
      "Weighted Recall: 0.9190821256038647\n",
      "Weighted F1-Score: 0.9146824528588439\n",
      "Weighted Sensitivity: 0.9190821256038647\n",
      "Weighted Specificity: 0.8422712790567992\n",
      "weighted Roc score: 0.9728304466886202\n"
     ]
    }
   ],
   "source": [
    "print(\"Weighted Precision: \"+ str(precision_score(y_true, y_pred, average='weighted')))\n",
    "print(\"Weighted Recall: \"+ str(recall_score(y_true, y_pred, average='weighted')))\n",
    "print(\"Weighted F1-Score: \"+ str(f1_score(y_true, y_pred, average='weighted')))\n",
    "print(\"Weighted Sensitivity: \"+ str(sensitivity_score(y_true, y_pred, average='weighted')))\n",
    "print(\"Weighted Specificity: \"+ str(specificity_score(y_true, y_pred, average='weighted')))\n",
    "print(\"weighted Roc score: \" + str(roc_auc_score(y_true,y_prob,multi_class='ovr',average='weighted')))"
   ]
  },
  {
   "cell_type": "markdown",
   "id": "e1feabf0",
   "metadata": {
    "papermill": {
     "duration": 0.031879,
     "end_time": "2023-05-18T14:37:08.877158",
     "exception": false,
     "start_time": "2023-05-18T14:37:08.845279",
     "status": "completed"
    },
    "tags": []
   },
   "source": [
    "### Macro Evaluation Measures"
   ]
  },
  {
   "cell_type": "code",
   "execution_count": 37,
   "id": "1b4680f3",
   "metadata": {
    "execution": {
     "iopub.execute_input": "2023-05-18T14:37:08.943577Z",
     "iopub.status.busy": "2023-05-18T14:37:08.942747Z",
     "iopub.status.idle": "2023-05-18T14:37:08.964834Z",
     "shell.execute_reply": "2023-05-18T14:37:08.963780Z"
    },
    "papermill": {
     "duration": 0.057676,
     "end_time": "2023-05-18T14:37:08.966933",
     "exception": false,
     "start_time": "2023-05-18T14:37:08.909257",
     "status": "completed"
    },
    "tags": []
   },
   "outputs": [
    {
     "name": "stdout",
     "output_type": "stream",
     "text": [
      "Macro Precision: 0.8214815834162577\n",
      "Macro Recall: 0.7211963884232792\n",
      "Macro F1-Score: 0.7595665303355367\n",
      "Macro Sensitivity: 0.7211963884232792\n",
      "Macro Specificity: 0.9659076292372377\n",
      "Macro Roc score: 0.9734472872369967\n"
     ]
    }
   ],
   "source": [
    "print(\"Macro Precision: \"+ str(precision_score(y_true, y_pred, average='macro')))\n",
    "print(\"Macro Recall: \"+ str(recall_score(y_true, y_pred, average='macro')))\n",
    "print(\"Macro F1-Score: \"+ str(f1_score(y_true, y_pred, average='macro')))\n",
    "print(\"Macro Sensitivity: \"+ str(sensitivity_score(y_true, y_pred, average='macro')))\n",
    "print(\"Macro Specificity: \"+ str(specificity_score(y_true, y_pred, average='macro')))\n",
    "print(\"Macro Roc score: \" + str(roc_auc_score(y_true,y_prob,multi_class='ovr',average='macro')))"
   ]
  },
  {
   "cell_type": "markdown",
   "id": "d4be84ce",
   "metadata": {
    "papermill": {
     "duration": 0.032065,
     "end_time": "2023-05-18T14:37:09.031015",
     "exception": false,
     "start_time": "2023-05-18T14:37:08.998950",
     "status": "completed"
    },
    "tags": []
   },
   "source": [
    "### Micro Evaluation Measures"
   ]
  },
  {
   "cell_type": "code",
   "execution_count": 38,
   "id": "55cad93e",
   "metadata": {
    "execution": {
     "iopub.execute_input": "2023-05-18T14:37:09.096981Z",
     "iopub.status.busy": "2023-05-18T14:37:09.096196Z",
     "iopub.status.idle": "2023-05-18T14:37:09.110984Z",
     "shell.execute_reply": "2023-05-18T14:37:09.109957Z"
    },
    "papermill": {
     "duration": 0.050377,
     "end_time": "2023-05-18T14:37:09.113552",
     "exception": false,
     "start_time": "2023-05-18T14:37:09.063175",
     "status": "completed"
    },
    "tags": []
   },
   "outputs": [
    {
     "name": "stdout",
     "output_type": "stream",
     "text": [
      "Micro Precision: 0.9190821256038647\n",
      "Micro Recall: 0.9190821256038647\n",
      "Micro F1-Score: 0.9190821256038647\n",
      "Micro Sensitivity: 0.9190821256038647\n",
      "Micro Specificity: 0.9865136876006442\n"
     ]
    }
   ],
   "source": [
    "print(\"Micro Precision: \"+ str(precision_score(y_true, y_pred, average='micro')))\n",
    "print(\"Micro Recall: \"+ str(recall_score(y_true, y_pred, average='micro')))\n",
    "print(\"Micro F1-Score: \"+ str(f1_score(y_true, y_pred, average='micro')))\n",
    "print(\"Micro Sensitivity: \"+ str(sensitivity_score(y_true, y_pred, average='micro')))\n",
    "print(\"Micro Specificity: \"+ str(specificity_score(y_true, y_pred, average='micro')))"
   ]
  },
  {
   "cell_type": "markdown",
   "id": "facbe253",
   "metadata": {
    "papermill": {
     "duration": 0.032438,
     "end_time": "2023-05-18T14:37:09.180521",
     "exception": false,
     "start_time": "2023-05-18T14:37:09.148083",
     "status": "completed"
    },
    "tags": []
   },
   "source": [
    "## ROC"
   ]
  },
  {
   "cell_type": "markdown",
   "id": "7946ce07",
   "metadata": {
    "papermill": {
     "duration": 0.035515,
     "end_time": "2023-05-18T14:37:09.250942",
     "exception": false,
     "start_time": "2023-05-18T14:37:09.215427",
     "status": "completed"
    },
    "tags": []
   },
   "source": [
    "### Compute ROC curve and ROC area for each class"
   ]
  },
  {
   "cell_type": "code",
   "execution_count": 39,
   "id": "f44a29dc",
   "metadata": {
    "execution": {
     "iopub.execute_input": "2023-05-18T14:37:09.318673Z",
     "iopub.status.busy": "2023-05-18T14:37:09.318296Z",
     "iopub.status.idle": "2023-05-18T14:37:09.608079Z",
     "shell.execute_reply": "2023-05-18T14:37:09.607199Z"
    },
    "papermill": {
     "duration": 0.32644,
     "end_time": "2023-05-18T14:37:09.610575",
     "exception": false,
     "start_time": "2023-05-18T14:37:09.284135",
     "status": "completed"
    },
    "tags": []
   },
   "outputs": [
    {
     "data": {
      "image/png": "[encoded data removed]",
      "text/plain": [
       "<Figure size 640x480 with 1 Axes>"
      ]
     },
     "metadata": {},
     "output_type": "display_data"
    }
   ],
   "source": [
    "fpr = {}\n",
    "tpr = {}\n",
    "roc_auc = dict()\n",
    "for i in range(num_classes):\n",
    "    fpr[i], tpr[i], _ = roc_curve(y_test[:, i], y_prob[:, i], drop_intermediate=False)\n",
    "    roc_auc[i] = auc(fpr[i], tpr[i])\n",
    "\n",
    "\n",
    "# plot the ROC curve for each class\n",
    "for i in range(num_classes):\n",
    "    plt.plot(fpr[i], tpr[i], label='Class {}: AUC={:.3f}'.format(i, roc_auc[i]))\n",
    "\n",
    "plt.xlabel('False Positive Rate')\n",
    "plt.ylabel('True Positive Rate')\n",
    "plt.legend()\n",
    "plt.show()"
   ]
  },
  {
   "cell_type": "markdown",
   "id": "0f9f6e8b",
   "metadata": {
    "papermill": {
     "duration": 0.033307,
     "end_time": "2023-05-18T14:37:09.677753",
     "exception": false,
     "start_time": "2023-05-18T14:37:09.644446",
     "status": "completed"
    },
    "tags": []
   },
   "source": [
    "## MCC and Kappa Score"
   ]
  },
  {
   "cell_type": "code",
   "execution_count": 40,
   "id": "3b838d86",
   "metadata": {
    "execution": {
     "iopub.execute_input": "2023-05-18T14:37:09.745566Z",
     "iopub.status.busy": "2023-05-18T14:37:09.745208Z",
     "iopub.status.idle": "2023-05-18T14:37:09.755712Z",
     "shell.execute_reply": "2023-05-18T14:37:09.754408Z"
    },
    "papermill": {
     "duration": 0.047223,
     "end_time": "2023-05-18T14:37:09.757909",
     "exception": false,
     "start_time": "2023-05-18T14:37:09.710686",
     "status": "completed"
    },
    "tags": []
   },
   "outputs": [
    {
     "name": "stdout",
     "output_type": "stream",
     "text": [
      "MCC: 75.73%\n",
      "Kappa Score: 75.51%\n"
     ]
    }
   ],
   "source": [
    "from sklearn.metrics import matthews_corrcoef, cohen_kappa_score\n",
    "\n",
    "# y_true are the true labels of the test set\n",
    "# y_pred are the predicted labels of the test set\n",
    "mcc = matthews_corrcoef(y_true, y_pred)\n",
    "kappa = cohen_kappa_score(y_true, y_pred)\n",
    "print(\"MCC: {:.2f}%\".format(mcc*100))\n",
    "print(\"Kappa Score: {:.2f}%\".format(kappa*100))"
   ]
  },
  {
   "cell_type": "code",
   "execution_count": 41,
   "id": "7cab1681",
   "metadata": {
    "execution": {
     "iopub.execute_input": "2023-05-18T14:37:09.827687Z",
     "iopub.status.busy": "2023-05-18T14:37:09.827035Z",
     "iopub.status.idle": "2023-05-18T14:37:09.895930Z",
     "shell.execute_reply": "2023-05-18T14:37:09.894617Z"
    },
    "papermill": {
     "duration": 0.10551,
     "end_time": "2023-05-18T14:37:09.898327",
     "exception": false,
     "start_time": "2023-05-18T14:37:09.792817",
     "status": "completed"
    },
    "tags": []
   },
   "outputs": [
    {
     "name": "stdout",
     "output_type": "stream",
     "text": [
      "MCC per class:\n",
      "Class 0: 60.83%\n",
      "Class 1: 75.18%\n",
      "Class 2: 72.28%\n",
      "Class 3: 72.85%\n",
      "Class 4: 58.17%\n",
      "Class 5: 82.82%\n",
      "Class 6: 94.22%\n",
      "Kappa Score per class:\n",
      "Class 0: 58.04%\n",
      "Class 1: 74.99%\n",
      "Class 2: 72.26%\n",
      "Class 3: 72.55%\n",
      "Class 4: 57.48%\n",
      "Class 5: 82.55%\n",
      "Class 6: 94.06%\n"
     ]
    }
   ],
   "source": [
    "### Individual Class Wise MCC and Kappa\n",
    "\n",
    "from sklearn.metrics import confusion_matrix, matthews_corrcoef, cohen_kappa_score\n",
    "# y_true are the true labels of the test set\n",
    "# y_pred are the predicted labels of the test set\n",
    "conf_mat = confusion_matrix(y_true, y_pred)\n",
    "mcc_per_class = {}\n",
    "kappa_per_class = {}\n",
    "\n",
    "for i in range(len(conf_mat)):\n",
    "    tp = conf_mat[i][i]\n",
    "    fp = sum(conf_mat[:, i]) - tp\n",
    "    fn = sum(conf_mat[i, :]) - tp\n",
    "    tn = sum(sum(conf_mat)) - tp - fp - fn\n",
    "\n",
    "    mcc_per_class[i] = matthews_corrcoef([1 if x==i else 0 for x in y_true], [1 if x==i else 0 for x in y_pred])\n",
    "    kappa_per_class[i] = cohen_kappa_score([1 if x==i else 0 for x in y_true], [1 if x==i else 0 for x in y_pred])\n",
    "\n",
    "print(\"MCC per class:\")\n",
    "for i, mcc in mcc_per_class.items():\n",
    "    print(\"Class {}: {:.2f}%\".format(i, mcc*100))\n",
    "\n",
    "print(\"Kappa Score per class:\")\n",
    "for i, kappa in kappa_per_class.items():\n",
    "    print(\"Class {}: {:.2f}%\".format(i, kappa*100))"
   ]
  }
 ],
 "metadata": {
  "kernelspec": {
   "display_name": "Python 3",
   "language": "python",
   "name": "python3"
  },
  "language_info": {
   "codemirror_mode": {
    "name": "ipython",
    "version": 3
   },
   "file_extension": ".py",
   "mimetype": "text/x-python",
   "name": "python",
   "nbconvert_exporter": "python",
   "pygments_lexer": "ipython3",
   "version": "3.10.10"
  },
  "papermill": {
   "default_parameters": {},
   "duration": 30320.101847,
   "end_time": "2023-05-18T14:37:13.547142",
   "environment_variables": {},
   "exception": null,
   "input_path": "__notebook__.ipynb",
   "output_path": "__notebook__.ipynb",
   "parameters": {},
   "start_time": "2023-05-18T06:11:53.445295",
   "version": "2.4.0"
  }
 },
 "nbformat": 4,
 "nbformat_minor": 5
}
