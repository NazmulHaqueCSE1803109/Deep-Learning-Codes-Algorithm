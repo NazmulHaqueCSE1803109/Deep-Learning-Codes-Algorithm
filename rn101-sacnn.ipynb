{
 "cells": [
  {
   "cell_type": "markdown",
   "id": "61a3e7d4",
   "metadata": {
    "papermill": {
     "duration": 0.014661,
     "end_time": "2023-05-27T11:19:44.961897",
     "exception": false,
     "start_time": "2023-05-27T11:19:44.947236",
     "status": "completed"
    },
    "tags": []
   },
   "source": [
    "# Libraries"
   ]
  },
  {
   "cell_type": "code",
   "execution_count": 1,
   "id": "6ac57370",
   "metadata": {
    "execution": {
     "iopub.execute_input": "2023-05-27T11:19:44.992271Z",
     "iopub.status.busy": "2023-05-27T11:19:44.991421Z",
     "iopub.status.idle": "2023-05-27T11:19:53.516439Z",
     "shell.execute_reply": "2023-05-27T11:19:53.515511Z"
    },
    "id": "Aa36bMKLze3z",
    "papermill": {
     "duration": 8.542765,
     "end_time": "2023-05-27T11:19:53.519124",
     "exception": false,
     "start_time": "2023-05-27T11:19:44.976359",
     "status": "completed"
    },
    "tags": []
   },
   "outputs": [
    {
     "name": "stderr",
     "output_type": "stream",
     "text": [
      "/opt/conda/lib/python3.10/site-packages/tensorflow_io/python/ops/__init__.py:98: UserWarning: unable to load libtensorflow_io_plugins.so: unable to open file: libtensorflow_io_plugins.so, from paths: ['/opt/conda/lib/python3.10/site-packages/tensorflow_io/python/ops/libtensorflow_io_plugins.so']\n",
      "caused by: ['/opt/conda/lib/python3.10/site-packages/tensorflow_io/python/ops/libtensorflow_io_plugins.so: undefined symbol: _ZN3tsl6StatusC1EN10tensorflow5error4CodeESt17basic_string_viewIcSt11char_traitsIcEENS_14SourceLocationE']\n",
      "  warnings.warn(f\"unable to load libtensorflow_io_plugins.so: {e}\")\n",
      "/opt/conda/lib/python3.10/site-packages/tensorflow_io/python/ops/__init__.py:104: UserWarning: file system plugins are not loaded: unable to open file: libtensorflow_io.so, from paths: ['/opt/conda/lib/python3.10/site-packages/tensorflow_io/python/ops/libtensorflow_io.so']\n",
      "caused by: ['/opt/conda/lib/python3.10/site-packages/tensorflow_io/python/ops/libtensorflow_io.so: undefined symbol: _ZTVN10tensorflow13GcsFileSystemE']\n",
      "  warnings.warn(f\"file system plugins are not loaded: {e}\")\n"
     ]
    }
   ],
   "source": [
    "import pandas as pd\n",
    "import numpy as np\n",
    "import os\n",
    "import tensorflow as tf\n",
    "import cv2\n",
    "from keras import backend as K\n",
    "from keras.layers import Layer, InputSpec\n",
    "import keras.layers as kl\n",
    "from glob import glob\n",
    "from sklearn.metrics import roc_curve, auc\n",
    "from keras.preprocessing import image\n",
    "from tensorflow.keras.models import Sequential\n",
    "from sklearn.metrics import roc_auc_score\n",
    "from tensorflow.keras import callbacks \n",
    "from tensorflow.keras.callbacks import ModelCheckpoint, EarlyStopping\n",
    "from  matplotlib import pyplot as plt\n",
    "from tensorflow.keras import Model\n",
    "from tensorflow.keras.layers import concatenate, Dense, Conv2D, MaxPooling2D, Flatten, Input, Activation, add, AveragePooling2D, BatchNormalization, Dropout, GlobalAveragePooling2D, GlobalMaxPooling2D\n",
    "%matplotlib inline\n",
    "import shutil\n",
    "from sklearn.metrics import  precision_score, recall_score, accuracy_score, classification_report, confusion_matrix\n",
    "from tensorflow.python.platform import build_info as tf_build_info\n",
    "from tensorflow.keras.preprocessing.image import ImageDataGenerator\n",
    "from sklearn.model_selection import train_test_split\n",
    "\n",
    "from PIL import ImageFile\n",
    "ImageFile.LOAD_TRUNCATED_IMAGES = True"
   ]
  },
  {
   "cell_type": "code",
   "execution_count": 2,
   "id": "aaf15050",
   "metadata": {
    "execution": {
     "iopub.execute_input": "2023-05-27T11:19:53.551716Z",
     "iopub.status.busy": "2023-05-27T11:19:53.551123Z",
     "iopub.status.idle": "2023-05-27T11:19:53.555557Z",
     "shell.execute_reply": "2023-05-27T11:19:53.554733Z"
    },
    "id": "PsoqCvNsgmHP",
    "papermill": {
     "duration": 0.022846,
     "end_time": "2023-05-27T11:19:53.557728",
     "exception": false,
     "start_time": "2023-05-27T11:19:53.534882",
     "status": "completed"
    },
    "tags": []
   },
   "outputs": [],
   "source": [
    "targetnames = ['akiec', 'bcc', 'bkl', 'df', 'mel', 'nv', 'vasc']\n",
    "batch_size = 16\n",
    "image_size = 224"
   ]
  },
  {
   "cell_type": "code",
   "execution_count": 3,
   "id": "02756284",
   "metadata": {
    "execution": {
     "iopub.execute_input": "2023-05-27T11:19:53.588701Z",
     "iopub.status.busy": "2023-05-27T11:19:53.587355Z",
     "iopub.status.idle": "2023-05-27T11:19:53.592256Z",
     "shell.execute_reply": "2023-05-27T11:19:53.591444Z"
    },
    "id": "wNisha_gM3_Z",
    "papermill": {
     "duration": 0.02206,
     "end_time": "2023-05-27T11:19:53.594209",
     "exception": false,
     "start_time": "2023-05-27T11:19:53.572149",
     "status": "completed"
    },
    "tags": []
   },
   "outputs": [],
   "source": [
    "train_path = '/kaggle/input/splitted-and-augmented-ham-15/Splitted_And_Augmented_HAM_15/HAM10K/train_dir'\n",
    "test_path = '/kaggle/input/splitted-and-augmented-ham-15/Splitted_And_Augmented_HAM_15/HAM10K/test_dir'\n",
    "val_path = '/kaggle/input/splitted-and-augmented-ham-15/Splitted_And_Augmented_HAM_15/HAM10K/val_dir'"
   ]
  },
  {
   "cell_type": "markdown",
   "id": "da1effca",
   "metadata": {
    "papermill": {
     "duration": 0.0142,
     "end_time": "2023-05-27T11:19:53.623139",
     "exception": false,
     "start_time": "2023-05-27T11:19:53.608939",
     "status": "completed"
    },
    "tags": []
   },
   "source": [
    "# Dataset generation (Train, Test, Validation)"
   ]
  },
  {
   "cell_type": "code",
   "execution_count": 4,
   "id": "edcbce98",
   "metadata": {
    "execution": {
     "iopub.execute_input": "2023-05-27T11:19:53.653509Z",
     "iopub.status.busy": "2023-05-27T11:19:53.652778Z",
     "iopub.status.idle": "2023-05-27T11:19:53.657492Z",
     "shell.execute_reply": "2023-05-27T11:19:53.656644Z"
    },
    "id": "zhQWqdRN79B3",
    "papermill": {
     "duration": 0.021824,
     "end_time": "2023-05-27T11:19:53.659375",
     "exception": false,
     "start_time": "2023-05-27T11:19:53.637551",
     "status": "completed"
    },
    "tags": []
   },
   "outputs": [],
   "source": [
    "datagen = ImageDataGenerator(preprocessing_function=tf.keras.applications.resnet.preprocess_input)"
   ]
  },
  {
   "cell_type": "code",
   "execution_count": 5,
   "id": "b0ca6400",
   "metadata": {
    "execution": {
     "iopub.execute_input": "2023-05-27T11:19:53.689191Z",
     "iopub.status.busy": "2023-05-27T11:19:53.688940Z",
     "iopub.status.idle": "2023-05-27T11:20:50.441934Z",
     "shell.execute_reply": "2023-05-27T11:20:50.441007Z"
    },
    "id": "w9_8FvOO7Rtu",
    "outputId": "7ca88c24-fda8-45d6-cb32-f3a43ae6ba5b",
    "papermill": {
     "duration": 56.770656,
     "end_time": "2023-05-27T11:20:50.444340",
     "exception": false,
     "start_time": "2023-05-27T11:19:53.673684",
     "status": "completed"
    },
    "tags": []
   },
   "outputs": [
    {
     "name": "stdout",
     "output_type": "stream",
     "text": [
      "\n",
      "Train Batches: \n",
      "Found 54782 images belonging to 7 classes.\n",
      "\n",
      "Test Batches: \n",
      "Found 828 images belonging to 7 classes.\n",
      "\n",
      "Val Batches: \n",
      "Found 827 images belonging to 7 classes.\n"
     ]
    }
   ],
   "source": [
    "print(\"\\nTrain Batches: \")\n",
    "train_batches = datagen.flow_from_directory(directory=train_path,\n",
    "                                            target_size=(image_size,image_size),\n",
    "                                            batch_size=batch_size,\n",
    "                                            shuffle=True)\n",
    "\n",
    "print(\"\\nTest Batches: \")\n",
    "test_batches = datagen.flow_from_directory(test_path,\n",
    "                                          target_size=(image_size,image_size),\n",
    "                                          batch_size=batch_size,\n",
    "                                          shuffle=False)\n",
    "print(\"\\nVal Batches: \")\n",
    "val_batches = datagen.flow_from_directory(val_path,\n",
    "                                         target_size=(image_size,image_size),\n",
    "                                         batch_size=batch_size,\n",
    "                                         shuffle=False)"
   ]
  },
  {
   "cell_type": "markdown",
   "id": "47d3b43e",
   "metadata": {
    "papermill": {
     "duration": 0.014574,
     "end_time": "2023-05-27T11:20:50.473737",
     "exception": false,
     "start_time": "2023-05-27T11:20:50.459163",
     "status": "completed"
    },
    "tags": []
   },
   "source": [
    "# Main Model Creation"
   ]
  },
  {
   "cell_type": "markdown",
   "id": "4d47027a",
   "metadata": {
    "papermill": {
     "duration": 0.014398,
     "end_time": "2023-05-27T11:20:50.502550",
     "exception": false,
     "start_time": "2023-05-27T11:20:50.488152",
     "status": "completed"
    },
    "tags": []
   },
   "source": [
    "### Soft Attention"
   ]
  },
  {
   "cell_type": "code",
   "execution_count": 6,
   "id": "63a9d2bf",
   "metadata": {
    "execution": {
     "iopub.execute_input": "2023-05-27T11:20:50.533203Z",
     "iopub.status.busy": "2023-05-27T11:20:50.532903Z",
     "iopub.status.idle": "2023-05-27T11:20:50.554510Z",
     "shell.execute_reply": "2023-05-27T11:20:50.553654Z"
    },
    "papermill": {
     "duration": 0.039446,
     "end_time": "2023-05-27T11:20:50.556477",
     "exception": false,
     "start_time": "2023-05-27T11:20:50.517031",
     "status": "completed"
    },
    "tags": []
   },
   "outputs": [],
   "source": [
    "from keras import backend as K\n",
    "from keras.layers import Layer,InputSpec\n",
    "import keras.layers as kl\n",
    "import tensorflow as tf\n",
    "\n",
    "\n",
    "\n",
    "class SoftAttention(Layer):\n",
    "    def __init__(self,ch,m,concat_with_x=False,aggregate=False,**kwargs):\n",
    "        self.channels=int(ch)\n",
    "        self.multiheads = m\n",
    "        self.aggregate_channels = aggregate\n",
    "        self.concat_input_with_scaled = concat_with_x\n",
    "\n",
    "        \n",
    "        super(SoftAttention,self).__init__(**kwargs)\n",
    "\n",
    "    def build(self,input_shape):\n",
    "\n",
    "        self.i_shape = input_shape\n",
    "\n",
    "        kernel_shape_conv3d = (self.channels, 3, 3) + (1, self.multiheads) # DHWC\n",
    "    \n",
    "        self.out_attention_maps_shape = input_shape[0:1]+(self.multiheads,)+input_shape[1:-1]\n",
    "        \n",
    "        if self.aggregate_channels==False:\n",
    "\n",
    "            self.out_features_shape = input_shape[:-1]+(input_shape[-1]+(input_shape[-1]*self.multiheads),)\n",
    "        else:\n",
    "            if self.concat_input_with_scaled:\n",
    "                self.out_features_shape = input_shape[:-1]+(input_shape[-1]*2,)\n",
    "            else:\n",
    "                self.out_features_shape = input_shape\n",
    "        \n",
    "\n",
    "        self.kernel_conv3d = self.add_weight(shape=kernel_shape_conv3d,\n",
    "                                        initializer='he_uniform',\n",
    "                                        name='kernel_conv3d')\n",
    "        self.bias_conv3d = self.add_weight(shape=(self.multiheads,),\n",
    "                                      initializer='zeros',\n",
    "                                      name='bias_conv3d')\n",
    "\n",
    "        super(SoftAttention, self).build(input_shape)\n",
    "\n",
    "    def call(self, x):\n",
    "\n",
    "        exp_x = K.expand_dims(x,axis=-1)\n",
    "\n",
    "        c3d = K.conv3d(exp_x,\n",
    "                     kernel=self.kernel_conv3d,\n",
    "                     strides=(1,1,self.i_shape[-1]), padding='same', data_format='channels_last')\n",
    "        conv3d = K.bias_add(c3d,\n",
    "                        self.bias_conv3d)\n",
    "        conv3d = kl.Activation('relu')(conv3d)\n",
    "\n",
    "        conv3d = K.permute_dimensions(conv3d,pattern=(0,4,1,2,3))\n",
    "\n",
    "        \n",
    "        conv3d = K.squeeze(conv3d, axis=-1)\n",
    "        conv3d = K.reshape(conv3d,shape=(-1, self.multiheads ,self.i_shape[1]*self.i_shape[2]))\n",
    "\n",
    "        softmax_alpha = K.softmax(conv3d, axis=-1) \n",
    "        softmax_alpha = kl.Reshape(target_shape=(self.multiheads, self.i_shape[1],self.i_shape[2]))(softmax_alpha)\n",
    "\n",
    "        \n",
    "        if self.aggregate_channels==False:\n",
    "            exp_softmax_alpha = K.expand_dims(softmax_alpha, axis=-1)       \n",
    "            exp_softmax_alpha = K.permute_dimensions(exp_softmax_alpha,pattern=(0,2,3,1,4))\n",
    "   \n",
    "            x_exp = K.expand_dims(x,axis=-2)\n",
    "   \n",
    "            u = kl.Multiply()([exp_softmax_alpha, x_exp])   \n",
    "  \n",
    "            u = kl.Reshape(target_shape=(self.i_shape[1],self.i_shape[2],u.shape[-1]*u.shape[-2]))(u)\n",
    "\n",
    "        else:\n",
    "            exp_softmax_alpha = K.permute_dimensions(softmax_alpha,pattern=(0,2,3,1))\n",
    "\n",
    "            exp_softmax_alpha = K.sum(exp_softmax_alpha,axis=-1)\n",
    "\n",
    "            exp_softmax_alpha = K.expand_dims(exp_softmax_alpha, axis=-1)\n",
    "\n",
    "            u = kl.Multiply()([exp_softmax_alpha, x])   \n",
    "\n",
    "        if self.concat_input_with_scaled:\n",
    "            o = kl.Concatenate(axis=-1)([u,x])\n",
    "        else:\n",
    "            o = u\n",
    "        \n",
    "        return [o, softmax_alpha]\n",
    "\n",
    "    def compute_output_shape(self, input_shape): \n",
    "        return [self.out_features_shape, self.out_attention_maps_shape]\n",
    "\n",
    "    \n",
    "    def get_config(self):\n",
    "        return super(SoftAttention,self).get_config()\n",
    " "
   ]
  },
  {
   "cell_type": "markdown",
   "id": "e5bcdbde",
   "metadata": {
    "papermill": {
     "duration": 0.014457,
     "end_time": "2023-05-27T11:20:50.585419",
     "exception": false,
     "start_time": "2023-05-27T11:20:50.570962",
     "status": "completed"
    },
    "tags": []
   },
   "source": [
    "### Define Model"
   ]
  },
  {
   "cell_type": "code",
   "execution_count": 7,
   "id": "b3c1b498",
   "metadata": {
    "execution": {
     "iopub.execute_input": "2023-05-27T11:20:50.617235Z",
     "iopub.status.busy": "2023-05-27T11:20:50.615655Z",
     "iopub.status.idle": "2023-05-27T11:21:04.887822Z",
     "shell.execute_reply": "2023-05-27T11:21:04.886876Z"
    },
    "id": "zhQWqdRN79B3",
    "papermill": {
     "duration": 14.290521,
     "end_time": "2023-05-27T11:21:04.890337",
     "exception": false,
     "start_time": "2023-05-27T11:20:50.599816",
     "status": "completed"
    },
    "tags": []
   },
   "outputs": [
    {
     "name": "stdout",
     "output_type": "stream",
     "text": [
      "Downloading data from https://storage.googleapis.com/tensorflow/keras-applications/resnet/resnet101_weights_tf_dim_ordering_tf_kernels_notop.h5\n",
      "171446536/171446536 [==============================] - 8s 0us/step\n"
     ]
    }
   ],
   "source": [
    "from tensorflow.keras.applications.resnet import ResNet101\n",
    "\n",
    "RN101 = ResNet101(weights='imagenet', include_top=False, input_shape=(image_size, image_size, 3), pooling='avg')"
   ]
  },
  {
   "cell_type": "markdown",
   "id": "b3b1b50b",
   "metadata": {
    "papermill": {
     "duration": 0.022728,
     "end_time": "2023-05-27T11:21:04.936809",
     "exception": false,
     "start_time": "2023-05-27T11:21:04.914081",
     "status": "completed"
    },
    "tags": []
   },
   "source": [
    "## Fine tuning"
   ]
  },
  {
   "cell_type": "code",
   "execution_count": 8,
   "id": "a9f548c7",
   "metadata": {
    "execution": {
     "iopub.execute_input": "2023-05-27T11:21:04.984646Z",
     "iopub.status.busy": "2023-05-27T11:21:04.983576Z",
     "iopub.status.idle": "2023-05-27T11:21:04.989883Z",
     "shell.execute_reply": "2023-05-27T11:21:04.989002Z"
    },
    "id": "4d4Ta5LcSYaz",
    "papermill": {
     "duration": 0.032289,
     "end_time": "2023-05-27T11:21:04.991929",
     "exception": false,
     "start_time": "2023-05-27T11:21:04.959640",
     "status": "completed"
    },
    "tags": []
   },
   "outputs": [],
   "source": [
    "MainInput=Input(shape=(image_size, image_size, 3))"
   ]
  },
  {
   "cell_type": "code",
   "execution_count": 9,
   "id": "438b4347",
   "metadata": {
    "execution": {
     "iopub.execute_input": "2023-05-27T11:21:05.038733Z",
     "iopub.status.busy": "2023-05-27T11:21:05.038444Z",
     "iopub.status.idle": "2023-05-27T11:21:05.985525Z",
     "shell.execute_reply": "2023-05-27T11:21:05.984550Z"
    },
    "papermill": {
     "duration": 0.973112,
     "end_time": "2023-05-27T11:21:05.987979",
     "exception": false,
     "start_time": "2023-05-27T11:21:05.014867",
     "status": "completed"
    },
    "tags": []
   },
   "outputs": [],
   "source": [
    "resnet = RN101(MainInput)"
   ]
  },
  {
   "cell_type": "code",
   "execution_count": 10,
   "id": "7e79540c",
   "metadata": {
    "execution": {
     "iopub.execute_input": "2023-05-27T11:21:06.037593Z",
     "iopub.status.busy": "2023-05-27T11:21:06.037305Z",
     "iopub.status.idle": "2023-05-27T11:21:06.051785Z",
     "shell.execute_reply": "2023-05-27T11:21:06.050976Z"
    },
    "papermill": {
     "duration": 0.040217,
     "end_time": "2023-05-27T11:21:06.053780",
     "exception": false,
     "start_time": "2023-05-27T11:21:06.013563",
     "status": "completed"
    },
    "tags": []
   },
   "outputs": [],
   "source": [
    "# Reshape the tensor to have 4 dimensions\n",
    "from tensorflow.keras.layers import Reshape\n",
    "reshape = Reshape((16, 16, 8))(resnet)"
   ]
  },
  {
   "cell_type": "code",
   "execution_count": 11,
   "id": "2f1cc5cc",
   "metadata": {
    "execution": {
     "iopub.execute_input": "2023-05-27T11:21:06.100558Z",
     "iopub.status.busy": "2023-05-27T11:21:06.100282Z",
     "iopub.status.idle": "2023-05-27T11:21:06.194189Z",
     "shell.execute_reply": "2023-05-27T11:21:06.193237Z"
    },
    "id": "x8mS99J5SYbT",
    "papermill": {
     "duration": 0.119739,
     "end_time": "2023-05-27T11:21:06.196425",
     "exception": false,
     "start_time": "2023-05-27T11:21:06.076686",
     "status": "completed"
    },
    "tags": []
   },
   "outputs": [],
   "source": [
    "# Add convolutional layers with Channel Attention\n",
    "conv = Conv2D(filters=128, kernel_size=(7, 7), activation=\"relu\", padding=\"same\", kernel_initializer='he_normal')(reshape)\n",
    "conv = BatchNormalization()(conv)\n",
    "conv = Conv2D(filters=128, kernel_size=(5, 5), activation=\"relu\", padding=\"same\", kernel_initializer='he_normal')(conv)\n",
    "conv = BatchNormalization()(conv)\n",
    "conv = Conv2D(filters=128, kernel_size=(3, 3), activation=\"relu\", padding=\"same\", kernel_initializer='he_normal')(conv)\n",
    "conv = BatchNormalization()(conv)\n",
    "conv = Conv2D(filters=128, kernel_size=(1, 1), activation=\"relu\", padding=\"same\", kernel_initializer='he_normal')(conv)\n",
    "conv = BatchNormalization()(conv)"
   ]
  },
  {
   "cell_type": "code",
   "execution_count": 12,
   "id": "36f44ac7",
   "metadata": {
    "execution": {
     "iopub.execute_input": "2023-05-27T11:21:06.245464Z",
     "iopub.status.busy": "2023-05-27T11:21:06.243808Z",
     "iopub.status.idle": "2023-05-27T11:21:06.578782Z",
     "shell.execute_reply": "2023-05-27T11:21:06.577886Z"
    },
    "papermill": {
     "duration": 0.361748,
     "end_time": "2023-05-27T11:21:06.581289",
     "exception": false,
     "start_time": "2023-05-27T11:21:06.219541",
     "status": "completed"
    },
    "tags": []
   },
   "outputs": [],
   "source": [
    "attention_layer,map2 = SoftAttention(aggregate=True,m=16,concat_with_x=False,ch=int(conv.shape[-1]),name='soft_attention')(conv)\n",
    "attention_layer=(MaxPooling2D(pool_size=(2, 2),padding=\"same\")(attention_layer))\n",
    "conv=(MaxPooling2D(pool_size=(2, 2),padding=\"same\")(conv))\n",
    "\n",
    "conv = concatenate([conv,attention_layer])\n",
    "conv  = Activation('relu')(conv)\n",
    "conv = Dropout(0.5)(conv)"
   ]
  },
  {
   "cell_type": "code",
   "execution_count": 13,
   "id": "2463c3fa",
   "metadata": {
    "execution": {
     "iopub.execute_input": "2023-05-27T11:21:06.629530Z",
     "iopub.status.busy": "2023-05-27T11:21:06.628123Z",
     "iopub.status.idle": "2023-05-27T11:21:06.715759Z",
     "shell.execute_reply": "2023-05-27T11:21:06.714919Z"
    },
    "id": "sW4tKg9wSYbk",
    "papermill": {
     "duration": 0.11333,
     "end_time": "2023-05-27T11:21:06.717759",
     "exception": false,
     "start_time": "2023-05-27T11:21:06.604429",
     "status": "completed"
    },
    "tags": []
   },
   "outputs": [],
   "source": [
    "conv = Conv2D(filters=256,kernel_size=(7,7), activation=\"relu\",padding=\"same\",kernel_initializer='he_normal')(conv)\n",
    "conv = BatchNormalization()(conv)\n",
    "conv = Conv2D(filters=256,kernel_size=(5,5), activation=\"relu\",padding=\"same\",kernel_initializer='he_normal')(conv)\n",
    "conv = BatchNormalization()(conv)\n",
    "conv = Conv2D(filters=256,kernel_size=(3,3), activation=\"relu\",padding=\"same\",kernel_initializer='he_normal')(conv)\n",
    "conv = BatchNormalization()(conv)\n",
    "conv = Conv2D(filters=256,kernel_size=(1,1), activation=\"relu\",padding=\"same\",kernel_initializer='he_normal')(conv)\n",
    "conv = BatchNormalization()(conv)"
   ]
  },
  {
   "cell_type": "code",
   "execution_count": 14,
   "id": "4dd905dc",
   "metadata": {
    "execution": {
     "iopub.execute_input": "2023-05-27T11:21:06.764422Z",
     "iopub.status.busy": "2023-05-27T11:21:06.764119Z",
     "iopub.status.idle": "2023-05-27T11:21:06.810700Z",
     "shell.execute_reply": "2023-05-27T11:21:06.809874Z"
    },
    "papermill": {
     "duration": 0.072144,
     "end_time": "2023-05-27T11:21:06.812699",
     "exception": false,
     "start_time": "2023-05-27T11:21:06.740555",
     "status": "completed"
    },
    "tags": []
   },
   "outputs": [],
   "source": [
    "attention_layer,map2 = SoftAttention(aggregate=True,m=16,concat_with_x=False,ch=int(conv.shape[-1]),name='soft_attention_2')(conv)\n",
    "attention_layer=(MaxPooling2D(pool_size=(2, 2),padding=\"same\")(attention_layer))\n",
    "conv=(MaxPooling2D(pool_size=(2, 2),padding=\"same\")(conv))\n",
    "\n",
    "conv = concatenate([conv,attention_layer])\n",
    "conv  = Activation('relu')(conv)\n",
    "conv = Dropout(0.5)(conv)"
   ]
  },
  {
   "cell_type": "code",
   "execution_count": 15,
   "id": "3b8e803d",
   "metadata": {
    "execution": {
     "iopub.execute_input": "2023-05-27T11:21:06.859873Z",
     "iopub.status.busy": "2023-05-27T11:21:06.859572Z",
     "iopub.status.idle": "2023-05-27T11:21:06.866205Z",
     "shell.execute_reply": "2023-05-27T11:21:06.865396Z"
    },
    "papermill": {
     "duration": 0.032033,
     "end_time": "2023-05-27T11:21:06.868135",
     "exception": false,
     "start_time": "2023-05-27T11:21:06.836102",
     "status": "completed"
    },
    "tags": []
   },
   "outputs": [
    {
     "name": "stdout",
     "output_type": "stream",
     "text": [
      "7\n"
     ]
    }
   ],
   "source": [
    "num_classes = test_batches.num_classes\n",
    "print(num_classes)"
   ]
  },
  {
   "cell_type": "code",
   "execution_count": 16,
   "id": "a25f6235",
   "metadata": {
    "execution": {
     "iopub.execute_input": "2023-05-27T11:21:06.914614Z",
     "iopub.status.busy": "2023-05-27T11:21:06.914315Z",
     "iopub.status.idle": "2023-05-27T11:21:06.967685Z",
     "shell.execute_reply": "2023-05-27T11:21:06.966871Z"
    },
    "id": "-EdFxKdgSYcf",
    "papermill": {
     "duration": 0.079074,
     "end_time": "2023-05-27T11:21:06.969724",
     "exception": false,
     "start_time": "2023-05-27T11:21:06.890650",
     "status": "completed"
    },
    "tags": []
   },
   "outputs": [],
   "source": [
    "conv=(Flatten()(conv))\n",
    "conv=(Dense(1024,activation=\"relu\")(conv))\n",
    "conv = Dropout(0.5)(conv)\n",
    "conv=(Dense(512,activation=\"relu\")(conv))\n",
    "conv = Dropout(0.25)(conv)\n",
    "conv=(Dense(num_classes, activation=\"softmax\")(conv))\n",
    "\n",
    "model_rn101_sa = Model(inputs=MainInput, outputs=conv)"
   ]
  },
  {
   "cell_type": "code",
   "execution_count": 17,
   "id": "633547ce",
   "metadata": {
    "execution": {
     "iopub.execute_input": "2023-05-27T11:21:07.016553Z",
     "iopub.status.busy": "2023-05-27T11:21:07.016281Z",
     "iopub.status.idle": "2023-05-27T11:21:07.143693Z",
     "shell.execute_reply": "2023-05-27T11:21:07.142877Z"
    },
    "id": "ba8ajOckSYcl",
    "outputId": "e69fa749-4741-4f49-ae3e-9f5479e809a8",
    "papermill": {
     "duration": 0.179483,
     "end_time": "2023-05-27T11:21:07.172040",
     "exception": false,
     "start_time": "2023-05-27T11:21:06.992557",
     "status": "completed"
    },
    "tags": []
   },
   "outputs": [
    {
     "name": "stdout",
     "output_type": "stream",
     "text": [
      "Model: \"model\"\n",
      "__________________________________________________________________________________________________\n",
      " Layer (type)                   Output Shape         Param #     Connected to                     \n",
      "==================================================================================================\n",
      " input_2 (InputLayer)           [(None, 224, 224, 3  0           []                               \n",
      "                                )]                                                                \n",
      "                                                                                                  \n",
      " resnet101 (Functional)         (None, 2048)         42658176    ['input_2[0][0]']                \n",
      "                                                                                                  \n",
      " reshape (Reshape)              (None, 16, 16, 8)    0           ['resnet101[0][0]']              \n",
      "                                                                                                  \n",
      " conv2d (Conv2D)                (None, 16, 16, 128)  50304       ['reshape[0][0]']                \n",
      "                                                                                                  \n",
      " batch_normalization (BatchNorm  (None, 16, 16, 128)  512        ['conv2d[0][0]']                 \n",
      " alization)                                                                                       \n",
      "                                                                                                  \n",
      " conv2d_1 (Conv2D)              (None, 16, 16, 128)  409728      ['batch_normalization[0][0]']    \n",
      "                                                                                                  \n",
      " batch_normalization_1 (BatchNo  (None, 16, 16, 128)  512        ['conv2d_1[0][0]']               \n",
      " rmalization)                                                                                     \n",
      "                                                                                                  \n",
      " conv2d_2 (Conv2D)              (None, 16, 16, 128)  147584      ['batch_normalization_1[0][0]']  \n",
      "                                                                                                  \n",
      " batch_normalization_2 (BatchNo  (None, 16, 16, 128)  512        ['conv2d_2[0][0]']               \n",
      " rmalization)                                                                                     \n",
      "                                                                                                  \n",
      " conv2d_3 (Conv2D)              (None, 16, 16, 128)  16512       ['batch_normalization_2[0][0]']  \n",
      "                                                                                                  \n",
      " batch_normalization_3 (BatchNo  (None, 16, 16, 128)  512        ['conv2d_3[0][0]']               \n",
      " rmalization)                                                                                     \n",
      "                                                                                                  \n",
      " soft_attention (SoftAttention)  [(None, 16, 16, 128  18448      ['batch_normalization_3[0][0]']  \n",
      "                                ),                                                                \n",
      "                                 (None, 16, 16, 16)                                               \n",
      "                                ]                                                                 \n",
      "                                                                                                  \n",
      " max_pooling2d_1 (MaxPooling2D)  (None, 8, 8, 128)   0           ['batch_normalization_3[0][0]']  \n",
      "                                                                                                  \n",
      " max_pooling2d (MaxPooling2D)   (None, 8, 8, 128)    0           ['soft_attention[0][0]']         \n",
      "                                                                                                  \n",
      " concatenate (Concatenate)      (None, 8, 8, 256)    0           ['max_pooling2d_1[0][0]',        \n",
      "                                                                  'max_pooling2d[0][0]']          \n",
      "                                                                                                  \n",
      " activation (Activation)        (None, 8, 8, 256)    0           ['concatenate[0][0]']            \n",
      "                                                                                                  \n",
      " dropout (Dropout)              (None, 8, 8, 256)    0           ['activation[0][0]']             \n",
      "                                                                                                  \n",
      " conv2d_4 (Conv2D)              (None, 8, 8, 256)    3211520     ['dropout[0][0]']                \n",
      "                                                                                                  \n",
      " batch_normalization_4 (BatchNo  (None, 8, 8, 256)   1024        ['conv2d_4[0][0]']               \n",
      " rmalization)                                                                                     \n",
      "                                                                                                  \n",
      " conv2d_5 (Conv2D)              (None, 8, 8, 256)    1638656     ['batch_normalization_4[0][0]']  \n",
      "                                                                                                  \n",
      " batch_normalization_5 (BatchNo  (None, 8, 8, 256)   1024        ['conv2d_5[0][0]']               \n",
      " rmalization)                                                                                     \n",
      "                                                                                                  \n",
      " conv2d_6 (Conv2D)              (None, 8, 8, 256)    590080      ['batch_normalization_5[0][0]']  \n",
      "                                                                                                  \n",
      " batch_normalization_6 (BatchNo  (None, 8, 8, 256)   1024        ['conv2d_6[0][0]']               \n",
      " rmalization)                                                                                     \n",
      "                                                                                                  \n",
      " conv2d_7 (Conv2D)              (None, 8, 8, 256)    65792       ['batch_normalization_6[0][0]']  \n",
      "                                                                                                  \n",
      " batch_normalization_7 (BatchNo  (None, 8, 8, 256)   1024        ['conv2d_7[0][0]']               \n",
      " rmalization)                                                                                     \n",
      "                                                                                                  \n",
      " soft_attention_2 (SoftAttentio  [(None, 8, 8, 256),  36880      ['batch_normalization_7[0][0]']  \n",
      " n)                              (None, 16, 8, 8)]                                                \n",
      "                                                                                                  \n",
      " max_pooling2d_3 (MaxPooling2D)  (None, 4, 4, 256)   0           ['batch_normalization_7[0][0]']  \n",
      "                                                                                                  \n",
      " max_pooling2d_2 (MaxPooling2D)  (None, 4, 4, 256)   0           ['soft_attention_2[0][0]']       \n",
      "                                                                                                  \n",
      " concatenate_1 (Concatenate)    (None, 4, 4, 512)    0           ['max_pooling2d_3[0][0]',        \n",
      "                                                                  'max_pooling2d_2[0][0]']        \n",
      "                                                                                                  \n",
      " activation_1 (Activation)      (None, 4, 4, 512)    0           ['concatenate_1[0][0]']          \n",
      "                                                                                                  \n",
      " dropout_1 (Dropout)            (None, 4, 4, 512)    0           ['activation_1[0][0]']           \n",
      "                                                                                                  \n",
      " flatten (Flatten)              (None, 8192)         0           ['dropout_1[0][0]']              \n",
      "                                                                                                  \n",
      " dense (Dense)                  (None, 1024)         8389632     ['flatten[0][0]']                \n",
      "                                                                                                  \n",
      " dropout_2 (Dropout)            (None, 1024)         0           ['dense[0][0]']                  \n",
      "                                                                                                  \n",
      " dense_1 (Dense)                (None, 512)          524800      ['dropout_2[0][0]']              \n",
      "                                                                                                  \n",
      " dropout_3 (Dropout)            (None, 512)          0           ['dense_1[0][0]']                \n",
      "                                                                                                  \n",
      " dense_2 (Dense)                (None, 7)            3591        ['dropout_3[0][0]']              \n",
      "                                                                                                  \n",
      "==================================================================================================\n",
      "Total params: 57,767,847\n",
      "Trainable params: 57,659,431\n",
      "Non-trainable params: 108,416\n",
      "__________________________________________________________________________________________________\n"
     ]
    }
   ],
   "source": [
    "model_rn101_sa.summary()"
   ]
  },
  {
   "cell_type": "code",
   "execution_count": 18,
   "id": "af94bdf9",
   "metadata": {
    "execution": {
     "iopub.execute_input": "2023-05-27T11:21:07.233441Z",
     "iopub.status.busy": "2023-05-27T11:21:07.233122Z",
     "iopub.status.idle": "2023-05-27T11:21:07.259443Z",
     "shell.execute_reply": "2023-05-27T11:21:07.258595Z"
    },
    "id": "WR0fUpy18vAZ",
    "papermill": {
     "duration": 0.059023,
     "end_time": "2023-05-27T11:21:07.261342",
     "exception": false,
     "start_time": "2023-05-27T11:21:07.202319",
     "status": "completed"
    },
    "tags": []
   },
   "outputs": [],
   "source": [
    "opt1=tf.keras.optimizers.Adam(learning_rate=0.001,epsilon=0.1)\n",
    "model_rn101_sa.compile(optimizer=opt1,\n",
    "             loss='categorical_crossentropy',\n",
    "             metrics=['accuracy'])"
   ]
  },
  {
   "cell_type": "code",
   "execution_count": 19,
   "id": "04d21f58",
   "metadata": {
    "execution": {
     "iopub.execute_input": "2023-05-27T11:21:07.324025Z",
     "iopub.status.busy": "2023-05-27T11:21:07.323291Z",
     "iopub.status.idle": "2023-05-27T11:21:07.328176Z",
     "shell.execute_reply": "2023-05-27T11:21:07.327264Z"
    },
    "id": "LAf5ha295reS",
    "papermill": {
     "duration": 0.03775,
     "end_time": "2023-05-27T11:21:07.330100",
     "exception": false,
     "start_time": "2023-05-27T11:21:07.292350",
     "status": "completed"
    },
    "tags": []
   },
   "outputs": [],
   "source": [
    "class_weights = {   \n",
    "                    0: 1.0,  # akiec\n",
    "                    1: 1.0,  # bcc\n",
    "                    2: 1.0,  # bkl\n",
    "                    3: 1.0,  # df\n",
    "                    4: 1.0,  # mel\n",
    "                    5: 1.0,  # nv\n",
    "                    6: 1.0  # vasc\n",
    "                }"
   ]
  },
  {
   "cell_type": "code",
   "execution_count": 20,
   "id": "b8d99a4a",
   "metadata": {
    "execution": {
     "iopub.execute_input": "2023-05-27T11:21:07.391571Z",
     "iopub.status.busy": "2023-05-27T11:21:07.390830Z",
     "iopub.status.idle": "2023-05-27T11:21:07.396055Z",
     "shell.execute_reply": "2023-05-27T11:21:07.395268Z"
    },
    "papermill": {
     "duration": 0.037743,
     "end_time": "2023-05-27T11:21:07.397899",
     "exception": false,
     "start_time": "2023-05-27T11:21:07.360156",
     "status": "completed"
    },
    "tags": []
   },
   "outputs": [],
   "source": [
    "checkpoint = ModelCheckpoint(filepath ='RN101_SA.hdf5', monitor='val_accuracy', save_best_only=True, save_weights_only=True)\n",
    "Earlystop = EarlyStopping(monitor='val_accuracy', mode='max', patience=25, min_delta=0.01)"
   ]
  },
  {
   "cell_type": "code",
   "execution_count": 21,
   "id": "3b16743f",
   "metadata": {
    "execution": {
     "iopub.execute_input": "2023-05-27T11:21:07.459450Z",
     "iopub.status.busy": "2023-05-27T11:21:07.458549Z",
     "iopub.status.idle": "2023-05-27T17:08:00.167454Z",
     "shell.execute_reply": "2023-05-27T17:08:00.166345Z"
    },
    "id": "NUzTmiZ-8hL3",
    "outputId": "e1825ff2-9f9c-436f-cf2c-9776af8eee62",
    "papermill": {
     "duration": 20812.773793,
     "end_time": "2023-05-27T17:08:00.201355",
     "exception": false,
     "start_time": "2023-05-27T11:21:07.427562",
     "status": "completed"
    },
    "tags": []
   },
   "outputs": [
    {
     "name": "stdout",
     "output_type": "stream",
     "text": [
      "Epoch 1/50\n"
     ]
    },
    {
     "name": "stderr",
     "output_type": "stream",
     "text": [
      "2023-05-27 11:21:38.489857: E tensorflow/core/grappler/optimizers/meta_optimizer.cc:954] layout failed: INVALID_ARGUMENT: Size of values 0 does not match size of permutation 4 @ fanin shape inmodel/dropout/dropout/SelectV2-2-TransposeNHWCToNCHW-LayoutOptimizer\n"
     ]
    },
    {
     "name": "stdout",
     "output_type": "stream",
     "text": [
      "3424/3424 - 786s - loss: 1.3626 - accuracy: 0.4844 - val_loss: 0.4283 - val_accuracy: 0.8670 - 786s/epoch - 229ms/step\n",
      "Epoch 2/50\n",
      "3424/3424 - 690s - loss: 0.6355 - accuracy: 0.7777 - val_loss: 0.4035 - val_accuracy: 0.8730 - 690s/epoch - 201ms/step\n",
      "Epoch 3/50\n",
      "3424/3424 - 689s - loss: 0.3750 - accuracy: 0.8713 - val_loss: 0.3500 - val_accuracy: 0.8936 - 689s/epoch - 201ms/step\n",
      "Epoch 4/50\n",
      "3424/3424 - 687s - loss: 0.2390 - accuracy: 0.9173 - val_loss: 0.3230 - val_accuracy: 0.9081 - 687s/epoch - 201ms/step\n",
      "Epoch 5/50\n",
      "3424/3424 - 691s - loss: 0.1601 - accuracy: 0.9458 - val_loss: 0.4579 - val_accuracy: 0.8803 - 691s/epoch - 202ms/step\n",
      "Epoch 6/50\n",
      "3424/3424 - 687s - loss: 0.1216 - accuracy: 0.9597 - val_loss: 0.3620 - val_accuracy: 0.8936 - 687s/epoch - 201ms/step\n",
      "Epoch 7/50\n",
      "3424/3424 - 688s - loss: 0.0918 - accuracy: 0.9695 - val_loss: 0.3971 - val_accuracy: 0.9008 - 688s/epoch - 201ms/step\n",
      "Epoch 8/50\n",
      "3424/3424 - 687s - loss: 0.0708 - accuracy: 0.9768 - val_loss: 0.4037 - val_accuracy: 0.8960 - 687s/epoch - 201ms/step\n",
      "Epoch 9/50\n",
      "3424/3424 - 688s - loss: 0.0551 - accuracy: 0.9821 - val_loss: 0.4209 - val_accuracy: 0.9081 - 688s/epoch - 201ms/step\n",
      "Epoch 10/50\n",
      "3424/3424 - 687s - loss: 0.0444 - accuracy: 0.9853 - val_loss: 0.4688 - val_accuracy: 0.8839 - 687s/epoch - 201ms/step\n",
      "Epoch 11/50\n",
      "3424/3424 - 689s - loss: 0.0366 - accuracy: 0.9882 - val_loss: 0.4504 - val_accuracy: 0.9033 - 689s/epoch - 201ms/step\n",
      "Epoch 12/50\n",
      "3424/3424 - 692s - loss: 0.0314 - accuracy: 0.9900 - val_loss: 0.4134 - val_accuracy: 0.9045 - 692s/epoch - 202ms/step\n",
      "Epoch 13/50\n",
      "3424/3424 - 690s - loss: 0.0249 - accuracy: 0.9922 - val_loss: 0.4058 - val_accuracy: 0.9045 - 690s/epoch - 202ms/step\n",
      "Epoch 14/50\n",
      "3424/3424 - 689s - loss: 0.0277 - accuracy: 0.9916 - val_loss: 0.4101 - val_accuracy: 0.9069 - 689s/epoch - 201ms/step\n",
      "Epoch 15/50\n",
      "3424/3424 - 688s - loss: 0.0266 - accuracy: 0.9922 - val_loss: 0.4285 - val_accuracy: 0.9057 - 688s/epoch - 201ms/step\n",
      "Epoch 16/50\n",
      "3424/3424 - 688s - loss: 0.0166 - accuracy: 0.9945 - val_loss: 0.6187 - val_accuracy: 0.8948 - 688s/epoch - 201ms/step\n",
      "Epoch 17/50\n",
      "3424/3424 - 686s - loss: 0.0223 - accuracy: 0.9930 - val_loss: 0.5491 - val_accuracy: 0.8900 - 686s/epoch - 200ms/step\n",
      "Epoch 18/50\n",
      "3424/3424 - 688s - loss: 0.0218 - accuracy: 0.9933 - val_loss: 0.5099 - val_accuracy: 0.9045 - 688s/epoch - 201ms/step\n",
      "Epoch 19/50\n",
      "3424/3424 - 688s - loss: 0.0153 - accuracy: 0.9954 - val_loss: 0.5396 - val_accuracy: 0.9057 - 688s/epoch - 201ms/step\n",
      "Epoch 20/50\n",
      "3424/3424 - 690s - loss: 0.0116 - accuracy: 0.9963 - val_loss: 0.5144 - val_accuracy: 0.9033 - 690s/epoch - 201ms/step\n",
      "Epoch 21/50\n",
      "3424/3424 - 691s - loss: 0.0139 - accuracy: 0.9957 - val_loss: 0.5006 - val_accuracy: 0.9008 - 691s/epoch - 202ms/step\n",
      "Epoch 22/50\n",
      "3424/3424 - 689s - loss: 0.0177 - accuracy: 0.9947 - val_loss: 0.5079 - val_accuracy: 0.8948 - 689s/epoch - 201ms/step\n",
      "Epoch 23/50\n",
      "3424/3424 - 690s - loss: 0.0125 - accuracy: 0.9961 - val_loss: 0.5109 - val_accuracy: 0.8996 - 690s/epoch - 201ms/step\n",
      "Epoch 24/50\n",
      "3424/3424 - 690s - loss: 0.0094 - accuracy: 0.9970 - val_loss: 0.5876 - val_accuracy: 0.9045 - 690s/epoch - 201ms/step\n",
      "Epoch 25/50\n",
      "3424/3424 - 690s - loss: 0.0117 - accuracy: 0.9965 - val_loss: 0.5383 - val_accuracy: 0.9105 - 690s/epoch - 201ms/step\n",
      "Epoch 26/50\n",
      "3424/3424 - 687s - loss: 0.0101 - accuracy: 0.9971 - val_loss: 0.5099 - val_accuracy: 0.9021 - 687s/epoch - 201ms/step\n",
      "Epoch 27/50\n",
      "3424/3424 - 687s - loss: 0.0088 - accuracy: 0.9974 - val_loss: 0.5672 - val_accuracy: 0.8984 - 687s/epoch - 201ms/step\n",
      "Epoch 28/50\n",
      "3424/3424 - 688s - loss: 0.0087 - accuracy: 0.9972 - val_loss: 0.5704 - val_accuracy: 0.8960 - 688s/epoch - 201ms/step\n",
      "Epoch 29/50\n",
      "3424/3424 - 688s - loss: 0.0053 - accuracy: 0.9986 - val_loss: 0.6157 - val_accuracy: 0.9045 - 688s/epoch - 201ms/step\n"
     ]
    }
   ],
   "source": [
    "history = model_rn101_sa.fit(train_batches,\n",
    "                         epochs=50,\n",
    "                         verbose=2,\n",
    "                         validation_data=val_batches,\n",
    "                         callbacks=[checkpoint,Earlystop],\n",
    "                         class_weight=class_weights)"
   ]
  },
  {
   "cell_type": "markdown",
   "id": "a89183ec",
   "metadata": {
    "papermill": {
     "duration": 0.034397,
     "end_time": "2023-05-27T17:08:00.269680",
     "exception": false,
     "start_time": "2023-05-27T17:08:00.235283",
     "status": "completed"
    },
    "tags": []
   },
   "source": [
    "### Plotting accuracy and loss"
   ]
  },
  {
   "cell_type": "code",
   "execution_count": 22,
   "id": "4edecc0c",
   "metadata": {
    "execution": {
     "iopub.execute_input": "2023-05-27T17:08:00.338688Z",
     "iopub.status.busy": "2023-05-27T17:08:00.338362Z",
     "iopub.status.idle": "2023-05-27T17:08:54.540392Z",
     "shell.execute_reply": "2023-05-27T17:08:54.539516Z"
    },
    "papermill": {
     "duration": 54.275154,
     "end_time": "2023-05-27T17:08:54.578656",
     "exception": false,
     "start_time": "2023-05-27T17:08:00.303502",
     "status": "completed"
    },
    "tags": []
   },
   "outputs": [
    {
     "name": "stdout",
     "output_type": "stream",
     "text": [
      "Number of epochs trained: 29\n"
     ]
    },
    {
     "data": {
      "image/png": "[encoded data removed]",
      "text/plain": [
       "<Figure size 1500x500 with 2 Axes>"
      ]
     },
     "metadata": {},
     "output_type": "display_data"
    }
   ],
   "source": [
    "# Determine number of epochs trained\n",
    "num_epochs_trained = len(history.history['val_loss'])\n",
    "print(f\"Number of epochs trained: {num_epochs_trained}\")\n",
    "\n",
    "## History plotting\n",
    "epochs = [i for i in range(num_epochs_trained)]\n",
    "fig , ax = plt.subplots(1,2)\n",
    "train_acc = history.history['accuracy']\n",
    "train_loss = history.history['loss']\n",
    "val_acc = history.history['val_accuracy']\n",
    "val_loss = history.history['val_loss']\n",
    "fig.set_size_inches(15,5)\n",
    "\n",
    "ax[0].plot(epochs , train_acc , 'go-' , label = 'Training Accuracy')\n",
    "ax[0].plot(epochs , val_acc , 'ro-' , label = 'Validation Accuracy')\n",
    "title_font = {'fontname':'Times New Roman', 'size':'14', 'color':'black', 'weight':'normal'}\n",
    "ax[0].set_title('Model Accuracy', fontdict=title_font)\n",
    "legend_font = {'family': 'Times New Roman', 'size': '12', 'weight': 'normal'}\n",
    "ax[0].legend(prop=legend_font)\n",
    "label_font = {'fontname':'Times New Roman', 'size':'12', 'color':'black', 'weight':'normal'}\n",
    "ax[0].set_xlabel(\"Epochs\",  fontdict=label_font)\n",
    "ax[0].set_ylabel(\"Accuracy\",  fontdict=label_font)\n",
    "\n",
    "ax[1].plot(epochs , train_loss , 'g-o' , label = 'Training Loss')\n",
    "ax[1].plot(epochs , val_loss , 'r-o' , label = 'Validation Loss')\n",
    "ax[1].set_title('Model Loss', fontdict=title_font)\n",
    "ax[1].legend(prop=legend_font)\n",
    "ax[1].set_xlabel(\"Epochs\", fontdict=label_font)\n",
    "ax[1].set_ylabel(\"Loss\", fontdict=label_font)\n",
    "plt.show()"
   ]
  },
  {
   "cell_type": "code",
   "execution_count": 23,
   "id": "cc85ca62",
   "metadata": {
    "execution": {
     "iopub.execute_input": "2023-05-27T17:08:54.723138Z",
     "iopub.status.busy": "2023-05-27T17:08:54.722785Z",
     "iopub.status.idle": "2023-05-27T17:08:55.485912Z",
     "shell.execute_reply": "2023-05-27T17:08:55.484823Z"
    },
    "id": "zm_AewFBXTj8",
    "papermill": {
     "duration": 0.874739,
     "end_time": "2023-05-27T17:08:55.488246",
     "exception": false,
     "start_time": "2023-05-27T17:08:54.613507",
     "status": "completed"
    },
    "tags": []
   },
   "outputs": [],
   "source": [
    "from tensorflow.keras import models\n",
    "model_rn101_sa.load_weights(\"RN101_SA.hdf5\")"
   ]
  },
  {
   "cell_type": "code",
   "execution_count": 24,
   "id": "a7dbddf6",
   "metadata": {
    "execution": {
     "iopub.execute_input": "2023-05-27T17:08:55.561572Z",
     "iopub.status.busy": "2023-05-27T17:08:55.560119Z",
     "iopub.status.idle": "2023-05-27T17:09:14.191088Z",
     "shell.execute_reply": "2023-05-27T17:09:14.190186Z"
    },
    "papermill": {
     "duration": 18.6695,
     "end_time": "2023-05-27T17:09:14.193225",
     "exception": false,
     "start_time": "2023-05-27T17:08:55.523725",
     "status": "completed"
    },
    "tags": []
   },
   "outputs": [
    {
     "name": "stdout",
     "output_type": "stream",
     "text": [
      "52/52 [==============================] - 18s 304ms/step\n"
     ]
    }
   ],
   "source": [
    "predictions = model_rn101_sa.predict(test_batches)"
   ]
  },
  {
   "cell_type": "code",
   "execution_count": 25,
   "id": "78219e13",
   "metadata": {
    "execution": {
     "iopub.execute_input": "2023-05-27T17:09:14.276837Z",
     "iopub.status.busy": "2023-05-27T17:09:14.275833Z",
     "iopub.status.idle": "2023-05-27T17:09:14.281334Z",
     "shell.execute_reply": "2023-05-27T17:09:14.280502Z"
    },
    "id": "FDTMtBeTdBfU",
    "papermill": {
     "duration": 0.050046,
     "end_time": "2023-05-27T17:09:14.283245",
     "exception": false,
     "start_time": "2023-05-27T17:09:14.233199",
     "status": "completed"
    },
    "tags": []
   },
   "outputs": [],
   "source": [
    "#geting predictions on test dataset\n",
    "y_pred = np.argmax(predictions, axis=1)\n",
    "#getting the true labels per image \n",
    "y_true = test_batches.classes\n",
    "#getting the predicted labels per image \n",
    "y_prob = predictions"
   ]
  },
  {
   "cell_type": "code",
   "execution_count": 26,
   "id": "e887c152",
   "metadata": {
    "execution": {
     "iopub.execute_input": "2023-05-27T17:09:14.368899Z",
     "iopub.status.busy": "2023-05-27T17:09:14.368031Z",
     "iopub.status.idle": "2023-05-27T17:09:14.387127Z",
     "shell.execute_reply": "2023-05-27T17:09:14.385791Z"
    },
    "papermill": {
     "duration": 0.067138,
     "end_time": "2023-05-27T17:09:14.389791",
     "exception": false,
     "start_time": "2023-05-27T17:09:14.322653",
     "status": "completed"
    },
    "tags": []
   },
   "outputs": [
    {
     "name": "stdout",
     "output_type": "stream",
     "text": [
      "\n",
      "Classification Report:\n",
      "              precision    recall  f1-score   support\n",
      "\n",
      "          AK       0.88      0.68      0.77        22\n",
      "         BCC       0.78      0.67      0.72        27\n",
      "         BKL       0.70      0.73      0.71        66\n",
      "          DF       1.00      0.67      0.80         6\n",
      "         MEL       0.59      0.46      0.52        35\n",
      "          NV       0.96      0.98      0.97       663\n",
      "        VASC       1.00      1.00      1.00         9\n",
      "\n",
      "    accuracy                           0.92       828\n",
      "   macro avg       0.84      0.74      0.78       828\n",
      "weighted avg       0.91      0.92      0.91       828\n",
      "\n"
     ]
    }
   ],
   "source": [
    "classnames = ['AK', 'BCC', 'BKL', 'DF', 'MEL', 'NV', 'VASC']\n",
    "\n",
    "from tensorflow.keras.utils import to_categorical\n",
    "y_test = to_categorical(y_true)\n",
    "\n",
    "report = classification_report(y_true, y_pred, target_names=classnames)\n",
    "\n",
    "print(\"\\nClassification Report:\")\n",
    "print(report)"
   ]
  },
  {
   "cell_type": "code",
   "execution_count": 27,
   "id": "405fa418",
   "metadata": {
    "execution": {
     "iopub.execute_input": "2023-05-27T17:09:14.478529Z",
     "iopub.status.busy": "2023-05-27T17:09:14.478243Z",
     "iopub.status.idle": "2023-05-27T17:09:15.099209Z",
     "shell.execute_reply": "2023-05-27T17:09:15.098330Z"
    },
    "papermill": {
     "duration": 0.666703,
     "end_time": "2023-05-27T17:09:15.101595",
     "exception": false,
     "start_time": "2023-05-27T17:09:14.434892",
     "status": "completed"
    },
    "tags": []
   },
   "outputs": [
    {
     "data": {
      "image/png": "[encoded data removed]",
      "text/plain": [
       "<Figure size 1000x400 with 2 Axes>"
      ]
     },
     "metadata": {},
     "output_type": "display_data"
    }
   ],
   "source": [
    "## Confusion Matrix\n",
    "title_font = {'fontname':'Times New Roman', 'size':'14', 'color':'black', 'weight':'normal'}\n",
    "label_font = {'fontname':'Times New Roman', 'size':'12', 'color':'black', 'weight':'normal'}\n",
    "\n",
    "from sklearn.metrics import confusion_matrix\n",
    "import seaborn as sns\n",
    "# Creating confusion matrix \n",
    "cm = confusion_matrix(y_true, y_pred)\n",
    "# Plotting the confusion matrix\n",
    "plt.figure(figsize=(10,4))\n",
    "sns.heatmap(cm, annot=True, fmt='g', cmap='Blues', xticklabels=targetnames, yticklabels=targetnames)\n",
    "plt.xlabel('Predicted Label', fontdict=label_font)\n",
    "plt.ylabel('True Label', fontdict=label_font)\n",
    "plt.title('Confusion Matrix', fontdict=title_font)\n",
    "plt.show()"
   ]
  },
  {
   "cell_type": "markdown",
   "id": "0cafdd62",
   "metadata": {
    "papermill": {
     "duration": 0.039589,
     "end_time": "2023-05-27T17:09:15.181534",
     "exception": false,
     "start_time": "2023-05-27T17:09:15.141945",
     "status": "completed"
    },
    "tags": []
   },
   "source": [
    "## Results"
   ]
  },
  {
   "cell_type": "markdown",
   "id": "b593ddda",
   "metadata": {
    "papermill": {
     "duration": 0.043456,
     "end_time": "2023-05-27T17:09:15.267036",
     "exception": false,
     "start_time": "2023-05-27T17:09:15.223580",
     "status": "completed"
    },
    "tags": []
   },
   "source": [
    "### Individual Class Accuracy "
   ]
  },
  {
   "cell_type": "code",
   "execution_count": 28,
   "id": "fb959cd6",
   "metadata": {
    "execution": {
     "iopub.execute_input": "2023-05-27T17:09:15.353438Z",
     "iopub.status.busy": "2023-05-27T17:09:15.352496Z",
     "iopub.status.idle": "2023-05-27T17:09:15.361888Z",
     "shell.execute_reply": "2023-05-27T17:09:15.360593Z"
    },
    "papermill": {
     "duration": 0.05413,
     "end_time": "2023-05-27T17:09:15.364088",
     "exception": false,
     "start_time": "2023-05-27T17:09:15.309958",
     "status": "completed"
    },
    "tags": []
   },
   "outputs": [
    {
     "name": "stdout",
     "output_type": "stream",
     "text": [
      "Overall accuracy: 91.67%\n",
      "Accuracy for each class:\n",
      "Class 0: 68.18%\n",
      "Class 1: 66.67%\n",
      "Class 2: 72.73%\n",
      "Class 3: 66.67%\n",
      "Class 4: 45.71%\n",
      "Class 5: 97.89%\n",
      "Class 6: 100.00%\n"
     ]
    }
   ],
   "source": [
    "# y_true are the true labels of the test set\n",
    "# y_pred are the predicted labels of the test set\n",
    "accuracy = accuracy_score(y_true, y_pred)\n",
    "# Calculate accuracy for each class\n",
    "class_accuracy = cm.diagonal()/cm.sum(axis=1)\n",
    "print(\"Overall accuracy: {:.2f}%\".format(accuracy*100))\n",
    "print(\"Accuracy for each class:\")\n",
    "for i, acc in enumerate(class_accuracy):\n",
    "    print(\"Class {}: {:.2f}%\".format(i, acc*100))"
   ]
  },
  {
   "cell_type": "markdown",
   "id": "5f8c41a5",
   "metadata": {
    "papermill": {
     "duration": 0.040445,
     "end_time": "2023-05-27T17:09:15.448871",
     "exception": false,
     "start_time": "2023-05-27T17:09:15.408426",
     "status": "completed"
    },
    "tags": []
   },
   "source": [
    "### Individual Class Weighted Precision"
   ]
  },
  {
   "cell_type": "code",
   "execution_count": 29,
   "id": "14daf0d9",
   "metadata": {
    "execution": {
     "iopub.execute_input": "2023-05-27T17:09:15.529981Z",
     "iopub.status.busy": "2023-05-27T17:09:15.529648Z",
     "iopub.status.idle": "2023-05-27T17:09:15.545808Z",
     "shell.execute_reply": "2023-05-27T17:09:15.544446Z"
    },
    "papermill": {
     "duration": 0.059242,
     "end_time": "2023-05-27T17:09:15.548111",
     "exception": false,
     "start_time": "2023-05-27T17:09:15.488869",
     "status": "completed"
    },
    "tags": []
   },
   "outputs": [
    {
     "name": "stdout",
     "output_type": "stream",
     "text": [
      "Weighted precision for each class:\n",
      "Class 0: 88.24%\n",
      "Class 1: 78.26%\n",
      "Class 2: 69.57%\n",
      "Class 3: 100.00%\n",
      "Class 4: 59.26%\n",
      "Class 5: 95.58%\n",
      "Class 6: 100.00%\n",
      "Weighted precision: 91.29%\n"
     ]
    }
   ],
   "source": [
    "report = classification_report(y_true, y_pred, output_dict=True)\n",
    "# Extract weighted precision for each class\n",
    "class_precision = {}\n",
    "for class_label in report.keys():\n",
    "    if class_label == 'weighted avg':\n",
    "        class_precision['weighted'] = report[class_label]['precision']\n",
    "    elif class_label.isdigit():\n",
    "        class_precision[int(class_label)] = report[class_label]['precision']\n",
    "print(\"Weighted precision for each class:\")\n",
    "for i, precision in class_precision.items():\n",
    "    if i == 'weighted':\n",
    "        print(\"Weighted precision: {:.2f}%\".format(precision*100))\n",
    "    else:\n",
    "        print(\"Class {}: {:.2f}%\".format(i, precision*100))"
   ]
  },
  {
   "cell_type": "markdown",
   "id": "2e8f521e",
   "metadata": {
    "papermill": {
     "duration": 0.039099,
     "end_time": "2023-05-27T17:09:15.628172",
     "exception": false,
     "start_time": "2023-05-27T17:09:15.589073",
     "status": "completed"
    },
    "tags": []
   },
   "source": [
    "### Individual Class Weighted Recall"
   ]
  },
  {
   "cell_type": "code",
   "execution_count": 30,
   "id": "70eecebb",
   "metadata": {
    "execution": {
     "iopub.execute_input": "2023-05-27T17:09:15.709439Z",
     "iopub.status.busy": "2023-05-27T17:09:15.708594Z",
     "iopub.status.idle": "2023-05-27T17:09:15.723348Z",
     "shell.execute_reply": "2023-05-27T17:09:15.722310Z"
    },
    "papermill": {
     "duration": 0.057693,
     "end_time": "2023-05-27T17:09:15.725228",
     "exception": false,
     "start_time": "2023-05-27T17:09:15.667535",
     "status": "completed"
    },
    "tags": []
   },
   "outputs": [
    {
     "name": "stdout",
     "output_type": "stream",
     "text": [
      "Weighted recall for each class:\n",
      "Class 0: 68.18%\n",
      "Class 1: 66.67%\n",
      "Class 2: 72.73%\n",
      "Class 3: 66.67%\n",
      "Class 4: 45.71%\n",
      "Class 5: 97.89%\n",
      "Class 6: 100.00%\n",
      "Weighted Recall: 91.67%\n"
     ]
    }
   ],
   "source": [
    "report = classification_report(y_true, y_pred, output_dict=True)\n",
    "# Extract weighted recall for each class\n",
    "class_recall = {}\n",
    "for class_label in report.keys():\n",
    "    if class_label == 'weighted avg':\n",
    "        class_recall['weighted'] = report[class_label]['recall']\n",
    "    elif class_label.isdigit():\n",
    "        class_recall[int(class_label)] = report[class_label]['recall']\n",
    "print(\"Weighted recall for each class:\")\n",
    "for i, recall in class_recall.items():\n",
    "    if i == 'weighted':\n",
    "        print(\"Weighted Recall: {:.2f}%\".format(recall*100))\n",
    "    else:\n",
    "        print(\"Class {}: {:.2f}%\".format(i, recall*100))"
   ]
  },
  {
   "cell_type": "markdown",
   "id": "32e1892e",
   "metadata": {
    "papermill": {
     "duration": 0.039446,
     "end_time": "2023-05-27T17:09:15.804573",
     "exception": false,
     "start_time": "2023-05-27T17:09:15.765127",
     "status": "completed"
    },
    "tags": []
   },
   "source": [
    "### Individual Class Weighted F1-score"
   ]
  },
  {
   "cell_type": "code",
   "execution_count": 31,
   "id": "3a7f3103",
   "metadata": {
    "execution": {
     "iopub.execute_input": "2023-05-27T17:09:15.886496Z",
     "iopub.status.busy": "2023-05-27T17:09:15.885006Z",
     "iopub.status.idle": "2023-05-27T17:09:15.901388Z",
     "shell.execute_reply": "2023-05-27T17:09:15.900473Z"
    },
    "papermill": {
     "duration": 0.058931,
     "end_time": "2023-05-27T17:09:15.903460",
     "exception": false,
     "start_time": "2023-05-27T17:09:15.844529",
     "status": "completed"
    },
    "tags": []
   },
   "outputs": [
    {
     "name": "stdout",
     "output_type": "stream",
     "text": [
      "Weighted F1-score for each class:\n",
      "Class 0: 76.92%\n",
      "Class 1: 72.00%\n",
      "Class 2: 71.11%\n",
      "Class 3: 80.00%\n",
      "Class 4: 51.61%\n",
      "Class 5: 96.72%\n",
      "Class 6: 100.00%\n",
      "Weighted F1-score: 91.36%\n"
     ]
    }
   ],
   "source": [
    "report = classification_report(y_true, y_pred, output_dict=True)\n",
    "# Extract weighted F1-score for each class\n",
    "class_f1 = {}\n",
    "for class_label in report.keys():\n",
    "    if class_label == 'weighted avg':\n",
    "        class_f1['weighted'] = report[class_label]['f1-score']\n",
    "    elif class_label.isdigit():\n",
    "        class_f1[int(class_label)] = report[class_label]['f1-score']\n",
    "print(\"Weighted F1-score for each class:\")\n",
    "for i, f1_score in class_f1.items():\n",
    "    if i == 'weighted':\n",
    "        print(\"Weighted F1-score: {:.2f}%\".format(f1_score*100))\n",
    "    else:\n",
    "        print(\"Class {}: {:.2f}%\".format(i, f1_score*100))"
   ]
  },
  {
   "cell_type": "markdown",
   "id": "2f3d9efd",
   "metadata": {
    "papermill": {
     "duration": 0.039454,
     "end_time": "2023-05-27T17:09:15.983505",
     "exception": false,
     "start_time": "2023-05-27T17:09:15.944051",
     "status": "completed"
    },
    "tags": []
   },
   "source": [
    "### Individual Class Precision, Recall and F1-score"
   ]
  },
  {
   "cell_type": "code",
   "execution_count": 32,
   "id": "fead59f5",
   "metadata": {
    "execution": {
     "iopub.execute_input": "2023-05-27T17:09:16.065478Z",
     "iopub.status.busy": "2023-05-27T17:09:16.064731Z",
     "iopub.status.idle": "2023-05-27T17:09:16.073225Z",
     "shell.execute_reply": "2023-05-27T17:09:16.071979Z"
    },
    "papermill": {
     "duration": 0.051096,
     "end_time": "2023-05-27T17:09:16.075137",
     "exception": false,
     "start_time": "2023-05-27T17:09:16.024041",
     "status": "completed"
    },
    "tags": []
   },
   "outputs": [
    {
     "name": "stdout",
     "output_type": "stream",
     "text": [
      "Class-wise weighted precision, recall, and F1-score:\n",
      "Class 0: Precision=0.88, Recall=0.68, F1-score=0.77\n",
      "Class 1: Precision=0.78, Recall=0.67, F1-score=0.72\n",
      "Class 2: Precision=0.70, Recall=0.73, F1-score=0.71\n",
      "Class 3: Precision=1.00, Recall=0.67, F1-score=0.80\n",
      "Class 4: Precision=0.59, Recall=0.46, F1-score=0.52\n",
      "Class 5: Precision=0.96, Recall=0.98, F1-score=0.97\n",
      "Class 6: Precision=1.00, Recall=1.00, F1-score=1.00\n"
     ]
    }
   ],
   "source": [
    "from sklearn.metrics import precision_recall_fscore_support\n",
    "\n",
    "precision_class, recall_class, f1_class, support_class = precision_recall_fscore_support(y_true, y_pred, average=None)\n",
    "print('Class-wise weighted precision, recall, and F1-score:')\n",
    "for i in range(len(precision_class)):\n",
    "    print('Class {}: Precision={:.2f}, Recall={:.2f}, F1-score={:.2f}'.format(i, precision_class[i], recall_class[i], f1_class[i]))\n"
   ]
  },
  {
   "cell_type": "markdown",
   "id": "55fd3294",
   "metadata": {
    "papermill": {
     "duration": 0.039581,
     "end_time": "2023-05-27T17:09:16.155081",
     "exception": false,
     "start_time": "2023-05-27T17:09:16.115500",
     "status": "completed"
    },
    "tags": []
   },
   "source": [
    "### Individual Class Weighted Sensitivity"
   ]
  },
  {
   "cell_type": "code",
   "execution_count": 33,
   "id": "d3f55e7d",
   "metadata": {
    "execution": {
     "iopub.execute_input": "2023-05-27T17:09:16.237083Z",
     "iopub.status.busy": "2023-05-27T17:09:16.236774Z",
     "iopub.status.idle": "2023-05-27T17:09:16.669755Z",
     "shell.execute_reply": "2023-05-27T17:09:16.668290Z"
    },
    "papermill": {
     "duration": 0.476529,
     "end_time": "2023-05-27T17:09:16.671760",
     "exception": false,
     "start_time": "2023-05-27T17:09:16.195231",
     "status": "completed"
    },
    "tags": []
   },
   "outputs": [
    {
     "name": "stdout",
     "output_type": "stream",
     "text": [
      "Weighted Sensitivity:  0.9166666666666666\n",
      "Class  0 :sensitivity = 0.6818181818181818\n",
      "Class  1 :sensitivity = 0.6666666666666666\n",
      "Class  2 :sensitivity = 0.7272727272727273\n",
      "Class  3 :sensitivity = 0.6666666666666666\n",
      "Class  4 :sensitivity = 0.45714285714285713\n",
      "Class  5 :sensitivity = 0.9788838612368024\n",
      "Class  6 :sensitivity = 1.0\n"
     ]
    }
   ],
   "source": [
    "from imblearn.metrics import sensitivity_score\n",
    "\n",
    "sensitivity = sensitivity_score(y_true, y_pred, average='weighted')\n",
    "print(\"Weighted Sensitivity: \", sensitivity)\n",
    "\n",
    "# Calculate class-wise sensitivity\n",
    "sensitivity = sensitivity_score(y_true, y_pred, average=None)\n",
    "\n",
    "# Print sensitivity score for each class\n",
    "for i in range(len(sensitivity)):\n",
    "    print(\"Class \", i, \":sensitivity =\", sensitivity[i])"
   ]
  },
  {
   "cell_type": "markdown",
   "id": "25d9ec61",
   "metadata": {
    "papermill": {
     "duration": 0.039841,
     "end_time": "2023-05-27T17:09:16.753126",
     "exception": false,
     "start_time": "2023-05-27T17:09:16.713285",
     "status": "completed"
    },
    "tags": []
   },
   "source": [
    "### Individual Class Weighted Specificity"
   ]
  },
  {
   "cell_type": "code",
   "execution_count": 34,
   "id": "73c89119",
   "metadata": {
    "execution": {
     "iopub.execute_input": "2023-05-27T17:09:16.835101Z",
     "iopub.status.busy": "2023-05-27T17:09:16.834201Z",
     "iopub.status.idle": "2023-05-27T17:09:16.845144Z",
     "shell.execute_reply": "2023-05-27T17:09:16.843665Z"
    },
    "papermill": {
     "duration": 0.054811,
     "end_time": "2023-05-27T17:09:16.847771",
     "exception": false,
     "start_time": "2023-05-27T17:09:16.792960",
     "status": "completed"
    },
    "tags": []
   },
   "outputs": [
    {
     "name": "stdout",
     "output_type": "stream",
     "text": [
      "Weighted Specificity:  0.8513611350383321\n",
      "Class  0 :specificity= 0.9975186104218362\n",
      "Class  1 :specificity= 0.9937578027465668\n",
      "Class  2 :specificity= 0.9724409448818898\n",
      "Class  3 :specificity= 1.0\n",
      "Class  4 :specificity= 0.9861286254728878\n",
      "Class  5 :specificity= 0.8181818181818182\n",
      "Class  6 :specificity= 1.0\n"
     ]
    }
   ],
   "source": [
    "from imblearn.metrics import specificity_score\n",
    "\n",
    "specificity = specificity_score(y_true, y_pred, average='weighted')\n",
    "print(\"Weighted Specificity: \", specificity)\n",
    "\n",
    "# Calculate class-wise specificity\n",
    "specificity = specificity_score(y_true, y_pred, average=None)\n",
    "\n",
    "# Print sensitivity score for each class\n",
    "for i in range(len(specificity)):\n",
    "    print(\"Class \", i, \":specificity=\", specificity[i])"
   ]
  },
  {
   "cell_type": "markdown",
   "id": "8a83e0fe",
   "metadata": {
    "papermill": {
     "duration": 0.03982,
     "end_time": "2023-05-27T17:09:16.930074",
     "exception": false,
     "start_time": "2023-05-27T17:09:16.890254",
     "status": "completed"
    },
    "tags": []
   },
   "source": [
    "### Accuracy"
   ]
  },
  {
   "cell_type": "code",
   "execution_count": 35,
   "id": "e66a518f",
   "metadata": {
    "execution": {
     "iopub.execute_input": "2023-05-27T17:09:17.011468Z",
     "iopub.status.busy": "2023-05-27T17:09:17.010727Z",
     "iopub.status.idle": "2023-05-27T17:09:17.016936Z",
     "shell.execute_reply": "2023-05-27T17:09:17.015816Z"
    },
    "papermill": {
     "duration": 0.049237,
     "end_time": "2023-05-27T17:09:17.019043",
     "exception": false,
     "start_time": "2023-05-27T17:09:16.969806",
     "status": "completed"
    },
    "tags": []
   },
   "outputs": [
    {
     "name": "stdout",
     "output_type": "stream",
     "text": [
      "Accuracy: 0.9166666666666666\n"
     ]
    }
   ],
   "source": [
    "print(\"Accuracy: \" + str(accuracy_score(y_true, y_pred)))\n",
    "import numpy as np\n",
    "from sklearn.metrics import accuracy_score"
   ]
  },
  {
   "cell_type": "code",
   "execution_count": 36,
   "id": "c9067977",
   "metadata": {
    "execution": {
     "iopub.execute_input": "2023-05-27T17:09:17.100723Z",
     "iopub.status.busy": "2023-05-27T17:09:17.099985Z",
     "iopub.status.idle": "2023-05-27T17:09:17.119670Z",
     "shell.execute_reply": "2023-05-27T17:09:17.118480Z"
    },
    "papermill": {
     "duration": 0.062278,
     "end_time": "2023-05-27T17:09:17.121494",
     "exception": false,
     "start_time": "2023-05-27T17:09:17.059216",
     "status": "completed"
    },
    "tags": []
   },
   "outputs": [
    {
     "name": "stdout",
     "output_type": "stream",
     "text": [
      "Top-1 Accuracy: 0.9166666666666666\n",
      "Top-2 Accuracy: 0.9770531400966184\n",
      "Top-3 Accuracy: 0.9903381642512077\n"
     ]
    }
   ],
   "source": [
    "# Calculate top-1 accuracy\n",
    "top1_acc = accuracy_score(y_true, y_pred)\n",
    "print(\"Top-1 Accuracy:\", top1_acc)\n",
    "\n",
    "# Calculate top-2 accuracy\n",
    "y_pred_top2 = np.argsort(-predictions, axis=1)[:, :2] # Get the top 2 predicted classes\n",
    "top2_acc = np.mean(np.array([y_true[i] in y_pred_top2[i] for i in range(len(y_true))]))\n",
    "print(\"Top-2 Accuracy:\", top2_acc)\n",
    "\n",
    "# Calculate top-3 accuracy\n",
    "y_pred_top3 = np.argsort(-predictions, axis=1)[:, :3] # Get the top 3 predicted classes\n",
    "top3_acc = np.mean(np.array([y_true[i] in y_pred_top3[i] for i in range(len(y_true))]))\n",
    "print(\"Top-3 Accuracy:\", top3_acc)\n",
    "from sklearn.metrics import f1_score"
   ]
  },
  {
   "cell_type": "markdown",
   "id": "09459a06",
   "metadata": {
    "papermill": {
     "duration": 0.039715,
     "end_time": "2023-05-27T17:09:17.201800",
     "exception": false,
     "start_time": "2023-05-27T17:09:17.162085",
     "status": "completed"
    },
    "tags": []
   },
   "source": [
    "### Weighted Evaluation Measures"
   ]
  },
  {
   "cell_type": "code",
   "execution_count": 37,
   "id": "9df2e7d5",
   "metadata": {
    "execution": {
     "iopub.execute_input": "2023-05-27T17:09:17.283761Z",
     "iopub.status.busy": "2023-05-27T17:09:17.283482Z",
     "iopub.status.idle": "2023-05-27T17:09:17.314933Z",
     "shell.execute_reply": "2023-05-27T17:09:17.314091Z"
    },
    "papermill": {
     "duration": 0.074978,
     "end_time": "2023-05-27T17:09:17.316971",
     "exception": false,
     "start_time": "2023-05-27T17:09:17.241993",
     "status": "completed"
    },
    "tags": []
   },
   "outputs": [
    {
     "name": "stdout",
     "output_type": "stream",
     "text": [
      "Weighted Precision: 0.9129262145549856\n",
      "Weighted Recall: 0.9166666666666666\n",
      "Weighted F1-Score: 0.913554615298804\n",
      "Weighted Sensitivity: 0.9166666666666666\n",
      "Weighted Specificity: 0.8513611350383321\n",
      "weighted Roc score: 0.9740752388913982\n"
     ]
    }
   ],
   "source": [
    "print(\"Weighted Precision: \"+ str(precision_score(y_true, y_pred, average='weighted')))\n",
    "print(\"Weighted Recall: \"+ str(recall_score(y_true, y_pred, average='weighted')))\n",
    "print(\"Weighted F1-Score: \"+ str(f1_score(y_true, y_pred, average='weighted')))\n",
    "print(\"Weighted Sensitivity: \"+ str(sensitivity_score(y_true, y_pred, average='weighted')))\n",
    "print(\"Weighted Specificity: \"+ str(specificity_score(y_true, y_pred, average='weighted')))\n",
    "print(\"weighted Roc score: \" + str(roc_auc_score(y_true,y_prob,multi_class='ovr',average='weighted')))"
   ]
  },
  {
   "cell_type": "markdown",
   "id": "a50bceac",
   "metadata": {
    "papermill": {
     "duration": 0.039878,
     "end_time": "2023-05-27T17:09:17.396992",
     "exception": false,
     "start_time": "2023-05-27T17:09:17.357114",
     "status": "completed"
    },
    "tags": []
   },
   "source": [
    "### Macro Evaluation Measures"
   ]
  },
  {
   "cell_type": "code",
   "execution_count": 38,
   "id": "db399218",
   "metadata": {
    "execution": {
     "iopub.execute_input": "2023-05-27T17:09:17.478557Z",
     "iopub.status.busy": "2023-05-27T17:09:17.478284Z",
     "iopub.status.idle": "2023-05-27T17:09:17.503790Z",
     "shell.execute_reply": "2023-05-27T17:09:17.502558Z"
    },
    "papermill": {
     "duration": 0.068848,
     "end_time": "2023-05-27T17:09:17.505770",
     "exception": false,
     "start_time": "2023-05-27T17:09:17.436922",
     "status": "completed"
    },
    "tags": []
   },
   "outputs": [
    {
     "name": "stdout",
     "output_type": "stream",
     "text": [
      "Macro Precision: 0.8441462545474387\n",
      "Macro Recall: 0.7397787086862717\n",
      "Macro F1-Score: 0.783383432479149\n",
      "Macro Sensitivity: 0.7397787086862717\n",
      "Macro Specificity: 0.9668611145292856\n",
      "Macro Roc score: 0.9737785990957779\n"
     ]
    }
   ],
   "source": [
    "print(\"Macro Precision: \"+ str(precision_score(y_true, y_pred, average='macro')))\n",
    "print(\"Macro Recall: \"+ str(recall_score(y_true, y_pred, average='macro')))\n",
    "print(\"Macro F1-Score: \"+ str(f1_score(y_true, y_pred, average='macro')))\n",
    "print(\"Macro Sensitivity: \"+ str(sensitivity_score(y_true, y_pred, average='macro')))\n",
    "print(\"Macro Specificity: \"+ str(specificity_score(y_true, y_pred, average='macro')))\n",
    "print(\"Macro Roc score: \" + str(roc_auc_score(y_true,y_prob,multi_class='ovr',average='macro')))"
   ]
  },
  {
   "cell_type": "markdown",
   "id": "deda5cde",
   "metadata": {
    "papermill": {
     "duration": 0.040043,
     "end_time": "2023-05-27T17:09:17.586095",
     "exception": false,
     "start_time": "2023-05-27T17:09:17.546052",
     "status": "completed"
    },
    "tags": []
   },
   "source": [
    "### Micro Evaluation Measures"
   ]
  },
  {
   "cell_type": "code",
   "execution_count": 39,
   "id": "60604b21",
   "metadata": {
    "execution": {
     "iopub.execute_input": "2023-05-27T17:09:17.668124Z",
     "iopub.status.busy": "2023-05-27T17:09:17.667270Z",
     "iopub.status.idle": "2023-05-27T17:09:17.681676Z",
     "shell.execute_reply": "2023-05-27T17:09:17.680572Z"
    },
    "papermill": {
     "duration": 0.057453,
     "end_time": "2023-05-27T17:09:17.683594",
     "exception": false,
     "start_time": "2023-05-27T17:09:17.626141",
     "status": "completed"
    },
    "tags": []
   },
   "outputs": [
    {
     "name": "stdout",
     "output_type": "stream",
     "text": [
      "Micro Precision: 0.9166666666666666\n",
      "Micro Recall: 0.9166666666666666\n",
      "Micro F1-Score: 0.9166666666666666\n",
      "Micro Sensitivity: 0.9166666666666666\n",
      "Micro Specificity: 0.9861111111111112\n"
     ]
    }
   ],
   "source": [
    "print(\"Micro Precision: \"+ str(precision_score(y_true, y_pred, average='micro')))\n",
    "print(\"Micro Recall: \"+ str(recall_score(y_true, y_pred, average='micro')))\n",
    "print(\"Micro F1-Score: \"+ str(f1_score(y_true, y_pred, average='micro')))\n",
    "print(\"Micro Sensitivity: \"+ str(sensitivity_score(y_true, y_pred, average='micro')))\n",
    "print(\"Micro Specificity: \"+ str(specificity_score(y_true, y_pred, average='micro')))"
   ]
  },
  {
   "cell_type": "markdown",
   "id": "a22b48e4",
   "metadata": {
    "papermill": {
     "duration": 0.03991,
     "end_time": "2023-05-27T17:09:17.764653",
     "exception": false,
     "start_time": "2023-05-27T17:09:17.724743",
     "status": "completed"
    },
    "tags": []
   },
   "source": [
    "## ROC"
   ]
  },
  {
   "cell_type": "markdown",
   "id": "f900c72b",
   "metadata": {
    "papermill": {
     "duration": 0.040022,
     "end_time": "2023-05-27T17:09:17.844768",
     "exception": false,
     "start_time": "2023-05-27T17:09:17.804746",
     "status": "completed"
    },
    "tags": []
   },
   "source": [
    "### Compute ROC curve and ROC area for each class"
   ]
  },
  {
   "cell_type": "code",
   "execution_count": 40,
   "id": "89f1f62a",
   "metadata": {
    "execution": {
     "iopub.execute_input": "2023-05-27T17:09:17.926464Z",
     "iopub.status.busy": "2023-05-27T17:09:17.926197Z",
     "iopub.status.idle": "2023-05-27T17:09:18.240812Z",
     "shell.execute_reply": "2023-05-27T17:09:18.239932Z"
    },
    "papermill": {
     "duration": 0.358079,
     "end_time": "2023-05-27T17:09:18.243042",
     "exception": false,
     "start_time": "2023-05-27T17:09:17.884963",
     "status": "completed"
    },
    "tags": []
   },
   "outputs": [
    {
     "data": {
      "image/png": "[encoded data removed]",
      "text/plain": [
       "<Figure size 640x480 with 1 Axes>"
      ]
     },
     "metadata": {},
     "output_type": "display_data"
    }
   ],
   "source": [
    "fpr = {}\n",
    "tpr = {}\n",
    "roc_auc = dict()\n",
    "for i in range(num_classes):\n",
    "    fpr[i], tpr[i], _ = roc_curve(y_test[:, i], y_prob[:, i], drop_intermediate=False)\n",
    "    roc_auc[i] = auc(fpr[i], tpr[i])\n",
    "\n",
    "\n",
    "# plot the ROC curve for each class\n",
    "for i in range(7):\n",
    "    plt.plot(fpr[i], tpr[i], label='Class {}: AUC={:.3f}'.format(i, roc_auc[i]))\n",
    "\n",
    "plt.xlabel('False Positive Rate')\n",
    "plt.ylabel('True Positive Rate')\n",
    "plt.legend()\n",
    "plt.show()"
   ]
  },
  {
   "cell_type": "markdown",
   "id": "e8a00d37",
   "metadata": {
    "papermill": {
     "duration": 0.040987,
     "end_time": "2023-05-27T17:09:18.325154",
     "exception": false,
     "start_time": "2023-05-27T17:09:18.284167",
     "status": "completed"
    },
    "tags": []
   },
   "source": [
    "## MCC and Kappa Score"
   ]
  },
  {
   "cell_type": "code",
   "execution_count": 41,
   "id": "77162c99",
   "metadata": {
    "execution": {
     "iopub.execute_input": "2023-05-27T17:09:18.408304Z",
     "iopub.status.busy": "2023-05-27T17:09:18.408025Z",
     "iopub.status.idle": "2023-05-27T17:09:18.417421Z",
     "shell.execute_reply": "2023-05-27T17:09:18.416176Z"
    },
    "papermill": {
     "duration": 0.053415,
     "end_time": "2023-05-27T17:09:18.419416",
     "exception": false,
     "start_time": "2023-05-27T17:09:18.366001",
     "status": "completed"
    },
    "tags": []
   },
   "outputs": [
    {
     "name": "stdout",
     "output_type": "stream",
     "text": [
      "MCC: 75.17%\n",
      "Kappa Score: 75.03%\n"
     ]
    }
   ],
   "source": [
    "from sklearn.metrics import matthews_corrcoef, cohen_kappa_score\n",
    "\n",
    "# y_true are the true labels of the test set\n",
    "# y_pred are the predicted labels of the test set\n",
    "mcc = matthews_corrcoef(y_true, y_pred)\n",
    "kappa = cohen_kappa_score(y_true, y_pred)\n",
    "print(\"MCC: {:.2f}%\".format(mcc*100))\n",
    "print(\"Kappa Score: {:.2f}%\".format(kappa*100))"
   ]
  },
  {
   "cell_type": "code",
   "execution_count": 42,
   "id": "46bec8d5",
   "metadata": {
    "execution": {
     "iopub.execute_input": "2023-05-27T17:09:18.503985Z",
     "iopub.status.busy": "2023-05-27T17:09:18.503328Z",
     "iopub.status.idle": "2023-05-27T17:09:18.569460Z",
     "shell.execute_reply": "2023-05-27T17:09:18.568474Z"
    },
    "papermill": {
     "duration": 0.110699,
     "end_time": "2023-05-27T17:09:18.571906",
     "exception": false,
     "start_time": "2023-05-27T17:09:18.461207",
     "status": "completed"
    },
    "tags": []
   },
   "outputs": [
    {
     "name": "stdout",
     "output_type": "stream",
     "text": [
      "MCC per class:\n",
      "Class 0: 77.04%\n",
      "Class 1: 71.38%\n",
      "Class 2: 68.57%\n",
      "Class 3: 81.55%\n",
      "Class 4: 50.22%\n",
      "Class 5: 82.88%\n",
      "Class 6: 100.00%\n",
      "Kappa Score per class:\n",
      "Class 0: 76.38%\n",
      "Class 1: 71.13%\n",
      "Class 2: 68.55%\n",
      "Class 3: 79.88%\n",
      "Class 4: 49.76%\n",
      "Class 5: 82.72%\n",
      "Class 6: 100.00%\n"
     ]
    }
   ],
   "source": [
    "### Individual Class Wise MCC and Kappa\n",
    "\n",
    "from sklearn.metrics import confusion_matrix, matthews_corrcoef, cohen_kappa_score\n",
    "# y_true are the true labels of the test set\n",
    "# y_pred are the predicted labels of the test set\n",
    "conf_mat = confusion_matrix(y_true, y_pred)\n",
    "mcc_per_class = {}\n",
    "kappa_per_class = {}\n",
    "\n",
    "for i in range(len(conf_mat)):\n",
    "    tp = conf_mat[i][i]\n",
    "    fp = sum(conf_mat[:, i]) - tp\n",
    "    fn = sum(conf_mat[i, :]) - tp\n",
    "    tn = sum(sum(conf_mat)) - tp - fp - fn\n",
    "\n",
    "    mcc_per_class[i] = matthews_corrcoef([1 if x==i else 0 for x in y_true], [1 if x==i else 0 for x in y_pred])\n",
    "    kappa_per_class[i] = cohen_kappa_score([1 if x==i else 0 for x in y_true], [1 if x==i else 0 for x in y_pred])\n",
    "\n",
    "print(\"MCC per class:\")\n",
    "for i, mcc in mcc_per_class.items():\n",
    "    print(\"Class {}: {:.2f}%\".format(i, mcc*100))\n",
    "\n",
    "print(\"Kappa Score per class:\")\n",
    "for i, kappa in kappa_per_class.items():\n",
    "    print(\"Class {}: {:.2f}%\".format(i, kappa*100))"
   ]
  },
  {
   "cell_type": "code",
   "execution_count": null,
   "id": "710f5f68",
   "metadata": {
    "papermill": {
     "duration": 0.040511,
     "end_time": "2023-05-27T17:09:18.653347",
     "exception": false,
     "start_time": "2023-05-27T17:09:18.612836",
     "status": "completed"
    },
    "tags": []
   },
   "outputs": [],
   "source": []
  }
 ],
 "metadata": {
  "kernelspec": {
   "display_name": "Python 3",
   "language": "python",
   "name": "python3"
  },
  "language_info": {
   "codemirror_mode": {
    "name": "ipython",
    "version": 3
   },
   "file_extension": ".py",
   "mimetype": "text/x-python",
   "name": "python",
   "nbconvert_exporter": "python",
   "pygments_lexer": "ipython3",
   "version": "3.10.10"
  },
  "papermill": {
   "default_parameters": {},
   "duration": 20987.973144,
   "end_time": "2023-05-27T17:09:22.503379",
   "environment_variables": {},
   "exception": null,
   "input_path": "__notebook__.ipynb",
   "output_path": "__notebook__.ipynb",
   "parameters": {},
   "start_time": "2023-05-27T11:19:34.530235",
   "version": "2.4.0"
  }
 },
 "nbformat": 4,
 "nbformat_minor": 5
}
