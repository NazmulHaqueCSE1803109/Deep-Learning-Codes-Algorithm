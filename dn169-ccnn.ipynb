{
 "cells": [
  {
   "cell_type": "markdown",
   "id": "a0a96943",
   "metadata": {
    "papermill": {
     "duration": 0.014201,
     "end_time": "2023-06-03T10:20:51.777581",
     "exception": false,
     "start_time": "2023-06-03T10:20:51.763380",
     "status": "completed"
    },
    "tags": []
   },
   "source": [
    "# Libraries"
   ]
  },
  {
   "cell_type": "code",
   "execution_count": 1,
   "id": "62d3c51f",
   "metadata": {
    "execution": {
     "iopub.execute_input": "2023-06-03T10:20:51.807225Z",
     "iopub.status.busy": "2023-06-03T10:20:51.806771Z",
     "iopub.status.idle": "2023-06-03T10:21:01.214321Z",
     "shell.execute_reply": "2023-06-03T10:21:01.213293Z"
    },
    "id": "Aa36bMKLze3z",
    "papermill": {
     "duration": 9.425544,
     "end_time": "2023-06-03T10:21:01.216924",
     "exception": false,
     "start_time": "2023-06-03T10:20:51.791380",
     "status": "completed"
    },
    "tags": []
   },
   "outputs": [
    {
     "name": "stderr",
     "output_type": "stream",
     "text": [
      "/opt/conda/lib/python3.10/site-packages/tensorflow_io/python/ops/__init__.py:98: UserWarning: unable to load libtensorflow_io_plugins.so: unable to open file: libtensorflow_io_plugins.so, from paths: ['/opt/conda/lib/python3.10/site-packages/tensorflow_io/python/ops/libtensorflow_io_plugins.so']\n",
      "caused by: ['/opt/conda/lib/python3.10/site-packages/tensorflow_io/python/ops/libtensorflow_io_plugins.so: undefined symbol: _ZN3tsl6StatusC1EN10tensorflow5error4CodeESt17basic_string_viewIcSt11char_traitsIcEENS_14SourceLocationE']\n",
      "  warnings.warn(f\"unable to load libtensorflow_io_plugins.so: {e}\")\n",
      "/opt/conda/lib/python3.10/site-packages/tensorflow_io/python/ops/__init__.py:104: UserWarning: file system plugins are not loaded: unable to open file: libtensorflow_io.so, from paths: ['/opt/conda/lib/python3.10/site-packages/tensorflow_io/python/ops/libtensorflow_io.so']\n",
      "caused by: ['/opt/conda/lib/python3.10/site-packages/tensorflow_io/python/ops/libtensorflow_io.so: undefined symbol: _ZTVN10tensorflow13GcsFileSystemE']\n",
      "  warnings.warn(f\"file system plugins are not loaded: {e}\")\n"
     ]
    }
   ],
   "source": [
    "import pandas as pd\n",
    "import numpy as np\n",
    "import os\n",
    "import tensorflow as tf\n",
    "import cv2\n",
    "from keras import backend as K\n",
    "from keras.layers import Layer, InputSpec\n",
    "import keras.layers as kl\n",
    "from glob import glob\n",
    "from sklearn.metrics import roc_curve, auc\n",
    "from keras.preprocessing import image\n",
    "from tensorflow.keras.models import Sequential\n",
    "from sklearn.metrics import roc_auc_score\n",
    "from tensorflow.keras import callbacks \n",
    "from tensorflow.keras.callbacks import ModelCheckpoint, EarlyStopping\n",
    "from  matplotlib import pyplot as plt\n",
    "from tensorflow.keras import Model\n",
    "from tensorflow.keras.layers import concatenate, Dense, Conv2D, MaxPooling2D, Flatten, Input, Activation, add, AveragePooling2D, BatchNormalization, Dropout\n",
    "%matplotlib inline\n",
    "import shutil\n",
    "from sklearn.metrics import  precision_score, recall_score, accuracy_score, classification_report, confusion_matrix\n",
    "from tensorflow.python.platform import build_info as tf_build_info\n",
    "from tensorflow.keras.preprocessing.image import ImageDataGenerator\n",
    "from sklearn.model_selection import train_test_split\n",
    "\n",
    "from PIL import ImageFile\n",
    "ImageFile.LOAD_TRUNCATED_IMAGES = True"
   ]
  },
  {
   "cell_type": "code",
   "execution_count": 2,
   "id": "b49209d6",
   "metadata": {
    "execution": {
     "iopub.execute_input": "2023-06-03T10:21:01.249693Z",
     "iopub.status.busy": "2023-06-03T10:21:01.248896Z",
     "iopub.status.idle": "2023-06-03T10:21:01.256832Z",
     "shell.execute_reply": "2023-06-03T10:21:01.254846Z"
    },
    "id": "PsoqCvNsgmHP",
    "papermill": {
     "duration": 0.031106,
     "end_time": "2023-06-03T10:21:01.262302",
     "exception": false,
     "start_time": "2023-06-03T10:21:01.231196",
     "status": "completed"
    },
    "tags": []
   },
   "outputs": [],
   "source": [
    "targetnames = ['akiec', 'bcc', 'bkl', 'df', 'mel', 'nv', 'vasc']\n",
    "batch_size = 16\n",
    "image_size = 224"
   ]
  },
  {
   "cell_type": "code",
   "execution_count": 3,
   "id": "30d7219a",
   "metadata": {
    "execution": {
     "iopub.execute_input": "2023-06-03T10:21:01.308366Z",
     "iopub.status.busy": "2023-06-03T10:21:01.307849Z",
     "iopub.status.idle": "2023-06-03T10:21:01.313534Z",
     "shell.execute_reply": "2023-06-03T10:21:01.312502Z"
    },
    "id": "wNisha_gM3_Z",
    "papermill": {
     "duration": 0.036218,
     "end_time": "2023-06-03T10:21:01.318785",
     "exception": false,
     "start_time": "2023-06-03T10:21:01.282567",
     "status": "completed"
    },
    "tags": []
   },
   "outputs": [],
   "source": [
    "train_path = '/kaggle/input/splitted-and-augmented-ham-15/Splitted_And_Augmented_HAM_15/HAM10K/train_dir'\n",
    "test_path = '/kaggle/input/splitted-and-augmented-ham-15/Splitted_And_Augmented_HAM_15/HAM10K/test_dir'\n",
    "val_path = '/kaggle/input/splitted-and-augmented-ham-15/Splitted_And_Augmented_HAM_15/HAM10K/val_dir'"
   ]
  },
  {
   "cell_type": "markdown",
   "id": "8be3e5cf",
   "metadata": {
    "papermill": {
     "duration": 0.023533,
     "end_time": "2023-06-03T10:21:01.370560",
     "exception": false,
     "start_time": "2023-06-03T10:21:01.347027",
     "status": "completed"
    },
    "tags": []
   },
   "source": [
    "# Dataset generation (Train, Test, Validation)"
   ]
  },
  {
   "cell_type": "code",
   "execution_count": 4,
   "id": "fb5c4500",
   "metadata": {
    "execution": {
     "iopub.execute_input": "2023-06-03T10:21:01.417045Z",
     "iopub.status.busy": "2023-06-03T10:21:01.416551Z",
     "iopub.status.idle": "2023-06-03T10:21:01.421498Z",
     "shell.execute_reply": "2023-06-03T10:21:01.420596Z"
    },
    "id": "zhQWqdRN79B3",
    "papermill": {
     "duration": 0.033227,
     "end_time": "2023-06-03T10:21:01.424591",
     "exception": false,
     "start_time": "2023-06-03T10:21:01.391364",
     "status": "completed"
    },
    "tags": []
   },
   "outputs": [],
   "source": [
    "datagen = ImageDataGenerator(preprocessing_function=tf.keras.applications.densenet.preprocess_input)"
   ]
  },
  {
   "cell_type": "code",
   "execution_count": 5,
   "id": "ea61821c",
   "metadata": {
    "execution": {
     "iopub.execute_input": "2023-06-03T10:21:01.458472Z",
     "iopub.status.busy": "2023-06-03T10:21:01.458106Z",
     "iopub.status.idle": "2023-06-03T10:21:23.254469Z",
     "shell.execute_reply": "2023-06-03T10:21:23.251020Z"
    },
    "id": "w9_8FvOO7Rtu",
    "outputId": "7ca88c24-fda8-45d6-cb32-f3a43ae6ba5b",
    "papermill": {
     "duration": 21.815779,
     "end_time": "2023-06-03T10:21:23.258727",
     "exception": false,
     "start_time": "2023-06-03T10:21:01.442948",
     "status": "completed"
    },
    "tags": []
   },
   "outputs": [
    {
     "name": "stdout",
     "output_type": "stream",
     "text": [
      "\n",
      "Train Batches: \n",
      "Found 54782 images belonging to 7 classes.\n",
      "\n",
      "Test Batches: \n",
      "Found 828 images belonging to 7 classes.\n",
      "\n",
      "Val Batches: \n",
      "Found 827 images belonging to 7 classes.\n"
     ]
    }
   ],
   "source": [
    "print(\"\\nTrain Batches: \")\n",
    "train_batches = datagen.flow_from_directory(directory=train_path,\n",
    "                                            target_size=(image_size,image_size),\n",
    "                                            batch_size=batch_size,\n",
    "                                            shuffle=True)\n",
    "\n",
    "print(\"\\nTest Batches: \")\n",
    "test_batches = datagen.flow_from_directory(test_path,\n",
    "                                          target_size=(image_size,image_size),\n",
    "                                          batch_size=batch_size,\n",
    "                                          shuffle=False)\n",
    "print(\"\\nVal Batches: \")\n",
    "val_batches = datagen.flow_from_directory(val_path,\n",
    "                                         target_size=(image_size,image_size),\n",
    "                                         batch_size=batch_size,\n",
    "                                         shuffle=False)"
   ]
  },
  {
   "cell_type": "markdown",
   "id": "aa84b36c",
   "metadata": {
    "papermill": {
     "duration": 0.026885,
     "end_time": "2023-06-03T10:21:23.305652",
     "exception": false,
     "start_time": "2023-06-03T10:21:23.278767",
     "status": "completed"
    },
    "tags": []
   },
   "source": [
    "# Main Model Creation"
   ]
  },
  {
   "cell_type": "code",
   "execution_count": 6,
   "id": "b32e92e0",
   "metadata": {
    "execution": {
     "iopub.execute_input": "2023-06-03T10:21:23.368091Z",
     "iopub.status.busy": "2023-06-03T10:21:23.367604Z",
     "iopub.status.idle": "2023-06-03T10:21:31.869583Z",
     "shell.execute_reply": "2023-06-03T10:21:31.868627Z"
    },
    "id": "zhQWqdRN79B3",
    "papermill": {
     "duration": 8.538335,
     "end_time": "2023-06-03T10:21:31.872234",
     "exception": false,
     "start_time": "2023-06-03T10:21:23.333899",
     "status": "completed"
    },
    "tags": []
   },
   "outputs": [
    {
     "name": "stdout",
     "output_type": "stream",
     "text": [
      "Downloading data from https://storage.googleapis.com/tensorflow/keras-applications/densenet/densenet169_weights_tf_dim_ordering_tf_kernels_notop.h5\n",
      "51877672/51877672 [==============================] - 0s 0us/step\n"
     ]
    }
   ],
   "source": [
    "from tensorflow.keras.applications.densenet import DenseNet169\n",
    "\n",
    "DN169 = DenseNet169(weights='imagenet', include_top=False, input_shape=(image_size, image_size, 3), pooling='avg')"
   ]
  },
  {
   "cell_type": "markdown",
   "id": "318e4ad6",
   "metadata": {
    "papermill": {
     "duration": 0.014774,
     "end_time": "2023-06-03T10:21:31.901735",
     "exception": false,
     "start_time": "2023-06-03T10:21:31.886961",
     "status": "completed"
    },
    "tags": []
   },
   "source": [
    "## Fine tuning"
   ]
  },
  {
   "cell_type": "code",
   "execution_count": 7,
   "id": "b3805461",
   "metadata": {
    "execution": {
     "iopub.execute_input": "2023-06-03T10:21:31.932928Z",
     "iopub.status.busy": "2023-06-03T10:21:31.932586Z",
     "iopub.status.idle": "2023-06-03T10:21:31.938731Z",
     "shell.execute_reply": "2023-06-03T10:21:31.937722Z"
    },
    "id": "4d4Ta5LcSYaz",
    "papermill": {
     "duration": 0.024631,
     "end_time": "2023-06-03T10:21:31.941168",
     "exception": false,
     "start_time": "2023-06-03T10:21:31.916537",
     "status": "completed"
    },
    "tags": []
   },
   "outputs": [],
   "source": [
    "MainInput=Input(shape=(image_size, image_size, 3))"
   ]
  },
  {
   "cell_type": "code",
   "execution_count": 8,
   "id": "f43e0144",
   "metadata": {
    "execution": {
     "iopub.execute_input": "2023-06-03T10:21:31.972382Z",
     "iopub.status.busy": "2023-06-03T10:21:31.972027Z",
     "iopub.status.idle": "2023-06-03T10:21:33.320946Z",
     "shell.execute_reply": "2023-06-03T10:21:33.319980Z"
    },
    "papermill": {
     "duration": 1.367482,
     "end_time": "2023-06-03T10:21:33.323630",
     "exception": false,
     "start_time": "2023-06-03T10:21:31.956148",
     "status": "completed"
    },
    "tags": []
   },
   "outputs": [],
   "source": [
    "dn169 = DN169(MainInput)"
   ]
  },
  {
   "cell_type": "code",
   "execution_count": 9,
   "id": "aa456a7b",
   "metadata": {
    "execution": {
     "iopub.execute_input": "2023-06-03T10:21:33.355610Z",
     "iopub.status.busy": "2023-06-03T10:21:33.355238Z",
     "iopub.status.idle": "2023-06-03T10:21:33.371140Z",
     "shell.execute_reply": "2023-06-03T10:21:33.370234Z"
    },
    "papermill": {
     "duration": 0.034581,
     "end_time": "2023-06-03T10:21:33.373247",
     "exception": false,
     "start_time": "2023-06-03T10:21:33.338666",
     "status": "completed"
    },
    "tags": []
   },
   "outputs": [],
   "source": [
    "# Reshape the tensor to have 4 dimensions\n",
    "from tensorflow.keras.layers import Reshape\n",
    "reshape = Reshape((8, 8, 26))(dn169)"
   ]
  },
  {
   "cell_type": "code",
   "execution_count": 10,
   "id": "cb500110",
   "metadata": {
    "execution": {
     "iopub.execute_input": "2023-06-03T10:21:33.404523Z",
     "iopub.status.busy": "2023-06-03T10:21:33.404161Z",
     "iopub.status.idle": "2023-06-03T10:21:33.504227Z",
     "shell.execute_reply": "2023-06-03T10:21:33.503221Z"
    },
    "id": "x8mS99J5SYbT",
    "papermill": {
     "duration": 0.118473,
     "end_time": "2023-06-03T10:21:33.506677",
     "exception": false,
     "start_time": "2023-06-03T10:21:33.388204",
     "status": "completed"
    },
    "tags": []
   },
   "outputs": [],
   "source": [
    "conv=(Conv2D(filters=128,kernel_size=(7,7), activation=\"relu\",padding=\"same\",kernel_initializer='he_normal')(reshape))\n",
    "conv=(BatchNormalization()(conv))\n",
    "conv=(Conv2D(filters=128,kernel_size=(5,5), activation=\"relu\",padding=\"same\",kernel_initializer='he_normal')(conv))\n",
    "conv=(BatchNormalization()(conv))\n",
    "conv=(Conv2D(filters=128,kernel_size=(3,3), activation=\"relu\",padding=\"same\",kernel_initializer='he_normal')(conv))\n",
    "conv=(BatchNormalization()(conv))\n",
    "conv=(Conv2D(filters=128,kernel_size=(1,1), activation=\"relu\",padding=\"same\",kernel_initializer='he_normal')(conv))\n",
    "conv=(BatchNormalization()(conv))"
   ]
  },
  {
   "cell_type": "code",
   "execution_count": 11,
   "id": "9611ea21",
   "metadata": {
    "execution": {
     "iopub.execute_input": "2023-06-03T10:21:33.537940Z",
     "iopub.status.busy": "2023-06-03T10:21:33.537585Z",
     "iopub.status.idle": "2023-06-03T10:21:33.548046Z",
     "shell.execute_reply": "2023-06-03T10:21:33.547175Z"
    },
    "id": "wfhLPhssAm2S",
    "papermill": {
     "duration": 0.028677,
     "end_time": "2023-06-03T10:21:33.550196",
     "exception": false,
     "start_time": "2023-06-03T10:21:33.521519",
     "status": "completed"
    },
    "tags": []
   },
   "outputs": [],
   "source": [
    "conv=(MaxPooling2D(strides=(2, 2),padding=\"same\")(conv))"
   ]
  },
  {
   "cell_type": "code",
   "execution_count": 12,
   "id": "9c6ba0c7",
   "metadata": {
    "execution": {
     "iopub.execute_input": "2023-06-03T10:21:33.581941Z",
     "iopub.status.busy": "2023-06-03T10:21:33.581304Z",
     "iopub.status.idle": "2023-06-03T10:21:33.681037Z",
     "shell.execute_reply": "2023-06-03T10:21:33.680097Z"
    },
    "id": "sW4tKg9wSYbk",
    "papermill": {
     "duration": 0.118255,
     "end_time": "2023-06-03T10:21:33.683481",
     "exception": false,
     "start_time": "2023-06-03T10:21:33.565226",
     "status": "completed"
    },
    "tags": []
   },
   "outputs": [],
   "source": [
    "conv=(Conv2D(filters=256,kernel_size=(7,7), activation=\"relu\",padding=\"same\",kernel_initializer='he_normal')(conv))\n",
    "conv=(BatchNormalization()(conv))\n",
    "conv=(Conv2D(filters=256,kernel_size=(5,5), activation=\"relu\",padding=\"same\",kernel_initializer='he_normal')(conv))\n",
    "conv=(BatchNormalization()(conv))\n",
    "conv=(Conv2D(filters=256,kernel_size=(3,3), activation=\"relu\",padding=\"same\",kernel_initializer='he_normal')(conv))\n",
    "conv=(BatchNormalization()(conv))\n",
    "conv=(Conv2D(filters=256,kernel_size=(1,1), activation=\"relu\",padding=\"same\",kernel_initializer='he_normal')(conv))\n",
    "conv=(BatchNormalization()(conv))"
   ]
  },
  {
   "cell_type": "code",
   "execution_count": 13,
   "id": "cfd68d49",
   "metadata": {
    "execution": {
     "iopub.execute_input": "2023-06-03T10:21:33.715369Z",
     "iopub.status.busy": "2023-06-03T10:21:33.714423Z",
     "iopub.status.idle": "2023-06-03T10:21:33.724353Z",
     "shell.execute_reply": "2023-06-03T10:21:33.723463Z"
    },
    "id": "eo8E7RxUSYcW",
    "papermill": {
     "duration": 0.02783,
     "end_time": "2023-06-03T10:21:33.726434",
     "exception": false,
     "start_time": "2023-06-03T10:21:33.698604",
     "status": "completed"
    },
    "tags": []
   },
   "outputs": [],
   "source": [
    "conv=(MaxPooling2D(pool_size=(2, 2),padding=\"same\")(conv))"
   ]
  },
  {
   "cell_type": "code",
   "execution_count": 14,
   "id": "2abd5d12",
   "metadata": {
    "execution": {
     "iopub.execute_input": "2023-06-03T10:21:33.758529Z",
     "iopub.status.busy": "2023-06-03T10:21:33.757422Z",
     "iopub.status.idle": "2023-06-03T10:21:33.763986Z",
     "shell.execute_reply": "2023-06-03T10:21:33.763112Z"
    },
    "papermill": {
     "duration": 0.024992,
     "end_time": "2023-06-03T10:21:33.766177",
     "exception": false,
     "start_time": "2023-06-03T10:21:33.741185",
     "status": "completed"
    },
    "tags": []
   },
   "outputs": [
    {
     "name": "stdout",
     "output_type": "stream",
     "text": [
      "7\n"
     ]
    }
   ],
   "source": [
    "num_classes = test_batches.num_classes\n",
    "print(num_classes)"
   ]
  },
  {
   "cell_type": "code",
   "execution_count": 15,
   "id": "43c39927",
   "metadata": {
    "execution": {
     "iopub.execute_input": "2023-06-03T10:21:33.797563Z",
     "iopub.status.busy": "2023-06-03T10:21:33.797200Z",
     "iopub.status.idle": "2023-06-03T10:21:33.848160Z",
     "shell.execute_reply": "2023-06-03T10:21:33.847230Z"
    },
    "id": "-EdFxKdgSYcf",
    "papermill": {
     "duration": 0.069606,
     "end_time": "2023-06-03T10:21:33.850497",
     "exception": false,
     "start_time": "2023-06-03T10:21:33.780891",
     "status": "completed"
    },
    "tags": []
   },
   "outputs": [],
   "source": [
    "conv=(Flatten()(conv))\n",
    "conv=(Dense(1024,activation=\"relu\")(conv))\n",
    "conv=(Dense(512,activation=\"relu\")(conv))\n",
    "conv=(Dense(num_classes, activation=\"softmax\")(conv))\n",
    "\n",
    "model_dn169 = Model(inputs=MainInput, outputs=conv)"
   ]
  },
  {
   "cell_type": "code",
   "execution_count": 16,
   "id": "54feec1f",
   "metadata": {
    "execution": {
     "iopub.execute_input": "2023-06-03T10:21:33.881529Z",
     "iopub.status.busy": "2023-06-03T10:21:33.881134Z",
     "iopub.status.idle": "2023-06-03T10:21:34.008710Z",
     "shell.execute_reply": "2023-06-03T10:21:34.007676Z"
    },
    "id": "ba8ajOckSYcl",
    "outputId": "e69fa749-4741-4f49-ae3e-9f5479e809a8",
    "papermill": {
     "duration": 0.145549,
     "end_time": "2023-06-03T10:21:34.010831",
     "exception": false,
     "start_time": "2023-06-03T10:21:33.865282",
     "status": "completed"
    },
    "tags": []
   },
   "outputs": [
    {
     "name": "stdout",
     "output_type": "stream",
     "text": [
      "Model: \"model\"\n",
      "_________________________________________________________________\n",
      " Layer (type)                Output Shape              Param #   \n",
      "=================================================================\n",
      " input_2 (InputLayer)        [(None, 224, 224, 3)]     0         \n",
      "                                                                 \n",
      " densenet169 (Functional)    (None, 1664)              12642880  \n",
      "                                                                 \n",
      " reshape (Reshape)           (None, 8, 8, 26)          0         \n",
      "                                                                 \n",
      " conv2d (Conv2D)             (None, 8, 8, 128)         163200    \n",
      "                                                                 \n",
      " batch_normalization (BatchN  (None, 8, 8, 128)        512       \n",
      " ormalization)                                                   \n",
      "                                                                 \n",
      " conv2d_1 (Conv2D)           (None, 8, 8, 128)         409728    \n",
      "                                                                 \n",
      " batch_normalization_1 (Batc  (None, 8, 8, 128)        512       \n",
      " hNormalization)                                                 \n",
      "                                                                 \n",
      " conv2d_2 (Conv2D)           (None, 8, 8, 128)         147584    \n",
      "                                                                 \n",
      " batch_normalization_2 (Batc  (None, 8, 8, 128)        512       \n",
      " hNormalization)                                                 \n",
      "                                                                 \n",
      " conv2d_3 (Conv2D)           (None, 8, 8, 128)         16512     \n",
      "                                                                 \n",
      " batch_normalization_3 (Batc  (None, 8, 8, 128)        512       \n",
      " hNormalization)                                                 \n",
      "                                                                 \n",
      " max_pooling2d (MaxPooling2D  (None, 4, 4, 128)        0         \n",
      " )                                                               \n",
      "                                                                 \n",
      " conv2d_4 (Conv2D)           (None, 4, 4, 256)         1605888   \n",
      "                                                                 \n",
      " batch_normalization_4 (Batc  (None, 4, 4, 256)        1024      \n",
      " hNormalization)                                                 \n",
      "                                                                 \n",
      " conv2d_5 (Conv2D)           (None, 4, 4, 256)         1638656   \n",
      "                                                                 \n",
      " batch_normalization_5 (Batc  (None, 4, 4, 256)        1024      \n",
      " hNormalization)                                                 \n",
      "                                                                 \n",
      " conv2d_6 (Conv2D)           (None, 4, 4, 256)         590080    \n",
      "                                                                 \n",
      " batch_normalization_6 (Batc  (None, 4, 4, 256)        1024      \n",
      " hNormalization)                                                 \n",
      "                                                                 \n",
      " conv2d_7 (Conv2D)           (None, 4, 4, 256)         65792     \n",
      "                                                                 \n",
      " batch_normalization_7 (Batc  (None, 4, 4, 256)        1024      \n",
      " hNormalization)                                                 \n",
      "                                                                 \n",
      " max_pooling2d_1 (MaxPooling  (None, 2, 2, 256)        0         \n",
      " 2D)                                                             \n",
      "                                                                 \n",
      " flatten (Flatten)           (None, 1024)              0         \n",
      "                                                                 \n",
      " dense (Dense)               (None, 1024)              1049600   \n",
      "                                                                 \n",
      " dense_1 (Dense)             (None, 512)               524800    \n",
      "                                                                 \n",
      " dense_2 (Dense)             (None, 7)                 3591      \n",
      "                                                                 \n",
      "=================================================================\n",
      "Total params: 18,864,455\n",
      "Trainable params: 18,702,983\n",
      "Non-trainable params: 161,472\n",
      "_________________________________________________________________\n"
     ]
    }
   ],
   "source": [
    "model_dn169.summary()"
   ]
  },
  {
   "cell_type": "code",
   "execution_count": 17,
   "id": "91177ecd",
   "metadata": {
    "execution": {
     "iopub.execute_input": "2023-06-03T10:21:34.052434Z",
     "iopub.status.busy": "2023-06-03T10:21:34.051516Z",
     "iopub.status.idle": "2023-06-03T10:21:34.084876Z",
     "shell.execute_reply": "2023-06-03T10:21:34.083653Z"
    },
    "id": "WR0fUpy18vAZ",
    "papermill": {
     "duration": 0.056913,
     "end_time": "2023-06-03T10:21:34.087418",
     "exception": false,
     "start_time": "2023-06-03T10:21:34.030505",
     "status": "completed"
    },
    "tags": []
   },
   "outputs": [],
   "source": [
    "opt1=tf.keras.optimizers.Adam(learning_rate=0.001,epsilon=0.1)\n",
    "model_dn169.compile(optimizer=opt1,\n",
    "             loss='categorical_crossentropy',\n",
    "             metrics=['accuracy'])"
   ]
  },
  {
   "cell_type": "code",
   "execution_count": 18,
   "id": "909617f4",
   "metadata": {
    "execution": {
     "iopub.execute_input": "2023-06-03T10:21:34.129547Z",
     "iopub.status.busy": "2023-06-03T10:21:34.129173Z",
     "iopub.status.idle": "2023-06-03T10:21:34.134710Z",
     "shell.execute_reply": "2023-06-03T10:21:34.133587Z"
    },
    "id": "LAf5ha295reS",
    "papermill": {
     "duration": 0.029237,
     "end_time": "2023-06-03T10:21:34.136754",
     "exception": false,
     "start_time": "2023-06-03T10:21:34.107517",
     "status": "completed"
    },
    "tags": []
   },
   "outputs": [],
   "source": [
    "class_weights = {   \n",
    "                    0: 1.0,  # akiec\n",
    "                    1: 1.0,  # bcc\n",
    "                    2: 1.0,  # bkl\n",
    "                    3: 1.0,  # df\n",
    "                    4: 1.0,  # mel\n",
    "                    5: 1.0,  # nv\n",
    "                    6: 1.0  # vasc\n",
    "                }"
   ]
  },
  {
   "cell_type": "code",
   "execution_count": 19,
   "id": "4b4f6605",
   "metadata": {
    "execution": {
     "iopub.execute_input": "2023-06-03T10:21:34.179890Z",
     "iopub.status.busy": "2023-06-03T10:21:34.178930Z",
     "iopub.status.idle": "2023-06-03T10:21:34.184604Z",
     "shell.execute_reply": "2023-06-03T10:21:34.183678Z"
    },
    "papermill": {
     "duration": 0.029366,
     "end_time": "2023-06-03T10:21:34.186582",
     "exception": false,
     "start_time": "2023-06-03T10:21:34.157216",
     "status": "completed"
    },
    "tags": []
   },
   "outputs": [],
   "source": [
    "checkpoint = ModelCheckpoint(filepath ='DN169.hdf5', monitor='val_accuracy', save_best_only=True, save_weights_only=True)\n",
    "Earlystop = EarlyStopping(monitor='val_loss', mode='min', patience=25, min_delta=0.001)"
   ]
  },
  {
   "cell_type": "code",
   "execution_count": 20,
   "id": "90d659c0",
   "metadata": {
    "execution": {
     "iopub.execute_input": "2023-06-03T10:21:34.228602Z",
     "iopub.status.busy": "2023-06-03T10:21:34.227658Z",
     "iopub.status.idle": "2023-06-03T14:46:08.893509Z",
     "shell.execute_reply": "2023-06-03T14:46:08.892410Z"
    },
    "id": "NUzTmiZ-8hL3",
    "outputId": "e1825ff2-9f9c-436f-cf2c-9776af8eee62",
    "papermill": {
     "duration": 15874.70804,
     "end_time": "2023-06-03T14:46:08.914698",
     "exception": false,
     "start_time": "2023-06-03T10:21:34.206658",
     "status": "completed"
    },
    "tags": []
   },
   "outputs": [
    {
     "name": "stdout",
     "output_type": "stream",
     "text": [
      "Epoch 1/50\n",
      "3424/3424 - 736s - loss: 0.7322 - accuracy: 0.7289 - val_loss: 0.3407 - val_accuracy: 0.8888 - 736s/epoch - 215ms/step\n",
      "Epoch 2/50\n",
      "3424/3424 - 573s - loss: 0.3147 - accuracy: 0.8816 - val_loss: 0.3731 - val_accuracy: 0.8888 - 573s/epoch - 167ms/step\n",
      "Epoch 3/50\n",
      "3424/3424 - 572s - loss: 0.1991 - accuracy: 0.9267 - val_loss: 0.3950 - val_accuracy: 0.8730 - 572s/epoch - 167ms/step\n",
      "Epoch 4/50\n",
      "3424/3424 - 577s - loss: 0.1400 - accuracy: 0.9487 - val_loss: 0.3650 - val_accuracy: 0.9057 - 577s/epoch - 169ms/step\n",
      "Epoch 5/50\n",
      "3424/3424 - 577s - loss: 0.1016 - accuracy: 0.9632 - val_loss: 0.4467 - val_accuracy: 0.8984 - 577s/epoch - 169ms/step\n",
      "Epoch 6/50\n",
      "3424/3424 - 571s - loss: 0.0782 - accuracy: 0.9726 - val_loss: 0.3867 - val_accuracy: 0.9033 - 571s/epoch - 167ms/step\n",
      "Epoch 7/50\n",
      "3424/3424 - 575s - loss: 0.0646 - accuracy: 0.9777 - val_loss: 0.3960 - val_accuracy: 0.9129 - 575s/epoch - 168ms/step\n",
      "Epoch 8/50\n",
      "3424/3424 - 574s - loss: 0.0571 - accuracy: 0.9802 - val_loss: 0.3906 - val_accuracy: 0.9069 - 574s/epoch - 168ms/step\n",
      "Epoch 9/50\n",
      "3424/3424 - 572s - loss: 0.0428 - accuracy: 0.9853 - val_loss: 0.3493 - val_accuracy: 0.9190 - 572s/epoch - 167ms/step\n",
      "Epoch 10/50\n",
      "3424/3424 - 567s - loss: 0.0360 - accuracy: 0.9877 - val_loss: 0.3766 - val_accuracy: 0.9154 - 567s/epoch - 166ms/step\n",
      "Epoch 11/50\n",
      "3424/3424 - 570s - loss: 0.0311 - accuracy: 0.9896 - val_loss: 0.4623 - val_accuracy: 0.9081 - 570s/epoch - 166ms/step\n",
      "Epoch 12/50\n",
      "3424/3424 - 578s - loss: 0.0286 - accuracy: 0.9901 - val_loss: 0.4427 - val_accuracy: 0.9190 - 578s/epoch - 169ms/step\n",
      "Epoch 13/50\n",
      "3424/3424 - 578s - loss: 0.0240 - accuracy: 0.9921 - val_loss: 0.4297 - val_accuracy: 0.9190 - 578s/epoch - 169ms/step\n",
      "Epoch 14/50\n",
      "3424/3424 - 573s - loss: 0.0243 - accuracy: 0.9915 - val_loss: 0.4068 - val_accuracy: 0.9214 - 573s/epoch - 167ms/step\n",
      "Epoch 15/50\n",
      "3424/3424 - 566s - loss: 0.0189 - accuracy: 0.9936 - val_loss: 0.4845 - val_accuracy: 0.9129 - 566s/epoch - 165ms/step\n",
      "Epoch 16/50\n",
      "3424/3424 - 569s - loss: 0.0197 - accuracy: 0.9932 - val_loss: 0.4808 - val_accuracy: 0.9057 - 569s/epoch - 166ms/step\n",
      "Epoch 17/50\n",
      "3424/3424 - 566s - loss: 0.0172 - accuracy: 0.9941 - val_loss: 0.4326 - val_accuracy: 0.9178 - 566s/epoch - 165ms/step\n",
      "Epoch 18/50\n",
      "3424/3424 - 568s - loss: 0.0164 - accuracy: 0.9945 - val_loss: 0.4830 - val_accuracy: 0.9129 - 568s/epoch - 166ms/step\n",
      "Epoch 19/50\n",
      "3424/3424 - 567s - loss: 0.0165 - accuracy: 0.9946 - val_loss: 0.4263 - val_accuracy: 0.9117 - 567s/epoch - 165ms/step\n",
      "Epoch 20/50\n",
      "3424/3424 - 565s - loss: 0.0124 - accuracy: 0.9957 - val_loss: 0.4962 - val_accuracy: 0.9033 - 565s/epoch - 165ms/step\n",
      "Epoch 21/50\n",
      "3424/3424 - 568s - loss: 0.0120 - accuracy: 0.9960 - val_loss: 0.5206 - val_accuracy: 0.9105 - 568s/epoch - 166ms/step\n",
      "Epoch 22/50\n",
      "3424/3424 - 571s - loss: 0.0121 - accuracy: 0.9960 - val_loss: 0.5256 - val_accuracy: 0.9081 - 571s/epoch - 167ms/step\n",
      "Epoch 23/50\n",
      "3424/3424 - 568s - loss: 0.0104 - accuracy: 0.9966 - val_loss: 0.5098 - val_accuracy: 0.9008 - 568s/epoch - 166ms/step\n",
      "Epoch 24/50\n",
      "3424/3424 - 570s - loss: 0.0093 - accuracy: 0.9970 - val_loss: 0.5897 - val_accuracy: 0.9045 - 570s/epoch - 167ms/step\n",
      "Epoch 25/50\n",
      "3424/3424 - 576s - loss: 0.0098 - accuracy: 0.9969 - val_loss: 0.5644 - val_accuracy: 0.9069 - 576s/epoch - 168ms/step\n",
      "Epoch 26/50\n",
      "3424/3424 - 572s - loss: 0.0087 - accuracy: 0.9971 - val_loss: 0.4924 - val_accuracy: 0.9178 - 572s/epoch - 167ms/step\n"
     ]
    }
   ],
   "source": [
    "history = model_dn169.fit(train_batches,\n",
    "                         epochs=50,\n",
    "                         verbose=2,\n",
    "                         validation_data=val_batches,\n",
    "                         callbacks=[checkpoint,Earlystop],\n",
    "                         class_weight=class_weights)"
   ]
  },
  {
   "cell_type": "markdown",
   "id": "6a1267f7",
   "metadata": {
    "papermill": {
     "duration": 0.023202,
     "end_time": "2023-06-03T14:46:08.961796",
     "exception": false,
     "start_time": "2023-06-03T14:46:08.938594",
     "status": "completed"
    },
    "tags": []
   },
   "source": [
    "### Plotting accuracy and loss"
   ]
  },
  {
   "cell_type": "code",
   "execution_count": 21,
   "id": "f8af669c",
   "metadata": {
    "execution": {
     "iopub.execute_input": "2023-06-03T14:46:09.009602Z",
     "iopub.status.busy": "2023-06-03T14:46:09.009244Z",
     "iopub.status.idle": "2023-06-03T14:46:59.181509Z",
     "shell.execute_reply": "2023-06-03T14:46:59.180431Z"
    },
    "papermill": {
     "duration": 50.22751,
     "end_time": "2023-06-03T14:46:59.212519",
     "exception": false,
     "start_time": "2023-06-03T14:46:08.985009",
     "status": "completed"
    },
    "tags": []
   },
   "outputs": [
    {
     "name": "stdout",
     "output_type": "stream",
     "text": [
      "Number of epochs trained: 26\n"
     ]
    },
    {
     "data": {
      "image/png": "[encoded data removed]",
      "text/plain": [
       "<Figure size 1500x500 with 2 Axes>"
      ]
     },
     "metadata": {},
     "output_type": "display_data"
    }
   ],
   "source": [
    "# Determine number of epochs trained\n",
    "num_epochs_trained = len(history.history['val_loss'])\n",
    "print(f\"Number of epochs trained: {num_epochs_trained}\")\n",
    "\n",
    "## History plotting\n",
    "epochs = [i for i in range(num_epochs_trained)]\n",
    "fig , ax = plt.subplots(1,2)\n",
    "train_acc = history.history['accuracy']\n",
    "train_loss = history.history['loss']\n",
    "val_acc = history.history['val_accuracy']\n",
    "val_loss = history.history['val_loss']\n",
    "fig.set_size_inches(15,5)\n",
    "\n",
    "ax[0].plot(epochs , train_acc , 'go-' , label = 'Training Accuracy')\n",
    "ax[0].plot(epochs , val_acc , 'ro-' , label = 'Validation Accuracy')\n",
    "title_font = {'fontname':'Times New Roman', 'size':'14', 'color':'black', 'weight':'normal'}\n",
    "ax[0].set_title('Model Accuracy', fontdict=title_font)\n",
    "legend_font = {'family': 'Times New Roman', 'size': '12', 'weight': 'normal'}\n",
    "ax[0].legend(prop=legend_font)\n",
    "label_font = {'fontname':'Times New Roman', 'size':'12', 'color':'black', 'weight':'normal'}\n",
    "ax[0].set_xlabel(\"Epochs\",  fontdict=label_font)\n",
    "ax[0].set_ylabel(\"Accuracy\",  fontdict=label_font)\n",
    "\n",
    "ax[1].plot(epochs , train_loss , 'g-o' , label = 'Training Loss')\n",
    "ax[1].plot(epochs , val_loss , 'r-o' , label = 'Validation Loss')\n",
    "ax[1].set_title('Model Loss', fontdict=title_font)\n",
    "ax[1].legend(prop=legend_font)\n",
    "ax[1].set_xlabel(\"Epochs\", fontdict=label_font)\n",
    "ax[1].set_ylabel(\"Loss\", fontdict=label_font)\n",
    "plt.show()"
   ]
  },
  {
   "cell_type": "code",
   "execution_count": 22,
   "id": "8de7f695",
   "metadata": {
    "execution": {
     "iopub.execute_input": "2023-06-03T14:46:59.271778Z",
     "iopub.status.busy": "2023-06-03T14:46:59.271352Z",
     "iopub.status.idle": "2023-06-03T14:47:00.081126Z",
     "shell.execute_reply": "2023-06-03T14:47:00.080026Z"
    },
    "id": "zm_AewFBXTj8",
    "papermill": {
     "duration": 0.843426,
     "end_time": "2023-06-03T14:47:00.084694",
     "exception": false,
     "start_time": "2023-06-03T14:46:59.241268",
     "status": "completed"
    },
    "tags": []
   },
   "outputs": [],
   "source": [
    "from tensorflow.keras import models\n",
    "model_dn169.load_weights(\"DN169.hdf5\")"
   ]
  },
  {
   "cell_type": "code",
   "execution_count": 23,
   "id": "5787ce6f",
   "metadata": {
    "execution": {
     "iopub.execute_input": "2023-06-03T14:47:00.144184Z",
     "iopub.status.busy": "2023-06-03T14:47:00.143802Z",
     "iopub.status.idle": "2023-06-03T14:47:20.823110Z",
     "shell.execute_reply": "2023-06-03T14:47:20.822106Z"
    },
    "papermill": {
     "duration": 20.711632,
     "end_time": "2023-06-03T14:47:20.825574",
     "exception": false,
     "start_time": "2023-06-03T14:47:00.113942",
     "status": "completed"
    },
    "tags": []
   },
   "outputs": [
    {
     "name": "stdout",
     "output_type": "stream",
     "text": [
      "52/52 [==============================] - 20s 335ms/step\n"
     ]
    }
   ],
   "source": [
    "predictions = model_dn169.predict(test_batches)"
   ]
  },
  {
   "cell_type": "code",
   "execution_count": 24,
   "id": "d3174284",
   "metadata": {
    "execution": {
     "iopub.execute_input": "2023-06-03T14:47:20.886210Z",
     "iopub.status.busy": "2023-06-03T14:47:20.885114Z",
     "iopub.status.idle": "2023-06-03T14:47:20.890722Z",
     "shell.execute_reply": "2023-06-03T14:47:20.889822Z"
    },
    "id": "FDTMtBeTdBfU",
    "papermill": {
     "duration": 0.038225,
     "end_time": "2023-06-03T14:47:20.892773",
     "exception": false,
     "start_time": "2023-06-03T14:47:20.854548",
     "status": "completed"
    },
    "tags": []
   },
   "outputs": [],
   "source": [
    "#geting predictions on test dataset\n",
    "y_pred = np.argmax(predictions, axis=1)\n",
    "#getting the true labels per image \n",
    "y_true = test_batches.classes\n",
    "#getting the predicted labels per image \n",
    "y_prob = predictions"
   ]
  },
  {
   "cell_type": "code",
   "execution_count": 25,
   "id": "475d687a",
   "metadata": {
    "execution": {
     "iopub.execute_input": "2023-06-03T14:47:20.952299Z",
     "iopub.status.busy": "2023-06-03T14:47:20.951990Z",
     "iopub.status.idle": "2023-06-03T14:47:20.968395Z",
     "shell.execute_reply": "2023-06-03T14:47:20.967405Z"
    },
    "papermill": {
     "duration": 0.04873,
     "end_time": "2023-06-03T14:47:20.970614",
     "exception": false,
     "start_time": "2023-06-03T14:47:20.921884",
     "status": "completed"
    },
    "tags": []
   },
   "outputs": [
    {
     "name": "stdout",
     "output_type": "stream",
     "text": [
      "\n",
      "Classification Report:\n",
      "              precision    recall  f1-score   support\n",
      "\n",
      "          AK       0.70      0.64      0.67        22\n",
      "         BCC       0.71      0.81      0.76        27\n",
      "         BKL       0.88      0.64      0.74        66\n",
      "          DF       1.00      0.50      0.67         6\n",
      "         MEL       0.69      0.63      0.66        35\n",
      "          NV       0.96      0.99      0.97       663\n",
      "        VASC       1.00      1.00      1.00         9\n",
      "\n",
      "    accuracy                           0.93       828\n",
      "   macro avg       0.85      0.74      0.78       828\n",
      "weighted avg       0.93      0.93      0.92       828\n",
      "\n"
     ]
    }
   ],
   "source": [
    "classnames = ['AK', 'BCC', 'BKL', 'DF', 'MEL', 'NV', 'VASC']\n",
    "\n",
    "from tensorflow.keras.utils import to_categorical\n",
    "y_test = to_categorical(y_true)\n",
    "\n",
    "report = classification_report(y_true, y_pred, target_names=classnames)\n",
    "\n",
    "print(\"\\nClassification Report:\")\n",
    "print(report)"
   ]
  },
  {
   "cell_type": "code",
   "execution_count": 26,
   "id": "3ebee7e7",
   "metadata": {
    "execution": {
     "iopub.execute_input": "2023-06-03T14:47:21.034565Z",
     "iopub.status.busy": "2023-06-03T14:47:21.032942Z",
     "iopub.status.idle": "2023-06-03T14:47:21.660384Z",
     "shell.execute_reply": "2023-06-03T14:47:21.659460Z"
    },
    "papermill": {
     "duration": 0.660107,
     "end_time": "2023-06-03T14:47:21.662676",
     "exception": false,
     "start_time": "2023-06-03T14:47:21.002569",
     "status": "completed"
    },
    "tags": []
   },
   "outputs": [
    {
     "data": {
      "image/png": "[encoded data removed]",
      "text/plain": [
       "<Figure size 1000x400 with 2 Axes>"
      ]
     },
     "metadata": {},
     "output_type": "display_data"
    }
   ],
   "source": [
    "## Confusion Matrix\n",
    "title_font = {'fontname':'Times New Roman', 'size':'14', 'color':'black', 'weight':'normal'}\n",
    "label_font = {'fontname':'Times New Roman', 'size':'12', 'color':'black', 'weight':'normal'}\n",
    "\n",
    "from sklearn.metrics import confusion_matrix\n",
    "import seaborn as sns\n",
    "# Creating confusion matrix \n",
    "cm = confusion_matrix(y_true, y_pred)\n",
    "# Plotting the confusion matrix\n",
    "plt.figure(figsize=(10,4))\n",
    "sns.heatmap(cm, annot=True, fmt='g', cmap='Blues', xticklabels=targetnames, yticklabels=targetnames)\n",
    "plt.xlabel('Predicted Label', fontdict=label_font)\n",
    "plt.ylabel('True Label', fontdict=label_font)\n",
    "plt.title('Confusion Matrix', fontdict=title_font)\n",
    "plt.show()"
   ]
  },
  {
   "cell_type": "markdown",
   "id": "fea34ab8",
   "metadata": {
    "papermill": {
     "duration": 0.028446,
     "end_time": "2023-06-03T14:47:21.721565",
     "exception": false,
     "start_time": "2023-06-03T14:47:21.693119",
     "status": "completed"
    },
    "tags": []
   },
   "source": [
    "## Results"
   ]
  },
  {
   "cell_type": "markdown",
   "id": "e14cd477",
   "metadata": {
    "papermill": {
     "duration": 0.028987,
     "end_time": "2023-06-03T14:47:21.780295",
     "exception": false,
     "start_time": "2023-06-03T14:47:21.751308",
     "status": "completed"
    },
    "tags": []
   },
   "source": [
    "### Individual Class Accuracy "
   ]
  },
  {
   "cell_type": "code",
   "execution_count": 27,
   "id": "abd7a125",
   "metadata": {
    "execution": {
     "iopub.execute_input": "2023-06-03T14:47:21.841080Z",
     "iopub.status.busy": "2023-06-03T14:47:21.840729Z",
     "iopub.status.idle": "2023-06-03T14:47:21.849576Z",
     "shell.execute_reply": "2023-06-03T14:47:21.848225Z"
    },
    "papermill": {
     "duration": 0.041774,
     "end_time": "2023-06-03T14:47:21.851860",
     "exception": false,
     "start_time": "2023-06-03T14:47:21.810086",
     "status": "completed"
    },
    "tags": []
   },
   "outputs": [
    {
     "name": "stdout",
     "output_type": "stream",
     "text": [
      "Overall accuracy: 92.75%\n",
      "Accuracy for each class:\n",
      "Class 0: 63.64%\n",
      "Class 1: 81.48%\n",
      "Class 2: 63.64%\n",
      "Class 3: 50.00%\n",
      "Class 4: 62.86%\n",
      "Class 5: 98.94%\n",
      "Class 6: 100.00%\n"
     ]
    }
   ],
   "source": [
    "# y_true are the true labels of the test set\n",
    "# y_pred are the predicted labels of the test set\n",
    "accuracy = accuracy_score(y_true, y_pred)\n",
    "# Calculate accuracy for each class\n",
    "class_accuracy = cm.diagonal()/cm.sum(axis=1)\n",
    "print(\"Overall accuracy: {:.2f}%\".format(accuracy*100))\n",
    "print(\"Accuracy for each class:\")\n",
    "for i, acc in enumerate(class_accuracy):\n",
    "    print(\"Class {}: {:.2f}%\".format(i, acc*100))"
   ]
  },
  {
   "cell_type": "markdown",
   "id": "bc78124d",
   "metadata": {
    "papermill": {
     "duration": 0.02935,
     "end_time": "2023-06-03T14:47:21.913119",
     "exception": false,
     "start_time": "2023-06-03T14:47:21.883769",
     "status": "completed"
    },
    "tags": []
   },
   "source": [
    "### Individual Class Weighted Precision"
   ]
  },
  {
   "cell_type": "code",
   "execution_count": 28,
   "id": "b4eaa14a",
   "metadata": {
    "execution": {
     "iopub.execute_input": "2023-06-03T14:47:21.976404Z",
     "iopub.status.busy": "2023-06-03T14:47:21.975389Z",
     "iopub.status.idle": "2023-06-03T14:47:21.992401Z",
     "shell.execute_reply": "2023-06-03T14:47:21.990911Z"
    },
    "papermill": {
     "duration": 0.051989,
     "end_time": "2023-06-03T14:47:21.994836",
     "exception": false,
     "start_time": "2023-06-03T14:47:21.942847",
     "status": "completed"
    },
    "tags": []
   },
   "outputs": [
    {
     "name": "stdout",
     "output_type": "stream",
     "text": [
      "Weighted precision for each class:\n",
      "Class 0: 70.00%\n",
      "Class 1: 70.97%\n",
      "Class 2: 87.50%\n",
      "Class 3: 100.00%\n",
      "Class 4: 68.75%\n",
      "Class 5: 95.77%\n",
      "Class 6: 100.00%\n",
      "Weighted precision: 92.55%\n"
     ]
    }
   ],
   "source": [
    "report = classification_report(y_true, y_pred, output_dict=True)\n",
    "# Extract weighted precision for each class\n",
    "class_precision = {}\n",
    "for class_label in report.keys():\n",
    "    if class_label == 'weighted avg':\n",
    "        class_precision['weighted'] = report[class_label]['precision']\n",
    "    elif class_label.isdigit():\n",
    "        class_precision[int(class_label)] = report[class_label]['precision']\n",
    "print(\"Weighted precision for each class:\")\n",
    "for i, precision in class_precision.items():\n",
    "    if i == 'weighted':\n",
    "        print(\"Weighted precision: {:.2f}%\".format(precision*100))\n",
    "    else:\n",
    "        print(\"Class {}: {:.2f}%\".format(i, precision*100))"
   ]
  },
  {
   "cell_type": "markdown",
   "id": "4e6ce1db",
   "metadata": {
    "papermill": {
     "duration": 0.030441,
     "end_time": "2023-06-03T14:47:22.058814",
     "exception": false,
     "start_time": "2023-06-03T14:47:22.028373",
     "status": "completed"
    },
    "tags": []
   },
   "source": [
    "### Individual Class Weighted Recall"
   ]
  },
  {
   "cell_type": "code",
   "execution_count": 29,
   "id": "a4511074",
   "metadata": {
    "execution": {
     "iopub.execute_input": "2023-06-03T14:47:22.121320Z",
     "iopub.status.busy": "2023-06-03T14:47:22.120966Z",
     "iopub.status.idle": "2023-06-03T14:47:22.137394Z",
     "shell.execute_reply": "2023-06-03T14:47:22.136096Z"
    },
    "papermill": {
     "duration": 0.048861,
     "end_time": "2023-06-03T14:47:22.139625",
     "exception": false,
     "start_time": "2023-06-03T14:47:22.090764",
     "status": "completed"
    },
    "tags": []
   },
   "outputs": [
    {
     "name": "stdout",
     "output_type": "stream",
     "text": [
      "Weighted recall for each class:\n",
      "Class 0: 63.64%\n",
      "Class 1: 81.48%\n",
      "Class 2: 63.64%\n",
      "Class 3: 50.00%\n",
      "Class 4: 62.86%\n",
      "Class 5: 98.94%\n",
      "Class 6: 100.00%\n",
      "Weighted Recall: 92.75%\n"
     ]
    }
   ],
   "source": [
    "report = classification_report(y_true, y_pred, output_dict=True)\n",
    "# Extract weighted recall for each class\n",
    "class_recall = {}\n",
    "for class_label in report.keys():\n",
    "    if class_label == 'weighted avg':\n",
    "        class_recall['weighted'] = report[class_label]['recall']\n",
    "    elif class_label.isdigit():\n",
    "        class_recall[int(class_label)] = report[class_label]['recall']\n",
    "print(\"Weighted recall for each class:\")\n",
    "for i, recall in class_recall.items():\n",
    "    if i == 'weighted':\n",
    "        print(\"Weighted Recall: {:.2f}%\".format(recall*100))\n",
    "    else:\n",
    "        print(\"Class {}: {:.2f}%\".format(i, recall*100))"
   ]
  },
  {
   "cell_type": "markdown",
   "id": "c37c729b",
   "metadata": {
    "papermill": {
     "duration": 0.029021,
     "end_time": "2023-06-03T14:47:22.198355",
     "exception": false,
     "start_time": "2023-06-03T14:47:22.169334",
     "status": "completed"
    },
    "tags": []
   },
   "source": [
    "### Individual Class Weighted F1-score"
   ]
  },
  {
   "cell_type": "code",
   "execution_count": 30,
   "id": "14b2abb2",
   "metadata": {
    "execution": {
     "iopub.execute_input": "2023-06-03T14:47:22.258526Z",
     "iopub.status.busy": "2023-06-03T14:47:22.257524Z",
     "iopub.status.idle": "2023-06-03T14:47:22.273620Z",
     "shell.execute_reply": "2023-06-03T14:47:22.272518Z"
    },
    "papermill": {
     "duration": 0.04815,
     "end_time": "2023-06-03T14:47:22.275714",
     "exception": false,
     "start_time": "2023-06-03T14:47:22.227564",
     "status": "completed"
    },
    "tags": []
   },
   "outputs": [
    {
     "name": "stdout",
     "output_type": "stream",
     "text": [
      "Weighted F1-score for each class:\n",
      "Class 0: 66.67%\n",
      "Class 1: 75.86%\n",
      "Class 2: 73.68%\n",
      "Class 3: 66.67%\n",
      "Class 4: 65.67%\n",
      "Class 5: 97.33%\n",
      "Class 6: 100.00%\n",
      "Weighted F1-score: 92.40%\n"
     ]
    }
   ],
   "source": [
    "report = classification_report(y_true, y_pred, output_dict=True)\n",
    "# Extract weighted F1-score for each class\n",
    "class_f1 = {}\n",
    "for class_label in report.keys():\n",
    "    if class_label == 'weighted avg':\n",
    "        class_f1['weighted'] = report[class_label]['f1-score']\n",
    "    elif class_label.isdigit():\n",
    "        class_f1[int(class_label)] = report[class_label]['f1-score']\n",
    "print(\"Weighted F1-score for each class:\")\n",
    "for i, f1_score in class_f1.items():\n",
    "    if i == 'weighted':\n",
    "        print(\"Weighted F1-score: {:.2f}%\".format(f1_score*100))\n",
    "    else:\n",
    "        print(\"Class {}: {:.2f}%\".format(i, f1_score*100))"
   ]
  },
  {
   "cell_type": "markdown",
   "id": "a3abb6f2",
   "metadata": {
    "papermill": {
     "duration": 0.02903,
     "end_time": "2023-06-03T14:47:22.335830",
     "exception": false,
     "start_time": "2023-06-03T14:47:22.306800",
     "status": "completed"
    },
    "tags": []
   },
   "source": [
    "### Individual Class Precision, Recall and F1-score"
   ]
  },
  {
   "cell_type": "code",
   "execution_count": 31,
   "id": "04b225e8",
   "metadata": {
    "execution": {
     "iopub.execute_input": "2023-06-03T14:47:22.397395Z",
     "iopub.status.busy": "2023-06-03T14:47:22.396480Z",
     "iopub.status.idle": "2023-06-03T14:47:22.406131Z",
     "shell.execute_reply": "2023-06-03T14:47:22.404742Z"
    },
    "papermill": {
     "duration": 0.043184,
     "end_time": "2023-06-03T14:47:22.408520",
     "exception": false,
     "start_time": "2023-06-03T14:47:22.365336",
     "status": "completed"
    },
    "tags": []
   },
   "outputs": [
    {
     "name": "stdout",
     "output_type": "stream",
     "text": [
      "Class-wise weighted precision, recall, and F1-score:\n",
      "Class 0: Precision=0.70, Recall=0.64, F1-score=0.67\n",
      "Class 1: Precision=0.71, Recall=0.81, F1-score=0.76\n",
      "Class 2: Precision=0.88, Recall=0.64, F1-score=0.74\n",
      "Class 3: Precision=1.00, Recall=0.50, F1-score=0.67\n",
      "Class 4: Precision=0.69, Recall=0.63, F1-score=0.66\n",
      "Class 5: Precision=0.96, Recall=0.99, F1-score=0.97\n",
      "Class 6: Precision=1.00, Recall=1.00, F1-score=1.00\n"
     ]
    }
   ],
   "source": [
    "from sklearn.metrics import precision_recall_fscore_support\n",
    "\n",
    "precision_class, recall_class, f1_class, support_class = precision_recall_fscore_support(y_true, y_pred, average=None)\n",
    "print('Class-wise weighted precision, recall, and F1-score:')\n",
    "for i in range(len(precision_class)):\n",
    "    print('Class {}: Precision={:.2f}, Recall={:.2f}, F1-score={:.2f}'.format(i, precision_class[i], recall_class[i], f1_class[i]))\n"
   ]
  },
  {
   "cell_type": "markdown",
   "id": "06c16b1c",
   "metadata": {
    "papermill": {
     "duration": 0.028757,
     "end_time": "2023-06-03T14:47:22.469391",
     "exception": false,
     "start_time": "2023-06-03T14:47:22.440634",
     "status": "completed"
    },
    "tags": []
   },
   "source": [
    "### Individual Class Weighted Sensitivity"
   ]
  },
  {
   "cell_type": "code",
   "execution_count": 32,
   "id": "52f06821",
   "metadata": {
    "execution": {
     "iopub.execute_input": "2023-06-03T14:47:22.528876Z",
     "iopub.status.busy": "2023-06-03T14:47:22.528527Z",
     "iopub.status.idle": "2023-06-03T14:47:23.029958Z",
     "shell.execute_reply": "2023-06-03T14:47:23.028920Z"
    },
    "papermill": {
     "duration": 0.533787,
     "end_time": "2023-06-03T14:47:23.032367",
     "exception": false,
     "start_time": "2023-06-03T14:47:22.498580",
     "status": "completed"
    },
    "tags": []
   },
   "outputs": [
    {
     "name": "stdout",
     "output_type": "stream",
     "text": [
      "Weighted Sensitivity:  0.927536231884058\n",
      "Class  0 :sensitivity = 0.6363636363636364\n",
      "Class  1 :sensitivity = 0.8148148148148148\n",
      "Class  2 :sensitivity = 0.6363636363636364\n",
      "Class  3 :sensitivity = 0.5\n",
      "Class  4 :sensitivity = 0.6285714285714286\n",
      "Class  5 :sensitivity = 0.9894419306184012\n",
      "Class  6 :sensitivity = 1.0\n"
     ]
    }
   ],
   "source": [
    "from imblearn.metrics import sensitivity_score\n",
    "\n",
    "sensitivity = sensitivity_score(y_true, y_pred, average='weighted')\n",
    "print(\"Weighted Sensitivity: \", sensitivity)\n",
    "\n",
    "# Calculate class-wise sensitivity\n",
    "sensitivity = sensitivity_score(y_true, y_pred, average=None)\n",
    "\n",
    "# Print sensitivity score for each class\n",
    "for i in range(len(sensitivity)):\n",
    "    print(\"Class \", i, \":sensitivity =\", sensitivity[i])"
   ]
  },
  {
   "cell_type": "markdown",
   "id": "07a0c240",
   "metadata": {
    "papermill": {
     "duration": 0.031497,
     "end_time": "2023-06-03T14:47:23.096782",
     "exception": false,
     "start_time": "2023-06-03T14:47:23.065285",
     "status": "completed"
    },
    "tags": []
   },
   "source": [
    "### Individual Class Weighted Specificity"
   ]
  },
  {
   "cell_type": "code",
   "execution_count": 33,
   "id": "fed54616",
   "metadata": {
    "execution": {
     "iopub.execute_input": "2023-06-03T14:47:23.160382Z",
     "iopub.status.busy": "2023-06-03T14:47:23.159620Z",
     "iopub.status.idle": "2023-06-03T14:47:23.170653Z",
     "shell.execute_reply": "2023-06-03T14:47:23.169359Z"
    },
    "papermill": {
     "duration": 0.046058,
     "end_time": "2023-06-03T14:47:23.172968",
     "exception": false,
     "start_time": "2023-06-03T14:47:23.126910",
     "status": "completed"
    },
    "tags": []
   },
   "outputs": [
    {
     "name": "stdout",
     "output_type": "stream",
     "text": [
      "Weighted Specificity:  0.8575417123404708\n",
      "Class  0 :specificity= 0.9925558312655087\n",
      "Class  1 :specificity= 0.9887640449438202\n",
      "Class  2 :specificity= 0.9921259842519685\n",
      "Class  3 :specificity= 1.0\n",
      "Class  4 :specificity= 0.987389659520807\n",
      "Class  5 :specificity= 0.8242424242424242\n",
      "Class  6 :specificity= 1.0\n"
     ]
    }
   ],
   "source": [
    "from imblearn.metrics import specificity_score\n",
    "\n",
    "specificity = specificity_score(y_true, y_pred, average='weighted')\n",
    "print(\"Weighted Specificity: \", specificity)\n",
    "\n",
    "# Calculate class-wise specificity\n",
    "specificity = specificity_score(y_true, y_pred, average=None)\n",
    "\n",
    "# Print sensitivity score for each class\n",
    "for i in range(len(specificity)):\n",
    "    print(\"Class \", i, \":specificity=\", specificity[i])"
   ]
  },
  {
   "cell_type": "markdown",
   "id": "4dd3db72",
   "metadata": {
    "papermill": {
     "duration": 0.029331,
     "end_time": "2023-06-03T14:47:23.235617",
     "exception": false,
     "start_time": "2023-06-03T14:47:23.206286",
     "status": "completed"
    },
    "tags": []
   },
   "source": [
    "### Accuracy"
   ]
  },
  {
   "cell_type": "code",
   "execution_count": 34,
   "id": "af1a33ff",
   "metadata": {
    "execution": {
     "iopub.execute_input": "2023-06-03T14:47:23.301711Z",
     "iopub.status.busy": "2023-06-03T14:47:23.301342Z",
     "iopub.status.idle": "2023-06-03T14:47:23.308570Z",
     "shell.execute_reply": "2023-06-03T14:47:23.307515Z"
    },
    "papermill": {
     "duration": 0.042694,
     "end_time": "2023-06-03T14:47:23.310930",
     "exception": false,
     "start_time": "2023-06-03T14:47:23.268236",
     "status": "completed"
    },
    "tags": []
   },
   "outputs": [
    {
     "name": "stdout",
     "output_type": "stream",
     "text": [
      "Accuracy: 0.927536231884058\n"
     ]
    }
   ],
   "source": [
    "print(\"Accuracy: \" + str(accuracy_score(y_true, y_pred)))\n",
    "import numpy as np\n",
    "from sklearn.metrics import accuracy_score"
   ]
  },
  {
   "cell_type": "code",
   "execution_count": 35,
   "id": "c9aabe51",
   "metadata": {
    "execution": {
     "iopub.execute_input": "2023-06-03T14:47:23.376633Z",
     "iopub.status.busy": "2023-06-03T14:47:23.375781Z",
     "iopub.status.idle": "2023-06-03T14:47:23.396703Z",
     "shell.execute_reply": "2023-06-03T14:47:23.395362Z"
    },
    "papermill": {
     "duration": 0.054911,
     "end_time": "2023-06-03T14:47:23.398949",
     "exception": false,
     "start_time": "2023-06-03T14:47:23.344038",
     "status": "completed"
    },
    "tags": []
   },
   "outputs": [
    {
     "name": "stdout",
     "output_type": "stream",
     "text": [
      "Top-1 Accuracy: 0.927536231884058\n",
      "Top-2 Accuracy: 0.9734299516908212\n",
      "Top-3 Accuracy: 0.9891304347826086\n"
     ]
    }
   ],
   "source": [
    "# Calculate top-1 accuracy\n",
    "top1_acc = accuracy_score(y_true, y_pred)\n",
    "print(\"Top-1 Accuracy:\", top1_acc)\n",
    "\n",
    "# Calculate top-2 accuracy\n",
    "y_pred_top2 = np.argsort(-predictions, axis=1)[:, :2] # Get the top 2 predicted classes\n",
    "top2_acc = np.mean(np.array([y_true[i] in y_pred_top2[i] for i in range(len(y_true))]))\n",
    "print(\"Top-2 Accuracy:\", top2_acc)\n",
    "\n",
    "# Calculate top-3 accuracy\n",
    "y_pred_top3 = np.argsort(-predictions, axis=1)[:, :3] # Get the top 3 predicted classes\n",
    "top3_acc = np.mean(np.array([y_true[i] in y_pred_top3[i] for i in range(len(y_true))]))\n",
    "print(\"Top-3 Accuracy:\", top3_acc)\n",
    "from sklearn.metrics import f1_score"
   ]
  },
  {
   "cell_type": "markdown",
   "id": "dd21fc33",
   "metadata": {
    "papermill": {
     "duration": 0.029507,
     "end_time": "2023-06-03T14:47:23.463773",
     "exception": false,
     "start_time": "2023-06-03T14:47:23.434266",
     "status": "completed"
    },
    "tags": []
   },
   "source": [
    "### Weighted Evaluation Measures"
   ]
  },
  {
   "cell_type": "code",
   "execution_count": 36,
   "id": "9d9054d5",
   "metadata": {
    "execution": {
     "iopub.execute_input": "2023-06-03T14:47:23.524766Z",
     "iopub.status.busy": "2023-06-03T14:47:23.523885Z",
     "iopub.status.idle": "2023-06-03T14:47:23.551525Z",
     "shell.execute_reply": "2023-06-03T14:47:23.550482Z"
    },
    "papermill": {
     "duration": 0.060255,
     "end_time": "2023-06-03T14:47:23.553539",
     "exception": false,
     "start_time": "2023-06-03T14:47:23.493284",
     "status": "completed"
    },
    "tags": []
   },
   "outputs": [
    {
     "name": "stdout",
     "output_type": "stream",
     "text": [
      "Weighted Precision: 0.9254893444249934\n",
      "Weighted Recall: 0.927536231884058\n",
      "Weighted F1-Score: 0.9239853229560198\n",
      "Weighted Sensitivity: 0.927536231884058\n",
      "Weighted Specificity: 0.8575417123404708\n",
      "weighted Roc score: 0.983281385717913\n"
     ]
    }
   ],
   "source": [
    "print(\"Weighted Precision: \"+ str(precision_score(y_true, y_pred, average='weighted')))\n",
    "print(\"Weighted Recall: \"+ str(recall_score(y_true, y_pred, average='weighted')))\n",
    "print(\"Weighted F1-Score: \"+ str(f1_score(y_true, y_pred, average='weighted')))\n",
    "print(\"Weighted Sensitivity: \"+ str(sensitivity_score(y_true, y_pred, average='weighted')))\n",
    "print(\"Weighted Specificity: \"+ str(specificity_score(y_true, y_pred, average='weighted')))\n",
    "print(\"weighted Roc score: \" + str(roc_auc_score(y_true,y_prob,multi_class='ovr',average='weighted')))"
   ]
  },
  {
   "cell_type": "markdown",
   "id": "5a888072",
   "metadata": {
    "papermill": {
     "duration": 0.029005,
     "end_time": "2023-06-03T14:47:23.611851",
     "exception": false,
     "start_time": "2023-06-03T14:47:23.582846",
     "status": "completed"
    },
    "tags": []
   },
   "source": [
    "### Macro Evaluation Measures"
   ]
  },
  {
   "cell_type": "code",
   "execution_count": 37,
   "id": "96d7a3df",
   "metadata": {
    "execution": {
     "iopub.execute_input": "2023-06-03T14:47:23.673949Z",
     "iopub.status.busy": "2023-06-03T14:47:23.673026Z",
     "iopub.status.idle": "2023-06-03T14:47:23.697226Z",
     "shell.execute_reply": "2023-06-03T14:47:23.695977Z"
    },
    "papermill": {
     "duration": 0.057266,
     "end_time": "2023-06-03T14:47:23.699384",
     "exception": false,
     "start_time": "2023-06-03T14:47:23.642118",
     "status": "completed"
    },
    "tags": []
   },
   "outputs": [
    {
     "name": "stdout",
     "output_type": "stream",
     "text": [
      "Macro Precision: 0.8471202361330687\n",
      "Macro Recall: 0.7436507781045597\n",
      "Macro F1-Score: 0.7798294735297294\n",
      "Macro Sensitivity: 0.7436507781045597\n",
      "Macro Specificity: 0.9692968491749328\n",
      "Macro Roc score: 0.9820673050222491\n"
     ]
    }
   ],
   "source": [
    "print(\"Macro Precision: \"+ str(precision_score(y_true, y_pred, average='macro')))\n",
    "print(\"Macro Recall: \"+ str(recall_score(y_true, y_pred, average='macro')))\n",
    "print(\"Macro F1-Score: \"+ str(f1_score(y_true, y_pred, average='macro')))\n",
    "print(\"Macro Sensitivity: \"+ str(sensitivity_score(y_true, y_pred, average='macro')))\n",
    "print(\"Macro Specificity: \"+ str(specificity_score(y_true, y_pred, average='macro')))\n",
    "print(\"Macro Roc score: \" + str(roc_auc_score(y_true,y_prob,multi_class='ovr',average='macro')))"
   ]
  },
  {
   "cell_type": "markdown",
   "id": "bffdb35d",
   "metadata": {
    "papermill": {
     "duration": 0.029851,
     "end_time": "2023-06-03T14:47:23.759482",
     "exception": false,
     "start_time": "2023-06-03T14:47:23.729631",
     "status": "completed"
    },
    "tags": []
   },
   "source": [
    "### Micro Evaluation Measures"
   ]
  },
  {
   "cell_type": "code",
   "execution_count": 38,
   "id": "f7590881",
   "metadata": {
    "execution": {
     "iopub.execute_input": "2023-06-03T14:47:23.822867Z",
     "iopub.status.busy": "2023-06-03T14:47:23.821905Z",
     "iopub.status.idle": "2023-06-03T14:47:23.838428Z",
     "shell.execute_reply": "2023-06-03T14:47:23.837360Z"
    },
    "papermill": {
     "duration": 0.050678,
     "end_time": "2023-06-03T14:47:23.840609",
     "exception": false,
     "start_time": "2023-06-03T14:47:23.789931",
     "status": "completed"
    },
    "tags": []
   },
   "outputs": [
    {
     "name": "stdout",
     "output_type": "stream",
     "text": [
      "Micro Precision: 0.927536231884058\n",
      "Micro Recall: 0.927536231884058\n",
      "Micro F1-Score: 0.927536231884058\n",
      "Micro Sensitivity: 0.927536231884058\n",
      "Micro Specificity: 0.9879227053140096\n"
     ]
    }
   ],
   "source": [
    "print(\"Micro Precision: \"+ str(precision_score(y_true, y_pred, average='micro')))\n",
    "print(\"Micro Recall: \"+ str(recall_score(y_true, y_pred, average='micro')))\n",
    "print(\"Micro F1-Score: \"+ str(f1_score(y_true, y_pred, average='micro')))\n",
    "print(\"Micro Sensitivity: \"+ str(sensitivity_score(y_true, y_pred, average='micro')))\n",
    "print(\"Micro Specificity: \"+ str(specificity_score(y_true, y_pred, average='micro')))"
   ]
  },
  {
   "cell_type": "markdown",
   "id": "7f020175",
   "metadata": {
    "papermill": {
     "duration": 0.030108,
     "end_time": "2023-06-03T14:47:23.902283",
     "exception": false,
     "start_time": "2023-06-03T14:47:23.872175",
     "status": "completed"
    },
    "tags": []
   },
   "source": [
    "## ROC"
   ]
  },
  {
   "cell_type": "markdown",
   "id": "0befefb0",
   "metadata": {
    "papermill": {
     "duration": 0.030288,
     "end_time": "2023-06-03T14:47:23.963046",
     "exception": false,
     "start_time": "2023-06-03T14:47:23.932758",
     "status": "completed"
    },
    "tags": []
   },
   "source": [
    "### Compute ROC curve and ROC area for each class"
   ]
  },
  {
   "cell_type": "code",
   "execution_count": 39,
   "id": "e3e0478f",
   "metadata": {
    "execution": {
     "iopub.execute_input": "2023-06-03T14:47:24.025232Z",
     "iopub.status.busy": "2023-06-03T14:47:24.024116Z",
     "iopub.status.idle": "2023-06-03T14:47:24.463487Z",
     "shell.execute_reply": "2023-06-03T14:47:24.462603Z"
    },
    "papermill": {
     "duration": 0.47267,
     "end_time": "2023-06-03T14:47:24.465705",
     "exception": false,
     "start_time": "2023-06-03T14:47:23.993035",
     "status": "completed"
    },
    "tags": []
   },
   "outputs": [
    {
     "data": {
      "image/png": "[encoded data removed]",
      "text/plain": [
       "<Figure size 640x480 with 1 Axes>"
      ]
     },
     "metadata": {},
     "output_type": "display_data"
    }
   ],
   "source": [
    "fpr = {}\n",
    "tpr = {}\n",
    "roc_auc = dict()\n",
    "for i in range(num_classes):\n",
    "    fpr[i], tpr[i], _ = roc_curve(y_test[:, i], y_prob[:, i], drop_intermediate=False)\n",
    "    roc_auc[i] = auc(fpr[i], tpr[i])\n",
    "\n",
    "\n",
    "# plot the ROC curve for each class\n",
    "for i in range(7):\n",
    "    plt.plot(fpr[i], tpr[i], label='Class {}: AUC={:.3f}'.format(i, roc_auc[i]))\n",
    "\n",
    "plt.xlabel('False Positive Rate')\n",
    "plt.ylabel('True Positive Rate')\n",
    "plt.legend()\n",
    "plt.show()"
   ]
  },
  {
   "cell_type": "markdown",
   "id": "5f4bc39c",
   "metadata": {
    "papermill": {
     "duration": 0.030612,
     "end_time": "2023-06-03T14:47:24.527711",
     "exception": false,
     "start_time": "2023-06-03T14:47:24.497099",
     "status": "completed"
    },
    "tags": []
   },
   "source": [
    "## MCC and Kappa Score"
   ]
  },
  {
   "cell_type": "code",
   "execution_count": 40,
   "id": "aab3a327",
   "metadata": {
    "execution": {
     "iopub.execute_input": "2023-06-03T14:47:24.590290Z",
     "iopub.status.busy": "2023-06-03T14:47:24.589264Z",
     "iopub.status.idle": "2023-06-03T14:47:24.600065Z",
     "shell.execute_reply": "2023-06-03T14:47:24.598946Z"
    },
    "papermill": {
     "duration": 0.044931,
     "end_time": "2023-06-03T14:47:24.602595",
     "exception": false,
     "start_time": "2023-06-03T14:47:24.557664",
     "status": "completed"
    },
    "tags": []
   },
   "outputs": [
    {
     "name": "stdout",
     "output_type": "stream",
     "text": [
      "MCC: 78.29%\n",
      "Kappa Score: 77.99%\n"
     ]
    }
   ],
   "source": [
    "from sklearn.metrics import matthews_corrcoef, cohen_kappa_score\n",
    "\n",
    "# y_true are the true labels of the test set\n",
    "# y_pred are the predicted labels of the test set\n",
    "mcc = matthews_corrcoef(y_true, y_pred)\n",
    "kappa = cohen_kappa_score(y_true, y_pred)\n",
    "print(\"MCC: {:.2f}%\".format(mcc*100))\n",
    "print(\"Kappa Score: {:.2f}%\".format(kappa*100))"
   ]
  },
  {
   "cell_type": "code",
   "execution_count": 41,
   "id": "3987ebbe",
   "metadata": {
    "execution": {
     "iopub.execute_input": "2023-06-03T14:47:24.668824Z",
     "iopub.status.busy": "2023-06-03T14:47:24.668471Z",
     "iopub.status.idle": "2023-06-03T14:47:24.739504Z",
     "shell.execute_reply": "2023-06-03T14:47:24.738035Z"
    },
    "papermill": {
     "duration": 0.105946,
     "end_time": "2023-06-03T14:47:24.741922",
     "exception": false,
     "start_time": "2023-06-03T14:47:24.635976",
     "status": "completed"
    },
    "tags": []
   },
   "outputs": [
    {
     "name": "stdout",
     "output_type": "stream",
     "text": [
      "MCC per class:\n",
      "Class 0: 65.88%\n",
      "Class 1: 75.18%\n",
      "Class 2: 72.84%\n",
      "Class 3: 70.58%\n",
      "Class 4: 64.30%\n",
      "Class 5: 85.99%\n",
      "Class 6: 100.00%\n",
      "Kappa Score per class:\n",
      "Class 0: 65.80%\n",
      "Class 1: 74.99%\n",
      "Class 2: 71.79%\n",
      "Class 3: 66.50%\n",
      "Class 4: 64.23%\n",
      "Class 5: 85.66%\n",
      "Class 6: 100.00%\n"
     ]
    }
   ],
   "source": [
    "### Individual Class Wise MCC and Kappa\n",
    "\n",
    "from sklearn.metrics import confusion_matrix, matthews_corrcoef, cohen_kappa_score\n",
    "# y_true are the true labels of the test set\n",
    "# y_pred are the predicted labels of the test set\n",
    "conf_mat = confusion_matrix(y_true, y_pred)\n",
    "mcc_per_class = {}\n",
    "kappa_per_class = {}\n",
    "\n",
    "for i in range(len(conf_mat)):\n",
    "    tp = conf_mat[i][i]\n",
    "    fp = sum(conf_mat[:, i]) - tp\n",
    "    fn = sum(conf_mat[i, :]) - tp\n",
    "    tn = sum(sum(conf_mat)) - tp - fp - fn\n",
    "\n",
    "    mcc_per_class[i] = matthews_corrcoef([1 if x==i else 0 for x in y_true], [1 if x==i else 0 for x in y_pred])\n",
    "    kappa_per_class[i] = cohen_kappa_score([1 if x==i else 0 for x in y_true], [1 if x==i else 0 for x in y_pred])\n",
    "\n",
    "print(\"MCC per class:\")\n",
    "for i, mcc in mcc_per_class.items():\n",
    "    print(\"Class {}: {:.2f}%\".format(i, mcc*100))\n",
    "\n",
    "print(\"Kappa Score per class:\")\n",
    "for i, kappa in kappa_per_class.items():\n",
    "    print(\"Class {}: {:.2f}%\".format(i, kappa*100))"
   ]
  }
 ],
 "metadata": {
  "kernelspec": {
   "display_name": "Python 3",
   "language": "python",
   "name": "python3"
  },
  "language_info": {
   "codemirror_mode": {
    "name": "ipython",
    "version": 3
   },
   "file_extension": ".py",
   "mimetype": "text/x-python",
   "name": "python",
   "nbconvert_exporter": "python",
   "pygments_lexer": "ipython3",
   "version": "3.10.10"
  },
  "papermill": {
   "default_parameters": {},
   "duration": 16007.727277,
   "end_time": "2023-06-03T14:47:28.688513",
   "environment_variables": {},
   "exception": null,
   "input_path": "__notebook__.ipynb",
   "output_path": "__notebook__.ipynb",
   "parameters": {},
   "start_time": "2023-06-03T10:20:40.961236",
   "version": "2.4.0"
  }
 },
 "nbformat": 4,
 "nbformat_minor": 5
}
