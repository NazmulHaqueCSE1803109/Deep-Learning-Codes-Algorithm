{
 "cells": [
  {
   "cell_type": "markdown",
   "id": "2c0938ba",
   "metadata": {
    "papermill": {
     "duration": 0.01407,
     "end_time": "2023-05-27T18:16:28.017564",
     "exception": false,
     "start_time": "2023-05-27T18:16:28.003494",
     "status": "completed"
    },
    "tags": []
   },
   "source": [
    "# Libraries"
   ]
  },
  {
   "cell_type": "code",
   "execution_count": 1,
   "id": "479d2f7b",
   "metadata": {
    "execution": {
     "iopub.execute_input": "2023-05-27T18:16:28.046643Z",
     "iopub.status.busy": "2023-05-27T18:16:28.045860Z",
     "iopub.status.idle": "2023-05-27T18:16:36.251851Z",
     "shell.execute_reply": "2023-05-27T18:16:36.250884Z"
    },
    "id": "Aa36bMKLze3z",
    "papermill": {
     "duration": 8.223329,
     "end_time": "2023-05-27T18:16:36.254363",
     "exception": false,
     "start_time": "2023-05-27T18:16:28.031034",
     "status": "completed"
    },
    "tags": []
   },
   "outputs": [
    {
     "name": "stderr",
     "output_type": "stream",
     "text": [
      "/opt/conda/lib/python3.10/site-packages/tensorflow_io/python/ops/__init__.py:98: UserWarning: unable to load libtensorflow_io_plugins.so: unable to open file: libtensorflow_io_plugins.so, from paths: ['/opt/conda/lib/python3.10/site-packages/tensorflow_io/python/ops/libtensorflow_io_plugins.so']\n",
      "caused by: ['/opt/conda/lib/python3.10/site-packages/tensorflow_io/python/ops/libtensorflow_io_plugins.so: undefined symbol: _ZN3tsl6StatusC1EN10tensorflow5error4CodeESt17basic_string_viewIcSt11char_traitsIcEENS_14SourceLocationE']\n",
      "  warnings.warn(f\"unable to load libtensorflow_io_plugins.so: {e}\")\n",
      "/opt/conda/lib/python3.10/site-packages/tensorflow_io/python/ops/__init__.py:104: UserWarning: file system plugins are not loaded: unable to open file: libtensorflow_io.so, from paths: ['/opt/conda/lib/python3.10/site-packages/tensorflow_io/python/ops/libtensorflow_io.so']\n",
      "caused by: ['/opt/conda/lib/python3.10/site-packages/tensorflow_io/python/ops/libtensorflow_io.so: undefined symbol: _ZTVN10tensorflow13GcsFileSystemE']\n",
      "  warnings.warn(f\"file system plugins are not loaded: {e}\")\n"
     ]
    }
   ],
   "source": [
    "import pandas as pd\n",
    "import numpy as np\n",
    "import os\n",
    "import tensorflow as tf\n",
    "import cv2\n",
    "from keras import backend as K\n",
    "from keras.layers import Layer, InputSpec\n",
    "import keras.layers as kl\n",
    "from glob import glob\n",
    "from sklearn.metrics import roc_curve, auc\n",
    "from keras.preprocessing import image\n",
    "from tensorflow.keras.models import Sequential\n",
    "from sklearn.metrics import roc_auc_score\n",
    "from tensorflow.keras import callbacks \n",
    "from tensorflow.keras.callbacks import ModelCheckpoint, EarlyStopping\n",
    "from  matplotlib import pyplot as plt\n",
    "from tensorflow.keras import Model\n",
    "from tensorflow.keras.layers import concatenate, Dense, Conv2D, MaxPooling2D, Flatten, Input, Activation, add, AveragePooling2D, BatchNormalization, Dropout\n",
    "%matplotlib inline\n",
    "import shutil\n",
    "from sklearn.metrics import  precision_score, recall_score, accuracy_score, classification_report, confusion_matrix\n",
    "from tensorflow.python.platform import build_info as tf_build_info\n",
    "from tensorflow.keras.preprocessing.image import ImageDataGenerator\n",
    "from sklearn.model_selection import train_test_split\n",
    "\n",
    "from PIL import ImageFile\n",
    "ImageFile.LOAD_TRUNCATED_IMAGES = True"
   ]
  },
  {
   "cell_type": "code",
   "execution_count": 2,
   "id": "5afd19b7",
   "metadata": {
    "execution": {
     "iopub.execute_input": "2023-05-27T18:16:36.284387Z",
     "iopub.status.busy": "2023-05-27T18:16:36.283734Z",
     "iopub.status.idle": "2023-05-27T18:16:36.288758Z",
     "shell.execute_reply": "2023-05-27T18:16:36.287700Z"
    },
    "id": "PsoqCvNsgmHP",
    "papermill": {
     "duration": 0.021981,
     "end_time": "2023-05-27T18:16:36.290864",
     "exception": false,
     "start_time": "2023-05-27T18:16:36.268883",
     "status": "completed"
    },
    "tags": []
   },
   "outputs": [],
   "source": [
    "targetnames = ['akiec', 'bcc', 'bkl', 'df', 'mel', 'nv', 'vasc']\n",
    "batch_size = 16\n",
    "image_size = 224"
   ]
  },
  {
   "cell_type": "code",
   "execution_count": 3,
   "id": "7bc497cf",
   "metadata": {
    "execution": {
     "iopub.execute_input": "2023-05-27T18:16:36.318936Z",
     "iopub.status.busy": "2023-05-27T18:16:36.318668Z",
     "iopub.status.idle": "2023-05-27T18:16:36.323340Z",
     "shell.execute_reply": "2023-05-27T18:16:36.322459Z"
    },
    "id": "wNisha_gM3_Z",
    "papermill": {
     "duration": 0.021235,
     "end_time": "2023-05-27T18:16:36.325507",
     "exception": false,
     "start_time": "2023-05-27T18:16:36.304272",
     "status": "completed"
    },
    "tags": []
   },
   "outputs": [],
   "source": [
    "train_path = '/kaggle/input/splitted-and-augmented-ham-15/Splitted_And_Augmented_HAM_15/HAM10K/train_dir'\n",
    "test_path = '/kaggle/input/splitted-and-augmented-ham-15/Splitted_And_Augmented_HAM_15/HAM10K/test_dir'\n",
    "val_path = '/kaggle/input/splitted-and-augmented-ham-15/Splitted_And_Augmented_HAM_15/HAM10K/val_dir'"
   ]
  },
  {
   "cell_type": "markdown",
   "id": "7d58a242",
   "metadata": {
    "papermill": {
     "duration": 0.01339,
     "end_time": "2023-05-27T18:16:36.353080",
     "exception": false,
     "start_time": "2023-05-27T18:16:36.339690",
     "status": "completed"
    },
    "tags": []
   },
   "source": [
    "# Dataset generation (Train, Test, Validation)"
   ]
  },
  {
   "cell_type": "code",
   "execution_count": 4,
   "id": "342d9988",
   "metadata": {
    "execution": {
     "iopub.execute_input": "2023-05-27T18:16:36.381230Z",
     "iopub.status.busy": "2023-05-27T18:16:36.380930Z",
     "iopub.status.idle": "2023-05-27T18:16:36.385280Z",
     "shell.execute_reply": "2023-05-27T18:16:36.384387Z"
    },
    "id": "zhQWqdRN79B3",
    "papermill": {
     "duration": 0.020847,
     "end_time": "2023-05-27T18:16:36.387297",
     "exception": false,
     "start_time": "2023-05-27T18:16:36.366450",
     "status": "completed"
    },
    "tags": []
   },
   "outputs": [],
   "source": [
    "datagen = ImageDataGenerator(preprocessing_function=tf.keras.applications.resnet.preprocess_input)"
   ]
  },
  {
   "cell_type": "code",
   "execution_count": 5,
   "id": "72e60fda",
   "metadata": {
    "execution": {
     "iopub.execute_input": "2023-05-27T18:16:36.417497Z",
     "iopub.status.busy": "2023-05-27T18:16:36.417127Z",
     "iopub.status.idle": "2023-05-27T18:16:55.442496Z",
     "shell.execute_reply": "2023-05-27T18:16:55.441621Z"
    },
    "id": "w9_8FvOO7Rtu",
    "outputId": "7ca88c24-fda8-45d6-cb32-f3a43ae6ba5b",
    "papermill": {
     "duration": 19.043367,
     "end_time": "2023-05-27T18:16:55.444620",
     "exception": false,
     "start_time": "2023-05-27T18:16:36.401253",
     "status": "completed"
    },
    "tags": []
   },
   "outputs": [
    {
     "name": "stdout",
     "output_type": "stream",
     "text": [
      "\n",
      "Train Batches: \n",
      "Found 54782 images belonging to 7 classes.\n",
      "\n",
      "Test Batches: \n",
      "Found 828 images belonging to 7 classes.\n",
      "\n",
      "Val Batches: \n",
      "Found 827 images belonging to 7 classes.\n"
     ]
    }
   ],
   "source": [
    "print(\"\\nTrain Batches: \")\n",
    "train_batches = datagen.flow_from_directory(directory=train_path,\n",
    "                                            target_size=(image_size,image_size),\n",
    "                                            batch_size=batch_size,\n",
    "                                            shuffle=True)\n",
    "\n",
    "print(\"\\nTest Batches: \")\n",
    "test_batches = datagen.flow_from_directory(test_path,\n",
    "                                          target_size=(image_size,image_size),\n",
    "                                          batch_size=batch_size,\n",
    "                                          shuffle=False)\n",
    "print(\"\\nVal Batches: \")\n",
    "val_batches = datagen.flow_from_directory(val_path,\n",
    "                                         target_size=(image_size,image_size),\n",
    "                                         batch_size=batch_size,\n",
    "                                         shuffle=False)"
   ]
  },
  {
   "cell_type": "markdown",
   "id": "0aaf7459",
   "metadata": {
    "papermill": {
     "duration": 0.014225,
     "end_time": "2023-05-27T18:16:55.472955",
     "exception": false,
     "start_time": "2023-05-27T18:16:55.458730",
     "status": "completed"
    },
    "tags": []
   },
   "source": [
    "# Main Model Creation"
   ]
  },
  {
   "cell_type": "code",
   "execution_count": 6,
   "id": "d64fe453",
   "metadata": {
    "execution": {
     "iopub.execute_input": "2023-05-27T18:16:55.502268Z",
     "iopub.status.busy": "2023-05-27T18:16:55.501371Z",
     "iopub.status.idle": "2023-05-27T18:17:13.703869Z",
     "shell.execute_reply": "2023-05-27T18:17:13.702886Z"
    },
    "id": "zhQWqdRN79B3",
    "papermill": {
     "duration": 18.219737,
     "end_time": "2023-05-27T18:17:13.706438",
     "exception": false,
     "start_time": "2023-05-27T18:16:55.486701",
     "status": "completed"
    },
    "tags": []
   },
   "outputs": [
    {
     "name": "stdout",
     "output_type": "stream",
     "text": [
      "Downloading data from https://storage.googleapis.com/tensorflow/keras-applications/resnet/resnet152_weights_tf_dim_ordering_tf_kernels_notop.h5\n",
      "234698864/234698864 [==============================] - 10s 0us/step\n"
     ]
    }
   ],
   "source": [
    "from tensorflow.keras.applications.resnet import ResNet152\n",
    "\n",
    "RN152 = ResNet152(weights='imagenet', include_top=False, input_shape=(image_size, image_size, 3), pooling='avg')"
   ]
  },
  {
   "cell_type": "markdown",
   "id": "479ceae5",
   "metadata": {
    "papermill": {
     "duration": 0.026531,
     "end_time": "2023-05-27T18:17:13.760115",
     "exception": false,
     "start_time": "2023-05-27T18:17:13.733584",
     "status": "completed"
    },
    "tags": []
   },
   "source": [
    "## Fine tuning"
   ]
  },
  {
   "cell_type": "code",
   "execution_count": 7,
   "id": "14f2a788",
   "metadata": {
    "execution": {
     "iopub.execute_input": "2023-05-27T18:17:13.814566Z",
     "iopub.status.busy": "2023-05-27T18:17:13.813061Z",
     "iopub.status.idle": "2023-05-27T18:17:13.819671Z",
     "shell.execute_reply": "2023-05-27T18:17:13.818685Z"
    },
    "id": "4d4Ta5LcSYaz",
    "papermill": {
     "duration": 0.035771,
     "end_time": "2023-05-27T18:17:13.821855",
     "exception": false,
     "start_time": "2023-05-27T18:17:13.786084",
     "status": "completed"
    },
    "tags": []
   },
   "outputs": [],
   "source": [
    "MainInput=Input(shape=(image_size, image_size, 3))"
   ]
  },
  {
   "cell_type": "code",
   "execution_count": 8,
   "id": "0aaa1c9e",
   "metadata": {
    "execution": {
     "iopub.execute_input": "2023-05-27T18:17:13.875383Z",
     "iopub.status.busy": "2023-05-27T18:17:13.875077Z",
     "iopub.status.idle": "2023-05-27T18:17:15.231577Z",
     "shell.execute_reply": "2023-05-27T18:17:15.230627Z"
    },
    "papermill": {
     "duration": 1.385814,
     "end_time": "2023-05-27T18:17:15.234001",
     "exception": false,
     "start_time": "2023-05-27T18:17:13.848187",
     "status": "completed"
    },
    "tags": []
   },
   "outputs": [],
   "source": [
    "rn152 = RN152(MainInput)"
   ]
  },
  {
   "cell_type": "code",
   "execution_count": 9,
   "id": "dd463da4",
   "metadata": {
    "execution": {
     "iopub.execute_input": "2023-05-27T18:17:15.289495Z",
     "iopub.status.busy": "2023-05-27T18:17:15.289119Z",
     "iopub.status.idle": "2023-05-27T18:17:15.304664Z",
     "shell.execute_reply": "2023-05-27T18:17:15.303821Z"
    },
    "papermill": {
     "duration": 0.045517,
     "end_time": "2023-05-27T18:17:15.306727",
     "exception": false,
     "start_time": "2023-05-27T18:17:15.261210",
     "status": "completed"
    },
    "tags": []
   },
   "outputs": [],
   "source": [
    "# Reshape the tensor to have 4 dimensions\n",
    "from tensorflow.keras.layers import Reshape\n",
    "reshape = Reshape((16, 16, 8))(rn152)"
   ]
  },
  {
   "cell_type": "code",
   "execution_count": 10,
   "id": "57644ceb",
   "metadata": {
    "execution": {
     "iopub.execute_input": "2023-05-27T18:17:15.361208Z",
     "iopub.status.busy": "2023-05-27T18:17:15.360900Z",
     "iopub.status.idle": "2023-05-27T18:17:15.458725Z",
     "shell.execute_reply": "2023-05-27T18:17:15.457771Z"
    },
    "id": "x8mS99J5SYbT",
    "papermill": {
     "duration": 0.128371,
     "end_time": "2023-05-27T18:17:15.461311",
     "exception": false,
     "start_time": "2023-05-27T18:17:15.332940",
     "status": "completed"
    },
    "tags": []
   },
   "outputs": [],
   "source": [
    "conv=(Conv2D(filters=128,kernel_size=(7,7), activation=\"relu\",padding=\"same\",kernel_initializer='he_normal')(reshape))\n",
    "conv=(BatchNormalization()(conv))\n",
    "conv=(Conv2D(filters=128,kernel_size=(5,5), activation=\"relu\",padding=\"same\",kernel_initializer='he_normal')(conv))\n",
    "conv=(BatchNormalization()(conv))\n",
    "conv=(Conv2D(filters=128,kernel_size=(3,3), activation=\"relu\",padding=\"same\",kernel_initializer='he_normal')(conv))\n",
    "conv=(BatchNormalization()(conv))\n",
    "conv=(Conv2D(filters=128,kernel_size=(1,1), activation=\"relu\",padding=\"same\",kernel_initializer='he_normal')(conv))\n",
    "conv=(BatchNormalization()(conv))"
   ]
  },
  {
   "cell_type": "code",
   "execution_count": 11,
   "id": "152acca3",
   "metadata": {
    "execution": {
     "iopub.execute_input": "2023-05-27T18:17:15.517406Z",
     "iopub.status.busy": "2023-05-27T18:17:15.517030Z",
     "iopub.status.idle": "2023-05-27T18:17:15.526026Z",
     "shell.execute_reply": "2023-05-27T18:17:15.525201Z"
    },
    "id": "wfhLPhssAm2S",
    "papermill": {
     "duration": 0.039176,
     "end_time": "2023-05-27T18:17:15.528282",
     "exception": false,
     "start_time": "2023-05-27T18:17:15.489106",
     "status": "completed"
    },
    "tags": []
   },
   "outputs": [],
   "source": [
    "conv=(MaxPooling2D(strides=(2, 2),padding=\"same\")(conv))"
   ]
  },
  {
   "cell_type": "code",
   "execution_count": 12,
   "id": "904703b7",
   "metadata": {
    "execution": {
     "iopub.execute_input": "2023-05-27T18:17:15.582092Z",
     "iopub.status.busy": "2023-05-27T18:17:15.581790Z",
     "iopub.status.idle": "2023-05-27T18:17:15.674724Z",
     "shell.execute_reply": "2023-05-27T18:17:15.673714Z"
    },
    "id": "sW4tKg9wSYbk",
    "papermill": {
     "duration": 0.122736,
     "end_time": "2023-05-27T18:17:15.677166",
     "exception": false,
     "start_time": "2023-05-27T18:17:15.554430",
     "status": "completed"
    },
    "tags": []
   },
   "outputs": [],
   "source": [
    "conv=(Conv2D(filters=256,kernel_size=(7,7), activation=\"relu\",padding=\"same\",kernel_initializer='he_normal')(conv))\n",
    "conv=(BatchNormalization()(conv))\n",
    "conv=(Conv2D(filters=256,kernel_size=(5,5), activation=\"relu\",padding=\"same\",kernel_initializer='he_normal')(conv))\n",
    "conv=(BatchNormalization()(conv))\n",
    "conv=(Conv2D(filters=256,kernel_size=(3,3), activation=\"relu\",padding=\"same\",kernel_initializer='he_normal')(conv))\n",
    "conv=(BatchNormalization()(conv))\n",
    "conv=(Conv2D(filters=256,kernel_size=(1,1), activation=\"relu\",padding=\"same\",kernel_initializer='he_normal')(conv))\n",
    "conv=(BatchNormalization()(conv))"
   ]
  },
  {
   "cell_type": "code",
   "execution_count": 13,
   "id": "054f2d75",
   "metadata": {
    "execution": {
     "iopub.execute_input": "2023-05-27T18:17:15.731826Z",
     "iopub.status.busy": "2023-05-27T18:17:15.731470Z",
     "iopub.status.idle": "2023-05-27T18:17:15.740715Z",
     "shell.execute_reply": "2023-05-27T18:17:15.739778Z"
    },
    "id": "eo8E7RxUSYcW",
    "papermill": {
     "duration": 0.038877,
     "end_time": "2023-05-27T18:17:15.742720",
     "exception": false,
     "start_time": "2023-05-27T18:17:15.703843",
     "status": "completed"
    },
    "tags": []
   },
   "outputs": [],
   "source": [
    "conv=(MaxPooling2D(pool_size=(2, 2),padding=\"same\")(conv))"
   ]
  },
  {
   "cell_type": "code",
   "execution_count": 14,
   "id": "4e7362f5",
   "metadata": {
    "execution": {
     "iopub.execute_input": "2023-05-27T18:17:15.797692Z",
     "iopub.status.busy": "2023-05-27T18:17:15.796707Z",
     "iopub.status.idle": "2023-05-27T18:17:15.802742Z",
     "shell.execute_reply": "2023-05-27T18:17:15.801464Z"
    },
    "papermill": {
     "duration": 0.035399,
     "end_time": "2023-05-27T18:17:15.804639",
     "exception": false,
     "start_time": "2023-05-27T18:17:15.769240",
     "status": "completed"
    },
    "tags": []
   },
   "outputs": [
    {
     "name": "stdout",
     "output_type": "stream",
     "text": [
      "7\n"
     ]
    }
   ],
   "source": [
    "num_classes = test_batches.num_classes\n",
    "print(num_classes)"
   ]
  },
  {
   "cell_type": "code",
   "execution_count": 15,
   "id": "2743f36b",
   "metadata": {
    "execution": {
     "iopub.execute_input": "2023-05-27T18:17:15.858528Z",
     "iopub.status.busy": "2023-05-27T18:17:15.857953Z",
     "iopub.status.idle": "2023-05-27T18:17:15.907639Z",
     "shell.execute_reply": "2023-05-27T18:17:15.906656Z"
    },
    "id": "-EdFxKdgSYcf",
    "papermill": {
     "duration": 0.079055,
     "end_time": "2023-05-27T18:17:15.909774",
     "exception": false,
     "start_time": "2023-05-27T18:17:15.830719",
     "status": "completed"
    },
    "tags": []
   },
   "outputs": [],
   "source": [
    "conv=(Flatten()(conv))\n",
    "conv=(Dense(1024,activation=\"relu\")(conv))\n",
    "conv=(Dense(512,activation=\"relu\")(conv))\n",
    "conv=(Dense(num_classes, activation=\"softmax\")(conv))\n",
    "\n",
    "model_rn152 = Model(inputs=MainInput, outputs=conv)"
   ]
  },
  {
   "cell_type": "code",
   "execution_count": 16,
   "id": "1de3c195",
   "metadata": {
    "execution": {
     "iopub.execute_input": "2023-05-27T18:17:15.966164Z",
     "iopub.status.busy": "2023-05-27T18:17:15.964606Z",
     "iopub.status.idle": "2023-05-27T18:17:16.081053Z",
     "shell.execute_reply": "2023-05-27T18:17:16.079905Z"
    },
    "id": "ba8ajOckSYcl",
    "outputId": "e69fa749-4741-4f49-ae3e-9f5479e809a8",
    "papermill": {
     "duration": 0.152957,
     "end_time": "2023-05-27T18:17:16.090224",
     "exception": false,
     "start_time": "2023-05-27T18:17:15.937267",
     "status": "completed"
    },
    "tags": []
   },
   "outputs": [
    {
     "name": "stdout",
     "output_type": "stream",
     "text": [
      "Model: \"model\"\n",
      "_________________________________________________________________\n",
      " Layer (type)                Output Shape              Param #   \n",
      "=================================================================\n",
      " input_2 (InputLayer)        [(None, 224, 224, 3)]     0         \n",
      "                                                                 \n",
      " resnet152 (Functional)      (None, 2048)              58370944  \n",
      "                                                                 \n",
      " reshape (Reshape)           (None, 16, 16, 8)         0         \n",
      "                                                                 \n",
      " conv2d (Conv2D)             (None, 16, 16, 128)       50304     \n",
      "                                                                 \n",
      " batch_normalization (BatchN  (None, 16, 16, 128)      512       \n",
      " ormalization)                                                   \n",
      "                                                                 \n",
      " conv2d_1 (Conv2D)           (None, 16, 16, 128)       409728    \n",
      "                                                                 \n",
      " batch_normalization_1 (Batc  (None, 16, 16, 128)      512       \n",
      " hNormalization)                                                 \n",
      "                                                                 \n",
      " conv2d_2 (Conv2D)           (None, 16, 16, 128)       147584    \n",
      "                                                                 \n",
      " batch_normalization_2 (Batc  (None, 16, 16, 128)      512       \n",
      " hNormalization)                                                 \n",
      "                                                                 \n",
      " conv2d_3 (Conv2D)           (None, 16, 16, 128)       16512     \n",
      "                                                                 \n",
      " batch_normalization_3 (Batc  (None, 16, 16, 128)      512       \n",
      " hNormalization)                                                 \n",
      "                                                                 \n",
      " max_pooling2d (MaxPooling2D  (None, 8, 8, 128)        0         \n",
      " )                                                               \n",
      "                                                                 \n",
      " conv2d_4 (Conv2D)           (None, 8, 8, 256)         1605888   \n",
      "                                                                 \n",
      " batch_normalization_4 (Batc  (None, 8, 8, 256)        1024      \n",
      " hNormalization)                                                 \n",
      "                                                                 \n",
      " conv2d_5 (Conv2D)           (None, 8, 8, 256)         1638656   \n",
      "                                                                 \n",
      " batch_normalization_5 (Batc  (None, 8, 8, 256)        1024      \n",
      " hNormalization)                                                 \n",
      "                                                                 \n",
      " conv2d_6 (Conv2D)           (None, 8, 8, 256)         590080    \n",
      "                                                                 \n",
      " batch_normalization_6 (Batc  (None, 8, 8, 256)        1024      \n",
      " hNormalization)                                                 \n",
      "                                                                 \n",
      " conv2d_7 (Conv2D)           (None, 8, 8, 256)         65792     \n",
      "                                                                 \n",
      " batch_normalization_7 (Batc  (None, 8, 8, 256)        1024      \n",
      " hNormalization)                                                 \n",
      "                                                                 \n",
      " max_pooling2d_1 (MaxPooling  (None, 4, 4, 256)        0         \n",
      " 2D)                                                             \n",
      "                                                                 \n",
      " flatten (Flatten)           (None, 4096)              0         \n",
      "                                                                 \n",
      " dense (Dense)               (None, 1024)              4195328   \n",
      "                                                                 \n",
      " dense_1 (Dense)             (None, 512)               524800    \n",
      "                                                                 \n",
      " dense_2 (Dense)             (None, 7)                 3591      \n",
      "                                                                 \n",
      "=================================================================\n",
      "Total params: 67,625,351\n",
      "Trainable params: 67,470,855\n",
      "Non-trainable params: 154,496\n",
      "_________________________________________________________________\n"
     ]
    }
   ],
   "source": [
    "model_rn152.summary()"
   ]
  },
  {
   "cell_type": "code",
   "execution_count": 17,
   "id": "d6bdf1b8",
   "metadata": {
    "execution": {
     "iopub.execute_input": "2023-05-27T18:17:16.155512Z",
     "iopub.status.busy": "2023-05-27T18:17:16.155181Z",
     "iopub.status.idle": "2023-05-27T18:17:16.185608Z",
     "shell.execute_reply": "2023-05-27T18:17:16.184744Z"
    },
    "id": "WR0fUpy18vAZ",
    "papermill": {
     "duration": 0.065959,
     "end_time": "2023-05-27T18:17:16.187684",
     "exception": false,
     "start_time": "2023-05-27T18:17:16.121725",
     "status": "completed"
    },
    "tags": []
   },
   "outputs": [],
   "source": [
    "opt1=tf.keras.optimizers.Adam(learning_rate=0.001,epsilon=0.1)\n",
    "model_rn152.compile(optimizer=opt1,\n",
    "             loss='categorical_crossentropy',\n",
    "             metrics=['accuracy'])"
   ]
  },
  {
   "cell_type": "code",
   "execution_count": 18,
   "id": "d3ed6d8f",
   "metadata": {
    "execution": {
     "iopub.execute_input": "2023-05-27T18:17:16.283200Z",
     "iopub.status.busy": "2023-05-27T18:17:16.282212Z",
     "iopub.status.idle": "2023-05-27T18:17:16.287871Z",
     "shell.execute_reply": "2023-05-27T18:17:16.287009Z"
    },
    "id": "LAf5ha295reS",
    "papermill": {
     "duration": 0.068463,
     "end_time": "2023-05-27T18:17:16.289763",
     "exception": false,
     "start_time": "2023-05-27T18:17:16.221300",
     "status": "completed"
    },
    "tags": []
   },
   "outputs": [],
   "source": [
    "class_weights = {   \n",
    "                    0: 1.0,  # akiec\n",
    "                    1: 1.0,  # bcc\n",
    "                    2: 1.0,  # bkl\n",
    "                    3: 1.0,  # df\n",
    "                    4: 1.0,  # mel\n",
    "                    5: 1.0,  # nv\n",
    "                    6: 1.0  # vasc\n",
    "                }"
   ]
  },
  {
   "cell_type": "code",
   "execution_count": 19,
   "id": "bbcc03ee",
   "metadata": {
    "execution": {
     "iopub.execute_input": "2023-05-27T18:17:16.353506Z",
     "iopub.status.busy": "2023-05-27T18:17:16.352725Z",
     "iopub.status.idle": "2023-05-27T18:17:16.357920Z",
     "shell.execute_reply": "2023-05-27T18:17:16.357116Z"
    },
    "papermill": {
     "duration": 0.038977,
     "end_time": "2023-05-27T18:17:16.359845",
     "exception": false,
     "start_time": "2023-05-27T18:17:16.320868",
     "status": "completed"
    },
    "tags": []
   },
   "outputs": [],
   "source": [
    "checkpoint = ModelCheckpoint(filepath ='RN152.hdf5', monitor='val_accuracy', save_best_only=True, save_weights_only=True)\n",
    "Earlystop = EarlyStopping(monitor='val_accuracy', mode='max', patience=25, min_delta=0.001)"
   ]
  },
  {
   "cell_type": "code",
   "execution_count": 20,
   "id": "9c49888a",
   "metadata": {
    "execution": {
     "iopub.execute_input": "2023-05-27T18:17:16.423739Z",
     "iopub.status.busy": "2023-05-27T18:17:16.423385Z",
     "iopub.status.idle": "2023-05-28T03:53:55.640509Z",
     "shell.execute_reply": "2023-05-28T03:53:55.639495Z"
    },
    "id": "NUzTmiZ-8hL3",
    "outputId": "e1825ff2-9f9c-436f-cf2c-9776af8eee62",
    "papermill": {
     "duration": 34599.280436,
     "end_time": "2023-05-28T03:53:55.671530",
     "exception": false,
     "start_time": "2023-05-27T18:17:16.391094",
     "status": "completed"
    },
    "tags": []
   },
   "outputs": [
    {
     "name": "stdout",
     "output_type": "stream",
     "text": [
      "Epoch 1/50\n",
      "3424/3424 - 1017s - loss: 0.8504 - accuracy: 0.6837 - val_loss: 0.3402 - val_accuracy: 0.8875 - 1017s/epoch - 297ms/step\n",
      "Epoch 2/50\n",
      "3424/3424 - 882s - loss: 0.3295 - accuracy: 0.8793 - val_loss: 0.2941 - val_accuracy: 0.9081 - 882s/epoch - 257ms/step\n",
      "Epoch 3/50\n",
      "3424/3424 - 882s - loss: 0.1919 - accuracy: 0.9305 - val_loss: 0.4019 - val_accuracy: 0.9021 - 882s/epoch - 257ms/step\n",
      "Epoch 4/50\n",
      "3424/3424 - 880s - loss: 0.1227 - accuracy: 0.9556 - val_loss: 0.4084 - val_accuracy: 0.8863 - 880s/epoch - 257ms/step\n",
      "Epoch 5/50\n",
      "3424/3424 - 880s - loss: 0.0823 - accuracy: 0.9712 - val_loss: 0.4398 - val_accuracy: 0.9033 - 880s/epoch - 257ms/step\n",
      "Epoch 6/50\n",
      "3424/3424 - 879s - loss: 0.0718 - accuracy: 0.9749 - val_loss: 0.4485 - val_accuracy: 0.8972 - 879s/epoch - 257ms/step\n",
      "Epoch 7/50\n",
      "3424/3424 - 880s - loss: 0.0494 - accuracy: 0.9831 - val_loss: 0.4511 - val_accuracy: 0.9021 - 880s/epoch - 257ms/step\n",
      "Epoch 8/50\n",
      "3424/3424 - 881s - loss: 0.0341 - accuracy: 0.9885 - val_loss: 0.3943 - val_accuracy: 0.9057 - 881s/epoch - 257ms/step\n",
      "Epoch 9/50\n",
      "3424/3424 - 882s - loss: 0.0309 - accuracy: 0.9895 - val_loss: 0.5147 - val_accuracy: 0.8984 - 882s/epoch - 257ms/step\n",
      "Epoch 10/50\n",
      "3424/3424 - 880s - loss: 0.0243 - accuracy: 0.9922 - val_loss: 0.5552 - val_accuracy: 0.8948 - 880s/epoch - 257ms/step\n",
      "Epoch 11/50\n",
      "3424/3424 - 880s - loss: 0.0193 - accuracy: 0.9933 - val_loss: 0.4764 - val_accuracy: 0.9081 - 880s/epoch - 257ms/step\n",
      "Epoch 12/50\n",
      "3424/3424 - 882s - loss: 0.0178 - accuracy: 0.9940 - val_loss: 0.5074 - val_accuracy: 0.9093 - 882s/epoch - 258ms/step\n",
      "Epoch 13/50\n",
      "3424/3424 - 882s - loss: 0.0153 - accuracy: 0.9948 - val_loss: 0.5144 - val_accuracy: 0.9178 - 882s/epoch - 258ms/step\n",
      "Epoch 14/50\n",
      "3424/3424 - 884s - loss: 0.0156 - accuracy: 0.9946 - val_loss: 0.5851 - val_accuracy: 0.8984 - 884s/epoch - 258ms/step\n",
      "Epoch 15/50\n",
      "3424/3424 - 880s - loss: 0.0113 - accuracy: 0.9962 - val_loss: 0.5308 - val_accuracy: 0.9093 - 880s/epoch - 257ms/step\n",
      "Epoch 16/50\n",
      "3424/3424 - 880s - loss: 0.0136 - accuracy: 0.9955 - val_loss: 0.5024 - val_accuracy: 0.9105 - 880s/epoch - 257ms/step\n",
      "Epoch 17/50\n",
      "3424/3424 - 881s - loss: 0.0111 - accuracy: 0.9965 - val_loss: 0.5608 - val_accuracy: 0.9008 - 881s/epoch - 257ms/step\n",
      "Epoch 18/50\n",
      "3424/3424 - 881s - loss: 0.0079 - accuracy: 0.9972 - val_loss: 0.5913 - val_accuracy: 0.9021 - 881s/epoch - 257ms/step\n",
      "Epoch 19/50\n",
      "3424/3424 - 879s - loss: 0.0065 - accuracy: 0.9983 - val_loss: 0.5187 - val_accuracy: 0.9093 - 879s/epoch - 257ms/step\n",
      "Epoch 20/50\n",
      "3424/3424 - 882s - loss: 0.0064 - accuracy: 0.9982 - val_loss: 0.5725 - val_accuracy: 0.9105 - 882s/epoch - 258ms/step\n",
      "Epoch 21/50\n",
      "3424/3424 - 881s - loss: 0.0083 - accuracy: 0.9973 - val_loss: 0.5881 - val_accuracy: 0.9141 - 881s/epoch - 257ms/step\n",
      "Epoch 22/50\n",
      "3424/3424 - 880s - loss: 0.0095 - accuracy: 0.9969 - val_loss: 0.5518 - val_accuracy: 0.9069 - 880s/epoch - 257ms/step\n",
      "Epoch 23/50\n",
      "3424/3424 - 880s - loss: 0.0082 - accuracy: 0.9973 - val_loss: 0.5220 - val_accuracy: 0.8984 - 880s/epoch - 257ms/step\n",
      "Epoch 24/50\n",
      "3424/3424 - 880s - loss: 0.0080 - accuracy: 0.9970 - val_loss: 0.5451 - val_accuracy: 0.8972 - 880s/epoch - 257ms/step\n",
      "Epoch 25/50\n",
      "3424/3424 - 879s - loss: 0.0082 - accuracy: 0.9972 - val_loss: 0.4897 - val_accuracy: 0.9008 - 879s/epoch - 257ms/step\n",
      "Epoch 26/50\n",
      "3424/3424 - 875s - loss: 0.0042 - accuracy: 0.9985 - val_loss: 0.6144 - val_accuracy: 0.9057 - 875s/epoch - 256ms/step\n",
      "Epoch 27/50\n",
      "3424/3424 - 875s - loss: 0.0060 - accuracy: 0.9981 - val_loss: 0.5721 - val_accuracy: 0.9093 - 875s/epoch - 256ms/step\n",
      "Epoch 28/50\n",
      "3424/3424 - 877s - loss: 0.0056 - accuracy: 0.9980 - val_loss: 0.5325 - val_accuracy: 0.9045 - 877s/epoch - 256ms/step\n",
      "Epoch 29/50\n",
      "3424/3424 - 878s - loss: 0.0055 - accuracy: 0.9982 - val_loss: 0.6595 - val_accuracy: 0.9045 - 878s/epoch - 256ms/step\n",
      "Epoch 30/50\n",
      "3424/3424 - 877s - loss: 0.0038 - accuracy: 0.9989 - val_loss: 0.5881 - val_accuracy: 0.9129 - 877s/epoch - 256ms/step\n",
      "Epoch 31/50\n",
      "3424/3424 - 880s - loss: 0.0049 - accuracy: 0.9984 - val_loss: 0.6296 - val_accuracy: 0.8960 - 880s/epoch - 257ms/step\n",
      "Epoch 32/50\n",
      "3424/3424 - 876s - loss: 0.0034 - accuracy: 0.9988 - val_loss: 0.7062 - val_accuracy: 0.9057 - 876s/epoch - 256ms/step\n",
      "Epoch 33/50\n",
      "3424/3424 - 876s - loss: 0.0060 - accuracy: 0.9980 - val_loss: 0.5046 - val_accuracy: 0.9141 - 876s/epoch - 256ms/step\n",
      "Epoch 34/50\n",
      "3424/3424 - 876s - loss: 0.0032 - accuracy: 0.9989 - val_loss: 0.5502 - val_accuracy: 0.9166 - 876s/epoch - 256ms/step\n",
      "Epoch 35/50\n",
      "3424/3424 - 875s - loss: 0.0052 - accuracy: 0.9985 - val_loss: 0.5557 - val_accuracy: 0.9166 - 875s/epoch - 256ms/step\n",
      "Epoch 36/50\n",
      "3424/3424 - 878s - loss: 0.0025 - accuracy: 0.9992 - val_loss: 0.5544 - val_accuracy: 0.9045 - 878s/epoch - 256ms/step\n",
      "Epoch 37/50\n",
      "3424/3424 - 876s - loss: 0.0043 - accuracy: 0.9986 - val_loss: 0.6085 - val_accuracy: 0.8960 - 876s/epoch - 256ms/step\n",
      "Epoch 38/50\n",
      "3424/3424 - 875s - loss: 0.0041 - accuracy: 0.9987 - val_loss: 0.6559 - val_accuracy: 0.9021 - 875s/epoch - 255ms/step\n"
     ]
    }
   ],
   "source": [
    "history = model_rn152.fit(train_batches,\n",
    "                         epochs=50,\n",
    "                         verbose=2,\n",
    "                         validation_data=val_batches,\n",
    "                         callbacks=[checkpoint,Earlystop],\n",
    "                         class_weight=class_weights)"
   ]
  },
  {
   "cell_type": "markdown",
   "id": "515476f0",
   "metadata": {
    "papermill": {
     "duration": 0.036229,
     "end_time": "2023-05-28T03:53:55.744110",
     "exception": false,
     "start_time": "2023-05-28T03:53:55.707881",
     "status": "completed"
    },
    "tags": []
   },
   "source": [
    "### Plotting accuracy and loss"
   ]
  },
  {
   "cell_type": "code",
   "execution_count": 21,
   "id": "fc25f378",
   "metadata": {
    "execution": {
     "iopub.execute_input": "2023-05-28T03:53:55.818460Z",
     "iopub.status.busy": "2023-05-28T03:53:55.818092Z",
     "iopub.status.idle": "2023-05-28T03:54:43.303152Z",
     "shell.execute_reply": "2023-05-28T03:54:43.302266Z"
    },
    "papermill": {
     "duration": 47.560953,
     "end_time": "2023-05-28T03:54:43.341639",
     "exception": false,
     "start_time": "2023-05-28T03:53:55.780686",
     "status": "completed"
    },
    "tags": []
   },
   "outputs": [
    {
     "name": "stdout",
     "output_type": "stream",
     "text": [
      "Number of epochs trained: 38\n"
     ]
    },
    {
     "data": {
      "image/png": "[encoded data removed]",
      "text/plain": [
       "<Figure size 1500x500 with 2 Axes>"
      ]
     },
     "metadata": {},
     "output_type": "display_data"
    }
   ],
   "source": [
    "# Determine number of epochs trained\n",
    "num_epochs_trained = len(history.history['val_loss'])\n",
    "print(f\"Number of epochs trained: {num_epochs_trained}\")\n",
    "\n",
    "## History plotting\n",
    "epochs = [i for i in range(num_epochs_trained)]\n",
    "fig , ax = plt.subplots(1,2)\n",
    "train_acc = history.history['accuracy']\n",
    "train_loss = history.history['loss']\n",
    "val_acc = history.history['val_accuracy']\n",
    "val_loss = history.history['val_loss']\n",
    "fig.set_size_inches(15,5)\n",
    "\n",
    "ax[0].plot(epochs , train_acc , 'go-' , label = 'Training Accuracy')\n",
    "ax[0].plot(epochs , val_acc , 'ro-' , label = 'Validation Accuracy')\n",
    "title_font = {'fontname':'Times New Roman', 'size':'14', 'color':'black', 'weight':'normal'}\n",
    "ax[0].set_title('Model Accuracy', fontdict=title_font)\n",
    "legend_font = {'family': 'Times New Roman', 'size': '12', 'weight': 'normal'}\n",
    "ax[0].legend(prop=legend_font)\n",
    "label_font = {'fontname':'Times New Roman', 'size':'12', 'color':'black', 'weight':'normal'}\n",
    "ax[0].set_xlabel(\"Epochs\",  fontdict=label_font)\n",
    "ax[0].set_ylabel(\"Accuracy\",  fontdict=label_font)\n",
    "\n",
    "ax[1].plot(epochs , train_loss , 'g-o' , label = 'Training Loss')\n",
    "ax[1].plot(epochs , val_loss , 'r-o' , label = 'Validation Loss')\n",
    "ax[1].set_title('Model Loss', fontdict=title_font)\n",
    "ax[1].legend(prop=legend_font)\n",
    "ax[1].set_xlabel(\"Epochs\", fontdict=label_font)\n",
    "ax[1].set_ylabel(\"Loss\", fontdict=label_font)\n",
    "plt.show()"
   ]
  },
  {
   "cell_type": "code",
   "execution_count": 22,
   "id": "abc22081",
   "metadata": {
    "execution": {
     "iopub.execute_input": "2023-05-28T03:54:43.416937Z",
     "iopub.status.busy": "2023-05-28T03:54:43.416651Z",
     "iopub.status.idle": "2023-05-28T03:54:44.367049Z",
     "shell.execute_reply": "2023-05-28T03:54:44.366050Z"
    },
    "id": "zm_AewFBXTj8",
    "papermill": {
     "duration": 0.9911,
     "end_time": "2023-05-28T03:54:44.369742",
     "exception": false,
     "start_time": "2023-05-28T03:54:43.378642",
     "status": "completed"
    },
    "tags": []
   },
   "outputs": [],
   "source": [
    "from tensorflow.keras import models\n",
    "model_rn152.load_weights(\"RN152.hdf5\")"
   ]
  },
  {
   "cell_type": "code",
   "execution_count": 23,
   "id": "89060889",
   "metadata": {
    "execution": {
     "iopub.execute_input": "2023-05-28T03:54:44.446181Z",
     "iopub.status.busy": "2023-05-28T03:54:44.445844Z",
     "iopub.status.idle": "2023-05-28T03:55:08.053094Z",
     "shell.execute_reply": "2023-05-28T03:55:08.052130Z"
    },
    "papermill": {
     "duration": 23.647936,
     "end_time": "2023-05-28T03:55:08.055420",
     "exception": false,
     "start_time": "2023-05-28T03:54:44.407484",
     "status": "completed"
    },
    "tags": []
   },
   "outputs": [
    {
     "name": "stdout",
     "output_type": "stream",
     "text": [
      "52/52 [==============================] - 14s 224ms/step\n"
     ]
    }
   ],
   "source": [
    "predictions = model_rn152.predict(test_batches)"
   ]
  },
  {
   "cell_type": "code",
   "execution_count": 24,
   "id": "b391818d",
   "metadata": {
    "execution": {
     "iopub.execute_input": "2023-05-28T03:55:08.139645Z",
     "iopub.status.busy": "2023-05-28T03:55:08.139304Z",
     "iopub.status.idle": "2023-05-28T03:55:08.145370Z",
     "shell.execute_reply": "2023-05-28T03:55:08.144572Z"
    },
    "id": "FDTMtBeTdBfU",
    "papermill": {
     "duration": 0.050177,
     "end_time": "2023-05-28T03:55:08.147487",
     "exception": false,
     "start_time": "2023-05-28T03:55:08.097310",
     "status": "completed"
    },
    "tags": []
   },
   "outputs": [],
   "source": [
    "#geting predictions on test dataset\n",
    "y_pred = np.argmax(predictions, axis=1)\n",
    "#getting the true labels per image \n",
    "y_true = test_batches.classes\n",
    "#getting the predicted labels per image \n",
    "y_prob = predictions"
   ]
  },
  {
   "cell_type": "code",
   "execution_count": 25,
   "id": "ee5b6dd8",
   "metadata": {
    "execution": {
     "iopub.execute_input": "2023-05-28T03:55:08.232156Z",
     "iopub.status.busy": "2023-05-28T03:55:08.230570Z",
     "iopub.status.idle": "2023-05-28T03:55:08.247188Z",
     "shell.execute_reply": "2023-05-28T03:55:08.245996Z"
    },
    "papermill": {
     "duration": 0.060428,
     "end_time": "2023-05-28T03:55:08.249083",
     "exception": false,
     "start_time": "2023-05-28T03:55:08.188655",
     "status": "completed"
    },
    "tags": []
   },
   "outputs": [
    {
     "name": "stdout",
     "output_type": "stream",
     "text": [
      "\n",
      "Classification Report:\n",
      "              precision    recall  f1-score   support\n",
      "\n",
      "          AK       0.92      0.55      0.69        22\n",
      "         BCC       0.87      0.74      0.80        27\n",
      "         BKL       0.70      0.76      0.73        66\n",
      "          DF       0.83      0.83      0.83         6\n",
      "         MEL       0.59      0.57      0.58        35\n",
      "          NV       0.96      0.97      0.96       663\n",
      "        VASC       0.75      1.00      0.86         9\n",
      "\n",
      "    accuracy                           0.91       828\n",
      "   macro avg       0.80      0.77      0.78       828\n",
      "weighted avg       0.91      0.91      0.91       828\n",
      "\n"
     ]
    }
   ],
   "source": [
    "classnames = ['AK', 'BCC', 'BKL', 'DF', 'MEL', 'NV', 'VASC']\n",
    "\n",
    "from tensorflow.keras.utils import to_categorical\n",
    "y_test = to_categorical(y_true)\n",
    "\n",
    "report = classification_report(y_true, y_pred, target_names=classnames)\n",
    "\n",
    "print(\"\\nClassification Report:\")\n",
    "print(report)"
   ]
  },
  {
   "cell_type": "code",
   "execution_count": 26,
   "id": "85a14398",
   "metadata": {
    "execution": {
     "iopub.execute_input": "2023-05-28T03:55:08.332338Z",
     "iopub.status.busy": "2023-05-28T03:55:08.332045Z",
     "iopub.status.idle": "2023-05-28T03:55:08.904156Z",
     "shell.execute_reply": "2023-05-28T03:55:08.903260Z"
    },
    "papermill": {
     "duration": 0.616086,
     "end_time": "2023-05-28T03:55:08.906222",
     "exception": false,
     "start_time": "2023-05-28T03:55:08.290136",
     "status": "completed"
    },
    "tags": []
   },
   "outputs": [
    {
     "data": {
      "image/png": "[encoded data removed]",
      "text/plain": [
       "<Figure size 1000x400 with 2 Axes>"
      ]
     },
     "metadata": {},
     "output_type": "display_data"
    }
   ],
   "source": [
    "## Confusion Matrix\n",
    "title_font = {'fontname':'Times New Roman', 'size':'14', 'color':'black', 'weight':'normal'}\n",
    "label_font = {'fontname':'Times New Roman', 'size':'12', 'color':'black', 'weight':'normal'}\n",
    "\n",
    "from sklearn.metrics import confusion_matrix\n",
    "import seaborn as sns\n",
    "# Creating confusion matrix \n",
    "cm = confusion_matrix(y_true, y_pred)\n",
    "# Plotting the confusion matrix\n",
    "plt.figure(figsize=(10,4))\n",
    "sns.heatmap(cm, annot=True, fmt='g', cmap='Blues', xticklabels=targetnames, yticklabels=targetnames)\n",
    "plt.xlabel('Predicted Label', fontdict=label_font)\n",
    "plt.ylabel('True Label', fontdict=label_font)\n",
    "plt.title('Confusion Matrix', fontdict=title_font)\n",
    "plt.show()"
   ]
  },
  {
   "cell_type": "markdown",
   "id": "83ea4ad2",
   "metadata": {
    "papermill": {
     "duration": 0.041361,
     "end_time": "2023-05-28T03:55:08.989437",
     "exception": false,
     "start_time": "2023-05-28T03:55:08.948076",
     "status": "completed"
    },
    "tags": []
   },
   "source": [
    "## Results"
   ]
  },
  {
   "cell_type": "markdown",
   "id": "878e2bef",
   "metadata": {
    "papermill": {
     "duration": 0.041326,
     "end_time": "2023-05-28T03:55:09.072128",
     "exception": false,
     "start_time": "2023-05-28T03:55:09.030802",
     "status": "completed"
    },
    "tags": []
   },
   "source": [
    "### Individual Class Accuracy "
   ]
  },
  {
   "cell_type": "code",
   "execution_count": 27,
   "id": "d1ca905c",
   "metadata": {
    "execution": {
     "iopub.execute_input": "2023-05-28T03:55:09.156981Z",
     "iopub.status.busy": "2023-05-28T03:55:09.156086Z",
     "iopub.status.idle": "2023-05-28T03:55:09.164257Z",
     "shell.execute_reply": "2023-05-28T03:55:09.163061Z"
    },
    "papermill": {
     "duration": 0.052738,
     "end_time": "2023-05-28T03:55:09.166228",
     "exception": false,
     "start_time": "2023-05-28T03:55:09.113490",
     "status": "completed"
    },
    "tags": []
   },
   "outputs": [
    {
     "name": "stdout",
     "output_type": "stream",
     "text": [
      "Overall accuracy: 91.30%\n",
      "Accuracy for each class:\n",
      "Class 0: 54.55%\n",
      "Class 1: 74.07%\n",
      "Class 2: 75.76%\n",
      "Class 3: 83.33%\n",
      "Class 4: 57.14%\n",
      "Class 5: 96.53%\n",
      "Class 6: 100.00%\n"
     ]
    }
   ],
   "source": [
    "# y_true are the true labels of the test set\n",
    "# y_pred are the predicted labels of the test set\n",
    "accuracy = accuracy_score(y_true, y_pred)\n",
    "# Calculate accuracy for each class\n",
    "class_accuracy = cm.diagonal()/cm.sum(axis=1)\n",
    "print(\"Overall accuracy: {:.2f}%\".format(accuracy*100))\n",
    "print(\"Accuracy for each class:\")\n",
    "for i, acc in enumerate(class_accuracy):\n",
    "    print(\"Class {}: {:.2f}%\".format(i, acc*100))"
   ]
  },
  {
   "cell_type": "markdown",
   "id": "8ea5a57d",
   "metadata": {
    "papermill": {
     "duration": 0.041118,
     "end_time": "2023-05-28T03:55:09.248901",
     "exception": false,
     "start_time": "2023-05-28T03:55:09.207783",
     "status": "completed"
    },
    "tags": []
   },
   "source": [
    "### Individual Class Weighted Precision"
   ]
  },
  {
   "cell_type": "code",
   "execution_count": 28,
   "id": "3bf211f5",
   "metadata": {
    "execution": {
     "iopub.execute_input": "2023-05-28T03:55:09.332768Z",
     "iopub.status.busy": "2023-05-28T03:55:09.332456Z",
     "iopub.status.idle": "2023-05-28T03:55:09.347852Z",
     "shell.execute_reply": "2023-05-28T03:55:09.346715Z"
    },
    "papermill": {
     "duration": 0.059636,
     "end_time": "2023-05-28T03:55:09.349791",
     "exception": false,
     "start_time": "2023-05-28T03:55:09.290155",
     "status": "completed"
    },
    "tags": []
   },
   "outputs": [
    {
     "name": "stdout",
     "output_type": "stream",
     "text": [
      "Weighted precision for each class:\n",
      "Class 0: 92.31%\n",
      "Class 1: 86.96%\n",
      "Class 2: 70.42%\n",
      "Class 3: 83.33%\n",
      "Class 4: 58.82%\n",
      "Class 5: 95.67%\n",
      "Class 6: 75.00%\n",
      "Weighted precision: 91.41%\n"
     ]
    }
   ],
   "source": [
    "report = classification_report(y_true, y_pred, output_dict=True)\n",
    "# Extract weighted precision for each class\n",
    "class_precision = {}\n",
    "for class_label in report.keys():\n",
    "    if class_label == 'weighted avg':\n",
    "        class_precision['weighted'] = report[class_label]['precision']\n",
    "    elif class_label.isdigit():\n",
    "        class_precision[int(class_label)] = report[class_label]['precision']\n",
    "print(\"Weighted precision for each class:\")\n",
    "for i, precision in class_precision.items():\n",
    "    if i == 'weighted':\n",
    "        print(\"Weighted precision: {:.2f}%\".format(precision*100))\n",
    "    else:\n",
    "        print(\"Class {}: {:.2f}%\".format(i, precision*100))"
   ]
  },
  {
   "cell_type": "markdown",
   "id": "dccf5397",
   "metadata": {
    "papermill": {
     "duration": 0.04134,
     "end_time": "2023-05-28T03:55:09.432942",
     "exception": false,
     "start_time": "2023-05-28T03:55:09.391602",
     "status": "completed"
    },
    "tags": []
   },
   "source": [
    "### Individual Class Weighted Recall"
   ]
  },
  {
   "cell_type": "code",
   "execution_count": 29,
   "id": "77bca48b",
   "metadata": {
    "execution": {
     "iopub.execute_input": "2023-05-28T03:55:09.516920Z",
     "iopub.status.busy": "2023-05-28T03:55:09.516637Z",
     "iopub.status.idle": "2023-05-28T03:55:09.531536Z",
     "shell.execute_reply": "2023-05-28T03:55:09.530393Z"
    },
    "papermill": {
     "duration": 0.059222,
     "end_time": "2023-05-28T03:55:09.533452",
     "exception": false,
     "start_time": "2023-05-28T03:55:09.474230",
     "status": "completed"
    },
    "tags": []
   },
   "outputs": [
    {
     "name": "stdout",
     "output_type": "stream",
     "text": [
      "Weighted recall for each class:\n",
      "Class 0: 54.55%\n",
      "Class 1: 74.07%\n",
      "Class 2: 75.76%\n",
      "Class 3: 83.33%\n",
      "Class 4: 57.14%\n",
      "Class 5: 96.53%\n",
      "Class 6: 100.00%\n",
      "Weighted Recall: 91.30%\n"
     ]
    }
   ],
   "source": [
    "report = classification_report(y_true, y_pred, output_dict=True)\n",
    "# Extract weighted recall for each class\n",
    "class_recall = {}\n",
    "for class_label in report.keys():\n",
    "    if class_label == 'weighted avg':\n",
    "        class_recall['weighted'] = report[class_label]['recall']\n",
    "    elif class_label.isdigit():\n",
    "        class_recall[int(class_label)] = report[class_label]['recall']\n",
    "print(\"Weighted recall for each class:\")\n",
    "for i, recall in class_recall.items():\n",
    "    if i == 'weighted':\n",
    "        print(\"Weighted Recall: {:.2f}%\".format(recall*100))\n",
    "    else:\n",
    "        print(\"Class {}: {:.2f}%\".format(i, recall*100))"
   ]
  },
  {
   "cell_type": "markdown",
   "id": "72f95498",
   "metadata": {
    "papermill": {
     "duration": 0.041609,
     "end_time": "2023-05-28T03:55:09.616663",
     "exception": false,
     "start_time": "2023-05-28T03:55:09.575054",
     "status": "completed"
    },
    "tags": []
   },
   "source": [
    "### Individual Class Weighted F1-score"
   ]
  },
  {
   "cell_type": "code",
   "execution_count": 30,
   "id": "18127fef",
   "metadata": {
    "execution": {
     "iopub.execute_input": "2023-05-28T03:55:09.701387Z",
     "iopub.status.busy": "2023-05-28T03:55:09.700559Z",
     "iopub.status.idle": "2023-05-28T03:55:09.714475Z",
     "shell.execute_reply": "2023-05-28T03:55:09.713395Z"
    },
    "papermill": {
     "duration": 0.058225,
     "end_time": "2023-05-28T03:55:09.716367",
     "exception": false,
     "start_time": "2023-05-28T03:55:09.658142",
     "status": "completed"
    },
    "tags": []
   },
   "outputs": [
    {
     "name": "stdout",
     "output_type": "stream",
     "text": [
      "Weighted F1-score for each class:\n",
      "Class 0: 68.57%\n",
      "Class 1: 80.00%\n",
      "Class 2: 72.99%\n",
      "Class 3: 83.33%\n",
      "Class 4: 57.97%\n",
      "Class 5: 96.10%\n",
      "Class 6: 85.71%\n",
      "Weighted F1-score: 91.18%\n"
     ]
    }
   ],
   "source": [
    "report = classification_report(y_true, y_pred, output_dict=True)\n",
    "# Extract weighted F1-score for each class\n",
    "class_f1 = {}\n",
    "for class_label in report.keys():\n",
    "    if class_label == 'weighted avg':\n",
    "        class_f1['weighted'] = report[class_label]['f1-score']\n",
    "    elif class_label.isdigit():\n",
    "        class_f1[int(class_label)] = report[class_label]['f1-score']\n",
    "print(\"Weighted F1-score for each class:\")\n",
    "for i, f1_score in class_f1.items():\n",
    "    if i == 'weighted':\n",
    "        print(\"Weighted F1-score: {:.2f}%\".format(f1_score*100))\n",
    "    else:\n",
    "        print(\"Class {}: {:.2f}%\".format(i, f1_score*100))"
   ]
  },
  {
   "cell_type": "markdown",
   "id": "236efedc",
   "metadata": {
    "papermill": {
     "duration": 0.041691,
     "end_time": "2023-05-28T03:55:09.800231",
     "exception": false,
     "start_time": "2023-05-28T03:55:09.758540",
     "status": "completed"
    },
    "tags": []
   },
   "source": [
    "### Individual Class Precision, Recall and F1-score"
   ]
  },
  {
   "cell_type": "code",
   "execution_count": 31,
   "id": "82ed1090",
   "metadata": {
    "execution": {
     "iopub.execute_input": "2023-05-28T03:55:09.884811Z",
     "iopub.status.busy": "2023-05-28T03:55:09.884540Z",
     "iopub.status.idle": "2023-05-28T03:55:09.893213Z",
     "shell.execute_reply": "2023-05-28T03:55:09.892069Z"
    },
    "papermill": {
     "duration": 0.053176,
     "end_time": "2023-05-28T03:55:09.895094",
     "exception": false,
     "start_time": "2023-05-28T03:55:09.841918",
     "status": "completed"
    },
    "tags": []
   },
   "outputs": [
    {
     "name": "stdout",
     "output_type": "stream",
     "text": [
      "Class-wise weighted precision, recall, and F1-score:\n",
      "Class 0: Precision=0.92, Recall=0.55, F1-score=0.69\n",
      "Class 1: Precision=0.87, Recall=0.74, F1-score=0.80\n",
      "Class 2: Precision=0.70, Recall=0.76, F1-score=0.73\n",
      "Class 3: Precision=0.83, Recall=0.83, F1-score=0.83\n",
      "Class 4: Precision=0.59, Recall=0.57, F1-score=0.58\n",
      "Class 5: Precision=0.96, Recall=0.97, F1-score=0.96\n",
      "Class 6: Precision=0.75, Recall=1.00, F1-score=0.86\n"
     ]
    }
   ],
   "source": [
    "from sklearn.metrics import precision_recall_fscore_support\n",
    "\n",
    "precision_class, recall_class, f1_class, support_class = precision_recall_fscore_support(y_true, y_pred, average=None)\n",
    "print('Class-wise weighted precision, recall, and F1-score:')\n",
    "for i in range(len(precision_class)):\n",
    "    print('Class {}: Precision={:.2f}, Recall={:.2f}, F1-score={:.2f}'.format(i, precision_class[i], recall_class[i], f1_class[i]))\n"
   ]
  },
  {
   "cell_type": "markdown",
   "id": "a2f02a8e",
   "metadata": {
    "papermill": {
     "duration": 0.04168,
     "end_time": "2023-05-28T03:55:09.979383",
     "exception": false,
     "start_time": "2023-05-28T03:55:09.937703",
     "status": "completed"
    },
    "tags": []
   },
   "source": [
    "### Individual Class Weighted Sensitivity"
   ]
  },
  {
   "cell_type": "code",
   "execution_count": 32,
   "id": "458790b0",
   "metadata": {
    "execution": {
     "iopub.execute_input": "2023-05-28T03:55:10.064243Z",
     "iopub.status.busy": "2023-05-28T03:55:10.063625Z",
     "iopub.status.idle": "2023-05-28T03:55:10.487972Z",
     "shell.execute_reply": "2023-05-28T03:55:10.486867Z"
    },
    "papermill": {
     "duration": 0.469603,
     "end_time": "2023-05-28T03:55:10.490551",
     "exception": false,
     "start_time": "2023-05-28T03:55:10.020948",
     "status": "completed"
    },
    "tags": []
   },
   "outputs": [
    {
     "name": "stdout",
     "output_type": "stream",
     "text": [
      "Weighted Sensitivity:  0.9130434782608695\n",
      "Class  0 :sensitivity = 0.5454545454545454\n",
      "Class  1 :sensitivity = 0.7407407407407407\n",
      "Class  2 :sensitivity = 0.7575757575757576\n",
      "Class  3 :sensitivity = 0.8333333333333334\n",
      "Class  4 :sensitivity = 0.5714285714285714\n",
      "Class  5 :sensitivity = 0.9653092006033183\n",
      "Class  6 :sensitivity = 1.0\n"
     ]
    }
   ],
   "source": [
    "from imblearn.metrics import sensitivity_score\n",
    "\n",
    "sensitivity = sensitivity_score(y_true, y_pred, average='weighted')\n",
    "print(\"Weighted Sensitivity: \", sensitivity)\n",
    "\n",
    "# Calculate class-wise sensitivity\n",
    "sensitivity = sensitivity_score(y_true, y_pred, average=None)\n",
    "\n",
    "# Print sensitivity score for each class\n",
    "for i in range(len(sensitivity)):\n",
    "    print(\"Class \", i, \":sensitivity =\", sensitivity[i])"
   ]
  },
  {
   "cell_type": "markdown",
   "id": "17f3a8c2",
   "metadata": {
    "papermill": {
     "duration": 0.041713,
     "end_time": "2023-05-28T03:55:10.574918",
     "exception": false,
     "start_time": "2023-05-28T03:55:10.533205",
     "status": "completed"
    },
    "tags": []
   },
   "source": [
    "### Individual Class Weighted Specificity"
   ]
  },
  {
   "cell_type": "code",
   "execution_count": 33,
   "id": "d66e2f7d",
   "metadata": {
    "execution": {
     "iopub.execute_input": "2023-05-28T03:55:10.660692Z",
     "iopub.status.busy": "2023-05-28T03:55:10.659895Z",
     "iopub.status.idle": "2023-05-28T03:55:10.669540Z",
     "shell.execute_reply": "2023-05-28T03:55:10.668321Z"
    },
    "papermill": {
     "duration": 0.054447,
     "end_time": "2023-05-28T03:55:10.671443",
     "exception": false,
     "start_time": "2023-05-28T03:55:10.616996",
     "status": "completed"
    },
    "tags": []
   },
   "outputs": [
    {
     "name": "stdout",
     "output_type": "stream",
     "text": [
      "Weighted Specificity:  0.8561198523762634\n",
      "Class  0 :specificity= 0.9987593052109182\n",
      "Class  1 :specificity= 0.9962546816479401\n",
      "Class  2 :specificity= 0.9724409448818898\n",
      "Class  3 :specificity= 0.9987834549878345\n",
      "Class  4 :specificity= 0.9823455233291298\n",
      "Class  5 :specificity= 0.8242424242424242\n",
      "Class  6 :specificity= 0.9963369963369964\n"
     ]
    }
   ],
   "source": [
    "from imblearn.metrics import specificity_score\n",
    "\n",
    "specificity = specificity_score(y_true, y_pred, average='weighted')\n",
    "print(\"Weighted Specificity: \", specificity)\n",
    "\n",
    "# Calculate class-wise specificity\n",
    "specificity = specificity_score(y_true, y_pred, average=None)\n",
    "\n",
    "# Print sensitivity score for each class\n",
    "for i in range(len(specificity)):\n",
    "    print(\"Class \", i, \":specificity=\", specificity[i])"
   ]
  },
  {
   "cell_type": "markdown",
   "id": "f4f9507e",
   "metadata": {
    "papermill": {
     "duration": 0.041629,
     "end_time": "2023-05-28T03:55:10.754996",
     "exception": false,
     "start_time": "2023-05-28T03:55:10.713367",
     "status": "completed"
    },
    "tags": []
   },
   "source": [
    "### Accuracy"
   ]
  },
  {
   "cell_type": "code",
   "execution_count": 34,
   "id": "1994aa1d",
   "metadata": {
    "execution": {
     "iopub.execute_input": "2023-05-28T03:55:10.840183Z",
     "iopub.status.busy": "2023-05-28T03:55:10.839907Z",
     "iopub.status.idle": "2023-05-28T03:55:10.846100Z",
     "shell.execute_reply": "2023-05-28T03:55:10.845063Z"
    },
    "papermill": {
     "duration": 0.051051,
     "end_time": "2023-05-28T03:55:10.848063",
     "exception": false,
     "start_time": "2023-05-28T03:55:10.797012",
     "status": "completed"
    },
    "tags": []
   },
   "outputs": [
    {
     "name": "stdout",
     "output_type": "stream",
     "text": [
      "Accuracy: 0.9130434782608695\n"
     ]
    }
   ],
   "source": [
    "print(\"Accuracy: \" + str(accuracy_score(y_true, y_pred)))\n",
    "import numpy as np\n",
    "from sklearn.metrics import accuracy_score"
   ]
  },
  {
   "cell_type": "code",
   "execution_count": 35,
   "id": "f0331f52",
   "metadata": {
    "execution": {
     "iopub.execute_input": "2023-05-28T03:55:10.933502Z",
     "iopub.status.busy": "2023-05-28T03:55:10.932679Z",
     "iopub.status.idle": "2023-05-28T03:55:10.951055Z",
     "shell.execute_reply": "2023-05-28T03:55:10.950219Z"
    },
    "papermill": {
     "duration": 0.063202,
     "end_time": "2023-05-28T03:55:10.953072",
     "exception": false,
     "start_time": "2023-05-28T03:55:10.889870",
     "status": "completed"
    },
    "tags": []
   },
   "outputs": [
    {
     "name": "stdout",
     "output_type": "stream",
     "text": [
      "Top-1 Accuracy: 0.9130434782608695\n",
      "Top-2 Accuracy: 0.9685990338164251\n",
      "Top-3 Accuracy: 0.9879227053140096\n"
     ]
    }
   ],
   "source": [
    "# Calculate top-1 accuracy\n",
    "top1_acc = accuracy_score(y_true, y_pred)\n",
    "print(\"Top-1 Accuracy:\", top1_acc)\n",
    "\n",
    "# Calculate top-2 accuracy\n",
    "y_pred_top2 = np.argsort(-predictions, axis=1)[:, :2] # Get the top 2 predicted classes\n",
    "top2_acc = np.mean(np.array([y_true[i] in y_pred_top2[i] for i in range(len(y_true))]))\n",
    "print(\"Top-2 Accuracy:\", top2_acc)\n",
    "\n",
    "# Calculate top-3 accuracy\n",
    "y_pred_top3 = np.argsort(-predictions, axis=1)[:, :3] # Get the top 3 predicted classes\n",
    "top3_acc = np.mean(np.array([y_true[i] in y_pred_top3[i] for i in range(len(y_true))]))\n",
    "print(\"Top-3 Accuracy:\", top3_acc)\n",
    "from sklearn.metrics import f1_score"
   ]
  },
  {
   "cell_type": "markdown",
   "id": "7c759632",
   "metadata": {
    "papermill": {
     "duration": 0.041781,
     "end_time": "2023-05-28T03:55:11.037160",
     "exception": false,
     "start_time": "2023-05-28T03:55:10.995379",
     "status": "completed"
    },
    "tags": []
   },
   "source": [
    "### Weighted Evaluation Measures"
   ]
  },
  {
   "cell_type": "code",
   "execution_count": 36,
   "id": "3009b667",
   "metadata": {
    "execution": {
     "iopub.execute_input": "2023-05-28T03:55:11.122076Z",
     "iopub.status.busy": "2023-05-28T03:55:11.121814Z",
     "iopub.status.idle": "2023-05-28T03:55:11.148528Z",
     "shell.execute_reply": "2023-05-28T03:55:11.147387Z"
    },
    "papermill": {
     "duration": 0.071458,
     "end_time": "2023-05-28T03:55:11.150537",
     "exception": false,
     "start_time": "2023-05-28T03:55:11.079079",
     "status": "completed"
    },
    "tags": []
   },
   "outputs": [
    {
     "name": "stdout",
     "output_type": "stream",
     "text": [
      "Weighted Precision: 0.9140859316387806\n",
      "Weighted Recall: 0.9130434782608695\n",
      "Weighted F1-Score: 0.9118141964629621\n",
      "Weighted Sensitivity: 0.9130434782608695\n",
      "Weighted Specificity: 0.8561198523762634\n",
      "weighted Roc score: 0.9677530978202965\n"
     ]
    }
   ],
   "source": [
    "print(\"Weighted Precision: \"+ str(precision_score(y_true, y_pred, average='weighted')))\n",
    "print(\"Weighted Recall: \"+ str(recall_score(y_true, y_pred, average='weighted')))\n",
    "print(\"Weighted F1-Score: \"+ str(f1_score(y_true, y_pred, average='weighted')))\n",
    "print(\"Weighted Sensitivity: \"+ str(sensitivity_score(y_true, y_pred, average='weighted')))\n",
    "print(\"Weighted Specificity: \"+ str(specificity_score(y_true, y_pred, average='weighted')))\n",
    "print(\"weighted Roc score: \" + str(roc_auc_score(y_true,y_prob,multi_class='ovr',average='weighted')))"
   ]
  },
  {
   "cell_type": "markdown",
   "id": "f2f692e4",
   "metadata": {
    "papermill": {
     "duration": 0.042259,
     "end_time": "2023-05-28T03:55:11.234863",
     "exception": false,
     "start_time": "2023-05-28T03:55:11.192604",
     "status": "completed"
    },
    "tags": []
   },
   "source": [
    "### Macro Evaluation Measures"
   ]
  },
  {
   "cell_type": "code",
   "execution_count": 37,
   "id": "a00806cb",
   "metadata": {
    "execution": {
     "iopub.execute_input": "2023-05-28T03:55:11.320815Z",
     "iopub.status.busy": "2023-05-28T03:55:11.320289Z",
     "iopub.status.idle": "2023-05-28T03:55:11.343142Z",
     "shell.execute_reply": "2023-05-28T03:55:11.342286Z"
    },
    "papermill": {
     "duration": 0.068042,
     "end_time": "2023-05-28T03:55:11.345000",
     "exception": false,
     "start_time": "2023-05-28T03:55:11.276958",
     "status": "completed"
    },
    "tags": []
   },
   "outputs": [
    {
     "name": "stdout",
     "output_type": "stream",
     "text": [
      "Macro Precision: 0.803583977002206\n",
      "Macro Recall: 0.773406021305181\n",
      "Macro F1-Score: 0.7781126556254633\n",
      "Macro Sensitivity: 0.773406021305181\n",
      "Macro Specificity: 0.9670233329481618\n",
      "Macro Roc score: 0.9732574819894257\n"
     ]
    }
   ],
   "source": [
    "print(\"Macro Precision: \"+ str(precision_score(y_true, y_pred, average='macro')))\n",
    "print(\"Macro Recall: \"+ str(recall_score(y_true, y_pred, average='macro')))\n",
    "print(\"Macro F1-Score: \"+ str(f1_score(y_true, y_pred, average='macro')))\n",
    "print(\"Macro Sensitivity: \"+ str(sensitivity_score(y_true, y_pred, average='macro')))\n",
    "print(\"Macro Specificity: \"+ str(specificity_score(y_true, y_pred, average='macro')))\n",
    "print(\"Macro Roc score: \" + str(roc_auc_score(y_true,y_prob,multi_class='ovr',average='macro')))"
   ]
  },
  {
   "cell_type": "markdown",
   "id": "7ecb48a9",
   "metadata": {
    "papermill": {
     "duration": 0.042494,
     "end_time": "2023-05-28T03:55:11.429718",
     "exception": false,
     "start_time": "2023-05-28T03:55:11.387224",
     "status": "completed"
    },
    "tags": []
   },
   "source": [
    "### Micro Evaluation Measures"
   ]
  },
  {
   "cell_type": "code",
   "execution_count": 38,
   "id": "dc211e9f",
   "metadata": {
    "execution": {
     "iopub.execute_input": "2023-05-28T03:55:11.515873Z",
     "iopub.status.busy": "2023-05-28T03:55:11.515161Z",
     "iopub.status.idle": "2023-05-28T03:55:11.531921Z",
     "shell.execute_reply": "2023-05-28T03:55:11.530861Z"
    },
    "papermill": {
     "duration": 0.061741,
     "end_time": "2023-05-28T03:55:11.533831",
     "exception": false,
     "start_time": "2023-05-28T03:55:11.472090",
     "status": "completed"
    },
    "tags": []
   },
   "outputs": [
    {
     "name": "stdout",
     "output_type": "stream",
     "text": [
      "Micro Precision: 0.9130434782608695\n",
      "Micro Recall: 0.9130434782608695\n",
      "Micro F1-Score: 0.9130434782608695\n",
      "Micro Sensitivity: 0.9130434782608695\n",
      "Micro Specificity: 0.9855072463768116\n"
     ]
    }
   ],
   "source": [
    "print(\"Micro Precision: \"+ str(precision_score(y_true, y_pred, average='micro')))\n",
    "print(\"Micro Recall: \"+ str(recall_score(y_true, y_pred, average='micro')))\n",
    "print(\"Micro F1-Score: \"+ str(f1_score(y_true, y_pred, average='micro')))\n",
    "print(\"Micro Sensitivity: \"+ str(sensitivity_score(y_true, y_pred, average='micro')))\n",
    "print(\"Micro Specificity: \"+ str(specificity_score(y_true, y_pred, average='micro')))"
   ]
  },
  {
   "cell_type": "markdown",
   "id": "2d4d99d1",
   "metadata": {
    "papermill": {
     "duration": 0.043003,
     "end_time": "2023-05-28T03:55:11.619469",
     "exception": false,
     "start_time": "2023-05-28T03:55:11.576466",
     "status": "completed"
    },
    "tags": []
   },
   "source": [
    "## ROC"
   ]
  },
  {
   "cell_type": "markdown",
   "id": "324378d2",
   "metadata": {
    "papermill": {
     "duration": 0.042289,
     "end_time": "2023-05-28T03:55:11.703987",
     "exception": false,
     "start_time": "2023-05-28T03:55:11.661698",
     "status": "completed"
    },
    "tags": []
   },
   "source": [
    "### Compute ROC curve and ROC area for each class"
   ]
  },
  {
   "cell_type": "code",
   "execution_count": 39,
   "id": "94609ad2",
   "metadata": {
    "execution": {
     "iopub.execute_input": "2023-05-28T03:55:11.790648Z",
     "iopub.status.busy": "2023-05-28T03:55:11.790362Z",
     "iopub.status.idle": "2023-05-28T03:55:12.096059Z",
     "shell.execute_reply": "2023-05-28T03:55:12.095199Z"
    },
    "papermill": {
     "duration": 0.351221,
     "end_time": "2023-05-28T03:55:12.097993",
     "exception": false,
     "start_time": "2023-05-28T03:55:11.746772",
     "status": "completed"
    },
    "tags": []
   },
   "outputs": [
    {
     "data": {
      "image/png": "[encoded data removed]",
      "text/plain": [
       "<Figure size 640x480 with 1 Axes>"
      ]
     },
     "metadata": {},
     "output_type": "display_data"
    }
   ],
   "source": [
    "fpr = {}\n",
    "tpr = {}\n",
    "roc_auc = dict()\n",
    "for i in range(num_classes):\n",
    "    fpr[i], tpr[i], _ = roc_curve(y_test[:, i], y_prob[:, i], drop_intermediate=False)\n",
    "    roc_auc[i] = auc(fpr[i], tpr[i])\n",
    "\n",
    "\n",
    "# plot the ROC curve for each class\n",
    "for i in range(num_classes):\n",
    "    plt.plot(fpr[i], tpr[i], label='Class {}: AUC={:.3f}'.format(i, roc_auc[i]))\n",
    "\n",
    "plt.xlabel('False Positive Rate')\n",
    "plt.ylabel('True Positive Rate')\n",
    "plt.legend()\n",
    "plt.show()"
   ]
  },
  {
   "cell_type": "markdown",
   "id": "66724a7c",
   "metadata": {
    "papermill": {
     "duration": 0.042747,
     "end_time": "2023-05-28T03:55:12.184433",
     "exception": false,
     "start_time": "2023-05-28T03:55:12.141686",
     "status": "completed"
    },
    "tags": []
   },
   "source": [
    "## MCC and Kappa Score"
   ]
  },
  {
   "cell_type": "code",
   "execution_count": 40,
   "id": "97ddb90f",
   "metadata": {
    "execution": {
     "iopub.execute_input": "2023-05-28T03:55:12.271830Z",
     "iopub.status.busy": "2023-05-28T03:55:12.271275Z",
     "iopub.status.idle": "2023-05-28T03:55:12.280397Z",
     "shell.execute_reply": "2023-05-28T03:55:12.279232Z"
    },
    "papermill": {
     "duration": 0.054886,
     "end_time": "2023-05-28T03:55:12.282291",
     "exception": false,
     "start_time": "2023-05-28T03:55:12.227405",
     "status": "completed"
    },
    "tags": []
   },
   "outputs": [
    {
     "name": "stdout",
     "output_type": "stream",
     "text": [
      "MCC: 74.68%\n",
      "Kappa Score: 74.64%\n"
     ]
    }
   ],
   "source": [
    "from sklearn.metrics import matthews_corrcoef, cohen_kappa_score\n",
    "\n",
    "# y_true are the true labels of the test set\n",
    "# y_pred are the predicted labels of the test set\n",
    "mcc = matthews_corrcoef(y_true, y_pred)\n",
    "kappa = cohen_kappa_score(y_true, y_pred)\n",
    "print(\"MCC: {:.2f}%\".format(mcc*100))\n",
    "print(\"Kappa Score: {:.2f}%\".format(kappa*100))"
   ]
  },
  {
   "cell_type": "code",
   "execution_count": 41,
   "id": "9a2ead1c",
   "metadata": {
    "execution": {
     "iopub.execute_input": "2023-05-28T03:55:12.370212Z",
     "iopub.status.busy": "2023-05-28T03:55:12.369454Z",
     "iopub.status.idle": "2023-05-28T03:55:12.433880Z",
     "shell.execute_reply": "2023-05-28T03:55:12.432873Z"
    },
    "papermill": {
     "duration": 0.110655,
     "end_time": "2023-05-28T03:55:12.435733",
     "exception": false,
     "start_time": "2023-05-28T03:55:12.325078",
     "status": "completed"
    },
    "tags": []
   },
   "outputs": [
    {
     "name": "stdout",
     "output_type": "stream",
     "text": [
      "MCC per class:\n",
      "Class 0: 70.40%\n",
      "Class 1: 79.65%\n",
      "Class 2: 70.62%\n",
      "Class 3: 83.21%\n",
      "Class 4: 56.15%\n",
      "Class 5: 80.07%\n",
      "Class 6: 86.44%\n",
      "Kappa Score per class:\n",
      "Class 0: 67.94%\n",
      "Class 1: 79.38%\n",
      "Class 2: 70.56%\n",
      "Class 3: 83.21%\n",
      "Class 4: 56.14%\n",
      "Class 5: 80.05%\n",
      "Class 6: 85.53%\n"
     ]
    }
   ],
   "source": [
    "### Individual Class Wise MCC and Kappa\n",
    "\n",
    "from sklearn.metrics import confusion_matrix, matthews_corrcoef, cohen_kappa_score\n",
    "# y_true are the true labels of the test set\n",
    "# y_pred are the predicted labels of the test set\n",
    "conf_mat = confusion_matrix(y_true, y_pred)\n",
    "mcc_per_class = {}\n",
    "kappa_per_class = {}\n",
    "\n",
    "for i in range(len(conf_mat)):\n",
    "    tp = conf_mat[i][i]\n",
    "    fp = sum(conf_mat[:, i]) - tp\n",
    "    fn = sum(conf_mat[i, :]) - tp\n",
    "    tn = sum(sum(conf_mat)) - tp - fp - fn\n",
    "\n",
    "    mcc_per_class[i] = matthews_corrcoef([1 if x==i else 0 for x in y_true], [1 if x==i else 0 for x in y_pred])\n",
    "    kappa_per_class[i] = cohen_kappa_score([1 if x==i else 0 for x in y_true], [1 if x==i else 0 for x in y_pred])\n",
    "\n",
    "print(\"MCC per class:\")\n",
    "for i, mcc in mcc_per_class.items():\n",
    "    print(\"Class {}: {:.2f}%\".format(i, mcc*100))\n",
    "\n",
    "print(\"Kappa Score per class:\")\n",
    "for i, kappa in kappa_per_class.items():\n",
    "    print(\"Class {}: {:.2f}%\".format(i, kappa*100))"
   ]
  }
 ],
 "metadata": {
  "kernelspec": {
   "display_name": "Python 3",
   "language": "python",
   "name": "python3"
  },
  "language_info": {
   "codemirror_mode": {
    "name": "ipython",
    "version": 3
   },
   "file_extension": ".py",
   "mimetype": "text/x-python",
   "name": "python",
   "nbconvert_exporter": "python",
   "pygments_lexer": "ipython3",
   "version": "3.10.10"
  },
  "papermill": {
   "default_parameters": {},
   "duration": 34738.085241,
   "end_time": "2023-05-28T03:55:15.621469",
   "environment_variables": {},
   "exception": null,
   "input_path": "__notebook__.ipynb",
   "output_path": "__notebook__.ipynb",
   "parameters": {},
   "start_time": "2023-05-27T18:16:17.536228",
   "version": "2.4.0"
  }
 },
 "nbformat": 4,
 "nbformat_minor": 5
}
