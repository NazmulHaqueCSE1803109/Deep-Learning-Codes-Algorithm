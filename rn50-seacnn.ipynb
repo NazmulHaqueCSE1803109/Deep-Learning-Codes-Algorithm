{
 "cells": [
  {
   "cell_type": "markdown",
   "id": "3b41f07e",
   "metadata": {
    "papermill": {
     "duration": 0.016397,
     "end_time": "2023-05-19T12:20:53.198469",
     "exception": false,
     "start_time": "2023-05-19T12:20:53.182072",
     "status": "completed"
    },
    "tags": []
   },
   "source": [
    "# Libraries"
   ]
  },
  {
   "cell_type": "code",
   "execution_count": 1,
   "id": "415684b9",
   "metadata": {
    "execution": {
     "iopub.execute_input": "2023-05-19T12:20:53.232277Z",
     "iopub.status.busy": "2023-05-19T12:20:53.231494Z",
     "iopub.status.idle": "2023-05-19T12:21:09.160492Z",
     "shell.execute_reply": "2023-05-19T12:21:09.159408Z"
    },
    "id": "Aa36bMKLze3z",
    "papermill": {
     "duration": 15.948806,
     "end_time": "2023-05-19T12:21:09.163293",
     "exception": false,
     "start_time": "2023-05-19T12:20:53.214487",
     "status": "completed"
    },
    "tags": []
   },
   "outputs": [
    {
     "name": "stderr",
     "output_type": "stream",
     "text": [
      "/opt/conda/lib/python3.10/site-packages/scipy/__init__.py:146: UserWarning: A NumPy version >=1.16.5 and <1.23.0 is required for this version of SciPy (detected version 1.23.5\n",
      "  warnings.warn(f\"A NumPy version >={np_minversion} and <{np_maxversion}\"\n"
     ]
    }
   ],
   "source": [
    "import pandas as pd\n",
    "import numpy as np\n",
    "import os\n",
    "import tensorflow as tf\n",
    "import cv2\n",
    "from keras import backend as K\n",
    "from keras.layers import Layer, InputSpec\n",
    "import keras.layers as kl\n",
    "from glob import glob\n",
    "from sklearn.metrics import roc_curve, auc\n",
    "from keras.preprocessing import image\n",
    "from tensorflow.keras.models import Sequential\n",
    "from sklearn.metrics import roc_auc_score\n",
    "from tensorflow.keras import callbacks \n",
    "from tensorflow.keras.callbacks import ModelCheckpoint, EarlyStopping\n",
    "from  matplotlib import pyplot as plt\n",
    "from tensorflow.keras import Model\n",
    "from tensorflow.keras.layers import concatenate, Dense, Conv2D, MaxPooling2D, Flatten, Input, Activation, add, AveragePooling2D, BatchNormalization, Dropout, GlobalAveragePooling2D, GlobalMaxPooling2D\n",
    "%matplotlib inline\n",
    "import shutil\n",
    "from sklearn.metrics import  precision_score, recall_score, accuracy_score, classification_report, confusion_matrix\n",
    "from tensorflow.python.platform import build_info as tf_build_info\n",
    "from tensorflow.keras.preprocessing.image import ImageDataGenerator\n",
    "from sklearn.model_selection import train_test_split\n",
    "\n",
    "from PIL import ImageFile\n",
    "ImageFile.LOAD_TRUNCATED_IMAGES = True"
   ]
  },
  {
   "cell_type": "code",
   "execution_count": 2,
   "id": "14575e48",
   "metadata": {
    "execution": {
     "iopub.execute_input": "2023-05-19T12:21:09.199580Z",
     "iopub.status.busy": "2023-05-19T12:21:09.197807Z",
     "iopub.status.idle": "2023-05-19T12:21:09.203408Z",
     "shell.execute_reply": "2023-05-19T12:21:09.202577Z"
    },
    "id": "PsoqCvNsgmHP",
    "papermill": {
     "duration": 0.024727,
     "end_time": "2023-05-19T12:21:09.205874",
     "exception": false,
     "start_time": "2023-05-19T12:21:09.181147",
     "status": "completed"
    },
    "tags": []
   },
   "outputs": [],
   "source": [
    "targetnames = ['akiec', 'bcc', 'bkl', 'df', 'mel', 'nv', 'vasc']\n",
    "batch_size = 16\n",
    "image_size = 224"
   ]
  },
  {
   "cell_type": "code",
   "execution_count": 3,
   "id": "b5b387e9",
   "metadata": {
    "execution": {
     "iopub.execute_input": "2023-05-19T12:21:09.238734Z",
     "iopub.status.busy": "2023-05-19T12:21:09.237924Z",
     "iopub.status.idle": "2023-05-19T12:21:09.242650Z",
     "shell.execute_reply": "2023-05-19T12:21:09.241877Z"
    },
    "id": "wNisha_gM3_Z",
    "papermill": {
     "duration": 0.023493,
     "end_time": "2023-05-19T12:21:09.244752",
     "exception": false,
     "start_time": "2023-05-19T12:21:09.221259",
     "status": "completed"
    },
    "tags": []
   },
   "outputs": [],
   "source": [
    "train_path = '/kaggle/input/splitted-and-augmented-ham-15/Splitted_And_Augmented_HAM_15/HAM10K/train_dir'\n",
    "test_path = '/kaggle/input/splitted-and-augmented-ham-15/Splitted_And_Augmented_HAM_15/HAM10K/test_dir'\n",
    "val_path = '/kaggle/input/splitted-and-augmented-ham-15/Splitted_And_Augmented_HAM_15/HAM10K/val_dir'"
   ]
  },
  {
   "cell_type": "markdown",
   "id": "f05d8b38",
   "metadata": {
    "papermill": {
     "duration": 0.015773,
     "end_time": "2023-05-19T12:21:09.275694",
     "exception": false,
     "start_time": "2023-05-19T12:21:09.259921",
     "status": "completed"
    },
    "tags": []
   },
   "source": [
    "# Dataset generation (Train, Test, Validation)"
   ]
  },
  {
   "cell_type": "code",
   "execution_count": 4,
   "id": "ca6cdcde",
   "metadata": {
    "execution": {
     "iopub.execute_input": "2023-05-19T12:21:09.307613Z",
     "iopub.status.busy": "2023-05-19T12:21:09.307346Z",
     "iopub.status.idle": "2023-05-19T12:21:09.311473Z",
     "shell.execute_reply": "2023-05-19T12:21:09.310593Z"
    },
    "id": "zhQWqdRN79B3",
    "papermill": {
     "duration": 0.02263,
     "end_time": "2023-05-19T12:21:09.313488",
     "exception": false,
     "start_time": "2023-05-19T12:21:09.290858",
     "status": "completed"
    },
    "tags": []
   },
   "outputs": [],
   "source": [
    "datagen = ImageDataGenerator(preprocessing_function=tf.keras.applications.resnet50.preprocess_input)"
   ]
  },
  {
   "cell_type": "code",
   "execution_count": 5,
   "id": "a2e1eaee",
   "metadata": {
    "execution": {
     "iopub.execute_input": "2023-05-19T12:21:09.347290Z",
     "iopub.status.busy": "2023-05-19T12:21:09.347004Z",
     "iopub.status.idle": "2023-05-19T12:21:51.862861Z",
     "shell.execute_reply": "2023-05-19T12:21:51.861954Z"
    },
    "id": "w9_8FvOO7Rtu",
    "outputId": "7ca88c24-fda8-45d6-cb32-f3a43ae6ba5b",
    "papermill": {
     "duration": 42.535273,
     "end_time": "2023-05-19T12:21:51.864974",
     "exception": false,
     "start_time": "2023-05-19T12:21:09.329701",
     "status": "completed"
    },
    "tags": []
   },
   "outputs": [
    {
     "name": "stdout",
     "output_type": "stream",
     "text": [
      "\n",
      "Train Batches: \n",
      "Found 54782 images belonging to 7 classes.\n",
      "\n",
      "Test Batches: \n",
      "Found 828 images belonging to 7 classes.\n",
      "\n",
      "Val Batches: \n",
      "Found 827 images belonging to 7 classes.\n"
     ]
    }
   ],
   "source": [
    "print(\"\\nTrain Batches: \")\n",
    "train_batches = datagen.flow_from_directory(directory=train_path,\n",
    "                                            target_size=(image_size,image_size),\n",
    "                                            batch_size=batch_size,\n",
    "                                            shuffle=True)\n",
    "\n",
    "print(\"\\nTest Batches: \")\n",
    "test_batches = datagen.flow_from_directory(test_path,\n",
    "                                          target_size=(image_size,image_size),\n",
    "                                          batch_size=batch_size,\n",
    "                                          shuffle=False)\n",
    "print(\"\\nVal Batches: \")\n",
    "val_batches = datagen.flow_from_directory(val_path,\n",
    "                                         target_size=(image_size,image_size),\n",
    "                                         batch_size=batch_size,\n",
    "                                         shuffle=False)"
   ]
  },
  {
   "cell_type": "markdown",
   "id": "d5596026",
   "metadata": {
    "papermill": {
     "duration": 0.016256,
     "end_time": "2023-05-19T12:21:51.897564",
     "exception": false,
     "start_time": "2023-05-19T12:21:51.881308",
     "status": "completed"
    },
    "tags": []
   },
   "source": [
    "# Main Model Creation"
   ]
  },
  {
   "cell_type": "markdown",
   "id": "ac15f798",
   "metadata": {
    "papermill": {
     "duration": 0.016735,
     "end_time": "2023-05-19T12:21:51.931092",
     "exception": false,
     "start_time": "2023-05-19T12:21:51.914357",
     "status": "completed"
    },
    "tags": []
   },
   "source": [
    "### Squeeze and Excitation Attention"
   ]
  },
  {
   "cell_type": "code",
   "execution_count": 6,
   "id": "4dd9cd05",
   "metadata": {
    "execution": {
     "iopub.execute_input": "2023-05-19T12:21:51.965198Z",
     "iopub.status.busy": "2023-05-19T12:21:51.964860Z",
     "iopub.status.idle": "2023-05-19T12:21:51.970771Z",
     "shell.execute_reply": "2023-05-19T12:21:51.969848Z"
    },
    "papermill": {
     "duration": 0.025033,
     "end_time": "2023-05-19T12:21:51.972794",
     "exception": false,
     "start_time": "2023-05-19T12:21:51.947761",
     "status": "completed"
    },
    "tags": []
   },
   "outputs": [],
   "source": [
    "def squeeze_excite_block(input, filters, se_ratio):\n",
    "    # Squeeze step\n",
    "    se = tf.keras.layers.GlobalAveragePooling2D()(input)\n",
    "    se = tf.keras.layers.Dense(filters // se_ratio, activation='relu')(se)\n",
    "    se = tf.keras.layers.Dense(filters, activation='softmax')(se)\n",
    "    # Excitation step\n",
    "    x = tf.keras.layers.multiply([input, se])\n",
    "    return x"
   ]
  },
  {
   "cell_type": "markdown",
   "id": "8e53b3bd",
   "metadata": {
    "papermill": {
     "duration": 0.015716,
     "end_time": "2023-05-19T12:21:52.004996",
     "exception": false,
     "start_time": "2023-05-19T12:21:51.989280",
     "status": "completed"
    },
    "tags": []
   },
   "source": [
    "### Define Model"
   ]
  },
  {
   "cell_type": "code",
   "execution_count": 7,
   "id": "e2b959d0",
   "metadata": {
    "execution": {
     "iopub.execute_input": "2023-05-19T12:21:52.038537Z",
     "iopub.status.busy": "2023-05-19T12:21:52.037702Z",
     "iopub.status.idle": "2023-05-19T12:21:59.574673Z",
     "shell.execute_reply": "2023-05-19T12:21:59.573641Z"
    },
    "id": "zhQWqdRN79B3",
    "papermill": {
     "duration": 7.55663,
     "end_time": "2023-05-19T12:21:59.577450",
     "exception": false,
     "start_time": "2023-05-19T12:21:52.020820",
     "status": "completed"
    },
    "tags": []
   },
   "outputs": [
    {
     "name": "stdout",
     "output_type": "stream",
     "text": [
      "Downloading data from https://storage.googleapis.com/tensorflow/keras-applications/resnet/resnet50_weights_tf_dim_ordering_tf_kernels_notop.h5\n",
      "94765736/94765736 [==============================] - 0s 0us/step\n"
     ]
    }
   ],
   "source": [
    "from tensorflow.keras.applications.resnet50 import ResNet50\n",
    "\n",
    "# Create a new instance of ResNet50\n",
    "RN50 = ResNet50(weights='imagenet', include_top=False, input_shape=(image_size, image_size, 3), pooling='avg')"
   ]
  },
  {
   "cell_type": "markdown",
   "id": "60cb22cf",
   "metadata": {
    "papermill": {
     "duration": 0.017484,
     "end_time": "2023-05-19T12:21:59.612899",
     "exception": false,
     "start_time": "2023-05-19T12:21:59.595415",
     "status": "completed"
    },
    "tags": []
   },
   "source": [
    "## Fine tuning"
   ]
  },
  {
   "cell_type": "code",
   "execution_count": 8,
   "id": "6a64c92b",
   "metadata": {
    "execution": {
     "iopub.execute_input": "2023-05-19T12:21:59.649992Z",
     "iopub.status.busy": "2023-05-19T12:21:59.649656Z",
     "iopub.status.idle": "2023-05-19T12:21:59.656506Z",
     "shell.execute_reply": "2023-05-19T12:21:59.655838Z"
    },
    "id": "4d4Ta5LcSYaz",
    "papermill": {
     "duration": 0.026998,
     "end_time": "2023-05-19T12:21:59.658419",
     "exception": false,
     "start_time": "2023-05-19T12:21:59.631421",
     "status": "completed"
    },
    "tags": []
   },
   "outputs": [],
   "source": [
    "MainInput=Input(shape=(image_size, image_size, 3))"
   ]
  },
  {
   "cell_type": "code",
   "execution_count": 9,
   "id": "76e4c1b0",
   "metadata": {
    "execution": {
     "iopub.execute_input": "2023-05-19T12:21:59.695095Z",
     "iopub.status.busy": "2023-05-19T12:21:59.694358Z",
     "iopub.status.idle": "2023-05-19T12:22:00.176145Z",
     "shell.execute_reply": "2023-05-19T12:22:00.174182Z"
    },
    "papermill": {
     "duration": 0.505417,
     "end_time": "2023-05-19T12:22:00.181102",
     "exception": false,
     "start_time": "2023-05-19T12:21:59.675685",
     "status": "completed"
    },
    "tags": []
   },
   "outputs": [],
   "source": [
    "resnet = RN50(MainInput)"
   ]
  },
  {
   "cell_type": "code",
   "execution_count": 10,
   "id": "d4af9c2f",
   "metadata": {
    "execution": {
     "iopub.execute_input": "2023-05-19T12:22:00.249713Z",
     "iopub.status.busy": "2023-05-19T12:22:00.249349Z",
     "iopub.status.idle": "2023-05-19T12:22:00.267812Z",
     "shell.execute_reply": "2023-05-19T12:22:00.266921Z"
    },
    "papermill": {
     "duration": 0.058776,
     "end_time": "2023-05-19T12:22:00.270650",
     "exception": false,
     "start_time": "2023-05-19T12:22:00.211874",
     "status": "completed"
    },
    "tags": []
   },
   "outputs": [],
   "source": [
    "# Reshape the tensor to have 4 dimensions\n",
    "from tensorflow.keras.layers import Reshape\n",
    "reshape = Reshape((16, 16, 8))(resnet)"
   ]
  },
  {
   "cell_type": "code",
   "execution_count": 11,
   "id": "4c0832ff",
   "metadata": {
    "execution": {
     "iopub.execute_input": "2023-05-19T12:22:00.322921Z",
     "iopub.status.busy": "2023-05-19T12:22:00.322607Z",
     "iopub.status.idle": "2023-05-19T12:22:00.416638Z",
     "shell.execute_reply": "2023-05-19T12:22:00.415719Z"
    },
    "id": "x8mS99J5SYbT",
    "papermill": {
     "duration": 0.12048,
     "end_time": "2023-05-19T12:22:00.418899",
     "exception": false,
     "start_time": "2023-05-19T12:22:00.298419",
     "status": "completed"
    },
    "tags": []
   },
   "outputs": [],
   "source": [
    "# Add convolutional layers with Channel Attention\n",
    "conv = Conv2D(filters=128, kernel_size=(7, 7), activation=\"relu\", padding=\"same\", kernel_initializer='he_normal')(reshape)\n",
    "conv = BatchNormalization()(conv)\n",
    "conv = Conv2D(filters=128, kernel_size=(5, 5), activation=\"relu\", padding=\"same\", kernel_initializer='he_normal')(conv)\n",
    "conv = BatchNormalization()(conv)\n",
    "conv = Conv2D(filters=128, kernel_size=(3, 3), activation=\"relu\", padding=\"same\", kernel_initializer='he_normal')(conv)\n",
    "conv = BatchNormalization()(conv)\n",
    "conv = Conv2D(filters=128, kernel_size=(1, 1), activation=\"relu\", padding=\"same\", kernel_initializer='he_normal')(conv)\n",
    "conv = BatchNormalization()(conv)"
   ]
  },
  {
   "cell_type": "code",
   "execution_count": 12,
   "id": "14c04d3d",
   "metadata": {
    "execution": {
     "iopub.execute_input": "2023-05-19T12:22:00.456018Z",
     "iopub.status.busy": "2023-05-19T12:22:00.455243Z",
     "iopub.status.idle": "2023-05-19T12:22:00.497730Z",
     "shell.execute_reply": "2023-05-19T12:22:00.496863Z"
    },
    "papermill": {
     "duration": 0.063242,
     "end_time": "2023-05-19T12:22:00.499806",
     "exception": false,
     "start_time": "2023-05-19T12:22:00.436564",
     "status": "completed"
    },
    "tags": []
   },
   "outputs": [],
   "source": [
    "image_size_2 = 16\n",
    "from tensorflow.keras.layers import Reshape\n",
    "conv = Reshape(target_shape=(image_size_2, image_size_2, 128,))(conv)\n",
    "x = squeeze_excite_block(conv, 128, 128)  # use same number of filters as the input tensor"
   ]
  },
  {
   "cell_type": "code",
   "execution_count": 13,
   "id": "36ff655f",
   "metadata": {
    "execution": {
     "iopub.execute_input": "2023-05-19T12:22:00.536174Z",
     "iopub.status.busy": "2023-05-19T12:22:00.535187Z",
     "iopub.status.idle": "2023-05-19T12:22:00.625508Z",
     "shell.execute_reply": "2023-05-19T12:22:00.624562Z"
    },
    "papermill": {
     "duration": 0.111032,
     "end_time": "2023-05-19T12:22:00.627956",
     "exception": false,
     "start_time": "2023-05-19T12:22:00.516924",
     "status": "completed"
    },
    "tags": []
   },
   "outputs": [],
   "source": [
    "# Add convolutional layers with Channel Attention\n",
    "conv = Conv2D(filters=128, kernel_size=(7, 7), activation=\"relu\", padding=\"same\", kernel_initializer='he_normal')(x)\n",
    "conv = BatchNormalization()(conv)\n",
    "conv = Conv2D(filters=128, kernel_size=(5, 5), activation=\"relu\", padding=\"same\", kernel_initializer='he_normal')(conv)\n",
    "conv = BatchNormalization()(conv)\n",
    "conv = Conv2D(filters=128, kernel_size=(3, 3), activation=\"relu\", padding=\"same\", kernel_initializer='he_normal')(conv)\n",
    "conv = BatchNormalization()(conv)\n",
    "conv = Conv2D(filters=128, kernel_size=(1, 1), activation=\"relu\", padding=\"same\", kernel_initializer='he_normal')(conv)\n",
    "conv = BatchNormalization()(conv)"
   ]
  },
  {
   "cell_type": "code",
   "execution_count": 14,
   "id": "0a60a5c2",
   "metadata": {
    "execution": {
     "iopub.execute_input": "2023-05-19T12:22:00.666127Z",
     "iopub.status.busy": "2023-05-19T12:22:00.665342Z",
     "iopub.status.idle": "2023-05-19T12:22:00.673652Z",
     "shell.execute_reply": "2023-05-19T12:22:00.672769Z"
    },
    "id": "wfhLPhssAm2S",
    "papermill": {
     "duration": 0.028483,
     "end_time": "2023-05-19T12:22:00.675644",
     "exception": false,
     "start_time": "2023-05-19T12:22:00.647161",
     "status": "completed"
    },
    "tags": []
   },
   "outputs": [],
   "source": [
    "conv=(MaxPooling2D(strides=(2, 2),padding=\"same\")(conv))"
   ]
  },
  {
   "cell_type": "code",
   "execution_count": 15,
   "id": "4175669d",
   "metadata": {
    "execution": {
     "iopub.execute_input": "2023-05-19T12:22:00.712359Z",
     "iopub.status.busy": "2023-05-19T12:22:00.712047Z",
     "iopub.status.idle": "2023-05-19T12:22:00.806477Z",
     "shell.execute_reply": "2023-05-19T12:22:00.805577Z"
    },
    "id": "sW4tKg9wSYbk",
    "papermill": {
     "duration": 0.115743,
     "end_time": "2023-05-19T12:22:00.808613",
     "exception": false,
     "start_time": "2023-05-19T12:22:00.692870",
     "status": "completed"
    },
    "tags": []
   },
   "outputs": [],
   "source": [
    "conv = Conv2D(filters=256,kernel_size=(7,7), activation=\"relu\",padding=\"same\",kernel_initializer='he_normal')(conv)\n",
    "conv = BatchNormalization()(conv)\n",
    "conv = Conv2D(filters=256,kernel_size=(5,5), activation=\"relu\",padding=\"same\",kernel_initializer='he_normal')(conv)\n",
    "conv = BatchNormalization()(conv)\n",
    "conv = Conv2D(filters=256,kernel_size=(3,3), activation=\"relu\",padding=\"same\",kernel_initializer='he_normal')(conv)\n",
    "conv = BatchNormalization()(conv)\n",
    "conv = Conv2D(filters=256,kernel_size=(1,1), activation=\"relu\",padding=\"same\",kernel_initializer='he_normal')(conv)\n",
    "conv = BatchNormalization()(conv)"
   ]
  },
  {
   "cell_type": "code",
   "execution_count": 16,
   "id": "dfa49e21",
   "metadata": {
    "execution": {
     "iopub.execute_input": "2023-05-19T12:22:00.845251Z",
     "iopub.status.busy": "2023-05-19T12:22:00.844963Z",
     "iopub.status.idle": "2023-05-19T12:22:00.886092Z",
     "shell.execute_reply": "2023-05-19T12:22:00.885215Z"
    },
    "papermill": {
     "duration": 0.061822,
     "end_time": "2023-05-19T12:22:00.888040",
     "exception": false,
     "start_time": "2023-05-19T12:22:00.826218",
     "status": "completed"
    },
    "tags": []
   },
   "outputs": [],
   "source": [
    "image_size_3 = 8\n",
    "from tensorflow.keras.layers import Reshape\n",
    "conv = Reshape(target_shape=(image_size_3, image_size_3, 256,))(conv)\n",
    "x = squeeze_excite_block(conv, 256, 256)  # use same number of filters as the input tensor"
   ]
  },
  {
   "cell_type": "code",
   "execution_count": 17,
   "id": "ee71f300",
   "metadata": {
    "execution": {
     "iopub.execute_input": "2023-05-19T12:22:00.923712Z",
     "iopub.status.busy": "2023-05-19T12:22:00.923404Z",
     "iopub.status.idle": "2023-05-19T12:22:01.009196Z",
     "shell.execute_reply": "2023-05-19T12:22:01.008197Z"
    },
    "papermill": {
     "duration": 0.106302,
     "end_time": "2023-05-19T12:22:01.011560",
     "exception": false,
     "start_time": "2023-05-19T12:22:00.905258",
     "status": "completed"
    },
    "tags": []
   },
   "outputs": [],
   "source": [
    "conv = Conv2D(filters=256,kernel_size=(7,7), activation=\"relu\",padding=\"same\",kernel_initializer='he_normal')(x)\n",
    "conv = BatchNormalization()(conv)\n",
    "conv = Conv2D(filters=256,kernel_size=(5,5), activation=\"relu\",padding=\"same\",kernel_initializer='he_normal')(conv)\n",
    "conv = BatchNormalization()(conv)\n",
    "conv = Conv2D(filters=256,kernel_size=(3,3), activation=\"relu\",padding=\"same\",kernel_initializer='he_normal')(conv)\n",
    "conv = BatchNormalization()(conv)\n",
    "conv = Conv2D(filters=256,kernel_size=(1,1), activation=\"relu\",padding=\"same\",kernel_initializer='he_normal')(conv)\n",
    "conv = BatchNormalization()(conv)"
   ]
  },
  {
   "cell_type": "code",
   "execution_count": 18,
   "id": "de3f7b01",
   "metadata": {
    "execution": {
     "iopub.execute_input": "2023-05-19T12:22:01.047704Z",
     "iopub.status.busy": "2023-05-19T12:22:01.046937Z",
     "iopub.status.idle": "2023-05-19T12:22:01.055237Z",
     "shell.execute_reply": "2023-05-19T12:22:01.054355Z"
    },
    "id": "eo8E7RxUSYcW",
    "papermill": {
     "duration": 0.028438,
     "end_time": "2023-05-19T12:22:01.057344",
     "exception": false,
     "start_time": "2023-05-19T12:22:01.028906",
     "status": "completed"
    },
    "tags": []
   },
   "outputs": [],
   "source": [
    "conv=(MaxPooling2D(pool_size=(2, 2),padding=\"same\")(conv))"
   ]
  },
  {
   "cell_type": "code",
   "execution_count": 19,
   "id": "8b03a0e5",
   "metadata": {
    "execution": {
     "iopub.execute_input": "2023-05-19T12:22:01.092952Z",
     "iopub.status.busy": "2023-05-19T12:22:01.092684Z",
     "iopub.status.idle": "2023-05-19T12:22:01.106228Z",
     "shell.execute_reply": "2023-05-19T12:22:01.103302Z"
    },
    "papermill": {
     "duration": 0.0346,
     "end_time": "2023-05-19T12:22:01.109248",
     "exception": false,
     "start_time": "2023-05-19T12:22:01.074648",
     "status": "completed"
    },
    "tags": []
   },
   "outputs": [
    {
     "name": "stdout",
     "output_type": "stream",
     "text": [
      "7\n"
     ]
    }
   ],
   "source": [
    "num_classes = test_batches.num_classes\n",
    "print(num_classes)"
   ]
  },
  {
   "cell_type": "code",
   "execution_count": 20,
   "id": "595dd32b",
   "metadata": {
    "execution": {
     "iopub.execute_input": "2023-05-19T12:22:01.148124Z",
     "iopub.status.busy": "2023-05-19T12:22:01.147780Z",
     "iopub.status.idle": "2023-05-19T12:22:01.413863Z",
     "shell.execute_reply": "2023-05-19T12:22:01.412884Z"
    },
    "id": "-EdFxKdgSYcf",
    "papermill": {
     "duration": 0.286674,
     "end_time": "2023-05-19T12:22:01.416497",
     "exception": false,
     "start_time": "2023-05-19T12:22:01.129823",
     "status": "completed"
    },
    "tags": []
   },
   "outputs": [],
   "source": [
    "conv=(Flatten()(conv))\n",
    "conv=(Dense(1024,activation=\"relu\")(conv))\n",
    "conv=(Dense(512,activation=\"relu\")(conv))\n",
    "conv=(Dense(num_classes, activation=\"softmax\")(conv))\n",
    "\n",
    "model_rn50_sea = Model(inputs=MainInput, outputs=conv)"
   ]
  },
  {
   "cell_type": "code",
   "execution_count": 21,
   "id": "8c14805a",
   "metadata": {
    "execution": {
     "iopub.execute_input": "2023-05-19T12:22:01.453746Z",
     "iopub.status.busy": "2023-05-19T12:22:01.452981Z",
     "iopub.status.idle": "2023-05-19T12:22:01.605627Z",
     "shell.execute_reply": "2023-05-19T12:22:01.604631Z"
    },
    "id": "ba8ajOckSYcl",
    "outputId": "e69fa749-4741-4f49-ae3e-9f5479e809a8",
    "papermill": {
     "duration": 0.252353,
     "end_time": "2023-05-19T12:22:01.686563",
     "exception": false,
     "start_time": "2023-05-19T12:22:01.434210",
     "status": "completed"
    },
    "tags": []
   },
   "outputs": [
    {
     "name": "stdout",
     "output_type": "stream",
     "text": [
      "Model: \"model\"\n",
      "__________________________________________________________________________________________________\n",
      " Layer (type)                   Output Shape         Param #     Connected to                     \n",
      "==================================================================================================\n",
      " input_2 (InputLayer)           [(None, 224, 224, 3  0           []                               \n",
      "                                )]                                                                \n",
      "                                                                                                  \n",
      " resnet50 (Functional)          (None, 2048)         23587712    ['input_2[0][0]']                \n",
      "                                                                                                  \n",
      " reshape (Reshape)              (None, 16, 16, 8)    0           ['resnet50[0][0]']               \n",
      "                                                                                                  \n",
      " conv2d (Conv2D)                (None, 16, 16, 128)  50304       ['reshape[0][0]']                \n",
      "                                                                                                  \n",
      " batch_normalization (BatchNorm  (None, 16, 16, 128)  512        ['conv2d[0][0]']                 \n",
      " alization)                                                                                       \n",
      "                                                                                                  \n",
      " conv2d_1 (Conv2D)              (None, 16, 16, 128)  409728      ['batch_normalization[0][0]']    \n",
      "                                                                                                  \n",
      " batch_normalization_1 (BatchNo  (None, 16, 16, 128)  512        ['conv2d_1[0][0]']               \n",
      " rmalization)                                                                                     \n",
      "                                                                                                  \n",
      " conv2d_2 (Conv2D)              (None, 16, 16, 128)  147584      ['batch_normalization_1[0][0]']  \n",
      "                                                                                                  \n",
      " batch_normalization_2 (BatchNo  (None, 16, 16, 128)  512        ['conv2d_2[0][0]']               \n",
      " rmalization)                                                                                     \n",
      "                                                                                                  \n",
      " conv2d_3 (Conv2D)              (None, 16, 16, 128)  16512       ['batch_normalization_2[0][0]']  \n",
      "                                                                                                  \n",
      " batch_normalization_3 (BatchNo  (None, 16, 16, 128)  512        ['conv2d_3[0][0]']               \n",
      " rmalization)                                                                                     \n",
      "                                                                                                  \n",
      " reshape_1 (Reshape)            (None, 16, 16, 128)  0           ['batch_normalization_3[0][0]']  \n",
      "                                                                                                  \n",
      " global_average_pooling2d (Glob  (None, 128)         0           ['reshape_1[0][0]']              \n",
      " alAveragePooling2D)                                                                              \n",
      "                                                                                                  \n",
      " dense (Dense)                  (None, 1)            129         ['global_average_pooling2d[0][0]'\n",
      "                                                                 ]                                \n",
      "                                                                                                  \n",
      " dense_1 (Dense)                (None, 128)          256         ['dense[0][0]']                  \n",
      "                                                                                                  \n",
      " multiply (Multiply)            (None, 16, 16, 128)  0           ['reshape_1[0][0]',              \n",
      "                                                                  'dense_1[0][0]']                \n",
      "                                                                                                  \n",
      " conv2d_4 (Conv2D)              (None, 16, 16, 128)  802944      ['multiply[0][0]']               \n",
      "                                                                                                  \n",
      " batch_normalization_4 (BatchNo  (None, 16, 16, 128)  512        ['conv2d_4[0][0]']               \n",
      " rmalization)                                                                                     \n",
      "                                                                                                  \n",
      " conv2d_5 (Conv2D)              (None, 16, 16, 128)  409728      ['batch_normalization_4[0][0]']  \n",
      "                                                                                                  \n",
      " batch_normalization_5 (BatchNo  (None, 16, 16, 128)  512        ['conv2d_5[0][0]']               \n",
      " rmalization)                                                                                     \n",
      "                                                                                                  \n",
      " conv2d_6 (Conv2D)              (None, 16, 16, 128)  147584      ['batch_normalization_5[0][0]']  \n",
      "                                                                                                  \n",
      " batch_normalization_6 (BatchNo  (None, 16, 16, 128)  512        ['conv2d_6[0][0]']               \n",
      " rmalization)                                                                                     \n",
      "                                                                                                  \n",
      " conv2d_7 (Conv2D)              (None, 16, 16, 128)  16512       ['batch_normalization_6[0][0]']  \n",
      "                                                                                                  \n",
      " batch_normalization_7 (BatchNo  (None, 16, 16, 128)  512        ['conv2d_7[0][0]']               \n",
      " rmalization)                                                                                     \n",
      "                                                                                                  \n",
      " max_pooling2d (MaxPooling2D)   (None, 8, 8, 128)    0           ['batch_normalization_7[0][0]']  \n",
      "                                                                                                  \n",
      " conv2d_8 (Conv2D)              (None, 8, 8, 256)    1605888     ['max_pooling2d[0][0]']          \n",
      "                                                                                                  \n",
      " batch_normalization_8 (BatchNo  (None, 8, 8, 256)   1024        ['conv2d_8[0][0]']               \n",
      " rmalization)                                                                                     \n",
      "                                                                                                  \n",
      " conv2d_9 (Conv2D)              (None, 8, 8, 256)    1638656     ['batch_normalization_8[0][0]']  \n",
      "                                                                                                  \n",
      " batch_normalization_9 (BatchNo  (None, 8, 8, 256)   1024        ['conv2d_9[0][0]']               \n",
      " rmalization)                                                                                     \n",
      "                                                                                                  \n",
      " conv2d_10 (Conv2D)             (None, 8, 8, 256)    590080      ['batch_normalization_9[0][0]']  \n",
      "                                                                                                  \n",
      " batch_normalization_10 (BatchN  (None, 8, 8, 256)   1024        ['conv2d_10[0][0]']              \n",
      " ormalization)                                                                                    \n",
      "                                                                                                  \n",
      " conv2d_11 (Conv2D)             (None, 8, 8, 256)    65792       ['batch_normalization_10[0][0]'] \n",
      "                                                                                                  \n",
      " batch_normalization_11 (BatchN  (None, 8, 8, 256)   1024        ['conv2d_11[0][0]']              \n",
      " ormalization)                                                                                    \n",
      "                                                                                                  \n",
      " reshape_2 (Reshape)            (None, 8, 8, 256)    0           ['batch_normalization_11[0][0]'] \n",
      "                                                                                                  \n",
      " global_average_pooling2d_1 (Gl  (None, 256)         0           ['reshape_2[0][0]']              \n",
      " obalAveragePooling2D)                                                                            \n",
      "                                                                                                  \n",
      " dense_2 (Dense)                (None, 1)            257         ['global_average_pooling2d_1[0][0\n",
      "                                                                 ]']                              \n",
      "                                                                                                  \n",
      " dense_3 (Dense)                (None, 256)          512         ['dense_2[0][0]']                \n",
      "                                                                                                  \n",
      " multiply_1 (Multiply)          (None, 8, 8, 256)    0           ['reshape_2[0][0]',              \n",
      "                                                                  'dense_3[0][0]']                \n",
      "                                                                                                  \n",
      " conv2d_12 (Conv2D)             (None, 8, 8, 256)    3211520     ['multiply_1[0][0]']             \n",
      "                                                                                                  \n",
      " batch_normalization_12 (BatchN  (None, 8, 8, 256)   1024        ['conv2d_12[0][0]']              \n",
      " ormalization)                                                                                    \n",
      "                                                                                                  \n",
      " conv2d_13 (Conv2D)             (None, 8, 8, 256)    1638656     ['batch_normalization_12[0][0]'] \n",
      "                                                                                                  \n",
      " batch_normalization_13 (BatchN  (None, 8, 8, 256)   1024        ['conv2d_13[0][0]']              \n",
      " ormalization)                                                                                    \n",
      "                                                                                                  \n",
      " conv2d_14 (Conv2D)             (None, 8, 8, 256)    590080      ['batch_normalization_13[0][0]'] \n",
      "                                                                                                  \n",
      " batch_normalization_14 (BatchN  (None, 8, 8, 256)   1024        ['conv2d_14[0][0]']              \n",
      " ormalization)                                                                                    \n",
      "                                                                                                  \n",
      " conv2d_15 (Conv2D)             (None, 8, 8, 256)    65792       ['batch_normalization_14[0][0]'] \n",
      "                                                                                                  \n",
      " batch_normalization_15 (BatchN  (None, 8, 8, 256)   1024        ['conv2d_15[0][0]']              \n",
      " ormalization)                                                                                    \n",
      "                                                                                                  \n",
      " max_pooling2d_1 (MaxPooling2D)  (None, 4, 4, 256)   0           ['batch_normalization_15[0][0]'] \n",
      "                                                                                                  \n",
      " flatten (Flatten)              (None, 4096)         0           ['max_pooling2d_1[0][0]']        \n",
      "                                                                                                  \n",
      " dense_4 (Dense)                (None, 1024)         4195328     ['flatten[0][0]']                \n",
      "                                                                                                  \n",
      " dense_5 (Dense)                (None, 512)          524800      ['dense_4[0][0]']                \n",
      "                                                                                                  \n",
      " dense_6 (Dense)                (None, 7)            3591        ['dense_5[0][0]']                \n",
      "                                                                                                  \n",
      "==================================================================================================\n",
      "Total params: 39,732,233\n",
      "Trainable params: 39,672,969\n",
      "Non-trainable params: 59,264\n",
      "__________________________________________________________________________________________________\n"
     ]
    }
   ],
   "source": [
    "model_rn50_sea.summary()"
   ]
  },
  {
   "cell_type": "code",
   "execution_count": 22,
   "id": "17b89700",
   "metadata": {
    "execution": {
     "iopub.execute_input": "2023-05-19T12:22:01.760294Z",
     "iopub.status.busy": "2023-05-19T12:22:01.759954Z",
     "iopub.status.idle": "2023-05-19T12:22:01.784492Z",
     "shell.execute_reply": "2023-05-19T12:22:01.783548Z"
    },
    "id": "WR0fUpy18vAZ",
    "papermill": {
     "duration": 0.055967,
     "end_time": "2023-05-19T12:22:01.786669",
     "exception": false,
     "start_time": "2023-05-19T12:22:01.730702",
     "status": "completed"
    },
    "tags": []
   },
   "outputs": [],
   "source": [
    "opt1=tf.keras.optimizers.Adam(learning_rate=0.001,epsilon=0.1)\n",
    "model_rn50_sea.compile(optimizer=opt1,\n",
    "             loss='categorical_crossentropy',\n",
    "             metrics=['accuracy'])"
   ]
  },
  {
   "cell_type": "code",
   "execution_count": 23,
   "id": "c747b4dc",
   "metadata": {
    "execution": {
     "iopub.execute_input": "2023-05-19T12:22:01.844218Z",
     "iopub.status.busy": "2023-05-19T12:22:01.843362Z",
     "iopub.status.idle": "2023-05-19T12:22:01.848908Z",
     "shell.execute_reply": "2023-05-19T12:22:01.847966Z"
    },
    "id": "LAf5ha295reS",
    "papermill": {
     "duration": 0.036222,
     "end_time": "2023-05-19T12:22:01.851080",
     "exception": false,
     "start_time": "2023-05-19T12:22:01.814858",
     "status": "completed"
    },
    "tags": []
   },
   "outputs": [],
   "source": [
    "class_weights = {   \n",
    "                    0: 1.0,  # akiec\n",
    "                    1: 1.0,  # bcc\n",
    "                    2: 1.0,  # bkl\n",
    "                    3: 1.0,  # df\n",
    "                    4: 1.0,  # mel\n",
    "                    5: 1.0,  # nv\n",
    "                    6: 1.0  # vasc\n",
    "                }"
   ]
  },
  {
   "cell_type": "code",
   "execution_count": 24,
   "id": "df0a595b",
   "metadata": {
    "execution": {
     "iopub.execute_input": "2023-05-19T12:22:01.908674Z",
     "iopub.status.busy": "2023-05-19T12:22:01.907171Z",
     "iopub.status.idle": "2023-05-19T12:22:01.912733Z",
     "shell.execute_reply": "2023-05-19T12:22:01.911895Z"
    },
    "papermill": {
     "duration": 0.035746,
     "end_time": "2023-05-19T12:22:01.914741",
     "exception": false,
     "start_time": "2023-05-19T12:22:01.878995",
     "status": "completed"
    },
    "tags": []
   },
   "outputs": [],
   "source": [
    "checkpoint = ModelCheckpoint(filepath ='RN50_SEA.hdf5', monitor='val_accuracy', save_best_only=True, save_weights_only=True)\n",
    "Earlystop = EarlyStopping(monitor='val_accuracy', mode='max', patience=25, min_delta=0.01)"
   ]
  },
  {
   "cell_type": "code",
   "execution_count": 25,
   "id": "f87f77af",
   "metadata": {
    "execution": {
     "iopub.execute_input": "2023-05-19T12:22:01.971008Z",
     "iopub.status.busy": "2023-05-19T12:22:01.970703Z",
     "iopub.status.idle": "2023-05-19T19:08:15.876501Z",
     "shell.execute_reply": "2023-05-19T19:08:15.875421Z"
    },
    "id": "NUzTmiZ-8hL3",
    "outputId": "e1825ff2-9f9c-436f-cf2c-9776af8eee62",
    "papermill": {
     "duration": 24373.962358,
     "end_time": "2023-05-19T19:08:15.904789",
     "exception": false,
     "start_time": "2023-05-19T12:22:01.942431",
     "status": "completed"
    },
    "tags": []
   },
   "outputs": [
    {
     "name": "stdout",
     "output_type": "stream",
     "text": [
      "Epoch 1/50\n",
      "3424/3424 - 805s - loss: 1.1340 - accuracy: 0.5697 - val_loss: 0.3700 - val_accuracy: 0.8888 - 805s/epoch - 235ms/step\n",
      "Epoch 2/50\n",
      "3424/3424 - 731s - loss: 0.4737 - accuracy: 0.8276 - val_loss: 0.3599 - val_accuracy: 0.8815 - 731s/epoch - 214ms/step\n",
      "Epoch 3/50\n",
      "3424/3424 - 730s - loss: 0.2830 - accuracy: 0.8976 - val_loss: 0.5039 - val_accuracy: 0.8585 - 730s/epoch - 213ms/step\n",
      "Epoch 4/50\n",
      "3424/3424 - 731s - loss: 0.1900 - accuracy: 0.9313 - val_loss: 0.4453 - val_accuracy: 0.8779 - 731s/epoch - 213ms/step\n",
      "Epoch 5/50\n",
      "3424/3424 - 729s - loss: 0.1363 - accuracy: 0.9509 - val_loss: 0.4442 - val_accuracy: 0.8815 - 729s/epoch - 213ms/step\n",
      "Epoch 6/50\n",
      "3424/3424 - 730s - loss: 0.1042 - accuracy: 0.9631 - val_loss: 0.4505 - val_accuracy: 0.8888 - 730s/epoch - 213ms/step\n",
      "Epoch 7/50\n",
      "3424/3424 - 731s - loss: 0.0761 - accuracy: 0.9731 - val_loss: 0.4849 - val_accuracy: 0.8924 - 731s/epoch - 213ms/step\n",
      "Epoch 8/50\n",
      "3424/3424 - 731s - loss: 0.0590 - accuracy: 0.9790 - val_loss: 0.5091 - val_accuracy: 0.9045 - 731s/epoch - 213ms/step\n",
      "Epoch 9/50\n",
      "3424/3424 - 733s - loss: 0.0510 - accuracy: 0.9830 - val_loss: 0.5065 - val_accuracy: 0.8791 - 733s/epoch - 214ms/step\n",
      "Epoch 10/50\n",
      "3424/3424 - 733s - loss: 0.0381 - accuracy: 0.9872 - val_loss: 0.4848 - val_accuracy: 0.9081 - 733s/epoch - 214ms/step\n",
      "Epoch 11/50\n",
      "3424/3424 - 729s - loss: 0.0333 - accuracy: 0.9889 - val_loss: 0.4983 - val_accuracy: 0.9057 - 729s/epoch - 213ms/step\n",
      "Epoch 12/50\n",
      "3424/3424 - 729s - loss: 0.0273 - accuracy: 0.9911 - val_loss: 0.4980 - val_accuracy: 0.9033 - 729s/epoch - 213ms/step\n",
      "Epoch 13/50\n",
      "3424/3424 - 729s - loss: 0.0283 - accuracy: 0.9904 - val_loss: 0.4465 - val_accuracy: 0.8984 - 729s/epoch - 213ms/step\n",
      "Epoch 14/50\n",
      "3424/3424 - 730s - loss: 0.0240 - accuracy: 0.9922 - val_loss: 0.5349 - val_accuracy: 0.8936 - 730s/epoch - 213ms/step\n",
      "Epoch 15/50\n",
      "3424/3424 - 729s - loss: 0.0199 - accuracy: 0.9929 - val_loss: 0.5371 - val_accuracy: 0.8996 - 729s/epoch - 213ms/step\n",
      "Epoch 16/50\n",
      "3424/3424 - 728s - loss: 0.0214 - accuracy: 0.9928 - val_loss: 0.6509 - val_accuracy: 0.8851 - 728s/epoch - 213ms/step\n",
      "Epoch 17/50\n",
      "3424/3424 - 729s - loss: 0.0197 - accuracy: 0.9936 - val_loss: 0.5770 - val_accuracy: 0.9045 - 729s/epoch - 213ms/step\n",
      "Epoch 18/50\n",
      "3424/3424 - 730s - loss: 0.0174 - accuracy: 0.9943 - val_loss: 0.5162 - val_accuracy: 0.9093 - 730s/epoch - 213ms/step\n",
      "Epoch 19/50\n",
      "3424/3424 - 729s - loss: 0.0153 - accuracy: 0.9950 - val_loss: 0.5924 - val_accuracy: 0.9008 - 729s/epoch - 213ms/step\n",
      "Epoch 20/50\n",
      "3424/3424 - 729s - loss: 0.0148 - accuracy: 0.9955 - val_loss: 0.5298 - val_accuracy: 0.9081 - 729s/epoch - 213ms/step\n",
      "Epoch 21/50\n",
      "3424/3424 - 728s - loss: 0.0116 - accuracy: 0.9959 - val_loss: 0.5604 - val_accuracy: 0.9033 - 728s/epoch - 213ms/step\n",
      "Epoch 22/50\n",
      "3424/3424 - 728s - loss: 0.0097 - accuracy: 0.9969 - val_loss: 0.5026 - val_accuracy: 0.9093 - 728s/epoch - 213ms/step\n",
      "Epoch 23/50\n",
      "3424/3424 - 729s - loss: 0.0118 - accuracy: 0.9962 - val_loss: 0.5529 - val_accuracy: 0.8984 - 729s/epoch - 213ms/step\n",
      "Epoch 24/50\n",
      "3424/3424 - 730s - loss: 0.0113 - accuracy: 0.9966 - val_loss: 0.6347 - val_accuracy: 0.9069 - 730s/epoch - 213ms/step\n",
      "Epoch 25/50\n",
      "3424/3424 - 730s - loss: 0.0084 - accuracy: 0.9972 - val_loss: 0.6082 - val_accuracy: 0.9057 - 730s/epoch - 213ms/step\n",
      "Epoch 26/50\n",
      "3424/3424 - 729s - loss: 0.0117 - accuracy: 0.9962 - val_loss: 0.6697 - val_accuracy: 0.9033 - 729s/epoch - 213ms/step\n",
      "Epoch 27/50\n",
      "3424/3424 - 729s - loss: 0.0077 - accuracy: 0.9977 - val_loss: 0.5898 - val_accuracy: 0.9033 - 729s/epoch - 213ms/step\n",
      "Epoch 28/50\n",
      "3424/3424 - 729s - loss: 0.0094 - accuracy: 0.9971 - val_loss: 0.7570 - val_accuracy: 0.8888 - 729s/epoch - 213ms/step\n",
      "Epoch 29/50\n",
      "3424/3424 - 729s - loss: 0.0086 - accuracy: 0.9973 - val_loss: 0.5712 - val_accuracy: 0.8960 - 729s/epoch - 213ms/step\n",
      "Epoch 30/50\n",
      "3424/3424 - 729s - loss: 0.0073 - accuracy: 0.9978 - val_loss: 0.6153 - val_accuracy: 0.8996 - 729s/epoch - 213ms/step\n",
      "Epoch 31/50\n",
      "3424/3424 - 728s - loss: 0.0060 - accuracy: 0.9982 - val_loss: 0.6265 - val_accuracy: 0.8924 - 728s/epoch - 213ms/step\n",
      "Epoch 32/50\n",
      "3424/3424 - 728s - loss: 0.0071 - accuracy: 0.9977 - val_loss: 0.6934 - val_accuracy: 0.8936 - 728s/epoch - 213ms/step\n",
      "Epoch 33/50\n",
      "3424/3424 - 729s - loss: 0.0067 - accuracy: 0.9980 - val_loss: 0.6083 - val_accuracy: 0.8960 - 729s/epoch - 213ms/step\n"
     ]
    }
   ],
   "source": [
    "history = model_rn50_sea.fit(train_batches,\n",
    "                         epochs=50,\n",
    "                         verbose=2,\n",
    "                         validation_data=val_batches,\n",
    "                         callbacks=[checkpoint,Earlystop],\n",
    "                         class_weight=class_weights)"
   ]
  },
  {
   "cell_type": "markdown",
   "id": "a590ad85",
   "metadata": {
    "papermill": {
     "duration": 0.031059,
     "end_time": "2023-05-19T19:08:15.967367",
     "exception": false,
     "start_time": "2023-05-19T19:08:15.936308",
     "status": "completed"
    },
    "tags": []
   },
   "source": [
    "### Plotting accuracy and loss"
   ]
  },
  {
   "cell_type": "code",
   "execution_count": 26,
   "id": "a4770c65",
   "metadata": {
    "execution": {
     "iopub.execute_input": "2023-05-19T19:08:16.031702Z",
     "iopub.status.busy": "2023-05-19T19:08:16.031119Z",
     "iopub.status.idle": "2023-05-19T19:08:29.682742Z",
     "shell.execute_reply": "2023-05-19T19:08:29.681766Z"
    },
    "papermill": {
     "duration": 13.686315,
     "end_time": "2023-05-19T19:08:29.685030",
     "exception": false,
     "start_time": "2023-05-19T19:08:15.998715",
     "status": "completed"
    },
    "tags": []
   },
   "outputs": [
    {
     "name": "stdout",
     "output_type": "stream",
     "text": [
      "Number of epochs trained: 33\n"
     ]
    },
    {
     "data": {
      "image/png": "[encoded data removed]",
      "text/plain": [
       "<Figure size 1500x500 with 2 Axes>"
      ]
     },
     "metadata": {},
     "output_type": "display_data"
    }
   ],
   "source": [
    "# Determine number of epochs trained\n",
    "num_epochs_trained = len(history.history['val_loss'])\n",
    "print(f\"Number of epochs trained: {num_epochs_trained}\")\n",
    "\n",
    "## History plotting\n",
    "epochs = [i for i in range(num_epochs_trained)]\n",
    "fig , ax = plt.subplots(1,2)\n",
    "train_acc = history.history['accuracy']\n",
    "train_loss = history.history['loss']\n",
    "val_acc = history.history['val_accuracy']\n",
    "val_loss = history.history['val_loss']\n",
    "fig.set_size_inches(15,5)\n",
    "\n",
    "ax[0].plot(epochs , train_acc , 'go-' , label = 'Training Accuracy')\n",
    "ax[0].plot(epochs , val_acc , 'ro-' , label = 'Validation Accuracy')\n",
    "title_font = {'fontname':'Times New Roman', 'size':'14', 'color':'black', 'weight':'normal'}\n",
    "ax[0].set_title('Model Accuracy', fontdict=title_font)\n",
    "legend_font = {'family': 'Times New Roman', 'size': '12', 'weight': 'normal'}\n",
    "ax[0].legend(prop=legend_font)\n",
    "label_font = {'fontname':'Times New Roman', 'size':'12', 'color':'black', 'weight':'normal'}\n",
    "ax[0].set_xlabel(\"Epochs\",  fontdict=label_font)\n",
    "ax[0].set_ylabel(\"Accuracy\",  fontdict=label_font)\n",
    "\n",
    "ax[1].plot(epochs , train_loss , 'g-o' , label = 'Training Loss')\n",
    "ax[1].plot(epochs , val_loss , 'r-o' , label = 'Validation Loss')\n",
    "ax[1].set_title('Model Loss', fontdict=title_font)\n",
    "ax[1].legend(prop=legend_font)\n",
    "ax[1].set_xlabel(\"Epochs\", fontdict=label_font)\n",
    "ax[1].set_ylabel(\"Loss\", fontdict=label_font)\n",
    "plt.show()"
   ]
  },
  {
   "cell_type": "code",
   "execution_count": 27,
   "id": "6a812b42",
   "metadata": {
    "execution": {
     "iopub.execute_input": "2023-05-19T19:08:29.751705Z",
     "iopub.status.busy": "2023-05-19T19:08:29.751430Z",
     "iopub.status.idle": "2023-05-19T19:08:30.237739Z",
     "shell.execute_reply": "2023-05-19T19:08:30.236740Z"
    },
    "id": "zm_AewFBXTj8",
    "papermill": {
     "duration": 0.521982,
     "end_time": "2023-05-19T19:08:30.240216",
     "exception": false,
     "start_time": "2023-05-19T19:08:29.718234",
     "status": "completed"
    },
    "tags": []
   },
   "outputs": [],
   "source": [
    "from tensorflow.keras import models\n",
    "model_rn50_sea.load_weights(\"RN50_SEA.hdf5\")"
   ]
  },
  {
   "cell_type": "code",
   "execution_count": 28,
   "id": "843d6f78",
   "metadata": {
    "execution": {
     "iopub.execute_input": "2023-05-19T19:08:30.308505Z",
     "iopub.status.busy": "2023-05-19T19:08:30.307705Z",
     "iopub.status.idle": "2023-05-19T19:08:48.238699Z",
     "shell.execute_reply": "2023-05-19T19:08:48.237603Z"
    },
    "papermill": {
     "duration": 17.966743,
     "end_time": "2023-05-19T19:08:48.241192",
     "exception": false,
     "start_time": "2023-05-19T19:08:30.274449",
     "status": "completed"
    },
    "tags": []
   },
   "outputs": [
    {
     "name": "stdout",
     "output_type": "stream",
     "text": [
      "52/52 [==============================] - 17s 314ms/step\n"
     ]
    }
   ],
   "source": [
    "predictions = model_rn50_sea.predict(test_batches)"
   ]
  },
  {
   "cell_type": "code",
   "execution_count": 29,
   "id": "bc1aed13",
   "metadata": {
    "execution": {
     "iopub.execute_input": "2023-05-19T19:08:48.394785Z",
     "iopub.status.busy": "2023-05-19T19:08:48.394435Z",
     "iopub.status.idle": "2023-05-19T19:08:48.399930Z",
     "shell.execute_reply": "2023-05-19T19:08:48.398900Z"
    },
    "id": "FDTMtBeTdBfU",
    "papermill": {
     "duration": 0.04677,
     "end_time": "2023-05-19T19:08:48.402032",
     "exception": false,
     "start_time": "2023-05-19T19:08:48.355262",
     "status": "completed"
    },
    "tags": []
   },
   "outputs": [],
   "source": [
    "#geting predictions on test dataset\n",
    "y_pred = np.argmax(predictions, axis=1)\n",
    "#getting the true labels per image \n",
    "y_true = test_batches.classes\n",
    "#getting the predicted labels per image \n",
    "y_prob = predictions"
   ]
  },
  {
   "cell_type": "code",
   "execution_count": 30,
   "id": "107a168a",
   "metadata": {
    "execution": {
     "iopub.execute_input": "2023-05-19T19:08:48.477853Z",
     "iopub.status.busy": "2023-05-19T19:08:48.477531Z",
     "iopub.status.idle": "2023-05-19T19:08:48.494804Z",
     "shell.execute_reply": "2023-05-19T19:08:48.493869Z"
    },
    "papermill": {
     "duration": 0.05707,
     "end_time": "2023-05-19T19:08:48.496710",
     "exception": false,
     "start_time": "2023-05-19T19:08:48.439640",
     "status": "completed"
    },
    "tags": []
   },
   "outputs": [
    {
     "name": "stdout",
     "output_type": "stream",
     "text": [
      "\n",
      "Classification Report:\n",
      "              precision    recall  f1-score   support\n",
      "\n",
      "          AK       0.71      0.45      0.56        22\n",
      "         BCC       0.81      0.81      0.81        27\n",
      "         BKL       0.71      0.62      0.66        66\n",
      "          DF       0.55      1.00      0.71         6\n",
      "         MEL       0.63      0.34      0.44        35\n",
      "          NV       0.94      0.98      0.96       663\n",
      "        VASC       0.73      0.89      0.80         9\n",
      "\n",
      "    accuracy                           0.90       828\n",
      "   macro avg       0.73      0.73      0.71       828\n",
      "weighted avg       0.89      0.90      0.89       828\n",
      "\n"
     ]
    }
   ],
   "source": [
    "classnames = ['AK', 'BCC', 'BKL', 'DF', 'MEL', 'NV', 'VASC']\n",
    "\n",
    "from tensorflow.keras.utils import to_categorical\n",
    "y_test = to_categorical(y_true)\n",
    "\n",
    "report = classification_report(y_true, y_pred, target_names=classnames)\n",
    "\n",
    "print(\"\\nClassification Report:\")\n",
    "print(report)"
   ]
  },
  {
   "cell_type": "code",
   "execution_count": 31,
   "id": "08fedb00",
   "metadata": {
    "execution": {
     "iopub.execute_input": "2023-05-19T19:08:48.572043Z",
     "iopub.status.busy": "2023-05-19T19:08:48.571204Z",
     "iopub.status.idle": "2023-05-19T19:08:49.388611Z",
     "shell.execute_reply": "2023-05-19T19:08:49.387615Z"
    },
    "papermill": {
     "duration": 0.857018,
     "end_time": "2023-05-19T19:08:49.390877",
     "exception": false,
     "start_time": "2023-05-19T19:08:48.533859",
     "status": "completed"
    },
    "tags": []
   },
   "outputs": [
    {
     "data": {
      "image/png": "[encoded data removed]",
      "text/plain": [
       "<Figure size 1000x400 with 2 Axes>"
      ]
     },
     "metadata": {},
     "output_type": "display_data"
    }
   ],
   "source": [
    "## Confusion Matrix\n",
    "title_font = {'fontname':'Times New Roman', 'size':'14', 'color':'black', 'weight':'normal'}\n",
    "label_font = {'fontname':'Times New Roman', 'size':'12', 'color':'black', 'weight':'normal'}\n",
    "\n",
    "from sklearn.metrics import confusion_matrix\n",
    "import seaborn as sns\n",
    "# Creating confusion matrix \n",
    "cm = confusion_matrix(y_true, y_pred)\n",
    "# Plotting the confusion matrix\n",
    "plt.figure(figsize=(10,4))\n",
    "sns.heatmap(cm, annot=True, fmt='g', cmap='Blues', xticklabels=targetnames, yticklabels=targetnames)\n",
    "plt.xlabel('Predicted Label', fontdict=label_font)\n",
    "plt.ylabel('True Label', fontdict=label_font)\n",
    "plt.title('Confusion Matrix', fontdict=title_font)\n",
    "plt.show()"
   ]
  },
  {
   "cell_type": "markdown",
   "id": "943ec1d1",
   "metadata": {
    "papermill": {
     "duration": 0.036858,
     "end_time": "2023-05-19T19:08:49.465619",
     "exception": false,
     "start_time": "2023-05-19T19:08:49.428761",
     "status": "completed"
    },
    "tags": []
   },
   "source": [
    "## Results"
   ]
  },
  {
   "cell_type": "markdown",
   "id": "d491b417",
   "metadata": {
    "papermill": {
     "duration": 0.036722,
     "end_time": "2023-05-19T19:08:49.539431",
     "exception": false,
     "start_time": "2023-05-19T19:08:49.502709",
     "status": "completed"
    },
    "tags": []
   },
   "source": [
    "### Individual Class Accuracy "
   ]
  },
  {
   "cell_type": "code",
   "execution_count": 32,
   "id": "05364262",
   "metadata": {
    "execution": {
     "iopub.execute_input": "2023-05-19T19:08:49.614964Z",
     "iopub.status.busy": "2023-05-19T19:08:49.614639Z",
     "iopub.status.idle": "2023-05-19T19:08:49.622861Z",
     "shell.execute_reply": "2023-05-19T19:08:49.621807Z"
    },
    "papermill": {
     "duration": 0.049614,
     "end_time": "2023-05-19T19:08:49.625933",
     "exception": false,
     "start_time": "2023-05-19T19:08:49.576319",
     "status": "completed"
    },
    "tags": []
   },
   "outputs": [
    {
     "name": "stdout",
     "output_type": "stream",
     "text": [
      "Overall accuracy: 90.10%\n",
      "Accuracy for each class:\n",
      "Class 0: 45.45%\n",
      "Class 1: 81.48%\n",
      "Class 2: 62.12%\n",
      "Class 3: 100.00%\n",
      "Class 4: 34.29%\n",
      "Class 5: 97.59%\n",
      "Class 6: 88.89%\n"
     ]
    }
   ],
   "source": [
    "# y_true are the true labels of the test set\n",
    "# y_pred are the predicted labels of the test set\n",
    "accuracy = accuracy_score(y_true, y_pred)\n",
    "# Calculate accuracy for each class\n",
    "class_accuracy = cm.diagonal()/cm.sum(axis=1)\n",
    "print(\"Overall accuracy: {:.2f}%\".format(accuracy*100))\n",
    "print(\"Accuracy for each class:\")\n",
    "for i, acc in enumerate(class_accuracy):\n",
    "    print(\"Class {}: {:.2f}%\".format(i, acc*100))"
   ]
  },
  {
   "cell_type": "markdown",
   "id": "e0265cd3",
   "metadata": {
    "papermill": {
     "duration": 0.037187,
     "end_time": "2023-05-19T19:08:49.700940",
     "exception": false,
     "start_time": "2023-05-19T19:08:49.663753",
     "status": "completed"
    },
    "tags": []
   },
   "source": [
    "### Individual Class Weighted Precision"
   ]
  },
  {
   "cell_type": "code",
   "execution_count": 33,
   "id": "fb7709e1",
   "metadata": {
    "execution": {
     "iopub.execute_input": "2023-05-19T19:08:49.777301Z",
     "iopub.status.busy": "2023-05-19T19:08:49.777002Z",
     "iopub.status.idle": "2023-05-19T19:08:49.792690Z",
     "shell.execute_reply": "2023-05-19T19:08:49.791623Z"
    },
    "papermill": {
     "duration": 0.057011,
     "end_time": "2023-05-19T19:08:49.795177",
     "exception": false,
     "start_time": "2023-05-19T19:08:49.738166",
     "status": "completed"
    },
    "tags": []
   },
   "outputs": [
    {
     "name": "stdout",
     "output_type": "stream",
     "text": [
      "Weighted precision for each class:\n",
      "Class 0: 71.43%\n",
      "Class 1: 81.48%\n",
      "Class 2: 70.69%\n",
      "Class 3: 54.55%\n",
      "Class 4: 63.16%\n",
      "Class 5: 94.04%\n",
      "Class 6: 72.73%\n",
      "Weighted precision: 89.35%\n"
     ]
    }
   ],
   "source": [
    "report = classification_report(y_true, y_pred, output_dict=True)\n",
    "# Extract weighted precision for each class\n",
    "class_precision = {}\n",
    "for class_label in report.keys():\n",
    "    if class_label == 'weighted avg':\n",
    "        class_precision['weighted'] = report[class_label]['precision']\n",
    "    elif class_label.isdigit():\n",
    "        class_precision[int(class_label)] = report[class_label]['precision']\n",
    "print(\"Weighted precision for each class:\")\n",
    "for i, precision in class_precision.items():\n",
    "    if i == 'weighted':\n",
    "        print(\"Weighted precision: {:.2f}%\".format(precision*100))\n",
    "    else:\n",
    "        print(\"Class {}: {:.2f}%\".format(i, precision*100))"
   ]
  },
  {
   "cell_type": "markdown",
   "id": "067a75d8",
   "metadata": {
    "papermill": {
     "duration": 0.037149,
     "end_time": "2023-05-19T19:08:49.870337",
     "exception": false,
     "start_time": "2023-05-19T19:08:49.833188",
     "status": "completed"
    },
    "tags": []
   },
   "source": [
    "### Individual Class Weighted Recall"
   ]
  },
  {
   "cell_type": "code",
   "execution_count": 34,
   "id": "f6b2dfc7",
   "metadata": {
    "execution": {
     "iopub.execute_input": "2023-05-19T19:08:49.946379Z",
     "iopub.status.busy": "2023-05-19T19:08:49.945637Z",
     "iopub.status.idle": "2023-05-19T19:08:49.961859Z",
     "shell.execute_reply": "2023-05-19T19:08:49.960931Z"
    },
    "papermill": {
     "duration": 0.056222,
     "end_time": "2023-05-19T19:08:49.963745",
     "exception": false,
     "start_time": "2023-05-19T19:08:49.907523",
     "status": "completed"
    },
    "tags": []
   },
   "outputs": [
    {
     "name": "stdout",
     "output_type": "stream",
     "text": [
      "Weighted recall for each class:\n",
      "Class 0: 45.45%\n",
      "Class 1: 81.48%\n",
      "Class 2: 62.12%\n",
      "Class 3: 100.00%\n",
      "Class 4: 34.29%\n",
      "Class 5: 97.59%\n",
      "Class 6: 88.89%\n",
      "Weighted Recall: 90.10%\n"
     ]
    }
   ],
   "source": [
    "report = classification_report(y_true, y_pred, output_dict=True)\n",
    "# Extract weighted recall for each class\n",
    "class_recall = {}\n",
    "for class_label in report.keys():\n",
    "    if class_label == 'weighted avg':\n",
    "        class_recall['weighted'] = report[class_label]['recall']\n",
    "    elif class_label.isdigit():\n",
    "        class_recall[int(class_label)] = report[class_label]['recall']\n",
    "print(\"Weighted recall for each class:\")\n",
    "for i, recall in class_recall.items():\n",
    "    if i == 'weighted':\n",
    "        print(\"Weighted Recall: {:.2f}%\".format(recall*100))\n",
    "    else:\n",
    "        print(\"Class {}: {:.2f}%\".format(i, recall*100))"
   ]
  },
  {
   "cell_type": "markdown",
   "id": "64a1dc55",
   "metadata": {
    "papermill": {
     "duration": 0.03733,
     "end_time": "2023-05-19T19:08:50.040110",
     "exception": false,
     "start_time": "2023-05-19T19:08:50.002780",
     "status": "completed"
    },
    "tags": []
   },
   "source": [
    "### Individual Class Weighted F1-score"
   ]
  },
  {
   "cell_type": "code",
   "execution_count": 35,
   "id": "6ee53afc",
   "metadata": {
    "execution": {
     "iopub.execute_input": "2023-05-19T19:08:50.116910Z",
     "iopub.status.busy": "2023-05-19T19:08:50.116584Z",
     "iopub.status.idle": "2023-05-19T19:08:50.133544Z",
     "shell.execute_reply": "2023-05-19T19:08:50.132390Z"
    },
    "papermill": {
     "duration": 0.057769,
     "end_time": "2023-05-19T19:08:50.135592",
     "exception": false,
     "start_time": "2023-05-19T19:08:50.077823",
     "status": "completed"
    },
    "tags": []
   },
   "outputs": [
    {
     "name": "stdout",
     "output_type": "stream",
     "text": [
      "Weighted F1-score for each class:\n",
      "Class 0: 55.56%\n",
      "Class 1: 81.48%\n",
      "Class 2: 66.13%\n",
      "Class 3: 70.59%\n",
      "Class 4: 44.44%\n",
      "Class 5: 95.78%\n",
      "Class 6: 80.00%\n",
      "Weighted F1-score: 89.36%\n"
     ]
    }
   ],
   "source": [
    "report = classification_report(y_true, y_pred, output_dict=True)\n",
    "# Extract weighted F1-score for each class\n",
    "class_f1 = {}\n",
    "for class_label in report.keys():\n",
    "    if class_label == 'weighted avg':\n",
    "        class_f1['weighted'] = report[class_label]['f1-score']\n",
    "    elif class_label.isdigit():\n",
    "        class_f1[int(class_label)] = report[class_label]['f1-score']\n",
    "print(\"Weighted F1-score for each class:\")\n",
    "for i, f1_score in class_f1.items():\n",
    "    if i == 'weighted':\n",
    "        print(\"Weighted F1-score: {:.2f}%\".format(f1_score*100))\n",
    "    else:\n",
    "        print(\"Class {}: {:.2f}%\".format(i, f1_score*100))"
   ]
  },
  {
   "cell_type": "markdown",
   "id": "7c55ea95",
   "metadata": {
    "papermill": {
     "duration": 0.037798,
     "end_time": "2023-05-19T19:08:50.212306",
     "exception": false,
     "start_time": "2023-05-19T19:08:50.174508",
     "status": "completed"
    },
    "tags": []
   },
   "source": [
    "### Individual Class Precision, Recall and F1-score"
   ]
  },
  {
   "cell_type": "code",
   "execution_count": 36,
   "id": "7dade730",
   "metadata": {
    "execution": {
     "iopub.execute_input": "2023-05-19T19:08:50.288390Z",
     "iopub.status.busy": "2023-05-19T19:08:50.288039Z",
     "iopub.status.idle": "2023-05-19T19:08:50.297229Z",
     "shell.execute_reply": "2023-05-19T19:08:50.296088Z"
    },
    "papermill": {
     "duration": 0.049977,
     "end_time": "2023-05-19T19:08:50.299546",
     "exception": false,
     "start_time": "2023-05-19T19:08:50.249569",
     "status": "completed"
    },
    "tags": []
   },
   "outputs": [
    {
     "name": "stdout",
     "output_type": "stream",
     "text": [
      "Class-wise weighted precision, recall, and F1-score:\n",
      "Class 0: Precision=0.71, Recall=0.45, F1-score=0.56\n",
      "Class 1: Precision=0.81, Recall=0.81, F1-score=0.81\n",
      "Class 2: Precision=0.71, Recall=0.62, F1-score=0.66\n",
      "Class 3: Precision=0.55, Recall=1.00, F1-score=0.71\n",
      "Class 4: Precision=0.63, Recall=0.34, F1-score=0.44\n",
      "Class 5: Precision=0.94, Recall=0.98, F1-score=0.96\n",
      "Class 6: Precision=0.73, Recall=0.89, F1-score=0.80\n"
     ]
    }
   ],
   "source": [
    "from sklearn.metrics import precision_recall_fscore_support\n",
    "\n",
    "precision_class, recall_class, f1_class, support_class = precision_recall_fscore_support(y_true, y_pred, average=None)\n",
    "print('Class-wise weighted precision, recall, and F1-score:')\n",
    "for i in range(len(precision_class)):\n",
    "    print('Class {}: Precision={:.2f}, Recall={:.2f}, F1-score={:.2f}'.format(i, precision_class[i], recall_class[i], f1_class[i]))\n"
   ]
  },
  {
   "cell_type": "markdown",
   "id": "345845a7",
   "metadata": {
    "papermill": {
     "duration": 0.037291,
     "end_time": "2023-05-19T19:08:50.376777",
     "exception": false,
     "start_time": "2023-05-19T19:08:50.339486",
     "status": "completed"
    },
    "tags": []
   },
   "source": [
    "### Individual Class Weighted Sensitivity"
   ]
  },
  {
   "cell_type": "code",
   "execution_count": 37,
   "id": "1a4ad19c",
   "metadata": {
    "execution": {
     "iopub.execute_input": "2023-05-19T19:08:50.453935Z",
     "iopub.status.busy": "2023-05-19T19:08:50.453056Z",
     "iopub.status.idle": "2023-05-19T19:08:51.349343Z",
     "shell.execute_reply": "2023-05-19T19:08:51.347916Z"
    },
    "papermill": {
     "duration": 0.937418,
     "end_time": "2023-05-19T19:08:51.351883",
     "exception": false,
     "start_time": "2023-05-19T19:08:50.414465",
     "status": "completed"
    },
    "tags": []
   },
   "outputs": [
    {
     "name": "stdout",
     "output_type": "stream",
     "text": [
      "Weighted Sensitivity:  0.9009661835748792\n",
      "Class  0 :sensitivity = 0.45454545454545453\n",
      "Class  1 :sensitivity = 0.8148148148148148\n",
      "Class  2 :sensitivity = 0.6212121212121212\n",
      "Class  3 :sensitivity = 1.0\n",
      "Class  4 :sensitivity = 0.34285714285714286\n",
      "Class  5 :sensitivity = 0.975867269984917\n",
      "Class  6 :sensitivity = 0.8888888888888888\n"
     ]
    }
   ],
   "source": [
    "from imblearn.metrics import sensitivity_score\n",
    "\n",
    "sensitivity = sensitivity_score(y_true, y_pred, average='weighted')\n",
    "print(\"Weighted Sensitivity: \", sensitivity)\n",
    "\n",
    "# Calculate class-wise sensitivity\n",
    "sensitivity = sensitivity_score(y_true, y_pred, average=None)\n",
    "\n",
    "# Print sensitivity score for each class\n",
    "for i in range(len(sensitivity)):\n",
    "    print(\"Class \", i, \":sensitivity =\", sensitivity[i])"
   ]
  },
  {
   "cell_type": "markdown",
   "id": "32a7f65d",
   "metadata": {
    "papermill": {
     "duration": 0.037401,
     "end_time": "2023-05-19T19:08:51.428801",
     "exception": false,
     "start_time": "2023-05-19T19:08:51.391400",
     "status": "completed"
    },
    "tags": []
   },
   "source": [
    "### Individual Class Weighted Specificity"
   ]
  },
  {
   "cell_type": "code",
   "execution_count": 38,
   "id": "a265048e",
   "metadata": {
    "execution": {
     "iopub.execute_input": "2023-05-19T19:08:51.506619Z",
     "iopub.status.busy": "2023-05-19T19:08:51.505680Z",
     "iopub.status.idle": "2023-05-19T19:08:51.517465Z",
     "shell.execute_reply": "2023-05-19T19:08:51.516597Z"
    },
    "papermill": {
     "duration": 0.053226,
     "end_time": "2023-05-19T19:08:51.519859",
     "exception": false,
     "start_time": "2023-05-19T19:08:51.466633",
     "status": "completed"
    },
    "tags": []
   },
   "outputs": [
    {
     "name": "stdout",
     "output_type": "stream",
     "text": [
      "Weighted Specificity:  0.7984613131851563\n",
      "Class  0 :specificity= 0.9950372208436724\n",
      "Class  1 :specificity= 0.9937578027465668\n",
      "Class  2 :specificity= 0.9776902887139107\n",
      "Class  3 :specificity= 0.9939172749391727\n",
      "Class  4 :specificity= 0.9911727616645649\n",
      "Class  5 :specificity= 0.7515151515151515\n",
      "Class  6 :specificity= 0.9963369963369964\n"
     ]
    }
   ],
   "source": [
    "from imblearn.metrics import specificity_score\n",
    "\n",
    "specificity = specificity_score(y_true, y_pred, average='weighted')\n",
    "print(\"Weighted Specificity: \", specificity)\n",
    "\n",
    "# Calculate class-wise specificity\n",
    "specificity = specificity_score(y_true, y_pred, average=None)\n",
    "\n",
    "# Print sensitivity score for each class\n",
    "for i in range(len(specificity)):\n",
    "    print(\"Class \", i, \":specificity=\", specificity[i])"
   ]
  },
  {
   "cell_type": "markdown",
   "id": "45c090bf",
   "metadata": {
    "papermill": {
     "duration": 0.037285,
     "end_time": "2023-05-19T19:08:51.596632",
     "exception": false,
     "start_time": "2023-05-19T19:08:51.559347",
     "status": "completed"
    },
    "tags": []
   },
   "source": [
    "### Accuracy"
   ]
  },
  {
   "cell_type": "code",
   "execution_count": 39,
   "id": "6bc17c0e",
   "metadata": {
    "execution": {
     "iopub.execute_input": "2023-05-19T19:08:51.673559Z",
     "iopub.status.busy": "2023-05-19T19:08:51.673236Z",
     "iopub.status.idle": "2023-05-19T19:08:51.680450Z",
     "shell.execute_reply": "2023-05-19T19:08:51.679513Z"
    },
    "papermill": {
     "duration": 0.048333,
     "end_time": "2023-05-19T19:08:51.682597",
     "exception": false,
     "start_time": "2023-05-19T19:08:51.634264",
     "status": "completed"
    },
    "tags": []
   },
   "outputs": [
    {
     "name": "stdout",
     "output_type": "stream",
     "text": [
      "Accuracy: 0.9009661835748792\n"
     ]
    }
   ],
   "source": [
    "print(\"Accuracy: \" + str(accuracy_score(y_true, y_pred)))\n",
    "import numpy as np\n",
    "from sklearn.metrics import accuracy_score"
   ]
  },
  {
   "cell_type": "code",
   "execution_count": 40,
   "id": "c7f7bbd3",
   "metadata": {
    "execution": {
     "iopub.execute_input": "2023-05-19T19:08:51.763948Z",
     "iopub.status.busy": "2023-05-19T19:08:51.762743Z",
     "iopub.status.idle": "2023-05-19T19:08:51.784651Z",
     "shell.execute_reply": "2023-05-19T19:08:51.783536Z"
    },
    "papermill": {
     "duration": 0.064863,
     "end_time": "2023-05-19T19:08:51.786730",
     "exception": false,
     "start_time": "2023-05-19T19:08:51.721867",
     "status": "completed"
    },
    "tags": []
   },
   "outputs": [
    {
     "name": "stdout",
     "output_type": "stream",
     "text": [
      "Top-1 Accuracy: 0.9009661835748792\n",
      "Top-2 Accuracy: 0.9625603864734299\n",
      "Top-3 Accuracy: 0.9879227053140096\n"
     ]
    }
   ],
   "source": [
    "# Calculate top-1 accuracy\n",
    "top1_acc = accuracy_score(y_true, y_pred)\n",
    "print(\"Top-1 Accuracy:\", top1_acc)\n",
    "\n",
    "# Calculate top-2 accuracy\n",
    "y_pred_top2 = np.argsort(-predictions, axis=1)[:, :2] # Get the top 2 predicted classes\n",
    "top2_acc = np.mean(np.array([y_true[i] in y_pred_top2[i] for i in range(len(y_true))]))\n",
    "print(\"Top-2 Accuracy:\", top2_acc)\n",
    "\n",
    "# Calculate top-3 accuracy\n",
    "y_pred_top3 = np.argsort(-predictions, axis=1)[:, :3] # Get the top 3 predicted classes\n",
    "top3_acc = np.mean(np.array([y_true[i] in y_pred_top3[i] for i in range(len(y_true))]))\n",
    "print(\"Top-3 Accuracy:\", top3_acc)\n",
    "from sklearn.metrics import f1_score"
   ]
  },
  {
   "cell_type": "markdown",
   "id": "16e0d003",
   "metadata": {
    "papermill": {
     "duration": 0.043028,
     "end_time": "2023-05-19T19:08:51.871676",
     "exception": false,
     "start_time": "2023-05-19T19:08:51.828648",
     "status": "completed"
    },
    "tags": []
   },
   "source": [
    "### Weighted Evaluation Measures"
   ]
  },
  {
   "cell_type": "code",
   "execution_count": 41,
   "id": "95e3bedd",
   "metadata": {
    "execution": {
     "iopub.execute_input": "2023-05-19T19:08:51.950208Z",
     "iopub.status.busy": "2023-05-19T19:08:51.949897Z",
     "iopub.status.idle": "2023-05-19T19:08:51.984467Z",
     "shell.execute_reply": "2023-05-19T19:08:51.983383Z"
    },
    "papermill": {
     "duration": 0.075546,
     "end_time": "2023-05-19T19:08:51.986494",
     "exception": false,
     "start_time": "2023-05-19T19:08:51.910948",
     "status": "completed"
    },
    "tags": []
   },
   "outputs": [
    {
     "name": "stdout",
     "output_type": "stream",
     "text": [
      "Weighted Precision: 0.8934574017941435\n",
      "Weighted Recall: 0.9009661835748792\n",
      "Weighted F1-Score: 0.8935816670367136\n",
      "Weighted Sensitivity: 0.9009661835748792\n",
      "Weighted Specificity: 0.7984613131851563\n",
      "weighted Roc score: 0.9665161597504711\n"
     ]
    }
   ],
   "source": [
    "print(\"Weighted Precision: \"+ str(precision_score(y_true, y_pred, average='weighted')))\n",
    "print(\"Weighted Recall: \"+ str(recall_score(y_true, y_pred, average='weighted')))\n",
    "print(\"Weighted F1-Score: \"+ str(f1_score(y_true, y_pred, average='weighted')))\n",
    "print(\"Weighted Sensitivity: \"+ str(sensitivity_score(y_true, y_pred, average='weighted')))\n",
    "print(\"Weighted Specificity: \"+ str(specificity_score(y_true, y_pred, average='weighted')))\n",
    "print(\"weighted Roc score: \" + str(roc_auc_score(y_true,y_prob,multi_class='ovr',average='weighted')))"
   ]
  },
  {
   "cell_type": "markdown",
   "id": "22f533b4",
   "metadata": {
    "papermill": {
     "duration": 0.038189,
     "end_time": "2023-05-19T19:08:52.062675",
     "exception": false,
     "start_time": "2023-05-19T19:08:52.024486",
     "status": "completed"
    },
    "tags": []
   },
   "source": [
    "### Macro Evaluation Measures"
   ]
  },
  {
   "cell_type": "code",
   "execution_count": 42,
   "id": "c9d65c5d",
   "metadata": {
    "execution": {
     "iopub.execute_input": "2023-05-19T19:08:52.142980Z",
     "iopub.status.busy": "2023-05-19T19:08:52.142342Z",
     "iopub.status.idle": "2023-05-19T19:08:52.169543Z",
     "shell.execute_reply": "2023-05-19T19:08:52.168305Z"
    },
    "papermill": {
     "duration": 0.06941,
     "end_time": "2023-05-19T19:08:52.171813",
     "exception": false,
     "start_time": "2023-05-19T19:08:52.102403",
     "status": "completed"
    },
    "tags": []
   },
   "outputs": [
    {
     "name": "stdout",
     "output_type": "stream",
     "text": [
      "Macro Precision: 0.7258157539520782\n",
      "Macro Recall: 0.7283122417576199\n",
      "Macro F1-Score: 0.7056852172406467\n",
      "Macro Sensitivity: 0.7283122417576199\n",
      "Macro Specificity: 0.9570610709657194\n",
      "Macro Roc score: 0.9727540102389509\n"
     ]
    }
   ],
   "source": [
    "print(\"Macro Precision: \"+ str(precision_score(y_true, y_pred, average='macro')))\n",
    "print(\"Macro Recall: \"+ str(recall_score(y_true, y_pred, average='macro')))\n",
    "print(\"Macro F1-Score: \"+ str(f1_score(y_true, y_pred, average='macro')))\n",
    "print(\"Macro Sensitivity: \"+ str(sensitivity_score(y_true, y_pred, average='macro')))\n",
    "print(\"Macro Specificity: \"+ str(specificity_score(y_true, y_pred, average='macro')))\n",
    "print(\"Macro Roc score: \" + str(roc_auc_score(y_true,y_prob,multi_class='ovr',average='macro')))"
   ]
  },
  {
   "cell_type": "markdown",
   "id": "22264341",
   "metadata": {
    "papermill": {
     "duration": 0.039823,
     "end_time": "2023-05-19T19:08:52.249673",
     "exception": false,
     "start_time": "2023-05-19T19:08:52.209850",
     "status": "completed"
    },
    "tags": []
   },
   "source": [
    "### Micro Evaluation Measures"
   ]
  },
  {
   "cell_type": "code",
   "execution_count": 43,
   "id": "7d5173a8",
   "metadata": {
    "execution": {
     "iopub.execute_input": "2023-05-19T19:08:52.327290Z",
     "iopub.status.busy": "2023-05-19T19:08:52.327013Z",
     "iopub.status.idle": "2023-05-19T19:08:52.341938Z",
     "shell.execute_reply": "2023-05-19T19:08:52.340878Z"
    },
    "papermill": {
     "duration": 0.056121,
     "end_time": "2023-05-19T19:08:52.343875",
     "exception": false,
     "start_time": "2023-05-19T19:08:52.287754",
     "status": "completed"
    },
    "tags": []
   },
   "outputs": [
    {
     "name": "stdout",
     "output_type": "stream",
     "text": [
      "Micro Precision: 0.9009661835748792\n",
      "Micro Recall: 0.9009661835748792\n",
      "Micro F1-Score: 0.9009661835748793\n",
      "Micro Sensitivity: 0.9009661835748792\n",
      "Micro Specificity: 0.9834943639291466\n"
     ]
    }
   ],
   "source": [
    "print(\"Micro Precision: \"+ str(precision_score(y_true, y_pred, average='micro')))\n",
    "print(\"Micro Recall: \"+ str(recall_score(y_true, y_pred, average='micro')))\n",
    "print(\"Micro F1-Score: \"+ str(f1_score(y_true, y_pred, average='micro')))\n",
    "print(\"Micro Sensitivity: \"+ str(sensitivity_score(y_true, y_pred, average='micro')))\n",
    "print(\"Micro Specificity: \"+ str(specificity_score(y_true, y_pred, average='micro')))"
   ]
  },
  {
   "cell_type": "markdown",
   "id": "03adf00b",
   "metadata": {
    "papermill": {
     "duration": 0.038179,
     "end_time": "2023-05-19T19:08:52.422335",
     "exception": false,
     "start_time": "2023-05-19T19:08:52.384156",
     "status": "completed"
    },
    "tags": []
   },
   "source": [
    "## ROC"
   ]
  },
  {
   "cell_type": "markdown",
   "id": "b7a5dcdf",
   "metadata": {
    "papermill": {
     "duration": 0.039095,
     "end_time": "2023-05-19T19:08:52.500083",
     "exception": false,
     "start_time": "2023-05-19T19:08:52.460988",
     "status": "completed"
    },
    "tags": []
   },
   "source": [
    "### Compute ROC curve and ROC area for each class"
   ]
  },
  {
   "cell_type": "code",
   "execution_count": 44,
   "id": "e56e244b",
   "metadata": {
    "execution": {
     "iopub.execute_input": "2023-05-19T19:08:52.578128Z",
     "iopub.status.busy": "2023-05-19T19:08:52.577442Z",
     "iopub.status.idle": "2023-05-19T19:08:53.229608Z",
     "shell.execute_reply": "2023-05-19T19:08:53.228646Z"
    },
    "papermill": {
     "duration": 0.693676,
     "end_time": "2023-05-19T19:08:53.231909",
     "exception": false,
     "start_time": "2023-05-19T19:08:52.538233",
     "status": "completed"
    },
    "tags": []
   },
   "outputs": [
    {
     "data": {
      "image/png": "[encoded data removed]",
      "text/plain": [
       "<Figure size 640x480 with 1 Axes>"
      ]
     },
     "metadata": {},
     "output_type": "display_data"
    }
   ],
   "source": [
    "fpr = {}\n",
    "tpr = {}\n",
    "roc_auc = dict()\n",
    "for i in range(num_classes):\n",
    "    fpr[i], tpr[i], _ = roc_curve(y_test[:, i], y_prob[:, i], drop_intermediate=False)\n",
    "    roc_auc[i] = auc(fpr[i], tpr[i])\n",
    "\n",
    "\n",
    "# plot the ROC curve for each class\n",
    "for i in range(7):\n",
    "    plt.plot(fpr[i], tpr[i], label='Class {}: AUC={:.3f}'.format(i, roc_auc[i]))\n",
    "\n",
    "plt.xlabel('False Positive Rate')\n",
    "plt.ylabel('True Positive Rate')\n",
    "plt.legend()\n",
    "plt.show()"
   ]
  },
  {
   "cell_type": "markdown",
   "id": "5376fddc",
   "metadata": {
    "papermill": {
     "duration": 0.038522,
     "end_time": "2023-05-19T19:08:53.309591",
     "exception": false,
     "start_time": "2023-05-19T19:08:53.271069",
     "status": "completed"
    },
    "tags": []
   },
   "source": [
    "## MCC and Kappa Score"
   ]
  },
  {
   "cell_type": "code",
   "execution_count": 45,
   "id": "ee26eeeb",
   "metadata": {
    "execution": {
     "iopub.execute_input": "2023-05-19T19:08:53.388914Z",
     "iopub.status.busy": "2023-05-19T19:08:53.388269Z",
     "iopub.status.idle": "2023-05-19T19:08:53.400630Z",
     "shell.execute_reply": "2023-05-19T19:08:53.399485Z"
    },
    "papermill": {
     "duration": 0.054558,
     "end_time": "2023-05-19T19:08:53.402652",
     "exception": false,
     "start_time": "2023-05-19T19:08:53.348094",
     "status": "completed"
    },
    "tags": []
   },
   "outputs": [
    {
     "name": "stdout",
     "output_type": "stream",
     "text": [
      "MCC: 69.99%\n",
      "Kappa Score: 69.65%\n"
     ]
    }
   ],
   "source": [
    "from sklearn.metrics import matthews_corrcoef, cohen_kappa_score\n",
    "\n",
    "# y_true are the true labels of the test set\n",
    "# y_pred are the predicted labels of the test set\n",
    "mcc = matthews_corrcoef(y_true, y_pred)\n",
    "kappa = cohen_kappa_score(y_true, y_pred)\n",
    "print(\"MCC: {:.2f}%\".format(mcc*100))\n",
    "print(\"Kappa Score: {:.2f}%\".format(kappa*100))"
   ]
  },
  {
   "cell_type": "code",
   "execution_count": 46,
   "id": "dee2e461",
   "metadata": {
    "execution": {
     "iopub.execute_input": "2023-05-19T19:08:53.481854Z",
     "iopub.status.busy": "2023-05-19T19:08:53.480984Z",
     "iopub.status.idle": "2023-05-19T19:08:53.546703Z",
     "shell.execute_reply": "2023-05-19T19:08:53.545518Z"
    },
    "papermill": {
     "duration": 0.107326,
     "end_time": "2023-05-19T19:08:53.548854",
     "exception": false,
     "start_time": "2023-05-19T19:08:53.441528",
     "status": "completed"
    },
    "tags": []
   },
   "outputs": [
    {
     "name": "stdout",
     "output_type": "stream",
     "text": [
      "MCC per class:\n",
      "Class 0: 56.08%\n",
      "Class 1: 80.86%\n",
      "Class 2: 63.55%\n",
      "Class 3: 73.63%\n",
      "Class 4: 44.89%\n",
      "Class 5: 77.52%\n",
      "Class 6: 80.17%\n",
      "Kappa Score per class:\n",
      "Class 0: 54.62%\n",
      "Class 1: 80.86%\n",
      "Class 2: 63.40%\n",
      "Class 3: 70.31%\n",
      "Class 4: 42.74%\n",
      "Class 5: 77.13%\n",
      "Class 6: 79.76%\n"
     ]
    }
   ],
   "source": [
    "### Individual Class Wise MCC and Kappa\n",
    "\n",
    "from sklearn.metrics import confusion_matrix, matthews_corrcoef, cohen_kappa_score\n",
    "# y_true are the true labels of the test set\n",
    "# y_pred are the predicted labels of the test set\n",
    "conf_mat = confusion_matrix(y_true, y_pred)\n",
    "mcc_per_class = {}\n",
    "kappa_per_class = {}\n",
    "\n",
    "for i in range(len(conf_mat)):\n",
    "    tp = conf_mat[i][i]\n",
    "    fp = sum(conf_mat[:, i]) - tp\n",
    "    fn = sum(conf_mat[i, :]) - tp\n",
    "    tn = sum(sum(conf_mat)) - tp - fp - fn\n",
    "\n",
    "    mcc_per_class[i] = matthews_corrcoef([1 if x==i else 0 for x in y_true], [1 if x==i else 0 for x in y_pred])\n",
    "    kappa_per_class[i] = cohen_kappa_score([1 if x==i else 0 for x in y_true], [1 if x==i else 0 for x in y_pred])\n",
    "\n",
    "print(\"MCC per class:\")\n",
    "for i, mcc in mcc_per_class.items():\n",
    "    print(\"Class {}: {:.2f}%\".format(i, mcc*100))\n",
    "\n",
    "print(\"Kappa Score per class:\")\n",
    "for i, kappa in kappa_per_class.items():\n",
    "    print(\"Class {}: {:.2f}%\".format(i, kappa*100))"
   ]
  },
  {
   "cell_type": "code",
   "execution_count": null,
   "id": "b3aaf034",
   "metadata": {
    "papermill": {
     "duration": 0.038343,
     "end_time": "2023-05-19T19:08:53.626125",
     "exception": false,
     "start_time": "2023-05-19T19:08:53.587782",
     "status": "completed"
    },
    "tags": []
   },
   "outputs": [],
   "source": []
  }
 ],
 "metadata": {
  "kernelspec": {
   "display_name": "Python 3",
   "language": "python",
   "name": "python3"
  },
  "language_info": {
   "codemirror_mode": {
    "name": "ipython",
    "version": 3
   },
   "file_extension": ".py",
   "mimetype": "text/x-python",
   "name": "python",
   "nbconvert_exporter": "python",
   "pygments_lexer": "ipython3",
   "version": "3.10.10"
  },
  "papermill": {
   "default_parameters": {},
   "duration": 24498.40236,
   "end_time": "2023-05-19T19:08:56.673418",
   "environment_variables": {},
   "exception": null,
   "input_path": "__notebook__.ipynb",
   "output_path": "__notebook__.ipynb",
   "parameters": {},
   "start_time": "2023-05-19T12:20:38.271058",
   "version": "2.4.0"
  }
 },
 "nbformat": 4,
 "nbformat_minor": 5
}
