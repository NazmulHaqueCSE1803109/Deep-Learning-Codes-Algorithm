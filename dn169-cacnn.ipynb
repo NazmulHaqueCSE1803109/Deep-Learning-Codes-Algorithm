{
 "cells": [
  {
   "cell_type": "markdown",
   "id": "555f7977",
   "metadata": {
    "papermill": {
     "duration": 0.014146,
     "end_time": "2023-06-03T16:12:44.826936",
     "exception": false,
     "start_time": "2023-06-03T16:12:44.812790",
     "status": "completed"
    },
    "tags": []
   },
   "source": [
    "# Libraries"
   ]
  },
  {
   "cell_type": "code",
   "execution_count": 1,
   "id": "bb8b2cee",
   "metadata": {
    "execution": {
     "iopub.execute_input": "2023-06-03T16:12:44.856320Z",
     "iopub.status.busy": "2023-06-03T16:12:44.855847Z",
     "iopub.status.idle": "2023-06-03T16:12:54.223679Z",
     "shell.execute_reply": "2023-06-03T16:12:54.222670Z"
    },
    "id": "Aa36bMKLze3z",
    "papermill": {
     "duration": 9.386097,
     "end_time": "2023-06-03T16:12:54.226718",
     "exception": false,
     "start_time": "2023-06-03T16:12:44.840621",
     "status": "completed"
    },
    "tags": []
   },
   "outputs": [
    {
     "name": "stderr",
     "output_type": "stream",
     "text": [
      "/opt/conda/lib/python3.10/site-packages/tensorflow_io/python/ops/__init__.py:98: UserWarning: unable to load libtensorflow_io_plugins.so: unable to open file: libtensorflow_io_plugins.so, from paths: ['/opt/conda/lib/python3.10/site-packages/tensorflow_io/python/ops/libtensorflow_io_plugins.so']\n",
      "caused by: ['/opt/conda/lib/python3.10/site-packages/tensorflow_io/python/ops/libtensorflow_io_plugins.so: undefined symbol: _ZN3tsl6StatusC1EN10tensorflow5error4CodeESt17basic_string_viewIcSt11char_traitsIcEENS_14SourceLocationE']\n",
      "  warnings.warn(f\"unable to load libtensorflow_io_plugins.so: {e}\")\n",
      "/opt/conda/lib/python3.10/site-packages/tensorflow_io/python/ops/__init__.py:104: UserWarning: file system plugins are not loaded: unable to open file: libtensorflow_io.so, from paths: ['/opt/conda/lib/python3.10/site-packages/tensorflow_io/python/ops/libtensorflow_io.so']\n",
      "caused by: ['/opt/conda/lib/python3.10/site-packages/tensorflow_io/python/ops/libtensorflow_io.so: undefined symbol: _ZTVN10tensorflow13GcsFileSystemE']\n",
      "  warnings.warn(f\"file system plugins are not loaded: {e}\")\n"
     ]
    }
   ],
   "source": [
    "import pandas as pd\n",
    "import numpy as np\n",
    "import os\n",
    "import tensorflow as tf\n",
    "import cv2\n",
    "from keras import backend as K\n",
    "from keras.layers import Layer, InputSpec\n",
    "import keras.layers as kl\n",
    "from glob import glob\n",
    "from sklearn.metrics import roc_curve, auc\n",
    "from keras.preprocessing import image\n",
    "from tensorflow.keras.models import Sequential\n",
    "from sklearn.metrics import roc_auc_score\n",
    "from tensorflow.keras import callbacks \n",
    "from tensorflow.keras.callbacks import ModelCheckpoint, EarlyStopping\n",
    "from  matplotlib import pyplot as plt\n",
    "from tensorflow.keras import Model\n",
    "from tensorflow.keras.layers import concatenate, Dense, Conv2D, MaxPooling2D, Flatten, Input, Activation, add, AveragePooling2D, BatchNormalization, Dropout\n",
    "%matplotlib inline\n",
    "import shutil\n",
    "from sklearn.metrics import  precision_score, recall_score, accuracy_score, classification_report, confusion_matrix\n",
    "from tensorflow.python.platform import build_info as tf_build_info\n",
    "from tensorflow.keras.preprocessing.image import ImageDataGenerator\n",
    "from sklearn.model_selection import train_test_split\n",
    "\n",
    "from PIL import ImageFile\n",
    "ImageFile.LOAD_TRUNCATED_IMAGES = True\n",
    "\n",
    "from tensorflow.keras.layers import Reshape, Conv2D, BatchNormalization, MaxPooling2D, Flatten, Dense, Input, GlobalAveragePooling2D, GlobalMaxPooling2D\n",
    "from tensorflow.keras.applications.mobilenet import MobileNet\n",
    "from tensorflow.keras.models import Model\n",
    "from tensorflow.keras.callbacks import EarlyStopping, ModelCheckpoint\n",
    "from tensorflow.keras.preprocessing.image import ImageDataGenerator"
   ]
  },
  {
   "cell_type": "code",
   "execution_count": 2,
   "id": "ed36f237",
   "metadata": {
    "execution": {
     "iopub.execute_input": "2023-06-03T16:12:54.257159Z",
     "iopub.status.busy": "2023-06-03T16:12:54.256537Z",
     "iopub.status.idle": "2023-06-03T16:12:54.261139Z",
     "shell.execute_reply": "2023-06-03T16:12:54.260290Z"
    },
    "id": "PsoqCvNsgmHP",
    "papermill": {
     "duration": 0.021843,
     "end_time": "2023-06-03T16:12:54.263195",
     "exception": false,
     "start_time": "2023-06-03T16:12:54.241352",
     "status": "completed"
    },
    "tags": []
   },
   "outputs": [],
   "source": [
    "targetnames = ['akiec', 'bcc', 'bkl', 'df', 'mel', 'nv', 'vasc']\n",
    "batch_size = 16\n",
    "image_size = 224"
   ]
  },
  {
   "cell_type": "code",
   "execution_count": 3,
   "id": "d2bc2d0b",
   "metadata": {
    "execution": {
     "iopub.execute_input": "2023-06-03T16:12:54.292553Z",
     "iopub.status.busy": "2023-06-03T16:12:54.292288Z",
     "iopub.status.idle": "2023-06-03T16:12:54.296486Z",
     "shell.execute_reply": "2023-06-03T16:12:54.295575Z"
    },
    "id": "wNisha_gM3_Z",
    "papermill": {
     "duration": 0.021407,
     "end_time": "2023-06-03T16:12:54.298732",
     "exception": false,
     "start_time": "2023-06-03T16:12:54.277325",
     "status": "completed"
    },
    "tags": []
   },
   "outputs": [],
   "source": [
    "train_path = '/kaggle/input/splitted-and-augmented-ham-15/Splitted_And_Augmented_HAM_15/HAM10K/train_dir'\n",
    "test_path = '/kaggle/input/splitted-and-augmented-ham-15/Splitted_And_Augmented_HAM_15/HAM10K/test_dir'\n",
    "val_path = '/kaggle/input/splitted-and-augmented-ham-15/Splitted_And_Augmented_HAM_15/HAM10K/val_dir'"
   ]
  },
  {
   "cell_type": "markdown",
   "id": "82e4300c",
   "metadata": {
    "papermill": {
     "duration": 0.013898,
     "end_time": "2023-06-03T16:12:54.326917",
     "exception": false,
     "start_time": "2023-06-03T16:12:54.313019",
     "status": "completed"
    },
    "tags": []
   },
   "source": [
    "# Dataset generation (Train, Test, Validation)"
   ]
  },
  {
   "cell_type": "code",
   "execution_count": 4,
   "id": "4c412fcd",
   "metadata": {
    "execution": {
     "iopub.execute_input": "2023-06-03T16:12:54.355568Z",
     "iopub.status.busy": "2023-06-03T16:12:54.355274Z",
     "iopub.status.idle": "2023-06-03T16:12:54.359583Z",
     "shell.execute_reply": "2023-06-03T16:12:54.358731Z"
    },
    "id": "zhQWqdRN79B3",
    "papermill": {
     "duration": 0.021063,
     "end_time": "2023-06-03T16:12:54.361549",
     "exception": false,
     "start_time": "2023-06-03T16:12:54.340486",
     "status": "completed"
    },
    "tags": []
   },
   "outputs": [],
   "source": [
    "datagen = ImageDataGenerator(preprocessing_function=tf.keras.applications.densenet.preprocess_input)"
   ]
  },
  {
   "cell_type": "code",
   "execution_count": 5,
   "id": "86183565",
   "metadata": {
    "execution": {
     "iopub.execute_input": "2023-06-03T16:12:54.390839Z",
     "iopub.status.busy": "2023-06-03T16:12:54.390104Z",
     "iopub.status.idle": "2023-06-03T16:13:19.840150Z",
     "shell.execute_reply": "2023-06-03T16:13:19.839285Z"
    },
    "id": "w9_8FvOO7Rtu",
    "outputId": "7ca88c24-fda8-45d6-cb32-f3a43ae6ba5b",
    "papermill": {
     "duration": 25.467117,
     "end_time": "2023-06-03T16:13:19.842582",
     "exception": false,
     "start_time": "2023-06-03T16:12:54.375465",
     "status": "completed"
    },
    "tags": []
   },
   "outputs": [
    {
     "name": "stdout",
     "output_type": "stream",
     "text": [
      "\n",
      "Train Batches: \n",
      "Found 54782 images belonging to 7 classes.\n",
      "\n",
      "Test Batches: \n",
      "Found 828 images belonging to 7 classes.\n",
      "\n",
      "Val Batches: \n",
      "Found 827 images belonging to 7 classes.\n"
     ]
    }
   ],
   "source": [
    "print(\"\\nTrain Batches: \")\n",
    "train_batches = datagen.flow_from_directory(directory=train_path,\n",
    "                                            target_size=(image_size,image_size),\n",
    "                                            batch_size=batch_size,\n",
    "                                            shuffle=True)\n",
    "\n",
    "print(\"\\nTest Batches: \")\n",
    "test_batches = datagen.flow_from_directory(test_path,\n",
    "                                          target_size=(image_size,image_size),\n",
    "                                          batch_size=batch_size,\n",
    "                                          shuffle=False)\n",
    "print(\"\\nVal Batches: \")\n",
    "val_batches = datagen.flow_from_directory(val_path,\n",
    "                                         target_size=(image_size,image_size),\n",
    "                                         batch_size=batch_size,\n",
    "                                         shuffle=False)"
   ]
  },
  {
   "cell_type": "markdown",
   "id": "566c23b3",
   "metadata": {
    "papermill": {
     "duration": 0.015164,
     "end_time": "2023-06-03T16:13:19.872364",
     "exception": false,
     "start_time": "2023-06-03T16:13:19.857200",
     "status": "completed"
    },
    "tags": []
   },
   "source": [
    "# Main Model Creation"
   ]
  },
  {
   "cell_type": "code",
   "execution_count": 6,
   "id": "fe76dc96",
   "metadata": {
    "execution": {
     "iopub.execute_input": "2023-06-03T16:13:19.901621Z",
     "iopub.status.busy": "2023-06-03T16:13:19.901072Z",
     "iopub.status.idle": "2023-06-03T16:13:19.913524Z",
     "shell.execute_reply": "2023-06-03T16:13:19.912706Z"
    },
    "papermill": {
     "duration": 0.029218,
     "end_time": "2023-06-03T16:13:19.915543",
     "exception": false,
     "start_time": "2023-06-03T16:13:19.886325",
     "status": "completed"
    },
    "tags": []
   },
   "outputs": [],
   "source": [
    "# Channel Attention\n",
    "from tensorflow.keras.layers import Layer\n",
    "from tensorflow.keras import backend as K\n",
    "\n",
    "class ChannelAttention(Layer):\n",
    "    def __init__(self, reduction=16):\n",
    "        super(ChannelAttention, self).__init__()\n",
    "        self.reduction = reduction\n",
    "\n",
    "    def build(self, input_shape):\n",
    "        self.channels = input_shape[-1]\n",
    "        self.avg_pool = GlobalAveragePooling2D()\n",
    "        self.max_pool = GlobalMaxPooling2D()\n",
    "\n",
    "        self.shared_layer_one = Dense(units=self.channels // self.reduction, activation='relu', kernel_initializer='he_normal', use_bias=True, bias_initializer='zeros')\n",
    "        self.shared_layer_two = Dense(units=self.channels, activation='sigmoid', kernel_initializer='he_normal', use_bias=True, bias_initializer='zeros')\n",
    "\n",
    "    def call(self, x):\n",
    "        avg_pool = self.avg_pool(x)\n",
    "        max_pool = self.max_pool(x)\n",
    "\n",
    "        avg_pool = Reshape((1, 1, self.channels))(avg_pool)\n",
    "        max_pool = Reshape((1, 1, self.channels))(max_pool)\n",
    "        shared_layer_one = self.shared_layer_one(avg_pool) + self.shared_layer_one(max_pool)\n",
    "        shared_layer_two = self.shared_layer_two(shared_layer_one)\n",
    "        return x * shared_layer_two\n",
    "\n",
    "    def get_config(self):\n",
    "        config = super().get_config().copy()\n",
    "        config.update({\n",
    "            'reduction': self.reduction,\n",
    "        })\n",
    "        return config"
   ]
  },
  {
   "cell_type": "code",
   "execution_count": 7,
   "id": "adbfaadf",
   "metadata": {
    "execution": {
     "iopub.execute_input": "2023-06-03T16:13:19.945131Z",
     "iopub.status.busy": "2023-06-03T16:13:19.944414Z",
     "iopub.status.idle": "2023-06-03T16:13:28.006926Z",
     "shell.execute_reply": "2023-06-03T16:13:28.005931Z"
    },
    "id": "zhQWqdRN79B3",
    "papermill": {
     "duration": 8.079913,
     "end_time": "2023-06-03T16:13:28.009518",
     "exception": false,
     "start_time": "2023-06-03T16:13:19.929605",
     "status": "completed"
    },
    "tags": []
   },
   "outputs": [
    {
     "name": "stdout",
     "output_type": "stream",
     "text": [
      "Downloading data from https://storage.googleapis.com/tensorflow/keras-applications/densenet/densenet169_weights_tf_dim_ordering_tf_kernels_notop.h5\n",
      "51877672/51877672 [==============================] - 0s 0us/step\n"
     ]
    }
   ],
   "source": [
    "from tensorflow.keras.applications.densenet import DenseNet169\n",
    "\n",
    "DN169 = DenseNet169(weights='imagenet', include_top=False, input_shape=(image_size, image_size, 3), pooling='avg')"
   ]
  },
  {
   "cell_type": "markdown",
   "id": "5a0f72fb",
   "metadata": {
    "papermill": {
     "duration": 0.015122,
     "end_time": "2023-06-03T16:13:28.040141",
     "exception": false,
     "start_time": "2023-06-03T16:13:28.025019",
     "status": "completed"
    },
    "tags": []
   },
   "source": [
    "## Fine tuning"
   ]
  },
  {
   "cell_type": "code",
   "execution_count": 8,
   "id": "057b651e",
   "metadata": {
    "execution": {
     "iopub.execute_input": "2023-06-03T16:13:28.071969Z",
     "iopub.status.busy": "2023-06-03T16:13:28.071102Z",
     "iopub.status.idle": "2023-06-03T16:13:28.077478Z",
     "shell.execute_reply": "2023-06-03T16:13:28.076523Z"
    },
    "id": "4d4Ta5LcSYaz",
    "papermill": {
     "duration": 0.024344,
     "end_time": "2023-06-03T16:13:28.079412",
     "exception": false,
     "start_time": "2023-06-03T16:13:28.055068",
     "status": "completed"
    },
    "tags": []
   },
   "outputs": [],
   "source": [
    "MainInput=Input(shape=(image_size, image_size, 3))"
   ]
  },
  {
   "cell_type": "code",
   "execution_count": 9,
   "id": "4e34d2a3",
   "metadata": {
    "execution": {
     "iopub.execute_input": "2023-06-03T16:13:28.110727Z",
     "iopub.status.busy": "2023-06-03T16:13:28.110404Z",
     "iopub.status.idle": "2023-06-03T16:13:29.394305Z",
     "shell.execute_reply": "2023-06-03T16:13:29.393394Z"
    },
    "papermill": {
     "duration": 1.302273,
     "end_time": "2023-06-03T16:13:29.396647",
     "exception": false,
     "start_time": "2023-06-03T16:13:28.094374",
     "status": "completed"
    },
    "tags": []
   },
   "outputs": [],
   "source": [
    "dn169 = DN169(MainInput)"
   ]
  },
  {
   "cell_type": "code",
   "execution_count": 10,
   "id": "8b57ad54",
   "metadata": {
    "execution": {
     "iopub.execute_input": "2023-06-03T16:13:29.428453Z",
     "iopub.status.busy": "2023-06-03T16:13:29.427844Z",
     "iopub.status.idle": "2023-06-03T16:13:29.443300Z",
     "shell.execute_reply": "2023-06-03T16:13:29.442359Z"
    },
    "papermill": {
     "duration": 0.033869,
     "end_time": "2023-06-03T16:13:29.445571",
     "exception": false,
     "start_time": "2023-06-03T16:13:29.411702",
     "status": "completed"
    },
    "tags": []
   },
   "outputs": [],
   "source": [
    "# Reshape the tensor to have 4 dimensions\n",
    "from tensorflow.keras.layers import Reshape\n",
    "reshape = Reshape((8, 8, 26))(dn169)"
   ]
  },
  {
   "cell_type": "code",
   "execution_count": 11,
   "id": "998c072f",
   "metadata": {
    "execution": {
     "iopub.execute_input": "2023-06-03T16:13:29.477384Z",
     "iopub.status.busy": "2023-06-03T16:13:29.477026Z",
     "iopub.status.idle": "2023-06-03T16:13:29.962215Z",
     "shell.execute_reply": "2023-06-03T16:13:29.961297Z"
    },
    "id": "x8mS99J5SYbT",
    "papermill": {
     "duration": 0.50379,
     "end_time": "2023-06-03T16:13:29.964647",
     "exception": false,
     "start_time": "2023-06-03T16:13:29.460857",
     "status": "completed"
    },
    "tags": []
   },
   "outputs": [],
   "source": [
    "conv=(Conv2D(filters=128,kernel_size=(7,7), activation=\"relu\",padding=\"same\",kernel_initializer='he_normal')(reshape))\n",
    "conv=(BatchNormalization()(conv))\n",
    "conv = ChannelAttention()(conv)\n",
    "conv=(Conv2D(filters=128,kernel_size=(5,5), activation=\"relu\",padding=\"same\",kernel_initializer='he_normal')(conv))\n",
    "conv=(BatchNormalization()(conv))\n",
    "conv = ChannelAttention()(conv)\n",
    "conv=(Conv2D(filters=128,kernel_size=(3,3), activation=\"relu\",padding=\"same\",kernel_initializer='he_normal')(conv))\n",
    "conv=(BatchNormalization()(conv))\n",
    "conv = ChannelAttention()(conv)\n",
    "conv=(Conv2D(filters=128,kernel_size=(1,1), activation=\"relu\",padding=\"same\",kernel_initializer='he_normal')(conv))\n",
    "conv=(BatchNormalization()(conv))\n",
    "conv = ChannelAttention()(conv)"
   ]
  },
  {
   "cell_type": "code",
   "execution_count": 12,
   "id": "bbb8c9db",
   "metadata": {
    "execution": {
     "iopub.execute_input": "2023-06-03T16:13:29.996967Z",
     "iopub.status.busy": "2023-06-03T16:13:29.996069Z",
     "iopub.status.idle": "2023-06-03T16:13:30.005356Z",
     "shell.execute_reply": "2023-06-03T16:13:30.004489Z"
    },
    "id": "wfhLPhssAm2S",
    "papermill": {
     "duration": 0.027679,
     "end_time": "2023-06-03T16:13:30.007473",
     "exception": false,
     "start_time": "2023-06-03T16:13:29.979794",
     "status": "completed"
    },
    "tags": []
   },
   "outputs": [],
   "source": [
    "conv=(MaxPooling2D(strides=(2, 2),padding=\"same\")(conv))"
   ]
  },
  {
   "cell_type": "code",
   "execution_count": 13,
   "id": "5f79f8e4",
   "metadata": {
    "execution": {
     "iopub.execute_input": "2023-06-03T16:13:30.039412Z",
     "iopub.status.busy": "2023-06-03T16:13:30.039056Z",
     "iopub.status.idle": "2023-06-03T16:13:30.430684Z",
     "shell.execute_reply": "2023-06-03T16:13:30.429754Z"
    },
    "id": "sW4tKg9wSYbk",
    "papermill": {
     "duration": 0.410293,
     "end_time": "2023-06-03T16:13:30.433007",
     "exception": false,
     "start_time": "2023-06-03T16:13:30.022714",
     "status": "completed"
    },
    "tags": []
   },
   "outputs": [],
   "source": [
    "conv=(Conv2D(filters=256,kernel_size=(7,7), activation=\"relu\",padding=\"same\",kernel_initializer='he_normal')(conv))\n",
    "conv=(BatchNormalization()(conv))\n",
    "conv = ChannelAttention()(conv)\n",
    "conv=(Conv2D(filters=256,kernel_size=(5,5), activation=\"relu\",padding=\"same\",kernel_initializer='he_normal')(conv))\n",
    "conv=(BatchNormalization()(conv))\n",
    "conv = ChannelAttention()(conv)\n",
    "conv=(Conv2D(filters=256,kernel_size=(3,3), activation=\"relu\",padding=\"same\",kernel_initializer='he_normal')(conv))\n",
    "conv=(BatchNormalization()(conv))\n",
    "conv = ChannelAttention()(conv)\n",
    "conv=(Conv2D(filters=256,kernel_size=(1,1), activation=\"relu\",padding=\"same\",kernel_initializer='he_normal')(conv))\n",
    "conv=(BatchNormalization()(conv))\n",
    "conv = ChannelAttention()(conv)"
   ]
  },
  {
   "cell_type": "code",
   "execution_count": 14,
   "id": "2f1fc90f",
   "metadata": {
    "execution": {
     "iopub.execute_input": "2023-06-03T16:13:30.466911Z",
     "iopub.status.busy": "2023-06-03T16:13:30.465005Z",
     "iopub.status.idle": "2023-06-03T16:13:30.474671Z",
     "shell.execute_reply": "2023-06-03T16:13:30.473844Z"
    },
    "id": "eo8E7RxUSYcW",
    "papermill": {
     "duration": 0.028081,
     "end_time": "2023-06-03T16:13:30.476736",
     "exception": false,
     "start_time": "2023-06-03T16:13:30.448655",
     "status": "completed"
    },
    "tags": []
   },
   "outputs": [],
   "source": [
    "conv=(MaxPooling2D(pool_size=(2, 2),padding=\"same\")(conv))"
   ]
  },
  {
   "cell_type": "code",
   "execution_count": 15,
   "id": "a490554f",
   "metadata": {
    "execution": {
     "iopub.execute_input": "2023-06-03T16:13:30.507957Z",
     "iopub.status.busy": "2023-06-03T16:13:30.507632Z",
     "iopub.status.idle": "2023-06-03T16:13:30.512567Z",
     "shell.execute_reply": "2023-06-03T16:13:30.511567Z"
    },
    "papermill": {
     "duration": 0.024663,
     "end_time": "2023-06-03T16:13:30.516327",
     "exception": false,
     "start_time": "2023-06-03T16:13:30.491664",
     "status": "completed"
    },
    "tags": []
   },
   "outputs": [
    {
     "name": "stdout",
     "output_type": "stream",
     "text": [
      "7\n"
     ]
    }
   ],
   "source": [
    "num_classes = test_batches.num_classes\n",
    "print(num_classes)"
   ]
  },
  {
   "cell_type": "code",
   "execution_count": 16,
   "id": "b9f5f0fd",
   "metadata": {
    "execution": {
     "iopub.execute_input": "2023-06-03T16:13:30.547819Z",
     "iopub.status.busy": "2023-06-03T16:13:30.547481Z",
     "iopub.status.idle": "2023-06-03T16:13:30.604523Z",
     "shell.execute_reply": "2023-06-03T16:13:30.603593Z"
    },
    "id": "-EdFxKdgSYcf",
    "papermill": {
     "duration": 0.075749,
     "end_time": "2023-06-03T16:13:30.606964",
     "exception": false,
     "start_time": "2023-06-03T16:13:30.531215",
     "status": "completed"
    },
    "tags": []
   },
   "outputs": [],
   "source": [
    "conv=(Flatten()(conv))\n",
    "conv=(Dense(1024,activation=\"relu\")(conv))\n",
    "conv=(Dense(512,activation=\"relu\")(conv))\n",
    "conv=(Dense(num_classes, activation=\"softmax\")(conv))\n",
    "\n",
    "model_dn169_ca = Model(inputs=MainInput, outputs=conv)"
   ]
  },
  {
   "cell_type": "code",
   "execution_count": 17,
   "id": "624ffd91",
   "metadata": {
    "execution": {
     "iopub.execute_input": "2023-06-03T16:13:30.640530Z",
     "iopub.status.busy": "2023-06-03T16:13:30.640175Z",
     "iopub.status.idle": "2023-06-03T16:13:30.790908Z",
     "shell.execute_reply": "2023-06-03T16:13:30.789906Z"
    },
    "id": "ba8ajOckSYcl",
    "outputId": "e69fa749-4741-4f49-ae3e-9f5479e809a8",
    "papermill": {
     "duration": 0.199884,
     "end_time": "2023-06-03T16:13:30.823061",
     "exception": false,
     "start_time": "2023-06-03T16:13:30.623177",
     "status": "completed"
    },
    "tags": []
   },
   "outputs": [
    {
     "name": "stdout",
     "output_type": "stream",
     "text": [
      "Model: \"model\"\n",
      "_________________________________________________________________\n",
      " Layer (type)                Output Shape              Param #   \n",
      "=================================================================\n",
      " input_2 (InputLayer)        [(None, 224, 224, 3)]     0         \n",
      "                                                                 \n",
      " densenet169 (Functional)    (None, 1664)              12642880  \n",
      "                                                                 \n",
      " reshape (Reshape)           (None, 8, 8, 26)          0         \n",
      "                                                                 \n",
      " conv2d (Conv2D)             (None, 8, 8, 128)         163200    \n",
      "                                                                 \n",
      " batch_normalization (BatchN  (None, 8, 8, 128)        512       \n",
      " ormalization)                                                   \n",
      "                                                                 \n",
      " channel_attention (ChannelA  (None, 8, 8, 128)        2184      \n",
      " ttention)                                                       \n",
      "                                                                 \n",
      " conv2d_1 (Conv2D)           (None, 8, 8, 128)         409728    \n",
      "                                                                 \n",
      " batch_normalization_1 (Batc  (None, 8, 8, 128)        512       \n",
      " hNormalization)                                                 \n",
      "                                                                 \n",
      " channel_attention_1 (Channe  (None, 8, 8, 128)        2184      \n",
      " lAttention)                                                     \n",
      "                                                                 \n",
      " conv2d_2 (Conv2D)           (None, 8, 8, 128)         147584    \n",
      "                                                                 \n",
      " batch_normalization_2 (Batc  (None, 8, 8, 128)        512       \n",
      " hNormalization)                                                 \n",
      "                                                                 \n",
      " channel_attention_2 (Channe  (None, 8, 8, 128)        2184      \n",
      " lAttention)                                                     \n",
      "                                                                 \n",
      " conv2d_3 (Conv2D)           (None, 8, 8, 128)         16512     \n",
      "                                                                 \n",
      " batch_normalization_3 (Batc  (None, 8, 8, 128)        512       \n",
      " hNormalization)                                                 \n",
      "                                                                 \n",
      " channel_attention_3 (Channe  (None, 8, 8, 128)        2184      \n",
      " lAttention)                                                     \n",
      "                                                                 \n",
      " max_pooling2d (MaxPooling2D  (None, 4, 4, 128)        0         \n",
      " )                                                               \n",
      "                                                                 \n",
      " conv2d_4 (Conv2D)           (None, 4, 4, 256)         1605888   \n",
      "                                                                 \n",
      " batch_normalization_4 (Batc  (None, 4, 4, 256)        1024      \n",
      " hNormalization)                                                 \n",
      "                                                                 \n",
      " channel_attention_4 (Channe  (None, 4, 4, 256)        8464      \n",
      " lAttention)                                                     \n",
      "                                                                 \n",
      " conv2d_5 (Conv2D)           (None, 4, 4, 256)         1638656   \n",
      "                                                                 \n",
      " batch_normalization_5 (Batc  (None, 4, 4, 256)        1024      \n",
      " hNormalization)                                                 \n",
      "                                                                 \n",
      " channel_attention_5 (Channe  (None, 4, 4, 256)        8464      \n",
      " lAttention)                                                     \n",
      "                                                                 \n",
      " conv2d_6 (Conv2D)           (None, 4, 4, 256)         590080    \n",
      "                                                                 \n",
      " batch_normalization_6 (Batc  (None, 4, 4, 256)        1024      \n",
      " hNormalization)                                                 \n",
      "                                                                 \n",
      " channel_attention_6 (Channe  (None, 4, 4, 256)        8464      \n",
      " lAttention)                                                     \n",
      "                                                                 \n",
      " conv2d_7 (Conv2D)           (None, 4, 4, 256)         65792     \n",
      "                                                                 \n",
      " batch_normalization_7 (Batc  (None, 4, 4, 256)        1024      \n",
      " hNormalization)                                                 \n",
      "                                                                 \n",
      " channel_attention_7 (Channe  (None, 4, 4, 256)        8464      \n",
      " lAttention)                                                     \n",
      "                                                                 \n",
      " max_pooling2d_1 (MaxPooling  (None, 2, 2, 256)        0         \n",
      " 2D)                                                             \n",
      "                                                                 \n",
      " flatten (Flatten)           (None, 1024)              0         \n",
      "                                                                 \n",
      " dense (Dense)               (None, 1024)              1049600   \n",
      "                                                                 \n",
      " dense_1 (Dense)             (None, 512)               524800    \n",
      "                                                                 \n",
      " dense_2 (Dense)             (None, 7)                 3591      \n",
      "                                                                 \n",
      "=================================================================\n",
      "Total params: 18,907,047\n",
      "Trainable params: 18,745,575\n",
      "Non-trainable params: 161,472\n",
      "_________________________________________________________________\n"
     ]
    }
   ],
   "source": [
    "model_dn169_ca.summary()"
   ]
  },
  {
   "cell_type": "code",
   "execution_count": 18,
   "id": "bc81410d",
   "metadata": {
    "execution": {
     "iopub.execute_input": "2023-06-03T16:13:30.882078Z",
     "iopub.status.busy": "2023-06-03T16:13:30.881738Z",
     "iopub.status.idle": "2023-06-03T16:13:30.915177Z",
     "shell.execute_reply": "2023-06-03T16:13:30.914467Z"
    },
    "id": "WR0fUpy18vAZ",
    "papermill": {
     "duration": 0.060296,
     "end_time": "2023-06-03T16:13:30.917481",
     "exception": false,
     "start_time": "2023-06-03T16:13:30.857185",
     "status": "completed"
    },
    "tags": []
   },
   "outputs": [],
   "source": [
    "opt1=tf.keras.optimizers.Adam(learning_rate=0.001,epsilon=0.1)\n",
    "model_dn169_ca.compile(optimizer=opt1,\n",
    "             loss='categorical_crossentropy',\n",
    "             metrics=['accuracy'])"
   ]
  },
  {
   "cell_type": "code",
   "execution_count": 19,
   "id": "89433760",
   "metadata": {
    "execution": {
     "iopub.execute_input": "2023-06-03T16:13:30.965106Z",
     "iopub.status.busy": "2023-06-03T16:13:30.963460Z",
     "iopub.status.idle": "2023-06-03T16:13:30.969125Z",
     "shell.execute_reply": "2023-06-03T16:13:30.968294Z"
    },
    "id": "LAf5ha295reS",
    "papermill": {
     "duration": 0.030912,
     "end_time": "2023-06-03T16:13:30.971129",
     "exception": false,
     "start_time": "2023-06-03T16:13:30.940217",
     "status": "completed"
    },
    "tags": []
   },
   "outputs": [],
   "source": [
    "class_weights = {   \n",
    "                    0: 1.0,  # akiec\n",
    "                    1: 1.0,  # bcc\n",
    "                    2: 1.0,  # bkl\n",
    "                    3: 1.0,  # df\n",
    "                    4: 1.0,  # mel\n",
    "                    5: 1.0,  # nv\n",
    "                    6: 1.0  # vasc\n",
    "                }"
   ]
  },
  {
   "cell_type": "code",
   "execution_count": 20,
   "id": "392ff968",
   "metadata": {
    "execution": {
     "iopub.execute_input": "2023-06-03T16:13:31.016307Z",
     "iopub.status.busy": "2023-06-03T16:13:31.015508Z",
     "iopub.status.idle": "2023-06-03T16:13:31.020869Z",
     "shell.execute_reply": "2023-06-03T16:13:31.020060Z"
    },
    "papermill": {
     "duration": 0.029767,
     "end_time": "2023-06-03T16:13:31.022796",
     "exception": false,
     "start_time": "2023-06-03T16:13:30.993029",
     "status": "completed"
    },
    "tags": []
   },
   "outputs": [],
   "source": [
    "checkpoint = ModelCheckpoint(filepath ='DN169_CA.hdf5', monitor='val_accuracy', save_best_only=True, save_weights_only=True)\n",
    "Earlystop = EarlyStopping(monitor='val_accuracy', mode='max', patience=25, min_delta=0.001)"
   ]
  },
  {
   "cell_type": "code",
   "execution_count": 21,
   "id": "ecf0694c",
   "metadata": {
    "execution": {
     "iopub.execute_input": "2023-06-03T16:13:31.068894Z",
     "iopub.status.busy": "2023-06-03T16:13:31.067304Z",
     "iopub.status.idle": "2023-06-04T00:50:31.399564Z",
     "shell.execute_reply": "2023-06-04T00:50:31.398502Z"
    },
    "id": "NUzTmiZ-8hL3",
    "outputId": "e1825ff2-9f9c-436f-cf2c-9776af8eee62",
    "papermill": {
     "duration": 31020.374728,
     "end_time": "2023-06-04T00:50:31.419310",
     "exception": false,
     "start_time": "2023-06-03T16:13:31.044582",
     "status": "completed"
    },
    "tags": []
   },
   "outputs": [
    {
     "name": "stdout",
     "output_type": "stream",
     "text": [
      "Epoch 1/50\n",
      "3424/3424 - 792s - loss: 0.9119 - accuracy: 0.6567 - val_loss: 0.3406 - val_accuracy: 0.8863 - 792s/epoch - 231ms/step\n",
      "Epoch 2/50\n",
      "3424/3424 - 616s - loss: 0.3879 - accuracy: 0.8593 - val_loss: 0.3607 - val_accuracy: 0.8960 - 616s/epoch - 180ms/step\n",
      "Epoch 3/50\n",
      "3424/3424 - 615s - loss: 0.2364 - accuracy: 0.9128 - val_loss: 0.3648 - val_accuracy: 0.8960 - 615s/epoch - 180ms/step\n",
      "Epoch 4/50\n",
      "3424/3424 - 609s - loss: 0.1689 - accuracy: 0.9378 - val_loss: 0.3247 - val_accuracy: 0.9033 - 609s/epoch - 178ms/step\n",
      "Epoch 5/50\n",
      "3424/3424 - 608s - loss: 0.1232 - accuracy: 0.9565 - val_loss: 0.4076 - val_accuracy: 0.8996 - 608s/epoch - 178ms/step\n",
      "Epoch 6/50\n",
      "3424/3424 - 609s - loss: 0.0972 - accuracy: 0.9662 - val_loss: 0.3875 - val_accuracy: 0.9093 - 609s/epoch - 178ms/step\n",
      "Epoch 7/50\n",
      "3424/3424 - 609s - loss: 0.0761 - accuracy: 0.9731 - val_loss: 0.4265 - val_accuracy: 0.9008 - 609s/epoch - 178ms/step\n",
      "Epoch 8/50\n",
      "3424/3424 - 608s - loss: 0.0613 - accuracy: 0.9784 - val_loss: 0.4829 - val_accuracy: 0.8936 - 608s/epoch - 177ms/step\n",
      "Epoch 9/50\n",
      "3424/3424 - 610s - loss: 0.0528 - accuracy: 0.9817 - val_loss: 0.5464 - val_accuracy: 0.8948 - 610s/epoch - 178ms/step\n",
      "Epoch 10/50\n",
      "3424/3424 - 606s - loss: 0.0473 - accuracy: 0.9836 - val_loss: 0.4076 - val_accuracy: 0.9021 - 606s/epoch - 177ms/step\n",
      "Epoch 11/50\n",
      "3424/3424 - 604s - loss: 0.0372 - accuracy: 0.9875 - val_loss: 0.4625 - val_accuracy: 0.8875 - 604s/epoch - 176ms/step\n",
      "Epoch 12/50\n",
      "3424/3424 - 610s - loss: 0.0331 - accuracy: 0.9883 - val_loss: 0.4832 - val_accuracy: 0.9021 - 610s/epoch - 178ms/step\n",
      "Epoch 13/50\n",
      "3424/3424 - 606s - loss: 0.0284 - accuracy: 0.9906 - val_loss: 0.4568 - val_accuracy: 0.9033 - 606s/epoch - 177ms/step\n",
      "Epoch 14/50\n",
      "3424/3424 - 610s - loss: 0.0221 - accuracy: 0.9922 - val_loss: 0.5435 - val_accuracy: 0.9069 - 610s/epoch - 178ms/step\n",
      "Epoch 15/50\n",
      "3424/3424 - 613s - loss: 0.0235 - accuracy: 0.9918 - val_loss: 0.4502 - val_accuracy: 0.9154 - 613s/epoch - 179ms/step\n",
      "Epoch 16/50\n",
      "3424/3424 - 608s - loss: 0.0213 - accuracy: 0.9928 - val_loss: 0.5560 - val_accuracy: 0.8996 - 608s/epoch - 178ms/step\n",
      "Epoch 17/50\n",
      "3424/3424 - 602s - loss: 0.0187 - accuracy: 0.9936 - val_loss: 0.4786 - val_accuracy: 0.9093 - 602s/epoch - 176ms/step\n",
      "Epoch 18/50\n",
      "3424/3424 - 612s - loss: 0.0163 - accuracy: 0.9943 - val_loss: 0.4991 - val_accuracy: 0.9105 - 612s/epoch - 179ms/step\n",
      "Epoch 19/50\n",
      "3424/3424 - 604s - loss: 0.0157 - accuracy: 0.9950 - val_loss: 0.5675 - val_accuracy: 0.9057 - 604s/epoch - 176ms/step\n",
      "Epoch 20/50\n",
      "3424/3424 - 604s - loss: 0.0173 - accuracy: 0.9940 - val_loss: 0.4890 - val_accuracy: 0.9154 - 604s/epoch - 176ms/step\n",
      "Epoch 21/50\n",
      "3424/3424 - 606s - loss: 0.0116 - accuracy: 0.9962 - val_loss: 0.5247 - val_accuracy: 0.9045 - 606s/epoch - 177ms/step\n",
      "Epoch 22/50\n",
      "3424/3424 - 607s - loss: 0.0126 - accuracy: 0.9960 - val_loss: 0.4963 - val_accuracy: 0.9129 - 607s/epoch - 177ms/step\n",
      "Epoch 23/50\n",
      "3424/3424 - 606s - loss: 0.0121 - accuracy: 0.9959 - val_loss: 0.4215 - val_accuracy: 0.9117 - 606s/epoch - 177ms/step\n",
      "Epoch 24/50\n",
      "3424/3424 - 607s - loss: 0.0112 - accuracy: 0.9962 - val_loss: 0.4644 - val_accuracy: 0.9129 - 607s/epoch - 177ms/step\n",
      "Epoch 25/50\n",
      "3424/3424 - 611s - loss: 0.0107 - accuracy: 0.9964 - val_loss: 0.5073 - val_accuracy: 0.9093 - 611s/epoch - 178ms/step\n",
      "Epoch 26/50\n",
      "3424/3424 - 607s - loss: 0.0096 - accuracy: 0.9971 - val_loss: 0.6351 - val_accuracy: 0.9008 - 607s/epoch - 177ms/step\n",
      "Epoch 27/50\n",
      "3424/3424 - 609s - loss: 0.0086 - accuracy: 0.9969 - val_loss: 0.4700 - val_accuracy: 0.9141 - 609s/epoch - 178ms/step\n",
      "Epoch 28/50\n",
      "3424/3424 - 610s - loss: 0.0086 - accuracy: 0.9974 - val_loss: 0.5151 - val_accuracy: 0.9190 - 610s/epoch - 178ms/step\n",
      "Epoch 29/50\n",
      "3424/3424 - 608s - loss: 0.0088 - accuracy: 0.9972 - val_loss: 0.5049 - val_accuracy: 0.9081 - 608s/epoch - 178ms/step\n",
      "Epoch 30/50\n",
      "3424/3424 - 604s - loss: 0.0101 - accuracy: 0.9968 - val_loss: 0.5133 - val_accuracy: 0.8984 - 604s/epoch - 176ms/step\n",
      "Epoch 31/50\n",
      "3424/3424 - 611s - loss: 0.0080 - accuracy: 0.9977 - val_loss: 0.4991 - val_accuracy: 0.9093 - 611s/epoch - 179ms/step\n",
      "Epoch 32/50\n",
      "3424/3424 - 609s - loss: 0.0072 - accuracy: 0.9976 - val_loss: 0.5034 - val_accuracy: 0.9057 - 609s/epoch - 178ms/step\n",
      "Epoch 33/50\n",
      "3424/3424 - 608s - loss: 0.0078 - accuracy: 0.9974 - val_loss: 0.5260 - val_accuracy: 0.9129 - 608s/epoch - 178ms/step\n",
      "Epoch 34/50\n",
      "3424/3424 - 612s - loss: 0.0083 - accuracy: 0.9974 - val_loss: 0.5148 - val_accuracy: 0.9057 - 612s/epoch - 179ms/step\n",
      "Epoch 35/50\n",
      "3424/3424 - 608s - loss: 0.0051 - accuracy: 0.9984 - val_loss: 0.6046 - val_accuracy: 0.9021 - 608s/epoch - 177ms/step\n",
      "Epoch 36/50\n",
      "3424/3424 - 611s - loss: 0.0056 - accuracy: 0.9983 - val_loss: 0.4664 - val_accuracy: 0.9129 - 611s/epoch - 178ms/step\n",
      "Epoch 37/50\n",
      "3424/3424 - 609s - loss: 0.0059 - accuracy: 0.9981 - val_loss: 0.5534 - val_accuracy: 0.9045 - 609s/epoch - 178ms/step\n",
      "Epoch 38/50\n",
      "3424/3424 - 609s - loss: 0.0052 - accuracy: 0.9982 - val_loss: 0.5313 - val_accuracy: 0.9117 - 609s/epoch - 178ms/step\n",
      "Epoch 39/50\n",
      "3424/3424 - 607s - loss: 0.0081 - accuracy: 0.9974 - val_loss: 0.5050 - val_accuracy: 0.9154 - 607s/epoch - 177ms/step\n",
      "Epoch 40/50\n",
      "3424/3424 - 612s - loss: 0.0049 - accuracy: 0.9985 - val_loss: 0.5026 - val_accuracy: 0.9154 - 612s/epoch - 179ms/step\n",
      "Epoch 41/50\n",
      "3424/3424 - 608s - loss: 0.0055 - accuracy: 0.9982 - val_loss: 0.6015 - val_accuracy: 0.9008 - 608s/epoch - 178ms/step\n",
      "Epoch 42/50\n",
      "3424/3424 - 607s - loss: 0.0060 - accuracy: 0.9982 - val_loss: 0.6476 - val_accuracy: 0.9069 - 607s/epoch - 177ms/step\n",
      "Epoch 43/50\n",
      "3424/3424 - 608s - loss: 0.0047 - accuracy: 0.9984 - val_loss: 0.5353 - val_accuracy: 0.9129 - 608s/epoch - 178ms/step\n",
      "Epoch 44/50\n",
      "3424/3424 - 608s - loss: 0.0066 - accuracy: 0.9978 - val_loss: 0.5659 - val_accuracy: 0.9105 - 608s/epoch - 178ms/step\n",
      "Epoch 45/50\n",
      "3424/3424 - 608s - loss: 0.0055 - accuracy: 0.9983 - val_loss: 0.5222 - val_accuracy: 0.9141 - 608s/epoch - 178ms/step\n",
      "Epoch 46/50\n",
      "3424/3424 - 609s - loss: 0.0026 - accuracy: 0.9991 - val_loss: 0.6423 - val_accuracy: 0.9117 - 609s/epoch - 178ms/step\n",
      "Epoch 47/50\n",
      "3424/3424 - 613s - loss: 0.0071 - accuracy: 0.9978 - val_loss: 0.6712 - val_accuracy: 0.8972 - 613s/epoch - 179ms/step\n",
      "Epoch 48/50\n",
      "3424/3424 - 607s - loss: 0.0068 - accuracy: 0.9978 - val_loss: 0.5933 - val_accuracy: 0.9045 - 607s/epoch - 177ms/step\n",
      "Epoch 49/50\n",
      "3424/3424 - 607s - loss: 0.0045 - accuracy: 0.9987 - val_loss: 0.5665 - val_accuracy: 0.9129 - 607s/epoch - 177ms/step\n",
      "Epoch 50/50\n",
      "3424/3424 - 606s - loss: 0.0043 - accuracy: 0.9987 - val_loss: 0.5562 - val_accuracy: 0.9093 - 606s/epoch - 177ms/step\n"
     ]
    }
   ],
   "source": [
    "history = model_dn169_ca.fit(train_batches,\n",
    "                         epochs=50,\n",
    "                         verbose=2,\n",
    "                         validation_data=val_batches,\n",
    "                         callbacks=[checkpoint,Earlystop],\n",
    "                         class_weight=class_weights)"
   ]
  },
  {
   "cell_type": "markdown",
   "id": "8a4d22bf",
   "metadata": {
    "papermill": {
     "duration": 0.0284,
     "end_time": "2023-06-04T00:50:31.476402",
     "exception": false,
     "start_time": "2023-06-04T00:50:31.448002",
     "status": "completed"
    },
    "tags": []
   },
   "source": [
    "### Plotting accuracy and loss"
   ]
  },
  {
   "cell_type": "code",
   "execution_count": 22,
   "id": "e66c602e",
   "metadata": {
    "execution": {
     "iopub.execute_input": "2023-06-04T00:50:31.534610Z",
     "iopub.status.busy": "2023-06-04T00:50:31.533695Z",
     "iopub.status.idle": "2023-06-04T00:50:32.057099Z",
     "shell.execute_reply": "2023-06-04T00:50:32.056220Z"
    },
    "papermill": {
     "duration": 0.555142,
     "end_time": "2023-06-04T00:50:32.059603",
     "exception": false,
     "start_time": "2023-06-04T00:50:31.504461",
     "status": "completed"
    },
    "tags": []
   },
   "outputs": [
    {
     "name": "stdout",
     "output_type": "stream",
     "text": [
      "Number of epochs trained: 50\n"
     ]
    },
    {
     "data": {
      "image/png": "[encoded data removed]",
      "text/plain": [
       "<Figure size 1500x500 with 2 Axes>"
      ]
     },
     "metadata": {},
     "output_type": "display_data"
    }
   ],
   "source": [
    "# Determine number of epochs trained\n",
    "num_epochs_trained = len(history.history['val_loss'])\n",
    "print(f\"Number of epochs trained: {num_epochs_trained}\")\n",
    "\n",
    "## History plotting\n",
    "epochs = [i for i in range(num_epochs_trained)]\n",
    "fig , ax = plt.subplots(1,2)\n",
    "train_acc = history.history['accuracy']\n",
    "train_loss = history.history['loss']\n",
    "val_acc = history.history['val_accuracy']\n",
    "val_loss = history.history['val_loss']\n",
    "fig.set_size_inches(15,5)\n",
    "\n",
    "ax[0].plot(epochs , train_acc , 'go-' , label = 'Training Accuracy')\n",
    "ax[0].plot(epochs , val_acc , 'ro-' , label = 'Validation Accuracy')\n",
    "title_font = {'fontname':'Times New Roman', 'size':'14', 'color':'black', 'weight':'normal'}\n",
    "ax[0].set_title('Model Accuracy', fontdict=title_font)\n",
    "legend_font = {'family': 'Times New Roman', 'size': '12', 'weight': 'normal'}\n",
    "ax[0].legend(prop=legend_font)\n",
    "label_font = {'fontname':'Times New Roman', 'size':'12', 'color':'black', 'weight':'normal'}\n",
    "ax[0].set_xlabel(\"Epochs\",  fontdict=label_font)\n",
    "ax[0].set_ylabel(\"Accuracy\",  fontdict=label_font)\n",
    "\n",
    "ax[1].plot(epochs , train_loss , 'g-o' , label = 'Training Loss')\n",
    "ax[1].plot(epochs , val_loss , 'r-o' , label = 'Validation Loss')\n",
    "ax[1].set_title('Model Loss', fontdict=title_font)\n",
    "ax[1].legend(prop=legend_font)\n",
    "ax[1].set_xlabel(\"Epochs\", fontdict=label_font)\n",
    "ax[1].set_ylabel(\"Loss\", fontdict=label_font)\n",
    "plt.show()"
   ]
  },
  {
   "cell_type": "code",
   "execution_count": 23,
   "id": "13c89943",
   "metadata": {
    "execution": {
     "iopub.execute_input": "2023-06-04T00:50:32.119690Z",
     "iopub.status.busy": "2023-06-04T00:50:32.119421Z",
     "iopub.status.idle": "2023-06-04T00:50:32.874873Z",
     "shell.execute_reply": "2023-06-04T00:50:32.873933Z"
    },
    "id": "zm_AewFBXTj8",
    "papermill": {
     "duration": 0.788398,
     "end_time": "2023-06-04T00:50:32.877524",
     "exception": false,
     "start_time": "2023-06-04T00:50:32.089126",
     "status": "completed"
    },
    "tags": []
   },
   "outputs": [],
   "source": [
    "from tensorflow.keras import models\n",
    "model_dn169_ca.load_weights(\"DN169_CA.hdf5\")"
   ]
  },
  {
   "cell_type": "code",
   "execution_count": 24,
   "id": "8412bd71",
   "metadata": {
    "execution": {
     "iopub.execute_input": "2023-06-04T00:50:32.938547Z",
     "iopub.status.busy": "2023-06-04T00:50:32.938217Z",
     "iopub.status.idle": "2023-06-04T00:50:50.470284Z",
     "shell.execute_reply": "2023-06-04T00:50:50.469393Z"
    },
    "papermill": {
     "duration": 17.564797,
     "end_time": "2023-06-04T00:50:50.472392",
     "exception": false,
     "start_time": "2023-06-04T00:50:32.907595",
     "status": "completed"
    },
    "tags": []
   },
   "outputs": [
    {
     "name": "stdout",
     "output_type": "stream",
     "text": [
      "52/52 [==============================] - 17s 265ms/step\n"
     ]
    }
   ],
   "source": [
    "predictions = model_dn169_ca.predict(test_batches)"
   ]
  },
  {
   "cell_type": "code",
   "execution_count": 25,
   "id": "da184ade",
   "metadata": {
    "execution": {
     "iopub.execute_input": "2023-06-04T00:50:50.540009Z",
     "iopub.status.busy": "2023-06-04T00:50:50.539717Z",
     "iopub.status.idle": "2023-06-04T00:50:50.544587Z",
     "shell.execute_reply": "2023-06-04T00:50:50.543659Z"
    },
    "id": "FDTMtBeTdBfU",
    "papermill": {
     "duration": 0.04066,
     "end_time": "2023-06-04T00:50:50.546651",
     "exception": false,
     "start_time": "2023-06-04T00:50:50.505991",
     "status": "completed"
    },
    "tags": []
   },
   "outputs": [],
   "source": [
    "#geting predictions on test dataset\n",
    "y_pred = np.argmax(predictions, axis=1)\n",
    "#getting the true labels per image \n",
    "y_true = test_batches.classes\n",
    "#getting the predicted labels per image \n",
    "y_prob = predictions"
   ]
  },
  {
   "cell_type": "code",
   "execution_count": 26,
   "id": "0bcd6d9c",
   "metadata": {
    "execution": {
     "iopub.execute_input": "2023-06-04T00:50:50.613802Z",
     "iopub.status.busy": "2023-06-04T00:50:50.613540Z",
     "iopub.status.idle": "2023-06-04T00:50:50.629963Z",
     "shell.execute_reply": "2023-06-04T00:50:50.628933Z"
    },
    "papermill": {
     "duration": 0.051852,
     "end_time": "2023-06-04T00:50:50.631884",
     "exception": false,
     "start_time": "2023-06-04T00:50:50.580032",
     "status": "completed"
    },
    "tags": []
   },
   "outputs": [
    {
     "name": "stdout",
     "output_type": "stream",
     "text": [
      "\n",
      "Classification Report:\n",
      "              precision    recall  f1-score   support\n",
      "\n",
      "          AK       0.63      0.55      0.59        22\n",
      "         BCC       0.81      0.78      0.79        27\n",
      "         BKL       0.74      0.68      0.71        66\n",
      "          DF       0.83      0.83      0.83         6\n",
      "         MEL       0.74      0.57      0.65        35\n",
      "          NV       0.96      0.98      0.97       663\n",
      "        VASC       1.00      1.00      1.00         9\n",
      "\n",
      "    accuracy                           0.92       828\n",
      "   macro avg       0.82      0.77      0.79       828\n",
      "weighted avg       0.92      0.92      0.92       828\n",
      "\n"
     ]
    }
   ],
   "source": [
    "classnames = ['AK', 'BCC', 'BKL', 'DF', 'MEL', 'NV', 'VASC']\n",
    "\n",
    "from tensorflow.keras.utils import to_categorical\n",
    "y_test = to_categorical(y_true)\n",
    "\n",
    "report = classification_report(y_true, y_pred, target_names=classnames)\n",
    "\n",
    "print(\"\\nClassification Report:\")\n",
    "print(report)"
   ]
  },
  {
   "cell_type": "code",
   "execution_count": 27,
   "id": "0b971561",
   "metadata": {
    "execution": {
     "iopub.execute_input": "2023-06-04T00:50:50.699297Z",
     "iopub.status.busy": "2023-06-04T00:50:50.699000Z",
     "iopub.status.idle": "2023-06-04T00:50:51.288125Z",
     "shell.execute_reply": "2023-06-04T00:50:51.287131Z"
    },
    "papermill": {
     "duration": 0.625341,
     "end_time": "2023-06-04T00:50:51.290418",
     "exception": false,
     "start_time": "2023-06-04T00:50:50.665077",
     "status": "completed"
    },
    "tags": []
   },
   "outputs": [
    {
     "data": {
      "image/png": "[encoded data removed]",
      "text/plain": [
       "<Figure size 1000x400 with 2 Axes>"
      ]
     },
     "metadata": {},
     "output_type": "display_data"
    }
   ],
   "source": [
    "## Confusion Matrix\n",
    "title_font = {'fontname':'Times New Roman', 'size':'14', 'color':'black', 'weight':'normal'}\n",
    "label_font = {'fontname':'Times New Roman', 'size':'12', 'color':'black', 'weight':'normal'}\n",
    "\n",
    "from sklearn.metrics import confusion_matrix\n",
    "import seaborn as sns\n",
    "# Creating confusion matrix \n",
    "cm = confusion_matrix(y_true, y_pred)\n",
    "# Plotting the confusion matrix\n",
    "plt.figure(figsize=(10,4))\n",
    "sns.heatmap(cm, annot=True, fmt='g', cmap='Blues', xticklabels=targetnames, yticklabels=targetnames)\n",
    "plt.xlabel('Predicted Label', fontdict=label_font)\n",
    "plt.ylabel('True Label', fontdict=label_font)\n",
    "plt.title('Confusion Matrix', fontdict=title_font)\n",
    "plt.show()"
   ]
  },
  {
   "cell_type": "markdown",
   "id": "3c98982d",
   "metadata": {
    "papermill": {
     "duration": 0.033675,
     "end_time": "2023-06-04T00:50:51.358447",
     "exception": false,
     "start_time": "2023-06-04T00:50:51.324772",
     "status": "completed"
    },
    "tags": []
   },
   "source": [
    "## Results"
   ]
  },
  {
   "cell_type": "markdown",
   "id": "9cafde37",
   "metadata": {
    "papermill": {
     "duration": 0.033529,
     "end_time": "2023-06-04T00:50:51.425616",
     "exception": false,
     "start_time": "2023-06-04T00:50:51.392087",
     "status": "completed"
    },
    "tags": []
   },
   "source": [
    "### Individual Class Accuracy "
   ]
  },
  {
   "cell_type": "code",
   "execution_count": 28,
   "id": "c0b0d63f",
   "metadata": {
    "execution": {
     "iopub.execute_input": "2023-06-04T00:50:51.494645Z",
     "iopub.status.busy": "2023-06-04T00:50:51.493762Z",
     "iopub.status.idle": "2023-06-04T00:50:51.501798Z",
     "shell.execute_reply": "2023-06-04T00:50:51.500499Z"
    },
    "papermill": {
     "duration": 0.044958,
     "end_time": "2023-06-04T00:50:51.503884",
     "exception": false,
     "start_time": "2023-06-04T00:50:51.458926",
     "status": "completed"
    },
    "tags": []
   },
   "outputs": [
    {
     "name": "stdout",
     "output_type": "stream",
     "text": [
      "Overall accuracy: 92.03%\n",
      "Accuracy for each class:\n",
      "Class 0: 54.55%\n",
      "Class 1: 77.78%\n",
      "Class 2: 68.18%\n",
      "Class 3: 83.33%\n",
      "Class 4: 57.14%\n",
      "Class 5: 98.04%\n",
      "Class 6: 100.00%\n"
     ]
    }
   ],
   "source": [
    "# y_true are the true labels of the test set\n",
    "# y_pred are the predicted labels of the test set\n",
    "accuracy = accuracy_score(y_true, y_pred)\n",
    "# Calculate accuracy for each class\n",
    "class_accuracy = cm.diagonal()/cm.sum(axis=1)\n",
    "print(\"Overall accuracy: {:.2f}%\".format(accuracy*100))\n",
    "print(\"Accuracy for each class:\")\n",
    "for i, acc in enumerate(class_accuracy):\n",
    "    print(\"Class {}: {:.2f}%\".format(i, acc*100))"
   ]
  },
  {
   "cell_type": "markdown",
   "id": "8bd7fda7",
   "metadata": {
    "papermill": {
     "duration": 0.033418,
     "end_time": "2023-06-04T00:50:51.571133",
     "exception": false,
     "start_time": "2023-06-04T00:50:51.537715",
     "status": "completed"
    },
    "tags": []
   },
   "source": [
    "### Individual Class Weighted Precision"
   ]
  },
  {
   "cell_type": "code",
   "execution_count": 29,
   "id": "170cea33",
   "metadata": {
    "execution": {
     "iopub.execute_input": "2023-06-04T00:50:51.639479Z",
     "iopub.status.busy": "2023-06-04T00:50:51.639166Z",
     "iopub.status.idle": "2023-06-04T00:50:51.654399Z",
     "shell.execute_reply": "2023-06-04T00:50:51.653274Z"
    },
    "papermill": {
     "duration": 0.051734,
     "end_time": "2023-06-04T00:50:51.656339",
     "exception": false,
     "start_time": "2023-06-04T00:50:51.604605",
     "status": "completed"
    },
    "tags": []
   },
   "outputs": [
    {
     "name": "stdout",
     "output_type": "stream",
     "text": [
      "Weighted precision for each class:\n",
      "Class 0: 63.16%\n",
      "Class 1: 80.77%\n",
      "Class 2: 73.77%\n",
      "Class 3: 83.33%\n",
      "Class 4: 74.07%\n",
      "Class 5: 95.59%\n",
      "Class 6: 100.00%\n",
      "Weighted precision: 91.55%\n"
     ]
    }
   ],
   "source": [
    "report = classification_report(y_true, y_pred, output_dict=True)\n",
    "# Extract weighted precision for each class\n",
    "class_precision = {}\n",
    "for class_label in report.keys():\n",
    "    if class_label == 'weighted avg':\n",
    "        class_precision['weighted'] = report[class_label]['precision']\n",
    "    elif class_label.isdigit():\n",
    "        class_precision[int(class_label)] = report[class_label]['precision']\n",
    "print(\"Weighted precision for each class:\")\n",
    "for i, precision in class_precision.items():\n",
    "    if i == 'weighted':\n",
    "        print(\"Weighted precision: {:.2f}%\".format(precision*100))\n",
    "    else:\n",
    "        print(\"Class {}: {:.2f}%\".format(i, precision*100))"
   ]
  },
  {
   "cell_type": "markdown",
   "id": "6ecd3813",
   "metadata": {
    "papermill": {
     "duration": 0.033575,
     "end_time": "2023-06-04T00:50:51.723793",
     "exception": false,
     "start_time": "2023-06-04T00:50:51.690218",
     "status": "completed"
    },
    "tags": []
   },
   "source": [
    "### Individual Class Weighted Recall"
   ]
  },
  {
   "cell_type": "code",
   "execution_count": 30,
   "id": "ae2feb24",
   "metadata": {
    "execution": {
     "iopub.execute_input": "2023-06-04T00:50:51.792259Z",
     "iopub.status.busy": "2023-06-04T00:50:51.791705Z",
     "iopub.status.idle": "2023-06-04T00:50:51.806841Z",
     "shell.execute_reply": "2023-06-04T00:50:51.805679Z"
    },
    "papermill": {
     "duration": 0.051322,
     "end_time": "2023-06-04T00:50:51.808804",
     "exception": false,
     "start_time": "2023-06-04T00:50:51.757482",
     "status": "completed"
    },
    "tags": []
   },
   "outputs": [
    {
     "name": "stdout",
     "output_type": "stream",
     "text": [
      "Weighted recall for each class:\n",
      "Class 0: 54.55%\n",
      "Class 1: 77.78%\n",
      "Class 2: 68.18%\n",
      "Class 3: 83.33%\n",
      "Class 4: 57.14%\n",
      "Class 5: 98.04%\n",
      "Class 6: 100.00%\n",
      "Weighted Recall: 92.03%\n"
     ]
    }
   ],
   "source": [
    "report = classification_report(y_true, y_pred, output_dict=True)\n",
    "# Extract weighted recall for each class\n",
    "class_recall = {}\n",
    "for class_label in report.keys():\n",
    "    if class_label == 'weighted avg':\n",
    "        class_recall['weighted'] = report[class_label]['recall']\n",
    "    elif class_label.isdigit():\n",
    "        class_recall[int(class_label)] = report[class_label]['recall']\n",
    "print(\"Weighted recall for each class:\")\n",
    "for i, recall in class_recall.items():\n",
    "    if i == 'weighted':\n",
    "        print(\"Weighted Recall: {:.2f}%\".format(recall*100))\n",
    "    else:\n",
    "        print(\"Class {}: {:.2f}%\".format(i, recall*100))"
   ]
  },
  {
   "cell_type": "markdown",
   "id": "2d692ff9",
   "metadata": {
    "papermill": {
     "duration": 0.033423,
     "end_time": "2023-06-04T00:50:51.876134",
     "exception": false,
     "start_time": "2023-06-04T00:50:51.842711",
     "status": "completed"
    },
    "tags": []
   },
   "source": [
    "### Individual Class Weighted F1-score"
   ]
  },
  {
   "cell_type": "code",
   "execution_count": 31,
   "id": "7e537fe7",
   "metadata": {
    "execution": {
     "iopub.execute_input": "2023-06-04T00:50:51.945459Z",
     "iopub.status.busy": "2023-06-04T00:50:51.945153Z",
     "iopub.status.idle": "2023-06-04T00:50:51.959952Z",
     "shell.execute_reply": "2023-06-04T00:50:51.958867Z"
    },
    "papermill": {
     "duration": 0.052124,
     "end_time": "2023-06-04T00:50:51.962098",
     "exception": false,
     "start_time": "2023-06-04T00:50:51.909974",
     "status": "completed"
    },
    "tags": []
   },
   "outputs": [
    {
     "name": "stdout",
     "output_type": "stream",
     "text": [
      "Weighted F1-score for each class:\n",
      "Class 0: 58.54%\n",
      "Class 1: 79.25%\n",
      "Class 2: 70.87%\n",
      "Class 3: 83.33%\n",
      "Class 4: 64.52%\n",
      "Class 5: 96.80%\n",
      "Class 6: 100.00%\n",
      "Weighted F1-score: 91.71%\n"
     ]
    }
   ],
   "source": [
    "report = classification_report(y_true, y_pred, output_dict=True)\n",
    "# Extract weighted F1-score for each class\n",
    "class_f1 = {}\n",
    "for class_label in report.keys():\n",
    "    if class_label == 'weighted avg':\n",
    "        class_f1['weighted'] = report[class_label]['f1-score']\n",
    "    elif class_label.isdigit():\n",
    "        class_f1[int(class_label)] = report[class_label]['f1-score']\n",
    "print(\"Weighted F1-score for each class:\")\n",
    "for i, f1_score in class_f1.items():\n",
    "    if i == 'weighted':\n",
    "        print(\"Weighted F1-score: {:.2f}%\".format(f1_score*100))\n",
    "    else:\n",
    "        print(\"Class {}: {:.2f}%\".format(i, f1_score*100))"
   ]
  },
  {
   "cell_type": "markdown",
   "id": "1a8bcb47",
   "metadata": {
    "papermill": {
     "duration": 0.033643,
     "end_time": "2023-06-04T00:50:52.029997",
     "exception": false,
     "start_time": "2023-06-04T00:50:51.996354",
     "status": "completed"
    },
    "tags": []
   },
   "source": [
    "### Individual Class Precision, Recall and F1-score"
   ]
  },
  {
   "cell_type": "code",
   "execution_count": 32,
   "id": "8f800e8a",
   "metadata": {
    "execution": {
     "iopub.execute_input": "2023-06-04T00:50:52.098547Z",
     "iopub.status.busy": "2023-06-04T00:50:52.098254Z",
     "iopub.status.idle": "2023-06-04T00:50:52.107272Z",
     "shell.execute_reply": "2023-06-04T00:50:52.106424Z"
    },
    "papermill": {
     "duration": 0.045626,
     "end_time": "2023-06-04T00:50:52.109274",
     "exception": false,
     "start_time": "2023-06-04T00:50:52.063648",
     "status": "completed"
    },
    "tags": []
   },
   "outputs": [
    {
     "name": "stdout",
     "output_type": "stream",
     "text": [
      "Class-wise weighted precision, recall, and F1-score:\n",
      "Class 0: Precision=0.63, Recall=0.55, F1-score=0.59\n",
      "Class 1: Precision=0.81, Recall=0.78, F1-score=0.79\n",
      "Class 2: Precision=0.74, Recall=0.68, F1-score=0.71\n",
      "Class 3: Precision=0.83, Recall=0.83, F1-score=0.83\n",
      "Class 4: Precision=0.74, Recall=0.57, F1-score=0.65\n",
      "Class 5: Precision=0.96, Recall=0.98, F1-score=0.97\n",
      "Class 6: Precision=1.00, Recall=1.00, F1-score=1.00\n"
     ]
    }
   ],
   "source": [
    "from sklearn.metrics import precision_recall_fscore_support\n",
    "\n",
    "precision_class, recall_class, f1_class, support_class = precision_recall_fscore_support(y_true, y_pred, average=None)\n",
    "print('Class-wise weighted precision, recall, and F1-score:')\n",
    "for i in range(len(precision_class)):\n",
    "    print('Class {}: Precision={:.2f}, Recall={:.2f}, F1-score={:.2f}'.format(i, precision_class[i], recall_class[i], f1_class[i]))\n"
   ]
  },
  {
   "cell_type": "markdown",
   "id": "6c6bf530",
   "metadata": {
    "papermill": {
     "duration": 0.033458,
     "end_time": "2023-06-04T00:50:52.176844",
     "exception": false,
     "start_time": "2023-06-04T00:50:52.143386",
     "status": "completed"
    },
    "tags": []
   },
   "source": [
    "### Individual Class Weighted Sensitivity"
   ]
  },
  {
   "cell_type": "code",
   "execution_count": 33,
   "id": "97d4d10e",
   "metadata": {
    "execution": {
     "iopub.execute_input": "2023-06-04T00:50:52.246584Z",
     "iopub.status.busy": "2023-06-04T00:50:52.245825Z",
     "iopub.status.idle": "2023-06-04T00:50:52.702506Z",
     "shell.execute_reply": "2023-06-04T00:50:52.701389Z"
    },
    "papermill": {
     "duration": 0.494174,
     "end_time": "2023-06-04T00:50:52.704861",
     "exception": false,
     "start_time": "2023-06-04T00:50:52.210687",
     "status": "completed"
    },
    "tags": []
   },
   "outputs": [
    {
     "name": "stdout",
     "output_type": "stream",
     "text": [
      "Weighted Sensitivity:  0.9202898550724637\n",
      "Class  0 :sensitivity = 0.5454545454545454\n",
      "Class  1 :sensitivity = 0.7777777777777778\n",
      "Class  2 :sensitivity = 0.6818181818181818\n",
      "Class  3 :sensitivity = 0.8333333333333334\n",
      "Class  4 :sensitivity = 0.5714285714285714\n",
      "Class  5 :sensitivity = 0.9803921568627451\n",
      "Class  6 :sensitivity = 1.0\n"
     ]
    }
   ],
   "source": [
    "from imblearn.metrics import sensitivity_score\n",
    "\n",
    "sensitivity = sensitivity_score(y_true, y_pred, average='weighted')\n",
    "print(\"Weighted Sensitivity: \", sensitivity)\n",
    "\n",
    "# Calculate class-wise sensitivity\n",
    "sensitivity = sensitivity_score(y_true, y_pred, average=None)\n",
    "\n",
    "# Print sensitivity score for each class\n",
    "for i in range(len(sensitivity)):\n",
    "    print(\"Class \", i, \":sensitivity =\", sensitivity[i])"
   ]
  },
  {
   "cell_type": "markdown",
   "id": "55e501f7",
   "metadata": {
    "papermill": {
     "duration": 0.033808,
     "end_time": "2023-06-04T00:50:52.773722",
     "exception": false,
     "start_time": "2023-06-04T00:50:52.739914",
     "status": "completed"
    },
    "tags": []
   },
   "source": [
    "### Individual Class Weighted Specificity"
   ]
  },
  {
   "cell_type": "code",
   "execution_count": 34,
   "id": "96c2706d",
   "metadata": {
    "execution": {
     "iopub.execute_input": "2023-06-04T00:50:52.845609Z",
     "iopub.status.busy": "2023-06-04T00:50:52.844794Z",
     "iopub.status.idle": "2023-06-04T00:50:52.854575Z",
     "shell.execute_reply": "2023-06-04T00:50:52.853559Z"
    },
    "papermill": {
     "duration": 0.048996,
     "end_time": "2023-06-04T00:50:52.856484",
     "exception": false,
     "start_time": "2023-06-04T00:50:52.807488",
     "status": "completed"
    },
    "tags": []
   },
   "outputs": [
    {
     "name": "stdout",
     "output_type": "stream",
     "text": [
      "Weighted Specificity:  0.8519237436566636\n",
      "Class  0 :specificity= 0.9913151364764268\n",
      "Class  1 :specificity= 0.9937578027465668\n",
      "Class  2 :specificity= 0.979002624671916\n",
      "Class  3 :specificity= 0.9987834549878345\n",
      "Class  4 :specificity= 0.9911727616645649\n",
      "Class  5 :specificity= 0.8181818181818182\n",
      "Class  6 :specificity= 1.0\n"
     ]
    }
   ],
   "source": [
    "from imblearn.metrics import specificity_score\n",
    "\n",
    "specificity = specificity_score(y_true, y_pred, average='weighted')\n",
    "print(\"Weighted Specificity: \", specificity)\n",
    "\n",
    "# Calculate class-wise specificity\n",
    "specificity = specificity_score(y_true, y_pred, average=None)\n",
    "\n",
    "# Print sensitivity score for each class\n",
    "for i in range(len(specificity)):\n",
    "    print(\"Class \", i, \":specificity=\", specificity[i])"
   ]
  },
  {
   "cell_type": "markdown",
   "id": "3d94e51b",
   "metadata": {
    "papermill": {
     "duration": 0.033526,
     "end_time": "2023-06-04T00:50:52.924261",
     "exception": false,
     "start_time": "2023-06-04T00:50:52.890735",
     "status": "completed"
    },
    "tags": []
   },
   "source": [
    "### Accuracy"
   ]
  },
  {
   "cell_type": "code",
   "execution_count": 35,
   "id": "4615fd0a",
   "metadata": {
    "execution": {
     "iopub.execute_input": "2023-06-04T00:50:52.994842Z",
     "iopub.status.busy": "2023-06-04T00:50:52.994031Z",
     "iopub.status.idle": "2023-06-04T00:50:53.000403Z",
     "shell.execute_reply": "2023-06-04T00:50:52.999301Z"
    },
    "papermill": {
     "duration": 0.043769,
     "end_time": "2023-06-04T00:50:53.002479",
     "exception": false,
     "start_time": "2023-06-04T00:50:52.958710",
     "status": "completed"
    },
    "tags": []
   },
   "outputs": [
    {
     "name": "stdout",
     "output_type": "stream",
     "text": [
      "Accuracy: 0.9202898550724637\n"
     ]
    }
   ],
   "source": [
    "print(\"Accuracy: \" + str(accuracy_score(y_true, y_pred)))\n",
    "import numpy as np\n",
    "from sklearn.metrics import accuracy_score"
   ]
  },
  {
   "cell_type": "code",
   "execution_count": 36,
   "id": "c34f3bfe",
   "metadata": {
    "execution": {
     "iopub.execute_input": "2023-06-04T00:50:53.072932Z",
     "iopub.status.busy": "2023-06-04T00:50:53.071876Z",
     "iopub.status.idle": "2023-06-04T00:50:53.091760Z",
     "shell.execute_reply": "2023-06-04T00:50:53.090547Z"
    },
    "papermill": {
     "duration": 0.056899,
     "end_time": "2023-06-04T00:50:53.093695",
     "exception": false,
     "start_time": "2023-06-04T00:50:53.036796",
     "status": "completed"
    },
    "tags": []
   },
   "outputs": [
    {
     "name": "stdout",
     "output_type": "stream",
     "text": [
      "Top-1 Accuracy: 0.9202898550724637\n",
      "Top-2 Accuracy: 0.9746376811594203\n",
      "Top-3 Accuracy: 0.9867149758454107\n"
     ]
    }
   ],
   "source": [
    "# Calculate top-1 accuracy\n",
    "top1_acc = accuracy_score(y_true, y_pred)\n",
    "print(\"Top-1 Accuracy:\", top1_acc)\n",
    "\n",
    "# Calculate top-2 accuracy\n",
    "y_pred_top2 = np.argsort(-predictions, axis=1)[:, :2] # Get the top 2 predicted classes\n",
    "top2_acc = np.mean(np.array([y_true[i] in y_pred_top2[i] for i in range(len(y_true))]))\n",
    "print(\"Top-2 Accuracy:\", top2_acc)\n",
    "\n",
    "# Calculate top-3 accuracy\n",
    "y_pred_top3 = np.argsort(-predictions, axis=1)[:, :3] # Get the top 3 predicted classes\n",
    "top3_acc = np.mean(np.array([y_true[i] in y_pred_top3[i] for i in range(len(y_true))]))\n",
    "print(\"Top-3 Accuracy:\", top3_acc)\n",
    "from sklearn.metrics import f1_score"
   ]
  },
  {
   "cell_type": "markdown",
   "id": "a2c7af93",
   "metadata": {
    "papermill": {
     "duration": 0.033751,
     "end_time": "2023-06-04T00:50:53.162264",
     "exception": false,
     "start_time": "2023-06-04T00:50:53.128513",
     "status": "completed"
    },
    "tags": []
   },
   "source": [
    "### Weighted Evaluation Measures"
   ]
  },
  {
   "cell_type": "code",
   "execution_count": 37,
   "id": "7ae036fb",
   "metadata": {
    "execution": {
     "iopub.execute_input": "2023-06-04T00:50:53.232058Z",
     "iopub.status.busy": "2023-06-04T00:50:53.231287Z",
     "iopub.status.idle": "2023-06-04T00:50:53.258360Z",
     "shell.execute_reply": "2023-06-04T00:50:53.257231Z"
    },
    "papermill": {
     "duration": 0.064008,
     "end_time": "2023-06-04T00:50:53.260346",
     "exception": false,
     "start_time": "2023-06-04T00:50:53.196338",
     "status": "completed"
    },
    "tags": []
   },
   "outputs": [
    {
     "name": "stdout",
     "output_type": "stream",
     "text": [
      "Weighted Precision: 0.91553970974141\n",
      "Weighted Recall: 0.9202898550724637\n",
      "Weighted F1-Score: 0.9171482195639055\n",
      "Weighted Sensitivity: 0.9202898550724637\n",
      "Weighted Specificity: 0.8519237436566636\n",
      "weighted Roc score: 0.976257944728654\n"
     ]
    }
   ],
   "source": [
    "print(\"Weighted Precision: \"+ str(precision_score(y_true, y_pred, average='weighted')))\n",
    "print(\"Weighted Recall: \"+ str(recall_score(y_true, y_pred, average='weighted')))\n",
    "print(\"Weighted F1-Score: \"+ str(f1_score(y_true, y_pred, average='weighted')))\n",
    "print(\"Weighted Sensitivity: \"+ str(sensitivity_score(y_true, y_pred, average='weighted')))\n",
    "print(\"Weighted Specificity: \"+ str(specificity_score(y_true, y_pred, average='weighted')))\n",
    "print(\"weighted Roc score: \" + str(roc_auc_score(y_true,y_prob,multi_class='ovr',average='weighted')))"
   ]
  },
  {
   "cell_type": "markdown",
   "id": "67c17b0a",
   "metadata": {
    "papermill": {
     "duration": 0.033899,
     "end_time": "2023-06-04T00:50:53.328492",
     "exception": false,
     "start_time": "2023-06-04T00:50:53.294593",
     "status": "completed"
    },
    "tags": []
   },
   "source": [
    "### Macro Evaluation Measures"
   ]
  },
  {
   "cell_type": "code",
   "execution_count": 38,
   "id": "54579770",
   "metadata": {
    "execution": {
     "iopub.execute_input": "2023-06-04T00:50:53.398264Z",
     "iopub.status.busy": "2023-06-04T00:50:53.397721Z",
     "iopub.status.idle": "2023-06-04T00:50:53.419112Z",
     "shell.execute_reply": "2023-06-04T00:50:53.418225Z"
    },
    "papermill": {
     "duration": 0.058505,
     "end_time": "2023-06-04T00:50:53.421049",
     "exception": false,
     "start_time": "2023-06-04T00:50:53.362544",
     "status": "completed"
    },
    "tags": []
   },
   "outputs": [
    {
     "name": "stdout",
     "output_type": "stream",
     "text": [
      "Macro Precision: 0.8152760857298238\n",
      "Macro Recall: 0.7700292238107364\n",
      "Macro F1-Score: 0.7904224077695213\n",
      "Macro Sensitivity: 0.7700292238107364\n",
      "Macro Specificity: 0.9674590855327325\n",
      "Macro Roc score: 0.9761497706088671\n"
     ]
    }
   ],
   "source": [
    "print(\"Macro Precision: \"+ str(precision_score(y_true, y_pred, average='macro')))\n",
    "print(\"Macro Recall: \"+ str(recall_score(y_true, y_pred, average='macro')))\n",
    "print(\"Macro F1-Score: \"+ str(f1_score(y_true, y_pred, average='macro')))\n",
    "print(\"Macro Sensitivity: \"+ str(sensitivity_score(y_true, y_pred, average='macro')))\n",
    "print(\"Macro Specificity: \"+ str(specificity_score(y_true, y_pred, average='macro')))\n",
    "print(\"Macro Roc score: \" + str(roc_auc_score(y_true,y_prob,multi_class='ovr',average='macro')))"
   ]
  },
  {
   "cell_type": "markdown",
   "id": "1b610589",
   "metadata": {
    "papermill": {
     "duration": 0.034231,
     "end_time": "2023-06-04T00:50:53.489730",
     "exception": false,
     "start_time": "2023-06-04T00:50:53.455499",
     "status": "completed"
    },
    "tags": []
   },
   "source": [
    "### Micro Evaluation Measures"
   ]
  },
  {
   "cell_type": "code",
   "execution_count": 39,
   "id": "b800420a",
   "metadata": {
    "execution": {
     "iopub.execute_input": "2023-06-04T00:50:53.560197Z",
     "iopub.status.busy": "2023-06-04T00:50:53.559352Z",
     "iopub.status.idle": "2023-06-04T00:50:53.572900Z",
     "shell.execute_reply": "2023-06-04T00:50:53.571814Z"
    },
    "papermill": {
     "duration": 0.050663,
     "end_time": "2023-06-04T00:50:53.574815",
     "exception": false,
     "start_time": "2023-06-04T00:50:53.524152",
     "status": "completed"
    },
    "tags": []
   },
   "outputs": [
    {
     "name": "stdout",
     "output_type": "stream",
     "text": [
      "Micro Precision: 0.9202898550724637\n",
      "Micro Recall: 0.9202898550724637\n",
      "Micro F1-Score: 0.9202898550724637\n",
      "Micro Sensitivity: 0.9202898550724637\n",
      "Micro Specificity: 0.9867149758454107\n"
     ]
    }
   ],
   "source": [
    "print(\"Micro Precision: \"+ str(precision_score(y_true, y_pred, average='micro')))\n",
    "print(\"Micro Recall: \"+ str(recall_score(y_true, y_pred, average='micro')))\n",
    "print(\"Micro F1-Score: \"+ str(f1_score(y_true, y_pred, average='micro')))\n",
    "print(\"Micro Sensitivity: \"+ str(sensitivity_score(y_true, y_pred, average='micro')))\n",
    "print(\"Micro Specificity: \"+ str(specificity_score(y_true, y_pred, average='micro')))"
   ]
  },
  {
   "cell_type": "markdown",
   "id": "1b35e8e6",
   "metadata": {
    "papermill": {
     "duration": 0.034503,
     "end_time": "2023-06-04T00:50:53.645197",
     "exception": false,
     "start_time": "2023-06-04T00:50:53.610694",
     "status": "completed"
    },
    "tags": []
   },
   "source": [
    "## ROC"
   ]
  },
  {
   "cell_type": "markdown",
   "id": "78bdde50",
   "metadata": {
    "papermill": {
     "duration": 0.034218,
     "end_time": "2023-06-04T00:50:53.713697",
     "exception": false,
     "start_time": "2023-06-04T00:50:53.679479",
     "status": "completed"
    },
    "tags": []
   },
   "source": [
    "### Compute ROC curve and ROC area for each class"
   ]
  },
  {
   "cell_type": "code",
   "execution_count": 40,
   "id": "ea79b183",
   "metadata": {
    "execution": {
     "iopub.execute_input": "2023-06-04T00:50:53.784713Z",
     "iopub.status.busy": "2023-06-04T00:50:53.783277Z",
     "iopub.status.idle": "2023-06-04T00:50:54.092050Z",
     "shell.execute_reply": "2023-06-04T00:50:54.091135Z"
    },
    "papermill": {
     "duration": 0.346166,
     "end_time": "2023-06-04T00:50:54.094167",
     "exception": false,
     "start_time": "2023-06-04T00:50:53.748001",
     "status": "completed"
    },
    "tags": []
   },
   "outputs": [
    {
     "data": {
      "image/png": "[encoded data removed]",
      "text/plain": [
       "<Figure size 640x480 with 1 Axes>"
      ]
     },
     "metadata": {},
     "output_type": "display_data"
    }
   ],
   "source": [
    "fpr = {}\n",
    "tpr = {}\n",
    "roc_auc = dict()\n",
    "for i in range(num_classes):\n",
    "    fpr[i], tpr[i], _ = roc_curve(y_test[:, i], y_prob[:, i], drop_intermediate=False)\n",
    "    roc_auc[i] = auc(fpr[i], tpr[i])\n",
    "\n",
    "\n",
    "# plot the ROC curve for each class\n",
    "for i in range(num_classes):\n",
    "    plt.plot(fpr[i], tpr[i], label='Class {}: AUC={:.3f}'.format(i, roc_auc[i]))\n",
    "\n",
    "plt.xlabel('False Positive Rate')\n",
    "plt.ylabel('True Positive Rate')\n",
    "plt.legend()\n",
    "plt.show()"
   ]
  },
  {
   "cell_type": "markdown",
   "id": "128f567e",
   "metadata": {
    "papermill": {
     "duration": 0.034941,
     "end_time": "2023-06-04T00:50:54.164669",
     "exception": false,
     "start_time": "2023-06-04T00:50:54.129728",
     "status": "completed"
    },
    "tags": []
   },
   "source": [
    "## MCC and Kappa Score"
   ]
  },
  {
   "cell_type": "code",
   "execution_count": 41,
   "id": "fd2667b6",
   "metadata": {
    "execution": {
     "iopub.execute_input": "2023-06-04T00:50:54.235583Z",
     "iopub.status.busy": "2023-06-04T00:50:54.235283Z",
     "iopub.status.idle": "2023-06-04T00:50:54.244423Z",
     "shell.execute_reply": "2023-06-04T00:50:54.243452Z"
    },
    "papermill": {
     "duration": 0.04697,
     "end_time": "2023-06-04T00:50:54.246448",
     "exception": false,
     "start_time": "2023-06-04T00:50:54.199478",
     "status": "completed"
    },
    "tags": []
   },
   "outputs": [
    {
     "name": "stdout",
     "output_type": "stream",
     "text": [
      "MCC: 76.24%\n",
      "Kappa Score: 76.09%\n"
     ]
    }
   ],
   "source": [
    "from sklearn.metrics import matthews_corrcoef, cohen_kappa_score\n",
    "\n",
    "# y_true are the true labels of the test set\n",
    "# y_pred are the predicted labels of the test set\n",
    "mcc = matthews_corrcoef(y_true, y_pred)\n",
    "kappa = cohen_kappa_score(y_true, y_pred)\n",
    "print(\"MCC: {:.2f}%\".format(mcc*100))\n",
    "print(\"Kappa Score: {:.2f}%\".format(kappa*100))"
   ]
  },
  {
   "cell_type": "code",
   "execution_count": 42,
   "id": "fe5dba5e",
   "metadata": {
    "execution": {
     "iopub.execute_input": "2023-06-04T00:50:54.318310Z",
     "iopub.status.busy": "2023-06-04T00:50:54.317568Z",
     "iopub.status.idle": "2023-06-04T00:50:54.381932Z",
     "shell.execute_reply": "2023-06-04T00:50:54.380904Z"
    },
    "papermill": {
     "duration": 0.102182,
     "end_time": "2023-06-04T00:50:54.383902",
     "exception": false,
     "start_time": "2023-06-04T00:50:54.281720",
     "status": "completed"
    },
    "tags": []
   },
   "outputs": [
    {
     "name": "stdout",
     "output_type": "stream",
     "text": [
      "MCC per class:\n",
      "Class 0: 57.65%\n",
      "Class 1: 78.57%\n",
      "Class 2: 68.51%\n",
      "Class 3: 83.21%\n",
      "Class 4: 63.73%\n",
      "Class 5: 83.26%\n",
      "Class 6: 100.00%\n",
      "Kappa Score per class:\n",
      "Class 0: 57.49%\n",
      "Class 1: 78.56%\n",
      "Class 2: 68.45%\n",
      "Class 3: 83.21%\n",
      "Class 4: 63.16%\n",
      "Class 5: 83.07%\n",
      "Class 6: 100.00%\n"
     ]
    }
   ],
   "source": [
    "### Individual Class Wise MCC and Kappa\n",
    "\n",
    "from sklearn.metrics import confusion_matrix, matthews_corrcoef, cohen_kappa_score\n",
    "# y_true are the true labels of the test set\n",
    "# y_pred are the predicted labels of the test set\n",
    "conf_mat = confusion_matrix(y_true, y_pred)\n",
    "mcc_per_class = {}\n",
    "kappa_per_class = {}\n",
    "\n",
    "for i in range(len(conf_mat)):\n",
    "    tp = conf_mat[i][i]\n",
    "    fp = sum(conf_mat[:, i]) - tp\n",
    "    fn = sum(conf_mat[i, :]) - tp\n",
    "    tn = sum(sum(conf_mat)) - tp - fp - fn\n",
    "\n",
    "    mcc_per_class[i] = matthews_corrcoef([1 if x==i else 0 for x in y_true], [1 if x==i else 0 for x in y_pred])\n",
    "    kappa_per_class[i] = cohen_kappa_score([1 if x==i else 0 for x in y_true], [1 if x==i else 0 for x in y_pred])\n",
    "\n",
    "print(\"MCC per class:\")\n",
    "for i, mcc in mcc_per_class.items():\n",
    "    print(\"Class {}: {:.2f}%\".format(i, mcc*100))\n",
    "\n",
    "print(\"Kappa Score per class:\")\n",
    "for i, kappa in kappa_per_class.items():\n",
    "    print(\"Class {}: {:.2f}%\".format(i, kappa*100))"
   ]
  }
 ],
 "metadata": {
  "kernelspec": {
   "display_name": "Python 3",
   "language": "python",
   "name": "python3"
  },
  "language_info": {
   "codemirror_mode": {
    "name": "ipython",
    "version": 3
   },
   "file_extension": ".py",
   "mimetype": "text/x-python",
   "name": "python",
   "nbconvert_exporter": "python",
   "pygments_lexer": "ipython3",
   "version": "3.10.10"
  },
  "papermill": {
   "default_parameters": {},
   "duration": 31104.085408,
   "end_time": "2023-06-04T00:50:57.947548",
   "environment_variables": {},
   "exception": null,
   "input_path": "__notebook__.ipynb",
   "output_path": "__notebook__.ipynb",
   "parameters": {},
   "start_time": "2023-06-03T16:12:33.862140",
   "version": "2.4.0"
  }
 },
 "nbformat": 4,
 "nbformat_minor": 5
}
