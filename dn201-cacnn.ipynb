{
 "cells": [
  {
   "cell_type": "markdown",
   "id": "f00dfa37",
   "metadata": {
    "papermill": {
     "duration": 0.014295,
     "end_time": "2023-05-20T13:17:09.360696",
     "exception": false,
     "start_time": "2023-05-20T13:17:09.346401",
     "status": "completed"
    },
    "tags": []
   },
   "source": [
    "# Libraries"
   ]
  },
  {
   "cell_type": "code",
   "execution_count": 1,
   "id": "ce18eba7",
   "metadata": {
    "execution": {
     "iopub.execute_input": "2023-05-20T13:17:09.389824Z",
     "iopub.status.busy": "2023-05-20T13:17:09.389396Z",
     "iopub.status.idle": "2023-05-20T13:17:17.611862Z",
     "shell.execute_reply": "2023-05-20T13:17:17.610781Z"
    },
    "id": "Aa36bMKLze3z",
    "papermill": {
     "duration": 8.240143,
     "end_time": "2023-05-20T13:17:17.614564",
     "exception": false,
     "start_time": "2023-05-20T13:17:09.374421",
     "status": "completed"
    },
    "tags": []
   },
   "outputs": [
    {
     "name": "stderr",
     "output_type": "stream",
     "text": [
      "/opt/conda/lib/python3.10/site-packages/scipy/__init__.py:146: UserWarning: A NumPy version >=1.16.5 and <1.23.0 is required for this version of SciPy (detected version 1.23.5\n",
      "  warnings.warn(f\"A NumPy version >={np_minversion} and <{np_maxversion}\"\n"
     ]
    }
   ],
   "source": [
    "import pandas as pd\n",
    "import numpy as np\n",
    "import os\n",
    "import tensorflow as tf\n",
    "import cv2\n",
    "from keras import backend as K\n",
    "from keras.layers import Layer, InputSpec\n",
    "import keras.layers as kl\n",
    "from glob import glob\n",
    "from sklearn.metrics import roc_curve, auc\n",
    "from keras.preprocessing import image\n",
    "from tensorflow.keras.models import Sequential\n",
    "from sklearn.metrics import roc_auc_score\n",
    "from tensorflow.keras import callbacks \n",
    "from tensorflow.keras.callbacks import ModelCheckpoint, EarlyStopping\n",
    "from  matplotlib import pyplot as plt\n",
    "from tensorflow.keras import Model\n",
    "from tensorflow.keras.layers import concatenate, Dense, Conv2D, MaxPooling2D, Flatten, Input, Activation, add, AveragePooling2D, BatchNormalization, Dropout\n",
    "%matplotlib inline\n",
    "import shutil\n",
    "from sklearn.metrics import  precision_score, recall_score, accuracy_score, classification_report, confusion_matrix\n",
    "from tensorflow.python.platform import build_info as tf_build_info\n",
    "from tensorflow.keras.preprocessing.image import ImageDataGenerator\n",
    "from sklearn.model_selection import train_test_split\n",
    "\n",
    "from PIL import ImageFile\n",
    "ImageFile.LOAD_TRUNCATED_IMAGES = True\n",
    "\n",
    "from tensorflow.keras.layers import Reshape, Conv2D, BatchNormalization, MaxPooling2D, Flatten, Dense, Input, GlobalAveragePooling2D, GlobalMaxPooling2D\n",
    "from tensorflow.keras.applications.mobilenet import MobileNet\n",
    "from tensorflow.keras.models import Model\n",
    "from tensorflow.keras.callbacks import EarlyStopping, ModelCheckpoint\n",
    "from tensorflow.keras.preprocessing.image import ImageDataGenerator"
   ]
  },
  {
   "cell_type": "code",
   "execution_count": 2,
   "id": "59f144a1",
   "metadata": {
    "execution": {
     "iopub.execute_input": "2023-05-20T13:17:17.645394Z",
     "iopub.status.busy": "2023-05-20T13:17:17.644783Z",
     "iopub.status.idle": "2023-05-20T13:17:17.649690Z",
     "shell.execute_reply": "2023-05-20T13:17:17.648831Z"
    },
    "id": "PsoqCvNsgmHP",
    "papermill": {
     "duration": 0.022083,
     "end_time": "2023-05-20T13:17:17.652051",
     "exception": false,
     "start_time": "2023-05-20T13:17:17.629968",
     "status": "completed"
    },
    "tags": []
   },
   "outputs": [],
   "source": [
    "targetnames = ['akiec', 'bcc', 'bkl', 'df', 'mel', 'nv', 'vasc']\n",
    "batch_size = 16\n",
    "image_size = 224"
   ]
  },
  {
   "cell_type": "code",
   "execution_count": 3,
   "id": "b3939d56",
   "metadata": {
    "execution": {
     "iopub.execute_input": "2023-05-20T13:17:17.680801Z",
     "iopub.status.busy": "2023-05-20T13:17:17.680512Z",
     "iopub.status.idle": "2023-05-20T13:17:17.684757Z",
     "shell.execute_reply": "2023-05-20T13:17:17.683824Z"
    },
    "id": "wNisha_gM3_Z",
    "papermill": {
     "duration": 0.020833,
     "end_time": "2023-05-20T13:17:17.686723",
     "exception": false,
     "start_time": "2023-05-20T13:17:17.665890",
     "status": "completed"
    },
    "tags": []
   },
   "outputs": [],
   "source": [
    "train_path = '/kaggle/input/splitted-and-augmented-ham-15/Splitted_And_Augmented_HAM_15/HAM10K/train_dir'\n",
    "test_path = '/kaggle/input/splitted-and-augmented-ham-15/Splitted_And_Augmented_HAM_15/HAM10K/test_dir'\n",
    "val_path = '/kaggle/input/splitted-and-augmented-ham-15/Splitted_And_Augmented_HAM_15/HAM10K/val_dir'"
   ]
  },
  {
   "cell_type": "markdown",
   "id": "067b19f1",
   "metadata": {
    "papermill": {
     "duration": 0.013522,
     "end_time": "2023-05-20T13:17:17.713840",
     "exception": false,
     "start_time": "2023-05-20T13:17:17.700318",
     "status": "completed"
    },
    "tags": []
   },
   "source": [
    "# Dataset generation (Train, Test, Validation)"
   ]
  },
  {
   "cell_type": "code",
   "execution_count": 4,
   "id": "d8a4adcd",
   "metadata": {
    "execution": {
     "iopub.execute_input": "2023-05-20T13:17:17.743901Z",
     "iopub.status.busy": "2023-05-20T13:17:17.743608Z",
     "iopub.status.idle": "2023-05-20T13:17:17.748199Z",
     "shell.execute_reply": "2023-05-20T13:17:17.747251Z"
    },
    "id": "zhQWqdRN79B3",
    "papermill": {
     "duration": 0.022316,
     "end_time": "2023-05-20T13:17:17.750113",
     "exception": false,
     "start_time": "2023-05-20T13:17:17.727797",
     "status": "completed"
    },
    "tags": []
   },
   "outputs": [],
   "source": [
    "datagen = ImageDataGenerator(preprocessing_function=tf.keras.applications.densenet.preprocess_input)"
   ]
  },
  {
   "cell_type": "code",
   "execution_count": 5,
   "id": "d1dd9cce",
   "metadata": {
    "execution": {
     "iopub.execute_input": "2023-05-20T13:17:17.779406Z",
     "iopub.status.busy": "2023-05-20T13:17:17.778658Z",
     "iopub.status.idle": "2023-05-20T13:18:18.848635Z",
     "shell.execute_reply": "2023-05-20T13:18:18.847727Z"
    },
    "id": "w9_8FvOO7Rtu",
    "outputId": "7ca88c24-fda8-45d6-cb32-f3a43ae6ba5b",
    "papermill": {
     "duration": 61.087056,
     "end_time": "2023-05-20T13:18:18.850873",
     "exception": false,
     "start_time": "2023-05-20T13:17:17.763817",
     "status": "completed"
    },
    "tags": []
   },
   "outputs": [
    {
     "name": "stdout",
     "output_type": "stream",
     "text": [
      "\n",
      "Train Batches: \n",
      "Found 54782 images belonging to 7 classes.\n",
      "\n",
      "Test Batches: \n",
      "Found 828 images belonging to 7 classes.\n",
      "\n",
      "Val Batches: \n",
      "Found 827 images belonging to 7 classes.\n"
     ]
    }
   ],
   "source": [
    "print(\"\\nTrain Batches: \")\n",
    "train_batches = datagen.flow_from_directory(directory=train_path,\n",
    "                                            target_size=(image_size,image_size),\n",
    "                                            batch_size=batch_size,\n",
    "                                            shuffle=True)\n",
    "\n",
    "print(\"\\nTest Batches: \")\n",
    "test_batches = datagen.flow_from_directory(test_path,\n",
    "                                          target_size=(image_size,image_size),\n",
    "                                          batch_size=batch_size,\n",
    "                                          shuffle=False)\n",
    "print(\"\\nVal Batches: \")\n",
    "val_batches = datagen.flow_from_directory(val_path,\n",
    "                                         target_size=(image_size,image_size),\n",
    "                                         batch_size=batch_size,\n",
    "                                         shuffle=False)"
   ]
  },
  {
   "cell_type": "markdown",
   "id": "6d1b03d7",
   "metadata": {
    "papermill": {
     "duration": 0.013922,
     "end_time": "2023-05-20T13:18:18.879203",
     "exception": false,
     "start_time": "2023-05-20T13:18:18.865281",
     "status": "completed"
    },
    "tags": []
   },
   "source": [
    "# Main Model Creation"
   ]
  },
  {
   "cell_type": "code",
   "execution_count": 6,
   "id": "45de77d8",
   "metadata": {
    "execution": {
     "iopub.execute_input": "2023-05-20T13:18:18.908258Z",
     "iopub.status.busy": "2023-05-20T13:18:18.907936Z",
     "iopub.status.idle": "2023-05-20T13:18:18.919096Z",
     "shell.execute_reply": "2023-05-20T13:18:18.918122Z"
    },
    "papermill": {
     "duration": 0.0279,
     "end_time": "2023-05-20T13:18:18.921048",
     "exception": false,
     "start_time": "2023-05-20T13:18:18.893148",
     "status": "completed"
    },
    "tags": []
   },
   "outputs": [],
   "source": [
    "# Channel Attention\n",
    "from tensorflow.keras.layers import Layer\n",
    "from tensorflow.keras import backend as K\n",
    "\n",
    "class ChannelAttention(Layer):\n",
    "    def __init__(self, reduction=16):\n",
    "        super(ChannelAttention, self).__init__()\n",
    "        self.reduction = reduction\n",
    "\n",
    "    def build(self, input_shape):\n",
    "        self.channels = input_shape[-1]\n",
    "        self.avg_pool = GlobalAveragePooling2D()\n",
    "        self.max_pool = GlobalMaxPooling2D()\n",
    "\n",
    "        self.shared_layer_one = Dense(units=self.channels // self.reduction, activation='relu', kernel_initializer='he_normal', use_bias=True, bias_initializer='zeros')\n",
    "        self.shared_layer_two = Dense(units=self.channels, activation='sigmoid', kernel_initializer='he_normal', use_bias=True, bias_initializer='zeros')\n",
    "\n",
    "    def call(self, x):\n",
    "        avg_pool = self.avg_pool(x)\n",
    "        max_pool = self.max_pool(x)\n",
    "\n",
    "        avg_pool = Reshape((1, 1, self.channels))(avg_pool)\n",
    "        max_pool = Reshape((1, 1, self.channels))(max_pool)\n",
    "        shared_layer_one = self.shared_layer_one(avg_pool) + self.shared_layer_one(max_pool)\n",
    "        shared_layer_two = self.shared_layer_two(shared_layer_one)\n",
    "        return x * shared_layer_two\n",
    "\n",
    "    def get_config(self):\n",
    "        config = super().get_config().copy()\n",
    "        config.update({\n",
    "            'reduction': self.reduction,\n",
    "        })\n",
    "        return config"
   ]
  },
  {
   "cell_type": "code",
   "execution_count": 7,
   "id": "4b3327f1",
   "metadata": {
    "execution": {
     "iopub.execute_input": "2023-05-20T13:18:18.951423Z",
     "iopub.status.busy": "2023-05-20T13:18:18.950477Z",
     "iopub.status.idle": "2023-05-20T13:18:27.579072Z",
     "shell.execute_reply": "2023-05-20T13:18:27.578044Z"
    },
    "id": "zhQWqdRN79B3",
    "papermill": {
     "duration": 8.646361,
     "end_time": "2023-05-20T13:18:27.581541",
     "exception": false,
     "start_time": "2023-05-20T13:18:18.935180",
     "status": "completed"
    },
    "tags": []
   },
   "outputs": [
    {
     "name": "stdout",
     "output_type": "stream",
     "text": [
      "Downloading data from https://storage.googleapis.com/tensorflow/keras-applications/densenet/densenet201_weights_tf_dim_ordering_tf_kernels_notop.h5\n",
      "74836368/74836368 [==============================] - 0s 0us/step\n"
     ]
    }
   ],
   "source": [
    "from tensorflow.keras.applications.densenet import DenseNet201\n",
    "# Create a new instance of DenseNet201\n",
    "DN201 = DenseNet201(weights='imagenet', include_top=False, input_shape=(image_size, image_size, 3), pooling='avg')"
   ]
  },
  {
   "cell_type": "markdown",
   "id": "c36c3e9c",
   "metadata": {
    "papermill": {
     "duration": 0.014719,
     "end_time": "2023-05-20T13:18:27.611533",
     "exception": false,
     "start_time": "2023-05-20T13:18:27.596814",
     "status": "completed"
    },
    "tags": []
   },
   "source": [
    "## Fine tuning"
   ]
  },
  {
   "cell_type": "code",
   "execution_count": 8,
   "id": "2a1aaf29",
   "metadata": {
    "execution": {
     "iopub.execute_input": "2023-05-20T13:18:27.642361Z",
     "iopub.status.busy": "2023-05-20T13:18:27.642008Z",
     "iopub.status.idle": "2023-05-20T13:18:27.648931Z",
     "shell.execute_reply": "2023-05-20T13:18:27.648117Z"
    },
    "id": "4d4Ta5LcSYaz",
    "papermill": {
     "duration": 0.024572,
     "end_time": "2023-05-20T13:18:27.650904",
     "exception": false,
     "start_time": "2023-05-20T13:18:27.626332",
     "status": "completed"
    },
    "tags": []
   },
   "outputs": [],
   "source": [
    "MainInput=Input(shape=(image_size, image_size, 3))"
   ]
  },
  {
   "cell_type": "code",
   "execution_count": 9,
   "id": "2ef96dfb",
   "metadata": {
    "execution": {
     "iopub.execute_input": "2023-05-20T13:18:27.681358Z",
     "iopub.status.busy": "2023-05-20T13:18:27.681073Z",
     "iopub.status.idle": "2023-05-20T13:18:29.087736Z",
     "shell.execute_reply": "2023-05-20T13:18:29.086756Z"
    },
    "papermill": {
     "duration": 1.424784,
     "end_time": "2023-05-20T13:18:29.090344",
     "exception": false,
     "start_time": "2023-05-20T13:18:27.665560",
     "status": "completed"
    },
    "tags": []
   },
   "outputs": [],
   "source": [
    "densenet = DN201(MainInput)"
   ]
  },
  {
   "cell_type": "code",
   "execution_count": 10,
   "id": "9fdba2ce",
   "metadata": {
    "execution": {
     "iopub.execute_input": "2023-05-20T13:18:29.122416Z",
     "iopub.status.busy": "2023-05-20T13:18:29.122074Z",
     "iopub.status.idle": "2023-05-20T13:18:29.138331Z",
     "shell.execute_reply": "2023-05-20T13:18:29.137496Z"
    },
    "papermill": {
     "duration": 0.034479,
     "end_time": "2023-05-20T13:18:29.140370",
     "exception": false,
     "start_time": "2023-05-20T13:18:29.105891",
     "status": "completed"
    },
    "tags": []
   },
   "outputs": [],
   "source": [
    "# Reshape the tensor to have 4 dimensions\n",
    "from tensorflow.keras.layers import Reshape\n",
    "reshape = Reshape((8, 8, 30))(densenet)"
   ]
  },
  {
   "cell_type": "code",
   "execution_count": 11,
   "id": "120ff560",
   "metadata": {
    "execution": {
     "iopub.execute_input": "2023-05-20T13:18:29.171382Z",
     "iopub.status.busy": "2023-05-20T13:18:29.171074Z",
     "iopub.status.idle": "2023-05-20T13:18:29.646780Z",
     "shell.execute_reply": "2023-05-20T13:18:29.645842Z"
    },
    "id": "x8mS99J5SYbT",
    "papermill": {
     "duration": 0.493849,
     "end_time": "2023-05-20T13:18:29.649290",
     "exception": false,
     "start_time": "2023-05-20T13:18:29.155441",
     "status": "completed"
    },
    "tags": []
   },
   "outputs": [],
   "source": [
    "conv=(Conv2D(filters=128,kernel_size=(7,7), activation=\"relu\",padding=\"same\",kernel_initializer='he_normal')(reshape))\n",
    "conv=(BatchNormalization()(conv))\n",
    "conv = ChannelAttention()(conv)\n",
    "conv=(Conv2D(filters=128,kernel_size=(5,5), activation=\"relu\",padding=\"same\",kernel_initializer='he_normal')(conv))\n",
    "conv=(BatchNormalization()(conv))\n",
    "conv = ChannelAttention()(conv)\n",
    "conv=(Conv2D(filters=128,kernel_size=(3,3), activation=\"relu\",padding=\"same\",kernel_initializer='he_normal')(conv))\n",
    "conv=(BatchNormalization()(conv))\n",
    "conv = ChannelAttention()(conv)\n",
    "conv=(Conv2D(filters=128,kernel_size=(1,1), activation=\"relu\",padding=\"same\",kernel_initializer='he_normal')(conv))\n",
    "conv=(BatchNormalization()(conv))\n",
    "conv = ChannelAttention()(conv)"
   ]
  },
  {
   "cell_type": "code",
   "execution_count": 12,
   "id": "89d65de4",
   "metadata": {
    "execution": {
     "iopub.execute_input": "2023-05-20T13:18:29.682172Z",
     "iopub.status.busy": "2023-05-20T13:18:29.680439Z",
     "iopub.status.idle": "2023-05-20T13:18:29.689377Z",
     "shell.execute_reply": "2023-05-20T13:18:29.688537Z"
    },
    "id": "wfhLPhssAm2S",
    "papermill": {
     "duration": 0.026692,
     "end_time": "2023-05-20T13:18:29.691177",
     "exception": false,
     "start_time": "2023-05-20T13:18:29.664485",
     "status": "completed"
    },
    "tags": []
   },
   "outputs": [],
   "source": [
    "conv=(MaxPooling2D(strides=(2, 2),padding=\"same\")(conv))"
   ]
  },
  {
   "cell_type": "code",
   "execution_count": 13,
   "id": "1af30b42",
   "metadata": {
    "execution": {
     "iopub.execute_input": "2023-05-20T13:18:29.722198Z",
     "iopub.status.busy": "2023-05-20T13:18:29.721893Z",
     "iopub.status.idle": "2023-05-20T13:18:30.092623Z",
     "shell.execute_reply": "2023-05-20T13:18:30.091679Z"
    },
    "id": "sW4tKg9wSYbk",
    "papermill": {
     "duration": 0.388986,
     "end_time": "2023-05-20T13:18:30.095158",
     "exception": false,
     "start_time": "2023-05-20T13:18:29.706172",
     "status": "completed"
    },
    "tags": []
   },
   "outputs": [],
   "source": [
    "conv=(Conv2D(filters=256,kernel_size=(7,7), activation=\"relu\",padding=\"same\",kernel_initializer='he_normal')(conv))\n",
    "conv=(BatchNormalization()(conv))\n",
    "conv = ChannelAttention()(conv)\n",
    "conv=(Conv2D(filters=256,kernel_size=(5,5), activation=\"relu\",padding=\"same\",kernel_initializer='he_normal')(conv))\n",
    "conv=(BatchNormalization()(conv))\n",
    "conv = ChannelAttention()(conv)\n",
    "conv=(Conv2D(filters=256,kernel_size=(3,3), activation=\"relu\",padding=\"same\",kernel_initializer='he_normal')(conv))\n",
    "conv=(BatchNormalization()(conv))\n",
    "conv = ChannelAttention()(conv)\n",
    "conv=(Conv2D(filters=256,kernel_size=(1,1), activation=\"relu\",padding=\"same\",kernel_initializer='he_normal')(conv))\n",
    "conv=(BatchNormalization()(conv))\n",
    "conv = ChannelAttention()(conv)"
   ]
  },
  {
   "cell_type": "code",
   "execution_count": 14,
   "id": "17615773",
   "metadata": {
    "execution": {
     "iopub.execute_input": "2023-05-20T13:18:30.127257Z",
     "iopub.status.busy": "2023-05-20T13:18:30.126896Z",
     "iopub.status.idle": "2023-05-20T13:18:30.135860Z",
     "shell.execute_reply": "2023-05-20T13:18:30.135031Z"
    },
    "id": "eo8E7RxUSYcW",
    "papermill": {
     "duration": 0.027525,
     "end_time": "2023-05-20T13:18:30.137866",
     "exception": false,
     "start_time": "2023-05-20T13:18:30.110341",
     "status": "completed"
    },
    "tags": []
   },
   "outputs": [],
   "source": [
    "conv=(MaxPooling2D(pool_size=(2, 2),padding=\"same\")(conv))"
   ]
  },
  {
   "cell_type": "code",
   "execution_count": 15,
   "id": "408ee594",
   "metadata": {
    "execution": {
     "iopub.execute_input": "2023-05-20T13:18:30.169746Z",
     "iopub.status.busy": "2023-05-20T13:18:30.168788Z",
     "iopub.status.idle": "2023-05-20T13:18:30.175384Z",
     "shell.execute_reply": "2023-05-20T13:18:30.174503Z"
    },
    "papermill": {
     "duration": 0.024364,
     "end_time": "2023-05-20T13:18:30.177333",
     "exception": false,
     "start_time": "2023-05-20T13:18:30.152969",
     "status": "completed"
    },
    "tags": []
   },
   "outputs": [
    {
     "name": "stdout",
     "output_type": "stream",
     "text": [
      "7\n"
     ]
    }
   ],
   "source": [
    "num_classes = test_batches.num_classes\n",
    "print(num_classes)"
   ]
  },
  {
   "cell_type": "code",
   "execution_count": 16,
   "id": "6feaafe9",
   "metadata": {
    "execution": {
     "iopub.execute_input": "2023-05-20T13:18:30.209600Z",
     "iopub.status.busy": "2023-05-20T13:18:30.208623Z",
     "iopub.status.idle": "2023-05-20T13:18:30.256694Z",
     "shell.execute_reply": "2023-05-20T13:18:30.255777Z"
    },
    "id": "-EdFxKdgSYcf",
    "papermill": {
     "duration": 0.066323,
     "end_time": "2023-05-20T13:18:30.259000",
     "exception": false,
     "start_time": "2023-05-20T13:18:30.192677",
     "status": "completed"
    },
    "tags": []
   },
   "outputs": [],
   "source": [
    "conv=(Flatten()(conv))\n",
    "conv=(Dense(1024,activation=\"relu\")(conv))\n",
    "conv=(Dense(512,activation=\"relu\")(conv))\n",
    "conv=(Dense(num_classes, activation=\"softmax\")(conv))\n",
    "\n",
    "model_dn201_ca = Model(inputs=MainInput, outputs=conv)"
   ]
  },
  {
   "cell_type": "code",
   "execution_count": 17,
   "id": "20f00376",
   "metadata": {
    "execution": {
     "iopub.execute_input": "2023-05-20T13:18:30.290531Z",
     "iopub.status.busy": "2023-05-20T13:18:30.290234Z",
     "iopub.status.idle": "2023-05-20T13:18:30.455327Z",
     "shell.execute_reply": "2023-05-20T13:18:30.454148Z"
    },
    "id": "ba8ajOckSYcl",
    "outputId": "e69fa749-4741-4f49-ae3e-9f5479e809a8",
    "papermill": {
     "duration": 0.183315,
     "end_time": "2023-05-20T13:18:30.457616",
     "exception": false,
     "start_time": "2023-05-20T13:18:30.274301",
     "status": "completed"
    },
    "tags": []
   },
   "outputs": [
    {
     "name": "stdout",
     "output_type": "stream",
     "text": [
      "Model: \"model\"\n",
      "_________________________________________________________________\n",
      " Layer (type)                Output Shape              Param #   \n",
      "=================================================================\n",
      " input_2 (InputLayer)        [(None, 224, 224, 3)]     0         \n",
      "                                                                 \n",
      " densenet201 (Functional)    (None, 1920)              18321984  \n",
      "                                                                 \n",
      " reshape (Reshape)           (None, 8, 8, 30)          0         \n",
      "                                                                 \n",
      " conv2d (Conv2D)             (None, 8, 8, 128)         188288    \n",
      "                                                                 \n",
      " batch_normalization (BatchN  (None, 8, 8, 128)        512       \n",
      " ormalization)                                                   \n",
      "                                                                 \n",
      " channel_attention (ChannelA  (None, 8, 8, 128)        2184      \n",
      " ttention)                                                       \n",
      "                                                                 \n",
      " conv2d_1 (Conv2D)           (None, 8, 8, 128)         409728    \n",
      "                                                                 \n",
      " batch_normalization_1 (Batc  (None, 8, 8, 128)        512       \n",
      " hNormalization)                                                 \n",
      "                                                                 \n",
      " channel_attention_1 (Channe  (None, 8, 8, 128)        2184      \n",
      " lAttention)                                                     \n",
      "                                                                 \n",
      " conv2d_2 (Conv2D)           (None, 8, 8, 128)         147584    \n",
      "                                                                 \n",
      " batch_normalization_2 (Batc  (None, 8, 8, 128)        512       \n",
      " hNormalization)                                                 \n",
      "                                                                 \n",
      " channel_attention_2 (Channe  (None, 8, 8, 128)        2184      \n",
      " lAttention)                                                     \n",
      "                                                                 \n",
      " conv2d_3 (Conv2D)           (None, 8, 8, 128)         16512     \n",
      "                                                                 \n",
      " batch_normalization_3 (Batc  (None, 8, 8, 128)        512       \n",
      " hNormalization)                                                 \n",
      "                                                                 \n",
      " channel_attention_3 (Channe  (None, 8, 8, 128)        2184      \n",
      " lAttention)                                                     \n",
      "                                                                 \n",
      " max_pooling2d (MaxPooling2D  (None, 4, 4, 128)        0         \n",
      " )                                                               \n",
      "                                                                 \n",
      " conv2d_4 (Conv2D)           (None, 4, 4, 256)         1605888   \n",
      "                                                                 \n",
      " batch_normalization_4 (Batc  (None, 4, 4, 256)        1024      \n",
      " hNormalization)                                                 \n",
      "                                                                 \n",
      " channel_attention_4 (Channe  (None, 4, 4, 256)        8464      \n",
      " lAttention)                                                     \n",
      "                                                                 \n",
      " conv2d_5 (Conv2D)           (None, 4, 4, 256)         1638656   \n",
      "                                                                 \n",
      " batch_normalization_5 (Batc  (None, 4, 4, 256)        1024      \n",
      " hNormalization)                                                 \n",
      "                                                                 \n",
      " channel_attention_5 (Channe  (None, 4, 4, 256)        8464      \n",
      " lAttention)                                                     \n",
      "                                                                 \n",
      " conv2d_6 (Conv2D)           (None, 4, 4, 256)         590080    \n",
      "                                                                 \n",
      " batch_normalization_6 (Batc  (None, 4, 4, 256)        1024      \n",
      " hNormalization)                                                 \n",
      "                                                                 \n",
      " channel_attention_6 (Channe  (None, 4, 4, 256)        8464      \n",
      " lAttention)                                                     \n",
      "                                                                 \n",
      " conv2d_7 (Conv2D)           (None, 4, 4, 256)         65792     \n",
      "                                                                 \n",
      " batch_normalization_7 (Batc  (None, 4, 4, 256)        1024      \n",
      " hNormalization)                                                 \n",
      "                                                                 \n",
      " channel_attention_7 (Channe  (None, 4, 4, 256)        8464      \n",
      " lAttention)                                                     \n",
      "                                                                 \n",
      " max_pooling2d_1 (MaxPooling  (None, 2, 2, 256)        0         \n",
      " 2D)                                                             \n",
      "                                                                 \n",
      " flatten (Flatten)           (None, 1024)              0         \n",
      "                                                                 \n",
      " dense (Dense)               (None, 1024)              1049600   \n",
      "                                                                 \n",
      " dense_1 (Dense)             (None, 512)               524800    \n",
      "                                                                 \n",
      " dense_2 (Dense)             (None, 7)                 3591      \n",
      "                                                                 \n",
      "=================================================================\n",
      "Total params: 24,611,239\n",
      "Trainable params: 24,379,111\n",
      "Non-trainable params: 232,128\n",
      "_________________________________________________________________\n"
     ]
    }
   ],
   "source": [
    "model_dn201_ca.summary()"
   ]
  },
  {
   "cell_type": "code",
   "execution_count": 18,
   "id": "be0cfa1e",
   "metadata": {
    "execution": {
     "iopub.execute_input": "2023-05-20T13:18:30.502692Z",
     "iopub.status.busy": "2023-05-20T13:18:30.502386Z",
     "iopub.status.idle": "2023-05-20T13:18:30.539232Z",
     "shell.execute_reply": "2023-05-20T13:18:30.538344Z"
    },
    "id": "WR0fUpy18vAZ",
    "papermill": {
     "duration": 0.062027,
     "end_time": "2023-05-20T13:18:30.541577",
     "exception": false,
     "start_time": "2023-05-20T13:18:30.479550",
     "status": "completed"
    },
    "tags": []
   },
   "outputs": [],
   "source": [
    "opt1=tf.keras.optimizers.Adam(learning_rate=0.001,epsilon=0.1)\n",
    "model_dn201_ca.compile(optimizer=opt1,\n",
    "             loss='categorical_crossentropy',\n",
    "             metrics=['accuracy'])"
   ]
  },
  {
   "cell_type": "code",
   "execution_count": 19,
   "id": "6a390fae",
   "metadata": {
    "execution": {
     "iopub.execute_input": "2023-05-20T13:18:30.588179Z",
     "iopub.status.busy": "2023-05-20T13:18:30.587383Z",
     "iopub.status.idle": "2023-05-20T13:18:30.592688Z",
     "shell.execute_reply": "2023-05-20T13:18:30.591769Z"
    },
    "id": "LAf5ha295reS",
    "papermill": {
     "duration": 0.030721,
     "end_time": "2023-05-20T13:18:30.594865",
     "exception": false,
     "start_time": "2023-05-20T13:18:30.564144",
     "status": "completed"
    },
    "tags": []
   },
   "outputs": [],
   "source": [
    "class_weights = {   \n",
    "                    0: 1.0,  # akiec\n",
    "                    1: 1.0,  # bcc\n",
    "                    2: 1.0,  # bkl\n",
    "                    3: 1.0,  # df\n",
    "                    4: 1.0,  # mel\n",
    "                    5: 1.0,  # nv\n",
    "                    6: 1.0  # vasc\n",
    "                }"
   ]
  },
  {
   "cell_type": "code",
   "execution_count": 20,
   "id": "44a48dfd",
   "metadata": {
    "execution": {
     "iopub.execute_input": "2023-05-20T13:18:30.639577Z",
     "iopub.status.busy": "2023-05-20T13:18:30.639313Z",
     "iopub.status.idle": "2023-05-20T13:18:30.643768Z",
     "shell.execute_reply": "2023-05-20T13:18:30.642909Z"
    },
    "papermill": {
     "duration": 0.029173,
     "end_time": "2023-05-20T13:18:30.645778",
     "exception": false,
     "start_time": "2023-05-20T13:18:30.616605",
     "status": "completed"
    },
    "tags": []
   },
   "outputs": [],
   "source": [
    "checkpoint = ModelCheckpoint(filepath ='DN201_CA.hdf5', monitor='val_accuracy', save_best_only=True, save_weights_only=True)\n",
    "Earlystop = EarlyStopping(monitor='val_accuracy', mode='max', patience=20, min_delta=0.001)"
   ]
  },
  {
   "cell_type": "code",
   "execution_count": 21,
   "id": "0f43c8d7",
   "metadata": {
    "execution": {
     "iopub.execute_input": "2023-05-20T13:18:30.690124Z",
     "iopub.status.busy": "2023-05-20T13:18:30.689404Z",
     "iopub.status.idle": "2023-05-20T21:35:39.721468Z",
     "shell.execute_reply": "2023-05-20T21:35:39.720509Z"
    },
    "id": "NUzTmiZ-8hL3",
    "outputId": "e1825ff2-9f9c-436f-cf2c-9776af8eee62",
    "papermill": {
     "duration": 29829.07506,
     "end_time": "2023-05-20T21:35:39.742348",
     "exception": false,
     "start_time": "2023-05-20T13:18:30.667288",
     "status": "completed"
    },
    "tags": []
   },
   "outputs": [
    {
     "name": "stdout",
     "output_type": "stream",
     "text": [
      "Epoch 1/50\n",
      "3424/3424 - 891s - loss: 0.8494 - accuracy: 0.6816 - val_loss: 0.3977 - val_accuracy: 0.8755 - 891s/epoch - 260ms/step\n",
      "Epoch 2/50\n",
      "3424/3424 - 732s - loss: 0.3524 - accuracy: 0.8715 - val_loss: 0.3239 - val_accuracy: 0.8984 - 732s/epoch - 214ms/step\n",
      "Epoch 3/50\n",
      "3424/3424 - 727s - loss: 0.2132 - accuracy: 0.9234 - val_loss: 0.3455 - val_accuracy: 0.8948 - 727s/epoch - 212ms/step\n",
      "Epoch 4/50\n",
      "3424/3424 - 737s - loss: 0.1479 - accuracy: 0.9468 - val_loss: 0.3321 - val_accuracy: 0.9081 - 737s/epoch - 215ms/step\n",
      "Epoch 5/50\n",
      "3424/3424 - 740s - loss: 0.1102 - accuracy: 0.9608 - val_loss: 0.3790 - val_accuracy: 0.9129 - 740s/epoch - 216ms/step\n",
      "Epoch 6/50\n",
      "3424/3424 - 736s - loss: 0.0787 - accuracy: 0.9728 - val_loss: 0.3780 - val_accuracy: 0.8984 - 736s/epoch - 215ms/step\n",
      "Epoch 7/50\n",
      "3424/3424 - 738s - loss: 0.0625 - accuracy: 0.9778 - val_loss: 0.3911 - val_accuracy: 0.9105 - 738s/epoch - 216ms/step\n",
      "Epoch 8/50\n",
      "3424/3424 - 739s - loss: 0.0461 - accuracy: 0.9839 - val_loss: 0.3644 - val_accuracy: 0.9129 - 739s/epoch - 216ms/step\n",
      "Epoch 9/50\n",
      "3424/3424 - 737s - loss: 0.0464 - accuracy: 0.9845 - val_loss: 0.3535 - val_accuracy: 0.9093 - 737s/epoch - 215ms/step\n",
      "Epoch 10/50\n",
      "3424/3424 - 736s - loss: 0.0356 - accuracy: 0.9879 - val_loss: 0.4695 - val_accuracy: 0.9057 - 736s/epoch - 215ms/step\n",
      "Epoch 11/50\n",
      "3424/3424 - 733s - loss: 0.0315 - accuracy: 0.9894 - val_loss: 0.4300 - val_accuracy: 0.9105 - 733s/epoch - 214ms/step\n",
      "Epoch 12/50\n",
      "3424/3424 - 736s - loss: 0.0245 - accuracy: 0.9916 - val_loss: 0.4474 - val_accuracy: 0.8960 - 736s/epoch - 215ms/step\n",
      "Epoch 13/50\n",
      "3424/3424 - 736s - loss: 0.0218 - accuracy: 0.9927 - val_loss: 0.4669 - val_accuracy: 0.9105 - 736s/epoch - 215ms/step\n",
      "Epoch 14/50\n",
      "3424/3424 - 734s - loss: 0.0213 - accuracy: 0.9929 - val_loss: 0.4471 - val_accuracy: 0.9081 - 734s/epoch - 214ms/step\n",
      "Epoch 15/50\n",
      "3424/3424 - 741s - loss: 0.0166 - accuracy: 0.9944 - val_loss: 0.4132 - val_accuracy: 0.9129 - 741s/epoch - 216ms/step\n",
      "Epoch 16/50\n",
      "3424/3424 - 742s - loss: 0.0158 - accuracy: 0.9947 - val_loss: 0.4133 - val_accuracy: 0.9154 - 742s/epoch - 217ms/step\n",
      "Epoch 17/50\n",
      "3424/3424 - 762s - loss: 0.0144 - accuracy: 0.9950 - val_loss: 0.4143 - val_accuracy: 0.9117 - 762s/epoch - 223ms/step\n",
      "Epoch 18/50\n",
      "3424/3424 - 748s - loss: 0.0141 - accuracy: 0.9954 - val_loss: 0.4104 - val_accuracy: 0.9190 - 748s/epoch - 219ms/step\n",
      "Epoch 19/50\n",
      "3424/3424 - 735s - loss: 0.0138 - accuracy: 0.9956 - val_loss: 0.4433 - val_accuracy: 0.9093 - 735s/epoch - 215ms/step\n",
      "Epoch 20/50\n",
      "3424/3424 - 737s - loss: 0.0114 - accuracy: 0.9961 - val_loss: 0.4557 - val_accuracy: 0.9202 - 737s/epoch - 215ms/step\n",
      "Epoch 21/50\n",
      "3424/3424 - 733s - loss: 0.0109 - accuracy: 0.9969 - val_loss: 0.5521 - val_accuracy: 0.9008 - 733s/epoch - 214ms/step\n",
      "Epoch 22/50\n",
      "3424/3424 - 737s - loss: 0.0112 - accuracy: 0.9961 - val_loss: 0.4281 - val_accuracy: 0.9190 - 737s/epoch - 215ms/step\n",
      "Epoch 23/50\n",
      "3424/3424 - 736s - loss: 0.0105 - accuracy: 0.9965 - val_loss: 0.4905 - val_accuracy: 0.9105 - 736s/epoch - 215ms/step\n",
      "Epoch 24/50\n",
      "3424/3424 - 735s - loss: 0.0101 - accuracy: 0.9967 - val_loss: 0.4676 - val_accuracy: 0.9105 - 735s/epoch - 215ms/step\n",
      "Epoch 25/50\n",
      "3424/3424 - 735s - loss: 0.0090 - accuracy: 0.9969 - val_loss: 0.4469 - val_accuracy: 0.9202 - 735s/epoch - 215ms/step\n",
      "Epoch 26/50\n",
      "3424/3424 - 732s - loss: 0.0084 - accuracy: 0.9974 - val_loss: 0.4707 - val_accuracy: 0.9117 - 732s/epoch - 214ms/step\n",
      "Epoch 27/50\n",
      "3424/3424 - 732s - loss: 0.0075 - accuracy: 0.9977 - val_loss: 0.4613 - val_accuracy: 0.9166 - 732s/epoch - 214ms/step\n",
      "Epoch 28/50\n",
      "3424/3424 - 736s - loss: 0.0065 - accuracy: 0.9979 - val_loss: 0.4639 - val_accuracy: 0.9141 - 736s/epoch - 215ms/step\n",
      "Epoch 29/50\n",
      "3424/3424 - 723s - loss: 0.0072 - accuracy: 0.9976 - val_loss: 0.4965 - val_accuracy: 0.9141 - 723s/epoch - 211ms/step\n",
      "Epoch 30/50\n",
      "3424/3424 - 722s - loss: 0.0070 - accuracy: 0.9978 - val_loss: 0.5057 - val_accuracy: 0.9057 - 722s/epoch - 211ms/step\n",
      "Epoch 31/50\n",
      "3424/3424 - 718s - loss: 0.0054 - accuracy: 0.9982 - val_loss: 0.4645 - val_accuracy: 0.9081 - 718s/epoch - 210ms/step\n",
      "Epoch 32/50\n",
      "3424/3424 - 718s - loss: 0.0053 - accuracy: 0.9982 - val_loss: 0.5113 - val_accuracy: 0.9178 - 718s/epoch - 210ms/step\n",
      "Epoch 33/50\n",
      "3424/3424 - 719s - loss: 0.0093 - accuracy: 0.9972 - val_loss: 0.4348 - val_accuracy: 0.9057 - 719s/epoch - 210ms/step\n",
      "Epoch 34/50\n",
      "3424/3424 - 720s - loss: 0.0050 - accuracy: 0.9983 - val_loss: 0.5116 - val_accuracy: 0.9105 - 720s/epoch - 210ms/step\n",
      "Epoch 35/50\n",
      "3424/3424 - 722s - loss: 0.0050 - accuracy: 0.9984 - val_loss: 0.5712 - val_accuracy: 0.9008 - 722s/epoch - 211ms/step\n",
      "Epoch 36/50\n",
      "3424/3424 - 722s - loss: 0.0054 - accuracy: 0.9982 - val_loss: 0.4804 - val_accuracy: 0.9033 - 722s/epoch - 211ms/step\n",
      "Epoch 37/50\n",
      "3424/3424 - 722s - loss: 0.0035 - accuracy: 0.9989 - val_loss: 0.5330 - val_accuracy: 0.9129 - 722s/epoch - 211ms/step\n",
      "Epoch 38/50\n",
      "3424/3424 - 723s - loss: 0.0050 - accuracy: 0.9981 - val_loss: 0.6134 - val_accuracy: 0.8972 - 723s/epoch - 211ms/step\n",
      "Epoch 39/50\n",
      "3424/3424 - 719s - loss: 0.0056 - accuracy: 0.9982 - val_loss: 0.5376 - val_accuracy: 0.9033 - 719s/epoch - 210ms/step\n",
      "Epoch 40/50\n",
      "3424/3424 - 719s - loss: 0.0039 - accuracy: 0.9986 - val_loss: 0.4972 - val_accuracy: 0.9081 - 719s/epoch - 210ms/step\n"
     ]
    }
   ],
   "source": [
    "history = model_dn201_ca.fit(train_batches,\n",
    "                         epochs=50,\n",
    "                         verbose=2,\n",
    "                         validation_data=val_batches,\n",
    "                         callbacks=[checkpoint,Earlystop],\n",
    "                         class_weight=class_weights)"
   ]
  },
  {
   "cell_type": "markdown",
   "id": "2ee4bae9",
   "metadata": {
    "papermill": {
     "duration": 0.026817,
     "end_time": "2023-05-20T21:35:39.796246",
     "exception": false,
     "start_time": "2023-05-20T21:35:39.769429",
     "status": "completed"
    },
    "tags": []
   },
   "source": [
    "### Plotting accuracy and loss"
   ]
  },
  {
   "cell_type": "code",
   "execution_count": 22,
   "id": "dae1611f",
   "metadata": {
    "execution": {
     "iopub.execute_input": "2023-05-20T21:35:39.852353Z",
     "iopub.status.busy": "2023-05-20T21:35:39.851545Z",
     "iopub.status.idle": "2023-05-20T21:36:03.547709Z",
     "shell.execute_reply": "2023-05-20T21:36:03.546760Z"
    },
    "papermill": {
     "duration": 23.726542,
     "end_time": "2023-05-20T21:36:03.549913",
     "exception": false,
     "start_time": "2023-05-20T21:35:39.823371",
     "status": "completed"
    },
    "tags": []
   },
   "outputs": [
    {
     "name": "stdout",
     "output_type": "stream",
     "text": [
      "Number of epochs trained: 40\n"
     ]
    },
    {
     "data": {
      "image/png": "[encoded data removed]",
      "text/plain": [
       "<Figure size 1500x500 with 2 Axes>"
      ]
     },
     "metadata": {},
     "output_type": "display_data"
    }
   ],
   "source": [
    "# Determine number of epochs trained\n",
    "num_epochs_trained = len(history.history['val_loss'])\n",
    "print(f\"Number of epochs trained: {num_epochs_trained}\")\n",
    "\n",
    "## History plotting\n",
    "epochs = [i for i in range(num_epochs_trained)]\n",
    "fig , ax = plt.subplots(1,2)\n",
    "train_acc = history.history['accuracy']\n",
    "train_loss = history.history['loss']\n",
    "val_acc = history.history['val_accuracy']\n",
    "val_loss = history.history['val_loss']\n",
    "fig.set_size_inches(15,5)\n",
    "\n",
    "ax[0].plot(epochs , train_acc , 'go-' , label = 'Training Accuracy')\n",
    "ax[0].plot(epochs , val_acc , 'ro-' , label = 'Validation Accuracy')\n",
    "title_font = {'fontname':'Times New Roman', 'size':'14', 'color':'black', 'weight':'normal'}\n",
    "ax[0].set_title('Model Accuracy', fontdict=title_font)\n",
    "legend_font = {'family': 'Times New Roman', 'size': '12', 'weight': 'normal'}\n",
    "ax[0].legend(prop=legend_font)\n",
    "label_font = {'fontname':'Times New Roman', 'size':'12', 'color':'black', 'weight':'normal'}\n",
    "ax[0].set_xlabel(\"Epochs\",  fontdict=label_font)\n",
    "ax[0].set_ylabel(\"Accuracy\",  fontdict=label_font)\n",
    "\n",
    "ax[1].plot(epochs , train_loss , 'g-o' , label = 'Training Loss')\n",
    "ax[1].plot(epochs , val_loss , 'r-o' , label = 'Validation Loss')\n",
    "ax[1].set_title('Model Loss', fontdict=title_font)\n",
    "ax[1].legend(prop=legend_font)\n",
    "ax[1].set_xlabel(\"Epochs\", fontdict=label_font)\n",
    "ax[1].set_ylabel(\"Loss\", fontdict=label_font)\n",
    "plt.show()"
   ]
  },
  {
   "cell_type": "code",
   "execution_count": 23,
   "id": "05d83dad",
   "metadata": {
    "execution": {
     "iopub.execute_input": "2023-05-20T21:36:03.608610Z",
     "iopub.status.busy": "2023-05-20T21:36:03.608333Z",
     "iopub.status.idle": "2023-05-20T21:36:04.624066Z",
     "shell.execute_reply": "2023-05-20T21:36:04.623080Z"
    },
    "id": "zm_AewFBXTj8",
    "papermill": {
     "duration": 1.047883,
     "end_time": "2023-05-20T21:36:04.626867",
     "exception": false,
     "start_time": "2023-05-20T21:36:03.578984",
     "status": "completed"
    },
    "tags": []
   },
   "outputs": [],
   "source": [
    "from tensorflow.keras import models\n",
    "model_dn201_ca.load_weights(\"DN201_CA.hdf5\")"
   ]
  },
  {
   "cell_type": "code",
   "execution_count": 24,
   "id": "8078c4a2",
   "metadata": {
    "execution": {
     "iopub.execute_input": "2023-05-20T21:36:04.709186Z",
     "iopub.status.busy": "2023-05-20T21:36:04.708749Z",
     "iopub.status.idle": "2023-05-20T21:36:23.839912Z",
     "shell.execute_reply": "2023-05-20T21:36:23.839010Z"
    },
    "papermill": {
     "duration": 19.176068,
     "end_time": "2023-05-20T21:36:23.841965",
     "exception": false,
     "start_time": "2023-05-20T21:36:04.665897",
     "status": "completed"
    },
    "tags": []
   },
   "outputs": [
    {
     "name": "stdout",
     "output_type": "stream",
     "text": [
      "52/52 [==============================] - 19s 281ms/step\n"
     ]
    }
   ],
   "source": [
    "predictions = model_dn201_ca.predict(test_batches)"
   ]
  },
  {
   "cell_type": "code",
   "execution_count": 25,
   "id": "0ac0eb3d",
   "metadata": {
    "execution": {
     "iopub.execute_input": "2023-05-20T21:36:23.909613Z",
     "iopub.status.busy": "2023-05-20T21:36:23.908697Z",
     "iopub.status.idle": "2023-05-20T21:36:23.914645Z",
     "shell.execute_reply": "2023-05-20T21:36:23.913710Z"
    },
    "id": "FDTMtBeTdBfU",
    "papermill": {
     "duration": 0.04219,
     "end_time": "2023-05-20T21:36:23.917061",
     "exception": false,
     "start_time": "2023-05-20T21:36:23.874871",
     "status": "completed"
    },
    "tags": []
   },
   "outputs": [],
   "source": [
    "#geting predictions on test dataset\n",
    "y_pred = np.argmax(predictions, axis=1)\n",
    "#getting the true labels per image \n",
    "y_true = test_batches.classes\n",
    "#getting the predicted labels per image \n",
    "y_prob = predictions"
   ]
  },
  {
   "cell_type": "code",
   "execution_count": 26,
   "id": "d50ea408",
   "metadata": {
    "execution": {
     "iopub.execute_input": "2023-05-20T21:36:23.983402Z",
     "iopub.status.busy": "2023-05-20T21:36:23.982876Z",
     "iopub.status.idle": "2023-05-20T21:36:23.998090Z",
     "shell.execute_reply": "2023-05-20T21:36:23.997102Z"
    },
    "papermill": {
     "duration": 0.050754,
     "end_time": "2023-05-20T21:36:23.999963",
     "exception": false,
     "start_time": "2023-05-20T21:36:23.949209",
     "status": "completed"
    },
    "tags": []
   },
   "outputs": [
    {
     "name": "stdout",
     "output_type": "stream",
     "text": [
      "\n",
      "Classification Report:\n",
      "              precision    recall  f1-score   support\n",
      "\n",
      "          AK       0.61      0.50      0.55        22\n",
      "         BCC       0.70      0.78      0.74        27\n",
      "         BKL       0.76      0.67      0.71        66\n",
      "          DF       1.00      0.83      0.91         6\n",
      "         MEL       0.79      0.43      0.56        35\n",
      "          NV       0.95      0.99      0.97       663\n",
      "        VASC       0.82      1.00      0.90         9\n",
      "\n",
      "    accuracy                           0.92       828\n",
      "   macro avg       0.80      0.74      0.76       828\n",
      "weighted avg       0.91      0.92      0.91       828\n",
      "\n"
     ]
    }
   ],
   "source": [
    "classnames = ['AK', 'BCC', 'BKL', 'DF', 'MEL', 'NV', 'VASC']\n",
    "\n",
    "from tensorflow.keras.utils import to_categorical\n",
    "y_test = to_categorical(y_true)\n",
    "\n",
    "report = classification_report(y_true, y_pred, target_names=classnames)\n",
    "\n",
    "print(\"\\nClassification Report:\")\n",
    "print(report)"
   ]
  },
  {
   "cell_type": "code",
   "execution_count": 27,
   "id": "15a5c04b",
   "metadata": {
    "execution": {
     "iopub.execute_input": "2023-05-20T21:36:24.065968Z",
     "iopub.status.busy": "2023-05-20T21:36:24.065248Z",
     "iopub.status.idle": "2023-05-20T21:36:24.606170Z",
     "shell.execute_reply": "2023-05-20T21:36:24.605260Z"
    },
    "papermill": {
     "duration": 0.576,
     "end_time": "2023-05-20T21:36:24.608170",
     "exception": false,
     "start_time": "2023-05-20T21:36:24.032170",
     "status": "completed"
    },
    "tags": []
   },
   "outputs": [
    {
     "data": {
      "image/png": "[encoded data removed]",
      "text/plain": [
       "<Figure size 1000x400 with 2 Axes>"
      ]
     },
     "metadata": {},
     "output_type": "display_data"
    }
   ],
   "source": [
    "## Confusion Matrix\n",
    "title_font = {'fontname':'Times New Roman', 'size':'14', 'color':'black', 'weight':'normal'}\n",
    "label_font = {'fontname':'Times New Roman', 'size':'12', 'color':'black', 'weight':'normal'}\n",
    "\n",
    "from sklearn.metrics import confusion_matrix\n",
    "import seaborn as sns\n",
    "# Creating confusion matrix \n",
    "cm = confusion_matrix(y_true, y_pred)\n",
    "# Plotting the confusion matrix\n",
    "plt.figure(figsize=(10,4))\n",
    "sns.heatmap(cm, annot=True, fmt='g', cmap='Blues', xticklabels=targetnames, yticklabels=targetnames)\n",
    "plt.xlabel('Predicted Label', fontdict=label_font)\n",
    "plt.ylabel('True Label', fontdict=label_font)\n",
    "plt.title('Confusion Matrix', fontdict=title_font)\n",
    "plt.show()"
   ]
  },
  {
   "cell_type": "markdown",
   "id": "ce126823",
   "metadata": {
    "papermill": {
     "duration": 0.032167,
     "end_time": "2023-05-20T21:36:24.673529",
     "exception": false,
     "start_time": "2023-05-20T21:36:24.641362",
     "status": "completed"
    },
    "tags": []
   },
   "source": [
    "## Results"
   ]
  },
  {
   "cell_type": "markdown",
   "id": "68a7c93a",
   "metadata": {
    "papermill": {
     "duration": 0.032479,
     "end_time": "2023-05-20T21:36:24.738606",
     "exception": false,
     "start_time": "2023-05-20T21:36:24.706127",
     "status": "completed"
    },
    "tags": []
   },
   "source": [
    "### Individual Class Accuracy "
   ]
  },
  {
   "cell_type": "code",
   "execution_count": 28,
   "id": "1d421071",
   "metadata": {
    "execution": {
     "iopub.execute_input": "2023-05-20T21:36:24.805734Z",
     "iopub.status.busy": "2023-05-20T21:36:24.804333Z",
     "iopub.status.idle": "2023-05-20T21:36:24.812171Z",
     "shell.execute_reply": "2023-05-20T21:36:24.811234Z"
    },
    "papermill": {
     "duration": 0.043157,
     "end_time": "2023-05-20T21:36:24.814043",
     "exception": false,
     "start_time": "2023-05-20T21:36:24.770886",
     "status": "completed"
    },
    "tags": []
   },
   "outputs": [
    {
     "name": "stdout",
     "output_type": "stream",
     "text": [
      "Overall accuracy: 91.79%\n",
      "Accuracy for each class:\n",
      "Class 0: 50.00%\n",
      "Class 1: 77.78%\n",
      "Class 2: 66.67%\n",
      "Class 3: 83.33%\n",
      "Class 4: 42.86%\n",
      "Class 5: 98.79%\n",
      "Class 6: 100.00%\n"
     ]
    }
   ],
   "source": [
    "# y_true are the true labels of the test set\n",
    "# y_pred are the predicted labels of the test set\n",
    "accuracy = accuracy_score(y_true, y_pred)\n",
    "# Calculate accuracy for each class\n",
    "class_accuracy = cm.diagonal()/cm.sum(axis=1)\n",
    "print(\"Overall accuracy: {:.2f}%\".format(accuracy*100))\n",
    "print(\"Accuracy for each class:\")\n",
    "for i, acc in enumerate(class_accuracy):\n",
    "    print(\"Class {}: {:.2f}%\".format(i, acc*100))"
   ]
  },
  {
   "cell_type": "markdown",
   "id": "dbb4a99d",
   "metadata": {
    "papermill": {
     "duration": 0.032726,
     "end_time": "2023-05-20T21:36:24.879554",
     "exception": false,
     "start_time": "2023-05-20T21:36:24.846828",
     "status": "completed"
    },
    "tags": []
   },
   "source": [
    "### Individual Class Weighted Precision"
   ]
  },
  {
   "cell_type": "code",
   "execution_count": 29,
   "id": "465a698c",
   "metadata": {
    "execution": {
     "iopub.execute_input": "2023-05-20T21:36:24.947181Z",
     "iopub.status.busy": "2023-05-20T21:36:24.946889Z",
     "iopub.status.idle": "2023-05-20T21:36:24.961970Z",
     "shell.execute_reply": "2023-05-20T21:36:24.960776Z"
    },
    "papermill": {
     "duration": 0.051293,
     "end_time": "2023-05-20T21:36:24.963929",
     "exception": false,
     "start_time": "2023-05-20T21:36:24.912636",
     "status": "completed"
    },
    "tags": []
   },
   "outputs": [
    {
     "name": "stdout",
     "output_type": "stream",
     "text": [
      "Weighted precision for each class:\n",
      "Class 0: 61.11%\n",
      "Class 1: 70.00%\n",
      "Class 2: 75.86%\n",
      "Class 3: 100.00%\n",
      "Class 4: 78.95%\n",
      "Class 5: 95.34%\n",
      "Class 6: 81.82%\n",
      "Weighted precision: 91.25%\n"
     ]
    }
   ],
   "source": [
    "report = classification_report(y_true, y_pred, output_dict=True)\n",
    "# Extract weighted precision for each class\n",
    "class_precision = {}\n",
    "for class_label in report.keys():\n",
    "    if class_label == 'weighted avg':\n",
    "        class_precision['weighted'] = report[class_label]['precision']\n",
    "    elif class_label.isdigit():\n",
    "        class_precision[int(class_label)] = report[class_label]['precision']\n",
    "print(\"Weighted precision for each class:\")\n",
    "for i, precision in class_precision.items():\n",
    "    if i == 'weighted':\n",
    "        print(\"Weighted precision: {:.2f}%\".format(precision*100))\n",
    "    else:\n",
    "        print(\"Class {}: {:.2f}%\".format(i, precision*100))"
   ]
  },
  {
   "cell_type": "markdown",
   "id": "e3bc476b",
   "metadata": {
    "papermill": {
     "duration": 0.032846,
     "end_time": "2023-05-20T21:36:25.030470",
     "exception": false,
     "start_time": "2023-05-20T21:36:24.997624",
     "status": "completed"
    },
    "tags": []
   },
   "source": [
    "### Individual Class Weighted Recall"
   ]
  },
  {
   "cell_type": "code",
   "execution_count": 30,
   "id": "6ed9bbdc",
   "metadata": {
    "execution": {
     "iopub.execute_input": "2023-05-20T21:36:25.097749Z",
     "iopub.status.busy": "2023-05-20T21:36:25.097468Z",
     "iopub.status.idle": "2023-05-20T21:36:25.112123Z",
     "shell.execute_reply": "2023-05-20T21:36:25.110727Z"
    },
    "papermill": {
     "duration": 0.050581,
     "end_time": "2023-05-20T21:36:25.114049",
     "exception": false,
     "start_time": "2023-05-20T21:36:25.063468",
     "status": "completed"
    },
    "tags": []
   },
   "outputs": [
    {
     "name": "stdout",
     "output_type": "stream",
     "text": [
      "Weighted recall for each class:\n",
      "Class 0: 50.00%\n",
      "Class 1: 77.78%\n",
      "Class 2: 66.67%\n",
      "Class 3: 83.33%\n",
      "Class 4: 42.86%\n",
      "Class 5: 98.79%\n",
      "Class 6: 100.00%\n",
      "Weighted Recall: 91.79%\n"
     ]
    }
   ],
   "source": [
    "report = classification_report(y_true, y_pred, output_dict=True)\n",
    "# Extract weighted recall for each class\n",
    "class_recall = {}\n",
    "for class_label in report.keys():\n",
    "    if class_label == 'weighted avg':\n",
    "        class_recall['weighted'] = report[class_label]['recall']\n",
    "    elif class_label.isdigit():\n",
    "        class_recall[int(class_label)] = report[class_label]['recall']\n",
    "print(\"Weighted recall for each class:\")\n",
    "for i, recall in class_recall.items():\n",
    "    if i == 'weighted':\n",
    "        print(\"Weighted Recall: {:.2f}%\".format(recall*100))\n",
    "    else:\n",
    "        print(\"Class {}: {:.2f}%\".format(i, recall*100))"
   ]
  },
  {
   "cell_type": "markdown",
   "id": "7c84e3e1",
   "metadata": {
    "papermill": {
     "duration": 0.035995,
     "end_time": "2023-05-20T21:36:25.183313",
     "exception": false,
     "start_time": "2023-05-20T21:36:25.147318",
     "status": "completed"
    },
    "tags": []
   },
   "source": [
    "### Individual Class Weighted F1-score"
   ]
  },
  {
   "cell_type": "code",
   "execution_count": 31,
   "id": "50469234",
   "metadata": {
    "execution": {
     "iopub.execute_input": "2023-05-20T21:36:25.251149Z",
     "iopub.status.busy": "2023-05-20T21:36:25.250413Z",
     "iopub.status.idle": "2023-05-20T21:36:25.264635Z",
     "shell.execute_reply": "2023-05-20T21:36:25.263561Z"
    },
    "papermill": {
     "duration": 0.050187,
     "end_time": "2023-05-20T21:36:25.266688",
     "exception": false,
     "start_time": "2023-05-20T21:36:25.216501",
     "status": "completed"
    },
    "tags": []
   },
   "outputs": [
    {
     "name": "stdout",
     "output_type": "stream",
     "text": [
      "Weighted F1-score for each class:\n",
      "Class 0: 55.00%\n",
      "Class 1: 73.68%\n",
      "Class 2: 70.97%\n",
      "Class 3: 90.91%\n",
      "Class 4: 55.56%\n",
      "Class 5: 97.04%\n",
      "Class 6: 90.00%\n",
      "Weighted F1-score: 91.21%\n"
     ]
    }
   ],
   "source": [
    "report = classification_report(y_true, y_pred, output_dict=True)\n",
    "# Extract weighted F1-score for each class\n",
    "class_f1 = {}\n",
    "for class_label in report.keys():\n",
    "    if class_label == 'weighted avg':\n",
    "        class_f1['weighted'] = report[class_label]['f1-score']\n",
    "    elif class_label.isdigit():\n",
    "        class_f1[int(class_label)] = report[class_label]['f1-score']\n",
    "print(\"Weighted F1-score for each class:\")\n",
    "for i, f1_score in class_f1.items():\n",
    "    if i == 'weighted':\n",
    "        print(\"Weighted F1-score: {:.2f}%\".format(f1_score*100))\n",
    "    else:\n",
    "        print(\"Class {}: {:.2f}%\".format(i, f1_score*100))"
   ]
  },
  {
   "cell_type": "markdown",
   "id": "1394612e",
   "metadata": {
    "papermill": {
     "duration": 0.033011,
     "end_time": "2023-05-20T21:36:25.332858",
     "exception": false,
     "start_time": "2023-05-20T21:36:25.299847",
     "status": "completed"
    },
    "tags": []
   },
   "source": [
    "### Individual Class Precision, Recall and F1-score"
   ]
  },
  {
   "cell_type": "code",
   "execution_count": 32,
   "id": "4a80d464",
   "metadata": {
    "execution": {
     "iopub.execute_input": "2023-05-20T21:36:25.400052Z",
     "iopub.status.busy": "2023-05-20T21:36:25.399791Z",
     "iopub.status.idle": "2023-05-20T21:36:25.408381Z",
     "shell.execute_reply": "2023-05-20T21:36:25.407260Z"
    },
    "papermill": {
     "duration": 0.044374,
     "end_time": "2023-05-20T21:36:25.410246",
     "exception": false,
     "start_time": "2023-05-20T21:36:25.365872",
     "status": "completed"
    },
    "tags": []
   },
   "outputs": [
    {
     "name": "stdout",
     "output_type": "stream",
     "text": [
      "Class-wise weighted precision, recall, and F1-score:\n",
      "Class 0: Precision=0.61, Recall=0.50, F1-score=0.55\n",
      "Class 1: Precision=0.70, Recall=0.78, F1-score=0.74\n",
      "Class 2: Precision=0.76, Recall=0.67, F1-score=0.71\n",
      "Class 3: Precision=1.00, Recall=0.83, F1-score=0.91\n",
      "Class 4: Precision=0.79, Recall=0.43, F1-score=0.56\n",
      "Class 5: Precision=0.95, Recall=0.99, F1-score=0.97\n",
      "Class 6: Precision=0.82, Recall=1.00, F1-score=0.90\n"
     ]
    }
   ],
   "source": [
    "from sklearn.metrics import precision_recall_fscore_support\n",
    "\n",
    "precision_class, recall_class, f1_class, support_class = precision_recall_fscore_support(y_true, y_pred, average=None)\n",
    "print('Class-wise weighted precision, recall, and F1-score:')\n",
    "for i in range(len(precision_class)):\n",
    "    print('Class {}: Precision={:.2f}, Recall={:.2f}, F1-score={:.2f}'.format(i, precision_class[i], recall_class[i], f1_class[i]))\n"
   ]
  },
  {
   "cell_type": "markdown",
   "id": "cd9b410b",
   "metadata": {
    "papermill": {
     "duration": 0.033118,
     "end_time": "2023-05-20T21:36:25.476498",
     "exception": false,
     "start_time": "2023-05-20T21:36:25.443380",
     "status": "completed"
    },
    "tags": []
   },
   "source": [
    "### Individual Class Weighted Sensitivity"
   ]
  },
  {
   "cell_type": "code",
   "execution_count": 33,
   "id": "b6f33658",
   "metadata": {
    "execution": {
     "iopub.execute_input": "2023-05-20T21:36:25.544606Z",
     "iopub.status.busy": "2023-05-20T21:36:25.543965Z",
     "iopub.status.idle": "2023-05-20T21:36:26.018748Z",
     "shell.execute_reply": "2023-05-20T21:36:26.017447Z"
    },
    "papermill": {
     "duration": 0.511286,
     "end_time": "2023-05-20T21:36:26.020923",
     "exception": false,
     "start_time": "2023-05-20T21:36:25.509637",
     "status": "completed"
    },
    "tags": []
   },
   "outputs": [
    {
     "name": "stdout",
     "output_type": "stream",
     "text": [
      "Weighted Sensitivity:  0.9178743961352657\n",
      "Class  0 :sensitivity = 0.5\n",
      "Class  1 :sensitivity = 0.7777777777777778\n",
      "Class  2 :sensitivity = 0.6666666666666666\n",
      "Class  3 :sensitivity = 0.8333333333333334\n",
      "Class  4 :sensitivity = 0.42857142857142855\n",
      "Class  5 :sensitivity = 0.9879336349924586\n",
      "Class  6 :sensitivity = 1.0\n"
     ]
    }
   ],
   "source": [
    "from imblearn.metrics import sensitivity_score\n",
    "\n",
    "sensitivity = sensitivity_score(y_true, y_pred, average='weighted')\n",
    "print(\"Weighted Sensitivity: \", sensitivity)\n",
    "\n",
    "# Calculate class-wise sensitivity\n",
    "sensitivity = sensitivity_score(y_true, y_pred, average=None)\n",
    "\n",
    "# Print sensitivity score for each class\n",
    "for i in range(len(sensitivity)):\n",
    "    print(\"Class \", i, \":sensitivity =\", sensitivity[i])"
   ]
  },
  {
   "cell_type": "markdown",
   "id": "c95eb6fb",
   "metadata": {
    "papermill": {
     "duration": 0.032837,
     "end_time": "2023-05-20T21:36:26.087280",
     "exception": false,
     "start_time": "2023-05-20T21:36:26.054443",
     "status": "completed"
    },
    "tags": []
   },
   "source": [
    "### Individual Class Weighted Specificity"
   ]
  },
  {
   "cell_type": "code",
   "execution_count": 34,
   "id": "b7c65a47",
   "metadata": {
    "execution": {
     "iopub.execute_input": "2023-05-20T21:36:26.162181Z",
     "iopub.status.busy": "2023-05-20T21:36:26.161858Z",
     "iopub.status.idle": "2023-05-20T21:36:26.171800Z",
     "shell.execute_reply": "2023-05-20T21:36:26.170616Z"
    },
    "papermill": {
     "duration": 0.053329,
     "end_time": "2023-05-20T21:36:26.173773",
     "exception": false,
     "start_time": "2023-05-20T21:36:26.120444",
     "status": "completed"
    },
    "tags": []
   },
   "outputs": [
    {
     "name": "stdout",
     "output_type": "stream",
     "text": [
      "Weighted Specificity:  0.8424065492998342\n",
      "Class  0 :specificity= 0.9913151364764268\n",
      "Class  1 :specificity= 0.9887640449438202\n",
      "Class  2 :specificity= 0.9816272965879265\n",
      "Class  3 :specificity= 1.0\n",
      "Class  4 :specificity= 0.9949558638083228\n",
      "Class  5 :specificity= 0.806060606060606\n",
      "Class  6 :specificity= 0.9975579975579976\n"
     ]
    }
   ],
   "source": [
    "from imblearn.metrics import specificity_score\n",
    "\n",
    "specificity = specificity_score(y_true, y_pred, average='weighted')\n",
    "print(\"Weighted Specificity: \", specificity)\n",
    "\n",
    "# Calculate class-wise specificity\n",
    "specificity = specificity_score(y_true, y_pred, average=None)\n",
    "\n",
    "# Print sensitivity score for each class\n",
    "for i in range(len(specificity)):\n",
    "    print(\"Class \", i, \":specificity=\", specificity[i])"
   ]
  },
  {
   "cell_type": "markdown",
   "id": "6f6b7ae6",
   "metadata": {
    "papermill": {
     "duration": 0.032667,
     "end_time": "2023-05-20T21:36:26.239584",
     "exception": false,
     "start_time": "2023-05-20T21:36:26.206917",
     "status": "completed"
    },
    "tags": []
   },
   "source": [
    "### Accuracy"
   ]
  },
  {
   "cell_type": "code",
   "execution_count": 35,
   "id": "4dc093dd",
   "metadata": {
    "execution": {
     "iopub.execute_input": "2023-05-20T21:36:26.307400Z",
     "iopub.status.busy": "2023-05-20T21:36:26.306670Z",
     "iopub.status.idle": "2023-05-20T21:36:26.312729Z",
     "shell.execute_reply": "2023-05-20T21:36:26.311724Z"
    },
    "papermill": {
     "duration": 0.042063,
     "end_time": "2023-05-20T21:36:26.314613",
     "exception": false,
     "start_time": "2023-05-20T21:36:26.272550",
     "status": "completed"
    },
    "tags": []
   },
   "outputs": [
    {
     "name": "stdout",
     "output_type": "stream",
     "text": [
      "Accuracy: 0.9178743961352657\n"
     ]
    }
   ],
   "source": [
    "print(\"Accuracy: \" + str(accuracy_score(y_true, y_pred)))\n",
    "import numpy as np\n",
    "from sklearn.metrics import accuracy_score"
   ]
  },
  {
   "cell_type": "code",
   "execution_count": 36,
   "id": "e62a5eb2",
   "metadata": {
    "execution": {
     "iopub.execute_input": "2023-05-20T21:36:26.382041Z",
     "iopub.status.busy": "2023-05-20T21:36:26.381325Z",
     "iopub.status.idle": "2023-05-20T21:36:26.400062Z",
     "shell.execute_reply": "2023-05-20T21:36:26.399006Z"
    },
    "papermill": {
     "duration": 0.054568,
     "end_time": "2023-05-20T21:36:26.402017",
     "exception": false,
     "start_time": "2023-05-20T21:36:26.347449",
     "status": "completed"
    },
    "tags": []
   },
   "outputs": [
    {
     "name": "stdout",
     "output_type": "stream",
     "text": [
      "Top-1 Accuracy: 0.9178743961352657\n",
      "Top-2 Accuracy: 0.9722222222222222\n",
      "Top-3 Accuracy: 0.9903381642512077\n"
     ]
    }
   ],
   "source": [
    "# Calculate top-1 accuracy\n",
    "top1_acc = accuracy_score(y_true, y_pred)\n",
    "print(\"Top-1 Accuracy:\", top1_acc)\n",
    "\n",
    "# Calculate top-2 accuracy\n",
    "y_pred_top2 = np.argsort(-predictions, axis=1)[:, :2] # Get the top 2 predicted classes\n",
    "top2_acc = np.mean(np.array([y_true[i] in y_pred_top2[i] for i in range(len(y_true))]))\n",
    "print(\"Top-2 Accuracy:\", top2_acc)\n",
    "\n",
    "# Calculate top-3 accuracy\n",
    "y_pred_top3 = np.argsort(-predictions, axis=1)[:, :3] # Get the top 3 predicted classes\n",
    "top3_acc = np.mean(np.array([y_true[i] in y_pred_top3[i] for i in range(len(y_true))]))\n",
    "print(\"Top-3 Accuracy:\", top3_acc)\n",
    "from sklearn.metrics import f1_score"
   ]
  },
  {
   "cell_type": "markdown",
   "id": "ba12f807",
   "metadata": {
    "papermill": {
     "duration": 0.032867,
     "end_time": "2023-05-20T21:36:26.468035",
     "exception": false,
     "start_time": "2023-05-20T21:36:26.435168",
     "status": "completed"
    },
    "tags": []
   },
   "source": [
    "### Weighted Evaluation Measures"
   ]
  },
  {
   "cell_type": "code",
   "execution_count": 37,
   "id": "d53e714c",
   "metadata": {
    "execution": {
     "iopub.execute_input": "2023-05-20T21:36:26.540337Z",
     "iopub.status.busy": "2023-05-20T21:36:26.539725Z",
     "iopub.status.idle": "2023-05-20T21:36:26.563884Z",
     "shell.execute_reply": "2023-05-20T21:36:26.563018Z"
    },
    "papermill": {
     "duration": 0.060342,
     "end_time": "2023-05-20T21:36:26.565793",
     "exception": false,
     "start_time": "2023-05-20T21:36:26.505451",
     "status": "completed"
    },
    "tags": []
   },
   "outputs": [
    {
     "name": "stdout",
     "output_type": "stream",
     "text": [
      "Weighted Precision: 0.9124716536265962\n",
      "Weighted Recall: 0.9178743961352657\n",
      "Weighted F1-Score: 0.912062792239215\n",
      "Weighted Sensitivity: 0.9178743961352657\n",
      "Weighted Specificity: 0.8424065492998342\n",
      "weighted Roc score: 0.9774518770354976\n"
     ]
    }
   ],
   "source": [
    "print(\"Weighted Precision: \"+ str(precision_score(y_true, y_pred, average='weighted')))\n",
    "print(\"Weighted Recall: \"+ str(recall_score(y_true, y_pred, average='weighted')))\n",
    "print(\"Weighted F1-Score: \"+ str(f1_score(y_true, y_pred, average='weighted')))\n",
    "print(\"Weighted Sensitivity: \"+ str(sensitivity_score(y_true, y_pred, average='weighted')))\n",
    "print(\"Weighted Specificity: \"+ str(specificity_score(y_true, y_pred, average='weighted')))\n",
    "print(\"weighted Roc score: \" + str(roc_auc_score(y_true,y_prob,multi_class='ovr',average='weighted')))"
   ]
  },
  {
   "cell_type": "markdown",
   "id": "76ffc2e3",
   "metadata": {
    "papermill": {
     "duration": 0.033335,
     "end_time": "2023-05-20T21:36:26.632227",
     "exception": false,
     "start_time": "2023-05-20T21:36:26.598892",
     "status": "completed"
    },
    "tags": []
   },
   "source": [
    "### Macro Evaluation Measures"
   ]
  },
  {
   "cell_type": "code",
   "execution_count": 38,
   "id": "9d3b1eb9",
   "metadata": {
    "execution": {
     "iopub.execute_input": "2023-05-20T21:36:26.699919Z",
     "iopub.status.busy": "2023-05-20T21:36:26.699207Z",
     "iopub.status.idle": "2023-05-20T21:36:26.719044Z",
     "shell.execute_reply": "2023-05-20T21:36:26.718014Z"
    },
    "papermill": {
     "duration": 0.055598,
     "end_time": "2023-05-20T21:36:26.720936",
     "exception": false,
     "start_time": "2023-05-20T21:36:26.665338",
     "status": "completed"
    },
    "tags": []
   },
   "outputs": [
    {
     "name": "stdout",
     "output_type": "stream",
     "text": [
      "Macro Precision: 0.8044011389623577\n",
      "Macro Recall: 0.742040405905952\n",
      "Macro F1-Score: 0.7616480513764046\n",
      "Macro Sensitivity: 0.742040405905952\n",
      "Macro Specificity: 0.9657544207764428\n",
      "Macro Roc score: 0.9765290991952285\n"
     ]
    }
   ],
   "source": [
    "print(\"Macro Precision: \"+ str(precision_score(y_true, y_pred, average='macro')))\n",
    "print(\"Macro Recall: \"+ str(recall_score(y_true, y_pred, average='macro')))\n",
    "print(\"Macro F1-Score: \"+ str(f1_score(y_true, y_pred, average='macro')))\n",
    "print(\"Macro Sensitivity: \"+ str(sensitivity_score(y_true, y_pred, average='macro')))\n",
    "print(\"Macro Specificity: \"+ str(specificity_score(y_true, y_pred, average='macro')))\n",
    "print(\"Macro Roc score: \" + str(roc_auc_score(y_true,y_prob,multi_class='ovr',average='macro')))"
   ]
  },
  {
   "cell_type": "markdown",
   "id": "c7b31f6d",
   "metadata": {
    "papermill": {
     "duration": 0.032917,
     "end_time": "2023-05-20T21:36:26.787367",
     "exception": false,
     "start_time": "2023-05-20T21:36:26.754450",
     "status": "completed"
    },
    "tags": []
   },
   "source": [
    "### Micro Evaluation Measures"
   ]
  },
  {
   "cell_type": "code",
   "execution_count": 39,
   "id": "566c5e6d",
   "metadata": {
    "execution": {
     "iopub.execute_input": "2023-05-20T21:36:26.855671Z",
     "iopub.status.busy": "2023-05-20T21:36:26.855023Z",
     "iopub.status.idle": "2023-05-20T21:36:26.870539Z",
     "shell.execute_reply": "2023-05-20T21:36:26.869484Z"
    },
    "papermill": {
     "duration": 0.051792,
     "end_time": "2023-05-20T21:36:26.872624",
     "exception": false,
     "start_time": "2023-05-20T21:36:26.820832",
     "status": "completed"
    },
    "tags": []
   },
   "outputs": [
    {
     "name": "stdout",
     "output_type": "stream",
     "text": [
      "Micro Precision: 0.9178743961352657\n",
      "Micro Recall: 0.9178743961352657\n",
      "Micro F1-Score: 0.9178743961352658\n",
      "Micro Sensitivity: 0.9178743961352657\n",
      "Micro Specificity: 0.9863123993558777\n"
     ]
    }
   ],
   "source": [
    "print(\"Micro Precision: \"+ str(precision_score(y_true, y_pred, average='micro')))\n",
    "print(\"Micro Recall: \"+ str(recall_score(y_true, y_pred, average='micro')))\n",
    "print(\"Micro F1-Score: \"+ str(f1_score(y_true, y_pred, average='micro')))\n",
    "print(\"Micro Sensitivity: \"+ str(sensitivity_score(y_true, y_pred, average='micro')))\n",
    "print(\"Micro Specificity: \"+ str(specificity_score(y_true, y_pred, average='micro')))"
   ]
  },
  {
   "cell_type": "markdown",
   "id": "47d3e342",
   "metadata": {
    "papermill": {
     "duration": 0.033443,
     "end_time": "2023-05-20T21:36:26.939263",
     "exception": false,
     "start_time": "2023-05-20T21:36:26.905820",
     "status": "completed"
    },
    "tags": []
   },
   "source": [
    "## ROC"
   ]
  },
  {
   "cell_type": "markdown",
   "id": "7456a75b",
   "metadata": {
    "papermill": {
     "duration": 0.033669,
     "end_time": "2023-05-20T21:36:27.006243",
     "exception": false,
     "start_time": "2023-05-20T21:36:26.972574",
     "status": "completed"
    },
    "tags": []
   },
   "source": [
    "### Compute ROC curve and ROC area for each class"
   ]
  },
  {
   "cell_type": "code",
   "execution_count": 40,
   "id": "a471c35a",
   "metadata": {
    "execution": {
     "iopub.execute_input": "2023-05-20T21:36:27.074029Z",
     "iopub.status.busy": "2023-05-20T21:36:27.073765Z",
     "iopub.status.idle": "2023-05-20T21:36:27.868844Z",
     "shell.execute_reply": "2023-05-20T21:36:27.867942Z"
    },
    "papermill": {
     "duration": 0.831406,
     "end_time": "2023-05-20T21:36:27.870954",
     "exception": false,
     "start_time": "2023-05-20T21:36:27.039548",
     "status": "completed"
    },
    "tags": []
   },
   "outputs": [
    {
     "data": {
      "image/png": "[encoded data removed]",
      "text/plain": [
       "<Figure size 640x480 with 1 Axes>"
      ]
     },
     "metadata": {},
     "output_type": "display_data"
    }
   ],
   "source": [
    "fpr = {}\n",
    "tpr = {}\n",
    "roc_auc = dict()\n",
    "for i in range(num_classes):\n",
    "    fpr[i], tpr[i], _ = roc_curve(y_test[:, i], y_prob[:, i], drop_intermediate=False)\n",
    "    roc_auc[i] = auc(fpr[i], tpr[i])\n",
    "\n",
    "\n",
    "# plot the ROC curve for each class\n",
    "for i in range(num_classes):\n",
    "    plt.plot(fpr[i], tpr[i], label='Class {}: AUC={:.3f}'.format(i, roc_auc[i]))\n",
    "\n",
    "plt.xlabel('False Positive Rate')\n",
    "plt.ylabel('True Positive Rate')\n",
    "plt.legend()\n",
    "plt.show()"
   ]
  },
  {
   "cell_type": "markdown",
   "id": "a6d59776",
   "metadata": {
    "papermill": {
     "duration": 0.033846,
     "end_time": "2023-05-20T21:36:27.939176",
     "exception": false,
     "start_time": "2023-05-20T21:36:27.905330",
     "status": "completed"
    },
    "tags": []
   },
   "source": [
    "## MCC and Kappa Score"
   ]
  },
  {
   "cell_type": "code",
   "execution_count": 41,
   "id": "a4cb34cc",
   "metadata": {
    "execution": {
     "iopub.execute_input": "2023-05-20T21:36:28.010150Z",
     "iopub.status.busy": "2023-05-20T21:36:28.008506Z",
     "iopub.status.idle": "2023-05-20T21:36:28.018244Z",
     "shell.execute_reply": "2023-05-20T21:36:28.017145Z"
    },
    "papermill": {
     "duration": 0.047038,
     "end_time": "2023-05-20T21:36:28.020199",
     "exception": false,
     "start_time": "2023-05-20T21:36:27.973161",
     "status": "completed"
    },
    "tags": []
   },
   "outputs": [
    {
     "name": "stdout",
     "output_type": "stream",
     "text": [
      "MCC: 75.23%\n",
      "Kappa Score: 74.90%\n"
     ]
    }
   ],
   "source": [
    "from sklearn.metrics import matthews_corrcoef, cohen_kappa_score\n",
    "\n",
    "# y_true are the true labels of the test set\n",
    "# y_pred are the predicted labels of the test set\n",
    "mcc = matthews_corrcoef(y_true, y_pred)\n",
    "kappa = cohen_kappa_score(y_true, y_pred)\n",
    "print(\"MCC: {:.2f}%\".format(mcc*100))\n",
    "print(\"Kappa Score: {:.2f}%\".format(kappa*100))"
   ]
  },
  {
   "cell_type": "code",
   "execution_count": 42,
   "id": "21609824",
   "metadata": {
    "execution": {
     "iopub.execute_input": "2023-05-20T21:36:28.089592Z",
     "iopub.status.busy": "2023-05-20T21:36:28.088870Z",
     "iopub.status.idle": "2023-05-20T21:36:28.153855Z",
     "shell.execute_reply": "2023-05-20T21:36:28.152844Z"
    },
    "papermill": {
     "duration": 0.101918,
     "end_time": "2023-05-20T21:36:28.156064",
     "exception": false,
     "start_time": "2023-05-20T21:36:28.054146",
     "status": "completed"
    },
    "tags": []
   },
   "outputs": [
    {
     "name": "stdout",
     "output_type": "stream",
     "text": [
      "MCC per class:\n",
      "Class 0: 54.18%\n",
      "Class 1: 72.86%\n",
      "Class 2: 68.80%\n",
      "Class 3: 91.23%\n",
      "Class 4: 56.91%\n",
      "Class 5: 84.38%\n",
      "Class 6: 90.34%\n",
      "Kappa Score per class:\n",
      "Class 0: 53.90%\n",
      "Class 1: 72.75%\n",
      "Class 2: 68.63%\n",
      "Class 3: 90.85%\n",
      "Class 4: 54.19%\n",
      "Class 5: 83.99%\n",
      "Class 6: 89.88%\n"
     ]
    }
   ],
   "source": [
    "### Individual Class Wise MCC and Kappa\n",
    "\n",
    "from sklearn.metrics import confusion_matrix, matthews_corrcoef, cohen_kappa_score\n",
    "# y_true are the true labels of the test set\n",
    "# y_pred are the predicted labels of the test set\n",
    "conf_mat = confusion_matrix(y_true, y_pred)\n",
    "mcc_per_class = {}\n",
    "kappa_per_class = {}\n",
    "\n",
    "for i in range(len(conf_mat)):\n",
    "    tp = conf_mat[i][i]\n",
    "    fp = sum(conf_mat[:, i]) - tp\n",
    "    fn = sum(conf_mat[i, :]) - tp\n",
    "    tn = sum(sum(conf_mat)) - tp - fp - fn\n",
    "\n",
    "    mcc_per_class[i] = matthews_corrcoef([1 if x==i else 0 for x in y_true], [1 if x==i else 0 for x in y_pred])\n",
    "    kappa_per_class[i] = cohen_kappa_score([1 if x==i else 0 for x in y_true], [1 if x==i else 0 for x in y_pred])\n",
    "\n",
    "print(\"MCC per class:\")\n",
    "for i, mcc in mcc_per_class.items():\n",
    "    print(\"Class {}: {:.2f}%\".format(i, mcc*100))\n",
    "\n",
    "print(\"Kappa Score per class:\")\n",
    "for i, kappa in kappa_per_class.items():\n",
    "    print(\"Class {}: {:.2f}%\".format(i, kappa*100))"
   ]
  }
 ],
 "metadata": {
  "kernelspec": {
   "display_name": "Python 3",
   "language": "python",
   "name": "python3"
  },
  "language_info": {
   "codemirror_mode": {
    "name": "ipython",
    "version": 3
   },
   "file_extension": ".py",
   "mimetype": "text/x-python",
   "name": "python",
   "nbconvert_exporter": "python",
   "pygments_lexer": "ipython3",
   "version": "3.10.10"
  },
  "papermill": {
   "default_parameters": {},
   "duration": 29973.027775,
   "end_time": "2023-05-20T21:36:32.008553",
   "environment_variables": {},
   "exception": null,
   "input_path": "__notebook__.ipynb",
   "output_path": "__notebook__.ipynb",
   "parameters": {},
   "start_time": "2023-05-20T13:16:58.980778",
   "version": "2.4.0"
  }
 },
 "nbformat": 4,
 "nbformat_minor": 5
}
