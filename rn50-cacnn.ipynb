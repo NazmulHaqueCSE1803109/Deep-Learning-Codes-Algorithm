{
 "cells": [
  {
   "cell_type": "markdown",
   "id": "2eae2792",
   "metadata": {
    "papermill": {
     "duration": 0.014252,
     "end_time": "2023-05-18T15:18:58.516867",
     "exception": false,
     "start_time": "2023-05-18T15:18:58.502615",
     "status": "completed"
    },
    "tags": []
   },
   "source": [
    "# Libraries"
   ]
  },
  {
   "cell_type": "code",
   "execution_count": 1,
   "id": "4c1b84d5",
   "metadata": {
    "execution": {
     "iopub.execute_input": "2023-05-18T15:18:58.545753Z",
     "iopub.status.busy": "2023-05-18T15:18:58.545370Z",
     "iopub.status.idle": "2023-05-18T15:19:07.320827Z",
     "shell.execute_reply": "2023-05-18T15:19:07.319788Z"
    },
    "id": "Aa36bMKLze3z",
    "papermill": {
     "duration": 8.792881,
     "end_time": "2023-05-18T15:19:07.323587",
     "exception": false,
     "start_time": "2023-05-18T15:18:58.530706",
     "status": "completed"
    },
    "tags": []
   },
   "outputs": [
    {
     "name": "stderr",
     "output_type": "stream",
     "text": [
      "/opt/conda/lib/python3.10/site-packages/scipy/__init__.py:146: UserWarning: A NumPy version >=1.16.5 and <1.23.0 is required for this version of SciPy (detected version 1.23.5\n",
      "  warnings.warn(f\"A NumPy version >={np_minversion} and <{np_maxversion}\"\n"
     ]
    }
   ],
   "source": [
    "import pandas as pd\n",
    "import numpy as np\n",
    "import os\n",
    "import tensorflow as tf\n",
    "import cv2\n",
    "from keras import backend as K\n",
    "from keras.layers import Layer, InputSpec\n",
    "import keras.layers as kl\n",
    "from glob import glob\n",
    "from sklearn.metrics import roc_curve, auc\n",
    "from keras.preprocessing import image\n",
    "from tensorflow.keras.models import Sequential\n",
    "from sklearn.metrics import roc_auc_score\n",
    "from tensorflow.keras import callbacks \n",
    "from tensorflow.keras.callbacks import ModelCheckpoint, EarlyStopping\n",
    "from  matplotlib import pyplot as plt\n",
    "from tensorflow.keras import Model\n",
    "from tensorflow.keras.layers import concatenate, Dense, Conv2D, MaxPooling2D, Flatten, Input, Activation, add, AveragePooling2D, BatchNormalization, Dropout\n",
    "%matplotlib inline\n",
    "import shutil\n",
    "from sklearn.metrics import  precision_score, recall_score, accuracy_score, classification_report, confusion_matrix\n",
    "from tensorflow.python.platform import build_info as tf_build_info\n",
    "from tensorflow.keras.preprocessing.image import ImageDataGenerator\n",
    "from sklearn.model_selection import train_test_split\n",
    "\n",
    "from PIL import ImageFile\n",
    "ImageFile.LOAD_TRUNCATED_IMAGES = True\n",
    "\n",
    "from tensorflow.keras.layers import Reshape, Conv2D, BatchNormalization, MaxPooling2D, Flatten, Dense, Input, GlobalAveragePooling2D, GlobalMaxPooling2D\n",
    "from tensorflow.keras.applications.mobilenet import MobileNet\n",
    "from tensorflow.keras.models import Model\n",
    "from tensorflow.keras.callbacks import EarlyStopping, ModelCheckpoint\n",
    "from tensorflow.keras.preprocessing.image import ImageDataGenerator"
   ]
  },
  {
   "cell_type": "code",
   "execution_count": 2,
   "id": "e5cbf2be",
   "metadata": {
    "execution": {
     "iopub.execute_input": "2023-05-18T15:19:07.356307Z",
     "iopub.status.busy": "2023-05-18T15:19:07.355038Z",
     "iopub.status.idle": "2023-05-18T15:19:07.360356Z",
     "shell.execute_reply": "2023-05-18T15:19:07.359278Z"
    },
    "id": "PsoqCvNsgmHP",
    "papermill": {
     "duration": 0.022633,
     "end_time": "2023-05-18T15:19:07.362379",
     "exception": false,
     "start_time": "2023-05-18T15:19:07.339746",
     "status": "completed"
    },
    "tags": []
   },
   "outputs": [],
   "source": [
    "targetnames = ['akiec', 'bcc', 'bkl', 'df', 'mel', 'nv', 'vasc']\n",
    "batch_size = 16\n",
    "image_size = 224"
   ]
  },
  {
   "cell_type": "code",
   "execution_count": 3,
   "id": "6385696a",
   "metadata": {
    "execution": {
     "iopub.execute_input": "2023-05-18T15:19:07.391757Z",
     "iopub.status.busy": "2023-05-18T15:19:07.391488Z",
     "iopub.status.idle": "2023-05-18T15:19:07.395696Z",
     "shell.execute_reply": "2023-05-18T15:19:07.394768Z"
    },
    "id": "wNisha_gM3_Z",
    "papermill": {
     "duration": 0.021373,
     "end_time": "2023-05-18T15:19:07.397662",
     "exception": false,
     "start_time": "2023-05-18T15:19:07.376289",
     "status": "completed"
    },
    "tags": []
   },
   "outputs": [],
   "source": [
    "train_path = '/kaggle/input/splitted-and-augmented-ham-15/Splitted_And_Augmented_HAM_15/HAM10K/train_dir'\n",
    "test_path = '/kaggle/input/splitted-and-augmented-ham-15/Splitted_And_Augmented_HAM_15/HAM10K/test_dir'\n",
    "val_path = '/kaggle/input/splitted-and-augmented-ham-15/Splitted_And_Augmented_HAM_15/HAM10K/val_dir'"
   ]
  },
  {
   "cell_type": "markdown",
   "id": "903e4675",
   "metadata": {
    "papermill": {
     "duration": 0.013663,
     "end_time": "2023-05-18T15:19:07.424926",
     "exception": false,
     "start_time": "2023-05-18T15:19:07.411263",
     "status": "completed"
    },
    "tags": []
   },
   "source": [
    "# Dataset generation (Train, Test, Validation)"
   ]
  },
  {
   "cell_type": "code",
   "execution_count": 4,
   "id": "5944f087",
   "metadata": {
    "execution": {
     "iopub.execute_input": "2023-05-18T15:19:07.453723Z",
     "iopub.status.busy": "2023-05-18T15:19:07.453460Z",
     "iopub.status.idle": "2023-05-18T15:19:07.457875Z",
     "shell.execute_reply": "2023-05-18T15:19:07.456800Z"
    },
    "id": "zhQWqdRN79B3",
    "papermill": {
     "duration": 0.021231,
     "end_time": "2023-05-18T15:19:07.460184",
     "exception": false,
     "start_time": "2023-05-18T15:19:07.438953",
     "status": "completed"
    },
    "tags": []
   },
   "outputs": [],
   "source": [
    "datagen = ImageDataGenerator(preprocessing_function=tf.keras.applications.resnet50.preprocess_input)"
   ]
  },
  {
   "cell_type": "code",
   "execution_count": 5,
   "id": "cf3a9b63",
   "metadata": {
    "execution": {
     "iopub.execute_input": "2023-05-18T15:19:07.490182Z",
     "iopub.status.busy": "2023-05-18T15:19:07.488810Z",
     "iopub.status.idle": "2023-05-18T15:19:27.082191Z",
     "shell.execute_reply": "2023-05-18T15:19:27.081212Z"
    },
    "id": "w9_8FvOO7Rtu",
    "outputId": "7ca88c24-fda8-45d6-cb32-f3a43ae6ba5b",
    "papermill": {
     "duration": 19.610338,
     "end_time": "2023-05-18T15:19:27.084473",
     "exception": false,
     "start_time": "2023-05-18T15:19:07.474135",
     "status": "completed"
    },
    "tags": []
   },
   "outputs": [
    {
     "name": "stdout",
     "output_type": "stream",
     "text": [
      "\n",
      "Train Batches: \n",
      "Found 54782 images belonging to 7 classes.\n",
      "\n",
      "Test Batches: \n",
      "Found 828 images belonging to 7 classes.\n",
      "\n",
      "Val Batches: \n",
      "Found 827 images belonging to 7 classes.\n"
     ]
    }
   ],
   "source": [
    "print(\"\\nTrain Batches: \")\n",
    "train_batches = datagen.flow_from_directory(directory=train_path,\n",
    "                                            target_size=(image_size,image_size),\n",
    "                                            batch_size=batch_size,\n",
    "                                            shuffle=True)\n",
    "\n",
    "print(\"\\nTest Batches: \")\n",
    "test_batches = datagen.flow_from_directory(test_path,\n",
    "                                          target_size=(image_size,image_size),\n",
    "                                          batch_size=batch_size,\n",
    "                                          shuffle=False)\n",
    "print(\"\\nVal Batches: \")\n",
    "val_batches = datagen.flow_from_directory(val_path,\n",
    "                                         target_size=(image_size,image_size),\n",
    "                                         batch_size=batch_size,\n",
    "                                         shuffle=False)"
   ]
  },
  {
   "cell_type": "markdown",
   "id": "a17e036d",
   "metadata": {
    "papermill": {
     "duration": 0.014288,
     "end_time": "2023-05-18T15:19:27.113836",
     "exception": false,
     "start_time": "2023-05-18T15:19:27.099548",
     "status": "completed"
    },
    "tags": []
   },
   "source": [
    "# Main Model Creation"
   ]
  },
  {
   "cell_type": "code",
   "execution_count": 6,
   "id": "7e0c15ca",
   "metadata": {
    "execution": {
     "iopub.execute_input": "2023-05-18T15:19:27.143612Z",
     "iopub.status.busy": "2023-05-18T15:19:27.143303Z",
     "iopub.status.idle": "2023-05-18T15:19:27.154394Z",
     "shell.execute_reply": "2023-05-18T15:19:27.153412Z"
    },
    "papermill": {
     "duration": 0.028468,
     "end_time": "2023-05-18T15:19:27.156439",
     "exception": false,
     "start_time": "2023-05-18T15:19:27.127971",
     "status": "completed"
    },
    "tags": []
   },
   "outputs": [],
   "source": [
    "# Channel Attention\n",
    "from tensorflow.keras.layers import Layer\n",
    "from tensorflow.keras import backend as K\n",
    "\n",
    "class ChannelAttention(Layer):\n",
    "    def __init__(self, reduction=16):\n",
    "        super(ChannelAttention, self).__init__()\n",
    "        self.reduction = reduction\n",
    "\n",
    "    def build(self, input_shape):\n",
    "        self.channels = input_shape[-1]\n",
    "        self.avg_pool = GlobalAveragePooling2D()\n",
    "        self.max_pool = GlobalMaxPooling2D()\n",
    "\n",
    "        self.shared_layer_one = Dense(units=self.channels // self.reduction, activation='relu', kernel_initializer='he_normal', use_bias=True, bias_initializer='zeros')\n",
    "        self.shared_layer_two = Dense(units=self.channels, activation='sigmoid', kernel_initializer='he_normal', use_bias=True, bias_initializer='zeros')\n",
    "\n",
    "    def call(self, x):\n",
    "        avg_pool = self.avg_pool(x)\n",
    "        max_pool = self.max_pool(x)\n",
    "\n",
    "        avg_pool = Reshape((1, 1, self.channels))(avg_pool)\n",
    "        max_pool = Reshape((1, 1, self.channels))(max_pool)\n",
    "        shared_layer_one = self.shared_layer_one(avg_pool) + self.shared_layer_one(max_pool)\n",
    "        shared_layer_two = self.shared_layer_two(shared_layer_one)\n",
    "        return x * shared_layer_two\n",
    "\n",
    "    def get_config(self):\n",
    "        config = super().get_config().copy()\n",
    "        config.update({\n",
    "            'reduction': self.reduction,\n",
    "        })\n",
    "        return config"
   ]
  },
  {
   "cell_type": "code",
   "execution_count": 7,
   "id": "6123efd2",
   "metadata": {
    "execution": {
     "iopub.execute_input": "2023-05-18T15:19:27.185928Z",
     "iopub.status.busy": "2023-05-18T15:19:27.185581Z",
     "iopub.status.idle": "2023-05-18T15:19:33.864488Z",
     "shell.execute_reply": "2023-05-18T15:19:33.863494Z"
    },
    "id": "zhQWqdRN79B3",
    "papermill": {
     "duration": 6.69634,
     "end_time": "2023-05-18T15:19:33.866957",
     "exception": false,
     "start_time": "2023-05-18T15:19:27.170617",
     "status": "completed"
    },
    "tags": []
   },
   "outputs": [
    {
     "name": "stdout",
     "output_type": "stream",
     "text": [
      "Downloading data from https://storage.googleapis.com/tensorflow/keras-applications/resnet/resnet50_weights_tf_dim_ordering_tf_kernels_notop.h5\n",
      "94765736/94765736 [==============================] - 1s 0us/step\n"
     ]
    }
   ],
   "source": [
    "from tensorflow.keras.applications.resnet50 import ResNet50\n",
    "\n",
    "# Create a new instance of ResNet50\n",
    "RN50 = ResNet50(weights='imagenet', include_top=False, input_shape=(image_size, image_size, 3), pooling='avg')"
   ]
  },
  {
   "cell_type": "markdown",
   "id": "586bf4ce",
   "metadata": {
    "papermill": {
     "duration": 0.015481,
     "end_time": "2023-05-18T15:19:33.899199",
     "exception": false,
     "start_time": "2023-05-18T15:19:33.883718",
     "status": "completed"
    },
    "tags": []
   },
   "source": [
    "## Fine tuning"
   ]
  },
  {
   "cell_type": "code",
   "execution_count": 8,
   "id": "94c96381",
   "metadata": {
    "execution": {
     "iopub.execute_input": "2023-05-18T15:19:33.932402Z",
     "iopub.status.busy": "2023-05-18T15:19:33.931873Z",
     "iopub.status.idle": "2023-05-18T15:19:33.938328Z",
     "shell.execute_reply": "2023-05-18T15:19:33.937400Z"
    },
    "id": "4d4Ta5LcSYaz",
    "papermill": {
     "duration": 0.025181,
     "end_time": "2023-05-18T15:19:33.940444",
     "exception": false,
     "start_time": "2023-05-18T15:19:33.915263",
     "status": "completed"
    },
    "tags": []
   },
   "outputs": [],
   "source": [
    "MainInput=Input(shape=(image_size, image_size, 3))"
   ]
  },
  {
   "cell_type": "code",
   "execution_count": 9,
   "id": "07676b78",
   "metadata": {
    "execution": {
     "iopub.execute_input": "2023-05-18T15:19:33.973101Z",
     "iopub.status.busy": "2023-05-18T15:19:33.972819Z",
     "iopub.status.idle": "2023-05-18T15:19:34.413255Z",
     "shell.execute_reply": "2023-05-18T15:19:34.412382Z"
    },
    "papermill": {
     "duration": 0.45996,
     "end_time": "2023-05-18T15:19:34.415827",
     "exception": false,
     "start_time": "2023-05-18T15:19:33.955867",
     "status": "completed"
    },
    "tags": []
   },
   "outputs": [],
   "source": [
    "resnet = RN50(MainInput)"
   ]
  },
  {
   "cell_type": "code",
   "execution_count": 10,
   "id": "3b9dc0d3",
   "metadata": {
    "execution": {
     "iopub.execute_input": "2023-05-18T15:19:34.449275Z",
     "iopub.status.busy": "2023-05-18T15:19:34.448603Z",
     "iopub.status.idle": "2023-05-18T15:19:34.463217Z",
     "shell.execute_reply": "2023-05-18T15:19:34.462387Z"
    },
    "papermill": {
     "duration": 0.033579,
     "end_time": "2023-05-18T15:19:34.465230",
     "exception": false,
     "start_time": "2023-05-18T15:19:34.431651",
     "status": "completed"
    },
    "tags": []
   },
   "outputs": [],
   "source": [
    "# Reshape the tensor to have 4 dimensions\n",
    "from tensorflow.keras.layers import Reshape\n",
    "reshape = Reshape((16, 16, 8))(resnet)"
   ]
  },
  {
   "cell_type": "code",
   "execution_count": 11,
   "id": "a689777f",
   "metadata": {
    "execution": {
     "iopub.execute_input": "2023-05-18T15:19:34.497930Z",
     "iopub.status.busy": "2023-05-18T15:19:34.497636Z",
     "iopub.status.idle": "2023-05-18T15:19:35.170246Z",
     "shell.execute_reply": "2023-05-18T15:19:35.169293Z"
    },
    "id": "x8mS99J5SYbT",
    "papermill": {
     "duration": 0.691704,
     "end_time": "2023-05-18T15:19:35.172696",
     "exception": false,
     "start_time": "2023-05-18T15:19:34.480992",
     "status": "completed"
    },
    "tags": []
   },
   "outputs": [],
   "source": [
    "conv=(Conv2D(filters=128,kernel_size=(7,7), activation=\"relu\",padding=\"same\",kernel_initializer='he_normal')(reshape))\n",
    "conv=(BatchNormalization()(conv))\n",
    "conv = ChannelAttention()(conv)\n",
    "conv=(Conv2D(filters=128,kernel_size=(5,5), activation=\"relu\",padding=\"same\",kernel_initializer='he_normal')(conv))\n",
    "conv=(BatchNormalization()(conv))\n",
    "conv = ChannelAttention()(conv)\n",
    "conv=(Conv2D(filters=128,kernel_size=(3,3), activation=\"relu\",padding=\"same\",kernel_initializer='he_normal')(conv))\n",
    "conv=(BatchNormalization()(conv))\n",
    "conv = ChannelAttention()(conv)\n",
    "conv=(Conv2D(filters=128,kernel_size=(1,1), activation=\"relu\",padding=\"same\",kernel_initializer='he_normal')(conv))\n",
    "conv=(BatchNormalization()(conv))\n",
    "conv = ChannelAttention()(conv)"
   ]
  },
  {
   "cell_type": "code",
   "execution_count": 12,
   "id": "b1a0c673",
   "metadata": {
    "execution": {
     "iopub.execute_input": "2023-05-18T15:19:35.206464Z",
     "iopub.status.busy": "2023-05-18T15:19:35.205663Z",
     "iopub.status.idle": "2023-05-18T15:19:35.213960Z",
     "shell.execute_reply": "2023-05-18T15:19:35.213122Z"
    },
    "id": "wfhLPhssAm2S",
    "papermill": {
     "duration": 0.027685,
     "end_time": "2023-05-18T15:19:35.216110",
     "exception": false,
     "start_time": "2023-05-18T15:19:35.188425",
     "status": "completed"
    },
    "tags": []
   },
   "outputs": [],
   "source": [
    "conv=(MaxPooling2D(strides=(2, 2),padding=\"same\")(conv))"
   ]
  },
  {
   "cell_type": "code",
   "execution_count": 13,
   "id": "933529c4",
   "metadata": {
    "execution": {
     "iopub.execute_input": "2023-05-18T15:19:35.249248Z",
     "iopub.status.busy": "2023-05-18T15:19:35.248976Z",
     "iopub.status.idle": "2023-05-18T15:19:35.617789Z",
     "shell.execute_reply": "2023-05-18T15:19:35.616870Z"
    },
    "id": "sW4tKg9wSYbk",
    "papermill": {
     "duration": 0.388803,
     "end_time": "2023-05-18T15:19:35.620215",
     "exception": false,
     "start_time": "2023-05-18T15:19:35.231412",
     "status": "completed"
    },
    "tags": []
   },
   "outputs": [],
   "source": [
    "conv=(Conv2D(filters=256,kernel_size=(7,7), activation=\"relu\",padding=\"same\",kernel_initializer='he_normal')(conv))\n",
    "conv=(BatchNormalization()(conv))\n",
    "conv = ChannelAttention()(conv)\n",
    "conv=(Conv2D(filters=256,kernel_size=(5,5), activation=\"relu\",padding=\"same\",kernel_initializer='he_normal')(conv))\n",
    "conv=(BatchNormalization()(conv))\n",
    "conv = ChannelAttention()(conv)\n",
    "conv=(Conv2D(filters=256,kernel_size=(3,3), activation=\"relu\",padding=\"same\",kernel_initializer='he_normal')(conv))\n",
    "conv=(BatchNormalization()(conv))\n",
    "conv = ChannelAttention()(conv)\n",
    "conv=(Conv2D(filters=256,kernel_size=(1,1), activation=\"relu\",padding=\"same\",kernel_initializer='he_normal')(conv))\n",
    "conv=(BatchNormalization()(conv))\n",
    "conv = ChannelAttention()(conv)"
   ]
  },
  {
   "cell_type": "code",
   "execution_count": 14,
   "id": "576196d0",
   "metadata": {
    "execution": {
     "iopub.execute_input": "2023-05-18T15:19:35.654369Z",
     "iopub.status.busy": "2023-05-18T15:19:35.652798Z",
     "iopub.status.idle": "2023-05-18T15:19:35.661854Z",
     "shell.execute_reply": "2023-05-18T15:19:35.660927Z"
    },
    "id": "eo8E7RxUSYcW",
    "papermill": {
     "duration": 0.02794,
     "end_time": "2023-05-18T15:19:35.664164",
     "exception": false,
     "start_time": "2023-05-18T15:19:35.636224",
     "status": "completed"
    },
    "tags": []
   },
   "outputs": [],
   "source": [
    "conv=(MaxPooling2D(pool_size=(2, 2),padding=\"same\")(conv))"
   ]
  },
  {
   "cell_type": "code",
   "execution_count": 15,
   "id": "8efb25f6",
   "metadata": {
    "execution": {
     "iopub.execute_input": "2023-05-18T15:19:35.699324Z",
     "iopub.status.busy": "2023-05-18T15:19:35.697863Z",
     "iopub.status.idle": "2023-05-18T15:19:35.704218Z",
     "shell.execute_reply": "2023-05-18T15:19:35.703332Z"
    },
    "papermill": {
     "duration": 0.025784,
     "end_time": "2023-05-18T15:19:35.706510",
     "exception": false,
     "start_time": "2023-05-18T15:19:35.680726",
     "status": "completed"
    },
    "tags": []
   },
   "outputs": [
    {
     "name": "stdout",
     "output_type": "stream",
     "text": [
      "7\n"
     ]
    }
   ],
   "source": [
    "num_classes = test_batches.num_classes\n",
    "print(num_classes)"
   ]
  },
  {
   "cell_type": "code",
   "execution_count": 16,
   "id": "00b4429f",
   "metadata": {
    "execution": {
     "iopub.execute_input": "2023-05-18T15:19:35.741475Z",
     "iopub.status.busy": "2023-05-18T15:19:35.741156Z",
     "iopub.status.idle": "2023-05-18T15:19:35.788249Z",
     "shell.execute_reply": "2023-05-18T15:19:35.787392Z"
    },
    "id": "-EdFxKdgSYcf",
    "papermill": {
     "duration": 0.066959,
     "end_time": "2023-05-18T15:19:35.790193",
     "exception": false,
     "start_time": "2023-05-18T15:19:35.723234",
     "status": "completed"
    },
    "tags": []
   },
   "outputs": [],
   "source": [
    "conv=(Flatten()(conv))\n",
    "conv=(Dense(1024,activation=\"relu\")(conv))\n",
    "conv=(Dense(512,activation=\"relu\")(conv))\n",
    "conv=(Dense(num_classes, activation=\"softmax\")(conv))\n",
    "\n",
    "model_rn50_ca = Model(inputs=MainInput, outputs=conv)"
   ]
  },
  {
   "cell_type": "code",
   "execution_count": 17,
   "id": "ef3f261f",
   "metadata": {
    "execution": {
     "iopub.execute_input": "2023-05-18T15:19:35.822730Z",
     "iopub.status.busy": "2023-05-18T15:19:35.822006Z",
     "iopub.status.idle": "2023-05-18T15:19:35.943906Z",
     "shell.execute_reply": "2023-05-18T15:19:35.943196Z"
    },
    "id": "ba8ajOckSYcl",
    "outputId": "e69fa749-4741-4f49-ae3e-9f5479e809a8",
    "papermill": {
     "duration": 0.159423,
     "end_time": "2023-05-18T15:19:35.965145",
     "exception": false,
     "start_time": "2023-05-18T15:19:35.805722",
     "status": "completed"
    },
    "tags": []
   },
   "outputs": [
    {
     "name": "stdout",
     "output_type": "stream",
     "text": [
      "Model: \"model\"\n",
      "_________________________________________________________________\n",
      " Layer (type)                Output Shape              Param #   \n",
      "=================================================================\n",
      " input_2 (InputLayer)        [(None, 224, 224, 3)]     0         \n",
      "                                                                 \n",
      " resnet50 (Functional)       (None, 2048)              23587712  \n",
      "                                                                 \n",
      " reshape (Reshape)           (None, 16, 16, 8)         0         \n",
      "                                                                 \n",
      " conv2d (Conv2D)             (None, 16, 16, 128)       50304     \n",
      "                                                                 \n",
      " batch_normalization (BatchN  (None, 16, 16, 128)      512       \n",
      " ormalization)                                                   \n",
      "                                                                 \n",
      " channel_attention (ChannelA  (None, 16, 16, 128)      2184      \n",
      " ttention)                                                       \n",
      "                                                                 \n",
      " conv2d_1 (Conv2D)           (None, 16, 16, 128)       409728    \n",
      "                                                                 \n",
      " batch_normalization_1 (Batc  (None, 16, 16, 128)      512       \n",
      " hNormalization)                                                 \n",
      "                                                                 \n",
      " channel_attention_1 (Channe  (None, 16, 16, 128)      2184      \n",
      " lAttention)                                                     \n",
      "                                                                 \n",
      " conv2d_2 (Conv2D)           (None, 16, 16, 128)       147584    \n",
      "                                                                 \n",
      " batch_normalization_2 (Batc  (None, 16, 16, 128)      512       \n",
      " hNormalization)                                                 \n",
      "                                                                 \n",
      " channel_attention_2 (Channe  (None, 16, 16, 128)      2184      \n",
      " lAttention)                                                     \n",
      "                                                                 \n",
      " conv2d_3 (Conv2D)           (None, 16, 16, 128)       16512     \n",
      "                                                                 \n",
      " batch_normalization_3 (Batc  (None, 16, 16, 128)      512       \n",
      " hNormalization)                                                 \n",
      "                                                                 \n",
      " channel_attention_3 (Channe  (None, 16, 16, 128)      2184      \n",
      " lAttention)                                                     \n",
      "                                                                 \n",
      " max_pooling2d (MaxPooling2D  (None, 8, 8, 128)        0         \n",
      " )                                                               \n",
      "                                                                 \n",
      " conv2d_4 (Conv2D)           (None, 8, 8, 256)         1605888   \n",
      "                                                                 \n",
      " batch_normalization_4 (Batc  (None, 8, 8, 256)        1024      \n",
      " hNormalization)                                                 \n",
      "                                                                 \n",
      " channel_attention_4 (Channe  (None, 8, 8, 256)        8464      \n",
      " lAttention)                                                     \n",
      "                                                                 \n",
      " conv2d_5 (Conv2D)           (None, 8, 8, 256)         1638656   \n",
      "                                                                 \n",
      " batch_normalization_5 (Batc  (None, 8, 8, 256)        1024      \n",
      " hNormalization)                                                 \n",
      "                                                                 \n",
      " channel_attention_5 (Channe  (None, 8, 8, 256)        8464      \n",
      " lAttention)                                                     \n",
      "                                                                 \n",
      " conv2d_6 (Conv2D)           (None, 8, 8, 256)         590080    \n",
      "                                                                 \n",
      " batch_normalization_6 (Batc  (None, 8, 8, 256)        1024      \n",
      " hNormalization)                                                 \n",
      "                                                                 \n",
      " channel_attention_6 (Channe  (None, 8, 8, 256)        8464      \n",
      " lAttention)                                                     \n",
      "                                                                 \n",
      " conv2d_7 (Conv2D)           (None, 8, 8, 256)         65792     \n",
      "                                                                 \n",
      " batch_normalization_7 (Batc  (None, 8, 8, 256)        1024      \n",
      " hNormalization)                                                 \n",
      "                                                                 \n",
      " channel_attention_7 (Channe  (None, 8, 8, 256)        8464      \n",
      " lAttention)                                                     \n",
      "                                                                 \n",
      " max_pooling2d_1 (MaxPooling  (None, 4, 4, 256)        0         \n",
      " 2D)                                                             \n",
      "                                                                 \n",
      " flatten (Flatten)           (None, 4096)              0         \n",
      "                                                                 \n",
      " dense (Dense)               (None, 1024)              4195328   \n",
      "                                                                 \n",
      " dense_1 (Dense)             (None, 512)               524800    \n",
      "                                                                 \n",
      " dense_2 (Dense)             (None, 7)                 3591      \n",
      "                                                                 \n",
      "=================================================================\n",
      "Total params: 32,884,711\n",
      "Trainable params: 32,828,519\n",
      "Non-trainable params: 56,192\n",
      "_________________________________________________________________\n"
     ]
    }
   ],
   "source": [
    "model_rn50_ca.summary()"
   ]
  },
  {
   "cell_type": "code",
   "execution_count": 18,
   "id": "09f3cf17",
   "metadata": {
    "execution": {
     "iopub.execute_input": "2023-05-18T15:19:36.011628Z",
     "iopub.status.busy": "2023-05-18T15:19:36.011318Z",
     "iopub.status.idle": "2023-05-18T15:19:36.032901Z",
     "shell.execute_reply": "2023-05-18T15:19:36.032086Z"
    },
    "id": "WR0fUpy18vAZ",
    "papermill": {
     "duration": 0.047052,
     "end_time": "2023-05-18T15:19:36.034773",
     "exception": false,
     "start_time": "2023-05-18T15:19:35.987721",
     "status": "completed"
    },
    "tags": []
   },
   "outputs": [],
   "source": [
    "opt1=tf.keras.optimizers.Adam(learning_rate=0.001,epsilon=0.1)\n",
    "model_rn50_ca.compile(optimizer=opt1,\n",
    "             loss='categorical_crossentropy',\n",
    "             metrics=['accuracy'])"
   ]
  },
  {
   "cell_type": "code",
   "execution_count": 19,
   "id": "e1dba354",
   "metadata": {
    "execution": {
     "iopub.execute_input": "2023-05-18T15:19:36.083899Z",
     "iopub.status.busy": "2023-05-18T15:19:36.083178Z",
     "iopub.status.idle": "2023-05-18T15:19:36.088547Z",
     "shell.execute_reply": "2023-05-18T15:19:36.087599Z"
    },
    "id": "LAf5ha295reS",
    "papermill": {
     "duration": 0.032597,
     "end_time": "2023-05-18T15:19:36.090484",
     "exception": false,
     "start_time": "2023-05-18T15:19:36.057887",
     "status": "completed"
    },
    "tags": []
   },
   "outputs": [],
   "source": [
    "class_weights = {   \n",
    "                    0: 1.0,  # akiec\n",
    "                    1: 1.0,  # bcc\n",
    "                    2: 1.0,  # bkl\n",
    "                    3: 1.0,  # df\n",
    "                    4: 1.0,  # mel\n",
    "                    5: 1.0,  # nv\n",
    "                    6: 1.0  # vasc\n",
    "                }"
   ]
  },
  {
   "cell_type": "code",
   "execution_count": 20,
   "id": "afd0edd8",
   "metadata": {
    "execution": {
     "iopub.execute_input": "2023-05-18T15:19:36.138150Z",
     "iopub.status.busy": "2023-05-18T15:19:36.137230Z",
     "iopub.status.idle": "2023-05-18T15:19:36.142598Z",
     "shell.execute_reply": "2023-05-18T15:19:36.141505Z"
    },
    "papermill": {
     "duration": 0.031091,
     "end_time": "2023-05-18T15:19:36.144681",
     "exception": false,
     "start_time": "2023-05-18T15:19:36.113590",
     "status": "completed"
    },
    "tags": []
   },
   "outputs": [],
   "source": [
    "checkpoint = ModelCheckpoint(filepath ='RN50_CA.hdf5', monitor='val_accuracy', save_best_only=True, save_weights_only=True)\n",
    "Earlystop = EarlyStopping(monitor='val_accuracy', mode='max', patience=25, min_delta=0.001)"
   ]
  },
  {
   "cell_type": "code",
   "execution_count": 21,
   "id": "d99490bf",
   "metadata": {
    "execution": {
     "iopub.execute_input": "2023-05-18T15:19:36.190686Z",
     "iopub.status.busy": "2023-05-18T15:19:36.189920Z",
     "iopub.status.idle": "2023-05-19T01:31:25.741969Z",
     "shell.execute_reply": "2023-05-19T01:31:25.740984Z"
    },
    "id": "NUzTmiZ-8hL3",
    "outputId": "e1825ff2-9f9c-436f-cf2c-9776af8eee62",
    "papermill": {
     "duration": 36709.577585,
     "end_time": "2023-05-19T01:31:25.744492",
     "exception": false,
     "start_time": "2023-05-18T15:19:36.166907",
     "status": "completed"
    },
    "tags": []
   },
   "outputs": [
    {
     "name": "stdout",
     "output_type": "stream",
     "text": [
      "Epoch 1/50\n",
      "3424/3424 - 788s - loss: 1.0039 - accuracy: 0.6225 - val_loss: 0.3772 - val_accuracy: 0.8730 - 788s/epoch - 230ms/step\n",
      "Epoch 2/50\n",
      "3424/3424 - 724s - loss: 0.4012 - accuracy: 0.8527 - val_loss: 0.3857 - val_accuracy: 0.8875 - 724s/epoch - 211ms/step\n",
      "Epoch 3/50\n",
      "3424/3424 - 718s - loss: 0.2315 - accuracy: 0.9144 - val_loss: 0.3579 - val_accuracy: 0.9057 - 718s/epoch - 210ms/step\n",
      "Epoch 4/50\n",
      "3424/3424 - 718s - loss: 0.1561 - accuracy: 0.9440 - val_loss: 0.3827 - val_accuracy: 0.9045 - 718s/epoch - 210ms/step\n",
      "Epoch 5/50\n",
      "3424/3424 - 720s - loss: 0.1113 - accuracy: 0.9603 - val_loss: 0.4851 - val_accuracy: 0.8900 - 720s/epoch - 210ms/step\n",
      "Epoch 6/50\n",
      "3424/3424 - 721s - loss: 0.0812 - accuracy: 0.9709 - val_loss: 0.3927 - val_accuracy: 0.9033 - 721s/epoch - 210ms/step\n",
      "Epoch 7/50\n",
      "3424/3424 - 720s - loss: 0.0603 - accuracy: 0.9786 - val_loss: 0.4295 - val_accuracy: 0.9105 - 720s/epoch - 210ms/step\n",
      "Epoch 8/50\n",
      "3424/3424 - 718s - loss: 0.0502 - accuracy: 0.9828 - val_loss: 0.4796 - val_accuracy: 0.9057 - 718s/epoch - 210ms/step\n",
      "Epoch 9/50\n",
      "3424/3424 - 723s - loss: 0.0395 - accuracy: 0.9868 - val_loss: 0.4333 - val_accuracy: 0.9045 - 723s/epoch - 211ms/step\n",
      "Epoch 10/50\n",
      "3424/3424 - 724s - loss: 0.0296 - accuracy: 0.9897 - val_loss: 0.4402 - val_accuracy: 0.9045 - 724s/epoch - 212ms/step\n",
      "Epoch 11/50\n",
      "3424/3424 - 720s - loss: 0.0278 - accuracy: 0.9909 - val_loss: 0.4208 - val_accuracy: 0.9129 - 720s/epoch - 210ms/step\n",
      "Epoch 12/50\n",
      "3424/3424 - 721s - loss: 0.0245 - accuracy: 0.9918 - val_loss: 0.4532 - val_accuracy: 0.9105 - 721s/epoch - 211ms/step\n",
      "Epoch 13/50\n",
      "3424/3424 - 719s - loss: 0.0238 - accuracy: 0.9920 - val_loss: 0.4783 - val_accuracy: 0.9008 - 719s/epoch - 210ms/step\n",
      "Epoch 14/50\n",
      "3424/3424 - 719s - loss: 0.0189 - accuracy: 0.9933 - val_loss: 0.5462 - val_accuracy: 0.9008 - 719s/epoch - 210ms/step\n",
      "Epoch 15/50\n",
      "3424/3424 - 719s - loss: 0.0147 - accuracy: 0.9950 - val_loss: 0.4868 - val_accuracy: 0.9045 - 719s/epoch - 210ms/step\n",
      "Epoch 16/50\n",
      "3424/3424 - 718s - loss: 0.0173 - accuracy: 0.9943 - val_loss: 0.4587 - val_accuracy: 0.9178 - 718s/epoch - 210ms/step\n",
      "Epoch 17/50\n",
      "3424/3424 - 720s - loss: 0.0155 - accuracy: 0.9949 - val_loss: 0.5515 - val_accuracy: 0.9069 - 720s/epoch - 210ms/step\n",
      "Epoch 18/50\n",
      "3424/3424 - 720s - loss: 0.0137 - accuracy: 0.9955 - val_loss: 0.5176 - val_accuracy: 0.9129 - 720s/epoch - 210ms/step\n",
      "Epoch 19/50\n",
      "3424/3424 - 720s - loss: 0.0125 - accuracy: 0.9957 - val_loss: 0.5413 - val_accuracy: 0.9129 - 720s/epoch - 210ms/step\n",
      "Epoch 20/50\n",
      "3424/3424 - 718s - loss: 0.0129 - accuracy: 0.9954 - val_loss: 0.4863 - val_accuracy: 0.9154 - 718s/epoch - 210ms/step\n",
      "Epoch 21/50\n",
      "3424/3424 - 717s - loss: 0.0129 - accuracy: 0.9957 - val_loss: 0.4943 - val_accuracy: 0.9021 - 717s/epoch - 209ms/step\n",
      "Epoch 22/50\n",
      "3424/3424 - 718s - loss: 0.0129 - accuracy: 0.9957 - val_loss: 0.5022 - val_accuracy: 0.9081 - 718s/epoch - 210ms/step\n",
      "Epoch 23/50\n",
      "3424/3424 - 717s - loss: 0.0096 - accuracy: 0.9967 - val_loss: 0.5299 - val_accuracy: 0.9057 - 717s/epoch - 209ms/step\n",
      "Epoch 24/50\n",
      "3424/3424 - 718s - loss: 0.0086 - accuracy: 0.9972 - val_loss: 0.5441 - val_accuracy: 0.9008 - 718s/epoch - 210ms/step\n",
      "Epoch 25/50\n",
      "3424/3424 - 716s - loss: 0.0074 - accuracy: 0.9974 - val_loss: 0.4866 - val_accuracy: 0.9154 - 716s/epoch - 209ms/step\n",
      "Epoch 26/50\n",
      "3424/3424 - 718s - loss: 0.0092 - accuracy: 0.9971 - val_loss: 0.5290 - val_accuracy: 0.9166 - 718s/epoch - 210ms/step\n",
      "Epoch 27/50\n",
      "3424/3424 - 718s - loss: 0.0071 - accuracy: 0.9978 - val_loss: 0.5240 - val_accuracy: 0.9214 - 718s/epoch - 210ms/step\n",
      "Epoch 28/50\n",
      "3424/3424 - 718s - loss: 0.0041 - accuracy: 0.9988 - val_loss: 0.6253 - val_accuracy: 0.8996 - 718s/epoch - 210ms/step\n",
      "Epoch 29/50\n",
      "3424/3424 - 716s - loss: 0.0066 - accuracy: 0.9977 - val_loss: 0.5790 - val_accuracy: 0.9129 - 716s/epoch - 209ms/step\n",
      "Epoch 30/50\n",
      "3424/3424 - 715s - loss: 0.0068 - accuracy: 0.9976 - val_loss: 0.5259 - val_accuracy: 0.9178 - 715s/epoch - 209ms/step\n",
      "Epoch 31/50\n",
      "3424/3424 - 717s - loss: 0.0065 - accuracy: 0.9978 - val_loss: 0.5979 - val_accuracy: 0.9081 - 717s/epoch - 209ms/step\n",
      "Epoch 32/50\n",
      "3424/3424 - 717s - loss: 0.0063 - accuracy: 0.9979 - val_loss: 0.5703 - val_accuracy: 0.9081 - 717s/epoch - 209ms/step\n",
      "Epoch 33/50\n",
      "3424/3424 - 717s - loss: 0.0056 - accuracy: 0.9981 - val_loss: 0.5847 - val_accuracy: 0.9105 - 717s/epoch - 210ms/step\n",
      "Epoch 34/50\n",
      "3424/3424 - 715s - loss: 0.0079 - accuracy: 0.9974 - val_loss: 0.4652 - val_accuracy: 0.9202 - 715s/epoch - 209ms/step\n",
      "Epoch 35/50\n",
      "3424/3424 - 715s - loss: 0.0084 - accuracy: 0.9972 - val_loss: 0.5186 - val_accuracy: 0.9190 - 715s/epoch - 209ms/step\n",
      "Epoch 36/50\n",
      "3424/3424 - 715s - loss: 0.0036 - accuracy: 0.9988 - val_loss: 0.5626 - val_accuracy: 0.9154 - 715s/epoch - 209ms/step\n",
      "Epoch 37/50\n",
      "3424/3424 - 717s - loss: 0.0042 - accuracy: 0.9984 - val_loss: 0.5902 - val_accuracy: 0.9154 - 717s/epoch - 209ms/step\n",
      "Epoch 38/50\n",
      "3424/3424 - 723s - loss: 0.0052 - accuracy: 0.9982 - val_loss: 0.6222 - val_accuracy: 0.9057 - 723s/epoch - 211ms/step\n",
      "Epoch 39/50\n",
      "3424/3424 - 717s - loss: 0.0061 - accuracy: 0.9981 - val_loss: 0.6390 - val_accuracy: 0.9045 - 717s/epoch - 209ms/step\n",
      "Epoch 40/50\n",
      "3424/3424 - 715s - loss: 0.0041 - accuracy: 0.9987 - val_loss: 0.6236 - val_accuracy: 0.9105 - 715s/epoch - 209ms/step\n",
      "Epoch 41/50\n",
      "3424/3424 - 718s - loss: 0.0051 - accuracy: 0.9983 - val_loss: 0.5874 - val_accuracy: 0.8984 - 718s/epoch - 210ms/step\n",
      "Epoch 42/50\n",
      "3424/3424 - 719s - loss: 0.0049 - accuracy: 0.9983 - val_loss: 0.5992 - val_accuracy: 0.9117 - 719s/epoch - 210ms/step\n",
      "Epoch 43/50\n",
      "3424/3424 - 718s - loss: 0.0024 - accuracy: 0.9992 - val_loss: 0.5735 - val_accuracy: 0.9045 - 718s/epoch - 210ms/step\n",
      "Epoch 44/50\n",
      "3424/3424 - 719s - loss: 0.0045 - accuracy: 0.9986 - val_loss: 0.5876 - val_accuracy: 0.8948 - 719s/epoch - 210ms/step\n",
      "Epoch 45/50\n",
      "3424/3424 - 718s - loss: 0.0051 - accuracy: 0.9984 - val_loss: 0.5772 - val_accuracy: 0.9033 - 718s/epoch - 210ms/step\n",
      "Epoch 46/50\n",
      "3424/3424 - 719s - loss: 0.0036 - accuracy: 0.9989 - val_loss: 0.5818 - val_accuracy: 0.9069 - 719s/epoch - 210ms/step\n",
      "Epoch 47/50\n",
      "3424/3424 - 721s - loss: 0.0030 - accuracy: 0.9991 - val_loss: 0.6214 - val_accuracy: 0.9033 - 721s/epoch - 211ms/step\n",
      "Epoch 48/50\n",
      "3424/3424 - 718s - loss: 0.0043 - accuracy: 0.9986 - val_loss: 0.5827 - val_accuracy: 0.9045 - 718s/epoch - 210ms/step\n",
      "Epoch 49/50\n",
      "3424/3424 - 719s - loss: 0.0032 - accuracy: 0.9989 - val_loss: 0.7304 - val_accuracy: 0.8984 - 719s/epoch - 210ms/step\n",
      "Epoch 50/50\n",
      "3424/3424 - 719s - loss: 0.0050 - accuracy: 0.9984 - val_loss: 0.6138 - val_accuracy: 0.9057 - 719s/epoch - 210ms/step\n"
     ]
    }
   ],
   "source": [
    "history = model_rn50_ca.fit(train_batches,\n",
    "                         epochs=50,\n",
    "                         verbose=2,\n",
    "                         validation_data=val_batches,\n",
    "                         callbacks=[checkpoint,Earlystop],\n",
    "                         class_weight=class_weights)"
   ]
  },
  {
   "cell_type": "markdown",
   "id": "b4118361",
   "metadata": {
    "papermill": {
     "duration": 0.029028,
     "end_time": "2023-05-19T01:31:25.803568",
     "exception": false,
     "start_time": "2023-05-19T01:31:25.774540",
     "status": "completed"
    },
    "tags": []
   },
   "source": [
    "### Plotting accuracy and loss"
   ]
  },
  {
   "cell_type": "code",
   "execution_count": 22,
   "id": "84e1fc57",
   "metadata": {
    "execution": {
     "iopub.execute_input": "2023-05-19T01:31:25.867394Z",
     "iopub.status.busy": "2023-05-19T01:31:25.866323Z",
     "iopub.status.idle": "2023-05-19T01:31:26.362056Z",
     "shell.execute_reply": "2023-05-19T01:31:26.361088Z"
    },
    "papermill": {
     "duration": 0.530949,
     "end_time": "2023-05-19T01:31:26.364671",
     "exception": false,
     "start_time": "2023-05-19T01:31:25.833722",
     "status": "completed"
    },
    "tags": []
   },
   "outputs": [
    {
     "name": "stdout",
     "output_type": "stream",
     "text": [
      "Number of epochs trained: 50\n"
     ]
    },
    {
     "data": {
      "image/png": "[encoded data removed]",
      "text/plain": [
       "<Figure size 1500x500 with 2 Axes>"
      ]
     },
     "metadata": {},
     "output_type": "display_data"
    }
   ],
   "source": [
    "# Determine number of epochs trained\n",
    "num_epochs_trained = len(history.history['val_loss'])\n",
    "print(f\"Number of epochs trained: {num_epochs_trained}\")\n",
    "\n",
    "## History plotting\n",
    "epochs = [i for i in range(num_epochs_trained)]\n",
    "fig , ax = plt.subplots(1,2)\n",
    "train_acc = history.history['accuracy']\n",
    "train_loss = history.history['loss']\n",
    "val_acc = history.history['val_accuracy']\n",
    "val_loss = history.history['val_loss']\n",
    "fig.set_size_inches(15,5)\n",
    "\n",
    "ax[0].plot(epochs , train_acc , 'go-' , label = 'Training Accuracy')\n",
    "ax[0].plot(epochs , val_acc , 'ro-' , label = 'Validation Accuracy')\n",
    "title_font = {'fontname':'Times New Roman', 'size':'14', 'color':'black', 'weight':'normal'}\n",
    "ax[0].set_title('Model Accuracy', fontdict=title_font)\n",
    "legend_font = {'family': 'Times New Roman', 'size': '12', 'weight': 'normal'}\n",
    "ax[0].legend(prop=legend_font)\n",
    "label_font = {'fontname':'Times New Roman', 'size':'12', 'color':'black', 'weight':'normal'}\n",
    "ax[0].set_xlabel(\"Epochs\",  fontdict=label_font)\n",
    "ax[0].set_ylabel(\"Accuracy\",  fontdict=label_font)\n",
    "\n",
    "ax[1].plot(epochs , train_loss , 'g-o' , label = 'Training Loss')\n",
    "ax[1].plot(epochs , val_loss , 'r-o' , label = 'Validation Loss')\n",
    "ax[1].set_title('Model Loss', fontdict=title_font)\n",
    "ax[1].legend(prop=legend_font)\n",
    "ax[1].set_xlabel(\"Epochs\", fontdict=label_font)\n",
    "ax[1].set_ylabel(\"Loss\", fontdict=label_font)\n",
    "plt.show()"
   ]
  },
  {
   "cell_type": "code",
   "execution_count": 23,
   "id": "5aa44b9d",
   "metadata": {
    "execution": {
     "iopub.execute_input": "2023-05-19T01:31:26.429100Z",
     "iopub.status.busy": "2023-05-19T01:31:26.428264Z",
     "iopub.status.idle": "2023-05-19T01:31:26.872441Z",
     "shell.execute_reply": "2023-05-19T01:31:26.871489Z"
    },
    "id": "zm_AewFBXTj8",
    "papermill": {
     "duration": 0.478781,
     "end_time": "2023-05-19T01:31:26.874983",
     "exception": false,
     "start_time": "2023-05-19T01:31:26.396202",
     "status": "completed"
    },
    "tags": []
   },
   "outputs": [],
   "source": [
    "from tensorflow.keras import models\n",
    "model_rn50_ca.load_weights(\"RN50_CA.hdf5\")"
   ]
  },
  {
   "cell_type": "code",
   "execution_count": 24,
   "id": "cd933798",
   "metadata": {
    "execution": {
     "iopub.execute_input": "2023-05-19T01:31:26.939168Z",
     "iopub.status.busy": "2023-05-19T01:31:26.938227Z",
     "iopub.status.idle": "2023-05-19T01:31:44.268470Z",
     "shell.execute_reply": "2023-05-19T01:31:44.267470Z"
    },
    "papermill": {
     "duration": 17.365596,
     "end_time": "2023-05-19T01:31:44.271153",
     "exception": false,
     "start_time": "2023-05-19T01:31:26.905557",
     "status": "completed"
    },
    "tags": []
   },
   "outputs": [
    {
     "name": "stdout",
     "output_type": "stream",
     "text": [
      "52/52 [==============================] - 17s 276ms/step\n"
     ]
    }
   ],
   "source": [
    "predictions = model_rn50_ca.predict(test_batches)"
   ]
  },
  {
   "cell_type": "code",
   "execution_count": 25,
   "id": "e02b5088",
   "metadata": {
    "execution": {
     "iopub.execute_input": "2023-05-19T01:31:44.343633Z",
     "iopub.status.busy": "2023-05-19T01:31:44.342190Z",
     "iopub.status.idle": "2023-05-19T01:31:44.347732Z",
     "shell.execute_reply": "2023-05-19T01:31:44.346809Z"
    },
    "id": "FDTMtBeTdBfU",
    "papermill": {
     "duration": 0.043485,
     "end_time": "2023-05-19T01:31:44.349736",
     "exception": false,
     "start_time": "2023-05-19T01:31:44.306251",
     "status": "completed"
    },
    "tags": []
   },
   "outputs": [],
   "source": [
    "#geting predictions on test dataset\n",
    "y_pred = np.argmax(predictions, axis=1)\n",
    "#getting the true labels per image \n",
    "y_true = test_batches.classes\n",
    "#getting the predicted labels per image \n",
    "y_prob = predictions"
   ]
  },
  {
   "cell_type": "code",
   "execution_count": 26,
   "id": "261eeb29",
   "metadata": {
    "execution": {
     "iopub.execute_input": "2023-05-19T01:31:44.421479Z",
     "iopub.status.busy": "2023-05-19T01:31:44.421101Z",
     "iopub.status.idle": "2023-05-19T01:31:44.440393Z",
     "shell.execute_reply": "2023-05-19T01:31:44.439016Z"
    },
    "papermill": {
     "duration": 0.057352,
     "end_time": "2023-05-19T01:31:44.442789",
     "exception": false,
     "start_time": "2023-05-19T01:31:44.385437",
     "status": "completed"
    },
    "tags": []
   },
   "outputs": [
    {
     "name": "stdout",
     "output_type": "stream",
     "text": [
      "\n",
      "Classification Report:\n",
      "              precision    recall  f1-score   support\n",
      "\n",
      "          AK       0.86      0.55      0.67        22\n",
      "         BCC       0.73      0.70      0.72        27\n",
      "         BKL       0.69      0.68      0.69        66\n",
      "          DF       1.00      0.83      0.91         6\n",
      "         MEL       0.64      0.40      0.49        35\n",
      "          NV       0.95      0.98      0.96       663\n",
      "        VASC       0.82      1.00      0.90         9\n",
      "\n",
      "    accuracy                           0.91       828\n",
      "   macro avg       0.81      0.73      0.76       828\n",
      "weighted avg       0.90      0.91      0.90       828\n",
      "\n"
     ]
    }
   ],
   "source": [
    "classnames = ['AK', 'BCC', 'BKL', 'DF', 'MEL', 'NV', 'VASC']\n",
    "\n",
    "from tensorflow.keras.utils import to_categorical\n",
    "y_test = to_categorical(y_true)\n",
    "\n",
    "report = classification_report(y_true, y_pred, target_names=classnames)\n",
    "\n",
    "print(\"\\nClassification Report:\")\n",
    "print(report)"
   ]
  },
  {
   "cell_type": "code",
   "execution_count": 27,
   "id": "14b29ee9",
   "metadata": {
    "execution": {
     "iopub.execute_input": "2023-05-19T01:31:44.515887Z",
     "iopub.status.busy": "2023-05-19T01:31:44.515253Z",
     "iopub.status.idle": "2023-05-19T01:31:45.462301Z",
     "shell.execute_reply": "2023-05-19T01:31:45.461299Z"
    },
    "papermill": {
     "duration": 0.984957,
     "end_time": "2023-05-19T01:31:45.464553",
     "exception": false,
     "start_time": "2023-05-19T01:31:44.479596",
     "status": "completed"
    },
    "tags": []
   },
   "outputs": [
    {
     "data": {
      "image/png": "[encoded data removed]",
      "text/plain": [
       "<Figure size 1000x400 with 2 Axes>"
      ]
     },
     "metadata": {},
     "output_type": "display_data"
    }
   ],
   "source": [
    "## Confusion Matrix\n",
    "title_font = {'fontname':'Times New Roman', 'size':'14', 'color':'black', 'weight':'normal'}\n",
    "label_font = {'fontname':'Times New Roman', 'size':'12', 'color':'black', 'weight':'normal'}\n",
    "\n",
    "from sklearn.metrics import confusion_matrix\n",
    "import seaborn as sns\n",
    "# Creating confusion matrix \n",
    "cm = confusion_matrix(y_true, y_pred)\n",
    "# Plotting the confusion matrix\n",
    "plt.figure(figsize=(10,4))\n",
    "sns.heatmap(cm, annot=True, fmt='g', cmap='Blues', xticklabels=targetnames, yticklabels=targetnames)\n",
    "plt.xlabel('Predicted Label', fontdict=label_font)\n",
    "plt.ylabel('True Label', fontdict=label_font)\n",
    "plt.title('Confusion Matrix', fontdict=title_font)\n",
    "plt.show()"
   ]
  },
  {
   "cell_type": "markdown",
   "id": "04f45c60",
   "metadata": {
    "papermill": {
     "duration": 0.035398,
     "end_time": "2023-05-19T01:31:45.536555",
     "exception": false,
     "start_time": "2023-05-19T01:31:45.501157",
     "status": "completed"
    },
    "tags": []
   },
   "source": [
    "## Results"
   ]
  },
  {
   "cell_type": "markdown",
   "id": "a1acff85",
   "metadata": {
    "papermill": {
     "duration": 0.034784,
     "end_time": "2023-05-19T01:31:45.606553",
     "exception": false,
     "start_time": "2023-05-19T01:31:45.571769",
     "status": "completed"
    },
    "tags": []
   },
   "source": [
    "### Individual Class Accuracy "
   ]
  },
  {
   "cell_type": "code",
   "execution_count": 28,
   "id": "5d7a8f25",
   "metadata": {
    "execution": {
     "iopub.execute_input": "2023-05-19T01:31:45.679218Z",
     "iopub.status.busy": "2023-05-19T01:31:45.678869Z",
     "iopub.status.idle": "2023-05-19T01:31:45.687514Z",
     "shell.execute_reply": "2023-05-19T01:31:45.686147Z"
    },
    "papermill": {
     "duration": 0.047769,
     "end_time": "2023-05-19T01:31:45.689774",
     "exception": false,
     "start_time": "2023-05-19T01:31:45.642005",
     "status": "completed"
    },
    "tags": []
   },
   "outputs": [
    {
     "name": "stdout",
     "output_type": "stream",
     "text": [
      "Overall accuracy: 90.82%\n",
      "Accuracy for each class:\n",
      "Class 0: 54.55%\n",
      "Class 1: 70.37%\n",
      "Class 2: 68.18%\n",
      "Class 3: 83.33%\n",
      "Class 4: 40.00%\n",
      "Class 5: 97.74%\n",
      "Class 6: 100.00%\n"
     ]
    }
   ],
   "source": [
    "# y_true are the true labels of the test set\n",
    "# y_pred are the predicted labels of the test set\n",
    "accuracy = accuracy_score(y_true, y_pred)\n",
    "# Calculate accuracy for each class\n",
    "class_accuracy = cm.diagonal()/cm.sum(axis=1)\n",
    "print(\"Overall accuracy: {:.2f}%\".format(accuracy*100))\n",
    "print(\"Accuracy for each class:\")\n",
    "for i, acc in enumerate(class_accuracy):\n",
    "    print(\"Class {}: {:.2f}%\".format(i, acc*100))"
   ]
  },
  {
   "cell_type": "markdown",
   "id": "9906c1c3",
   "metadata": {
    "papermill": {
     "duration": 0.035609,
     "end_time": "2023-05-19T01:31:45.764748",
     "exception": false,
     "start_time": "2023-05-19T01:31:45.729139",
     "status": "completed"
    },
    "tags": []
   },
   "source": [
    "### Individual Class Weighted Precision"
   ]
  },
  {
   "cell_type": "code",
   "execution_count": 29,
   "id": "0d6c7611",
   "metadata": {
    "execution": {
     "iopub.execute_input": "2023-05-19T01:31:45.836229Z",
     "iopub.status.busy": "2023-05-19T01:31:45.835894Z",
     "iopub.status.idle": "2023-05-19T01:31:45.853051Z",
     "shell.execute_reply": "2023-05-19T01:31:45.851829Z"
    },
    "papermill": {
     "duration": 0.055607,
     "end_time": "2023-05-19T01:31:45.855522",
     "exception": false,
     "start_time": "2023-05-19T01:31:45.799915",
     "status": "completed"
    },
    "tags": []
   },
   "outputs": [
    {
     "name": "stdout",
     "output_type": "stream",
     "text": [
      "Weighted precision for each class:\n",
      "Class 0: 85.71%\n",
      "Class 1: 73.08%\n",
      "Class 2: 69.23%\n",
      "Class 3: 100.00%\n",
      "Class 4: 63.64%\n",
      "Class 5: 94.60%\n",
      "Class 6: 81.82%\n",
      "Weighted precision: 90.23%\n"
     ]
    }
   ],
   "source": [
    "report = classification_report(y_true, y_pred, output_dict=True)\n",
    "# Extract weighted precision for each class\n",
    "class_precision = {}\n",
    "for class_label in report.keys():\n",
    "    if class_label == 'weighted avg':\n",
    "        class_precision['weighted'] = report[class_label]['precision']\n",
    "    elif class_label.isdigit():\n",
    "        class_precision[int(class_label)] = report[class_label]['precision']\n",
    "print(\"Weighted precision for each class:\")\n",
    "for i, precision in class_precision.items():\n",
    "    if i == 'weighted':\n",
    "        print(\"Weighted precision: {:.2f}%\".format(precision*100))\n",
    "    else:\n",
    "        print(\"Class {}: {:.2f}%\".format(i, precision*100))"
   ]
  },
  {
   "cell_type": "markdown",
   "id": "bcafc12e",
   "metadata": {
    "papermill": {
     "duration": 0.034552,
     "end_time": "2023-05-19T01:31:45.926993",
     "exception": false,
     "start_time": "2023-05-19T01:31:45.892441",
     "status": "completed"
    },
    "tags": []
   },
   "source": [
    "### Individual Class Weighted Recall"
   ]
  },
  {
   "cell_type": "code",
   "execution_count": 30,
   "id": "dc3e4b1c",
   "metadata": {
    "execution": {
     "iopub.execute_input": "2023-05-19T01:31:45.999103Z",
     "iopub.status.busy": "2023-05-19T01:31:45.998252Z",
     "iopub.status.idle": "2023-05-19T01:31:46.013775Z",
     "shell.execute_reply": "2023-05-19T01:31:46.012402Z"
    },
    "papermill": {
     "duration": 0.054023,
     "end_time": "2023-05-19T01:31:46.016124",
     "exception": false,
     "start_time": "2023-05-19T01:31:45.962101",
     "status": "completed"
    },
    "tags": []
   },
   "outputs": [
    {
     "name": "stdout",
     "output_type": "stream",
     "text": [
      "Weighted recall for each class:\n",
      "Class 0: 54.55%\n",
      "Class 1: 70.37%\n",
      "Class 2: 68.18%\n",
      "Class 3: 83.33%\n",
      "Class 4: 40.00%\n",
      "Class 5: 97.74%\n",
      "Class 6: 100.00%\n",
      "Weighted Recall: 90.82%\n"
     ]
    }
   ],
   "source": [
    "report = classification_report(y_true, y_pred, output_dict=True)\n",
    "# Extract weighted recall for each class\n",
    "class_recall = {}\n",
    "for class_label in report.keys():\n",
    "    if class_label == 'weighted avg':\n",
    "        class_recall['weighted'] = report[class_label]['recall']\n",
    "    elif class_label.isdigit():\n",
    "        class_recall[int(class_label)] = report[class_label]['recall']\n",
    "print(\"Weighted recall for each class:\")\n",
    "for i, recall in class_recall.items():\n",
    "    if i == 'weighted':\n",
    "        print(\"Weighted Recall: {:.2f}%\".format(recall*100))\n",
    "    else:\n",
    "        print(\"Class {}: {:.2f}%\".format(i, recall*100))"
   ]
  },
  {
   "cell_type": "markdown",
   "id": "e49e77fd",
   "metadata": {
    "papermill": {
     "duration": 0.035755,
     "end_time": "2023-05-19T01:31:46.089755",
     "exception": false,
     "start_time": "2023-05-19T01:31:46.054000",
     "status": "completed"
    },
    "tags": []
   },
   "source": [
    "### Individual Class Weighted F1-score"
   ]
  },
  {
   "cell_type": "code",
   "execution_count": 31,
   "id": "200dbda4",
   "metadata": {
    "execution": {
     "iopub.execute_input": "2023-05-19T01:31:46.163998Z",
     "iopub.status.busy": "2023-05-19T01:31:46.163465Z",
     "iopub.status.idle": "2023-05-19T01:31:46.180648Z",
     "shell.execute_reply": "2023-05-19T01:31:46.179414Z"
    },
    "papermill": {
     "duration": 0.057536,
     "end_time": "2023-05-19T01:31:46.182799",
     "exception": false,
     "start_time": "2023-05-19T01:31:46.125263",
     "status": "completed"
    },
    "tags": []
   },
   "outputs": [
    {
     "name": "stdout",
     "output_type": "stream",
     "text": [
      "Weighted F1-score for each class:\n",
      "Class 0: 66.67%\n",
      "Class 1: 71.70%\n",
      "Class 2: 68.70%\n",
      "Class 3: 90.91%\n",
      "Class 4: 49.12%\n",
      "Class 5: 96.14%\n",
      "Class 6: 90.00%\n",
      "Weighted F1-score: 90.28%\n"
     ]
    }
   ],
   "source": [
    "report = classification_report(y_true, y_pred, output_dict=True)\n",
    "# Extract weighted F1-score for each class\n",
    "class_f1 = {}\n",
    "for class_label in report.keys():\n",
    "    if class_label == 'weighted avg':\n",
    "        class_f1['weighted'] = report[class_label]['f1-score']\n",
    "    elif class_label.isdigit():\n",
    "        class_f1[int(class_label)] = report[class_label]['f1-score']\n",
    "print(\"Weighted F1-score for each class:\")\n",
    "for i, f1_score in class_f1.items():\n",
    "    if i == 'weighted':\n",
    "        print(\"Weighted F1-score: {:.2f}%\".format(f1_score*100))\n",
    "    else:\n",
    "        print(\"Class {}: {:.2f}%\".format(i, f1_score*100))"
   ]
  },
  {
   "cell_type": "markdown",
   "id": "9f7a82a7",
   "metadata": {
    "papermill": {
     "duration": 0.035852,
     "end_time": "2023-05-19T01:31:46.256478",
     "exception": false,
     "start_time": "2023-05-19T01:31:46.220626",
     "status": "completed"
    },
    "tags": []
   },
   "source": [
    "### Individual Class Precision, Recall and F1-score"
   ]
  },
  {
   "cell_type": "code",
   "execution_count": 32,
   "id": "199fe82d",
   "metadata": {
    "execution": {
     "iopub.execute_input": "2023-05-19T01:31:46.330107Z",
     "iopub.status.busy": "2023-05-19T01:31:46.329750Z",
     "iopub.status.idle": "2023-05-19T01:31:46.339415Z",
     "shell.execute_reply": "2023-05-19T01:31:46.338140Z"
    },
    "papermill": {
     "duration": 0.048454,
     "end_time": "2023-05-19T01:31:46.341530",
     "exception": false,
     "start_time": "2023-05-19T01:31:46.293076",
     "status": "completed"
    },
    "tags": []
   },
   "outputs": [
    {
     "name": "stdout",
     "output_type": "stream",
     "text": [
      "Class-wise weighted precision, recall, and F1-score:\n",
      "Class 0: Precision=0.86, Recall=0.55, F1-score=0.67\n",
      "Class 1: Precision=0.73, Recall=0.70, F1-score=0.72\n",
      "Class 2: Precision=0.69, Recall=0.68, F1-score=0.69\n",
      "Class 3: Precision=1.00, Recall=0.83, F1-score=0.91\n",
      "Class 4: Precision=0.64, Recall=0.40, F1-score=0.49\n",
      "Class 5: Precision=0.95, Recall=0.98, F1-score=0.96\n",
      "Class 6: Precision=0.82, Recall=1.00, F1-score=0.90\n"
     ]
    }
   ],
   "source": [
    "from sklearn.metrics import precision_recall_fscore_support\n",
    "\n",
    "precision_class, recall_class, f1_class, support_class = precision_recall_fscore_support(y_true, y_pred, average=None)\n",
    "print('Class-wise weighted precision, recall, and F1-score:')\n",
    "for i in range(len(precision_class)):\n",
    "    print('Class {}: Precision={:.2f}, Recall={:.2f}, F1-score={:.2f}'.format(i, precision_class[i], recall_class[i], f1_class[i]))\n"
   ]
  },
  {
   "cell_type": "markdown",
   "id": "2c4c5122",
   "metadata": {
    "papermill": {
     "duration": 0.034846,
     "end_time": "2023-05-19T01:31:46.413183",
     "exception": false,
     "start_time": "2023-05-19T01:31:46.378337",
     "status": "completed"
    },
    "tags": []
   },
   "source": [
    "### Individual Class Weighted Sensitivity"
   ]
  },
  {
   "cell_type": "code",
   "execution_count": 33,
   "id": "744d6fba",
   "metadata": {
    "execution": {
     "iopub.execute_input": "2023-05-19T01:31:46.484884Z",
     "iopub.status.busy": "2023-05-19T01:31:46.484547Z",
     "iopub.status.idle": "2023-05-19T01:31:47.023272Z",
     "shell.execute_reply": "2023-05-19T01:31:47.022300Z"
    },
    "papermill": {
     "duration": 0.577328,
     "end_time": "2023-05-19T01:31:47.025568",
     "exception": false,
     "start_time": "2023-05-19T01:31:46.448240",
     "status": "completed"
    },
    "tags": []
   },
   "outputs": [
    {
     "name": "stdout",
     "output_type": "stream",
     "text": [
      "Weighted Sensitivity:  0.9082125603864735\n",
      "Class  0 :sensitivity = 0.5454545454545454\n",
      "Class  1 :sensitivity = 0.7037037037037037\n",
      "Class  2 :sensitivity = 0.6818181818181818\n",
      "Class  3 :sensitivity = 0.8333333333333334\n",
      "Class  4 :sensitivity = 0.4\n",
      "Class  5 :sensitivity = 0.9773755656108597\n",
      "Class  6 :sensitivity = 1.0\n"
     ]
    }
   ],
   "source": [
    "from imblearn.metrics import sensitivity_score\n",
    "\n",
    "sensitivity = sensitivity_score(y_true, y_pred, average='weighted')\n",
    "print(\"Weighted Sensitivity: \", sensitivity)\n",
    "\n",
    "# Calculate class-wise sensitivity\n",
    "sensitivity = sensitivity_score(y_true, y_pred, average=None)\n",
    "\n",
    "# Print sensitivity score for each class\n",
    "for i in range(len(sensitivity)):\n",
    "    print(\"Class \", i, \":sensitivity =\", sensitivity[i])"
   ]
  },
  {
   "cell_type": "markdown",
   "id": "9ff8db8b",
   "metadata": {
    "papermill": {
     "duration": 0.035666,
     "end_time": "2023-05-19T01:31:47.099770",
     "exception": false,
     "start_time": "2023-05-19T01:31:47.064104",
     "status": "completed"
    },
    "tags": []
   },
   "source": [
    "### Individual Class Weighted Specificity"
   ]
  },
  {
   "cell_type": "code",
   "execution_count": 34,
   "id": "0499825c",
   "metadata": {
    "execution": {
     "iopub.execute_input": "2023-05-19T01:31:47.173924Z",
     "iopub.status.busy": "2023-05-19T01:31:47.172822Z",
     "iopub.status.idle": "2023-05-19T01:31:47.183985Z",
     "shell.execute_reply": "2023-05-19T01:31:47.182844Z"
    },
    "papermill": {
     "duration": 0.050886,
     "end_time": "2023-05-19T01:31:47.186082",
     "exception": false,
     "start_time": "2023-05-19T01:31:47.135196",
     "status": "completed"
    },
    "tags": []
   },
   "outputs": [
    {
     "name": "stdout",
     "output_type": "stream",
     "text": [
      "Weighted Specificity:  0.8175475556526702\n",
      "Class  0 :specificity= 0.9975186104218362\n",
      "Class  1 :specificity= 0.9912609238451935\n",
      "Class  2 :specificity= 0.973753280839895\n",
      "Class  3 :specificity= 1.0\n",
      "Class  4 :specificity= 0.9899117276166457\n",
      "Class  5 :specificity= 0.7757575757575758\n",
      "Class  6 :specificity= 0.9975579975579976\n"
     ]
    }
   ],
   "source": [
    "from imblearn.metrics import specificity_score\n",
    "\n",
    "specificity = specificity_score(y_true, y_pred, average='weighted')\n",
    "print(\"Weighted Specificity: \", specificity)\n",
    "\n",
    "# Calculate class-wise specificity\n",
    "specificity = specificity_score(y_true, y_pred, average=None)\n",
    "\n",
    "# Print sensitivity score for each class\n",
    "for i in range(len(specificity)):\n",
    "    print(\"Class \", i, \":specificity=\", specificity[i])"
   ]
  },
  {
   "cell_type": "markdown",
   "id": "700227f6",
   "metadata": {
    "papermill": {
     "duration": 0.035832,
     "end_time": "2023-05-19T01:31:47.260849",
     "exception": false,
     "start_time": "2023-05-19T01:31:47.225017",
     "status": "completed"
    },
    "tags": []
   },
   "source": [
    "### Accuracy"
   ]
  },
  {
   "cell_type": "code",
   "execution_count": 35,
   "id": "2697639a",
   "metadata": {
    "execution": {
     "iopub.execute_input": "2023-05-19T01:31:47.337278Z",
     "iopub.status.busy": "2023-05-19T01:31:47.336933Z",
     "iopub.status.idle": "2023-05-19T01:31:47.344075Z",
     "shell.execute_reply": "2023-05-19T01:31:47.342826Z"
    },
    "papermill": {
     "duration": 0.047681,
     "end_time": "2023-05-19T01:31:47.346201",
     "exception": false,
     "start_time": "2023-05-19T01:31:47.298520",
     "status": "completed"
    },
    "tags": []
   },
   "outputs": [
    {
     "name": "stdout",
     "output_type": "stream",
     "text": [
      "Accuracy: 0.9082125603864735\n"
     ]
    }
   ],
   "source": [
    "print(\"Accuracy: \" + str(accuracy_score(y_true, y_pred)))\n",
    "import numpy as np\n",
    "from sklearn.metrics import accuracy_score"
   ]
  },
  {
   "cell_type": "code",
   "execution_count": 36,
   "id": "b3d5ed44",
   "metadata": {
    "execution": {
     "iopub.execute_input": "2023-05-19T01:31:47.420238Z",
     "iopub.status.busy": "2023-05-19T01:31:47.419273Z",
     "iopub.status.idle": "2023-05-19T01:31:47.441291Z",
     "shell.execute_reply": "2023-05-19T01:31:47.440316Z"
    },
    "papermill": {
     "duration": 0.061357,
     "end_time": "2023-05-19T01:31:47.443414",
     "exception": false,
     "start_time": "2023-05-19T01:31:47.382057",
     "status": "completed"
    },
    "tags": []
   },
   "outputs": [
    {
     "name": "stdout",
     "output_type": "stream",
     "text": [
      "Top-1 Accuracy: 0.9082125603864735\n",
      "Top-2 Accuracy: 0.9746376811594203\n",
      "Top-3 Accuracy: 0.9915458937198067\n"
     ]
    }
   ],
   "source": [
    "# Calculate top-1 accuracy\n",
    "top1_acc = accuracy_score(y_true, y_pred)\n",
    "print(\"Top-1 Accuracy:\", top1_acc)\n",
    "\n",
    "# Calculate top-2 accuracy\n",
    "y_pred_top2 = np.argsort(-predictions, axis=1)[:, :2] # Get the top 2 predicted classes\n",
    "top2_acc = np.mean(np.array([y_true[i] in y_pred_top2[i] for i in range(len(y_true))]))\n",
    "print(\"Top-2 Accuracy:\", top2_acc)\n",
    "\n",
    "# Calculate top-3 accuracy\n",
    "y_pred_top3 = np.argsort(-predictions, axis=1)[:, :3] # Get the top 3 predicted classes\n",
    "top3_acc = np.mean(np.array([y_true[i] in y_pred_top3[i] for i in range(len(y_true))]))\n",
    "print(\"Top-3 Accuracy:\", top3_acc)\n",
    "from sklearn.metrics import f1_score"
   ]
  },
  {
   "cell_type": "markdown",
   "id": "e7688580",
   "metadata": {
    "papermill": {
     "duration": 0.035724,
     "end_time": "2023-05-19T01:31:47.516805",
     "exception": false,
     "start_time": "2023-05-19T01:31:47.481081",
     "status": "completed"
    },
    "tags": []
   },
   "source": [
    "### Weighted Evaluation Measures"
   ]
  },
  {
   "cell_type": "code",
   "execution_count": 37,
   "id": "6a213c5a",
   "metadata": {
    "execution": {
     "iopub.execute_input": "2023-05-19T01:31:47.589822Z",
     "iopub.status.busy": "2023-05-19T01:31:47.588969Z",
     "iopub.status.idle": "2023-05-19T01:31:47.621051Z",
     "shell.execute_reply": "2023-05-19T01:31:47.619886Z"
    },
    "papermill": {
     "duration": 0.070848,
     "end_time": "2023-05-19T01:31:47.623026",
     "exception": false,
     "start_time": "2023-05-19T01:31:47.552178",
     "status": "completed"
    },
    "tags": []
   },
   "outputs": [
    {
     "name": "stdout",
     "output_type": "stream",
     "text": [
      "Weighted Precision: 0.9023006094015297\n",
      "Weighted Recall: 0.9082125603864735\n",
      "Weighted F1-Score: 0.9028267257705139\n",
      "Weighted Sensitivity: 0.9082125603864735\n",
      "Weighted Specificity: 0.8175475556526702\n",
      "weighted Roc score: 0.976675988910309\n"
     ]
    }
   ],
   "source": [
    "print(\"Weighted Precision: \"+ str(precision_score(y_true, y_pred, average='weighted')))\n",
    "print(\"Weighted Recall: \"+ str(recall_score(y_true, y_pred, average='weighted')))\n",
    "print(\"Weighted F1-Score: \"+ str(f1_score(y_true, y_pred, average='weighted')))\n",
    "print(\"Weighted Sensitivity: \"+ str(sensitivity_score(y_true, y_pred, average='weighted')))\n",
    "print(\"Weighted Specificity: \"+ str(specificity_score(y_true, y_pred, average='weighted')))\n",
    "print(\"weighted Roc score: \" + str(roc_auc_score(y_true,y_prob,multi_class='ovr',average='weighted')))"
   ]
  },
  {
   "cell_type": "markdown",
   "id": "da5f8a53",
   "metadata": {
    "papermill": {
     "duration": 0.036875,
     "end_time": "2023-05-19T01:31:47.695825",
     "exception": false,
     "start_time": "2023-05-19T01:31:47.658950",
     "status": "completed"
    },
    "tags": []
   },
   "source": [
    "### Macro Evaluation Measures"
   ]
  },
  {
   "cell_type": "code",
   "execution_count": 38,
   "id": "5403ca50",
   "metadata": {
    "execution": {
     "iopub.execute_input": "2023-05-19T01:31:47.769409Z",
     "iopub.status.busy": "2023-05-19T01:31:47.769067Z",
     "iopub.status.idle": "2023-05-19T01:31:47.792174Z",
     "shell.execute_reply": "2023-05-19T01:31:47.790894Z"
    },
    "papermill": {
     "duration": 0.062538,
     "end_time": "2023-05-19T01:31:47.794329",
     "exception": false,
     "start_time": "2023-05-19T01:31:47.731791",
     "status": "completed"
    },
    "tags": []
   },
   "outputs": [
    {
     "name": "stdout",
     "output_type": "stream",
     "text": [
      "Macro Precision: 0.8115358051750127\n",
      "Macro Recall: 0.7345264757029463\n",
      "Macro F1-Score: 0.761773430159437\n",
      "Macro Sensitivity: 0.7345264757029463\n",
      "Macro Specificity: 0.9608228737198775\n",
      "Macro Roc score: 0.9790190046869125\n"
     ]
    }
   ],
   "source": [
    "print(\"Macro Precision: \"+ str(precision_score(y_true, y_pred, average='macro')))\n",
    "print(\"Macro Recall: \"+ str(recall_score(y_true, y_pred, average='macro')))\n",
    "print(\"Macro F1-Score: \"+ str(f1_score(y_true, y_pred, average='macro')))\n",
    "print(\"Macro Sensitivity: \"+ str(sensitivity_score(y_true, y_pred, average='macro')))\n",
    "print(\"Macro Specificity: \"+ str(specificity_score(y_true, y_pred, average='macro')))\n",
    "print(\"Macro Roc score: \" + str(roc_auc_score(y_true,y_prob,multi_class='ovr',average='macro')))"
   ]
  },
  {
   "cell_type": "markdown",
   "id": "a9c0cca7",
   "metadata": {
    "papermill": {
     "duration": 0.035657,
     "end_time": "2023-05-19T01:31:47.865337",
     "exception": false,
     "start_time": "2023-05-19T01:31:47.829680",
     "status": "completed"
    },
    "tags": []
   },
   "source": [
    "### Micro Evaluation Measures"
   ]
  },
  {
   "cell_type": "code",
   "execution_count": 39,
   "id": "c745f53a",
   "metadata": {
    "execution": {
     "iopub.execute_input": "2023-05-19T01:31:47.938745Z",
     "iopub.status.busy": "2023-05-19T01:31:47.938383Z",
     "iopub.status.idle": "2023-05-19T01:31:47.954707Z",
     "shell.execute_reply": "2023-05-19T01:31:47.953587Z"
    },
    "papermill": {
     "duration": 0.055497,
     "end_time": "2023-05-19T01:31:47.956677",
     "exception": false,
     "start_time": "2023-05-19T01:31:47.901180",
     "status": "completed"
    },
    "tags": []
   },
   "outputs": [
    {
     "name": "stdout",
     "output_type": "stream",
     "text": [
      "Micro Precision: 0.9082125603864735\n",
      "Micro Recall: 0.9082125603864735\n",
      "Micro F1-Score: 0.9082125603864735\n",
      "Micro Sensitivity: 0.9082125603864735\n",
      "Micro Specificity: 0.9847020933977456\n"
     ]
    }
   ],
   "source": [
    "print(\"Micro Precision: \"+ str(precision_score(y_true, y_pred, average='micro')))\n",
    "print(\"Micro Recall: \"+ str(recall_score(y_true, y_pred, average='micro')))\n",
    "print(\"Micro F1-Score: \"+ str(f1_score(y_true, y_pred, average='micro')))\n",
    "print(\"Micro Sensitivity: \"+ str(sensitivity_score(y_true, y_pred, average='micro')))\n",
    "print(\"Micro Specificity: \"+ str(specificity_score(y_true, y_pred, average='micro')))"
   ]
  },
  {
   "cell_type": "markdown",
   "id": "2a191215",
   "metadata": {
    "papermill": {
     "duration": 0.036125,
     "end_time": "2023-05-19T01:31:48.030671",
     "exception": false,
     "start_time": "2023-05-19T01:31:47.994546",
     "status": "completed"
    },
    "tags": []
   },
   "source": [
    "## ROC"
   ]
  },
  {
   "cell_type": "markdown",
   "id": "6dd894fc",
   "metadata": {
    "papermill": {
     "duration": 0.036072,
     "end_time": "2023-05-19T01:31:48.103693",
     "exception": false,
     "start_time": "2023-05-19T01:31:48.067621",
     "status": "completed"
    },
    "tags": []
   },
   "source": [
    "### Compute ROC curve and ROC area for each class"
   ]
  },
  {
   "cell_type": "code",
   "execution_count": 40,
   "id": "6472a7a9",
   "metadata": {
    "execution": {
     "iopub.execute_input": "2023-05-19T01:31:48.177381Z",
     "iopub.status.busy": "2023-05-19T01:31:48.176994Z",
     "iopub.status.idle": "2023-05-19T01:31:48.470495Z",
     "shell.execute_reply": "2023-05-19T01:31:48.469393Z"
    },
    "papermill": {
     "duration": 0.332913,
     "end_time": "2023-05-19T01:31:48.472592",
     "exception": false,
     "start_time": "2023-05-19T01:31:48.139679",
     "status": "completed"
    },
    "tags": []
   },
   "outputs": [
    {
     "data": {
      "image/png": "[encoded data removed]",
      "text/plain": [
       "<Figure size 640x480 with 1 Axes>"
      ]
     },
     "metadata": {},
     "output_type": "display_data"
    }
   ],
   "source": [
    "fpr = {}\n",
    "tpr = {}\n",
    "roc_auc = dict()\n",
    "for i in range(num_classes):\n",
    "    fpr[i], tpr[i], _ = roc_curve(y_test[:, i], y_prob[:, i], drop_intermediate=False)\n",
    "    roc_auc[i] = auc(fpr[i], tpr[i])\n",
    "\n",
    "\n",
    "# plot the ROC curve for each class\n",
    "for i in range(num_classes):\n",
    "    plt.plot(fpr[i], tpr[i], label='Class {}: AUC={:.3f}'.format(i, roc_auc[i]))\n",
    "\n",
    "plt.xlabel('False Positive Rate')\n",
    "plt.ylabel('True Positive Rate')\n",
    "plt.legend()\n",
    "plt.show()"
   ]
  },
  {
   "cell_type": "markdown",
   "id": "4d351da2",
   "metadata": {
    "papermill": {
     "duration": 0.036069,
     "end_time": "2023-05-19T01:31:48.545886",
     "exception": false,
     "start_time": "2023-05-19T01:31:48.509817",
     "status": "completed"
    },
    "tags": []
   },
   "source": [
    "## MCC and Kappa Score"
   ]
  },
  {
   "cell_type": "code",
   "execution_count": 41,
   "id": "720959a9",
   "metadata": {
    "execution": {
     "iopub.execute_input": "2023-05-19T01:31:48.619890Z",
     "iopub.status.busy": "2023-05-19T01:31:48.619559Z",
     "iopub.status.idle": "2023-05-19T01:31:48.629288Z",
     "shell.execute_reply": "2023-05-19T01:31:48.628110Z"
    },
    "papermill": {
     "duration": 0.049217,
     "end_time": "2023-05-19T01:31:48.631417",
     "exception": false,
     "start_time": "2023-05-19T01:31:48.582200",
     "status": "completed"
    },
    "tags": []
   },
   "outputs": [
    {
     "name": "stdout",
     "output_type": "stream",
     "text": [
      "MCC: 72.32%\n",
      "Kappa Score: 72.06%\n"
     ]
    }
   ],
   "source": [
    "from sklearn.metrics import matthews_corrcoef, cohen_kappa_score\n",
    "\n",
    "# y_true are the true labels of the test set\n",
    "# y_pred are the predicted labels of the test set\n",
    "mcc = matthews_corrcoef(y_true, y_pred)\n",
    "kappa = cohen_kappa_score(y_true, y_pred)\n",
    "print(\"MCC: {:.2f}%\".format(mcc*100))\n",
    "print(\"Kappa Score: {:.2f}%\".format(kappa*100))"
   ]
  },
  {
   "cell_type": "code",
   "execution_count": 42,
   "id": "ca94d7e0",
   "metadata": {
    "execution": {
     "iopub.execute_input": "2023-05-19T01:31:48.708747Z",
     "iopub.status.busy": "2023-05-19T01:31:48.707944Z",
     "iopub.status.idle": "2023-05-19T01:31:48.777394Z",
     "shell.execute_reply": "2023-05-19T01:31:48.776099Z"
    },
    "papermill": {
     "duration": 0.109639,
     "end_time": "2023-05-19T01:31:48.779517",
     "exception": false,
     "start_time": "2023-05-19T01:31:48.669878",
     "status": "completed"
    },
    "tags": []
   },
   "outputs": [
    {
     "name": "stdout",
     "output_type": "stream",
     "text": [
      "MCC per class:\n",
      "Class 0: 67.73%\n",
      "Class 1: 70.78%\n",
      "Class 2: 66.02%\n",
      "Class 3: 91.23%\n",
      "Class 4: 48.78%\n",
      "Class 5: 79.59%\n",
      "Class 6: 90.34%\n",
      "Kappa Score per class:\n",
      "Class 0: 65.96%\n",
      "Class 1: 70.76%\n",
      "Class 2: 66.01%\n",
      "Class 3: 90.85%\n",
      "Class 4: 47.41%\n",
      "Class 5: 79.28%\n",
      "Class 6: 89.88%\n"
     ]
    }
   ],
   "source": [
    "### Individual Class Wise MCC and Kappa\n",
    "\n",
    "from sklearn.metrics import confusion_matrix, matthews_corrcoef, cohen_kappa_score\n",
    "# y_true are the true labels of the test set\n",
    "# y_pred are the predicted labels of the test set\n",
    "conf_mat = confusion_matrix(y_true, y_pred)\n",
    "mcc_per_class = {}\n",
    "kappa_per_class = {}\n",
    "\n",
    "for i in range(len(conf_mat)):\n",
    "    tp = conf_mat[i][i]\n",
    "    fp = sum(conf_mat[:, i]) - tp\n",
    "    fn = sum(conf_mat[i, :]) - tp\n",
    "    tn = sum(sum(conf_mat)) - tp - fp - fn\n",
    "\n",
    "    mcc_per_class[i] = matthews_corrcoef([1 if x==i else 0 for x in y_true], [1 if x==i else 0 for x in y_pred])\n",
    "    kappa_per_class[i] = cohen_kappa_score([1 if x==i else 0 for x in y_true], [1 if x==i else 0 for x in y_pred])\n",
    "\n",
    "print(\"MCC per class:\")\n",
    "for i, mcc in mcc_per_class.items():\n",
    "    print(\"Class {}: {:.2f}%\".format(i, mcc*100))\n",
    "\n",
    "print(\"Kappa Score per class:\")\n",
    "for i, kappa in kappa_per_class.items():\n",
    "    print(\"Class {}: {:.2f}%\".format(i, kappa*100))"
   ]
  }
 ],
 "metadata": {
  "kernelspec": {
   "display_name": "Python 3",
   "language": "python",
   "name": "python3"
  },
  "language_info": {
   "codemirror_mode": {
    "name": "ipython",
    "version": 3
   },
   "file_extension": ".py",
   "mimetype": "text/x-python",
   "name": "python",
   "nbconvert_exporter": "python",
   "pygments_lexer": "ipython3",
   "version": "3.10.10"
  },
  "papermill": {
   "default_parameters": {},
   "duration": 36784.45957,
   "end_time": "2023-05-19T01:31:51.811251",
   "environment_variables": {},
   "exception": null,
   "input_path": "__notebook__.ipynb",
   "output_path": "__notebook__.ipynb",
   "parameters": {},
   "start_time": "2023-05-18T15:18:47.351681",
   "version": "2.4.0"
  }
 },
 "nbformat": 4,
 "nbformat_minor": 5
}
