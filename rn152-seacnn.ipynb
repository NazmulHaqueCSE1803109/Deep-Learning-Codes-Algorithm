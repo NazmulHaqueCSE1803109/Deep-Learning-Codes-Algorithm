{
 "cells": [
  {
   "cell_type": "markdown",
   "id": "087eafe1",
   "metadata": {
    "papermill": {
     "duration": 0.015219,
     "end_time": "2023-06-03T11:03:18.063349",
     "exception": false,
     "start_time": "2023-06-03T11:03:18.048130",
     "status": "completed"
    },
    "tags": []
   },
   "source": [
    "# Libraries"
   ]
  },
  {
   "cell_type": "code",
   "execution_count": 1,
   "id": "d6c724e8",
   "metadata": {
    "execution": {
     "iopub.execute_input": "2023-06-03T11:03:18.095329Z",
     "iopub.status.busy": "2023-06-03T11:03:18.094579Z",
     "iopub.status.idle": "2023-06-03T11:03:26.675494Z",
     "shell.execute_reply": "2023-06-03T11:03:26.674476Z"
    },
    "id": "Aa36bMKLze3z",
    "papermill": {
     "duration": 8.5997,
     "end_time": "2023-06-03T11:03:26.678044",
     "exception": false,
     "start_time": "2023-06-03T11:03:18.078344",
     "status": "completed"
    },
    "tags": []
   },
   "outputs": [
    {
     "name": "stderr",
     "output_type": "stream",
     "text": [
      "/opt/conda/lib/python3.10/site-packages/tensorflow_io/python/ops/__init__.py:98: UserWarning: unable to load libtensorflow_io_plugins.so: unable to open file: libtensorflow_io_plugins.so, from paths: ['/opt/conda/lib/python3.10/site-packages/tensorflow_io/python/ops/libtensorflow_io_plugins.so']\n",
      "caused by: ['/opt/conda/lib/python3.10/site-packages/tensorflow_io/python/ops/libtensorflow_io_plugins.so: undefined symbol: _ZN3tsl6StatusC1EN10tensorflow5error4CodeESt17basic_string_viewIcSt11char_traitsIcEENS_14SourceLocationE']\n",
      "  warnings.warn(f\"unable to load libtensorflow_io_plugins.so: {e}\")\n",
      "/opt/conda/lib/python3.10/site-packages/tensorflow_io/python/ops/__init__.py:104: UserWarning: file system plugins are not loaded: unable to open file: libtensorflow_io.so, from paths: ['/opt/conda/lib/python3.10/site-packages/tensorflow_io/python/ops/libtensorflow_io.so']\n",
      "caused by: ['/opt/conda/lib/python3.10/site-packages/tensorflow_io/python/ops/libtensorflow_io.so: undefined symbol: _ZTVN10tensorflow13GcsFileSystemE']\n",
      "  warnings.warn(f\"file system plugins are not loaded: {e}\")\n"
     ]
    }
   ],
   "source": [
    "import pandas as pd\n",
    "import numpy as np\n",
    "import os\n",
    "import tensorflow as tf\n",
    "import cv2\n",
    "from keras import backend as K\n",
    "from keras.layers import Layer, InputSpec\n",
    "import keras.layers as kl\n",
    "from glob import glob\n",
    "from sklearn.metrics import roc_curve, auc\n",
    "from keras.preprocessing import image\n",
    "from tensorflow.keras.models import Sequential\n",
    "from sklearn.metrics import roc_auc_score\n",
    "from tensorflow.keras import callbacks \n",
    "from tensorflow.keras.callbacks import ModelCheckpoint, EarlyStopping\n",
    "from  matplotlib import pyplot as plt\n",
    "from tensorflow.keras import Model\n",
    "from tensorflow.keras.layers import concatenate, Dense, Conv2D, MaxPooling2D, Flatten, Input, Activation, add, AveragePooling2D, BatchNormalization, Dropout, GlobalAveragePooling2D, GlobalMaxPooling2D\n",
    "%matplotlib inline\n",
    "import shutil\n",
    "from sklearn.metrics import  precision_score, recall_score, accuracy_score, classification_report, confusion_matrix\n",
    "from tensorflow.python.platform import build_info as tf_build_info\n",
    "from tensorflow.keras.preprocessing.image import ImageDataGenerator\n",
    "from sklearn.model_selection import train_test_split\n",
    "\n",
    "from PIL import ImageFile\n",
    "ImageFile.LOAD_TRUNCATED_IMAGES = True"
   ]
  },
  {
   "cell_type": "code",
   "execution_count": 2,
   "id": "255b37c4",
   "metadata": {
    "execution": {
     "iopub.execute_input": "2023-06-03T11:03:26.710648Z",
     "iopub.status.busy": "2023-06-03T11:03:26.709391Z",
     "iopub.status.idle": "2023-06-03T11:03:26.714692Z",
     "shell.execute_reply": "2023-06-03T11:03:26.713878Z"
    },
    "id": "PsoqCvNsgmHP",
    "papermill": {
     "duration": 0.023068,
     "end_time": "2023-06-03T11:03:26.716665",
     "exception": false,
     "start_time": "2023-06-03T11:03:26.693597",
     "status": "completed"
    },
    "tags": []
   },
   "outputs": [],
   "source": [
    "targetnames = ['akiec', 'bcc', 'bkl', 'df', 'mel', 'nv', 'vasc']\n",
    "batch_size = 16\n",
    "image_size = 224"
   ]
  },
  {
   "cell_type": "code",
   "execution_count": 3,
   "id": "f3426eb5",
   "metadata": {
    "execution": {
     "iopub.execute_input": "2023-06-03T11:03:26.748708Z",
     "iopub.status.busy": "2023-06-03T11:03:26.747908Z",
     "iopub.status.idle": "2023-06-03T11:03:26.752527Z",
     "shell.execute_reply": "2023-06-03T11:03:26.751712Z"
    },
    "id": "wNisha_gM3_Z",
    "papermill": {
     "duration": 0.02315,
     "end_time": "2023-06-03T11:03:26.754641",
     "exception": false,
     "start_time": "2023-06-03T11:03:26.731491",
     "status": "completed"
    },
    "tags": []
   },
   "outputs": [],
   "source": [
    "train_path = '/kaggle/input/splitted-and-augmented-ham-15/Splitted_And_Augmented_HAM_15/HAM10K/train_dir'\n",
    "test_path = '/kaggle/input/splitted-and-augmented-ham-15/Splitted_And_Augmented_HAM_15/HAM10K/test_dir'\n",
    "val_path = '/kaggle/input/splitted-and-augmented-ham-15/Splitted_And_Augmented_HAM_15/HAM10K/val_dir'"
   ]
  },
  {
   "cell_type": "markdown",
   "id": "0b7c9d94",
   "metadata": {
    "papermill": {
     "duration": 0.014532,
     "end_time": "2023-06-03T11:03:26.784226",
     "exception": false,
     "start_time": "2023-06-03T11:03:26.769694",
     "status": "completed"
    },
    "tags": []
   },
   "source": [
    "# Dataset generation (Train, Test, Validation)"
   ]
  },
  {
   "cell_type": "code",
   "execution_count": 4,
   "id": "689439f2",
   "metadata": {
    "execution": {
     "iopub.execute_input": "2023-06-03T11:03:26.815330Z",
     "iopub.status.busy": "2023-06-03T11:03:26.814554Z",
     "iopub.status.idle": "2023-06-03T11:03:26.819001Z",
     "shell.execute_reply": "2023-06-03T11:03:26.818085Z"
    },
    "id": "zhQWqdRN79B3",
    "papermill": {
     "duration": 0.02196,
     "end_time": "2023-06-03T11:03:26.820934",
     "exception": false,
     "start_time": "2023-06-03T11:03:26.798974",
     "status": "completed"
    },
    "tags": []
   },
   "outputs": [],
   "source": [
    "datagen = ImageDataGenerator(preprocessing_function=tf.keras.applications.resnet.preprocess_input)"
   ]
  },
  {
   "cell_type": "code",
   "execution_count": 5,
   "id": "e2a88941",
   "metadata": {
    "execution": {
     "iopub.execute_input": "2023-06-03T11:03:26.852593Z",
     "iopub.status.busy": "2023-06-03T11:03:26.851809Z",
     "iopub.status.idle": "2023-06-03T11:03:47.006535Z",
     "shell.execute_reply": "2023-06-03T11:03:47.005651Z"
    },
    "id": "w9_8FvOO7Rtu",
    "outputId": "7ca88c24-fda8-45d6-cb32-f3a43ae6ba5b",
    "papermill": {
     "duration": 20.172745,
     "end_time": "2023-06-03T11:03:47.008593",
     "exception": false,
     "start_time": "2023-06-03T11:03:26.835848",
     "status": "completed"
    },
    "tags": []
   },
   "outputs": [
    {
     "name": "stdout",
     "output_type": "stream",
     "text": [
      "\n",
      "Train Batches: \n",
      "Found 54782 images belonging to 7 classes.\n",
      "\n",
      "Test Batches: \n",
      "Found 828 images belonging to 7 classes.\n",
      "\n",
      "Val Batches: \n",
      "Found 827 images belonging to 7 classes.\n"
     ]
    }
   ],
   "source": [
    "print(\"\\nTrain Batches: \")\n",
    "train_batches = datagen.flow_from_directory(directory=train_path,\n",
    "                                            target_size=(image_size,image_size),\n",
    "                                            batch_size=batch_size,\n",
    "                                            shuffle=True)\n",
    "\n",
    "print(\"\\nTest Batches: \")\n",
    "test_batches = datagen.flow_from_directory(test_path,\n",
    "                                          target_size=(image_size,image_size),\n",
    "                                          batch_size=batch_size,\n",
    "                                          shuffle=False)\n",
    "print(\"\\nVal Batches: \")\n",
    "val_batches = datagen.flow_from_directory(val_path,\n",
    "                                         target_size=(image_size,image_size),\n",
    "                                         batch_size=batch_size,\n",
    "                                         shuffle=False)"
   ]
  },
  {
   "cell_type": "markdown",
   "id": "d69dfac8",
   "metadata": {
    "papermill": {
     "duration": 0.015134,
     "end_time": "2023-06-03T11:03:47.039481",
     "exception": false,
     "start_time": "2023-06-03T11:03:47.024347",
     "status": "completed"
    },
    "tags": []
   },
   "source": [
    "# Main Model Creation"
   ]
  },
  {
   "cell_type": "markdown",
   "id": "aabd3c90",
   "metadata": {
    "papermill": {
     "duration": 0.014959,
     "end_time": "2023-06-03T11:03:47.069642",
     "exception": false,
     "start_time": "2023-06-03T11:03:47.054683",
     "status": "completed"
    },
    "tags": []
   },
   "source": [
    "### Squeeze and Excitation Attention"
   ]
  },
  {
   "cell_type": "code",
   "execution_count": 6,
   "id": "4d5c62a6",
   "metadata": {
    "execution": {
     "iopub.execute_input": "2023-06-03T11:03:47.102306Z",
     "iopub.status.busy": "2023-06-03T11:03:47.101330Z",
     "iopub.status.idle": "2023-06-03T11:03:47.107555Z",
     "shell.execute_reply": "2023-06-03T11:03:47.106724Z"
    },
    "papermill": {
     "duration": 0.024819,
     "end_time": "2023-06-03T11:03:47.109542",
     "exception": false,
     "start_time": "2023-06-03T11:03:47.084723",
     "status": "completed"
    },
    "tags": []
   },
   "outputs": [],
   "source": [
    "def squeeze_excite_block(input, filters, se_ratio):\n",
    "    # Squeeze step\n",
    "    se = tf.keras.layers.GlobalAveragePooling2D()(input)\n",
    "    se = tf.keras.layers.Dense(filters // se_ratio, activation='relu')(se)\n",
    "    se = tf.keras.layers.Dense(filters, activation='softmax')(se)\n",
    "    # Excitation step\n",
    "    x = tf.keras.layers.multiply([input, se])\n",
    "    return x"
   ]
  },
  {
   "cell_type": "markdown",
   "id": "75405c12",
   "metadata": {
    "papermill": {
     "duration": 0.015044,
     "end_time": "2023-06-03T11:03:47.139733",
     "exception": false,
     "start_time": "2023-06-03T11:03:47.124689",
     "status": "completed"
    },
    "tags": []
   },
   "source": [
    "### Define Model"
   ]
  },
  {
   "cell_type": "code",
   "execution_count": 7,
   "id": "494a809d",
   "metadata": {
    "execution": {
     "iopub.execute_input": "2023-06-03T11:03:47.172050Z",
     "iopub.status.busy": "2023-06-03T11:03:47.171177Z",
     "iopub.status.idle": "2023-06-03T11:04:05.690375Z",
     "shell.execute_reply": "2023-06-03T11:04:05.689438Z"
    },
    "id": "zhQWqdRN79B3",
    "papermill": {
     "duration": 18.537921,
     "end_time": "2023-06-03T11:04:05.692779",
     "exception": false,
     "start_time": "2023-06-03T11:03:47.154858",
     "status": "completed"
    },
    "tags": []
   },
   "outputs": [
    {
     "name": "stdout",
     "output_type": "stream",
     "text": [
      "Downloading data from https://storage.googleapis.com/tensorflow/keras-applications/resnet/resnet152_weights_tf_dim_ordering_tf_kernels_notop.h5\n",
      "234698864/234698864 [==============================] - 10s 0us/step\n"
     ]
    }
   ],
   "source": [
    "from tensorflow.keras.applications.resnet import ResNet152\n",
    "\n",
    "RN152 = ResNet152(weights='imagenet', include_top=False, input_shape=(image_size, image_size, 3), pooling='avg')"
   ]
  },
  {
   "cell_type": "markdown",
   "id": "ed749a3b",
   "metadata": {
    "papermill": {
     "duration": 0.026184,
     "end_time": "2023-06-03T11:04:05.746448",
     "exception": false,
     "start_time": "2023-06-03T11:04:05.720264",
     "status": "completed"
    },
    "tags": []
   },
   "source": [
    "## Fine tuning"
   ]
  },
  {
   "cell_type": "code",
   "execution_count": 8,
   "id": "b6c4a393",
   "metadata": {
    "execution": {
     "iopub.execute_input": "2023-06-03T11:04:05.800733Z",
     "iopub.status.busy": "2023-06-03T11:04:05.800403Z",
     "iopub.status.idle": "2023-06-03T11:04:05.806730Z",
     "shell.execute_reply": "2023-06-03T11:04:05.805683Z"
    },
    "id": "4d4Ta5LcSYaz",
    "papermill": {
     "duration": 0.036539,
     "end_time": "2023-06-03T11:04:05.809374",
     "exception": false,
     "start_time": "2023-06-03T11:04:05.772835",
     "status": "completed"
    },
    "tags": []
   },
   "outputs": [],
   "source": [
    "MainInput=Input(shape=(image_size, image_size, 3))"
   ]
  },
  {
   "cell_type": "code",
   "execution_count": 9,
   "id": "b792a42a",
   "metadata": {
    "execution": {
     "iopub.execute_input": "2023-06-03T11:04:05.864217Z",
     "iopub.status.busy": "2023-06-03T11:04:05.863946Z",
     "iopub.status.idle": "2023-06-03T11:04:07.201801Z",
     "shell.execute_reply": "2023-06-03T11:04:07.200847Z"
    },
    "papermill": {
     "duration": 1.367773,
     "end_time": "2023-06-03T11:04:07.204097",
     "exception": false,
     "start_time": "2023-06-03T11:04:05.836324",
     "status": "completed"
    },
    "tags": []
   },
   "outputs": [],
   "source": [
    "rn152 = RN152(MainInput)"
   ]
  },
  {
   "cell_type": "code",
   "execution_count": 10,
   "id": "ab511afd",
   "metadata": {
    "execution": {
     "iopub.execute_input": "2023-06-03T11:04:07.259061Z",
     "iopub.status.busy": "2023-06-03T11:04:07.258714Z",
     "iopub.status.idle": "2023-06-03T11:04:07.274308Z",
     "shell.execute_reply": "2023-06-03T11:04:07.273489Z"
    },
    "papermill": {
     "duration": 0.045503,
     "end_time": "2023-06-03T11:04:07.276511",
     "exception": false,
     "start_time": "2023-06-03T11:04:07.231008",
     "status": "completed"
    },
    "tags": []
   },
   "outputs": [],
   "source": [
    "# Reshape the tensor to have 4 dimensions\n",
    "from tensorflow.keras.layers import Reshape\n",
    "reshape = Reshape((16, 16, 8))(rn152)"
   ]
  },
  {
   "cell_type": "code",
   "execution_count": 11,
   "id": "84046137",
   "metadata": {
    "execution": {
     "iopub.execute_input": "2023-06-03T11:04:07.330841Z",
     "iopub.status.busy": "2023-06-03T11:04:07.330526Z",
     "iopub.status.idle": "2023-06-03T11:04:07.421812Z",
     "shell.execute_reply": "2023-06-03T11:04:07.420952Z"
    },
    "id": "x8mS99J5SYbT",
    "papermill": {
     "duration": 0.120824,
     "end_time": "2023-06-03T11:04:07.424159",
     "exception": false,
     "start_time": "2023-06-03T11:04:07.303335",
     "status": "completed"
    },
    "tags": []
   },
   "outputs": [],
   "source": [
    "# Add convolutional layers with Channel Attention\n",
    "conv = Conv2D(filters=128, kernel_size=(7, 7), activation=\"relu\", padding=\"same\", kernel_initializer='he_normal')(reshape)\n",
    "conv = BatchNormalization()(conv)\n",
    "conv = Conv2D(filters=128, kernel_size=(5, 5), activation=\"relu\", padding=\"same\", kernel_initializer='he_normal')(conv)\n",
    "conv = BatchNormalization()(conv)\n",
    "conv = Conv2D(filters=128, kernel_size=(3, 3), activation=\"relu\", padding=\"same\", kernel_initializer='he_normal')(conv)\n",
    "conv = BatchNormalization()(conv)\n",
    "conv = Conv2D(filters=128, kernel_size=(1, 1), activation=\"relu\", padding=\"same\", kernel_initializer='he_normal')(conv)\n",
    "conv = BatchNormalization()(conv)"
   ]
  },
  {
   "cell_type": "code",
   "execution_count": 12,
   "id": "dca1609e",
   "metadata": {
    "execution": {
     "iopub.execute_input": "2023-06-03T11:04:07.478564Z",
     "iopub.status.busy": "2023-06-03T11:04:07.478272Z",
     "iopub.status.idle": "2023-06-03T11:04:07.519961Z",
     "shell.execute_reply": "2023-06-03T11:04:07.519123Z"
    },
    "papermill": {
     "duration": 0.071111,
     "end_time": "2023-06-03T11:04:07.522180",
     "exception": false,
     "start_time": "2023-06-03T11:04:07.451069",
     "status": "completed"
    },
    "tags": []
   },
   "outputs": [],
   "source": [
    "image_size_2 = 16\n",
    "from tensorflow.keras.layers import Reshape\n",
    "conv = Reshape(target_shape=(image_size_2, image_size_2, 128,))(conv)\n",
    "x = squeeze_excite_block(conv, 128, 128)  # use same number of filters as the input tensor"
   ]
  },
  {
   "cell_type": "code",
   "execution_count": 13,
   "id": "05b28420",
   "metadata": {
    "execution": {
     "iopub.execute_input": "2023-06-03T11:04:07.577033Z",
     "iopub.status.busy": "2023-06-03T11:04:07.576696Z",
     "iopub.status.idle": "2023-06-03T11:04:07.663359Z",
     "shell.execute_reply": "2023-06-03T11:04:07.662442Z"
    },
    "papermill": {
     "duration": 0.116945,
     "end_time": "2023-06-03T11:04:07.665612",
     "exception": false,
     "start_time": "2023-06-03T11:04:07.548667",
     "status": "completed"
    },
    "tags": []
   },
   "outputs": [],
   "source": [
    "# Add convolutional layers with Channel Attention\n",
    "conv = Conv2D(filters=128, kernel_size=(7, 7), activation=\"relu\", padding=\"same\", kernel_initializer='he_normal')(x)\n",
    "conv = BatchNormalization()(conv)\n",
    "conv = Conv2D(filters=128, kernel_size=(5, 5), activation=\"relu\", padding=\"same\", kernel_initializer='he_normal')(conv)\n",
    "conv = BatchNormalization()(conv)\n",
    "conv = Conv2D(filters=128, kernel_size=(3, 3), activation=\"relu\", padding=\"same\", kernel_initializer='he_normal')(conv)\n",
    "conv = BatchNormalization()(conv)\n",
    "conv = Conv2D(filters=128, kernel_size=(1, 1), activation=\"relu\", padding=\"same\", kernel_initializer='he_normal')(conv)\n",
    "conv = BatchNormalization()(conv)"
   ]
  },
  {
   "cell_type": "code",
   "execution_count": 14,
   "id": "9af7c4b6",
   "metadata": {
    "execution": {
     "iopub.execute_input": "2023-06-03T11:04:07.720801Z",
     "iopub.status.busy": "2023-06-03T11:04:07.719933Z",
     "iopub.status.idle": "2023-06-03T11:04:07.728682Z",
     "shell.execute_reply": "2023-06-03T11:04:07.727885Z"
    },
    "id": "wfhLPhssAm2S",
    "papermill": {
     "duration": 0.038499,
     "end_time": "2023-06-03T11:04:07.730898",
     "exception": false,
     "start_time": "2023-06-03T11:04:07.692399",
     "status": "completed"
    },
    "tags": []
   },
   "outputs": [],
   "source": [
    "conv=(MaxPooling2D(strides=(2, 2),padding=\"same\")(conv))"
   ]
  },
  {
   "cell_type": "code",
   "execution_count": 15,
   "id": "3ae79a56",
   "metadata": {
    "execution": {
     "iopub.execute_input": "2023-06-03T11:04:07.785186Z",
     "iopub.status.busy": "2023-06-03T11:04:07.784875Z",
     "iopub.status.idle": "2023-06-03T11:04:07.873877Z",
     "shell.execute_reply": "2023-06-03T11:04:07.872970Z"
    },
    "id": "sW4tKg9wSYbk",
    "papermill": {
     "duration": 0.118924,
     "end_time": "2023-06-03T11:04:07.876130",
     "exception": false,
     "start_time": "2023-06-03T11:04:07.757206",
     "status": "completed"
    },
    "tags": []
   },
   "outputs": [],
   "source": [
    "conv = Conv2D(filters=256,kernel_size=(7,7), activation=\"relu\",padding=\"same\",kernel_initializer='he_normal')(conv)\n",
    "conv = BatchNormalization()(conv)\n",
    "conv = Conv2D(filters=256,kernel_size=(5,5), activation=\"relu\",padding=\"same\",kernel_initializer='he_normal')(conv)\n",
    "conv = BatchNormalization()(conv)\n",
    "conv = Conv2D(filters=256,kernel_size=(3,3), activation=\"relu\",padding=\"same\",kernel_initializer='he_normal')(conv)\n",
    "conv = BatchNormalization()(conv)\n",
    "conv = Conv2D(filters=256,kernel_size=(1,1), activation=\"relu\",padding=\"same\",kernel_initializer='he_normal')(conv)\n",
    "conv = BatchNormalization()(conv)"
   ]
  },
  {
   "cell_type": "code",
   "execution_count": 16,
   "id": "1003da6b",
   "metadata": {
    "execution": {
     "iopub.execute_input": "2023-06-03T11:04:07.930992Z",
     "iopub.status.busy": "2023-06-03T11:04:07.930643Z",
     "iopub.status.idle": "2023-06-03T11:04:07.974638Z",
     "shell.execute_reply": "2023-06-03T11:04:07.973783Z"
    },
    "papermill": {
     "duration": 0.07404,
     "end_time": "2023-06-03T11:04:07.977115",
     "exception": false,
     "start_time": "2023-06-03T11:04:07.903075",
     "status": "completed"
    },
    "tags": []
   },
   "outputs": [],
   "source": [
    "image_size_3 = 8\n",
    "from tensorflow.keras.layers import Reshape\n",
    "conv = Reshape(target_shape=(image_size_3, image_size_3, 256,))(conv)\n",
    "x = squeeze_excite_block(conv, 256, 256)  # use same number of filters as the input tensor"
   ]
  },
  {
   "cell_type": "code",
   "execution_count": 17,
   "id": "a1e5a23e",
   "metadata": {
    "execution": {
     "iopub.execute_input": "2023-06-03T11:04:08.031338Z",
     "iopub.status.busy": "2023-06-03T11:04:08.031040Z",
     "iopub.status.idle": "2023-06-03T11:04:08.115234Z",
     "shell.execute_reply": "2023-06-03T11:04:08.114361Z"
    },
    "papermill": {
     "duration": 0.113648,
     "end_time": "2023-06-03T11:04:08.117414",
     "exception": false,
     "start_time": "2023-06-03T11:04:08.003766",
     "status": "completed"
    },
    "tags": []
   },
   "outputs": [],
   "source": [
    "conv = Conv2D(filters=256,kernel_size=(7,7), activation=\"relu\",padding=\"same\",kernel_initializer='he_normal')(x)\n",
    "conv = BatchNormalization()(conv)\n",
    "conv = Conv2D(filters=256,kernel_size=(5,5), activation=\"relu\",padding=\"same\",kernel_initializer='he_normal')(conv)\n",
    "conv = BatchNormalization()(conv)\n",
    "conv = Conv2D(filters=256,kernel_size=(3,3), activation=\"relu\",padding=\"same\",kernel_initializer='he_normal')(conv)\n",
    "conv = BatchNormalization()(conv)\n",
    "conv = Conv2D(filters=256,kernel_size=(1,1), activation=\"relu\",padding=\"same\",kernel_initializer='he_normal')(conv)\n",
    "conv = BatchNormalization()(conv)"
   ]
  },
  {
   "cell_type": "code",
   "execution_count": 18,
   "id": "849bf656",
   "metadata": {
    "execution": {
     "iopub.execute_input": "2023-06-03T11:04:08.172116Z",
     "iopub.status.busy": "2023-06-03T11:04:08.171297Z",
     "iopub.status.idle": "2023-06-03T11:04:08.179305Z",
     "shell.execute_reply": "2023-06-03T11:04:08.178463Z"
    },
    "id": "eo8E7RxUSYcW",
    "papermill": {
     "duration": 0.037266,
     "end_time": "2023-06-03T11:04:08.181246",
     "exception": false,
     "start_time": "2023-06-03T11:04:08.143980",
     "status": "completed"
    },
    "tags": []
   },
   "outputs": [],
   "source": [
    "conv=(MaxPooling2D(pool_size=(2, 2),padding=\"same\")(conv))"
   ]
  },
  {
   "cell_type": "code",
   "execution_count": 19,
   "id": "68815bc6",
   "metadata": {
    "execution": {
     "iopub.execute_input": "2023-06-03T11:04:08.236764Z",
     "iopub.status.busy": "2023-06-03T11:04:08.235166Z",
     "iopub.status.idle": "2023-06-03T11:04:08.241150Z",
     "shell.execute_reply": "2023-06-03T11:04:08.239917Z"
    },
    "papermill": {
     "duration": 0.035428,
     "end_time": "2023-06-03T11:04:08.243097",
     "exception": false,
     "start_time": "2023-06-03T11:04:08.207669",
     "status": "completed"
    },
    "tags": []
   },
   "outputs": [
    {
     "name": "stdout",
     "output_type": "stream",
     "text": [
      "7\n"
     ]
    }
   ],
   "source": [
    "num_classes = test_batches.num_classes\n",
    "print(num_classes)"
   ]
  },
  {
   "cell_type": "code",
   "execution_count": 20,
   "id": "b3080de4",
   "metadata": {
    "execution": {
     "iopub.execute_input": "2023-06-03T11:04:08.299830Z",
     "iopub.status.busy": "2023-06-03T11:04:08.297994Z",
     "iopub.status.idle": "2023-06-03T11:04:08.347556Z",
     "shell.execute_reply": "2023-06-03T11:04:08.346668Z"
    },
    "id": "-EdFxKdgSYcf",
    "papermill": {
     "duration": 0.080006,
     "end_time": "2023-06-03T11:04:08.349591",
     "exception": false,
     "start_time": "2023-06-03T11:04:08.269585",
     "status": "completed"
    },
    "tags": []
   },
   "outputs": [],
   "source": [
    "conv=(Flatten()(conv))\n",
    "conv=(Dense(1024,activation=\"relu\")(conv))\n",
    "conv=(Dense(512,activation=\"relu\")(conv))\n",
    "conv=(Dense(num_classes, activation=\"softmax\")(conv))\n",
    "\n",
    "model_rn152_sea = Model(inputs=MainInput, outputs=conv)"
   ]
  },
  {
   "cell_type": "code",
   "execution_count": 21,
   "id": "21f8c8d4",
   "metadata": {
    "execution": {
     "iopub.execute_input": "2023-06-03T11:04:08.405778Z",
     "iopub.status.busy": "2023-06-03T11:04:08.404972Z",
     "iopub.status.idle": "2023-06-03T11:04:08.598924Z",
     "shell.execute_reply": "2023-06-03T11:04:08.597456Z"
    },
    "id": "ba8ajOckSYcl",
    "outputId": "e69fa749-4741-4f49-ae3e-9f5479e809a8",
    "papermill": {
     "duration": 0.243433,
     "end_time": "2023-06-03T11:04:08.620975",
     "exception": false,
     "start_time": "2023-06-03T11:04:08.377542",
     "status": "completed"
    },
    "tags": []
   },
   "outputs": [
    {
     "name": "stdout",
     "output_type": "stream",
     "text": [
      "Model: \"model\"\n",
      "__________________________________________________________________________________________________\n",
      " Layer (type)                   Output Shape         Param #     Connected to                     \n",
      "==================================================================================================\n",
      " input_2 (InputLayer)           [(None, 224, 224, 3  0           []                               \n",
      "                                )]                                                                \n",
      "                                                                                                  \n",
      " resnet152 (Functional)         (None, 2048)         58370944    ['input_2[0][0]']                \n",
      "                                                                                                  \n",
      " reshape (Reshape)              (None, 16, 16, 8)    0           ['resnet152[0][0]']              \n",
      "                                                                                                  \n",
      " conv2d (Conv2D)                (None, 16, 16, 128)  50304       ['reshape[0][0]']                \n",
      "                                                                                                  \n",
      " batch_normalization (BatchNorm  (None, 16, 16, 128)  512        ['conv2d[0][0]']                 \n",
      " alization)                                                                                       \n",
      "                                                                                                  \n",
      " conv2d_1 (Conv2D)              (None, 16, 16, 128)  409728      ['batch_normalization[0][0]']    \n",
      "                                                                                                  \n",
      " batch_normalization_1 (BatchNo  (None, 16, 16, 128)  512        ['conv2d_1[0][0]']               \n",
      " rmalization)                                                                                     \n",
      "                                                                                                  \n",
      " conv2d_2 (Conv2D)              (None, 16, 16, 128)  147584      ['batch_normalization_1[0][0]']  \n",
      "                                                                                                  \n",
      " batch_normalization_2 (BatchNo  (None, 16, 16, 128)  512        ['conv2d_2[0][0]']               \n",
      " rmalization)                                                                                     \n",
      "                                                                                                  \n",
      " conv2d_3 (Conv2D)              (None, 16, 16, 128)  16512       ['batch_normalization_2[0][0]']  \n",
      "                                                                                                  \n",
      " batch_normalization_3 (BatchNo  (None, 16, 16, 128)  512        ['conv2d_3[0][0]']               \n",
      " rmalization)                                                                                     \n",
      "                                                                                                  \n",
      " reshape_1 (Reshape)            (None, 16, 16, 128)  0           ['batch_normalization_3[0][0]']  \n",
      "                                                                                                  \n",
      " global_average_pooling2d (Glob  (None, 128)         0           ['reshape_1[0][0]']              \n",
      " alAveragePooling2D)                                                                              \n",
      "                                                                                                  \n",
      " dense (Dense)                  (None, 1)            129         ['global_average_pooling2d[0][0]'\n",
      "                                                                 ]                                \n",
      "                                                                                                  \n",
      " dense_1 (Dense)                (None, 128)          256         ['dense[0][0]']                  \n",
      "                                                                                                  \n",
      " multiply (Multiply)            (None, 16, 16, 128)  0           ['reshape_1[0][0]',              \n",
      "                                                                  'dense_1[0][0]']                \n",
      "                                                                                                  \n",
      " conv2d_4 (Conv2D)              (None, 16, 16, 128)  802944      ['multiply[0][0]']               \n",
      "                                                                                                  \n",
      " batch_normalization_4 (BatchNo  (None, 16, 16, 128)  512        ['conv2d_4[0][0]']               \n",
      " rmalization)                                                                                     \n",
      "                                                                                                  \n",
      " conv2d_5 (Conv2D)              (None, 16, 16, 128)  409728      ['batch_normalization_4[0][0]']  \n",
      "                                                                                                  \n",
      " batch_normalization_5 (BatchNo  (None, 16, 16, 128)  512        ['conv2d_5[0][0]']               \n",
      " rmalization)                                                                                     \n",
      "                                                                                                  \n",
      " conv2d_6 (Conv2D)              (None, 16, 16, 128)  147584      ['batch_normalization_5[0][0]']  \n",
      "                                                                                                  \n",
      " batch_normalization_6 (BatchNo  (None, 16, 16, 128)  512        ['conv2d_6[0][0]']               \n",
      " rmalization)                                                                                     \n",
      "                                                                                                  \n",
      " conv2d_7 (Conv2D)              (None, 16, 16, 128)  16512       ['batch_normalization_6[0][0]']  \n",
      "                                                                                                  \n",
      " batch_normalization_7 (BatchNo  (None, 16, 16, 128)  512        ['conv2d_7[0][0]']               \n",
      " rmalization)                                                                                     \n",
      "                                                                                                  \n",
      " max_pooling2d (MaxPooling2D)   (None, 8, 8, 128)    0           ['batch_normalization_7[0][0]']  \n",
      "                                                                                                  \n",
      " conv2d_8 (Conv2D)              (None, 8, 8, 256)    1605888     ['max_pooling2d[0][0]']          \n",
      "                                                                                                  \n",
      " batch_normalization_8 (BatchNo  (None, 8, 8, 256)   1024        ['conv2d_8[0][0]']               \n",
      " rmalization)                                                                                     \n",
      "                                                                                                  \n",
      " conv2d_9 (Conv2D)              (None, 8, 8, 256)    1638656     ['batch_normalization_8[0][0]']  \n",
      "                                                                                                  \n",
      " batch_normalization_9 (BatchNo  (None, 8, 8, 256)   1024        ['conv2d_9[0][0]']               \n",
      " rmalization)                                                                                     \n",
      "                                                                                                  \n",
      " conv2d_10 (Conv2D)             (None, 8, 8, 256)    590080      ['batch_normalization_9[0][0]']  \n",
      "                                                                                                  \n",
      " batch_normalization_10 (BatchN  (None, 8, 8, 256)   1024        ['conv2d_10[0][0]']              \n",
      " ormalization)                                                                                    \n",
      "                                                                                                  \n",
      " conv2d_11 (Conv2D)             (None, 8, 8, 256)    65792       ['batch_normalization_10[0][0]'] \n",
      "                                                                                                  \n",
      " batch_normalization_11 (BatchN  (None, 8, 8, 256)   1024        ['conv2d_11[0][0]']              \n",
      " ormalization)                                                                                    \n",
      "                                                                                                  \n",
      " reshape_2 (Reshape)            (None, 8, 8, 256)    0           ['batch_normalization_11[0][0]'] \n",
      "                                                                                                  \n",
      " global_average_pooling2d_1 (Gl  (None, 256)         0           ['reshape_2[0][0]']              \n",
      " obalAveragePooling2D)                                                                            \n",
      "                                                                                                  \n",
      " dense_2 (Dense)                (None, 1)            257         ['global_average_pooling2d_1[0][0\n",
      "                                                                 ]']                              \n",
      "                                                                                                  \n",
      " dense_3 (Dense)                (None, 256)          512         ['dense_2[0][0]']                \n",
      "                                                                                                  \n",
      " multiply_1 (Multiply)          (None, 8, 8, 256)    0           ['reshape_2[0][0]',              \n",
      "                                                                  'dense_3[0][0]']                \n",
      "                                                                                                  \n",
      " conv2d_12 (Conv2D)             (None, 8, 8, 256)    3211520     ['multiply_1[0][0]']             \n",
      "                                                                                                  \n",
      " batch_normalization_12 (BatchN  (None, 8, 8, 256)   1024        ['conv2d_12[0][0]']              \n",
      " ormalization)                                                                                    \n",
      "                                                                                                  \n",
      " conv2d_13 (Conv2D)             (None, 8, 8, 256)    1638656     ['batch_normalization_12[0][0]'] \n",
      "                                                                                                  \n",
      " batch_normalization_13 (BatchN  (None, 8, 8, 256)   1024        ['conv2d_13[0][0]']              \n",
      " ormalization)                                                                                    \n",
      "                                                                                                  \n",
      " conv2d_14 (Conv2D)             (None, 8, 8, 256)    590080      ['batch_normalization_13[0][0]'] \n",
      "                                                                                                  \n",
      " batch_normalization_14 (BatchN  (None, 8, 8, 256)   1024        ['conv2d_14[0][0]']              \n",
      " ormalization)                                                                                    \n",
      "                                                                                                  \n",
      " conv2d_15 (Conv2D)             (None, 8, 8, 256)    65792       ['batch_normalization_14[0][0]'] \n",
      "                                                                                                  \n",
      " batch_normalization_15 (BatchN  (None, 8, 8, 256)   1024        ['conv2d_15[0][0]']              \n",
      " ormalization)                                                                                    \n",
      "                                                                                                  \n",
      " max_pooling2d_1 (MaxPooling2D)  (None, 4, 4, 256)   0           ['batch_normalization_15[0][0]'] \n",
      "                                                                                                  \n",
      " flatten (Flatten)              (None, 4096)         0           ['max_pooling2d_1[0][0]']        \n",
      "                                                                                                  \n",
      " dense_4 (Dense)                (None, 1024)         4195328     ['flatten[0][0]']                \n",
      "                                                                                                  \n",
      " dense_5 (Dense)                (None, 512)          524800      ['dense_4[0][0]']                \n",
      "                                                                                                  \n",
      " dense_6 (Dense)                (None, 7)            3591        ['dense_5[0][0]']                \n",
      "                                                                                                  \n",
      "==================================================================================================\n",
      "Total params: 74,515,465\n",
      "Trainable params: 74,357,897\n",
      "Non-trainable params: 157,568\n",
      "__________________________________________________________________________________________________\n"
     ]
    }
   ],
   "source": [
    "model_rn152_sea.summary()"
   ]
  },
  {
   "cell_type": "code",
   "execution_count": 22,
   "id": "c5a805d9",
   "metadata": {
    "execution": {
     "iopub.execute_input": "2023-06-03T11:04:08.697063Z",
     "iopub.status.busy": "2023-06-03T11:04:08.696718Z",
     "iopub.status.idle": "2023-06-03T11:04:08.729211Z",
     "shell.execute_reply": "2023-06-03T11:04:08.728314Z"
    },
    "id": "WR0fUpy18vAZ",
    "papermill": {
     "duration": 0.073389,
     "end_time": "2023-06-03T11:04:08.731556",
     "exception": false,
     "start_time": "2023-06-03T11:04:08.658167",
     "status": "completed"
    },
    "tags": []
   },
   "outputs": [],
   "source": [
    "opt1=tf.keras.optimizers.Adam(learning_rate=0.001,epsilon=0.1)\n",
    "model_rn152_sea.compile(optimizer=opt1,\n",
    "             loss='categorical_crossentropy',\n",
    "             metrics=['accuracy'])"
   ]
  },
  {
   "cell_type": "code",
   "execution_count": 23,
   "id": "5c2bdc1f",
   "metadata": {
    "execution": {
     "iopub.execute_input": "2023-06-03T11:04:08.805023Z",
     "iopub.status.busy": "2023-06-03T11:04:08.804673Z",
     "iopub.status.idle": "2023-06-03T11:04:08.809617Z",
     "shell.execute_reply": "2023-06-03T11:04:08.808609Z"
    },
    "id": "LAf5ha295reS",
    "papermill": {
     "duration": 0.044332,
     "end_time": "2023-06-03T11:04:08.811946",
     "exception": false,
     "start_time": "2023-06-03T11:04:08.767614",
     "status": "completed"
    },
    "tags": []
   },
   "outputs": [],
   "source": [
    "class_weights = {   \n",
    "                    0: 1.0,  # akiec\n",
    "                    1: 1.0,  # bcc\n",
    "                    2: 1.0,  # bkl\n",
    "                    3: 1.0,  # df\n",
    "                    4: 1.0,  # mel\n",
    "                    5: 1.0,  # nv\n",
    "                    6: 1.0  # vasc\n",
    "                }"
   ]
  },
  {
   "cell_type": "code",
   "execution_count": 24,
   "id": "88e2da20",
   "metadata": {
    "execution": {
     "iopub.execute_input": "2023-06-03T11:04:08.885243Z",
     "iopub.status.busy": "2023-06-03T11:04:08.884949Z",
     "iopub.status.idle": "2023-06-03T11:04:08.890294Z",
     "shell.execute_reply": "2023-06-03T11:04:08.889416Z"
    },
    "papermill": {
     "duration": 0.044551,
     "end_time": "2023-06-03T11:04:08.892321",
     "exception": false,
     "start_time": "2023-06-03T11:04:08.847770",
     "status": "completed"
    },
    "tags": []
   },
   "outputs": [],
   "source": [
    "checkpoint = ModelCheckpoint(filepath ='RN152_SEA.hdf5', monitor='val_accuracy', save_best_only=True, save_weights_only=True)\n",
    "Earlystop = EarlyStopping(monitor='val_accuracy', mode='max', patience=25, min_delta=0.01)"
   ]
  },
  {
   "cell_type": "code",
   "execution_count": 25,
   "id": "55b014f6",
   "metadata": {
    "execution": {
     "iopub.execute_input": "2023-06-03T11:04:08.964993Z",
     "iopub.status.busy": "2023-06-03T11:04:08.964668Z",
     "iopub.status.idle": "2023-06-03T18:15:55.668276Z",
     "shell.execute_reply": "2023-06-03T18:15:55.667345Z"
    },
    "id": "NUzTmiZ-8hL3",
    "outputId": "e1825ff2-9f9c-436f-cf2c-9776af8eee62",
    "papermill": {
     "duration": 25906.776567,
     "end_time": "2023-06-03T18:15:55.704694",
     "exception": false,
     "start_time": "2023-06-03T11:04:08.928127",
     "status": "completed"
    },
    "tags": []
   },
   "outputs": [
    {
     "name": "stdout",
     "output_type": "stream",
     "text": [
      "Epoch 1/50\n",
      "3424/3424 - 1059s - loss: 1.2848 - accuracy: 0.5042 - val_loss: 0.4741 - val_accuracy: 0.8537 - 1059s/epoch - 309ms/step\n",
      "Epoch 2/50\n",
      "3424/3424 - 916s - loss: 0.5207 - accuracy: 0.8146 - val_loss: 0.3487 - val_accuracy: 0.8730 - 916s/epoch - 268ms/step\n",
      "Epoch 3/50\n",
      "3424/3424 - 917s - loss: 0.2921 - accuracy: 0.8955 - val_loss: 0.2872 - val_accuracy: 0.9069 - 917s/epoch - 268ms/step\n",
      "Epoch 4/50\n",
      "3424/3424 - 915s - loss: 0.1849 - accuracy: 0.9345 - val_loss: 0.3380 - val_accuracy: 0.9057 - 915s/epoch - 267ms/step\n",
      "Epoch 5/50\n",
      "3424/3424 - 916s - loss: 0.1275 - accuracy: 0.9557 - val_loss: 0.4094 - val_accuracy: 0.8900 - 916s/epoch - 267ms/step\n",
      "Epoch 6/50\n",
      "3424/3424 - 916s - loss: 0.0920 - accuracy: 0.9681 - val_loss: 0.4743 - val_accuracy: 0.8851 - 916s/epoch - 267ms/step\n",
      "Epoch 7/50\n",
      "3424/3424 - 915s - loss: 0.0656 - accuracy: 0.9766 - val_loss: 0.4423 - val_accuracy: 0.8972 - 915s/epoch - 267ms/step\n",
      "Epoch 8/50\n",
      "3424/3424 - 916s - loss: 0.0535 - accuracy: 0.9815 - val_loss: 0.4650 - val_accuracy: 0.9008 - 916s/epoch - 267ms/step\n",
      "Epoch 9/50\n",
      "3424/3424 - 915s - loss: 0.0352 - accuracy: 0.9880 - val_loss: 0.4174 - val_accuracy: 0.9057 - 915s/epoch - 267ms/step\n",
      "Epoch 10/50\n",
      "3424/3424 - 915s - loss: 0.0354 - accuracy: 0.9882 - val_loss: 0.4440 - val_accuracy: 0.9081 - 915s/epoch - 267ms/step\n",
      "Epoch 11/50\n",
      "3424/3424 - 916s - loss: 0.0272 - accuracy: 0.9907 - val_loss: 0.4270 - val_accuracy: 0.9154 - 916s/epoch - 267ms/step\n",
      "Epoch 12/50\n",
      "3424/3424 - 915s - loss: 0.0264 - accuracy: 0.9910 - val_loss: 0.5297 - val_accuracy: 0.9069 - 915s/epoch - 267ms/step\n",
      "Epoch 13/50\n",
      "3424/3424 - 914s - loss: 0.0216 - accuracy: 0.9928 - val_loss: 0.4999 - val_accuracy: 0.8996 - 914s/epoch - 267ms/step\n",
      "Epoch 14/50\n",
      "3424/3424 - 914s - loss: 0.0186 - accuracy: 0.9938 - val_loss: 0.4631 - val_accuracy: 0.9008 - 914s/epoch - 267ms/step\n",
      "Epoch 15/50\n",
      "3424/3424 - 915s - loss: 0.0178 - accuracy: 0.9941 - val_loss: 0.5531 - val_accuracy: 0.9021 - 915s/epoch - 267ms/step\n",
      "Epoch 16/50\n",
      "3424/3424 - 913s - loss: 0.0169 - accuracy: 0.9943 - val_loss: 0.4727 - val_accuracy: 0.9081 - 913s/epoch - 267ms/step\n",
      "Epoch 17/50\n",
      "3424/3424 - 913s - loss: 0.0137 - accuracy: 0.9952 - val_loss: 0.5948 - val_accuracy: 0.8936 - 913s/epoch - 267ms/step\n",
      "Epoch 18/50\n",
      "3424/3424 - 914s - loss: 0.0111 - accuracy: 0.9964 - val_loss: 0.5379 - val_accuracy: 0.9045 - 914s/epoch - 267ms/step\n",
      "Epoch 19/50\n",
      "3424/3424 - 914s - loss: 0.0109 - accuracy: 0.9963 - val_loss: 0.5892 - val_accuracy: 0.8972 - 914s/epoch - 267ms/step\n",
      "Epoch 20/50\n",
      "3424/3424 - 914s - loss: 0.0117 - accuracy: 0.9964 - val_loss: 0.5528 - val_accuracy: 0.9045 - 914s/epoch - 267ms/step\n",
      "Epoch 21/50\n",
      "3424/3424 - 913s - loss: 0.0096 - accuracy: 0.9966 - val_loss: 0.5351 - val_accuracy: 0.9057 - 913s/epoch - 267ms/step\n",
      "Epoch 22/50\n",
      "3424/3424 - 912s - loss: 0.0108 - accuracy: 0.9964 - val_loss: 0.5629 - val_accuracy: 0.8948 - 912s/epoch - 266ms/step\n",
      "Epoch 23/50\n",
      "3424/3424 - 914s - loss: 0.0091 - accuracy: 0.9968 - val_loss: 0.4922 - val_accuracy: 0.9069 - 914s/epoch - 267ms/step\n",
      "Epoch 24/50\n",
      "3424/3424 - 914s - loss: 0.0063 - accuracy: 0.9980 - val_loss: 0.5366 - val_accuracy: 0.9069 - 914s/epoch - 267ms/step\n",
      "Epoch 25/50\n",
      "3424/3424 - 911s - loss: 0.0072 - accuracy: 0.9977 - val_loss: 0.5308 - val_accuracy: 0.9081 - 911s/epoch - 266ms/step\n",
      "Epoch 26/50\n",
      "3424/3424 - 913s - loss: 0.0070 - accuracy: 0.9980 - val_loss: 0.5678 - val_accuracy: 0.9129 - 913s/epoch - 267ms/step\n",
      "Epoch 27/50\n",
      "3424/3424 - 913s - loss: 0.0086 - accuracy: 0.9972 - val_loss: 0.5485 - val_accuracy: 0.9033 - 913s/epoch - 267ms/step\n",
      "Epoch 28/50\n",
      "3424/3424 - 914s - loss: 0.0055 - accuracy: 0.9982 - val_loss: 0.6153 - val_accuracy: 0.8984 - 914s/epoch - 267ms/step\n"
     ]
    }
   ],
   "source": [
    "history = model_rn152_sea.fit(train_batches,\n",
    "                         epochs=50,\n",
    "                         verbose=2,\n",
    "                         validation_data=val_batches,\n",
    "                         callbacks=[checkpoint,Earlystop],\n",
    "                         class_weight=class_weights)"
   ]
  },
  {
   "cell_type": "markdown",
   "id": "ac669467",
   "metadata": {
    "papermill": {
     "duration": 0.039675,
     "end_time": "2023-06-03T18:15:55.785051",
     "exception": false,
     "start_time": "2023-06-03T18:15:55.745376",
     "status": "completed"
    },
    "tags": []
   },
   "source": [
    "### Plotting accuracy and loss"
   ]
  },
  {
   "cell_type": "code",
   "execution_count": 26,
   "id": "1b068e35",
   "metadata": {
    "execution": {
     "iopub.execute_input": "2023-06-03T18:15:55.866905Z",
     "iopub.status.busy": "2023-06-03T18:15:55.866020Z",
     "iopub.status.idle": "2023-06-03T18:16:03.674342Z",
     "shell.execute_reply": "2023-06-03T18:16:03.673407Z"
    },
    "papermill": {
     "duration": 7.852224,
     "end_time": "2023-06-03T18:16:03.676851",
     "exception": false,
     "start_time": "2023-06-03T18:15:55.824627",
     "status": "completed"
    },
    "tags": []
   },
   "outputs": [
    {
     "name": "stdout",
     "output_type": "stream",
     "text": [
      "Number of epochs trained: 28\n"
     ]
    },
    {
     "data": {
      "image/png": "[encoded data removed]",
      "text/plain": [
       "<Figure size 1500x500 with 2 Axes>"
      ]
     },
     "metadata": {},
     "output_type": "display_data"
    }
   ],
   "source": [
    "# Determine number of epochs trained\n",
    "num_epochs_trained = len(history.history['val_loss'])\n",
    "print(f\"Number of epochs trained: {num_epochs_trained}\")\n",
    "\n",
    "## History plotting\n",
    "epochs = [i for i in range(num_epochs_trained)]\n",
    "fig , ax = plt.subplots(1,2)\n",
    "train_acc = history.history['accuracy']\n",
    "train_loss = history.history['loss']\n",
    "val_acc = history.history['val_accuracy']\n",
    "val_loss = history.history['val_loss']\n",
    "fig.set_size_inches(15,5)\n",
    "\n",
    "ax[0].plot(epochs , train_acc , 'go-' , label = 'Training Accuracy')\n",
    "ax[0].plot(epochs , val_acc , 'ro-' , label = 'Validation Accuracy')\n",
    "title_font = {'fontname':'Times New Roman', 'size':'14', 'color':'black', 'weight':'normal'}\n",
    "ax[0].set_title('Model Accuracy', fontdict=title_font)\n",
    "legend_font = {'family': 'Times New Roman', 'size': '12', 'weight': 'normal'}\n",
    "ax[0].legend(prop=legend_font)\n",
    "label_font = {'fontname':'Times New Roman', 'size':'12', 'color':'black', 'weight':'normal'}\n",
    "ax[0].set_xlabel(\"Epochs\",  fontdict=label_font)\n",
    "ax[0].set_ylabel(\"Accuracy\",  fontdict=label_font)\n",
    "\n",
    "ax[1].plot(epochs , train_loss , 'g-o' , label = 'Training Loss')\n",
    "ax[1].plot(epochs , val_loss , 'r-o' , label = 'Validation Loss')\n",
    "ax[1].set_title('Model Loss', fontdict=title_font)\n",
    "ax[1].legend(prop=legend_font)\n",
    "ax[1].set_xlabel(\"Epochs\", fontdict=label_font)\n",
    "ax[1].set_ylabel(\"Loss\", fontdict=label_font)\n",
    "plt.show()"
   ]
  },
  {
   "cell_type": "code",
   "execution_count": 27,
   "id": "238ca6f9",
   "metadata": {
    "execution": {
     "iopub.execute_input": "2023-06-03T18:16:03.761553Z",
     "iopub.status.busy": "2023-06-03T18:16:03.761205Z",
     "iopub.status.idle": "2023-06-03T18:16:04.770781Z",
     "shell.execute_reply": "2023-06-03T18:16:04.769794Z"
    },
    "id": "zm_AewFBXTj8",
    "papermill": {
     "duration": 1.054195,
     "end_time": "2023-06-03T18:16:04.773109",
     "exception": false,
     "start_time": "2023-06-03T18:16:03.718914",
     "status": "completed"
    },
    "tags": []
   },
   "outputs": [],
   "source": [
    "from tensorflow.keras import models\n",
    "model_rn152_sea.load_weights(\"RN152_SEA.hdf5\")"
   ]
  },
  {
   "cell_type": "code",
   "execution_count": 28,
   "id": "cce8e300",
   "metadata": {
    "execution": {
     "iopub.execute_input": "2023-06-03T18:16:04.860937Z",
     "iopub.status.busy": "2023-06-03T18:16:04.859877Z",
     "iopub.status.idle": "2023-06-03T18:16:23.128128Z",
     "shell.execute_reply": "2023-06-03T18:16:23.127107Z"
    },
    "papermill": {
     "duration": 18.315439,
     "end_time": "2023-06-03T18:16:23.130661",
     "exception": false,
     "start_time": "2023-06-03T18:16:04.815222",
     "status": "completed"
    },
    "tags": []
   },
   "outputs": [
    {
     "name": "stdout",
     "output_type": "stream",
     "text": [
      "52/52 [==============================] - 18s 282ms/step\n"
     ]
    }
   ],
   "source": [
    "predictions = model_rn152_sea.predict(test_batches)"
   ]
  },
  {
   "cell_type": "code",
   "execution_count": 29,
   "id": "d4c2cd2b",
   "metadata": {
    "execution": {
     "iopub.execute_input": "2023-06-03T18:16:23.224752Z",
     "iopub.status.busy": "2023-06-03T18:16:23.224106Z",
     "iopub.status.idle": "2023-06-03T18:16:23.230301Z",
     "shell.execute_reply": "2023-06-03T18:16:23.229427Z"
    },
    "id": "FDTMtBeTdBfU",
    "papermill": {
     "duration": 0.054923,
     "end_time": "2023-06-03T18:16:23.232343",
     "exception": false,
     "start_time": "2023-06-03T18:16:23.177420",
     "status": "completed"
    },
    "tags": []
   },
   "outputs": [],
   "source": [
    "#geting predictions on test dataset\n",
    "y_pred = np.argmax(predictions, axis=1)\n",
    "#getting the true labels per image \n",
    "y_true = test_batches.classes\n",
    "#getting the predicted labels per image \n",
    "y_prob = predictions"
   ]
  },
  {
   "cell_type": "code",
   "execution_count": 30,
   "id": "c550a19e",
   "metadata": {
    "execution": {
     "iopub.execute_input": "2023-06-03T18:16:23.325946Z",
     "iopub.status.busy": "2023-06-03T18:16:23.324074Z",
     "iopub.status.idle": "2023-06-03T18:16:23.343290Z",
     "shell.execute_reply": "2023-06-03T18:16:23.341590Z"
    },
    "papermill": {
     "duration": 0.067572,
     "end_time": "2023-06-03T18:16:23.345647",
     "exception": false,
     "start_time": "2023-06-03T18:16:23.278075",
     "status": "completed"
    },
    "tags": []
   },
   "outputs": [
    {
     "name": "stdout",
     "output_type": "stream",
     "text": [
      "\n",
      "Classification Report:\n",
      "              precision    recall  f1-score   support\n",
      "\n",
      "          AK       0.71      0.55      0.62        22\n",
      "         BCC       0.69      0.74      0.71        27\n",
      "         BKL       0.69      0.65      0.67        66\n",
      "          DF       1.00      1.00      1.00         6\n",
      "         MEL       0.67      0.46      0.54        35\n",
      "          NV       0.96      0.98      0.97       663\n",
      "        VASC       0.90      1.00      0.95         9\n",
      "\n",
      "    accuracy                           0.91       828\n",
      "   macro avg       0.80      0.77      0.78       828\n",
      "weighted avg       0.91      0.91      0.91       828\n",
      "\n"
     ]
    }
   ],
   "source": [
    "classnames = ['AK', 'BCC', 'BKL', 'DF', 'MEL', 'NV', 'VASC']\n",
    "\n",
    "from tensorflow.keras.utils import to_categorical\n",
    "y_test = to_categorical(y_true)\n",
    "\n",
    "report = classification_report(y_true, y_pred, target_names=classnames)\n",
    "\n",
    "print(\"\\nClassification Report:\")\n",
    "print(report)"
   ]
  },
  {
   "cell_type": "code",
   "execution_count": 31,
   "id": "345926ac",
   "metadata": {
    "execution": {
     "iopub.execute_input": "2023-06-03T18:16:23.439419Z",
     "iopub.status.busy": "2023-06-03T18:16:23.439069Z",
     "iopub.status.idle": "2023-06-03T18:16:24.030565Z",
     "shell.execute_reply": "2023-06-03T18:16:24.029692Z"
    },
    "papermill": {
     "duration": 0.639954,
     "end_time": "2023-06-03T18:16:24.032680",
     "exception": false,
     "start_time": "2023-06-03T18:16:23.392726",
     "status": "completed"
    },
    "tags": []
   },
   "outputs": [
    {
     "data": {
      "image/png": "[encoded data removed]",
      "text/plain": [
       "<Figure size 1000x400 with 2 Axes>"
      ]
     },
     "metadata": {},
     "output_type": "display_data"
    }
   ],
   "source": [
    "## Confusion Matrix\n",
    "title_font = {'fontname':'Times New Roman', 'size':'14', 'color':'black', 'weight':'normal'}\n",
    "label_font = {'fontname':'Times New Roman', 'size':'12', 'color':'black', 'weight':'normal'}\n",
    "\n",
    "from sklearn.metrics import confusion_matrix\n",
    "import seaborn as sns\n",
    "# Creating confusion matrix \n",
    "cm = confusion_matrix(y_true, y_pred)\n",
    "# Plotting the confusion matrix\n",
    "plt.figure(figsize=(10,4))\n",
    "sns.heatmap(cm, annot=True, fmt='g', cmap='Blues', xticklabels=targetnames, yticklabels=targetnames)\n",
    "plt.xlabel('Predicted Label', fontdict=label_font)\n",
    "plt.ylabel('True Label', fontdict=label_font)\n",
    "plt.title('Confusion Matrix', fontdict=title_font)\n",
    "plt.show()"
   ]
  },
  {
   "cell_type": "markdown",
   "id": "4a727e83",
   "metadata": {
    "papermill": {
     "duration": 0.044504,
     "end_time": "2023-06-03T18:16:24.122574",
     "exception": false,
     "start_time": "2023-06-03T18:16:24.078070",
     "status": "completed"
    },
    "tags": []
   },
   "source": [
    "## Results"
   ]
  },
  {
   "cell_type": "markdown",
   "id": "9cf891d1",
   "metadata": {
    "papermill": {
     "duration": 0.045593,
     "end_time": "2023-06-03T18:16:24.213457",
     "exception": false,
     "start_time": "2023-06-03T18:16:24.167864",
     "status": "completed"
    },
    "tags": []
   },
   "source": [
    "### Individual Class Accuracy "
   ]
  },
  {
   "cell_type": "code",
   "execution_count": 32,
   "id": "42f9ff4a",
   "metadata": {
    "execution": {
     "iopub.execute_input": "2023-06-03T18:16:24.304726Z",
     "iopub.status.busy": "2023-06-03T18:16:24.304396Z",
     "iopub.status.idle": "2023-06-03T18:16:24.312491Z",
     "shell.execute_reply": "2023-06-03T18:16:24.311363Z"
    },
    "papermill": {
     "duration": 0.056035,
     "end_time": "2023-06-03T18:16:24.314542",
     "exception": false,
     "start_time": "2023-06-03T18:16:24.258507",
     "status": "completed"
    },
    "tags": []
   },
   "outputs": [
    {
     "name": "stdout",
     "output_type": "stream",
     "text": [
      "Overall accuracy: 91.30%\n",
      "Accuracy for each class:\n",
      "Class 0: 54.55%\n",
      "Class 1: 74.07%\n",
      "Class 2: 65.15%\n",
      "Class 3: 100.00%\n",
      "Class 4: 45.71%\n",
      "Class 5: 98.04%\n",
      "Class 6: 100.00%\n"
     ]
    }
   ],
   "source": [
    "# y_true are the true labels of the test set\n",
    "# y_pred are the predicted labels of the test set\n",
    "accuracy = accuracy_score(y_true, y_pred)\n",
    "# Calculate accuracy for each class\n",
    "class_accuracy = cm.diagonal()/cm.sum(axis=1)\n",
    "print(\"Overall accuracy: {:.2f}%\".format(accuracy*100))\n",
    "print(\"Accuracy for each class:\")\n",
    "for i, acc in enumerate(class_accuracy):\n",
    "    print(\"Class {}: {:.2f}%\".format(i, acc*100))"
   ]
  },
  {
   "cell_type": "markdown",
   "id": "baedab85",
   "metadata": {
    "papermill": {
     "duration": 0.044426,
     "end_time": "2023-06-03T18:16:24.404309",
     "exception": false,
     "start_time": "2023-06-03T18:16:24.359883",
     "status": "completed"
    },
    "tags": []
   },
   "source": [
    "### Individual Class Weighted Precision"
   ]
  },
  {
   "cell_type": "code",
   "execution_count": 33,
   "id": "af7dea80",
   "metadata": {
    "execution": {
     "iopub.execute_input": "2023-06-03T18:16:24.498776Z",
     "iopub.status.busy": "2023-06-03T18:16:24.498454Z",
     "iopub.status.idle": "2023-06-03T18:16:24.515238Z",
     "shell.execute_reply": "2023-06-03T18:16:24.513762Z"
    },
    "papermill": {
     "duration": 0.067993,
     "end_time": "2023-06-03T18:16:24.517407",
     "exception": false,
     "start_time": "2023-06-03T18:16:24.449414",
     "status": "completed"
    },
    "tags": []
   },
   "outputs": [
    {
     "name": "stdout",
     "output_type": "stream",
     "text": [
      "Weighted precision for each class:\n",
      "Class 0: 70.59%\n",
      "Class 1: 68.97%\n",
      "Class 2: 69.35%\n",
      "Class 3: 100.00%\n",
      "Class 4: 66.67%\n",
      "Class 5: 95.59%\n",
      "Class 6: 90.00%\n",
      "Weighted precision: 90.71%\n"
     ]
    }
   ],
   "source": [
    "report = classification_report(y_true, y_pred, output_dict=True)\n",
    "# Extract weighted precision for each class\n",
    "class_precision = {}\n",
    "for class_label in report.keys():\n",
    "    if class_label == 'weighted avg':\n",
    "        class_precision['weighted'] = report[class_label]['precision']\n",
    "    elif class_label.isdigit():\n",
    "        class_precision[int(class_label)] = report[class_label]['precision']\n",
    "print(\"Weighted precision for each class:\")\n",
    "for i, precision in class_precision.items():\n",
    "    if i == 'weighted':\n",
    "        print(\"Weighted precision: {:.2f}%\".format(precision*100))\n",
    "    else:\n",
    "        print(\"Class {}: {:.2f}%\".format(i, precision*100))"
   ]
  },
  {
   "cell_type": "markdown",
   "id": "017756d8",
   "metadata": {
    "papermill": {
     "duration": 0.044798,
     "end_time": "2023-06-03T18:16:24.609239",
     "exception": false,
     "start_time": "2023-06-03T18:16:24.564441",
     "status": "completed"
    },
    "tags": []
   },
   "source": [
    "### Individual Class Weighted Recall"
   ]
  },
  {
   "cell_type": "code",
   "execution_count": 34,
   "id": "20028f83",
   "metadata": {
    "execution": {
     "iopub.execute_input": "2023-06-03T18:16:24.701201Z",
     "iopub.status.busy": "2023-06-03T18:16:24.700874Z",
     "iopub.status.idle": "2023-06-03T18:16:24.717227Z",
     "shell.execute_reply": "2023-06-03T18:16:24.715896Z"
    },
    "papermill": {
     "duration": 0.065041,
     "end_time": "2023-06-03T18:16:24.719259",
     "exception": false,
     "start_time": "2023-06-03T18:16:24.654218",
     "status": "completed"
    },
    "tags": []
   },
   "outputs": [
    {
     "name": "stdout",
     "output_type": "stream",
     "text": [
      "Weighted recall for each class:\n",
      "Class 0: 54.55%\n",
      "Class 1: 74.07%\n",
      "Class 2: 65.15%\n",
      "Class 3: 100.00%\n",
      "Class 4: 45.71%\n",
      "Class 5: 98.04%\n",
      "Class 6: 100.00%\n",
      "Weighted Recall: 91.30%\n"
     ]
    }
   ],
   "source": [
    "report = classification_report(y_true, y_pred, output_dict=True)\n",
    "# Extract weighted recall for each class\n",
    "class_recall = {}\n",
    "for class_label in report.keys():\n",
    "    if class_label == 'weighted avg':\n",
    "        class_recall['weighted'] = report[class_label]['recall']\n",
    "    elif class_label.isdigit():\n",
    "        class_recall[int(class_label)] = report[class_label]['recall']\n",
    "print(\"Weighted recall for each class:\")\n",
    "for i, recall in class_recall.items():\n",
    "    if i == 'weighted':\n",
    "        print(\"Weighted Recall: {:.2f}%\".format(recall*100))\n",
    "    else:\n",
    "        print(\"Class {}: {:.2f}%\".format(i, recall*100))"
   ]
  },
  {
   "cell_type": "markdown",
   "id": "c102bae5",
   "metadata": {
    "papermill": {
     "duration": 0.044575,
     "end_time": "2023-06-03T18:16:24.810224",
     "exception": false,
     "start_time": "2023-06-03T18:16:24.765649",
     "status": "completed"
    },
    "tags": []
   },
   "source": [
    "### Individual Class Weighted F1-score"
   ]
  },
  {
   "cell_type": "code",
   "execution_count": 35,
   "id": "8bdae75f",
   "metadata": {
    "execution": {
     "iopub.execute_input": "2023-06-03T18:16:24.903123Z",
     "iopub.status.busy": "2023-06-03T18:16:24.902269Z",
     "iopub.status.idle": "2023-06-03T18:16:24.917348Z",
     "shell.execute_reply": "2023-06-03T18:16:24.915899Z"
    },
    "papermill": {
     "duration": 0.063099,
     "end_time": "2023-06-03T18:16:24.919276",
     "exception": false,
     "start_time": "2023-06-03T18:16:24.856177",
     "status": "completed"
    },
    "tags": []
   },
   "outputs": [
    {
     "name": "stdout",
     "output_type": "stream",
     "text": [
      "Weighted F1-score for each class:\n",
      "Class 0: 61.54%\n",
      "Class 1: 71.43%\n",
      "Class 2: 67.19%\n",
      "Class 3: 100.00%\n",
      "Class 4: 54.24%\n",
      "Class 5: 96.80%\n",
      "Class 6: 94.74%\n",
      "Weighted F1-score: 90.88%\n"
     ]
    }
   ],
   "source": [
    "report = classification_report(y_true, y_pred, output_dict=True)\n",
    "# Extract weighted F1-score for each class\n",
    "class_f1 = {}\n",
    "for class_label in report.keys():\n",
    "    if class_label == 'weighted avg':\n",
    "        class_f1['weighted'] = report[class_label]['f1-score']\n",
    "    elif class_label.isdigit():\n",
    "        class_f1[int(class_label)] = report[class_label]['f1-score']\n",
    "print(\"Weighted F1-score for each class:\")\n",
    "for i, f1_score in class_f1.items():\n",
    "    if i == 'weighted':\n",
    "        print(\"Weighted F1-score: {:.2f}%\".format(f1_score*100))\n",
    "    else:\n",
    "        print(\"Class {}: {:.2f}%\".format(i, f1_score*100))"
   ]
  },
  {
   "cell_type": "markdown",
   "id": "6890d4ca",
   "metadata": {
    "papermill": {
     "duration": 0.045345,
     "end_time": "2023-06-03T18:16:25.010146",
     "exception": false,
     "start_time": "2023-06-03T18:16:24.964801",
     "status": "completed"
    },
    "tags": []
   },
   "source": [
    "### Individual Class Precision, Recall and F1-score"
   ]
  },
  {
   "cell_type": "code",
   "execution_count": 36,
   "id": "4838fdcd",
   "metadata": {
    "execution": {
     "iopub.execute_input": "2023-06-03T18:16:25.102712Z",
     "iopub.status.busy": "2023-06-03T18:16:25.101907Z",
     "iopub.status.idle": "2023-06-03T18:16:25.110593Z",
     "shell.execute_reply": "2023-06-03T18:16:25.109428Z"
    },
    "papermill": {
     "duration": 0.057211,
     "end_time": "2023-06-03T18:16:25.112617",
     "exception": false,
     "start_time": "2023-06-03T18:16:25.055406",
     "status": "completed"
    },
    "tags": []
   },
   "outputs": [
    {
     "name": "stdout",
     "output_type": "stream",
     "text": [
      "Class-wise weighted precision, recall, and F1-score:\n",
      "Class 0: Precision=0.71, Recall=0.55, F1-score=0.62\n",
      "Class 1: Precision=0.69, Recall=0.74, F1-score=0.71\n",
      "Class 2: Precision=0.69, Recall=0.65, F1-score=0.67\n",
      "Class 3: Precision=1.00, Recall=1.00, F1-score=1.00\n",
      "Class 4: Precision=0.67, Recall=0.46, F1-score=0.54\n",
      "Class 5: Precision=0.96, Recall=0.98, F1-score=0.97\n",
      "Class 6: Precision=0.90, Recall=1.00, F1-score=0.95\n"
     ]
    }
   ],
   "source": [
    "from sklearn.metrics import precision_recall_fscore_support\n",
    "\n",
    "precision_class, recall_class, f1_class, support_class = precision_recall_fscore_support(y_true, y_pred, average=None)\n",
    "print('Class-wise weighted precision, recall, and F1-score:')\n",
    "for i in range(len(precision_class)):\n",
    "    print('Class {}: Precision={:.2f}, Recall={:.2f}, F1-score={:.2f}'.format(i, precision_class[i], recall_class[i], f1_class[i]))\n"
   ]
  },
  {
   "cell_type": "markdown",
   "id": "44439f41",
   "metadata": {
    "papermill": {
     "duration": 0.045406,
     "end_time": "2023-06-03T18:16:25.205005",
     "exception": false,
     "start_time": "2023-06-03T18:16:25.159599",
     "status": "completed"
    },
    "tags": []
   },
   "source": [
    "### Individual Class Weighted Sensitivity"
   ]
  },
  {
   "cell_type": "code",
   "execution_count": 37,
   "id": "a2ec5047",
   "metadata": {
    "execution": {
     "iopub.execute_input": "2023-06-03T18:16:25.297808Z",
     "iopub.status.busy": "2023-06-03T18:16:25.297200Z",
     "iopub.status.idle": "2023-06-03T18:16:25.751350Z",
     "shell.execute_reply": "2023-06-03T18:16:25.750284Z"
    },
    "papermill": {
     "duration": 0.503441,
     "end_time": "2023-06-03T18:16:25.754243",
     "exception": false,
     "start_time": "2023-06-03T18:16:25.250802",
     "status": "completed"
    },
    "tags": []
   },
   "outputs": [
    {
     "name": "stdout",
     "output_type": "stream",
     "text": [
      "Weighted Sensitivity:  0.9130434782608695\n",
      "Class  0 :sensitivity = 0.5454545454545454\n",
      "Class  1 :sensitivity = 0.7407407407407407\n",
      "Class  2 :sensitivity = 0.6515151515151515\n",
      "Class  3 :sensitivity = 1.0\n",
      "Class  4 :sensitivity = 0.45714285714285713\n",
      "Class  5 :sensitivity = 0.9803921568627451\n",
      "Class  6 :sensitivity = 1.0\n"
     ]
    }
   ],
   "source": [
    "from imblearn.metrics import sensitivity_score\n",
    "\n",
    "sensitivity = sensitivity_score(y_true, y_pred, average='weighted')\n",
    "print(\"Weighted Sensitivity: \", sensitivity)\n",
    "\n",
    "# Calculate class-wise sensitivity\n",
    "sensitivity = sensitivity_score(y_true, y_pred, average=None)\n",
    "\n",
    "# Print sensitivity score for each class\n",
    "for i in range(len(sensitivity)):\n",
    "    print(\"Class \", i, \":sensitivity =\", sensitivity[i])"
   ]
  },
  {
   "cell_type": "markdown",
   "id": "c15f6ce7",
   "metadata": {
    "papermill": {
     "duration": 0.046016,
     "end_time": "2023-06-03T18:16:25.847222",
     "exception": false,
     "start_time": "2023-06-03T18:16:25.801206",
     "status": "completed"
    },
    "tags": []
   },
   "source": [
    "### Individual Class Weighted Specificity"
   ]
  },
  {
   "cell_type": "code",
   "execution_count": 38,
   "id": "fb32b944",
   "metadata": {
    "execution": {
     "iopub.execute_input": "2023-06-03T18:16:25.939981Z",
     "iopub.status.busy": "2023-06-03T18:16:25.939317Z",
     "iopub.status.idle": "2023-06-03T18:16:25.950200Z",
     "shell.execute_reply": "2023-06-03T18:16:25.948632Z"
    },
    "papermill": {
     "duration": 0.05955,
     "end_time": "2023-06-03T18:16:25.952206",
     "exception": false,
     "start_time": "2023-06-03T18:16:25.892656",
     "status": "completed"
    },
    "tags": []
   },
   "outputs": [
    {
     "name": "stdout",
     "output_type": "stream",
     "text": [
      "Weighted Specificity:  0.8514552541129042\n",
      "Class  0 :specificity= 0.9937965260545906\n",
      "Class  1 :specificity= 0.9887640449438202\n",
      "Class  2 :specificity= 0.9750656167979003\n",
      "Class  3 :specificity= 1.0\n",
      "Class  4 :specificity= 0.9899117276166457\n",
      "Class  5 :specificity= 0.8181818181818182\n",
      "Class  6 :specificity= 0.9987789987789988\n"
     ]
    }
   ],
   "source": [
    "from imblearn.metrics import specificity_score\n",
    "\n",
    "specificity = specificity_score(y_true, y_pred, average='weighted')\n",
    "print(\"Weighted Specificity: \", specificity)\n",
    "\n",
    "# Calculate class-wise specificity\n",
    "specificity = specificity_score(y_true, y_pred, average=None)\n",
    "\n",
    "# Print sensitivity score for each class\n",
    "for i in range(len(specificity)):\n",
    "    print(\"Class \", i, \":specificity=\", specificity[i])"
   ]
  },
  {
   "cell_type": "markdown",
   "id": "497b597c",
   "metadata": {
    "papermill": {
     "duration": 0.047978,
     "end_time": "2023-06-03T18:16:26.046243",
     "exception": false,
     "start_time": "2023-06-03T18:16:25.998265",
     "status": "completed"
    },
    "tags": []
   },
   "source": [
    "### Accuracy"
   ]
  },
  {
   "cell_type": "code",
   "execution_count": 39,
   "id": "78d373f4",
   "metadata": {
    "execution": {
     "iopub.execute_input": "2023-06-03T18:16:26.138362Z",
     "iopub.status.busy": "2023-06-03T18:16:26.138059Z",
     "iopub.status.idle": "2023-06-03T18:16:26.144169Z",
     "shell.execute_reply": "2023-06-03T18:16:26.143281Z"
    },
    "papermill": {
     "duration": 0.054877,
     "end_time": "2023-06-03T18:16:26.146542",
     "exception": false,
     "start_time": "2023-06-03T18:16:26.091665",
     "status": "completed"
    },
    "tags": []
   },
   "outputs": [
    {
     "name": "stdout",
     "output_type": "stream",
     "text": [
      "Accuracy: 0.9130434782608695\n"
     ]
    }
   ],
   "source": [
    "print(\"Accuracy: \" + str(accuracy_score(y_true, y_pred)))\n",
    "import numpy as np\n",
    "from sklearn.metrics import accuracy_score"
   ]
  },
  {
   "cell_type": "code",
   "execution_count": 40,
   "id": "421b0837",
   "metadata": {
    "execution": {
     "iopub.execute_input": "2023-06-03T18:16:26.251598Z",
     "iopub.status.busy": "2023-06-03T18:16:26.250622Z",
     "iopub.status.idle": "2023-06-03T18:16:26.270340Z",
     "shell.execute_reply": "2023-06-03T18:16:26.269254Z"
    },
    "papermill": {
     "duration": 0.071786,
     "end_time": "2023-06-03T18:16:26.272247",
     "exception": false,
     "start_time": "2023-06-03T18:16:26.200461",
     "status": "completed"
    },
    "tags": []
   },
   "outputs": [
    {
     "name": "stdout",
     "output_type": "stream",
     "text": [
      "Top-1 Accuracy: 0.9130434782608695\n",
      "Top-2 Accuracy: 0.9710144927536232\n",
      "Top-3 Accuracy: 0.9879227053140096\n"
     ]
    }
   ],
   "source": [
    "# Calculate top-1 accuracy\n",
    "top1_acc = accuracy_score(y_true, y_pred)\n",
    "print(\"Top-1 Accuracy:\", top1_acc)\n",
    "\n",
    "# Calculate top-2 accuracy\n",
    "y_pred_top2 = np.argsort(-predictions, axis=1)[:, :2] # Get the top 2 predicted classes\n",
    "top2_acc = np.mean(np.array([y_true[i] in y_pred_top2[i] for i in range(len(y_true))]))\n",
    "print(\"Top-2 Accuracy:\", top2_acc)\n",
    "\n",
    "# Calculate top-3 accuracy\n",
    "y_pred_top3 = np.argsort(-predictions, axis=1)[:, :3] # Get the top 3 predicted classes\n",
    "top3_acc = np.mean(np.array([y_true[i] in y_pred_top3[i] for i in range(len(y_true))]))\n",
    "print(\"Top-3 Accuracy:\", top3_acc)\n",
    "from sklearn.metrics import f1_score"
   ]
  },
  {
   "cell_type": "markdown",
   "id": "8a5d1911",
   "metadata": {
    "papermill": {
     "duration": 0.04541,
     "end_time": "2023-06-03T18:16:26.363914",
     "exception": false,
     "start_time": "2023-06-03T18:16:26.318504",
     "status": "completed"
    },
    "tags": []
   },
   "source": [
    "### Weighted Evaluation Measures"
   ]
  },
  {
   "cell_type": "code",
   "execution_count": 41,
   "id": "ab1e2df8",
   "metadata": {
    "execution": {
     "iopub.execute_input": "2023-06-03T18:16:26.464778Z",
     "iopub.status.busy": "2023-06-03T18:16:26.464167Z",
     "iopub.status.idle": "2023-06-03T18:16:26.493864Z",
     "shell.execute_reply": "2023-06-03T18:16:26.492728Z"
    },
    "papermill": {
     "duration": 0.078628,
     "end_time": "2023-06-03T18:16:26.495847",
     "exception": false,
     "start_time": "2023-06-03T18:16:26.417219",
     "status": "completed"
    },
    "tags": []
   },
   "outputs": [
    {
     "name": "stdout",
     "output_type": "stream",
     "text": [
      "Weighted Precision: 0.9071348167893705\n",
      "Weighted Recall: 0.9130434782608695\n",
      "Weighted F1-Score: 0.9087553675843493\n",
      "Weighted Sensitivity: 0.9130434782608695\n",
      "Weighted Specificity: 0.8514552541129042\n",
      "weighted Roc score: 0.9728976742382768\n"
     ]
    }
   ],
   "source": [
    "print(\"Weighted Precision: \"+ str(precision_score(y_true, y_pred, average='weighted')))\n",
    "print(\"Weighted Recall: \"+ str(recall_score(y_true, y_pred, average='weighted')))\n",
    "print(\"Weighted F1-Score: \"+ str(f1_score(y_true, y_pred, average='weighted')))\n",
    "print(\"Weighted Sensitivity: \"+ str(sensitivity_score(y_true, y_pred, average='weighted')))\n",
    "print(\"Weighted Specificity: \"+ str(specificity_score(y_true, y_pred, average='weighted')))\n",
    "print(\"weighted Roc score: \" + str(roc_auc_score(y_true,y_prob,multi_class='ovr',average='weighted')))"
   ]
  },
  {
   "cell_type": "markdown",
   "id": "34152904",
   "metadata": {
    "papermill": {
     "duration": 0.045586,
     "end_time": "2023-06-03T18:16:26.587140",
     "exception": false,
     "start_time": "2023-06-03T18:16:26.541554",
     "status": "completed"
    },
    "tags": []
   },
   "source": [
    "### Macro Evaluation Measures"
   ]
  },
  {
   "cell_type": "code",
   "execution_count": 42,
   "id": "ef01cb71",
   "metadata": {
    "execution": {
     "iopub.execute_input": "2023-06-03T18:16:26.680298Z",
     "iopub.status.busy": "2023-06-03T18:16:26.679469Z",
     "iopub.status.idle": "2023-06-03T18:16:26.701773Z",
     "shell.execute_reply": "2023-06-03T18:16:26.700381Z"
    },
    "papermill": {
     "duration": 0.071204,
     "end_time": "2023-06-03T18:16:26.703803",
     "exception": false,
     "start_time": "2023-06-03T18:16:26.632599",
     "status": "completed"
    },
    "tags": []
   },
   "outputs": [
    {
     "name": "stdout",
     "output_type": "stream",
     "text": [
      "Macro Precision: 0.8016621331513696\n",
      "Macro Recall: 0.7678922073880058\n",
      "Macro F1-Score: 0.7798955373770825\n",
      "Macro Sensitivity: 0.7678922073880058\n",
      "Macro Specificity: 0.9663569617676819\n",
      "Macro Roc score: 0.979409197022463\n"
     ]
    }
   ],
   "source": [
    "print(\"Macro Precision: \"+ str(precision_score(y_true, y_pred, average='macro')))\n",
    "print(\"Macro Recall: \"+ str(recall_score(y_true, y_pred, average='macro')))\n",
    "print(\"Macro F1-Score: \"+ str(f1_score(y_true, y_pred, average='macro')))\n",
    "print(\"Macro Sensitivity: \"+ str(sensitivity_score(y_true, y_pred, average='macro')))\n",
    "print(\"Macro Specificity: \"+ str(specificity_score(y_true, y_pred, average='macro')))\n",
    "print(\"Macro Roc score: \" + str(roc_auc_score(y_true,y_prob,multi_class='ovr',average='macro')))"
   ]
  },
  {
   "cell_type": "markdown",
   "id": "766e99af",
   "metadata": {
    "papermill": {
     "duration": 0.045252,
     "end_time": "2023-06-03T18:16:26.794681",
     "exception": false,
     "start_time": "2023-06-03T18:16:26.749429",
     "status": "completed"
    },
    "tags": []
   },
   "source": [
    "### Micro Evaluation Measures"
   ]
  },
  {
   "cell_type": "code",
   "execution_count": 43,
   "id": "90060768",
   "metadata": {
    "execution": {
     "iopub.execute_input": "2023-06-03T18:16:26.889082Z",
     "iopub.status.busy": "2023-06-03T18:16:26.888390Z",
     "iopub.status.idle": "2023-06-03T18:16:26.903731Z",
     "shell.execute_reply": "2023-06-03T18:16:26.902855Z"
    },
    "papermill": {
     "duration": 0.064945,
     "end_time": "2023-06-03T18:16:26.905756",
     "exception": false,
     "start_time": "2023-06-03T18:16:26.840811",
     "status": "completed"
    },
    "tags": []
   },
   "outputs": [
    {
     "name": "stdout",
     "output_type": "stream",
     "text": [
      "Micro Precision: 0.9130434782608695\n",
      "Micro Recall: 0.9130434782608695\n",
      "Micro F1-Score: 0.9130434782608695\n",
      "Micro Sensitivity: 0.9130434782608695\n",
      "Micro Specificity: 0.9855072463768116\n"
     ]
    }
   ],
   "source": [
    "print(\"Micro Precision: \"+ str(precision_score(y_true, y_pred, average='micro')))\n",
    "print(\"Micro Recall: \"+ str(recall_score(y_true, y_pred, average='micro')))\n",
    "print(\"Micro F1-Score: \"+ str(f1_score(y_true, y_pred, average='micro')))\n",
    "print(\"Micro Sensitivity: \"+ str(sensitivity_score(y_true, y_pred, average='micro')))\n",
    "print(\"Micro Specificity: \"+ str(specificity_score(y_true, y_pred, average='micro')))"
   ]
  },
  {
   "cell_type": "markdown",
   "id": "5653941c",
   "metadata": {
    "papermill": {
     "duration": 0.046217,
     "end_time": "2023-06-03T18:16:26.999067",
     "exception": false,
     "start_time": "2023-06-03T18:16:26.952850",
     "status": "completed"
    },
    "tags": []
   },
   "source": [
    "## ROC"
   ]
  },
  {
   "cell_type": "markdown",
   "id": "5078642c",
   "metadata": {
    "papermill": {
     "duration": 0.045768,
     "end_time": "2023-06-03T18:16:27.090658",
     "exception": false,
     "start_time": "2023-06-03T18:16:27.044890",
     "status": "completed"
    },
    "tags": []
   },
   "source": [
    "### Compute ROC curve and ROC area for each class"
   ]
  },
  {
   "cell_type": "code",
   "execution_count": 44,
   "id": "bb365310",
   "metadata": {
    "execution": {
     "iopub.execute_input": "2023-06-03T18:16:27.185121Z",
     "iopub.status.busy": "2023-06-03T18:16:27.184163Z",
     "iopub.status.idle": "2023-06-03T18:16:27.503308Z",
     "shell.execute_reply": "2023-06-03T18:16:27.502433Z"
    },
    "papermill": {
     "duration": 0.368597,
     "end_time": "2023-06-03T18:16:27.505519",
     "exception": false,
     "start_time": "2023-06-03T18:16:27.136922",
     "status": "completed"
    },
    "tags": []
   },
   "outputs": [
    {
     "data": {
      "image/png": "[encoded data removed]",
      "text/plain": [
       "<Figure size 640x480 with 1 Axes>"
      ]
     },
     "metadata": {},
     "output_type": "display_data"
    }
   ],
   "source": [
    "fpr = {}\n",
    "tpr = {}\n",
    "roc_auc = dict()\n",
    "for i in range(num_classes):\n",
    "    fpr[i], tpr[i], _ = roc_curve(y_test[:, i], y_prob[:, i], drop_intermediate=False)\n",
    "    roc_auc[i] = auc(fpr[i], tpr[i])\n",
    "\n",
    "\n",
    "# plot the ROC curve for each class\n",
    "for i in range(7):\n",
    "    plt.plot(fpr[i], tpr[i], label='Class {}: AUC={:.3f}'.format(i, roc_auc[i]))\n",
    "\n",
    "plt.xlabel('False Positive Rate')\n",
    "plt.ylabel('True Positive Rate')\n",
    "plt.legend()\n",
    "plt.show()"
   ]
  },
  {
   "cell_type": "markdown",
   "id": "cbab262e",
   "metadata": {
    "papermill": {
     "duration": 0.048501,
     "end_time": "2023-06-03T18:16:27.602206",
     "exception": false,
     "start_time": "2023-06-03T18:16:27.553705",
     "status": "completed"
    },
    "tags": []
   },
   "source": [
    "## MCC and Kappa Score"
   ]
  },
  {
   "cell_type": "code",
   "execution_count": 45,
   "id": "b6ed52a1",
   "metadata": {
    "execution": {
     "iopub.execute_input": "2023-06-03T18:16:27.696757Z",
     "iopub.status.busy": "2023-06-03T18:16:27.696412Z",
     "iopub.status.idle": "2023-06-03T18:16:27.706166Z",
     "shell.execute_reply": "2023-06-03T18:16:27.705105Z"
    },
    "papermill": {
     "duration": 0.059261,
     "end_time": "2023-06-03T18:16:27.708198",
     "exception": false,
     "start_time": "2023-06-03T18:16:27.648937",
     "status": "completed"
    },
    "tags": []
   },
   "outputs": [
    {
     "name": "stdout",
     "output_type": "stream",
     "text": [
      "MCC: 74.07%\n",
      "Kappa Score: 73.91%\n"
     ]
    }
   ],
   "source": [
    "from sklearn.metrics import matthews_corrcoef, cohen_kappa_score\n",
    "\n",
    "# y_true are the true labels of the test set\n",
    "# y_pred are the predicted labels of the test set\n",
    "mcc = matthews_corrcoef(y_true, y_pred)\n",
    "kappa = cohen_kappa_score(y_true, y_pred)\n",
    "print(\"MCC: {:.2f}%\".format(mcc*100))\n",
    "print(\"Kappa Score: {:.2f}%\".format(kappa*100))"
   ]
  },
  {
   "cell_type": "code",
   "execution_count": 46,
   "id": "987d0d32",
   "metadata": {
    "execution": {
     "iopub.execute_input": "2023-06-03T18:16:27.802816Z",
     "iopub.status.busy": "2023-06-03T18:16:27.802003Z",
     "iopub.status.idle": "2023-06-03T18:16:27.868494Z",
     "shell.execute_reply": "2023-06-03T18:16:27.867561Z"
    },
    "papermill": {
     "duration": 0.116209,
     "end_time": "2023-06-03T18:16:27.870537",
     "exception": false,
     "start_time": "2023-06-03T18:16:27.754328",
     "status": "completed"
    },
    "tags": []
   },
   "outputs": [
    {
     "name": "stdout",
     "output_type": "stream",
     "text": [
      "MCC per class:\n",
      "Class 0: 61.16%\n",
      "Class 1: 70.48%\n",
      "Class 2: 64.48%\n",
      "Class 3: 100.00%\n",
      "Class 4: 53.62%\n",
      "Class 5: 83.26%\n",
      "Class 6: 94.81%\n",
      "Kappa Score per class:\n",
      "Class 0: 60.63%\n",
      "Class 1: 70.43%\n",
      "Class 2: 64.44%\n",
      "Class 3: 100.00%\n",
      "Class 4: 52.61%\n",
      "Class 5: 83.07%\n",
      "Class 6: 94.68%\n"
     ]
    }
   ],
   "source": [
    "### Individual Class Wise MCC and Kappa\n",
    "\n",
    "from sklearn.metrics import confusion_matrix, matthews_corrcoef, cohen_kappa_score\n",
    "# y_true are the true labels of the test set\n",
    "# y_pred are the predicted labels of the test set\n",
    "conf_mat = confusion_matrix(y_true, y_pred)\n",
    "mcc_per_class = {}\n",
    "kappa_per_class = {}\n",
    "\n",
    "for i in range(len(conf_mat)):\n",
    "    tp = conf_mat[i][i]\n",
    "    fp = sum(conf_mat[:, i]) - tp\n",
    "    fn = sum(conf_mat[i, :]) - tp\n",
    "    tn = sum(sum(conf_mat)) - tp - fp - fn\n",
    "\n",
    "    mcc_per_class[i] = matthews_corrcoef([1 if x==i else 0 for x in y_true], [1 if x==i else 0 for x in y_pred])\n",
    "    kappa_per_class[i] = cohen_kappa_score([1 if x==i else 0 for x in y_true], [1 if x==i else 0 for x in y_pred])\n",
    "\n",
    "print(\"MCC per class:\")\n",
    "for i, mcc in mcc_per_class.items():\n",
    "    print(\"Class {}: {:.2f}%\".format(i, mcc*100))\n",
    "\n",
    "print(\"Kappa Score per class:\")\n",
    "for i, kappa in kappa_per_class.items():\n",
    "    print(\"Class {}: {:.2f}%\".format(i, kappa*100))"
   ]
  },
  {
   "cell_type": "code",
   "execution_count": null,
   "id": "18c43ea2",
   "metadata": {
    "papermill": {
     "duration": 0.046781,
     "end_time": "2023-06-03T18:16:27.965184",
     "exception": false,
     "start_time": "2023-06-03T18:16:27.918403",
     "status": "completed"
    },
    "tags": []
   },
   "outputs": [],
   "source": []
  }
 ],
 "metadata": {
  "kernelspec": {
   "display_name": "Python 3",
   "language": "python",
   "name": "python3"
  },
  "language_info": {
   "codemirror_mode": {
    "name": "ipython",
    "version": 3
   },
   "file_extension": ".py",
   "mimetype": "text/x-python",
   "name": "python",
   "nbconvert_exporter": "python",
   "pygments_lexer": "ipython3",
   "version": "3.10.10"
  },
  "papermill": {
   "default_parameters": {},
   "duration": 26003.594711,
   "end_time": "2023-06-03T18:16:31.491341",
   "environment_variables": {},
   "exception": null,
   "input_path": "__notebook__.ipynb",
   "output_path": "__notebook__.ipynb",
   "parameters": {},
   "start_time": "2023-06-03T11:03:07.896630",
   "version": "2.4.0"
  }
 },
 "nbformat": 4,
 "nbformat_minor": 5
}
